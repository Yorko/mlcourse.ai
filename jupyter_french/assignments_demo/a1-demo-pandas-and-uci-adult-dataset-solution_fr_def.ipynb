{
  "cells": [
    {
      "metadata": {
        "_uuid": "9e0b88084b8a7281f22f37208564a3a292f5693e"
      },
      "cell_type": "markdown",
      "source": "<center>\n<img src=\"https://habrastorage.org/files/fd4/502/43d/fd450243dd604b81b9713213a247aa20.jpg\">\n    \n## [mlcourse.ai](mlcourse.ai) – Open Machine Learning Course \n\n<center>Auteur: [Yury Kashnitskiy](http://yorko.github.io) <br>\nTraduit et édité par [Sergey Isaev](https://www.linkedin.com/in/isvforall/), [Artem Trunov](https://www.linkedin.com/in/datamove/), [Anastasia Manokhina](https://www.linkedin.com/in/anastasiamanokhina/), [Yuanyuan Pao](https://www.linkedin.com/in/yuanyuanpao/) et [Ousmane Cissé](https://github.com/oussou-dev)<br>Contenu soumis à la licence [Creative Commons CC BY-NC-SA 4.0](https://creativecommons.org/licenses/by-nc-sa/4.0/)."
    },
    {
      "metadata": {
        "lang": "fr"
      },
      "cell_type": "markdown",
      "source": "# <center> Devoir #1 (démo)\n## <center>  Analyse exploratoire des données avec Pandas"
    },
    {
      "metadata": {
        "lang": "fr"
      },
      "cell_type": "markdown",
      "source": "**Dans cette tâche, vous devez utiliser la librairie Pandas pour répondre à quelques questions liées au dataset (ensemble de données) [Adulte](https://archive.ics.uci.edu/ml/datasets/Adult). (Vous n'avez pas à télécharger les données - vous les trouverez ci-joints). Choisissez vos réponses via ce [formulaire](https://docs.google.com/forms/d/1uY7MpI2trKx6FLWZte0uVh3ULV4Cm_tDud0VDFGCOKg). C'est une version de démonstration. Ainsi, en soumettant le formulaire, vous verrez un lien vers le fichier .ipynb de la solution.**"
    },
    {
      "metadata": {
        "_uuid": "f9641558236566bc4515b86271f69b2934afe7a9"
      },
      "cell_type": "markdown",
      "source": "Valeurs uniques de toutes les caractéristiques (pour plus d'informations, veuillez consulter les liens ci-dessus):\n- `age`: continuous.\n- `workclass`: Private, Self-emp-not-inc, Self-emp-inc, Federal-gov, Local-gov, State-gov, Without-pay, Never-worked.\n- `fnlwgt`: continuous.\n- `education`: Bachelors, Some-college, 11th, HS-grad, Prof-school, Assoc-acdm, Assoc-voc, 9th, 7th-8th, 12th, Masters, 1st-4th, 10th, Doctorate, 5th-6th, Preschool.\n- `education-num`: continuous.\n- `marital-status`: Married-civ-spouse, Divorced, Never-married, Separated, Widowed, Married-spouse-absent, Married-AF-spouse.\n- `occupation`: Tech-support, Craft-repair, Other-service, Sales, Exec-managerial, Prof-specialty, Handlers-cleaners, Machine-op-inspct, Adm-clerical, Farming-fishing, Transport-moving, Priv-house-serv, Protective-serv, Armed-Forces.\n- `relationship`: Wife, Own-child, Husband, Not-in-family, Other-relative, Unmarried.\n- `race`: White, Asian-Pac-Islander, Amer-Indian-Eskimo, Other, Black.\n- `sex`: Female, Male.\n- `capital-gain`: continuous.\n- `capital-loss`: continuous.\n- `hours-per-week`: continuous.\n- `native-country`: United-States, Cambodia, England, Puerto-Rico, Canada, Germany, Outlying-US(Guam-USVI-etc), India, Japan, Greece, South, China, Cuba, Iran, Honduras, Philippines, Italy, Poland, Jamaica, Vietnam, Mexico, Portugal, Ireland, France, Dominican-Republic, Laos, Ecuador, Taiwan, Haiti, Columbia, Hungary, Guatemala, Nicaragua, Scotland, Thailand, Yugoslavia, El-Salvador, Trinadad&Tobago, Peru, Hong, Holand-Netherlands.   \n- `salary`: >50K,<=50K"
    },
    {
      "metadata": {
        "_uuid": "3570c8e98366e6e09f6e9e09bfef1385a74898a8",
        "trusted": false
      },
      "cell_type": "code",
      "source": "import numpy as np\nimport pandas as pd",
      "execution_count": 1,
      "outputs": []
    },
    {
      "metadata": {
        "_uuid": "00e99b05a3236a79b7177f4ddb63f8844c275f78",
        "trusted": false
      },
      "cell_type": "code",
      "source": "data = pd.read_csv('../input/adult.data.csv')\ndata.head()",
      "execution_count": 2,
      "outputs": [
        {
          "data": {
            "text/html": "<div>\n<style scoped>\n    .dataframe tbody tr th:only-of-type {\n        vertical-align: middle;\n    }\n\n    .dataframe tbody tr th {\n        vertical-align: top;\n    }\n\n    .dataframe thead th {\n        text-align: right;\n    }\n</style>\n<table border=\"1\" class=\"dataframe\">\n  <thead>\n    <tr style=\"text-align: right;\">\n      <th></th>\n      <th>age</th>\n      <th>workclass</th>\n      <th>fnlwgt</th>\n      <th>education</th>\n      <th>education-num</th>\n      <th>marital-status</th>\n      <th>occupation</th>\n      <th>relationship</th>\n      <th>race</th>\n      <th>sex</th>\n      <th>capital-gain</th>\n      <th>capital-loss</th>\n      <th>hours-per-week</th>\n      <th>native-country</th>\n      <th>salary</th>\n    </tr>\n  </thead>\n  <tbody>\n    <tr>\n      <th>0</th>\n      <td>39</td>\n      <td>State-gov</td>\n      <td>77516</td>\n      <td>Bachelors</td>\n      <td>13</td>\n      <td>Never-married</td>\n      <td>Adm-clerical</td>\n      <td>Not-in-family</td>\n      <td>White</td>\n      <td>Male</td>\n      <td>2174</td>\n      <td>0</td>\n      <td>40</td>\n      <td>United-States</td>\n      <td>&lt;=50K</td>\n    </tr>\n    <tr>\n      <th>1</th>\n      <td>50</td>\n      <td>Self-emp-not-inc</td>\n      <td>83311</td>\n      <td>Bachelors</td>\n      <td>13</td>\n      <td>Married-civ-spouse</td>\n      <td>Exec-managerial</td>\n      <td>Husband</td>\n      <td>White</td>\n      <td>Male</td>\n      <td>0</td>\n      <td>0</td>\n      <td>13</td>\n      <td>United-States</td>\n      <td>&lt;=50K</td>\n    </tr>\n    <tr>\n      <th>2</th>\n      <td>38</td>\n      <td>Private</td>\n      <td>215646</td>\n      <td>HS-grad</td>\n      <td>9</td>\n      <td>Divorced</td>\n      <td>Handlers-cleaners</td>\n      <td>Not-in-family</td>\n      <td>White</td>\n      <td>Male</td>\n      <td>0</td>\n      <td>0</td>\n      <td>40</td>\n      <td>United-States</td>\n      <td>&lt;=50K</td>\n    </tr>\n    <tr>\n      <th>3</th>\n      <td>53</td>\n      <td>Private</td>\n      <td>234721</td>\n      <td>11th</td>\n      <td>7</td>\n      <td>Married-civ-spouse</td>\n      <td>Handlers-cleaners</td>\n      <td>Husband</td>\n      <td>Black</td>\n      <td>Male</td>\n      <td>0</td>\n      <td>0</td>\n      <td>40</td>\n      <td>United-States</td>\n      <td>&lt;=50K</td>\n    </tr>\n    <tr>\n      <th>4</th>\n      <td>28</td>\n      <td>Private</td>\n      <td>338409</td>\n      <td>Bachelors</td>\n      <td>13</td>\n      <td>Married-civ-spouse</td>\n      <td>Prof-specialty</td>\n      <td>Wife</td>\n      <td>Black</td>\n      <td>Female</td>\n      <td>0</td>\n      <td>0</td>\n      <td>40</td>\n      <td>Cuba</td>\n      <td>&lt;=50K</td>\n    </tr>\n  </tbody>\n</table>\n</div>",
            "text/plain": "   age         workclass  fnlwgt  ...   hours-per-week  native-country salary\n0   39         State-gov   77516  ...               40   United-States  <=50K\n1   50  Self-emp-not-inc   83311  ...               13   United-States  <=50K\n2   38           Private  215646  ...               40   United-States  <=50K\n3   53           Private  234721  ...               40   United-States  <=50K\n4   28           Private  338409  ...               40            Cuba  <=50K\n\n[5 rows x 15 columns]"
          },
          "execution_count": 2,
          "metadata": {},
          "output_type": "execute_result"
        }
      ]
    },
    {
      "metadata": {
        "lang": "fr"
      },
      "cell_type": "markdown",
      "source": "**1. Combien d'hommes et de femmes (* caractéristique sex * ) sont représentés dans ce dataset ?**"
    },
    {
      "metadata": {
        "_uuid": "b47a687d2ef3a449909c9212421d83e42c039bd8",
        "trusted": false
      },
      "cell_type": "code",
      "source": "data['sex'].value_counts()",
      "execution_count": 3,
      "outputs": [
        {
          "data": {
            "text/plain": "Male      21790\nFemale    10771\nName: sex, dtype: int64"
          },
          "execution_count": 3,
          "metadata": {},
          "output_type": "execute_result"
        }
      ]
    },
    {
      "metadata": {
        "lang": "fr"
      },
      "cell_type": "markdown",
      "source": "**2. Quel est l’âge moyen des femmes?**"
    },
    {
      "metadata": {
        "_uuid": "6936751bc2061873c52c052b8977b1fe0ac826bd",
        "trusted": false
      },
      "cell_type": "code",
      "source": "data.loc[data['sex'] == 'Female', 'age'].mean()",
      "execution_count": 4,
      "outputs": [
        {
          "data": {
            "text/plain": "36.85823043357163"
          },
          "execution_count": 4,
          "metadata": {},
          "output_type": "execute_result"
        }
      ]
    },
    {
      "metadata": {
        "lang": "fr"
      },
      "cell_type": "markdown",
      "source": "**3. Quel est le pourcentage de citoyens allemands (caractéristique *native-country*)?**"
    },
    {
      "metadata": {
        "_uuid": "4edbe332b55c59e05da5574920b0f91283b7814a",
        "trusted": false
      },
      "cell_type": "code",
      "source": "float((data['native-country'] == 'Germany').sum()) / data.shape[0]",
      "execution_count": 5,
      "outputs": [
        {
          "data": {
            "text/plain": "0.004207487485028101"
          },
          "execution_count": 5,
          "metadata": {},
          "output_type": "execute_result"
        }
      ]
    },
    {
      "metadata": {
        "lang": "fr"
      },
      "cell_type": "markdown",
      "source": "**4-5. Quels sont la moyenne et la déviation standard (écart-type) de l’âge pour ceux qui gagnent plus de 50k par an (caractéristique * salary *) et ceux qui gagnent moins de 50k par an?**"
    },
    {
      "metadata": {
        "_uuid": "94d017ce7c339eae7a13a816cee415527837d802",
        "trusted": false
      },
      "cell_type": "code",
      "source": "ages1 = data.loc[data['salary'] == '>50K', 'age']\nages2 = data.loc[data['salary'] == '<=50K', 'age']\nprint(\"The average age of the rich: {0} +- {1} years, poor - {2} +- {3} years.\".format(\n    round(ages1.mean()), round(ages1.std(), 1),\n    round(ages2.mean()), round(ages2.std(), 1)))",
      "execution_count": 6,
      "outputs": [
        {
          "name": "stdout",
          "output_type": "stream",
          "text": "The average age of the rich: 44 +- 10.5 years, poor - 37 +- 14.0 years.\n"
        }
      ]
    },
    {
      "metadata": {
        "lang": "fr"
      },
      "cell_type": "markdown",
      "source": "**6. Est-il vrai que les personnes qui gagnent plus de 50k ont au moins terminé leurs études secondaires? (* education - Bachelors, Prof-school, Assoc-acdm, Assoc-voc, Masters * ou * Doctorat *)**"
    },
    {
      "metadata": {
        "_uuid": "8ca42b7a1befd52dbc72781a7c55505c2fb0909c",
        "trusted": false
      },
      "cell_type": "code",
      "source": "data.loc[data['salary'] == '>50K', 'education'].unique() # No",
      "execution_count": 7,
      "outputs": [
        {
          "data": {
            "text/plain": "array(['HS-grad', 'Masters', 'Bachelors', 'Some-college', 'Assoc-voc',\n       'Doctorate', 'Prof-school', 'Assoc-acdm', '7th-8th', '12th',\n       '10th', '11th', '9th', '5th-6th', '1st-4th'], dtype=object)"
          },
          "execution_count": 7,
          "metadata": {},
          "output_type": "execute_result"
        }
      ]
    },
    {
      "metadata": {
        "lang": "fr"
      },
      "cell_type": "markdown",
      "source": "**7. Affichez les statistiques d'âge pour chaque race (caractéristique * race *) et chaque sexe (caractéristique * sex *). Utilisez * groupby () * et * describe () *. Trouvez l'âge maximum des hommes de race * Amer-Indian-Eskimo *.**"
    },
    {
      "metadata": {
        "_uuid": "f8d3404d2871b68504a3920faa635d723ac2f45b",
        "trusted": false
      },
      "cell_type": "code",
      "source": "for (race, sex), sub_df in data.groupby(['race', 'sex']):\n    print(\"Race: {0}, sex: {1}\".format(race, sex))\n    print(sub_df['age'].describe())",
      "execution_count": 8,
      "outputs": [
        {
          "name": "stdout",
          "output_type": "stream",
          "text": "Race: Amer-Indian-Eskimo, sex: Female\ncount    119.000000\nmean      37.117647\nstd       13.114991\nmin       17.000000\n25%       27.000000\n50%       36.000000\n75%       46.000000\nmax       80.000000\nName: age, dtype: float64\nRace: Amer-Indian-Eskimo, sex: Male\ncount    192.000000\nmean      37.208333\nstd       12.049563\nmin       17.000000\n25%       28.000000\n50%       35.000000\n75%       45.000000\nmax       82.000000\nName: age, dtype: float64\nRace: Asian-Pac-Islander, sex: Female\ncount    346.000000\nmean      35.089595\nstd       12.300845\nmin       17.000000\n25%       25.000000\n50%       33.000000\n75%       43.750000\nmax       75.000000\nName: age, dtype: float64\nRace: Asian-Pac-Islander, sex: Male\ncount    693.000000\nmean      39.073593\nstd       12.883944\nmin       18.000000\n25%       29.000000\n50%       37.000000\n75%       46.000000\nmax       90.000000\nName: age, dtype: float64\nRace: Black, sex: Female\ncount    1555.000000\nmean       37.854019\nstd        12.637197\nmin        17.000000\n25%        28.000000\n50%        37.000000\n75%        46.000000\nmax        90.000000\nName: age, dtype: float64\nRace: Black, sex: Male\ncount    1569.000000\nmean       37.682600\nstd        12.882612\nmin        17.000000\n25%        27.000000\n50%        36.000000\n75%        46.000000\nmax        90.000000\nName: age, dtype: float64\nRace: Other, sex: Female\ncount    109.000000\nmean      31.678899\nstd       11.631599\nmin       17.000000\n25%       23.000000\n50%       29.000000\n75%       39.000000\nmax       74.000000\nName: age, dtype: float64\nRace: Other, sex: Male\ncount    162.000000\nmean      34.654321\nstd       11.355531\nmin       17.000000\n25%       26.000000\n50%       32.000000\n75%       42.000000\nmax       77.000000\nName: age, dtype: float64\nRace: White, sex: Female\ncount    8642.000000\nmean       36.811618\nstd        14.329093\nmin        17.000000\n25%        25.000000\n50%        35.000000\n75%        46.000000\nmax        90.000000\nName: age, dtype: float64\nRace: White, sex: Male\ncount    19174.000000\nmean        39.652498\nstd         13.436029\nmin         17.000000\n25%         29.000000\n50%         38.000000\n75%         49.000000\nmax         90.000000\nName: age, dtype: float64\n"
        }
      ]
    },
    {
      "metadata": {
        "lang": "fr"
      },
      "cell_type": "markdown",
      "source": "**8. Parmi ceux qui gagnent plus de 50k, quel est l'état matrimonial (caractéristique marital-status) : marié ou célibataire  le plus représenté ?  \nOn considère comme mariés ceux qui ont un marital-status commençant par Married (Married-civ-spouse, Married-spouse-absent or Married-AF-spouse), les autres sont considérés comme célibataires (bachelors).**  "
    },
    {
      "metadata": {
        "_uuid": "0d76dd6753edc9e15a3ecf84d7ea9f44cf497e0d",
        "trusted": false
      },
      "cell_type": "code",
      "source": "data.loc[(data['sex'] == 'Male') &\n     (data['marital-status'].isin(['Never-married', \n                                   'Separated', \n                                   'Divorced',\n                                   'Widowed'])), 'salary'].value_counts()",
      "execution_count": 9,
      "outputs": [
        {
          "data": {
            "text/plain": "<=50K    7552\n>50K      697\nName: salary, dtype: int64"
          },
          "execution_count": 9,
          "metadata": {},
          "output_type": "execute_result"
        }
      ]
    },
    {
      "metadata": {
        "_uuid": "3ebaeb074e6cc61d190ff5c8a1f9e54ece35e166",
        "trusted": false
      },
      "cell_type": "code",
      "source": "data.loc[(data['sex'] == 'Male') &\n     (data['marital-status'].str.startswith('Married')), 'salary'].value_counts()",
      "execution_count": 10,
      "outputs": [
        {
          "data": {
            "text/plain": "<=50K    7576\n>50K     5965\nName: salary, dtype: int64"
          },
          "execution_count": 10,
          "metadata": {},
          "output_type": "execute_result"
        }
      ]
    },
    {
      "metadata": {
        "_uuid": "6caad66a24cf60a6105f41955b14ba9f25501c87",
        "trusted": false
      },
      "cell_type": "code",
      "source": "data['marital-status'].value_counts()",
      "execution_count": 11,
      "outputs": [
        {
          "data": {
            "text/plain": "Married-civ-spouse       14976\nNever-married            10683\nDivorced                  4443\nSeparated                 1025\nWidowed                    993\nMarried-spouse-absent      418\nMarried-AF-spouse           23\nName: marital-status, dtype: int64"
          },
          "execution_count": 11,
          "metadata": {},
          "output_type": "execute_result"
        }
      ]
    },
    {
      "metadata": {
        "_uuid": "a100bde4f74a560148f2bf4cc30f2bf6cdc44cac"
      },
      "cell_type": "markdown",
      "source": "It's good to be married :)"
    },
    {
      "metadata": {
        "lang": "fr"
      },
      "cell_type": "markdown",
      "source": "**9. Quel est le nombre d'heures maximum de travail par semaine effectué par une personne (caractéritique * hours-per-week *)?  \n  Combien de personnes travaillent autant, et quel est le pourcentage de celles qui gagnent beaucoup (>50k) parmi elles?**"
    },
    {
      "metadata": {
        "_uuid": "93ac2854df19a96970e330550c0e1985fb38edc4",
        "trusted": false
      },
      "cell_type": "code",
      "source": "max_load = data['hours-per-week'].max()\nprint(\"Max time - {0} hours./week.\".format(max_load))\n\nnum_workaholics = data[data['hours-per-week'] == max_load].shape[0]\nprint(\"Total number of such hard workers {0}\".format(num_workaholics))\n\nrich_share = float(data[(data['hours-per-week'] == max_load)\n                 & (data['salary'] == '>50K')].shape[0]) / num_workaholics\nprint(\"Percentage of rich among them {0}%\".format(int(100 * rich_share)))",
      "execution_count": 12,
      "outputs": [
        {
          "name": "stdout",
          "output_type": "stream",
          "text": "Max time - 99 hours./week.\nTotal number of such hard workers 85\nPercentage of rich among them 29%\n"
        }
      ]
    },
    {
      "metadata": {
        "lang": "fr"
      },
      "cell_type": "markdown",
      "source": "**10. Calculez le temps de travail moyen (*hours-per-week*) pour ceux qui sont peu et beaucoup payés (*salary*) pour chaque pays (*native-country*). Qu'obtient-on pour le Japon?**"
    },
    {
      "metadata": {
        "_uuid": "fc67334178627c4410c82cf3452b286f11a43732",
        "collapsed": true
      },
      "cell_type": "markdown",
      "source": "Simple method:"
    },
    {
      "metadata": {
        "_uuid": "6833dda87a7268b668ddce2d94f44abbac46e8e8",
        "trusted": false
      },
      "cell_type": "code",
      "source": "for (country, salary), sub_df in data.groupby(['native-country', 'salary']):\n    print(country, salary, round(sub_df['hours-per-week'].mean(), 2))",
      "execution_count": 13,
      "outputs": [
        {
          "name": "stdout",
          "output_type": "stream",
          "text": "? <=50K 40.16\n? >50K 45.55\nCambodia <=50K 41.42\nCambodia >50K 40.0\nCanada <=50K 37.91\nCanada >50K 45.64\nChina <=50K 37.38\nChina >50K 38.9\nColumbia <=50K 38.68\nColumbia >50K 50.0\nCuba <=50K 37.99\nCuba >50K 42.44\nDominican-Republic <=50K 42.34\nDominican-Republic >50K 47.0\nEcuador <=50K 38.04\nEcuador >50K 48.75\nEl-Salvador <=50K 36.03\nEl-Salvador >50K 45.0\nEngland <=50K 40.48\nEngland >50K 44.53\nFrance <=50K 41.06\nFrance >50K 50.75\nGermany <=50K 39.14\nGermany >50K 44.98\nGreece <=50K 41.81\nGreece >50K 50.62\nGuatemala <=50K 39.36\nGuatemala >50K 36.67\nHaiti <=50K 36.33\nHaiti >50K 42.75\nHoland-Netherlands <=50K 40.0\nHonduras <=50K 34.33\nHonduras >50K 60.0\nHong <=50K 39.14\nHong >50K 45.0\nHungary <=50K 31.3\nHungary >50K 50.0\nIndia <=50K 38.23\nIndia >50K 46.48\nIran <=50K 41.44\nIran >50K 47.5\nIreland <=50K 40.95\nIreland >50K 48.0\nItaly <=50K 39.62\nItaly >50K 45.4\nJamaica <=50K 38.24\nJamaica >50K 41.1\nJapan <=50K 41.0\nJapan >50K 47.96\nLaos <=50K 40.38\nLaos >50K 40.0\nMexico <=50K 40.0\nMexico >50K 46.58\nNicaragua <=50K 36.09\nNicaragua >50K 37.5\nOutlying-US(Guam-USVI-etc) <=50K 41.86\nPeru <=50K 35.07\nPeru >50K 40.0\nPhilippines <=50K 38.07\nPhilippines >50K 43.03\nPoland <=50K 38.17\nPoland >50K 39.0\nPortugal <=50K 41.94\nPortugal >50K 41.5\nPuerto-Rico <=50K 38.47\nPuerto-Rico >50K 39.42\nScotland <=50K 39.44\nScotland >50K 46.67\nSouth <=50K 40.16\nSouth >50K 51.44\nTaiwan <=50K 33.77\nTaiwan >50K 46.8\nThailand <=50K 42.87\nThailand >50K 58.33\nTrinadad&Tobago <=50K 37.06\nTrinadad&Tobago >50K 40.0\nUnited-States <=50K 38.8\nUnited-States >50K 45.51\nVietnam <=50K 37.19\nVietnam >50K 39.2\nYugoslavia <=50K 41.6\nYugoslavia >50K 49.5\n"
        }
      ]
    },
    {
      "metadata": {
        "_uuid": "7ad90f765ec1d95fdd186b220c69b86f5405387a"
      },
      "cell_type": "markdown",
      "source": "Elegant method:"
    },
    {
      "metadata": {
        "_uuid": "214675c86e5d7eb24fe64850dc5aa2d7bbf95fa8",
        "trusted": false
      },
      "cell_type": "code",
      "source": "pd.crosstab(data['native-country'], data['salary'], \n           values=data['hours-per-week'], aggfunc=np.mean).T",
      "execution_count": 14,
      "outputs": [
        {
          "data": {
            "text/html": "<div>\n<style scoped>\n    .dataframe tbody tr th:only-of-type {\n        vertical-align: middle;\n    }\n\n    .dataframe tbody tr th {\n        vertical-align: top;\n    }\n\n    .dataframe thead th {\n        text-align: right;\n    }\n</style>\n<table border=\"1\" class=\"dataframe\">\n  <thead>\n    <tr style=\"text-align: right;\">\n      <th>native-country</th>\n      <th>?</th>\n      <th>Cambodia</th>\n      <th>Canada</th>\n      <th>China</th>\n      <th>Columbia</th>\n      <th>Cuba</th>\n      <th>Dominican-Republic</th>\n      <th>Ecuador</th>\n      <th>El-Salvador</th>\n      <th>England</th>\n      <th>France</th>\n      <th>Germany</th>\n      <th>Greece</th>\n      <th>Guatemala</th>\n      <th>Haiti</th>\n      <th>Holand-Netherlands</th>\n      <th>Honduras</th>\n      <th>Hong</th>\n      <th>Hungary</th>\n      <th>India</th>\n      <th>Iran</th>\n      <th>Ireland</th>\n      <th>Italy</th>\n      <th>Jamaica</th>\n      <th>Japan</th>\n      <th>Laos</th>\n      <th>Mexico</th>\n      <th>Nicaragua</th>\n      <th>Outlying-US(Guam-USVI-etc)</th>\n      <th>Peru</th>\n      <th>Philippines</th>\n      <th>Poland</th>\n      <th>Portugal</th>\n      <th>Puerto-Rico</th>\n      <th>Scotland</th>\n      <th>South</th>\n      <th>Taiwan</th>\n      <th>Thailand</th>\n      <th>Trinadad&amp;Tobago</th>\n      <th>United-States</th>\n      <th>Vietnam</th>\n      <th>Yugoslavia</th>\n    </tr>\n    <tr>\n      <th>salary</th>\n      <th></th>\n      <th></th>\n      <th></th>\n      <th></th>\n      <th></th>\n      <th></th>\n      <th></th>\n      <th></th>\n      <th></th>\n      <th></th>\n      <th></th>\n      <th></th>\n      <th></th>\n      <th></th>\n      <th></th>\n      <th></th>\n      <th></th>\n      <th></th>\n      <th></th>\n      <th></th>\n      <th></th>\n      <th></th>\n      <th></th>\n      <th></th>\n      <th></th>\n      <th></th>\n      <th></th>\n      <th></th>\n      <th></th>\n      <th></th>\n      <th></th>\n      <th></th>\n      <th></th>\n      <th></th>\n      <th></th>\n      <th></th>\n      <th></th>\n      <th></th>\n      <th></th>\n      <th></th>\n      <th></th>\n      <th></th>\n    </tr>\n  </thead>\n  <tbody>\n    <tr>\n      <th>&lt;=50K</th>\n      <td>40.164760</td>\n      <td>41.416667</td>\n      <td>37.914634</td>\n      <td>37.381818</td>\n      <td>38.684211</td>\n      <td>37.985714</td>\n      <td>42.338235</td>\n      <td>38.041667</td>\n      <td>36.030928</td>\n      <td>40.483333</td>\n      <td>41.058824</td>\n      <td>39.139785</td>\n      <td>41.809524</td>\n      <td>39.360656</td>\n      <td>36.325</td>\n      <td>40.0</td>\n      <td>34.333333</td>\n      <td>39.142857</td>\n      <td>31.3</td>\n      <td>38.233333</td>\n      <td>41.44</td>\n      <td>40.947368</td>\n      <td>39.625</td>\n      <td>38.239437</td>\n      <td>41.000000</td>\n      <td>40.375</td>\n      <td>40.003279</td>\n      <td>36.09375</td>\n      <td>41.857143</td>\n      <td>35.068966</td>\n      <td>38.065693</td>\n      <td>38.166667</td>\n      <td>41.939394</td>\n      <td>38.470588</td>\n      <td>39.444444</td>\n      <td>40.15625</td>\n      <td>33.774194</td>\n      <td>42.866667</td>\n      <td>37.058824</td>\n      <td>38.799127</td>\n      <td>37.193548</td>\n      <td>41.6</td>\n    </tr>\n    <tr>\n      <th>&gt;50K</th>\n      <td>45.547945</td>\n      <td>40.000000</td>\n      <td>45.641026</td>\n      <td>38.900000</td>\n      <td>50.000000</td>\n      <td>42.440000</td>\n      <td>47.000000</td>\n      <td>48.750000</td>\n      <td>45.000000</td>\n      <td>44.533333</td>\n      <td>50.750000</td>\n      <td>44.977273</td>\n      <td>50.625000</td>\n      <td>36.666667</td>\n      <td>42.750</td>\n      <td>NaN</td>\n      <td>60.000000</td>\n      <td>45.000000</td>\n      <td>50.0</td>\n      <td>46.475000</td>\n      <td>47.50</td>\n      <td>48.000000</td>\n      <td>45.400</td>\n      <td>41.100000</td>\n      <td>47.958333</td>\n      <td>40.000</td>\n      <td>46.575758</td>\n      <td>37.50000</td>\n      <td>NaN</td>\n      <td>40.000000</td>\n      <td>43.032787</td>\n      <td>39.000000</td>\n      <td>41.500000</td>\n      <td>39.416667</td>\n      <td>46.666667</td>\n      <td>51.43750</td>\n      <td>46.800000</td>\n      <td>58.333333</td>\n      <td>40.000000</td>\n      <td>45.505369</td>\n      <td>39.200000</td>\n      <td>49.5</td>\n    </tr>\n  </tbody>\n</table>\n</div>",
            "text/plain": "native-country          ?   Cambodia     ...        Vietnam  Yugoslavia\nsalary                                   ...                           \n<=50K           40.164760  41.416667     ...      37.193548        41.6\n>50K            45.547945  40.000000     ...      39.200000        49.5\n\n[2 rows x 42 columns]"
          },
          "execution_count": 14,
          "metadata": {},
          "output_type": "execute_result"
        }
      ]
    }
  ],
  "metadata": {
    "anaconda-cloud": {},
    "kernelspec": {
      "name": "python3",
      "display_name": "Python 3",
      "language": "python"
    },
    "language_info": {
      "mimetype": "text/x-python",
      "nbconvert_exporter": "python",
      "name": "python",
      "pygments_lexer": "ipython3",
      "version": "3.5.4",
      "file_extension": ".py",
      "codemirror_mode": {
        "version": 3,
        "name": "ipython"
      }
    },
    "hide_input": false,
    "toc": {
      "nav_menu": {},
      "number_sections": true,
      "sideBar": true,
      "skip_h1_title": false,
      "base_numbering": 1,
      "title_cell": "Table of Contents",
      "title_sidebar": "Contents",
      "toc_cell": false,
      "toc_position": {},
      "toc_section_display": true,
      "toc_window_display": false
    },
    "nbTranslate": {
      "hotkey": "alt-t",
      "sourceLang": "en",
      "targetLang": "fr",
      "displayLangs": [
        "*"
      ],
      "langInMainMenu": true,
      "useGoogleTranslate": true
    }
  },
  "nbformat": 4,
  "nbformat_minor": 1
}