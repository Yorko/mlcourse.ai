{
 "cells": [
  {
   "cell_type": "markdown",
   "metadata": {
    "lang": "fr"
   },
   "source": [
    "<center>\n",
    "<img src=\"https://github.com/Yorko/mlcourse.ai/blob/master/img/ods_stickers.jpg?raw=true\" />\n",
    "    \n",
    "## mlcourse.ai – Open Machine Learning Course\n",
    "Auteur: Arina Lopukhova (@erynn). Edité par [Yury Kashnitskiy] (https://yorko.github.io) (@yorko) et Vadim Shestopalov (@vchulski). Traduit par [Ousmane Cissé](https://github.com/oussou-dev) Ce matériel est soumis aux termes et conditions de la licence [Creative Commons CC BY-NC-SA 4.0] (https://creativecommons.org/licenses/by-nc-sa/4.0/). L'utilisation gratuite est autorisée à des fins non commerciales."
   ]
  },
  {
   "cell_type": "markdown",
   "metadata": {
    "lang": "fr"
   },
   "source": [
    "# <center>Mission # 1. Automne 2019\n",
    "## <center>Analyse exploratoire des données des jeux olympiques avec la librairie Pandas\n",
    "    \n",
    "<img src='https://github.com/Yorko/mlcourse.ai/blob/master/img/olympic_logo.png?raw=true' width=50%>"
   ]
  },
  {
   "cell_type": "markdown",
   "metadata": {
    "lang": "fr"
   },
   "source": [
    "Avant de travailler sur la mission, il est conseillé de consulter le matériel de cours correspondant:\n",
    " - [Exploratory data analysis with Pandas](https://nbviewer.jupyter.org/github/Yorko/mlcourse_open/blob/master/jupyter_english/topic01_pandas_data_analysis/topic1_pandas_data_analysis.ipynb?flush_cache=true), en version interactive sur [Kaggle Kernel](https://www.kaggle.com/kashnitsky/topic-1-exploratory-data-analysis-with-pandas)\n",
    " - les premières vidéos via mlcourse.ai [YouTube playlist ](https://www.youtube.com/watch?v=QKTuw4PNOsU&list=PLVlY_7IJCMJeRfZ68eVfEcu-UcN9BbwiX)\n",
    " - vous pouvez également vous entraîner via des exercices plus simples et déjà partagés avec des solutions: [A1 demo](https://www.kaggle.com/kashnitsky/a1-demo-pandas-and-uci-adult-dataset), [solution](https://www.kaggle.com/kashnitsky/a1-demo-pandas-and-uci-adult-dataset-solution)\n",
    "\n",
    "### Votre tâche consiste à:\n",
    " 1. écrire du code et effectuer des calculs dans les cellules ci-dessous\n",
    " 2. Choisir les réponses dans le [formulaire](https://docs.google.com/forms/d/1JxhQ9Bg4OpM3E5N47ZuRbILgDuMRbvEnUbDMZK8L-NU). Les solutions seront partagées uniquement avec ceux qui ont rempli ce formulaire\n",
    " 3. envoyer les réponses après avoir mentionné une adresse mail et <**> retenez-la <**>! Ce sera votre identifiant pendant toute le durée de la formation. Indiquez également votre vrai nom complet dans le formulaire (aucun pseudo autorisé dans le top 100 final [rating](https://mlcourse.ai/rating)). En cas de doute, vous pouvez soumettre à nouveau le formulaire jusqu'à la date limite pour la mission A1, pas de problème, mais tenez-vous qu'à une seule et même adresse mail.\n",
    " \n",
    "### <center> Date limite pour la mission A1 : le 15 septembre 2019 à 20h59 GMT (heure de Londres)\n",
    "    \n",
    "Vous obtiendrez jusqu'à 10 crédits pour cette affectation.\n",
    "\n",
    "### Comment obtenir de l'aide\n",
    "Dans [ODS Slack](https://opendatascience.slack.com) (si vous n'y avez toujours pas accès, renseignez le [formulaire](https://docs.google.com/forms/d/10HAN5huM996snUKjsNYyT_oOlm2uOsTKulKurb3oiNM/) présent sur la page principale de mlcourse.ai), nous avons un canal **#mlcourse_ ai _news** avec les annonces de l’équipe du cours.\n",
    "Vous pouvez discuter du contenu du cours librement sur le canal **#mlcourse_ ai** (nous avons toujours un groupe de langue russe énorme, ils ont un canal séparé **#mlcourse_ai_rus**).\n",
    "\n",
    "Voici comment vous pouvez répondre à un fil de discussion (appuyez sur cette icône de boîte de dialogue pour explorer un fil de discussion):\n",
    "\n",
    "<img src=\"https://github.com/Yorko/mlcourse.ai/blob/master/img/start_a_thread.png?raw=true\" />\n",
    "\n",
    "Veuillez vous en tenir aux discussions spéciales *a1_q1-5_fall2019* et *a1_q6-10_fall2019* dans **# mlcourse_ai_news** pour vos questions sur A1. S'entraider sans partager le code et les réponses corrects. Notre TA **Vadim @vchulski** est là pour vous aider (uniquement dans le fil mentionné, ne lui écrivez pas directement).\n",
    "\n",
    "Enfin, vous pouvez enregistrer des messages utiles en les épinglant, puis trouver des éléments épinglés en haut, juste en dessous du nom de la chaîne:\n",
    "\n",
    "<img src=\"https://github.com/Yorko/mlcourse.ai/blob/master/img/pinned_item.png?raw=true\" />\n",
    "\n",
    "### Mission\n",
    "__Il y a dix questions sur portant sur les 120 ans d'histoire des jeux olympiques. Votre mission consiste à renseigner le code Python manquant et à choisir les réponses dans [ce formulaire](https://docs.google.com/forms/d/1JxhQ9Bg4OpM3E5N47ZuRbILgDuMRbvEnUbDMZK8L-NU).__"
   ]
  },
  {
   "cell_type": "markdown",
   "metadata": {},
   "source": [
    "Téléchargez le fichier `athlete_events.csv` depuis [cette source](https://drive.google.com/file/d/1f5v6Z2ayc7h698FG_98wP5x1Y2zZQeox/view?usp=sharing) (collecté par [rgriffin](https://www.randigriffin.com/) depuis [sports-reference](https://www.sports-reference.com)).  \n",
    "L'ensemble des données possède les caractéristiques suivantes :\n",
    "\n",
    "- __ID__ - Unique number for each athlete\n",
    "- __Name__ - Athlete's name\n",
    "- __Sex__ - M or F\n",
    "- __Age__ - Integer\n",
    "- __Height__ - In centimeters\n",
    "- __Weight__ - In kilograms\n",
    "- __Team__ - Team name\n",
    "- __NOC__ - National Olympic Committee 3-letter code\n",
    "- __Games__ - Year and season\n",
    "- __Year__ - Integer\n",
    "- __Season__ - Summer or Winter\n",
    "- __City__ - Host city\n",
    "- __Sport__ - Sport\n",
    "- __Event__ - Event\n",
    "- __Medal__ - Gold, Silver, Bronze, or NA"
   ]
  },
  {
   "cell_type": "code",
   "execution_count": null,
   "metadata": {
    "ExecuteTime": {
     "end_time": "2019-09-13T19:01:38.265914Z",
     "start_time": "2019-09-13T19:01:38.246778Z"
    }
   },
   "outputs": [],
   "source": [
    "import pandas as pd"
   ]
  },
  {
   "cell_type": "code",
   "execution_count": null,
   "metadata": {
    "ExecuteTime": {
     "end_time": "2019-09-13T19:01:38.59779Z",
     "start_time": "2019-09-13T19:01:38.577195Z"
    }
   },
   "outputs": [],
   "source": [
    "# Change the path to the dataset file if needed.\n",
    "PATH = \"athlete_events.csv\""
   ]
  },
  {
   "cell_type": "code",
   "execution_count": null,
   "metadata": {
    "ExecuteTime": {
     "end_time": "2019-09-13T19:02:54.28524Z",
     "start_time": "2019-09-13T19:01:39.847372Z"
    }
   },
   "outputs": [],
   "source": [
    "data = pd.read_csv(PATH)\n",
    "data.head()"
   ]
  },
  {
   "cell_type": "markdown",
   "metadata": {
    "lang": "fr"
   },
   "source": [
    "__1. Quels âges avaient les plus jeunes participants masculins et féminins aux Jeux olympiques de 1992?__\n",
    "\n",
    "*Pour les discussions, merci de vous en tenir à [ODS Slack](https://opendatascience.slack.com/), channel #mlcourse_ai_news, fil épinglé #a1_q1-5_fall2019*\n",
    "\n",
    "- 16 et 15\n",
    "- 14 et 13\n",
    "- 13 et 11\n",
    "- 11 et 12"
   ]
  },
  {
   "cell_type": "code",
   "execution_count": null,
   "metadata": {},
   "outputs": [],
   "source": [
    "# You code here"
   ]
  },
  {
   "cell_type": "markdown",
   "metadata": {
    "lang": "fr"
   },
   "source": [
    "__2. Quel était le pourcentage de joueurs de basketball parmi tous les participants \"masculins\" aux Jeux olympiques de 2012 ? Arrondis la réponse à la première décimale.__\n",
    "\n",
    "_Conseil_ : si nécessaire pour cette question et les suivantes, retirez les sportifs dupliqués (en doublon) pour ne les compter qu'une fois.\n",
    "\n",
    "*Pour les discussions, merci de vous en tenir à [ODS Slack](https://opendatascience.slack.com/), channel #mlcourse_ai_news, fil épinglé #a1_q1-5_fall2019*\n",
    "\n",
    "- 0,2\n",
    "- 1,5\n",
    "- 2,5\n",
    "- 7,7"
   ]
  },
  {
   "cell_type": "code",
   "execution_count": null,
   "metadata": {},
   "outputs": [],
   "source": [
    "# You code here"
   ]
  },
  {
   "cell_type": "markdown",
   "metadata": {
    "lang": "fr"
   },
   "source": [
    "__3. Quelles sont la moyenne et la déviation standard (écart-type) de la taille des joueuse de tennis ayant participé aux Jeux olympiques de 2000 ? Arrondis la réponse à la première décimale.__\n",
    "\n",
    "*Pour les discussions, merci de vous en tenir à [ODS Slack](https://opendatascience.slack.com/), channel #mlcourse_ai_news, fil épinglé #a1_q1-5_fall2019*\n",
    "\n",
    "- 171,8 et 6,5\n",
    "- 179,4 et 10\n",
    "- 180.7 et 6.7\n",
    "- 182.4 et 9.1"
   ]
  },
  {
   "cell_type": "code",
   "execution_count": null,
   "metadata": {},
   "outputs": [],
   "source": [
    "# You code here"
   ]
  },
  {
   "cell_type": "markdown",
   "metadata": {
    "lang": "fr"
   },
   "source": [
    "__4. Trouvez un sportif qui a participé aux Jeux olympiques de 2006, avec le poids le plus élevé parmi les autres participants aux mêmes Jeux olympiques. Quel sport a-t-il ou elle fait?__\n",
    "\n",
    "*Pour les discussions, merci de vous en tenir à [ODS Slack](https://opendatascience.slack.com/), channel #mlcourse_ai_news, fil épinglé #a1_q1-5_fall2019*\n",
    "\n",
    "- Judo\n",
    "- le bobsleigh\n",
    "- squelette\n",
    "- Boxe"
   ]
  },
  {
   "cell_type": "code",
   "execution_count": null,
   "metadata": {},
   "outputs": [],
   "source": [
    "# You code here"
   ]
  },
  {
   "cell_type": "markdown",
   "metadata": {
    "lang": "fr"
   },
   "source": [
    "__5. Combien de fois John Aalberg a-t-il participé aux Jeux olympiques organisés différentes années?__\n",
    "\n",
    "*Pour les discussions, merci de vous en tenir à [ODS Slack](https://opendatascience.slack.com/), channel #mlcourse_ai_news, fil épinglé #a1_q1-5_fall2019*\n",
    "\n",
    "- 0\n",
    "- 1\n",
    "- 2\n",
    "- 3"
   ]
  },
  {
   "cell_type": "code",
   "execution_count": null,
   "metadata": {},
   "outputs": [],
   "source": [
    "# You code here"
   ]
  },
  {
   "cell_type": "markdown",
   "metadata": {
    "lang": "fr"
   },
   "source": [
    "__6. Combien de médailles d'or au tennis les sportifs de l'équipe de Suisse ont-ils remporté aux Jeux olympiques de 2008? Comptez chaque médaille de chaque sportif.__\n",
    "\n",
    "*Pour les discussions, merci de vous en tenir à [ODS Slack](https://opendatascience.slack.com/), channel #mlcourse_ai_news, fil épinglé #a1_q6-10_fall2019*\n",
    "\n",
    "- 0\n",
    "- 1\n",
    "- 2\n",
    "- 3"
   ]
  },
  {
   "cell_type": "code",
   "execution_count": null,
   "metadata": {},
   "outputs": [],
   "source": [
    "# You code here"
   ]
  },
  {
   "cell_type": "markdown",
   "metadata": {
    "lang": "fr"
   },
   "source": [
    "__7. Est-il vrai que l'Espagne a remporté moins de médailles que l'Italie aux Jeux olympiques de 2016? Ne considérez pas les valeurs NaN dans la colonne _Medal_.__\n",
    "\n",
    "*Pour les discussions, merci de vous en tenir à [ODS Slack](https://opendatascience.slack.com/), channel #mlcourse_ai_news, fil épinglé #a1_q6-10_fall2019*\n",
    "\n",
    "- Oui\n",
    "- Non"
   ]
  },
  {
   "cell_type": "code",
   "execution_count": null,
   "metadata": {},
   "outputs": [],
   "source": [
    "# You code here"
   ]
  },
  {
   "cell_type": "markdown",
   "metadata": {
    "lang": "fr"
   },
   "source": [
    "__8. À quelles catégories d'âge appartenaient le moins et le plus grand nombre de participants aux Jeux olympiques de 2008?__\n",
    "\n",
    "*Pour les discussions, merci de vous en tenir à [ODS Slack](https://opendatascience.slack.com/), channel #mlcourse_ai_news, fil épinglé #a1_q6-10_fall2019*\n",
    "\n",
    "- [45-55] et [25-35) respectivement\n",
    "- [45-55] et [15-25) respectivement\n",
    "- [35-45) et [25-35) respectivement\n",
    "- [45-55] et [35-45) respectivement"
   ]
  },
  {
   "cell_type": "code",
   "execution_count": null,
   "metadata": {},
   "outputs": [],
   "source": [
    "# You code here"
   ]
  },
  {
   "cell_type": "markdown",
   "metadata": {
    "lang": "fr"
   },
   "source": [
    "__9. Est-il vrai qu'il y a eu des jeux olympiques d'été à Atlanta? Est-il vrai qu'il y a eu des Jeux olympiques d'hiver à Squaw Valley?__\n",
    "\n",
    "*Pour les discussions, merci de vous en tenir à [ODS Slack] (https://opendatascience.slack.com/), channel #mlcourse_ai_news, fil épinglé # a1_q6-10_fall2019*\n",
    "\n",
    "- Oui oui\n",
    "- Oui Non\n",
    "- Non Oui\n",
    "- Non non"
   ]
  },
  {
   "cell_type": "code",
   "execution_count": null,
   "metadata": {},
   "outputs": [],
   "source": [
    "# You code here"
   ]
  },
  {
   "cell_type": "markdown",
   "metadata": {
    "lang": "fr"
   },
   "source": [
    "__10. Quelle est, en valeur absolue, la différence entre le nombre de sports aux Jeux olympiques de 1986 et aux Jeux olympiques de 2002?__\n",
    "\n",
    "*Pour les discussions, merci de vous en tenir à [ODS Slack](https://opendatascience.slack.com/), channel #mlcourse_ai_news, fil épinglé #a1_q6-10_fall2019*\n",
    "\n",
    "- 3\n",
    "- dix\n",
    "- 15\n",
    "- 27"
   ]
  },
  {
   "cell_type": "code",
   "execution_count": null,
   "metadata": {},
   "outputs": [],
   "source": [
    "# You code here"
   ]
  },
  {
   "cell_type": "markdown",
   "metadata": {},
   "source": [
    "That's it! Now go and do 30 push-ups! :)"
   ]
  }
 ],
 "metadata": {
  "hide_input": false,
  "kernelspec": {
   "display_name": "Python 3",
   "language": "python",
   "name": "python3"
  },
  "language_info": {
   "codemirror_mode": {
    "name": "ipython",
    "version": 3
   },
   "file_extension": ".py",
   "mimetype": "text/x-python",
   "name": "python",
   "nbconvert_exporter": "python",
   "pygments_lexer": "ipython3",
   "version": "3.5.4"
  },
  "nbTranslate": {
   "displayLangs": [
    "*"
   ],
   "hotkey": "alt-t",
   "langInMainMenu": true,
   "sourceLang": "en",
   "targetLang": "fr",
   "useGoogleTranslate": true
  },
  "toc": {
   "base_numbering": 1,
   "nav_menu": {},
   "number_sections": true,
   "sideBar": true,
   "skip_h1_title": false,
   "title_cell": "Table of Contents",
   "title_sidebar": "Contents",
   "toc_cell": false,
   "toc_position": {},
   "toc_section_display": true,
   "toc_window_display": false
  }
 },
 "nbformat": 4,
 "nbformat_minor": 2
}
