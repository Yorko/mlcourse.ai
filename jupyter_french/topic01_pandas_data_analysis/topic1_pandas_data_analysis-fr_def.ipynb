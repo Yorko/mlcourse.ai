{
  "cells": [
    {
      "metadata": {
        "lang": "fr"
      },
      "cell_type": "markdown",
      "source": "<center>\n<img src=\"https://github.com/Yorko/mlcourse.ai/blob/master/img/ods_stickers.jpg?raw=true\" />\n    \n# [mlcourse.ai](https://mlcourse.ai) – Open Machine Learning Course \n\nAuteur: [Yury Kashnitsky](https://yorko.github.io). Traduit et édité par [Christina Butsko](https://www.linkedin.com/in/christinabutsko/), [Yuanyuan Pao](https://www.linkedin.com/in/yuanyuanpao/), [Anastasia Manokhina](https://www.linkedin.com/in/anastasiamanokhina), Sergey Isaev, [Artem Trunov](https://www.linkedin.com/in/datamove/) et [Ousmane Cissé](https://github.com/oussou-dev). Ce matériel est soumis aux termes et conditions de la licence [Creative Commons CC BY-NC-SA 4.0] (https://creativecommons.org/licenses/by-nc-sa/4.0/). L'utilisation gratuite est autorisée à des fins non commerciales."
    },
    {
      "metadata": {
        "lang": "fr"
      },
      "cell_type": "markdown",
      "source": "# <center> Thème 1. Analyse exploratoire de données avec la librairie Pandas\n\n<img src=\"https://github.com/Yorko/mlcourse.ai/blob/master/img/pandas.jpg?raw=true\"  width=50% />"
    },
    {
      "metadata": {
        "toc": true
      },
      "cell_type": "markdown",
      "source": "<h1>Sommaire de l'article<span class=\"tocSkip\"></span></h1>\n<div class=\"toc\"><ul class=\"toc-item\"><li><span><a href=\"#1.-Mise-en-pratique-des-principales-méthodes-de-Pandas\" data-toc-modified-id=\"1.-Mise-en-pratique-des-principales-méthodes-de-Pandas-1\">1. Mise en pratique des principales méthodes de Pandas</a></span><ul class=\"toc-item\"><li><span><a href=\"#Tri\" data-toc-modified-id=\"Tri-1.1\">Tri</a></span></li><li><span><a href=\"#Indexation-et-récupération-de-données\" data-toc-modified-id=\"Indexation-et-récupération-de-données-1.2\">Indexation et récupération de données</a></span></li><li><span><a href=\"#Application-de-fonctions-à-des-cellules,-des-colonnes-et-des-lignes\" data-toc-modified-id=\"Application-de-fonctions-à-des-cellules,-des-colonnes-et-des-lignes-1.3\">Application de fonctions à des cellules, des colonnes et des lignes</a></span></li><li><span><a href=\"#Agrégation-de-données\" data-toc-modified-id=\"Agrégation-de-données-1.4\">Agrégation de données</a></span></li><li><span><a href=\"#Tableaux-récapitulatifs\" data-toc-modified-id=\"Tableaux-récapitulatifs-1.5\">Tableaux récapitulatifs</a></span></li><li><span><a href=\"#Opérations-de-transformations-d'un-DataFrame\" data-toc-modified-id=\"Opérations-de-transformations-d'un-DataFrame-1.6\">Opérations de transformations d'un DataFrame</a></span></li></ul></li><li><span><a href=\"#2.-Prévision-du-churn-(taux-d'attrition)\" data-toc-modified-id=\"2.-Prévision-du-churn-(taux-d'attrition)-2\">2. Prévision du churn (taux d'attrition)</a></span></li><li><span><a href=\"#3.-Mission-pour-s'exercer\" data-toc-modified-id=\"3.-Mission-pour-s'exercer-3\">3. Mission pour s'exercer</a></span></li><li><span><a href=\"#4.-Ressources-utiles\" data-toc-modified-id=\"4.-Ressources-utiles-4\">4. Ressources utiles</a></span></li></ul></div>"
    },
    {
      "metadata": {
        "lang": "fr"
      },
      "cell_type": "markdown",
      "source": "## 1. Mise en pratique des principales méthodes de Pandas\nBien ... Il existe des dizaines de tutoriels intéressants sur la librairie Pandas et l'analyse visuelle des données. Si vous êtes déjà familiarisé avec ces sujets, vous pouvez passer au 3ème article de la série, dans lequel nous abordons le machine learning (apprentissage automatique).\n\n**[Pandas](http://pandas.pydata.org)** est une bibliothèque Python qui fournit des moyens étendus pour l’analyse de données. Les Data scientistes travaillent souvent avec des données stockées dans des formats sous forme de table de données telles que `.csv`,` .tsv` ou `.xlsx`. Pandas est très pratique pour charger, traiter et analyser ces données tabulaires à l’aide de requêtes quasi-similaires aux reques de type SQL. En complément de `Matplotlib` et` Seaborn`, `Pandas` offre un large éventail d'opportunités d'analyse visuelle des données tabulaires.\n\nLes pricipales structures de données dans `Pandas` sont implémentées avec les classes **Series** et **DataFrame**. Le premier est un tableau unidimensionnel indexé d'un type de données fixe. Le second est une structure de données bidimensionnelle - une table - dans laquelle chaque colonne contient des données du même type. Vous pouvez le voir comme un dictionnaire de plusieurs `Series`. Les `DataFrames` sont parfaits pour représenter des données réelles : les lignes correspondent aux instances (exemples, observations, individus etc.) et les colonnes correspondent aux caractéristiques de ces instances (variables)."
    },
    {
      "metadata": {
        "trusted": true,
        "ExecuteTime": {
          "start_time": "2019-09-15T20:51:18.418535Z",
          "end_time": "2019-09-15T20:51:25.725973Z"
        }
      },
      "cell_type": "code",
      "source": "import numpy as np\nimport pandas as pd\npd.set_option(\"display.precision\", 2)",
      "execution_count": 3,
      "outputs": []
    },
    {
      "metadata": {
        "lang": "fr"
      },
      "cell_type": "markdown",
      "source": "Nous allons tester les principales méthodes en analysant un jeu de données ou [dataset](https://bigml.com/user/francisco/gallery/dataset/5163ad540c0b5e5b22000383) sur le taux de désabonnement des clients d'opérateurs téléphoniques. Lisons les données (en utilisant la méthode `read_csv`), et jetons un coup d’œil aux 5 premières lignes en utilisant la méthode` head`:"
    },
    {
      "metadata": {
        "trusted": true,
        "ExecuteTime": {
          "start_time": "2019-09-15T20:58:47.885539Z",
          "end_time": "2019-09-15T20:58:48.483494Z"
        }
      },
      "cell_type": "code",
      "source": "url = \"https://raw.githubusercontent.com/Yorko/mlcourse.ai/master/data/telecom_churn.csv\"\ndf = pd.read_csv(url)\n\ndf.head()",
      "execution_count": 8,
      "outputs": [
        {
          "output_type": "execute_result",
          "execution_count": 8,
          "data": {
            "text/plain": "  State  Account length  Area code International plan Voice mail plan  \\\n0    KS             128        415                 No             Yes   \n1    OH             107        415                 No             Yes   \n2    NJ             137        415                 No              No   \n3    OH              84        408                Yes              No   \n4    OK              75        415                Yes              No   \n\n   Number vmail messages  Total day minutes  Total day calls  \\\n0                     25              265.1              110   \n1                     26              161.6              123   \n2                      0              243.4              114   \n3                      0              299.4               71   \n4                      0              166.7              113   \n\n   Total day charge  Total eve minutes  Total eve calls  Total eve charge  \\\n0             45.07              197.4               99             16.78   \n1             27.47              195.5              103             16.62   \n2             41.38              121.2              110             10.30   \n3             50.90               61.9               88              5.26   \n4             28.34              148.3              122             12.61   \n\n   Total night minutes  Total night calls  Total night charge  \\\n0                244.7                 91               11.01   \n1                254.4                103               11.45   \n2                162.6                104                7.32   \n3                196.9                 89                8.86   \n4                186.9                121                8.41   \n\n   Total intl minutes  Total intl calls  Total intl charge  \\\n0                10.0                 3               2.70   \n1                13.7                 3               3.70   \n2                12.2                 5               3.29   \n3                 6.6                 7               1.78   \n4                10.1                 3               2.73   \n\n   Customer service calls  Churn  \n0                       1  False  \n1                       1  False  \n2                       0  False  \n3                       2  False  \n4                       3  False  ",
            "text/html": "<div>\n<table border=\"1\" class=\"dataframe\">\n  <thead>\n    <tr style=\"text-align: right;\">\n      <th></th>\n      <th>State</th>\n      <th>Account length</th>\n      <th>Area code</th>\n      <th>International plan</th>\n      <th>Voice mail plan</th>\n      <th>Number vmail messages</th>\n      <th>Total day minutes</th>\n      <th>Total day calls</th>\n      <th>Total day charge</th>\n      <th>Total eve minutes</th>\n      <th>Total eve calls</th>\n      <th>Total eve charge</th>\n      <th>Total night minutes</th>\n      <th>Total night calls</th>\n      <th>Total night charge</th>\n      <th>Total intl minutes</th>\n      <th>Total intl calls</th>\n      <th>Total intl charge</th>\n      <th>Customer service calls</th>\n      <th>Churn</th>\n    </tr>\n  </thead>\n  <tbody>\n    <tr>\n      <th>0</th>\n      <td>KS</td>\n      <td>128</td>\n      <td>415</td>\n      <td>No</td>\n      <td>Yes</td>\n      <td>25</td>\n      <td>265.1</td>\n      <td>110</td>\n      <td>45.07</td>\n      <td>197.4</td>\n      <td>99</td>\n      <td>16.78</td>\n      <td>244.7</td>\n      <td>91</td>\n      <td>11.01</td>\n      <td>10.0</td>\n      <td>3</td>\n      <td>2.70</td>\n      <td>1</td>\n      <td>False</td>\n    </tr>\n    <tr>\n      <th>1</th>\n      <td>OH</td>\n      <td>107</td>\n      <td>415</td>\n      <td>No</td>\n      <td>Yes</td>\n      <td>26</td>\n      <td>161.6</td>\n      <td>123</td>\n      <td>27.47</td>\n      <td>195.5</td>\n      <td>103</td>\n      <td>16.62</td>\n      <td>254.4</td>\n      <td>103</td>\n      <td>11.45</td>\n      <td>13.7</td>\n      <td>3</td>\n      <td>3.70</td>\n      <td>1</td>\n      <td>False</td>\n    </tr>\n    <tr>\n      <th>2</th>\n      <td>NJ</td>\n      <td>137</td>\n      <td>415</td>\n      <td>No</td>\n      <td>No</td>\n      <td>0</td>\n      <td>243.4</td>\n      <td>114</td>\n      <td>41.38</td>\n      <td>121.2</td>\n      <td>110</td>\n      <td>10.30</td>\n      <td>162.6</td>\n      <td>104</td>\n      <td>7.32</td>\n      <td>12.2</td>\n      <td>5</td>\n      <td>3.29</td>\n      <td>0</td>\n      <td>False</td>\n    </tr>\n    <tr>\n      <th>3</th>\n      <td>OH</td>\n      <td>84</td>\n      <td>408</td>\n      <td>Yes</td>\n      <td>No</td>\n      <td>0</td>\n      <td>299.4</td>\n      <td>71</td>\n      <td>50.90</td>\n      <td>61.9</td>\n      <td>88</td>\n      <td>5.26</td>\n      <td>196.9</td>\n      <td>89</td>\n      <td>8.86</td>\n      <td>6.6</td>\n      <td>7</td>\n      <td>1.78</td>\n      <td>2</td>\n      <td>False</td>\n    </tr>\n    <tr>\n      <th>4</th>\n      <td>OK</td>\n      <td>75</td>\n      <td>415</td>\n      <td>Yes</td>\n      <td>No</td>\n      <td>0</td>\n      <td>166.7</td>\n      <td>113</td>\n      <td>28.34</td>\n      <td>148.3</td>\n      <td>122</td>\n      <td>12.61</td>\n      <td>186.9</td>\n      <td>121</td>\n      <td>8.41</td>\n      <td>10.1</td>\n      <td>3</td>\n      <td>2.73</td>\n      <td>3</td>\n      <td>False</td>\n    </tr>\n  </tbody>\n</table>\n</div>"
          },
          "metadata": {}
        }
      ]
    },
    {
      "metadata": {
        "lang": "fr"
      },
      "cell_type": "markdown",
      "source": "<details>\n<summary>Affichage des DataFrames dans Jupyter notebooks</summary>\n<p>\nDans les notebooks Jupyter, les DataFrames sont affichés comme ces jolies tables vues ci-dessus alors que `print(df.head())` est moins bien formaté. \nPar défaut, Pandas affiche 20 colonnes et 60 lignes, donc, si votre DataFrame est plus grand, utilisez la fonction `set_option` comme dans l'exemple ci-dessous : \n    \n<br>\n    \n```\npd.set_option('display.max_columns', 100)\npd.set_option('display.max_rows', 100)\n```\n</p>\n</details>\n\nRappelez-vous que chaque ligne correspond à un client, à une **instance** et les colonnes sont les **caractéristiques** de cette instance."
    },
    {
      "metadata": {
        "lang": "fr"
      },
      "cell_type": "markdown",
      "source": "Examinons la dimensionnalité des données, les noms des caractéristiques et les types de caractéristiques."
    },
    {
      "metadata": {
        "trusted": false
      },
      "cell_type": "code",
      "source": "print(df.shape)",
      "execution_count": 3,
      "outputs": [
        {
          "name": "stdout",
          "output_type": "stream",
          "text": "(3333, 20)\n"
        }
      ]
    },
    {
      "metadata": {
        "lang": "fr"
      },
      "cell_type": "markdown",
      "source": "La sortie indique que la table contient 3333 lignes et 20 colonnes.\n\nEssayons maintenant d’afficher les noms de colonnes en utilisant `columns`:"
    },
    {
      "metadata": {
        "trusted": false
      },
      "cell_type": "code",
      "source": "print(df.columns)",
      "execution_count": 4,
      "outputs": [
        {
          "name": "stdout",
          "output_type": "stream",
          "text": "Index(['State', 'Account length', 'Area code', 'International plan',\n       'Voice mail plan', 'Number vmail messages', 'Total day minutes',\n       'Total day calls', 'Total day charge', 'Total eve minutes',\n       'Total eve calls', 'Total eve charge', 'Total night minutes',\n       'Total night calls', 'Total night charge', 'Total intl minutes',\n       'Total intl calls', 'Total intl charge', 'Customer service calls',\n       'Churn'],\n      dtype='object')\n"
        }
      ]
    },
    {
      "metadata": {
        "lang": "fr"
      },
      "cell_type": "markdown",
      "source": "Nous pouvons utiliser la méthode `info()` pour générer des informations générales sur le Dataframe :"
    },
    {
      "metadata": {
        "trusted": false
      },
      "cell_type": "code",
      "source": "print(df.info())",
      "execution_count": 5,
      "outputs": [
        {
          "name": "stdout",
          "output_type": "stream",
          "text": "<class 'pandas.core.frame.DataFrame'>\nRangeIndex: 3333 entries, 0 to 3332\nData columns (total 20 columns):\nState                     3333 non-null object\nAccount length            3333 non-null int64\nArea code                 3333 non-null int64\nInternational plan        3333 non-null object\nVoice mail plan           3333 non-null object\nNumber vmail messages     3333 non-null int64\nTotal day minutes         3333 non-null float64\nTotal day calls           3333 non-null int64\nTotal day charge          3333 non-null float64\nTotal eve minutes         3333 non-null float64\nTotal eve calls           3333 non-null int64\nTotal eve charge          3333 non-null float64\nTotal night minutes       3333 non-null float64\nTotal night calls         3333 non-null int64\nTotal night charge        3333 non-null float64\nTotal intl minutes        3333 non-null float64\nTotal intl calls          3333 non-null int64\nTotal intl charge         3333 non-null float64\nCustomer service calls    3333 non-null int64\nChurn                     3333 non-null bool\ndtypes: bool(1), float64(8), int64(8), object(3)\nmemory usage: 498.1+ KB\nNone\n"
        }
      ]
    },
    {
      "metadata": {
        "lang": "fr"
      },
      "cell_type": "markdown",
      "source": "`bool`,` int64`, `float64` et` object` sont les types de données de nos caractéristiques. Nous voyons qu'une caractéristique est logique (`bool`), 3 caractéristiques sont de type ` objet`, et 16 caractéristiques sont numériques. Avec cette même méthode, nous pouvons facilement voir s’il manque des valeurs. Ici, il n'y en a pas car chaque colonne contient 3333 observations, le même nombre de lignes que nous avons vu auparavant avec `shape`.\n\nNous pouvons **changer le type de colonne** avec la méthode `astype`. Appliquons cette méthode à la caractéristique `Churn` pour la convertir en` int64`:"
    },
    {
      "metadata": {
        "trusted": false
      },
      "cell_type": "code",
      "source": "df['Churn'] = df['Churn'].astype('int64')",
      "execution_count": 6,
      "outputs": []
    },
    {
      "metadata": {
        "lang": "fr"
      },
      "cell_type": "markdown",
      "source": "La méthode `describe` affiche les caractéristiques statistiques de base de chaque caractéristique numérique (type ` int64` et `float64`): nombre de valeurs non manquantes, moyenne, écart-type, amplitude, médiane, (1er : 0,25) et (3ème : 0,75) quartiles."
    },
    {
      "metadata": {
        "trusted": false
      },
      "cell_type": "code",
      "source": "df.describe()",
      "execution_count": 7,
      "outputs": [
        {
          "data": {
            "text/html": "<div>\n<style scoped>\n    .dataframe tbody tr th:only-of-type {\n        vertical-align: middle;\n    }\n\n    .dataframe tbody tr th {\n        vertical-align: top;\n    }\n\n    .dataframe thead th {\n        text-align: right;\n    }\n</style>\n<table border=\"1\" class=\"dataframe\">\n  <thead>\n    <tr style=\"text-align: right;\">\n      <th></th>\n      <th>Account length</th>\n      <th>Area code</th>\n      <th>Number vmail messages</th>\n      <th>Total day minutes</th>\n      <th>Total day calls</th>\n      <th>Total day charge</th>\n      <th>Total eve minutes</th>\n      <th>Total eve calls</th>\n      <th>Total eve charge</th>\n      <th>Total night minutes</th>\n      <th>Total night calls</th>\n      <th>Total night charge</th>\n      <th>Total intl minutes</th>\n      <th>Total intl calls</th>\n      <th>Total intl charge</th>\n      <th>Customer service calls</th>\n      <th>Churn</th>\n    </tr>\n  </thead>\n  <tbody>\n    <tr>\n      <th>count</th>\n      <td>3333.00</td>\n      <td>3333.00</td>\n      <td>3333.00</td>\n      <td>3333.00</td>\n      <td>3333.00</td>\n      <td>3333.00</td>\n      <td>3333.00</td>\n      <td>3333.00</td>\n      <td>3333.00</td>\n      <td>3333.00</td>\n      <td>3333.00</td>\n      <td>3333.00</td>\n      <td>3333.00</td>\n      <td>3333.00</td>\n      <td>3333.00</td>\n      <td>3333.00</td>\n      <td>3333.00</td>\n    </tr>\n    <tr>\n      <th>mean</th>\n      <td>101.06</td>\n      <td>437.18</td>\n      <td>8.10</td>\n      <td>179.78</td>\n      <td>100.44</td>\n      <td>30.56</td>\n      <td>200.98</td>\n      <td>100.11</td>\n      <td>17.08</td>\n      <td>200.87</td>\n      <td>100.11</td>\n      <td>9.04</td>\n      <td>10.24</td>\n      <td>4.48</td>\n      <td>2.76</td>\n      <td>1.56</td>\n      <td>0.14</td>\n    </tr>\n    <tr>\n      <th>std</th>\n      <td>39.82</td>\n      <td>42.37</td>\n      <td>13.69</td>\n      <td>54.47</td>\n      <td>20.07</td>\n      <td>9.26</td>\n      <td>50.71</td>\n      <td>19.92</td>\n      <td>4.31</td>\n      <td>50.57</td>\n      <td>19.57</td>\n      <td>2.28</td>\n      <td>2.79</td>\n      <td>2.46</td>\n      <td>0.75</td>\n      <td>1.32</td>\n      <td>0.35</td>\n    </tr>\n    <tr>\n      <th>min</th>\n      <td>1.00</td>\n      <td>408.00</td>\n      <td>0.00</td>\n      <td>0.00</td>\n      <td>0.00</td>\n      <td>0.00</td>\n      <td>0.00</td>\n      <td>0.00</td>\n      <td>0.00</td>\n      <td>23.20</td>\n      <td>33.00</td>\n      <td>1.04</td>\n      <td>0.00</td>\n      <td>0.00</td>\n      <td>0.00</td>\n      <td>0.00</td>\n      <td>0.00</td>\n    </tr>\n    <tr>\n      <th>25%</th>\n      <td>74.00</td>\n      <td>408.00</td>\n      <td>0.00</td>\n      <td>143.70</td>\n      <td>87.00</td>\n      <td>24.43</td>\n      <td>166.60</td>\n      <td>87.00</td>\n      <td>14.16</td>\n      <td>167.00</td>\n      <td>87.00</td>\n      <td>7.52</td>\n      <td>8.50</td>\n      <td>3.00</td>\n      <td>2.30</td>\n      <td>1.00</td>\n      <td>0.00</td>\n    </tr>\n    <tr>\n      <th>50%</th>\n      <td>101.00</td>\n      <td>415.00</td>\n      <td>0.00</td>\n      <td>179.40</td>\n      <td>101.00</td>\n      <td>30.50</td>\n      <td>201.40</td>\n      <td>100.00</td>\n      <td>17.12</td>\n      <td>201.20</td>\n      <td>100.00</td>\n      <td>9.05</td>\n      <td>10.30</td>\n      <td>4.00</td>\n      <td>2.78</td>\n      <td>1.00</td>\n      <td>0.00</td>\n    </tr>\n    <tr>\n      <th>75%</th>\n      <td>127.00</td>\n      <td>510.00</td>\n      <td>20.00</td>\n      <td>216.40</td>\n      <td>114.00</td>\n      <td>36.79</td>\n      <td>235.30</td>\n      <td>114.00</td>\n      <td>20.00</td>\n      <td>235.30</td>\n      <td>113.00</td>\n      <td>10.59</td>\n      <td>12.10</td>\n      <td>6.00</td>\n      <td>3.27</td>\n      <td>2.00</td>\n      <td>0.00</td>\n    </tr>\n    <tr>\n      <th>max</th>\n      <td>243.00</td>\n      <td>510.00</td>\n      <td>51.00</td>\n      <td>350.80</td>\n      <td>165.00</td>\n      <td>59.64</td>\n      <td>363.70</td>\n      <td>170.00</td>\n      <td>30.91</td>\n      <td>395.00</td>\n      <td>175.00</td>\n      <td>17.77</td>\n      <td>20.00</td>\n      <td>20.00</td>\n      <td>5.40</td>\n      <td>9.00</td>\n      <td>1.00</td>\n    </tr>\n  </tbody>\n</table>\n</div>",
            "text/plain": "       Account length  Area code  Number vmail messages  Total day minutes  \\\ncount         3333.00    3333.00                3333.00            3333.00   \nmean           101.06     437.18                   8.10             179.78   \nstd             39.82      42.37                  13.69              54.47   \nmin              1.00     408.00                   0.00               0.00   \n25%             74.00     408.00                   0.00             143.70   \n50%            101.00     415.00                   0.00             179.40   \n75%            127.00     510.00                  20.00             216.40   \nmax            243.00     510.00                  51.00             350.80   \n\n       Total day calls  Total day charge  Total eve minutes  Total eve calls  \\\ncount          3333.00           3333.00            3333.00          3333.00   \nmean            100.44             30.56             200.98           100.11   \nstd              20.07              9.26              50.71            19.92   \nmin               0.00              0.00               0.00             0.00   \n25%              87.00             24.43             166.60            87.00   \n50%             101.00             30.50             201.40           100.00   \n75%             114.00             36.79             235.30           114.00   \nmax             165.00             59.64             363.70           170.00   \n\n       Total eve charge  Total night minutes  Total night calls  \\\ncount           3333.00              3333.00            3333.00   \nmean              17.08               200.87             100.11   \nstd                4.31                50.57              19.57   \nmin                0.00                23.20              33.00   \n25%               14.16               167.00              87.00   \n50%               17.12               201.20             100.00   \n75%               20.00               235.30             113.00   \nmax               30.91               395.00             175.00   \n\n       Total night charge  Total intl minutes  Total intl calls  \\\ncount             3333.00             3333.00           3333.00   \nmean                 9.04               10.24              4.48   \nstd                  2.28                2.79              2.46   \nmin                  1.04                0.00              0.00   \n25%                  7.52                8.50              3.00   \n50%                  9.05               10.30              4.00   \n75%                 10.59               12.10              6.00   \nmax                 17.77               20.00             20.00   \n\n       Total intl charge  Customer service calls    Churn  \ncount            3333.00                 3333.00  3333.00  \nmean                2.76                    1.56     0.14  \nstd                 0.75                    1.32     0.35  \nmin                 0.00                    0.00     0.00  \n25%                 2.30                    1.00     0.00  \n50%                 2.78                    1.00     0.00  \n75%                 3.27                    2.00     0.00  \nmax                 5.40                    9.00     1.00  "
          },
          "execution_count": 7,
          "metadata": {},
          "output_type": "execute_result"
        }
      ]
    },
    {
      "metadata": {
        "lang": "fr"
      },
      "cell_type": "markdown",
      "source": "Afin de voir les statistiques des caractéristiques non numériques, il faut indiquer explicitement ces types de données dans le paramètre `include`."
    },
    {
      "metadata": {
        "trusted": false
      },
      "cell_type": "code",
      "source": "df.describe(include=['object', 'bool'])",
      "execution_count": 8,
      "outputs": [
        {
          "data": {
            "text/html": "<div>\n<style scoped>\n    .dataframe tbody tr th:only-of-type {\n        vertical-align: middle;\n    }\n\n    .dataframe tbody tr th {\n        vertical-align: top;\n    }\n\n    .dataframe thead th {\n        text-align: right;\n    }\n</style>\n<table border=\"1\" class=\"dataframe\">\n  <thead>\n    <tr style=\"text-align: right;\">\n      <th></th>\n      <th>State</th>\n      <th>International plan</th>\n      <th>Voice mail plan</th>\n    </tr>\n  </thead>\n  <tbody>\n    <tr>\n      <th>count</th>\n      <td>3333</td>\n      <td>3333</td>\n      <td>3333</td>\n    </tr>\n    <tr>\n      <th>unique</th>\n      <td>51</td>\n      <td>2</td>\n      <td>2</td>\n    </tr>\n    <tr>\n      <th>top</th>\n      <td>WV</td>\n      <td>No</td>\n      <td>No</td>\n    </tr>\n    <tr>\n      <th>freq</th>\n      <td>106</td>\n      <td>3010</td>\n      <td>2411</td>\n    </tr>\n  </tbody>\n</table>\n</div>",
            "text/plain": "       State International plan Voice mail plan\ncount   3333               3333            3333\nunique    51                  2               2\ntop       WV                 No              No\nfreq     106               3010            2411"
          },
          "execution_count": 8,
          "metadata": {},
          "output_type": "execute_result"
        }
      ]
    },
    {
      "metadata": {
        "lang": "fr"
      },
      "cell_type": "markdown",
      "source": "Pour les caractéristiques catégorielles (type `objet`) et booléennes (type` bool`), nous pouvons utiliser la méthode `value_counts`. Jetons un coup d'oeil à la distribution de `Churn`:"
    },
    {
      "metadata": {
        "trusted": false
      },
      "cell_type": "code",
      "source": "df['Churn'].value_counts()",
      "execution_count": 9,
      "outputs": [
        {
          "data": {
            "text/plain": "0    2850\n1     483\nName: Churn, dtype: int64"
          },
          "execution_count": 9,
          "metadata": {},
          "output_type": "execute_result"
        }
      ]
    },
    {
      "metadata": {
        "lang": "fr"
      },
      "cell_type": "markdown",
      "source": "2850 utilisateurs sur 3333 sont *fidèles* clients; leur valeur `Churn` est 0. Pour calculer les pourcentages, passez ` normalize = True` à la fonction `value_counts`."
    },
    {
      "metadata": {
        "trusted": false
      },
      "cell_type": "code",
      "source": "df['Churn'].value_counts(normalize=True)",
      "execution_count": 10,
      "outputs": [
        {
          "data": {
            "text/plain": "0    0.86\n1    0.14\nName: Churn, dtype: float64"
          },
          "execution_count": 10,
          "metadata": {},
          "output_type": "execute_result"
        }
      ]
    },
    {
      "metadata": {
        "lang": "fr"
      },
      "cell_type": "markdown",
      "source": "### Tri\n\nUn `DataFrame` peut être trié selon la valeur de l’une des variables (colonnes). Par exemple, nous pouvons trier par *Total day charge*  \n(utilisez `ascending = False` pour trier par ordre décroissant):"
    },
    {
      "metadata": {
        "trusted": false
      },
      "cell_type": "code",
      "source": "df.sort_values(by='Total day charge', ascending=False).head()",
      "execution_count": 11,
      "outputs": [
        {
          "data": {
            "text/html": "<div>\n<style scoped>\n    .dataframe tbody tr th:only-of-type {\n        vertical-align: middle;\n    }\n\n    .dataframe tbody tr th {\n        vertical-align: top;\n    }\n\n    .dataframe thead th {\n        text-align: right;\n    }\n</style>\n<table border=\"1\" class=\"dataframe\">\n  <thead>\n    <tr style=\"text-align: right;\">\n      <th></th>\n      <th>State</th>\n      <th>Account length</th>\n      <th>Area code</th>\n      <th>International plan</th>\n      <th>Voice mail plan</th>\n      <th>Number vmail messages</th>\n      <th>Total day minutes</th>\n      <th>Total day calls</th>\n      <th>Total day charge</th>\n      <th>Total eve minutes</th>\n      <th>Total eve calls</th>\n      <th>Total eve charge</th>\n      <th>Total night minutes</th>\n      <th>Total night calls</th>\n      <th>Total night charge</th>\n      <th>Total intl minutes</th>\n      <th>Total intl calls</th>\n      <th>Total intl charge</th>\n      <th>Customer service calls</th>\n      <th>Churn</th>\n    </tr>\n  </thead>\n  <tbody>\n    <tr>\n      <th>365</th>\n      <td>CO</td>\n      <td>154</td>\n      <td>415</td>\n      <td>No</td>\n      <td>No</td>\n      <td>0</td>\n      <td>350.8</td>\n      <td>75</td>\n      <td>59.64</td>\n      <td>216.5</td>\n      <td>94</td>\n      <td>18.40</td>\n      <td>253.9</td>\n      <td>100</td>\n      <td>11.43</td>\n      <td>10.1</td>\n      <td>9</td>\n      <td>2.73</td>\n      <td>1</td>\n      <td>1</td>\n    </tr>\n    <tr>\n      <th>985</th>\n      <td>NY</td>\n      <td>64</td>\n      <td>415</td>\n      <td>Yes</td>\n      <td>No</td>\n      <td>0</td>\n      <td>346.8</td>\n      <td>55</td>\n      <td>58.96</td>\n      <td>249.5</td>\n      <td>79</td>\n      <td>21.21</td>\n      <td>275.4</td>\n      <td>102</td>\n      <td>12.39</td>\n      <td>13.3</td>\n      <td>9</td>\n      <td>3.59</td>\n      <td>1</td>\n      <td>1</td>\n    </tr>\n    <tr>\n      <th>2594</th>\n      <td>OH</td>\n      <td>115</td>\n      <td>510</td>\n      <td>Yes</td>\n      <td>No</td>\n      <td>0</td>\n      <td>345.3</td>\n      <td>81</td>\n      <td>58.70</td>\n      <td>203.4</td>\n      <td>106</td>\n      <td>17.29</td>\n      <td>217.5</td>\n      <td>107</td>\n      <td>9.79</td>\n      <td>11.8</td>\n      <td>8</td>\n      <td>3.19</td>\n      <td>1</td>\n      <td>1</td>\n    </tr>\n    <tr>\n      <th>156</th>\n      <td>OH</td>\n      <td>83</td>\n      <td>415</td>\n      <td>No</td>\n      <td>No</td>\n      <td>0</td>\n      <td>337.4</td>\n      <td>120</td>\n      <td>57.36</td>\n      <td>227.4</td>\n      <td>116</td>\n      <td>19.33</td>\n      <td>153.9</td>\n      <td>114</td>\n      <td>6.93</td>\n      <td>15.8</td>\n      <td>7</td>\n      <td>4.27</td>\n      <td>0</td>\n      <td>1</td>\n    </tr>\n    <tr>\n      <th>605</th>\n      <td>MO</td>\n      <td>112</td>\n      <td>415</td>\n      <td>No</td>\n      <td>No</td>\n      <td>0</td>\n      <td>335.5</td>\n      <td>77</td>\n      <td>57.04</td>\n      <td>212.5</td>\n      <td>109</td>\n      <td>18.06</td>\n      <td>265.0</td>\n      <td>132</td>\n      <td>11.93</td>\n      <td>12.7</td>\n      <td>8</td>\n      <td>3.43</td>\n      <td>2</td>\n      <td>1</td>\n    </tr>\n  </tbody>\n</table>\n</div>",
            "text/plain": "     State  Account length  Area code International plan Voice mail plan  \\\n365     CO             154        415                 No              No   \n985     NY              64        415                Yes              No   \n2594    OH             115        510                Yes              No   \n156     OH              83        415                 No              No   \n605     MO             112        415                 No              No   \n\n      Number vmail messages  Total day minutes  Total day calls  \\\n365                       0              350.8               75   \n985                       0              346.8               55   \n2594                      0              345.3               81   \n156                       0              337.4              120   \n605                       0              335.5               77   \n\n      Total day charge  Total eve minutes  Total eve calls  Total eve charge  \\\n365              59.64              216.5               94             18.40   \n985              58.96              249.5               79             21.21   \n2594             58.70              203.4              106             17.29   \n156              57.36              227.4              116             19.33   \n605              57.04              212.5              109             18.06   \n\n      Total night minutes  Total night calls  Total night charge  \\\n365                 253.9                100               11.43   \n985                 275.4                102               12.39   \n2594                217.5                107                9.79   \n156                 153.9                114                6.93   \n605                 265.0                132               11.93   \n\n      Total intl minutes  Total intl calls  Total intl charge  \\\n365                 10.1                 9               2.73   \n985                 13.3                 9               3.59   \n2594                11.8                 8               3.19   \n156                 15.8                 7               4.27   \n605                 12.7                 8               3.43   \n\n      Customer service calls  Churn  \n365                        1      1  \n985                        1      1  \n2594                       1      1  \n156                        0      1  \n605                        2      1  "
          },
          "execution_count": 11,
          "metadata": {},
          "output_type": "execute_result"
        }
      ]
    },
    {
      "metadata": {
        "lang": "fr"
      },
      "cell_type": "markdown",
      "source": "Nous pouvons également trier sur plusieurs colonnes:"
    },
    {
      "metadata": {
        "trusted": false
      },
      "cell_type": "code",
      "source": "df.sort_values(by=['Churn', 'Total day charge'], ascending=[True, False]).head()",
      "execution_count": 12,
      "outputs": [
        {
          "data": {
            "text/html": "<div>\n<style scoped>\n    .dataframe tbody tr th:only-of-type {\n        vertical-align: middle;\n    }\n\n    .dataframe tbody tr th {\n        vertical-align: top;\n    }\n\n    .dataframe thead th {\n        text-align: right;\n    }\n</style>\n<table border=\"1\" class=\"dataframe\">\n  <thead>\n    <tr style=\"text-align: right;\">\n      <th></th>\n      <th>State</th>\n      <th>Account length</th>\n      <th>Area code</th>\n      <th>International plan</th>\n      <th>Voice mail plan</th>\n      <th>Number vmail messages</th>\n      <th>Total day minutes</th>\n      <th>Total day calls</th>\n      <th>Total day charge</th>\n      <th>Total eve minutes</th>\n      <th>Total eve calls</th>\n      <th>Total eve charge</th>\n      <th>Total night minutes</th>\n      <th>Total night calls</th>\n      <th>Total night charge</th>\n      <th>Total intl minutes</th>\n      <th>Total intl calls</th>\n      <th>Total intl charge</th>\n      <th>Customer service calls</th>\n      <th>Churn</th>\n    </tr>\n  </thead>\n  <tbody>\n    <tr>\n      <th>688</th>\n      <td>MN</td>\n      <td>13</td>\n      <td>510</td>\n      <td>No</td>\n      <td>Yes</td>\n      <td>21</td>\n      <td>315.6</td>\n      <td>105</td>\n      <td>53.65</td>\n      <td>208.9</td>\n      <td>71</td>\n      <td>17.76</td>\n      <td>260.1</td>\n      <td>123</td>\n      <td>11.70</td>\n      <td>12.1</td>\n      <td>3</td>\n      <td>3.27</td>\n      <td>3</td>\n      <td>0</td>\n    </tr>\n    <tr>\n      <th>2259</th>\n      <td>NC</td>\n      <td>210</td>\n      <td>415</td>\n      <td>No</td>\n      <td>Yes</td>\n      <td>31</td>\n      <td>313.8</td>\n      <td>87</td>\n      <td>53.35</td>\n      <td>147.7</td>\n      <td>103</td>\n      <td>12.55</td>\n      <td>192.7</td>\n      <td>97</td>\n      <td>8.67</td>\n      <td>10.1</td>\n      <td>7</td>\n      <td>2.73</td>\n      <td>3</td>\n      <td>0</td>\n    </tr>\n    <tr>\n      <th>534</th>\n      <td>LA</td>\n      <td>67</td>\n      <td>510</td>\n      <td>No</td>\n      <td>No</td>\n      <td>0</td>\n      <td>310.4</td>\n      <td>97</td>\n      <td>52.77</td>\n      <td>66.5</td>\n      <td>123</td>\n      <td>5.65</td>\n      <td>246.5</td>\n      <td>99</td>\n      <td>11.09</td>\n      <td>9.2</td>\n      <td>10</td>\n      <td>2.48</td>\n      <td>4</td>\n      <td>0</td>\n    </tr>\n    <tr>\n      <th>575</th>\n      <td>SD</td>\n      <td>114</td>\n      <td>415</td>\n      <td>No</td>\n      <td>Yes</td>\n      <td>36</td>\n      <td>309.9</td>\n      <td>90</td>\n      <td>52.68</td>\n      <td>200.3</td>\n      <td>89</td>\n      <td>17.03</td>\n      <td>183.5</td>\n      <td>105</td>\n      <td>8.26</td>\n      <td>14.2</td>\n      <td>2</td>\n      <td>3.83</td>\n      <td>1</td>\n      <td>0</td>\n    </tr>\n    <tr>\n      <th>2858</th>\n      <td>AL</td>\n      <td>141</td>\n      <td>510</td>\n      <td>No</td>\n      <td>Yes</td>\n      <td>28</td>\n      <td>308.0</td>\n      <td>123</td>\n      <td>52.36</td>\n      <td>247.8</td>\n      <td>128</td>\n      <td>21.06</td>\n      <td>152.9</td>\n      <td>103</td>\n      <td>6.88</td>\n      <td>7.4</td>\n      <td>3</td>\n      <td>2.00</td>\n      <td>1</td>\n      <td>0</td>\n    </tr>\n  </tbody>\n</table>\n</div>",
            "text/plain": "     State  Account length  Area code International plan Voice mail plan  \\\n688     MN              13        510                 No             Yes   \n2259    NC             210        415                 No             Yes   \n534     LA              67        510                 No              No   \n575     SD             114        415                 No             Yes   \n2858    AL             141        510                 No             Yes   \n\n      Number vmail messages  Total day minutes  Total day calls  \\\n688                      21              315.6              105   \n2259                     31              313.8               87   \n534                       0              310.4               97   \n575                      36              309.9               90   \n2858                     28              308.0              123   \n\n      Total day charge  Total eve minutes  Total eve calls  Total eve charge  \\\n688              53.65              208.9               71             17.76   \n2259             53.35              147.7              103             12.55   \n534              52.77               66.5              123              5.65   \n575              52.68              200.3               89             17.03   \n2858             52.36              247.8              128             21.06   \n\n      Total night minutes  Total night calls  Total night charge  \\\n688                 260.1                123               11.70   \n2259                192.7                 97                8.67   \n534                 246.5                 99               11.09   \n575                 183.5                105                8.26   \n2858                152.9                103                6.88   \n\n      Total intl minutes  Total intl calls  Total intl charge  \\\n688                 12.1                 3               3.27   \n2259                10.1                 7               2.73   \n534                  9.2                10               2.48   \n575                 14.2                 2               3.83   \n2858                 7.4                 3               2.00   \n\n      Customer service calls  Churn  \n688                        3      0  \n2259                       3      0  \n534                        4      0  \n575                        1      0  \n2858                       1      0  "
          },
          "execution_count": 12,
          "metadata": {},
          "output_type": "execute_result"
        }
      ]
    },
    {
      "metadata": {
        "lang": "fr"
      },
      "cell_type": "markdown",
      "source": "### Indexation et récupération de données\n\nUn `DataFrame` peut être indexé de différentes manières.\n\nPour obtenir une seule colonne, vous pouvez saisir : `DataFrame['NomDeColonne'] `. Que nous utilisons pour répondre à une question à propos de cette colonne uniquement: **quelle est la proportion d'utilisateurs qui se sont désabonnés dans notre base de données?**"
    },
    {
      "metadata": {
        "trusted": false
      },
      "cell_type": "code",
      "source": "df['Churn'].mean()",
      "execution_count": 13,
      "outputs": [
        {
          "data": {
            "text/plain": "0.14491449144914492"
          },
          "execution_count": 13,
          "metadata": {},
          "output_type": "execute_result"
        }
      ]
    },
    {
      "metadata": {
        "lang": "fr"
      },
      "cell_type": "markdown",
      "source": "14,5% est en fait assez mauvais pour une entreprise; un tel taux de désabonnement peut entraîner la faillite de l'entreprise.\n\n**L'indexation booléenne** avec une colonne est également très pratique. La syntaxe est `df[P(df['Nom']]]`, où `P` est une condition logique vérifiée pour chaque élément de la colonne ` NomDeColonne`. Le résultat de cette indexation est le `DataFrame` composé uniquement de lignes satisfaisant la condition ` P` de la colonne `NomDeColonne`.\n\nExemple d'utlisation pour répondre à la question:\n\n**Quelles sont les valeurs moyennes des caractéristiques numériques pour les utilisateurs désabonnés, c'est-à-dire qui ont un Churn égal à 1 ?**"
    },
    {
      "metadata": {
        "trusted": false
      },
      "cell_type": "code",
      "source": "df[df['Churn'] == 1].mean()",
      "execution_count": 14,
      "outputs": [
        {
          "data": {
            "text/plain": "Account length            102.66\nArea code                 437.82\nNumber vmail messages       5.12\nTotal day minutes         206.91\nTotal day calls           101.34\nTotal day charge           35.18\nTotal eve minutes         212.41\nTotal eve calls           100.56\nTotal eve charge           18.05\nTotal night minutes       205.23\nTotal night calls         100.40\nTotal night charge          9.24\nTotal intl minutes         10.70\nTotal intl calls            4.16\nTotal intl charge           2.89\nCustomer service calls      2.23\nChurn                       1.00\ndtype: float64"
          },
          "execution_count": 14,
          "metadata": {},
          "output_type": "execute_result"
        }
      ]
    },
    {
      "metadata": {
        "lang": "fr"
      },
      "cell_type": "markdown",
      "source": "**Combien de temps (en moyenne) les utilisateurs désabonnés passent-ils au téléphone pendant la journée?**"
    },
    {
      "metadata": {
        "trusted": false
      },
      "cell_type": "code",
      "source": "df[df['Churn'] == 1]['Total day minutes'].mean()",
      "execution_count": 15,
      "outputs": [
        {
          "data": {
            "text/plain": "206.91407867494814"
          },
          "execution_count": 15,
          "metadata": {},
          "output_type": "execute_result"
        }
      ]
    },
    {
      "metadata": {
        "lang": "fr"
      },
      "cell_type": "markdown",
      "source": "**Quelle est la durée maximale des appels internationaux parmi les clients fidèles (`Churn == 0`) n'ayant pas de forfait international?**"
    },
    {
      "metadata": {
        "trusted": false
      },
      "cell_type": "code",
      "source": "df[(df['Churn'] == 0) & (df['International plan'] == 'No')]['Total intl minutes'].max()",
      "execution_count": 16,
      "outputs": [
        {
          "data": {
            "text/plain": "18.9"
          },
          "execution_count": 16,
          "metadata": {},
          "output_type": "execute_result"
        }
      ]
    },
    {
      "metadata": {
        "lang": "fr"
      },
      "cell_type": "markdown",
      "source": "Les DataFrames peuvent être indexés par nom de colonne (étiquette) ou nom de ligne (index) ou par le numéro de série (indice) d'une ligne. La méthode `loc` est utilisée pour **l'indexation par nom**, tandis que` iloc() `est utilisée pour **l'indexation par numéro**.\n\nDans le premier cas ci-dessous, nous *\"récupérons les valeurs des lignes d'index de 0 à 5 (inclus) et des colonnes étiquetées de  State à Area code (inclus)\"*.  \nDans le second cas, nous *\"récupérons les valeurs des cinq premières lignes des trois premières colonnes\"* (comme dans un slicing avec Python : la valeur maximale n'est pas incluse)."
    },
    {
      "metadata": {
        "trusted": false
      },
      "cell_type": "code",
      "source": "df.loc[0:5, 'State':'Area code']",
      "execution_count": 17,
      "outputs": [
        {
          "data": {
            "text/html": "<div>\n<style scoped>\n    .dataframe tbody tr th:only-of-type {\n        vertical-align: middle;\n    }\n\n    .dataframe tbody tr th {\n        vertical-align: top;\n    }\n\n    .dataframe thead th {\n        text-align: right;\n    }\n</style>\n<table border=\"1\" class=\"dataframe\">\n  <thead>\n    <tr style=\"text-align: right;\">\n      <th></th>\n      <th>State</th>\n      <th>Account length</th>\n      <th>Area code</th>\n    </tr>\n  </thead>\n  <tbody>\n    <tr>\n      <th>0</th>\n      <td>KS</td>\n      <td>128</td>\n      <td>415</td>\n    </tr>\n    <tr>\n      <th>1</th>\n      <td>OH</td>\n      <td>107</td>\n      <td>415</td>\n    </tr>\n    <tr>\n      <th>2</th>\n      <td>NJ</td>\n      <td>137</td>\n      <td>415</td>\n    </tr>\n    <tr>\n      <th>3</th>\n      <td>OH</td>\n      <td>84</td>\n      <td>408</td>\n    </tr>\n    <tr>\n      <th>4</th>\n      <td>OK</td>\n      <td>75</td>\n      <td>415</td>\n    </tr>\n    <tr>\n      <th>5</th>\n      <td>AL</td>\n      <td>118</td>\n      <td>510</td>\n    </tr>\n  </tbody>\n</table>\n</div>",
            "text/plain": "  State  Account length  Area code\n0    KS             128        415\n1    OH             107        415\n2    NJ             137        415\n3    OH              84        408\n4    OK              75        415\n5    AL             118        510"
          },
          "execution_count": 17,
          "metadata": {},
          "output_type": "execute_result"
        }
      ]
    },
    {
      "metadata": {
        "trusted": false
      },
      "cell_type": "code",
      "source": "df.iloc[0:5, 0:3]",
      "execution_count": 18,
      "outputs": [
        {
          "data": {
            "text/html": "<div>\n<style scoped>\n    .dataframe tbody tr th:only-of-type {\n        vertical-align: middle;\n    }\n\n    .dataframe tbody tr th {\n        vertical-align: top;\n    }\n\n    .dataframe thead th {\n        text-align: right;\n    }\n</style>\n<table border=\"1\" class=\"dataframe\">\n  <thead>\n    <tr style=\"text-align: right;\">\n      <th></th>\n      <th>State</th>\n      <th>Account length</th>\n      <th>Area code</th>\n    </tr>\n  </thead>\n  <tbody>\n    <tr>\n      <th>0</th>\n      <td>KS</td>\n      <td>128</td>\n      <td>415</td>\n    </tr>\n    <tr>\n      <th>1</th>\n      <td>OH</td>\n      <td>107</td>\n      <td>415</td>\n    </tr>\n    <tr>\n      <th>2</th>\n      <td>NJ</td>\n      <td>137</td>\n      <td>415</td>\n    </tr>\n    <tr>\n      <th>3</th>\n      <td>OH</td>\n      <td>84</td>\n      <td>408</td>\n    </tr>\n    <tr>\n      <th>4</th>\n      <td>OK</td>\n      <td>75</td>\n      <td>415</td>\n    </tr>\n  </tbody>\n</table>\n</div>",
            "text/plain": "  State  Account length  Area code\n0    KS             128        415\n1    OH             107        415\n2    NJ             137        415\n3    OH              84        408\n4    OK              75        415"
          },
          "execution_count": 18,
          "metadata": {},
          "output_type": "execute_result"
        }
      ]
    },
    {
      "metadata": {
        "lang": "fr"
      },
      "cell_type": "markdown",
      "source": "Si nous avons besoin de la première ou de la dernière ligne du dataframe, nous pouvons utiliser la syntaxe : `df[:1]` ou `df[-1:]`:"
    },
    {
      "metadata": {
        "trusted": false
      },
      "cell_type": "code",
      "source": "df[-1:]",
      "execution_count": 19,
      "outputs": [
        {
          "data": {
            "text/html": "<div>\n<style scoped>\n    .dataframe tbody tr th:only-of-type {\n        vertical-align: middle;\n    }\n\n    .dataframe tbody tr th {\n        vertical-align: top;\n    }\n\n    .dataframe thead th {\n        text-align: right;\n    }\n</style>\n<table border=\"1\" class=\"dataframe\">\n  <thead>\n    <tr style=\"text-align: right;\">\n      <th></th>\n      <th>State</th>\n      <th>Account length</th>\n      <th>Area code</th>\n      <th>International plan</th>\n      <th>Voice mail plan</th>\n      <th>Number vmail messages</th>\n      <th>Total day minutes</th>\n      <th>Total day calls</th>\n      <th>Total day charge</th>\n      <th>Total eve minutes</th>\n      <th>Total eve calls</th>\n      <th>Total eve charge</th>\n      <th>Total night minutes</th>\n      <th>Total night calls</th>\n      <th>Total night charge</th>\n      <th>Total intl minutes</th>\n      <th>Total intl calls</th>\n      <th>Total intl charge</th>\n      <th>Customer service calls</th>\n      <th>Churn</th>\n    </tr>\n  </thead>\n  <tbody>\n    <tr>\n      <th>3332</th>\n      <td>TN</td>\n      <td>74</td>\n      <td>415</td>\n      <td>No</td>\n      <td>Yes</td>\n      <td>25</td>\n      <td>234.4</td>\n      <td>113</td>\n      <td>39.85</td>\n      <td>265.9</td>\n      <td>82</td>\n      <td>22.6</td>\n      <td>241.4</td>\n      <td>77</td>\n      <td>10.86</td>\n      <td>13.7</td>\n      <td>4</td>\n      <td>3.7</td>\n      <td>0</td>\n      <td>0</td>\n    </tr>\n  </tbody>\n</table>\n</div>",
            "text/plain": "     State  Account length  Area code International plan Voice mail plan  \\\n3332    TN              74        415                 No             Yes   \n\n      Number vmail messages  Total day minutes  Total day calls  \\\n3332                     25              234.4              113   \n\n      Total day charge  Total eve minutes  Total eve calls  Total eve charge  \\\n3332             39.85              265.9               82              22.6   \n\n      Total night minutes  Total night calls  Total night charge  \\\n3332                241.4                 77               10.86   \n\n      Total intl minutes  Total intl calls  Total intl charge  \\\n3332                13.7                 4                3.7   \n\n      Customer service calls  Churn  \n3332                       0      0  "
          },
          "execution_count": 19,
          "metadata": {},
          "output_type": "execute_result"
        }
      ]
    },
    {
      "metadata": {
        "lang": "fr"
      },
      "cell_type": "markdown",
      "source": "### Application de fonctions à des cellules, des colonnes et des lignes\n\n**Pour appliquer des fonctions à chaque colonne, utilisez `apply ()`:**"
    },
    {
      "metadata": {
        "trusted": false
      },
      "cell_type": "code",
      "source": "df.apply(np.max) ",
      "execution_count": 20,
      "outputs": [
        {
          "data": {
            "text/plain": "State                          WY\nAccount length                243\nArea code                     510\nInternational plan            Yes\nVoice mail plan               Yes\nNumber vmail messages          51\nTotal day minutes         3.5e+02\nTotal day calls               165\nTotal day charge               60\nTotal eve minutes         3.6e+02\nTotal eve calls               170\nTotal eve charge               31\nTotal night minutes         4e+02\nTotal night calls             175\nTotal night charge             18\nTotal intl minutes             20\nTotal intl calls               20\nTotal intl charge             5.4\nCustomer service calls          9\nChurn                           1\ndtype: object"
          },
          "execution_count": 20,
          "metadata": {},
          "output_type": "execute_result"
        }
      ]
    },
    {
      "metadata": {
        "lang": "fr"
      },
      "cell_type": "markdown",
      "source": "La méthode `apply` peut également être utilisée pour appliquer une fonction à chaque ligne. Pour ce faire, spécifiez `axis = 1`. Les fonctions Lambda sont très pratiques dans de tels scénarios. Par exemple, si nous devons sélectionner tous les _state_ commençant par 'W', nous pouvons le faire comme suit:"
    },
    {
      "metadata": {
        "trusted": false
      },
      "cell_type": "code",
      "source": "df[df['State'].apply(lambda state: state[0] == 'W', axis=1)].head()",
      "execution_count": 21,
      "outputs": [
        {
          "data": {
            "text/html": "<div>\n<style scoped>\n    .dataframe tbody tr th:only-of-type {\n        vertical-align: middle;\n    }\n\n    .dataframe tbody tr th {\n        vertical-align: top;\n    }\n\n    .dataframe thead th {\n        text-align: right;\n    }\n</style>\n<table border=\"1\" class=\"dataframe\">\n  <thead>\n    <tr style=\"text-align: right;\">\n      <th></th>\n      <th>State</th>\n      <th>Account length</th>\n      <th>Area code</th>\n      <th>International plan</th>\n      <th>Voice mail plan</th>\n      <th>Number vmail messages</th>\n      <th>Total day minutes</th>\n      <th>Total day calls</th>\n      <th>Total day charge</th>\n      <th>Total eve minutes</th>\n      <th>Total eve calls</th>\n      <th>Total eve charge</th>\n      <th>Total night minutes</th>\n      <th>Total night calls</th>\n      <th>Total night charge</th>\n      <th>Total intl minutes</th>\n      <th>Total intl calls</th>\n      <th>Total intl charge</th>\n      <th>Customer service calls</th>\n      <th>Churn</th>\n    </tr>\n  </thead>\n  <tbody>\n    <tr>\n      <th>9</th>\n      <td>WV</td>\n      <td>141</td>\n      <td>415</td>\n      <td>Yes</td>\n      <td>Yes</td>\n      <td>37</td>\n      <td>258.6</td>\n      <td>84</td>\n      <td>43.96</td>\n      <td>222.0</td>\n      <td>111</td>\n      <td>18.87</td>\n      <td>326.4</td>\n      <td>97</td>\n      <td>14.69</td>\n      <td>11.2</td>\n      <td>5</td>\n      <td>3.02</td>\n      <td>0</td>\n      <td>0</td>\n    </tr>\n    <tr>\n      <th>26</th>\n      <td>WY</td>\n      <td>57</td>\n      <td>408</td>\n      <td>No</td>\n      <td>Yes</td>\n      <td>39</td>\n      <td>213.0</td>\n      <td>115</td>\n      <td>36.21</td>\n      <td>191.1</td>\n      <td>112</td>\n      <td>16.24</td>\n      <td>182.7</td>\n      <td>115</td>\n      <td>8.22</td>\n      <td>9.5</td>\n      <td>3</td>\n      <td>2.57</td>\n      <td>0</td>\n      <td>0</td>\n    </tr>\n    <tr>\n      <th>44</th>\n      <td>WI</td>\n      <td>64</td>\n      <td>510</td>\n      <td>No</td>\n      <td>No</td>\n      <td>0</td>\n      <td>154.0</td>\n      <td>67</td>\n      <td>26.18</td>\n      <td>225.8</td>\n      <td>118</td>\n      <td>19.19</td>\n      <td>265.3</td>\n      <td>86</td>\n      <td>11.94</td>\n      <td>3.5</td>\n      <td>3</td>\n      <td>0.95</td>\n      <td>1</td>\n      <td>0</td>\n    </tr>\n    <tr>\n      <th>49</th>\n      <td>WY</td>\n      <td>97</td>\n      <td>415</td>\n      <td>No</td>\n      <td>Yes</td>\n      <td>24</td>\n      <td>133.2</td>\n      <td>135</td>\n      <td>22.64</td>\n      <td>217.2</td>\n      <td>58</td>\n      <td>18.46</td>\n      <td>70.6</td>\n      <td>79</td>\n      <td>3.18</td>\n      <td>11.0</td>\n      <td>3</td>\n      <td>2.97</td>\n      <td>1</td>\n      <td>0</td>\n    </tr>\n    <tr>\n      <th>54</th>\n      <td>WY</td>\n      <td>87</td>\n      <td>415</td>\n      <td>No</td>\n      <td>No</td>\n      <td>0</td>\n      <td>151.0</td>\n      <td>83</td>\n      <td>25.67</td>\n      <td>219.7</td>\n      <td>116</td>\n      <td>18.67</td>\n      <td>203.9</td>\n      <td>127</td>\n      <td>9.18</td>\n      <td>9.7</td>\n      <td>3</td>\n      <td>2.62</td>\n      <td>5</td>\n      <td>1</td>\n    </tr>\n  </tbody>\n</table>\n</div>",
            "text/plain": "   State  Account length  Area code International plan Voice mail plan  \\\n9     WV             141        415                Yes             Yes   \n26    WY              57        408                 No             Yes   \n44    WI              64        510                 No              No   \n49    WY              97        415                 No             Yes   \n54    WY              87        415                 No              No   \n\n    Number vmail messages  Total day minutes  Total day calls  \\\n9                      37              258.6               84   \n26                     39              213.0              115   \n44                      0              154.0               67   \n49                     24              133.2              135   \n54                      0              151.0               83   \n\n    Total day charge  Total eve minutes  Total eve calls  Total eve charge  \\\n9              43.96              222.0              111             18.87   \n26             36.21              191.1              112             16.24   \n44             26.18              225.8              118             19.19   \n49             22.64              217.2               58             18.46   \n54             25.67              219.7              116             18.67   \n\n    Total night minutes  Total night calls  Total night charge  \\\n9                 326.4                 97               14.69   \n26                182.7                115                8.22   \n44                265.3                 86               11.94   \n49                 70.6                 79                3.18   \n54                203.9                127                9.18   \n\n    Total intl minutes  Total intl calls  Total intl charge  \\\n9                 11.2                 5               3.02   \n26                 9.5                 3               2.57   \n44                 3.5                 3               0.95   \n49                11.0                 3               2.97   \n54                 9.7                 3               2.62   \n\n    Customer service calls  Churn  \n9                        0      0  \n26                       0      0  \n44                       1      0  \n49                       1      0  \n54                       5      1  "
          },
          "execution_count": 21,
          "metadata": {},
          "output_type": "execute_result"
        }
      ]
    },
    {
      "metadata": {
        "lang": "fr"
      },
      "cell_type": "markdown",
      "source": "La méthode `map` peut être utilisée pour **remplacer des valeurs dans une colonne** en transmettant un dictionnaire de la forme` {ancienne_valeur: nouvelle_valeur} `comme argument:"
    },
    {
      "metadata": {
        "trusted": false
      },
      "cell_type": "code",
      "source": "d = {'No' : False, 'Yes' : True}\ndf['International plan'] = df['International plan'].map(d)\ndf.head()",
      "execution_count": 22,
      "outputs": [
        {
          "data": {
            "text/html": "<div>\n<style scoped>\n    .dataframe tbody tr th:only-of-type {\n        vertical-align: middle;\n    }\n\n    .dataframe tbody tr th {\n        vertical-align: top;\n    }\n\n    .dataframe thead th {\n        text-align: right;\n    }\n</style>\n<table border=\"1\" class=\"dataframe\">\n  <thead>\n    <tr style=\"text-align: right;\">\n      <th></th>\n      <th>State</th>\n      <th>Account length</th>\n      <th>Area code</th>\n      <th>International plan</th>\n      <th>Voice mail plan</th>\n      <th>Number vmail messages</th>\n      <th>Total day minutes</th>\n      <th>Total day calls</th>\n      <th>Total day charge</th>\n      <th>Total eve minutes</th>\n      <th>Total eve calls</th>\n      <th>Total eve charge</th>\n      <th>Total night minutes</th>\n      <th>Total night calls</th>\n      <th>Total night charge</th>\n      <th>Total intl minutes</th>\n      <th>Total intl calls</th>\n      <th>Total intl charge</th>\n      <th>Customer service calls</th>\n      <th>Churn</th>\n    </tr>\n  </thead>\n  <tbody>\n    <tr>\n      <th>0</th>\n      <td>KS</td>\n      <td>128</td>\n      <td>415</td>\n      <td>False</td>\n      <td>Yes</td>\n      <td>25</td>\n      <td>265.1</td>\n      <td>110</td>\n      <td>45.07</td>\n      <td>197.4</td>\n      <td>99</td>\n      <td>16.78</td>\n      <td>244.7</td>\n      <td>91</td>\n      <td>11.01</td>\n      <td>10.0</td>\n      <td>3</td>\n      <td>2.70</td>\n      <td>1</td>\n      <td>0</td>\n    </tr>\n    <tr>\n      <th>1</th>\n      <td>OH</td>\n      <td>107</td>\n      <td>415</td>\n      <td>False</td>\n      <td>Yes</td>\n      <td>26</td>\n      <td>161.6</td>\n      <td>123</td>\n      <td>27.47</td>\n      <td>195.5</td>\n      <td>103</td>\n      <td>16.62</td>\n      <td>254.4</td>\n      <td>103</td>\n      <td>11.45</td>\n      <td>13.7</td>\n      <td>3</td>\n      <td>3.70</td>\n      <td>1</td>\n      <td>0</td>\n    </tr>\n    <tr>\n      <th>2</th>\n      <td>NJ</td>\n      <td>137</td>\n      <td>415</td>\n      <td>False</td>\n      <td>No</td>\n      <td>0</td>\n      <td>243.4</td>\n      <td>114</td>\n      <td>41.38</td>\n      <td>121.2</td>\n      <td>110</td>\n      <td>10.30</td>\n      <td>162.6</td>\n      <td>104</td>\n      <td>7.32</td>\n      <td>12.2</td>\n      <td>5</td>\n      <td>3.29</td>\n      <td>0</td>\n      <td>0</td>\n    </tr>\n    <tr>\n      <th>3</th>\n      <td>OH</td>\n      <td>84</td>\n      <td>408</td>\n      <td>True</td>\n      <td>No</td>\n      <td>0</td>\n      <td>299.4</td>\n      <td>71</td>\n      <td>50.90</td>\n      <td>61.9</td>\n      <td>88</td>\n      <td>5.26</td>\n      <td>196.9</td>\n      <td>89</td>\n      <td>8.86</td>\n      <td>6.6</td>\n      <td>7</td>\n      <td>1.78</td>\n      <td>2</td>\n      <td>0</td>\n    </tr>\n    <tr>\n      <th>4</th>\n      <td>OK</td>\n      <td>75</td>\n      <td>415</td>\n      <td>True</td>\n      <td>No</td>\n      <td>0</td>\n      <td>166.7</td>\n      <td>113</td>\n      <td>28.34</td>\n      <td>148.3</td>\n      <td>122</td>\n      <td>12.61</td>\n      <td>186.9</td>\n      <td>121</td>\n      <td>8.41</td>\n      <td>10.1</td>\n      <td>3</td>\n      <td>2.73</td>\n      <td>3</td>\n      <td>0</td>\n    </tr>\n  </tbody>\n</table>\n</div>",
            "text/plain": "  State  Account length  Area code  International plan Voice mail plan  \\\n0    KS             128        415               False             Yes   \n1    OH             107        415               False             Yes   \n2    NJ             137        415               False              No   \n3    OH              84        408                True              No   \n4    OK              75        415                True              No   \n\n   Number vmail messages  Total day minutes  Total day calls  \\\n0                     25              265.1              110   \n1                     26              161.6              123   \n2                      0              243.4              114   \n3                      0              299.4               71   \n4                      0              166.7              113   \n\n   Total day charge  Total eve minutes  Total eve calls  Total eve charge  \\\n0             45.07              197.4               99             16.78   \n1             27.47              195.5              103             16.62   \n2             41.38              121.2              110             10.30   \n3             50.90               61.9               88              5.26   \n4             28.34              148.3              122             12.61   \n\n   Total night minutes  Total night calls  Total night charge  \\\n0                244.7                 91               11.01   \n1                254.4                103               11.45   \n2                162.6                104                7.32   \n3                196.9                 89                8.86   \n4                186.9                121                8.41   \n\n   Total intl minutes  Total intl calls  Total intl charge  \\\n0                10.0                 3               2.70   \n1                13.7                 3               3.70   \n2                12.2                 5               3.29   \n3                 6.6                 7               1.78   \n4                10.1                 3               2.73   \n\n   Customer service calls  Churn  \n0                       1      0  \n1                       1      0  \n2                       0      0  \n3                       2      0  \n4                       3      0  "
          },
          "execution_count": 22,
          "metadata": {},
          "output_type": "execute_result"
        }
      ]
    },
    {
      "metadata": {
        "lang": "fr"
      },
      "cell_type": "markdown",
      "source": "Presque la même chose peut être faite avec la méthode `replace`.\n\n<details>\n<summary>Différence dans le traitement des valeurs absentes dans le dictionnaire de mappage</summary>\n<p>\nIl y a une petite différence.  \nLa méthode `replace` ne fera rien avec des valeurs qui ne se trouvent pas dans le dictionnaire de mappage,  \nalors que `map` les changera en `NaN`).  \n<br>    \n    \n```python\na_series = pd.Series(['a', 'b', 'c'])\na_series.replace({'a': 1, 'b': 1}) # 1, 2, c\na_series.map({'a': 1, 'b': 2}) # 1, 2, NaN\n```\n</p>\n</details>"
    },
    {
      "metadata": {
        "trusted": false
      },
      "cell_type": "code",
      "source": "df = df.replace({'Voice mail plan': d})\ndf.head()",
      "execution_count": 23,
      "outputs": [
        {
          "data": {
            "text/html": "<div>\n<style scoped>\n    .dataframe tbody tr th:only-of-type {\n        vertical-align: middle;\n    }\n\n    .dataframe tbody tr th {\n        vertical-align: top;\n    }\n\n    .dataframe thead th {\n        text-align: right;\n    }\n</style>\n<table border=\"1\" class=\"dataframe\">\n  <thead>\n    <tr style=\"text-align: right;\">\n      <th></th>\n      <th>State</th>\n      <th>Account length</th>\n      <th>Area code</th>\n      <th>International plan</th>\n      <th>Voice mail plan</th>\n      <th>Number vmail messages</th>\n      <th>Total day minutes</th>\n      <th>Total day calls</th>\n      <th>Total day charge</th>\n      <th>Total eve minutes</th>\n      <th>Total eve calls</th>\n      <th>Total eve charge</th>\n      <th>Total night minutes</th>\n      <th>Total night calls</th>\n      <th>Total night charge</th>\n      <th>Total intl minutes</th>\n      <th>Total intl calls</th>\n      <th>Total intl charge</th>\n      <th>Customer service calls</th>\n      <th>Churn</th>\n    </tr>\n  </thead>\n  <tbody>\n    <tr>\n      <th>0</th>\n      <td>KS</td>\n      <td>128</td>\n      <td>415</td>\n      <td>False</td>\n      <td>True</td>\n      <td>25</td>\n      <td>265.1</td>\n      <td>110</td>\n      <td>45.07</td>\n      <td>197.4</td>\n      <td>99</td>\n      <td>16.78</td>\n      <td>244.7</td>\n      <td>91</td>\n      <td>11.01</td>\n      <td>10.0</td>\n      <td>3</td>\n      <td>2.70</td>\n      <td>1</td>\n      <td>0</td>\n    </tr>\n    <tr>\n      <th>1</th>\n      <td>OH</td>\n      <td>107</td>\n      <td>415</td>\n      <td>False</td>\n      <td>True</td>\n      <td>26</td>\n      <td>161.6</td>\n      <td>123</td>\n      <td>27.47</td>\n      <td>195.5</td>\n      <td>103</td>\n      <td>16.62</td>\n      <td>254.4</td>\n      <td>103</td>\n      <td>11.45</td>\n      <td>13.7</td>\n      <td>3</td>\n      <td>3.70</td>\n      <td>1</td>\n      <td>0</td>\n    </tr>\n    <tr>\n      <th>2</th>\n      <td>NJ</td>\n      <td>137</td>\n      <td>415</td>\n      <td>False</td>\n      <td>False</td>\n      <td>0</td>\n      <td>243.4</td>\n      <td>114</td>\n      <td>41.38</td>\n      <td>121.2</td>\n      <td>110</td>\n      <td>10.30</td>\n      <td>162.6</td>\n      <td>104</td>\n      <td>7.32</td>\n      <td>12.2</td>\n      <td>5</td>\n      <td>3.29</td>\n      <td>0</td>\n      <td>0</td>\n    </tr>\n    <tr>\n      <th>3</th>\n      <td>OH</td>\n      <td>84</td>\n      <td>408</td>\n      <td>True</td>\n      <td>False</td>\n      <td>0</td>\n      <td>299.4</td>\n      <td>71</td>\n      <td>50.90</td>\n      <td>61.9</td>\n      <td>88</td>\n      <td>5.26</td>\n      <td>196.9</td>\n      <td>89</td>\n      <td>8.86</td>\n      <td>6.6</td>\n      <td>7</td>\n      <td>1.78</td>\n      <td>2</td>\n      <td>0</td>\n    </tr>\n    <tr>\n      <th>4</th>\n      <td>OK</td>\n      <td>75</td>\n      <td>415</td>\n      <td>True</td>\n      <td>False</td>\n      <td>0</td>\n      <td>166.7</td>\n      <td>113</td>\n      <td>28.34</td>\n      <td>148.3</td>\n      <td>122</td>\n      <td>12.61</td>\n      <td>186.9</td>\n      <td>121</td>\n      <td>8.41</td>\n      <td>10.1</td>\n      <td>3</td>\n      <td>2.73</td>\n      <td>3</td>\n      <td>0</td>\n    </tr>\n  </tbody>\n</table>\n</div>",
            "text/plain": "  State  Account length  Area code  International plan  Voice mail plan  \\\n0    KS             128        415               False             True   \n1    OH             107        415               False             True   \n2    NJ             137        415               False            False   \n3    OH              84        408                True            False   \n4    OK              75        415                True            False   \n\n   Number vmail messages  Total day minutes  Total day calls  \\\n0                     25              265.1              110   \n1                     26              161.6              123   \n2                      0              243.4              114   \n3                      0              299.4               71   \n4                      0              166.7              113   \n\n   Total day charge  Total eve minutes  Total eve calls  Total eve charge  \\\n0             45.07              197.4               99             16.78   \n1             27.47              195.5              103             16.62   \n2             41.38              121.2              110             10.30   \n3             50.90               61.9               88              5.26   \n4             28.34              148.3              122             12.61   \n\n   Total night minutes  Total night calls  Total night charge  \\\n0                244.7                 91               11.01   \n1                254.4                103               11.45   \n2                162.6                104                7.32   \n3                196.9                 89                8.86   \n4                186.9                121                8.41   \n\n   Total intl minutes  Total intl calls  Total intl charge  \\\n0                10.0                 3               2.70   \n1                13.7                 3               3.70   \n2                12.2                 5               3.29   \n3                 6.6                 7               1.78   \n4                10.1                 3               2.73   \n\n   Customer service calls  Churn  \n0                       1      0  \n1                       1      0  \n2                       0      0  \n3                       2      0  \n4                       3      0  "
          },
          "execution_count": 23,
          "metadata": {},
          "output_type": "execute_result"
        }
      ]
    },
    {
      "metadata": {
        "lang": "fr"
      },
      "cell_type": "markdown",
      "source": "### Agrégation de données\n\nEn général, le regroupement des données dans Pandas fonctionne comme suit :"
    },
    {
      "metadata": {},
      "cell_type": "markdown",
      "source": "\n```python\ndf.groupby(by=grouping_columns)[columns_to_show].function()\n```"
    },
    {
      "metadata": {
        "lang": "fr"
      },
      "cell_type": "markdown",
      "source": "1. Premièrement, la méthode `groupby` divise les colonnes`grouping_columns` par leurs valeurs. Ils deviennent un nouvel index dans le dataframe qui en  résulte.\n2. Ensuite, les colonnes choisies sont sélectionnées (`columns_to_show`). Si `columns_to_show` n'est pas inclus, toutes les clauses non groupby seront incluses.\n3. Enfin, une ou plusieurs fonctions sont appliquées aux groupes obtenus par colonnes sélectionnées.\n\nVoici un exemple où nous regroupons les données en fonction des valeurs de la variable `Churn` et affichons les statistiques de trois colonnes dans chaque groupe :"
    },
    {
      "metadata": {
        "trusted": false
      },
      "cell_type": "code",
      "source": "columns_to_show = ['Total day minutes', \n                   'Total eve minutes', \n                   'Total night minutes']\n\ndf.groupby(['Churn'])[columns_to_show].describe(percentiles=[])",
      "execution_count": 24,
      "outputs": [
        {
          "data": {
            "text/html": "<div>\n<style scoped>\n    .dataframe tbody tr th:only-of-type {\n        vertical-align: middle;\n    }\n\n    .dataframe tbody tr th {\n        vertical-align: top;\n    }\n\n    .dataframe thead tr th {\n        text-align: left;\n    }\n\n    .dataframe thead tr:last-of-type th {\n        text-align: right;\n    }\n</style>\n<table border=\"1\" class=\"dataframe\">\n  <thead>\n    <tr>\n      <th></th>\n      <th colspan=\"6\" halign=\"left\">Total day minutes</th>\n      <th colspan=\"6\" halign=\"left\">Total eve minutes</th>\n      <th colspan=\"6\" halign=\"left\">Total night minutes</th>\n    </tr>\n    <tr>\n      <th></th>\n      <th>count</th>\n      <th>mean</th>\n      <th>std</th>\n      <th>min</th>\n      <th>50%</th>\n      <th>max</th>\n      <th>count</th>\n      <th>mean</th>\n      <th>std</th>\n      <th>min</th>\n      <th>50%</th>\n      <th>max</th>\n      <th>count</th>\n      <th>mean</th>\n      <th>std</th>\n      <th>min</th>\n      <th>50%</th>\n      <th>max</th>\n    </tr>\n    <tr>\n      <th>Churn</th>\n      <th></th>\n      <th></th>\n      <th></th>\n      <th></th>\n      <th></th>\n      <th></th>\n      <th></th>\n      <th></th>\n      <th></th>\n      <th></th>\n      <th></th>\n      <th></th>\n      <th></th>\n      <th></th>\n      <th></th>\n      <th></th>\n      <th></th>\n      <th></th>\n    </tr>\n  </thead>\n  <tbody>\n    <tr>\n      <th>0</th>\n      <td>2850.0</td>\n      <td>175.18</td>\n      <td>50.18</td>\n      <td>0.0</td>\n      <td>177.2</td>\n      <td>315.6</td>\n      <td>2850.0</td>\n      <td>199.04</td>\n      <td>50.29</td>\n      <td>0.0</td>\n      <td>199.6</td>\n      <td>361.8</td>\n      <td>2850.0</td>\n      <td>200.13</td>\n      <td>51.11</td>\n      <td>23.2</td>\n      <td>200.25</td>\n      <td>395.0</td>\n    </tr>\n    <tr>\n      <th>1</th>\n      <td>483.0</td>\n      <td>206.91</td>\n      <td>69.00</td>\n      <td>0.0</td>\n      <td>217.6</td>\n      <td>350.8</td>\n      <td>483.0</td>\n      <td>212.41</td>\n      <td>51.73</td>\n      <td>70.9</td>\n      <td>211.3</td>\n      <td>363.7</td>\n      <td>483.0</td>\n      <td>205.23</td>\n      <td>47.13</td>\n      <td>47.4</td>\n      <td>204.80</td>\n      <td>354.9</td>\n    </tr>\n  </tbody>\n</table>\n</div>",
            "text/plain": "      Total day minutes                                   Total eve minutes  \\\n                  count    mean    std  min    50%    max             count   \nChurn                                                                         \n0                2850.0  175.18  50.18  0.0  177.2  315.6            2850.0   \n1                 483.0  206.91  69.00  0.0  217.6  350.8             483.0   \n\n                                         Total night minutes                 \\\n         mean    std   min    50%    max               count    mean    std   \nChurn                                                                         \n0      199.04  50.29   0.0  199.6  361.8              2850.0  200.13  51.11   \n1      212.41  51.73  70.9  211.3  363.7               483.0  205.23  47.13   \n\n                            \n        min     50%    max  \nChurn                       \n0      23.2  200.25  395.0  \n1      47.4  204.80  354.9  "
          },
          "execution_count": 24,
          "metadata": {},
          "output_type": "execute_result"
        }
      ]
    },
    {
      "metadata": {
        "lang": "fr"
      },
      "cell_type": "markdown",
      "source": "Faisons la même chose, mais légèrement différemment, en passant une liste de fonctions à `agg ()`:"
    },
    {
      "metadata": {
        "trusted": false
      },
      "cell_type": "code",
      "source": "columns_to_show = ['Total day minutes', \n                   'Total eve minutes', \n                   'Total night minutes']\n\ndf.groupby(['Churn'])[columns_to_show].agg([np.mean, np.std, np.min, np.max])",
      "execution_count": 25,
      "outputs": [
        {
          "data": {
            "text/html": "<div>\n<style scoped>\n    .dataframe tbody tr th:only-of-type {\n        vertical-align: middle;\n    }\n\n    .dataframe tbody tr th {\n        vertical-align: top;\n    }\n\n    .dataframe thead tr th {\n        text-align: left;\n    }\n\n    .dataframe thead tr:last-of-type th {\n        text-align: right;\n    }\n</style>\n<table border=\"1\" class=\"dataframe\">\n  <thead>\n    <tr>\n      <th></th>\n      <th colspan=\"4\" halign=\"left\">Total day minutes</th>\n      <th colspan=\"4\" halign=\"left\">Total eve minutes</th>\n      <th colspan=\"4\" halign=\"left\">Total night minutes</th>\n    </tr>\n    <tr>\n      <th></th>\n      <th>mean</th>\n      <th>std</th>\n      <th>amin</th>\n      <th>amax</th>\n      <th>mean</th>\n      <th>std</th>\n      <th>amin</th>\n      <th>amax</th>\n      <th>mean</th>\n      <th>std</th>\n      <th>amin</th>\n      <th>amax</th>\n    </tr>\n    <tr>\n      <th>Churn</th>\n      <th></th>\n      <th></th>\n      <th></th>\n      <th></th>\n      <th></th>\n      <th></th>\n      <th></th>\n      <th></th>\n      <th></th>\n      <th></th>\n      <th></th>\n      <th></th>\n    </tr>\n  </thead>\n  <tbody>\n    <tr>\n      <th>0</th>\n      <td>175.18</td>\n      <td>50.18</td>\n      <td>0.0</td>\n      <td>315.6</td>\n      <td>199.04</td>\n      <td>50.29</td>\n      <td>0.0</td>\n      <td>361.8</td>\n      <td>200.13</td>\n      <td>51.11</td>\n      <td>23.2</td>\n      <td>395.0</td>\n    </tr>\n    <tr>\n      <th>1</th>\n      <td>206.91</td>\n      <td>69.00</td>\n      <td>0.0</td>\n      <td>350.8</td>\n      <td>212.41</td>\n      <td>51.73</td>\n      <td>70.9</td>\n      <td>363.7</td>\n      <td>205.23</td>\n      <td>47.13</td>\n      <td>47.4</td>\n      <td>354.9</td>\n    </tr>\n  </tbody>\n</table>\n</div>",
            "text/plain": "      Total day minutes                    Total eve minutes               \\\n                   mean    std amin   amax              mean    std  amin   \nChurn                                                                       \n0                175.18  50.18  0.0  315.6            199.04  50.29   0.0   \n1                206.91  69.00  0.0  350.8            212.41  51.73  70.9   \n\n             Total night minutes                      \n        amax                mean    std  amin   amax  \nChurn                                                 \n0      361.8              200.13  51.11  23.2  395.0  \n1      363.7              205.23  47.13  47.4  354.9  "
          },
          "execution_count": 25,
          "metadata": {},
          "output_type": "execute_result"
        }
      ]
    },
    {
      "metadata": {
        "lang": "fr"
      },
      "cell_type": "markdown",
      "source": "### Tableaux récapitulatifs\n\nSupposons que nous voulions voir comment les observations de notre ensemble de données sont réparties dans le contexte de deux variables - `Churn` et`International plan`. Pour ce faire, nous pouvons construire un **tableau de contingence** en utilisant la méthode `crosstab`:"
    },
    {
      "metadata": {
        "trusted": false
      },
      "cell_type": "code",
      "source": "pd.crosstab(df['Churn'], df['International plan'])",
      "execution_count": 26,
      "outputs": [
        {
          "data": {
            "text/html": "<div>\n<style scoped>\n    .dataframe tbody tr th:only-of-type {\n        vertical-align: middle;\n    }\n\n    .dataframe tbody tr th {\n        vertical-align: top;\n    }\n\n    .dataframe thead th {\n        text-align: right;\n    }\n</style>\n<table border=\"1\" class=\"dataframe\">\n  <thead>\n    <tr style=\"text-align: right;\">\n      <th>International plan</th>\n      <th>False</th>\n      <th>True</th>\n    </tr>\n    <tr>\n      <th>Churn</th>\n      <th></th>\n      <th></th>\n    </tr>\n  </thead>\n  <tbody>\n    <tr>\n      <th>0</th>\n      <td>2664</td>\n      <td>186</td>\n    </tr>\n    <tr>\n      <th>1</th>\n      <td>346</td>\n      <td>137</td>\n    </tr>\n  </tbody>\n</table>\n</div>",
            "text/plain": "International plan  False  True \nChurn                           \n0                    2664    186\n1                     346    137"
          },
          "execution_count": 26,
          "metadata": {},
          "output_type": "execute_result"
        }
      ]
    },
    {
      "metadata": {
        "scrolled": true,
        "trusted": false
      },
      "cell_type": "code",
      "source": "pd.crosstab(df['Churn'], df['Voice mail plan'], normalize=True)",
      "execution_count": 27,
      "outputs": [
        {
          "data": {
            "text/html": "<div>\n<style scoped>\n    .dataframe tbody tr th:only-of-type {\n        vertical-align: middle;\n    }\n\n    .dataframe tbody tr th {\n        vertical-align: top;\n    }\n\n    .dataframe thead th {\n        text-align: right;\n    }\n</style>\n<table border=\"1\" class=\"dataframe\">\n  <thead>\n    <tr style=\"text-align: right;\">\n      <th>Voice mail plan</th>\n      <th>False</th>\n      <th>True</th>\n    </tr>\n    <tr>\n      <th>Churn</th>\n      <th></th>\n      <th></th>\n    </tr>\n  </thead>\n  <tbody>\n    <tr>\n      <th>0</th>\n      <td>0.60</td>\n      <td>0.25</td>\n    </tr>\n    <tr>\n      <th>1</th>\n      <td>0.12</td>\n      <td>0.02</td>\n    </tr>\n  </tbody>\n</table>\n</div>",
            "text/plain": "Voice mail plan  False  True \nChurn                        \n0                 0.60   0.25\n1                 0.12   0.02"
          },
          "execution_count": 27,
          "metadata": {},
          "output_type": "execute_result"
        }
      ]
    },
    {
      "metadata": {
        "lang": "fr"
      },
      "cell_type": "markdown",
      "source": "Nous pouvons constater que la plupart des utilisateurs sont fidèles et n'utilisent pas de services supplémentaires (International Plan/Voice mail).\n\nCela ressemblera aux **tableaux croisés dynamiques** pour ceux qui connaissent Excel. Et, bien sûr, les tableaux croisés dynamiques sont implémentés dans Pandas: la méthode `pivot_table` prend les paramètres suivants:\n\n*`values` - une liste de variables pour calculer des statistiques,  \n* `index` - une liste de variables pour regrouper les données,\n* `aggfunc` - quelles statistiques nous devons calculer pour les groupes, ex. somme, moyenne, maximum, minimum ou autre chose.\n\nExaminons le nombre moyen d'appels de jour, de soir et de nuit par code régional (area code):"
    },
    {
      "metadata": {
        "scrolled": true,
        "trusted": false
      },
      "cell_type": "code",
      "source": "df.pivot_table(['Total day calls', 'Total eve calls', 'Total night calls'],\n               ['Area code'], aggfunc='mean')",
      "execution_count": 28,
      "outputs": [
        {
          "data": {
            "text/html": "<div>\n<style scoped>\n    .dataframe tbody tr th:only-of-type {\n        vertical-align: middle;\n    }\n\n    .dataframe tbody tr th {\n        vertical-align: top;\n    }\n\n    .dataframe thead th {\n        text-align: right;\n    }\n</style>\n<table border=\"1\" class=\"dataframe\">\n  <thead>\n    <tr style=\"text-align: right;\">\n      <th></th>\n      <th>Total day calls</th>\n      <th>Total eve calls</th>\n      <th>Total night calls</th>\n    </tr>\n    <tr>\n      <th>Area code</th>\n      <th></th>\n      <th></th>\n      <th></th>\n    </tr>\n  </thead>\n  <tbody>\n    <tr>\n      <th>408</th>\n      <td>100.50</td>\n      <td>99.79</td>\n      <td>99.04</td>\n    </tr>\n    <tr>\n      <th>415</th>\n      <td>100.58</td>\n      <td>100.50</td>\n      <td>100.40</td>\n    </tr>\n    <tr>\n      <th>510</th>\n      <td>100.10</td>\n      <td>99.67</td>\n      <td>100.60</td>\n    </tr>\n  </tbody>\n</table>\n</div>",
            "text/plain": "           Total day calls  Total eve calls  Total night calls\nArea code                                                     \n408                 100.50            99.79              99.04\n415                 100.58           100.50             100.40\n510                 100.10            99.67             100.60"
          },
          "execution_count": 28,
          "metadata": {},
          "output_type": "execute_result"
        }
      ]
    },
    {
      "metadata": {
        "lang": "fr"
      },
      "cell_type": "markdown",
      "source": "### Opérations de transformations d'un DataFrame\n\nComme beaucoup d'autres choses avec Pandas, l'ajout de colonnes à un DataFrame est réalisable de plusieurs manières.\n\nPar exemple, si nous voulons calculer le nombre total d'appels pour tous les utilisateurs, créons la série `total_calls` et collons-la dans le DataFrame:"
    },
    {
      "metadata": {
        "trusted": true,
        "ExecuteTime": {
          "start_time": "2019-09-15T20:59:30.883127Z",
          "end_time": "2019-09-15T20:59:31.059899Z"
        }
      },
      "cell_type": "code",
      "source": "total_calls = df['Total day calls'] + df['Total eve calls'] + \\\n              df['Total night calls'] + df['Total intl calls']\ndf.insert(loc=len(df.columns), column='Total calls', value=total_calls) \n# le paramètre loc est le nombre de colonnes après lequel l'objet Série doit être inséré\n# nous l'initialisons à len(df.columns) pour le coller à la toute fin du dataframe\ndf.head()",
      "execution_count": 9,
      "outputs": [
        {
          "output_type": "execute_result",
          "execution_count": 9,
          "data": {
            "text/plain": "  State  Account length  Area code International plan Voice mail plan  \\\n0    KS             128        415                 No             Yes   \n1    OH             107        415                 No             Yes   \n2    NJ             137        415                 No              No   \n3    OH              84        408                Yes              No   \n4    OK              75        415                Yes              No   \n\n   Number vmail messages  Total day minutes  Total day calls  \\\n0                     25              265.1              110   \n1                     26              161.6              123   \n2                      0              243.4              114   \n3                      0              299.4               71   \n4                      0              166.7              113   \n\n   Total day charge  Total eve minutes     ...      Total eve charge  \\\n0             45.07              197.4     ...                 16.78   \n1             27.47              195.5     ...                 16.62   \n2             41.38              121.2     ...                 10.30   \n3             50.90               61.9     ...                  5.26   \n4             28.34              148.3     ...                 12.61   \n\n   Total night minutes  Total night calls  Total night charge  \\\n0                244.7                 91               11.01   \n1                254.4                103               11.45   \n2                162.6                104                7.32   \n3                196.9                 89                8.86   \n4                186.9                121                8.41   \n\n   Total intl minutes  Total intl calls  Total intl charge  \\\n0                10.0                 3               2.70   \n1                13.7                 3               3.70   \n2                12.2                 5               3.29   \n3                 6.6                 7               1.78   \n4                10.1                 3               2.73   \n\n   Customer service calls  Churn Total calls  \n0                       1  False         303  \n1                       1  False         332  \n2                       0  False         333  \n3                       2  False         255  \n4                       3  False         359  \n\n[5 rows x 21 columns]",
            "text/html": "<div>\n<table border=\"1\" class=\"dataframe\">\n  <thead>\n    <tr style=\"text-align: right;\">\n      <th></th>\n      <th>State</th>\n      <th>Account length</th>\n      <th>Area code</th>\n      <th>International plan</th>\n      <th>Voice mail plan</th>\n      <th>Number vmail messages</th>\n      <th>Total day minutes</th>\n      <th>Total day calls</th>\n      <th>Total day charge</th>\n      <th>Total eve minutes</th>\n      <th>...</th>\n      <th>Total eve charge</th>\n      <th>Total night minutes</th>\n      <th>Total night calls</th>\n      <th>Total night charge</th>\n      <th>Total intl minutes</th>\n      <th>Total intl calls</th>\n      <th>Total intl charge</th>\n      <th>Customer service calls</th>\n      <th>Churn</th>\n      <th>Total calls</th>\n    </tr>\n  </thead>\n  <tbody>\n    <tr>\n      <th>0</th>\n      <td>KS</td>\n      <td>128</td>\n      <td>415</td>\n      <td>No</td>\n      <td>Yes</td>\n      <td>25</td>\n      <td>265.1</td>\n      <td>110</td>\n      <td>45.07</td>\n      <td>197.4</td>\n      <td>...</td>\n      <td>16.78</td>\n      <td>244.7</td>\n      <td>91</td>\n      <td>11.01</td>\n      <td>10.0</td>\n      <td>3</td>\n      <td>2.70</td>\n      <td>1</td>\n      <td>False</td>\n      <td>303</td>\n    </tr>\n    <tr>\n      <th>1</th>\n      <td>OH</td>\n      <td>107</td>\n      <td>415</td>\n      <td>No</td>\n      <td>Yes</td>\n      <td>26</td>\n      <td>161.6</td>\n      <td>123</td>\n      <td>27.47</td>\n      <td>195.5</td>\n      <td>...</td>\n      <td>16.62</td>\n      <td>254.4</td>\n      <td>103</td>\n      <td>11.45</td>\n      <td>13.7</td>\n      <td>3</td>\n      <td>3.70</td>\n      <td>1</td>\n      <td>False</td>\n      <td>332</td>\n    </tr>\n    <tr>\n      <th>2</th>\n      <td>NJ</td>\n      <td>137</td>\n      <td>415</td>\n      <td>No</td>\n      <td>No</td>\n      <td>0</td>\n      <td>243.4</td>\n      <td>114</td>\n      <td>41.38</td>\n      <td>121.2</td>\n      <td>...</td>\n      <td>10.30</td>\n      <td>162.6</td>\n      <td>104</td>\n      <td>7.32</td>\n      <td>12.2</td>\n      <td>5</td>\n      <td>3.29</td>\n      <td>0</td>\n      <td>False</td>\n      <td>333</td>\n    </tr>\n    <tr>\n      <th>3</th>\n      <td>OH</td>\n      <td>84</td>\n      <td>408</td>\n      <td>Yes</td>\n      <td>No</td>\n      <td>0</td>\n      <td>299.4</td>\n      <td>71</td>\n      <td>50.90</td>\n      <td>61.9</td>\n      <td>...</td>\n      <td>5.26</td>\n      <td>196.9</td>\n      <td>89</td>\n      <td>8.86</td>\n      <td>6.6</td>\n      <td>7</td>\n      <td>1.78</td>\n      <td>2</td>\n      <td>False</td>\n      <td>255</td>\n    </tr>\n    <tr>\n      <th>4</th>\n      <td>OK</td>\n      <td>75</td>\n      <td>415</td>\n      <td>Yes</td>\n      <td>No</td>\n      <td>0</td>\n      <td>166.7</td>\n      <td>113</td>\n      <td>28.34</td>\n      <td>148.3</td>\n      <td>...</td>\n      <td>12.61</td>\n      <td>186.9</td>\n      <td>121</td>\n      <td>8.41</td>\n      <td>10.1</td>\n      <td>3</td>\n      <td>2.73</td>\n      <td>3</td>\n      <td>False</td>\n      <td>359</td>\n    </tr>\n  </tbody>\n</table>\n<p>5 rows × 21 columns</p>\n</div>"
          },
          "metadata": {}
        }
      ]
    },
    {
      "metadata": {
        "lang": "fr"
      },
      "cell_type": "markdown",
      "source": "Il est possible d’ajouter une colonne plus facilement sans créer d’instance Series intermédiaire:"
    },
    {
      "metadata": {
        "trusted": false
      },
      "cell_type": "code",
      "source": "df['Total charge'] = df['Total day charge'] + df['Total eve charge'] + \\\n                     df['Total night charge'] + df['Total intl charge']\ndf.head()",
      "execution_count": 30,
      "outputs": [
        {
          "data": {
            "text/html": "<div>\n<style scoped>\n    .dataframe tbody tr th:only-of-type {\n        vertical-align: middle;\n    }\n\n    .dataframe tbody tr th {\n        vertical-align: top;\n    }\n\n    .dataframe thead th {\n        text-align: right;\n    }\n</style>\n<table border=\"1\" class=\"dataframe\">\n  <thead>\n    <tr style=\"text-align: right;\">\n      <th></th>\n      <th>State</th>\n      <th>Account length</th>\n      <th>Area code</th>\n      <th>International plan</th>\n      <th>Voice mail plan</th>\n      <th>Number vmail messages</th>\n      <th>Total day minutes</th>\n      <th>Total day calls</th>\n      <th>Total day charge</th>\n      <th>Total eve minutes</th>\n      <th>...</th>\n      <th>Total night minutes</th>\n      <th>Total night calls</th>\n      <th>Total night charge</th>\n      <th>Total intl minutes</th>\n      <th>Total intl calls</th>\n      <th>Total intl charge</th>\n      <th>Customer service calls</th>\n      <th>Churn</th>\n      <th>Total calls</th>\n      <th>Total charge</th>\n    </tr>\n  </thead>\n  <tbody>\n    <tr>\n      <th>0</th>\n      <td>KS</td>\n      <td>128</td>\n      <td>415</td>\n      <td>False</td>\n      <td>True</td>\n      <td>25</td>\n      <td>265.1</td>\n      <td>110</td>\n      <td>45.07</td>\n      <td>197.4</td>\n      <td>...</td>\n      <td>244.7</td>\n      <td>91</td>\n      <td>11.01</td>\n      <td>10.0</td>\n      <td>3</td>\n      <td>2.70</td>\n      <td>1</td>\n      <td>0</td>\n      <td>303</td>\n      <td>75.56</td>\n    </tr>\n    <tr>\n      <th>1</th>\n      <td>OH</td>\n      <td>107</td>\n      <td>415</td>\n      <td>False</td>\n      <td>True</td>\n      <td>26</td>\n      <td>161.6</td>\n      <td>123</td>\n      <td>27.47</td>\n      <td>195.5</td>\n      <td>...</td>\n      <td>254.4</td>\n      <td>103</td>\n      <td>11.45</td>\n      <td>13.7</td>\n      <td>3</td>\n      <td>3.70</td>\n      <td>1</td>\n      <td>0</td>\n      <td>332</td>\n      <td>59.24</td>\n    </tr>\n    <tr>\n      <th>2</th>\n      <td>NJ</td>\n      <td>137</td>\n      <td>415</td>\n      <td>False</td>\n      <td>False</td>\n      <td>0</td>\n      <td>243.4</td>\n      <td>114</td>\n      <td>41.38</td>\n      <td>121.2</td>\n      <td>...</td>\n      <td>162.6</td>\n      <td>104</td>\n      <td>7.32</td>\n      <td>12.2</td>\n      <td>5</td>\n      <td>3.29</td>\n      <td>0</td>\n      <td>0</td>\n      <td>333</td>\n      <td>62.29</td>\n    </tr>\n    <tr>\n      <th>3</th>\n      <td>OH</td>\n      <td>84</td>\n      <td>408</td>\n      <td>True</td>\n      <td>False</td>\n      <td>0</td>\n      <td>299.4</td>\n      <td>71</td>\n      <td>50.90</td>\n      <td>61.9</td>\n      <td>...</td>\n      <td>196.9</td>\n      <td>89</td>\n      <td>8.86</td>\n      <td>6.6</td>\n      <td>7</td>\n      <td>1.78</td>\n      <td>2</td>\n      <td>0</td>\n      <td>255</td>\n      <td>66.80</td>\n    </tr>\n    <tr>\n      <th>4</th>\n      <td>OK</td>\n      <td>75</td>\n      <td>415</td>\n      <td>True</td>\n      <td>False</td>\n      <td>0</td>\n      <td>166.7</td>\n      <td>113</td>\n      <td>28.34</td>\n      <td>148.3</td>\n      <td>...</td>\n      <td>186.9</td>\n      <td>121</td>\n      <td>8.41</td>\n      <td>10.1</td>\n      <td>3</td>\n      <td>2.73</td>\n      <td>3</td>\n      <td>0</td>\n      <td>359</td>\n      <td>52.09</td>\n    </tr>\n  </tbody>\n</table>\n<p>5 rows × 22 columns</p>\n</div>",
            "text/plain": "  State  Account length  Area code  International plan  Voice mail plan  \\\n0    KS             128        415               False             True   \n1    OH             107        415               False             True   \n2    NJ             137        415               False            False   \n3    OH              84        408                True            False   \n4    OK              75        415                True            False   \n\n   Number vmail messages  Total day minutes  Total day calls  \\\n0                     25              265.1              110   \n1                     26              161.6              123   \n2                      0              243.4              114   \n3                      0              299.4               71   \n4                      0              166.7              113   \n\n   Total day charge  Total eve minutes  ...  Total night minutes  \\\n0             45.07              197.4  ...                244.7   \n1             27.47              195.5  ...                254.4   \n2             41.38              121.2  ...                162.6   \n3             50.90               61.9  ...                196.9   \n4             28.34              148.3  ...                186.9   \n\n   Total night calls  Total night charge  Total intl minutes  \\\n0                 91               11.01                10.0   \n1                103               11.45                13.7   \n2                104                7.32                12.2   \n3                 89                8.86                 6.6   \n4                121                8.41                10.1   \n\n   Total intl calls  Total intl charge  Customer service calls  Churn  \\\n0                 3               2.70                       1      0   \n1                 3               3.70                       1      0   \n2                 5               3.29                       0      0   \n3                 7               1.78                       2      0   \n4                 3               2.73                       3      0   \n\n   Total calls  Total charge  \n0          303         75.56  \n1          332         59.24  \n2          333         62.29  \n3          255         66.80  \n4          359         52.09  \n\n[5 rows x 22 columns]"
          },
          "execution_count": 30,
          "metadata": {},
          "output_type": "execute_result"
        }
      ]
    },
    {
      "metadata": {
        "lang": "fr"
      },
      "cell_type": "markdown",
      "source": "Pour supprimer des colonnes ou des lignes, utilisez la méthode `drop`, en passant les index requis et le paramètre` axis` (`1` si vous supprimez des colonnes et rien ou` 0` si vous supprimez des lignes). L'argument `inplace` indique s'il faut modifier le DataFrame d'origine. Avec `inplace = False`, la méthode` drop` ne modifie pas le DataFrame existant et en renvoie un nouveau avec des lignes ou des colonnes supprimées. Avec `inplace = True`, il modifie le DataFrame."
    },
    {
      "metadata": {
        "trusted": false
      },
      "cell_type": "code",
      "source": "# supprimer les colonnes qui viennent d'être créées\ndf.drop(['Total charge', 'Total calls'], axis=1, inplace=True) \n# et voici comment supprimer des lignes\ndf.drop([1, 2]).head() ",
      "execution_count": 31,
      "outputs": [
        {
          "data": {
            "text/html": "<div>\n<style scoped>\n    .dataframe tbody tr th:only-of-type {\n        vertical-align: middle;\n    }\n\n    .dataframe tbody tr th {\n        vertical-align: top;\n    }\n\n    .dataframe thead th {\n        text-align: right;\n    }\n</style>\n<table border=\"1\" class=\"dataframe\">\n  <thead>\n    <tr style=\"text-align: right;\">\n      <th></th>\n      <th>State</th>\n      <th>Account length</th>\n      <th>Area code</th>\n      <th>International plan</th>\n      <th>Voice mail plan</th>\n      <th>Number vmail messages</th>\n      <th>Total day minutes</th>\n      <th>Total day calls</th>\n      <th>Total day charge</th>\n      <th>Total eve minutes</th>\n      <th>Total eve calls</th>\n      <th>Total eve charge</th>\n      <th>Total night minutes</th>\n      <th>Total night calls</th>\n      <th>Total night charge</th>\n      <th>Total intl minutes</th>\n      <th>Total intl calls</th>\n      <th>Total intl charge</th>\n      <th>Customer service calls</th>\n      <th>Churn</th>\n    </tr>\n  </thead>\n  <tbody>\n    <tr>\n      <th>0</th>\n      <td>KS</td>\n      <td>128</td>\n      <td>415</td>\n      <td>False</td>\n      <td>True</td>\n      <td>25</td>\n      <td>265.1</td>\n      <td>110</td>\n      <td>45.07</td>\n      <td>197.4</td>\n      <td>99</td>\n      <td>16.78</td>\n      <td>244.7</td>\n      <td>91</td>\n      <td>11.01</td>\n      <td>10.0</td>\n      <td>3</td>\n      <td>2.70</td>\n      <td>1</td>\n      <td>0</td>\n    </tr>\n    <tr>\n      <th>3</th>\n      <td>OH</td>\n      <td>84</td>\n      <td>408</td>\n      <td>True</td>\n      <td>False</td>\n      <td>0</td>\n      <td>299.4</td>\n      <td>71</td>\n      <td>50.90</td>\n      <td>61.9</td>\n      <td>88</td>\n      <td>5.26</td>\n      <td>196.9</td>\n      <td>89</td>\n      <td>8.86</td>\n      <td>6.6</td>\n      <td>7</td>\n      <td>1.78</td>\n      <td>2</td>\n      <td>0</td>\n    </tr>\n    <tr>\n      <th>4</th>\n      <td>OK</td>\n      <td>75</td>\n      <td>415</td>\n      <td>True</td>\n      <td>False</td>\n      <td>0</td>\n      <td>166.7</td>\n      <td>113</td>\n      <td>28.34</td>\n      <td>148.3</td>\n      <td>122</td>\n      <td>12.61</td>\n      <td>186.9</td>\n      <td>121</td>\n      <td>8.41</td>\n      <td>10.1</td>\n      <td>3</td>\n      <td>2.73</td>\n      <td>3</td>\n      <td>0</td>\n    </tr>\n    <tr>\n      <th>5</th>\n      <td>AL</td>\n      <td>118</td>\n      <td>510</td>\n      <td>True</td>\n      <td>False</td>\n      <td>0</td>\n      <td>223.4</td>\n      <td>98</td>\n      <td>37.98</td>\n      <td>220.6</td>\n      <td>101</td>\n      <td>18.75</td>\n      <td>203.9</td>\n      <td>118</td>\n      <td>9.18</td>\n      <td>6.3</td>\n      <td>6</td>\n      <td>1.70</td>\n      <td>0</td>\n      <td>0</td>\n    </tr>\n    <tr>\n      <th>6</th>\n      <td>MA</td>\n      <td>121</td>\n      <td>510</td>\n      <td>False</td>\n      <td>True</td>\n      <td>24</td>\n      <td>218.2</td>\n      <td>88</td>\n      <td>37.09</td>\n      <td>348.5</td>\n      <td>108</td>\n      <td>29.62</td>\n      <td>212.6</td>\n      <td>118</td>\n      <td>9.57</td>\n      <td>7.5</td>\n      <td>7</td>\n      <td>2.03</td>\n      <td>3</td>\n      <td>0</td>\n    </tr>\n  </tbody>\n</table>\n</div>",
            "text/plain": "  State  Account length  Area code  International plan  Voice mail plan  \\\n0    KS             128        415               False             True   \n3    OH              84        408                True            False   \n4    OK              75        415                True            False   \n5    AL             118        510                True            False   \n6    MA             121        510               False             True   \n\n   Number vmail messages  Total day minutes  Total day calls  \\\n0                     25              265.1              110   \n3                      0              299.4               71   \n4                      0              166.7              113   \n5                      0              223.4               98   \n6                     24              218.2               88   \n\n   Total day charge  Total eve minutes  Total eve calls  Total eve charge  \\\n0             45.07              197.4               99             16.78   \n3             50.90               61.9               88              5.26   \n4             28.34              148.3              122             12.61   \n5             37.98              220.6              101             18.75   \n6             37.09              348.5              108             29.62   \n\n   Total night minutes  Total night calls  Total night charge  \\\n0                244.7                 91               11.01   \n3                196.9                 89                8.86   \n4                186.9                121                8.41   \n5                203.9                118                9.18   \n6                212.6                118                9.57   \n\n   Total intl minutes  Total intl calls  Total intl charge  \\\n0                10.0                 3               2.70   \n3                 6.6                 7               1.78   \n4                10.1                 3               2.73   \n5                 6.3                 6               1.70   \n6                 7.5                 7               2.03   \n\n   Customer service calls  Churn  \n0                       1      0  \n3                       2      0  \n4                       3      0  \n5                       0      0  \n6                       3      0  "
          },
          "execution_count": 31,
          "metadata": {},
          "output_type": "execute_result"
        }
      ]
    },
    {
      "metadata": {
        "lang": "fr"
      },
      "cell_type": "markdown",
      "source": "## 2. Prévision du churn (taux d'attrition)\n\nVoyons comment le taux de désabonnement est lié à la caractéristique ou variable *International plan*. Pour ce faire, nous utiliserons un tableau de contingence `` crosstab`` et également une analyse visuelle avec `Seaborn` (l'analyse visuelle sera toutefois traitée plus en détail dans le prochain article)."
    },
    {
      "metadata": {
        "trusted": false
      },
      "cell_type": "code",
      "source": "pd.crosstab(df['Churn'], df['International plan'], margins=True)",
      "execution_count": 32,
      "outputs": [
        {
          "data": {
            "text/html": "<div>\n<style scoped>\n    .dataframe tbody tr th:only-of-type {\n        vertical-align: middle;\n    }\n\n    .dataframe tbody tr th {\n        vertical-align: top;\n    }\n\n    .dataframe thead th {\n        text-align: right;\n    }\n</style>\n<table border=\"1\" class=\"dataframe\">\n  <thead>\n    <tr style=\"text-align: right;\">\n      <th>International plan</th>\n      <th>False</th>\n      <th>True</th>\n      <th>All</th>\n    </tr>\n    <tr>\n      <th>Churn</th>\n      <th></th>\n      <th></th>\n      <th></th>\n    </tr>\n  </thead>\n  <tbody>\n    <tr>\n      <th>0</th>\n      <td>2664</td>\n      <td>186</td>\n      <td>2850</td>\n    </tr>\n    <tr>\n      <th>1</th>\n      <td>346</td>\n      <td>137</td>\n      <td>483</td>\n    </tr>\n    <tr>\n      <th>All</th>\n      <td>3010</td>\n      <td>323</td>\n      <td>3333</td>\n    </tr>\n  </tbody>\n</table>\n</div>",
            "text/plain": "International plan  False  True   All\nChurn                                \n0                    2664   186  2850\n1                     346   137   483\nAll                  3010   323  3333"
          },
          "execution_count": 32,
          "metadata": {},
          "output_type": "execute_result"
        }
      ]
    },
    {
      "metadata": {
        "trusted": false
      },
      "cell_type": "code",
      "source": "# quelques imports pour mettre en place le cadre du graphique \nimport matplotlib.pyplot as plt\n# !pip install seaborn (pour installer la librairie seaborn via le notebook)\nimport seaborn as sns\n# import de paramètres pour améliorer le rendu visuel\nsns.set()\n# Les graphiques au format Retina sont plus nets et plus lisibles\n%config InlineBackend.figure_format = 'retina'",
      "execution_count": 33,
      "outputs": []
    },
    {
      "metadata": {
        "trusted": false
      },
      "cell_type": "code",
      "source": "sns.countplot(x='International plan', hue='Churn', data=df);",
      "execution_count": 34,
      "outputs": [
        {
          "data": {
            "image/png": "[encoded data removed]",
            "text/plain": "<Figure size 432x288 with 1 Axes>"
          },
          "metadata": {
            "image/png": {
              "height": 266,
              "width": 398
            },
            "needs_background": "light"
          },
          "output_type": "display_data"
        }
      ]
    },
    {
      "metadata": {
        "lang": "fr"
      },
      "cell_type": "markdown",
      "source": "Nous voyons qu'avec *International Plan*, le taux de désabonnement est beaucoup plus élevé, ce qui est une observation intéressante! Peut-être des dépenses importantes et mal contrôlées avec des appels internationaux sont-elles très sujettes aux conflits et suscitent l’insatisfaction des clients de l’opérateur de télécommunications.\n\nVoyons ensuite une autre fonctionnalité importante - *Customer service calls*. Faisons également un tableau de synthèse et une image."
    },
    {
      "metadata": {
        "trusted": false
      },
      "cell_type": "code",
      "source": "pd.crosstab(df['Churn'], df['Customer service calls'], margins=True)",
      "execution_count": 35,
      "outputs": [
        {
          "data": {
            "text/html": "<div>\n<style scoped>\n    .dataframe tbody tr th:only-of-type {\n        vertical-align: middle;\n    }\n\n    .dataframe tbody tr th {\n        vertical-align: top;\n    }\n\n    .dataframe thead th {\n        text-align: right;\n    }\n</style>\n<table border=\"1\" class=\"dataframe\">\n  <thead>\n    <tr style=\"text-align: right;\">\n      <th>Customer service calls</th>\n      <th>0</th>\n      <th>1</th>\n      <th>2</th>\n      <th>3</th>\n      <th>4</th>\n      <th>5</th>\n      <th>6</th>\n      <th>7</th>\n      <th>8</th>\n      <th>9</th>\n      <th>All</th>\n    </tr>\n    <tr>\n      <th>Churn</th>\n      <th></th>\n      <th></th>\n      <th></th>\n      <th></th>\n      <th></th>\n      <th></th>\n      <th></th>\n      <th></th>\n      <th></th>\n      <th></th>\n      <th></th>\n    </tr>\n  </thead>\n  <tbody>\n    <tr>\n      <th>0</th>\n      <td>605</td>\n      <td>1059</td>\n      <td>672</td>\n      <td>385</td>\n      <td>90</td>\n      <td>26</td>\n      <td>8</td>\n      <td>4</td>\n      <td>1</td>\n      <td>0</td>\n      <td>2850</td>\n    </tr>\n    <tr>\n      <th>1</th>\n      <td>92</td>\n      <td>122</td>\n      <td>87</td>\n      <td>44</td>\n      <td>76</td>\n      <td>40</td>\n      <td>14</td>\n      <td>5</td>\n      <td>1</td>\n      <td>2</td>\n      <td>483</td>\n    </tr>\n    <tr>\n      <th>All</th>\n      <td>697</td>\n      <td>1181</td>\n      <td>759</td>\n      <td>429</td>\n      <td>166</td>\n      <td>66</td>\n      <td>22</td>\n      <td>9</td>\n      <td>2</td>\n      <td>2</td>\n      <td>3333</td>\n    </tr>\n  </tbody>\n</table>\n</div>",
            "text/plain": "Customer service calls    0     1    2    3    4   5   6  7  8  9   All\nChurn                                                                  \n0                       605  1059  672  385   90  26   8  4  1  0  2850\n1                        92   122   87   44   76  40  14  5  1  2   483\nAll                     697  1181  759  429  166  66  22  9  2  2  3333"
          },
          "execution_count": 35,
          "metadata": {},
          "output_type": "execute_result"
        }
      ]
    },
    {
      "metadata": {
        "trusted": false
      },
      "cell_type": "code",
      "source": "sns.countplot(x='Customer service calls', hue='Churn', data=df);",
      "execution_count": 36,
      "outputs": [
        {
          "data": {
            "image/png": "[encoded data removed]",
            "text/plain": "<Figure size 432x288 with 1 Axes>"
          },
          "metadata": {
            "image/png": {
              "height": 266,
              "width": 398
            },
            "needs_background": "light"
          },
          "output_type": "display_data"
        }
      ]
    },
    {
      "metadata": {
        "lang": "fr"
      },
      "cell_type": "markdown",
      "source": "Bien que ce ne soit pas évident dans le tableau récapitulatif, il ressort clairement du graphique ci-dessus que le taux de résiliation augmente fortement à partir de 4 appels de service après-vente.\n\nAjoutons maintenant une variable binaire à notre DataFrame - `Customer service calls > 3` (Appels du service client> 3). Et encore une fois, voyons comment cela se rapporte au désabonnement."
    },
    {
      "metadata": {
        "trusted": false
      },
      "cell_type": "code",
      "source": "df['Many_service_calls'] = (df['Customer service calls'] > 3).astype('int')\n\npd.crosstab(df['Many_service_calls'], df['Churn'], margins=True)",
      "execution_count": 37,
      "outputs": [
        {
          "data": {
            "text/html": "<div>\n<style scoped>\n    .dataframe tbody tr th:only-of-type {\n        vertical-align: middle;\n    }\n\n    .dataframe tbody tr th {\n        vertical-align: top;\n    }\n\n    .dataframe thead th {\n        text-align: right;\n    }\n</style>\n<table border=\"1\" class=\"dataframe\">\n  <thead>\n    <tr style=\"text-align: right;\">\n      <th>Churn</th>\n      <th>0</th>\n      <th>1</th>\n      <th>All</th>\n    </tr>\n    <tr>\n      <th>Many_service_calls</th>\n      <th></th>\n      <th></th>\n      <th></th>\n    </tr>\n  </thead>\n  <tbody>\n    <tr>\n      <th>0</th>\n      <td>2721</td>\n      <td>345</td>\n      <td>3066</td>\n    </tr>\n    <tr>\n      <th>1</th>\n      <td>129</td>\n      <td>138</td>\n      <td>267</td>\n    </tr>\n    <tr>\n      <th>All</th>\n      <td>2850</td>\n      <td>483</td>\n      <td>3333</td>\n    </tr>\n  </tbody>\n</table>\n</div>",
            "text/plain": "Churn                  0    1   All\nMany_service_calls                 \n0                   2721  345  3066\n1                    129  138   267\nAll                 2850  483  3333"
          },
          "execution_count": 37,
          "metadata": {},
          "output_type": "execute_result"
        }
      ]
    },
    {
      "metadata": {
        "trusted": false
      },
      "cell_type": "code",
      "source": "sns.countplot(x='Many_service_calls', hue='Churn', data=df);",
      "execution_count": 38,
      "outputs": [
        {
          "data": {
            "image/png": "[encoded data removed]",
            "text/plain": "<Figure size 432x288 with 1 Axes>"
          },
          "metadata": {
            "image/png": {
              "height": 266,
              "width": 398
            },
            "needs_background": "light"
          },
          "output_type": "display_data"
        }
      ]
    },
    {
      "metadata": {
        "lang": "fr"
      },
      "cell_type": "markdown",
      "source": "Construisons une autre table de contingence qui relie *Churn* à la fois à *International plan* et à la variable nouvellement créée *Many_service_calls*."
    },
    {
      "metadata": {
        "trusted": false
      },
      "cell_type": "code",
      "source": "pd.crosstab(df['Many_service_calls'] & df['International plan'] , df['Churn'])",
      "execution_count": 39,
      "outputs": [
        {
          "data": {
            "text/html": "<div>\n<style scoped>\n    .dataframe tbody tr th:only-of-type {\n        vertical-align: middle;\n    }\n\n    .dataframe tbody tr th {\n        vertical-align: top;\n    }\n\n    .dataframe thead th {\n        text-align: right;\n    }\n</style>\n<table border=\"1\" class=\"dataframe\">\n  <thead>\n    <tr style=\"text-align: right;\">\n      <th>Churn</th>\n      <th>0</th>\n      <th>1</th>\n    </tr>\n    <tr>\n      <th>row_0</th>\n      <th></th>\n      <th></th>\n    </tr>\n  </thead>\n  <tbody>\n    <tr>\n      <th>False</th>\n      <td>2841</td>\n      <td>464</td>\n    </tr>\n    <tr>\n      <th>True</th>\n      <td>9</td>\n      <td>19</td>\n    </tr>\n  </tbody>\n</table>\n</div>",
            "text/plain": "Churn     0    1\nrow_0           \nFalse  2841  464\nTrue      9   19"
          },
          "execution_count": 39,
          "metadata": {},
          "output_type": "execute_result"
        }
      ]
    },
    {
      "metadata": {
        "lang": "fr"
      },
      "cell_type": "markdown",
      "source": "Par conséquent, si un nombre d'appels vers le centre de services est supérieur à 3 et que le *International Plan* est ajouté (et en prédisant Churn=0 sinon), on peut s’attendre à une précision de 85,8%. Ce nombre, 85,8%, que nous avons obtenu grâce à ce raisonnement très simple constitue un bon point de départ (*référence*) pour les autres modèles d’apprentissage automatique que nous allons construire.\n\nAu cours de ce cours, rappelez-vous qu'avant l'avènement de l'apprentissage automatique, le processus d'analyse des données ressemblait à ce que nous venons de réaliser. Récapitulatif :\n    \n- La part des clients fidèles dans l'ensemble de données est de 85,5%. Le modèle le plus \"simple\" qui prédit toujours un \"client fidèle\" sur de telles données devinera juste dans environ 85,5% des cas. C'est-à-dire que la proportion de réponses correctes (*précision*) des modèles suivants ne devrait pas être inférieure à ce nombre et qu'elle devrait être nettement supérieure;\n- A l’aide d’une simple prévision pouvant être exprimée par la formule suivante: `International plan = True & Customer Service calls > 3 => Churn = 1, else Churn = 0`, on peut s’attendre à un taux de prédiction de 85,8%, qui est juste au-dessus de 85,5%. Ensuite, nous parlerons des arbres de décision et découvrirons comment trouver de telles règles **automatiquement** uniquement sur la base des données d’entrée;\n- Nous avons obtenu ces deux bases sans appliquer l’apprentissage automatique et elles serviront de point de départ pour nos modèles ultérieurs. S'il s'avère qu'avec un effort énorme, nous n'augmentons la précision que de 0,5%, alors nous avons peut-être commis une erreur, et il suffit de nous en tenir à un simple modèle \"if-else\" avec deux conditions;\n- Avant de former des modèles complexes, il est recommandé de mélanger un peu les données, de tracer des graphiques et de vérifier des hypothèses simples. De plus, dans les applications métier de l'apprentissage automatique, on commence généralement par des solutions simples, pour ensuite expérimenter des solutions plus complexes.\n\n## 3. Mission pour s'exercer\nPour vous entraîner avec la librairie Pandas et l’EDA (Analyse Exploratoire de données), vous pouvez remplir [cette mission](https://www.kaggle.com/kashnitsky/a1-demo-pandas-and-uci-adult-dataset) où vous analyserez des données socio-démographiques. Il s'agit juste d'une mission pour vous exerver avec sa [solution](https://www.kaggle.com/kashnitsky/a1-demo-pandas-and-uci-adult-dataset-solution).\n\n## 4. Ressources utiles\n\n* Le même notebook en mode interactif sur [Kaggle Kernel](https://www.kaggle.com/kashnitsky/topic-1-exploratory-data-analysis-with-pandas)\n* [\"Merging DataFrames with pandas\"](https://nbviewer.jupyter.org/github/Yorko/mlcourse.ai/blob/master/jupyter_english/tutorials/merging_dataframes_tutorial_max_palko.ipynb) - a tutorial by Max Plako within mlcourse.ai (full list of tutorials is [here](https://mlcourse.ai/tutorials))\n* [\"Handle different dataset with dask and trying a little dask ML\"](https://nbviewer.jupyter.org/github/Yorko/mlcourse.ai/blob/master/jupyter_english/tutorials/dask_objects_and_little_dask_ml_tutorial_iknyazeva.ipynb) - a tutorial by Irina Knyazeva within mlcourse.ai\n* Main course [site](https://mlcourse.ai), [course repo](https://github.com/Yorko/mlcourse.ai), and YouTube [channel](https://www.youtube.com/watch?v=QKTuw4PNOsU&list=PLVlY_7IJCMJeRfZ68eVfEcu-UcN9BbwiX)\n* Official Pandas [documentation](http://pandas.pydata.org/pandas-docs/stable/index.html)\n* Course materials as a [Kaggle Dataset](https://www.kaggle.com/kashnitsky/mlcourse)\n* Medium [\"story\"](https://medium.com/open-machine-learning-course/open-machine-learning-course-topic-1-exploratory-data-analysis-with-pandas-de57880f1a68) based on this notebook\n* If you read Russian: an [article](https://habrahabr.ru/company/ods/blog/322626/) on Habr.com with ~ the same material. And a [lecture](https://youtu.be/dEFxoyJhm3Y) on YouTube\n* [10 minutes to pandas](http://pandas.pydata.org/pandas-docs/stable/10min.html)\n* [Pandas cheatsheet PDF](https://github.com/pandas-dev/pandas/blob/master/doc/cheatsheet/Pandas_Cheat_Sheet.pdf)\n* GitHub repos: [Pandas exercises](https://github.com/guipsamora/pandas_exercises/) and [\"Effective Pandas\"](https://github.com/TomAugspurger/effective-pandas)\n* [scipy-lectures.org](http://www.scipy-lectures.org/index.html) — tutorials on pandas, numpy, matplotlib and scikit-learn"
    }
  ],
  "metadata": {
    "kernelspec": {
      "name": "python3",
      "display_name": "Python 3",
      "language": "python"
    },
    "language_info": {
      "mimetype": "text/x-python",
      "nbconvert_exporter": "python",
      "name": "python",
      "file_extension": ".py",
      "version": "3.5.4",
      "pygments_lexer": "ipython3",
      "codemirror_mode": {
        "version": 3,
        "name": "ipython"
      }
    },
    "hide_input": false,
    "toc": {
      "nav_menu": {},
      "number_sections": false,
      "sideBar": false,
      "skip_h1_title": true,
      "base_numbering": 1,
      "title_cell": "Sommaire de l'article",
      "title_sidebar": "Contents",
      "toc_cell": true,
      "toc_position": {
        "height": "427px",
        "width": "260px",
        "left": "65px",
        "top": "180px"
      },
      "toc_section_display": true,
      "toc_window_display": false
    },
    "nbTranslate": {
      "hotkey": "alt-t",
      "sourceLang": "en",
      "targetLang": "fr",
      "displayLangs": [
        "*"
      ],
      "langInMainMenu": true,
      "useGoogleTranslate": true
    }
  },
  "nbformat": 4,
  "nbformat_minor": 2
}