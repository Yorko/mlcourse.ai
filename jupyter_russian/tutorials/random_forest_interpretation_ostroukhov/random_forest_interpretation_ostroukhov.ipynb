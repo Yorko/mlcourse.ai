{
 "cells": [
  {
   "cell_type": "markdown",
   "metadata": {},
   "source": [
    "<center>\n",
    "<img src=\"../../../img/ods_stickers.jpg\">\n",
    "## Открытый курс по машинному обучению\n",
    "<center>Автор материала: Остроухов Максим, NRJ"
   ]
  },
  {
   "cell_type": "code",
   "execution_count": null,
   "metadata": {},
   "outputs": [],
   "source": [
    "!pip install treeinterpreter\n",
    "!pip install ggplot"
   ]
  },
  {
   "cell_type": "code",
   "execution_count": null,
   "metadata": {
    "scrolled": true
   },
   "outputs": [],
   "source": [
    "from treeinterpreter import treeinterpreter as ti\n",
    "from sklearn.datasets import load_boston\n",
    "from sklearn.ensemble import RandomForestRegressor, RandomForestClassifier\n",
    "from sklearn.tree import export_graphviz\n",
    "import seaborn as sns\n",
    "import scipy as sp\n",
    "from sklearn.tree import DecisionTreeClassifier, DecisionTreeRegressor\n",
    "from ggplot import *\n",
    "import matplotlib.pyplot as plt\n",
    "import warnings\n",
    "warnings.filterwarnings(\"ignore\")\n",
    "%matplotlib inline\n",
    "import numpy as np\n",
    "import pandas as pd"
   ]
  },
  {
   "cell_type": "markdown",
   "metadata": {},
   "source": [
    "# От маленького деревца к большому лесу"
   ]
  },
  {
   "cell_type": "markdown",
   "metadata": {},
   "source": [
    "На сегодняшний день те, кто хоть раз сталкивался с машинным обучением, наверняка слышали о решающих деревьях, их ансамблях и всевозможных модификациях, применяемых под различные задачи. Действительно, несмотря на то, что первые упоминания регресионных деревьев датируются еще 60-ми годами прошлого века, основное развитие деревьев решений в 80-90е годы, появление CART, ID3 и других подходов, заложило большой фундамент для огромного класса алгоритмов, в основе которых лежит древовидная структура. Одним из таких алгоритмов, получивших широкое распространение, является случайный лес, о котором и пойдет речь в этом туториале.\n",
    "\n",
    "Одним из несомненных плюсов, которые выделяют у деревьев в целом, является их интерпретируемость. Взглянув на построенное дерево, вы с легкостью можете определить, по каким причинам было принято то или иное решение.  \n",
    "Например, за 3 простых шага можно определить, испортился ли продукт в холодильнике."
   ]
  },
  {
   "cell_type": "markdown",
   "metadata": {},
   "source": [
    "<img src=\"img/tree.png\" width=\"50%\" height=\"50%\">"
   ]
  },
  {
   "cell_type": "markdown",
   "metadata": {},
   "source": [
    "Однако, когда речь заходит о случайном лесе, начинают возникать некоторые сложности, и связаны они в первую очередь с тем, что алгоритм представляет собой композицию таких деревьев, не говоря уже и о том, что каждое дерево может строится не на всей выборке и не со всеми признаками.  \n",
    "В результет также легко пройтись по картинке и понять, почему ваш продукт протух, уже не получится. Несмотря на всю, казалось бы, \"непроходимость\" данного леса, определенную информацию, дающую представление о структуре вашего леса, из него все же можно получить.   "
   ]
  },
  {
   "cell_type": "markdown",
   "metadata": {},
   "source": [
    "<img src=\"img/forest.png\" width=\"50%\" height=\"50%\">"
   ]
  },
  {
   "cell_type": "markdown",
   "metadata": {},
   "source": [
    "# Как устроены решающие деревья"
   ]
  },
  {
   "cell_type": "markdown",
   "metadata": {},
   "source": [
    "Прежде чем переходить к самому сладкому, необходимо вспомнить, как прорастают такие деревья. Данная тема уже ни раз подробно разбиралась в различных статьях и курсах, в том числе курсе от ODS, поэтому напомним лишь основные вехи.  \n",
    "Основным подходом для формирования каждого последующего разбиения является максимизация функционала: $${Q}=H({R_m})-\\frac{|R_l|}{|R_m|}H(R_l)-\\frac{|R_r|}{|R_m|}H(R_r)$$\n",
    "где ${R_i}$ - объекты в i-ом поддереве, $ \\frac{|R_i|}{|R_m|}$ - кол-во объектов, попавших в соответствующее поддерево, $H({R_i})$ - критерий информативности, характеризующий качество разбиения i-ого листа при $i \\in \\{R - правое\\ поддерево\\ ;L - левое\\ поддерево; M - разбиваемый\\ лист\\}$  \n",
    "В зависимости от задачи, которую предстоит решать вашим деревьям, критериями информативности $H(R)$ для выбора разбиения могут выступать:\n",
    "* В задаче классификации:  $$Кросс\\ энтропия :  S = -\\sum_{k=1}^{K}p_i \\log_2{p_i}$$ $$Неопределенность\\ Джини : G = 1 - \\sum\\limits_{k=1}^{K} (p_k)^2$$\n",
    "где p - доля k-ого класса в листе.\n",
    "$$$$\n",
    "* В задаче регрессии: $$Среднеквадратическая\\ ошибка : {MSE}=\\frac{1}{n}\\sum_{k=1}^{K}(Y_i-\\hat{Y_i})^2$$\n",
    "где $Y_i$ - среднее значение целевой переменной в сформированном листе."
   ]
  },
  {
   "cell_type": "markdown",
   "metadata": {
    "collapsed": true
   },
   "source": [
    "Чтобы не упустить ничего важного, рассмотрим небольшой пример, как строится дерево на примере задаче классификации и метрики Джини.  \n",
    "Для демонстрации сгенериуем датасет, имитирующий полки магазина, где наша цель будет научиться отделять овощи от фруктов по их расположению на полке.  "
   ]
  },
  {
   "cell_type": "markdown",
   "metadata": {},
   "source": [
    "<img src=\"img/shelf_fruits.png\" width=\"40%\" height=\"40%\">"
   ]
  },
  {
   "cell_type": "code",
   "execution_count": null,
   "metadata": {
    "collapsed": true
   },
   "outputs": [],
   "source": [
    "X=np.arange(3)\n",
    "X_df=np.array(np.meshgrid(X,X)).T.reshape(-3,2)\n",
    "y_df=np.zeros(9).reshape(-1,1)\n",
    "y_df[5]=1\n",
    "y_df[8]=1\n",
    "\n",
    "dt_clf=DecisionTreeClassifier()\n",
    "dt_clf.fit(X_df,y_df)\n",
    "\n",
    "export_graphviz(dt_clf, feature_names=['Номер на полке','Номер полки'], \n",
    "out_file='small_tree1.dot', filled=True)\n",
    "!dot -Tpng 'C:\\Users\\Maksim.Ostroukhov\\small_tree1.dot' -o 'small_tree.png'"
   ]
  },
  {
   "cell_type": "code",
   "execution_count": null,
   "metadata": {
    "collapsed": true
   },
   "outputs": [],
   "source": [
    "export_graphviz(dt_clf, feature_names=['Номер на полке','Номер полки'], \n",
    "out_file='C:\\\\Users\\\\Maksim.Ostroukhov\\\\small_tree1.dot', filled=True)\n",
    "!dot -Tpng 'C:\\Users\\Maksim.Ostroukhov\\small_tree1.dot' -o 'small_tree.png'"
   ]
  },
  {
   "cell_type": "markdown",
   "metadata": {},
   "source": [
    "<img src=\"img/small_tree_ent.png\">"
   ]
  },
  {
   "cell_type": "markdown",
   "metadata": {},
   "source": [
    "Получившееся дерево всего за 2 разбиения идеально справилось со своей миссией. Теперь взглянем на то, какой признак сыграл наибольшую роль в решениии этой <s>непростой</s> задачи.  \n",
    "Бегло просмотрев картинку, можно сделать вывод, что номер полки в данном случае является наиболее важным параметром. Но так ли велика разница между ним и номером продукта на полке? Для ответа на этот вопрос воспользуемся критерием, который используется в современной реализации sklearn для подсчета важности признаков и называется mean decrease impurity (MDI): $$MDI(X_m)=\\sum_{n} \\frac{|R_c|}{|R|} Q$$  \n",
    "где $n$ - количество, нод, в которых используется выбранный признак $m$, $\\frac{|R_c|}{|R|}$ - доля объектов от общего числа, достигших ноду $c$, $Q$ - функционал качества, который мы оптимизируем.  \n",
    "Суть данного критерия сводится к сравнению, насколько тот или иной признак улучшил разделимость классов/повысил точность с учетом доли объектов, используемых при разбиениях по этому признаку. Разберем на конкретном примере, как же считается важность признаков на основе данной метрики. "
   ]
  },
  {
   "cell_type": "markdown",
   "metadata": {},
   "source": [
    "Поскольку на каждый признак приходится по одной ноде, то и в наша формула сведется к расчету функционала качества для одной ноды с поправкой на кол-во объектов в ней.  \n",
    "Тогда $MDI$ для наших признаков: \n",
    "$$MDI(номер\\ полки)=(0.346-0\\cdot\\frac{6}{9}-0.444\\cdot\\frac{3}{9})\\cdot1\\approx0.198$$ \n",
    "$$MDI(порядковый\\ номер\\ на\\ полке)=(0.444-0\\cdot\\frac{1}{9}-0\\cdot\\frac{2}{9})\\cdot\\frac{3}{9}\\approx0.148$$"
   ]
  },
  {
   "cell_type": "markdown",
   "metadata": {},
   "source": [
    "Отмасштабируем полученные рез-ты и сравним с результатами, которые нам формирует sklearn:  \n",
    "$$MDI(номер\\ полки)\\approx\\frac{0.198}{0.198+0.148}\\approx0.5722$$\n",
    "$$MDI(порядковый\\ номер\\ на\\ полке)\\approx\\frac{0.148}{0.198+0.148}\\approx0.428$$"
   ]
  },
  {
   "cell_type": "code",
   "execution_count": 108,
   "metadata": {},
   "outputs": [
    {
     "name": "stdout",
     "output_type": "stream",
     "text": [
      "[('Порядковый номер на полке', 0.42857142857142855), ('номер полки', 0.5714285714285714)]\n"
     ]
    }
   ],
   "source": [
    "print(list(zip(['Порядковый номер на полке','номер полки'],dt_clf.feature_importances_)))"
   ]
  },
  {
   "cell_type": "markdown",
   "metadata": {},
   "source": [
    "Бдительный читатель может сразу заметить, что результаты с учетом округления немного отличаются. Для получения максимально точных результатов предлагается повторно проделать эту же операцию с самостоятельным подсчетом неопределенности Джинни, поскольку для текущих расчетов использовались окгругленные значения, изображенные на графе. "
   ]
  },
  {
   "cell_type": "code",
   "execution_count": 119,
   "metadata": {},
   "outputs": [
    {
     "name": "stdout",
     "output_type": "stream",
     "text": [
      "Важность расположения на полке: 0.42857142857142855,\n",
      "Важность номера полки: 0.5714285714285714\n"
     ]
    }
   ],
   "source": [
    "first_node_gini=1-(7/9)**2-(2/9)**2\n",
    "second_node_gn=1-(1/3)**2-(2/3)**2\n",
    "\n",
    "y_imp=first_node_gini-0*(6/9)-(second_node_gn)*(3/9)\n",
    "x_imp=(second_node_gn-0*(1/9)-0*(2/9))*3/9\n",
    "\n",
    "print('Важность расположения на полке: {0},\\nВажность номера полки: {1}'.format(x_imp/(x_imp+y_imp),y_imp/(x_imp+y_imp)))"
   ]
  },
  {
   "cell_type": "markdown",
   "metadata": {},
   "source": [
    "Не так страшен \"черт\", не правда ли? Чтобы наконец обобщить данную формулу для случайного леса, который по сути является всего лишь композицией таких деревьев, нам необходимо просуммировать MDI по всем деревьям в получившемся лесе и взять среднее по всему лесу."
   ]
  },
  {
   "cell_type": "markdown",
   "metadata": {},
   "source": [
    " $$MDI(X_m)=\\frac{1}{t}\\sum_{t}\\sum_{n} \\frac{|R_c|}{|R|} Q$$  "
   ]
  },
  {
   "cell_type": "markdown",
   "metadata": {},
   "source": [
    "где t - кол-во деревьев в лесе."
   ]
  },
  {
   "cell_type": "markdown",
   "metadata": {},
   "source": [
    "Несколько вещей, которые стоит знать об этом критерии:\n",
    "* Если в данных присутствуют скореллированные признаки, то при выборе параметров только один из этих признаков будет выбран в качестве предиката, и, как результат, получит высокий коэффициент MDI. Конечно, это не является проблемой, если мы занимаемся отбором признаков, например, для устранения эффекта переобучения. С другой стороны, с точки зрения интерпретации полученных результатов могут возникнуть некоторые сложности, поскольку не использованные в разбиениях признаки получат низкую оценку и скорее всего останутся за пределами нашего исследования\n",
    "* Данный критерий отдает предпочтение признакам с большим количеством категорий. Подробнее об этом [тут](https://link.springer.com/article/10.1186%2F1471-2105-8-25 )"
   ]
  },
  {
   "cell_type": "markdown",
   "metadata": {},
   "source": [
    "Конечно, MDI критерий не единственный в своем роде. Альтернативным подходом для измерения важности признака по доле наблюдений, охватываемых данным признаком, является mean decreased accuracy (MDA) aka permutation importance. В данном случае гипотеза состоит в том, что если признак не так важен, то перемешивание значений в соответствующей колонке слабо повлияет на точность алгоритма.  "
   ]
  },
  {
   "cell_type": "markdown",
   "metadata": {},
   "source": [
    "<img src=\"https://media.giphy.com/media/1AIwsXQzH1Js6cxVBU/giphy.gif\" width=\"30%\" height=\"30%\">"
   ]
  },
  {
   "cell_type": "markdown",
   "metadata": {},
   "source": [
    "Для MDA характерны следующие черты:\n",
    "* Вычисляется быстрее чем MDI\n",
    "* Не требует bootstrap выборки при создании модели и устройчива к корреляции признаков\n",
    "* На практике часто совпадает с MDI"
   ]
  },
  {
   "cell_type": "markdown",
   "metadata": {},
   "source": [
    "Общее описание алгоритма:\n",
    "1. Обучаем наш случайный лес на исходных данных \n",
    "2. Считаем интересующую нас метрику $S_b$ на наших данных для полученной модели\n",
    "3. Для каждого признака $X_i$, где X - имеющаяся выборка, поочередно проделываем следущие шаги\n",
    "    * Случайным образом перемешиваем данные внутри выбранного $i$-ого признака\n",
    "    * Считаем метрику $S_i$ на получившемся наборе данных\n",
    "    * Находим разницу $\\Delta S_i$ между метриками $S_b$ на исходном наборе и $S_i$ на наборе с измененным признаком"
   ]
  },
  {
   "cell_type": "markdown",
   "metadata": {},
   "source": [
    "В результате для каждой переменной мы получили $\\Delta S$, где $|\\Delta S|$ говорит нам о том, насколько изменение данного параметра влияет на точность получившегося алгоритма. Соответственно, те признаки, у которых это значение сравнительно мало можно отбросить, предполагая, что для конечного алгоритма они не так важны."
   ]
  },
  {
   "cell_type": "markdown",
   "metadata": {},
   "source": [
    "К сожалению, в отличие от R, в котором данный метод реализован в библиотеке randomForest, в sklearn такой опции нет. Но это не повод отчаиваться! Ниже представлена реализация такого алгоритма и сравнение результатов с MDI. В качестве набора данных будем использовать стандартный датасет цен на Бостонскую недвижимость и факторов, влияющих на эту цену. "
   ]
  },
  {
   "cell_type": "markdown",
   "metadata": {},
   "source": [
    "$Расчет\\ MDA:$"
   ]
  },
  {
   "cell_type": "code",
   "execution_count": 373,
   "metadata": {
    "collapsed": true
   },
   "outputs": [],
   "source": [
    "def score(x1,x2):\n",
    "    return metrics.mean_squared_error(x1,x2)\n",
    "# defining feature importance function based on above logic\n",
    "def feat_imp(m, x, y, small_good = True): \n",
    "    score_list = {} \n",
    "    score_list['original'] = score(m.predict(x.values), y) \n",
    "    imp = {} \n",
    "    for i in range(len(x.columns)): \n",
    "        rand_idx = np.random.permutation(len(x)) # randomization\n",
    "        new_coli = x.values[rand_idx, i] \n",
    "        new_x = x.copy()            \n",
    "        new_x[x.columns[i]] = new_coli \n",
    "        score_list[x.columns[i]] = score(m.predict(new_x.values), y) \n",
    "        imp[x.columns[i]] = score_list['original'] - score_list[x.columns[i]] # comparison with benchmark\n",
    "    if small_good: \n",
    "         return sorted(imp.items(), key=lambda x: x[1]) \n",
    "    else: \n",
    "        return sorted(imp.items(), key=lambda x: x[1], reverse=True)\n",
    "\n",
    "def mda_boston(rf):\n",
    "    boston = load_boston()\n",
    "    X = boston[\"data\"]\n",
    "    Y = boston[\"target\"]\n",
    "    names = boston[\"feature_names\"]\n",
    "    X=pd.DataFrame(X,columns=names)\n",
    "    rf.fit(X, Y)\n",
    "    return pd.DataFrame(feat_imp(rf,X,Y),columns=['Признак','Важность'])"
   ]
  },
  {
   "cell_type": "code",
   "execution_count": 374,
   "metadata": {},
   "outputs": [
    {
     "data": {
      "text/html": [
       "<div>\n",
       "<style scoped>\n",
       "    .dataframe tbody tr th:only-of-type {\n",
       "        vertical-align: middle;\n",
       "    }\n",
       "\n",
       "    .dataframe tbody tr th {\n",
       "        vertical-align: top;\n",
       "    }\n",
       "\n",
       "    .dataframe thead th {\n",
       "        text-align: right;\n",
       "    }\n",
       "</style>\n",
       "<table border=\"1\" class=\"dataframe\">\n",
       "  <thead>\n",
       "    <tr style=\"text-align: right;\">\n",
       "      <th></th>\n",
       "      <th>Признак</th>\n",
       "      <th>Важность</th>\n",
       "    </tr>\n",
       "  </thead>\n",
       "  <tbody>\n",
       "    <tr>\n",
       "      <th>0</th>\n",
       "      <td>LSTAT</td>\n",
       "      <td>-52.987223</td>\n",
       "    </tr>\n",
       "    <tr>\n",
       "      <th>1</th>\n",
       "      <td>RM</td>\n",
       "      <td>-51.031723</td>\n",
       "    </tr>\n",
       "    <tr>\n",
       "      <th>2</th>\n",
       "      <td>DIS</td>\n",
       "      <td>-6.632130</td>\n",
       "    </tr>\n",
       "    <tr>\n",
       "      <th>3</th>\n",
       "      <td>CRIM</td>\n",
       "      <td>-6.110963</td>\n",
       "    </tr>\n",
       "    <tr>\n",
       "      <th>4</th>\n",
       "      <td>NOX</td>\n",
       "      <td>-4.333413</td>\n",
       "    </tr>\n",
       "    <tr>\n",
       "      <th>5</th>\n",
       "      <td>PTRATIO</td>\n",
       "      <td>-2.256260</td>\n",
       "    </tr>\n",
       "    <tr>\n",
       "      <th>6</th>\n",
       "      <td>AGE</td>\n",
       "      <td>-1.347716</td>\n",
       "    </tr>\n",
       "    <tr>\n",
       "      <th>7</th>\n",
       "      <td>TAX</td>\n",
       "      <td>-1.302830</td>\n",
       "    </tr>\n",
       "    <tr>\n",
       "      <th>8</th>\n",
       "      <td>INDUS</td>\n",
       "      <td>-1.001670</td>\n",
       "    </tr>\n",
       "    <tr>\n",
       "      <th>9</th>\n",
       "      <td>B</td>\n",
       "      <td>-0.887314</td>\n",
       "    </tr>\n",
       "    <tr>\n",
       "      <th>10</th>\n",
       "      <td>RAD</td>\n",
       "      <td>-0.141977</td>\n",
       "    </tr>\n",
       "    <tr>\n",
       "      <th>11</th>\n",
       "      <td>ZN</td>\n",
       "      <td>-0.052301</td>\n",
       "    </tr>\n",
       "    <tr>\n",
       "      <th>12</th>\n",
       "      <td>CHAS</td>\n",
       "      <td>-0.013580</td>\n",
       "    </tr>\n",
       "  </tbody>\n",
       "</table>\n",
       "</div>"
      ],
      "text/plain": [
       "    Признак   Важность\n",
       "0     LSTAT -52.987223\n",
       "1        RM -51.031723\n",
       "2       DIS  -6.632130\n",
       "3      CRIM  -6.110963\n",
       "4       NOX  -4.333413\n",
       "5   PTRATIO  -2.256260\n",
       "6       AGE  -1.347716\n",
       "7       TAX  -1.302830\n",
       "8     INDUS  -1.001670\n",
       "9         B  -0.887314\n",
       "10      RAD  -0.141977\n",
       "11       ZN  -0.052301\n",
       "12     CHAS  -0.013580"
      ]
     },
     "execution_count": 374,
     "metadata": {},
     "output_type": "execute_result"
    }
   ],
   "source": [
    "rf=RandomForestRegressor(random_state=256)\n",
    "var_importance=mda_boston(rf)\n",
    "var_importance"
   ]
  },
  {
   "cell_type": "markdown",
   "metadata": {},
   "source": [
    "$Расчет\\ MDI:$"
   ]
  },
  {
   "cell_type": "code",
   "execution_count": 376,
   "metadata": {},
   "outputs": [
    {
     "data": {
      "text/plain": [
       "[('RM', 0.4645898313429839),\n",
       " ('LSTAT', 0.35182346004313203),\n",
       " ('DIS', 0.061251328408256145),\n",
       " ('CRIM', 0.03977662113950492),\n",
       " ('NOX', 0.02061378656223358),\n",
       " ('PTRATIO', 0.01932330429116442),\n",
       " ('AGE', 0.011220816883363013),\n",
       " ('TAX', 0.010690452048413087),\n",
       " ('B', 0.008943853177943635),\n",
       " ('INDUS', 0.007581362480570153),\n",
       " ('RAD', 0.0030993545872310966),\n",
       " ('ZN', 0.000652335297086997),\n",
       " ('CHAS', 0.00043349373811705003)]"
      ]
     },
     "execution_count": 376,
     "metadata": {},
     "output_type": "execute_result"
    }
   ],
   "source": [
    "sorted(list(zip(boston[\"feature_names\"],rf.feature_importances_)),reverse=True,key=lambda x:x[1])"
   ]
  },
  {
   "cell_type": "markdown",
   "metadata": {},
   "source": [
    "Как и в случае с более классическим подходом MDI, не смотря на разные подходы, метрики почти совпали. В данной ситуации мы наверняка можем сказать, что признак \"Среднее количество комнат на один жилой дом\"(RM) и \"процент низжих слоев населения от общей количества\"(LSTAT) являются наиболее важными, и выкидывать их из признакового описания не стоит."
   ]
  },
  {
   "cell_type": "markdown",
   "metadata": {},
   "source": [
    "# График частичной зависимости"
   ]
  },
  {
   "cell_type": "markdown",
   "metadata": {},
   "source": [
    "Допустим, что в нашей задаче нам удалось выделить признак, важность которого сомнений не вызывает. Естественным желанием в таком случае будет посмотреть, а как же зависит наше целевое значение от выбранного параметра. Хорошей аналогией в данном случае будут коэффициенты линейной регресии, посмотрев на котоорые, можно сказать на сколько изменится значение $Y$ при изменении признака $X$ на 1.   \n",
    "Первое, что приходит в голову в такой ситуации - это построить диаграмму рассеяния и надеяться, что там мы найдем ответы на все интересующие нас вопросы."
   ]
  },
  {
   "cell_type": "code",
   "execution_count": 361,
   "metadata": {
    "scrolled": false
   },
   "outputs": [
    {
     "data": {
      "text/plain": [
       "[Text(0,0.5,'SalePrice'), Text(0.5,0,'RM')]"
      ]
     },
     "execution_count": 361,
     "metadata": {},
     "output_type": "execute_result"
    },
    {
     "data": {
      "image/png": "[encoded data removed]",
      "text/plain": [
       "<matplotlib.figure.Figure at 0x1d8a1533358>"
      ]
     },
     "metadata": {},
     "output_type": "display_data"
    }
   ],
   "source": [
    "sns.set(rc={'figure.figsize':(8.7,6.27)})\n",
    "ax = sns.regplot(X.iloc[:,5],Y)\n",
    "ax.set(xlabel='RM', ylabel='SalePrice')"
   ]
  },
  {
   "cell_type": "markdown",
   "metadata": {},
   "source": [
    "Казалось бы, какие тут могут возникнуть проблемы? Основным недостатком такого подхода является возможное наличие дополнительных зависимостей, которых такой график исключить не может, а также отсутствие возможности определить величину изменения целевой переменной при увеличении/уменьшении признака.  \n",
    "\n",
    "С другой стороны у нас есть важность признаков, отражающая влияние каждого на целевую переменную, и которую мы теперь умеем выводить аж 2мя способами! Но и тут мы упираемся в невозможность интерпретации абсолютного значения коэффициентов. И тут на первое место выходит другой подход - Partial Dependence Plot (PDP), идея которого заключается в изолировании влияния конкретной переменной на объясняемый показатель и попытка приблизить нас к ответу на вопрос \"А что будет, если мы увеличим признак на 1?\"."
   ]
  },
  {
   "cell_type": "markdown",
   "metadata": {},
   "source": [
    "Алгоритм построения PDP:\n",
    "1. Обучим \"лесную\" модель на наших исходных признаках $X$\n",
    "2. Выберем признак $X_i$, значения которого нам бы хотелось интерпертировать (чтобы избежать случаный флуктуаций, рекомендуется опираться на важность признаков и выбирать более-менее \"сильные\" признаки)\n",
    "3. Выведем все уникальные отсортированные по возрастанию значения $\\{X_i\\}$, которые может принимать данный признак $X_i$\n",
    "4. Подставляем вместо исходных значений признака первое уникальное значение $X_{ij}$\n",
    "5. Используя нашу модель, делаем предсказание на новом наборе данных и берем среднее от полученных значений. Назовем рассчитанное среднее - базовым значением. Его мы будем использовать далее для подсчета относительного изменения.  \n",
    "4. Для каждого следующего уникального значения $X_{ij}, где j\\neq0$ из выбранной колонки:\n",
    "    *  Заменяем всю колонку на выбранное значение.\n",
    "    *  Снова делаем предсказание на изменненном наборе и, взяв среднее, считаем разницу от вычисленного ранее базового значения.\n",
    "5. Результатом должен стать график, у которого на оси X отложены уникальные значения признака, а по оси Y изменения относительно базогового значения, которое на графике обозначено 0."
   ]
  },
  {
   "cell_type": "markdown",
   "metadata": {},
   "source": [
    "Не будем терять ни минуты и, используя описанный выше алгоритм, построим график для признака \"Среднее количество комнат на один жилой дом\"(RM), в важности которого мы почти не сомневаемся."
   ]
  },
  {
   "cell_type": "code",
   "execution_count": 362,
   "metadata": {
    "collapsed": true,
    "scrolled": true
   },
   "outputs": [],
   "source": [
    "def feat_pdp(m, x, y, feature_name): \n",
    "    unique_values = sorted(x[feature_name].unique())\n",
    "    new_x=x.copy()\n",
    "    new_x[feature_name]=unique_values[0]\n",
    "    base_value=np.mean(m.predict(new_x.values))\n",
    "    score=[]\n",
    "    score.append(0)\n",
    "    for i in range(len(unique_values)-1):             \n",
    "        new_x[feature_name]=unique_values[i+1]\n",
    "        score.append(np.mean(m.predict(new_x.values)-base_value))\n",
    "    return score,unique_values\n",
    "\n",
    "def pdp_boston():\n",
    "    boston = load_boston()\n",
    "    X = boston[\"data\"]\n",
    "    Y = boston[\"target\"]\n",
    "    names = boston[\"feature_names\"]\n",
    "    X=pd.DataFrame(X,columns=names)\n",
    "    rf = RandomForestRegressor(random_state=256)\n",
    "    rf.fit(X, Y)\n",
    "    return feat_pdp(rf,X,Y,'RM')"
   ]
  },
  {
   "cell_type": "code",
   "execution_count": null,
   "metadata": {
    "collapsed": true,
    "scrolled": true
   },
   "outputs": [],
   "source": [
    "scores,unique_values=pdp_boston()\n",
    "df_pdp=pd.DataFrame({\n",
    "    'RM': unique_values,\n",
    "    'SalePrice': scores\n",
    "})\n",
    "#последовательно отрисовать 2 графика\n",
    "ggplot(pd.concat([X,pd.DataFrame(Y,columns=['SalePrice'])],axis=1), aes('RM', 'SalePrice'))+stat_smooth(se=True, method='loess',span=0.2)+ylab(element_text(size=20, text='SalePrice')) +\\\n",
    "xlab(element_text(size=25, text='Line Plot'))\n",
    "\n",
    "ggplot(df_pdp, aes('RM', 'SalePrice'))+stat_smooth(se=True, method='loess',span=0.2)+ylab(element_text(size=20, text='SalePrice')) +\\\n",
    "xlab(element_text(size=20, text='RM'))"
   ]
  },
  {
   "cell_type": "markdown",
   "metadata": {},
   "source": [
    "<img src=\"img/pdp_plot.Jpg\">"
   ]
  },
  {
   "cell_type": "markdown",
   "metadata": {},
   "source": [
    "Чтобы убедиться в том, что PDP действительно не обманывает нас, ниже приведена таблица, в которой несколько раз меняется значение RM и делается предсказание при неизменных остальных признаках. Результат говорит нам о том, что LinePlot действительно не изолирует влияние других переменных, поскольку, ориентируясь на него, мы бы прогнозировали значительно меньший результат при изменении значения RM с 3.863 до 4.8. Во втором случае значение количества квартир подросло до 7 и это дало нам прирост в $\\approx10$ ед в SalePrice, что прекрасно отражено на графике частичной зависимости. "
   ]
  },
  {
   "cell_type": "markdown",
   "metadata": {},
   "source": [
    "<img src=\"img/res_pdp.Jpg\">"
   ]
  },
  {
   "cell_type": "markdown",
   "metadata": {},
   "source": [
    "Как вы можете видеть, PDP, в отличие от обычного линейного графика, устраняет влияние сторонних факторов, что хорошо видно при небольшом количестве квартир. Более интуитивной визуализация получается, если использовать при построении категориальные признаки. Больше крутых примеров в [репозитории курса fast.ai](https://github.com/fastai/fastai/tree/7016feaf39583977ff9f70972e5a3232c8bd4447/courses/ml1)"
   ]
  },
  {
   "cell_type": "markdown",
   "metadata": {},
   "source": [
    "# Пути принятия решений"
   ]
  },
  {
   "cell_type": "markdown",
   "metadata": {},
   "source": [
    "Часто случаются ситуации, когда не столько интересует важность признаков в целом, сколько их вклад в формирование предсказания для конкретных наблюдений. Прежде чем лезть в наш дремучий лес,снова сделаем небольшой шаг назад и рассмотрим на примере одного дерева, как формируется конкретное предсказание.  \n",
    "Для этих целей нам понадобится удобная библиотека [treeinterpreter](https://pypi.org/project/treeinterpreter/), которая легким движением <s>топора</s> разделяет деревья на пеньки и позволяет заглянуть внутрь."
   ]
  },
  {
   "cell_type": "markdown",
   "metadata": {},
   "source": [
    "<img src=\"img/treeinterp.png\"  width=\"70%\" height=\"70%\">"
   ]
  },
  {
   "cell_type": "markdown",
   "metadata": {},
   "source": [
    "Для начала взглянем на построенное для этой задачи решающее дерево. Сразу сделаем маленькое уточнение, что для удобства в данном случае мы намеренно ограничили максимальную глубину дерева до 3. "
   ]
  },
  {
   "cell_type": "code",
   "execution_count": 367,
   "metadata": {},
   "outputs": [
    {
     "data": {
      "text/plain": [
       "DecisionTreeRegressor(criterion='mse', max_depth=3, max_features=None,\n",
       "           max_leaf_nodes=None, min_impurity_decrease=0.0,\n",
       "           min_impurity_split=None, min_samples_leaf=1,\n",
       "           min_samples_split=2, min_weight_fraction_leaf=0.0,\n",
       "           presort=False, random_state=256, splitter='best')"
      ]
     },
     "execution_count": 367,
     "metadata": {},
     "output_type": "execute_result"
    }
   ],
   "source": [
    "dt_clf=DecisionTreeRegressor(random_state=256,max_depth=3)\n",
    "dt_clf.fit(X,Y)"
   ]
  },
  {
   "cell_type": "markdown",
   "metadata": {},
   "source": [
    "<img src=\"img/small_tree_path.png\">"
   ]
  },
  {
   "cell_type": "markdown",
   "metadata": {},
   "source": [
    "Также, пользуясь классическим определением прогнозной функции, данным Jerome Friedman в книге The Elements of Statistical Learning, $f(x) = \\sum_{m=1}^{M} c_m I(x\\in R_m)$, где $c_m$ - это константое значение предсказание в листе, $I(x\\in R_m)$ - индикаторная функция, показывающая принадлежность объекта к одному подмножеств $R_m$, образованных разбиением в листе, M - количество листьев в дереве, введем несколько дополнительных понятий:\n",
    "* Путь(Path)  - набор листьев, в который попадает наше наблюдение \n",
    "* Вклад(Contribution) - вклад признака, рассчитываемый, как разница между константным значением $c_m$ в текущем и образованном листах\n",
    "\n",
    "Перепишем прогнозное функцию на $f_{path}(x) = bias+\\sum_{k=1}^{K} contrib_k$, где K -признаки, участвующие в Path, $contrib_k$ - вклад $k$-ого признака в предсказание, bias - среднее значение целевой переменной на всем наборе данных (в корневом листе), вклад в который и вносят наши признаки "
   ]
  },
  {
   "cell_type": "markdown",
   "metadata": {},
   "source": [
    "Рассмотрим это на примере.  \n",
    "Пусть имеем наблюдение со следующим признаковым описанием:"
   ]
  },
  {
   "cell_type": "markdown",
   "metadata": {},
   "source": [
    "<img src=\"img/test_treeint.JPG\">"
   ]
  },
  {
   "cell_type": "markdown",
   "metadata": {},
   "source": [
    "Воспользуемся новой терминологией, тогда:"
   ]
  },
  {
   "cell_type": "markdown",
   "metadata": {},
   "source": [
    "<img src=\"img/bias_contr.JpG\">"
   ]
  },
  {
   "cell_type": "markdown",
   "metadata": {},
   "source": [
    "Как мы видим, предсказание действительно складывается из смещения и суммарного вклада каждого признака в изменение целевой переменной. Вооружившись полученным знанием, воспользуемся упомянутой библиотекой treeinterpreter и посмотрим на нее в действии. "
   ]
  },
  {
   "cell_type": "code",
   "execution_count": 229,
   "metadata": {},
   "outputs": [
    {
     "name": "stdout",
     "output_type": "stream",
     "text": [
      "Bias: 22.532806324110698\n",
      "Contributions:\n",
      "('CRIM', 0.0)\n",
      "('ZN', 0.0)\n",
      "('INDUS', 0.0)\n",
      "('CHAS', 0.0)\n",
      "('NOX', 0.0)\n",
      "('RM', -2.599085393878145)\n",
      "('AGE', 0.0)\n",
      "('DIS', -0.4446039215686248)\n",
      "('RAD', 0.0)\n",
      "('TAX', 0.0)\n",
      "('PTRATIO', 0.0)\n",
      "('B', 0.0)\n",
      "('LSTAT', 3.4160829913360757)\n",
      "Prediction:22.905200000000004\n"
     ]
    }
   ],
   "source": [
    "prediction, bias, contributions = ti.predict(dt_clf, X.iloc[367].values.reshape(1,-1))\n",
    "print(\"Bias: {0}\\nContributions:\\n{1}\\nPrediction:{2}\".format(bias[0], '\\n'.join(map(str,list(zip(names,contributions[0])))),prediction[0]))"
   ]
  },
  {
   "cell_type": "markdown",
   "metadata": {},
   "source": [
    "Вопросов к тому, что делает библиотека после этого блока кода, уже возникать не должно, но на всякий случай еще раз уточним, что метод predict в данном случае возвращает 3 компоненты:\n",
    "* Prediction - предсказанный моделью результат \n",
    "* Bias - смещение, среднее значение target'a на всем наборе данных\n",
    "* Contribution - вклад каждого признака в построение предсказания  \n",
    "\n",
    "Убедимся на всякий случай, что тут нет никакого обмана, и проверим выполнения равенства $prediction = bias+\\sum_{k=1}^{K}$:"
   ]
  },
  {
   "cell_type": "code",
   "execution_count": 236,
   "metadata": {},
   "outputs": [
    {
     "name": "stdout",
     "output_type": "stream",
     "text": [
      "[22.9052] [22.9052]\n"
     ]
    }
   ],
   "source": [
    "print(np.sum(contributions)+bias,prediction)"
   ]
  },
  {
   "cell_type": "markdown",
   "metadata": {},
   "source": [
    "Отобразим вклады признаков, отсортировав их модули по убыванию: "
   ]
  },
  {
   "cell_type": "code",
   "execution_count": 198,
   "metadata": {},
   "outputs": [
    {
     "data": {
      "text/plain": [
       "(array([ 0,  1,  2,  3,  4,  5,  6,  7,  8,  9, 10, 11, 12]),\n",
       " <a list of 13 Text xticklabel objects>)"
      ]
     },
     "execution_count": 198,
     "metadata": {},
     "output_type": "execute_result"
    },
    {
     "data": {
      "image/png": "[encoded data removed]",
      "text/plain": [
       "<matplotlib.figure.Figure at 0x1d89fc66a58>"
      ]
     },
     "metadata": {},
     "output_type": "display_data"
    }
   ],
   "source": [
    "sns.set(rc={'figure.figsize':(8.7,6.27)},font_scale=1.5)\n",
    "ax =sns.barplot(x=names,y=contributions[0],order=[x[0] for x in sorted(list(zip(names,contributions[0])),reverse=True,key=lambda x: np.abs(x[1]))],color='blue',orient='v')\n",
    "ax.set(ylabel='Contribution')\n",
    "plt.xticks(fontsize=15,rotation=35, ha='right')"
   ]
  },
  {
   "cell_type": "markdown",
   "metadata": {},
   "source": [
    "Для нашего наблюдения наибольший вклад был получен благодаря LSTAT (процент населения, отнесенного к низшему классу), что с одной стороны говорит нам о важности признака для используемого набора параметров и с другой - немного настораживает, поскольку в предыдущих пунктах мы наблюдали явное доминирование признака RM над остальными. Стоит также взглянуть на то, как в целом влияет данный признак на целевую переменную."
   ]
  },
  {
   "cell_type": "code",
   "execution_count": 228,
   "metadata": {
    "scrolled": false
   },
   "outputs": [
    {
     "data": {
      "text/plain": [
       "Text(0.5,0,'LSTAT')"
      ]
     },
     "execution_count": 228,
     "metadata": {},
     "output_type": "execute_result"
    },
    {
     "data": {
      "image/png": "[encoded data removed]",
      "text/plain": [
       "<matplotlib.figure.Figure at 0x1d8a163c6a0>"
      ]
     },
     "metadata": {},
     "output_type": "display_data"
    }
   ],
   "source": [
    "prediction, bias, contributions = ti.predict(dt_clf, X)\n",
    "plt.plot(X.iloc[:,-1].values,contributions[:,-1],'o')\n",
    "plt.ylabel('Contribution')\n",
    "plt.xlabel('LSTAT')"
   ]
  },
  {
   "cell_type": "markdown",
   "metadata": {},
   "source": [
    "Из-за того, что пока мы работаем только с одним деревом, общий паттерн на данном графике разглядеть довольно непросто. Акцент можно сделать лишь на отрицательном тренде при увеличении показателя, что вполне логично, поскольку районы с большим кол-вом бедного населения явно не уличивают стоимость жилья. "
   ]
  },
  {
   "cell_type": "markdown",
   "metadata": {},
   "source": [
    "Дальше - больше! Мощь библиотеки раскрывается при использовании ее в комбинации со случайным лесом, реализованном именно в пакете sklearn, поскольку его API позволяет получить ссылку на пути решения для отдельных деревьев в лесе. Воспользуемся моделью, которую мы уже обучили ранее, и посмотрим на вклад признаков в предсказание. С точки зрения формулы разложения предсказания процесс совсем не усложнился. Интуитивно понятно, что вместо одного дерева мы имеем теперь композицию, а значит расширение для случайного леса будет выглядеть как среднее от суммы вкладов признаков в каждом дереве.\n",
    "$$f_{path}(x) = \\frac{1}{t}\\sum_{t}bias+\\sum_{k=1}^{K}(\\frac{1}{t}\\sum_{t}contrib_k)$$\n",
    "где t-кол-во деревьев в лесе."
   ]
  },
  {
   "cell_type": "code",
   "execution_count": 369,
   "metadata": {},
   "outputs": [
    {
     "data": {
      "text/plain": [
       "(array([ 0,  1,  2,  3,  4,  5,  6,  7,  8,  9, 10, 11, 12]),\n",
       " <a list of 13 Text xticklabel objects>)"
      ]
     },
     "execution_count": 369,
     "metadata": {},
     "output_type": "execute_result"
    },
    {
     "data": {
      "image/png": "[encoded data removed]",
      "text/plain": [
       "<matplotlib.figure.Figure at 0x1d8a526c0f0>"
      ]
     },
     "metadata": {},
     "output_type": "display_data"
    }
   ],
   "source": [
    "prediction, bias, contributions = ti.predict(rf, X)\n",
    "sns.set(rc={'figure.figsize':(8.7,6.27)},font_scale=1.5)\n",
    "ax =sns.barplot(x=names,y=contributions.sum(axis=0),order=[x[0] for x in sorted(list(zip(names,contributions.sum(axis=0))),reverse=True,key=lambda x: np.abs(x[1]))],color='blue',orient='v')\n",
    "ax.set(ylabel='Contribution')\n",
    "plt.xticks(fontsize=15,rotation=35, ha='right')"
   ]
  },
  {
   "cell_type": "markdown",
   "metadata": {},
   "source": [
    "В отличие от нашего неглубокого дерева, в лесе все встало на свои места, и RM признак начал давать наибольший вклад в цену за Бостонское жилье, но все же не помешает взглянуть, как теперь распределен вклад признака LSTAT в зависимости от предсказанной цены."
   ]
  },
  {
   "cell_type": "code",
   "execution_count": 371,
   "metadata": {},
   "outputs": [
    {
     "data": {
      "text/plain": [
       "Text(0.5,0,'LSTAT')"
      ]
     },
     "execution_count": 371,
     "metadata": {},
     "output_type": "execute_result"
    },
    {
     "data": {
      "image/png": "[encoded data removed]",
      "text/plain": [
       "<matplotlib.figure.Figure at 0x1d8a5921518>"
      ]
     },
     "metadata": {},
     "output_type": "display_data"
    }
   ],
   "source": [
    "sns.set(rc={'figure.figsize':(8.7,6.27)},font_scale=1.5)\n",
    "plt.plot(X.iloc[:,-1].values,contributions[:,-1],'o')\n",
    "z = np.poly1d(np.polyfit(X.iloc[:,-1].values, contributions[:,-1], 3))\n",
    "z_poly_x=[i[0] for i in sorted(list(zip(X.iloc[:,-1],z(X.iloc[:,-1].values))))]\n",
    "z_poly_y=[i[1] for i in sorted(list(zip(X.iloc[:,-1],z(X.iloc[:,-1].values))))]\n",
    "plt.plot(z_poly_x,z_poly_y)\n",
    "plt.ylabel('Contribution')\n",
    "plt.xlabel('LSTAT')"
   ]
  },
  {
   "cell_type": "markdown",
   "metadata": {},
   "source": [
    "Как мы и говорили, в случайном лесе мы наконец можем наблюдать подобие монотонной зависимости, которая достигается во многом благодаря изменчивости предсказаний из-за большого количества деревьев.  \n",
    "<i>Промежуточный итог: если вам мучает вопрос, а что именно повлияло на ваше предсказанное значение, библиотека treeinterpeter послужит вашим лекарством от всех болезней.</i>"
   ]
  },
  {
   "cell_type": "markdown",
   "metadata": {},
   "source": [
    "# Доверительные интервалы"
   ]
  },
  {
   "cell_type": "markdown",
   "metadata": {},
   "source": [
    "В предыдущих частях мы много говорили о том, как формируется предсказание модели, какие факторы влияют на прогнозную силу в целом и на пресказание для отдельных наблюдений. Но до текущего момента мы воспринимали спрогнозированное значение, как максимально точную оценку целевого признака.  \n",
    "Возможно, для внутреннего использования такой подход и подойдет, но если речь заходит о бизнес метриках, то тут вступают в силу совершенно другие требования, и заказчику, как правило, хочется видеть не только точечную оценку значения, но и насколько сильно он может доверять такой оценке или другими словами, насколько велик разброс для предсказанного значения.  \n",
    "Представим себе типичную задачу кредитного скоринга, когда банку для предоставления какой-либо услуги необходимо оценить величину риска того, что клиент окажется неблагонадежным, и посчитать возможные потери по услуге. Модель, которая, выражаясь в терминах bias-variance, имеет высокий разброс, должна в первую очередь выдавать интервальные оценки таких потерь, чтобы конечный пользователь, не смотря на условно высокую точность алгоритма, мог оценить, насколько велик разброс оценки используемой модели. "
   ]
  },
  {
   "cell_type": "markdown",
   "metadata": {},
   "source": [
    "<img src=\"img/garfield-1.JpG\">"
   ]
  },
  {
   "cell_type": "markdown",
   "metadata": {},
   "source": [
    "В отличие от линейных моделей, зарекомендовавших себя в том же банковском секторе в основном благодаря интерпретируемости и возможности построения интервальной оценки, в случайном лесе с разбросом полученной оценки все не так однозначно.  \n",
    "Как мы помним, случайный лес состоит из некоторого количества базовых моделей, каждое из которых выдает свой прогноз. Основной идеей в данном случае является построение доверительных интервалов, анализируя предсказания каждого дерева в отдельности, предполагая, что наш алгоритм более уверен в тех местах, где спрогнозированные значения не подлежат такой сильной флуктуации.  "
   ]
  },
  {
   "cell_type": "markdown",
   "metadata": {},
   "source": [
    "Алгоритм для расчета доверительных интервалов:"
   ]
  },
  {
   "cell_type": "code",
   "execution_count": 349,
   "metadata": {
    "collapsed": true
   },
   "outputs": [],
   "source": [
    "def make_ci(clf,pred_value,true_value,ci):\n",
    "    tree_preds=np.vstack([tree.predict(pred_value) for tree in clf.estimators_])\n",
    "    upper=np.percentile(tree_preds,50+ci/2,axis=0)\n",
    "    lower=np.percentile(tree_preds,(100-ci)/2,axis=0)\n",
    "    y_pred=clf.predict(pred_value)\n",
    "    y_true=true_value\n",
    "    error=y_true-y_pred\n",
    "    deviation=(upper-lower)/y_pred\n",
    "    return pd.DataFrame({'Deviation':deviation,'Error':error,'Higher Bound':upper,'Lower Bound':lower,'Predicted value':y_pred,'True value':y_true,},columns=['True value','Predicted value','Error','Lower Bound','Higher Bound','Deviation'])"
   ]
  },
  {
   "cell_type": "code",
   "execution_count": 372,
   "metadata": {},
   "outputs": [
    {
     "data": {
      "text/html": [
       "<div>\n",
       "<style scoped>\n",
       "    .dataframe tbody tr th:only-of-type {\n",
       "        vertical-align: middle;\n",
       "    }\n",
       "\n",
       "    .dataframe tbody tr th {\n",
       "        vertical-align: top;\n",
       "    }\n",
       "\n",
       "    .dataframe thead th {\n",
       "        text-align: right;\n",
       "    }\n",
       "</style>\n",
       "<table border=\"1\" class=\"dataframe\">\n",
       "  <thead>\n",
       "    <tr style=\"text-align: right;\">\n",
       "      <th></th>\n",
       "      <th>True value</th>\n",
       "      <th>Predicted value</th>\n",
       "      <th>Error</th>\n",
       "      <th>Lower Bound</th>\n",
       "      <th>Higher Bound</th>\n",
       "      <th>Deviation</th>\n",
       "    </tr>\n",
       "  </thead>\n",
       "  <tbody>\n",
       "    <tr>\n",
       "      <th>0</th>\n",
       "      <td>21.9</td>\n",
       "      <td>30.61</td>\n",
       "      <td>-8.71</td>\n",
       "      <td>21.90</td>\n",
       "      <td>50.0</td>\n",
       "      <td>0.918001</td>\n",
       "    </tr>\n",
       "    <tr>\n",
       "      <th>1</th>\n",
       "      <td>27.5</td>\n",
       "      <td>25.22</td>\n",
       "      <td>2.28</td>\n",
       "      <td>13.79</td>\n",
       "      <td>27.5</td>\n",
       "      <td>0.543616</td>\n",
       "    </tr>\n",
       "    <tr>\n",
       "      <th>2</th>\n",
       "      <td>21.9</td>\n",
       "      <td>21.17</td>\n",
       "      <td>0.73</td>\n",
       "      <td>19.90</td>\n",
       "      <td>21.9</td>\n",
       "      <td>0.094473</td>\n",
       "    </tr>\n",
       "  </tbody>\n",
       "</table>\n",
       "</div>"
      ],
      "text/plain": [
       "   True value  Predicted value  Error  Lower Bound  Higher Bound  Deviation\n",
       "0        21.9            30.61  -8.71        21.90          50.0   0.918001\n",
       "1        27.5            25.22   2.28        13.79          27.5   0.543616\n",
       "2        21.9            21.17   0.73        19.90          21.9   0.094473"
      ]
     },
     "execution_count": 372,
     "metadata": {},
     "output_type": "execute_result"
    }
   ],
   "source": [
    "make_ci(rf,X[364:367],Y[364:367],95)"
   ]
  },
  {
   "cell_type": "markdown",
   "metadata": {},
   "source": [
    "Построив доверительные интеварлы, мы видим, насколько сильно может расти разброс значения от дерева к дереву. В данном случае полученные отклонения говорят нам о том, что наша модель наиболее уверенно определяет наблюдение с индексом 2, интервальное значение которого колеблется в пределах 5% от предсказанного значения   "
   ]
  },
  {
   "cell_type": "markdown",
   "metadata": {},
   "source": [
    "<i>Заключение: в этом небольшом обзоре мы убедились, что случайный лес совсем незаслуженно часто называют black-box алгоритмом, познакомились с различными подходами к интерпретации деревянных моделей и в следующий раз, когда нас попросят воспользоваться каким-нибудь линейным алгоритмом, аргументируя это его интерпретируемостью, у нас будет, что возразить!</i>"
   ]
  },
  {
   "cell_type": "markdown",
   "metadata": {},
   "source": [
    "Полезные ссылки:\n",
    "* Подходы к интерпретации случайного леса (те же грабли, только сбоку) https://towardsdatascience.com/intuitive-interpretation-of-random-forest-2238687cae45 \n",
    "* Немного об интепретации в задаче классификации http://engineering.pivotal.io/post/interpreting-decision-trees-and-random-forests/\n",
    "* Интересные визуализации по интерпретации леса от fast.ai https://github.com/fastai/fastai/tree/7016feaf39583977ff9f70972e5a3232c8bd4447/courses/ml1\n"
   ]
  }
 ],
 "metadata": {
  "kernelspec": {
   "display_name": "Python 3",
   "language": "python",
   "name": "python3"
  },
  "language_info": {
   "codemirror_mode": {
    "name": "ipython",
    "version": 3
   },
   "file_extension": ".py",
   "mimetype": "text/x-python",
   "name": "python",
   "nbconvert_exporter": "python",
   "pygments_lexer": "ipython3",
   "version": "3.6.4"
  }
 },
 "nbformat": 4,
 "nbformat_minor": 2
}
