{
 "cells": [
  {
   "cell_type": "markdown",
   "metadata": {},
   "source": [
    "<center>\n",
    "<img src=\"../../img/ods_stickers.jpg\">\n",
    "## Открытый курс по машинному обучению\n",
    "<center>Автор материала: Измайлов Константин Константинович (@Izmajlovkonstantin)."
   ]
  },
  {
   "cell_type": "markdown",
   "metadata": {},
   "source": [
    "##  <center>Отбор признаков с помощью алгоритма Boruta или как приручить лесного демона. <BR> </center>"
   ]
  },
  {
   "cell_type": "markdown",
   "metadata": {},
   "source": [
    "<img src=\"https://raw.githubusercontent.com/Twoweaks/random/master/leshyboruta12.png\" width=\"700\">"
   ]
  },
  {
   "cell_type": "markdown",
   "metadata": {},
   "source": [
    "### 1. Введение"
   ]
  },
  {
   "cell_type": "markdown",
   "metadata": {},
   "source": [
    "Решая ту или иную задачу машинного обучения не стоит забывать одно простое правило: <I>\"Garbage in - garbage out\" </I>, означающее, что чем \"зашумленнее\" были поданы данные на входе, тем хуже будет решение задачи.\n",
    "\n",
    "Корректный отбор признаков - один из важнейших этапов предобработки данных. Особенно критичен отбор признаков при решении задач в индустрии, когда датасаентист встречается с большим набором фичей, многие из которых не имеют отношения к решаемой проблеме.\n",
    "\n",
    "Отбор признаков обеспечаивает следующие преимущества:\n",
    "<UL>\n",
    "<LI> уменьшение переобучения;\n",
    "<LI> повышение точности;\n",
    "<LI> сокращение времени обучения;\n",
    "<LI> сокращение затрат на поиск и обновление информации (характерно для индустрии).    \n",
    "</UL>\n",
    "    \n",
    "    "
   ]
  },
  {
   "cell_type": "markdown",
   "metadata": {},
   "source": [
    "Существуют три основных класса алгоритмов отбора признаков:\n",
    "<OL>\n",
    "<LI> <B> Фильтры </B> - применяются до классификации, не зависят от алгоритма самой модели. Признаки отбираются, как правило, основываясь на оценках статистических тестов (корреляци Пирсона, LDA, ANOVA и т.д.);\n",
    "<LI> <B> Встроенные методы </B> - выполняют отбор признаков неотделимо от процесса обучения модели (наприм. - Lasso-регрессия); \n",
    "<LI> <B> Оберточные методы </B> - используют информацию о важности признаков, полученную от алгоритмов обучения, и затем находят сложные зависимости между ними. \n",
    "</OL>    "
   ]
  },
  {
   "cell_type": "markdown",
   "metadata": {},
   "source": [
    "Схематичное изображение оберточного метода.\n",
    "<img src=\"https://raw.githubusercontent.com/Twoweaks/random/master/Wrapper_1.png\" width=\"700\">"
   ]
  },
  {
   "cell_type": "markdown",
   "metadata": {},
   "source": [
    "Одним из таких оберточных методов, который будет рассмотрен в данном туториале, будет алгоритм <B> Boruta </B>, названный в честь лесного славянского демона, реализующий адаптационный алгоритм для модели случайного леса (Kursa, Rudnicki, 2010)."
   ]
  },
  {
   "cell_type": "markdown",
   "metadata": {},
   "source": [
    "### 2. Алгоритм Boruta"
   ]
  },
  {
   "cell_type": "markdown",
   "metadata": {},
   "source": [
    "Основная идея алгоритма заключается в сравнении исходных признаков с их теневыми копиями (англ. - shadow features) - признаками, полученными с помощью случайного перемешивания значений исходных признаков между строками. Соответственно, признаки, которые мало чем отличаются от теневых будут совершенно не важны для модели.   "
   ]
  },
  {
   "cell_type": "markdown",
   "metadata": {},
   "source": [
    "<U>Рассмотрим алгоритм пошагово:</U>\n",
    "<OL>\n",
    "    <LI> Добавить в исходный набор данных теневые копии всех признаков (обычно добавляется по 5 теневых признаков для каждого признака исходного набора данных, вне зависимости от их общего числа);\n",
    "    <LI> Обучить несколько раз алгоритм (в данном случае - случайный лес) на новом наборе данных;\n",
    "    <LI> Рассчитать важность всех признаков на каждой итерации алгоритма.\n",
    "    Важность признаков рассчитывается как дополнительная ошибки регрессии, вызванная исключением этого признака из модели. Среднее  $μ$  этой дополнительной ошибки и его стандартное отклонение $σ$ рассчитываются по всем деревьям в лесу, которые используют оцениваемый признак для прогнозирования. Мера $Z$ каждого признака рассчитывается как  $\\dfrac{μ}{σ}$. Данная оценка не может использоваться напрямую для определения важности каждого из признаков модели в отдельности, так как не имеет нормального распределения. \n",
    "        <BR>\n",
    "     <LI> Для каждого из признаков с помощью биноминального распределения подсчитывается, какая вероятность того, что $Z$-мера исходного признака будет выше $Z$-меры всех его теневых признаков. Рассчитывается уровень значимости $p$ с поправкой на множественную проверку гипотез (для алгоритма Boruta используется достаточно консервативная коррекция Бонфферони), так как такое сравнение делается для тысячи итераций;\n",
    "       <LI> Признаки, у которых веротяность $Z$-меры теневых признаков статистически значима выше вероятности $Z$-меры исходного признака считаются неважными и выбрасываются из обучаемого набора данных (зачастую со своими теневыми копиями);\n",
    "        <LI> Процедура повторяется до тех пор, пока не будет достигнут заданный набор итераций или всем признаком не будет проставлен признак важности.\n",
    "</OL>"
   ]
  },
  {
   "cell_type": "markdown",
   "metadata": {},
   "source": [
    "### 3. Интерфейс алгоритма"
   ]
  },
  {
   "cell_type": "markdown",
   "metadata": {},
   "source": [
    "Изначально алгоритм был реализован на R, а уже затем перенесен на Python с некоторыми изменениями:\n",
    "<UL>\n",
    "    <LI> поправка на множественную проверку гипотез стала более лояльной, но осталась возможность использовать коррекцию Бонфферони (задается опционально через параметр алгоритма <I> two_step  </I>);\n",
    "    <LI> скорректировано сравнение признаков с их теневыми копиями, в новой реализации учитываются перцентили, вместо строгого количественного сравнения в оригинальном алгоритме;\n",
    "        <LI> в том числе оптимизирована работа алгоритма, увеличено его бытсродействие и стабильность, добавлена совместимость с любым ансамблевым методом из sklearn.\n",
    "    </UL>"
   ]
  },
  {
   "cell_type": "markdown",
   "metadata": {},
   "source": [
    "<U> Параметры алгоритма: </U>\n",
    "<B>estimator</B> : object \n",
    "<B>n_estimators </B> : int or string, default = 1000 \n",
    "<B>perc</B> : int, default = 100 \n",
    "<B>alpha </B> : float, default = 0.05 \n",
    "<B>two_step </B>  : Boolean, default = True \n",
    "<B>max_iter</B>  : int, default = 100 \n",
    "<B>verbose </B>  : int, default=0 \n",
    "\n",
    "Более подробно о параметрах и атрибутах можно прочитать [тут](https://github.com/scikit-learn-contrib/boruta_py)."
   ]
  },
  {
   "cell_type": "markdown",
   "metadata": {},
   "source": [
    "### 4. Пример реализации"
   ]
  },
  {
   "cell_type": "markdown",
   "metadata": {},
   "source": [
    "Применять алгоритм Boruta будем на публичном датасете <I>  Breast Cancer Wisconsin (Diagnostic) Data Set </I> представляющий собой проблему классификации, где по характеристикам опухоли в женской груди необходимо определить, является ли опухоль доброкачественной (benign) либо злокачественной (malignant). "
   ]
  },
  {
   "cell_type": "code",
   "execution_count": 1,
   "metadata": {},
   "outputs": [],
   "source": [
    "# импортируем необходимые библиотеки\n",
    "import warnings\n",
    "warnings.filterwarnings('ignore')\n",
    "import pandas as pd\n",
    "from sklearn.ensemble import RandomForestClassifier\n",
    "from boruta import BorutaPy\n",
    "import numpy as np\n",
    "from sklearn.model_selection import StratifiedKFold\n",
    "from sklearn.metrics import roc_auc_score\n",
    "\n",
    "#загружаем сам датасет\n",
    "from sklearn.datasets import load_breast_cancer\n",
    "data = load_breast_cancer()\n",
    "\n",
    "df = pd.DataFrame(np.c_[data['data'], data['target']],\n",
    "                  columns= np.append(data['feature_names'], ['target']))"
   ]
  },
  {
   "cell_type": "code",
   "execution_count": 2,
   "metadata": {},
   "outputs": [
    {
     "data": {
      "text/html": [
       "<div>\n",
       "<style scoped>\n",
       "    .dataframe tbody tr th:only-of-type {\n",
       "        vertical-align: middle;\n",
       "    }\n",
       "\n",
       "    .dataframe tbody tr th {\n",
       "        vertical-align: top;\n",
       "    }\n",
       "\n",
       "    .dataframe thead th {\n",
       "        text-align: right;\n",
       "    }\n",
       "</style>\n",
       "<table border=\"1\" class=\"dataframe\">\n",
       "  <thead>\n",
       "    <tr style=\"text-align: right;\">\n",
       "      <th></th>\n",
       "      <th>mean radius</th>\n",
       "      <th>mean texture</th>\n",
       "      <th>mean perimeter</th>\n",
       "      <th>mean area</th>\n",
       "      <th>mean smoothness</th>\n",
       "      <th>mean compactness</th>\n",
       "      <th>mean concavity</th>\n",
       "      <th>mean concave points</th>\n",
       "      <th>mean symmetry</th>\n",
       "      <th>mean fractal dimension</th>\n",
       "      <th>...</th>\n",
       "      <th>worst texture</th>\n",
       "      <th>worst perimeter</th>\n",
       "      <th>worst area</th>\n",
       "      <th>worst smoothness</th>\n",
       "      <th>worst compactness</th>\n",
       "      <th>worst concavity</th>\n",
       "      <th>worst concave points</th>\n",
       "      <th>worst symmetry</th>\n",
       "      <th>worst fractal dimension</th>\n",
       "      <th>target</th>\n",
       "    </tr>\n",
       "  </thead>\n",
       "  <tbody>\n",
       "    <tr>\n",
       "      <th>0</th>\n",
       "      <td>17.99</td>\n",
       "      <td>10.38</td>\n",
       "      <td>122.80</td>\n",
       "      <td>1001.0</td>\n",
       "      <td>0.11840</td>\n",
       "      <td>0.27760</td>\n",
       "      <td>0.3001</td>\n",
       "      <td>0.14710</td>\n",
       "      <td>0.2419</td>\n",
       "      <td>0.07871</td>\n",
       "      <td>...</td>\n",
       "      <td>17.33</td>\n",
       "      <td>184.60</td>\n",
       "      <td>2019.0</td>\n",
       "      <td>0.1622</td>\n",
       "      <td>0.6656</td>\n",
       "      <td>0.7119</td>\n",
       "      <td>0.2654</td>\n",
       "      <td>0.4601</td>\n",
       "      <td>0.11890</td>\n",
       "      <td>0.0</td>\n",
       "    </tr>\n",
       "    <tr>\n",
       "      <th>1</th>\n",
       "      <td>20.57</td>\n",
       "      <td>17.77</td>\n",
       "      <td>132.90</td>\n",
       "      <td>1326.0</td>\n",
       "      <td>0.08474</td>\n",
       "      <td>0.07864</td>\n",
       "      <td>0.0869</td>\n",
       "      <td>0.07017</td>\n",
       "      <td>0.1812</td>\n",
       "      <td>0.05667</td>\n",
       "      <td>...</td>\n",
       "      <td>23.41</td>\n",
       "      <td>158.80</td>\n",
       "      <td>1956.0</td>\n",
       "      <td>0.1238</td>\n",
       "      <td>0.1866</td>\n",
       "      <td>0.2416</td>\n",
       "      <td>0.1860</td>\n",
       "      <td>0.2750</td>\n",
       "      <td>0.08902</td>\n",
       "      <td>0.0</td>\n",
       "    </tr>\n",
       "    <tr>\n",
       "      <th>2</th>\n",
       "      <td>19.69</td>\n",
       "      <td>21.25</td>\n",
       "      <td>130.00</td>\n",
       "      <td>1203.0</td>\n",
       "      <td>0.10960</td>\n",
       "      <td>0.15990</td>\n",
       "      <td>0.1974</td>\n",
       "      <td>0.12790</td>\n",
       "      <td>0.2069</td>\n",
       "      <td>0.05999</td>\n",
       "      <td>...</td>\n",
       "      <td>25.53</td>\n",
       "      <td>152.50</td>\n",
       "      <td>1709.0</td>\n",
       "      <td>0.1444</td>\n",
       "      <td>0.4245</td>\n",
       "      <td>0.4504</td>\n",
       "      <td>0.2430</td>\n",
       "      <td>0.3613</td>\n",
       "      <td>0.08758</td>\n",
       "      <td>0.0</td>\n",
       "    </tr>\n",
       "    <tr>\n",
       "      <th>3</th>\n",
       "      <td>11.42</td>\n",
       "      <td>20.38</td>\n",
       "      <td>77.58</td>\n",
       "      <td>386.1</td>\n",
       "      <td>0.14250</td>\n",
       "      <td>0.28390</td>\n",
       "      <td>0.2414</td>\n",
       "      <td>0.10520</td>\n",
       "      <td>0.2597</td>\n",
       "      <td>0.09744</td>\n",
       "      <td>...</td>\n",
       "      <td>26.50</td>\n",
       "      <td>98.87</td>\n",
       "      <td>567.7</td>\n",
       "      <td>0.2098</td>\n",
       "      <td>0.8663</td>\n",
       "      <td>0.6869</td>\n",
       "      <td>0.2575</td>\n",
       "      <td>0.6638</td>\n",
       "      <td>0.17300</td>\n",
       "      <td>0.0</td>\n",
       "    </tr>\n",
       "    <tr>\n",
       "      <th>4</th>\n",
       "      <td>20.29</td>\n",
       "      <td>14.34</td>\n",
       "      <td>135.10</td>\n",
       "      <td>1297.0</td>\n",
       "      <td>0.10030</td>\n",
       "      <td>0.13280</td>\n",
       "      <td>0.1980</td>\n",
       "      <td>0.10430</td>\n",
       "      <td>0.1809</td>\n",
       "      <td>0.05883</td>\n",
       "      <td>...</td>\n",
       "      <td>16.67</td>\n",
       "      <td>152.20</td>\n",
       "      <td>1575.0</td>\n",
       "      <td>0.1374</td>\n",
       "      <td>0.2050</td>\n",
       "      <td>0.4000</td>\n",
       "      <td>0.1625</td>\n",
       "      <td>0.2364</td>\n",
       "      <td>0.07678</td>\n",
       "      <td>0.0</td>\n",
       "    </tr>\n",
       "  </tbody>\n",
       "</table>\n",
       "<p>5 rows × 31 columns</p>\n",
       "</div>"
      ],
      "text/plain": [
       "   mean radius  mean texture  mean perimeter  mean area  mean smoothness  \\\n",
       "0        17.99         10.38          122.80     1001.0          0.11840   \n",
       "1        20.57         17.77          132.90     1326.0          0.08474   \n",
       "2        19.69         21.25          130.00     1203.0          0.10960   \n",
       "3        11.42         20.38           77.58      386.1          0.14250   \n",
       "4        20.29         14.34          135.10     1297.0          0.10030   \n",
       "\n",
       "   mean compactness  mean concavity  mean concave points  mean symmetry  \\\n",
       "0           0.27760          0.3001              0.14710         0.2419   \n",
       "1           0.07864          0.0869              0.07017         0.1812   \n",
       "2           0.15990          0.1974              0.12790         0.2069   \n",
       "3           0.28390          0.2414              0.10520         0.2597   \n",
       "4           0.13280          0.1980              0.10430         0.1809   \n",
       "\n",
       "   mean fractal dimension   ...    worst texture  worst perimeter  worst area  \\\n",
       "0                 0.07871   ...            17.33           184.60      2019.0   \n",
       "1                 0.05667   ...            23.41           158.80      1956.0   \n",
       "2                 0.05999   ...            25.53           152.50      1709.0   \n",
       "3                 0.09744   ...            26.50            98.87       567.7   \n",
       "4                 0.05883   ...            16.67           152.20      1575.0   \n",
       "\n",
       "   worst smoothness  worst compactness  worst concavity  worst concave points  \\\n",
       "0            0.1622             0.6656           0.7119                0.2654   \n",
       "1            0.1238             0.1866           0.2416                0.1860   \n",
       "2            0.1444             0.4245           0.4504                0.2430   \n",
       "3            0.2098             0.8663           0.6869                0.2575   \n",
       "4            0.1374             0.2050           0.4000                0.1625   \n",
       "\n",
       "   worst symmetry  worst fractal dimension  target  \n",
       "0          0.4601                  0.11890     0.0  \n",
       "1          0.2750                  0.08902     0.0  \n",
       "2          0.3613                  0.08758     0.0  \n",
       "3          0.6638                  0.17300     0.0  \n",
       "4          0.2364                  0.07678     0.0  \n",
       "\n",
       "[5 rows x 31 columns]"
      ]
     },
     "execution_count": 2,
     "metadata": {},
     "output_type": "execute_result"
    }
   ],
   "source": [
    "df.head()"
   ]
  },
  {
   "cell_type": "markdown",
   "metadata": {},
   "source": [
    "Датасет состоит из 30 признаков и одного целевого признака. О значении большинства признаков остается лишь догадываться, тем более определить их значимость, датасаентисту, не разбирающемуся в медицине, не представляется возможным."
   ]
  },
  {
   "cell_type": "code",
   "execution_count": 3,
   "metadata": {},
   "outputs": [
    {
     "name": "stdout",
     "output_type": "stream",
     "text": [
      "Доля меток с злокачественной опухолью - 0.63.\n"
     ]
    }
   ],
   "source": [
    "print('Доля меток с злокачественной опухолью - {}.'.format(np.round(df[df.target == 1].shape[0]/df.shape[0],2)))"
   ]
  },
  {
   "cell_type": "markdown",
   "metadata": {},
   "source": [
    "Валидировать алгоритм будем на 3 фолдах, в качестве метрики будем использовать ROC AUC score."
   ]
  },
  {
   "cell_type": "code",
   "execution_count": 4,
   "metadata": {},
   "outputs": [],
   "source": [
    "X = df.iloc[:,:-1]\n",
    "y = df['target']\n",
    "\n",
    "def validation(ensemble, X, y, n_folds = 3):\n",
    "    rocs = []\n",
    "    skf = StratifiedKFold(n_splits=n_folds)\n",
    "    for train, test in skf.split(X, y):\n",
    "        X_train, X_test = X.loc[train,:], X.loc[test,:]\n",
    "        y_train, y_test = y[train],y[test]\n",
    "        ensemble.fit(X_train,y_train)      \n",
    "        rocs.append(roc_auc_score(y_test,ensemble.predict_proba(X_test)[:,1]))\n",
    "    return np.mean(rocs)"
   ]
  },
  {
   "cell_type": "markdown",
   "metadata": {},
   "source": [
    "Воспользуемся коробочным решением алгоритма и посмотрим на результат."
   ]
  },
  {
   "cell_type": "code",
   "execution_count": 5,
   "metadata": {},
   "outputs": [
    {
     "name": "stdout",
     "output_type": "stream",
     "text": [
      "ROC AUC SCORE - 0.987678451662355.\n"
     ]
    }
   ],
   "source": [
    "clf = RandomForestClassifier(n_estimators=500,max_depth=3, random_state=10)\n",
    "print('ROC AUC SCORE - {}.'.format(validation(clf, X, y)))"
   ]
  },
  {
   "cell_type": "markdown",
   "metadata": {},
   "source": [
    "Коробочное решение алгоритма справляется уже неплохо, попробуем призвать нашего лесного демона, может, он сможет улучшить наш алгоритм. При этом, попробуем добавить в данные немного шума, посмотрим, сможет ли Boruta найти их. "
   ]
  },
  {
   "cell_type": "code",
   "execution_count": 6,
   "metadata": {},
   "outputs": [
    {
     "name": "stdout",
     "output_type": "stream",
     "text": [
      "Iteration: \t1 / 50\n",
      "Confirmed: \t0\n",
      "Tentative: \t34\n",
      "Rejected: \t0\n",
      "Iteration: \t2 / 50\n",
      "Confirmed: \t0\n",
      "Tentative: \t34\n",
      "Rejected: \t0\n",
      "Iteration: \t3 / 50\n",
      "Confirmed: \t0\n",
      "Tentative: \t34\n",
      "Rejected: \t0\n",
      "Iteration: \t4 / 50\n",
      "Confirmed: \t0\n",
      "Tentative: \t34\n",
      "Rejected: \t0\n",
      "Iteration: \t5 / 50\n",
      "Confirmed: \t0\n",
      "Tentative: \t34\n",
      "Rejected: \t0\n",
      "Iteration: \t6 / 50\n",
      "Confirmed: \t0\n",
      "Tentative: \t34\n",
      "Rejected: \t0\n",
      "Iteration: \t7 / 50\n",
      "Confirmed: \t0\n",
      "Tentative: \t34\n",
      "Rejected: \t0\n",
      "Iteration: \t8 / 50\n",
      "Confirmed: \t23\n",
      "Tentative: \t7\n",
      "Rejected: \t4\n",
      "Iteration: \t9 / 50\n",
      "Confirmed: \t23\n",
      "Tentative: \t7\n",
      "Rejected: \t4\n",
      "Iteration: \t10 / 50\n",
      "Confirmed: \t23\n",
      "Tentative: \t7\n",
      "Rejected: \t4\n",
      "Iteration: \t11 / 50\n",
      "Confirmed: \t23\n",
      "Tentative: \t7\n",
      "Rejected: \t4\n",
      "Iteration: \t12 / 50\n",
      "Confirmed: \t25\n",
      "Tentative: \t5\n",
      "Rejected: \t4\n",
      "Iteration: \t13 / 50\n",
      "Confirmed: \t25\n",
      "Tentative: \t5\n",
      "Rejected: \t4\n",
      "Iteration: \t14 / 50\n",
      "Confirmed: \t25\n",
      "Tentative: \t4\n",
      "Rejected: \t5\n",
      "Iteration: \t15 / 50\n",
      "Confirmed: \t25\n",
      "Tentative: \t4\n",
      "Rejected: \t5\n",
      "Iteration: \t16 / 50\n",
      "Confirmed: \t26\n",
      "Tentative: \t3\n",
      "Rejected: \t5\n",
      "Iteration: \t17 / 50\n",
      "Confirmed: \t26\n",
      "Tentative: \t3\n",
      "Rejected: \t5\n",
      "Iteration: \t18 / 50\n",
      "Confirmed: \t26\n",
      "Tentative: \t3\n",
      "Rejected: \t5\n",
      "Iteration: \t19 / 50\n",
      "Confirmed: \t27\n",
      "Tentative: \t2\n",
      "Rejected: \t5\n",
      "Iteration: \t20 / 50\n",
      "Confirmed: \t27\n",
      "Tentative: \t2\n",
      "Rejected: \t5\n",
      "Iteration: \t21 / 50\n",
      "Confirmed: \t27\n",
      "Tentative: \t2\n",
      "Rejected: \t5\n",
      "Iteration: \t22 / 50\n",
      "Confirmed: \t27\n",
      "Tentative: \t2\n",
      "Rejected: \t5\n",
      "Iteration: \t23 / 50\n",
      "Confirmed: \t27\n",
      "Tentative: \t2\n",
      "Rejected: \t5\n",
      "Iteration: \t24 / 50\n",
      "Confirmed: \t27\n",
      "Tentative: \t2\n",
      "Rejected: \t5\n",
      "Iteration: \t25 / 50\n",
      "Confirmed: \t27\n",
      "Tentative: \t2\n",
      "Rejected: \t5\n",
      "Iteration: \t26 / 50\n",
      "Confirmed: \t27\n",
      "Tentative: \t2\n",
      "Rejected: \t5\n",
      "Iteration: \t27 / 50\n",
      "Confirmed: \t27\n",
      "Tentative: \t2\n",
      "Rejected: \t5\n",
      "Iteration: \t28 / 50\n",
      "Confirmed: \t27\n",
      "Tentative: \t2\n",
      "Rejected: \t5\n",
      "Iteration: \t29 / 50\n",
      "Confirmed: \t27\n",
      "Tentative: \t2\n",
      "Rejected: \t5\n",
      "Iteration: \t30 / 50\n",
      "Confirmed: \t27\n",
      "Tentative: \t2\n",
      "Rejected: \t5\n",
      "Iteration: \t31 / 50\n",
      "Confirmed: \t27\n",
      "Tentative: \t2\n",
      "Rejected: \t5\n",
      "Iteration: \t32 / 50\n",
      "Confirmed: \t27\n",
      "Tentative: \t2\n",
      "Rejected: \t5\n",
      "Iteration: \t33 / 50\n",
      "Confirmed: \t27\n",
      "Tentative: \t2\n",
      "Rejected: \t5\n",
      "Iteration: \t34 / 50\n",
      "Confirmed: \t27\n",
      "Tentative: \t2\n",
      "Rejected: \t5\n",
      "Iteration: \t35 / 50\n",
      "Confirmed: \t27\n",
      "Tentative: \t2\n",
      "Rejected: \t5\n",
      "Iteration: \t36 / 50\n",
      "Confirmed: \t27\n",
      "Tentative: \t2\n",
      "Rejected: \t5\n",
      "Iteration: \t37 / 50\n",
      "Confirmed: \t27\n",
      "Tentative: \t2\n",
      "Rejected: \t5\n",
      "Iteration: \t38 / 50\n",
      "Confirmed: \t27\n",
      "Tentative: \t2\n",
      "Rejected: \t5\n",
      "Iteration: \t39 / 50\n",
      "Confirmed: \t27\n",
      "Tentative: \t2\n",
      "Rejected: \t5\n",
      "Iteration: \t40 / 50\n",
      "Confirmed: \t27\n",
      "Tentative: \t2\n",
      "Rejected: \t5\n",
      "Iteration: \t41 / 50\n",
      "Confirmed: \t27\n",
      "Tentative: \t2\n",
      "Rejected: \t5\n",
      "Iteration: \t42 / 50\n",
      "Confirmed: \t27\n",
      "Tentative: \t2\n",
      "Rejected: \t5\n",
      "Iteration: \t43 / 50\n",
      "Confirmed: \t27\n",
      "Tentative: \t2\n",
      "Rejected: \t5\n",
      "Iteration: \t44 / 50\n",
      "Confirmed: \t27\n",
      "Tentative: \t2\n",
      "Rejected: \t5\n",
      "Iteration: \t45 / 50\n",
      "Confirmed: \t27\n",
      "Tentative: \t2\n",
      "Rejected: \t5\n",
      "Iteration: \t46 / 50\n",
      "Confirmed: \t27\n",
      "Tentative: \t2\n",
      "Rejected: \t5\n",
      "Iteration: \t47 / 50\n",
      "Confirmed: \t27\n",
      "Tentative: \t2\n",
      "Rejected: \t5\n",
      "Iteration: \t48 / 50\n",
      "Confirmed: \t27\n",
      "Tentative: \t2\n",
      "Rejected: \t5\n",
      "Iteration: \t49 / 50\n",
      "Confirmed: \t27\n",
      "Tentative: \t2\n",
      "Rejected: \t5\n",
      "\n",
      "\n",
      "BorutaPy finished running.\n",
      "\n",
      "Iteration: \t50 / 50\n",
      "Confirmed: \t27\n",
      "Tentative: \t2\n",
      "Rejected: \t5\n"
     ]
    },
    {
     "data": {
      "text/plain": [
       "BorutaPy(alpha=0.05,\n",
       "     estimator=RandomForestClassifier(bootstrap=True, class_weight=None, criterion='gini',\n",
       "            max_depth=3, max_features='auto', max_leaf_nodes=None,\n",
       "            min_impurity_decrease=0.0, min_impurity_split=None,\n",
       "            min_samples_leaf=1, min_samples_split=2,\n",
       "            min_weight_fraction_leaf=0.0, n_estimators=253, n_jobs=1,\n",
       "            oob_score=False,\n",
       "            random_state=<mtrand.RandomState object at 0x11174c510>,\n",
       "            verbose=0, warm_start=False),\n",
       "     max_iter=50, n_estimators='auto', perc=100,\n",
       "     random_state=<mtrand.RandomState object at 0x11174c510>,\n",
       "     two_step=True, verbose=2)"
      ]
     },
     "execution_count": 6,
     "metadata": {},
     "output_type": "execute_result"
    }
   ],
   "source": [
    "X_with_noise = X.copy()\n",
    "X_with_noise['random_noise_0'] = np.random.random( X_with_noise.shape[0])\n",
    "X_with_noise['random_noise_1'] = np.random.random( X_with_noise.shape[0])\n",
    "X_with_noise['random_noise_2'] = np.random.random( X_with_noise.shape[0])\n",
    "X_with_noise['random_noise_3'] = np.random.random( X_with_noise.shape[0])\n",
    "\n",
    "feat_selector = BorutaPy(clf, n_estimators='auto', verbose=2, random_state=17, max_iter=50)\n",
    "feat_selector.fit(X_with_noise.values, y)"
   ]
  },
  {
   "cell_type": "markdown",
   "metadata": {},
   "source": [
    "Уже на 8 итерации Boruta определил 4 добавленных шумовых признака. В том числе, для некоторых признаков исходного датасета была поставлена метка <I>Tentative</I>, то есть алгоритм не совсем уверен, являются ли данные метки важными для предсказания или нет. \n",
    "\n",
    "Определим, что это за признаки и попробуем обучить алгоритм без них."
   ]
  },
  {
   "cell_type": "code",
   "execution_count": 7,
   "metadata": {},
   "outputs": [
    {
     "data": {
      "text/plain": [
       "Index(['texture error', 'smoothness error', 'symmetry error', 'random_noise_0',\n",
       "       'random_noise_1', 'random_noise_2', 'random_noise_3'],\n",
       "      dtype='object')"
      ]
     },
     "execution_count": 7,
     "metadata": {},
     "output_type": "execute_result"
    }
   ],
   "source": [
    "# Неважные для обучения признаки\n",
    "X_with_noise.columns[np.where(feat_selector.ranking_ !=1)]"
   ]
  },
  {
   "cell_type": "code",
   "execution_count": 8,
   "metadata": {},
   "outputs": [
    {
     "name": "stdout",
     "output_type": "stream",
     "text": [
      "ROC AUC SCORE - 0.9881580801334618.\n"
     ]
    }
   ],
   "source": [
    "X_important = X.iloc[:,np.where(feat_selector.ranking_ ==1)[0]]\n",
    "clf = RandomForestClassifier(n_estimators=500,max_depth=3, random_state=10)\n",
    "print('ROC AUC SCORE - {}.'.format(validation(clf, X_important, y)))"
   ]
  },
  {
   "cell_type": "markdown",
   "metadata": {},
   "source": [
    "Качество алгоритма улучшилось! А значит, наш лесной демон выполнил свою работу и может отправляться обратно в лес."
   ]
  },
  {
   "cell_type": "markdown",
   "metadata": {},
   "source": [
    "### 5. Заключение"
   ]
  },
  {
   "cell_type": "markdown",
   "metadata": {},
   "source": [
    "Хоть и в данном примере Boruta отработал на отлично, и с его помощью удалось улучшить качество алгоритма, но это не всегда так. В любом случае, попробовать использовать алгоритм стоит.\n",
    "\n",
    "Стоит отметить, что у алгоритма есть небольшой баг, который автор еще не устранил:\n",
    "в том случае, если по завершению всех итераций алгоритма Boruta не нашёл ни одного неважного признака (Rejected = 0) вылетает ошибка <B>\"iteration over a 0-d array\"</B>. До выхода нового апдейта модуля для корректной работы алгоритма можно добавлять колонку констант, которая будет наверняка принята алгоритмом как rejected и не спровоцирует вышеобознаечнную ошибку. \n",
    "\n",
    "По личному опыту скажу, что Boruta хорошо заходит в задачах с генерацией большого количества искусственных признаков: в задачах кредитного скоринга, но не стоит забывать, что работа алгоритма может занять много времени в зависимости от объема данных. \n",
    "\n",
    "Также в сети появилась новая улучшенная версия Boruta, реализованная на всеми любимом XGBoost. Прочитать про нее можно [тут](https://github.com/chasedehan/BoostARoota).\n",
    "\n",
    "На последок, желаю всем успехов в тренировки своих демонов, надеюсь данный туториал был вам полезен!"
   ]
  },
  {
   "cell_type": "markdown",
   "metadata": {},
   "source": [
    "<img src=\"https://raw.githubusercontent.com/Twoweaks/random/master/i_006.png\" width=\"400\">"
   ]
  }
 ],
 "metadata": {
  "kernelspec": {
   "display_name": "Python 3",
   "language": "python",
   "name": "python3"
  },
  "language_info": {
   "codemirror_mode": {
    "name": "ipython",
    "version": 3
   },
   "file_extension": ".py",
   "mimetype": "text/x-python",
   "name": "python",
   "nbconvert_exporter": "python",
   "pygments_lexer": "ipython3",
   "version": "3.6.1"
  }
 },
 "nbformat": 4,
 "nbformat_minor": 2
}
