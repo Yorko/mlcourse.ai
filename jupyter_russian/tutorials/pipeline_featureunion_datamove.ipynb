{
 "cells": [
  {
   "cell_type": "markdown",
   "metadata": {},
   "source": [
    "<center>\n",
    "<img src=\"../../img/ods_stickers.jpg\">\n",
    "## Открытый курс по машинному обучению\n",
    "<center>Автор материала: Трунов Артем Геннадьевич, @datamove."
   ]
  },
  {
   "cell_type": "markdown",
   "metadata": {},
   "source": [
    "# <center>Pipeline, FeatureUnion – практика применения"
   ]
  },
  {
   "cell_type": "markdown",
   "metadata": {},
   "source": [
    "## <center>Введение</center>\n",
    "В этой статье будем разбираться с классами пакета sklearn, которые представляют значительное удобство и экономию времени в работе. Многие, наверное, любят, когда код иллюстрируется диаграммами классов или каким-нибудь метакодом, который позволяет убрать из поля зрения все детали реализации и оставить на виду только самое главное. Pipeline в sklearn - это и есть такой вот метакод, с помошью которого модель видна как на ладони.\n",
    "\n",
    "В качестве же примеров будем использовать не измусоленные со всех сторон встроенные в sklearn датасеты, а знакомые читателю по домашним работам и соревнованию 'Alice' данные. Надеюсь, что кого-то эта статья побудит исправить свой код и вдохновит на новые засылки на Kaggle!"
   ]
  },
  {
   "cell_type": "markdown",
   "metadata": {},
   "source": [
    "## <center>Pipeline</center>\n",
    "Итак, начнем с перевода и определения. Русские слова \"труба\" и,тем паче, \"трубопровод\", мы, пожалуй, использовать не будем, а вот вариант \"конвейер данных\" кажется мне наиболее подходящим и благозвучным.\n",
    "\n",
    "Документация Pipeline определяет этот класс как конвейер преобразования данных с финальным эстиматором (обучающей моделью), применяющийся для того, чтобы можно было легко менять параметры на каждом этапе конвейера и сравнивать результаты. С такой же легкостью можно заменять и сами этапы преобразований данных и финальную модель.\n",
    "\n",
    "Давайте сразу окунемся в пример. Рассмотрим датасет Самсунга из домашней работы №7. Мы применяли  к данным алгоритм PCA для уменьшения размерности, а что бы он работал как надо, предварительно масштабировали данные. Для классификации использовали метод опорных векторов. Таким образом, наш конвейер будет состоять из двух шагов обработки (StandardScaler, PCA) и финальной модели (LinearSVC)."
   ]
  },
  {
   "cell_type": "code",
   "execution_count": 1,
   "metadata": {
    "collapsed": true
   },
   "outputs": [],
   "source": [
    "#изменить соответственно\n",
    "PATH_TO_DATA=\"../../\""
   ]
  },
  {
   "cell_type": "code",
   "execution_count": 2,
   "metadata": {
    "collapsed": true
   },
   "outputs": [],
   "source": [
    "#загрузка данных\n",
    "#На всякий случай - ссылка https://cloud.mail.ru/public/3EJK/cB2VXsyrP\n",
    "import numpy as np\n",
    "\n",
    "X_train = np.loadtxt(PATH_TO_DATA+\"data/samsung_HAR/samsung_train.txt\")\n",
    "y_train = np.loadtxt(PATH_TO_DATA+\"data/samsung_HAR/samsung_train_labels.txt\").astype(int)\n",
    "\n",
    "X_test = np.loadtxt(PATH_TO_DATA+\"data/samsung_HAR/samsung_test.txt\")\n",
    "y_test = np.loadtxt(PATH_TO_DATA+\"data/samsung_HAR/samsung_test_labels.txt\").astype(int)"
   ]
  },
  {
   "cell_type": "code",
   "execution_count": 3,
   "metadata": {
    "collapsed": true
   },
   "outputs": [],
   "source": [
    "from sklearn.pipeline import Pipeline\n",
    "from sklearn.preprocessing import StandardScaler\n",
    "from sklearn.decomposition import PCA\n",
    "from sklearn.svm import LinearSVC\n",
    "\n",
    "pipeline = Pipeline([\n",
    "    ('scaler', StandardScaler()),\n",
    "    ('pca', PCA(n_components=65)),\n",
    "    ('svc', LinearSVC())\n",
    "])"
   ]
  },
  {
   "cell_type": "markdown",
   "metadata": {},
   "source": [
    "Ну как, красиво? Давайте разберем. Конструктор Pipeline() принимает массив кортежей, в каждом из которых мнемоническое обозначение этапа преобразования и экземпляр класса преобразователя, инстанциированный \"на лету\". Первый этап предразования, 'scaler', принимает исходные данные, и выдает отмасштабированные на выход, который является входом второго этапа - 'pca'. Из 'pca' в 'svc' поступает урезанная матрица главных компонентов числом 65 штук. Обучение проводится именно на ней.\n",
    "\n",
    "Давайте запустим обучение и получим результат.\n"
   ]
  },
  {
   "cell_type": "code",
   "execution_count": 4,
   "metadata": {
    "collapsed": false
   },
   "outputs": [
    {
     "data": {
      "text/plain": [
       "Pipeline(memory=None,\n",
       "     steps=[('scaler', StandardScaler(copy=True, with_mean=True, with_std=True)), ('pca', PCA(copy=True, iterated_power='auto', n_components=65, random_state=None,\n",
       "  svd_solver='auto', tol=0.0, whiten=False)), ('svc', LinearSVC(C=1.0, class_weight=None, dual=True, fit_intercept=True,\n",
       "     intercept_scaling=1, loss='squared_hinge', max_iter=1000,\n",
       "     multi_class='ovr', penalty='l2', random_state=None, tol=0.0001,\n",
       "     verbose=0))])"
      ]
     },
     "execution_count": 4,
     "metadata": {},
     "output_type": "execute_result"
    }
   ],
   "source": [
    "pipeline.fit(X_train, y_train)"
   ]
  },
  {
   "cell_type": "code",
   "execution_count": 5,
   "metadata": {
    "collapsed": false
   },
   "outputs": [
    {
     "data": {
      "text/plain": [
       "0.95661044613710555"
      ]
     },
     "execution_count": 5,
     "metadata": {},
     "output_type": "execute_result"
    }
   ],
   "source": [
    "#\"Валидируемся\" на том же тренировочном датасете\n",
    "pred = pipeline.predict(X_train)\n",
    "\n",
    "from sklearn.metrics import roc_auc_score, accuracy_score\n",
    "\n",
    "accuracy_score(pred, y_train)"
   ]
  },
  {
   "cell_type": "markdown",
   "metadata": {},
   "source": [
    "Заметим, что метод fit() вызывается на всех этапах конвейера, а метод predict() - только для финального эстиматора. Тоже самое, разумеется, происходит и с другим набором данных:"
   ]
  },
  {
   "cell_type": "code",
   "execution_count": 6,
   "metadata": {
    "collapsed": false
   },
   "outputs": [
    {
     "data": {
      "text/plain": [
       "0.92263318629114355"
      ]
     },
     "execution_count": 6,
     "metadata": {},
     "output_type": "execute_result"
    }
   ],
   "source": [
    "#Валидируемся на тестовом датасете, для которого у нас есть разметка\n",
    "test_pred = pipeline.predict(X_test)\n",
    "accuracy_score(test_pred, y_test)"
   ]
  },
  {
   "cell_type": "markdown",
   "metadata": {},
   "source": [
    "Это значит, что нам не надо тащить за собой хвост из преобразований тестовой выборки, об этом позаботится наш конвейер!\n",
    "\n",
    "Так как конвейер обладает интерфейсом модели обучения (fit(), predict() etc), то мы можем использовать его напрямую с полюбившимися методами, такими как кросс-валидация:"
   ]
  },
  {
   "cell_type": "code",
   "execution_count": 7,
   "metadata": {
    "collapsed": false
   },
   "outputs": [
    {
     "data": {
      "text/plain": [
       "array([ 0.91761827,  0.86460033,  0.91993464])"
      ]
     },
     "execution_count": 7,
     "metadata": {},
     "output_type": "execute_result"
    }
   ],
   "source": [
    "from sklearn.model_selection import cross_val_score\n",
    "\n",
    "cross_val_score(pipeline, X_train, y_train, cv=3)"
   ]
  },
  {
   "cell_type": "markdown",
   "metadata": {},
   "source": [
    "а также GridSearchCV:"
   ]
  },
  {
   "cell_type": "code",
   "execution_count": 8,
   "metadata": {
    "collapsed": false,
    "scrolled": true
   },
   "outputs": [
    {
     "data": {
      "text/plain": [
       "GridSearchCV(cv=3, error_score='raise',\n",
       "       estimator=Pipeline(memory=None,\n",
       "     steps=[('scaler', StandardScaler(copy=True, with_mean=True, with_std=True)), ('pca', PCA(copy=True, iterated_power='auto', n_components=65, random_state=None,\n",
       "  svd_solver='auto', tol=0.0, whiten=False)), ('svc', LinearSVC(C=1.0, class_weight=None, dual=True, fit_intercept=True,\n",
       "     intercept_scaling=1, loss='squared_hinge', max_iter=1000,\n",
       "     multi_class='ovr', penalty='l2', random_state=None, tol=0.0001,\n",
       "     verbose=0))]),\n",
       "       fit_params=None, iid=True, n_jobs=1,\n",
       "       param_grid={'pca__n_components': [20, 60, 100], 'svc__C': [0.001, 0.01, 0.1, 1, 10]},\n",
       "       pre_dispatch='2*n_jobs', refit=True, return_train_score=True,\n",
       "       scoring=None, verbose=0)"
      ]
     },
     "execution_count": 8,
     "metadata": {},
     "output_type": "execute_result"
    }
   ],
   "source": [
    "from sklearn.model_selection import GridSearchCV\n",
    "\n",
    "gcv_params = {'pca__n_components': [20,60,100], \n",
    "              'svc__C': [0.001, 0.01, 0.1, 1, 10] }\n",
    "\n",
    "gcv = GridSearchCV(pipeline, gcv_params, cv=3)\n",
    "gcv.fit(X_train,y_train)"
   ]
  },
  {
   "cell_type": "code",
   "execution_count": 9,
   "metadata": {
    "collapsed": false
   },
   "outputs": [
    {
     "data": {
      "text/plain": [
       "{'pca__n_components': 100, 'svc__C': 0.1}"
      ]
     },
     "execution_count": 9,
     "metadata": {},
     "output_type": "execute_result"
    }
   ],
   "source": [
    "gcv.best_params_"
   ]
  },
  {
   "cell_type": "markdown",
   "metadata": {},
   "source": [
    "\"Так,\" - скажет внимательный читатель,- \"а ведь нам надо было выбрать число компонент так, чтобы оставить 90% дисперсии исходных данных\". Как же мы используем это условие в конвейере?\". Вообще-то оно уже реализовано в классе PCA - достаточно передать параметер n_components=0.9 в конструктор класса. Но давайте сделаем сами. Для этого нам придется реализовать собственный класс эстиматора, для многих - первый в их жизни! Сейчас увидим, что на самом деле, это - легко!\n",
    "\n",
    "Мы унаследуем класс PCA и перегрузим методы fit(), transform() и fit_tranaform() так, чтобы возвращать матрицу с числом компонентов, объясняющих exp_var% дисперсии.\n",
    "\n",
    "Затем построим конвейер с новым классом."
   ]
  },
  {
   "cell_type": "code",
   "execution_count": 10,
   "metadata": {
    "collapsed": true
   },
   "outputs": [],
   "source": [
    "class PCAExplainedVariance(PCA):\n",
    "    #констуктор принимает и сохраняет значение желаемой дисперсии\n",
    "    def __init__(self, exp_var=1.0 ):\n",
    "        super().__init__(copy=True)\n",
    "        self.exp_var = exp_var #желаемая дисперсия исходных данных\n",
    "        self.N_ = 0 #число компонент, тербуемых для достижения заданной дисперсии\n",
    "\n",
    "    # Находим соответствующее число компонент\n",
    "    def fit(self, X, y=None):\n",
    "        super().fit(X, y)\n",
    "        self.N_ = len(X)\n",
    "        cum_var = 0\n",
    "        for i, component in enumerate(self.components_):\n",
    "            cum_var += self.explained_variance_ratio_[i]\n",
    "            if cum_var>=self.exp_var:\n",
    "                self.N_ = i + 1\n",
    "                break\n",
    "              \n",
    "    # возвращаем усеченный по числу компонент датасет\n",
    "    def transform(self, X, y=None):\n",
    "        U = X[:,:self.N_]\n",
    "        return U\n",
    "    \n",
    "    # fit + transform в одном флаконе\n",
    "    def fit_transform(self, X, y=None):\n",
    "        self.fit(X)\n",
    "        U = X[:, :self.N_]\n",
    "\n",
    "        return U"
   ]
  },
  {
   "cell_type": "code",
   "execution_count": 11,
   "metadata": {
    "collapsed": true
   },
   "outputs": [],
   "source": [
    "#Снова собираем конвейер\n",
    "pipeline = Pipeline([\n",
    "    ('scaler', StandardScaler()),\n",
    "    ('pca', PCAExplainedVariance(exp_var=0.9)),\n",
    "    ('svc', LinearSVC())\n",
    "])"
   ]
  },
  {
   "cell_type": "code",
   "execution_count": 12,
   "metadata": {
    "collapsed": false,
    "scrolled": true
   },
   "outputs": [
    {
     "data": {
      "text/plain": [
       "GridSearchCV(cv=3, error_score='raise',\n",
       "       estimator=Pipeline(memory=None,\n",
       "     steps=[('scaler', StandardScaler(copy=True, with_mean=True, with_std=True)), ('pca', PCAExplainedVariance(exp_var=0.9)), ('svc', LinearSVC(C=1.0, class_weight=None, dual=True, fit_intercept=True,\n",
       "     intercept_scaling=1, loss='squared_hinge', max_iter=1000,\n",
       "     multi_class='ovr', penalty='l2', random_state=None, tol=0.0001,\n",
       "     verbose=0))]),\n",
       "       fit_params=None, iid=True, n_jobs=1,\n",
       "       param_grid={'svc__C': [0.001, 0.01, 0.1, 1, 10]},\n",
       "       pre_dispatch='2*n_jobs', refit=True, return_train_score=True,\n",
       "       scoring=None, verbose=0)"
      ]
     },
     "execution_count": 12,
     "metadata": {},
     "output_type": "execute_result"
    }
   ],
   "source": [
    "#На этот раз запустим с GridSearchCV\n",
    "gcv_params = {'svc__C': [0.001, 0.01, 0.1, 1, 10] }\n",
    "gcv = GridSearchCV(pipeline, gcv_params, cv=3)\n",
    "gcv.fit(X_train, y_train)"
   ]
  },
  {
   "cell_type": "code",
   "execution_count": 13,
   "metadata": {
    "collapsed": false
   },
   "outputs": [
    {
     "data": {
      "text/plain": [
       "{'svc__C': 0.1}"
      ]
     },
     "execution_count": 13,
     "metadata": {},
     "output_type": "execute_result"
    }
   ],
   "source": [
    "gcv.best_params_"
   ]
  },
  {
   "cell_type": "markdown",
   "metadata": {},
   "source": [
    "Объект конвейера предоставляет доступ и к экземплярам составляющих его классов. Например, чтобы посмотреть, какое число компонент оставил наш новый PCA-эстиматор:"
   ]
  },
  {
   "cell_type": "code",
   "execution_count": 14,
   "metadata": {
    "collapsed": false
   },
   "outputs": [
    {
     "data": {
      "text/plain": [
       "63"
      ]
     },
     "execution_count": 14,
     "metadata": {},
     "output_type": "execute_result"
    }
   ],
   "source": [
    "gcv.best_estimator_.named_steps['pca'].N_"
   ]
  },
  {
   "cell_type": "markdown",
   "metadata": {},
   "source": [
    "## <center>Feature Union</center>\n",
    "\n",
    "Давайте идти дальше и расширять диапазон применяемых средств. Для этого возьмем в качестве примера более сложный случай.\n",
    "\n",
    "В соревновании <a href=\"https://www.kaggle.com/c/catch-me-if-you-can-intruder-detection-through-webpage-session-tracking2\">Catch me if you can</a> (aka \"Alice\") на Kaggle, мы отдельно обрабатываем посещаемые пользователями сайты с помощью техники Bag of Words, и отдельно конструируем новые признаки из чего только можно. Затем объединяем частотную матрицу с матрицей признаков и применяем логистическую регрессию.\n",
    "\n",
    "Попробуем запрограммировать этот сценарий в конвейер.\n"
   ]
  },
  {
   "cell_type": "code",
   "execution_count": 15,
   "metadata": {
    "collapsed": false
   },
   "outputs": [
    {
     "data": {
      "text/html": [
       "<div>\n",
       "<style>\n",
       "    .dataframe thead tr:only-child th {\n",
       "        text-align: right;\n",
       "    }\n",
       "\n",
       "    .dataframe thead th {\n",
       "        text-align: left;\n",
       "    }\n",
       "\n",
       "    .dataframe tbody tr th {\n",
       "        vertical-align: top;\n",
       "    }\n",
       "</style>\n",
       "<table border=\"1\" class=\"dataframe\">\n",
       "  <thead>\n",
       "    <tr style=\"text-align: right;\">\n",
       "      <th></th>\n",
       "      <th>site1</th>\n",
       "      <th>time1</th>\n",
       "      <th>site2</th>\n",
       "      <th>time2</th>\n",
       "      <th>site3</th>\n",
       "      <th>time3</th>\n",
       "      <th>site4</th>\n",
       "      <th>time4</th>\n",
       "      <th>site5</th>\n",
       "      <th>time5</th>\n",
       "      <th>site6</th>\n",
       "      <th>time6</th>\n",
       "      <th>site7</th>\n",
       "      <th>time7</th>\n",
       "      <th>site8</th>\n",
       "      <th>time8</th>\n",
       "      <th>site9</th>\n",
       "      <th>time9</th>\n",
       "      <th>site10</th>\n",
       "      <th>time10</th>\n",
       "    </tr>\n",
       "    <tr>\n",
       "      <th>session_id</th>\n",
       "      <th></th>\n",
       "      <th></th>\n",
       "      <th></th>\n",
       "      <th></th>\n",
       "      <th></th>\n",
       "      <th></th>\n",
       "      <th></th>\n",
       "      <th></th>\n",
       "      <th></th>\n",
       "      <th></th>\n",
       "      <th></th>\n",
       "      <th></th>\n",
       "      <th></th>\n",
       "      <th></th>\n",
       "      <th></th>\n",
       "      <th></th>\n",
       "      <th></th>\n",
       "      <th></th>\n",
       "      <th></th>\n",
       "      <th></th>\n",
       "    </tr>\n",
       "  </thead>\n",
       "  <tbody>\n",
       "    <tr>\n",
       "      <th>21669</th>\n",
       "      <td>56</td>\n",
       "      <td>2013-01-12 08:05:57</td>\n",
       "      <td>55</td>\n",
       "      <td>2013-01-12 08:05:57</td>\n",
       "      <td>0</td>\n",
       "      <td>2013-01-12 08:05:57</td>\n",
       "      <td>0</td>\n",
       "      <td>2013-01-12 08:05:57</td>\n",
       "      <td>0</td>\n",
       "      <td>2013-01-12 08:05:57</td>\n",
       "      <td>0</td>\n",
       "      <td>2013-01-12 08:05:57</td>\n",
       "      <td>0</td>\n",
       "      <td>2013-01-12 08:05:57</td>\n",
       "      <td>0</td>\n",
       "      <td>2013-01-12 08:05:57</td>\n",
       "      <td>0</td>\n",
       "      <td>2013-01-12 08:05:57</td>\n",
       "      <td>0</td>\n",
       "      <td>2013-01-12 08:05:57</td>\n",
       "    </tr>\n",
       "    <tr>\n",
       "      <th>54843</th>\n",
       "      <td>56</td>\n",
       "      <td>2013-01-12 08:37:23</td>\n",
       "      <td>55</td>\n",
       "      <td>2013-01-12 08:37:23</td>\n",
       "      <td>56</td>\n",
       "      <td>2013-01-12 09:07:07</td>\n",
       "      <td>55</td>\n",
       "      <td>2013-01-12 09:07:09</td>\n",
       "      <td>0</td>\n",
       "      <td>2013-01-12 09:07:09</td>\n",
       "      <td>0</td>\n",
       "      <td>2013-01-12 09:07:09</td>\n",
       "      <td>0</td>\n",
       "      <td>2013-01-12 09:07:09</td>\n",
       "      <td>0</td>\n",
       "      <td>2013-01-12 09:07:09</td>\n",
       "      <td>0</td>\n",
       "      <td>2013-01-12 09:07:09</td>\n",
       "      <td>0</td>\n",
       "      <td>2013-01-12 09:07:09</td>\n",
       "    </tr>\n",
       "    <tr>\n",
       "      <th>77292</th>\n",
       "      <td>946</td>\n",
       "      <td>2013-01-12 08:50:13</td>\n",
       "      <td>946</td>\n",
       "      <td>2013-01-12 08:50:14</td>\n",
       "      <td>951</td>\n",
       "      <td>2013-01-12 08:50:15</td>\n",
       "      <td>946</td>\n",
       "      <td>2013-01-12 08:50:15</td>\n",
       "      <td>946</td>\n",
       "      <td>2013-01-12 08:50:16</td>\n",
       "      <td>945</td>\n",
       "      <td>2013-01-12 08:50:16</td>\n",
       "      <td>948</td>\n",
       "      <td>2013-01-12 08:50:16</td>\n",
       "      <td>784</td>\n",
       "      <td>2013-01-12 08:50:16</td>\n",
       "      <td>949</td>\n",
       "      <td>2013-01-12 08:50:17</td>\n",
       "      <td>946</td>\n",
       "      <td>2013-01-12 08:50:17</td>\n",
       "    </tr>\n",
       "    <tr>\n",
       "      <th>114021</th>\n",
       "      <td>945</td>\n",
       "      <td>2013-01-12 08:50:17</td>\n",
       "      <td>948</td>\n",
       "      <td>2013-01-12 08:50:17</td>\n",
       "      <td>949</td>\n",
       "      <td>2013-01-12 08:50:18</td>\n",
       "      <td>948</td>\n",
       "      <td>2013-01-12 08:50:18</td>\n",
       "      <td>945</td>\n",
       "      <td>2013-01-12 08:50:18</td>\n",
       "      <td>946</td>\n",
       "      <td>2013-01-12 08:50:18</td>\n",
       "      <td>947</td>\n",
       "      <td>2013-01-12 08:50:19</td>\n",
       "      <td>945</td>\n",
       "      <td>2013-01-12 08:50:19</td>\n",
       "      <td>946</td>\n",
       "      <td>2013-01-12 08:50:19</td>\n",
       "      <td>946</td>\n",
       "      <td>2013-01-12 08:50:20</td>\n",
       "    </tr>\n",
       "    <tr>\n",
       "      <th>146670</th>\n",
       "      <td>947</td>\n",
       "      <td>2013-01-12 08:50:20</td>\n",
       "      <td>950</td>\n",
       "      <td>2013-01-12 08:50:20</td>\n",
       "      <td>948</td>\n",
       "      <td>2013-01-12 08:50:20</td>\n",
       "      <td>947</td>\n",
       "      <td>2013-01-12 08:50:21</td>\n",
       "      <td>950</td>\n",
       "      <td>2013-01-12 08:50:21</td>\n",
       "      <td>952</td>\n",
       "      <td>2013-01-12 08:50:21</td>\n",
       "      <td>946</td>\n",
       "      <td>2013-01-12 08:50:21</td>\n",
       "      <td>951</td>\n",
       "      <td>2013-01-12 08:50:22</td>\n",
       "      <td>946</td>\n",
       "      <td>2013-01-12 08:50:22</td>\n",
       "      <td>947</td>\n",
       "      <td>2013-01-12 08:50:22</td>\n",
       "    </tr>\n",
       "  </tbody>\n",
       "</table>\n",
       "</div>"
      ],
      "text/plain": [
       "            site1               time1  site2               time2  site3  \\\n",
       "session_id                                                                \n",
       "21669          56 2013-01-12 08:05:57     55 2013-01-12 08:05:57      0   \n",
       "54843          56 2013-01-12 08:37:23     55 2013-01-12 08:37:23     56   \n",
       "77292         946 2013-01-12 08:50:13    946 2013-01-12 08:50:14    951   \n",
       "114021        945 2013-01-12 08:50:17    948 2013-01-12 08:50:17    949   \n",
       "146670        947 2013-01-12 08:50:20    950 2013-01-12 08:50:20    948   \n",
       "\n",
       "                         time3  site4               time4  site5  \\\n",
       "session_id                                                         \n",
       "21669      2013-01-12 08:05:57      0 2013-01-12 08:05:57      0   \n",
       "54843      2013-01-12 09:07:07     55 2013-01-12 09:07:09      0   \n",
       "77292      2013-01-12 08:50:15    946 2013-01-12 08:50:15    946   \n",
       "114021     2013-01-12 08:50:18    948 2013-01-12 08:50:18    945   \n",
       "146670     2013-01-12 08:50:20    947 2013-01-12 08:50:21    950   \n",
       "\n",
       "                         time5  site6               time6  site7  \\\n",
       "session_id                                                         \n",
       "21669      2013-01-12 08:05:57      0 2013-01-12 08:05:57      0   \n",
       "54843      2013-01-12 09:07:09      0 2013-01-12 09:07:09      0   \n",
       "77292      2013-01-12 08:50:16    945 2013-01-12 08:50:16    948   \n",
       "114021     2013-01-12 08:50:18    946 2013-01-12 08:50:18    947   \n",
       "146670     2013-01-12 08:50:21    952 2013-01-12 08:50:21    946   \n",
       "\n",
       "                         time7  site8               time8  site9  \\\n",
       "session_id                                                         \n",
       "21669      2013-01-12 08:05:57      0 2013-01-12 08:05:57      0   \n",
       "54843      2013-01-12 09:07:09      0 2013-01-12 09:07:09      0   \n",
       "77292      2013-01-12 08:50:16    784 2013-01-12 08:50:16    949   \n",
       "114021     2013-01-12 08:50:19    945 2013-01-12 08:50:19    946   \n",
       "146670     2013-01-12 08:50:21    951 2013-01-12 08:50:22    946   \n",
       "\n",
       "                         time9  site10              time10  \n",
       "session_id                                                  \n",
       "21669      2013-01-12 08:05:57       0 2013-01-12 08:05:57  \n",
       "54843      2013-01-12 09:07:09       0 2013-01-12 09:07:09  \n",
       "77292      2013-01-12 08:50:17     946 2013-01-12 08:50:17  \n",
       "114021     2013-01-12 08:50:19     946 2013-01-12 08:50:20  \n",
       "146670     2013-01-12 08:50:22     947 2013-01-12 08:50:22  "
      ]
     },
     "execution_count": 15,
     "metadata": {},
     "output_type": "execute_result"
    }
   ],
   "source": [
    "#Загрузка и предобработка данных - код от @yorko\n",
    "import pandas as pd\n",
    "train_df = pd.read_csv(PATH_TO_DATA+\"../Alice-comp/train_sessions.csv\", index_col=\"session_id\")\n",
    "#test_df = pd.read_csv(PATH_TO_DATA+\"../Alice-comp/test_sessions.csv\", index_col=\"session_id\")\n",
    "        \n",
    "# приведем колонки time1, ..., time10 к временному формату\n",
    "times = ['time%s' % i for i in range(1, 11)]\n",
    "train_df[times] = train_df[times].apply(pd.to_datetime).fillna(method='ffill', axis=1)\n",
    "#test_df[times] = test_df[times].apply(pd.to_datetime).fillna(method='ffill', axis=1)\n",
    "\n",
    "# отсортируем данные по времени\n",
    "train_df = train_df.sort_values(by='time1')\n",
    "\n",
    "sites = ['site%s' % i for i in range(1,11)]\n",
    "train_df[sites] = train_df[sites].fillna(0).astype('int')\n",
    "#test_df[sites] = test_df[sites].fillna(0).astype('int')\n",
    "\n",
    "#целевая переменая\n",
    "y_train = train_df['target']\n",
    "train_df.drop('target', axis=1, inplace=True)\n",
    "\n",
    "train_df.head()"
   ]
  },
  {
   "cell_type": "markdown",
   "metadata": {},
   "source": [
    "Итак, у нас есть такой вот датафрейм и мы хотим:\n",
    "\n",
    "    а) составить Bag Of Words из сайтов - код взят из ноутбука @yorko\n",
    "    б) нагенерить признаки, связанные со временем, любезно подсказанные @yorko: year_month, start_hour, morning (последний признак - бинарный)\n",
    "    \n",
    "Реализуем a), б) по отдельности как классы-трансформеры, а потом объединим результаты.\n"
   ]
  },
  {
   "cell_type": "code",
   "execution_count": 16,
   "metadata": {
    "collapsed": false
   },
   "outputs": [
    {
     "name": "stdout",
     "output_type": "stream",
     "text": [
      "(3, 951)\n",
      "  (0, 55)\t1\n",
      "  (0, 54)\t1\n",
      "  (1, 55)\t1\n",
      "  (1, 54)\t1\n",
      "  (1, 55)\t1\n",
      "  (1, 54)\t1\n",
      "  (2, 945)\t1\n",
      "  (2, 945)\t1\n",
      "  (2, 950)\t1\n",
      "  (2, 945)\t1\n",
      "  (2, 945)\t1\n",
      "  (2, 944)\t1\n",
      "  (2, 947)\t1\n",
      "  (2, 783)\t1\n",
      "  (2, 948)\t1\n",
      "  (2, 945)\t1\n"
     ]
    }
   ],
   "source": [
    "# Этот класс-трансформер возвращает разреженную матрицу сайтов\n",
    "#\n",
    "from sklearn.base import BaseEstimator, TransformerMixin\n",
    "from scipy.sparse import csr_matrix\n",
    "class ColsToCountMatrix(BaseEstimator, TransformerMixin):\n",
    "    #констуктор принимает и сохраняет название колонок для сливания в текст\n",
    "    def __init__(self, columns=[]):\n",
    "        self.columns=columns\n",
    "        \n",
    "    # fit() ничего не делает\n",
    "    def fit(self, X, y = None):\n",
    "        return self\n",
    "    \n",
    "    #преобразуем посещения сайтов в частотную матрицу\n",
    "    def transform(self, X):\n",
    "        # последовательность с индексами\n",
    "        sites_flatten = X[self.columns].values.flatten()\n",
    "\n",
    "        # искомая матрица\n",
    "        sites_sparse = csr_matrix(([1] * sites_flatten.shape[0],\n",
    "                                    sites_flatten,\n",
    "                                    range(0, sites_flatten.shape[0] + 10, 10)))[:, 1:]\n",
    "        return sites_sparse\n",
    "#Unit test\n",
    "sparse_matrix = ColsToCountMatrix(columns=sites).transform(train_df.head(3))\n",
    "print(sparse_matrix.shape)\n",
    "print(sparse_matrix)"
   ]
  },
  {
   "cell_type": "code",
   "execution_count": null,
   "metadata": {
    "collapsed": true
   },
   "outputs": [],
   "source": []
  },
  {
   "cell_type": "code",
   "execution_count": 17,
   "metadata": {
    "collapsed": false
   },
   "outputs": [
    {
     "data": {
      "text/plain": [
       "array([[201301,      8,      1],\n",
       "       [201301,      8,      1],\n",
       "       [201301,      8,      1],\n",
       "       [201301,      8,      1],\n",
       "       [201301,      8,      1]])"
      ]
     },
     "execution_count": 17,
     "metadata": {},
     "output_type": "execute_result"
    }
   ],
   "source": [
    "# Этот класс-трансформер возвращает матрицу с новыми признаками\n",
    "#\n",
    "from sklearn.base import BaseEstimator, TransformerMixin\n",
    "class TimeToFeatures(BaseEstimator, TransformerMixin):\n",
    "    # берем и сохраняем колонки, которые используем для приготовления новых признаков\n",
    "    def __init__(self, columns=[]):\n",
    "        self.columns = columns\n",
    "    # бездельник опять\n",
    "    def fit(self,X,y=None):\n",
    "        return self\n",
    "    # работяга\n",
    "    def transform(self, X):\n",
    "        # это колонка 'time1' начального датафрейма\n",
    "        time1=self.columns[0] \n",
    "        # создаем пустой датафрейм для новых признаков\n",
    "        new_features = pd.DataFrame(index=X.index)\n",
    "        # делаем новые признаки\n",
    "        new_features['year_month'] = X[time1].apply(lambda ts: ts.year*100 + ts.month)\n",
    "        new_features['start_hour'] = X[time1].apply(lambda ts: ts.hour)\n",
    "        new_features['morning'] = new_features['start_hour'].apply(lambda sh: 1 if 4<sh<12 else 0)\n",
    "        return new_features[['year_month','start_hour','morning']]\n",
    "#Unit test\n",
    "TimeToFeatures(columns=times).transform(train_df.head()).values"
   ]
  },
  {
   "cell_type": "markdown",
   "metadata": {},
   "source": [
    "Давайте теперь применим FeatureUnion. Конструктор класса FeatureUnion, как и конструктор Pipeline, принимает список кортежей (название, класс-трансформер), а его метод transform() просто объединяет колонки, получившиеся после применения метода transform() для каждого из составных классов.\n"
   ]
  },
  {
   "cell_type": "code",
   "execution_count": 18,
   "metadata": {
    "collapsed": true
   },
   "outputs": [],
   "source": [
    "from sklearn.pipeline import FeatureUnion\n",
    "\n",
    "fu=FeatureUnion([\n",
    "            ('cols_to_text', ColsToCountMatrix(columns=sites)),\n",
    "            ('time_to_features', TimeToFeatures(columns=times)),\n",
    "])"
   ]
  },
  {
   "cell_type": "code",
   "execution_count": 19,
   "metadata": {
    "collapsed": false
   },
   "outputs": [
    {
     "name": "stdout",
     "output_type": "stream",
     "text": [
      "(3, 954)\n",
      "[[     0      0      0 ..., 201301      8      1]\n",
      " [     0      0      0 ..., 201301      8      1]\n",
      " [     0      0      0 ..., 201301      8      1]]\n"
     ]
    }
   ],
   "source": [
    "#используем todense() для наглядности\n",
    "full_matrix = fu.transform(train_df.head(3)).todense()\n",
    "print(full_matrix.shape)\n",
    "print(full_matrix)"
   ]
  },
  {
   "cell_type": "markdown",
   "metadata": {},
   "source": [
    "В итоге - было 951 колонка частотной матрицы, 3 колонки новых признаков, стало 954 колонки.\n",
    "\n",
    "Это еще не все! Раскроем возможность использовать FeatureUnion и Pipeline вместе.\n",
    "Сразу поразим читателя, добавив этапы преобразования полученных данных, а так же модель обучения на объединенных данных.\n"
   ]
  },
  {
   "cell_type": "code",
   "execution_count": 20,
   "metadata": {
    "collapsed": true
   },
   "outputs": [],
   "source": [
    "from sklearn.pipeline import FeatureUnion\n",
    "from sklearn.pipeline import Pipeline\n",
    "from sklearn.feature_extraction.text import TfidfTransformer\n",
    "from sklearn.preprocessing import StandardScaler\n",
    "from sklearn.linear_model import LogisticRegressionCV\n",
    "\n",
    "logit_params={'scoring':'roc_auc','class_weight':'balanced',\n",
    "             'Cs':range(1,5),'n_jobs':3, 'random_state':17}\n",
    "\n",
    "#используем немного другой формат вызова FeatureUnion, \n",
    "#хотя веса для нашей модели не пригодятся, читатель будет знать о таких возможностях\n",
    "pipeline = Pipeline([\n",
    "    ('union', FeatureUnion(\n",
    "        transformer_list=[\n",
    "            ('text', Pipeline([\n",
    "                ('cols_to_text', ColsToCountMatrix(columns=sites)),\n",
    "                ('tfidf',TfidfTransformer()), \n",
    "            ])),\n",
    "            ('new_features', Pipeline([\n",
    "                ('time_to_features', TimeToFeatures(columns=times)),\n",
    "                ('scaler', StandardScaler()),\n",
    "            ])),\n",
    "        ],\n",
    "        transformer_weights={'text':1.0, 'features':1.0}\n",
    "    )),\n",
    "    ('logit',LogisticRegressionCV(**logit_params))\n",
    "])"
   ]
  },
  {
   "cell_type": "code",
   "execution_count": 21,
   "metadata": {
    "collapsed": false
   },
   "outputs": [
    {
     "data": {
      "text/plain": [
       "Pipeline(memory=None,\n",
       "     steps=[('union', FeatureUnion(n_jobs=1,\n",
       "       transformer_list=[('text', Pipeline(memory=None,\n",
       "     steps=[('cols_to_text', ColsToCountMatrix(columns=['site1', 'site2', 'site3', 'site4', 'site5', 'site6', 'site7', 'site8', 'site9', 'site10'])), ('tfidf', TfidfTransformer(norm='l2', smooth_idf=True,... random_state=17, refit=True, scoring='roc_auc', solver='lbfgs',\n",
       "           tol=0.0001, verbose=0))])"
      ]
     },
     "execution_count": 21,
     "metadata": {},
     "output_type": "execute_result"
    }
   ],
   "source": [
    "pipeline.fit(train_df, y_train)"
   ]
  },
  {
   "cell_type": "code",
   "execution_count": 22,
   "metadata": {
    "collapsed": false
   },
   "outputs": [
    {
     "data": {
      "text/plain": [
       "array([1])"
      ]
     },
     "execution_count": 22,
     "metadata": {},
     "output_type": "execute_result"
    }
   ],
   "source": [
    "# это подобранный перебором коэффициент регуляризации\n",
    "pipeline.named_steps['logit'].C_"
   ]
  },
  {
   "cell_type": "code",
   "execution_count": 23,
   "metadata": {
    "collapsed": false
   },
   "outputs": [
    {
     "data": {
      "text/plain": [
       "{1: array([[ 0.90993035,  0.91043374,  0.91055791,  0.91065063],\n",
       "        [ 0.91248111,  0.91011061,  0.90696356,  0.90567206],\n",
       "        [ 0.93503879,  0.93541084,  0.93466052,  0.93417007]])}"
      ]
     },
     "execution_count": 23,
     "metadata": {},
     "output_type": "execute_result"
    }
   ],
   "source": [
    "#таблица метрики ROC_AUC для С=[1,2,3,4] и трех выборок кросс-валидации (cv=3)\n",
    "pipeline.named_steps['logit'].scores_"
   ]
  },
  {
   "cell_type": "markdown",
   "metadata": {},
   "source": [
    "## <center>Заметки</center>"
   ]
  },
  {
   "cell_type": "markdown",
   "metadata": {},
   "source": [
    "Что ж, неплохо получилось! Наша модель описывается 16-ю строками, после того как мы реализовали преобразования данных в классах-трансформерах. \n",
    "\n",
    "Давайте теперь разберем некоторые вопросы применения конвейеров и объединителей признаков.\n",
    "\n",
    "1. Для того, чтобы сделать предсказания обученной модели для тестовой выборки, вызовите метод pipeline.predict_proba(df_proba)\n",
    "\n",
    "2. Мы не можем (по крайней мере, с легкостью) в нашем конвейере сделать чаcтотную матрицу на объединенной тренировочной и тестовой выборках, как @yorko делал это на мастер-классе. Автор решил эту проблему таким образом. Вместо класса ColsToCountMatrix, который работает с колонками sites, используем класс ColsToText, определенный ниже. Он собирает сайты из всех колонок в \"текст\", который принимает библиотечный CountVectorizer. В констукторе этого класса читатель найдет не только опцию vocabulary для передачи словаря объединенной тренировочной и тестовой выборки, но и некоторые опции, которые имеет смысл попробовать для улучшения результатов модели.\n",
    "\n",
    "3. Если читатель решит применить другую модель обучения, например SGDClassifier, в котором не реализована кросс-валидация, то можно \"обернуть\" его в GridSearchCV:\n",
    "\n",
    "    <p>('gcv', GridSearchCV(SGDClassifier(**sgd_params), gcv_sgd_params, **gcv_params))</p>\n",
    "    \n",
    "\n",
    "Надеюсь, что читатель сможет теперь сам улучшать свою модель для соревнования - работать над признаками и подбирать параметры.\n"
   ]
  },
  {
   "cell_type": "markdown",
   "metadata": {},
   "source": [
    "## <center>В заключение</center>\n",
    "Что можно посоветовать читателю в плане дальнейшего изучения предмета?\n",
    "\n",
    "1. Изучить официальную документацию: <a href=\"http://scikit-learn.org/stable/modules/generated/sklearn.pipeline.Pipeline.html\">PipeLine</a>, <a href=\"http://scikit-learn.org/stable/modules/generated/sklearn.pipeline.FeatureUnion.html\">FeatureUnion</a>, и разобрать статьи-примеры.\n",
    "  \n",
    "2. Взять на вооружение библиотеку <a href=\"https://github.com/rasbt/mlxtend\">mlextend</a> Себастьяна Рашки. Там можно найти много интересных классов, не реализованных в стандартной библиотеке sklearn.\n",
    "\n",
    "3. Посмотреть <a href=\"https://github.com/scikit-learn-contrib/sklearn-pandas\">sklearn-pandas</a> - облегчение работы именно с датафреймами. Например, можно некоторые колонки преобразовать масштабированием, другие - по принципу one-hot-encoding.\n",
    "\n",
    "4. Стремиться создавать такие конвейеры, которые позволяют быстро проверять модели и признаки.\n",
    "\n",
    "Успехов!"
   ]
  },
  {
   "cell_type": "code",
   "execution_count": 24,
   "metadata": {
    "collapsed": false,
    "scrolled": true
   },
   "outputs": [
    {
     "data": {
      "text/plain": [
       "array([['56 55'],\n",
       "       ['56 55 56 55'],\n",
       "       ['946 946 951 946 946 945 948 784 949 946'],\n",
       "       ['945 948 949 948 945 946 947 945 946 946'],\n",
       "       ['947 950 948 947 950 952 946 951 946 947']], dtype=object)"
      ]
     },
     "execution_count": 24,
     "metadata": {},
     "output_type": "execute_result"
    }
   ],
   "source": [
    "#это подготовительный этап трансформации данных, \n",
    "#перед тем как применим CountVectorizer\n",
    "from sklearn.base import BaseEstimator, TransformerMixin\n",
    "\n",
    "class ColsToText(BaseEstimator, TransformerMixin):\n",
    "    #конструктор принимает и сохраняет название колонок для сливания в текст\n",
    "    def __init__(self,columns=[]):\n",
    "        self.columns = columns\n",
    "    # fit() отдыхает - делать нечего\n",
    "    def fit(self, X, y= None):\n",
    "        return self\n",
    "    # сливаем содержимое колонок в одну строку, кроме нулей\n",
    "    def transform(self, X):\n",
    "        return X[self.columns]\\\n",
    "               .apply(lambda x: \" \".join([str(a) for a in x.values if not a==0]), axis=1)\\\n",
    "               .values.reshape(len(X),1)\n",
    "    #заметьте - возвращаем numpy.ndarray\n",
    "# Unit test\n",
    "ColsToText(columns=sites).transform(train_df.head())"
   ]
  }
 ],
 "metadata": {
  "kernelspec": {
   "display_name": "Python 3",
   "language": "python",
   "name": "python3"
  },
  "language_info": {
   "codemirror_mode": {
    "name": "ipython",
    "version": 3
   },
   "file_extension": ".py",
   "mimetype": "text/x-python",
   "name": "python",
   "nbconvert_exporter": "python",
   "pygments_lexer": "ipython3",
   "version": "3.6.0"
  }
 },
 "nbformat": 4,
 "nbformat_minor": 2
}
