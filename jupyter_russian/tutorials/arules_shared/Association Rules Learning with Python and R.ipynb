{
 "cells": [
  {
   "cell_type": "markdown",
   "metadata": {
    "collapsed": true
   },
   "source": [
    "<img src=\"img/header.jpg\">"
   ]
  },
  {
   "cell_type": "code",
   "execution_count": 58,
   "metadata": {
    "collapsed": true
   },
   "outputs": [],
   "source": [
    "from IPython.display import display, Math, Latex\n",
    "from IPython.core.display import HTML "
   ]
  },
  {
   "cell_type": "markdown",
   "metadata": {},
   "source": [
    "# Введение в теорию или как связаны подгузники и пиво?"
   ]
  },
  {
   "cell_type": "markdown",
   "metadata": {},
   "source": [
    "   Обучение на ассоциативных правилах (далее Associations rules learning - ARL) представляет из себя с одной стороны, простой, с другой - довольно часто применимый в реальной жизни метод поиска взаимосвязей (ассоциаций) в датасетах или, если точнее, айтемсетах (itemsests).\n",
    "   Впервые подробно об этом заговорил Piatesky-Shapiro G [1] в работе “Discovery, Analysis, and Presentation of Strong Rules.” (1991) Более подробо тему развивали Agrawal R, Imielinski T, Swami A в работах “Mining Association Rules between Sets of Items in Large Databases” (1993) [2] и “Fast Algorithms for Mining Association Rules.” (1994) [3].\n",
    "\n",
    "    \n",
    "   \n"
   ]
  },
  {
   "cell_type": "markdown",
   "metadata": {},
   "source": [
    "   \n",
    "  В общем виде ARL можно описать как \"Who bought x also bought y\" (\"Кто купил x, также купил y\"). В основе лежит анализ транзакций (transactions), внутри каждой из которых лежит свой уникальный itemset из набора items. При помощи ARL алогритмов нахоядтся те самые \"правила\" совпадения items внутри одной транзакции, которые потом сортируются по их силе. \n",
    "\n",
    "   Да, вот все так просто и логично."
   ]
  },
  {
   "cell_type": "markdown",
   "metadata": {},
   "source": [
    "   За этой простотой, однако, могут скрываться поразительные вещи, о которых common sense даже не подозревал:) \n",
    "\n",
    "   Классический случай такого когнитивного диссонанса описан в статье D.J. Power \"Ask Dan!\", опубликованной в DSSResources.com [4]: \n",
    "\n",
    "   В 1992 году группа по консалтингу в области ритейла компании Teradata под руководством Томаса Блишока провела исследование 1.2 миллиона транзакций в 25 магазинах для ритейлера Osco Drug (нет, там продавали не наркотики и даже не лекарства, точнее, не только лекартсва. Drug Store в стране вероятного противника - формат разнокалиберных магазинов у дома). \n",
    "   После анализа всех этих транзакций самым сильным правилом получилось \"Между 17:00 и 19:00 чаще всего пиво и подгузники покупают вместе\". \n",
    "   К сожалению такое правило показалось руководству Osco Drug настолько контринтуитивным, что ставить подгузники на полках рядом с пивом они не стали:) Хотя объяснение паре пиво-подгузники вполне себе нашлось: когда оба члена молодой семьи возвращались с работы домой (как раз часам к 5 вечера), жены обычно отправляли мужей за подгузниками в ближайший магазин. И мужья, не долго думая, совмещали приятное с полезным - покупали подгузники по заданию жены и пиво для собственного вечернего времяпрепровождения"
   ]
  },
  {
   "cell_type": "markdown",
   "metadata": {},
   "source": [
    "# Описание Association rule"
   ]
  },
  {
   "cell_type": "markdown",
   "metadata": {
    "collapsed": true
   },
   "source": [
    "Итак мы выяснили, что пиво и подгузники - хороший джентельменский набор, а что дальше? "
   ]
  },
  {
   "cell_type": "markdown",
   "metadata": {},
   "source": [
    "Пусть у нас имеется некий датасет (или коллекция) D, такой, что D = {d_0 ... d_j}, где d - уникальная транзакция-itemset (например, кассовый чек).\n",
    "Внутри каждой d представлен набор items (i - item), причем в идеальном случае он представлен в бинарном виде: d1 = [{Пиво: 1}, {Вода: 0}, {Кола: 1}, {...}], d2 = [{Пиво : 0}, {Вода: 1}, {Кола : 1}, {...}]. Принято каждый itemset описывать через количество ненулевых значений (k-itemset), например, [{Пиво: 1}, {Вода: 0}, {Кола: 1}] является 2-itemset.\n",
    "\n",
    "Если в изначальном виде не представлен, можно при желании руками его преобразовать (OHE и pd.get_dummies вам в помощь).\n",
    "\n",
    "Таким образом, датасет представляет собой разреженную матрицу со значениями {1,0}. Это будет бинарный датасет. Существуют и другие виды записи - вертикальный датасет (показывает для каждого отдельного item вектор транзакций, где он присутствует) и транзакционный датасет (примерно как в кассовом чеке)."
   ]
  },
  {
   "cell_type": "markdown",
   "metadata": {},
   "source": [
    "ОК, данные преобразовали, как найти правила?\n",
    "\n",
    "Существует целый ряд ключевых (если хотите - базовых) понятий в ARL, которые нам помогут эти правила вывести."
   ]
  },
  {
   "cell_type": "markdown",
   "metadata": {},
   "source": [
    "##### Support (поддержка)"
   ]
  },
  {
   "cell_type": "markdown",
   "metadata": {},
   "source": [
    "Первое понятие  в ARL - support:\n"
   ]
  },
  {
   "cell_type": "markdown",
   "metadata": {},
   "source": [
    "$supp(X) = \\frac{\\{t\\in T;\\ X \\in t\\}}{|T|}$"
   ]
  },
  {
   "cell_type": "markdown",
   "metadata": {},
   "source": [
    ", где X - itemset, содержащий в себе i-items, а T - количество транзакций. Т.е. в общем виде это показатель \"частотности\" данного itemset во всех анализируемых транзакциях. Но это касается только X. Нам же интересен скорее вариант, когда у нас в одном itemset встречаются x1 и x2 (например).\n",
    "Ну тут тоже все просто. Пусть x1 = {Пиво}, а x2 = {Подгузники}, значит нам нужно посчитать, во скольких транзакциях втречается эта парочка. "
   ]
  },
  {
   "cell_type": "markdown",
   "metadata": {},
   "source": [
    "$supp(x_1\\cup x_2) = \\frac{\\sigma(x_1 \\cup x_2)}{|T|}$, где $\\sigma $ - количество транзакций, содержащих $x_1$ и $x_2$"
   ]
  },
  {
   "cell_type": "markdown",
   "metadata": {},
   "source": [
    "Разберемся с этим понятием на игрушечном датасете"
   ]
  },
  {
   "cell_type": "code",
   "execution_count": 64,
   "metadata": {},
   "outputs": [
    {
     "data": {
      "text/html": [
       "<div>\n",
       "<style>\n",
       "    .dataframe thead tr:only-child th {\n",
       "        text-align: right;\n",
       "    }\n",
       "\n",
       "    .dataframe thead th {\n",
       "        text-align: left;\n",
       "    }\n",
       "\n",
       "    .dataframe tbody tr th {\n",
       "        vertical-align: top;\n",
       "    }\n",
       "</style>\n",
       "<table border=\"1\" class=\"dataframe\">\n",
       "  <thead>\n",
       "    <tr style=\"text-align: right;\">\n",
       "      <th></th>\n",
       "      <th>Transaction</th>\n",
       "      <th>Пиво</th>\n",
       "      <th>Подгузники</th>\n",
       "      <th>Кола</th>\n",
       "    </tr>\n",
       "  </thead>\n",
       "  <tbody>\n",
       "    <tr>\n",
       "      <th>0</th>\n",
       "      <td>1</td>\n",
       "      <td>1</td>\n",
       "      <td>1</td>\n",
       "      <td>1</td>\n",
       "    </tr>\n",
       "    <tr>\n",
       "      <th>1</th>\n",
       "      <td>2</td>\n",
       "      <td>0</td>\n",
       "      <td>1</td>\n",
       "      <td>0</td>\n",
       "    </tr>\n",
       "    <tr>\n",
       "      <th>2</th>\n",
       "      <td>3</td>\n",
       "      <td>1</td>\n",
       "      <td>0</td>\n",
       "      <td>1</td>\n",
       "    </tr>\n",
       "    <tr>\n",
       "      <th>3</th>\n",
       "      <td>4</td>\n",
       "      <td>1</td>\n",
       "      <td>0</td>\n",
       "      <td>1</td>\n",
       "    </tr>\n",
       "    <tr>\n",
       "      <th>4</th>\n",
       "      <td>5</td>\n",
       "      <td>1</td>\n",
       "      <td>1</td>\n",
       "      <td>0</td>\n",
       "    </tr>\n",
       "  </tbody>\n",
       "</table>\n",
       "</div>"
      ],
      "text/plain": [
       "   Transaction  Пиво  Подгузники  Кола\n",
       "0  1            1     1           1   \n",
       "1  2            0     1           0   \n",
       "2  3            1     0           1   \n",
       "3  4            1     0           1   \n",
       "4  5            1     1           0   "
      ]
     },
     "execution_count": 64,
     "metadata": {},
     "output_type": "execute_result"
    }
   ],
   "source": [
    "play_set = pd.read_csv('data/play_set.csv', sep = ';')\n",
    "play_set\n",
    "# микродатасет, где указаны номера транзакций, а также в бинарном виде представлено, что покупалось на каждой транзакции"
   ]
  },
  {
   "cell_type": "markdown",
   "metadata": {},
   "source": [
    "$supp = \\frac{\\text{Транзакции с пивом и подгузниками}}{\\text{Все транзакции}}$ = $P(\\text{Пиво}\\cap\\text{Подгузники})$"
   ]
  },
  {
   "cell_type": "markdown",
   "metadata": {},
   "source": [
    "$supp = \\frac{2}{5}$ = 40%"
   ]
  },
  {
   "cell_type": "markdown",
   "metadata": {},
   "source": [
    "##### Confidence (достоверность)"
   ]
  },
  {
   "cell_type": "markdown",
   "metadata": {},
   "source": [
    "Следующее ключевое понятие - confidence. Это показатель того, как часто наше правило срабатывает для всего датасета. "
   ]
  },
  {
   "cell_type": "markdown",
   "metadata": {},
   "source": [
    "$conf(x_1\\cup x_2) = \\frac{supp(x_1 \\cup x_2)}{supp(x_1)}$"
   ]
  },
  {
   "cell_type": "markdown",
   "metadata": {},
   "source": [
    "Приведем пример: мы хотим посчитать confidence для правила \"кто покупает пиво, тот покупает и подгузники\".\n",
    "\n",
    "Для этого сначала посчитаем, какой support у правила \"покупает пиво\", потом посчитаем support у правила \"покупает пиво и подгузники\", и просто поделим одно на другое. Т.е. мы посчитаем в скольких случаях (транзакциях) срабатывает правило \"купил пиво $supp(X)$, купил подгузники и пиво $supp(X \\cup Y)$\"\n",
    "Ничего не напоминает? Байес смотрит на все это несколько недоуменно и с презрением:)"
   ]
  },
  {
   "cell_type": "markdown",
   "metadata": {},
   "source": [
    "Посмотрим на нашем микродатасете"
   ]
  },
  {
   "cell_type": "markdown",
   "metadata": {},
   "source": [
    "$conf(\\text{Пиво}\\cup \\text{Подгузники}) = \\frac{supp(\\text{Пиво}\\cup \\text{Подгузники})}{supp(\\text{Подгузники})}$ = $P(\\text{Пиво}\\mid\\text{Подгузники})$"
   ]
  },
  {
   "cell_type": "markdown",
   "metadata": {},
   "source": [
    "$conf = \\frac{2}{3}$ = 67%"
   ]
  },
  {
   "cell_type": "markdown",
   "metadata": {},
   "source": [
    "<img src=\"img/thomas-bayes.png\">"
   ]
  },
  {
   "cell_type": "markdown",
   "metadata": {
    "collapsed": true
   },
   "source": [
    "##### Lift (поддержка)"
   ]
  },
  {
   "cell_type": "markdown",
   "metadata": {},
   "source": [
    "Следующее понятие в нашем списке - lift. Грубо говоря, lift - это отношение \"зависимости\" items к их \"независимости\". Lift показывает, насколько items зависят друг от друга. Это очевидно из формулы:"
   ]
  },
  {
   "cell_type": "markdown",
   "metadata": {},
   "source": [
    "$lift(x_1\\cup x_2) = \\frac{supp(x_1 \\cup x_2)}{supp(x_1) \\times supp(x_2)}$"
   ]
  },
  {
   "cell_type": "markdown",
   "metadata": {},
   "source": [
    "Например, мы хотим понять зависимость покупки пива и покупки подгузников. Для этого считаем support правила \"купил пиво и подгузники\" и делим его на произведение правил \"купил пиво\" и \"купил подгузники\". В случае, если lift = 1, мы говорим, что items независимы и правил совместной покупки тут нет. Если же lift > 1, то величина, на которую lift, собственно, больше этой самой единицы, и покажет нам \"силу\" правила. Чем больше единицы, тем круче. По-другому lift можно определить как отношение confidence к expected confidence, т.е. отношение достоверности правила, когда оба (ну или сколько там захотите) элемента покупаются вместе к достоверности правила, когда один из элементов покупался (неважно, со вторым или без)"
   ]
  },
  {
   "cell_type": "markdown",
   "metadata": {},
   "source": [
    "$lift = \\frac{\\text{Confidence}}{\\text{Expected confidence}}$ = $\\frac{P(\\text{Пиво} \\mid \\text{Подгузники})}{P(\\text{Подгузники})}$"
   ]
  },
  {
   "cell_type": "markdown",
   "metadata": {},
   "source": [
    "$lift = \\frac{\\frac{2}{3}}{\\frac{3}{5}}$ = 1,(11)"
   ]
  },
  {
   "cell_type": "markdown",
   "metadata": {},
   "source": [
    "Т.е. наше правило, что пиво покупают с подгузникми, на 11% мощнее правила, что подгузники просто покупают"
   ]
  },
  {
   "cell_type": "markdown",
   "metadata": {},
   "source": [
    "##### Conviction (убедительность)"
   ]
  },
  {
   "cell_type": "markdown",
   "metadata": {},
   "source": [
    "В общем виде Conviction - это \"частотность ошибок\" нашего правила. Т.е., например, как часто покупали пиво без подгузников и наоборот."
   ]
  },
  {
   "cell_type": "markdown",
   "metadata": {},
   "source": [
    "$conv(x_1\\cup x_2) = \\frac{1 - supp(x_2)}{1 - conf(x_1 \\cup x_2)}$"
   ]
  },
  {
   "cell_type": "markdown",
   "metadata": {},
   "source": [
    "$conv(\\text{Пиво}\\cup \\text{Подгузники} ) = \\frac{1 - supp(\\text{Подгузники})}{1 - conf(\\text{Пиво} \\cup \\text{Подгузники})}$ = $\\frac{1 - 0.4}{1 - 0.67}$ = $1,(81)$"
   ]
  },
  {
   "cell_type": "markdown",
   "metadata": {},
   "source": [
    "Чем результат по формуле выше ближе к 1, тем лучше. Например, если conviction покупки пива и подгузников вместе был бы равен 1.2, это значит, что правило \"купил пиво и подгузники\" было бы в 1.2 раза (на 20%) более верным, чем если бы совпадение этих items в одной транзакции было бы чисто случайным. Немного не интуитивное понятие, но оно и используется не так часто, как предыдущие три. "
   ]
  },
  {
   "cell_type": "markdown",
   "metadata": {},
   "source": [
    "Существует ряд часто используемых классических алгоритмов, позволяющих находить правила в itemsets согласно перечисленным выше понятиям - Наивный или брутфорс-алгоритм, Apriori- алгоритм, ECLAT-алгоритм, FP-growth алгоритм и другие."
   ]
  },
  {
   "cell_type": "markdown",
   "metadata": {},
   "source": [
    "### Брутфорс"
   ]
  },
  {
   "cell_type": "markdown",
   "metadata": {},
   "source": [
    "Найти правила в itemsets в общем не сложно, сложно сделать это эффективно. Брутфорс-алгоритм самый простой и, в то же время, самый неэффективный способ."
   ]
  },
  {
   "cell_type": "markdown",
   "metadata": {},
   "source": [
    "В псевдо-коде алгоритм выглядит так:"
   ]
  },
  {
   "cell_type": "markdown",
   "metadata": {},
   "source": [
    "**ВХОД**: Датасет $D$, содержащий список транзакций"
   ]
  },
  {
   "cell_type": "markdown",
   "metadata": {},
   "source": [
    "**ВЫХОД**: Наборы itemsets $F_1, F_2, F_3, ... F_q$, где $F_i$ - набор itemsets размера $I$, которые встречаются как минимум $s$ раз в $D$"
   ]
  },
  {
   "cell_type": "markdown",
   "metadata": {},
   "source": [
    "**ПОДХОД:**"
   ]
  },
  {
   "cell_type": "markdown",
   "metadata": {},
   "source": [
    "1. $R \\leftarrow$  целочисленный array, содержащий в себе все комбинации items в $D$, размера $2^{|D|}$\n",
    "2. **for** $n \\leftarrow  [1, |D|]$ **do**:\n",
    "<br>\n",
    "$F \\leftarrow$  все возможные комбинации из $D_n$\n",
    "<br>\n",
    "Увеличить каждое значение в $R$ согласно значениям в каждом $F[]$\n",
    "5. **return** Все itemsets в $R \\geq s$"
   ]
  },
  {
   "cell_type": "markdown",
   "metadata": {},
   "source": [
    "Сложность брутфорс-алгоритма очевидна:\n",
    "Для того чтобы найти все возможные Association rules применяя брутфорс-алгоритм нам необходимо перечислить все подмножества $X$ из набора $I$ и для каждого подмножества $X$ рассчитать $supp(X)$. Данный подход будет состоять из следующих шагов:\n",
    "-  генерация **кандидатов**. Данный шаг состоит из перебора всех возможных подмножеств $X$ подмножества $I$. Данные подмножества называются **кандидатами**, поскольку каждое подмножество теоретически может являться часто встречаемым подмножеством, то множество потенциальных кандидатов будет состоять из $2^{|D|}$ элементов (здесь $|D|$ обозначается число элементов множества $I$, а $2^{|D|}$ часто называется булеаном множества $I$, то есть множество всех подмножеств $I$)\n",
    "-  расчет **support**. На данном шаге рассчитывается $supp(X)$ каждого кандидата $X$\n",
    "\n",
    "Таким образом, сложность нашего алгоритма будет: $O(|I|*|D|*2^{|I|})$, где\n",
    "<br>$O(2^{|I|})$ - количество возможных кандидатов</br>\n",
    "<br>$O(|I|*|D|)$ - сложность расчета $supp(X)$, поскольку для расчета  $supp(X)$ нам необходимо перебрать все элементы в $I$ в каждой транзакции $t \\in T$</br>"
   ]
  },
  {
   "cell_type": "markdown",
   "metadata": {},
   "source": [
    "В нотации O-большое нам понадобится $O(N)$ операций, где $N$ - количество itemsets.\n",
    "Таким образом, для применения брутфорс-алгоритма нам понадобится $2^i$ ячеек памяти, где $i$ - индивидуальный itemset. Т.е. для хранения и обсчета 34 items нам понадобится 128GB RAM (для 64-битных целосчисленных ячеек). \n",
    "<br>Таким образом брутфорс поможет нам в обсчете транзакций в палатке с шаурмой у вокзала, но для чего-то более серьезного он совершенно не пригоден."
   ]
  },
  {
   "cell_type": "markdown",
   "metadata": {},
   "source": [
    "### Apriori Algorithm"
   ]
  },
  {
   "cell_type": "markdown",
   "metadata": {},
   "source": [
    "#### Теория"
   ]
  },
  {
   "cell_type": "markdown",
   "metadata": {
    "collapsed": true
   },
   "source": [
    "Используемые понятия:\n",
    "<br> -  Множество объектов (**itemset**): $X \\subseteq I = \\{x_1, x_2, ..., x_n\\}$</br>\n",
    "<br> -  Множество идентификаторов транзакций (**tidset**): $T = \\{t_1, t_2, ..., t_m\\}$</br>\n",
    "<br> -  Множество транзакций (**transactions**): $\\{(t,\\ X):\\ t\\in T,\\ X \\in I\\}$</br>"
   ]
  },
  {
   "cell_type": "markdown",
   "metadata": {},
   "source": [
    "Введем дополнительно еще несколько понятий.\n",
    "<br>Будем рассматривать дерево префиксов (prefix tree), где 2 элемента $X$ и $Y$ соединены, если $X$ является прямым подмножеством $Y$. Таким образом мы можем пронумеровать все подмножества множества $I$. Рисунок приведен ниже</br>"
   ]
  },
  {
   "cell_type": "markdown",
   "metadata": {},
   "source": [
    "<img src=\"img/prefix-based search.PNG\">"
   ]
  },
  {
   "cell_type": "markdown",
   "metadata": {},
   "source": [
    "Итак, рассмотрим Apriori алгоритм.\n",
    "<br>\n",
    "Apriori алгоритм использует следующее утверждение: если $X \\subseteq Y$, то $supp(X) \\geq supp(Y)$. Отсюда следуют следующие 2 свойства:\n",
    " -  если $Y$ встречается часто, то любое подмножество $X: X \\subseteq Y$  так же встречается часто\n",
    " -  если $X$ встречается редко, то любое супермножество $Y: Y \\supseteq X$ так же встречается редко\n",
    " </br>"
   ]
  },
  {
   "cell_type": "markdown",
   "metadata": {},
   "source": [
    "Apriori алгоритм по-уровнево проходит по префиксному дереву и рассчитывает частоту встречаемости подмножеств $X$ в $D$. Таким образом, в соответствии с алгоритмом:\n",
    " -  исключаются редкие подмножества и все их супермножества\n",
    " -  рассчитывается $supp(X)$ для кадого подходящего кандидата $X$ размера $k$ на уровне $k$"
   ]
  },
  {
   "cell_type": "markdown",
   "metadata": {},
   "source": [
    "<img src=\"img/Intersections.PNG\">"
   ]
  },
  {
   "cell_type": "markdown",
   "metadata": {},
   "source": [
    "В псевдо-код нотации Априори-алгоритм выглядит следующим образом:"
   ]
  },
  {
   "cell_type": "markdown",
   "metadata": {},
   "source": [
    "**ВХОД**: Датасет $D$, содержащий список транзакций, и $\\sigma$ - задаваемый пользователем порог $supp$"
   ]
  },
  {
   "cell_type": "markdown",
   "metadata": {},
   "source": [
    "**ВЫХОД**: Список itemsets $F(D, \\sigma)$"
   ]
  },
  {
   "cell_type": "markdown",
   "metadata": {},
   "source": [
    "**ПОДХОД**:"
   ]
  },
  {
   "cell_type": "markdown",
   "metadata": {},
   "source": [
    "1. $C_1$ $\\leftarrow$ $[{i}|i \\in J]$\n",
    "2. $k \\leftarrow 1$\n",
    "3. **while** $C_k \\neq 1$ **do**:\n",
    "4. #Считаем все support для всех кандидатов\n",
    "<br>\n",
    "**for all** транзакций (tid, I) $\\in D$ **do**:\n",
    "<br>\n",
    "    **for all** кандидатов $X \\in C_k$ **do**:\n",
    "<br>\n",
    "**if** $X \\subseteq I$:\n",
    "<br>\n",
    "$X.support++$\n",
    "5. #Вытаскиваем все частые itemsets:\n",
    "<br>\n",
    "$F_k = $ {X|X.support > $\\sigma$}\n",
    "6. #Генерируем новых кандидатов\n",
    "<br>\n",
    "**for all** $X,Y \\in F_i, X[i] = Y[i]$ **for** $1 \\leq i \\leq k-1$ **and** $X[k] \\leq Y[k]$ **do**:\n",
    "<br>\n",
    "$I = X \\cup$ {$Y$|$k$|}\n",
    "<br>\n",
    "**if** $\\forall J \\subset I,|J| = k: J \\in F_k$ **then**\n",
    "<br>\n",
    "$C_k+1$ $\\leftarrow C_k+1 \\cup I$\n",
    "<br>\n",
    "$k++$\n"
   ]
  },
  {
   "cell_type": "markdown",
   "metadata": {},
   "source": [
    "Таким образом, Apriori-алгоритм сначала ищет все единичные (содержащие 1 элемент) itemsets, удовлетворяющие заданному пользователем $supp$, затем составляет из них пары по принципу иерархической монотонности, т.е. если $x_1$ встречается часто и $x_2$ встречается часто, то и $[x_1, x_2]$ встречается часто."
   ]
  },
  {
   "cell_type": "markdown",
   "metadata": {},
   "source": [
    "Явным минусом такого подхода является то, что необходимо \"просканировать\" весь датасет, посчитать все $supp$ на всех уровнях breadth-first search (поиск в ширину - подробнее [тут](https://ru.wikipedia.org/wiki/%D0%9F%D0%BE%D0%B8%D1%81%D0%BA_%D0%B2_%D1%88%D0%B8%D1%80%D0%B8%D0%BD%D1%83))\n",
    "Это также может подъесть RAM на больших датасетах, хотя и намного эффективнее брутфорса"
   ]
  },
  {
   "cell_type": "markdown",
   "metadata": {},
   "source": [
    "#### Реализация в Python"
   ]
  },
  {
   "cell_type": "markdown",
   "metadata": {
    "collapsed": true
   },
   "source": [
    "from sklearn import... эммм... а импортировать-то и нечего:) На данный момент модулей для ALR в sklearn нет. Ну ничего, погуглим или напишем свои, правда?"
   ]
  },
  {
   "cell_type": "markdown",
   "metadata": {
    "collapsed": true
   },
   "source": [
    "По сети гуляет целый ряд реализаций, например [вот](https://github.com/asaini/Apriori), [вот](http://adataanalyst.com/machine-learning/apriori-algorithm-python-3-0/), и даже [вот](https://codereview.stackexchange.com/questions/38101/apriori-algorithm-using-pandas)"
   ]
  },
  {
   "cell_type": "markdown",
   "metadata": {},
   "source": [
    "Мы же на практике придерживаемся алгоритма apyori, написанного Ю Мочиузки (Yu Mochizuki). Полный код приводить не будем, желающие могут посмотреть [тут](https://github.com/ymoch/apyori) , а вот архитектуру решения и пример использования покажем."
   ]
  },
  {
   "cell_type": "markdown",
   "metadata": {},
   "source": [
    "Условно решение Мочизуки можно разделить на 4 части: Структура данных, Внутренние функции, API и Прикладные функции."
   ]
  },
  {
   "cell_type": "markdown",
   "metadata": {},
   "source": [
    "Первая часть модуля (Структура данных) работает с изначальным датасетом. Реализуется класс TransactionManager, методы которого объединяют транзакции в матрицу, формируют список правил-кандидатов и считают support для каждого правила. Внутренние функции дополнительно по support'у формируют списки правил и соответственно их ранжируют. API логично позволяет работать напрямую с датасетами, а Прикладные функции позволяют обрабатывать транзакции и выводить результат в читаемый вид. Никакого rocketscience.  "
   ]
  },
  {
   "cell_type": "markdown",
   "metadata": {},
   "source": [
    "Посмотрим, как использовать модуль на реальном (ну, в данном случае - игрушечном) датасете."
   ]
  },
  {
   "cell_type": "code",
   "execution_count": 2,
   "metadata": {
    "collapsed": true
   },
   "outputs": [],
   "source": [
    "# подгрузим модули\n",
    "import numpy as np\n",
    "import matplotlib.pyplot as plt\n",
    "import pandas as pd"
   ]
  },
  {
   "cell_type": "code",
   "execution_count": 3,
   "metadata": {
    "collapsed": true
   },
   "outputs": [],
   "source": [
    "# загрузим данные\n",
    "dataset = pd.read_csv('data/Market_Basket_Optimisation.csv', header = None)"
   ]
  },
  {
   "cell_type": "code",
   "execution_count": 4,
   "metadata": {},
   "outputs": [
    {
     "data": {
      "text/html": [
       "<div>\n",
       "<style>\n",
       "    .dataframe thead tr:only-child th {\n",
       "        text-align: right;\n",
       "    }\n",
       "\n",
       "    .dataframe thead th {\n",
       "        text-align: left;\n",
       "    }\n",
       "\n",
       "    .dataframe tbody tr th {\n",
       "        vertical-align: top;\n",
       "    }\n",
       "</style>\n",
       "<table border=\"1\" class=\"dataframe\">\n",
       "  <thead>\n",
       "    <tr style=\"text-align: right;\">\n",
       "      <th></th>\n",
       "      <th>0</th>\n",
       "      <th>1</th>\n",
       "      <th>2</th>\n",
       "      <th>3</th>\n",
       "      <th>4</th>\n",
       "      <th>5</th>\n",
       "      <th>6</th>\n",
       "      <th>7</th>\n",
       "      <th>8</th>\n",
       "      <th>9</th>\n",
       "      <th>10</th>\n",
       "      <th>11</th>\n",
       "      <th>12</th>\n",
       "      <th>13</th>\n",
       "      <th>14</th>\n",
       "      <th>15</th>\n",
       "      <th>16</th>\n",
       "      <th>17</th>\n",
       "      <th>18</th>\n",
       "      <th>19</th>\n",
       "    </tr>\n",
       "  </thead>\n",
       "  <tbody>\n",
       "    <tr>\n",
       "      <th>0</th>\n",
       "      <td>shrimp</td>\n",
       "      <td>almonds</td>\n",
       "      <td>avocado</td>\n",
       "      <td>vegetables mix</td>\n",
       "      <td>green grapes</td>\n",
       "      <td>whole weat flour</td>\n",
       "      <td>yams</td>\n",
       "      <td>cottage cheese</td>\n",
       "      <td>energy drink</td>\n",
       "      <td>tomato juice</td>\n",
       "      <td>low fat yogurt</td>\n",
       "      <td>green tea</td>\n",
       "      <td>honey</td>\n",
       "      <td>salad</td>\n",
       "      <td>mineral water</td>\n",
       "      <td>salmon</td>\n",
       "      <td>antioxydant juice</td>\n",
       "      <td>frozen smoothie</td>\n",
       "      <td>spinach</td>\n",
       "      <td>olive oil</td>\n",
       "    </tr>\n",
       "    <tr>\n",
       "      <th>1</th>\n",
       "      <td>burgers</td>\n",
       "      <td>meatballs</td>\n",
       "      <td>eggs</td>\n",
       "      <td>NaN</td>\n",
       "      <td>NaN</td>\n",
       "      <td>NaN</td>\n",
       "      <td>NaN</td>\n",
       "      <td>NaN</td>\n",
       "      <td>NaN</td>\n",
       "      <td>NaN</td>\n",
       "      <td>NaN</td>\n",
       "      <td>NaN</td>\n",
       "      <td>NaN</td>\n",
       "      <td>NaN</td>\n",
       "      <td>NaN</td>\n",
       "      <td>NaN</td>\n",
       "      <td>NaN</td>\n",
       "      <td>NaN</td>\n",
       "      <td>NaN</td>\n",
       "      <td>NaN</td>\n",
       "    </tr>\n",
       "    <tr>\n",
       "      <th>2</th>\n",
       "      <td>chutney</td>\n",
       "      <td>NaN</td>\n",
       "      <td>NaN</td>\n",
       "      <td>NaN</td>\n",
       "      <td>NaN</td>\n",
       "      <td>NaN</td>\n",
       "      <td>NaN</td>\n",
       "      <td>NaN</td>\n",
       "      <td>NaN</td>\n",
       "      <td>NaN</td>\n",
       "      <td>NaN</td>\n",
       "      <td>NaN</td>\n",
       "      <td>NaN</td>\n",
       "      <td>NaN</td>\n",
       "      <td>NaN</td>\n",
       "      <td>NaN</td>\n",
       "      <td>NaN</td>\n",
       "      <td>NaN</td>\n",
       "      <td>NaN</td>\n",
       "      <td>NaN</td>\n",
       "    </tr>\n",
       "    <tr>\n",
       "      <th>3</th>\n",
       "      <td>turkey</td>\n",
       "      <td>avocado</td>\n",
       "      <td>NaN</td>\n",
       "      <td>NaN</td>\n",
       "      <td>NaN</td>\n",
       "      <td>NaN</td>\n",
       "      <td>NaN</td>\n",
       "      <td>NaN</td>\n",
       "      <td>NaN</td>\n",
       "      <td>NaN</td>\n",
       "      <td>NaN</td>\n",
       "      <td>NaN</td>\n",
       "      <td>NaN</td>\n",
       "      <td>NaN</td>\n",
       "      <td>NaN</td>\n",
       "      <td>NaN</td>\n",
       "      <td>NaN</td>\n",
       "      <td>NaN</td>\n",
       "      <td>NaN</td>\n",
       "      <td>NaN</td>\n",
       "    </tr>\n",
       "    <tr>\n",
       "      <th>4</th>\n",
       "      <td>mineral water</td>\n",
       "      <td>milk</td>\n",
       "      <td>energy bar</td>\n",
       "      <td>whole wheat rice</td>\n",
       "      <td>green tea</td>\n",
       "      <td>NaN</td>\n",
       "      <td>NaN</td>\n",
       "      <td>NaN</td>\n",
       "      <td>NaN</td>\n",
       "      <td>NaN</td>\n",
       "      <td>NaN</td>\n",
       "      <td>NaN</td>\n",
       "      <td>NaN</td>\n",
       "      <td>NaN</td>\n",
       "      <td>NaN</td>\n",
       "      <td>NaN</td>\n",
       "      <td>NaN</td>\n",
       "      <td>NaN</td>\n",
       "      <td>NaN</td>\n",
       "      <td>NaN</td>\n",
       "    </tr>\n",
       "  </tbody>\n",
       "</table>\n",
       "</div>"
      ],
      "text/plain": [
       "              0          1           2                 3             4   \\\n",
       "0         shrimp    almonds     avocado    vegetables mix  green grapes   \n",
       "1        burgers  meatballs        eggs               NaN           NaN   \n",
       "2        chutney        NaN         NaN               NaN           NaN   \n",
       "3         turkey    avocado         NaN               NaN           NaN   \n",
       "4  mineral water       milk  energy bar  whole wheat rice     green tea   \n",
       "\n",
       "                 5     6               7             8             9   \\\n",
       "0  whole weat flour  yams  cottage cheese  energy drink  tomato juice   \n",
       "1               NaN   NaN             NaN           NaN           NaN   \n",
       "2               NaN   NaN             NaN           NaN           NaN   \n",
       "3               NaN   NaN             NaN           NaN           NaN   \n",
       "4               NaN   NaN             NaN           NaN           NaN   \n",
       "\n",
       "               10         11     12     13             14      15  \\\n",
       "0  low fat yogurt  green tea  honey  salad  mineral water  salmon   \n",
       "1             NaN        NaN    NaN    NaN            NaN     NaN   \n",
       "2             NaN        NaN    NaN    NaN            NaN     NaN   \n",
       "3             NaN        NaN    NaN    NaN            NaN     NaN   \n",
       "4             NaN        NaN    NaN    NaN            NaN     NaN   \n",
       "\n",
       "                  16               17       18         19  \n",
       "0  antioxydant juice  frozen smoothie  spinach  olive oil  \n",
       "1                NaN              NaN      NaN        NaN  \n",
       "2                NaN              NaN      NaN        NaN  \n",
       "3                NaN              NaN      NaN        NaN  \n",
       "4                NaN              NaN      NaN        NaN  "
      ]
     },
     "execution_count": 4,
     "metadata": {},
     "output_type": "execute_result"
    }
   ],
   "source": [
    "# посомтрим на датасет\n",
    "dataset.head()"
   ]
  },
  {
   "cell_type": "code",
   "execution_count": 5,
   "metadata": {
    "collapsed": true
   },
   "outputs": [],
   "source": [
    "dataset.fillna(method = 'ffill',axis = 1, inplace = True)"
   ]
  },
  {
   "cell_type": "markdown",
   "metadata": {},
   "source": [
    "Видим, что датасет у нас представляет разреженную матрицу, где в строках у нас набор items в каждой транзакции."
   ]
  },
  {
   "cell_type": "code",
   "execution_count": 6,
   "metadata": {},
   "outputs": [
    {
     "data": {
      "text/html": [
       "<div>\n",
       "<style>\n",
       "    .dataframe thead tr:only-child th {\n",
       "        text-align: right;\n",
       "    }\n",
       "\n",
       "    .dataframe thead th {\n",
       "        text-align: left;\n",
       "    }\n",
       "\n",
       "    .dataframe tbody tr th {\n",
       "        vertical-align: top;\n",
       "    }\n",
       "</style>\n",
       "<table border=\"1\" class=\"dataframe\">\n",
       "  <thead>\n",
       "    <tr style=\"text-align: right;\">\n",
       "      <th></th>\n",
       "      <th>0</th>\n",
       "      <th>1</th>\n",
       "      <th>2</th>\n",
       "      <th>3</th>\n",
       "      <th>4</th>\n",
       "      <th>5</th>\n",
       "      <th>6</th>\n",
       "      <th>7</th>\n",
       "      <th>8</th>\n",
       "      <th>9</th>\n",
       "      <th>10</th>\n",
       "      <th>11</th>\n",
       "      <th>12</th>\n",
       "      <th>13</th>\n",
       "      <th>14</th>\n",
       "      <th>15</th>\n",
       "      <th>16</th>\n",
       "      <th>17</th>\n",
       "      <th>18</th>\n",
       "      <th>19</th>\n",
       "    </tr>\n",
       "  </thead>\n",
       "  <tbody>\n",
       "    <tr>\n",
       "      <th>0</th>\n",
       "      <td>shrimp</td>\n",
       "      <td>almonds</td>\n",
       "      <td>avocado</td>\n",
       "      <td>vegetables mix</td>\n",
       "      <td>green grapes</td>\n",
       "      <td>whole weat flour</td>\n",
       "      <td>yams</td>\n",
       "      <td>cottage cheese</td>\n",
       "      <td>energy drink</td>\n",
       "      <td>tomato juice</td>\n",
       "      <td>low fat yogurt</td>\n",
       "      <td>green tea</td>\n",
       "      <td>honey</td>\n",
       "      <td>salad</td>\n",
       "      <td>mineral water</td>\n",
       "      <td>salmon</td>\n",
       "      <td>antioxydant juice</td>\n",
       "      <td>frozen smoothie</td>\n",
       "      <td>spinach</td>\n",
       "      <td>olive oil</td>\n",
       "    </tr>\n",
       "    <tr>\n",
       "      <th>1</th>\n",
       "      <td>burgers</td>\n",
       "      <td>meatballs</td>\n",
       "      <td>eggs</td>\n",
       "      <td>eggs</td>\n",
       "      <td>eggs</td>\n",
       "      <td>eggs</td>\n",
       "      <td>eggs</td>\n",
       "      <td>eggs</td>\n",
       "      <td>eggs</td>\n",
       "      <td>eggs</td>\n",
       "      <td>eggs</td>\n",
       "      <td>eggs</td>\n",
       "      <td>eggs</td>\n",
       "      <td>eggs</td>\n",
       "      <td>eggs</td>\n",
       "      <td>eggs</td>\n",
       "      <td>eggs</td>\n",
       "      <td>eggs</td>\n",
       "      <td>eggs</td>\n",
       "      <td>eggs</td>\n",
       "    </tr>\n",
       "    <tr>\n",
       "      <th>2</th>\n",
       "      <td>chutney</td>\n",
       "      <td>chutney</td>\n",
       "      <td>chutney</td>\n",
       "      <td>chutney</td>\n",
       "      <td>chutney</td>\n",
       "      <td>chutney</td>\n",
       "      <td>chutney</td>\n",
       "      <td>chutney</td>\n",
       "      <td>chutney</td>\n",
       "      <td>chutney</td>\n",
       "      <td>chutney</td>\n",
       "      <td>chutney</td>\n",
       "      <td>chutney</td>\n",
       "      <td>chutney</td>\n",
       "      <td>chutney</td>\n",
       "      <td>chutney</td>\n",
       "      <td>chutney</td>\n",
       "      <td>chutney</td>\n",
       "      <td>chutney</td>\n",
       "      <td>chutney</td>\n",
       "    </tr>\n",
       "    <tr>\n",
       "      <th>3</th>\n",
       "      <td>turkey</td>\n",
       "      <td>avocado</td>\n",
       "      <td>avocado</td>\n",
       "      <td>avocado</td>\n",
       "      <td>avocado</td>\n",
       "      <td>avocado</td>\n",
       "      <td>avocado</td>\n",
       "      <td>avocado</td>\n",
       "      <td>avocado</td>\n",
       "      <td>avocado</td>\n",
       "      <td>avocado</td>\n",
       "      <td>avocado</td>\n",
       "      <td>avocado</td>\n",
       "      <td>avocado</td>\n",
       "      <td>avocado</td>\n",
       "      <td>avocado</td>\n",
       "      <td>avocado</td>\n",
       "      <td>avocado</td>\n",
       "      <td>avocado</td>\n",
       "      <td>avocado</td>\n",
       "    </tr>\n",
       "    <tr>\n",
       "      <th>4</th>\n",
       "      <td>mineral water</td>\n",
       "      <td>milk</td>\n",
       "      <td>energy bar</td>\n",
       "      <td>whole wheat rice</td>\n",
       "      <td>green tea</td>\n",
       "      <td>green tea</td>\n",
       "      <td>green tea</td>\n",
       "      <td>green tea</td>\n",
       "      <td>green tea</td>\n",
       "      <td>green tea</td>\n",
       "      <td>green tea</td>\n",
       "      <td>green tea</td>\n",
       "      <td>green tea</td>\n",
       "      <td>green tea</td>\n",
       "      <td>green tea</td>\n",
       "      <td>green tea</td>\n",
       "      <td>green tea</td>\n",
       "      <td>green tea</td>\n",
       "      <td>green tea</td>\n",
       "      <td>green tea</td>\n",
       "    </tr>\n",
       "  </tbody>\n",
       "</table>\n",
       "</div>"
      ],
      "text/plain": [
       "              0          1           2                 3             4   \\\n",
       "0         shrimp    almonds     avocado    vegetables mix  green grapes   \n",
       "1        burgers  meatballs        eggs              eggs          eggs   \n",
       "2        chutney    chutney     chutney           chutney       chutney   \n",
       "3         turkey    avocado     avocado           avocado       avocado   \n",
       "4  mineral water       milk  energy bar  whole wheat rice     green tea   \n",
       "\n",
       "                 5          6               7             8             9   \\\n",
       "0  whole weat flour       yams  cottage cheese  energy drink  tomato juice   \n",
       "1              eggs       eggs            eggs          eggs          eggs   \n",
       "2           chutney    chutney         chutney       chutney       chutney   \n",
       "3           avocado    avocado         avocado       avocado       avocado   \n",
       "4         green tea  green tea       green tea     green tea     green tea   \n",
       "\n",
       "               10         11         12         13             14         15  \\\n",
       "0  low fat yogurt  green tea      honey      salad  mineral water     salmon   \n",
       "1            eggs       eggs       eggs       eggs           eggs       eggs   \n",
       "2         chutney    chutney    chutney    chutney        chutney    chutney   \n",
       "3         avocado    avocado    avocado    avocado        avocado    avocado   \n",
       "4       green tea  green tea  green tea  green tea      green tea  green tea   \n",
       "\n",
       "                  16               17         18         19  \n",
       "0  antioxydant juice  frozen smoothie    spinach  olive oil  \n",
       "1               eggs             eggs       eggs       eggs  \n",
       "2            chutney          chutney    chutney    chutney  \n",
       "3            avocado          avocado    avocado    avocado  \n",
       "4          green tea        green tea  green tea  green tea  "
      ]
     },
     "execution_count": 6,
     "metadata": {},
     "output_type": "execute_result"
    }
   ],
   "source": [
    "dataset.head()"
   ]
  },
  {
   "cell_type": "code",
   "execution_count": 7,
   "metadata": {
    "collapsed": true
   },
   "outputs": [],
   "source": [
    "#создаим из них матрицу\n",
    "transactions = []\n",
    "for i in range(0, 7501): \n",
    "    transactions.append([str(dataset.values[i,j]) for j in range(0, 20)])"
   ]
  },
  {
   "cell_type": "code",
   "execution_count": 8,
   "metadata": {
    "collapsed": true
   },
   "outputs": [],
   "source": [
    "#загружаем apriori\n",
    "import apriori"
   ]
  },
  {
   "cell_type": "code",
   "execution_count": 9,
   "metadata": {},
   "outputs": [
    {
     "name": "stdout",
     "output_type": "stream",
     "text": [
      "Wall time: 504 ms\n"
     ]
    }
   ],
   "source": [
    "%%time\n",
    "# и обучимся правилам. Обратите внимание, что пороговые значения мы вибираем сами в зависимости от того,\n",
    "# насколкьо \"сильные\" правила мы хотим получить\n",
    "# min_support -- минимальный support для правил (dtype = float).\n",
    "# min_confidence -- минимальное значение confidence для правил (dtype = float)\n",
    "# min_lift -- минимальный lift (dtype = float)\n",
    "# max_length -- максимальная длина itemset (вспоминаем про k-itemset)  (dtype = integer)\n",
    "\n",
    "result = list(apriori.apriori(transactions, min_support = 0.003, min_confidence = 0.2, min_lift = 4, min_length = 2))"
   ]
  },
  {
   "cell_type": "markdown",
   "metadata": {
    "collapsed": true
   },
   "source": [
    "Визуализируем выход"
   ]
  },
  {
   "cell_type": "code",
   "execution_count": 10,
   "metadata": {
    "collapsed": true
   },
   "outputs": [],
   "source": [
    "import shutil, os "
   ]
  },
  {
   "cell_type": "code",
   "execution_count": 11,
   "metadata": {
    "collapsed": true
   },
   "outputs": [],
   "source": [
    "try:\n",
    "    from StringIO import StringIO\n",
    "except ImportError:\n",
    "    from io import StringIO"
   ]
  },
  {
   "cell_type": "code",
   "execution_count": 12,
   "metadata": {
    "collapsed": true
   },
   "outputs": [],
   "source": [
    "import json #преобразовывать будем в json, используя встроенные в модуль методы"
   ]
  },
  {
   "cell_type": "code",
   "execution_count": 14,
   "metadata": {},
   "outputs": [],
   "source": [
    "output = []\n",
    "for RelationRecord in result:\n",
    "    o = StringIO()\n",
    "    apriori.dump_as_json(RelationRecord, o)\n",
    "    output.append(json.loads(o.getvalue()))\n",
    "data_df = pd.DataFrame(output)"
   ]
  },
  {
   "cell_type": "code",
   "execution_count": 15,
   "metadata": {},
   "outputs": [
    {
     "data": {
      "text/html": [
       "<table border=\"1\" class=\"dataframe\">\n",
       "  <thead>\n",
       "    <tr style=\"text-align: right;\">\n",
       "      <th></th>\n",
       "      <th>items</th>\n",
       "      <th>ordered_statistics</th>\n",
       "      <th>support</th>\n",
       "    </tr>\n",
       "  </thead>\n",
       "  <tbody>\n",
       "    <tr>\n",
       "      <th>0</th>\n",
       "      <td>[chicken, light cream]</td>\n",
       "      <td>[{'items_base': ['light cream'], 'items_add': ['chicken'], 'confidence': 0.29059829059829057, 'lift': 4.84395061728395}]</td>\n",
       "      <td>0.004533</td>\n",
       "    </tr>\n",
       "    <tr>\n",
       "      <th>1</th>\n",
       "      <td>[escalope, pasta]</td>\n",
       "      <td>[{'items_base': ['pasta'], 'items_add': ['escalope'], 'confidence': 0.3728813559322034, 'lift': 4.700811850163794}]</td>\n",
       "      <td>0.005866</td>\n",
       "    </tr>\n",
       "    <tr>\n",
       "      <th>2</th>\n",
       "      <td>[fromage blanc, honey]</td>\n",
       "      <td>[{'items_base': ['fromage blanc'], 'items_add': ['honey'], 'confidence': 0.2450980392156863, 'lift': 5.164270764485569}]</td>\n",
       "      <td>0.003333</td>\n",
       "    </tr>\n",
       "    <tr>\n",
       "      <th>3</th>\n",
       "      <td>[olive oil, whole wheat pasta]</td>\n",
       "      <td>[{'items_base': ['whole wheat pasta'], 'items_add': ['olive oil'], 'confidence': 0.2714932126696833, 'lift': 4.122410097642296}]</td>\n",
       "      <td>0.007999</td>\n",
       "    </tr>\n",
       "    <tr>\n",
       "      <th>4</th>\n",
       "      <td>[pasta, shrimp]</td>\n",
       "      <td>[{'items_base': ['pasta'], 'items_add': ['shrimp'], 'confidence': 0.3220338983050847, 'lift': 4.506672147735896}]</td>\n",
       "      <td>0.005066</td>\n",
       "    </tr>\n",
       "    <tr>\n",
       "      <th>5</th>\n",
       "      <td>[cake, frozen vegetables, tomatoes]</td>\n",
       "      <td>[{'items_base': ['cake', 'frozen vegetables'], 'items_add': ['tomatoes'], 'confidence': 0.2987012987012987, 'lift': 4.367560314928736}]</td>\n",
       "      <td>0.003066</td>\n",
       "    </tr>\n",
       "    <tr>\n",
       "      <th>6</th>\n",
       "      <td>[cereals, ground beef, spaghetti]</td>\n",
       "      <td>[{'items_base': ['cereals', 'spaghetti'], 'items_add': ['ground beef'], 'confidence': 0.45999999999999996, 'lift': 4.681763907734057}]</td>\n",
       "      <td>0.003066</td>\n",
       "    </tr>\n",
       "    <tr>\n",
       "      <th>7</th>\n",
       "      <td>[chocolate, ground beef, herb &amp; pepper]</td>\n",
       "      <td>[{'items_base': ['chocolate', 'herb &amp; pepper'], 'items_add': ['ground beef'], 'confidence': 0.4411764705882354, 'lift': 4.4901827759597746}]</td>\n",
       "      <td>0.003999</td>\n",
       "    </tr>\n",
       "    <tr>\n",
       "      <th>8</th>\n",
       "      <td>[eggs, ground beef, herb &amp; pepper]</td>\n",
       "      <td>[{'items_base': ['eggs', 'ground beef'], 'items_add': ['herb &amp; pepper'], 'confidence': 0.2066666666666667, 'lift': 4.178454627133872}]</td>\n",
       "      <td>0.004133</td>\n",
       "    </tr>\n",
       "    <tr>\n",
       "      <th>9</th>\n",
       "      <td>[french fries, ground beef, herb &amp; pepper]</td>\n",
       "      <td>[{'items_base': ['french fries', 'ground beef'], 'items_add': ['herb &amp; pepper'], 'confidence': 0.23076923076923078, 'lift': 4.665768194070081}, {'items_base': ['french fries', 'herb &amp; pepper'], 'items_add': ['ground beef'], 'confidence': 0.46153846153846156, 'lift': 4.697421981004071}]</td>\n",
       "      <td>0.003200</td>\n",
       "    </tr>\n",
       "    <tr>\n",
       "      <th>10</th>\n",
       "      <td>[ground beef, herb &amp; pepper, spaghetti]</td>\n",
       "      <td>[{'items_base': ['herb &amp; pepper', 'spaghetti'], 'items_add': ['ground beef'], 'confidence': 0.3934426229508197, 'lift': 4.004359721511667}]</td>\n",
       "      <td>0.006399</td>\n",
       "    </tr>\n",
       "    <tr>\n",
       "      <th>11</th>\n",
       "      <td>[ground beef, spaghetti, tomato sauce]</td>\n",
       "      <td>[{'items_base': ['spaghetti', 'tomato sauce'], 'items_add': ['ground beef'], 'confidence': 0.4893617021276596, 'lift': 4.980599901844742}]</td>\n",
       "      <td>0.003066</td>\n",
       "    </tr>\n",
       "    <tr>\n",
       "      <th>12</th>\n",
       "      <td>[milk, olive oil, soup]</td>\n",
       "      <td>[{'items_base': ['milk', 'olive oil'], 'items_add': ['soup'], 'confidence': 0.2109375, 'lift': 4.174781497361478}]</td>\n",
       "      <td>0.003600</td>\n",
       "    </tr>\n",
       "    <tr>\n",
       "      <th>13</th>\n",
       "      <td>[milk, soup, tomatoes]</td>\n",
       "      <td>[{'items_base': ['milk', 'tomatoes'], 'items_add': ['soup'], 'confidence': 0.21904761904761905, 'lift': 4.335293378565146}]</td>\n",
       "      <td>0.003066</td>\n",
       "    </tr>\n",
       "    <tr>\n",
       "      <th>14</th>\n",
       "      <td>[mineral water, olive oil, whole wheat pasta]</td>\n",
       "      <td>[{'items_base': ['mineral water', 'whole wheat pasta'], 'items_add': ['olive oil'], 'confidence': 0.4027777777777778, 'lift': 6.115862573099416}]</td>\n",
       "      <td>0.003866</td>\n",
       "    </tr>\n",
       "    <tr>\n",
       "      <th>15</th>\n",
       "      <td>[chocolate, frozen vegetables, mineral water, shrimp]</td>\n",
       "      <td>[{'items_base': ['chocolate', 'frozen vegetables', 'mineral water'], 'items_add': ['shrimp'], 'confidence': 0.32876712328767127, 'lift': 4.600899611531385}, {'items_base': ['chocolate', 'mineral water', 'shrimp'], 'items_add': ['frozen vegetables'], 'confidence': 0.4210526315789474, 'lift': 4.417224880382776}]</td>\n",
       "      <td>0.003200</td>\n",
       "    </tr>\n",
       "    <tr>\n",
       "      <th>16</th>\n",
       "      <td>[frozen vegetables, milk, mineral water, olive oil]</td>\n",
       "      <td>[{'items_base': ['frozen vegetables', 'milk', 'mineral water'], 'items_add': ['olive oil'], 'confidence': 0.30120481927710846, 'lift': 4.573557387444516}, {'items_base': ['milk', 'mineral water', 'olive oil'], 'items_add': ['frozen vegetables'], 'confidence': 0.39062500000000006, 'lift': 4.098011363636364}]</td>\n",
       "      <td>0.003333</td>\n",
       "    </tr>\n",
       "    <tr>\n",
       "      <th>17</th>\n",
       "      <td>[frozen vegetables, milk, mineral water, soup]</td>\n",
       "      <td>[{'items_base': ['frozen vegetables', 'milk', 'mineral water'], 'items_add': ['soup'], 'confidence': 0.27710843373493976, 'lift': 5.484407286136631}, {'items_base': ['frozen vegetables', 'mineral water', 'soup'], 'items_add': ['milk'], 'confidence': 0.6052631578947368, 'lift': 4.670863114576565}]</td>\n",
       "      <td>0.003066</td>\n",
       "    </tr>\n",
       "    <tr>\n",
       "      <th>18</th>\n",
       "      <td>[frozen vegetables, mineral water, shrimp, spaghetti]</td>\n",
       "      <td>[{'items_base': ['mineral water', 'shrimp', 'spaghetti'], 'items_add': ['frozen vegetables'], 'confidence': 0.39062500000000006, 'lift': 4.098011363636364}]</td>\n",
       "      <td>0.003333</td>\n",
       "    </tr>\n",
       "  </tbody>\n",
       "</table>"
      ],
      "text/plain": [
       "<IPython.core.display.HTML object>"
      ]
     },
     "metadata": {},
     "output_type": "display_data"
    }
   ],
   "source": [
    "# и взгялнем на итоги\n",
    "pd.set_option('display.max_colwidth', -1)\n",
    "\n",
    "from IPython.display import display, HTML\n",
    "\n",
    "display(HTML(data_df.to_html()))"
   ]
  },
  {
   "cell_type": "markdown",
   "metadata": {},
   "source": [
    "Итого мы видим:\n",
    "\n",
    "1. Пары items\n",
    "2. items_base - первый элемент пары\n",
    "3. items_add - второй (добавленный алгоритмом) элемент пары\n",
    "4. confidence - значение confidence для пары\n",
    "5. lift - значение lift для пары\n",
    "6. support - значение support для пары. При желании, по нему можно отсортировать \n",
    "\n",
    "\n",
    "Результаты логичные: эскалоп и макароны, эскалоп и сливочно-грибной соус, курица и нежирная сметана, мягкий сыр и мед и т.д. - все это вполне логичные и, главное, вкусные сочетания:)"
   ]
  },
  {
   "cell_type": "markdown",
   "metadata": {},
   "source": [
    "#### Реализация в R"
   ]
  },
  {
   "cell_type": "markdown",
   "metadata": {
    "collapsed": true
   },
   "source": [
    "ARL тот случай,скогда R-филы могут злорадно похихикать (java-филы вообще смотрят на нас смертных с презрением, но об этом ниже). В R реализована библиотека arules, где присутствует и apriori, и другие алгоритмы. Официальную доку можно посмотреть [тут](https://cran.r-project.org/web/packages/arules/arules.pdf)"
   ]
  },
  {
   "cell_type": "markdown",
   "metadata": {
    "collapsed": true
   },
   "source": [
    "Посмотрим на нее в действии:"
   ]
  },
  {
   "cell_type": "markdown",
   "metadata": {},
   "source": [
    "Для начала установим ее (если еще не установили):\n",
    "<br>\n",
    "install.packages('arules')"
   ]
  },
  {
   "cell_type": "markdown",
   "metadata": {},
   "source": [
    "Считаем данные и преобразуем их в матрицу транзакций:\n",
    "<BR>\n",
    "<br>\n",
    "$library(arules)$\n",
    "<br>\n",
    "$dataset = read.csv('Market_Basket_Optimisation.csv', header = FALSE)$\n",
    "<br>\n",
    "$dataset = read.transactions('Market_Basket_Optimisation.csv', sep = ',', rm.duplicates = TRUE)$"
   ]
  },
  {
   "cell_type": "markdown",
   "metadata": {},
   "source": [
    "Посмотрим на данные:\n",
    "<BR>\n",
    "$summary(dataset)$\n",
    "<br>\n",
    "$itemFrequencyPlot(dataset, topN = 10)$"
   ]
  },
  {
   "cell_type": "markdown",
   "metadata": {},
   "source": [
    "Выучим наши правила:\n",
    "<br>\n",
    "В общем виде фнкция вызова apriori выглядит так:  $apriori(data, parameter = NULL, appearance = NULL, control = NULL)$, где\n",
    "<br>\n",
    "\n",
    "$data$ - наш датасет\n",
    "<br>\n",
    "$paramter$ - список (list) параметров для модели: минимальные support, confidence и lift\n",
    "<br>\n",
    "$appearance$ - отвечает за отображение данных. Может принимать значения lhs, rhs, both, items, none, которые определяют положение items в output\n",
    "<br>\n",
    "$control$ - отвечает за сортировку вывода (ascending, descending, без сортировки), а также за то, отображать ли прогрессбар или нет (параметр verbose)\n",
    "\n"
   ]
  },
  {
   "cell_type": "markdown",
   "metadata": {},
   "source": [
    "Обучим модель:"
   ]
  },
  {
   "cell_type": "markdown",
   "metadata": {},
   "source": [
    "$rules = apriori(data = dataset, parameter = list(support = 0.004, confidence = 0.2))$"
   ]
  },
  {
   "cell_type": "markdown",
   "metadata": {},
   "source": [
    "И посмотрим на результаты:\n",
    "<br>\n",
    "$inspect(sort(rules, by = 'lift')[1:10])$"
   ]
  },
  {
   "cell_type": "markdown",
   "metadata": {},
   "source": [
    "Убедимся, что на выходе имеем примерно те же результаты, что при использовании модуля apyori в Python:\n",
    "<br>\n",
    "\n",
    "1. {light cream}                               => {chicken}       0.004532729\n",
    "2. {pasta}                                     => {escalope}      0.005865885\n",
    "3. {pasta}                                     => {shrimp}        0.005065991\n",
    "4. {eggs,ground beef}                          => {herb & pepper} 0.004132782\n",
    "5. {whole wheat pasta}                         => {olive oil}     0.007998933\n",
    "6. {herb & pepper,spaghetti}                   => {ground beef}   0.006399147\n",
    "7. {herb & pepper,mineral water}               => {ground beef}   0.006665778\n",
    "8. {tomato sauce}                              => {ground beef}   0.005332622\n",
    "9. {mushroom cream sauce}                      => {escalope}      0.005732569\n",
    "10. {frozen vegetables,mineral water,spaghetti} => {ground beef}   0.004399413"
   ]
  },
  {
   "cell_type": "markdown",
   "metadata": {},
   "source": [
    "Как видно, в R apriori использовать на данный момент намного удобнее, чем в Python."
   ]
  },
  {
   "cell_type": "markdown",
   "metadata": {},
   "source": [
    "### ECLAT Algorithm"
   ]
  },
  {
   "cell_type": "markdown",
   "metadata": {},
   "source": [
    "#### Теория"
   ]
  },
  {
   "cell_type": "markdown",
   "metadata": {
    "collapsed": true
   },
   "source": [
    "Идея алгоритма ECLAT (Equivalence CLAss Transformation) заключается в ускорении подсчета $supp(X)$. Для этого нам необходимо проиндексировать нашу базу данных $D$ так, чтобы это позволило быстро рассчитывать $supp(X)$"
   ]
  },
  {
   "cell_type": "markdown",
   "metadata": {},
   "source": [
    "Легко заметить, что если $t(X)$ обозначает множество всех транзакций, где встречается подмножество $X$, то\n",
    "<br>$t(XY) = t(X) \\cap t(Y)$</br>\n",
    "<br>и</br>\n",
    "<br>$supp(XY) = |t(XY)|$</br>\n",
    "<br> то есть $supp(XY)$ равен кардинальности (размеру) множества $t(XY)$"
   ]
  },
  {
   "cell_type": "markdown",
   "metadata": {},
   "source": [
    "<img src=\"img/Pruning.PNG\">"
   ]
  },
  {
   "cell_type": "markdown",
   "metadata": {},
   "source": [
    "Данный подход может быть значительно усовершенствован путем уменьшения размера промежуточных множеств идентификаторов транзакций (tidsets). А именно, мы можем хранить не все множество транзакций на промежуточном уровне, а только множество различий этих транзакций. Предположим, что\n",
    "<br>$X_a = \\{x_1, x_2,..., x_{n-1}, a\\}$</br>\n",
    "<br>$X_b = \\{x_1, x_2,..., x_{n-1}, b\\}$</br>\n",
    "<br>Тогда, мы получим: </br>\n",
    "<br>$X_{ab} = \\{x_1, x_2,..., x_{n-1}, a, b\\}$</br>\n",
    "<br>$diffset(X_{ab})$ это множество всех id транзакций, которые содержат префикс $X_a$ но не содержат элемент $b$: </br>\n",
    "<br>$d(X_{ab}) =t(X_a)/t(X_{ab})=t(X_a)/t(X_{b})$</br>"
   ]
  },
  {
   "cell_type": "markdown",
   "metadata": {
    "collapsed": true
   },
   "source": [
    "<img src=\"img/Diffsets.PNG\">"
   ]
  },
  {
   "cell_type": "markdown",
   "metadata": {},
   "source": [
    "В отличие от Apriori-алгоритма, ECLAT производит поиск в глубину (DFS, [подробнее тут](https://ru.wikipedia.org/wiki/%D0%9F%D0%BE%D0%B8%D1%81%D0%BA_%D0%B2_%D0%B3%D0%BB%D1%83%D0%B1%D0%B8%D0%BD%D1%83)). Иногда его называют \"вертикальным\" (в отличие от \"горизонтального\" для Apriori)"
   ]
  },
  {
   "cell_type": "markdown",
   "metadata": {},
   "source": [
    "**ВХОД**: Датасет $D$, содержащий список транзакций, $\\sigma$ - задаваемый пользователем порог $supp$ и новый элемент префикс $I \\subseteq J$"
   ]
  },
  {
   "cell_type": "markdown",
   "metadata": {},
   "source": [
    "**ВЫХОД**: Список itemsets $F[I](D, \\sigma)$ для соответсвующего префикса $I$"
   ]
  },
  {
   "cell_type": "markdown",
   "metadata": {},
   "source": [
    "**ПОДХОД:**"
   ]
  },
  {
   "cell_type": "markdown",
   "metadata": {},
   "source": [
    "1. $F[i] \\leftarrow$ {}\n",
    "<br>\n",
    "2. **for** all $i \\in J$ in $D$ **do**:\n",
    "<br>\n",
    "$F[I] := F[I] \\cup$ {I $\\cup$ {i}} \n",
    "<br>\n",
    "3. #Создаем $D_i$\n",
    "<br>\n",
    "$D_i \\leftarrow$ {}\n",
    "<br>\n",
    "**for** all $j \\in J$ in $D$ таких, что $j > i$ **do:**\n",
    "<br>\n",
    "$C \\leftarrow$ покрывает ({$i$} $\\cap$ покрывает {$j$})\n",
    "<br>\n",
    "**if** $|C| \\geq \\sigma$ **then**\n",
    "<br>\n",
    "$D_i \\leftarrow D_i \\cup$ {$C$,$i$}\n",
    "<br>\n",
    "4. #DFS - рекурсия:\n",
    "<br>\n",
    "Считаем $F|I \\cup$ {$i$}| $(D_i, \\sigma)$\n",
    "<br>\n",
    "$F[I]: F[I] \\cup F[I \\cup i]$\n"
   ]
  },
  {
   "cell_type": "markdown",
   "metadata": {},
   "source": [
    "Ключевым понятием для ECLAT-алгоритма является I-префикс. В началае генерируется пустое множество I, это позволяет нам на первом проходе выделить все частотные itemsets. Затем алгоритм будет вызывать сам себя и увеличивать I на 1 на каждом шаге до тех пор, пока не будет достигнута заданная пользователем длина I. "
   ]
  },
  {
   "cell_type": "markdown",
   "metadata": {},
   "source": [
    "Для хранения значений используется префиксное дерево (trie (не tree:)), [тут подробнее](https://ru.wikipedia.org/wiki/%D0%9F%D1%80%D0%B5%D1%84%D0%B8%D0%BA%D1%81%D0%BD%D0%BE%D0%B5_%D0%B4%D0%B5%D1%80%D0%B5%D0%B2%D0%BE)). Вначале строится нулевой корень дерева (то самое пустое множество I), затем по мере прохода по itemsets алгоритм прописывает содержащиеся в каждом itesmsets items, при этом самая левая ветвь является child нулевого корня и далее вниз. При этом ветвей столько, сколкьо items встречаестя в itemsets. Такой подход позволяет записывать itemset в памяти только один раз, что делает ECALT быстрее Apriori. "
   ]
  },
  {
   "cell_type": "markdown",
   "metadata": {},
   "source": [
    "#### Реализация в Python"
   ]
  },
  {
   "cell_type": "markdown",
   "metadata": {},
   "source": [
    "Существует несколько реализаций данного алгоритма в Python, желающие могут погуглить и даже попытаться их заставить работать, но мы же напишем свой, максимально простой и, главное, рабочий:)"
   ]
  },
  {
   "cell_type": "code",
   "execution_count": 52,
   "metadata": {
    "collapsed": true
   },
   "outputs": [],
   "source": [
    "import numpy as np\n",
    "\"\"\"\n",
    "Класс инициируется 3мя параметрами:\n",
    "- min_supp - минимальный support  который мы рассматриваем для ItemSet. Рассчитывается как % от количества транзакций\n",
    "- max_items - максимальное количество елементов в нашем ItemSet\n",
    "- min_items - минимальное количество элементов ItemSet\n",
    "\"\"\"\n",
    "class Eclat:\n",
    "    #инициализация объекта класса\n",
    "    def __init__(self, min_support = 0.01, max_items = 5, min_items = 2):\n",
    "        self.min_support = min_support\n",
    "        self.max_items = max_items\n",
    "        self.min_items = min_items\n",
    "        self.item_lst = list()\n",
    "        self.item_len = 0\n",
    "        self.item_dict = dict()\n",
    "        self.final_dict = dict()\n",
    "        self.data_size = 0\n",
    "    \n",
    "    #создание словаря из ненулевых объектов из всех транзакций (вертикальный датасет)\n",
    "    def read_data(self, dataset):\n",
    "        for index, row in dataset.iterrows():\n",
    "            row_wo_na = set(row[0])\n",
    "            for item in row_wo_na:\n",
    "                item = item.strip()\n",
    "                if item in self.item_dict:\n",
    "                    self.item_dict[item][0] += 1\n",
    "                else:\n",
    "                    self.item_dict.setdefault(item, []).append(1)\n",
    "                self.item_dict[item].append(index)\n",
    "        #задаем переменные экземпляра (instance variables)\n",
    "        self.data_size = dataset.shape[0]\n",
    "        self.item_lst = list(self.item_dict.keys())\n",
    "        self.item_len = len(self.item_lst)\n",
    "        self.min_support = self.min_support * self.data_size\n",
    "        #print (\"min_supp\", self.min_support)\n",
    "        \n",
    "    #рекурсивный метод для поиска всех ItemSet по алгоритму Eclat\n",
    "    #структура данных: {Item: [Supp number, tid1, tid2, tid3, ...]}\n",
    "    def recur_eclat(self, item_name, tids_array, minsupp, num_items, k_start):\n",
    "        if tids_array[0] >= minsupp and num_items <= self.max_items:\n",
    "            for k in range(k_start+1, self.item_len):\n",
    "                if self.item_dict[self.item_lst[k]][0] >= minsupp:\n",
    "                    new_item = item_name + \" | \" + self.item_lst[k]\n",
    "                    new_tids = np.intersect1d(tids_array[1:], self.item_dict[self.item_lst[k]][1:])\n",
    "                    new_tids_size = new_tids.size\n",
    "                    new_tids = np.insert(new_tids, 0, new_tids_size)\n",
    "                    if new_tids_size >= minsupp:\n",
    "                        if num_items >= self.min_items: self.final_dict.update({new_item: new_tids})\n",
    "                        self.recur_eclat(new_item, new_tids, minsupp, num_items+1, k)\n",
    "    \n",
    "    #последовательный вызов функций определенных выше\n",
    "    def fit(self, dataset):\n",
    "        i = 0\n",
    "        self.read_data(dataset)\n",
    "        for w in self.item_lst:\n",
    "            self.recur_eclat(w, self.item_dict[w], self.min_support, 2, i)\n",
    "            i+=1\n",
    "        return self\n",
    "        \n",
    "    #вывод в форме словаря {ItemSet: support(ItemSet)}\n",
    "    def transform(self):\n",
    "        return {k: \"{0:.4f}%\".format((v[0]+0.0)/self.data_size*100) for k, v in self.final_dict.items()}"
   ]
  },
  {
   "cell_type": "markdown",
   "metadata": {
    "collapsed": true
   },
   "source": [
    "Потестируем"
   ]
  },
  {
   "cell_type": "code",
   "execution_count": 53,
   "metadata": {
    "collapsed": true
   },
   "outputs": [],
   "source": [
    "#создадим экземпляр класса с нужными нам параметрами\n",
    "model = Eclat(min_support = 0.01, max_items = 4, min_items = 3)"
   ]
  },
  {
   "cell_type": "code",
   "execution_count": 54,
   "metadata": {},
   "outputs": [
    {
     "data": {
      "text/plain": [
       "<__main__.Eclat at 0x224ff5bd240>"
      ]
     },
     "execution_count": 54,
     "metadata": {},
     "output_type": "execute_result"
    }
   ],
   "source": [
    "#обучим\n",
    "model.fit(dataset)"
   ]
  },
  {
   "cell_type": "code",
   "execution_count": 55,
   "metadata": {},
   "outputs": [
    {
     "data": {
      "text/plain": [
       "{'eggs | spaghetti | chocolate': '1.0532%',\n",
       " 'milk | spaghetti | chocolate': '1.0932%',\n",
       " 'mineral water | chocolate | ground beef': '1.0932%',\n",
       " 'mineral water | eggs | chocolate': '1.3465%',\n",
       " 'mineral water | eggs | ground beef': '1.0132%',\n",
       " 'mineral water | eggs | milk': '1.3065%',\n",
       " 'mineral water | eggs | spaghetti': '1.4265%',\n",
       " 'mineral water | french fries | spaghetti': '1.0132%',\n",
       " 'mineral water | frozen vegetables | spaghetti': '1.1998%',\n",
       " 'mineral water | milk | chocolate': '1.3998%',\n",
       " 'mineral water | milk | frozen vegetables': '1.1065%',\n",
       " 'mineral water | milk | ground beef': '1.1065%',\n",
       " 'mineral water | milk | spaghetti': '1.5731%',\n",
       " 'mineral water | olive oil | spaghetti': '1.0265%',\n",
       " 'mineral water | spaghetti | chocolate': '1.5865%',\n",
       " 'mineral water | spaghetti | ground beef': '1.7064%',\n",
       " 'mineral water | spaghetti | pancakes': '1.1465%'}"
      ]
     },
     "execution_count": 55,
     "metadata": {},
     "output_type": "execute_result"
    }
   ],
   "source": [
    "#и визуализируем результаты\n",
    "model.transform()"
   ]
  },
  {
   "cell_type": "markdown",
   "metadata": {},
   "source": [
    "## Meanwhile in real-life..."
   ]
  },
  {
   "cell_type": "markdown",
   "metadata": {},
   "source": [
    "Итак, алгоритм работает. Но так ли он применим в реальной жизни? Давайте проверим.\n",
    "\n",
    "Есть реальная бизнес задача , которая поступила нам от крупного продуктового ритейлера премиум-сегмента (раскрывать название не будем, корпоративная тайна-с): посмотреть те самые наиболее частые наборы в продуктовых корзинах."
   ]
  },
  {
   "cell_type": "markdown",
   "metadata": {},
   "source": [
    "Загрузим данные из выгрузки из POS-ситемы (Point-of-Sale - система, обрабатывающая транзакции на кассах)"
   ]
  },
  {
   "cell_type": "markdown",
   "metadata": {},
   "source": [
    "**Загрузим данные**"
   ]
  },
  {
   "cell_type": "code",
   "execution_count": 2,
   "metadata": {
    "scrolled": true
   },
   "outputs": [
    {
     "name": "stdout",
     "output_type": "stream",
     "text": [
      "(851083, 2)\n"
     ]
    },
    {
     "name": "stderr",
     "output_type": "stream",
     "text": [
      "/home/bashnick/anaconda3/lib/python3.6/site-packages/IPython/core/interactiveshell.py:2728: DtypeWarning: Columns (0) have mixed types. Specify dtype option on import or set low_memory=False.\n",
      "  interactivity=interactivity, compiler=compiler, result=result)\n"
     ]
    },
    {
     "data": {
      "text/html": [
       "<div>\n",
       "<style scoped>\n",
       "    .dataframe tbody tr th:only-of-type {\n",
       "        vertical-align: middle;\n",
       "    }\n",
       "\n",
       "    .dataframe tbody tr th {\n",
       "        vertical-align: top;\n",
       "    }\n",
       "\n",
       "    .dataframe thead th {\n",
       "        text-align: right;\n",
       "    }\n",
       "</style>\n",
       "<table border=\"1\" class=\"dataframe\">\n",
       "  <thead>\n",
       "    <tr style=\"text-align: right;\">\n",
       "      <th></th>\n",
       "      <th>trans</th>\n",
       "      <th>item</th>\n",
       "    </tr>\n",
       "  </thead>\n",
       "  <tbody>\n",
       "    <tr>\n",
       "      <th>0</th>\n",
       "      <td>284340645</td>\n",
       "      <td>ТОВ255868</td>\n",
       "    </tr>\n",
       "    <tr>\n",
       "      <th>1</th>\n",
       "      <td>284340942</td>\n",
       "      <td>ТОВ219972</td>\n",
       "    </tr>\n",
       "    <tr>\n",
       "      <th>2</th>\n",
       "      <td>284340942</td>\n",
       "      <td>ТОВ256924</td>\n",
       "    </tr>\n",
       "    <tr>\n",
       "      <th>3</th>\n",
       "      <td>284342046</td>\n",
       "      <td>ТОВ251559</td>\n",
       "    </tr>\n",
       "    <tr>\n",
       "      <th>4</th>\n",
       "      <td>284343063</td>\n",
       "      <td>ТОВ225352</td>\n",
       "    </tr>\n",
       "  </tbody>\n",
       "</table>\n",
       "</div>"
      ],
      "text/plain": [
       "       trans       item\n",
       "0  284340645  ТОВ255868\n",
       "1  284340942  ТОВ219972\n",
       "2  284340942  ТОВ256924\n",
       "3  284342046  ТОВ251559\n",
       "4  284343063  ТОВ225352"
      ]
     },
     "execution_count": 2,
     "metadata": {},
     "output_type": "execute_result"
    }
   ],
   "source": [
    "df = pd.read_csv('data/tranprod1.csv', delimiter = ';', header = 0)\n",
    "df.columns = ['trans', 'item']\n",
    "print(df.shape)\n",
    "df.head()"
   ]
  },
  {
   "cell_type": "markdown",
   "metadata": {},
   "source": [
    "**Поменяем формат таблицы на \"транзакция | список\" всех item в транзакции**"
   ]
  },
  {
   "cell_type": "code",
   "execution_count": 3,
   "metadata": {
    "collapsed": true,
    "scrolled": false
   },
   "outputs": [],
   "source": [
    "df.trans = pd.to_numeric(df.trans, errors='coerce')\n",
    "df.dropna(axis = 0, how = 'all', inplace = True)\n",
    "df.trans = df.trans.astype(int)"
   ]
  },
  {
   "cell_type": "code",
   "execution_count": 4,
   "metadata": {
    "collapsed": true
   },
   "outputs": [],
   "source": [
    "df = df.groupby('trans').agg(lambda x: x.tolist())"
   ]
  },
  {
   "cell_type": "code",
   "execution_count": 5,
   "metadata": {},
   "outputs": [
    {
     "data": {
      "text/html": [
       "<div>\n",
       "<style scoped>\n",
       "    .dataframe tbody tr th:only-of-type {\n",
       "        vertical-align: middle;\n",
       "    }\n",
       "\n",
       "    .dataframe tbody tr th {\n",
       "        vertical-align: top;\n",
       "    }\n",
       "\n",
       "    .dataframe thead th {\n",
       "        text-align: right;\n",
       "    }\n",
       "</style>\n",
       "<table border=\"1\" class=\"dataframe\">\n",
       "  <thead>\n",
       "    <tr style=\"text-align: right;\">\n",
       "      <th></th>\n",
       "      <th>item</th>\n",
       "    </tr>\n",
       "    <tr>\n",
       "      <th>trans</th>\n",
       "      <th></th>\n",
       "    </tr>\n",
       "  </thead>\n",
       "  <tbody>\n",
       "    <tr>\n",
       "      <th>284339008</th>\n",
       "      <td>[ТОВ276911, ТОВ088835, ТОВ042562, ТОВ109423, Т...</td>\n",
       "    </tr>\n",
       "    <tr>\n",
       "      <th>284339009</th>\n",
       "      <td>[ТОВ004568, ТОВ141629, ТОВ164029, ТОВ218562, Т...</td>\n",
       "    </tr>\n",
       "    <tr>\n",
       "      <th>284339010</th>\n",
       "      <td>[ТОВ246052, ТОВ231590, ТОВ242527, ТОВ234309]</td>\n",
       "    </tr>\n",
       "    <tr>\n",
       "      <th>284339011</th>\n",
       "      <td>[ТОВ206914, ТОВ153118, ТОВ208685, ТОВ042960, Т...</td>\n",
       "    </tr>\n",
       "    <tr>\n",
       "      <th>284339012</th>\n",
       "      <td>[ТОВ231586]</td>\n",
       "    </tr>\n",
       "  </tbody>\n",
       "</table>\n",
       "</div>"
      ],
      "text/plain": [
       "                                                        item\n",
       "trans                                                       \n",
       "284339008  [ТОВ276911, ТОВ088835, ТОВ042562, ТОВ109423, Т...\n",
       "284339009  [ТОВ004568, ТОВ141629, ТОВ164029, ТОВ218562, Т...\n",
       "284339010       [ТОВ246052, ТОВ231590, ТОВ242527, ТОВ234309]\n",
       "284339011  [ТОВ206914, ТОВ153118, ТОВ208685, ТОВ042960, Т...\n",
       "284339012                                        [ТОВ231586]"
      ]
     },
     "execution_count": 5,
     "metadata": {},
     "output_type": "execute_result"
    }
   ],
   "source": [
    "df.head()"
   ]
  },
  {
   "cell_type": "markdown",
   "metadata": {},
   "source": [
    "**Запустим алгоитм**"
   ]
  },
  {
   "cell_type": "code",
   "execution_count": 10,
   "metadata": {
    "collapsed": true
   },
   "outputs": [],
   "source": [
    "model = Eclat(min_support = 0.0001, max_items = 4, min_items = 3)"
   ]
  },
  {
   "cell_type": "code",
   "execution_count": 11,
   "metadata": {
    "scrolled": true
   },
   "outputs": [
    {
     "name": "stdout",
     "output_type": "stream",
     "text": [
      "Data read successfully\n",
      "min_supp 9.755\n",
      "CPU times: user 6h 47min 9s, sys: 22.2 s, total: 6h 47min 31s\n",
      "Wall time: 6h 47min 28s\n"
     ]
    },
    {
     "data": {
      "text/plain": [
       "<my_eclat.Eclat at 0x7f19829d6fd0>"
      ]
     },
     "execution_count": 11,
     "metadata": {},
     "output_type": "execute_result"
    }
   ],
   "source": [
    "%%time\n",
    "model.fit(df)"
   ]
  },
  {
   "cell_type": "code",
   "execution_count": 12,
   "metadata": {
    "collapsed": true
   },
   "outputs": [],
   "source": [
    "d = model.transform()"
   ]
  },
  {
   "cell_type": "code",
   "execution_count": 13,
   "metadata": {
    "scrolled": true
   },
   "outputs": [
    {
     "data": {
      "text/plain": [
       "{'ТОВ009894 | ТОВ231586 | ТОВ184253': '0.0154%',\n",
       " 'ТОВ009894 | ТОВ231586 | ТОВ232715': '0.0154%',\n",
       " 'ТОВ009894 | ТОВ215649 | ТОВ232715': '0.0113%',\n",
       " 'ТОВ009894 | ТОВ224330 | ТОВ170478': '0.0154%',\n",
       " 'ТОВ009894 | ТОВ184253 | ТОВ139528': '0.0246%',\n",
       " 'ТОВ009894 | ТОВ184253 | ТОВ262977': '0.0103%',\n",
       " 'ТОВ009894 | ТОВ184253 | ТОВ232715': '0.0246%',\n",
       " 'ТОВ009894 | ТОВ184253 | ТОВ227714': '0.0123%',\n",
       " 'ТОВ009894 | ТОВ184253 | ТОВ170478': '0.0113%',\n",
       " 'ТОВ009894 | ТОВ184253 | ТОВ155841': '0.0113%',\n",
       " 'ТОВ009894 | ТОВ184253 | ТОВ255036': '0.0123%',\n",
       " 'ТОВ009894 | ТОВ184253 | ТОВ043107': '0.0123%',\n",
       " 'ТОВ009894 | ТОВ184253 | ТОВ052777': '0.0113%',\n",
       " 'ТОВ009894 | ТОВ184253 | ТОВ097249': '0.0133%',\n",
       " 'ТОВ009894 | ТОВ184253 | ТОВ032043': '0.0113%',\n",
       " 'ТОВ009894 | ТОВ139528 | ТОВ255036': '0.0123%',\n",
       " 'ТОВ009894 | ТОВ139528 | ТОВ032043': '0.0103%',\n",
       " 'ТОВ009894 | ТОВ142564 | ТОВ178947': '0.0113%',\n",
       " 'ТОВ009894 | ТОВ142564 | ТОВ178947 | ТОВ162300': '0.0103%',\n",
       " 'ТОВ009894 | ТОВ142564 | ТОВ162300': '0.0103%',\n",
       " 'ТОВ009894 | ТОВ232715 | ТОВ170478': '0.0174%',\n",
       " 'ТОВ009894 | ТОВ232715 | ТОВ097249': '0.0144%',\n",
       " 'ТОВ009894 | ТОВ227714 | ТОВ227717': '0.0133%',\n",
       " 'ТОВ009894 | ТОВ178947 | ТОВ162300': '0.0103%',\n",
       " 'ТОВ231432 | ТОВ228114 | ТОВ166306': '0.0133%',\n",
       " 'ТОВ231432 | ТОВ228114 | ТОВ184253': '0.0215%',\n",
       " 'ТОВ231432 | ТОВ228114 | ТОВ139528': '0.0113%',\n",
       " 'ТОВ231432 | ТОВ228114 | ТОВ262977': '0.0144%',\n",
       " 'ТОВ231432 | ТОВ228114 | ТОВ235739': '0.0103%',\n",
       " 'ТОВ231432 | ТОВ228114 | ТОВ227715': '0.0185%',\n",
       " 'ТОВ231432 | ТОВ228114 | ТОВ230700': '0.0113%',\n",
       " 'ТОВ231432 | ТОВ228114 | ТОВ043107': '0.0103%',\n",
       " 'ТОВ231432 | ТОВ228114 | ТОВ097249': '0.0123%',\n",
       " 'ТОВ231432 | ТОВ279361 | ТОВ184253': '0.0103%',\n",
       " 'ТОВ231432 | ТОВ279361 | ТОВ232715': '0.0113%',\n",
       " 'ТОВ231432 | ТОВ279361 | ТОВ255036': '0.0103%',\n",
       " 'ТОВ231432 | ТОВ033048 | ТОВ184253': '0.0113%',\n",
       " 'ТОВ231432 | ТОВ033048 | ТОВ227714': '0.0123%',\n",
       " 'ТОВ231432 | ТОВ033048 | ТОВ227717': '0.0133%',\n",
       " 'ТОВ231432 | ТОВ166306 | ТОВ139528': '0.0195%',\n",
       " 'ТОВ231432 | ТОВ166306 | ТОВ053041': '0.0103%',\n",
       " 'ТОВ231432 | ТОВ166306 | ТОВ227714': '0.0133%',\n",
       " 'ТОВ231432 | ТОВ166306 | ТОВ227715': '0.0113%',\n",
       " 'ТОВ231432 | ТОВ166306 | ТОВ155841': '0.0103%',\n",
       " 'ТОВ231432 | ТОВ166306 | ТОВ227717': '0.0144%',\n",
       " 'ТОВ231432 | ТОВ224035 | ТОВ184253': '0.0113%',\n",
       " 'ТОВ231432 | ТОВ184253 | ТОВ263281': '0.0113%',\n",
       " 'ТОВ231432 | ТОВ184253 | ТОВ139528': '0.0195%',\n",
       " 'ТОВ231432 | ТОВ184253 | ТОВ262977': '0.0164%',\n",
       " 'ТОВ231432 | ТОВ184253 | ТОВ232715': '0.0123%',\n",
       " 'ТОВ231432 | ТОВ184253 | ТОВ042704': '0.0113%',\n",
       " 'ТОВ231432 | ТОВ184253 | ТОВ283493': '0.0103%',\n",
       " 'ТОВ231432 | ТОВ184253 | ТОВ042547': '0.0144%',\n",
       " 'ТОВ231432 | ТОВ184253 | ТОВ227714': '0.0236%',\n",
       " 'ТОВ231432 | ТОВ184253 | ТОВ227715': '0.0185%',\n",
       " 'ТОВ231432 | ТОВ184253 | ТОВ155841': '0.0123%',\n",
       " 'ТОВ231432 | ТОВ184253 | ТОВ255036': '0.0174%',\n",
       " 'ТОВ231432 | ТОВ184253 | ТОВ227717': '0.0195%',\n",
       " 'ТОВ231432 | ТОВ184253 | ТОВ227716': '0.0103%',\n",
       " 'ТОВ231432 | ТОВ184253 | ТОВ043107': '0.0113%',\n",
       " 'ТОВ231432 | ТОВ184253 | ТОВ237675': '0.0103%',\n",
       " 'ТОВ231432 | ТОВ184253 | ТОВ097249': '0.0113%',\n",
       " 'ТОВ231432 | ТОВ184253 | ТОВ032043': '0.0164%',\n",
       " 'ТОВ231432 | ТОВ139528 | ТОВ042547': '0.0103%',\n",
       " 'ТОВ231432 | ТОВ139528 | ТОВ227714': '0.0174%',\n",
       " 'ТОВ231432 | ТОВ139528 | ТОВ099797': '0.0113%',\n",
       " 'ТОВ231432 | ТОВ139528 | ТОВ227715': '0.0103%',\n",
       " 'ТОВ231432 | ТОВ139528 | ТОВ227717': '0.0144%',\n",
       " 'ТОВ231432 | ТОВ139528 | ТОВ237675': '0.0113%',\n",
       " 'ТОВ231432 | ТОВ139528 | ТОВ032043': '0.0123%',\n",
       " 'ТОВ231432 | ТОВ262977 | ТОВ227717': '0.0144%',\n",
       " 'ТОВ231432 | ТОВ262977 | ТОВ043107': '0.0123%',\n",
       " 'ТОВ231432 | ТОВ262977 | ТОВ237675': '0.0103%',\n",
       " 'ТОВ231432 | ТОВ262977 | ТОВ032043': '0.0103%',\n",
       " 'ТОВ231432 | ТОВ232715 | ТОВ227714': '0.0103%',\n",
       " 'ТОВ231432 | ТОВ232715 | ТОВ255036': '0.0113%',\n",
       " 'ТОВ231432 | ТОВ232715 | ТОВ043107': '0.0103%',\n",
       " 'ТОВ231432 | ТОВ193716 | ТОВ230700': '0.0133%',\n",
       " 'ТОВ231432 | ТОВ193716 | ТОВ227717': '0.0103%',\n",
       " 'ТОВ231432 | ТОВ193716 | ТОВ053049': '0.0103%',\n",
       " 'ТОВ231432 | ТОВ053041 | ТОВ227714': '0.0113%',\n",
       " 'ТОВ231432 | ТОВ042704 | ТОВ227714': '0.0103%',\n",
       " 'ТОВ231432 | ТОВ042547 | ТОВ227714': '0.0164%',\n",
       " 'ТОВ231432 | ТОВ042547 | ТОВ255036': '0.0113%',\n",
       " 'ТОВ231432 | ТОВ042547 | ТОВ227717': '0.0154%',\n",
       " 'ТОВ231432 | ТОВ235739 | ТОВ227714': '0.0144%',\n",
       " 'ТОВ231432 | ТОВ235739 | ТОВ227715': '0.0123%',\n",
       " 'ТОВ231432 | ТОВ235739 | ТОВ227717': '0.0113%',\n",
       " 'ТОВ231432 | ТОВ227714 | ТОВ227715': '0.0215%',\n",
       " 'ТОВ231432 | ТОВ227714 | ТОВ230700': '0.0103%',\n",
       " 'ТОВ231432 | ТОВ227714 | ТОВ255036': '0.0144%',\n",
       " 'ТОВ231432 | ТОВ227714 | ТОВ227717': '0.0297%',\n",
       " 'ТОВ231432 | ТОВ227714 | ТОВ227716': '0.0256%',\n",
       " 'ТОВ231432 | ТОВ227714 | ТОВ237675': '0.0154%',\n",
       " 'ТОВ231432 | ТОВ227715 | ТОВ227717': '0.0123%',\n",
       " 'ТОВ231432 | ТОВ227715 | ТОВ227716': '0.0113%',\n",
       " 'ТОВ231432 | ТОВ283303 | ТОВ227717': '0.0113%',\n",
       " 'ТОВ231432 | ТОВ255036 | ТОВ227717': '0.0103%',\n",
       " 'ТОВ231432 | ТОВ255036 | ТОВ043107': '0.0113%',\n",
       " 'ТОВ231432 | ТОВ227717 | ТОВ227716': '0.0144%',\n",
       " 'ТОВ231432 | ТОВ227717 | ТОВ043107': '0.0103%',\n",
       " 'ТОВ231432 | ТОВ227717 | ТОВ237675': '0.0174%',\n",
       " 'ТОВ231432 | ТОВ227716 | ТОВ237675': '0.0133%',\n",
       " 'ТОВ231432 | ТОВ237675 | ТОВ231440': '0.0113%',\n",
       " 'ТОВ228114 | ТОВ279361 | ТОВ231586': '0.0195%',\n",
       " 'ТОВ228114 | ТОВ279361 | ТОВ231586 | ТОВ184253': '0.0103%',\n",
       " 'ТОВ228114 | ТОВ279361 | ТОВ231590': '0.0103%',\n",
       " 'ТОВ228114 | ТОВ279361 | ТОВ106930': '0.0103%',\n",
       " 'ТОВ228114 | ТОВ279361 | ТОВ259350': '0.0123%',\n",
       " 'ТОВ228114 | ТОВ279361 | ТОВ166306': '0.0113%',\n",
       " 'ТОВ228114 | ТОВ279361 | ТОВ184253': '0.0543%',\n",
       " 'ТОВ228114 | ТОВ279361 | ТОВ184253 | ТОВ139528': '0.0185%',\n",
       " 'ТОВ228114 | ТОВ279361 | ТОВ184253 | ТОВ262977': '0.0103%',\n",
       " 'ТОВ228114 | ТОВ279361 | ТОВ184253 | ТОВ232715': '0.0164%',\n",
       " 'ТОВ228114 | ТОВ279361 | ТОВ184253 | ТОВ042547': '0.0123%',\n",
       " 'ТОВ228114 | ТОВ279361 | ТОВ184253 | ТОВ227715': '0.0103%',\n",
       " 'ТОВ228114 | ТОВ279361 | ТОВ184253 | ТОВ255036': '0.0103%',\n",
       " 'ТОВ228114 | ТОВ279361 | ТОВ184253 | ТОВ032043': '0.0103%',\n",
       " 'ТОВ228114 | ТОВ279361 | ТОВ139528': '0.0236%',\n",
       " 'ТОВ228114 | ТОВ279361 | ТОВ232298': '0.0103%',\n",
       " 'ТОВ228114 | ТОВ279361 | ТОВ262977': '0.0174%',\n",
       " 'ТОВ228114 | ТОВ279361 | ТОВ232715': '0.0267%',\n",
       " 'ТОВ228114 | ТОВ279361 | ТОВ042704': '0.0144%',\n",
       " 'ТОВ228114 | ТОВ279361 | ТОВ042547': '0.0185%',\n",
       " 'ТОВ228114 | ТОВ279361 | ТОВ235739': '0.0205%',\n",
       " 'ТОВ228114 | ТОВ279361 | ТОВ099797': '0.0123%',\n",
       " 'ТОВ228114 | ТОВ279361 | ТОВ170478': '0.0103%',\n",
       " 'ТОВ228114 | ТОВ279361 | ТОВ227715': '0.0205%',\n",
       " 'ТОВ228114 | ТОВ279361 | ТОВ230700': '0.0103%',\n",
       " 'ТОВ228114 | ТОВ279361 | ТОВ155841': '0.0123%',\n",
       " 'ТОВ228114 | ТОВ279361 | ТОВ255036': '0.0185%',\n",
       " 'ТОВ228114 | ТОВ279361 | ТОВ227717': '0.0185%',\n",
       " 'ТОВ228114 | ТОВ279361 | ТОВ043107': '0.0133%',\n",
       " 'ТОВ228114 | ТОВ279361 | ТОВ247989': '0.0113%',\n",
       " 'ТОВ228114 | ТОВ279361 | ТОВ037482': '0.0103%',\n",
       " 'ТОВ228114 | ТОВ279361 | ТОВ052777': '0.0103%',\n",
       " 'ТОВ228114 | ТОВ279361 | ТОВ032043': '0.0174%',\n",
       " 'ТОВ228114 | ТОВ231586 | ТОВ109423': '0.0144%',\n",
       " 'ТОВ228114 | ТОВ231586 | ТОВ206304': '0.0123%',\n",
       " 'ТОВ228114 | ТОВ231586 | ТОВ231590': '0.0267%',\n",
       " 'ТОВ228114 | ТОВ231586 | ТОВ231590 | ТОВ232715': '0.0103%',\n",
       " 'ТОВ228114 | ТОВ231586 | ТОВ231590 | ТОВ255036': '0.0103%',\n",
       " 'ТОВ228114 | ТОВ231586 | ТОВ106930': '0.0133%',\n",
       " 'ТОВ228114 | ТОВ231586 | ТОВ259350': '0.0123%',\n",
       " 'ТОВ228114 | ТОВ231586 | ТОВ166306': '0.0144%',\n",
       " 'ТОВ228114 | ТОВ231586 | ТОВ224035': '0.0144%',\n",
       " 'ТОВ228114 | ТОВ231586 | ТОВ184253': '0.0543%',\n",
       " 'ТОВ228114 | ТОВ231586 | ТОВ184253 | ТОВ139528': '0.0195%',\n",
       " 'ТОВ228114 | ТОВ231586 | ТОВ184253 | ТОВ262977': '0.0103%',\n",
       " 'ТОВ228114 | ТОВ231586 | ТОВ184253 | ТОВ232715': '0.0133%',\n",
       " 'ТОВ228114 | ТОВ231586 | ТОВ184253 | ТОВ255036': '0.0123%',\n",
       " 'ТОВ228114 | ТОВ231586 | ТОВ184253 | ТОВ032043': '0.0113%',\n",
       " 'ТОВ228114 | ТОВ231586 | ТОВ139528': '0.0338%',\n",
       " 'ТОВ228114 | ТОВ231586 | ТОВ139528 | ТОВ232715': '0.0103%',\n",
       " 'ТОВ228114 | ТОВ231586 | ТОВ139528 | ТОВ255036': '0.0123%',\n",
       " 'ТОВ228114 | ТОВ231586 | ТОВ262977': '0.0215%',\n",
       " 'ТОВ228114 | ТОВ231586 | ТОВ232715': '0.0349%',\n",
       " 'ТОВ228114 | ТОВ231586 | ТОВ232715 | ТОВ042547': '0.0113%',\n",
       " 'ТОВ228114 | ТОВ231586 | ТОВ232715 | ТОВ227715': '0.0123%',\n",
       " 'ТОВ228114 | ТОВ231586 | ТОВ232715 | ТОВ255036': '0.0113%',\n",
       " 'ТОВ228114 | ТОВ231586 | ТОВ053041': '0.0113%',\n",
       " 'ТОВ228114 | ТОВ231586 | ТОВ231691': '0.0103%',\n",
       " 'ТОВ228114 | ТОВ231586 | ТОВ042704': '0.0123%',\n",
       " 'ТОВ228114 | ТОВ231586 | ТОВ231690': '0.0154%',\n",
       " 'ТОВ228114 | ТОВ231586 | ТОВ218365': '0.0103%',\n",
       " 'ТОВ228114 | ТОВ231586 | ТОВ284483': '0.0103%',\n",
       " 'ТОВ228114 | ТОВ231586 | ТОВ223175': '0.0123%',\n",
       " 'ТОВ228114 | ТОВ231586 | ТОВ042547': '0.0174%',\n",
       " 'ТОВ228114 | ТОВ231586 | ТОВ235739': '0.0154%',\n",
       " 'ТОВ228114 | ТОВ231586 | ТОВ222081': '0.0103%',\n",
       " 'ТОВ228114 | ТОВ231586 | ТОВ099797': '0.0154%',\n",
       " 'ТОВ228114 | ТОВ231586 | ТОВ227715': '0.0400%',\n",
       " 'ТОВ228114 | ТОВ231586 | ТОВ301624': '0.0113%',\n",
       " 'ТОВ228114 | ТОВ231586 | ТОВ249439': '0.0113%',\n",
       " 'ТОВ228114 | ТОВ231586 | ТОВ155841': '0.0144%',\n",
       " 'ТОВ228114 | ТОВ231586 | ТОВ042940': '0.0103%',\n",
       " 'ТОВ228114 | ТОВ231586 | ТОВ237348': '0.0133%',\n",
       " 'ТОВ228114 | ТОВ231586 | ТОВ178947': '0.0144%',\n",
       " 'ТОВ228114 | ТОВ231586 | ТОВ255036': '0.0287%',\n",
       " 'ТОВ228114 | ТОВ231586 | ТОВ227717': '0.0236%',\n",
       " 'ТОВ228114 | ТОВ231586 | ТОВ043107': '0.0113%',\n",
       " 'ТОВ228114 | ТОВ231586 | ТОВ247989': '0.0103%',\n",
       " 'ТОВ228114 | ТОВ231586 | ТОВ052777': '0.0113%',\n",
       " 'ТОВ228114 | ТОВ231586 | ТОВ098311': '0.0154%',\n",
       " 'ТОВ228114 | ТОВ231586 | ТОВ097249': '0.0144%',\n",
       " 'ТОВ228114 | ТОВ231586 | ТОВ032043': '0.0205%',\n",
       " 'ТОВ228114 | ТОВ219150 | ТОВ184253': '0.0113%',\n",
       " 'ТОВ228114 | ТОВ109423 | ТОВ238925': '0.0154%',\n",
       " 'ТОВ228114 | ТОВ109423 | ТОВ166306': '0.0123%',\n",
       " 'ТОВ228114 | ТОВ109423 | ТОВ184253': '0.0267%',\n",
       " 'ТОВ228114 | ТОВ109423 | ТОВ139528': '0.0185%',\n",
       " 'ТОВ228114 | ТОВ109423 | ТОВ262977': '0.0113%',\n",
       " 'ТОВ228114 | ТОВ109423 | ТОВ053041': '0.0113%',\n",
       " 'ТОВ228114 | ТОВ109423 | ТОВ235739': '0.0154%',\n",
       " 'ТОВ228114 | ТОВ109423 | ТОВ099797': '0.0113%',\n",
       " 'ТОВ228114 | ТОВ109423 | ТОВ227715': '0.0195%',\n",
       " 'ТОВ228114 | ТОВ109423 | ТОВ230700': '0.0113%',\n",
       " 'ТОВ228114 | ТОВ109423 | ТОВ255036': '0.0103%',\n",
       " 'ТОВ228114 | ТОВ109423 | ТОВ227717': '0.0144%',\n",
       " 'ТОВ228114 | ТОВ033048 | ТОВ166306': '0.0103%',\n",
       " 'ТОВ228114 | ТОВ033048 | ТОВ184253': '0.0215%',\n",
       " 'ТОВ228114 | ТОВ033048 | ТОВ139528': '0.0113%',\n",
       " 'ТОВ228114 | ТОВ033048 | ТОВ262977': '0.0133%',\n",
       " 'ТОВ228114 | ТОВ033048 | ТОВ232715': '0.0133%',\n",
       " 'ТОВ228114 | ТОВ033048 | ТОВ042547': '0.0103%',\n",
       " 'ТОВ228114 | ТОВ033048 | ТОВ235739': '0.0113%',\n",
       " 'ТОВ228114 | ТОВ033048 | ТОВ255036': '0.0174%',\n",
       " 'ТОВ228114 | ТОВ033048 | ТОВ227717': '0.0154%',\n",
       " 'ТОВ228114 | ТОВ206304 | ТОВ184253': '0.0267%',\n",
       " 'ТОВ228114 | ТОВ206304 | ТОВ232715': '0.0103%',\n",
       " 'ТОВ228114 | ТОВ206304 | ТОВ235739': '0.0113%',\n",
       " 'ТОВ228114 | ТОВ206304 | ТОВ227715': '0.0164%',\n",
       " 'ТОВ228114 | ТОВ206304 | ТОВ255036': '0.0113%',\n",
       " 'ТОВ228114 | ТОВ001465 | ТОВ184253': '0.0103%',\n",
       " 'ТОВ228114 | ТОВ215649 | ТОВ184253': '0.0195%',\n",
       " 'ТОВ228114 | ТОВ277638 | ТОВ184253': '0.0113%',\n",
       " 'ТОВ228114 | ТОВ238925 | ТОВ184253': '0.0103%',\n",
       " 'ТОВ228114 | ТОВ238925 | ТОВ227717': '0.0123%',\n",
       " 'ТОВ228114 | ТОВ231590 | ТОВ184253': '0.0287%',\n",
       " 'ТОВ228114 | ТОВ231590 | ТОВ139528': '0.0144%',\n",
       " 'ТОВ228114 | ТОВ231590 | ТОВ262977': '0.0144%',\n",
       " 'ТОВ228114 | ТОВ231590 | ТОВ232715': '0.0154%',\n",
       " 'ТОВ228114 | ТОВ231590 | ТОВ235739': '0.0133%',\n",
       " 'ТОВ228114 | ТОВ231590 | ТОВ227715': '0.0185%',\n",
       " 'ТОВ228114 | ТОВ231590 | ТОВ255036': '0.0164%',\n",
       " 'ТОВ228114 | ТОВ231590 | ТОВ227717': '0.0164%',\n",
       " 'ТОВ228114 | ТОВ284416 | ТОВ184253': '0.0185%',\n",
       " 'ТОВ228114 | ТОВ224330 | ТОВ184253': '0.0123%',\n",
       " 'ТОВ228114 | ТОВ120235 | ТОВ184253': '0.0205%',\n",
       " 'ТОВ228114 | ТОВ120235 | ТОВ227715': '0.0103%',\n",
       " 'ТОВ228114 | ТОВ120235 | ТОВ032043': '0.0113%',\n",
       " 'ТОВ228114 | ТОВ193295 | ТОВ184253': '0.0154%',\n",
       " 'ТОВ228114 | ТОВ193295 | ТОВ232715': '0.0113%',\n",
       " 'ТОВ228114 | ТОВ193295 | ТОВ042547': '0.0103%',\n",
       " 'ТОВ228114 | ТОВ193295 | ТОВ029305': '0.0113%',\n",
       " 'ТОВ228114 | ТОВ193295 | ТОВ255036': '0.0133%',\n",
       " 'ТОВ228114 | ТОВ231595 | ТОВ184253': '0.0113%',\n",
       " 'ТОВ228114 | ТОВ106930 | ТОВ184253': '0.0338%',\n",
       " 'ТОВ228114 | ТОВ106930 | ТОВ184253 | ТОВ139528': '0.0103%',\n",
       " 'ТОВ228114 | ТОВ106930 | ТОВ184253 | ТОВ235739': '0.0123%',\n",
       " 'ТОВ228114 | ТОВ106930 | ТОВ184253 | ТОВ227715': '0.0123%',\n",
       " 'ТОВ228114 | ТОВ106930 | ТОВ184253 | ТОВ255036': '0.0144%',\n",
       " 'ТОВ228114 | ТОВ106930 | ТОВ139528': '0.0154%',\n",
       " 'ТОВ228114 | ТОВ106930 | ТОВ262977': '0.0103%',\n",
       " 'ТОВ228114 | ТОВ106930 | ТОВ232715': '0.0164%',\n",
       " 'ТОВ228114 | ТОВ106930 | ТОВ053041': '0.0113%',\n",
       " 'ТОВ228114 | ТОВ106930 | ТОВ042547': '0.0113%',\n",
       " 'ТОВ228114 | ТОВ106930 | ТОВ235739': '0.0154%',\n",
       " 'ТОВ228114 | ТОВ106930 | ТОВ235739 | ТОВ255036': '0.0113%',\n",
       " 'ТОВ228114 | ТОВ106930 | ТОВ170478': '0.0103%',\n",
       " 'ТОВ228114 | ТОВ106930 | ТОВ227715': '0.0215%',\n",
       " 'ТОВ228114 | ТОВ106930 | ТОВ155841': '0.0103%',\n",
       " 'ТОВ228114 | ТОВ106930 | ТОВ255036': '0.0195%',\n",
       " 'ТОВ228114 | ТОВ106930 | ТОВ227717': '0.0133%',\n",
       " 'ТОВ228114 | ТОВ106930 | ТОВ032043': '0.0123%',\n",
       " 'ТОВ228114 | ТОВ259350 | ТОВ166306': '0.0103%',\n",
       " 'ТОВ228114 | ТОВ259350 | ТОВ184253': '0.0502%',\n",
       " 'ТОВ228114 | ТОВ259350 | ТОВ184253 | ТОВ235739': '0.0103%',\n",
       " 'ТОВ228114 | ТОВ259350 | ТОВ184253 | ТОВ227715': '0.0103%',\n",
       " 'ТОВ228114 | ТОВ259350 | ТОВ184253 | ТОВ227717': '0.0113%',\n",
       " 'ТОВ228114 | ТОВ259350 | ТОВ262977': '0.0113%',\n",
       " 'ТОВ228114 | ТОВ259350 | ТОВ232715': '0.0123%',\n",
       " 'ТОВ228114 | ТОВ259350 | ТОВ235739': '0.0164%',\n",
       " 'ТОВ228114 | ТОВ259350 | ТОВ099797': '0.0123%',\n",
       " 'ТОВ228114 | ТОВ259350 | ТОВ227715': '0.0205%',\n",
       " 'ТОВ228114 | ТОВ259350 | ТОВ230700': '0.0133%',\n",
       " 'ТОВ228114 | ТОВ259350 | ТОВ227717': '0.0174%',\n",
       " 'ТОВ228114 | ТОВ259350 | ТОВ032043': '0.0103%',\n",
       " 'ТОВ228114 | ТОВ166306 | ТОВ224035': '0.0103%',\n",
       " 'ТОВ228114 | ТОВ166306 | ТОВ248429': '0.0103%',\n",
       " 'ТОВ228114 | ТОВ166306 | ТОВ184253': '0.0103%',\n",
       " 'ТОВ228114 | ТОВ166306 | ТОВ263281': '0.0123%',\n",
       " 'ТОВ228114 | ТОВ166306 | ТОВ139528': '0.0349%',\n",
       " 'ТОВ228114 | ТОВ166306 | ТОВ139528 | ТОВ227715': '0.0103%',\n",
       " 'ТОВ228114 | ТОВ166306 | ТОВ232298': '0.0123%',\n",
       " 'ТОВ228114 | ТОВ166306 | ТОВ262977': '0.0164%',\n",
       " 'ТОВ228114 | ТОВ166306 | ТОВ232715': '0.0174%',\n",
       " 'ТОВ228114 | ТОВ166306 | ТОВ230418': '0.0113%',\n",
       " 'ТОВ228114 | ТОВ166306 | ТОВ053041': '0.0103%',\n",
       " 'ТОВ228114 | ТОВ166306 | ТОВ042704': '0.0154%',\n",
       " 'ТОВ228114 | ТОВ166306 | ТОВ042547': '0.0103%',\n",
       " 'ТОВ228114 | ТОВ166306 | ТОВ204237': '0.0103%',\n",
       " 'ТОВ228114 | ТОВ166306 | ТОВ235739': '0.0164%',\n",
       " 'ТОВ228114 | ТОВ166306 | ТОВ227715': '0.0349%',\n",
       " 'ТОВ228114 | ТОВ166306 | ТОВ230700': '0.0185%',\n",
       " 'ТОВ228114 | ТОВ166306 | ТОВ178947': '0.0154%',\n",
       " 'ТОВ228114 | ТОВ166306 | ТОВ255036': '0.0174%',\n",
       " 'ТОВ228114 | ТОВ166306 | ТОВ227717': '0.0236%',\n",
       " 'ТОВ228114 | ТОВ166306 | ТОВ052777': '0.0103%',\n",
       " 'ТОВ228114 | ТОВ166306 | ТОВ032043': '0.0123%',\n",
       " 'ТОВ228114 | ТОВ166306 | ТОВ129157': '0.0113%',\n",
       " 'ТОВ228114 | ТОВ119677 | ТОВ204237': '0.0103%',\n",
       " 'ТОВ228114 | ТОВ224035 | ТОВ184253': '0.0328%',\n",
       " 'ТОВ228114 | ТОВ224035 | ТОВ184253 | ТОВ235739': '0.0123%',\n",
       " 'ТОВ228114 | ТОВ224035 | ТОВ263281': '0.0103%',\n",
       " 'ТОВ228114 | ТОВ224035 | ТОВ139528': '0.0144%',\n",
       " 'ТОВ228114 | ТОВ224035 | ТОВ262977': '0.0133%',\n",
       " 'ТОВ228114 | ТОВ224035 | ТОВ232715': '0.0195%',\n",
       " 'ТОВ228114 | ТОВ224035 | ТОВ042704': '0.0123%',\n",
       " 'ТОВ228114 | ТОВ224035 | ТОВ042547': '0.0103%',\n",
       " 'ТОВ228114 | ТОВ224035 | ТОВ235739': '0.0164%',\n",
       " 'ТОВ228114 | ТОВ224035 | ТОВ227715': '0.0164%',\n",
       " 'ТОВ228114 | ТОВ224035 | ТОВ230700': '0.0174%',\n",
       " 'ТОВ228114 | ТОВ224035 | ТОВ255036': '0.0144%',\n",
       " 'ТОВ228114 | ТОВ224035 | ТОВ227717': '0.0226%',\n",
       " 'ТОВ228114 | ТОВ056330 | ТОВ184253': '0.0144%',\n",
       " 'ТОВ228114 | ТОВ056330 | ТОВ232715': '0.0103%',\n",
       " 'ТОВ228114 | ТОВ248429 | ТОВ184253': '0.0359%',\n",
       " 'ТОВ228114 | ТОВ248429 | ТОВ184253 | ТОВ232715': '0.0123%',\n",
       " 'ТОВ228114 | ТОВ248429 | ТОВ184253 | ТОВ042547': '0.0123%',\n",
       " 'ТОВ228114 | ТОВ248429 | ТОВ184253 | ТОВ235739': '0.0103%',\n",
       " 'ТОВ228114 | ТОВ248429 | ТОВ184253 | ТОВ227715': '0.0103%',\n",
       " 'ТОВ228114 | ТОВ248429 | ТОВ139528': '0.0154%',\n",
       " 'ТОВ228114 | ТОВ248429 | ТОВ262977': '0.0133%',\n",
       " 'ТОВ228114 | ТОВ248429 | ТОВ232715': '0.0195%',\n",
       " 'ТОВ228114 | ТОВ248429 | ТОВ042704': '0.0113%',\n",
       " 'ТОВ228114 | ТОВ248429 | ТОВ231690': '0.0103%',\n",
       " 'ТОВ228114 | ТОВ248429 | ТОВ042547': '0.0195%',\n",
       " 'ТОВ228114 | ТОВ248429 | ТОВ235739': '0.0144%',\n",
       " 'ТОВ228114 | ТОВ248429 | ТОВ099797': '0.0103%',\n",
       " 'ТОВ228114 | ТОВ248429 | ТОВ227715': '0.0174%',\n",
       " 'ТОВ228114 | ТОВ248429 | ТОВ255036': '0.0154%',\n",
       " 'ТОВ228114 | ТОВ248429 | ТОВ227717': '0.0133%',\n",
       " 'ТОВ228114 | ТОВ248429 | ТОВ043107': '0.0113%',\n",
       " 'ТОВ228114 | ТОВ248429 | ТОВ032043': '0.0123%',\n",
       " 'ТОВ228114 | ТОВ231592 | ТОВ184253': '0.0123%',\n",
       " 'ТОВ228114 | ТОВ184253 | ТОВ045656': '0.0144%',\n",
       " 'ТОВ228114 | ТОВ184253 | ТОВ263281': '0.0349%',\n",
       " 'ТОВ228114 | ТОВ184253 | ТОВ263281 | ТОВ235739': '0.0123%',\n",
       " 'ТОВ228114 | ТОВ184253 | ТОВ263281 | ТОВ227717': '0.0123%',\n",
       " 'ТОВ228114 | ТОВ184253 | ТОВ139528': '0.0984%',\n",
       " 'ТОВ228114 | ТОВ184253 | ТОВ139528 | ТОВ262977': '0.0133%',\n",
       " 'ТОВ228114 | ТОВ184253 | ТОВ139528 | ТОВ232715': '0.0164%',\n",
       " 'ТОВ228114 | ТОВ184253 | ТОВ139528 | ТОВ042704': '0.0103%',\n",
       " 'ТОВ228114 | ТОВ184253 | ТОВ139528 | ТОВ042547': '0.0195%',\n",
       " 'ТОВ228114 | ТОВ184253 | ТОВ139528 | ТОВ235739': '0.0195%',\n",
       " 'ТОВ228114 | ТОВ184253 | ТОВ139528 | ТОВ227715': '0.0287%',\n",
       " 'ТОВ228114 | ТОВ184253 | ТОВ139528 | ТОВ258133': '0.0103%',\n",
       " 'ТОВ228114 | ТОВ184253 | ТОВ139528 | ТОВ255036': '0.0164%',\n",
       " 'ТОВ228114 | ТОВ184253 | ТОВ139528 | ТОВ227717': '0.0236%',\n",
       " 'ТОВ228114 | ТОВ184253 | ТОВ139528 | ТОВ037482': '0.0103%',\n",
       " 'ТОВ228114 | ТОВ184253 | ТОВ139528 | ТОВ032043': '0.0144%',\n",
       " 'ТОВ228114 | ТОВ184253 | ТОВ219818': '0.0113%',\n",
       " 'ТОВ228114 | ТОВ184253 | ТОВ235043': '0.0164%',\n",
       " 'ТОВ228114 | ТОВ184253 | ТОВ029182': '0.0133%',\n",
       " 'ТОВ228114 | ТОВ184253 | ТОВ232298': '0.0226%',\n",
       " 'ТОВ228114 | ТОВ184253 | ТОВ262977': '0.0584%',\n",
       " 'ТОВ228114 | ТОВ184253 | ТОВ262977 | ТОВ232715': '0.0133%',\n",
       " 'ТОВ228114 | ТОВ184253 | ТОВ262977 | ТОВ284483': '0.0103%',\n",
       " 'ТОВ228114 | ТОВ184253 | ТОВ262977 | ТОВ042547': '0.0133%',\n",
       " 'ТОВ228114 | ТОВ184253 | ТОВ262977 | ТОВ235739': '0.0103%',\n",
       " 'ТОВ228114 | ТОВ184253 | ТОВ262977 | ТОВ227715': '0.0123%',\n",
       " 'ТОВ228114 | ТОВ184253 | ТОВ262977 | ТОВ301624': '0.0113%',\n",
       " 'ТОВ228114 | ТОВ184253 | ТОВ262977 | ТОВ155841': '0.0133%',\n",
       " 'ТОВ228114 | ТОВ184253 | ТОВ262977 | ТОВ255036': '0.0174%',\n",
       " 'ТОВ228114 | ТОВ184253 | ТОВ262977 | ТОВ227717': '0.0144%',\n",
       " 'ТОВ228114 | ТОВ184253 | ТОВ262977 | ТОВ043107': '0.0185%',\n",
       " 'ТОВ228114 | ТОВ184253 | ТОВ262977 | ТОВ032043': '0.0174%',\n",
       " 'ТОВ228114 | ТОВ184253 | ТОВ232715': '0.0646%',\n",
       " 'ТОВ228114 | ТОВ184253 | ТОВ232715 | ТОВ042547': '0.0133%',\n",
       " 'ТОВ228114 | ТОВ184253 | ТОВ232715 | ТОВ235739': '0.0133%',\n",
       " 'ТОВ228114 | ТОВ184253 | ТОВ232715 | ТОВ227715': '0.0164%',\n",
       " 'ТОВ228114 | ТОВ184253 | ТОВ232715 | ТОВ255036': '0.0185%',\n",
       " 'ТОВ228114 | ТОВ184253 | ТОВ232715 | ТОВ227717': '0.0144%',\n",
       " 'ТОВ228114 | ТОВ184253 | ТОВ232715 | ТОВ032043': '0.0123%',\n",
       " 'ТОВ228114 | ТОВ184253 | ТОВ042372': '0.0103%',\n",
       " 'ТОВ228114 | ТОВ184253 | ТОВ027485': '0.0215%',\n",
       " 'ТОВ228114 | ТОВ184253 | ТОВ230418': '0.0318%',\n",
       " 'ТОВ228114 | ТОВ184253 | ТОВ193716': '0.0174%',\n",
       " 'ТОВ228114 | ТОВ184253 | ТОВ053041': '0.0287%',\n",
       " 'ТОВ228114 | ТОВ184253 | ТОВ231691': '0.0144%',\n",
       " 'ТОВ228114 | ТОВ184253 | ТОВ042704': '0.0256%',\n",
       " 'ТОВ228114 | ТОВ184253 | ТОВ093543': '0.0144%',\n",
       " 'ТОВ228114 | ТОВ184253 | ТОВ242124': '0.0103%',\n",
       " 'ТОВ228114 | ТОВ184253 | ТОВ186166': '0.0185%',\n",
       " 'ТОВ228114 | ТОВ184253 | ТОВ275802': '0.0113%',\n",
       " 'ТОВ228114 | ТОВ184253 | ТОВ234062': '0.0103%',\n",
       " 'ТОВ228114 | ТОВ184253 | ТОВ257894': '0.0123%',\n",
       " 'ТОВ228114 | ТОВ184253 | ТОВ239614': '0.0164%',\n",
       " 'ТОВ228114 | ТОВ184253 | ТОВ231690': '0.0236%',\n",
       " 'ТОВ228114 | ТОВ184253 | ТОВ236590': '0.0113%',\n",
       " 'ТОВ228114 | ТОВ184253 | ТОВ283493': '0.0267%',\n",
       " 'ТОВ228114 | ТОВ184253 | ТОВ223460': '0.0195%',\n",
       " 'ТОВ228114 | ТОВ184253 | ТОВ013612': '0.0113%',\n",
       " 'ТОВ228114 | ТОВ184253 | ТОВ213378': '0.0103%',\n",
       " 'ТОВ228114 | ТОВ184253 | ТОВ251102': '0.0103%',\n",
       " 'ТОВ228114 | ТОВ184253 | ТОВ165736': '0.0144%',\n",
       " 'ТОВ228114 | ТОВ184253 | ТОВ292698': '0.0103%',\n",
       " 'ТОВ228114 | ТОВ184253 | ТОВ090902': '0.0123%',\n",
       " 'ТОВ228114 | ТОВ184253 | ТОВ218365': '0.0144%',\n",
       " 'ТОВ228114 | ТОВ184253 | ТОВ284483': '0.0246%',\n",
       " 'ТОВ228114 | ТОВ184253 | ТОВ223175': '0.0226%',\n",
       " 'ТОВ228114 | ТОВ184253 | ТОВ042547': '0.0492%',\n",
       " 'ТОВ228114 | ТОВ184253 | ТОВ042547 | ТОВ235739': '0.0133%',\n",
       " 'ТОВ228114 | ТОВ184253 | ТОВ042547 | ТОВ227715': '0.0144%',\n",
       " 'ТОВ228114 | ТОВ184253 | ТОВ042547 | ТОВ301624': '0.0123%',\n",
       " 'ТОВ228114 | ТОВ184253 | ТОВ042547 | ТОВ155841': '0.0103%',\n",
       " 'ТОВ228114 | ТОВ184253 | ТОВ042547 | ТОВ255036': '0.0195%',\n",
       " 'ТОВ228114 | ТОВ184253 | ТОВ042547 | ТОВ227717': '0.0133%',\n",
       " 'ТОВ228114 | ТОВ184253 | ТОВ204237': '0.0174%',\n",
       " 'ТОВ228114 | ТОВ184253 | ТОВ237987': '0.0123%',\n",
       " 'ТОВ228114 | ТОВ184253 | ТОВ214882': '0.0103%',\n",
       " 'ТОВ228114 | ТОВ184253 | ТОВ043791': '0.0154%',\n",
       " 'ТОВ228114 | ТОВ184253 | ТОВ224175': '0.0133%',\n",
       " 'ТОВ228114 | ТОВ184253 | ТОВ235739': '0.0769%',\n",
       " 'ТОВ228114 | ТОВ184253 | ТОВ235739 | ТОВ227715': '0.0256%',\n",
       " 'ТОВ228114 | ТОВ184253 | ТОВ235739 | ТОВ301624': '0.0144%',\n",
       " 'ТОВ228114 | ТОВ184253 | ТОВ235739 | ТОВ255036': '0.0185%',\n",
       " 'ТОВ228114 | ТОВ184253 | ТОВ235739 | ТОВ227717': '0.0154%',\n",
       " 'ТОВ228114 | ТОВ184253 | ТОВ235739 | ТОВ032043': '0.0113%',\n",
       " 'ТОВ228114 | ТОВ184253 | ТОВ222081': '0.0133%',\n",
       " 'ТОВ228114 | ТОВ184253 | ТОВ227714': '0.0154%',\n",
       " 'ТОВ228114 | ТОВ184253 | ТОВ137898': '0.0133%',\n",
       " 'ТОВ228114 | ТОВ184253 | ТОВ170478': '0.0318%',\n",
       " 'ТОВ228114 | ТОВ184253 | ТОВ031116': '0.0103%',\n",
       " 'ТОВ228114 | ТОВ184253 | ТОВ227715': '0.0912%',\n",
       " 'ТОВ228114 | ТОВ184253 | ТОВ227715 | ТОВ255036': '0.0174%',\n",
       " 'ТОВ228114 | ТОВ184253 | ТОВ227715 | ТОВ227717': '0.0267%',\n",
       " 'ТОВ228114 | ТОВ184253 | ТОВ227715 | ТОВ097249': '0.0123%',\n",
       " 'ТОВ228114 | ТОВ184253 | ТОВ227715 | ТОВ032043': '0.0103%',\n",
       " 'ТОВ228114 | ТОВ184253 | ТОВ227715 | ТОВ249929': '0.0103%',\n",
       " 'ТОВ228114 | ТОВ184253 | ТОВ118223': '0.0144%',\n",
       " 'ТОВ228114 | ТОВ184253 | ТОВ268969': '0.0144%',\n",
       " 'ТОВ228114 | ТОВ184253 | ТОВ101971': '0.0174%',\n",
       " 'ТОВ228114 | ТОВ184253 | ТОВ264127': '0.0174%',\n",
       " 'ТОВ228114 | ТОВ184253 | ТОВ290898': '0.0133%',\n",
       " 'ТОВ228114 | ТОВ184253 | ТОВ252596': '0.0185%',\n",
       " 'ТОВ228114 | ТОВ184253 | ТОВ301624': '0.0451%',\n",
       " 'ТОВ228114 | ТОВ184253 | ТОВ301624 | ТОВ255036': '0.0113%',\n",
       " 'ТОВ228114 | ТОВ184253 | ТОВ283303': '0.0226%',\n",
       " 'ТОВ228114 | ТОВ184253 | ТОВ217019': '0.0154%',\n",
       " 'ТОВ228114 | ТОВ184253 | ТОВ230700': '0.0287%',\n",
       " 'ТОВ228114 | ТОВ184253 | ТОВ143636': '0.0154%',\n",
       " 'ТОВ228114 | ТОВ184253 | ТОВ283145': '0.0103%',\n",
       " 'ТОВ228114 | ТОВ184253 | ТОВ256936': '0.0123%',\n",
       " 'ТОВ228114 | ТОВ184253 | ТОВ029305': '0.0185%',\n",
       " 'ТОВ228114 | ТОВ184253 | ТОВ155841': '0.0441%',\n",
       " 'ТОВ228114 | ТОВ184253 | ТОВ155841 | ТОВ255036': '0.0113%',\n",
       " 'ТОВ228114 | ТОВ184253 | ТОВ155841 | ТОВ032043': '0.0103%',\n",
       " 'ТОВ228114 | ТОВ184253 | ТОВ230168': '0.0174%',\n",
       " 'ТОВ228114 | ТОВ184253 | ТОВ258449': '0.0133%',\n",
       " 'ТОВ228114 | ТОВ184253 | ТОВ150733': '0.0144%',\n",
       " 'ТОВ228114 | ТОВ184253 | ТОВ042940': '0.0215%',\n",
       " 'ТОВ228114 | ТОВ184253 | ТОВ205039': '0.0123%',\n",
       " 'ТОВ228114 | ТОВ184253 | ТОВ138742': '0.0154%',\n",
       " 'ТОВ228114 | ТОВ184253 | ТОВ230122': '0.0113%',\n",
       " 'ТОВ228114 | ТОВ184253 | ТОВ237349': '0.0133%',\n",
       " 'ТОВ228114 | ТОВ184253 | ТОВ237348': '0.0113%',\n",
       " 'ТОВ228114 | ТОВ184253 | ТОВ141628': '0.0133%',\n",
       " 'ТОВ228114 | ТОВ184253 | ТОВ275655': '0.0103%',\n",
       " 'ТОВ228114 | ТОВ184253 | ТОВ264209': '0.0154%',\n",
       " 'ТОВ228114 | ТОВ184253 | ТОВ258133': '0.0226%',\n",
       " 'ТОВ228114 | ТОВ184253 | ТОВ030822': '0.0154%',\n",
       " 'ТОВ228114 | ТОВ184253 | ТОВ223173': '0.0113%',\n",
       " 'ТОВ228114 | ТОВ184253 | ТОВ178947': '0.0185%',\n",
       " 'ТОВ228114 | ТОВ184253 | ТОВ255036': '0.0584%',\n",
       " 'ТОВ228114 | ТОВ184253 | ТОВ255036 | ТОВ227717': '0.0133%',\n",
       " 'ТОВ228114 | ТОВ184253 | ТОВ255036 | ТОВ032043': '0.0144%',\n",
       " 'ТОВ228114 | ТОВ184253 | ТОВ030046': '0.0185%',\n",
       " 'ТОВ228114 | ТОВ184253 | ТОВ200752': '0.0123%',\n",
       " 'ТОВ228114 | ТОВ184253 | ТОВ231680': '0.0113%',\n",
       " 'ТОВ228114 | ТОВ184253 | ТОВ130944': '0.0113%',\n",
       " 'ТОВ228114 | ТОВ184253 | ТОВ252669': '0.0103%',\n",
       " 'ТОВ228114 | ТОВ184253 | ТОВ227717': '0.0759%',\n",
       " 'ТОВ228114 | ТОВ184253 | ТОВ227717 | ТОВ032043': '0.0144%',\n",
       " 'ТОВ228114 | ТОВ184253 | ТОВ103847': '0.0226%',\n",
       " 'ТОВ228114 | ТОВ184253 | ТОВ108841': '0.0113%',\n",
       " 'ТОВ228114 | ТОВ184253 | ТОВ211323': '0.0103%',\n",
       " 'ТОВ228114 | ТОВ184253 | ТОВ043107': '0.0297%',\n",
       " 'ТОВ228114 | ТОВ184253 | ТОВ282911': '0.0144%',\n",
       " 'ТОВ228114 | ТОВ184253 | ТОВ268318': '0.0113%',\n",
       " 'ТОВ228114 | ТОВ184253 | ТОВ030718': '0.0133%',\n",
       " 'ТОВ228114 | ТОВ184253 | ТОВ247989': '0.0164%',\n",
       " 'ТОВ228114 | ТОВ184253 | ТОВ240397': '0.0103%',\n",
       " 'ТОВ228114 | ТОВ184253 | ТОВ037482': '0.0256%',\n",
       " 'ТОВ228114 | ТОВ184253 | ТОВ234712': '0.0103%',\n",
       " 'ТОВ228114 | ТОВ184253 | ТОВ097251': '0.0174%',\n",
       " 'ТОВ228114 | ТОВ184253 | ТОВ052777': '0.0318%',\n",
       " 'ТОВ228114 | ТОВ184253 | ТОВ042657': '0.0103%',\n",
       " 'ТОВ228114 | ТОВ184253 | ТОВ251198': '0.0103%',\n",
       " 'ТОВ228114 | ТОВ184253 | ТОВ296234': '0.0103%',\n",
       " 'ТОВ228114 | ТОВ184253 | ТОВ264386': '0.0144%',\n",
       " 'ТОВ228114 | ТОВ184253 | ТОВ232962': '0.0195%',\n",
       " 'ТОВ228114 | ТОВ184253 | ТОВ098311': '0.0246%',\n",
       " 'ТОВ228114 | ТОВ184253 | ТОВ156464': '0.0113%',\n",
       " 'ТОВ228114 | ТОВ184253 | ТОВ052792': '0.0103%',\n",
       " 'ТОВ228114 | ТОВ184253 | ТОВ237675': '0.0123%',\n",
       " 'ТОВ228114 | ТОВ184253 | ТОВ237378': '0.0103%',\n",
       " 'ТОВ228114 | ТОВ184253 | ТОВ171231': '0.0123%',\n",
       " 'ТОВ228114 | ТОВ184253 | ТОВ108033': '0.0103%',\n",
       " 'ТОВ228114 | ТОВ184253 | ТОВ255329': '0.0103%',\n",
       " 'ТОВ228114 | ТОВ184253 | ТОВ272060': '0.0144%',\n",
       " 'ТОВ228114 | ТОВ184253 | ТОВ044515': '0.0103%',\n",
       " 'ТОВ228114 | ТОВ184253 | ТОВ176886': '0.0103%',\n",
       " 'ТОВ228114 | ТОВ184253 | ТОВ177803': '0.0123%',\n",
       " 'ТОВ228114 | ТОВ184253 | ТОВ171225': '0.0185%',\n",
       " 'ТОВ228114 | ТОВ184253 | ТОВ097249': '0.0328%',\n",
       " 'ТОВ228114 | ТОВ184253 | ТОВ231439': '0.0123%',\n",
       " 'ТОВ228114 | ТОВ184253 | ТОВ128684': '0.0205%',\n",
       " 'ТОВ228114 | ТОВ184253 | ТОВ255285': '0.0113%',\n",
       " 'ТОВ228114 | ТОВ184253 | ТОВ177625': '0.0133%',\n",
       " 'ТОВ228114 | ТОВ184253 | ТОВ032043': '0.0605%',\n",
       " 'ТОВ228114 | ТОВ184253 | ТОВ280586': '0.0195%',\n",
       " 'ТОВ228114 | ТОВ184253 | ТОВ177642': '0.0133%',\n",
       " 'ТОВ228114 | ТОВ184253 | ТОВ275778': '0.0205%',\n",
       " 'ТОВ228114 | ТОВ184253 | ТОВ042839': '0.0123%',\n",
       " 'ТОВ228114 | ТОВ184253 | ТОВ249929': '0.0205%',\n",
       " 'ТОВ228114 | ТОВ184253 | ТОВ099791': '0.0164%',\n",
       " 'ТОВ228114 | ТОВ184253 | ТОВ244523': '0.0164%',\n",
       " 'ТОВ228114 | ТОВ184253 | ТОВ287107': '0.0133%',\n",
       " 'ТОВ228114 | ТОВ184253 | ТОВ256239': '0.0164%',\n",
       " 'ТОВ228114 | ТОВ184253 | ТОВ298801': '0.0103%',\n",
       " 'ТОВ228114 | ТОВ184253 | ТОВ278015': '0.0226%',\n",
       " 'ТОВ228114 | ТОВ184253 | ТОВ255197': '0.0103%',\n",
       " 'ТОВ228114 | ТОВ184253 | ТОВ129157': '0.0379%',\n",
       " 'ТОВ228114 | ТОВ184253 | ТОВ293477': '0.0195%',\n",
       " 'ТОВ228114 | ТОВ184253 | ТОВ231952': '0.0103%',\n",
       " 'ТОВ228114 | ТОВ184253 | ТОВ204058': '0.0113%',\n",
       " 'ТОВ228114 | ТОВ263281 | ТОВ232715': '0.0123%',\n",
       " 'ТОВ228114 | ТОВ263281 | ТОВ235739': '0.0195%',\n",
       " 'ТОВ228114 | ТОВ263281 | ТОВ227715': '0.0144%',\n",
       " 'ТОВ228114 | ТОВ263281 | ТОВ227717': '0.0164%',\n",
       " 'ТОВ228114 | ТОВ139528 | ТОВ232298': '0.0164%',\n",
       " 'ТОВ228114 | ТОВ139528 | ТОВ262977': '0.0287%',\n",
       " 'ТОВ228114 | ТОВ139528 | ТОВ232715': '0.0349%',\n",
       " 'ТОВ228114 | ТОВ139528 | ТОВ232715 | ТОВ227715': '0.0123%',\n",
       " 'ТОВ228114 | ТОВ139528 | ТОВ230418': '0.0215%',\n",
       " 'ТОВ228114 | ТОВ139528 | ТОВ193716': '0.0103%',\n",
       " 'ТОВ228114 | ТОВ139528 | ТОВ231691': '0.0103%',\n",
       " 'ТОВ228114 | ТОВ139528 | ТОВ042704': '0.0144%',\n",
       " 'ТОВ228114 | ТОВ139528 | ТОВ239614': '0.0133%',\n",
       " 'ТОВ228114 | ТОВ139528 | ТОВ231690': '0.0144%',\n",
       " 'ТОВ228114 | ТОВ139528 | ТОВ165736': '0.0133%',\n",
       " 'ТОВ228114 | ТОВ139528 | ТОВ090902': '0.0103%',\n",
       " 'ТОВ228114 | ТОВ139528 | ТОВ284483': '0.0133%',\n",
       " 'ТОВ228114 | ТОВ139528 | ТОВ042547': '0.0338%',\n",
       " 'ТОВ228114 | ТОВ139528 | ТОВ042547 | ТОВ227715': '0.0123%',\n",
       " 'ТОВ228114 | ТОВ139528 | ТОВ042547 | ТОВ255036': '0.0123%',\n",
       " 'ТОВ228114 | ТОВ139528 | ТОВ235739': '0.0287%',\n",
       " 'ТОВ228114 | ТОВ139528 | ТОВ235739 | ТОВ227715': '0.0113%',\n",
       " 'ТОВ228114 | ТОВ139528 | ТОВ099797': '0.0297%',\n",
       " 'ТОВ228114 | ТОВ139528 | ТОВ137898': '0.0103%',\n",
       " 'ТОВ228114 | ТОВ139528 | ТОВ170478': '0.0113%',\n",
       " 'ТОВ228114 | ТОВ139528 | ТОВ227715': '0.0543%',\n",
       " 'ТОВ228114 | ТОВ139528 | ТОВ227715 | ТОВ227717': '0.0185%',\n",
       " 'ТОВ228114 | ТОВ139528 | ТОВ301624': '0.0164%',\n",
       " 'ТОВ228114 | ТОВ139528 | ТОВ283303': '0.0123%',\n",
       " 'ТОВ228114 | ТОВ139528 | ТОВ230700': '0.0205%',\n",
       " 'ТОВ228114 | ТОВ139528 | ТОВ230168': '0.0123%',\n",
       " 'ТОВ228114 | ТОВ139528 | ТОВ138742': '0.0103%',\n",
       " 'ТОВ228114 | ТОВ139528 | ТОВ237348': '0.0103%',\n",
       " 'ТОВ228114 | ТОВ139528 | ТОВ258133': '0.0133%',\n",
       " 'ТОВ228114 | ТОВ139528 | ТОВ178947': '0.0113%',\n",
       " 'ТОВ228114 | ТОВ139528 | ТОВ255036': '0.0318%',\n",
       " 'ТОВ228114 | ТОВ139528 | ТОВ227717': '0.0431%',\n",
       " 'ТОВ228114 | ТОВ139528 | ТОВ043107': '0.0164%',\n",
       " 'ТОВ228114 | ТОВ139528 | ТОВ247989': '0.0164%',\n",
       " 'ТОВ228114 | ТОВ139528 | ТОВ037482': '0.0133%',\n",
       " 'ТОВ228114 | ТОВ139528 | ТОВ098311': '0.0113%',\n",
       " 'ТОВ228114 | ТОВ139528 | ТОВ237675': '0.0113%',\n",
       " 'ТОВ228114 | ТОВ139528 | ТОВ171225': '0.0103%',\n",
       " 'ТОВ228114 | ТОВ139528 | ТОВ097249': '0.0123%',\n",
       " 'ТОВ228114 | ТОВ139528 | ТОВ128684': '0.0144%',\n",
       " 'ТОВ228114 | ТОВ139528 | ТОВ032043': '0.0236%',\n",
       " 'ТОВ228114 | ТОВ139528 | ТОВ249929': '0.0123%',\n",
       " 'ТОВ228114 | ТОВ139528 | ТОВ099791': '0.0133%',\n",
       " 'ТОВ228114 | ТОВ029182 | ТОВ262977': '0.0154%',\n",
       " 'ТОВ228114 | ТОВ029182 | ТОВ232715': '0.0123%',\n",
       " 'ТОВ228114 | ТОВ029182 | ТОВ042547': '0.0103%',\n",
       " 'ТОВ228114 | ТОВ029182 | ТОВ255036': '0.0103%',\n",
       " 'ТОВ228114 | ТОВ029182 | ТОВ043107': '0.0185%',\n",
       " 'ТОВ228114 | ТОВ232298 | ТОВ262977': '0.0133%',\n",
       " 'ТОВ228114 | ТОВ232298 | ТОВ232715': '0.0205%',\n",
       " 'ТОВ228114 | ТОВ232298 | ТОВ232297': '0.0185%',\n",
       " 'ТОВ228114 | ТОВ232298 | ТОВ042704': '0.0113%',\n",
       " 'ТОВ228114 | ТОВ232298 | ТОВ235739': '0.0133%',\n",
       " 'ТОВ228114 | ТОВ232298 | ТОВ227715': '0.0195%',\n",
       " 'ТОВ228114 | ТОВ232298 | ТОВ255036': '0.0113%',\n",
       " 'ТОВ228114 | ТОВ232298 | ТОВ227717': '0.0236%',\n",
       " 'ТОВ228114 | ТОВ262977 | ТОВ232715': '0.0308%',\n",
       " 'ТОВ228114 | ТОВ262977 | ТОВ232715 | ТОВ227715': '0.0113%',\n",
       " 'ТОВ228114 | ТОВ262977 | ТОВ232715 | ТОВ255036': '0.0103%',\n",
       " 'ТОВ228114 | ТОВ262977 | ТОВ230418': '0.0103%',\n",
       " 'ТОВ228114 | ТОВ262977 | ТОВ231691': '0.0123%',\n",
       " 'ТОВ228114 | ТОВ262977 | ТОВ042704': '0.0113%',\n",
       " 'ТОВ228114 | ТОВ262977 | ТОВ242124': '0.0113%',\n",
       " 'ТОВ228114 | ТОВ262977 | ТОВ283493': '0.0103%',\n",
       " 'ТОВ228114 | ТОВ262977 | ТОВ223460': '0.0103%',\n",
       " 'ТОВ228114 | ТОВ262977 | ТОВ045822': '0.0103%',\n",
       " 'ТОВ228114 | ТОВ262977 | ТОВ284483': '0.0164%',\n",
       " 'ТОВ228114 | ТОВ262977 | ТОВ223175': '0.0144%',\n",
       " 'ТОВ228114 | ТОВ262977 | ТОВ042547': '0.0267%',\n",
       " 'ТОВ228114 | ТОВ262977 | ТОВ042547 | ТОВ255036': '0.0133%',\n",
       " 'ТОВ228114 | ТОВ262977 | ТОВ204237': '0.0133%',\n",
       " 'ТОВ228114 | ТОВ262977 | ТОВ224175': '0.0103%',\n",
       " 'ТОВ228114 | ТОВ262977 | ТОВ235739': '0.0205%',\n",
       " 'ТОВ228114 | ТОВ262977 | ТОВ235739 | ТОВ255036': '0.0103%',\n",
       " 'ТОВ228114 | ТОВ262977 | ТОВ227714': '0.0123%',\n",
       " 'ТОВ228114 | ТОВ262977 | ТОВ099797': '0.0123%',\n",
       " 'ТОВ228114 | ТОВ262977 | ТОВ137898': '0.0103%',\n",
       " 'ТОВ228114 | ТОВ262977 | ТОВ227715': '0.0308%',\n",
       " 'ТОВ228114 | ТОВ262977 | ТОВ227715 | ТОВ255036': '0.0113%',\n",
       " 'ТОВ228114 | ТОВ262977 | ТОВ101971': '0.0113%',\n",
       " 'ТОВ228114 | ТОВ262977 | ТОВ301624': '0.0226%',\n",
       " 'ТОВ228114 | ТОВ262977 | ТОВ230700': '0.0133%',\n",
       " 'ТОВ228114 | ТОВ262977 | ТОВ155841': '0.0215%',\n",
       " 'ТОВ228114 | ТОВ262977 | ТОВ138742': '0.0103%',\n",
       " 'ТОВ228114 | ТОВ262977 | ТОВ030822': '0.0123%',\n",
       " 'ТОВ228114 | ТОВ262977 | ТОВ178947': '0.0123%',\n",
       " 'ТОВ228114 | ТОВ262977 | ТОВ255036': '0.0359%',\n",
       " 'ТОВ228114 | ТОВ262977 | ТОВ255036 | ТОВ043107': '0.0133%',\n",
       " 'ТОВ228114 | ТОВ262977 | ТОВ227717': '0.0308%',\n",
       " 'ТОВ228114 | ТОВ262977 | ТОВ108841': '0.0205%',\n",
       " 'ТОВ228114 | ТОВ262977 | ТОВ043107': '0.0369%',\n",
       " 'ТОВ228114 | ТОВ262977 | ТОВ282911': '0.0103%',\n",
       " 'ТОВ228114 | ТОВ262977 | ТОВ247989': '0.0133%',\n",
       " 'ТОВ228114 | ТОВ262977 | ТОВ037482': '0.0123%',\n",
       " 'ТОВ228114 | ТОВ262977 | ТОВ052777': '0.0133%',\n",
       " 'ТОВ228114 | ТОВ262977 | ТОВ264386': '0.0103%',\n",
       " 'ТОВ228114 | ТОВ262977 | ТОВ232962': '0.0133%',\n",
       " 'ТОВ228114 | ТОВ262977 | ТОВ177803': '0.0113%',\n",
       " 'ТОВ228114 | ТОВ262977 | ТОВ097249': '0.0103%',\n",
       " 'ТОВ228114 | ТОВ262977 | ТОВ177625': '0.0154%',\n",
       " 'ТОВ228114 | ТОВ262977 | ТОВ032043': '0.0246%',\n",
       " 'ТОВ228114 | ТОВ262977 | ТОВ249929': '0.0103%',\n",
       " 'ТОВ228114 | ТОВ262977 | ТОВ278015': '0.0123%',\n",
       " 'ТОВ228114 | ТОВ262977 | ТОВ129157': '0.0123%',\n",
       " 'ТОВ228114 | ТОВ232715 | ТОВ232297': '0.0113%',\n",
       " 'ТОВ228114 | ТОВ232715 | ТОВ042704': '0.0174%',\n",
       " 'ТОВ228114 | ТОВ232715 | ТОВ231690': '0.0144%',\n",
       " 'ТОВ228114 | ТОВ232715 | ТОВ283493': '0.0103%',\n",
       " 'ТОВ228114 | ТОВ232715 | ТОВ223460': '0.0174%',\n",
       " 'ТОВ228114 | ТОВ232715 | ТОВ284483': '0.0133%',\n",
       " 'ТОВ228114 | ТОВ232715 | ТОВ042547': '0.0256%',\n",
       " 'ТОВ228114 | ТОВ232715 | ТОВ042547 | ТОВ227715': '0.0113%',\n",
       " 'ТОВ228114 | ТОВ232715 | ТОВ042547 | ТОВ255036': '0.0144%',\n",
       " 'ТОВ228114 | ТОВ232715 | ТОВ204237': '0.0133%',\n",
       " 'ТОВ228114 | ТОВ232715 | ТОВ224175': '0.0103%',\n",
       " 'ТОВ228114 | ТОВ232715 | ТОВ235739': '0.0267%',\n",
       " 'ТОВ228114 | ТОВ232715 | ТОВ099797': '0.0133%',\n",
       " 'ТОВ228114 | ТОВ232715 | ТОВ227715': '0.0420%',\n",
       " 'ТОВ228114 | ТОВ232715 | ТОВ227715 | ТОВ255036': '0.0133%',\n",
       " 'ТОВ228114 | ТОВ232715 | ТОВ252596': '0.0103%',\n",
       " 'ТОВ228114 | ТОВ232715 | ТОВ301624': '0.0154%',\n",
       " 'ТОВ228114 | ТОВ232715 | ТОВ283303': '0.0103%',\n",
       " 'ТОВ228114 | ТОВ232715 | ТОВ217019': '0.0113%',\n",
       " 'ТОВ228114 | ТОВ232715 | ТОВ230700': '0.0164%',\n",
       " 'ТОВ228114 | ТОВ232715 | ТОВ155841': '0.0103%',\n",
       " 'ТОВ228114 | ТОВ232715 | ТОВ138742': '0.0123%',\n",
       " 'ТОВ228114 | ТОВ232715 | ТОВ237348': '0.0113%',\n",
       " 'ТОВ228114 | ТОВ232715 | ТОВ178947': '0.0133%',\n",
       " 'ТОВ228114 | ТОВ232715 | ТОВ255036': '0.0359%',\n",
       " 'ТОВ228114 | ТОВ232715 | ТОВ030046': '0.0123%',\n",
       " 'ТОВ228114 | ТОВ232715 | ТОВ227717': '0.0287%',\n",
       " 'ТОВ228114 | ТОВ232715 | ТОВ103847': '0.0103%',\n",
       " 'ТОВ228114 | ТОВ232715 | ТОВ043107': '0.0195%',\n",
       " 'ТОВ228114 | ТОВ232715 | ТОВ282911': '0.0123%',\n",
       " 'ТОВ228114 | ТОВ232715 | ТОВ037482': '0.0103%',\n",
       " 'ТОВ228114 | ТОВ232715 | ТОВ052777': '0.0113%',\n",
       " 'ТОВ228114 | ТОВ232715 | ТОВ098311': '0.0103%',\n",
       " 'ТОВ228114 | ТОВ232715 | ТОВ097249': '0.0144%',\n",
       " 'ТОВ228114 | ТОВ232715 | ТОВ032043': '0.0215%',\n",
       " 'ТОВ228114 | ТОВ232715 | ТОВ269567': '0.0103%',\n",
       " 'ТОВ228114 | ТОВ232715 | ТОВ249929': '0.0133%',\n",
       " 'ТОВ228114 | ТОВ232715 | ТОВ129157': '0.0113%',\n",
       " 'ТОВ228114 | ТОВ027485 | ТОВ227715': '0.0113%',\n",
       " 'ТОВ228114 | ТОВ230418 | ТОВ053041': '0.0103%',\n",
       " 'ТОВ228114 | ТОВ230418 | ТОВ235739': '0.0113%',\n",
       " 'ТОВ228114 | ТОВ230418 | ТОВ227715': '0.0154%',\n",
       " 'ТОВ228114 | ТОВ230418 | ТОВ301624': '0.0133%',\n",
       " 'ТОВ228114 | ТОВ230418 | ТОВ230700': '0.0113%',\n",
       " 'ТОВ228114 | ТОВ230418 | ТОВ255036': '0.0103%',\n",
       " 'ТОВ228114 | ТОВ230418 | ТОВ227717': '0.0144%',\n",
       " 'ТОВ228114 | ТОВ230418 | ТОВ032043': '0.0174%',\n",
       " 'ТОВ228114 | ТОВ193716 | ТОВ230700': '0.0144%',\n",
       " 'ТОВ228114 | ТОВ193716 | ТОВ227717': '0.0164%',\n",
       " 'ТОВ228114 | ТОВ232297 | ТОВ227715': '0.0123%',\n",
       " 'ТОВ228114 | ТОВ232297 | ТОВ227717': '0.0133%',\n",
       " 'ТОВ228114 | ТОВ053041 | ТОВ227715': '0.0154%',\n",
       " 'ТОВ228114 | ТОВ053041 | ТОВ230700': '0.0113%',\n",
       " 'ТОВ228114 | ТОВ053041 | ТОВ227717': '0.0133%',\n",
       " 'ТОВ228114 | ТОВ042704 | ТОВ042547': '0.0144%',\n",
       " 'ТОВ228114 | ТОВ042704 | ТОВ235739': '0.0174%',\n",
       " 'ТОВ228114 | ТОВ042704 | ТОВ227715': '0.0123%',\n",
       " 'ТОВ228114 | ТОВ042704 | ТОВ155841': '0.0103%',\n",
       " 'ТОВ228114 | ТОВ042704 | ТОВ255036': '0.0174%',\n",
       " 'ТОВ228114 | ТОВ042704 | ТОВ227717': '0.0195%',\n",
       " 'ТОВ228114 | ТОВ042704 | ТОВ097249': '0.0113%',\n",
       " 'ТОВ228114 | ТОВ231690 | ТОВ235739': '0.0123%',\n",
       " 'ТОВ228114 | ТОВ231690 | ТОВ227715': '0.0174%',\n",
       " 'ТОВ228114 | ТОВ231690 | ТОВ255036': '0.0133%',\n",
       " 'ТОВ228114 | ТОВ231690 | ТОВ227717': '0.0133%',\n",
       " 'ТОВ228114 | ТОВ231690 | ТОВ043107': '0.0103%',\n",
       " 'ТОВ228114 | ТОВ283493 | ТОВ227715': '0.0113%',\n",
       " 'ТОВ228114 | ТОВ283493 | ТОВ255036': '0.0123%',\n",
       " 'ТОВ228114 | ТОВ223460 | ТОВ227715': '0.0164%',\n",
       " 'ТОВ228114 | ТОВ223460 | ТОВ255036': '0.0113%',\n",
       " 'ТОВ228114 | ТОВ223460 | ТОВ227717': '0.0113%',\n",
       " 'ТОВ228114 | ТОВ090902 | ТОВ227715': '0.0103%',\n",
       " 'ТОВ228114 | ТОВ218365 | ТОВ227715': '0.0103%',\n",
       " 'ТОВ228114 | ТОВ284483 | ТОВ042547': '0.0103%',\n",
       " 'ТОВ228114 | ТОВ284483 | ТОВ227715': '0.0123%',\n",
       " 'ТОВ228114 | ТОВ284483 | ТОВ255036': '0.0133%',\n",
       " 'ТОВ228114 | ТОВ284483 | ТОВ227717': '0.0123%',\n",
       " 'ТОВ228114 | ТОВ223175 | ТОВ042547': '0.0144%',\n",
       " 'ТОВ228114 | ТОВ223175 | ТОВ235739': '0.0144%',\n",
       " 'ТОВ228114 | ТОВ223175 | ТОВ099797': '0.0103%',\n",
       " 'ТОВ228114 | ТОВ223175 | ТОВ227715': '0.0103%',\n",
       " 'ТОВ228114 | ТОВ223175 | ТОВ255036': '0.0195%',\n",
       " 'ТОВ228114 | ТОВ223175 | ТОВ227717': '0.0154%',\n",
       " 'ТОВ228114 | ТОВ042547 | ТОВ235739': '0.0246%',\n",
       " 'ТОВ228114 | ТОВ042547 | ТОВ235739 | ТОВ227715': '0.0103%',\n",
       " 'ТОВ228114 | ТОВ042547 | ТОВ235739 | ТОВ255036': '0.0113%',\n",
       " 'ТОВ228114 | ТОВ042547 | ТОВ099797': '0.0164%',\n",
       " 'ТОВ228114 | ТОВ042547 | ТОВ227715': '0.0297%',\n",
       " 'ТОВ228114 | ТОВ042547 | ТОВ227715 | ТОВ255036': '0.0123%',\n",
       " 'ТОВ228114 | ТОВ042547 | ТОВ227715 | ТОВ227717': '0.0113%',\n",
       " 'ТОВ228114 | ТОВ042547 | ТОВ301624': '0.0174%',\n",
       " 'ТОВ228114 | ТОВ042547 | ТОВ029305': '0.0144%',\n",
       " 'ТОВ228114 | ТОВ042547 | ТОВ155841': '0.0144%',\n",
       " 'ТОВ228114 | ТОВ042547 | ТОВ178947': '0.0133%',\n",
       " 'ТОВ228114 | ТОВ042547 | ТОВ255036': '0.0410%',\n",
       " 'ТОВ228114 | ТОВ042547 | ТОВ227717': '0.0277%',\n",
       " 'ТОВ228114 | ТОВ042547 | ТОВ043107': '0.0154%',\n",
       " 'ТОВ228114 | ТОВ042547 | ТОВ247989': '0.0103%',\n",
       " 'ТОВ228114 | ТОВ042547 | ТОВ232962': '0.0113%',\n",
       " 'ТОВ228114 | ТОВ042547 | ТОВ097249': '0.0123%',\n",
       " 'ТОВ228114 | ТОВ042547 | ТОВ128684': '0.0123%',\n",
       " 'ТОВ228114 | ТОВ042547 | ТОВ032043': '0.0164%',\n",
       " 'ТОВ228114 | ТОВ204237 | ТОВ227717': '0.0113%',\n",
       " 'ТОВ228114 | ТОВ214882 | ТОВ227715': '0.0103%',\n",
       " 'ТОВ228114 | ТОВ235739 | ТОВ227714': '0.0133%',\n",
       " 'ТОВ228114 | ТОВ235739 | ТОВ099797': '0.0144%',\n",
       " 'ТОВ228114 | ТОВ235739 | ТОВ170478': '0.0154%',\n",
       " 'ТОВ228114 | ТОВ235739 | ТОВ227715': '0.0390%',\n",
       " 'ТОВ228114 | ТОВ235739 | ТОВ227715 | ТОВ255036': '0.0103%',\n",
       " 'ТОВ228114 | ТОВ235739 | ТОВ227715 | ТОВ227717': '0.0113%',\n",
       " 'ТОВ228114 | ТОВ235739 | ТОВ301624': '0.0287%',\n",
       " 'ТОВ228114 | ТОВ235739 | ТОВ217019': '0.0103%',\n",
       " 'ТОВ228114 | ТОВ235739 | ТОВ155841': '0.0123%',\n",
       " 'ТОВ228114 | ТОВ235739 | ТОВ255036': '0.0287%',\n",
       " 'ТОВ228114 | ТОВ235739 | ТОВ227717': '0.0328%',\n",
       " 'ТОВ228114 | ТОВ235739 | ТОВ043107': '0.0133%',\n",
       " 'ТОВ228114 | ТОВ235739 | ТОВ037482': '0.0123%',\n",
       " 'ТОВ228114 | ТОВ235739 | ТОВ052777': '0.0103%',\n",
       " 'ТОВ228114 | ТОВ235739 | ТОВ098311': '0.0103%',\n",
       " 'ТОВ228114 | ТОВ235739 | ТОВ032043': '0.0195%',\n",
       " 'ТОВ228114 | ТОВ235739 | ТОВ249929': '0.0113%',\n",
       " 'ТОВ228114 | ТОВ235739 | ТОВ129157': '0.0133%',\n",
       " 'ТОВ228114 | ТОВ227714 | ТОВ227715': '0.0113%',\n",
       " 'ТОВ228114 | ТОВ227714 | ТОВ255036': '0.0133%',\n",
       " 'ТОВ228114 | ТОВ227714 | ТОВ227717': '0.0123%',\n",
       " 'ТОВ228114 | ТОВ227714 | ТОВ227716': '0.0113%',\n",
       " 'ТОВ228114 | ТОВ099797 | ТОВ227715': '0.0226%',\n",
       " 'ТОВ228114 | ТОВ099797 | ТОВ230700': '0.0103%',\n",
       " 'ТОВ228114 | ТОВ099797 | ТОВ178947': '0.0113%',\n",
       " 'ТОВ228114 | ТОВ099797 | ТОВ255036': '0.0154%',\n",
       " 'ТОВ228114 | ТОВ099797 | ТОВ227717': '0.0185%',\n",
       " 'ТОВ228114 | ТОВ099797 | ТОВ043107': '0.0123%',\n",
       " 'ТОВ228114 | ТОВ099797 | ТОВ097249': '0.0103%',\n",
       " 'ТОВ228114 | ТОВ099797 | ТОВ032043': '0.0103%',\n",
       " 'ТОВ228114 | ТОВ099797 | ТОВ177642': '0.0133%',\n",
       " 'ТОВ228114 | ТОВ137898 | ТОВ227715': '0.0103%',\n",
       " 'ТОВ228114 | ТОВ137898 | ТОВ255036': '0.0103%',\n",
       " 'ТОВ228114 | ТОВ137898 | ТОВ247989': '0.0103%',\n",
       " 'ТОВ228114 | ТОВ170478 | ТОВ227715': '0.0123%',\n",
       " 'ТОВ228114 | ТОВ170478 | ТОВ230700': '0.0123%',\n",
       " 'ТОВ228114 | ТОВ170478 | ТОВ155841': '0.0133%',\n",
       " 'ТОВ228114 | ТОВ170478 | ТОВ255036': '0.0103%',\n",
       " 'ТОВ228114 | ТОВ227715 | ТОВ301624': '0.0185%',\n",
       " 'ТОВ228114 | ТОВ227715 | ТОВ230700': '0.0277%',\n",
       " 'ТОВ228114 | ТОВ227715 | ТОВ249439': '0.0103%',\n",
       " 'ТОВ228114 | ТОВ227715 | ТОВ155841': '0.0154%',\n",
       " 'ТОВ228114 | ТОВ227715 | ТОВ230168': '0.0103%',\n",
       " 'ТОВ228114 | ТОВ227715 | ТОВ150733': '0.0113%',\n",
       " 'ТОВ228114 | ТОВ227715 | ТОВ042940': '0.0113%',\n",
       " 'ТОВ228114 | ТОВ227715 | ТОВ230122': '0.0103%',\n",
       " 'ТОВ228114 | ТОВ227715 | ТОВ258133': '0.0123%',\n",
       " 'ТОВ228114 | ТОВ227715 | ТОВ178947': '0.0103%',\n",
       " 'ТОВ228114 | ТОВ227715 | ТОВ255036': '0.0390%',\n",
       " 'ТОВ228114 | ТОВ227715 | ТОВ231680': '0.0123%',\n",
       " 'ТОВ228114 | ТОВ227715 | ТОВ227717': '0.0574%',\n",
       " 'ТОВ228114 | ТОВ227715 | ТОВ103847': '0.0174%',\n",
       " 'ТОВ228114 | ТОВ227715 | ТОВ043107': '0.0133%',\n",
       " 'ТОВ228114 | ТОВ227715 | ТОВ247989': '0.0144%',\n",
       " 'ТОВ228114 | ТОВ227715 | ТОВ037482': '0.0144%',\n",
       " 'ТОВ228114 | ТОВ227715 | ТОВ052777': '0.0144%',\n",
       " 'ТОВ228114 | ТОВ227715 | ТОВ264386': '0.0123%',\n",
       " 'ТОВ228114 | ТОВ227715 | ТОВ098311': '0.0113%',\n",
       " 'ТОВ228114 | ТОВ227715 | ТОВ097249': '0.0215%',\n",
       " 'ТОВ228114 | ТОВ227715 | ТОВ128684': '0.0113%',\n",
       " 'ТОВ228114 | ТОВ227715 | ТОВ032043': '0.0174%',\n",
       " 'ТОВ228114 | ТОВ227715 | ТОВ177642': '0.0103%',\n",
       " 'ТОВ228114 | ТОВ227715 | ТОВ275778': '0.0113%',\n",
       " 'ТОВ228114 | ТОВ227715 | ТОВ249929': '0.0205%',\n",
       " 'ТОВ228114 | ТОВ227715 | ТОВ099791': '0.0103%',\n",
       " 'ТОВ228114 | ТОВ227715 | ТОВ287107': '0.0113%',\n",
       " 'ТОВ228114 | ТОВ227715 | ТОВ162247': '0.0103%',\n",
       " 'ТОВ228114 | ТОВ227715 | ТОВ278015': '0.0133%',\n",
       " 'ТОВ228114 | ТОВ227715 | ТОВ255197': '0.0103%',\n",
       " 'ТОВ228114 | ТОВ227715 | ТОВ129157': '0.0144%',\n",
       " 'ТОВ228114 | ТОВ252596 | ТОВ227717': '0.0103%',\n",
       " 'ТОВ228114 | ТОВ301624 | ТОВ029305': '0.0103%',\n",
       " 'ТОВ228114 | ТОВ301624 | ТОВ255036': '0.0174%',\n",
       " 'ТОВ228114 | ТОВ301624 | ТОВ227717': '0.0133%',\n",
       " 'ТОВ228114 | ТОВ301624 | ТОВ043107': '0.0103%',\n",
       " 'ТОВ228114 | ТОВ301624 | ТОВ037482': '0.0133%',\n",
       " 'ТОВ228114 | ТОВ301624 | ТОВ032043': '0.0174%',\n",
       " 'ТОВ228114 | ТОВ301624 | ТОВ129157': '0.0103%',\n",
       " 'ТОВ228114 | ТОВ283303 | ТОВ227717': '0.0113%',\n",
       " 'ТОВ228114 | ТОВ217019 | ТОВ255036': '0.0103%',\n",
       " 'ТОВ228114 | ТОВ217019 | ТОВ032043': '0.0103%',\n",
       " 'ТОВ228114 | ТОВ230700 | ТОВ255036': '0.0154%',\n",
       " 'ТОВ228114 | ТОВ230700 | ТОВ227717': '0.0154%',\n",
       " 'ТОВ228114 | ТОВ029305 | ТОВ255036': '0.0133%',\n",
       " 'ТОВ228114 | ТОВ249439 | ТОВ255036': '0.0144%',\n",
       " 'ТОВ228114 | ТОВ155841 | ТОВ255036': '0.0174%',\n",
       " 'ТОВ228114 | ТОВ155841 | ТОВ043107': '0.0123%',\n",
       " 'ТОВ228114 | ТОВ155841 | ТОВ098311': '0.0103%',\n",
       " 'ТОВ228114 | ТОВ155841 | ТОВ097249': '0.0123%',\n",
       " 'ТОВ228114 | ТОВ155841 | ТОВ032043': '0.0144%',\n",
       " 'ТОВ228114 | ТОВ042940 | ТОВ255036': '0.0123%',\n",
       " 'ТОВ228114 | ТОВ042940 | ТОВ227717': '0.0103%',\n",
       " 'ТОВ228114 | ТОВ237348 | ТОВ227717': '0.0113%',\n",
       " 'ТОВ228114 | ТОВ258133 | ТОВ227717': '0.0133%',\n",
       " 'ТОВ228114 | ТОВ030822 | ТОВ255036': '0.0103%',\n",
       " 'ТОВ228114 | ТОВ030822 | ТОВ043107': '0.0103%',\n",
       " 'ТОВ228114 | ТОВ178947 | ТОВ255036': '0.0123%',\n",
       " 'ТОВ228114 | ТОВ178947 | ТОВ032043': '0.0103%',\n",
       " 'ТОВ228114 | ТОВ255036 | ТОВ227717': '0.0267%',\n",
       " 'ТОВ228114 | ТОВ255036 | ТОВ103847': '0.0113%',\n",
       " 'ТОВ228114 | ТОВ255036 | ТОВ043107': '0.0236%',\n",
       " 'ТОВ228114 | ТОВ255036 | ТОВ247989': '0.0154%',\n",
       " 'ТОВ228114 | ТОВ255036 | ТОВ037482': '0.0133%',\n",
       " 'ТОВ228114 | ТОВ255036 | ТОВ097251': '0.0103%',\n",
       " 'ТОВ228114 | ТОВ255036 | ТОВ052777': '0.0144%',\n",
       " 'ТОВ228114 | ТОВ255036 | ТОВ264386': '0.0123%',\n",
       " 'ТОВ228114 | ТОВ255036 | ТОВ232962': '0.0103%',\n",
       " 'ТОВ228114 | ТОВ255036 | ТОВ177803': '0.0103%',\n",
       " 'ТОВ228114 | ТОВ255036 | ТОВ097249': '0.0123%',\n",
       " 'ТОВ228114 | ТОВ255036 | ТОВ128684': '0.0133%',\n",
       " 'ТОВ228114 | ТОВ255036 | ТОВ032043': '0.0256%',\n",
       " 'ТОВ228114 | ТОВ255036 | ТОВ278015': '0.0113%',\n",
       " 'ТОВ228114 | ТОВ255036 | ТОВ129157': '0.0133%',\n",
       " 'ТОВ228114 | ТОВ227717 | ТОВ108841': '0.0144%',\n",
       " 'ТОВ228114 | ТОВ227717 | ТОВ043107': '0.0154%',\n",
       " 'ТОВ228114 | ТОВ227717 | ТОВ247989': '0.0103%',\n",
       " 'ТОВ228114 | ТОВ227717 | ТОВ037482': '0.0144%',\n",
       " 'ТОВ228114 | ТОВ227717 | ТОВ097251': '0.0123%',\n",
       " 'ТОВ228114 | ТОВ227717 | ТОВ052777': '0.0103%',\n",
       " 'ТОВ228114 | ТОВ227717 | ТОВ153780': '0.0103%',\n",
       " 'ТОВ228114 | ТОВ227717 | ТОВ264386': '0.0103%',\n",
       " 'ТОВ228114 | ТОВ227717 | ТОВ232962': '0.0144%',\n",
       " 'ТОВ228114 | ТОВ227717 | ТОВ237675': '0.0174%',\n",
       " 'ТОВ228114 | ТОВ227717 | ТОВ177803': '0.0113%',\n",
       " 'ТОВ228114 | ТОВ227717 | ТОВ097249': '0.0174%',\n",
       " 'ТОВ228114 | ТОВ227717 | ТОВ032043': '0.0256%',\n",
       " 'ТОВ228114 | ТОВ227717 | ТОВ249929': '0.0164%',\n",
       " 'ТОВ228114 | ТОВ227717 | ТОВ129157': '0.0133%',\n",
       " 'ТОВ228114 | ТОВ108841 | ТОВ032043': '0.0113%',\n",
       " 'ТОВ228114 | ТОВ043107 | ТОВ052792': '0.0113%',\n",
       " 'ТОВ228114 | ТОВ043107 | ТОВ097249': '0.0133%',\n",
       " 'ТОВ228114 | ТОВ043107 | ТОВ177625': '0.0123%',\n",
       " 'ТОВ228114 | ТОВ043107 | ТОВ032043': '0.0123%',\n",
       " 'ТОВ228114 | ТОВ037482 | ТОВ032043': '0.0113%',\n",
       " 'ТОВ228114 | ТОВ037482 | ТОВ129157': '0.0103%',\n",
       " 'ТОВ228114 | ТОВ097251 | ТОВ097249': '0.0133%',\n",
       " 'ТОВ228114 | ТОВ097251 | ТОВ032043': '0.0113%',\n",
       " 'ТОВ228114 | ТОВ232962 | ТОВ032043': '0.0113%',\n",
       " 'ТОВ228114 | ТОВ097249 | ТОВ032043': '0.0174%',\n",
       " 'ТОВ228114 | ТОВ032043 | ТОВ129157': '0.0154%',\n",
       " 'ТОВ228114 | ТОВ171218 | ТОВ171243': '0.0103%',\n",
       " 'ТОВ279361 | ТОВ231586 | ТОВ219150': '0.0133%',\n",
       " 'ТОВ279361 | ТОВ231586 | ТОВ109423': '0.0144%',\n",
       " 'ТОВ279361 | ТОВ231586 | ТОВ206304': '0.0154%',\n",
       " 'ТОВ279361 | ТОВ231586 | ТОВ231590': '0.0369%',\n",
       " 'ТОВ279361 | ТОВ231586 | ТОВ231590 | ТОВ184253': '0.0144%',\n",
       " 'ТОВ279361 | ТОВ231586 | ТОВ284416': '0.0123%',\n",
       " 'ТОВ279361 | ТОВ231586 | ТОВ106930': '0.0205%',\n",
       " 'ТОВ279361 | ТОВ231586 | ТОВ259350': '0.0133%',\n",
       " 'ТОВ279361 | ТОВ231586 | ТОВ166306': '0.0174%',\n",
       " 'ТОВ279361 | ТОВ231586 | ТОВ130818': '0.0113%',\n",
       " 'ТОВ279361 | ТОВ231586 | ТОВ224035': '0.0144%',\n",
       " 'ТОВ279361 | ТОВ231586 | ТОВ248429': '0.0103%',\n",
       " 'ТОВ279361 | ТОВ231586 | ТОВ184253': '0.0533%',\n",
       " 'ТОВ279361 | ТОВ231586 | ТОВ184253 | ТОВ139528': '0.0164%',\n",
       " 'ТОВ279361 | ТОВ231586 | ТОВ184253 | ТОВ262977': '0.0113%',\n",
       " 'ТОВ279361 | ТОВ231586 | ТОВ184253 | ТОВ232715': '0.0195%',\n",
       " 'ТОВ279361 | ТОВ231586 | ТОВ184253 | ТОВ227714': '0.0103%',\n",
       " 'ТОВ279361 | ТОВ231586 | ТОВ263281': '0.0123%',\n",
       " 'ТОВ279361 | ТОВ231586 | ТОВ139528': '0.0297%',\n",
       " 'ТОВ279361 | ТОВ231586 | ТОВ139528 | ТОВ232715': '0.0113%',\n",
       " 'ТОВ279361 | ТОВ231586 | ТОВ262977': '0.0205%',\n",
       " 'ТОВ279361 | ТОВ231586 | ТОВ232715': '0.0554%',\n",
       " 'ТОВ279361 | ТОВ231586 | ТОВ232715 | ТОВ053041': '0.0113%',\n",
       " 'ТОВ279361 | ТОВ231586 | ТОВ279046': '0.0113%',\n",
       " 'ТОВ279361 | ТОВ231586 | ТОВ230418': '0.0133%',\n",
       " 'ТОВ279361 | ТОВ231586 | ТОВ053041': '0.0195%',\n",
       " 'ТОВ279361 | ТОВ231586 | ТОВ231691': '0.0113%',\n",
       " 'ТОВ279361 | ТОВ231586 | ТОВ042704': '0.0164%',\n",
       " 'ТОВ279361 | ТОВ231586 | ТОВ231690': '0.0133%',\n",
       " 'ТОВ279361 | ТОВ231586 | ТОВ236590': '0.0113%',\n",
       " 'ТОВ279361 | ТОВ231586 | ТОВ283493': '0.0246%',\n",
       " 'ТОВ279361 | ТОВ231586 | ТОВ223460': '0.0113%',\n",
       " 'ТОВ279361 | ТОВ231586 | ТОВ165736': '0.0113%',\n",
       " 'ТОВ279361 | ТОВ231586 | ТОВ042547': '0.0205%',\n",
       " 'ТОВ279361 | ТОВ231586 | ТОВ224175': '0.0113%',\n",
       " 'ТОВ279361 | ТОВ231586 | ТОВ222081': '0.0113%',\n",
       " 'ТОВ279361 | ТОВ231586 | ТОВ227714': '0.0267%',\n",
       " 'ТОВ279361 | ТОВ231586 | ТОВ227715': '0.0123%',\n",
       " 'ТОВ279361 | ТОВ231586 | ТОВ118223': '0.0113%',\n",
       " 'ТОВ279361 | ТОВ231586 | ТОВ101971': '0.0103%',\n",
       " 'ТОВ279361 | ТОВ231586 | ТОВ283303': '0.0154%',\n",
       " 'ТОВ279361 | ТОВ231586 | ТОВ230700': '0.0113%',\n",
       " 'ТОВ279361 | ТОВ231586 | ТОВ155841': '0.0103%',\n",
       " 'ТОВ279361 | ТОВ231586 | ТОВ230168': '0.0123%',\n",
       " 'ТОВ279361 | ТОВ231586 | ТОВ042940': '0.0133%',\n",
       " 'ТОВ279361 | ТОВ231586 | ТОВ237349': '0.0123%',\n",
       " 'ТОВ279361 | ТОВ231586 | ТОВ178947': '0.0174%',\n",
       " 'ТОВ279361 | ТОВ231586 | ТОВ255036': '0.0226%',\n",
       " 'ТОВ279361 | ТОВ231586 | ТОВ227717': '0.0103%',\n",
       " 'ТОВ279361 | ТОВ231586 | ТОВ043107': '0.0185%',\n",
       " 'ТОВ279361 | ТОВ231586 | ТОВ282911': '0.0205%',\n",
       " 'ТОВ279361 | ТОВ231586 | ТОВ247989': '0.0195%',\n",
       " 'ТОВ279361 | ТОВ231586 | ТОВ232962': '0.0113%',\n",
       " 'ТОВ279361 | ТОВ231586 | ТОВ000643': '0.0113%',\n",
       " 'ТОВ279361 | ТОВ231586 | ТОВ032043': '0.0123%',\n",
       " 'ТОВ279361 | ТОВ231586 | ТОВ287107': '0.0103%',\n",
       " 'ТОВ279361 | ТОВ219150 | ТОВ245168': '0.0113%',\n",
       " 'ТОВ279361 | ТОВ219150 | ТОВ166306': '0.0103%',\n",
       " 'ТОВ279361 | ТОВ109423 | ТОВ166306': '0.0103%',\n",
       " 'ТОВ279361 | ТОВ109423 | ТОВ184253': '0.0236%',\n",
       " 'ТОВ279361 | ТОВ109423 | ТОВ139528': '0.0154%',\n",
       " 'ТОВ279361 | ТОВ109423 | ТОВ232715': '0.0174%',\n",
       " 'ТОВ279361 | ТОВ109423 | ТОВ053041': '0.0144%',\n",
       " 'ТОВ279361 | ТОВ109423 | ТОВ283493': '0.0103%',\n",
       " 'ТОВ279361 | ТОВ109423 | ТОВ042547': '0.0144%',\n",
       " 'ТОВ279361 | ТОВ109423 | ТОВ227714': '0.0205%',\n",
       " 'ТОВ279361 | ТОВ109423 | ТОВ227714 | ТОВ227716': '0.0133%',\n",
       " 'ТОВ279361 | ТОВ109423 | ТОВ227715': '0.0144%',\n",
       " 'ТОВ279361 | ТОВ109423 | ТОВ301624': '0.0103%',\n",
       " 'ТОВ279361 | ТОВ109423 | ТОВ258133': '0.0123%',\n",
       " 'ТОВ279361 | ТОВ109423 | ТОВ255036': '0.0164%',\n",
       " 'ТОВ279361 | ТОВ109423 | ТОВ227717': '0.0133%',\n",
       " 'ТОВ279361 | ТОВ109423 | ТОВ227716': '0.0144%',\n",
       " 'ТОВ279361 | ТОВ109423 | ТОВ032043': '0.0123%',\n",
       " 'ТОВ279361 | ТОВ033048 | ТОВ184253': '0.0267%',\n",
       " 'ТОВ279361 | ТОВ033048 | ТОВ139528': '0.0144%',\n",
       " 'ТОВ279361 | ТОВ033048 | ТОВ262977': '0.0154%',\n",
       " 'ТОВ279361 | ТОВ033048 | ТОВ232715': '0.0123%',\n",
       " 'ТОВ279361 | ТОВ033048 | ТОВ283493': '0.0113%',\n",
       " 'ТОВ279361 | ТОВ033048 | ТОВ227714': '0.0174%',\n",
       " 'ТОВ279361 | ТОВ033048 | ТОВ227714 | ТОВ227716': '0.0103%',\n",
       " 'ТОВ279361 | ТОВ033048 | ТОВ255036': '0.0154%',\n",
       " 'ТОВ279361 | ТОВ033048 | ТОВ227717': '0.0123%',\n",
       " 'ТОВ279361 | ТОВ033048 | ТОВ227716': '0.0123%',\n",
       " 'ТОВ279361 | ТОВ033048 | ТОВ043107': '0.0113%',\n",
       " 'ТОВ279361 | ТОВ033048 | ТОВ032043': '0.0133%',\n",
       " 'ТОВ279361 | ТОВ033048 | ТОВ129157': '0.0103%',\n",
       " 'ТОВ279361 | ТОВ206304 | ТОВ184253': '0.0174%',\n",
       " 'ТОВ279361 | ТОВ206304 | ТОВ139528': '0.0113%',\n",
       " 'ТОВ279361 | ТОВ206304 | ТОВ232298': '0.0103%',\n",
       " 'ТОВ279361 | ТОВ206304 | ТОВ262977': '0.0123%',\n",
       " 'ТОВ279361 | ТОВ206304 | ТОВ232715': '0.0267%',\n",
       " 'ТОВ279361 | ТОВ206304 | ТОВ227714': '0.0113%',\n",
       " 'ТОВ279361 | ТОВ284497 | ТОВ232715': '0.0185%',\n",
       " 'ТОВ279361 | ТОВ001465 | ТОВ184253': '0.0144%',\n",
       " 'ТОВ279361 | ТОВ001465 | ТОВ232715': '0.0133%',\n",
       " 'ТОВ279361 | ТОВ001465 | ТОВ227714': '0.0103%',\n",
       " 'ТОВ279361 | ТОВ215649 | ТОВ106930': '0.0103%',\n",
       " 'ТОВ279361 | ТОВ215649 | ТОВ139528': '0.0113%',\n",
       " 'ТОВ279361 | ТОВ215649 | ТОВ232715': '0.0195%',\n",
       " 'ТОВ279361 | ТОВ277638 | ТОВ232715': '0.0103%',\n",
       " 'ТОВ279361 | ТОВ231590 | ТОВ106930': '0.0103%',\n",
       " 'ТОВ279361 | ТОВ231590 | ТОВ166306': '0.0123%',\n",
       " 'ТОВ279361 | ТОВ231590 | ТОВ184253': '0.0338%',\n",
       " 'ТОВ279361 | ТОВ231590 | ТОВ184253 | ТОВ139528': '0.0123%',\n",
       " 'ТОВ279361 | ТОВ231590 | ТОВ184253 | ТОВ232715': '0.0123%',\n",
       " 'ТОВ279361 | ТОВ231590 | ТОВ139528': '0.0195%',\n",
       " 'ТОВ279361 | ТОВ231590 | ТОВ232715': '0.0277%',\n",
       " 'ТОВ279361 | ТОВ231590 | ТОВ042704': '0.0103%',\n",
       " 'ТОВ279361 | ТОВ231590 | ТОВ283493': '0.0164%',\n",
       " 'ТОВ279361 | ТОВ231590 | ТОВ042547': '0.0133%',\n",
       " 'ТОВ279361 | ТОВ231590 | ТОВ235739': '0.0113%',\n",
       " 'ТОВ279361 | ТОВ231590 | ТОВ227714': '0.0195%',\n",
       " 'ТОВ279361 | ТОВ231590 | ТОВ227715': '0.0123%',\n",
       " 'ТОВ279361 | ТОВ231590 | ТОВ301624': '0.0103%',\n",
       " 'ТОВ279361 | ТОВ231590 | ТОВ283303': '0.0103%',\n",
       " 'ТОВ279361 | ТОВ231590 | ТОВ230168': '0.0103%',\n",
       " 'ТОВ279361 | ТОВ231590 | ТОВ178947': '0.0103%',\n",
       " 'ТОВ279361 | ТОВ231590 | ТОВ255036': '0.0164%',\n",
       " 'ТОВ279361 | ТОВ231590 | ТОВ227717': '0.0133%',\n",
       " 'ТОВ279361 | ТОВ231590 | ТОВ282911': '0.0113%',\n",
       " 'ТОВ279361 | ТОВ284416 | ТОВ259350': '0.0103%',\n",
       " 'ТОВ279361 | ТОВ284416 | ТОВ184253': '0.0226%',\n",
       " 'ТОВ279361 | ТОВ284416 | ТОВ232715': '0.0226%',\n",
       " 'ТОВ279361 | ТОВ224330 | ТОВ184253': '0.0123%',\n",
       " 'ТОВ279361 | ТОВ298806 | ТОВ232715': '0.0103%',\n",
       " 'ТОВ279361 | ТОВ120235 | ТОВ184253': '0.0123%',\n",
       " 'ТОВ279361 | ТОВ193295 | ТОВ184253': '0.0113%',\n",
       " ...}"
      ]
     },
     "execution_count": 13,
     "metadata": {},
     "output_type": "execute_result"
    }
   ],
   "source": [
    "d"
   ]
  },
  {
   "cell_type": "markdown",
   "metadata": {},
   "source": [
    "На обычном компьютере решение этой задачки заняло по сути ночь. На cloud-платформах было бы быстрее:) Но, главное, клиент доволен."
   ]
  },
  {
   "cell_type": "markdown",
   "metadata": {},
   "source": [
    "Как видно, реализовать алгоритм своими силами довольно просто, хотя с эффективностью стоит поработать:)"
   ]
  },
  {
   "cell_type": "markdown",
   "metadata": {},
   "source": [
    "#### Реализация в R"
   ]
  },
  {
   "cell_type": "markdown",
   "metadata": {
    "collapsed": true
   },
   "source": [
    "И вновь пользователи R ликуют, для них никаких танцев с бубном делать не надо, все по аналогии с apriori. "
   ]
  },
  {
   "cell_type": "markdown",
   "metadata": {
    "collapsed": true
   },
   "source": [
    "Запускаем библиотеку и читаем данные:\n",
    "\n",
    "$library(arules)$\n",
    "<br>\n",
    "$dataset = read.csv('Market_Basket_Optimisation.csv')$\n",
    "<br>\n",
    "$dataset = read.transactions('Market_Basket_Optimisation.csv', sep = ',', rm.duplicates = TRUE)$\n"
   ]
  },
  {
   "cell_type": "markdown",
   "metadata": {},
   "source": [
    "Быстрый взгляд на датасет:\n",
    "<br>\n",
    "$summary(dataset)$\n",
    "<br>\n",
    "$itemFrequencyPlot(dataset, topN = 10)$"
   ]
  },
  {
   "cell_type": "markdown",
   "metadata": {},
   "source": [
    "Правила:\n",
    "<br>\n",
    "$rules = eclat(data = dataset, parameter = list(support = 0.003, minlen = 2))$ \n",
    "<br>\n",
    "Обратите внимание, настраиваем толкьо support и минимальную длину (k в k-itemset)"
   ]
  },
  {
   "cell_type": "markdown",
   "metadata": {},
   "source": [
    "И смотрим на результаты:\n",
    "<br>\n",
    "$inspect(sort(rules, by = 'support')[1:10])$"
   ]
  },
  {
   "cell_type": "markdown",
   "metadata": {},
   "source": [
    "### FP-Growth Algorithm"
   ]
  },
  {
   "cell_type": "markdown",
   "metadata": {},
   "source": [
    "#### Теория"
   ]
  },
  {
   "cell_type": "markdown",
   "metadata": {
    "collapsed": true
   },
   "source": [
    "FP-Growth (Frequent Pattern Growth) алгоритм самый молодой из нашей троицы, впервые он описан в 2000 году в [7].\n",
    "FP-Growth предлагает радикальную вещь - отказаться от генерации **кандидатов** (напомним, генерация кандидатов лежит в основе Apriori и ECLAT). Теоретчиески, такой подход позволит еще больше увеличить скорость алгоритма и использовать еще меньше памяти."
   ]
  },
  {
   "cell_type": "markdown",
   "metadata": {
    "collapsed": true
   },
   "source": [
    "Это достигается за счет хранения в памяти префиксного дерева (trie) не из комбинаций кандидатов, а из самих транзакций. \n",
    "При этом FP-Growth генерирует таблицу заголовков для каждого item, чей $supp$ выше заданного пользователем. Эта таблица заголовков хранит связанный список всех однотипных узлов префиксного дерева. Таким образом, алгоритм сочетает в себе плюсы **BFS** за счет таблицы заголовков и **DFS** за счет построения trie. Псевдокод алгоритма схож с ECALT, за некоторыми исключениями."
   ]
  },
  {
   "cell_type": "markdown",
   "metadata": {},
   "source": [
    "**ВХОД**: Датасет $D$, содержащий список транзакций, $\\sigma$ - задаваемый пользователем порог $supp$ и префикс $I \\subseteq J$"
   ]
  },
  {
   "cell_type": "markdown",
   "metadata": {},
   "source": [
    "**ВЫХОД**: Список itemsets $F[I](D, \\sigma)$ для соответсвующего префикса $I$"
   ]
  },
  {
   "cell_type": "markdown",
   "metadata": {},
   "source": [
    "**ПОДХОД:**"
   ]
  },
  {
   "cell_type": "markdown",
   "metadata": {},
   "source": [
    "1. $F[i] \\leftarrow$ {}\n",
    "<br>\n",
    "2. **for** all $i \\in J$ in $D$ **do**:\n",
    "<br>\n",
    "$F[I] := F[I] \\cup$ {I $\\cup$ {i}} \n",
    "<br>\n",
    "3. #Создаем $D_i$\n",
    "<br>\n",
    "$D_i \\leftarrow$ {}\n",
    "<br> \n",
    "**$H_i \\leftarrow$ {}**\n",
    "<br>\n",
    "**for** all $j \\in J$ in $D$ таких, что $j > i$ **do:**\n",
    "<br>\n",
    "**if** $supp$ ($I \\cup$ {$i$,$j$}) $\\geq \\sigma$ **then**:\n",
    "<br>\n",
    "$H \\leftarrow H \\cup$ {$j$}\n",
    "<br>\n",
    "**for** all $(tid, X) \\in D$ при $I \\in X$ **do**:\n",
    "<br>\n",
    "$D_i \\leftarrow D_i \\cup$ ({$tid,X \\cap H$})\n",
    "<br>\n",
    "4. #DFS - рекурсия:\n",
    "<br>\n",
    "Считаем $F|I \\cup$ {$i$}| $(D_i, \\sigma)$\n",
    "<br>\n",
    "$F[I] \\leftarrow F[I] \\cup F[I \\cup i]$\n"
   ]
  },
  {
   "cell_type": "markdown",
   "metadata": {},
   "source": [
    "#### Реализация в Python"
   ]
  },
  {
   "cell_type": "markdown",
   "metadata": {},
   "source": [
    "Реализации FP-Growth в Питоне повезло не больше, чем другим ALR-алгоритмам. Стандартных библиотек под него нет."
   ]
  },
  {
   "cell_type": "markdown",
   "metadata": {},
   "source": [
    "Неплохо FP_Growth представлен в pyspark, смотреть [тут](http://spark.apache.org/docs/2.2.0/mllib-frequent-pattern-mining.html)"
   ]
  },
  {
   "cell_type": "markdown",
   "metadata": {},
   "source": [
    "На gitHub тоже можно найти несколкьо решений эпохи неолита, например [тут](https://github.com/enaeseth/python-fp-growth) и [тут](https://github.com/evandempsey/fp-growth)"
   ]
  },
  {
   "cell_type": "markdown",
   "metadata": {},
   "source": [
    "Потестим второй вариант"
   ]
  },
  {
   "cell_type": "code",
   "execution_count": 32,
   "metadata": {
    "collapsed": true
   },
   "outputs": [],
   "source": [
    "#!pip install pyfpgrowth - установка"
   ]
  },
  {
   "cell_type": "code",
   "execution_count": 33,
   "metadata": {
    "collapsed": true
   },
   "outputs": [],
   "source": [
    "import pyfpgrowth"
   ]
  },
  {
   "cell_type": "code",
   "execution_count": 34,
   "metadata": {},
   "outputs": [
    {
     "name": "stdout",
     "output_type": "stream",
     "text": [
      "Wall time: 1min 38s\n"
     ]
    }
   ],
   "source": [
    "#Сгенериуем паттерны\n",
    "patterns = pyfpgrowth.find_frequent_patterns(transactions, 2)"
   ]
  },
  {
   "cell_type": "code",
   "execution_count": null,
   "metadata": {
    "collapsed": true
   },
   "outputs": [],
   "source": [
    "#Выучим правила\n",
    "rules = pyfpgrowth.generate_association_rules(patterns, 30);"
   ]
  },
  {
   "cell_type": "code",
   "execution_count": null,
   "metadata": {
    "collapsed": true
   },
   "outputs": [],
   "source": [
    "#Покажем\n",
    "rules;"
   ]
  },
  {
   "cell_type": "markdown",
   "metadata": {},
   "source": [
    "#### Реализация в R"
   ]
  },
  {
   "cell_type": "markdown",
   "metadata": {},
   "source": [
    "В данном случае R не отстает от Питона: в такой удобной и родной arules библиотеке FP-Growth отсутствует. "
   ]
  },
  {
   "cell_type": "markdown",
   "metadata": {
    "collapsed": true
   },
   "source": [
    "В то же время, как и для Питона, реализация сущетсвует в Spark - [Ссылка](https://spark.apache.org/docs/2.2.0/api/R/spark.fpGrowth.html)"
   ]
  },
  {
   "cell_type": "markdown",
   "metadata": {},
   "source": [
    "## А на самом деле..."
   ]
  },
  {
   "cell_type": "markdown",
   "metadata": {},
   "source": [
    "А на самом деле, если вам захочется применять ARL в ваших бизнес задачах, мы настоятельно рекомендуем учить **Java**."
   ]
  },
  {
   "cell_type": "markdown",
   "metadata": {},
   "source": [
    "**Weka** (Waikato Environment for Knowledge Analysis). Это бесплатное ПО для Машинного Обучения, написанное на языке Java. Разаботано в Университете Waikato в Новой Зеландии в 1993. В Weka есть как GUI, так и возможность работы из командной строки. Из преимуществ можно назвать простоту в использовании графического интерфейса - нет необходимости писать код для решения прикладных задач. Для использования библиотек Weka в Python можно установить оболочку для Weka в Python: python-weka-wrapper3. Оболочка исползует пакет javabridge для доступа к API Weka. Детальные инструкции по установке можно найти [здесь](http://fracpete.github.io/python-weka-wrapper3/install.html)."
   ]
  },
  {
   "cell_type": "markdown",
   "metadata": {},
   "source": [
    "**SPMF** Это библиотека для интеллектуального анализа данных с открытым исходным кодом, написанная на Java, специализирующаяся на поиске паттернов в данных ([ссылка](http://www.philippe-fournier-viger.com/spmf/)). Заявляется, что в SPMF реализовано более 55 алгоритмов для майнинга данных. К сожалению, официальной оболочки SPMF для Python нет (по крайней мере на дату написания данной статьи:) )"
   ]
  },
  {
   "cell_type": "markdown",
   "metadata": {},
   "source": [
    "## Заключение"
   ]
  },
  {
   "cell_type": "markdown",
   "metadata": {},
   "source": [
    "В заключении давайте эмпирически сравним **эффективность** метрикой *runtime* в зависимости от плотности датасета и длин транзакций датасета[9]. "
   ]
  },
  {
   "cell_type": "markdown",
   "metadata": {},
   "source": [
    "Под *плотностью* датасета подразумеваестя отношение транзакций, содержащих в себе частые items к общему количеству транзакций."
   ]
  },
  {
   "cell_type": "markdown",
   "metadata": {},
   "source": [
    "<img src=\"img/density.PNG\">"
   ]
  },
  {
   "cell_type": "markdown",
   "metadata": {},
   "source": [
    "Из графика очевидно, что эффективность (чем меньше runtime, тем эффективнее) Apriori-алгоритма падает при увеличении плотности датасета."
   ]
  },
  {
   "cell_type": "markdown",
   "metadata": {},
   "source": [
    "Под *длинной транзакции* понимается количество в items в itemset"
   ]
  },
  {
   "cell_type": "markdown",
   "metadata": {},
   "source": [
    "<img src=\"img/size.PNG\">"
   ]
  },
  {
   "cell_type": "markdown",
   "metadata": {},
   "source": [
    "Очевидно, что при увеличении длины транзакции Apriori также справляется гораздо хуже."
   ]
  },
  {
   "cell_type": "markdown",
   "metadata": {},
   "source": [
    "### Итоги"
   ]
  },
  {
   "cell_type": "markdown",
   "metadata": {
    "collapsed": true
   },
   "source": [
    "Итак, мы познакомились с базовой теорией ARL (\"кто купил х, также купил y\") и основными понятиями и метриками (support, confidence, lift и conviction)."
   ]
  },
  {
   "cell_type": "markdown",
   "metadata": {
    "collapsed": true
   },
   "source": [
    "Посмотрели 3 самых популярных алгоритма (Apriori, ECLAT, FP-Growth), позавидовали пользователям R и библиотеки arules, попробовали сами реализовать ECALT."
   ]
  },
  {
   "cell_type": "markdown",
   "metadata": {},
   "source": [
    "Основные моменты:\n",
    "1. ARL лежат в основе рекомендательных систем\n",
    "2. ARL широко применимы - от традиционного ритейла и онлайн ритейла (от Ozon до Steam), обычных закупок ТМЦ до банков и телекома (подключаемые сервисы и услуги)\n",
    "3. ARL относительно легко использовать, существуют реализации разного уровня проработки для разных задач.\n",
    "4. ARL хорошо интепретируются и не требуют специальных навыков\n",
    "5. При этом алгоритмы, особенно классические, нельзя назвать супер-эффективными. Если работать с ними из коробки на больших датасетах, может понадобиться большая вычислительная мощность. Но ничто не мешает нам их допиливать, правда?:)"
   ]
  },
  {
   "cell_type": "markdown",
   "metadata": {},
   "source": [
    "Помимо рассмотренных бызовых алгоритмов существет модификации и ответвления:\n",
    "\n",
    "Алгоритм **CHARM** для поиска ***замкнутых*** itemsets. Этот алгоритм отлично снижает сложность поиска правил с экспоненциальной (т.е. возрастающей при увеличении датасета, например) до полиномиальной. Под замкнутым itemset понимается такой itemset, для которого не существует суперсета (т.е. сета, включающего наш itemset + другие items) с такой же частотностью (=support). \n",
    "\n",
    "Тут стоит немного пояснить - до сего момента мы рассматривали просто частые (frequent) itemsets. Существует также понятие ***замкнутых*** (см. выше) и ***максимальных***. Максимальный itemset - это такой itemset, для которого не существует частого (=frequent) суперсета.\n",
    "\n",
    "Отношения между этими тремя видами itemsets представлено на картинке ниже"
   ]
  },
  {
   "cell_type": "markdown",
   "metadata": {},
   "source": [
    "<img src=\"img/sets.gif\">"
   ]
  },
  {
   "cell_type": "markdown",
   "metadata": {},
   "source": [
    "**AprioriDP** (Deep Programming) - позволяет хранить $supp$ в специальной структруе данных, работает немного быстрее классичсекого Apriori\n",
    "\n",
    "**FP Bonsai** - улучшенный FP-Growth с обрезкой префиксного дерева (пример алгоритма с ***ограничениями***)\n",
    "\n",
    "Серия **Multi-Relations** алгоритмов, которые определают несколько связей в itemsets.\n",
    "и другие"
   ]
  },
  {
   "cell_type": "markdown",
   "metadata": {},
   "source": [
    "В заключении не можем не упомянуть о сумрачном гении ARL докторе Кристиане Боргельте из Университета Констанца (http://www.borgelt.net/software.html).\n",
    "Кристиан реализовывал упомянутые нами алгоритмы на С, Python, Java и R. Ну или почти все. Существует даже GUI за его авторством, где в пару кликов можно загрузить датасет, выбрать нужный алгоритм и найти правила. Это при условии, что оно у вас заработает:)\n",
    "Для простых же задач достаточно и того, что мы рассмотрели в этой статье. А если недостаточно - призываем писать реализацию самим! "
   ]
  },
  {
   "cell_type": "markdown",
   "metadata": {},
   "source": [
    "**Использованная литература:**\n",
    "<br>\n",
    "[1] Discovery, analysis and presentation of strong rules. G. Piatetsky-Shapiro. Knowledge Discovery in Databases, AAAI Press, (1991)\n",
    "<br>\n",
    "[2] Mining Association Rules between Sets of Items in Large Databases http://arbor.ee.ntu.edu.tw/~chyun/dmpaper/agrama93.pdf\n",
    "<br>\n",
    "[3] Fast Algorithms for Mining Association Rules http://www.vldb.org/conf/1994/P487.PDF\n",
    "<br>\n",
    "[4] Ask Dan! http://www.dssresources.com/newsletters/66.php\n",
    "<br>\n",
    "[5] Introduction to arul)es – A computational environment for mining association rules and frequent item sets http://www.lsi.upc.edu/~belanche/Docencia/mineria/Practiques/R/arules.pdf\n",
    "<br>\n",
    "[6] Публикации Д-ра Боргельта - http://www.borgelt.net/publications.html\n",
    "<br>\n",
    "[7] J. Han, J. Pei, and Y. Yin, “Mining frequent patterns without candidate generation,” in ACM SIGMOD Record, vol. 29, no. 2. ACM, 2000, pp. 1–12.\n",
    "<br>\n",
    "[8] Shimon, Sh. Improving Data mining algorithms using constraints. The Open University of Israel, 2012.\n",
    "<br>\n",
    "[9] Jeff Heaton. Comparing Dataset Characteristics that Favor the Apriori, Eclat or FP-Growth Frequent Itemset Mining Algorithms (https://arxiv.org/pdf/1701.09042.pdf)\n"
   ]
  }
 ],
 "metadata": {
  "kernelspec": {
   "display_name": "Python 3",
   "language": "python",
   "name": "python3"
  },
  "language_info": {
   "codemirror_mode": {
    "name": "ipython",
    "version": 3
   },
   "file_extension": ".py",
   "mimetype": "text/x-python",
   "name": "python",
   "nbconvert_exporter": "python",
   "pygments_lexer": "ipython3",
   "version": "3.6.3"
  }
 },
 "nbformat": 4,
 "nbformat_minor": 2
}
