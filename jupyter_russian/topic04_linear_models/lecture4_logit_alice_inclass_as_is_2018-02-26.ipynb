{
 "cells": [
  {
   "cell_type": "code",
   "execution_count": 1,
   "metadata": {},
   "outputs": [],
   "source": [
    "import pandas as pd"
   ]
  },
  {
   "cell_type": "code",
   "execution_count": 6,
   "metadata": {},
   "outputs": [],
   "source": [
    "train_df = pd.read_csv('../../data/train_sessions.csv')"
   ]
  },
  {
   "cell_type": "code",
   "execution_count": 7,
   "metadata": {},
   "outputs": [],
   "source": [
    "test_df = pd.read_csv('../../data/test_sessions.csv')"
   ]
  },
  {
   "cell_type": "code",
   "execution_count": 8,
   "metadata": {},
   "outputs": [
    {
     "data": {
      "text/plain": [
       "(253561, 22)"
      ]
     },
     "execution_count": 8,
     "metadata": {},
     "output_type": "execute_result"
    }
   ],
   "source": [
    "train_df.shape"
   ]
  },
  {
   "cell_type": "code",
   "execution_count": 9,
   "metadata": {},
   "outputs": [
    {
     "data": {
      "text/html": [
       "<div>\n",
       "<style scoped>\n",
       "    .dataframe tbody tr th:only-of-type {\n",
       "        vertical-align: middle;\n",
       "    }\n",
       "\n",
       "    .dataframe tbody tr th {\n",
       "        vertical-align: top;\n",
       "    }\n",
       "\n",
       "    .dataframe thead th {\n",
       "        text-align: right;\n",
       "    }\n",
       "</style>\n",
       "<table border=\"1\" class=\"dataframe\">\n",
       "  <thead>\n",
       "    <tr style=\"text-align: right;\">\n",
       "      <th></th>\n",
       "      <th>session_id</th>\n",
       "      <th>site1</th>\n",
       "      <th>time1</th>\n",
       "      <th>site2</th>\n",
       "      <th>time2</th>\n",
       "      <th>site3</th>\n",
       "      <th>time3</th>\n",
       "      <th>site4</th>\n",
       "      <th>time4</th>\n",
       "      <th>site5</th>\n",
       "      <th>...</th>\n",
       "      <th>time6</th>\n",
       "      <th>site7</th>\n",
       "      <th>time7</th>\n",
       "      <th>site8</th>\n",
       "      <th>time8</th>\n",
       "      <th>site9</th>\n",
       "      <th>time9</th>\n",
       "      <th>site10</th>\n",
       "      <th>time10</th>\n",
       "      <th>target</th>\n",
       "    </tr>\n",
       "  </thead>\n",
       "  <tbody>\n",
       "    <tr>\n",
       "      <th>0</th>\n",
       "      <td>1</td>\n",
       "      <td>718</td>\n",
       "      <td>2014-02-20 10:02:45</td>\n",
       "      <td>NaN</td>\n",
       "      <td>NaN</td>\n",
       "      <td>NaN</td>\n",
       "      <td>NaN</td>\n",
       "      <td>NaN</td>\n",
       "      <td>NaN</td>\n",
       "      <td>NaN</td>\n",
       "      <td>...</td>\n",
       "      <td>NaN</td>\n",
       "      <td>NaN</td>\n",
       "      <td>NaN</td>\n",
       "      <td>NaN</td>\n",
       "      <td>NaN</td>\n",
       "      <td>NaN</td>\n",
       "      <td>NaN</td>\n",
       "      <td>NaN</td>\n",
       "      <td>NaN</td>\n",
       "      <td>0</td>\n",
       "    </tr>\n",
       "    <tr>\n",
       "      <th>1</th>\n",
       "      <td>2</td>\n",
       "      <td>890</td>\n",
       "      <td>2014-02-22 11:19:50</td>\n",
       "      <td>941.0</td>\n",
       "      <td>2014-02-22 11:19:50</td>\n",
       "      <td>3847.0</td>\n",
       "      <td>2014-02-22 11:19:51</td>\n",
       "      <td>941.0</td>\n",
       "      <td>2014-02-22 11:19:51</td>\n",
       "      <td>942.0</td>\n",
       "      <td>...</td>\n",
       "      <td>2014-02-22 11:19:51</td>\n",
       "      <td>3847.0</td>\n",
       "      <td>2014-02-22 11:19:52</td>\n",
       "      <td>3846.0</td>\n",
       "      <td>2014-02-22 11:19:52</td>\n",
       "      <td>1516.0</td>\n",
       "      <td>2014-02-22 11:20:15</td>\n",
       "      <td>1518.0</td>\n",
       "      <td>2014-02-22 11:20:16</td>\n",
       "      <td>0</td>\n",
       "    </tr>\n",
       "    <tr>\n",
       "      <th>2</th>\n",
       "      <td>3</td>\n",
       "      <td>14769</td>\n",
       "      <td>2013-12-16 16:40:17</td>\n",
       "      <td>39.0</td>\n",
       "      <td>2013-12-16 16:40:18</td>\n",
       "      <td>14768.0</td>\n",
       "      <td>2013-12-16 16:40:19</td>\n",
       "      <td>14769.0</td>\n",
       "      <td>2013-12-16 16:40:19</td>\n",
       "      <td>37.0</td>\n",
       "      <td>...</td>\n",
       "      <td>2013-12-16 16:40:19</td>\n",
       "      <td>14768.0</td>\n",
       "      <td>2013-12-16 16:40:20</td>\n",
       "      <td>14768.0</td>\n",
       "      <td>2013-12-16 16:40:21</td>\n",
       "      <td>14768.0</td>\n",
       "      <td>2013-12-16 16:40:22</td>\n",
       "      <td>14768.0</td>\n",
       "      <td>2013-12-16 16:40:24</td>\n",
       "      <td>0</td>\n",
       "    </tr>\n",
       "    <tr>\n",
       "      <th>3</th>\n",
       "      <td>4</td>\n",
       "      <td>782</td>\n",
       "      <td>2014-03-28 10:52:12</td>\n",
       "      <td>782.0</td>\n",
       "      <td>2014-03-28 10:52:42</td>\n",
       "      <td>782.0</td>\n",
       "      <td>2014-03-28 10:53:12</td>\n",
       "      <td>782.0</td>\n",
       "      <td>2014-03-28 10:53:42</td>\n",
       "      <td>782.0</td>\n",
       "      <td>...</td>\n",
       "      <td>2014-03-28 10:54:42</td>\n",
       "      <td>782.0</td>\n",
       "      <td>2014-03-28 10:55:12</td>\n",
       "      <td>782.0</td>\n",
       "      <td>2014-03-28 10:55:42</td>\n",
       "      <td>782.0</td>\n",
       "      <td>2014-03-28 10:56:12</td>\n",
       "      <td>782.0</td>\n",
       "      <td>2014-03-28 10:56:42</td>\n",
       "      <td>0</td>\n",
       "    </tr>\n",
       "    <tr>\n",
       "      <th>4</th>\n",
       "      <td>5</td>\n",
       "      <td>22</td>\n",
       "      <td>2014-02-28 10:53:05</td>\n",
       "      <td>177.0</td>\n",
       "      <td>2014-02-28 10:55:22</td>\n",
       "      <td>175.0</td>\n",
       "      <td>2014-02-28 10:55:22</td>\n",
       "      <td>178.0</td>\n",
       "      <td>2014-02-28 10:55:23</td>\n",
       "      <td>177.0</td>\n",
       "      <td>...</td>\n",
       "      <td>2014-02-28 10:55:59</td>\n",
       "      <td>175.0</td>\n",
       "      <td>2014-02-28 10:55:59</td>\n",
       "      <td>177.0</td>\n",
       "      <td>2014-02-28 10:55:59</td>\n",
       "      <td>177.0</td>\n",
       "      <td>2014-02-28 10:57:06</td>\n",
       "      <td>178.0</td>\n",
       "      <td>2014-02-28 10:57:11</td>\n",
       "      <td>0</td>\n",
       "    </tr>\n",
       "  </tbody>\n",
       "</table>\n",
       "<p>5 rows × 22 columns</p>\n",
       "</div>"
      ],
      "text/plain": [
       "   session_id  site1                time1  site2                time2  \\\n",
       "0           1    718  2014-02-20 10:02:45    NaN                  NaN   \n",
       "1           2    890  2014-02-22 11:19:50  941.0  2014-02-22 11:19:50   \n",
       "2           3  14769  2013-12-16 16:40:17   39.0  2013-12-16 16:40:18   \n",
       "3           4    782  2014-03-28 10:52:12  782.0  2014-03-28 10:52:42   \n",
       "4           5     22  2014-02-28 10:53:05  177.0  2014-02-28 10:55:22   \n",
       "\n",
       "     site3                time3    site4                time4  site5   ...    \\\n",
       "0      NaN                  NaN      NaN                  NaN    NaN   ...     \n",
       "1   3847.0  2014-02-22 11:19:51    941.0  2014-02-22 11:19:51  942.0   ...     \n",
       "2  14768.0  2013-12-16 16:40:19  14769.0  2013-12-16 16:40:19   37.0   ...     \n",
       "3    782.0  2014-03-28 10:53:12    782.0  2014-03-28 10:53:42  782.0   ...     \n",
       "4    175.0  2014-02-28 10:55:22    178.0  2014-02-28 10:55:23  177.0   ...     \n",
       "\n",
       "                 time6    site7                time7    site8  \\\n",
       "0                  NaN      NaN                  NaN      NaN   \n",
       "1  2014-02-22 11:19:51   3847.0  2014-02-22 11:19:52   3846.0   \n",
       "2  2013-12-16 16:40:19  14768.0  2013-12-16 16:40:20  14768.0   \n",
       "3  2014-03-28 10:54:42    782.0  2014-03-28 10:55:12    782.0   \n",
       "4  2014-02-28 10:55:59    175.0  2014-02-28 10:55:59    177.0   \n",
       "\n",
       "                 time8    site9                time9   site10  \\\n",
       "0                  NaN      NaN                  NaN      NaN   \n",
       "1  2014-02-22 11:19:52   1516.0  2014-02-22 11:20:15   1518.0   \n",
       "2  2013-12-16 16:40:21  14768.0  2013-12-16 16:40:22  14768.0   \n",
       "3  2014-03-28 10:55:42    782.0  2014-03-28 10:56:12    782.0   \n",
       "4  2014-02-28 10:55:59    177.0  2014-02-28 10:57:06    178.0   \n",
       "\n",
       "                time10  target  \n",
       "0                  NaN       0  \n",
       "1  2014-02-22 11:20:16       0  \n",
       "2  2013-12-16 16:40:24       0  \n",
       "3  2014-03-28 10:56:42       0  \n",
       "4  2014-02-28 10:57:11       0  \n",
       "\n",
       "[5 rows x 22 columns]"
      ]
     },
     "execution_count": 9,
     "metadata": {},
     "output_type": "execute_result"
    }
   ],
   "source": [
    "train_df.head()"
   ]
  },
  {
   "cell_type": "code",
   "execution_count": 10,
   "metadata": {},
   "outputs": [],
   "source": [
    "features = ['site%d' % i for i in range(1, 11)]"
   ]
  },
  {
   "cell_type": "code",
   "execution_count": 11,
   "metadata": {},
   "outputs": [
    {
     "data": {
      "text/html": [
       "<div>\n",
       "<style scoped>\n",
       "    .dataframe tbody tr th:only-of-type {\n",
       "        vertical-align: middle;\n",
       "    }\n",
       "\n",
       "    .dataframe tbody tr th {\n",
       "        vertical-align: top;\n",
       "    }\n",
       "\n",
       "    .dataframe thead th {\n",
       "        text-align: right;\n",
       "    }\n",
       "</style>\n",
       "<table border=\"1\" class=\"dataframe\">\n",
       "  <thead>\n",
       "    <tr style=\"text-align: right;\">\n",
       "      <th></th>\n",
       "      <th>site1</th>\n",
       "      <th>site2</th>\n",
       "      <th>site3</th>\n",
       "      <th>site4</th>\n",
       "      <th>site5</th>\n",
       "      <th>site6</th>\n",
       "      <th>site7</th>\n",
       "      <th>site8</th>\n",
       "      <th>site9</th>\n",
       "      <th>site10</th>\n",
       "    </tr>\n",
       "  </thead>\n",
       "  <tbody>\n",
       "    <tr>\n",
       "      <th>0</th>\n",
       "      <td>718</td>\n",
       "      <td>NaN</td>\n",
       "      <td>NaN</td>\n",
       "      <td>NaN</td>\n",
       "      <td>NaN</td>\n",
       "      <td>NaN</td>\n",
       "      <td>NaN</td>\n",
       "      <td>NaN</td>\n",
       "      <td>NaN</td>\n",
       "      <td>NaN</td>\n",
       "    </tr>\n",
       "    <tr>\n",
       "      <th>1</th>\n",
       "      <td>890</td>\n",
       "      <td>941.0</td>\n",
       "      <td>3847.0</td>\n",
       "      <td>941.0</td>\n",
       "      <td>942.0</td>\n",
       "      <td>3846.0</td>\n",
       "      <td>3847.0</td>\n",
       "      <td>3846.0</td>\n",
       "      <td>1516.0</td>\n",
       "      <td>1518.0</td>\n",
       "    </tr>\n",
       "    <tr>\n",
       "      <th>2</th>\n",
       "      <td>14769</td>\n",
       "      <td>39.0</td>\n",
       "      <td>14768.0</td>\n",
       "      <td>14769.0</td>\n",
       "      <td>37.0</td>\n",
       "      <td>39.0</td>\n",
       "      <td>14768.0</td>\n",
       "      <td>14768.0</td>\n",
       "      <td>14768.0</td>\n",
       "      <td>14768.0</td>\n",
       "    </tr>\n",
       "    <tr>\n",
       "      <th>3</th>\n",
       "      <td>782</td>\n",
       "      <td>782.0</td>\n",
       "      <td>782.0</td>\n",
       "      <td>782.0</td>\n",
       "      <td>782.0</td>\n",
       "      <td>782.0</td>\n",
       "      <td>782.0</td>\n",
       "      <td>782.0</td>\n",
       "      <td>782.0</td>\n",
       "      <td>782.0</td>\n",
       "    </tr>\n",
       "    <tr>\n",
       "      <th>4</th>\n",
       "      <td>22</td>\n",
       "      <td>177.0</td>\n",
       "      <td>175.0</td>\n",
       "      <td>178.0</td>\n",
       "      <td>177.0</td>\n",
       "      <td>178.0</td>\n",
       "      <td>175.0</td>\n",
       "      <td>177.0</td>\n",
       "      <td>177.0</td>\n",
       "      <td>178.0</td>\n",
       "    </tr>\n",
       "  </tbody>\n",
       "</table>\n",
       "</div>"
      ],
      "text/plain": [
       "   site1  site2    site3    site4  site5   site6    site7    site8    site9  \\\n",
       "0    718    NaN      NaN      NaN    NaN     NaN      NaN      NaN      NaN   \n",
       "1    890  941.0   3847.0    941.0  942.0  3846.0   3847.0   3846.0   1516.0   \n",
       "2  14769   39.0  14768.0  14769.0   37.0    39.0  14768.0  14768.0  14768.0   \n",
       "3    782  782.0    782.0    782.0  782.0   782.0    782.0    782.0    782.0   \n",
       "4     22  177.0    175.0    178.0  177.0   178.0    175.0    177.0    177.0   \n",
       "\n",
       "    site10  \n",
       "0      NaN  \n",
       "1   1518.0  \n",
       "2  14768.0  \n",
       "3    782.0  \n",
       "4    178.0  "
      ]
     },
     "execution_count": 11,
     "metadata": {},
     "output_type": "execute_result"
    }
   ],
   "source": [
    "train_df[features].head()"
   ]
  },
  {
   "cell_type": "code",
   "execution_count": 46,
   "metadata": {},
   "outputs": [],
   "source": [
    "y_train = train_df['target']"
   ]
  },
  {
   "cell_type": "code",
   "execution_count": 47,
   "metadata": {},
   "outputs": [
    {
     "data": {
      "text/plain": [
       "0.00905896411514389"
      ]
     },
     "execution_count": 47,
     "metadata": {},
     "output_type": "execute_result"
    }
   ],
   "source": [
    "y_train.mean()"
   ]
  },
  {
   "cell_type": "code",
   "execution_count": 18,
   "metadata": {},
   "outputs": [],
   "source": [
    "import pickle\n",
    "from collections import Counter"
   ]
  },
  {
   "cell_type": "code",
   "execution_count": 14,
   "metadata": {},
   "outputs": [],
   "source": [
    "with open('../../data/site_dic.pkl', 'rb') as inp_file:\n",
    "    site_dict = pickle.load(inp_file)"
   ]
  },
  {
   "cell_type": "code",
   "execution_count": 29,
   "metadata": {},
   "outputs": [],
   "source": [
    "site_freqs = Counter(train_df[features].fillna(0).astype('int').values.ravel()).most_common(10)"
   ]
  },
  {
   "cell_type": "code",
   "execution_count": 37,
   "metadata": {},
   "outputs": [],
   "source": [
    "inv_site_dict = {v: k for (k, v) in site_dict.items()}"
   ]
  },
  {
   "cell_type": "code",
   "execution_count": 35,
   "metadata": {},
   "outputs": [
    {
     "data": {
      "text/plain": [
       "[(21, 123776),\n",
       " (0, 122730),\n",
       " (23, 87619),\n",
       " (782, 77055),\n",
       " (22, 58258),\n",
       " (29, 54094),\n",
       " (167, 46405),\n",
       " (780, 43841),\n",
       " (778, 38194),\n",
       " (52, 36085)]"
      ]
     },
     "execution_count": 35,
     "metadata": {},
     "output_type": "execute_result"
    }
   ],
   "source": [
    "site_freqs"
   ]
  },
  {
   "cell_type": "code",
   "execution_count": 38,
   "metadata": {},
   "outputs": [
    {
     "data": {
      "text/plain": [
       "{25075: 'www.abmecatronique.com',\n",
       " 13997: 'groups.live.com',\n",
       " 42436: 'majeureliguefootball.wordpress.com',\n",
       " 30911: 'cdt46.media.tourinsoft.eu',\n",
       " 8104: 'www.hdwallpapers.eu',\n",
       " 37491: 'img378.imageshack.us',\n",
       " 5462: 'ecologie.nature.free.fr',\n",
       " 35425: 'www.ibcn.intec.ugent.be',\n",
       " 30151: 'kissanime.com',\n",
       " 38268: 'www.carolineconduiteformation.com',\n",
       " 43641: 'images.mystockphoto.com',\n",
       " 36959: 'journalph.csphares.qc.ca',\n",
       " 40935: 'www.uqo.ca',\n",
       " 12346: 'd8d94e0wul1nb.cloudfront.net',\n",
       " 31023: 'openapi.elong.com',\n",
       " 31114: 'flamenco-o.blogspot.com',\n",
       " 28165: 'www.pages-annuaire.net',\n",
       " 31877: 'smart2000.pagesperso-orange.fr',\n",
       " 31070: 'fast.forbes.com',\n",
       " 12938: 'i1-js-14-3-01-10077-536503633-i.init.cedexis-radar.net',\n",
       " 42002: 'i1-js-14-3-01-11074-716595896-i.init.cedexis-radar.net',\n",
       " 5671: 'www.pacajob.com',\n",
       " 32074: 'mathaa.epfl.ch',\n",
       " 7104: 'cbv.sfr.bench.cedexis.com',\n",
       " 1939: 'fbcdn-sphotos-b-a.akamaihd.net',\n",
       " 6708: 'www.mystere-tv.com',\n",
       " 43589: 'www.mon-ip.fr',\n",
       " 45241: 'www.aqua-passion.com',\n",
       " 16195: 'reunion.la1ere.fr',\n",
       " 23921: 'marketing.kognitio.com',\n",
       " 28449: 'www.calvin-thomas.com',\n",
       " 14139: 'i1-js-14-3-01-11074-157631352-i.init.cedexis-radar.net',\n",
       " 7082: 'download.allin1convert.com',\n",
       " 46081: 'i1-js-14-3-01-11074-278531719-i.init.cedexis-radar.net',\n",
       " 2599: 'blog.lemonde.fr',\n",
       " 46307: 'www.programme.tv',\n",
       " 21319: 'alerte.ilatumi.org',\n",
       " 3282: 'p2.storage.canalblog.com',\n",
       " 45634: 'koopacteam.files.wordpress.com',\n",
       " 28768: 'tpe-oeil-bionique-1s3.e-monsite.com',\n",
       " 5451: 'exia.cesi.fr',\n",
       " 6185: 'www.bugz.fr',\n",
       " 47973: 'i1-js-14-3-01-11074-582085608-i.init.cedexis-radar.net',\n",
       " 31500: 'psd.fanextra.com',\n",
       " 46861: 'i1-js-14-3-01-11074-417130814-i.init.cedexis-radar.net',\n",
       " 40008: 'blogs.glam.jp',\n",
       " 437: 'ceb.linternaute.com',\n",
       " 17157: 'www.isostar.com',\n",
       " 19864: 'i1-js-14-3-01-12160-329910610-i.init.cedexis-radar.net',\n",
       " 28747: 'onenote.officeapps.live.com',\n",
       " 34741: 'www.suisse-blog.ch',\n",
       " 30461: 'infodecisionnel.com',\n",
       " 2321: 'mythologica.fr',\n",
       " 44216: 'webdesigntuts.disqus.com',\n",
       " 22894: 'www.ouverturefacile.com',\n",
       " 48066: 'www.adeptis.ru',\n",
       " 43454: 'lesjoiesduseo.tumblr.com',\n",
       " 40738: 'score.org',\n",
       " 12037: 'icon.nipic.com',\n",
       " 34376: 'i1-js-14-3-01-10005-126184749-i.init.cedexis-radar.net',\n",
       " 18052: 'i1-js-14-3-01-10292-382057998-i.init.cedexis-radar.net',\n",
       " 30498: 'javascript-v2b.netdna-ssl.com',\n",
       " 31715: 'i1-js-14-3-01-11074-48550193-i.init.cedexis-radar.net',\n",
       " 32389: 'master5.teamviewer.com',\n",
       " 45741: 'www.mathworks.nl',\n",
       " 34839: 'www.affiliatedisclosure.com',\n",
       " 5305: 'www.tracepartsonline.net',\n",
       " 10938: 'www.eonline.com',\n",
       " 32449: 'www.guide-gestion-des-couleurs.com',\n",
       " 5175: 'tag.email-attitude.com',\n",
       " 23780: 'i1-js-14-3-01-10122-560346507-i.init.cedexis-radar.net',\n",
       " 9504: 'i1005.photobucket.com',\n",
       " 2183: 'c.fixunix.com',\n",
       " 13090: 'www.idsud.com',\n",
       " 46667: 'the.earth.li',\n",
       " 21456: 'ymettier.free.fr',\n",
       " 3921: 'www.autonewsinfo.com',\n",
       " 33317: 'i1-js-14-3-01-11074-658603594-i.init.cedexis-radar.net',\n",
       " 39612: 'www.maisondelasimulation.fr',\n",
       " 44741: 'i1139.photobucket.com',\n",
       " 39209: 'fr.jimdo.com',\n",
       " 8889: 'webassetsb.scea.com',\n",
       " 16519: 'www.2shared.com',\n",
       " 25391: 'bladi.net',\n",
       " 20273: 'www.pourapprendre.ca',\n",
       " 35569: 'www.fondationchus.org',\n",
       " 24514: 'letrasenvena.com',\n",
       " 45552: 'former-naval-person.typepad.com',\n",
       " 35374: 'i1-js-14-3-01-10005-372447414-i.init.cedexis-radar.net',\n",
       " 2108: 'lost.fannook.com',\n",
       " 2113: 'vampirediaries.alloyentertainment.com',\n",
       " 9557: 'grr.u-clermont1.fr',\n",
       " 4172: 'team.inria.fr',\n",
       " 24932: 'www.cinezik.fr',\n",
       " 43036: 'bellca.vo.llnwd.net',\n",
       " 34382: 'i1-js-14-3-01-10005-68841835-i.init.cedexis-radar.net',\n",
       " 8501: 'i1-js-14-3-01-11074-788631572-i.init.cedexis-radar.net',\n",
       " 37353: 'abb.journaldunet.com',\n",
       " 48160: 'phylogenomics.berkeley.edu',\n",
       " 9570: 'www.minutefacile.com',\n",
       " 933: 'cdnetworks.static69.com',\n",
       " 42394: 'recherche.ign.fr',\n",
       " 20474: 'i1-js-14-3-01-12160-386829218-i.init.cedexis-radar.net',\n",
       " 35257: 'www.kelexpert.com',\n",
       " 25123: 'www.pierron.fr',\n",
       " 11839: 'baby.163.com',\n",
       " 20674: 'nevrosesurbaines.blogspot.com',\n",
       " 22855: 'dl6rc8ml1n.b.ad6media.fr',\n",
       " 2809: 'saas.gravityrd.com',\n",
       " 39558: 'www.brother.com',\n",
       " 40420: 'www2.cslaval.qc.ca',\n",
       " 42517: 'www.papillon-poitou-charentes.org',\n",
       " 2476: 'www.bigpoint.com',\n",
       " 45187: 'i1-js-14-3-01-11074-320339472-i.init.cedexis-radar.net',\n",
       " 46276: 'www.bonabo.fr',\n",
       " 1281: 'www.liafa.jussieu.fr',\n",
       " 37407: 'api2.v.pptv.com',\n",
       " 25436: 'lb3f.lilypie.com',\n",
       " 30524: 'demohtml.templatesquare.com',\n",
       " 9690: 'eva.fing.edu.uy',\n",
       " 17061: 'www.mercure.com',\n",
       " 35312: 'assets19.pokemon.com',\n",
       " 42413: 'www.maintenance-informatique-grenoble.com',\n",
       " 18172: 'm.imdj.net',\n",
       " 9923: 'www.ccl.net',\n",
       " 1809: 'www.photosmarval.org',\n",
       " 13690: 'www.nespresso.com',\n",
       " 2734: 'www2.microstrategy.com',\n",
       " 45147: 'w747588.open.ge.tt',\n",
       " 44644: 'th0-64.th.exalead.com',\n",
       " 13096: 'files.newsnetz.ch',\n",
       " 17210: 'pacmann.over-blog.com',\n",
       " 2715: 'usercare.sfrbusinessteam.fr',\n",
       " 9895: 'wpmx.org',\n",
       " 46147: 'aol.fr',\n",
       " 2320: 'parleferetparleverbe.free.fr',\n",
       " 21516: 'gtssl2-crl.geotrust.com',\n",
       " 35320: 'nsa20.casimages.com',\n",
       " 2510: 'media.wonderbox.com',\n",
       " 9660: 'cours.polytech.unice.fr',\n",
       " 271: 'c.fr.msn.com',\n",
       " 20264: 'www.esperluette-assocalligraphie.org',\n",
       " 9004: 'www.ageden.org',\n",
       " 5227: 'p.ofastatic.com',\n",
       " 3927: 'www.thewatchobserver.fr',\n",
       " 22835: 'i997.mangareader.net',\n",
       " 12845: 'tck.toc.io',\n",
       " 30711: 'www.mobe.com',\n",
       " 40564: 'andrews-unix.blogspot.fr',\n",
       " 22262: '89.docs.google.com',\n",
       " 32283: 'i1-js-14-3-01-10076-427006321-i.init.cedexis-radar.net',\n",
       " 48078: 'parischampions.fr',\n",
       " 9889: 'a66-w23-58dd0eb9-nbavod-f.akamaihd.net',\n",
       " 33250: 'www.cic.fr',\n",
       " 11848: 'house.163.com',\n",
       " 20398: 'dice.virtuworld.net',\n",
       " 28390: 'jeux.fm',\n",
       " 44562: 'llwproductions.files.wordpress.com',\n",
       " 11537: 'blog.crdp-versailles.fr',\n",
       " 48205: '205-events.olark.com',\n",
       " 19783: 'i1-js-14-3-01-12160-590082283-i.init.cedexis-radar.net',\n",
       " 42809: 'www.parisdescartes.fr',\n",
       " 5312: 'n36.hal9000.redintelligence.net',\n",
       " 26044: 'rkxnyuscn2.b.ad6media.fr',\n",
       " 5185: 'www.cnrm-game.fr',\n",
       " 9710: 'www.volcanogeol.com',\n",
       " 23177: 'adonline.infobel.com',\n",
       " 29248: 'i1-js-14-3-01-11074-606996986-i.init.cedexis-radar.net',\n",
       " 46781: 'ssif1.globalsign.com',\n",
       " 27800: 'www.ebmeditions.fr',\n",
       " 48174: 'www.explorezlequebec.com',\n",
       " 12672: 'limelightperf.cedexis.com',\n",
       " 25619: 'homepages.math.uic.edu',\n",
       " 21444: 'www.base-nikko.info',\n",
       " 4888: 'app.owni.fr',\n",
       " 45052: 'rquid.blogspot.com',\n",
       " 37515: 'www.oieau.fr',\n",
       " 27244: 's0.karafun.com',\n",
       " 18074: 'i1-js-14-3-01-11074-699921704-i.init.cedexis-radar.net',\n",
       " 39365: 'www.diffen.com',\n",
       " 5868: 'pathtools.googlecode.com',\n",
       " 29189: 'd0.awsstatic.com',\n",
       " 38543: 'ishanir.blogspot.fr',\n",
       " 10679: 'forum.eyesofnetwork.com',\n",
       " 21662: 'www.tennisonline.fr',\n",
       " 20119: 'phgeorges.free.fr',\n",
       " 10408: 'www.lestutosdenico.com',\n",
       " 1157: 'static1.webedia.fr',\n",
       " 21064: 'www.caserugby.com',\n",
       " 44751: 'android.gamercharts.com',\n",
       " 2062: 'www.boutiquealldance.com',\n",
       " 24136: 'kitbag.d2.sc.omtrdc.net',\n",
       " 7602: 'www.recyclez-moi.fr',\n",
       " 27611: 'casajurnalistului.ro',\n",
       " 24886: 'www.thefonestuff.com',\n",
       " 11568: 'www.intelligenceartificielle.fr',\n",
       " 15402: 'www.enforex.com',\n",
       " 40293: 'archiver.rootsweb.ancestry.com',\n",
       " 35458: 'edlr.education.uconn.edu',\n",
       " 1765: 'dinternet.librodeapuntes.es',\n",
       " 46058: 'youproxy.e-monsite.com',\n",
       " 39372: 'i713.photobucket.com',\n",
       " 35216: 'www.mes-photos.eu',\n",
       " 3375: 'iutweb.u-clermont1.fr',\n",
       " 32995: 'i1-js-14-3-01-11074-437335644-i.init.cedexis-radar.net',\n",
       " 3220: 'www.itservices.manchester.ac.uk',\n",
       " 6345: 'www.bonspneus.fr',\n",
       " 11282: 'logiciel.codes-sources.com',\n",
       " 24151: 'sas.css.microsoft.com',\n",
       " 33010: 'tm.offre-news.com',\n",
       " 26741: 'kawaiiyoshi.blogg.se',\n",
       " 32493: 'economieautrement.org',\n",
       " 31918: 'img.neoseeker.com',\n",
       " 32549: 'www.ggl.ulaval.ca',\n",
       " 15715: 'www.ineris.fr',\n",
       " 21801: 'www.france.attac.org',\n",
       " 36431: 'service.imesh.com',\n",
       " 20137: 'i1-js-14-3-01-10013-2395441-i.init.cedexis-radar.net',\n",
       " 22006: 'www.auckland.ac.nz',\n",
       " 36849: 'search.ebscohost.com.sicd.clermont-universite.fr',\n",
       " 17739: '51wbfn.widget.uwa.netvibes.com',\n",
       " 44499: 'www.edito.tn',\n",
       " 18355: 'r2---sn-cg07luel.googlevideo.com',\n",
       " 356: 'www.cea.fr',\n",
       " 14189: 'i1-js-14-3-01-11074-359212176-i.init.cedexis-radar.net',\n",
       " 43107: 'www.sitedesmarques.com',\n",
       " 29600: 'i1-js-14-3-01-11074-213327092-i.init.cedexis-radar.net',\n",
       " 37665: 'www.nielskrijger.com',\n",
       " 44465: 'scans.startiger.com',\n",
       " 11807: 'static2.businessinsider.com',\n",
       " 36009: 'www.careercentre.dtwd.wa.gov.au',\n",
       " 12265: '1jour1actu.com',\n",
       " 32786: 'i1-js-14-3-01-11074-721503103-i.init.cedexis-radar.net',\n",
       " 34718: 'chinanews.wrating.com',\n",
       " 43444: 'roger.neel.free.fr',\n",
       " 16258: 'www.trescal.fr',\n",
       " 15930: 'www.prism.uvsq.fr',\n",
       " 1210: 'www.icc-cpi.int',\n",
       " 48238: 'i1-js-14-3-01-12434-664998642-i.init.cedexis-radar.net',\n",
       " 7264: 'www.colas.com',\n",
       " 23565: 'img.viteloge.com',\n",
       " 18849: 'www.medhyg.ch',\n",
       " 5880: 'bdm.programme-tv.net',\n",
       " 18668: 'i.expansys.com',\n",
       " 22965: 'i1-js-14-3-01-10077-413994667-i.init.cedexis-radar.net',\n",
       " 47140: 'i1-js-14-3-01-10077-565124734-i.init.cedexis-radar.net',\n",
       " 28676: 'accounts.google.co.uk',\n",
       " 5308: 'vast.bp3849535.btrll.com',\n",
       " 23420: 'jobs.broadcom.com',\n",
       " 44720: 'flotte.ifremer.fr',\n",
       " 10313: 'h30499.www3.hp.com',\n",
       " 47239: 'www.dictionnaire.exionnaire.com',\n",
       " 34214: 'cid-a49429c90604af1b.users.storage.live.com',\n",
       " 6420: 'www.1000genomes.org',\n",
       " 20184: 'img01.static-nextag.com',\n",
       " 47931: 'recruteurs.apec.fr',\n",
       " 7853: 'static.compteur-visite.com',\n",
       " 28323: 'techmarketingbuffalo.com',\n",
       " 37313: 'ressources.aunege.fr',\n",
       " 10953: 'www.xiaomi.com',\n",
       " 31331: 'www-static.se-mc.com',\n",
       " 21252: 'hfr.toyonos.info',\n",
       " 19194: 'www.tripplay.net',\n",
       " 40033: 'i1-js-14-3-01-10005-842916187-i.init.cedexis-radar.net',\n",
       " 21488: 'www.hsls.pitt.edu',\n",
       " 6021: 'link.springer.com',\n",
       " 19481: 'i01.hktdc-img.com',\n",
       " 31859: 'auth.bay.livefilestore.com',\n",
       " 6910: 'events.iforex.com',\n",
       " 9548: 'rtb0.doubleverify.com',\n",
       " 3272: 'logs.spilgames.com',\n",
       " 17996: 'i1-js-14-3-01-11074-190330828-i.init.cedexis-radar.net',\n",
       " 13239: 's1.static-clubeo.com',\n",
       " 18055: 'i1-js-14-3-01-11074-844105972-i.init.cedexis-radar.net',\n",
       " 7616: 'accessoires.lesmobiles.com',\n",
       " 7159: 'imagizer.imageshack.us',\n",
       " 20348: 'img716.imageshack.us',\n",
       " 33393: 'i1-js-14-3-01-11074-495066772-i.init.cedexis-radar.net',\n",
       " 15354: 'tag.azame.net',\n",
       " 4358: 'picolio.auto123.com',\n",
       " 22510: 'muyuge.com',\n",
       " 47579: 'i1-js-14-3-01-10013-172579716-i.init.cedexis-radar.net',\n",
       " 37174: 'www.ensccf.fr',\n",
       " 2948: 'www.jacquieetmichelvisio.net',\n",
       " 37582: 'sports2.raftaar.in',\n",
       " 34412: 'i1-js-14-3-01-10005-761091140-i.init.cedexis-radar.net',\n",
       " 16525: 'lea.voyages-sncf.com',\n",
       " 11590: 'fiercegovernmentit.disqus.com',\n",
       " 29158: 'subtlepatterns.com',\n",
       " 45281: 'davidmasclet.gisgraphy.com',\n",
       " 39921: 'fabermedia.com',\n",
       " 15684: 'img245.imageshack.us',\n",
       " 47885: 'quizz.courrierinternational.com',\n",
       " 15871: 'dl.decoclico.fr',\n",
       " 47414: 'education.ti.com',\n",
       " 28384: 'www.gamesonly.com',\n",
       " 24901: 'dblp.uni-trier.de',\n",
       " 41277: 'motocross.transworld.net',\n",
       " 31809: 'jes.blogs.shellprompt.net',\n",
       " 8787: 'ea.gamergen.com',\n",
       " 2882: 'clock1.mytictac.com',\n",
       " 45518: 'www.celebblog.com',\n",
       " 32393: 'eauplaisir.com',\n",
       " 30008: 'www.journees3r.fr',\n",
       " 14036: 'p14.badoo.com',\n",
       " 25909: 'cid-82bc5a860b9d1ab8.users.storage.live.com',\n",
       " 12207: 'www.speed-burger.com',\n",
       " 31708: 'i1-js-14-3-01-11074-859890522-i.init.cedexis-radar.net',\n",
       " 41214: 'cid-02b63548e1813f54.users.storage.live.com',\n",
       " 44763: 'www.daily-demoiselle.com',\n",
       " 45336: 'www.dondusang-larochefoucauld.fr',\n",
       " 11794: 'math.stackexchange.com',\n",
       " 17159: 'www.comite-ski-savoie.fr',\n",
       " 160: 'admaym.com',\n",
       " 44215: 'static.tutsplus.com',\n",
       " 14198: 'i1-js-14-3-01-11074-149110053-i.init.cedexis-radar.net',\n",
       " 28886: 'www.dofus.com',\n",
       " 44737: 'www.bio-rad.com',\n",
       " 39361: 'www.dista.unibo.it',\n",
       " 1163: 'www.secretsdujeu.com',\n",
       " 28488: 'goole.com',\n",
       " 43146: 'www.uplayed.net',\n",
       " 27598: 'enjoydessert.blogspot.com',\n",
       " 30176: 'i1-js-14-3-01-11074-171131511-i.init.cedexis-radar.net',\n",
       " 20166: 'i1-js-14-3-01-10292-971796260-i.init.cedexis-radar.net',\n",
       " 23968: 'i1-js-14-3-01-10013-848698950-i.init.cedexis-radar.net',\n",
       " 8062: 'terresacree.org',\n",
       " 21358: 'i1-js-14-3-01-10044-906017590-i.init.cedexis-radar.net',\n",
       " 23966: 'partners.aleteia.org',\n",
       " 3787: 'countdown.omegawatches.com',\n",
       " 19177: 'www.regarderfilms.net',\n",
       " 22323: 'pdftoword1.pdfonline.com',\n",
       " 12853: 'www.robotbuzz.fr',\n",
       " 18846: 'www.herokidstudio.es',\n",
       " 15704: 'img.dafont.com',\n",
       " 7089: 'click.email.showroomprive.com',\n",
       " 14377: 'zipbox.com.br',\n",
       " 37900: 'i1-js-14-3-01-10169-16997669-i.init.cedexis-radar.net',\n",
       " 1321: 'i.video.eurosport.fr',\n",
       " 7246: 'track.linkinlive.com',\n",
       " 27324: 'springbreakersfilm.tumblr.com',\n",
       " 33673: 'generationberlin.mondoblog.org',\n",
       " 9851: 'crt.tcs.terena.org',\n",
       " 993: 'img.xooimage.com',\n",
       " 42617: 'xd.mediav.com',\n",
       " 36799: 'i1-js-14-3-01-12434-105152787-i.init.cedexis-radar.net',\n",
       " 16866: 'www.preparation-entretien.com',\n",
       " 13114: 'www.whitepages.com',\n",
       " 25972: 'i1-js-14-3-01-11641-928087531-i.init.cedexis-radar.net',\n",
       " 2425: 's1.lemde.fr',\n",
       " 3991: 'i1-js-14-3-01-10077-371268425-i.init.cedexis-radar.net',\n",
       " 5034: 'lemoncurve.com',\n",
       " 3653: 'static.eplayer.performgroup.com',\n",
       " 9824: 'download.zotero.org',\n",
       " 25315: 'math.ac-mayotte.fr',\n",
       " 33241: 'i1-js-14-3-01-11074-455951068-i.init.cedexis-radar.net',\n",
       " 14124: 'i1-js-14-3-01-11074-284157695-i.init.cedexis-radar.net',\n",
       " 28268: 'redirect.disqus.com',\n",
       " 24895: 'tech.mthai.com',\n",
       " 19933: 'www.lemaraisbar.com',\n",
       " 6490: 'img6.societe.com',\n",
       " 14830: 'audrey-laure.skynetblogs.be',\n",
       " 2001: 'media.newjobs.com',\n",
       " 28089: 'i1-js-14-3-01-11544-663699525-i.init.cedexis-radar.net',\n",
       " 31422: 'google.ru',\n",
       " 51: 'dub128.mail.live.com',\n",
       " 5481: 'www.wildlifehotline.com',\n",
       " 7216: 'ie7-js.googlecode.com',\n",
       " 5574: 'htmlimg3.scribdassets.com',\n",
       " 43659: 'stats.hostelworld.com',\n",
       " 26845: 'cid-c4ea66a876ce4341.users.storage.live.com',\n",
       " 13747: 'i1-js-14-3-01-11544-606087452-i.init.cedexis-radar.net',\n",
       " 11231: 'cstheory.stackexchange.com',\n",
       " 18993: 'elohell.net',\n",
       " 29350: 'i1-js-14-3-01-11074-259638529-i.init.cedexis-radar.net',\n",
       " 48059: '63.art.skyrock.net',\n",
       " 46213: 'affilitybanners.s3.amazonaws.com',\n",
       " 10062: 'saintebaume.over-blog.com',\n",
       " 13281: 'i1-js-14-3-01-12160-480215858-i.init.cedexis-radar.net',\n",
       " 36150: 'i1-js-14-3-01-11074-43634246-i.init.cedexis-radar.net',\n",
       " 9214: 'www.chine-informations.com',\n",
       " 1632: 'www.kazeo.com',\n",
       " 29549: 'i1-js-14-3-01-11074-579755101-i.init.cedexis-radar.net',\n",
       " 3150: 'www.radio-canada.ca',\n",
       " 9233: 'www.ens-lyon.eu',\n",
       " 36958: 'www.mespremiereslectures.com',\n",
       " 3839: 'www.pages01.net',\n",
       " 4823: 'www.mobilicites.com',\n",
       " 27966: 'tv.sohu.com',\n",
       " 536: 'snip.answers.com',\n",
       " 5213: 'www.cinam.univ-mrs.fr',\n",
       " 34955: 'www.discmath.ulg.ac.be',\n",
       " 41083: 'www.informz.net',\n",
       " 37362: 'er.laredoute.fr',\n",
       " 10671: 'www.ubuntu.com',\n",
       " 47118: 'www.locallife.fr',\n",
       " 9637: 'theobromine.uchini.be',\n",
       " 28094: 'i1-js-14-3-01-11544-215236317-i.init.cedexis-radar.net',\n",
       " 11995: 'ad.pixnet.net',\n",
       " 21654: 'guy.chaumeton.pagesperso-orange.fr',\n",
       " 15062: 'dba.linternaute.com',\n",
       " 11340: 'd2aoz95szyy738.cloudfront.net',\n",
       " 41733: 'i1-js-14-3-01-10077-873675920-i.init.cedexis-radar.net',\n",
       " 34520: 'i1-js-14-3-01-10005-237927661-i.init.cedexis-radar.net',\n",
       " 31285: 'img.jeuxvideo.fr',\n",
       " 38038: 'i1-js-14-3-01-10036-441971471-i.init.cedexis-radar.net',\n",
       " 16348: 'perlmonks.org',\n",
       " 27889: 'www.legitreviews.com',\n",
       " 47567: 'www.debutantprog.com',\n",
       " 41582: 'img577.imageshack.us',\n",
       " 12137: 'www.diigo.com',\n",
       " 716: 'b12.myspace.com',\n",
       " 24247: 'img88.imageshack.us',\n",
       " 42032: 'video1080.jeuxvideo.com',\n",
       " 5760: 'rosettacode.org',\n",
       " 40361: 'online.wsj.com',\n",
       " 22235: 'www.capitalkoala.com',\n",
       " 31887: 'www.blablacar.fr',\n",
       " 29547: 'i1-js-14-3-01-11074-172444383-i.init.cedexis-radar.net',\n",
       " 10238: 'www.ieee802.org',\n",
       " 26004: 'slipsum.com',\n",
       " 44805: 'www.netwizz.net',\n",
       " 14094: 'i1-js-14-3-01-11074-928649899-i.init.cedexis-radar.net',\n",
       " 15397: 'alsagora.blogspot.com',\n",
       " 6019: 'www.skynet.be',\n",
       " 24921: 'toquetudiante.files.wordpress.com',\n",
       " 39099: 'www.thetravelerszone.com',\n",
       " 7342: 'www.uneblague.com',\n",
       " 19770: 'fr.meteo.yahoo.com',\n",
       " 24920: 'admin.restosclermont.com',\n",
       " 28665: 'www.doingbusiness.ro',\n",
       " 20045: 'multimedia.sa-cim.fr',\n",
       " 19168: 'www.meta-annuaire.com',\n",
       " 47053: 'www.see.ed.ac.uk',\n",
       " 9701: 'remotesensing.usgs.gov',\n",
       " 5291: 'videos-adman-public.s3.amazonaws.com',\n",
       " 46923: 'snovae.in2p3.fr',\n",
       " 22305: 'blog.overnetcity.com',\n",
       " 4104: 'www.test-qi-officiel.com',\n",
       " 44440: 'www.sistasense.com',\n",
       " 44297: 'www.fubiz.net',\n",
       " 771: 'securelp.longtailvideo.com',\n",
       " 39357: 'projects.gnome.org',\n",
       " 44204: 'tca-46.tca-rtb1.rfihub.com',\n",
       " 43836: 'kk.convdocs.org',\n",
       " 12594: 'grooveshark.fr',\n",
       " 38086: 'aucoeurdesmaux.pagesperso-orange.fr',\n",
       " 6741: '3.l.fr.nestoria.nestimg.com',\n",
       " 5049: 'lrpush.apxlv.com',\n",
       " 42991: 'd2us6zencw9qvn.cloudfront.net',\n",
       " 14328: 'www.inscription-concours.interieur.gouv.fr',\n",
       " 9913: 'www.creps-idf.fr',\n",
       " 29658: 'i1-js-14-3-01-11074-64396925-i.init.cedexis-radar.net',\n",
       " 29018: 'pinglun.07073.com',\n",
       " 2184: 'fixunix.com',\n",
       " 14922: 'www.deficreation.com',\n",
       " 19807: 'i1-js-14-3-01-12160-700199293-i.init.cedexis-radar.net',\n",
       " 48255: 'tditube.blogspot.com',\n",
       " 16921: 'i1-js-14-3-01-12160-321190121-i.init.cedexis-radar.net',\n",
       " 42293: 'r16---sn-hgn7zn7e.googlevideo.com',\n",
       " 23858: 'lycracacolle.canalblog.com',\n",
       " 30038: 'staps.univ-corse.fr',\n",
       " 34160: 'video.lycos.com',\n",
       " 37949: 'i1144.photobucket.com',\n",
       " 12690: 'blu179.mail.live.com',\n",
       " 16257: 'certisolis.com',\n",
       " 41044: 'www.caq-etudes.gouv.qc.ca',\n",
       " 14824: 'www.rocq.inria.fr',\n",
       " 10445: 'h30507.www3.hp.com',\n",
       " 20121: 'image1.frequency.com',\n",
       " 14136: 'i1-js-14-3-01-11074-160504493-i.init.cedexis-radar.net',\n",
       " 46014: 'www.stardoll.com',\n",
       " 16779: 'img2.ask.fm',\n",
       " 3978: 'i1-js-14-3-01-10169-172513177-i.init.cedexis-radar.net',\n",
       " 40832: 'agir.april.org',\n",
       " 3376: 'static.dudamobile.com',\n",
       " 12836: 'www.kelsactus.com',\n",
       " 24652: 'www.icms.qmul.ac.uk',\n",
       " 3117: '2.maps.nlp.nokia.com',\n",
       " 11094: 'wbpctips.mobile.sina.cn',\n",
       " 10811: 'tpecosmetique.canalblog.com',\n",
       " 14624: 'www.respifacile.fr',\n",
       " 11120: 'i.apps.sina.cn',\n",
       " 21513: 'www.nxtorm.es',\n",
       " 866: 'mediaeastv3.inq.com',\n",
       " 13376: 'stat-profil.blogorama.fr',\n",
       " 47346: 'microsoft-visual-c.softonic.fr',\n",
       " 46779: 'i1-js-14-3-01-10044-828812222-i.init.cedexis-radar.net',\n",
       " 16780: 'img4.ask.fm',\n",
       " 31099: 'static.clipconverter.cc',\n",
       " 36896: 'resize3-premiere.ladmedia.fr',\n",
       " 12669: 'exashare.com',\n",
       " 28921: 'retrorigolo.blogspot.com',\n",
       " 30951: 'facebook.es',\n",
       " 17255: 'nlp.solutions.asia',\n",
       " 38068: 'www.marches-securises.fr',\n",
       " 46586: 'www.mandellia.fr',\n",
       " 24337: 'www.maximumwallhd.com',\n",
       " 21618: 'api.foxitcloud.com',\n",
       " 30505: 'www.pompe-a-biere.com',\n",
       " 9708: 'www.volterev.fr',\n",
       " 35975: 'i1-js-14-3-01-12160-646439146-i.init.cedexis-radar.net',\n",
       " 47236: 'json8.nytimes.com',\n",
       " 3089: 'beacon.boo-box.com',\n",
       " 20040: 'i1-js-14-3-01-11641-286669977-i.init.cedexis-radar.net',\n",
       " 10051: 'di3-4.shopping.com',\n",
       " 33070: 'one-time-offer.com',\n",
       " 25437: 'humourger.com',\n",
       " 31051: 'www.mangocity.com',\n",
       " 21659: 'www.cafardcosmique.com',\n",
       " 41236: 'culturemath.ens.fr',\n",
       " 47040: 'physics.ucsc.edu',\n",
       " 3936: 'developers.google.com',\n",
       " 17941: 'i1-js-14-3-01-11074-20615786-i.init.cedexis-radar.net',\n",
       " 43903: 'www.msb.fr',\n",
       " 33107: 'www.coe.int',\n",
       " 18324: 'image.t45ol.com',\n",
       " 19478: 'www.i-on.net',\n",
       " 25016: 'i1-js-14-3-01-10036-306083070-i.init.cedexis-radar.net',\n",
       " 46365: 'moncoachingemploi.fr',\n",
       " 30408: 'altairuniversity.com',\n",
       " 12891: 's2.quickmeme.com',\n",
       " 20667: 'iemommy.files.wordpress.com',\n",
       " 24372: 'i7.tagstat.com',\n",
       " 47697: 'womenboxing.com',\n",
       " 22763: 'www.forexticket.info',\n",
       " 3784: 'd1jr13qx3aszph.cloudfront.net',\n",
       " 16920: 'i1-js-14-3-01-12160-653436080-i.init.cedexis-radar.net',\n",
       " 29512: 'i1-js-14-3-01-11074-944318262-i.init.cedexis-radar.net',\n",
       " 6778: 'productsandcompany.pmd.redbull.com',\n",
       " 8328: 'i-cms.journaldesfemmes.com',\n",
       " 11437: 'www.3ds.com',\n",
       " 16089: 'forum.psychologies.com',\n",
       " 14278: 'static.kelformation.com',\n",
       " 7783: 'i1-js-14-3-01-10252-924270546-i.init.cedexis-radar.net',\n",
       " 3043: 'd2yp9b3a29g3i2.cloudfront.net',\n",
       " 25422: 'www.fmsource.com',\n",
       " 27953: 'www.qyer.com',\n",
       " 9995: 'mathprepa.fr',\n",
       " 45564: 'www.newfashion.fr',\n",
       " 24418: 'www.oxito.net',\n",
       " 28735: 'i1-js-14-3-01-10165-268046050-i.init.cedexis-radar.net',\n",
       " 22331: 'www.1stwebdesigner.com',\n",
       " 23823: 'blog.latism.org',\n",
       " 17057: 'plan.meyzieu.fr',\n",
       " 28914: 'www.chasse-sous-marine.com',\n",
       " 14028: 'videos.rtl.be',\n",
       " 46141: 'www.duckduckgo.com',\n",
       " 8525: 'n25.hal9000.redintelligence.net',\n",
       " 15558: 'src.selfhtml.org',\n",
       " 3423: 'www.indeed.fr',\n",
       " 29976: 'fr.ufc.com',\n",
       " 3733: 'www.maliweb.net',\n",
       " 37640: 'www.crystalgraphics.com',\n",
       " 13764: 'a103833.wc.s1.b.yahoodns.net',\n",
       " 11880: 'www.u88.cn',\n",
       " 11552: 'hhich.hinsolite.com',\n",
       " 16738: 'www.bjvillas.com',\n",
       " 155: 'x2.vindicosuite.com',\n",
       " 18682: 'static.acs86.com',\n",
       " 3521: 'avecuny.files.wordpress.com',\n",
       " 48091: 'i1-js-14-3-01-11074-456577032-i.init.cedexis-radar.net',\n",
       " 2372: 'www.voyages-sncf.com',\n",
       " 28210: 'stats.mousqueton.me',\n",
       " 46143: 'thecodegalaxy.blogspot.fr',\n",
       " 43640: 'fr.mystockphoto.com',\n",
       " 3955: 'i1-js-14-3-01-10005-678854542-i.init.cedexis-radar.net',\n",
       " 21868: 'www.wallpaperpin.com',\n",
       " 6840: 'video.autoplus.fr',\n",
       " 11425: 'www.presseportal.de',\n",
       " 25111: 'bricolage.linternaute.com',\n",
       " 42737: 'api.monterosa.co.uk',\n",
       " 18157: 'fc1.1bis.com',\n",
       " 13843: 'i1-js-14-3-01-11544-228904500-i.init.cedexis-radar.net',\n",
       " 14644: 'www.saphirnews.com',\n",
       " 40169: 'www.legrog.org',\n",
       " 25062: 'www.carte-france.info',\n",
       " 20303: 'www.javapractices.com',\n",
       " 42692: 'www.epson.com',\n",
       " 5024: 'blogs.gnome.org',\n",
       " 14827: 'lembalili.files.wordpress.com',\n",
       " 21202: 'im.qq.com',\n",
       " 4326: 'widget5.linkwithin.com',\n",
       " 37387: 'orgue-de-barbarie.pagesperso-orange.fr',\n",
       " 13469: 'players.edgesuite.net',\n",
       " 2968: 'chatserver.comm100.com',\n",
       " 26097: 'www.mineral-classics.com',\n",
       " 4302: 'javamind-fr.blogspot.fr',\n",
       " 24073: 'www1.montpellier.inra.fr',\n",
       " 23454: 'www.entrecoquins.com',\n",
       " 6077: 'images0.hiboox.com',\n",
       " 25117: 'montages-schema-electronique.blogspot.com',\n",
       " 16352: 'aqualonne.free.fr',\n",
       " 11310: 'pubs.opengroup.org',\n",
       " 26389: 'dmg.digitaltarget.ru',\n",
       " 15991: 'www.sbaysite.com',\n",
       " 38939: 'video.fr.msn.com',\n",
       " 35068: 'www.sfar.org',\n",
       " 3676: 'r.linter.fr',\n",
       " 11484: 'www.univ-paris7.fr',\n",
       " 39685: 'i1-js-14-3-01-10169-93378540-i.init.cedexis-radar.net',\n",
       " 41965: 'webarchive.jira.com',\n",
       " 9019: 'www.ffme.fr',\n",
       " 17311: 'lequipe.fr',\n",
       " 7545: 'www.gdargaud.net',\n",
       " 9167: 'composants.e44.com',\n",
       " 41462: 'www.cesames.net',\n",
       " 21050: 'www.occe.coop',\n",
       " 41721: 'carrefourartdigital.blogspot.fr',\n",
       " 1698: 'www.ciudadrealdigital.es',\n",
       " 4990: 'f.thumbs.redditmedia.com',\n",
       " 5737: 'web.cs.swarthmore.edu',\n",
       " 4078: 'svn.apache.org',\n",
       " 28837: 'levels.thegamehomepage.com',\n",
       " 46082: 'i1-js-14-3-01-11074-966591978-i.init.cedexis-radar.net',\n",
       " 13772: 'dcd.journaldunet.com',\n",
       " 29888: 'i1-js-14-3-01-11074-640563835-i.init.cedexis-radar.net',\n",
       " 24861: 'i168.photobucket.com',\n",
       " 12108: 'di3-4.shoppingshadow.com',\n",
       " 12311: 'tracker.webformance.com',\n",
       " 24987: 'aramel.free.fr',\n",
       " 26085: 'i1-js-14-3-01-11074-387923436-i.init.cedexis-radar.net',\n",
       " 18809: 'imwhtw.blu.livefilestore.com',\n",
       " 44364: 'ozap.com',\n",
       " 26239: 'www.adecco.fr',\n",
       " 27606: 'www.kmkz.ro',\n",
       " 32398: 'www.electrotechnique-fr.com',\n",
       " 29765: 'i1-js-14-3-01-11074-635674841-i.init.cedexis-radar.net',\n",
       " 18344: 'seal-goldengate.bbb.org',\n",
       " 23260: 'www.trustmarker.com',\n",
       " 4364: 'www.weekly.fr',\n",
       " 33122: 'i1-js-14-3-01-11074-759833734-i.init.cedexis-radar.net',\n",
       " 34891: 'tcts.fpms.ac.be',\n",
       " 16357: 'resources.intextscript.com',\n",
       " 36427: 'lp.imesh.com',\n",
       " 18220: 'www.andre.fr',\n",
       " 21169: 'www.bassedef.com',\n",
       " 11129: 'lilypond.1069038.n5.nabble.com',\n",
       " 32939: 'www.cgl.ucsf.edu',\n",
       " 40273: 'media.t45ol.com',\n",
       " 17252: 'static.aiondatabase.com',\n",
       " 6294: 'i.gtimg.cn',\n",
       " 31232: 'i1-js-14-3-01-10005-337274738-i.init.cedexis-radar.net',\n",
       " 15842: 'www.cril.univ-artois.fr',\n",
       " 6354: 'overblog.love.easy-rencontres.com',\n",
       " 16017: 'fr.adforum.com',\n",
       " 46777: 'i1-js-14-3-01-10077-955062376-i.init.cedexis-radar.net',\n",
       " 12878: 'laughingsquid.com',\n",
       " 27593: 'www.101cookbooks.com',\n",
       " 26989: 'www.nombrepi.com',\n",
       " 43997: 'img.my.csdn.net',\n",
       " 39493: 'mittlivsomnerd.blogspot.fr',\n",
       " 11474: 'www.statelem.com',\n",
       " 24124: 'i1-js-14-3-01-10292-726839199-i.init.cedexis-radar.net',\n",
       " 16103: 'www.portail-du-chocolat.fr',\n",
       " 23262: 'www.mats-drapeaux-services.fr',\n",
       " 22105: 'i1-js-14-3-01-11074-809430997-i.init.cedexis-radar.net',\n",
       " 44202: 'img375.imageshack.us',\n",
       " 37395: 'www.188bifen.com',\n",
       " 8082: 'www.konbini.com',\n",
       " 10526: 'www.paperblog.fr',\n",
       " 11205: 'thumbnails.20min-tv.ch',\n",
       " 18254: 'web2.qq.com',\n",
       " 19857: 'i1-js-14-3-01-12160-588753946-i.init.cedexis-radar.net',\n",
       " 1911: 'www.pagerank-direct.fr',\n",
       " 13386: 'wwwi2.creativecow.com',\n",
       " 6889: 'www.m2iformation.fr',\n",
       " 43222: 'www.audemarspiguet.com',\n",
       " 28594: 'www.dooyoo.de',\n",
       " 36247: 'srt-dmp.xlisting.jp',\n",
       " 18554: 'www.fatcap.org',\n",
       " 2216: 'numericable.inq.com',\n",
       " 2625: 'www.letudiant.fr',\n",
       " 1340: 'gamercards.exophase.com',\n",
       " 10215: 'pro-networking-h17007.external.hp.com',\n",
       " 17033: 'geocheck.org',\n",
       " 41439: 'www.printoclock.com',\n",
       " 11615: 'cdnl.complexmedianetwork.com',\n",
       " 19372: 'ccaa.elpais.com',\n",
       " 31271: 'fond-ecran.linternaute.com',\n",
       " 11683: 'svn.codehaus.org',\n",
       " 40514: 'shop.vans.fr',\n",
       " 11916: 'img.xywy.com',\n",
       " 14795: 'kyqntw2cpo.s.ad6media.fr',\n",
       " 248: 'w.sharethis.com',\n",
       " 34271: 'ece.journaldunet.com',\n",
       " 33926: 'extranet.dpd.de',\n",
       " 46423: 'i1-js-14-3-01-10005-877434455-i.init.cedexis-radar.net',\n",
       " 17858: 'media.cadeaux.com',\n",
       " 44037: 'emboj.embopress.org',\n",
       " 28260: 'storify.com',\n",
       " 24602: 'produits.cdch.fr',\n",
       " 26438: 'i1-js-14-3-01-10036-606509992-i.init.cedexis-radar.net',\n",
       " 19887: 'avideos.5min.com',\n",
       " 4929: 'alumni.jcu.edu.au',\n",
       " 22378: 'd1ktyob8e4hu6c.cloudfront.net',\n",
       " 32168: 'support.skype.com',\n",
       " 14467: 'federation.ffvl.fr',\n",
       " 6245: 'agence.voyages-sncf.com',\n",
       " 25423: 'www.lasource.fr',\n",
       " 30915: 'www.jcpoiret.com',\n",
       " 12182: 'helmetgame.com',\n",
       " 47233: 'graphics.nytimes.com',\n",
       " 37198: 'beemp3s.org',\n",
       " 42132: 'org.img.loccitane.com',\n",
       " 12257: 'coeur-de-beurre.blogspot.com',\n",
       " 14337: 'cnes.cborg.fr',\n",
       " 15284: 'www.ruedusejour.com',\n",
       " 44893: 'images.designntrend.com',\n",
       " 7423: 'www.categorynet.com',\n",
       " 7728: 'cdn9.wn.com',\n",
       " 7475: 'failblog.cheezburger.com',\n",
       " 30847: 'tr2.cbsistatic.com',\n",
       " 42697: 'www.buzzfeed.com',\n",
       " 39796: '6.thumbs.hexagram.com',\n",
       " 898: 'ieonlinews.microsoft.com',\n",
       " 28141: 'sweeps.golfweek.com',\n",
       " 6379: 'www.colorado.edu',\n",
       " 25015: 'www.jeuxdemots.org',\n",
       " 45246: 'www.vivre-mieux.com',\n",
       " 4137: 'jices.legtux.org',\n",
       " 47064: 'i1-js-14-3-01-10169-527942025-i.init.cedexis-radar.net',\n",
       " 34001: 'img23.fansshare.com',\n",
       " 8963: 'silverlight.dlservice.microsoft.com',\n",
       " 32138: 'apps.skype.com',\n",
       " 12681: 'www.retro-colo.fr',\n",
       " 21701: 'ericd-training-concept.graphz.fr',\n",
       " 23272: 's.plurielles.fr',\n",
       " 208: 'www-gm3.univ-mrs.fr',\n",
       " 2053: 'online.carrefour.fr',\n",
       " 44294: 'ox.kazmm.com',\n",
       " 29667: 'i1-js-14-3-01-11074-412601640-i.init.cedexis-radar.net',\n",
       " 11966: 'www.aikan8.com',\n",
       " 6441: 'a.tiles.mapbox.com',\n",
       " 21280: 'fgallaire.flext.net',\n",
       " 48314: 'xml.mediastinct.com',\n",
       " 30726: 'fra-44.fra-rtb1.rfihub.com',\n",
       " 40986: 'i1-js-14-3-01-12160-379995977-i.init.cedexis-radar.net',\n",
       " 9159: 'www.sonelec-musique.com',\n",
       " 31693: 'i1-js-14-3-01-11074-386576786-i.init.cedexis-radar.net',\n",
       " 19734: 'www.bioinf.manchester.ac.uk',\n",
       " 43313: 'www.onsefaitchier.com',\n",
       " 18643: 'www.apmep.asso.fr',\n",
       " 9607: 'image.shutterstock.com',\n",
       " 38902: 'i1-js-14-3-01-10077-187497393-i.init.cedexis-radar.net',\n",
       " 2877: 'ufmfootball.footeo.com',\n",
       " 26131: 'i1-js-14-3-01-11987-159718109-i.init.cedexis-radar.net',\n",
       " 27315: 'img.be2.com',\n",
       " 27445: 'www.jardinchic.com',\n",
       " 45932: 'chrystel-mphotographies.blogspot.com',\n",
       " 34769: 'actuscan.files.wordpress.com',\n",
       " 47005: 'i1-js-14-3-01-11074-192088984-i.init.cedexis-radar.net',\n",
       " 40190: 'www.copypastecode.com',\n",
       " 466: 'fr-groupe01.videoplaza.tv',\n",
       " 46359: 'javapapers.com',\n",
       " 26641: 'www.groupe-cebtp.com',\n",
       " 13356: 'stat.blogorama.fr',\n",
       " 12483: 'www.actifpub.com',\n",
       " 9382: 'i1-js-14-3-01-11074-817407772-i.init.cedexis-radar.net',\n",
       " 42217: 'media.ch9.ms',\n",
       " 6231: 'pixel2038.everesttech.net',\n",
       " 28966: 'www.afrique-du-sud-2010.fr',\n",
       " 47544: 'federale.matchs-rugby.fr',\n",
       " 508: 'assets1.lefigaro.fr',\n",
       " 27839: 'idate1.163.com',\n",
       " 33561: 'www.matchendirect.fr',\n",
       " 17123: 'openx.cidj.com',\n",
       " 18224: 'www.web-sciences.com',\n",
       " 9181: 'electronics.stackexchange.com',\n",
       " 2653: 'n37.hal9000.redintelligence.net',\n",
       " 23808: 'billfortney.com',\n",
       " 12743: 'www.doctoralia.fr',\n",
       " 18169: 'qlogo.store.qq.com',\n",
       " 11527: 'whatheisteachingme.wordpress.com',\n",
       " 43986: 'ffp.airchina.com.cn',\n",
       " 33003: 'i1-js-14-3-01-11074-401071709-i.init.cedexis-radar.net',\n",
       " 15815: 'wiki.labomedia.org',\n",
       " 12007: 'www.bankofchina.com',\n",
       " 36620: 'i1-js-14-3-01-11074-402231090-i.init.cedexis-radar.net',\n",
       " 43920: 'cid-e30d94e95b6affde.users.storage.live.com',\n",
       " 2466: 'www.innogames.com',\n",
       " 30487: 'www.tiprof.fr',\n",
       " 39605: 'cid-d6bf976dfdf5d212.users.storage.live.com',\n",
       " 21731: 'aquitaine.france3.fr',\n",
       " 8833: 'www.zytrax.com',\n",
       " 12226: 'www.jogging-plus.com',\n",
       " 17182: 'www.lejsl.com',\n",
       " 8729: 'www4.ac-lille.fr',\n",
       " 33196: 'www.lyc-roger-claustres.ac-clermont.fr',\n",
       " 12261: 'www.cathy-bernot.com',\n",
       " 20376: 'www.consortium-horizon.com',\n",
       " 46859: 'i1-js-14-3-01-11074-509853477-i.init.cedexis-radar.net',\n",
       " 10790: 'universities.karzoo.eu',\n",
       " 33741: 'p4-hd3mcpz4hamjk-flct2lt5hixsqv4e-105944-i2-v6exp3-ds.metric.ipv6test.net',\n",
       " 34680: 'lc.jiathis.com',\n",
       " 15926: 's2128.t.eloqua.com',\n",
       " 42846: 'www.nccmt.ca',\n",
       " 13513: 'marketingtochina.com',\n",
       " 34410: 'i1-js-14-3-01-10005-618994110-i.init.cedexis-radar.net',\n",
       " 19840: 'i1-js-14-3-01-12160-111393771-i.init.cedexis-radar.net',\n",
       " 9773: 'www.games-workshop.com',\n",
       " 12576: 'www.developpement-durable-lavenir.com',\n",
       " 16435: 'www.com.univ-mrs.fr',\n",
       " 5085: 'ebureau.univ-reims.fr',\n",
       " 48152: 'www.oise.gouv.fr',\n",
       " 47322: 'clincancerres.aacrjournals.org',\n",
       " 33982: 'cid-ebb8e1f0012bdda6.users.storage.live.com',\n",
       " 17383: 'pojupoju.free.fr',\n",
       " 39594: 'www.webmonkey.com',\n",
       " 43362: 'www.nuxeo.com',\n",
       " 6056: 'documents.digischool.fr',\n",
       " 6970: 'go.leguide.com',\n",
       " 31362: 'cs-pont-de-dore.footeo.com',\n",
       " 2064: 'www.dansea.fr',\n",
       " 43448: 'i1-js-14-3-01-10334-51342691-i.init.cedexis-radar.net',\n",
       " 21034: 'entrainementrugby.com',\n",
       " 5622: 'images.lachainemeteo.com',\n",
       " 9461: 'fr.vampirediaries.wikia.com',\n",
       " 18604: 'minecraft.gamepedia.com',\n",
       " 15594: 'cid-61ab757b31f10659.users.storage.live.com',\n",
       " 16381: 'citeseerx.ist.psu.edu',\n",
       " 17190: 'fr.talend.com',\n",
       " 19705: 'cid-ead7876231361338.users.storage.live.com',\n",
       " 31664: 'images.le10sport.com',\n",
       " 40587: 'media.staps.nantes.free.fr',\n",
       " 23126: 'mameteo.lachainemeteo.com',\n",
       " 23079: 'search.mibbit.com',\n",
       " 2: 'hotmail.fr',\n",
       " 40616: 'i1-js-14-3-01-11544-97023739-i.init.cedexis-radar.net',\n",
       " 35258: 'felix.proba.jussieu.fr',\n",
       " 24700: 'www.madeinthepain.com',\n",
       " 23804: 'img.w9.fr',\n",
       " 15294: 'www.uniktour.com',\n",
       " 11719: 'eladies.sina.com.cn',\n",
       " 26892: 'www.thebody.com',\n",
       " 4155: 'eplayer.clipsyndicate.com',\n",
       " 17674: 'siteunder.unclejeans.com',\n",
       " 10109: 'www.easl.ee',\n",
       " 13079: 'conforama.commander1.com',\n",
       " 48057: 'ac18c62a85676f0de3dbe1374ebb8117d.profile.atl50.cloudfront.net',\n",
       " 18279: 'message.renren.com',\n",
       " 38018: 'dsidev2.univ-lyon1.fr',\n",
       " 1259: 'ubmcmm.baidustatic.com',\n",
       " 44265: 'flickr.yahoo.fr',\n",
       " 43263: 'www.acide-ici.fr',\n",
       " 14746: 'mood.chinanews.com.cn',\n",
       " 46184: 'www.levirage.qc.ca',\n",
       " 21661: 'r12---sn-hgn7zn7s.googlevideo.com',\n",
       " 7257: 'www.ingerium.com',\n",
       " 36690: 'images.cuisineaz.com',\n",
       " 16147: 'se.ethz.ch',\n",
       " 36467: 'static2.cdnmousebreaker.com',\n",
       " 39670: 'www.byperiscope.com',\n",
       " 44966: 'www.fantasy-discount.com',\n",
       " 37388: 'jean-pierre.cossard.pagesperso-orange.fr',\n",
       " 2514: 'dev.wikia.com',\n",
       " 11211: 'lavoixdunord.purl.fr',\n",
       " 18456: 'www.gametronik.com',\n",
       " 10033: 'www.traceparts.com',\n",
       " 47208: 'www.freefind.com',\n",
       " 18780: 'guendouz.wordpress.com',\n",
       " 10032: 'dl2.traceparts.com',\n",
       " 39180: 'marketing.external.xerox.com',\n",
       " 39771: 'images1.statlect.com',\n",
       " 26582: 'fig-st-die.education.fr',\n",
       " 27147: 'www.promo-reduction.fr',\n",
       " 33770: 'logwebstats.qut.edu.au',\n",
       " 24110: 'i1-js-14-3-01-10077-346208291-i.init.cedexis-radar.net',\n",
       " 38309: 'mp3.com',\n",
       " 4730: 'bks3.books.google.com',\n",
       " 23749: 'france-paralympique.fr',\n",
       " 42632: 'img1.picmix.com',\n",
       " 15890: 'www.cs.utah.edu',\n",
       " 8879: 'wii.mediagen.fr',\n",
       " 6075: 'www.surfcasting-shop.fr',\n",
       " 22185: 'geothermie.tpe.free.fr',\n",
       " 47604: 'informatiqueguerrefroide.e-monsite.com',\n",
       " 46867: 'i1-js-14-3-01-10077-658770730-i.init.cedexis-radar.net',\n",
       " 32532: 'scholar.rosettastone.com',\n",
       " 42473: 'aos-creative.prf.hn',\n",
       " 31672: 'journaldelarue.files.wordpress.com',\n",
       " 7811: 'i1-js-14-3-01-10252-156730976-i.init.cedexis-radar.net',\n",
       " 44900: 'www.nwherald.com',\n",
       " 32122: 'www.jeudmo.fr',\n",
       " 14858: 'lentreprise.lexpress.fr',\n",
       " 12153: 'www.quotemedia.com',\n",
       " 7671: 'ea.le10sport.com',\n",
       " 5629: 'www.aveyron-livres.fr',\n",
       " 45440: 'www.lulu.com',\n",
       " 18847: 'booking.volotea.com',\n",
       " 32568: 'twentysomethingcondition.files.wordpress.com',\n",
       " 38276: 'candidature.pole-emploi.fr',\n",
       " 20064: 'ww2.volcanodiscovery.com',\n",
       " 17568: 'www.soin-miracle.fr',\n",
       " 7118: 'hdstreamangas1.chatango.com',\n",
       " 42840: 'gops.usw105.mobstor.vip.gq1.yahoo.com',\n",
       " 22545: 'i1-js-14-3-01-10169-312556959-i.init.cedexis-radar.net',\n",
       " 10128: 'www.flixfacts.co.uk',\n",
       " 37784: 'cid-02d6d7266c7ebba8.users.storage.live.com',\n",
       " 1697: 'legonepeint.unblog.fr',\n",
       " 17303: 'epydoc.sourceforge.net',\n",
       " 14808: 'www.distrijob.fr',\n",
       " 29045: 'gg.tgbus.com',\n",
       " 21874: 'www.femmes.gouv.fr',\n",
       " 44169: 'i1-js-14-3-01-11074-232282937-i.init.cedexis-radar.net',\n",
       " 46060: 'publications-agora.fr',\n",
       " 2822: 'rad-emea.msn.com',\n",
       " 18199: 'ext.mdskip.taobao.com',\n",
       " 2646: 'cedexis-test01.insnw.net',\n",
       " 16401: 'www.jevaismieuxmerci.com',\n",
       " 21504: 'ssl.hurra.com',\n",
       " 45541: 'www.teen.com',\n",
       " 6446: 'www.shopuisgear.com',\n",
       " 28917: 'samgraphic18.files.wordpress.com',\n",
       " 48341: 'www.cancer-environnement.fr',\n",
       " 44253: 'dbffkv15yp72v.cloudfront.net',\n",
       " 6664: 'www.oksana.fr',\n",
       " 39752: 'www.sebmusset.net',\n",
       " 10005: 'images.websnapr.com',\n",
       " 47981: 'www.oxforddictionaries.com',\n",
       " 17463: 'img139.imageshack.us',\n",
       " 30593: 'acc.journaldunet.com',\n",
       " 25241: 'w021240.open.ge.tt',\n",
       " 47985: 'idre.ucla.edu',\n",
       " 42577: 'www.foilen.com',\n",
       " 5721: 'www.chartsinfrance.net',\n",
       " 32358: 'www.rebelmouse.com',\n",
       " 39643: 'sgeieg.fr',\n",
       " 27630: 'voxpublica.realitatea.net',\n",
       " 5804: 'www.scrineo-jeunesse.com',\n",
       " 2309: 'hiram3330.unblog.fr',\n",
       " 34354: 'i1-js-14-3-01-10005-747821615-i.init.cedexis-radar.net',\n",
       " 6257: 'www.smart-doc.org',\n",
       " 15226: 'www.festa2000.fr',\n",
       " 8699: 'media1.bricospirit.com',\n",
       " 48088: 'static.bisrv.com',\n",
       " 13649: 'f1732.mail.vip.ir2.yahoo.com',\n",
       " 46339: 'ocws.officeapps.live.com',\n",
       " 37904: 'mon.monster.fr',\n",
       " 2943: 'i36.servimg.com',\n",
       " 30721: 'youssfi.net',\n",
       " 44831: 'www.independent.ie',\n",
       " 33919: 'www.festivals.ed.ac.uk',\n",
       " 17489: 'image.excite.co.uk',\n",
       " 6732: 'a0.muscache.com',\n",
       " 12502: 'www.californiaindianeducation.org',\n",
       " 41485: 'ppoc.free.fr',\n",
       " 18176: 'm.baidu.com',\n",
       " 4177: 'mathematex.net',\n",
       " 36060: 'www.gothengine.com',\n",
       " 27190: 'cid-ed6c3e6a5c6608a4.users.storage.live.com',\n",
       " 25449: 'nadiabarthlome.blogspot.com',\n",
       " 45626: 'imagesci.com',\n",
       " 23411: 'video.informer.com',\n",
       " 38985: 'lectures.revues.org',\n",
       " 30167: 'i1-js-14-3-01-10077-822350377-i.init.cedexis-radar.net',\n",
       " 37798: 'www.plusbellelavignebio.com.preview12.oxito.com',\n",
       " 15141: 'n1rtux4ijc.b.ad6media.fr',\n",
       " 20528: 'grandequestion.over-blog.com',\n",
       " 44284: 'a47b231304d329487a826a7f2e264c4b8.profile.lax3.cloudfront.net',\n",
       " 44092: 'photo-luc-olivier.fr',\n",
       " 18686: 'oimagec2.ydstatic.com',\n",
       " 11044: 'i1-js-14-3-01-10977-717474700-i.init.cedexis-radar.net',\n",
       " 15676: 'assets.codepen.io',\n",
       " 16091: 'www.collegeview.com',\n",
       " 45388: 'www.alpesgeoconseil.com',\n",
       " 8816: 'psp-loc.mediagen.fr',\n",
       " 9524: 'www.mirari.fr',\n",
       " 15220: 'chroniquesduvastemonde.com',\n",
       " 27444: 'franceabris.com',\n",
       " 11030: 'www.gastonlagaffe.com',\n",
       " 22615: 'mathenpoche.sesamath.net',\n",
       " 8539: '8a.img.v4.skyrock.net',\n",
       " 1548: 'planet-terre.ens-lyon.fr',\n",
       " 4660: 'f995d2.r.axf8.net',\n",
       " 27373: 'asset2.serieweb.com',\n",
       " 32740: 'mathematiques.ac-bordeaux.fr',\n",
       " 7685: 'vnx.numergy.bench.cedexis.com',\n",
       " 46140: 'www.lanouvelleexpression.info',\n",
       " 1764: 'www.jacqueslanciault.com',\n",
       " 16845: 'www.trombiz.com',\n",
       " 25863: 'www.sohu.sports.com',\n",
       " 6201: 'rc.flight.qunar.com',\n",
       " 20244: 'api.allocine.fr',\n",
       " 20918: 'ppdb.tc.cornell.edu',\n",
       " 36646: 'cd32.static.noadradio.com',\n",
       " 34158: 'www.lycos.com',\n",
       " 8573: 'brightcove.canoe.com.edgesuite.net',\n",
       " 39469: 'journaldemontreal.disqus.com',\n",
       " 8767: 'reserver1chambre.fr',\n",
       " 38766: 'www.toro-distribution.com',\n",
       " 30577: 'kemis.pl',\n",
       " 25749: 'www.netline.es',\n",
       " 19309: 'claude.dreschel.free.fr',\n",
       " 46337: 'dcabasson.developpez.com',\n",
       " 4058: 'ping3.teamviewer.com',\n",
       " 11407: 'img5.xooimage.com',\n",
       " 45745: 'i1-js-14-3-01-10165-125307701-i.init.cedexis-radar.net',\n",
       " 26207: 'static1.aif.ru',\n",
       " 24405: 'www.hutchinsontransmission.fr',\n",
       " ...}"
      ]
     },
     "execution_count": 38,
     "metadata": {},
     "output_type": "execute_result"
    }
   ],
   "source": [
    "inv_site_dict"
   ]
  },
  {
   "cell_type": "code",
   "execution_count": 41,
   "metadata": {},
   "outputs": [
    {
     "name": "stdout",
     "output_type": "stream",
     "text": [
      "www.google.fr\n",
      "None\n",
      "www.google.com\n",
      "annotathon.org\n",
      "apis.google.com\n",
      "www.facebook.com\n",
      "www.bing.com\n",
      "blast.ncbi.nlm.nih.gov\n",
      "www.ncbi.nlm.nih.gov\n",
      "clients1.google.com\n"
     ]
    }
   ],
   "source": [
    "for i, _ in site_freqs:\n",
    "    print(inv_site_dict.get(i))"
   ]
  },
  {
   "cell_type": "code",
   "execution_count": 50,
   "metadata": {},
   "outputs": [],
   "source": [
    "import numpy as np\n",
    "from scipy.sparse import csr_matrix"
   ]
  },
  {
   "cell_type": "code",
   "execution_count": 53,
   "metadata": {},
   "outputs": [
    {
     "data": {
      "text/plain": [
       "array([[0., 0., 0., 0., 0., 0., 0., 0., 0., 0.],\n",
       "       [0., 0., 0., 0., 0., 0., 0., 0., 0., 0.],\n",
       "       [0., 0., 0., 0., 0., 0., 0., 0., 0., 0.]])"
      ]
     },
     "execution_count": 53,
     "metadata": {},
     "output_type": "execute_result"
    }
   ],
   "source": [
    "a = np.zeros([3, 10])\n",
    "a"
   ]
  },
  {
   "cell_type": "code",
   "execution_count": 54,
   "metadata": {},
   "outputs": [],
   "source": [
    "a[0, 6] = 5\n",
    "a[0, 8] = 1\n",
    "a[1, 1] = 3\n",
    "a[2, 3] = 2"
   ]
  },
  {
   "cell_type": "code",
   "execution_count": 55,
   "metadata": {},
   "outputs": [
    {
     "data": {
      "text/plain": [
       "array([[0., 0., 0., 0., 0., 0., 5., 0., 1., 0.],\n",
       "       [0., 3., 0., 0., 0., 0., 0., 0., 0., 0.],\n",
       "       [0., 0., 0., 2., 0., 0., 0., 0., 0., 0.]])"
      ]
     },
     "execution_count": 55,
     "metadata": {},
     "output_type": "execute_result"
    }
   ],
   "source": [
    "a"
   ]
  },
  {
   "cell_type": "code",
   "execution_count": 56,
   "metadata": {},
   "outputs": [],
   "source": [
    "a_sparse = csr_matrix(a)"
   ]
  },
  {
   "cell_type": "code",
   "execution_count": 57,
   "metadata": {},
   "outputs": [
    {
     "data": {
      "text/plain": [
       "<3x10 sparse matrix of type '<class 'numpy.float64'>'\n",
       "\twith 4 stored elements in Compressed Sparse Row format>"
      ]
     },
     "execution_count": 57,
     "metadata": {},
     "output_type": "execute_result"
    }
   ],
   "source": [
    "a_sparse"
   ]
  },
  {
   "cell_type": "code",
   "execution_count": 58,
   "metadata": {},
   "outputs": [
    {
     "data": {
      "text/plain": [
       "(array([0, 0, 1, 2], dtype=int32), array([6, 8, 1, 3], dtype=int32))"
      ]
     },
     "execution_count": 58,
     "metadata": {},
     "output_type": "execute_result"
    }
   ],
   "source": [
    "a_sparse.nonzero()"
   ]
  },
  {
   "cell_type": "code",
   "execution_count": 59,
   "metadata": {},
   "outputs": [
    {
     "data": {
      "text/plain": [
       "array([5., 1., 3., 2.])"
      ]
     },
     "execution_count": 59,
     "metadata": {},
     "output_type": "execute_result"
    }
   ],
   "source": [
    "a_sparse.data"
   ]
  },
  {
   "cell_type": "code",
   "execution_count": 60,
   "metadata": {},
   "outputs": [
    {
     "data": {
      "text/plain": [
       "array([[0., 0., 0., 0., 0., 0., 5., 0., 1., 0.],\n",
       "       [0., 3., 0., 0., 0., 0., 0., 0., 0., 0.],\n",
       "       [0., 0., 0., 2., 0., 0., 0., 0., 0., 0.]])"
      ]
     },
     "execution_count": 60,
     "metadata": {},
     "output_type": "execute_result"
    }
   ],
   "source": [
    "a"
   ]
  },
  {
   "cell_type": "code",
   "execution_count": 61,
   "metadata": {},
   "outputs": [
    {
     "data": {
      "text/html": [
       "<div>\n",
       "<style scoped>\n",
       "    .dataframe tbody tr th:only-of-type {\n",
       "        vertical-align: middle;\n",
       "    }\n",
       "\n",
       "    .dataframe tbody tr th {\n",
       "        vertical-align: top;\n",
       "    }\n",
       "\n",
       "    .dataframe thead th {\n",
       "        text-align: right;\n",
       "    }\n",
       "</style>\n",
       "<table border=\"1\" class=\"dataframe\">\n",
       "  <thead>\n",
       "    <tr style=\"text-align: right;\">\n",
       "      <th></th>\n",
       "      <th>site1</th>\n",
       "      <th>site2</th>\n",
       "      <th>site3</th>\n",
       "      <th>site4</th>\n",
       "      <th>site5</th>\n",
       "      <th>site6</th>\n",
       "      <th>site7</th>\n",
       "      <th>site8</th>\n",
       "      <th>site9</th>\n",
       "      <th>site10</th>\n",
       "    </tr>\n",
       "  </thead>\n",
       "  <tbody>\n",
       "    <tr>\n",
       "      <th>0</th>\n",
       "      <td>718</td>\n",
       "      <td>NaN</td>\n",
       "      <td>NaN</td>\n",
       "      <td>NaN</td>\n",
       "      <td>NaN</td>\n",
       "      <td>NaN</td>\n",
       "      <td>NaN</td>\n",
       "      <td>NaN</td>\n",
       "      <td>NaN</td>\n",
       "      <td>NaN</td>\n",
       "    </tr>\n",
       "    <tr>\n",
       "      <th>1</th>\n",
       "      <td>890</td>\n",
       "      <td>941.0</td>\n",
       "      <td>3847.0</td>\n",
       "      <td>941.0</td>\n",
       "      <td>942.0</td>\n",
       "      <td>3846.0</td>\n",
       "      <td>3847.0</td>\n",
       "      <td>3846.0</td>\n",
       "      <td>1516.0</td>\n",
       "      <td>1518.0</td>\n",
       "    </tr>\n",
       "    <tr>\n",
       "      <th>2</th>\n",
       "      <td>14769</td>\n",
       "      <td>39.0</td>\n",
       "      <td>14768.0</td>\n",
       "      <td>14769.0</td>\n",
       "      <td>37.0</td>\n",
       "      <td>39.0</td>\n",
       "      <td>14768.0</td>\n",
       "      <td>14768.0</td>\n",
       "      <td>14768.0</td>\n",
       "      <td>14768.0</td>\n",
       "    </tr>\n",
       "    <tr>\n",
       "      <th>3</th>\n",
       "      <td>782</td>\n",
       "      <td>782.0</td>\n",
       "      <td>782.0</td>\n",
       "      <td>782.0</td>\n",
       "      <td>782.0</td>\n",
       "      <td>782.0</td>\n",
       "      <td>782.0</td>\n",
       "      <td>782.0</td>\n",
       "      <td>782.0</td>\n",
       "      <td>782.0</td>\n",
       "    </tr>\n",
       "    <tr>\n",
       "      <th>4</th>\n",
       "      <td>22</td>\n",
       "      <td>177.0</td>\n",
       "      <td>175.0</td>\n",
       "      <td>178.0</td>\n",
       "      <td>177.0</td>\n",
       "      <td>178.0</td>\n",
       "      <td>175.0</td>\n",
       "      <td>177.0</td>\n",
       "      <td>177.0</td>\n",
       "      <td>178.0</td>\n",
       "    </tr>\n",
       "  </tbody>\n",
       "</table>\n",
       "</div>"
      ],
      "text/plain": [
       "   site1  site2    site3    site4  site5   site6    site7    site8    site9  \\\n",
       "0    718    NaN      NaN      NaN    NaN     NaN      NaN      NaN      NaN   \n",
       "1    890  941.0   3847.0    941.0  942.0  3846.0   3847.0   3846.0   1516.0   \n",
       "2  14769   39.0  14768.0  14769.0   37.0    39.0  14768.0  14768.0  14768.0   \n",
       "3    782  782.0    782.0    782.0  782.0   782.0    782.0    782.0    782.0   \n",
       "4     22  177.0    175.0    178.0  177.0   178.0    175.0    177.0    177.0   \n",
       "\n",
       "    site10  \n",
       "0      NaN  \n",
       "1   1518.0  \n",
       "2  14768.0  \n",
       "3    782.0  \n",
       "4    178.0  "
      ]
     },
     "execution_count": 61,
     "metadata": {},
     "output_type": "execute_result"
    }
   ],
   "source": [
    "train_df[features].head()"
   ]
  },
  {
   "cell_type": "code",
   "execution_count": 62,
   "metadata": {},
   "outputs": [],
   "source": [
    "from sklearn.feature_extraction.text import CountVectorizer"
   ]
  },
  {
   "cell_type": "code",
   "execution_count": 74,
   "metadata": {},
   "outputs": [
    {
     "data": {
      "text/plain": [
       "CountVectorizer(analyzer='word', binary=False, decode_error='strict',\n",
       "        dtype=<class 'numpy.int64'>, encoding='utf-8', input='content',\n",
       "        lowercase=True, max_df=1.0, max_features=None, min_df=1,\n",
       "        ngram_range=(1, 1), preprocessor=None, stop_words=None,\n",
       "        strip_accents=None, token_pattern='(?u)\\\\b\\\\w\\\\w+\\\\b',\n",
       "        tokenizer=None, vocabulary=None)"
      ]
     },
     "execution_count": 74,
     "metadata": {},
     "output_type": "execute_result"
    }
   ],
   "source": [
    "cv = CountVectorizer()\n",
    "texts = ['hello world', \n",
    "         \"hello, I'm Yury\", \n",
    "         \"who is Yury, Yury is a guy\"]\n",
    "cv.fit(texts)"
   ]
  },
  {
   "cell_type": "code",
   "execution_count": 75,
   "metadata": {},
   "outputs": [
    {
     "data": {
      "text/plain": [
       "{'guy': 0, 'hello': 1, 'is': 2, 'who': 3, 'world': 4, 'yury': 5}"
      ]
     },
     "execution_count": 75,
     "metadata": {},
     "output_type": "execute_result"
    }
   ],
   "source": [
    "cv.vocabulary_"
   ]
  },
  {
   "cell_type": "code",
   "execution_count": 76,
   "metadata": {},
   "outputs": [],
   "source": [
    "sparse_repr = cv.transform(texts)"
   ]
  },
  {
   "cell_type": "code",
   "execution_count": 77,
   "metadata": {},
   "outputs": [
    {
     "data": {
      "text/plain": [
       "<3x6 sparse matrix of type '<class 'numpy.int64'>'\n",
       "\twith 8 stored elements in Compressed Sparse Row format>"
      ]
     },
     "execution_count": 77,
     "metadata": {},
     "output_type": "execute_result"
    }
   ],
   "source": [
    "sparse_repr"
   ]
  },
  {
   "cell_type": "code",
   "execution_count": 78,
   "metadata": {},
   "outputs": [
    {
     "data": {
      "text/plain": [
       "((array([0, 0, 1, 1, 2, 2, 2, 2], dtype=int32),\n",
       "  array([1, 4, 1, 5, 0, 2, 3, 5], dtype=int32)),\n",
       " array([1, 1, 1, 1, 1, 2, 1, 2]))"
      ]
     },
     "execution_count": 78,
     "metadata": {},
     "output_type": "execute_result"
    }
   ],
   "source": [
    "sparse_repr.nonzero(), sparse_repr.data"
   ]
  },
  {
   "cell_type": "code",
   "execution_count": 82,
   "metadata": {},
   "outputs": [],
   "source": [
    "train_df[features].fillna(0).astype('int').to_csv('../../data/train_sessions_space_delim.txt',\n",
    "                                       sep=' ', index=None, header=None)"
   ]
  },
  {
   "cell_type": "code",
   "execution_count": 84,
   "metadata": {},
   "outputs": [],
   "source": [
    "test_df[features].fillna(0).astype('int').to_csv('../../data/test_sessions_space_delim.txt',\n",
    "                                       sep=' ', index=None, header=None)"
   ]
  },
  {
   "cell_type": "code",
   "execution_count": 83,
   "metadata": {},
   "outputs": [
    {
     "name": "stdout",
     "output_type": "stream",
     "text": [
      "718 0 0 0 0 0 0 0 0 0\r\n",
      "890 941 3847 941 942 3846 3847 3846 1516 1518\r\n",
      "14769 39 14768 14769 37 39 14768 14768 14768 14768\r\n",
      "782 782 782 782 782 782 782 782 782 782\r\n",
      "22 177 175 178 177 178 175 177 177 178\r\n",
      "570 21 570 21 21 0 0 0 0 0\r\n",
      "803 23 5956 17513 37 21 803 17514 17514 17514\r\n",
      "22 21 29 5041 14422 23 21 5041 14421 14421\r\n",
      "668 940 942 941 941 942 940 23 21 22\r\n",
      "3700 229 570 21 229 21 21 21 2336 2044\r\n"
     ]
    }
   ],
   "source": [
    "!head ../../data/train_sessions_space_delim.txt"
   ]
  },
  {
   "cell_type": "code",
   "execution_count": 86,
   "metadata": {},
   "outputs": [
    {
     "name": "stdout",
     "output_type": "stream",
     "text": [
      "CPU times: user 2.68 s, sys: 65.5 ms, total: 2.74 s\n",
      "Wall time: 2.74 s\n"
     ]
    }
   ],
   "source": [
    "%%time\n",
    "cv = CountVectorizer()\n",
    "with open('../../data/train_sessions_space_delim.txt') as inp_file:\n",
    "    X_train_sparse = cv.fit_transform(inp_file)"
   ]
  },
  {
   "cell_type": "code",
   "execution_count": 89,
   "metadata": {},
   "outputs": [
    {
     "data": {
      "text/plain": [
       "<253561x41592 sparse matrix of type '<class 'numpy.int64'>'\n",
       "\twith 1403272 stored elements in Compressed Sparse Row format>"
      ]
     },
     "execution_count": 89,
     "metadata": {},
     "output_type": "execute_result"
    }
   ],
   "source": [
    "X_train_sparse"
   ]
  },
  {
   "cell_type": "code",
   "execution_count": 90,
   "metadata": {},
   "outputs": [],
   "source": [
    "with open('../../data/test_sessions_space_delim.txt') as inp_file:\n",
    "    X_test_sparse = cv.transform(inp_file)"
   ]
  },
  {
   "cell_type": "code",
   "execution_count": 91,
   "metadata": {},
   "outputs": [
    {
     "data": {
      "text/plain": [
       "<82797x41592 sparse matrix of type '<class 'numpy.int64'>'\n",
       "\twith 414906 stored elements in Compressed Sparse Row format>"
      ]
     },
     "execution_count": 91,
     "metadata": {},
     "output_type": "execute_result"
    }
   ],
   "source": [
    "X_test_sparse"
   ]
  },
  {
   "cell_type": "code",
   "execution_count": 94,
   "metadata": {},
   "outputs": [
    {
     "data": {
      "text/plain": [
       "((array([0], dtype=int32), array([38462], dtype=int32)), array([1]))"
      ]
     },
     "execution_count": 94,
     "metadata": {},
     "output_type": "execute_result"
    }
   ],
   "source": [
    "X_train_sparse[0, :].nonzero(), X_train_sparse[0, :].data"
   ]
  },
  {
   "cell_type": "code",
   "execution_count": 96,
   "metadata": {},
   "outputs": [],
   "source": [
    "from sklearn.linear_model import LogisticRegression"
   ]
  },
  {
   "cell_type": "code",
   "execution_count": 98,
   "metadata": {},
   "outputs": [],
   "source": [
    "logit = LogisticRegression(random_state=17)"
   ]
  },
  {
   "cell_type": "code",
   "execution_count": 99,
   "metadata": {},
   "outputs": [
    {
     "name": "stdout",
     "output_type": "stream",
     "text": [
      "CPU times: user 4.06 s, sys: 44.1 ms, total: 4.1 s\n",
      "Wall time: 4.11 s\n"
     ]
    },
    {
     "data": {
      "text/plain": [
       "LogisticRegression(C=1.0, class_weight=None, dual=False, fit_intercept=True,\n",
       "          intercept_scaling=1, max_iter=100, multi_class='ovr', n_jobs=1,\n",
       "          penalty='l2', random_state=17, solver='liblinear', tol=0.0001,\n",
       "          verbose=0, warm_start=False)"
      ]
     },
     "execution_count": 99,
     "metadata": {},
     "output_type": "execute_result"
    }
   ],
   "source": [
    "%%time\n",
    "logit.fit(X_train_sparse, y_train)"
   ]
  },
  {
   "cell_type": "code",
   "execution_count": 100,
   "metadata": {},
   "outputs": [
    {
     "data": {
      "text/plain": [
       "array([[ 5.63456058e-01, -4.60401830e-04, -1.64367711e-02, ...,\n",
       "        -4.44552266e-02, -5.49560680e-04, -5.30144564e-02]])"
      ]
     },
     "execution_count": 100,
     "metadata": {},
     "output_type": "execute_result"
    }
   ],
   "source": [
    "logit.coef_"
   ]
  },
  {
   "cell_type": "code",
   "execution_count": 118,
   "metadata": {},
   "outputs": [],
   "source": [
    "from sklearn.metrics import accuracy_score, roc_auc_score, recall_score, confusion_matrix"
   ]
  },
  {
   "cell_type": "code",
   "execution_count": 102,
   "metadata": {},
   "outputs": [],
   "source": [
    "from sklearn.model_selection import train_test_split"
   ]
  },
  {
   "cell_type": "code",
   "execution_count": 105,
   "metadata": {},
   "outputs": [],
   "source": [
    "X_train_part, X_valid, y_train_part, y_valid = train_test_split(X_train_sparse, y_train,\n",
    "                                                               test_size=0.3, shuffle=True,\n",
    "                                                               random_state=17,\n",
    "                                                               stratify=y_train)"
   ]
  },
  {
   "cell_type": "code",
   "execution_count": 106,
   "metadata": {},
   "outputs": [
    {
     "name": "stdout",
     "output_type": "stream",
     "text": [
      "CPU times: user 2.87 s, sys: 22.7 ms, total: 2.9 s\n",
      "Wall time: 2.9 s\n"
     ]
    },
    {
     "data": {
      "text/plain": [
       "LogisticRegression(C=1.0, class_weight=None, dual=False, fit_intercept=True,\n",
       "          intercept_scaling=1, max_iter=100, multi_class='ovr', n_jobs=1,\n",
       "          penalty='l2', random_state=17, solver='liblinear', tol=0.0001,\n",
       "          verbose=0, warm_start=False)"
      ]
     },
     "execution_count": 106,
     "metadata": {},
     "output_type": "execute_result"
    }
   ],
   "source": [
    "%%time\n",
    "logit.fit(X_train_part, y_train_part)"
   ]
  },
  {
   "cell_type": "code",
   "execution_count": 107,
   "metadata": {},
   "outputs": [
    {
     "data": {
      "text/plain": [
       "0.9919678186909253"
      ]
     },
     "execution_count": 107,
     "metadata": {},
     "output_type": "execute_result"
    }
   ],
   "source": [
    "accuracy_score(y_valid, logit.predict(X_valid))"
   ]
  },
  {
   "cell_type": "code",
   "execution_count": 109,
   "metadata": {},
   "outputs": [
    {
     "data": {
      "text/plain": [
       "0.9909424338429583"
      ]
     },
     "execution_count": 109,
     "metadata": {},
     "output_type": "execute_result"
    }
   ],
   "source": [
    "1 - y_valid.mean()"
   ]
  },
  {
   "cell_type": "code",
   "execution_count": 113,
   "metadata": {},
   "outputs": [
    {
     "data": {
      "text/plain": [
       "0.9616043974197881"
      ]
     },
     "execution_count": 113,
     "metadata": {},
     "output_type": "execute_result"
    }
   ],
   "source": [
    "roc_auc_score(y_valid, logit.predict_proba(X_valid)[:, 1])"
   ]
  },
  {
   "cell_type": "code",
   "execution_count": 115,
   "metadata": {},
   "outputs": [
    {
     "data": {
      "text/plain": [
       "0.1741654571843251"
      ]
     },
     "execution_count": 115,
     "metadata": {},
     "output_type": "execute_result"
    }
   ],
   "source": [
    "recall_score(y_valid, logit.predict(X_valid))"
   ]
  },
  {
   "cell_type": "code",
   "execution_count": 117,
   "metadata": {},
   "outputs": [
    {
     "data": {
      "text/plain": [
       "(689, 76069)"
      ]
     },
     "execution_count": 117,
     "metadata": {},
     "output_type": "execute_result"
    }
   ],
   "source": [
    "y_valid.sum(), y_valid.shape[0]"
   ]
  },
  {
   "cell_type": "code",
   "execution_count": 119,
   "metadata": {},
   "outputs": [
    {
     "data": {
      "text/plain": [
       "array([[75338,    42],\n",
       "       [  569,   120]])"
      ]
     },
     "execution_count": 119,
     "metadata": {},
     "output_type": "execute_result"
    }
   ],
   "source": [
    "confusion_matrix(y_valid, logit.predict(X_valid))"
   ]
  },
  {
   "cell_type": "code",
   "execution_count": 120,
   "metadata": {},
   "outputs": [
    {
     "data": {
      "text/plain": [
       "LogisticRegression(C=1.0, class_weight=None, dual=False, fit_intercept=True,\n",
       "          intercept_scaling=1, max_iter=100, multi_class='ovr', n_jobs=1,\n",
       "          penalty='l2', random_state=17, solver='liblinear', tol=0.0001,\n",
       "          verbose=0, warm_start=False)"
      ]
     },
     "execution_count": 120,
     "metadata": {},
     "output_type": "execute_result"
    }
   ],
   "source": [
    "logit.fit(X_train_sparse, y_train)"
   ]
  },
  {
   "cell_type": "code",
   "execution_count": 121,
   "metadata": {},
   "outputs": [],
   "source": [
    "logit_test_pred = logit.predict_proba(X_test_sparse)[:, 1]"
   ]
  },
  {
   "cell_type": "code",
   "execution_count": 122,
   "metadata": {},
   "outputs": [
    {
     "data": {
      "text/plain": [
       "(82797,)"
      ]
     },
     "execution_count": 122,
     "metadata": {},
     "output_type": "execute_result"
    }
   ],
   "source": [
    "logit_test_pred.shape"
   ]
  },
  {
   "cell_type": "code",
   "execution_count": 125,
   "metadata": {},
   "outputs": [],
   "source": [
    "sample_subm = pd.read_csv('../../data/alice_sample_submission.csv', index_col='session_id')"
   ]
  },
  {
   "cell_type": "code",
   "execution_count": 126,
   "metadata": {},
   "outputs": [
    {
     "data": {
      "text/html": [
       "<div>\n",
       "<style scoped>\n",
       "    .dataframe tbody tr th:only-of-type {\n",
       "        vertical-align: middle;\n",
       "    }\n",
       "\n",
       "    .dataframe tbody tr th {\n",
       "        vertical-align: top;\n",
       "    }\n",
       "\n",
       "    .dataframe thead th {\n",
       "        text-align: right;\n",
       "    }\n",
       "</style>\n",
       "<table border=\"1\" class=\"dataframe\">\n",
       "  <thead>\n",
       "    <tr style=\"text-align: right;\">\n",
       "      <th></th>\n",
       "      <th>target</th>\n",
       "    </tr>\n",
       "    <tr>\n",
       "      <th>session_id</th>\n",
       "      <th></th>\n",
       "    </tr>\n",
       "  </thead>\n",
       "  <tbody>\n",
       "    <tr>\n",
       "      <th>1</th>\n",
       "      <td>0.948255</td>\n",
       "    </tr>\n",
       "    <tr>\n",
       "      <th>2</th>\n",
       "      <td>0.682483</td>\n",
       "    </tr>\n",
       "    <tr>\n",
       "      <th>3</th>\n",
       "      <td>0.502855</td>\n",
       "    </tr>\n",
       "    <tr>\n",
       "      <th>4</th>\n",
       "      <td>0.345556</td>\n",
       "    </tr>\n",
       "    <tr>\n",
       "      <th>5</th>\n",
       "      <td>0.889428</td>\n",
       "    </tr>\n",
       "  </tbody>\n",
       "</table>\n",
       "</div>"
      ],
      "text/plain": [
       "              target\n",
       "session_id          \n",
       "1           0.948255\n",
       "2           0.682483\n",
       "3           0.502855\n",
       "4           0.345556\n",
       "5           0.889428"
      ]
     },
     "execution_count": 126,
     "metadata": {},
     "output_type": "execute_result"
    }
   ],
   "source": [
    "sample_subm.head()"
   ]
  },
  {
   "cell_type": "code",
   "execution_count": 127,
   "metadata": {},
   "outputs": [],
   "source": [
    "sample_subm['target'] = logit_test_pred"
   ]
  },
  {
   "cell_type": "code",
   "execution_count": 128,
   "metadata": {},
   "outputs": [
    {
     "data": {
      "text/html": [
       "<div>\n",
       "<style scoped>\n",
       "    .dataframe tbody tr th:only-of-type {\n",
       "        vertical-align: middle;\n",
       "    }\n",
       "\n",
       "    .dataframe tbody tr th {\n",
       "        vertical-align: top;\n",
       "    }\n",
       "\n",
       "    .dataframe thead th {\n",
       "        text-align: right;\n",
       "    }\n",
       "</style>\n",
       "<table border=\"1\" class=\"dataframe\">\n",
       "  <thead>\n",
       "    <tr style=\"text-align: right;\">\n",
       "      <th></th>\n",
       "      <th>target</th>\n",
       "    </tr>\n",
       "    <tr>\n",
       "      <th>session_id</th>\n",
       "      <th></th>\n",
       "    </tr>\n",
       "  </thead>\n",
       "  <tbody>\n",
       "    <tr>\n",
       "      <th>1</th>\n",
       "      <td>2.429866e-03</td>\n",
       "    </tr>\n",
       "    <tr>\n",
       "      <th>2</th>\n",
       "      <td>5.106001e-09</td>\n",
       "    </tr>\n",
       "    <tr>\n",
       "      <th>3</th>\n",
       "      <td>1.884191e-08</td>\n",
       "    </tr>\n",
       "    <tr>\n",
       "      <th>4</th>\n",
       "      <td>3.001811e-08</td>\n",
       "    </tr>\n",
       "    <tr>\n",
       "      <th>5</th>\n",
       "      <td>3.344001e-05</td>\n",
       "    </tr>\n",
       "  </tbody>\n",
       "</table>\n",
       "</div>"
      ],
      "text/plain": [
       "                  target\n",
       "session_id              \n",
       "1           2.429866e-03\n",
       "2           5.106001e-09\n",
       "3           1.884191e-08\n",
       "4           3.001811e-08\n",
       "5           3.344001e-05"
      ]
     },
     "execution_count": 128,
     "metadata": {},
     "output_type": "execute_result"
    }
   ],
   "source": [
    "sample_subm.head()"
   ]
  },
  {
   "cell_type": "code",
   "execution_count": 129,
   "metadata": {},
   "outputs": [],
   "source": [
    "sample_subm.to_csv('alice_first_submission.csv')"
   ]
  },
  {
   "cell_type": "code",
   "execution_count": 130,
   "metadata": {},
   "outputs": [
    {
     "name": "stdout",
     "output_type": "stream",
     "text": [
      "session_id,target\r\n",
      "1,0.0024298658360507285\r\n",
      "2,5.106001352403285e-09\r\n",
      "3,1.884191201405876e-08\r\n",
      "4,3.001811358798685e-08\r\n",
      "5,3.344001301837542e-05\r\n",
      "6,0.00029145378368981807\r\n",
      "7,0.0008029988079506223\r\n",
      "8,0.0001664563047680165\r\n",
      "9,0.0009129090741140757\r\n"
     ]
    }
   ],
   "source": [
    "!head alice_first_submission.csv"
   ]
  },
  {
   "cell_type": "code",
   "execution_count": null,
   "metadata": {},
   "outputs": [],
   "source": []
  },
  {
   "cell_type": "code",
   "execution_count": null,
   "metadata": {},
   "outputs": [],
   "source": []
  },
  {
   "cell_type": "code",
   "execution_count": null,
   "metadata": {},
   "outputs": [],
   "source": []
  },
  {
   "cell_type": "code",
   "execution_count": null,
   "metadata": {},
   "outputs": [],
   "source": []
  }
 ],
 "metadata": {
  "kernelspec": {
   "display_name": "Python 3",
   "language": "python",
   "name": "python3"
  },
  "language_info": {
   "codemirror_mode": {
    "name": "ipython",
    "version": 3
   },
   "file_extension": ".py",
   "mimetype": "text/x-python",
   "name": "python",
   "nbconvert_exporter": "python",
   "pygments_lexer": "ipython3",
   "version": "3.6.1"
  }
 },
 "nbformat": 4,
 "nbformat_minor": 2
}
