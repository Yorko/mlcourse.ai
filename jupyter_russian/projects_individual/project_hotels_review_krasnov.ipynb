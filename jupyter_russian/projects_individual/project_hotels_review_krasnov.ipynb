{
 "cells": [
  {
   "cell_type": "markdown",
   "metadata": {
    "colab_type": "text",
    "id": "TdIkb5-JsdjV"
   },
   "source": [
    "<center>\n",
    "## Открытый курс по машинному обучению. Сессия № 3\n",
    "\n",
    "### <center> Автор материала: Краснов Дмитрий Анатольевич"
   ]
  },
  {
   "cell_type": "markdown",
   "metadata": {
    "colab_type": "text",
    "id": "77JBtOljsdjX"
   },
   "source": [
    "## <center> Индивидуальный проект по анализу данных </center>"
   ]
  },
  {
   "cell_type": "markdown",
   "metadata": {},
   "source": [
    "## <center> Прогнозирование рейтинга отеля </center>"
   ]
  },
  {
   "cell_type": "code",
   "execution_count": null,
   "metadata": {
    "colab": {
     "autoexec": {
      "startup": false,
      "wait_interval": 0
     }
    },
    "colab_type": "code",
    "id": "DgD1UFu_sdjY"
   },
   "outputs": [],
   "source": [
    "import random\n",
    "import re\n",
    "from collections import Counter\n",
    "\n",
    "import numpy as np\n",
    "import pandas as pd\n",
    "\n",
    "from scipy import stats\n",
    "from scipy.sparse import csr_matrix, hstack\n",
    "\n",
    "from sklearn.linear_model import Ridge, Lasso\n",
    "from sklearn.model_selection import TimeSeriesSplit, GridSearchCV, learning_curve\n",
    "from sklearn.preprocessing import StandardScaler, LabelEncoder, OneHotEncoder\n",
    "from sklearn.metrics import mean_absolute_error\n",
    "from sklearn.feature_extraction.text import CountVectorizer\n",
    "import lightgbm as lgb\n",
    "\n",
    "import warnings\n",
    "warnings.filterwarnings(\"ignore\")\n",
    "\n",
    "from matplotlib import pyplot as plt\n",
    "import seaborn as sns\n",
    "\n",
    "%matplotlib inline\n",
    "sns.set(rc={'figure.figsize':(15,10)})\n",
    "sns.set_style(\"darkgrid\")\n",
    "random.seed(42)"
   ]
  },
  {
   "cell_type": "markdown",
   "metadata": {
    "colab_type": "text",
    "id": "Jgnfr7Gosdjc"
   },
   "source": [
    "###  Часть 1. Описание набора данных и признаков"
   ]
  },
  {
   "cell_type": "markdown",
   "metadata": {
    "colab_type": "text",
    "id": "0xQOM47d9YSq"
   },
   "source": [
    " В интернете существует множество различных сайтов с рейтингами и рекомендательных систем - что логично, ведь гораздо лучше узнать качество услуги/товара пользуясь чужими ошибками, а не своими. Например, планируя путешествие разумно будет изучить рейтинги отелей, чтобы не оказаться в ситуации когда отпуск будет испорчен ужасными условиями проживания. Такой рейтинг можно найти например на сайтах, которые предлагают услуги бронирования. И как можно догадаться, именно отзывы посетителей будут анализироваться в данном индивидуальном проекте - [Jason Liu](https://www.kaggle.com/jiashenliu/datasets) любезно выложил на kaggle датасет с отзывами. Этот набор данных содержит 515,000 оценок отзывов посетителей 1493 отелей в европе. Изначально данные получены путем скраппинга сайта booking.com, сам датасет был скачан [по этой ссылке](https://www.kaggle.com/jiashenliu/515k-hotel-reviews-data-in-europe).\n",
    " \n",
    "В исходном файле содержатся 17 признаков - \n",
    "\n",
    "*   Hotel_Address: Адрес отеля\n",
    "*   Review_Date: Дата написания отзыва\n",
    "*   Average_Score: Средняя оценка отеля, рассчитанная на основе комментариев за прошлый год.\n",
    "*   Hotel_Name: Название отеля\n",
    "*   Reviewer_Nationality: Национальность посетителя\n",
    "*   Negative_Review: Негативный отзыв, оставленный посетителем. Если автор не оставил негативный отзыв, значением будет 'No Negative'\n",
    "*   Review_Total_Negative_Word_Counts: Количество слов в негативном отзыве.\n",
    "*   Positive_Review: Положительный отзыв, оставленный посетителем. Если автор не оставил положительный отзыв, значением будет 'No Positive'\n",
    "*   Review_Total_Positive_Word_Counts: Количество слов в позитивном отзыве.\n",
    "*   Reviewer_Score: Оценка, которую автор дал посещенному отелю, основываясь на своем опыте.\n",
    "*   Total_Number_of_Reviews_Reviewer_Has_Given: Число отзывов, которые автор оставлял ранее\n",
    "*   Total_Number_of_Reviews: Число отзывов, оставленных отелю\n",
    "*   Tags: Тэги проставленные отдыхающим\n",
    "*   days_since_review: Количество дней которое прошло между датой отзыва и датой сбора данных\n",
    "*   Additional_Number_of_Scoring: Некоторые люди не пишут отзыв, а просто ставят оценку. Данный параметр показывает сколько таких оценок (без сопутствующего отзыва) было проставленно отелю.\n",
    "*   lat: Широта, на которой находится отель\n",
    "*   lng: Долгота, на которой находится отель\n",
    "\n",
    "\n",
    "\n",
    "\n",
    "\n",
    "Текст был очищен от знаков препинания и символов юникода, а так же приведен к нижнему регистру автором датасета.\n",
    "\n",
    "При этом не все признаки будут использоваться в анализе - например, \"days_since_review\" абсолютно неинформативный признак, учитывая что у нас и так есть дата написания отзыва.\n",
    "\n",
    "Целевым признаком очевидно будет оценка пользователем отеля - ее мы и будем предсказывать.\n",
    "Ну что же - посмотрим, какие интересные закономерности мы найдем в процессе исследования датасета, а так же получится ли предсказать оценку которую посетитель оставит отелю.\n",
    "\n"
   ]
  },
  {
   "cell_type": "markdown",
   "metadata": {
    "colab_type": "text",
    "id": "OyHoB07Usdjf"
   },
   "source": [
    "###  Часть 2. Первичный анализ признаков"
   ]
  },
  {
   "cell_type": "markdown",
   "metadata": {
    "colab_type": "text",
    "id": "5q1ZdJ1B_Nsp"
   },
   "source": [
    "Загрузим данные и посмотрим на них"
   ]
  },
  {
   "cell_type": "code",
   "execution_count": null,
   "metadata": {
    "colab": {
     "autoexec": {
      "startup": false,
      "wait_interval": 0
     },
     "base_uri": "https://localhost:8080/",
     "height": 598
    },
    "colab_type": "code",
    "executionInfo": {
     "elapsed": 66536,
     "status": "ok",
     "timestamp": 1524163567233,
     "user": {
      "displayName": "Дмитрий Краснов",
      "photoUrl": "https://lh3.googleusercontent.com/a/default-user=s128",
      "userId": "112989222800173850643"
     },
     "user_tz": -180
    },
    "id": "LpfKhc-e_VDr",
    "outputId": "1386330b-5eea-41c9-cfd7-b4789f8c4372"
   },
   "outputs": [],
   "source": [
    "df = pd.read_csv('Hotel_Reviews.csv', parse_dates=['Review_Date'])\n",
    "df = df.sort_values(by='Review_Date')\n",
    "df.head()"
   ]
  },
  {
   "cell_type": "code",
   "execution_count": null,
   "metadata": {
    "colab": {
     "autoexec": {
      "startup": false,
      "wait_interval": 0
     },
     "base_uri": "https://localhost:8080/",
     "height": 317
    },
    "colab_type": "code",
    "executionInfo": {
     "elapsed": 1523,
     "status": "ok",
     "timestamp": 1524163727425,
     "user": {
      "displayName": "Дмитрий Краснов",
      "photoUrl": "https://lh3.googleusercontent.com/a/default-user=s128",
      "userId": "112989222800173850643"
     },
     "user_tz": -180
    },
    "id": "KoyrJqJC_fN4",
    "outputId": "682b9ece-62cd-4157-c0b2-3ea6d169dda3"
   },
   "outputs": [],
   "source": [
    "df.describe(include = \"all\").T"
   ]
  },
  {
   "cell_type": "markdown",
   "metadata": {
    "colab_type": "text",
    "id": "8KWSJCdU_yoY"
   },
   "source": [
    "Как видим, пропусков почти нет, но все же удалим строки с незаполненными данными . Количество уникальных значений наименований отеля меньше на один, чем количство адресов - скорее всего какой то адрес был записан с ошибкой в одном из наблюдений, или потерялся символ при предобработке датасета. Данные получены в промежутке с 4 августа 2015 по 3 августа 2017. Средннее значение рейтинга отеля почти точно повторяет среднее пользовательских рейтингов, хотя и с меньшей дисперисией - что логично. Видны выбросы в параметре \"количество оценок, оставленных посетителем\" - при медиане в 3 кто-то сумел настрочить 395 отзывов. Впоследствии мы всех кто много путешествует (количество отзывов > 30) объединим в одну группу."
   ]
  },
  {
   "cell_type": "code",
   "execution_count": null,
   "metadata": {
    "colab": {
     "autoexec": {
      "startup": false,
      "wait_interval": 0
     },
     "base_uri": "https://localhost:8080/",
     "height": 34
    },
    "colab_type": "code",
    "executionInfo": {
     "elapsed": 1137,
     "status": "ok",
     "timestamp": 1524159762395,
     "user": {
      "displayName": "Дмитрий Краснов",
      "photoUrl": "https://lh3.googleusercontent.com/a/default-user=s128",
      "userId": "112989222800173850643"
     },
     "user_tz": -180
    },
    "id": "5a1QvPQN_6vh",
    "outputId": "708a1291-d681-48c0-dc4a-c844783feaa6"
   },
   "outputs": [],
   "source": [
    "df = df.dropna()\n",
    "df.shape"
   ]
  },
  {
   "cell_type": "markdown",
   "metadata": {
    "colab_type": "text",
    "id": "oQNgObnTPifW"
   },
   "source": [
    "\n",
    "Выделим численные признаки и посмотрим, как они связаны между собой."
   ]
  },
  {
   "cell_type": "code",
   "execution_count": null,
   "metadata": {
    "colab": {
     "autoexec": {
      "startup": false,
      "wait_interval": 0
     }
    },
    "colab_type": "code",
    "id": "ogJjA4ggPjdS"
   },
   "outputs": [],
   "source": [
    "numeric_cols = [\n",
    "    'Additional_Number_of_Scoring',\n",
    "    'Average_Score',\n",
    "    'Review_Total_Negative_Word_Counts',\n",
    "    'Total_Number_of_Reviews',\n",
    "    'Review_Total_Positive_Word_Counts',\n",
    "    'Total_Number_of_Reviews_Reviewer_Has_Given',\n",
    "    'Reviewer_Score',\n",
    "    'lat',\n",
    "    'lng'\n",
    "]\n",
    "corr_data = df[numeric_cols].corr()\n",
    "corr_data"
   ]
  },
  {
   "cell_type": "markdown",
   "metadata": {},
   "source": [
    "Как видим, между данными нет сильной корреляции - только между количеством отзывов и количеством оценок без отзывов, что вполне логично - чем популярнее отель, тем больше отзывов и оценок оставляют о нем."
   ]
  },
  {
   "cell_type": "markdown",
   "metadata": {
    "colab": {
     "autoexec": {
      "startup": false,
      "wait_interval": 0
     }
    },
    "colab_type": "code",
    "collapsed": true,
    "id": "bwiYvLtGFyTR"
   },
   "source": [
    "Выделим целевой прзнак и проведем статтесты на нормальность и скошенность"
   ]
  },
  {
   "cell_type": "code",
   "execution_count": null,
   "metadata": {
    "colab": {
     "autoexec": {
      "startup": false,
      "wait_interval": 0
     },
     "base_uri": "https://localhost:8080/",
     "height": 170
    },
    "colab_type": "code",
    "executionInfo": {
     "elapsed": 558,
     "status": "ok",
     "timestamp": 1524162594896,
     "user": {
      "displayName": "Дмитрий Краснов",
      "photoUrl": "https://lh3.googleusercontent.com/a/default-user=s128",
      "userId": "112989222800173850643"
     },
     "user_tz": -180
    },
    "id": "pTj-Dd8Zsdjg",
    "outputId": "d5a4f594-2d96-4a1d-e1c7-01d6857d68dc"
   },
   "outputs": [],
   "source": [
    "y = df['Reviewer_Score']\n",
    "y.describe()"
   ]
  },
  {
   "cell_type": "code",
   "execution_count": null,
   "metadata": {
    "colab": {
     "autoexec": {
      "startup": false,
      "wait_interval": 0
     },
     "base_uri": "https://localhost:8080/",
     "height": 51
    },
    "colab_type": "code",
    "executionInfo": {
     "elapsed": 660,
     "status": "ok",
     "timestamp": 1524162596409,
     "user": {
      "displayName": "Дмитрий Краснов",
      "photoUrl": "https://lh3.googleusercontent.com/a/default-user=s128",
      "userId": "112989222800173850643"
     },
     "user_tz": -180
    },
    "id": "bQVWhM5rK4WK",
    "outputId": "c041ab87-aa43-4fbf-8740-c5f2b55bedf3"
   },
   "outputs": [],
   "source": [
    "print(stats.normaltest(y))\n",
    "print(stats.skew(y))"
   ]
  },
  {
   "cell_type": "markdown",
   "metadata": {
    "colab_type": "text",
    "id": "cwibIs9sHwiy"
   },
   "source": [
    "Как мы видим, гипотеза о нормальности отвергается, распеределение имеет левостороннюю ассиметрию - ну это было ясно из среднего в 8.4. Такие значения соответсвуют интуитивному представлению о том, как люди распределяют оценки - редко какие оценки (от школьных до различных рейтингов) распределяются равномерно, почти всегда они распределены вокруг оценки \"хорошо\" - ну или вокруг оценки \"плохо\" если это антирейтинг (например, сайт с плохими отзывами о работодателях). Попробуем получить больше информации с помощью визуализаций."
   ]
  },
  {
   "cell_type": "markdown",
   "metadata": {
    "colab_type": "text",
    "id": "iz_W6OAXsdji"
   },
   "source": [
    "###  Часть 3. Первичный визуальный анализ признаков"
   ]
  },
  {
   "cell_type": "markdown",
   "metadata": {},
   "source": [
    "Начнем с того, что построим графики распределений оценок"
   ]
  },
  {
   "cell_type": "code",
   "execution_count": null,
   "metadata": {},
   "outputs": [],
   "source": [
    "\n",
    "sns.distplot(y,kde=False, bins=20);"
   ]
  },
  {
   "cell_type": "code",
   "execution_count": null,
   "metadata": {},
   "outputs": [],
   "source": [
    "data_plot = df[[\"Hotel_Name\",\"Average_Score\"]].drop_duplicates()\n",
    "\n",
    "sns.countplot(x='Average_Score',data=data_plot)"
   ]
  },
  {
   "cell_type": "markdown",
   "metadata": {},
   "source": [
    "Как видим, люди склонны ставить максимальные оценки отелям после посещений. Из графика мы можем явно убедиться, что распеределение не  является нормальным. В тоже время распределине средних оценок отелей уже гораздо более похоже на нормальное - центральная предельная теорема в деле. \n",
    "Визуализурием матрицу корреляций."
   ]
  },
  {
   "cell_type": "code",
   "execution_count": null,
   "metadata": {},
   "outputs": [],
   "source": [
    "sns.heatmap(corr_data, annot=True, fmt = '.2f')"
   ]
  },
  {
   "cell_type": "markdown",
   "metadata": {},
   "source": [
    "Никакой новой информации по сравнению с табличным представлением на мой взгляд не появилось. Разве что стало хорошо видно, что единстванная переменная которая значимо коррелирует с целевой - это средний рейтинг отеля, что думаю вполне очиведно.  \n",
    "Посмотрим, как менялись оценки людей со временем."
   ]
  },
  {
   "cell_type": "code",
   "execution_count": null,
   "metadata": {},
   "outputs": [],
   "source": [
    "time_data = df.groupby(\"Review_Date\")[\"Reviewer_Score\"].mean().sort_index()\n",
    "fig, ax = plt.subplots()\n",
    "sns.tsplot(time=time_data.index, data=time_data.values, ax=ax)\n",
    "ax.set_xticklabels(time_data.index[::104])\n",
    "fig.autofmt_xdate()\n",
    "plt.show()"
   ]
  },
  {
   "cell_type": "markdown",
   "metadata": {},
   "source": [
    "На общем графике видна сезонность по месяцам, по годам рейтинги выглядят похожими. Проверим это, взглянув на распределение по годам и месяцам. Будем строить отчитывать график не с нуля, а с 7 - чтобы было лучше видно разницу "
   ]
  },
  {
   "cell_type": "code",
   "execution_count": null,
   "metadata": {},
   "outputs": [],
   "source": [
    "df['year'] = df['Review_Date'].dt.year\n",
    "df['month'] = df['Review_Date'].dt.month"
   ]
  },
  {
   "cell_type": "code",
   "execution_count": null,
   "metadata": {},
   "outputs": [],
   "source": [
    "month_hist = df.groupby(\"month\")['Reviewer_Score'].mean().sort_index()\n",
    "year_hist = df.groupby(\"year\")['Reviewer_Score'].mean().sort_index()\n",
    "\n",
    "fig, axs = plt.subplots(ncols=2)\n",
    "axs[0].set_ylim(7,9)\n",
    "axs[1].set_ylim(7,9)\n",
    "\n",
    "sns.barplot(x=year_hist.index, y=year_hist.values, ax=axs[0])\n",
    "sns.barplot(x=month_hist.index, y=month_hist.values, ax=axs[1])"
   ]
  },
  {
   "cell_type": "markdown",
   "metadata": {},
   "source": [
    "Как видно, колебания небольшие, при этом от года к году они особенно малы. "
   ]
  },
  {
   "cell_type": "markdown",
   "metadata": {
    "collapsed": true
   },
   "source": [
    "Посмотрим на текстовые данные. Визуализировать их будем при помощи облака тегов - может найдет что-нибудь интересное"
   ]
  },
  {
   "cell_type": "code",
   "execution_count": null,
   "metadata": {},
   "outputs": [],
   "source": [
    "from wordcloud import WordCloud\n",
    "wc_params = {'background_color': 'white', 'width': 600, 'height': 300, 'max_font_size': 300, 'max_words': 40}"
   ]
  },
  {
   "cell_type": "code",
   "execution_count": null,
   "metadata": {},
   "outputs": [],
   "source": [
    "wordcloud = WordCloud(**wc_params).generate_from_frequencies(df['Negative_Review'].value_counts())\n",
    "plt.imshow(wordcloud)\n",
    "plt.title(\"Негативные отзывы\")\n",
    "plt.axis(\"off\")\n",
    "plt.show()"
   ]
  },
  {
   "cell_type": "code",
   "execution_count": null,
   "metadata": {},
   "outputs": [],
   "source": [
    "wordcloud = WordCloud(**wc_params).generate_from_frequencies(df['Positive_Review'].value_counts())\n",
    "plt.imshow(wordcloud)\n",
    "plt.title(\"Положительные отзывы\")\n",
    "plt.axis(\"off\")\n",
    "plt.show()"
   ]
  },
  {
   "cell_type": "markdown",
   "metadata": {},
   "source": [
    "Удивительно, но большинство негативных отзывов - это слова о том что все хорошо) Больше всего люди жалуются на маленьке комнаты и дороговизну. Ценят же само место, персонал, чистоту и завтраки. Посмотрим, найдется ли что-либо интересное в тегах. \n",
    "\n",
    "Сначала вырежем лишние символы из тегов"
   ]
  },
  {
   "cell_type": "code",
   "execution_count": null,
   "metadata": {},
   "outputs": [],
   "source": [
    "df['clean_tags'] = df['Tags'].apply(lambda x: ', '.join([s[2:-2] for s in x[1:-1].split(', ')]))"
   ]
  },
  {
   "cell_type": "code",
   "execution_count": null,
   "metadata": {},
   "outputs": [],
   "source": [
    "tags = []\n",
    "for i in range(df.shape[0]):\n",
    "    tags.extend(df[\"clean_tags\"].values[i].split(', '))\n",
    "\n",
    "wordcloud = WordCloud(**wc_params).generate_from_frequencies(Counter(tags))\n",
    "plt.imshow(wordcloud)\n",
    "plt.title(\"Теги\")\n",
    "plt.axis(\"off\")\n",
    "plt.show()"
   ]
  },
  {
   "cell_type": "markdown",
   "metadata": {},
   "source": [
    "Что же, тут больше информации - можно будет вытащить инофрмацию о количестве дней, количестве человек (один/с семьей/группой) и тип путешествия - деловой/отпуск\n",
    "\n",
    "Посмотрим, что по национальностями. Для этого найдем и построим график для топ 10 самых позитивных и негативных наций (возьмеем только те, что представлены более чем 100 представителями) - увидим, есть ли между различие."
   ]
  },
  {
   "cell_type": "code",
   "execution_count": null,
   "metadata": {},
   "outputs": [],
   "source": [
    "df['Reviewer_Nationality'] = df['Reviewer_Nationality'].str.strip()\n",
    "\n",
    "agg_data = df.groupby(\"Reviewer_Nationality\")['Reviewer_Score'].agg(['mean','count'])\n",
    "top_natons_reviews = agg_data[agg_data['count'] > 100]['mean'].sort_values()\n",
    "top_natons_reviews = pd.concat((top_natons_reviews[:10], top_natons_reviews[-10:]))"
   ]
  },
  {
   "cell_type": "code",
   "execution_count": null,
   "metadata": {},
   "outputs": [],
   "source": [
    "g = sns.barplot(y=top_natons_reviews.index,x=top_natons_reviews.values)\n",
    "g.set_xlim(7,9)"
   ]
  },
  {
   "cell_type": "markdown",
   "metadata": {},
   "source": [
    "Как видим, люди разной национальности оценивают отели по раному. Что характерно, ниже всего ставят оценки представители исламских стран, а самые высокие ставят люди из стран Нового света. Посмотрим для интереса отзывы людей из России"
   ]
  },
  {
   "cell_type": "code",
   "execution_count": null,
   "metadata": {},
   "outputs": [],
   "source": [
    "agg_data.loc['Russia']"
   ]
  },
  {
   "cell_type": "markdown",
   "metadata": {},
   "source": [
    "Чуть меньше среднего в 8.4\n",
    "\n",
    "Посмотрим, меняется ли средняя оценка с увеличением количества написанных отзывов? Как отмечось ранее, этот параметр распределен очень неравномерно, поэтому выделим тех кто написал больше 30 отзывов в одну же группу. Так и график будет лучше читаться, и для построения модели мы избавимся от выбросов. В целом же логично выделить тех кто очень много пишет в отдельную группу - неважно, человек написал 50 или 100 отзывов - все равно эти два человека больше похожи друг на друга этим параметром, чем на остальную массу людей"
   ]
  },
  {
   "cell_type": "code",
   "execution_count": null,
   "metadata": {},
   "outputs": [],
   "source": [
    "reviews = df[[\"Total_Number_of_Reviews_Reviewer_Has_Given\", 'Reviewer_Score']]\n",
    "reviews['Total_Number_of_Reviews_Reviewer_Has_Given'][reviews[\"Total_Number_of_Reviews_Reviewer_Has_Given\"]  > 30] = 31\n",
    "agg_data = reviews.groupby(\"Total_Number_of_Reviews_Reviewer_Has_Given\")['Reviewer_Score'].mean().sort_index()\n",
    "g = sns.barplot(x=agg_data.index,y=agg_data.values)\n",
    "g.set_ylim(7,9)"
   ]
  },
  {
   "cell_type": "markdown",
   "metadata": {},
   "source": [
    "Никакой зависимости не видно. Посмотрим, что получится из количества слов в положительных и отрицательных отзывах"
   ]
  },
  {
   "cell_type": "code",
   "execution_count": null,
   "metadata": {},
   "outputs": [],
   "source": [
    "agg_data = df.groupby(\"Review_Total_Negative_Word_Counts\")['Reviewer_Score'].agg(['mean','count'])\n",
    "top_natons_reviews = agg_data[agg_data['count'] > 1000]['mean'].sort_index()\n",
    "g = sns.barplot(x=top_natons_reviews.index,y=top_natons_reviews.values)\n",
    "g.set_ylim(6,10)"
   ]
  },
  {
   "cell_type": "code",
   "execution_count": null,
   "metadata": {},
   "outputs": [],
   "source": [
    "agg_data = df.groupby(\"Review_Total_Positive_Word_Counts\")['Reviewer_Score'].agg(['mean','count'])\n",
    "top_natons_reviews = agg_data[agg_data['count'] > 1000]['mean'].sort_index()\n",
    "g = sns.barplot(x=top_natons_reviews.index,y=top_natons_reviews.values)"
   ]
  },
  {
   "cell_type": "markdown",
   "metadata": {},
   "source": [
    "А тут уже очень хорошо видно зависимость - чем меньше негативных слов, тем выше оценка - и наоборот. Причем ля негативных отзывов связь особенно сильная."
   ]
  },
  {
   "cell_type": "markdown",
   "metadata": {
    "colab_type": "text",
    "id": "IyfhlBqssdjl"
   },
   "source": [
    "###  Часть 4. Закономерности, \"инсайты\", особенности данных"
   ]
  },
  {
   "cell_type": "markdown",
   "metadata": {
    "colab": {
     "autoexec": {
      "startup": false,
      "wait_interval": 0
     }
    },
    "colab_type": "code",
    "collapsed": true,
    "id": "a3bqi3Iwsdjm"
   },
   "source": [
    "Подытожим найденные закономерности. Во первых, датасет практически без пропусков и больших выбросов. Сильных корреляций признаков между собой нет, что хорошо - это означает независимую природу данных. Единственно исключение - количество отзывов и оценок без отзывов сильно коррелируют между собой, т.к они обе по сути завязаны на популярность. Зависимость оценки от многих переменных сильно скошена в одну из сторон - что в принципе логично, когда человек оставляет отзыв он как правило либо доволен, либо не доволен, и эмоции сильно сдвигают оценку вниз или вверх. Был найден слабый тренд по месяцам, так что будем использовать номер месяца как признак для построения модели. Так же найдена зависимость между национальностью и оценкой, что тоже объяснимо - люди из разных культур по разном смотрят на мир. Именно из культур, а не конкретных стран (хотя от конкретной страны тоже многое зависит)- топ 10 по положительным и отрицательным оценкам можно легко разбить на две логичные группы, например. Самая хорошая зависимость была найдена между количеством слов  - негативных и положительных - и общей оценкой. Причем инересно, насколько сильно отсутсвие негативных слов влияет на оценку - видимо, тот, кто едет отдыхать, по умолчанию готов поставить отелю высший бал - главное ничего не испортить. Корелляция между целевой переменной и положительными отзывами думаю и так понятна. Так же много информации содержится в тегах - если ее извлечь, можно сформировать множество признаков.\n"
   ]
  },
  {
   "cell_type": "markdown",
   "metadata": {},
   "source": [
    "###  Часть 5. Выбор метрики"
   ]
  },
  {
   "cell_type": "markdown",
   "metadata": {},
   "source": [
    "Так как у нас задача регрессии, то основными метриками будет средняя абсолютная ошибка и среднеквадратичная ошибка. Так у нас целевая переменная сильно скошена, то будем использовать MAE. При этом среднюю абсолютную ошибку в какой то степени проще интерпретировать - легче будет сравнить с бейзлайном (безлайном можем считать среднюю оценку отеля)"
   ]
  },
  {
   "cell_type": "markdown",
   "metadata": {},
   "source": [
    "###  Часть 6. Выбор модели "
   ]
  },
  {
   "cell_type": "markdown",
   "metadata": {},
   "source": [
    "В качестве первой модели, попробуем линейную модель - так как у нас много информации содержится в тексктовых полях (негативный\\позитивный отзыв, теги, название отеля) то после преобразования мы получим много разреженных матриц. Решающие деревья\\леса скорее всего плохо зайдут на таких данных. Основные модели для линейной регрессии - Ridge и Lasso. Проверим, какая из них покажет лучший результат."
   ]
  },
  {
   "cell_type": "markdown",
   "metadata": {
    "colab_type": "text",
    "id": "oWFmnz2xsdjp"
   },
   "source": [
    "###  Часть 7. Предобработка данных "
   ]
  },
  {
   "cell_type": "markdown",
   "metadata": {
    "colab": {
     "autoexec": {
      "startup": false,
      "wait_interval": 0
     }
    },
    "colab_type": "code",
    "collapsed": true,
    "id": "HkR5KoNtsdjp"
   },
   "source": [
    "Начнем предобработку данных. Выделим целевую переменную, сформируем holdout выборку. Так как у нас данные упорядоченны во времени, тренировать мы будем на старых данных, а предсказывать на новых. Отложим примерно 20% - так, чтобы в трейне было 400000 наблюдений. Уберем целевую переменную и 'Additional_Number_of_Scoring' из списка числовых столбцов - они не понядобятся нам для построения модели. Random seed был зафиксирован изначально, так что можно его не задавать для каждой отдельной операции"
   ]
  },
  {
   "cell_type": "code",
   "execution_count": null,
   "metadata": {},
   "outputs": [],
   "source": [
    "def split_to_holdout(df, index=400000):\n",
    "    y = df['Reviewer_Score']\n",
    "    X = df.drop(['Reviewer_Score'], axis=1)\n",
    "    return X.iloc[:index], X.iloc[index:], y.iloc[:index], y.iloc[index:]\n",
    "\n",
    "numeric_cols_linear = list(set(numeric_cols) - set(('Reviewer_Score','Additional_Number_of_Scoring')))\n",
    "X, X_hold, y, y_hold = split_to_holdout(df)"
   ]
  },
  {
   "cell_type": "markdown",
   "metadata": {},
   "source": [
    "Отмасштабируем числовые признаки, применим CountVectorizer к текстовым, закодируем OHE национальность и месяц. Национальность при этом сначала преобразуем при помощи LabelEncoder. "
   ]
  },
  {
   "cell_type": "code",
   "execution_count": null,
   "metadata": {},
   "outputs": [],
   "source": [
    "sc = StandardScaler()\n",
    "X_scaled = sc.fit_transform(X[numeric_cols_linear])\n",
    "X_hold_scaled = sc.transform(X_hold[numeric_cols_linear])"
   ]
  },
  {
   "cell_type": "code",
   "execution_count": null,
   "metadata": {},
   "outputs": [],
   "source": [
    "X_counts = {}\n",
    "X_hold_counts = {}\n",
    "for col in ['Hotel_Address', 'Hotel_Name', 'Negative_Review', 'Positive_Review', 'clean_tags']:\n",
    "    cv = CountVectorizer(max_features=50000, ngram_range=(1,2))\n",
    "    X_counts[col] = cv.fit_transform(X[col])\n",
    "    X_hold_counts[col] = cv.transform(X_hold[col])"
   ]
  },
  {
   "cell_type": "code",
   "execution_count": null,
   "metadata": {},
   "outputs": [],
   "source": [
    "le = LabelEncoder()\n",
    "le.fit(df['Reviewer_Nationality'])\n",
    "X['reviewer'] = le.transform(X['Reviewer_Nationality'])\n",
    "X_hold['reviewer'] = le.transform(X_hold['Reviewer_Nationality'])"
   ]
  },
  {
   "cell_type": "code",
   "execution_count": null,
   "metadata": {},
   "outputs": [],
   "source": [
    "ohe = OneHotEncoder()\n",
    "X_ohe = ohe.fit_transform(X[['month', 'reviewer']])\n",
    "X_hold_ohe = ohe.transform(X_hold[['month', 'reviewer']])"
   ]
  },
  {
   "cell_type": "markdown",
   "metadata": {},
   "source": [
    "Соберем признаки в один массив"
   ]
  },
  {
   "cell_type": "code",
   "execution_count": null,
   "metadata": {},
   "outputs": [],
   "source": [
    "X_train = hstack([hstack(list(X_counts.values())), X_ohe, X_scaled])\n",
    "X_test = hstack([hstack(list(X_hold_counts.values())), X_hold_ohe, X_hold_scaled])"
   ]
  },
  {
   "cell_type": "markdown",
   "metadata": {},
   "source": [
    "Посмотрим, что смогут сделать линейные модели без настройки гиперпараметров"
   ]
  },
  {
   "cell_type": "code",
   "execution_count": null,
   "metadata": {},
   "outputs": [],
   "source": [
    "ridge = Ridge(random_state=42)\n",
    "ridge.fit(X_train, y)\n",
    "ridge_pred = ridge.predict(X_test)\n",
    "ridge_error = mean_absolute_error(y_hold, ridge_pred)"
   ]
  },
  {
   "cell_type": "code",
   "execution_count": null,
   "metadata": {},
   "outputs": [],
   "source": [
    "lasso = Lasso(random_state=42)\n",
    "lasso.fit(X_train, y)\n",
    "lasso_pred = lasso.predict(X_test)\n",
    "lasso_error = mean_absolute_error(y_hold, lasso_pred)"
   ]
  },
  {
   "cell_type": "code",
   "execution_count": null,
   "metadata": {},
   "outputs": [],
   "source": [
    "print(ridge_error)\n",
    "print(lasso_error)"
   ]
  },
  {
   "cell_type": "markdown",
   "metadata": {},
   "source": [
    "Сравним это с бейзлайном - предсказывать в качестве оценки среднюю оценку отеля"
   ]
  },
  {
   "cell_type": "code",
   "execution_count": null,
   "metadata": {},
   "outputs": [],
   "source": [
    "average_error = mean_absolute_error(y_hold, X_hold['Average_Score'])\n",
    "print('average_error - {}'.format(average_error))\n",
    "print('relative_lasso_error - {}'.format(ridge_error/average_error))\n",
    "print('relative_ridge_error - {}'.format(lasso_error/average_error))"
   ]
  },
  {
   "cell_type": "markdown",
   "metadata": {},
   "source": [
    "Между Lasso и Ridge оказалась большая разница - Lasso даже не смогла побить наш простейший бейзлайн. Ridge же вполне смогла улучшить качество предсказания, даже без настройки гиперпараметров. Можно было бы продолжить улучшать эти модели, но на самом деле есть одна проблема. Изначально мы хотели сделать рекомендательный сервис, а в тех данных что у нас есть - лик. Мы уже знаем, что написал пользователь в отзыве (как положительном, так и отрицательном) - но такой информации перед бронированием отеля у нас не будет. Поэтому отбросим признаки, связанные с отзывами - и попробуем новую модель. Без эти признаков у нас уже будет не такие разреженные данные, общее количество признаков будет небольшим, данные разнородные (как категориональные, так и количественные). Можно догадаться, что я собираюсь применять в такой ситуации - градиентный бустинг над решающими деревьями. Лично я решил попробовать в этой задаче lightGBM. Для lightGBM-модели мы поменяем предобработку признаков, а так же выделим новые признаки - иначе без отзывов мы не получим хороший результат, так как останется слишком мало параметров."
   ]
  },
  {
   "cell_type": "markdown",
   "metadata": {
    "colab_type": "text",
    "id": "A1-BC4Hysdjs"
   },
   "source": [
    "###  Часть 8. Создание новых признаков и описание этого процесса"
   ]
  },
  {
   "cell_type": "markdown",
   "metadata": {
    "collapsed": false
   },
   "source": [
    "Начнем с выделения данных из тегов. Выделим тип поездки (по делу или на отдых), каким составом поедет пользователь (один, с семьей и т.д) а так же на сколько дней планирует оставаться. Если в теге нет нужной информации, то мы ставим -1: отрицательные значения в категориональных признаках свидельствуют о пропуске в даннных (в реализации lightGBM)"
   ]
  },
  {
   "cell_type": "code",
   "execution_count": null,
   "metadata": {},
   "outputs": [],
   "source": [
    "def find_type(x):\n",
    "    if 'leisure' in x['clean_tags'].lower():\n",
    "        return 1\n",
    "    if 'business' in x['clean_tags'].lower():\n",
    "        return 0\n",
    "    return -1\n",
    "\n",
    "df[\"type\"] = df.apply(func=find_type, axis=1)"
   ]
  },
  {
   "cell_type": "code",
   "execution_count": null,
   "metadata": {},
   "outputs": [],
   "source": [
    "def find_group(x):\n",
    "    if 'solo' in x['clean_tags'].lower():\n",
    "        return 1\n",
    "    if 'couple' in x['clean_tags'].lower():\n",
    "        return 2\n",
    "    if 'family' in x['clean_tags'].lower():\n",
    "        return 3\n",
    "    if 'group' in x['clean_tags'].lower():\n",
    "        return 0\n",
    "    return -1\n",
    "\n",
    "df[\"group\"] = df.apply(func=find_group, axis=1)"
   ]
  },
  {
   "cell_type": "code",
   "execution_count": null,
   "metadata": {},
   "outputs": [],
   "source": [
    "def find_days(x):\n",
    "    if 'stayed' in x['clean_tags'].lower():\n",
    "        tags =  x['clean_tags'].lower().split(', ')\n",
    "        for tag in tags:\n",
    "            if 'stayed' in tag:\n",
    "                try:\n",
    "                    res = int(re.sub(\"\\D\", \"\", tag))\n",
    "                except ValueError:\n",
    "                    res = -1\n",
    "                return res\n",
    "    return -1\n",
    "\n",
    "df[\"days\"] = df.apply(func=find_days, axis=1)"
   ]
  },
  {
   "cell_type": "markdown",
   "metadata": {},
   "source": [
    "Так же выделим страну, в которой находится отель из адреса."
   ]
  },
  {
   "cell_type": "code",
   "execution_count": null,
   "metadata": {},
   "outputs": [],
   "source": [
    "df['hotel_country'] = df[\"Hotel_Address\"].apply(lambda x: x.split()[-1])"
   ]
  },
  {
   "cell_type": "markdown",
   "metadata": {
    "colab_type": "text",
    "id": "7Ybs3ctcsdjw"
   },
   "source": [
    "###  Часть 9. Кросс-валидация, подбор параметров"
   ]
  },
  {
   "cell_type": "markdown",
   "metadata": {},
   "source": [
    "Сфоррмируем выборки еще раз."
   ]
  },
  {
   "cell_type": "code",
   "execution_count": null,
   "metadata": {},
   "outputs": [],
   "source": [
    "X, X_hold, y, y_hold = split_to_holdout(df)"
   ]
  },
  {
   "cell_type": "markdown",
   "metadata": {},
   "source": [
    "Так как мы будем проводить кросс-валидацию и поиск гиперпараметров - неплохо было бы объединить эти действия в одно. Для этого будем использовать GridSearchCV. Масштабировать признаки не будем - в целом, деревьям решений нет дела до масштаба. One-hot encoding тоже не нужен, будем делать только преобразование категориональных признаков из текста в числа - lightGBM работает лучше без OHE. Разбивать выбоку для кросс-валидации будем как и раньше, при помощи TimeSeriesSplit."
   ]
  },
  {
   "cell_type": "code",
   "execution_count": null,
   "metadata": {},
   "outputs": [],
   "source": [
    "le = LabelEncoder()\n",
    "le.fit(df['Reviewer_Nationality'])\n",
    "X['nation'] = le.transform(X['Reviewer_Nationality'])\n",
    "X_hold['nation'] = le.transform(X_hold['Reviewer_Nationality'])\n",
    "X['country'] = le.fit_transform(X['hotel_country'])\n",
    "X_hold['country'] = le.transform(X_hold['hotel_country'])\n",
    "categorical_cols = ['nation','month','country', 'days', 'type', 'group']"
   ]
  },
  {
   "cell_type": "code",
   "execution_count": null,
   "metadata": {},
   "outputs": [],
   "source": [
    "numeric_cols_tree = list(set(numeric_cols_linear) - set(('Review_Total_Positive_Word_Counts','Review_Total_Negative_Word_Counts')))"
   ]
  },
  {
   "cell_type": "code",
   "execution_count": null,
   "metadata": {},
   "outputs": [],
   "source": [
    "X_train = X[categorical_cols + numeric_cols_tree]"
   ]
  },
  {
   "cell_type": "code",
   "execution_count": null,
   "metadata": {},
   "outputs": [],
   "source": [
    "X_test = X_hold[categorical_cols + numeric_cols_tree]"
   ]
  },
  {
   "cell_type": "code",
   "execution_count": null,
   "metadata": {},
   "outputs": [],
   "source": [
    "tss = TimeSeriesSplit(n_splits=5)"
   ]
  },
  {
   "cell_type": "markdown",
   "metadata": {},
   "source": [
    "Тюнить мы будем стандартные гиперпараметры. learning_rate - это скорость обучения, по дефолту равна 0.1 - возьмем чуть меньше и чуть больше, num_iterations - так называется n_estimators в LGBM, это количество построенных деревьев. Дефолтное значение - 100, мы возьмем чуть меньше и намного больше - учитывая количество данных, большое число вполне может быть оправданным. Ну и num_leaves - это аналог параметра max_depth (такой, что num_leaves = 2^(max_depth)). В LGBM используется другой алгоритм построения дерева - leaf-wise вместо max_depth (по сравнению с другими библиотеками, тем же XGBoost). По умолчанию значение 31, мы попробуем еще 15 и 63."
   ]
  },
  {
   "cell_type": "code",
   "execution_count": null,
   "metadata": {},
   "outputs": [],
   "source": [
    "grid = {\n",
    "        'learning_rate': [.05,.1,.2],\n",
    "    'num_iterations': [40, 100, 500, 1000],\n",
    "    'num_leaves': [15,31,63]\n",
    "    }\n",
    "clf = lgb.LGBMRegressor(application='neg_mean_absolute_error', categorical_feature=list(range(len(categorical_cols))))\n",
    "gs = GridSearchCV(clf, grid, cv=tss, verbose=2, scoring='neg_mean_absolute_error')"
   ]
  },
  {
   "cell_type": "code",
   "execution_count": null,
   "metadata": {},
   "outputs": [],
   "source": [
    "gs.fit(X_train, y)"
   ]
  },
  {
   "cell_type": "code",
   "execution_count": null,
   "metadata": {},
   "outputs": [],
   "source": [
    "print(gs.best_params_)\n",
    "print(gs.best_score_)"
   ]
  },
  {
   "cell_type": "markdown",
   "metadata": {},
   "source": [
    "Как видно, learning_rate и num_iterations лучше работают если их оставить как есть, num_leaves в нашем случае можно уменьшить - у нас мало признаков, поэтому слишком сожная модель тут не нужна. При этом видно, что уменьшив количество признаков мы сильно ухудшили качество модели - теперь она с трудом бьет бейзлайн"
   ]
  },
  {
   "cell_type": "markdown",
   "metadata": {
    "colab_type": "text",
    "id": "no7qIOgxsdj0"
   },
   "source": [
    "###  Часть 10. Построение кривых валидации и обучения "
   ]
  },
  {
   "cell_type": "markdown",
   "metadata": {},
   "source": [
    "Построим кривые для валидации и обучения. Возьмем для построения функцию из туториалов на scikit-learn.org, и посмотрим как ведет себя наша модель на обучении."
   ]
  },
  {
   "cell_type": "code",
   "execution_count": null,
   "metadata": {},
   "outputs": [],
   "source": [
    "def plot_learning_curve(estimator, title, X, y, ylim=None, cv=None,\n",
    "                        n_jobs=1, train_sizes=np.linspace(.1, 1.0, 5)):\n",
    "    '''\n",
    "    http://scikit-learn.org/stable/auto_examples/model_selection/plot_learning_curve.html\n",
    "    '''\n",
    "    \n",
    "    plt.figure()\n",
    "    plt.title(title)\n",
    "    if ylim is not None:\n",
    "        plt.ylim(*ylim)\n",
    "    plt.xlabel(\"Training examples\")\n",
    "    plt.ylabel(\"Score\")\n",
    "    train_sizes, train_scores, test_scores = learning_curve(\n",
    "        estimator, X, y, cv=cv, n_jobs=n_jobs, train_sizes=train_sizes, scoring='neg_mean_absolute_error')\n",
    "    train_scores_mean = np.mean(train_scores, axis=1)\n",
    "    train_scores_std = np.std(train_scores, axis=1)\n",
    "    test_scores_mean = np.mean(test_scores, axis=1)\n",
    "    test_scores_std = np.std(test_scores, axis=1)\n",
    "    plt.grid()\n",
    "\n",
    "    plt.fill_between(train_sizes, train_scores_mean - train_scores_std,\n",
    "                     train_scores_mean + train_scores_std, alpha=0.1,\n",
    "                     color=\"r\")\n",
    "    plt.fill_between(train_sizes, test_scores_mean - test_scores_std,\n",
    "                     test_scores_mean + test_scores_std, alpha=0.1, color=\"g\")\n",
    "    plt.plot(train_sizes, train_scores_mean, 'o-', color=\"r\",\n",
    "             label=\"Training score\")\n",
    "    plt.plot(train_sizes, test_scores_mean, 'o-', color=\"g\",\n",
    "             label=\"Cross-validation score\")\n",
    "\n",
    "    plt.legend(loc=\"best\")\n",
    "    return plt"
   ]
  },
  {
   "cell_type": "code",
   "execution_count": null,
   "metadata": {
    "colab": {
     "autoexec": {
      "startup": false,
      "wait_interval": 0
     }
    },
    "colab_type": "code",
    "id": "pm3ki_EOsdj1"
   },
   "outputs": [],
   "source": [
    "model = lgb.LGBMRegressor(**gs.best_params_, categorical_feature=list(range(len(categorical_cols))))"
   ]
  },
  {
   "cell_type": "code",
   "execution_count": null,
   "metadata": {
    "colab": {
     "autoexec": {
      "startup": false,
      "wait_interval": 0
     }
    },
    "colab_type": "code",
    "id": "9MwDsZQgsdj7"
   },
   "outputs": [],
   "source": [
    "plot_learning_curve(model, 'LGBM', X_train, y, cv=tss);\n",
    "plt.figure(figsize=(15, 10))"
   ]
  },
  {
   "cell_type": "markdown",
   "metadata": {},
   "source": [
    "На графике видно, что ошибка на валидации практически не уменьшается во время тренировки, только в самом начале, а затем даже начинает расти (ошибка не трейне ведет себя стандартно). Это говорит о небольшом переобучении - хотя в дальнейшем график выходит на плато. Причина в том, что у нас не хватило данных для анализа, после того как мы убрали все переменные связанные с отзывами пользователя. Алгоритм не может построить хорошее предсказание на имеющихся данных."
   ]
  },
  {
   "cell_type": "markdown",
   "metadata": {
    "colab_type": "text",
    "id": "h6Id8c_Ssdj3"
   },
   "source": [
    "###  Часть 11. Прогноз для отложенной выборки, оценка модели с описанием выбранной метрики"
   ]
  },
  {
   "cell_type": "raw",
   "metadata": {},
   "source": [
    "model = lgb.LGBMRegressor(**gs.best_params_, categorical_feature=list(range(len(categorical_cols))))\n",
    "model.fit(X_train, y)\n",
    "y_pred = model.predict(X_test)\n",
    "print(mean_absolute_error(y_pred, y_hold))"
   ]
  },
  {
   "cell_type": "markdown",
   "metadata": {},
   "source": [
    "Как видно, наша модель совсем чуть-лучше бейзлайна. Это произошло потому, что мы исключили  самые важные признаки - проверим, улучшится ли модель если мы добавим количество слов в отзыве в параметры. В принципе, то же самое мы получили и на кросс-валидации"
   ]
  },
  {
   "cell_type": "code",
   "execution_count": null,
   "metadata": {},
   "outputs": [],
   "source": [
    "X_train_leaked = X[categorical_cols + numeric_cols_linear]\n",
    "X_test_leaked = X_hold[categorical_cols + numeric_cols_linear]\n",
    "model_leaked = lgb.LGBMRegressor(**gs.best_params_, categorical_feature=list(range(len(categorical_cols))))\n",
    "model_leaked.fit(X_train_leaked, y)\n",
    "y_leaked = model_leaked.predict(X_test_leaked)\n",
    "print(mean_absolute_error(y_leaked, y_hold))"
   ]
  },
  {
   "cell_type": "markdown",
   "metadata": {},
   "source": [
    "Как видим, мы почти смогли повторить показатели линейной модели. При этом надо понимать, что просто количество слов менее хороший параметр чем сам текст отзыва - например, положительный отзыв \"No positive\" и \"Everything fine\" содержат по два слова, но являются прямо противоположными по смыслу."
   ]
  },
  {
   "cell_type": "markdown",
   "metadata": {
    "colab_type": "text",
    "id": "Rk-o6QAzsdj-"
   },
   "source": [
    "### Часть 12. Выводы "
   ]
  },
  {
   "cell_type": "markdown",
   "metadata": {},
   "source": [
    "Итак, насколько же меньше ошибок совершает наша модель, по сравнению со средним значением рейтинга отеля?"
   ]
  },
  {
   "cell_type": "code",
   "execution_count": null,
   "metadata": {
    "colab": {
     "autoexec": {
      "startup": false,
      "wait_interval": 0
     }
    },
    "colab_type": "code",
    "id": "ZU-2h7PosdkA"
   },
   "outputs": [],
   "source": [
    "print(mean_absolute_error(y_hold, X_hold['Average_Score']) /  mean_absolute_error(y_pred, y_hold))\n",
    "print(mean_absolute_error(y_hold, X_hold['Average_Score']) /  mean_absolute_error(y_leaked, y_hold))"
   ]
  },
  {
   "cell_type": "markdown",
   "metadata": {},
   "source": [
    "Итак, у нас не получилось натренировать модель, которая дает среднюю абсолютную ошибку значитльно меньше, чем если бы мы просто предсказывали среднюю оценку. Это значит, что конечный пользователь не сможет использовать получившуюся модель для того, чтобы облегчить свой выбор. В то же время, если бы задача стояла в предсказании оценки на основе отзыва - то тут ошибка падает на 30% по сравнению с бейзлайном, даже без использования текста отзыва. Но надо понимать, что такая задача наврядли может возникнуть в реальном мире, потому что раз уж у нас есть отзывы, то и оценка наверняка будет.  \n",
    "Чтобы модель заработала, нужно вводить дополнительны параметры - например, в зависимости от цены. В негативных отзывах были видны жалобы на дороговизну, так что учитывать благосостояние было бы логичным шагом. Ну и не только, ведь по сути у нас было очень мало данных связанных с личностью пользователя - если этот набор расширить, то можно заметно улучшить качество модели. Т.е можно попытаться проанализировать негативные и отрицательные отзывы, выделить самые частые и предоставить мини-анкету, чтобы понять предпочтени пользователя - и делать прогноз на их основе.  \n",
    "В любом случае, данный проект показывает важность данных в data science - если у нас данные, которые не имеют хорошей связи с целевой переменной, то какие бы продвинутые методы мы не использовали - ничего не выйдет. Правило Garbage In - Gabage Out никто не отменял."
   ]
  }
 ],
 "metadata": {
  "anaconda-cloud": {},
  "colab": {
   "default_view": {},
   "name": "project_template.ipynb",
   "provenance": [],
   "version": "0.3.2",
   "views": {}
  },
  "kernelspec": {
   "display_name": "Python [conda root]",
   "language": "python",
   "name": "conda-root-py"
  },
  "language_info": {
   "codemirror_mode": {
    "name": "ipython",
    "version": 3
   },
   "file_extension": ".py",
   "mimetype": "text/x-python",
   "name": "python",
   "nbconvert_exporter": "python",
   "pygments_lexer": "ipython3",
   "version": "3.5.5"
  }
 },
 "nbformat": 4,
 "nbformat_minor": 0
}
