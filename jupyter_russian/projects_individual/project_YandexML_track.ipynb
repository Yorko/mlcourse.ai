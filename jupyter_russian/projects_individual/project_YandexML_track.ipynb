{
  "nbformat": 4,
  "nbformat_minor": 0,
  "metadata": {
    "colab": {
      "name": "Base.ipynb",
      "version": "0.3.2",
      "views": {},
      "default_view": {},
      "provenance": []
    },
    "kernelspec": {
      "display_name": "Python 3",
      "language": "python",
      "name": "python3"
    },
    "accelerator": "GPU"
  },
  "cells": [
    {
      "metadata": {
        "id": "RSRVQq1bVmFI",
        "colab_type": "text"
      },
      "cell_type": "markdown",
      "source": [
        "# Все действия были проделаны в google colaboratory на бесплатном GPU\n",
        "  \n",
        "<b> Скачивание файлов с google drive из папки DMIA лежащей в корневой папке, их перемещение и установка gensim\n",
        "  https://contest.yandex.ru/algorithm2018/contest/7914/download/1/ - dataset\n",
        "  http://rusvectores.org/static/models/rusvectores4/fasttext/araneum_none_fasttextskipgram_300_5_2018.tgz - fasttext\n",
        "  "
      ]
    },
    {
      "metadata": {
        "id": "TD_jv6jnN4YL",
        "colab_type": "code",
        "colab": {
          "autoexec": {
            "startup": false,
            "wait_interval": 0
          },
          "base_uri": "https://localhost:8080/",
          "height": 1024
        },
        "outputId": "11d33d36-b2c4-41fc-c804-de98a692ff24",
        "executionInfo": {
          "status": "ok",
          "timestamp": 1524240874336,
          "user_tz": -180,
          "elapsed": 46936,
          "user": {
            "displayName": "Алексей Иванов",
            "photoUrl": "https://lh3.googleusercontent.com/a/default-user=s128",
            "userId": "104814834381580890532"
          }
        }
      },
      "cell_type": "code",
      "source": [
        "from google.colab import auth\n",
        "from googleapiclient.discovery import build\n",
        "import io , requests, os\n",
        "import sys\n",
        "auth.authenticate_user()\n",
        "from googleapiclient.discovery import build\n",
        "drive_service = build('drive', 'v3')\n",
        "\n",
        "def get_parent_folder(folder_name):\n",
        "  page_token = None\n",
        "  folder_array = []\n",
        "  query = \"name='%s' and mimeType='application/vnd.google-apps.folder'\" % folder_name\n",
        "  while True:\n",
        "      response = drive_service.files().list(q=query,\n",
        "                                          spaces='drive',\n",
        "                                          fields='nextPageToken,files(id, name)',\n",
        "                                          pageToken=page_token).execute()\n",
        "      for file in response.get('files', []):\n",
        "          # Process change\n",
        "          #print (file.get('name'), file.get('id'))\n",
        "          folder_array.append({\"name\" : file.get('name'), \"id\" : file.get('id')})\n",
        "      page_token = response.get('nextPageToken', None)\n",
        "      if page_token is None:\n",
        "          break\n",
        "  return folder_array\n",
        "\n",
        "def get_files_from_parent(parent_id):\n",
        "  page_token = None\n",
        "  folder_array = dict()\n",
        "  query = \"'%s' in parents\" % parent_id\n",
        "  while True:\n",
        "      response = drive_service.files().list(q=query,\n",
        "                                          spaces='drive',\n",
        "                                          fields='nextPageToken, files(id, name)',\n",
        "                                          pageToken=page_token).execute()\n",
        "      for file in response.get('files', []):\n",
        "          # Process change\n",
        "          #print (file.get('name'), file.get('id'))\n",
        "          folder_array.update({file.get('name'):file.get('id')})\n",
        "      page_token = response.get('nextPageToken', None)\n",
        "      if page_token is None:\n",
        "          break\n",
        "  return folder_array\n",
        "\n",
        "def get_file_buffer(file_id, verbose=0):\n",
        "  from googleapiclient.http import MediaIoBaseDownload\n",
        "  request = drive_service.files().get_media(fileId=file_id)\n",
        "  downloaded = io.BytesIO()\n",
        "  downloader = MediaIoBaseDownload(downloaded, request)\n",
        "  done = False\n",
        "  while done is False:\n",
        "    # _ is a placeholder for a progress object that we ignore.\n",
        "    # (Our file is small, so we skip reporting progress.)\n",
        "    progress, done = downloader.next_chunk()\n",
        "    if verbose:\n",
        "      sys.stdout.flush()\n",
        "      sys.stdout.write('\\r')\n",
        "      percentage_done = progress.resumable_progress * 100/progress.total_size\n",
        "      sys.stdout.write(\"[%-100s] %d%%\" % ('='*int(percentage_done), int(percentage_done)))\n",
        "  downloaded.seek(0)\n",
        "  return downloaded\n",
        "\n",
        "parent_folder = get_parent_folder('DMIA')\n",
        "print(parent_folder)\n",
        "parent_folder[0][\"id\"]\n",
        "input_file_meta = get_files_from_parent(parent_folder[0][\"id\"])\n",
        "print(input_file_meta)\n",
        "for file, id in input_file_meta.items():\n",
        "  downloaded = get_file_buffer(id, verbose=1)\n",
        "  dest_file = os.path.join('.', file)\n",
        "  print(\"processing %s data\" % file)\n",
        "  with open(dest_file, \"wb\") as out:\n",
        "    out.write(downloaded.read())\n",
        "    print(\"Done %s\" % dest_file)\n",
        "\n",
        "!mkdir data\n",
        "!mv araneum_none_fasttextskipgram_300_5_2018.model data/araneum_none_fasttextskipgram_300_5_2018.model\n",
        "!mv train.tsv data/train.tsv\n",
        "!mv public.tsv data/public.tsv\n",
        "!mv araneum_none_fasttextskipgram_300_5_2018.model.syn0_vocab_lockf.npy data/araneum_none_fasttextskipgram_300_5_2018.model.syn0_vocab_lockf.npy\n",
        "!mv araneum_none_fasttextskipgram_300_5_2018.model.syn1neg.npy data/araneum_none_fasttextskipgram_300_5_2018.model.syn1neg.npy\n",
        "!mv araneum_none_fasttextskipgram_300_5_2018.model.wv.syn0.npy data/araneum_none_fasttextskipgram_300_5_2018.model.wv.syn0.npy\n",
        "!mv araneum_none_fasttextskipgram_300_5_2018.model.wv.syn0_vocab.npy data/araneum_none_fasttextskipgram_300_5_2018.model.wv.syn0_vocab.npy\n",
        "\n",
        "!pip install gensim"
      ],
      "execution_count": 1,
      "outputs": [
        {
          "output_type": "stream",
          "text": [
            "[{'name': 'DMIA', 'id': '15UrzrRpWV_fuEf9C8cbif91gVuq7yYvr'}]\n",
            "{'araneum_none_fasttextskipgram_300_5_2018.model.wv.syn0_vocab.npy': '13Zx0oqgjM2uqOrWCqh6-_YYQaNX-DpPk', 'araneum_none_fasttextskipgram_300_5_2018.model.wv.syn0.npy': '16oYYCdaUY53_pPADpUP21wBJvTBtaGuA', 'araneum_none_fasttextskipgram_300_5_2018.model.syn1neg.npy': '1r2fnosTTq1E_Zgyv5qCmnELzc1Ap6Sas', 'araneum_none_fasttextskipgram_300_5_2018.model.syn0_vocab_lockf.npy': '11zApSJGVVLsdN6-CbAi9C1OL1iQ1zcAd', 'train.tsv': '1t1R_y_IFpqC5m983uZZDZ72odojDSS59', 'public.tsv': '1QECZAkzg0CbwP9ohozYHEbqADHsEWqEc', 'araneum_none_fasttextskipgram_300_5_2018.model': '1BsjkFdTcJGTOJU-fVYapfXKRMc5jcoa7'}\n",
            "[====================================================================================================] 100%processing araneum_none_fasttextskipgram_300_5_2018.model.wv.syn0_vocab.npy data\n",
            "Done ./araneum_none_fasttextskipgram_300_5_2018.model.wv.syn0_vocab.npy\n",
            "[====================================================================================================] 100%processing araneum_none_fasttextskipgram_300_5_2018.model.wv.syn0.npy data\n",
            "Done ./araneum_none_fasttextskipgram_300_5_2018.model.wv.syn0.npy\n",
            "[====================================================================================================] 100%processing araneum_none_fasttextskipgram_300_5_2018.model.syn1neg.npy data\n",
            "Done ./araneum_none_fasttextskipgram_300_5_2018.model.syn1neg.npy\n",
            "[====================================================================================================] 100%processing araneum_none_fasttextskipgram_300_5_2018.model.syn0_vocab_lockf.npy data\n",
            "Done ./araneum_none_fasttextskipgram_300_5_2018.model.syn0_vocab_lockf.npy\n",
            "[====================================================================================================] 100%processing train.tsv data\n",
            "Done ./train.tsv\n",
            "[====================================================================================================] 100%processing public.tsv data\n",
            "Done ./public.tsv\n",
            "[====================================================================================================] 100%processing araneum_none_fasttextskipgram_300_5_2018.model data\n",
            "Done ./araneum_none_fasttextskipgram_300_5_2018.model\n",
            "Collecting gensim\n",
            "  Downloading https://files.pythonhosted.org/packages/33/33/df6cb7acdcec5677ed130f4800f67509d24dbec74a03c329fcbf6b0864f0/gensim-3.4.0-cp36-cp36m-manylinux1_x86_64.whl (22.6MB)\n",
            "\u001b[K    100% |████████████████████████████████| 22.6MB 55kB/s \n",
            "\u001b[?25hCollecting smart-open>=1.2.1 (from gensim)\n",
            "  Downloading https://files.pythonhosted.org/packages/4b/69/c92661a333f733510628f28b8282698b62cdead37291c8491f3271677c02/smart_open-1.5.7.tar.gz\n",
            "Requirement already satisfied: numpy>=1.11.3 in /usr/local/lib/python3.6/dist-packages (from gensim)\n",
            "Requirement already satisfied: six>=1.5.0 in /usr/local/lib/python3.6/dist-packages (from gensim)\n",
            "Requirement already satisfied: scipy>=0.18.1 in /usr/local/lib/python3.6/dist-packages (from gensim)\n"
          ],
          "name": "stdout"
        },
        {
          "output_type": "stream",
          "text": [
            "Collecting boto>=2.32 (from smart-open>=1.2.1->gensim)\n",
            "  Downloading https://files.pythonhosted.org/packages/bd/b7/a88a67002b1185ed9a8e8a6ef15266728c2361fcb4f1d02ea331e4c7741d/boto-2.48.0-py2.py3-none-any.whl (1.4MB)\n",
            "\u001b[K    100% |████████████████████████████████| 1.4MB 938kB/s \n",
            "\u001b[?25hCollecting bz2file (from smart-open>=1.2.1->gensim)\n",
            "  Downloading https://files.pythonhosted.org/packages/61/39/122222b5e85cd41c391b68a99ee296584b2a2d1d233e7ee32b4532384f2d/bz2file-0.98.tar.gz\n",
            "Requirement already satisfied: requests in /usr/local/lib/python3.6/dist-packages (from smart-open>=1.2.1->gensim)\n",
            "Collecting boto3 (from smart-open>=1.2.1->gensim)\n",
            "  Downloading https://files.pythonhosted.org/packages/99/49/20985d614dbf489ab0b381111593864b62a050f457dc44ba6301572debe9/boto3-1.7.5-py2.py3-none-any.whl (128kB)\n",
            "\u001b[K    100% |████████████████████████████████| 133kB 7.6MB/s \n",
            "\u001b[?25hRequirement already satisfied: chardet<3.1.0,>=3.0.2 in /usr/local/lib/python3.6/dist-packages (from requests->smart-open>=1.2.1->gensim)\n",
            "Requirement already satisfied: certifi>=2017.4.17 in /usr/local/lib/python3.6/dist-packages (from requests->smart-open>=1.2.1->gensim)\n",
            "Requirement already satisfied: idna<2.7,>=2.5 in /usr/local/lib/python3.6/dist-packages (from requests->smart-open>=1.2.1->gensim)\n",
            "Requirement already satisfied: urllib3<1.23,>=1.21.1 in /usr/local/lib/python3.6/dist-packages (from requests->smart-open>=1.2.1->gensim)\n",
            "Collecting botocore<1.11.0,>=1.10.5 (from boto3->smart-open>=1.2.1->gensim)\n",
            "  Downloading https://files.pythonhosted.org/packages/79/66/5709a5eb3b4cb3e62a40ef514fefcf829a369a75854ed69f630fa27444b4/botocore-1.10.5-py2.py3-none-any.whl (4.2MB)\n",
            "\u001b[K    100% |████████████████████████████████| 4.2MB 326kB/s \n",
            "\u001b[?25hCollecting jmespath<1.0.0,>=0.7.1 (from boto3->smart-open>=1.2.1->gensim)\n",
            "  Downloading https://files.pythonhosted.org/packages/b7/31/05c8d001f7f87f0f07289a5fc0fc3832e9a57f2dbd4d3b0fee70e0d51365/jmespath-0.9.3-py2.py3-none-any.whl\n",
            "Collecting s3transfer<0.2.0,>=0.1.10 (from boto3->smart-open>=1.2.1->gensim)\n",
            "  Downloading https://files.pythonhosted.org/packages/d7/14/2a0004d487464d120c9fb85313a75cd3d71a7506955be458eebfe19a6b1d/s3transfer-0.1.13-py2.py3-none-any.whl (59kB)\n",
            "\u001b[K    100% |████████████████████████████████| 61kB 9.1MB/s \n",
            "\u001b[?25hCollecting docutils>=0.10 (from botocore<1.11.0,>=1.10.5->boto3->smart-open>=1.2.1->gensim)\n",
            "  Downloading https://files.pythonhosted.org/packages/36/fa/08e9e6e0e3cbd1d362c3bbee8d01d0aedb2155c4ac112b19ef3cae8eed8d/docutils-0.14-py3-none-any.whl (543kB)\n",
            "\u001b[K    100% |████████████████████████████████| 552kB 2.1MB/s \n",
            "\u001b[?25hRequirement already satisfied: python-dateutil<2.7.0,>=2.1 in /usr/local/lib/python3.6/dist-packages (from botocore<1.11.0,>=1.10.5->boto3->smart-open>=1.2.1->gensim)\n",
            "Building wheels for collected packages: smart-open, bz2file\n",
            "  Running setup.py bdist_wheel for smart-open ... \u001b[?25l-\b \bdone\n",
            "\u001b[?25h  Stored in directory: /content/.cache/pip/wheels/b1/9e/7d/bb3d3b55c597e72617140a0638c06382a5f17283881eae163e\n",
            "  Running setup.py bdist_wheel for bz2file ... \u001b[?25l-\b \bdone\n",
            "\u001b[?25h  Stored in directory: /content/.cache/pip/wheels/81/75/d6/e1317bf09bf1af5a30befc2a007869fa6e1f516b8f7c591cb9\n",
            "Successfully built smart-open bz2file\n",
            "Installing collected packages: boto, bz2file, docutils, jmespath, botocore, s3transfer, boto3, smart-open, gensim\n",
            "Successfully installed boto-2.48.0 boto3-1.7.5 botocore-1.10.5 bz2file-0.98 docutils-0.14 gensim-3.4.0 jmespath-0.9.3 s3transfer-0.1.13 smart-open-1.5.7\n",
            "\u001b[33mYou are using pip version 9.0.3, however version 10.0.1 is available.\n",
            "You should consider upgrading via the 'pip install --upgrade pip' command.\u001b[0m\n"
          ],
          "name": "stdout"
        }
      ]
    },
    {
      "metadata": {
        "id": "B85w5gU4Nx-l",
        "colab_type": "text"
      },
      "cell_type": "markdown",
      "source": [
        "<b> Описание данных и задачи </b>\n",
        "\n",
        "Каждый эпизод состоит из двух частей – контекста (Context) и финальной реплики (Reply). Например,\n",
        "\n",
        "- context_2: Персонаж A говорит реплику \n",
        "- context_1: Персонаж B отвечает на нее \n",
        "- context_0: Персонаж А произносит вторую реплику \n",
        "- reply: Персонаж B отвечает на вторую реплику \n",
        "\n",
        "Контекстная часть может состоять из трех реплик (как в примере) – в 50% случаев, двух – в 25%, и одного – в оставшихся 25% случаев. Финальная реплика (Reply) всегда завершает любой эпизод, то есть следует за контекстом (Context). Задача участников – найти наиболее подходящую и интересную реплику для данного контекста среди предложенных кандидатов (числом до 6), случайно выбранных из топа кандидатов, возвращенных бейзлайном высокого качества, натренированным командой Алисы (который, в свою очередь, отобрал кандидатов среди всех возможных реплик OpenSubtitles).\n",
        "\n",
        "Все реплики-кандидаты размечены асессорами на сервисе Яндекс.Толока с помощью следующей инструкции для разметки:\n",
        "\n",
        "- Good (2): реплика уместна (имеет смысл для данного контекста) и интересна (нетривиальна, специфична именно для данного контекста, мотивирует продолжать разговор)\n",
        "- Neutral (1): реплика уместна (имеет смысл для данного контекста), но не интересна (тривиальна, не специфична для данного контекста и скорее подталкивает пользователя закончить разговор)\n",
        "- Bad (0): реплика не имеет никакого смысла в данном контексте\n",
        "\n",
        "Каждая метка в тренировочной части датасета (и только в ней), сопровождается также уверенностью (confidence) – числом в интервале от 0 до 1 – которое показывает насколько уверенными в своей разметке были асессоры с Толоки, совместно предложившие данную метку. Мы хотим обратить особое внимание участников на эту информацию, она может быть очень полезна при обучении их моделей."
      ]
    },
    {
      "metadata": {
        "id": "UV7lhz4pNx-n",
        "colab_type": "text"
      },
      "cell_type": "markdown",
      "source": [
        "- context_id – идентификатор эпизода\n",
        "- context_2,context_1,context_0 – текст реплик, предшествующих финальной (может состоять из трех частей)\n",
        "- reply_id – идентификатор реплики-кандидата\n",
        "- reply – текст реплики-кандидата\n",
        "- label – метка реплики-кандидата (good, neutral или bad)\n",
        "- confidence - уверенность в метке реплики-кандидата (число от 0 до 1)"
      ]
    },
    {
      "metadata": {
        "id": "riIwT_myNx-o",
        "colab_type": "code",
        "colab": {
          "autoexec": {
            "startup": false,
            "wait_interval": 0
          },
          "base_uri": "https://localhost:8080/",
          "height": 34
        },
        "outputId": "a48e8011-e984-4bcb-b4b1-2c15ccc10bfd",
        "executionInfo": {
          "status": "ok",
          "timestamp": 1524240889642,
          "user_tz": -180,
          "elapsed": 15242,
          "user": {
            "displayName": "Алексей Иванов",
            "photoUrl": "https://lh3.googleusercontent.com/a/default-user=s128",
            "userId": "104814834381580890532"
          }
        }
      },
      "cell_type": "code",
      "source": [
        "import pandas as pd\n",
        "import numpy as np\n",
        "\n",
        "from keras.models import Sequential, Model\n",
        "from keras.layers import *\n",
        "from keras.preprocessing.text import Tokenizer\n",
        "from keras.preprocessing.sequence import pad_sequences\n",
        "from keras import optimizers\n",
        "\n",
        "import matplotlib.pyplot as plt\n",
        "import seaborn as sns\n",
        "import gensim\n",
        "ft = gensim.models.FastText.load('data/araneum_none_fasttextskipgram_300_5_2018.model')\n",
        "\n",
        "import re\n",
        "\n",
        "from sklearn.metrics import make_scorer, accuracy_score\n",
        "%matplotlib inline"
      ],
      "execution_count": 2,
      "outputs": [
        {
          "output_type": "stream",
          "text": [
            "Using TensorFlow backend.\n"
          ],
          "name": "stderr"
        }
      ]
    },
    {
      "metadata": {
        "id": "BrG9ub_bNx-w",
        "colab_type": "text"
      },
      "cell_type": "markdown",
      "source": [
        "<b> Метрика для оценки качества. Выбрана исходя из задачи ранжирования."
      ]
    },
    {
      "metadata": {
        "id": "DP0V55k_Nx-x",
        "colab_type": "code",
        "colab": {
          "autoexec": {
            "startup": false,
            "wait_interval": 0
          }
        }
      },
      "cell_type": "code",
      "source": [
        "def DCG(label): return sum([float(label[i]/np.log2(i+2)) for i in range(len(label))])\n",
        "\n",
        "def nDCG(label, best_label):\n",
        "    label, best_label = DCG(label), DCG(best_label)\n",
        "    if label != 0 and best_label != 0:\n",
        "        return label/best_label\n",
        "    else:\n",
        "        return 0"
      ],
      "execution_count": 0,
      "outputs": []
    },
    {
      "metadata": {
        "id": "opVW47lENx-0",
        "colab_type": "text"
      },
      "cell_type": "markdown",
      "source": [
        "<b> Загружаем данные, конкатенируем трейн и тест"
      ]
    },
    {
      "metadata": {
        "id": "19hn4-XnNx-1",
        "colab_type": "code",
        "colab": {
          "autoexec": {
            "startup": false,
            "wait_interval": 0
          }
        }
      },
      "cell_type": "code",
      "source": [
        "df_train = pd.read_csv(\"data/train.tsv\", sep='\\t', quotechar=' ', header = None)\n",
        "df_train.columns = ['context_id', 'context_2', 'context_1', 'context_0', 'reply_id', 'reply', 'label', 'confidence']\n",
        "\n",
        "df_public = pd.read_csv(\"data/public.tsv\", sep='\\t', quotechar=' ', header = None)\n",
        "df_public.columns = ['context_id', 'context_2', 'context_1', 'context_0', 'reply_id', 'reply']\n",
        "\n",
        "df_data = pd.concat((df_train, df_public)).reset_index(drop=True)"
      ],
      "execution_count": 0,
      "outputs": []
    },
    {
      "metadata": {
        "id": "ui_lKjh1Nx-5",
        "colab_type": "text"
      },
      "cell_type": "markdown",
      "source": [
        "<b>Заменяем лейблы и заполняем пустые значения confidence на 1 (Почему так рассмотрим далее), остальные на -, меняем порядок столбцов"
      ]
    },
    {
      "metadata": {
        "id": "rbrmQ46XNx-6",
        "colab_type": "code",
        "colab": {
          "autoexec": {
            "startup": false,
            "wait_interval": 0
          }
        }
      },
      "cell_type": "code",
      "source": [
        "df_data.label = df_data.label.map({'good': 2, 'neutral': 1, 'bad': 0})\n",
        "df_data.confidence.fillna(value=1, inplace=True)\n",
        "df_data.fillna(value='-', inplace=True)\n",
        "df_data = df_data[['context_id', 'context_2', 'context_1', 'context_0', 'reply_id', 'reply', 'label', 'confidence']]"
      ],
      "execution_count": 0,
      "outputs": []
    },
    {
      "metadata": {
        "id": "nvZzfuf_Nx-9",
        "colab_type": "text"
      },
      "cell_type": "markdown",
      "source": [
        "<b> Выделяем из общего датафрейма трейн и тест (для удобства дальнейшей визуализации)"
      ]
    },
    {
      "metadata": {
        "id": "1kqerVUmNx--",
        "colab_type": "code",
        "colab": {
          "autoexec": {
            "startup": false,
            "wait_interval": 0
          },
          "base_uri": "https://localhost:8080/",
          "height": 117
        },
        "outputId": "0a55ea36-2637-4d36-e3a1-ae7362eb4b62",
        "executionInfo": {
          "status": "ok",
          "timestamp": 1524240894292,
          "user_tz": -180,
          "elapsed": 1158,
          "user": {
            "displayName": "Алексей Иванов",
            "photoUrl": "https://lh3.googleusercontent.com/a/default-user=s128",
            "userId": "104814834381580890532"
          }
        }
      },
      "cell_type": "code",
      "source": [
        "train_tres = len(df_train)\n",
        "df_train = df_data.loc[:train_tres-1]\n",
        "df_public = df_data.loc[train_tres:]\n",
        "\n",
        "df_train.confidence = df_train.confidence.astype(float)\n",
        "df_train.label = df_train.label.astype(int)"
      ],
      "execution_count": 6,
      "outputs": [
        {
          "output_type": "stream",
          "text": [
            "/usr/local/lib/python3.6/dist-packages/pandas/core/generic.py:3643: SettingWithCopyWarning: \n",
            "A value is trying to be set on a copy of a slice from a DataFrame.\n",
            "Try using .loc[row_indexer,col_indexer] = value instead\n",
            "\n",
            "See the caveats in the documentation: http://pandas.pydata.org/pandas-docs/stable/indexing.html#indexing-view-versus-copy\n",
            "  self[name] = value\n"
          ],
          "name": "stderr"
        }
      ]
    },
    {
      "metadata": {
        "id": "cHX4cDZ9Nx_D",
        "colab_type": "text"
      },
      "cell_type": "markdown",
      "source": [
        "# Часть визуализации"
      ]
    },
    {
      "metadata": {
        "id": "yTQPoAfbNx_D",
        "colab_type": "text"
      },
      "cell_type": "markdown",
      "source": [
        "<b> Смотрим на распределения confidence и лейблов по трейну"
      ]
    },
    {
      "metadata": {
        "id": "LlCIkRvDNx_E",
        "colab_type": "code",
        "colab": {
          "autoexec": {
            "startup": false,
            "wait_interval": 0
          },
          "base_uri": "https://localhost:8080/",
          "height": 258
        },
        "outputId": "e2a97eba-3de6-4b81-dbe5-163e5698e93d",
        "executionInfo": {
          "status": "ok",
          "timestamp": 1524240895427,
          "user_tz": -180,
          "elapsed": 1041,
          "user": {
            "displayName": "Алексей Иванов",
            "photoUrl": "https://lh3.googleusercontent.com/a/default-user=s128",
            "userId": "104814834381580890532"
          }
        }
      },
      "cell_type": "code",
      "source": [
        "fig, ax = plt.subplots(nrows=1, ncols=2, figsize = (15,3))\n",
        "sns.distplot(df_train['confidence'], bins=100, kde=False, ax=ax[0], color=['b'])\n",
        "sns.countplot(x='label', data=df_train, ax=ax[1]);"
      ],
      "execution_count": 7,
      "outputs": [
        {
          "output_type": "stream",
          "text": [
            "/usr/local/lib/python3.6/dist-packages/seaborn/categorical.py:1428: FutureWarning: remove_na is deprecated and is a private function. Do not use.\n",
            "  stat_data = remove_na(group_data)\n"
          ],
          "name": "stderr"
        },
        {
          "output_type": "display_data",
          "data": {
            "image/png": "[encoded data removed]",
            "text/plain": [
              "<matplotlib.figure.Figure at 0x7f215802b278>"
            ]
          },
          "metadata": {
            "tags": []
          }
        }
      ]
    },
    {
      "metadata": {
        "id": "TuTDDYo1Nx_L",
        "colab_type": "text"
      },
      "cell_type": "markdown",
      "source": [
        "<b> Смотрим на распределения кол-ва слов в context и reply в трейн и тесте (слова выделялись пробелами)"
      ]
    },
    {
      "metadata": {
        "id": "I5LLUUQ1Nx_M",
        "colab_type": "code",
        "colab": {
          "autoexec": {
            "startup": false,
            "wait_interval": 0
          },
          "base_uri": "https://localhost:8080/",
          "height": 653
        },
        "outputId": "a0bf8fac-66e4-4220-a498-5d70c0beaf41",
        "executionInfo": {
          "status": "ok",
          "timestamp": 1524240900336,
          "user_tz": -180,
          "elapsed": 4813,
          "user": {
            "displayName": "Алексей Иванов",
            "photoUrl": "https://lh3.googleusercontent.com/a/default-user=s128",
            "userId": "104814834381580890532"
          }
        }
      },
      "cell_type": "code",
      "source": [
        "%%time\n",
        "fig, ax = plt.subplots(nrows=2, ncols=4, figsize=(18,10))\n",
        "\n",
        "for i in range(3):\n",
        "    sns.distplot(df_train[f'context_{2-i}'].apply(lambda x: len(str(x).split(' '))), bins=100, kde=False, ax=ax[0,i])\n",
        "    ax[0,i].set_title('train')\n",
        "sns.distplot(df_train['reply'].apply(lambda x: len(str(x).split(' '))), bins=100, kde=False, ax=ax[0,i+1])\n",
        "ax[0,i+1].set_title('train')\n",
        "\n",
        "for i in range(3):\n",
        "    sns.distplot(df_public[f'context_{2-i}'].apply(lambda x: len(str(x).split(' '))), bins=100, kde=False, ax=ax[1,i])\n",
        "    ax[1,i].set_title('public')\n",
        "sns.distplot(df_public['reply'].apply(lambda x: len(str(x).split(' '))), bins=100, kde=False, ax=ax[1,i+1])\n",
        "ax[1,i+1].set_title('public')"
      ],
      "execution_count": 8,
      "outputs": [
        {
          "output_type": "stream",
          "text": [
            "CPU times: user 1.28 s, sys: 3 ms, total: 1.28 s\n",
            "Wall time: 1.28 s\n"
          ],
          "name": "stdout"
        },
        {
          "output_type": "display_data",
          "data": {
            "image/png": "[encoded data removed]",
            "text/plain": [
              "<matplotlib.figure.Figure at 0x7f2163ff1240>"
            ]
          },
          "metadata": {
            "tags": []
          }
        }
      ]
    },
    {
      "metadata": {
        "id": "cU-jgjEKNx_R",
        "colab_type": "text"
      },
      "cell_type": "markdown",
      "source": [
        "<b>Как видно из картинок в тесте и трейне кол-ва слов распределены примерно одинаково\n",
        "\n",
        "<b>Далее смотрим на длину всего диалога в тесте и трейне"
      ]
    },
    {
      "metadata": {
        "id": "rlsfHD0lNx_S",
        "colab_type": "code",
        "colab": {
          "autoexec": {
            "startup": false,
            "wait_interval": 0
          },
          "base_uri": "https://localhost:8080/",
          "height": 259
        },
        "outputId": "7c23a899-82ea-4ba4-a021-ff78b7e77238",
        "executionInfo": {
          "status": "ok",
          "timestamp": 1524240912909,
          "user_tz": -180,
          "elapsed": 12552,
          "user": {
            "displayName": "Алексей Иванов",
            "photoUrl": "https://lh3.googleusercontent.com/a/default-user=s128",
            "userId": "104814834381580890532"
          }
        }
      },
      "cell_type": "code",
      "source": [
        "%%time\n",
        "fig, ax = plt.subplots(nrows=1, ncols=2, figsize=(18,3))\n",
        "\n",
        "sns.distplot(df_train[['context_2', 'context_1', 'context_0', 'reply']].apply(lambda x : \n",
        "                                                                              len((\" \".join(x.astype(str))).split(' ')), \n",
        "                                                                              axis = 1),\n",
        "            bins=100, kde=False, ax=ax[0])\n",
        "ax[0].set_title('train dialog words length')\n",
        "\n",
        "sns.distplot(df_public[['context_2', 'context_1', 'context_0', 'reply']].apply(lambda x : \n",
        "                                                                              len((\" \".join(x.astype(str))).split(' ')), \n",
        "                                                                              axis = 1),\n",
        "            bins=100, kde=False, ax=ax[1])\n",
        "ax[1].set_title('public dialog words length')"
      ],
      "execution_count": 9,
      "outputs": [
        {
          "output_type": "stream",
          "text": [
            "CPU times: user 10.9 s, sys: 0 ns, total: 10.9 s\n",
            "Wall time: 10.9 s\n"
          ],
          "name": "stdout"
        },
        {
          "output_type": "display_data",
          "data": {
            "image/png": "[encoded data removed]",
            "text/plain": [
              "<matplotlib.figure.Figure at 0x7f2167b0f3c8>"
            ]
          },
          "metadata": {
            "tags": []
          }
        }
      ]
    },
    {
      "metadata": {
        "id": "XxPb82VQNx_W",
        "colab_type": "text"
      },
      "cell_type": "markdown",
      "source": [
        "<b>Как и ожидалось распределения одинаковы\n",
        "\n",
        "<b>Теперь подсчитываем из скольки контекстов состоит диалог и смотрим распределения"
      ]
    },
    {
      "metadata": {
        "id": "cFQhsNFuNx_X",
        "colab_type": "code",
        "colab": {
          "autoexec": {
            "startup": false,
            "wait_interval": 0
          },
          "base_uri": "https://localhost:8080/",
          "height": 508
        },
        "outputId": "0a55e2df-7673-47ec-cca7-85b1321c56f2",
        "executionInfo": {
          "status": "ok",
          "timestamp": 1524240945129,
          "user_tz": -180,
          "elapsed": 32190,
          "user": {
            "displayName": "Алексей Иванов",
            "photoUrl": "https://lh3.googleusercontent.com/a/default-user=s128",
            "userId": "104814834381580890532"
          }
        }
      },
      "cell_type": "code",
      "source": [
        "%%time\n",
        "fig, ax = plt.subplots(nrows=1, ncols=2, figsize=(18,3))\n",
        "\n",
        "df_train['dialog_len'] = df_train[['context_2', 'context_1', 'context_0']].apply(lambda x: 3-sum(x=='-'), axis=1)\n",
        "sns.countplot(x='dialog_len', data=df_train, ax=ax[0]);\n",
        "ax[0].set_title('train dialog length')\n",
        "\n",
        "df_public['dialog_len'] = df_public[['context_2', 'context_1', 'context_0']].apply(lambda x: 3-sum(x=='-'), axis=1)\n",
        "sns.countplot(x='dialog_len', data=df_public, ax=ax[1]);\n",
        "ax[1].set_title('public dialog length')"
      ],
      "execution_count": 10,
      "outputs": [
        {
          "output_type": "stream",
          "text": [
            "/usr/local/lib/python3.6/dist-packages/ipykernel_launcher.py:3: SettingWithCopyWarning: \n",
            "A value is trying to be set on a copy of a slice from a DataFrame.\n",
            "Try using .loc[row_indexer,col_indexer] = value instead\n",
            "\n",
            "See the caveats in the documentation: http://pandas.pydata.org/pandas-docs/stable/indexing.html#indexing-view-versus-copy\n",
            "  This is separate from the ipykernel package so we can avoid doing imports until\n",
            "/usr/local/lib/python3.6/dist-packages/seaborn/categorical.py:1428: FutureWarning: remove_na is deprecated and is a private function. Do not use.\n",
            "  stat_data = remove_na(group_data)\n"
          ],
          "name": "stderr"
        },
        {
          "output_type": "stream",
          "text": [
            "CPU times: user 30.2 s, sys: 668 ms, total: 30.9 s\n",
            "Wall time: 30.9 s\n"
          ],
          "name": "stdout"
        },
        {
          "output_type": "stream",
          "text": [
            "/usr/local/lib/python3.6/dist-packages/ipykernel_launcher.py:7: SettingWithCopyWarning: \n",
            "A value is trying to be set on a copy of a slice from a DataFrame.\n",
            "Try using .loc[row_indexer,col_indexer] = value instead\n",
            "\n",
            "See the caveats in the documentation: http://pandas.pydata.org/pandas-docs/stable/indexing.html#indexing-view-versus-copy\n",
            "  import sys\n"
          ],
          "name": "stderr"
        },
        {
          "output_type": "display_data",
          "data": {
            "image/png": "[encoded data removed]",
            "text/plain": [
              "<matplotlib.figure.Figure at 0x7f2164a34128>"
            ]
          },
          "metadata": {
            "tags": []
          }
        }
      ]
    },
    {
      "metadata": {
        "id": "rvEIVOYqNx_e",
        "colab_type": "text"
      },
      "cell_type": "markdown",
      "source": [
        "<b>Опять таки мы видим, что распределения в трейне и тесте одинаковы\n",
        "\n",
        "<b>Далее проверяем граничные значения (Например, одно слово в context или reply), а именно: \n",
        "- распределение confidence и лейблов для длины диалога = 1\n",
        "- распределение confidence и лейблов для длины reply = 1\n",
        "- распределение confidence и лейблов для длины reply = 2\n",
        "- распределение confidence и лейблов для длины reply >= 2\n",
        "- распределение confidence и лейблов для длины reply = 1 и длины диалога = 1"
      ]
    },
    {
      "metadata": {
        "id": "Gbjn02zqNx_f",
        "colab_type": "code",
        "colab": {
          "autoexec": {
            "startup": false,
            "wait_interval": 0
          },
          "base_uri": "https://localhost:8080/",
          "height": 924
        },
        "outputId": "d2a5a845-a58f-4c49-8668-63650f38e1a6",
        "executionInfo": {
          "status": "ok",
          "timestamp": 1524240949200,
          "user_tz": -180,
          "elapsed": 4000,
          "user": {
            "displayName": "Алексей Иванов",
            "photoUrl": "https://lh3.googleusercontent.com/a/default-user=s128",
            "userId": "104814834381580890532"
          }
        }
      },
      "cell_type": "code",
      "source": [
        "%%time\n",
        "fig, ax = plt.subplots(nrows=1, ncols=2, figsize = (15,2))\n",
        "sns.distplot(df_train[df_train['dialog_len'] == 1].confidence, bins=100, kde=False, ax=ax[0])\n",
        "sns.countplot(x='label', data=df_train[df_train['dialog_len'] == 1], ax=ax[1])\n",
        "fig.suptitle('train dialog length==1 statistics')\n",
        "\n",
        "fig, ax = plt.subplots(nrows=1, ncols=2, figsize = (15,2))\n",
        "sns.distplot(df_train[df_train.reply.apply(lambda x: len(x.split()) == 1)].confidence, bins=100, kde=False, ax=ax[0])\n",
        "sns.countplot(x='label', data=df_train[df_train.reply.apply(lambda x: len(x.split()) == 1)], ax=ax[1])\n",
        "fig.suptitle('train reply length==1 statistics')\n",
        "\n",
        "fig, ax = plt.subplots(nrows=1, ncols=2, figsize = (15,2))\n",
        "sns.distplot(df_train[df_train.reply.apply(lambda x: len(x.split()) == 2)].confidence, bins=100, kde=False, ax=ax[0])\n",
        "sns.countplot(x='label', data=df_train[df_train.reply.apply(lambda x: len(x.split()) == 2)], ax=ax[1])\n",
        "fig.suptitle('train reply length==2 statistics')\n",
        "\n",
        "fig, ax = plt.subplots(nrows=1, ncols=2, figsize = (15,2))\n",
        "sns.distplot(df_train[df_train.reply.apply(lambda x: len(x.split()) >= 2)].confidence, bins=100, kde=False, ax=ax[0])\n",
        "sns.countplot(x='label', data=df_train[df_train.reply.apply(lambda x: len(x.split()) > 2)], ax=ax[1])\n",
        "fig.suptitle('train reply length>=2 statistics')\n",
        "\n",
        "fig, ax = plt.subplots(nrows=1, ncols=2, figsize = (15,2))\n",
        "sns.distplot(df_train[df_train.reply.apply(lambda x: len(x.split()) == 1) & (df_train['dialog_len'] == 1)].confidence, bins=100, kde=False, ax=ax[0])\n",
        "sns.countplot(x='label', data=df_train[df_train.reply.apply(lambda x: len(x.split()) == 1) & (df_train['dialog_len'] == 1)], ax=ax[1])\n",
        "fig.suptitle('train reply length==1 & dialog_len==1 statistics')"
      ],
      "execution_count": 11,
      "outputs": [
        {
          "output_type": "stream",
          "text": [
            "/usr/local/lib/python3.6/dist-packages/seaborn/categorical.py:1428: FutureWarning: remove_na is deprecated and is a private function. Do not use.\n",
            "  stat_data = remove_na(group_data)\n"
          ],
          "name": "stderr"
        },
        {
          "output_type": "stream",
          "text": [
            "CPU times: user 1.45 s, sys: 18 ms, total: 1.47 s\n",
            "Wall time: 1.47 s\n"
          ],
          "name": "stdout"
        },
        {
          "output_type": "display_data",
          "data": {
            "image/png": "[encoded data removed]",
            "text/plain": [
              "<matplotlib.figure.Figure at 0x7f21650c80b8>"
            ]
          },
          "metadata": {
            "tags": []
          }
        },
        {
          "output_type": "display_data",
          "data": {
            "image/png": "[encoded data removed]",
            "text/plain": [
              "<matplotlib.figure.Figure at 0x7f21643ac0f0>"
            ]
          },
          "metadata": {
            "tags": []
          }
        },
        {
          "output_type": "display_data",
          "data": {
            "image/png": "[encoded data removed]",
            "text/plain": [
              "<matplotlib.figure.Figure at 0x7f216578e0b8>"
            ]
          },
          "metadata": {
            "tags": []
          }
        },
        {
          "output_type": "display_data",
          "data": {
            "image/png": "[encoded data removed]",
            "text/plain": [
              "<matplotlib.figure.Figure at 0x7f2164012fd0>"
            ]
          },
          "metadata": {
            "tags": []
          }
        },
        {
          "output_type": "display_data",
          "data": {
            "image/png": "[encoded data removed]",
            "text/plain": [
              "<matplotlib.figure.Figure at 0x7f2167bf8c88>"
            ]
          },
          "metadata": {
            "tags": []
          }
        }
      ]
    },
    {
      "metadata": {
        "id": "ClFYGvRUNx_m",
        "colab_type": "text"
      },
      "cell_type": "markdown",
      "source": [
        "<b>Как мы видим при длине диалога 1 и длине reply 1 у нас почти в большинстве случаев лейбл 0"
      ]
    },
    {
      "metadata": {
        "id": "6GdWcPlQNx_n",
        "colab_type": "text"
      },
      "cell_type": "markdown",
      "source": [
        "<b>Дальше попытаемся как-то использовать confidence. В данном случае confidence для других лейблов считался как (1-confidence)/2 и для этой формулы confidence для тестовой части мы взяли как 1. В этом случае confidence для лейблов для тестовой части будет 0. Можно было избежать мороки с confidence для тестовой части 1 просто сделав срез для трейн части, но суть от этого не изменится. <br>\n",
        "\n",
        "В итоге мы расширили фичу confidence и будем их использовать как лейбл"
      ]
    },
    {
      "metadata": {
        "id": "fMYXRjk_Nx_q",
        "colab_type": "code",
        "colab": {
          "autoexec": {
            "startup": false,
            "wait_interval": 0
          },
          "base_uri": "https://localhost:8080/",
          "height": 50
        },
        "outputId": "e7cef74f-c15a-42a8-d4da-8c879ec696c0",
        "executionInfo": {
          "status": "ok",
          "timestamp": 1524240960924,
          "user_tz": -180,
          "elapsed": 11685,
          "user": {
            "displayName": "Алексей Иванов",
            "photoUrl": "https://lh3.googleusercontent.com/a/default-user=s128",
            "userId": "104814834381580890532"
          }
        }
      },
      "cell_type": "code",
      "source": [
        "%%time\n",
        "df_data['inv_confidence_div2'] = (1 - df_data.confidence)/2\n",
        "\n",
        "df_data['label0_confidence'] = 0\n",
        "df_data['label1_confidence'] = 0\n",
        "df_data['label2_confidence'] = 0\n",
        "\n",
        "df_data['label0_confidence'] = df_data[['label0_confidence', 'label', 'inv_confidence_div2', 'confidence']].apply(lambda x: x.confidence if x.label==0 else x.inv_confidence_div2 ,axis=1)\n",
        "df_data['label1_confidence'] = df_data[['label1_confidence', 'label', 'inv_confidence_div2', 'confidence']].apply(lambda x: x.confidence if x.label==1 else x.inv_confidence_div2 ,axis=1)\n",
        "df_data['label2_confidence'] = df_data[['label2_confidence', 'label', 'inv_confidence_div2', 'confidence']].apply(lambda x: x.confidence if x.label==2 else x.inv_confidence_div2 ,axis=1)"
      ],
      "execution_count": 12,
      "outputs": [
        {
          "output_type": "stream",
          "text": [
            "CPU times: user 10 s, sys: 4 ms, total: 10 s\n",
            "Wall time: 10 s\n"
          ],
          "name": "stdout"
        }
      ]
    },
    {
      "metadata": {
        "id": "PkGSV6QxNx_u",
        "colab_type": "text"
      },
      "cell_type": "markdown",
      "source": [
        "<b>Теперь нужно избавиться от всех символов кроме русских (в датасете могут присутствовать не русские символы и на самом деле так и есть) , так как наш эмбеддинг над словами будет из fasttext. Сделаем это с помощью регулярных выражений"
      ]
    },
    {
      "metadata": {
        "id": "8My6M8qMNx_w",
        "colab_type": "code",
        "colab": {
          "autoexec": {
            "startup": false,
            "wait_interval": 0
          },
          "base_uri": "https://localhost:8080/",
          "height": 50
        },
        "outputId": "ace73d32-4f77-42c3-c30e-5ad7308f4654",
        "executionInfo": {
          "status": "ok",
          "timestamp": 1524240962336,
          "user_tz": -180,
          "elapsed": 1378,
          "user": {
            "displayName": "Алексей Иванов",
            "photoUrl": "https://lh3.googleusercontent.com/a/default-user=s128",
            "userId": "104814834381580890532"
          }
        }
      },
      "cell_type": "code",
      "source": [
        "%%time\n",
        "reg = re.compile('[^а-яА-Я]')\n",
        "df_data['context_2'] = df_data['context_2'].apply(lambda x: reg.sub(r' ', x))\n",
        "df_data['context_1'] = df_data['context_1'].apply(lambda x: reg.sub(r' ', x))\n",
        "df_data['context_0'] = df_data['context_0'].apply(lambda x: reg.sub(r' ', x))\n",
        "df_data['reply'] = df_data['reply'].apply(lambda x: reg.sub(r' ', x))"
      ],
      "execution_count": 13,
      "outputs": [
        {
          "output_type": "stream",
          "text": [
            "CPU times: user 738 ms, sys: 0 ns, total: 738 ms\n",
            "Wall time: 741 ms\n"
          ],
          "name": "stdout"
        }
      ]
    },
    {
      "metadata": {
        "id": "xQ9E-9HxNx_1",
        "colab_type": "text"
      },
      "cell_type": "markdown",
      "source": [
        "<b>Теперь возьмем слова с длиной 3 символа и более (потому что наш эмбеддинг обучался на 3-5 грамах) и обрежем наши context и reply. Для того, чтобы понять на сколько обрезать нужно смотреть на наши графики с распределением кол-ва слов. В итоге имеем: context2 - 10 слов, context1 - 15 слов, context0 - 20 слов, reply - 15 слов."
      ]
    },
    {
      "metadata": {
        "id": "BKgf1ll5Nx_4",
        "colab_type": "code",
        "colab": {
          "autoexec": {
            "startup": false,
            "wait_interval": 0
          },
          "base_uri": "https://localhost:8080/",
          "height": 50
        },
        "outputId": "012b3b7c-ab6c-4f4b-e460-bfe5639a2e88",
        "executionInfo": {
          "status": "ok",
          "timestamp": 1524240966115,
          "user_tz": -180,
          "elapsed": 3703,
          "user": {
            "displayName": "Алексей Иванов",
            "photoUrl": "https://lh3.googleusercontent.com/a/default-user=s128",
            "userId": "104814834381580890532"
          }
        }
      },
      "cell_type": "code",
      "source": [
        "%%time\n",
        "temp = df_data['context_2'].apply(lambda x: x.split(' '))\n",
        "df_data['context_2_cutted'] = temp.apply( lambda x: list(filter(lambda y : len(y) >= 3, x))[:10] )\n",
        "\n",
        "temp = df_data['context_1'].apply(lambda x: x.split(' '))\n",
        "df_data['context_1_cutted'] = temp.apply(lambda x: list(filter(lambda y : len(y) >= 3, x))[:15] )\n",
        "\n",
        "temp = df_data['context_0'].apply(lambda x: x.split(' '))\n",
        "df_data['context_0_cutted'] = temp.apply(lambda x: list(filter(lambda y : len(y) >= 3, x))[:20] )\n",
        "\n",
        "temp = df_data['reply'].apply(lambda x: x.split(' '))\n",
        "df_data['reply_cutted'] = temp.apply(lambda x: list(filter(lambda y : len(y) >= 3, x))[:15] )"
      ],
      "execution_count": 14,
      "outputs": [
        {
          "output_type": "stream",
          "text": [
            "CPU times: user 2.29 s, sys: 125 ms, total: 2.41 s\n",
            "Wall time: 2.42 s\n"
          ],
          "name": "stdout"
        }
      ]
    },
    {
      "metadata": {
        "id": "ee3ym5k1Nx_9",
        "colab_type": "text"
      },
      "cell_type": "markdown",
      "source": [
        "<b>Найдем и удалим из данных строки, где после наших махинаций длина reply или context0 равны 0"
      ]
    },
    {
      "metadata": {
        "id": "H8RZ_UmgNx__",
        "colab_type": "code",
        "colab": {
          "autoexec": {
            "startup": false,
            "wait_interval": 0
          },
          "base_uri": "https://localhost:8080/",
          "height": 67
        },
        "outputId": "d3a0d2f9-459d-47c5-9a6e-66a58b29e7d6",
        "executionInfo": {
          "status": "ok",
          "timestamp": 1524241044397,
          "user_tz": -180,
          "elapsed": 1863,
          "user": {
            "displayName": "Алексей Иванов",
            "photoUrl": "https://lh3.googleusercontent.com/a/default-user=s128",
            "userId": "104814834381580890532"
          }
        }
      },
      "cell_type": "code",
      "source": [
        "%%time\n",
        "data_zero_reply_loc = df_data['reply_cutted'][df_data['reply_cutted'].apply(lambda x: len(x)==0)].index.values\n",
        "data_zero_context_0_loc = df_data['context_0_cutted'][df_data['context_0_cutted'].apply(lambda x: len(x)==0)].index.values\n",
        "\n",
        "data_noise = list(set(data_zero_reply_loc) | set(data_zero_context_0_loc))\n",
        "df_data_cleared = df_data.drop(labels=data_noise)\n",
        "print(len(data_noise))"
      ],
      "execution_count": 15,
      "outputs": [
        {
          "output_type": "stream",
          "text": [
            "4591\n",
            "CPU times: user 117 ms, sys: 8 ms, total: 125 ms\n",
            "Wall time: 128 ms\n"
          ],
          "name": "stdout"
        }
      ]
    },
    {
      "metadata": {
        "id": "rW7Y-g9pNyAG",
        "colab_type": "code",
        "colab": {
          "autoexec": {
            "startup": false,
            "wait_interval": 0
          },
          "base_uri": "https://localhost:8080/",
          "height": 181
        },
        "outputId": "af5d9a81-f3db-4611-8845-7cb99080d489",
        "executionInfo": {
          "status": "ok",
          "timestamp": 1524241046596,
          "user_tz": -180,
          "elapsed": 1990,
          "user": {
            "displayName": "Алексей Иванов",
            "photoUrl": "https://lh3.googleusercontent.com/a/default-user=s128",
            "userId": "104814834381580890532"
          }
        }
      },
      "cell_type": "code",
      "source": [
        "df_data_cleared.sample()"
      ],
      "execution_count": 16,
      "outputs": [
        {
          "output_type": "execute_result",
          "data": {
            "text/html": [
              "<div>\n",
              "<style scoped>\n",
              "    .dataframe tbody tr th:only-of-type {\n",
              "        vertical-align: middle;\n",
              "    }\n",
              "\n",
              "    .dataframe tbody tr th {\n",
              "        vertical-align: top;\n",
              "    }\n",
              "\n",
              "    .dataframe thead th {\n",
              "        text-align: right;\n",
              "    }\n",
              "</style>\n",
              "<table border=\"1\" class=\"dataframe\">\n",
              "  <thead>\n",
              "    <tr style=\"text-align: right;\">\n",
              "      <th></th>\n",
              "      <th>context_id</th>\n",
              "      <th>context_2</th>\n",
              "      <th>context_1</th>\n",
              "      <th>context_0</th>\n",
              "      <th>reply_id</th>\n",
              "      <th>reply</th>\n",
              "      <th>label</th>\n",
              "      <th>confidence</th>\n",
              "      <th>inv_confidence_div2</th>\n",
              "      <th>label0_confidence</th>\n",
              "      <th>label1_confidence</th>\n",
              "      <th>label2_confidence</th>\n",
              "      <th>context_2_cutted</th>\n",
              "      <th>context_1_cutted</th>\n",
              "      <th>context_0_cutted</th>\n",
              "      <th>reply_cutted</th>\n",
              "    </tr>\n",
              "  </thead>\n",
              "  <tbody>\n",
              "    <tr>\n",
              "      <th>70168</th>\n",
              "      <td>201928924404900</td>\n",
              "      <td>неприятная ситуация была побочным результатом ...</td>\n",
              "      <td>все равно лучше быть на твоем месте</td>\n",
              "      <td>будь что будет</td>\n",
              "      <td>3</td>\n",
              "      <td>все будет хорошо</td>\n",
              "      <td>2</td>\n",
              "      <td>0.877832</td>\n",
              "      <td>0.061084</td>\n",
              "      <td>0.061084</td>\n",
              "      <td>0.061084</td>\n",
              "      <td>0.877832</td>\n",
              "      <td>[неприятная, ситуация, была, побочным, результ...</td>\n",
              "      <td>[все, равно, лучше, быть, твоем, месте]</td>\n",
              "      <td>[будь, что, будет]</td>\n",
              "      <td>[все, будет, хорошо]</td>\n",
              "    </tr>\n",
              "  </tbody>\n",
              "</table>\n",
              "</div>"
            ],
            "text/plain": [
              "            context_id                                          context_2  \\\n",
              "70168  201928924404900  неприятная ситуация была побочным результатом ...   \n",
              "\n",
              "                                   context_1             context_0  reply_id  \\\n",
              "70168  все равно лучше быть на твоем месте    будь что будет               3   \n",
              "\n",
              "                    reply label  confidence  inv_confidence_div2  \\\n",
              "70168  все будет хорошо       2    0.877832             0.061084   \n",
              "\n",
              "       label0_confidence  label1_confidence  label2_confidence  \\\n",
              "70168           0.061084           0.061084           0.877832   \n",
              "\n",
              "                                        context_2_cutted  \\\n",
              "70168  [неприятная, ситуация, была, побочным, результ...   \n",
              "\n",
              "                              context_1_cutted    context_0_cutted  \\\n",
              "70168  [все, равно, лучше, быть, твоем, месте]  [будь, что, будет]   \n",
              "\n",
              "               reply_cutted  \n",
              "70168  [все, будет, хорошо]  "
            ]
          },
          "metadata": {
            "tags": []
          },
          "execution_count": 16
        }
      ]
    },
    {
      "metadata": {
        "id": "-hF1nZMHNyAJ",
        "colab_type": "text"
      },
      "cell_type": "markdown",
      "source": [
        "# Часть кросс валидации\n",
        "<b>Теперь разберемся с кроссвалидацией и моделью. <br>\n",
        "Модель выбрана нейросетевая (хотя она тут не очень подходит, так как данных для нейронной сети (глубокой) очень мало, порядка 70 тыс.) <br>\n",
        "Валидационная выборка это будут последние 20% теста. Данный тип валидации подходит, так как здесь нет временной зависимости или какой-либо еще не тривиальной.\n",
        "\n",
        "Модель: 2 входа context и reply, далее embedding на fasttext, CNN для context и для reply. Потом идет конкатенация двух CNN, потом Dense слой и слой softmax. loss - categorical_crossentropy, оптимизатор - AMSgrad."
      ]
    },
    {
      "metadata": {
        "id": "9IGdYXtgNyAK",
        "colab_type": "code",
        "colab": {
          "autoexec": {
            "startup": false,
            "wait_interval": 0
          }
        }
      },
      "cell_type": "code",
      "source": [
        "df_train = df_data_cleared.loc[:train_tres]\n",
        "CV_COEF = 0.8\n",
        "cv_train_tres = int(len(df_train) * CV_COEF)\n",
        "cv_train_y = df_train[['label0_confidence', 'label1_confidence', 'label2_confidence']][:cv_train_tres].values\n",
        "cv_val_y = df_train[['label0_confidence', 'label1_confidence', 'label2_confidence']][cv_train_tres:].values"
      ],
      "execution_count": 0,
      "outputs": []
    },
    {
      "metadata": {
        "id": "gyJxsRdQNyAO",
        "colab_type": "text"
      },
      "cell_type": "markdown",
      "source": [
        "<b>Создадим данные для входа в нейросеть (конатенация диалога без reply)"
      ]
    },
    {
      "metadata": {
        "id": "PAb2dgm8NyAO",
        "colab_type": "code",
        "colab": {
          "autoexec": {
            "startup": false,
            "wait_interval": 0
          }
        }
      },
      "cell_type": "code",
      "source": [
        "cv_train_context = df_train['context_2_cutted'] + df_train['context_1_cutted'] + df_train['context_0_cutted']\n",
        "cv_train_reply = df_train['reply_cutted']"
      ],
      "execution_count": 0,
      "outputs": []
    },
    {
      "metadata": {
        "id": "kNk2GSWwNyAR",
        "colab_type": "text"
      },
      "cell_type": "markdown",
      "source": [
        "<b>Определим максимальную длину диалога для каждого входа, размер эмбеддинга (задается самой моделью fasttext-а) и кол-во токенов"
      ]
    },
    {
      "metadata": {
        "id": "o3EbkCuRNyAT",
        "colab_type": "code",
        "colab": {
          "autoexec": {
            "startup": false,
            "wait_interval": 0
          }
        }
      },
      "cell_type": "code",
      "source": [
        "MAX_NB_WORDS = 100000\n",
        "MAX_SEQUENCE_LENGTH_CONTEXT = 45\n",
        "MAX_SEQUENCE_LENGTH_REPLY = 15\n",
        "EMBEDDING_DIM = 300"
      ],
      "execution_count": 0,
      "outputs": []
    },
    {
      "metadata": {
        "id": "MewzcXgONyAW",
        "colab_type": "text"
      },
      "cell_type": "markdown",
      "source": [
        "<b>Создадим токены, приведем входные данные к одной длине и разобьем данные на трейн и валидацию"
      ]
    },
    {
      "metadata": {
        "id": "CZtgHpAPNyAW",
        "colab_type": "code",
        "colab": {
          "autoexec": {
            "startup": false,
            "wait_interval": 0
          },
          "base_uri": "https://localhost:8080/",
          "height": 50
        },
        "outputId": "75f76994-bd50-43bd-9353-0f746cba51d7",
        "executionInfo": {
          "status": "ok",
          "timestamp": 1524241226655,
          "user_tz": -180,
          "elapsed": 4049,
          "user": {
            "displayName": "Алексей Иванов",
            "photoUrl": "https://lh3.googleusercontent.com/a/default-user=s128",
            "userId": "104814834381580890532"
          }
        }
      },
      "cell_type": "code",
      "source": [
        "%%time\n",
        "\n",
        "tokenizer_context = Tokenizer(num_words=MAX_NB_WORDS)\n",
        "tokenizer_context.fit_on_texts(cv_train_context)\n",
        "sequences_context = tokenizer_context.texts_to_sequences(cv_train_context)\n",
        "word_index_context = tokenizer_context.word_index\n",
        "data_context = pad_sequences(sequences_context, maxlen=MAX_SEQUENCE_LENGTH_CONTEXT)\n",
        "\n",
        "X_train_context = data_context[:cv_train_tres]\n",
        "X_val_context = data_context[cv_train_tres:]\n",
        "\n",
        "#################################################################################\n",
        "\n",
        "tokenizer_reply = Tokenizer(num_words=MAX_NB_WORDS)\n",
        "tokenizer_reply.fit_on_texts(cv_train_reply)\n",
        "sequences_reply = tokenizer_reply.texts_to_sequences(cv_train_reply)\n",
        "word_index_reply = tokenizer_reply.word_index\n",
        "data_reply = pad_sequences(sequences_reply, maxlen=MAX_SEQUENCE_LENGTH_REPLY)\n",
        "\n",
        "X_train_reply = data_reply[:cv_train_tres]\n",
        "X_val_reply = data_reply[cv_train_tres:]"
      ],
      "execution_count": 21,
      "outputs": [
        {
          "output_type": "stream",
          "text": [
            "CPU times: user 2.32 s, sys: 22 ms, total: 2.34 s\n",
            "Wall time: 2.35 s\n"
          ],
          "name": "stdout"
        }
      ]
    },
    {
      "metadata": {
        "id": "C3PRqgnmNyAa",
        "colab_type": "text"
      },
      "cell_type": "markdown",
      "source": [
        "<b>Создадим эмбеддинги для слов"
      ]
    },
    {
      "metadata": {
        "id": "p6cNzuV9NyAb",
        "colab_type": "code",
        "colab": {
          "autoexec": {
            "startup": false,
            "wait_interval": 0
          },
          "base_uri": "https://localhost:8080/",
          "height": 50
        },
        "outputId": "a9dfd299-0410-480a-aab0-9bc73d3075da",
        "executionInfo": {
          "status": "ok",
          "timestamp": 1524241230807,
          "user_tz": -180,
          "elapsed": 4103,
          "user": {
            "displayName": "Алексей Иванов",
            "photoUrl": "https://lh3.googleusercontent.com/a/default-user=s128",
            "userId": "104814834381580890532"
          }
        }
      },
      "cell_type": "code",
      "source": [
        "%%time\n",
        "\n",
        "input_context = Input(shape=(MAX_SEQUENCE_LENGTH_CONTEXT, ))\n",
        "embedding_matrix_context = np.zeros((len(word_index_context) + 1, EMBEDDING_DIM))\n",
        "for word, i in word_index_context.items():\n",
        "    embedding_vector = ft.wv[word]\n",
        "    if embedding_vector is not None:\n",
        "        # words not found in embedding index will be all-zeros.\n",
        "        embedding_matrix_context[i] = embedding_vector\n",
        "word_embed_context = Embedding(len(word_index_context) + 1,\n",
        "                            EMBEDDING_DIM,\n",
        "                            weights=[embedding_matrix_context],\n",
        "                            input_length=MAX_SEQUENCE_LENGTH_CONTEXT,\n",
        "                            trainable=False)(input_context)\n",
        "\n",
        "##############################################################################\n",
        "\n",
        "input_reply = Input(shape=(MAX_SEQUENCE_LENGTH_REPLY, ))\n",
        "embedding_matrix_reply = np.zeros((len(word_index_reply) + 1, EMBEDDING_DIM))\n",
        "for word, i in word_index_reply.items():\n",
        "    embedding_vector = ft.wv[word]\n",
        "    if embedding_vector is not None:\n",
        "        embedding_matrix_reply[i] = embedding_vector\n",
        "word_embed_reply = Embedding(len(word_index_reply) + 1,\n",
        "                            EMBEDDING_DIM,\n",
        "                            weights=[embedding_matrix_reply],\n",
        "                            input_length=MAX_SEQUENCE_LENGTH_REPLY,\n",
        "                            trainable=False)(input_reply)"
      ],
      "execution_count": 22,
      "outputs": [
        {
          "output_type": "stream",
          "text": [
            "CPU times: user 2.01 s, sys: 265 ms, total: 2.28 s\n",
            "Wall time: 2.29 s\n"
          ],
          "name": "stdout"
        }
      ]
    },
    {
      "metadata": {
        "id": "4b6UKXNDNyAf",
        "colab_type": "text"
      },
      "cell_type": "markdown",
      "source": [
        "<b>Определим модель и начнем обучение на 10 эпохах с батчем в 64. <br>\n",
        "  Парамерты и архитектура модели подбирались на основе валидации путем проб и ошибок."
      ]
    },
    {
      "metadata": {
        "id": "2pcLb5rgNyAg",
        "colab_type": "code",
        "colab": {
          "autoexec": {
            "startup": false,
            "wait_interval": 0
          },
          "base_uri": "https://localhost:8080/",
          "height": 1785
        },
        "outputId": "3b5eac53-6c66-446f-9065-a2c33aed911b",
        "executionInfo": {
          "status": "ok",
          "timestamp": 1524253069907,
          "user_tz": -180,
          "elapsed": 224876,
          "user": {
            "displayName": "Алексей Иванов",
            "photoUrl": "https://lh3.googleusercontent.com/a/default-user=s128",
            "userId": "104814834381580890532"
          }
        }
      },
      "cell_type": "code",
      "source": [
        "BATCH_SIZE = 64\n",
        "\n",
        "context_conv1 = Conv1D(16, 5, padding='same')(word_embed_context)\n",
        "context_max_pool1 = MaxPooling1D(pool_size=2)(context_conv1)\n",
        "context_conv2 = Conv1D(32, 3, padding='same')(context_max_pool1)\n",
        "context_max_pool2 = MaxPooling1D(pool_size=2)(context_conv2)\n",
        "context_conv3 = Conv1D(64, 3, padding='same')(context_max_pool2)\n",
        "context_max_pool3 = MaxPooling1D(pool_size=2)(context_conv3)\n",
        "context_flatten = Flatten()(context_max_pool3)\n",
        "\n",
        "reply_conv1 = Conv1D(32, 5, padding='same')(word_embed_reply)\n",
        "reply_max_pool1 = MaxPooling1D(pool_size=2)(reply_conv1)\n",
        "reply_conv2 = Conv1D(64, 3, padding='same')(reply_max_pool1)\n",
        "reply_max_pool2 = MaxPooling1D(pool_size=2)(reply_conv2)\n",
        "reply_flatten = Flatten()(reply_max_pool2)\n",
        "\n",
        "merged = concatenate([context_flatten, reply_flatten])\n",
        "drop_0 = Dropout(0.3)(merged)\n",
        "dense_0 = Dense(256, activation='sigmoid')(drop_0)\n",
        "drop_1 = Dropout(0.3)(dense_0)\n",
        "dense_out = Dense(3, activation='softmax')(drop_1)\n",
        "\n",
        "model = Model(inputs=[input_context, input_reply], outputs=[dense_out])\n",
        "model.compile(optimizer=optimizers.Adam(lr=0.0001), loss='categorical_crossentropy', metrics=['accuracy'])\n",
        "\n",
        "print(model.summary())\n",
        "\n",
        "hist = model.fit([X_train_context, X_train_reply], cv_train_y, batch_size=BATCH_SIZE, epochs=10, validation_data=([X_val_context, X_val_reply], cv_val_y))\n",
        "plt.figure()\n",
        "plt.title('acc')\n",
        "plt.plot(hist.history['val_acc'], label='val')\n",
        "plt.plot(hist.history['acc'], label='train')\n",
        "plt.legend()\n",
        "plt.figure()\n",
        "plt.title('loss')\n",
        "plt.plot(hist.history['val_loss'], label='val')\n",
        "plt.plot(hist.history['loss'], label='train')\n",
        "plt.legend()"
      ],
      "execution_count": 56,
      "outputs": [
        {
          "output_type": "stream",
          "text": [
            "__________________________________________________________________________________________________\n",
            "Layer (type)                    Output Shape         Param #     Connected to                     \n",
            "==================================================================================================\n",
            "input_1 (InputLayer)            (None, 45)           0                                            \n",
            "__________________________________________________________________________________________________\n",
            "embedding_1 (Embedding)         (None, 45, 300)      7153500     input_1[0][0]                    \n",
            "__________________________________________________________________________________________________\n",
            "conv1d_126 (Conv1D)             (None, 45, 16)       24016       embedding_1[0][0]                \n",
            "__________________________________________________________________________________________________\n",
            "input_2 (InputLayer)            (None, 15)           0                                            \n",
            "__________________________________________________________________________________________________\n",
            "max_pooling1d_119 (MaxPooling1D (None, 22, 16)       0           conv1d_126[0][0]                 \n",
            "__________________________________________________________________________________________________\n",
            "embedding_2 (Embedding)         (None, 15, 300)      9078600     input_2[0][0]                    \n",
            "__________________________________________________________________________________________________\n",
            "conv1d_127 (Conv1D)             (None, 22, 32)       1568        max_pooling1d_119[0][0]          \n",
            "__________________________________________________________________________________________________\n",
            "conv1d_129 (Conv1D)             (None, 15, 32)       48032       embedding_2[0][0]                \n",
            "__________________________________________________________________________________________________\n",
            "max_pooling1d_120 (MaxPooling1D (None, 11, 32)       0           conv1d_127[0][0]                 \n",
            "__________________________________________________________________________________________________\n",
            "max_pooling1d_122 (MaxPooling1D (None, 7, 32)        0           conv1d_129[0][0]                 \n",
            "__________________________________________________________________________________________________\n",
            "conv1d_128 (Conv1D)             (None, 11, 64)       6208        max_pooling1d_120[0][0]          \n",
            "__________________________________________________________________________________________________\n",
            "conv1d_130 (Conv1D)             (None, 7, 64)        6208        max_pooling1d_122[0][0]          \n",
            "__________________________________________________________________________________________________\n",
            "max_pooling1d_121 (MaxPooling1D (None, 5, 64)        0           conv1d_128[0][0]                 \n",
            "__________________________________________________________________________________________________\n",
            "max_pooling1d_123 (MaxPooling1D (None, 3, 64)        0           conv1d_130[0][0]                 \n",
            "__________________________________________________________________________________________________\n",
            "flatten_51 (Flatten)            (None, 320)          0           max_pooling1d_121[0][0]          \n",
            "__________________________________________________________________________________________________\n",
            "flatten_52 (Flatten)            (None, 192)          0           max_pooling1d_123[0][0]          \n",
            "__________________________________________________________________________________________________\n",
            "concatenate_26 (Concatenate)    (None, 512)          0           flatten_51[0][0]                 \n",
            "                                                                 flatten_52[0][0]                 \n",
            "__________________________________________________________________________________________________\n",
            "dropout_51 (Dropout)            (None, 512)          0           concatenate_26[0][0]             \n",
            "__________________________________________________________________________________________________\n",
            "dense_51 (Dense)                (None, 256)          131328      dropout_51[0][0]                 \n",
            "__________________________________________________________________________________________________\n",
            "dropout_52 (Dropout)            (None, 256)          0           dense_51[0][0]                   \n",
            "__________________________________________________________________________________________________\n",
            "dense_52 (Dense)                (None, 3)            771         dropout_52[0][0]                 \n",
            "==================================================================================================\n",
            "Total params: 16,450,231\n",
            "Trainable params: 218,131\n",
            "Non-trainable params: 16,232,100\n",
            "__________________________________________________________________________________________________\n",
            "None\n",
            "Train on 74658 samples, validate on 18665 samples\n",
            "Epoch 1/10\n",
            " 3456/74658 [>.............................] - ETA: 1:12 - loss: 1.1175 - acc: 0.4117"
          ],
          "name": "stdout"
        },
        {
          "output_type": "stream",
          "text": [
            "74658/74658 [==============================] - 25s 331us/step - loss: 1.0150 - acc: 0.4998 - val_loss: 0.9632 - val_acc: 0.5460\n",
            "Epoch 2/10\n",
            "62208/74658 [=======================>......] - ETA: 3s - loss: 0.9711 - acc: 0.5363"
          ],
          "name": "stdout"
        },
        {
          "output_type": "stream",
          "text": [
            "74658/74658 [==============================] - 22s 295us/step - loss: 0.9691 - acc: 0.5384 - val_loss: 0.9527 - val_acc: 0.5598\n",
            "Epoch 3/10\n",
            "74658/74658 [==============================] - 22s 294us/step - loss: 0.9563 - acc: 0.5561 - val_loss: 0.9537 - val_acc: 0.5532\n",
            "Epoch 4/10\n",
            " 5312/74658 [=>............................] - ETA: 19s - loss: 0.9493 - acc: 0.5689"
          ],
          "name": "stdout"
        },
        {
          "output_type": "stream",
          "text": [
            "74658/74658 [==============================] - 22s 294us/step - loss: 0.9480 - acc: 0.5669 - val_loss: 0.9433 - val_acc: 0.5702\n",
            "Epoch 5/10\n",
            "62208/74658 [=======================>......] - ETA: 3s - loss: 0.9426 - acc: 0.5746"
          ],
          "name": "stdout"
        },
        {
          "output_type": "stream",
          "text": [
            "74658/74658 [==============================] - 22s 295us/step - loss: 0.9426 - acc: 0.5743 - val_loss: 0.9405 - val_acc: 0.5739\n",
            "Epoch 6/10\n",
            "74658/74658 [==============================] - 22s 297us/step - loss: 0.9373 - acc: 0.5797 - val_loss: 0.9393 - val_acc: 0.5736\n",
            "Epoch 7/10\n",
            " 5440/74658 [=>............................] - ETA: 19s - loss: 0.9327 - acc: 0.5847"
          ],
          "name": "stdout"
        },
        {
          "output_type": "stream",
          "text": [
            "74658/74658 [==============================] - 22s 295us/step - loss: 0.9329 - acc: 0.5859 - val_loss: 0.9387 - val_acc: 0.5731\n",
            "Epoch 8/10\n",
            "62144/74658 [=======================>......] - ETA: 3s - loss: 0.9281 - acc: 0.5908"
          ],
          "name": "stdout"
        },
        {
          "output_type": "stream",
          "text": [
            "74658/74658 [==============================] - 22s 297us/step - loss: 0.9279 - acc: 0.5911 - val_loss: 0.9422 - val_acc: 0.5758\n",
            "Epoch 9/10\n",
            "74658/74658 [==============================] - 22s 293us/step - loss: 0.9230 - acc: 0.5968 - val_loss: 0.9410 - val_acc: 0.5636\n",
            "Epoch 10/10\n",
            " 5824/74658 [=>............................] - ETA: 19s - loss: 0.9149 - acc: 0.6011"
          ],
          "name": "stdout"
        },
        {
          "output_type": "stream",
          "text": [
            "74658/74658 [==============================] - 22s 293us/step - loss: 0.9179 - acc: 0.6025 - val_loss: 0.9415 - val_acc: 0.5755\n"
          ],
          "name": "stdout"
        },
        {
          "output_type": "execute_result",
          "data": {
            "text/plain": [
              "<matplotlib.legend.Legend at 0x7f21413fbc88>"
            ]
          },
          "metadata": {
            "tags": []
          },
          "execution_count": 56
        },
        {
          "output_type": "display_data",
          "data": {
            "image/png": "[encoded data removed]",
            "text/plain": [
              "<matplotlib.figure.Figure at 0x7f2141d2a320>"
            ]
          },
          "metadata": {
            "tags": []
          }
        },
        {
          "output_type": "display_data",
          "data": {
            "image/png": "[encoded data removed]",
            "text/plain": [
              "<matplotlib.figure.Figure at 0x7f214135c208>"
            ]
          },
          "metadata": {
            "tags": []
          }
        }
      ]
    },
    {
      "metadata": {
        "id": "Uxw2LrHU58C7",
        "colab_type": "text"
      },
      "cell_type": "markdown",
      "source": [
        "<b> Теперь обучим модель на 6 эпохах (выбор был сделан исходя из графика лосса на валидации - минимальная точка на графике)"
      ]
    },
    {
      "metadata": {
        "id": "1RttjL7Y4Ar_",
        "colab_type": "code",
        "colab": {
          "autoexec": {
            "startup": false,
            "wait_interval": 0
          },
          "base_uri": "https://localhost:8080/",
          "height": 271
        },
        "outputId": "d15a7663-9ebd-4006-f50c-f0948353f15f",
        "executionInfo": {
          "status": "ok",
          "timestamp": 1524253249178,
          "user_tz": -180,
          "elapsed": 136273,
          "user": {
            "displayName": "Алексей Иванов",
            "photoUrl": "https://lh3.googleusercontent.com/a/default-user=s128",
            "userId": "104814834381580890532"
          }
        }
      },
      "cell_type": "code",
      "source": [
        "context_conv1 = Conv1D(16, 5, padding='same')(word_embed_context)\n",
        "context_max_pool1 = MaxPooling1D(pool_size=2)(context_conv1)\n",
        "context_conv2 = Conv1D(32, 3, padding='same')(context_max_pool1)\n",
        "context_max_pool2 = MaxPooling1D(pool_size=2)(context_conv2)\n",
        "context_conv3 = Conv1D(64, 3, padding='same')(context_max_pool2)\n",
        "context_max_pool3 = MaxPooling1D(pool_size=2)(context_conv3)\n",
        "context_flatten = Flatten()(context_max_pool3)\n",
        "\n",
        "reply_conv1 = Conv1D(32, 5, padding='same')(word_embed_reply)\n",
        "reply_max_pool1 = MaxPooling1D(pool_size=2)(reply_conv1)\n",
        "reply_conv2 = Conv1D(64, 3, padding='same')(reply_max_pool1)\n",
        "reply_max_pool2 = MaxPooling1D(pool_size=2)(reply_conv2)\n",
        "reply_flatten = Flatten()(reply_max_pool2)\n",
        "\n",
        "merged = concatenate([context_flatten, reply_flatten])\n",
        "drop_0 = Dropout(0.3)(merged)\n",
        "dense_0 = Dense(256, activation='sigmoid')(drop_0)\n",
        "drop_1 = Dropout(0.3)(dense_0)\n",
        "dense_out = Dense(3, activation='softmax')(drop_1)\n",
        "\n",
        "model = Model(inputs=[input_context, input_reply], outputs=[dense_out])\n",
        "model.compile(optimizer=optimizers.Adam(lr=0.0001), loss='categorical_crossentropy', metrics=['accuracy'])\n",
        "\n",
        "model.fit([X_train_context, X_train_reply], cv_train_y, batch_size=BATCH_SIZE, epochs=6, validation_data=([X_val_context, X_val_reply], cv_val_y))"
      ],
      "execution_count": 57,
      "outputs": [
        {
          "output_type": "stream",
          "text": [
            "Train on 74658 samples, validate on 18665 samples\n",
            "Epoch 1/6\n",
            "74658/74658 [==============================] - 25s 335us/step - loss: 1.0283 - acc: 0.4873 - val_loss: 0.9655 - val_acc: 0.5430\n",
            "Epoch 2/6\n",
            "32512/74658 [============>.................] - ETA: 11s - loss: 0.9795 - acc: 0.5289"
          ],
          "name": "stdout"
        },
        {
          "output_type": "stream",
          "text": [
            "74658/74658 [==============================] - 22s 293us/step - loss: 0.9715 - acc: 0.5378 - val_loss: 0.9534 - val_acc: 0.5593\n",
            "Epoch 3/6\n",
            "73856/74658 [============================>.] - ETA: 0s - loss: 0.9577 - acc: 0.5581"
          ],
          "name": "stdout"
        },
        {
          "output_type": "stream",
          "text": [
            "74658/74658 [==============================] - 22s 293us/step - loss: 0.9577 - acc: 0.5580 - val_loss: 0.9473 - val_acc: 0.5632\n",
            "Epoch 4/6\n",
            "74658/74658 [==============================] - 22s 294us/step - loss: 0.9498 - acc: 0.5655 - val_loss: 0.9426 - val_acc: 0.5676\n",
            "Epoch 5/6\n",
            " 8128/74658 [==>...........................] - ETA: 18s - loss: 0.9462 - acc: 0.5709"
          ],
          "name": "stdout"
        },
        {
          "output_type": "stream",
          "text": [
            "74658/74658 [==============================] - 22s 294us/step - loss: 0.9434 - acc: 0.5714 - val_loss: 0.9397 - val_acc: 0.5722\n",
            "Epoch 6/6\n",
            "63744/74658 [========================>.....] - ETA: 3s - loss: 0.9401 - acc: 0.5767"
          ],
          "name": "stdout"
        },
        {
          "output_type": "stream",
          "text": [
            "74658/74658 [==============================] - 22s 296us/step - loss: 0.9388 - acc: 0.5777 - val_loss: 0.9383 - val_acc: 0.5755\n"
          ],
          "name": "stdout"
        },
        {
          "output_type": "execute_result",
          "data": {
            "text/plain": [
              "<keras.callbacks.History at 0x7f2140919ac8>"
            ]
          },
          "metadata": {
            "tags": []
          },
          "execution_count": 57
        }
      ]
    },
    {
      "metadata": {
        "id": "3Vl9ROhqT4t4",
        "colab_type": "text"
      },
      "cell_type": "markdown",
      "source": [
        "<b> Делаем предикт для валидационной выборке и считаем скор"
      ]
    },
    {
      "metadata": {
        "id": "fHTAOMbbTO35",
        "colab_type": "code",
        "colab": {
          "autoexec": {
            "startup": false,
            "wait_interval": 0
          },
          "base_uri": "https://localhost:8080/",
          "height": 34
        },
        "outputId": "c163db00-1aaa-4b7e-c672-628c5778f926",
        "executionInfo": {
          "status": "ok",
          "timestamp": 1524253290300,
          "user_tz": -180,
          "elapsed": 3072,
          "user": {
            "displayName": "Алексей Иванов",
            "photoUrl": "https://lh3.googleusercontent.com/a/default-user=s128",
            "userId": "104814834381580890532"
          }
        }
      },
      "cell_type": "code",
      "source": [
        "y_pred = model.predict([X_val_context, X_val_reply])\n",
        "y_pred_classes = np.argmax(y_pred, axis=1)\n",
        "cv_val_classes = np.argmax(cv_val_y, axis=1)\n",
        "nDCG(cv_val_classes, y_pred_classes)"
      ],
      "execution_count": 61,
      "outputs": [
        {
          "output_type": "execute_result",
          "data": {
            "text/plain": [
              "0.7446212469964736"
            ]
          },
          "metadata": {
            "tags": []
          },
          "execution_count": 61
        }
      ]
    },
    {
      "metadata": {
        "id": "tjZq8oYZNyAn",
        "colab_type": "text"
      },
      "cell_type": "markdown",
      "source": [
        "# Часть обучения\n"
      ]
    },
    {
      "metadata": {
        "id": "jVQk1a6dNyA0",
        "colab_type": "text"
      },
      "cell_type": "markdown",
      "source": [
        "<b> Отделим тест и трейн"
      ]
    },
    {
      "metadata": {
        "id": "IJA_4XXbNyA1",
        "colab_type": "code",
        "colab": {
          "autoexec": {
            "startup": false,
            "wait_interval": 0
          },
          "base_uri": "https://localhost:8080/",
          "height": 50
        },
        "outputId": "fb63b95b-b0a4-4d70-a8e2-21505fab32d6",
        "executionInfo": {
          "status": "ok",
          "timestamp": 1524253320412,
          "user_tz": -180,
          "elapsed": 1552,
          "user": {
            "displayName": "Алексей Иванов",
            "photoUrl": "https://lh3.googleusercontent.com/a/default-user=s128",
            "userId": "104814834381580890532"
          }
        }
      },
      "cell_type": "code",
      "source": [
        "%%time\n",
        "train_inds = df_data[df_data.label != '-'].index.values\n",
        "test_inds = df_data[df_data.label == '-'].index.values\n",
        "y_train = df_data[df_data.label != '-'][['label0_confidence', 'label1_confidence', 'label2_confidence']].values\n",
        "\n",
        "context = df_data['context_2_cutted'] + df_data['context_1_cutted'] + df_data['context_0_cutted']\n",
        "reply = df_data['reply_cutted']"
      ],
      "execution_count": 62,
      "outputs": [
        {
          "output_type": "stream",
          "text": [
            "CPU times: user 892 ms, sys: 28 ms, total: 920 ms\n",
            "Wall time: 908 ms\n"
          ],
          "name": "stdout"
        }
      ]
    },
    {
      "metadata": {
        "id": "quHI33U4TD7q",
        "colab_type": "text"
      },
      "cell_type": "markdown",
      "source": [
        "<b>Сделаем те же процедуры для эмбединга, какие делали для кроссвалидации \n"
      ]
    },
    {
      "metadata": {
        "id": "r-by9a3mQaLn",
        "colab_type": "code",
        "colab": {
          "autoexec": {
            "startup": false,
            "wait_interval": 0
          },
          "base_uri": "https://localhost:8080/",
          "height": 50
        },
        "outputId": "ca870221-b612-46af-80b4-d222cf1c60c9",
        "executionInfo": {
          "status": "ok",
          "timestamp": 1524253323928,
          "user_tz": -180,
          "elapsed": 3482,
          "user": {
            "displayName": "Алексей Иванов",
            "photoUrl": "https://lh3.googleusercontent.com/a/default-user=s128",
            "userId": "104814834381580890532"
          }
        }
      },
      "cell_type": "code",
      "source": [
        "%%time\n",
        "\n",
        "tokenizer_context = Tokenizer(num_words=MAX_NB_WORDS)\n",
        "tokenizer_context.fit_on_texts(context)\n",
        "sequences_context = tokenizer_context.texts_to_sequences(context)\n",
        "word_index_context = tokenizer_context.word_index\n",
        "data_context = pad_sequences(sequences_context, maxlen=MAX_SEQUENCE_LENGTH_CONTEXT)\n",
        "\n",
        "train_context = data_context[train_inds]\n",
        "test_context = data_context[test_inds]\n",
        "\n",
        "#################################################################################\n",
        "\n",
        "tokenizer_reply = Tokenizer(num_words=MAX_NB_WORDS)\n",
        "tokenizer_reply.fit_on_texts(reply)\n",
        "sequences_reply = tokenizer_reply.texts_to_sequences(reply)\n",
        "word_index_reply = tokenizer_reply.word_index\n",
        "data_reply = pad_sequences(sequences_reply, maxlen=MAX_SEQUENCE_LENGTH_REPLY)\n",
        "\n",
        "train_reply = data_reply[train_inds]\n",
        "test_reply = data_reply[test_inds]"
      ],
      "execution_count": 63,
      "outputs": [
        {
          "output_type": "stream",
          "text": [
            "CPU times: user 2.6 s, sys: 45 ms, total: 2.65 s\n",
            "Wall time: 2.63 s\n"
          ],
          "name": "stdout"
        }
      ]
    },
    {
      "metadata": {
        "id": "dpVA192PQdA4",
        "colab_type": "code",
        "colab": {
          "autoexec": {
            "startup": false,
            "wait_interval": 0
          },
          "base_uri": "https://localhost:8080/",
          "height": 50
        },
        "outputId": "f1a38138-d7be-4c7e-b1cf-fdad793a8535",
        "executionInfo": {
          "status": "ok",
          "timestamp": 1524253335060,
          "user_tz": -180,
          "elapsed": 11080,
          "user": {
            "displayName": "Алексей Иванов",
            "photoUrl": "https://lh3.googleusercontent.com/a/default-user=s128",
            "userId": "104814834381580890532"
          }
        }
      },
      "cell_type": "code",
      "source": [
        "%%time\n",
        "\n",
        "input_context = Input(shape=(MAX_SEQUENCE_LENGTH_CONTEXT, ))\n",
        "embedding_matrix_context = np.zeros((len(word_index_context) + 1, EMBEDDING_DIM))\n",
        "for word, i in word_index_context.items():\n",
        "    embedding_vector = ft.wv[word]\n",
        "    if embedding_vector is not None:\n",
        "        # words not found in embedding index will be all-zeros.\n",
        "        embedding_matrix_context[i] = embedding_vector\n",
        "word_embed_context = Embedding(len(word_index_context) + 1,\n",
        "                            EMBEDDING_DIM,\n",
        "                            weights=[embedding_matrix_context],\n",
        "                            input_length=MAX_SEQUENCE_LENGTH_CONTEXT,\n",
        "                            trainable=False)(input_context)\n",
        "\n",
        "##############################################################################\n",
        "\n",
        "input_reply = Input(shape=(MAX_SEQUENCE_LENGTH_REPLY, ))\n",
        "embedding_matrix_reply = np.zeros((len(word_index_reply) + 1, EMBEDDING_DIM))\n",
        "for word, i in word_index_reply.items():\n",
        "    embedding_vector = ft.wv[word]\n",
        "    if embedding_vector is not None:\n",
        "        embedding_matrix_reply[i] = embedding_vector\n",
        "word_embed_reply = Embedding(len(word_index_reply) + 1,\n",
        "                            EMBEDDING_DIM,\n",
        "                            weights=[embedding_matrix_reply],\n",
        "                            input_length=MAX_SEQUENCE_LENGTH_REPLY,\n",
        "                            trainable=False)(input_reply)"
      ],
      "execution_count": 64,
      "outputs": [
        {
          "output_type": "stream",
          "text": [
            "CPU times: user 8.77 s, sys: 182 ms, total: 8.95 s\n",
            "Wall time: 8.83 s\n"
          ],
          "name": "stdout"
        }
      ]
    },
    {
      "metadata": {
        "id": "AxanU1aPNyBF",
        "colab_type": "text"
      },
      "cell_type": "markdown",
      "source": [
        "<b> Обучим сеть на всем тренировочном датасете с количеством эпох в 6\n",
        "\n"
      ]
    },
    {
      "metadata": {
        "id": "SmljsBZmQrf9",
        "colab_type": "code",
        "colab": {
          "autoexec": {
            "startup": false,
            "wait_interval": 0
          },
          "base_uri": "https://localhost:8080/",
          "height": 1107
        },
        "outputId": "e0a5f0f5-e536-41ba-ea4b-eb654b0f6a51",
        "executionInfo": {
          "status": "ok",
          "timestamp": 1524253683274,
          "user_tz": -180,
          "elapsed": 169021,
          "user": {
            "displayName": "Алексей Иванов",
            "photoUrl": "https://lh3.googleusercontent.com/a/default-user=s128",
            "userId": "104814834381580890532"
          }
        }
      },
      "cell_type": "code",
      "source": [
        "BATCH_SIZE = 64\n",
        "\n",
        "context_conv1 = Conv1D(16, 5, padding='same')(word_embed_context)\n",
        "context_max_pool1 = MaxPooling1D(pool_size=2)(context_conv1)\n",
        "context_conv2 = Conv1D(32, 3, padding='same')(context_max_pool1)\n",
        "context_max_pool2 = MaxPooling1D(pool_size=2)(context_conv2)\n",
        "context_conv3 = Conv1D(64, 3, padding='same')(context_max_pool2)\n",
        "context_max_pool3 = MaxPooling1D(pool_size=2)(context_conv3)\n",
        "context_flatten = Flatten()(context_max_pool3)\n",
        "\n",
        "reply_conv1 = Conv1D(32, 3, padding='same')(word_embed_reply)\n",
        "reply_max_pool1 = MaxPooling1D(pool_size=2)(reply_conv1)\n",
        "reply_conv2 = Conv1D(64, 3, padding='same')(reply_max_pool1)\n",
        "reply_max_pool2 = MaxPooling1D(pool_size=2)(reply_conv2)\n",
        "reply_flatten = Flatten()(reply_max_pool2)\n",
        "\n",
        "merged = concatenate([context_flatten, reply_flatten])\n",
        "drop_0 = Dropout(0.3)(merged)\n",
        "dense_0 = Dense(256, activation='sigmoid')(drop_0)\n",
        "drop_1 = Dropout(0.3)(dense_0)\n",
        "dense_out = Dense(3, activation='softmax')(drop_1)\n",
        "\n",
        "model = Model(inputs=[input_context, input_reply], outputs=[dense_out])\n",
        "model.compile(optimizer=optimizers.Adam(lr=0.0001), loss='categorical_crossentropy', metrics=['accuracy'])\n",
        "\n",
        "print(model.summary())\n",
        "\n",
        "model.fit([train_context, train_reply], y_train, batch_size=BATCH_SIZE, epochs=6)"
      ],
      "execution_count": 66,
      "outputs": [
        {
          "output_type": "stream",
          "text": [
            "__________________________________________________________________________________________________\n",
            "Layer (type)                    Output Shape         Param #     Connected to                     \n",
            "==================================================================================================\n",
            "input_3 (InputLayer)            (None, 45)           0                                            \n",
            "__________________________________________________________________________________________________\n",
            "embedding_3 (Embedding)         (None, 45, 300)      7630500     input_3[0][0]                    \n",
            "__________________________________________________________________________________________________\n",
            "conv1d_141 (Conv1D)             (None, 45, 16)       24016       embedding_3[0][0]                \n",
            "__________________________________________________________________________________________________\n",
            "input_4 (InputLayer)            (None, 15)           0                                            \n",
            "__________________________________________________________________________________________________\n",
            "max_pooling1d_134 (MaxPooling1D (None, 22, 16)       0           conv1d_141[0][0]                 \n",
            "__________________________________________________________________________________________________\n",
            "embedding_4 (Embedding)         (None, 15, 300)      9640200     input_4[0][0]                    \n",
            "__________________________________________________________________________________________________\n",
            "conv1d_142 (Conv1D)             (None, 22, 32)       1568        max_pooling1d_134[0][0]          \n",
            "__________________________________________________________________________________________________\n",
            "conv1d_144 (Conv1D)             (None, 15, 32)       28832       embedding_4[0][0]                \n",
            "__________________________________________________________________________________________________\n",
            "max_pooling1d_135 (MaxPooling1D (None, 11, 32)       0           conv1d_142[0][0]                 \n",
            "__________________________________________________________________________________________________\n",
            "max_pooling1d_137 (MaxPooling1D (None, 7, 32)        0           conv1d_144[0][0]                 \n",
            "__________________________________________________________________________________________________\n",
            "conv1d_143 (Conv1D)             (None, 11, 64)       6208        max_pooling1d_135[0][0]          \n",
            "__________________________________________________________________________________________________\n",
            "conv1d_145 (Conv1D)             (None, 7, 64)        6208        max_pooling1d_137[0][0]          \n",
            "__________________________________________________________________________________________________\n",
            "max_pooling1d_136 (MaxPooling1D (None, 5, 64)        0           conv1d_143[0][0]                 \n",
            "__________________________________________________________________________________________________\n",
            "max_pooling1d_138 (MaxPooling1D (None, 3, 64)        0           conv1d_145[0][0]                 \n",
            "__________________________________________________________________________________________________\n",
            "flatten_57 (Flatten)            (None, 320)          0           max_pooling1d_136[0][0]          \n",
            "__________________________________________________________________________________________________\n",
            "flatten_58 (Flatten)            (None, 192)          0           max_pooling1d_138[0][0]          \n",
            "__________________________________________________________________________________________________\n",
            "concatenate_29 (Concatenate)    (None, 512)          0           flatten_57[0][0]                 \n",
            "                                                                 flatten_58[0][0]                 \n",
            "__________________________________________________________________________________________________\n",
            "dropout_57 (Dropout)            (None, 512)          0           concatenate_29[0][0]             \n",
            "__________________________________________________________________________________________________\n",
            "dense_57 (Dense)                (None, 256)          131328      dropout_57[0][0]                 \n",
            "__________________________________________________________________________________________________\n",
            "dropout_58 (Dropout)            (None, 256)          0           dense_57[0][0]                   \n",
            "__________________________________________________________________________________________________\n",
            "dense_58 (Dense)                (None, 3)            771         dropout_58[0][0]                 \n",
            "==================================================================================================\n",
            "Total params: 17,469,631\n",
            "Trainable params: 198,931\n",
            "Non-trainable params: 17,270,700\n",
            "__________________________________________________________________________________________________\n",
            "None\n",
            "Epoch 1/6\n",
            " 3328/97533 [>.............................] - ETA: 1:48 - loss: 1.2607 - acc: 0.3098"
          ],
          "name": "stdout"
        },
        {
          "output_type": "stream",
          "text": [
            "97533/97533 [==============================] - 30s 308us/step - loss: 1.0190 - acc: 0.4958\n",
            "Epoch 2/6\n",
            "61824/97533 [==================>...........] - ETA: 10s - loss: 0.9734 - acc: 0.5362"
          ],
          "name": "stdout"
        },
        {
          "output_type": "stream",
          "text": [
            "97533/97533 [==============================] - 27s 282us/step - loss: 0.9704 - acc: 0.5406\n",
            "Epoch 3/6\n",
            "88512/97533 [==========================>...] - ETA: 2s - loss: 0.9567 - acc: 0.5572"
          ],
          "name": "stdout"
        },
        {
          "output_type": "stream",
          "text": [
            "97533/97533 [==============================] - 27s 280us/step - loss: 0.9568 - acc: 0.5571\n",
            "Epoch 4/6\n",
            "97533/97533 [==============================] - 27s 279us/step - loss: 0.9489 - acc: 0.5657\n",
            "Epoch 5/6\n",
            " 1600/97533 [..............................] - ETA: 26s - loss: 0.9528 - acc: 0.5706"
          ],
          "name": "stdout"
        },
        {
          "output_type": "stream",
          "text": [
            "97533/97533 [==============================] - 27s 281us/step - loss: 0.9431 - acc: 0.5736\n",
            "Epoch 6/6\n",
            "60800/97533 [=================>............] - ETA: 10s - loss: 0.9399 - acc: 0.5793"
          ],
          "name": "stdout"
        },
        {
          "output_type": "stream",
          "text": [
            "97533/97533 [==============================] - 27s 282us/step - loss: 0.9388 - acc: 0.5794\n"
          ],
          "name": "stdout"
        },
        {
          "output_type": "execute_result",
          "data": {
            "text/plain": [
              "<keras.callbacks.History at 0x7f2163611390>"
            ]
          },
          "metadata": {
            "tags": []
          },
          "execution_count": 66
        }
      ]
    },
    {
      "metadata": {
        "id": "kqX40MJ1NyBK",
        "colab_type": "text"
      },
      "cell_type": "markdown",
      "source": [
        "<b> Сделаем предикт по тесту и сохраним в csv файле"
      ]
    },
    {
      "metadata": {
        "id": "tBl53xqvNyBK",
        "colab_type": "code",
        "colab": {
          "autoexec": {
            "startup": false,
            "wait_interval": 0
          }
        }
      },
      "cell_type": "code",
      "source": [
        "y_pred = model.predict([test_context, test_reply])\n",
        "y_pred_classes = np.argmax(y_pred, axis=1)\n",
        "y_pred_prob = np.max(y_pred, axis=1)"
      ],
      "execution_count": 0,
      "outputs": []
    },
    {
      "metadata": {
        "id": "16umXAXQNyBU",
        "colab_type": "code",
        "colab": {
          "autoexec": {
            "startup": false,
            "wait_interval": 0
          },
          "base_uri": "https://localhost:8080/",
          "height": 218
        },
        "outputId": "42817618-b77a-436c-801e-a6d9a8ff582c",
        "executionInfo": {
          "status": "ok",
          "timestamp": 1524253704799,
          "user_tz": -180,
          "elapsed": 2128,
          "user": {
            "displayName": "Алексей Иванов",
            "photoUrl": "https://lh3.googleusercontent.com/a/default-user=s128",
            "userId": "104814834381580890532"
          }
        }
      },
      "cell_type": "code",
      "source": [
        "df_public['label'] = y_pred_classes\n",
        "df_public['confidence'] = y_pred_prob\n",
        "df_public.sort_values(by=['context_id', 'confidence'], ascending=False)[['context_id', 'reply_id']].to_csv('subm.csv', encoding='utf-8', sep=' ', index=False)"
      ],
      "execution_count": 68,
      "outputs": [
        {
          "output_type": "stream",
          "text": [
            "/usr/local/lib/python3.6/dist-packages/ipykernel_launcher.py:1: SettingWithCopyWarning: \n",
            "A value is trying to be set on a copy of a slice from a DataFrame.\n",
            "Try using .loc[row_indexer,col_indexer] = value instead\n",
            "\n",
            "See the caveats in the documentation: http://pandas.pydata.org/pandas-docs/stable/indexing.html#indexing-view-versus-copy\n",
            "  \"\"\"Entry point for launching an IPython kernel.\n",
            "/usr/local/lib/python3.6/dist-packages/ipykernel_launcher.py:2: SettingWithCopyWarning: \n",
            "A value is trying to be set on a copy of a slice from a DataFrame.\n",
            "Try using .loc[row_indexer,col_indexer] = value instead\n",
            "\n",
            "See the caveats in the documentation: http://pandas.pydata.org/pandas-docs/stable/indexing.html#indexing-view-versus-copy\n",
            "  \n"
          ],
          "name": "stderr"
        }
      ]
    },
    {
      "metadata": {
        "id": "1K7WLgChVhTB",
        "colab_type": "text"
      },
      "cell_type": "markdown",
      "source": [
        "<b> Скачаем csv файл с колаба"
      ]
    },
    {
      "metadata": {
        "id": "hVEy5DrQVBWh",
        "colab_type": "code",
        "colab": {
          "autoexec": {
            "startup": false,
            "wait_interval": 0
          }
        }
      },
      "cell_type": "code",
      "source": [
        "from google.colab import files\n",
        "files.download('subm.csv')"
      ],
      "execution_count": 0,
      "outputs": []
    },
    {
      "metadata": {
        "id": "nvqG5JecWy0t",
        "colab_type": "text"
      },
      "cell_type": "markdown",
      "source": [
        "<b> Скор 83919, что соответствует ожиданиям исходя скору на валидации"
      ]
    }
  ]
}