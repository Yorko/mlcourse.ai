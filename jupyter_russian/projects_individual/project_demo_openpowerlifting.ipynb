{
 "cells": [
  {
   "cell_type": "markdown",
   "metadata": {},
   "source": [
    "<center>\n",
    "<img src=\"../img/ods_stickers.jpg\">\n",
    "## Открытый курс по машинному обучению. Сессия № 3\n",
    "\n",
    "### <center> Автор материала: Демо Владимир Олегович"
   ]
  },
  {
   "cell_type": "markdown",
   "metadata": {},
   "source": [
    "## <center> Индивидуальный проект по анализу данных: </center>\n",
    "## <center> Прогноз успешного выступления на соревнованиях по Пауэрлифтингу </center>"
   ]
  },
  {
   "cell_type": "code",
   "execution_count": 1,
   "metadata": {
    "collapsed": true
   },
   "outputs": [],
   "source": [
    "## подключаемые библиотеки\n",
    "import pandas as pd\n",
    "import numpy as np\n",
    "import seaborn as sns\n",
    "import matplotlib.pyplot as plt\n",
    "from sklearn import preprocessing"
   ]
  },
  {
   "cell_type": "markdown",
   "metadata": {},
   "source": [
    "###  1. Описание набора данных и признаков (2 балла)\n",
    "\n",
    "Описан процесс сбора данных (если применимо), есть подробное описание решаемой задачи, в чем ее ценность, дано описание целевого и прочих признаков;"
   ]
  },
  {
   "cell_type": "markdown",
   "metadata": {},
   "source": [
    "__Процесс сбора данных:__\n",
    "\n",
    "Данные для анализа взяты с Каггл:\n",
    "https://www.kaggle.com/open-powerlifting/powerlifting-database\n",
    "\n",
    "__Подробное описание решаемой задачи:__\n",
    "\n",
    "Пауэрли́фтинг (англ. powerlifting; power — «сила, мощь» + lifting — «поднятие») или силовое троеборье — силовой вид спорта, суть которого заключается в преодолении сопротивления максимально тяжёлого для спортсмена веса.\n",
    "\n",
    "Пауэрлифтинг также называют силовым троеборьем. Связано это с тем, что в качестве соревновательных дисциплин в него входят три упражнения (приседания со штангой на спине (точнее на верхней части лопаток), жим штанги лежа на горизонтальной скамье и тяга штанги), которые в сумме определяют квалификацию спортсмена.\n",
    "\n",
    "На основе данных сайта \"Openpowerlifting.org\" постараемся дать ответ на следующие вопросы:\n",
    "    1. Влияет ли категория, в которой выступает пауэрлифтер на результаты соревнований?\n",
    "    2. Как экипировка влияет на достижение результата?\n",
    "    3. Можно ли спрогнозировать победу чемпионата на основе первых 2 испытаний (присед и жим)?\n",
    "\n",
    "__Ценность задачи:__\n",
    "    У некоторых начинающих спортсменов результаты по отдельным дисциплинам в среднем лучше, чем по другим. Следовательно, необходимо понять, наксколько велик шанс спортсмена достигнуть призового места.\n",
    "\n",
    "__Описание целевого и прочих признаков:__\n",
    "\n",
    "Целевой признак:\n",
    "- Place - место в соревнованиях\n",
    "\n",
    "Прочие признаки:\n",
    "- MeetID - ID проведенного мероприятия;\n",
    "- Name - имя спортсмена (Имя Фамилия на англ. языке);\n",
    "- Sex - пол спортсмена (male - мужской /female - женский);\n",
    "- Equipment - экипировка (Multi-ply - многослойная, Raw - без экипировки, Single-ply - однослойная, Straps - бинты на кисти рук, Straps - бинты на колени ног);\n",
    "- Age - возраст спортсмена в полных годах;\n",
    "- Division - дивизион в котором выступает спортсмен (возрастная, проверка на допинг и пр.);\n",
    "- BodyweightKg - вес спортсмена (кг);\n",
    "- WeightClassKg - весовая категория спортсмена (его вес меньше или равен данной категории, кг);\n",
    "- BestSquatKg - лучший результат в дисциплине \"Присед со штангой\" (кг);\n",
    "- BestBenchKg - лучший результат в дисциплине \"Жим штанги лежа\" (кг);\n",
    "- BestDeadliftKg - лучший результат в дисциплине \"Становая тяга штанги\" (кг);\n",
    "- TotalKg - сумма трех испытаний (кг);\n",
    "- Wilks - коэффициент Вилкса, который позволяет на соревнованиях определить абсолютного чемпионата вне зависимости от весовой категории."
   ]
  },
  {
   "cell_type": "code",
   "execution_count": 4,
   "metadata": {
    "scrolled": true
   },
   "outputs": [
    {
     "data": {
      "text/plain": [
       "(386414, 17)"
      ]
     },
     "execution_count": 4,
     "metadata": {},
     "output_type": "execute_result"
    }
   ],
   "source": [
    "op = pd.read_csv('../../data/openpowerlifting.csv')\n",
    "op.shape"
   ]
  },
  {
   "cell_type": "markdown",
   "metadata": {},
   "source": [
    "###  2. Первичный анализ признаков\n",
    "\n",
    "Исследованы признаки, их взаимодействия, влияние на целевой признак. Исследовано распределение целевого признака (в случае задачи регрессии проведены стат-тесты на нормальность и скошенность (skewness) распределения). Если необходимо, объясняется, почему и как можно преобразовать целевой признак. Изучены выбросы и пропуски в данных;"
   ]
  },
  {
   "cell_type": "code",
   "execution_count": 3,
   "metadata": {
    "scrolled": false
   },
   "outputs": [
    {
     "data": {
      "text/html": [
       "<div>\n",
       "<style>\n",
       "    .dataframe thead tr:only-child th {\n",
       "        text-align: right;\n",
       "    }\n",
       "\n",
       "    .dataframe thead th {\n",
       "        text-align: left;\n",
       "    }\n",
       "\n",
       "    .dataframe tbody tr th {\n",
       "        vertical-align: top;\n",
       "    }\n",
       "</style>\n",
       "<table border=\"1\" class=\"dataframe\">\n",
       "  <thead>\n",
       "    <tr style=\"text-align: right;\">\n",
       "      <th></th>\n",
       "      <th>MeetID</th>\n",
       "      <th>Name</th>\n",
       "      <th>Sex</th>\n",
       "      <th>Equipment</th>\n",
       "      <th>Age</th>\n",
       "      <th>Division</th>\n",
       "      <th>BodyweightKg</th>\n",
       "      <th>WeightClassKg</th>\n",
       "      <th>Squat4Kg</th>\n",
       "      <th>BestSquatKg</th>\n",
       "      <th>Bench4Kg</th>\n",
       "      <th>BestBenchKg</th>\n",
       "      <th>Deadlift4Kg</th>\n",
       "      <th>BestDeadliftKg</th>\n",
       "      <th>TotalKg</th>\n",
       "      <th>Place</th>\n",
       "      <th>Wilks</th>\n",
       "    </tr>\n",
       "  </thead>\n",
       "  <tbody>\n",
       "    <tr>\n",
       "      <th>0</th>\n",
       "      <td>0</td>\n",
       "      <td>Angie Belk Terry</td>\n",
       "      <td>F</td>\n",
       "      <td>Wraps</td>\n",
       "      <td>47.0</td>\n",
       "      <td>Mst 45-49</td>\n",
       "      <td>59.60</td>\n",
       "      <td>60</td>\n",
       "      <td>NaN</td>\n",
       "      <td>47.63</td>\n",
       "      <td>NaN</td>\n",
       "      <td>20.41</td>\n",
       "      <td>NaN</td>\n",
       "      <td>70.31</td>\n",
       "      <td>138.35</td>\n",
       "      <td>1</td>\n",
       "      <td>155.05</td>\n",
       "    </tr>\n",
       "    <tr>\n",
       "      <th>1</th>\n",
       "      <td>0</td>\n",
       "      <td>Dawn Bogart</td>\n",
       "      <td>F</td>\n",
       "      <td>Single-ply</td>\n",
       "      <td>42.0</td>\n",
       "      <td>Mst 40-44</td>\n",
       "      <td>58.51</td>\n",
       "      <td>60</td>\n",
       "      <td>NaN</td>\n",
       "      <td>142.88</td>\n",
       "      <td>NaN</td>\n",
       "      <td>95.25</td>\n",
       "      <td>NaN</td>\n",
       "      <td>163.29</td>\n",
       "      <td>401.42</td>\n",
       "      <td>1</td>\n",
       "      <td>456.38</td>\n",
       "    </tr>\n",
       "    <tr>\n",
       "      <th>2</th>\n",
       "      <td>0</td>\n",
       "      <td>Dawn Bogart</td>\n",
       "      <td>F</td>\n",
       "      <td>Single-ply</td>\n",
       "      <td>42.0</td>\n",
       "      <td>Open Senior</td>\n",
       "      <td>58.51</td>\n",
       "      <td>60</td>\n",
       "      <td>NaN</td>\n",
       "      <td>142.88</td>\n",
       "      <td>NaN</td>\n",
       "      <td>95.25</td>\n",
       "      <td>NaN</td>\n",
       "      <td>163.29</td>\n",
       "      <td>401.42</td>\n",
       "      <td>1</td>\n",
       "      <td>456.38</td>\n",
       "    </tr>\n",
       "    <tr>\n",
       "      <th>3</th>\n",
       "      <td>0</td>\n",
       "      <td>Dawn Bogart</td>\n",
       "      <td>F</td>\n",
       "      <td>Raw</td>\n",
       "      <td>42.0</td>\n",
       "      <td>Open Senior</td>\n",
       "      <td>58.51</td>\n",
       "      <td>60</td>\n",
       "      <td>NaN</td>\n",
       "      <td>NaN</td>\n",
       "      <td>NaN</td>\n",
       "      <td>95.25</td>\n",
       "      <td>NaN</td>\n",
       "      <td>NaN</td>\n",
       "      <td>95.25</td>\n",
       "      <td>1</td>\n",
       "      <td>108.29</td>\n",
       "    </tr>\n",
       "    <tr>\n",
       "      <th>4</th>\n",
       "      <td>0</td>\n",
       "      <td>Destiny Dula</td>\n",
       "      <td>F</td>\n",
       "      <td>Raw</td>\n",
       "      <td>18.0</td>\n",
       "      <td>Teen 18-19</td>\n",
       "      <td>63.68</td>\n",
       "      <td>67.5</td>\n",
       "      <td>NaN</td>\n",
       "      <td>NaN</td>\n",
       "      <td>NaN</td>\n",
       "      <td>31.75</td>\n",
       "      <td>NaN</td>\n",
       "      <td>90.72</td>\n",
       "      <td>122.47</td>\n",
       "      <td>1</td>\n",
       "      <td>130.47</td>\n",
       "    </tr>\n",
       "  </tbody>\n",
       "</table>\n",
       "</div>"
      ],
      "text/plain": [
       "   MeetID              Name Sex   Equipment   Age     Division  BodyweightKg  \\\n",
       "0       0  Angie Belk Terry   F       Wraps  47.0    Mst 45-49         59.60   \n",
       "1       0       Dawn Bogart   F  Single-ply  42.0    Mst 40-44         58.51   \n",
       "2       0       Dawn Bogart   F  Single-ply  42.0  Open Senior         58.51   \n",
       "3       0       Dawn Bogart   F         Raw  42.0  Open Senior         58.51   \n",
       "4       0      Destiny Dula   F         Raw  18.0   Teen 18-19         63.68   \n",
       "\n",
       "  WeightClassKg  Squat4Kg  BestSquatKg  Bench4Kg  BestBenchKg  Deadlift4Kg  \\\n",
       "0            60       NaN        47.63       NaN        20.41          NaN   \n",
       "1            60       NaN       142.88       NaN        95.25          NaN   \n",
       "2            60       NaN       142.88       NaN        95.25          NaN   \n",
       "3            60       NaN          NaN       NaN        95.25          NaN   \n",
       "4          67.5       NaN          NaN       NaN        31.75          NaN   \n",
       "\n",
       "   BestDeadliftKg  TotalKg Place   Wilks  \n",
       "0           70.31   138.35     1  155.05  \n",
       "1          163.29   401.42     1  456.38  \n",
       "2          163.29   401.42     1  456.38  \n",
       "3             NaN    95.25     1  108.29  \n",
       "4           90.72   122.47     1  130.47  "
      ]
     },
     "execution_count": 3,
     "metadata": {},
     "output_type": "execute_result"
    }
   ],
   "source": [
    "op.head()"
   ]
  },
  {
   "cell_type": "code",
   "execution_count": 4,
   "metadata": {
    "scrolled": true
   },
   "outputs": [
    {
     "name": "stdout",
     "output_type": "stream",
     "text": [
      "<class 'pandas.core.frame.DataFrame'>\n",
      "RangeIndex: 386414 entries, 0 to 386413\n",
      "Data columns (total 17 columns):\n",
      "MeetID            386414 non-null int64\n",
      "Name              386414 non-null object\n",
      "Sex               386414 non-null object\n",
      "Equipment         386414 non-null object\n",
      "Age               147147 non-null float64\n",
      "Division          370571 non-null object\n",
      "BodyweightKg      384012 non-null float64\n",
      "WeightClassKg     382602 non-null object\n",
      "Squat4Kg          1243 non-null float64\n",
      "BestSquatKg       298071 non-null float64\n",
      "Bench4Kg          1962 non-null float64\n",
      "BestBenchKg       356364 non-null float64\n",
      "Deadlift4Kg       2800 non-null float64\n",
      "BestDeadliftKg    317847 non-null float64\n",
      "TotalKg           363237 non-null float64\n",
      "Place             385322 non-null object\n",
      "Wilks             362194 non-null float64\n",
      "dtypes: float64(10), int64(1), object(6)\n",
      "memory usage: 50.1+ MB\n",
      "None\n"
     ]
    }
   ],
   "source": [
    "print(op.info())"
   ]
  },
  {
   "cell_type": "markdown",
   "metadata": {},
   "source": [
    "### 7. Предобработка данных (4 балла)\n",
    "\n",
    "Проведена предобработка данных для конкретной модели. При необходимости есть и описано масштабирование признаков, заполнение пропусков, замены строк на числа, OheHotEncoding, обработка выбросов, отбор признаков с описанием используемых для этого методов. Корректно сделано разбиение данных на обучающую и отложенную части;"
   ]
  },
  {
   "cell_type": "markdown",
   "metadata": {},
   "source": [
    "Проверим данные на наличие пропусков. Определим долю пропусков от общего числа данных"
   ]
  },
  {
   "cell_type": "code",
   "execution_count": 5,
   "metadata": {
    "scrolled": true
   },
   "outputs": [
    {
     "data": {
      "text/plain": [
       "MeetID            0.000000\n",
       "Name              0.000000\n",
       "Sex               0.000000\n",
       "Equipment         0.000000\n",
       "Age               0.619199\n",
       "Division          0.041000\n",
       "BodyweightKg      0.006216\n",
       "WeightClassKg     0.009865\n",
       "Squat4Kg          0.996783\n",
       "BestSquatKg       0.228623\n",
       "Bench4Kg          0.994923\n",
       "BestBenchKg       0.077766\n",
       "Deadlift4Kg       0.992754\n",
       "BestDeadliftKg    0.177444\n",
       "TotalKg           0.059980\n",
       "Place             0.002826\n",
       "Wilks             0.062679\n",
       "dtype: float64"
      ]
     },
     "execution_count": 5,
     "metadata": {},
     "output_type": "execute_result"
    }
   ],
   "source": [
    "op.isnull().sum() / op.shape[0]"
   ]
  },
  {
   "cell_type": "markdown",
   "metadata": {},
   "source": [
    "Столцы Squat4Kg, Bench4Kg, Deadlift4Kg в большинстве отсутствуют (>99%) и age в 62% случаев, следовательно данные признаки удаляем из dataset"
   ]
  },
  {
   "cell_type": "code",
   "execution_count": 6,
   "metadata": {
    "collapsed": true
   },
   "outputs": [],
   "source": [
    "op=op.drop([\"Squat4Kg\", \"Bench4Kg\", \"Deadlift4Kg\", \"Age\"], axis=1)"
   ]
  },
  {
   "cell_type": "code",
   "execution_count": 7,
   "metadata": {
    "scrolled": true
   },
   "outputs": [
    {
     "data": {
      "text/html": [
       "<div>\n",
       "<style>\n",
       "    .dataframe thead tr:only-child th {\n",
       "        text-align: right;\n",
       "    }\n",
       "\n",
       "    .dataframe thead th {\n",
       "        text-align: left;\n",
       "    }\n",
       "\n",
       "    .dataframe tbody tr th {\n",
       "        vertical-align: top;\n",
       "    }\n",
       "</style>\n",
       "<table border=\"1\" class=\"dataframe\">\n",
       "  <thead>\n",
       "    <tr style=\"text-align: right;\">\n",
       "      <th></th>\n",
       "      <th>MeetID</th>\n",
       "      <th>BodyweightKg</th>\n",
       "      <th>BestSquatKg</th>\n",
       "      <th>BestBenchKg</th>\n",
       "      <th>BestDeadliftKg</th>\n",
       "      <th>TotalKg</th>\n",
       "      <th>Wilks</th>\n",
       "    </tr>\n",
       "  </thead>\n",
       "  <tbody>\n",
       "    <tr>\n",
       "      <th>count</th>\n",
       "      <td>386414.000000</td>\n",
       "      <td>384012.000000</td>\n",
       "      <td>298071.000000</td>\n",
       "      <td>356364.000000</td>\n",
       "      <td>317847.000000</td>\n",
       "      <td>363237.000000</td>\n",
       "      <td>362194.000000</td>\n",
       "    </tr>\n",
       "    <tr>\n",
       "      <th>mean</th>\n",
       "      <td>5143.015804</td>\n",
       "      <td>86.934912</td>\n",
       "      <td>176.569941</td>\n",
       "      <td>118.347509</td>\n",
       "      <td>195.040633</td>\n",
       "      <td>424.000249</td>\n",
       "      <td>301.080601</td>\n",
       "    </tr>\n",
       "    <tr>\n",
       "      <th>std</th>\n",
       "      <td>2552.099838</td>\n",
       "      <td>23.140843</td>\n",
       "      <td>69.222785</td>\n",
       "      <td>54.848850</td>\n",
       "      <td>61.580675</td>\n",
       "      <td>196.355147</td>\n",
       "      <td>116.360396</td>\n",
       "    </tr>\n",
       "    <tr>\n",
       "      <th>min</th>\n",
       "      <td>0.000000</td>\n",
       "      <td>15.880000</td>\n",
       "      <td>-477.500000</td>\n",
       "      <td>-522.500000</td>\n",
       "      <td>-410.000000</td>\n",
       "      <td>11.000000</td>\n",
       "      <td>13.730000</td>\n",
       "    </tr>\n",
       "    <tr>\n",
       "      <th>25%</th>\n",
       "      <td>2979.000000</td>\n",
       "      <td>70.300000</td>\n",
       "      <td>127.500000</td>\n",
       "      <td>79.380000</td>\n",
       "      <td>147.500000</td>\n",
       "      <td>272.160000</td>\n",
       "      <td>237.380000</td>\n",
       "    </tr>\n",
       "    <tr>\n",
       "      <th>50%</th>\n",
       "      <td>5960.000000</td>\n",
       "      <td>83.200000</td>\n",
       "      <td>174.630000</td>\n",
       "      <td>115.000000</td>\n",
       "      <td>195.000000</td>\n",
       "      <td>424.110000</td>\n",
       "      <td>319.660000</td>\n",
       "    </tr>\n",
       "    <tr>\n",
       "      <th>75%</th>\n",
       "      <td>7175.000000</td>\n",
       "      <td>100.000000</td>\n",
       "      <td>217.720000</td>\n",
       "      <td>150.000000</td>\n",
       "      <td>238.140000</td>\n",
       "      <td>565.000000</td>\n",
       "      <td>379.290000</td>\n",
       "    </tr>\n",
       "    <tr>\n",
       "      <th>max</th>\n",
       "      <td>8481.000000</td>\n",
       "      <td>242.400000</td>\n",
       "      <td>573.790000</td>\n",
       "      <td>488.500000</td>\n",
       "      <td>460.400000</td>\n",
       "      <td>1365.310000</td>\n",
       "      <td>779.380000</td>\n",
       "    </tr>\n",
       "  </tbody>\n",
       "</table>\n",
       "</div>"
      ],
      "text/plain": [
       "              MeetID   BodyweightKg    BestSquatKg    BestBenchKg  \\\n",
       "count  386414.000000  384012.000000  298071.000000  356364.000000   \n",
       "mean     5143.015804      86.934912     176.569941     118.347509   \n",
       "std      2552.099838      23.140843      69.222785      54.848850   \n",
       "min         0.000000      15.880000    -477.500000    -522.500000   \n",
       "25%      2979.000000      70.300000     127.500000      79.380000   \n",
       "50%      5960.000000      83.200000     174.630000     115.000000   \n",
       "75%      7175.000000     100.000000     217.720000     150.000000   \n",
       "max      8481.000000     242.400000     573.790000     488.500000   \n",
       "\n",
       "       BestDeadliftKg        TotalKg          Wilks  \n",
       "count   317847.000000  363237.000000  362194.000000  \n",
       "mean       195.040633     424.000249     301.080601  \n",
       "std         61.580675     196.355147     116.360396  \n",
       "min       -410.000000      11.000000      13.730000  \n",
       "25%        147.500000     272.160000     237.380000  \n",
       "50%        195.000000     424.110000     319.660000  \n",
       "75%        238.140000     565.000000     379.290000  \n",
       "max        460.400000    1365.310000     779.380000  "
      ]
     },
     "execution_count": 7,
     "metadata": {},
     "output_type": "execute_result"
    }
   ],
   "source": [
    "op.describe()"
   ]
  },
  {
   "cell_type": "markdown",
   "metadata": {},
   "source": [
    "Также имеем в столбцах BestSquatKg,\tBestBenchKg, BestDeadliftKg отрицательные значения, что по физической природе является выбросом. Спишем это на ошибки ввода, следовательно данные параметры необходимо взять по модулю"
   ]
  },
  {
   "cell_type": "code",
   "execution_count": 8,
   "metadata": {
    "collapsed": true,
    "scrolled": false
   },
   "outputs": [],
   "source": [
    "op['BestSquatKg']=np.abs(op['BestSquatKg'])\n",
    "op['BestBenchKg']=np.abs(op['BestBenchKg'])\n",
    "op['BestDeadliftKg']=np.abs(op['BestDeadliftKg'])"
   ]
  },
  {
   "cell_type": "markdown",
   "metadata": {},
   "source": [
    "Заменим все NaN в столбцах BestSquatKg, BestBenchKg, BestDeadliftKg, TotalKg, Wilks на \"нули\" (спортсмену не удалось выполнить начальный вес в состязаниях, поэтому у него суммарный вес и Вилкс тоже \"ноль\""
   ]
  },
  {
   "cell_type": "code",
   "execution_count": 9,
   "metadata": {
    "collapsed": true
   },
   "outputs": [],
   "source": [
    "op['BestSquatKg']=op['BestSquatKg'].fillna(0)\n",
    "op['BestBenchKg']=op['BestBenchKg'].fillna(0)\n",
    "op['BestDeadliftKg']=op['BestDeadliftKg'].fillna(0)\n",
    "op['TotalKg']=op['TotalKg'].fillna(0)\n",
    "op['Wilks']=op['Wilks'].fillna(0)"
   ]
  },
  {
   "cell_type": "markdown",
   "metadata": {},
   "source": [
    "Проверим также на корректность итоговую сумму трех дисциплин. Создадим отдельную колонку, где покажем процент ошибки ввода данных. Затем удалим строчки, где ошибка больше 1%"
   ]
  },
  {
   "cell_type": "code",
   "execution_count": 10,
   "metadata": {
    "scrolled": false
   },
   "outputs": [
    {
     "data": {
      "text/html": [
       "<div>\n",
       "<style>\n",
       "    .dataframe thead tr:only-child th {\n",
       "        text-align: right;\n",
       "    }\n",
       "\n",
       "    .dataframe thead th {\n",
       "        text-align: left;\n",
       "    }\n",
       "\n",
       "    .dataframe tbody tr th {\n",
       "        vertical-align: top;\n",
       "    }\n",
       "</style>\n",
       "<table border=\"1\" class=\"dataframe\">\n",
       "  <thead>\n",
       "    <tr style=\"text-align: right;\">\n",
       "      <th></th>\n",
       "      <th>MeetID</th>\n",
       "      <th>BodyweightKg</th>\n",
       "      <th>BestSquatKg</th>\n",
       "      <th>BestBenchKg</th>\n",
       "      <th>BestDeadliftKg</th>\n",
       "      <th>TotalKg</th>\n",
       "      <th>Wilks</th>\n",
       "    </tr>\n",
       "  </thead>\n",
       "  <tbody>\n",
       "    <tr>\n",
       "      <th>count</th>\n",
       "      <td>372576.000000</td>\n",
       "      <td>370219.000000</td>\n",
       "      <td>372576.000000</td>\n",
       "      <td>372576.000000</td>\n",
       "      <td>372576.000000</td>\n",
       "      <td>372576.000000</td>\n",
       "      <td>372576.000000</td>\n",
       "    </tr>\n",
       "    <tr>\n",
       "      <th>mean</th>\n",
       "      <td>5119.195866</td>\n",
       "      <td>86.840444</td>\n",
       "      <td>137.287194</td>\n",
       "      <td>111.898557</td>\n",
       "      <td>164.003853</td>\n",
       "      <td>413.189168</td>\n",
       "      <td>292.569356</td>\n",
       "    </tr>\n",
       "    <tr>\n",
       "      <th>std</th>\n",
       "      <td>2561.807728</td>\n",
       "      <td>23.102765</td>\n",
       "      <td>94.101900</td>\n",
       "      <td>57.697462</td>\n",
       "      <td>90.281214</td>\n",
       "      <td>205.010422</td>\n",
       "      <td>125.076258</td>\n",
       "    </tr>\n",
       "    <tr>\n",
       "      <th>min</th>\n",
       "      <td>0.000000</td>\n",
       "      <td>15.880000</td>\n",
       "      <td>0.000000</td>\n",
       "      <td>0.000000</td>\n",
       "      <td>0.000000</td>\n",
       "      <td>0.000000</td>\n",
       "      <td>0.000000</td>\n",
       "    </tr>\n",
       "    <tr>\n",
       "      <th>25%</th>\n",
       "      <td>2895.000000</td>\n",
       "      <td>70.200000</td>\n",
       "      <td>75.000000</td>\n",
       "      <td>70.000000</td>\n",
       "      <td>120.000000</td>\n",
       "      <td>260.000000</td>\n",
       "      <td>223.530000</td>\n",
       "    </tr>\n",
       "    <tr>\n",
       "      <th>50%</th>\n",
       "      <td>5947.000000</td>\n",
       "      <td>83.000000</td>\n",
       "      <td>147.500000</td>\n",
       "      <td>112.500000</td>\n",
       "      <td>180.000000</td>\n",
       "      <td>415.040000</td>\n",
       "      <td>316.090000</td>\n",
       "    </tr>\n",
       "    <tr>\n",
       "      <th>75%</th>\n",
       "      <td>7166.000000</td>\n",
       "      <td>100.000000</td>\n",
       "      <td>204.120000</td>\n",
       "      <td>147.500000</td>\n",
       "      <td>230.000000</td>\n",
       "      <td>562.400000</td>\n",
       "      <td>377.330000</td>\n",
       "    </tr>\n",
       "    <tr>\n",
       "      <th>max</th>\n",
       "      <td>8481.000000</td>\n",
       "      <td>242.400000</td>\n",
       "      <td>573.790000</td>\n",
       "      <td>488.500000</td>\n",
       "      <td>460.400000</td>\n",
       "      <td>1365.310000</td>\n",
       "      <td>779.380000</td>\n",
       "    </tr>\n",
       "  </tbody>\n",
       "</table>\n",
       "</div>"
      ],
      "text/plain": [
       "              MeetID   BodyweightKg    BestSquatKg    BestBenchKg  \\\n",
       "count  372576.000000  370219.000000  372576.000000  372576.000000   \n",
       "mean     5119.195866      86.840444     137.287194     111.898557   \n",
       "std      2561.807728      23.102765      94.101900      57.697462   \n",
       "min         0.000000      15.880000       0.000000       0.000000   \n",
       "25%      2895.000000      70.200000      75.000000      70.000000   \n",
       "50%      5947.000000      83.000000     147.500000     112.500000   \n",
       "75%      7166.000000     100.000000     204.120000     147.500000   \n",
       "max      8481.000000     242.400000     573.790000     488.500000   \n",
       "\n",
       "       BestDeadliftKg        TotalKg          Wilks  \n",
       "count   372576.000000  372576.000000  372576.000000  \n",
       "mean       164.003853     413.189168     292.569356  \n",
       "std         90.281214     205.010422     125.076258  \n",
       "min          0.000000       0.000000       0.000000  \n",
       "25%        120.000000     260.000000     223.530000  \n",
       "50%        180.000000     415.040000     316.090000  \n",
       "75%        230.000000     562.400000     377.330000  \n",
       "max        460.400000    1365.310000     779.380000  "
      ]
     },
     "execution_count": 10,
     "metadata": {},
     "output_type": "execute_result"
    }
   ],
   "source": [
    "op['TotalKg_check']=(op['TotalKg']-(op['BestSquatKg']+op['BestBenchKg']+op['BestDeadliftKg']))/op['TotalKg']\n",
    "op=op.drop(op[np.abs(op['TotalKg_check'])>0.01].index)\n",
    "\n",
    "op=op.drop(['TotalKg_check'], axis=1)\n",
    "op.describe()"
   ]
  },
  {
   "cell_type": "markdown",
   "metadata": {},
   "source": [
    "Заметим, что еще остались значения Nan в признаке \"BodyweightKg\", следовательно удалим все строчки, где данный признак не указан, чтобы количество элементов в каждом признаке было одинаковым."
   ]
  },
  {
   "cell_type": "code",
   "execution_count": 11,
   "metadata": {},
   "outputs": [
    {
     "data": {
      "text/html": [
       "<div>\n",
       "<style>\n",
       "    .dataframe thead tr:only-child th {\n",
       "        text-align: right;\n",
       "    }\n",
       "\n",
       "    .dataframe thead th {\n",
       "        text-align: left;\n",
       "    }\n",
       "\n",
       "    .dataframe tbody tr th {\n",
       "        vertical-align: top;\n",
       "    }\n",
       "</style>\n",
       "<table border=\"1\" class=\"dataframe\">\n",
       "  <thead>\n",
       "    <tr style=\"text-align: right;\">\n",
       "      <th></th>\n",
       "      <th>MeetID</th>\n",
       "      <th>BodyweightKg</th>\n",
       "      <th>BestSquatKg</th>\n",
       "      <th>BestBenchKg</th>\n",
       "      <th>BestDeadliftKg</th>\n",
       "      <th>TotalKg</th>\n",
       "      <th>Wilks</th>\n",
       "    </tr>\n",
       "  </thead>\n",
       "  <tbody>\n",
       "    <tr>\n",
       "      <th>count</th>\n",
       "      <td>370219.000000</td>\n",
       "      <td>370219.000000</td>\n",
       "      <td>370219.000000</td>\n",
       "      <td>370219.000000</td>\n",
       "      <td>370219.000000</td>\n",
       "      <td>370219.000000</td>\n",
       "      <td>370219.000000</td>\n",
       "    </tr>\n",
       "    <tr>\n",
       "      <th>mean</th>\n",
       "      <td>5115.469549</td>\n",
       "      <td>86.840444</td>\n",
       "      <td>137.755888</td>\n",
       "      <td>112.177891</td>\n",
       "      <td>164.609692</td>\n",
       "      <td>414.543030</td>\n",
       "      <td>294.432000</td>\n",
       "    </tr>\n",
       "    <tr>\n",
       "      <th>std</th>\n",
       "      <td>2565.110974</td>\n",
       "      <td>23.102765</td>\n",
       "      <td>93.731000</td>\n",
       "      <td>57.264106</td>\n",
       "      <td>89.787171</td>\n",
       "      <td>203.550292</td>\n",
       "      <td>123.268996</td>\n",
       "    </tr>\n",
       "    <tr>\n",
       "      <th>min</th>\n",
       "      <td>0.000000</td>\n",
       "      <td>15.880000</td>\n",
       "      <td>0.000000</td>\n",
       "      <td>0.000000</td>\n",
       "      <td>0.000000</td>\n",
       "      <td>0.000000</td>\n",
       "      <td>0.000000</td>\n",
       "    </tr>\n",
       "    <tr>\n",
       "      <th>25%</th>\n",
       "      <td>2869.000000</td>\n",
       "      <td>70.200000</td>\n",
       "      <td>75.000000</td>\n",
       "      <td>70.310000</td>\n",
       "      <td>120.000000</td>\n",
       "      <td>260.800000</td>\n",
       "      <td>226.830000</td>\n",
       "    </tr>\n",
       "    <tr>\n",
       "      <th>50%</th>\n",
       "      <td>5944.000000</td>\n",
       "      <td>83.000000</td>\n",
       "      <td>147.500000</td>\n",
       "      <td>112.500000</td>\n",
       "      <td>180.000000</td>\n",
       "      <td>417.300000</td>\n",
       "      <td>316.910000</td>\n",
       "    </tr>\n",
       "    <tr>\n",
       "      <th>75%</th>\n",
       "      <td>7169.000000</td>\n",
       "      <td>100.000000</td>\n",
       "      <td>204.120000</td>\n",
       "      <td>147.500000</td>\n",
       "      <td>230.000000</td>\n",
       "      <td>562.450000</td>\n",
       "      <td>377.740000</td>\n",
       "    </tr>\n",
       "    <tr>\n",
       "      <th>max</th>\n",
       "      <td>8481.000000</td>\n",
       "      <td>242.400000</td>\n",
       "      <td>573.790000</td>\n",
       "      <td>488.500000</td>\n",
       "      <td>460.400000</td>\n",
       "      <td>1365.310000</td>\n",
       "      <td>779.380000</td>\n",
       "    </tr>\n",
       "  </tbody>\n",
       "</table>\n",
       "</div>"
      ],
      "text/plain": [
       "              MeetID   BodyweightKg    BestSquatKg    BestBenchKg  \\\n",
       "count  370219.000000  370219.000000  370219.000000  370219.000000   \n",
       "mean     5115.469549      86.840444     137.755888     112.177891   \n",
       "std      2565.110974      23.102765      93.731000      57.264106   \n",
       "min         0.000000      15.880000       0.000000       0.000000   \n",
       "25%      2869.000000      70.200000      75.000000      70.310000   \n",
       "50%      5944.000000      83.000000     147.500000     112.500000   \n",
       "75%      7169.000000     100.000000     204.120000     147.500000   \n",
       "max      8481.000000     242.400000     573.790000     488.500000   \n",
       "\n",
       "       BestDeadliftKg        TotalKg          Wilks  \n",
       "count   370219.000000  370219.000000  370219.000000  \n",
       "mean       164.609692     414.543030     294.432000  \n",
       "std         89.787171     203.550292     123.268996  \n",
       "min          0.000000       0.000000       0.000000  \n",
       "25%        120.000000     260.800000     226.830000  \n",
       "50%        180.000000     417.300000     316.910000  \n",
       "75%        230.000000     562.450000     377.740000  \n",
       "max        460.400000    1365.310000     779.380000  "
      ]
     },
     "execution_count": 11,
     "metadata": {},
     "output_type": "execute_result"
    }
   ],
   "source": [
    "op=op.drop(op[op[\"BodyweightKg\"].isnull()].index)\n",
    "op.describe()"
   ]
  },
  {
   "cell_type": "markdown",
   "metadata": {},
   "source": [
    "Получили \"очищенные данные\", которые демонстрируют статистику по итоговым места в соревнованиях из 370219 строчек"
   ]
  },
  {
   "cell_type": "code",
   "execution_count": 12,
   "metadata": {
    "scrolled": true
   },
   "outputs": [
    {
     "data": {
      "text/plain": [
       "1     194006\n",
       "2      57024\n",
       "3      29938\n",
       "4      19038\n",
       "5      13431\n",
       "6       9961\n",
       "DQ      8113\n",
       "7       7775\n",
       "8       6063\n",
       "9       4746\n",
       "Name: Place, dtype: int64"
      ]
     },
     "execution_count": 12,
     "metadata": {},
     "output_type": "execute_result"
    }
   ],
   "source": [
    "op.groupby('Place')\n",
    "place_stat=op['Place'].value_counts()\n",
    "place_stat[0:10]"
   ]
  },
  {
   "cell_type": "code",
   "execution_count": 13,
   "metadata": {},
   "outputs": [
    {
     "data": {
      "text/plain": [
       "<matplotlib.axes._subplots.AxesSubplot at 0x1a121722b0>"
      ]
     },
     "execution_count": 13,
     "metadata": {},
     "output_type": "execute_result"
    }
   ],
   "source": [
    "op['Place'].hist(bins=25)"
   ]
  },
  {
   "cell_type": "markdown",
   "metadata": {},
   "source": [
    "\"Место\" в соревнованиях определим как целевой признак. Чтобы в дальнейшем можно было провести прогноз, необходимо выполнить еще несколько подготовительных пунктов:\n",
    "- создание новых признаков\n",
    "- перевести текстовые значения в числовые для возможностей анализа и прогноза"
   ]
  },
  {
   "cell_type": "markdown",
   "metadata": {},
   "source": [
    "### 9. Создание новых признаков и описание этого процесса (4 балла)\n",
    "\n",
    "Созданы новые признаки. Дано обоснование: логическое (например, у птиц температура тела на несколько градусов выше человеческой, значит вирус ХХХ не выживет в такой среде), физическое (например, радуга означает, что источник света расположен сзади; расчет величины по физическому закону с использованием данных признаков) или другое (скажем, признак построен после визуализации данных). Обоснование разумно описано. Полезность новых признаков подтверждена статистически или с помощью соответствующей модели;"
   ]
  },
  {
   "cell_type": "markdown",
   "metadata": {},
   "source": [
    "Создаем новый признак: \"Число участий в соревнований\" - 'MeetCount'. Каждый спортсмен будет иметь данные по сумме соревнований, что в дальнейшем позволяет понять насколько он опытный."
   ]
  },
  {
   "cell_type": "code",
   "execution_count": 14,
   "metadata": {
    "scrolled": true
   },
   "outputs": [
    {
     "data": {
      "text/html": [
       "<div>\n",
       "<style>\n",
       "    .dataframe thead tr:only-child th {\n",
       "        text-align: right;\n",
       "    }\n",
       "\n",
       "    .dataframe thead th {\n",
       "        text-align: left;\n",
       "    }\n",
       "\n",
       "    .dataframe tbody tr th {\n",
       "        vertical-align: top;\n",
       "    }\n",
       "</style>\n",
       "<table border=\"1\" class=\"dataframe\">\n",
       "  <thead>\n",
       "    <tr style=\"text-align: right;\">\n",
       "      <th></th>\n",
       "      <th>MeetID</th>\n",
       "      <th>Name</th>\n",
       "      <th>Sex</th>\n",
       "      <th>Equipment</th>\n",
       "      <th>Division</th>\n",
       "      <th>BodyweightKg</th>\n",
       "      <th>WeightClassKg</th>\n",
       "      <th>BestSquatKg</th>\n",
       "      <th>BestBenchKg</th>\n",
       "      <th>BestDeadliftKg</th>\n",
       "      <th>TotalKg</th>\n",
       "      <th>Place</th>\n",
       "      <th>Wilks</th>\n",
       "      <th>MeetCount</th>\n",
       "    </tr>\n",
       "  </thead>\n",
       "  <tbody>\n",
       "    <tr>\n",
       "      <th>0</th>\n",
       "      <td>0</td>\n",
       "      <td>Angie Belk Terry</td>\n",
       "      <td>F</td>\n",
       "      <td>Wraps</td>\n",
       "      <td>Mst 45-49</td>\n",
       "      <td>59.60</td>\n",
       "      <td>60</td>\n",
       "      <td>47.63</td>\n",
       "      <td>20.41</td>\n",
       "      <td>70.31</td>\n",
       "      <td>138.35</td>\n",
       "      <td>1</td>\n",
       "      <td>155.05</td>\n",
       "      <td>0</td>\n",
       "    </tr>\n",
       "    <tr>\n",
       "      <th>1</th>\n",
       "      <td>0</td>\n",
       "      <td>Dawn Bogart</td>\n",
       "      <td>F</td>\n",
       "      <td>Single-ply</td>\n",
       "      <td>Mst 40-44</td>\n",
       "      <td>58.51</td>\n",
       "      <td>60</td>\n",
       "      <td>142.88</td>\n",
       "      <td>95.25</td>\n",
       "      <td>163.29</td>\n",
       "      <td>401.42</td>\n",
       "      <td>1</td>\n",
       "      <td>456.38</td>\n",
       "      <td>9</td>\n",
       "    </tr>\n",
       "    <tr>\n",
       "      <th>2</th>\n",
       "      <td>0</td>\n",
       "      <td>Dawn Bogart</td>\n",
       "      <td>F</td>\n",
       "      <td>Single-ply</td>\n",
       "      <td>Open Senior</td>\n",
       "      <td>58.51</td>\n",
       "      <td>60</td>\n",
       "      <td>142.88</td>\n",
       "      <td>95.25</td>\n",
       "      <td>163.29</td>\n",
       "      <td>401.42</td>\n",
       "      <td>1</td>\n",
       "      <td>456.38</td>\n",
       "      <td>9</td>\n",
       "    </tr>\n",
       "    <tr>\n",
       "      <th>3</th>\n",
       "      <td>0</td>\n",
       "      <td>Dawn Bogart</td>\n",
       "      <td>F</td>\n",
       "      <td>Raw</td>\n",
       "      <td>Open Senior</td>\n",
       "      <td>58.51</td>\n",
       "      <td>60</td>\n",
       "      <td>0.00</td>\n",
       "      <td>95.25</td>\n",
       "      <td>0.00</td>\n",
       "      <td>95.25</td>\n",
       "      <td>1</td>\n",
       "      <td>108.29</td>\n",
       "      <td>9</td>\n",
       "    </tr>\n",
       "    <tr>\n",
       "      <th>4</th>\n",
       "      <td>0</td>\n",
       "      <td>Destiny Dula</td>\n",
       "      <td>F</td>\n",
       "      <td>Raw</td>\n",
       "      <td>Teen 18-19</td>\n",
       "      <td>63.68</td>\n",
       "      <td>67.5</td>\n",
       "      <td>0.00</td>\n",
       "      <td>31.75</td>\n",
       "      <td>90.72</td>\n",
       "      <td>122.47</td>\n",
       "      <td>1</td>\n",
       "      <td>130.47</td>\n",
       "      <td>0</td>\n",
       "    </tr>\n",
       "  </tbody>\n",
       "</table>\n",
       "</div>"
      ],
      "text/plain": [
       "   MeetID              Name Sex   Equipment     Division  BodyweightKg  \\\n",
       "0       0  Angie Belk Terry   F       Wraps    Mst 45-49         59.60   \n",
       "1       0       Dawn Bogart   F  Single-ply    Mst 40-44         58.51   \n",
       "2       0       Dawn Bogart   F  Single-ply  Open Senior         58.51   \n",
       "3       0       Dawn Bogart   F         Raw  Open Senior         58.51   \n",
       "4       0      Destiny Dula   F         Raw   Teen 18-19         63.68   \n",
       "\n",
       "  WeightClassKg  BestSquatKg  BestBenchKg  BestDeadliftKg  TotalKg Place  \\\n",
       "0            60        47.63        20.41           70.31   138.35     1   \n",
       "1            60       142.88        95.25          163.29   401.42     1   \n",
       "2            60       142.88        95.25          163.29   401.42     1   \n",
       "3            60         0.00        95.25            0.00    95.25     1   \n",
       "4          67.5         0.00        31.75           90.72   122.47     1   \n",
       "\n",
       "    Wilks  MeetCount  \n",
       "0  155.05          0  \n",
       "1  456.38          9  \n",
       "2  456.38          9  \n",
       "3  108.29          9  \n",
       "4  130.47          0  "
      ]
     },
     "execution_count": 14,
     "metadata": {},
     "output_type": "execute_result"
    }
   ],
   "source": [
    "op2=op.drop(['Sex','Equipment','Division','BodyweightKg','WeightClassKg','BestSquatKg','BestBenchKg','BestDeadliftKg','TotalKg','Wilks','Place'], axis=1)\n",
    "op3=op2.groupby('Name').agg(np.count_nonzero)\n",
    "op4=op3.rename(columns={'MeetID': 'MeetCount'})\n",
    "op4['Name']=op4.index\n",
    "op = op.merge(op4, 'left', on='Name')\n",
    "op.head()"
   ]
  },
  {
   "cell_type": "markdown",
   "metadata": {},
   "source": [
    "В дальнейшем признак 'Name' нам не понадобится, поэтому его удаляем."
   ]
  },
  {
   "cell_type": "code",
   "execution_count": 15,
   "metadata": {
    "collapsed": true
   },
   "outputs": [],
   "source": [
    "op=op.drop(['Name'], axis=1)"
   ]
  },
  {
   "cell_type": "markdown",
   "metadata": {},
   "source": [
    "Переводим категориальные признаки в числовые"
   ]
  },
  {
   "cell_type": "code",
   "execution_count": 16,
   "metadata": {
    "collapsed": true
   },
   "outputs": [],
   "source": [
    "op['Division'] = pd.factorize(op.Division)[0]\n",
    "op['Equipment'] = pd.factorize(op.Equipment)[0]\n",
    "op['Sex'] = pd.factorize(op.Sex)[0]\n",
    "op['WeightClassKg'] = pd.factorize(op.Place)[0]\n",
    "op['Place'] = pd.factorize(op.Place)[0]"
   ]
  },
  {
   "cell_type": "code",
   "execution_count": 17,
   "metadata": {
    "scrolled": false
   },
   "outputs": [
    {
     "data": {
      "text/html": [
       "<div>\n",
       "<style>\n",
       "    .dataframe thead tr:only-child th {\n",
       "        text-align: right;\n",
       "    }\n",
       "\n",
       "    .dataframe thead th {\n",
       "        text-align: left;\n",
       "    }\n",
       "\n",
       "    .dataframe tbody tr th {\n",
       "        vertical-align: top;\n",
       "    }\n",
       "</style>\n",
       "<table border=\"1\" class=\"dataframe\">\n",
       "  <thead>\n",
       "    <tr style=\"text-align: right;\">\n",
       "      <th></th>\n",
       "      <th>MeetID</th>\n",
       "      <th>Sex</th>\n",
       "      <th>Equipment</th>\n",
       "      <th>Division</th>\n",
       "      <th>BodyweightKg</th>\n",
       "      <th>WeightClassKg</th>\n",
       "      <th>BestSquatKg</th>\n",
       "      <th>BestBenchKg</th>\n",
       "      <th>BestDeadliftKg</th>\n",
       "      <th>TotalKg</th>\n",
       "      <th>Place</th>\n",
       "      <th>Wilks</th>\n",
       "      <th>MeetCount</th>\n",
       "    </tr>\n",
       "  </thead>\n",
       "  <tbody>\n",
       "    <tr>\n",
       "      <th>0</th>\n",
       "      <td>0</td>\n",
       "      <td>0</td>\n",
       "      <td>0</td>\n",
       "      <td>0</td>\n",
       "      <td>59.60</td>\n",
       "      <td>0</td>\n",
       "      <td>47.63</td>\n",
       "      <td>20.41</td>\n",
       "      <td>70.31</td>\n",
       "      <td>138.35</td>\n",
       "      <td>0</td>\n",
       "      <td>155.05</td>\n",
       "      <td>0</td>\n",
       "    </tr>\n",
       "    <tr>\n",
       "      <th>1</th>\n",
       "      <td>0</td>\n",
       "      <td>0</td>\n",
       "      <td>1</td>\n",
       "      <td>1</td>\n",
       "      <td>58.51</td>\n",
       "      <td>0</td>\n",
       "      <td>142.88</td>\n",
       "      <td>95.25</td>\n",
       "      <td>163.29</td>\n",
       "      <td>401.42</td>\n",
       "      <td>0</td>\n",
       "      <td>456.38</td>\n",
       "      <td>9</td>\n",
       "    </tr>\n",
       "    <tr>\n",
       "      <th>2</th>\n",
       "      <td>0</td>\n",
       "      <td>0</td>\n",
       "      <td>1</td>\n",
       "      <td>2</td>\n",
       "      <td>58.51</td>\n",
       "      <td>0</td>\n",
       "      <td>142.88</td>\n",
       "      <td>95.25</td>\n",
       "      <td>163.29</td>\n",
       "      <td>401.42</td>\n",
       "      <td>0</td>\n",
       "      <td>456.38</td>\n",
       "      <td>9</td>\n",
       "    </tr>\n",
       "    <tr>\n",
       "      <th>3</th>\n",
       "      <td>0</td>\n",
       "      <td>0</td>\n",
       "      <td>2</td>\n",
       "      <td>2</td>\n",
       "      <td>58.51</td>\n",
       "      <td>0</td>\n",
       "      <td>0.00</td>\n",
       "      <td>95.25</td>\n",
       "      <td>0.00</td>\n",
       "      <td>95.25</td>\n",
       "      <td>0</td>\n",
       "      <td>108.29</td>\n",
       "      <td>9</td>\n",
       "    </tr>\n",
       "    <tr>\n",
       "      <th>4</th>\n",
       "      <td>0</td>\n",
       "      <td>0</td>\n",
       "      <td>2</td>\n",
       "      <td>3</td>\n",
       "      <td>63.68</td>\n",
       "      <td>0</td>\n",
       "      <td>0.00</td>\n",
       "      <td>31.75</td>\n",
       "      <td>90.72</td>\n",
       "      <td>122.47</td>\n",
       "      <td>0</td>\n",
       "      <td>130.47</td>\n",
       "      <td>0</td>\n",
       "    </tr>\n",
       "  </tbody>\n",
       "</table>\n",
       "</div>"
      ],
      "text/plain": [
       "   MeetID  Sex  Equipment  Division  BodyweightKg  WeightClassKg  BestSquatKg  \\\n",
       "0       0    0          0         0         59.60              0        47.63   \n",
       "1       0    0          1         1         58.51              0       142.88   \n",
       "2       0    0          1         2         58.51              0       142.88   \n",
       "3       0    0          2         2         58.51              0         0.00   \n",
       "4       0    0          2         3         63.68              0         0.00   \n",
       "\n",
       "   BestBenchKg  BestDeadliftKg  TotalKg  Place   Wilks  MeetCount  \n",
       "0        20.41           70.31   138.35      0  155.05          0  \n",
       "1        95.25          163.29   401.42      0  456.38          9  \n",
       "2        95.25          163.29   401.42      0  456.38          9  \n",
       "3        95.25            0.00    95.25      0  108.29          9  \n",
       "4        31.75           90.72   122.47      0  130.47          0  "
      ]
     },
     "execution_count": 17,
     "metadata": {},
     "output_type": "execute_result"
    }
   ],
   "source": [
    "op.head()"
   ]
  },
  {
   "cell_type": "markdown",
   "metadata": {},
   "source": [
    "Признак \"place\" имеет признак: \"место\" в числовом значении и \"дисквалификация\" в буквенном. Нас не интересует не 1 место, следовательно \"place\" который не равен 1 (после факторризации 0) будет равен 0, а остальное 1"
   ]
  },
  {
   "cell_type": "code",
   "execution_count": 18,
   "metadata": {
    "scrolled": true
   },
   "outputs": [
    {
     "name": "stderr",
     "output_type": "stream",
     "text": [
      "/anaconda3/lib/python3.6/site-packages/ipykernel_launcher.py:1: SettingWithCopyWarning: \n",
      "A value is trying to be set on a copy of a slice from a DataFrame\n",
      "\n",
      "See the caveats in the documentation: http://pandas.pydata.org/pandas-docs/stable/indexing.html#indexing-view-versus-copy\n",
      "  \"\"\"Entry point for launching an IPython kernel.\n",
      "/anaconda3/lib/python3.6/site-packages/ipykernel_launcher.py:2: SettingWithCopyWarning: \n",
      "A value is trying to be set on a copy of a slice from a DataFrame\n",
      "\n",
      "See the caveats in the documentation: http://pandas.pydata.org/pandas-docs/stable/indexing.html#indexing-view-versus-copy\n",
      "  \n"
     ]
    }
   ],
   "source": [
    "op['Place'][op['Place']==0]=0\n",
    "op['Place'][op['Place']!=0]=1"
   ]
  },
  {
   "cell_type": "code",
   "execution_count": 19,
   "metadata": {
    "scrolled": true
   },
   "outputs": [
    {
     "data": {
      "text/html": [
       "<div>\n",
       "<style>\n",
       "    .dataframe thead tr:only-child th {\n",
       "        text-align: right;\n",
       "    }\n",
       "\n",
       "    .dataframe thead th {\n",
       "        text-align: left;\n",
       "    }\n",
       "\n",
       "    .dataframe tbody tr th {\n",
       "        vertical-align: top;\n",
       "    }\n",
       "</style>\n",
       "<table border=\"1\" class=\"dataframe\">\n",
       "  <thead>\n",
       "    <tr style=\"text-align: right;\">\n",
       "      <th></th>\n",
       "      <th>MeetID</th>\n",
       "      <th>Sex</th>\n",
       "      <th>Equipment</th>\n",
       "      <th>Division</th>\n",
       "      <th>BodyweightKg</th>\n",
       "      <th>WeightClassKg</th>\n",
       "      <th>BestSquatKg</th>\n",
       "      <th>BestBenchKg</th>\n",
       "      <th>BestDeadliftKg</th>\n",
       "      <th>TotalKg</th>\n",
       "      <th>Place</th>\n",
       "      <th>Wilks</th>\n",
       "      <th>MeetCount</th>\n",
       "    </tr>\n",
       "  </thead>\n",
       "  <tbody>\n",
       "    <tr>\n",
       "      <th>0</th>\n",
       "      <td>0</td>\n",
       "      <td>0</td>\n",
       "      <td>0</td>\n",
       "      <td>0</td>\n",
       "      <td>59.60</td>\n",
       "      <td>0</td>\n",
       "      <td>47.63</td>\n",
       "      <td>20.41</td>\n",
       "      <td>70.31</td>\n",
       "      <td>138.35</td>\n",
       "      <td>0</td>\n",
       "      <td>155.05</td>\n",
       "      <td>0</td>\n",
       "    </tr>\n",
       "    <tr>\n",
       "      <th>1</th>\n",
       "      <td>0</td>\n",
       "      <td>0</td>\n",
       "      <td>1</td>\n",
       "      <td>1</td>\n",
       "      <td>58.51</td>\n",
       "      <td>0</td>\n",
       "      <td>142.88</td>\n",
       "      <td>95.25</td>\n",
       "      <td>163.29</td>\n",
       "      <td>401.42</td>\n",
       "      <td>0</td>\n",
       "      <td>456.38</td>\n",
       "      <td>9</td>\n",
       "    </tr>\n",
       "    <tr>\n",
       "      <th>2</th>\n",
       "      <td>0</td>\n",
       "      <td>0</td>\n",
       "      <td>1</td>\n",
       "      <td>2</td>\n",
       "      <td>58.51</td>\n",
       "      <td>0</td>\n",
       "      <td>142.88</td>\n",
       "      <td>95.25</td>\n",
       "      <td>163.29</td>\n",
       "      <td>401.42</td>\n",
       "      <td>0</td>\n",
       "      <td>456.38</td>\n",
       "      <td>9</td>\n",
       "    </tr>\n",
       "    <tr>\n",
       "      <th>3</th>\n",
       "      <td>0</td>\n",
       "      <td>0</td>\n",
       "      <td>2</td>\n",
       "      <td>2</td>\n",
       "      <td>58.51</td>\n",
       "      <td>0</td>\n",
       "      <td>0.00</td>\n",
       "      <td>95.25</td>\n",
       "      <td>0.00</td>\n",
       "      <td>95.25</td>\n",
       "      <td>0</td>\n",
       "      <td>108.29</td>\n",
       "      <td>9</td>\n",
       "    </tr>\n",
       "    <tr>\n",
       "      <th>4</th>\n",
       "      <td>0</td>\n",
       "      <td>0</td>\n",
       "      <td>2</td>\n",
       "      <td>3</td>\n",
       "      <td>63.68</td>\n",
       "      <td>0</td>\n",
       "      <td>0.00</td>\n",
       "      <td>31.75</td>\n",
       "      <td>90.72</td>\n",
       "      <td>122.47</td>\n",
       "      <td>0</td>\n",
       "      <td>130.47</td>\n",
       "      <td>0</td>\n",
       "    </tr>\n",
       "  </tbody>\n",
       "</table>\n",
       "</div>"
      ],
      "text/plain": [
       "   MeetID  Sex  Equipment  Division  BodyweightKg  WeightClassKg  BestSquatKg  \\\n",
       "0       0    0          0         0         59.60              0        47.63   \n",
       "1       0    0          1         1         58.51              0       142.88   \n",
       "2       0    0          1         2         58.51              0       142.88   \n",
       "3       0    0          2         2         58.51              0         0.00   \n",
       "4       0    0          2         3         63.68              0         0.00   \n",
       "\n",
       "   BestBenchKg  BestDeadliftKg  TotalKg  Place   Wilks  MeetCount  \n",
       "0        20.41           70.31   138.35      0  155.05          0  \n",
       "1        95.25          163.29   401.42      0  456.38          9  \n",
       "2        95.25          163.29   401.42      0  456.38          9  \n",
       "3        95.25            0.00    95.25      0  108.29          9  \n",
       "4        31.75           90.72   122.47      0  130.47          0  "
      ]
     },
     "execution_count": 19,
     "metadata": {},
     "output_type": "execute_result"
    }
   ],
   "source": [
    "op.head()"
   ]
  },
  {
   "cell_type": "markdown",
   "metadata": {},
   "source": [
    "### 3. Первичный визуальный анализ данных (4 балла)\n",
    "\n",
    "Построены визуализации (распределения признаков, матрица корреляций и т.д.), описана связь с анализом данным (п. 2). Присутствуют выводы;"
   ]
  },
  {
   "cell_type": "code",
   "execution_count": 20,
   "metadata": {
    "scrolled": false
   },
   "outputs": [
    {
     "data": {
      "text/plain": [
       "<matplotlib.axes._subplots.AxesSubplot at 0x1a121722b0>"
      ]
     },
     "execution_count": 20,
     "metadata": {},
     "output_type": "execute_result"
    }
   ],
   "source": [
    "sns.heatmap(op.corr())"
   ]
  },
  {
   "cell_type": "code",
   "execution_count": 21,
   "metadata": {
    "scrolled": true
   },
   "outputs": [
    {
     "data": {
      "text/html": [
       "<div>\n",
       "<style>\n",
       "    .dataframe thead tr:only-child th {\n",
       "        text-align: right;\n",
       "    }\n",
       "\n",
       "    .dataframe thead th {\n",
       "        text-align: left;\n",
       "    }\n",
       "\n",
       "    .dataframe tbody tr th {\n",
       "        vertical-align: top;\n",
       "    }\n",
       "</style>\n",
       "<table border=\"1\" class=\"dataframe\">\n",
       "  <thead>\n",
       "    <tr style=\"text-align: right;\">\n",
       "      <th></th>\n",
       "      <th>MeetID</th>\n",
       "      <th>Sex</th>\n",
       "      <th>Equipment</th>\n",
       "      <th>Division</th>\n",
       "      <th>BodyweightKg</th>\n",
       "      <th>WeightClassKg</th>\n",
       "      <th>BestSquatKg</th>\n",
       "      <th>BestBenchKg</th>\n",
       "      <th>BestDeadliftKg</th>\n",
       "      <th>TotalKg</th>\n",
       "      <th>Place</th>\n",
       "      <th>Wilks</th>\n",
       "      <th>MeetCount</th>\n",
       "    </tr>\n",
       "  </thead>\n",
       "  <tbody>\n",
       "    <tr>\n",
       "      <th>MeetID</th>\n",
       "      <td>1.000000</td>\n",
       "      <td>-0.003175</td>\n",
       "      <td>0.082804</td>\n",
       "      <td>0.388125</td>\n",
       "      <td>-0.003192</td>\n",
       "      <td>0.083822</td>\n",
       "      <td>0.009436</td>\n",
       "      <td>-0.082722</td>\n",
       "      <td>0.047075</td>\n",
       "      <td>0.001837</td>\n",
       "      <td>0.063686</td>\n",
       "      <td>0.004191</td>\n",
       "      <td>-0.129235</td>\n",
       "    </tr>\n",
       "    <tr>\n",
       "      <th>Sex</th>\n",
       "      <td>-0.003175</td>\n",
       "      <td>1.000000</td>\n",
       "      <td>-0.105358</td>\n",
       "      <td>0.063247</td>\n",
       "      <td>0.411728</td>\n",
       "      <td>0.085944</td>\n",
       "      <td>0.256889</td>\n",
       "      <td>0.477586</td>\n",
       "      <td>0.270738</td>\n",
       "      <td>0.372074</td>\n",
       "      <td>0.107884</td>\n",
       "      <td>0.042822</td>\n",
       "      <td>0.057505</td>\n",
       "    </tr>\n",
       "    <tr>\n",
       "      <th>Equipment</th>\n",
       "      <td>0.082804</td>\n",
       "      <td>-0.105358</td>\n",
       "      <td>1.000000</td>\n",
       "      <td>-0.010413</td>\n",
       "      <td>-0.036853</td>\n",
       "      <td>-0.031549</td>\n",
       "      <td>-0.211148</td>\n",
       "      <td>-0.054256</td>\n",
       "      <td>-0.099984</td>\n",
       "      <td>-0.156596</td>\n",
       "      <td>-0.042622</td>\n",
       "      <td>-0.141921</td>\n",
       "      <td>-0.062792</td>\n",
       "    </tr>\n",
       "    <tr>\n",
       "      <th>Division</th>\n",
       "      <td>0.388125</td>\n",
       "      <td>0.063247</td>\n",
       "      <td>-0.010413</td>\n",
       "      <td>1.000000</td>\n",
       "      <td>-0.067005</td>\n",
       "      <td>0.216023</td>\n",
       "      <td>-0.004188</td>\n",
       "      <td>-0.161636</td>\n",
       "      <td>-0.035943</td>\n",
       "      <td>-0.063255</td>\n",
       "      <td>0.152912</td>\n",
       "      <td>-0.064365</td>\n",
       "      <td>-0.089952</td>\n",
       "    </tr>\n",
       "    <tr>\n",
       "      <th>BodyweightKg</th>\n",
       "      <td>-0.003192</td>\n",
       "      <td>0.411728</td>\n",
       "      <td>-0.036853</td>\n",
       "      <td>-0.067005</td>\n",
       "      <td>1.000000</td>\n",
       "      <td>-0.045611</td>\n",
       "      <td>0.249665</td>\n",
       "      <td>0.521375</td>\n",
       "      <td>0.248469</td>\n",
       "      <td>0.371244</td>\n",
       "      <td>-0.033973</td>\n",
       "      <td>0.018614</td>\n",
       "      <td>0.063236</td>\n",
       "    </tr>\n",
       "    <tr>\n",
       "      <th>WeightClassKg</th>\n",
       "      <td>0.083822</td>\n",
       "      <td>0.085944</td>\n",
       "      <td>-0.031549</td>\n",
       "      <td>0.216023</td>\n",
       "      <td>-0.045611</td>\n",
       "      <td>1.000000</td>\n",
       "      <td>0.107688</td>\n",
       "      <td>-0.066430</td>\n",
       "      <td>0.051458</td>\n",
       "      <td>0.053598</td>\n",
       "      <td>0.549941</td>\n",
       "      <td>0.054178</td>\n",
       "      <td>-0.105522</td>\n",
       "    </tr>\n",
       "    <tr>\n",
       "      <th>BestSquatKg</th>\n",
       "      <td>0.009436</td>\n",
       "      <td>0.256889</td>\n",
       "      <td>-0.211148</td>\n",
       "      <td>-0.004188</td>\n",
       "      <td>0.249665</td>\n",
       "      <td>0.107688</td>\n",
       "      <td>1.000000</td>\n",
       "      <td>0.450470</td>\n",
       "      <td>0.800046</td>\n",
       "      <td>0.940114</td>\n",
       "      <td>0.117185</td>\n",
       "      <td>0.889166</td>\n",
       "      <td>-0.063222</td>\n",
       "    </tr>\n",
       "    <tr>\n",
       "      <th>BestBenchKg</th>\n",
       "      <td>-0.082722</td>\n",
       "      <td>0.477586</td>\n",
       "      <td>-0.054256</td>\n",
       "      <td>-0.161636</td>\n",
       "      <td>0.521375</td>\n",
       "      <td>-0.066430</td>\n",
       "      <td>0.450470</td>\n",
       "      <td>1.000000</td>\n",
       "      <td>0.292183</td>\n",
       "      <td>0.617642</td>\n",
       "      <td>-0.095160</td>\n",
       "      <td>0.404976</td>\n",
       "      <td>0.152302</td>\n",
       "    </tr>\n",
       "    <tr>\n",
       "      <th>BestDeadliftKg</th>\n",
       "      <td>0.047075</td>\n",
       "      <td>0.270738</td>\n",
       "      <td>-0.099984</td>\n",
       "      <td>-0.035943</td>\n",
       "      <td>0.248469</td>\n",
       "      <td>0.051458</td>\n",
       "      <td>0.800046</td>\n",
       "      <td>0.292183</td>\n",
       "      <td>1.000000</td>\n",
       "      <td>0.891709</td>\n",
       "      <td>0.039465</td>\n",
       "      <td>0.832557</td>\n",
       "      <td>-0.095635</td>\n",
       "    </tr>\n",
       "    <tr>\n",
       "      <th>TotalKg</th>\n",
       "      <td>0.001837</td>\n",
       "      <td>0.372074</td>\n",
       "      <td>-0.156596</td>\n",
       "      <td>-0.063255</td>\n",
       "      <td>0.371244</td>\n",
       "      <td>0.053598</td>\n",
       "      <td>0.940114</td>\n",
       "      <td>0.617642</td>\n",
       "      <td>0.891709</td>\n",
       "      <td>1.000000</td>\n",
       "      <td>0.044599</td>\n",
       "      <td>0.890619</td>\n",
       "      <td>-0.028452</td>\n",
       "    </tr>\n",
       "    <tr>\n",
       "      <th>Place</th>\n",
       "      <td>0.063686</td>\n",
       "      <td>0.107884</td>\n",
       "      <td>-0.042622</td>\n",
       "      <td>0.152912</td>\n",
       "      <td>-0.033973</td>\n",
       "      <td>0.549941</td>\n",
       "      <td>0.117185</td>\n",
       "      <td>-0.095160</td>\n",
       "      <td>0.039465</td>\n",
       "      <td>0.044599</td>\n",
       "      <td>1.000000</td>\n",
       "      <td>0.038183</td>\n",
       "      <td>-0.122297</td>\n",
       "    </tr>\n",
       "    <tr>\n",
       "      <th>Wilks</th>\n",
       "      <td>0.004191</td>\n",
       "      <td>0.042822</td>\n",
       "      <td>-0.141921</td>\n",
       "      <td>-0.064365</td>\n",
       "      <td>0.018614</td>\n",
       "      <td>0.054178</td>\n",
       "      <td>0.889166</td>\n",
       "      <td>0.404976</td>\n",
       "      <td>0.832557</td>\n",
       "      <td>0.890619</td>\n",
       "      <td>0.038183</td>\n",
       "      <td>1.000000</td>\n",
       "      <td>-0.059722</td>\n",
       "    </tr>\n",
       "    <tr>\n",
       "      <th>MeetCount</th>\n",
       "      <td>-0.129235</td>\n",
       "      <td>0.057505</td>\n",
       "      <td>-0.062792</td>\n",
       "      <td>-0.089952</td>\n",
       "      <td>0.063236</td>\n",
       "      <td>-0.105522</td>\n",
       "      <td>-0.063222</td>\n",
       "      <td>0.152302</td>\n",
       "      <td>-0.095635</td>\n",
       "      <td>-0.028452</td>\n",
       "      <td>-0.122297</td>\n",
       "      <td>-0.059722</td>\n",
       "      <td>1.000000</td>\n",
       "    </tr>\n",
       "  </tbody>\n",
       "</table>\n",
       "</div>"
      ],
      "text/plain": [
       "                  MeetID       Sex  Equipment  Division  BodyweightKg  \\\n",
       "MeetID          1.000000 -0.003175   0.082804  0.388125     -0.003192   \n",
       "Sex            -0.003175  1.000000  -0.105358  0.063247      0.411728   \n",
       "Equipment       0.082804 -0.105358   1.000000 -0.010413     -0.036853   \n",
       "Division        0.388125  0.063247  -0.010413  1.000000     -0.067005   \n",
       "BodyweightKg   -0.003192  0.411728  -0.036853 -0.067005      1.000000   \n",
       "WeightClassKg   0.083822  0.085944  -0.031549  0.216023     -0.045611   \n",
       "BestSquatKg     0.009436  0.256889  -0.211148 -0.004188      0.249665   \n",
       "BestBenchKg    -0.082722  0.477586  -0.054256 -0.161636      0.521375   \n",
       "BestDeadliftKg  0.047075  0.270738  -0.099984 -0.035943      0.248469   \n",
       "TotalKg         0.001837  0.372074  -0.156596 -0.063255      0.371244   \n",
       "Place           0.063686  0.107884  -0.042622  0.152912     -0.033973   \n",
       "Wilks           0.004191  0.042822  -0.141921 -0.064365      0.018614   \n",
       "MeetCount      -0.129235  0.057505  -0.062792 -0.089952      0.063236   \n",
       "\n",
       "                WeightClassKg  BestSquatKg  BestBenchKg  BestDeadliftKg  \\\n",
       "MeetID               0.083822     0.009436    -0.082722        0.047075   \n",
       "Sex                  0.085944     0.256889     0.477586        0.270738   \n",
       "Equipment           -0.031549    -0.211148    -0.054256       -0.099984   \n",
       "Division             0.216023    -0.004188    -0.161636       -0.035943   \n",
       "BodyweightKg        -0.045611     0.249665     0.521375        0.248469   \n",
       "WeightClassKg        1.000000     0.107688    -0.066430        0.051458   \n",
       "BestSquatKg          0.107688     1.000000     0.450470        0.800046   \n",
       "BestBenchKg         -0.066430     0.450470     1.000000        0.292183   \n",
       "BestDeadliftKg       0.051458     0.800046     0.292183        1.000000   \n",
       "TotalKg              0.053598     0.940114     0.617642        0.891709   \n",
       "Place                0.549941     0.117185    -0.095160        0.039465   \n",
       "Wilks                0.054178     0.889166     0.404976        0.832557   \n",
       "MeetCount           -0.105522    -0.063222     0.152302       -0.095635   \n",
       "\n",
       "                 TotalKg     Place     Wilks  MeetCount  \n",
       "MeetID          0.001837  0.063686  0.004191  -0.129235  \n",
       "Sex             0.372074  0.107884  0.042822   0.057505  \n",
       "Equipment      -0.156596 -0.042622 -0.141921  -0.062792  \n",
       "Division       -0.063255  0.152912 -0.064365  -0.089952  \n",
       "BodyweightKg    0.371244 -0.033973  0.018614   0.063236  \n",
       "WeightClassKg   0.053598  0.549941  0.054178  -0.105522  \n",
       "BestSquatKg     0.940114  0.117185  0.889166  -0.063222  \n",
       "BestBenchKg     0.617642 -0.095160  0.404976   0.152302  \n",
       "BestDeadliftKg  0.891709  0.039465  0.832557  -0.095635  \n",
       "TotalKg         1.000000  0.044599  0.890619  -0.028452  \n",
       "Place           0.044599  1.000000  0.038183  -0.122297  \n",
       "Wilks           0.890619  0.038183  1.000000  -0.059722  \n",
       "MeetCount      -0.028452 -0.122297 -0.059722   1.000000  "
      ]
     },
     "execution_count": 21,
     "metadata": {},
     "output_type": "execute_result"
    }
   ],
   "source": [
    "corr = op.corr()\n",
    "corr"
   ]
  },
  {
   "cell_type": "markdown",
   "metadata": {},
   "source": [
    "### 4. Инсайты, найденные зависимости (4 балла)\n",
    "\n",
    "Найдены и выдвинуты предположения о природе различных корреляций/пропусков/закономерностей и выбросов, найденных в предыдущих пунктах. Есть пояснение, почему они важны для решаемой задачи;"
   ]
  },
  {
   "cell_type": "markdown",
   "metadata": {},
   "source": [
    "Насколько видим из матрицы корреляции, место ('Place' - целевой признак) коррелирует лучше всего с WeightClassKg (весовая категория, в которой выступает спортсмен). Чем выше категория, тем меньше вероятность победы.\n",
    "\n",
    "С экипировкой никакой корреляции нет.\n",
    "\n",
    "Для прогнозы победы на основе двух первых испытаний (присед и жим) необходимо удалить данные по становой тяге, суммарный взятый вес и Вилкс, так как они являются результатом соревнований и напрямую прогнозируют победу."
   ]
  },
  {
   "cell_type": "code",
   "execution_count": 42,
   "metadata": {},
   "outputs": [
    {
     "data": {
      "text/html": [
       "<div>\n",
       "<style>\n",
       "    .dataframe thead tr:only-child th {\n",
       "        text-align: right;\n",
       "    }\n",
       "\n",
       "    .dataframe thead th {\n",
       "        text-align: left;\n",
       "    }\n",
       "\n",
       "    .dataframe tbody tr th {\n",
       "        vertical-align: top;\n",
       "    }\n",
       "</style>\n",
       "<table border=\"1\" class=\"dataframe\">\n",
       "  <thead>\n",
       "    <tr style=\"text-align: right;\">\n",
       "      <th></th>\n",
       "      <th>MeetID</th>\n",
       "      <th>Sex</th>\n",
       "      <th>Equipment</th>\n",
       "      <th>Division</th>\n",
       "      <th>BodyweightKg</th>\n",
       "      <th>WeightClassKg</th>\n",
       "      <th>BestSquatKg</th>\n",
       "      <th>BestBenchKg</th>\n",
       "      <th>Place</th>\n",
       "      <th>MeetCount</th>\n",
       "    </tr>\n",
       "  </thead>\n",
       "  <tbody>\n",
       "    <tr>\n",
       "      <th>0</th>\n",
       "      <td>0</td>\n",
       "      <td>0</td>\n",
       "      <td>0</td>\n",
       "      <td>0</td>\n",
       "      <td>59.60</td>\n",
       "      <td>0</td>\n",
       "      <td>47.63</td>\n",
       "      <td>20.41</td>\n",
       "      <td>0</td>\n",
       "      <td>0</td>\n",
       "    </tr>\n",
       "    <tr>\n",
       "      <th>1</th>\n",
       "      <td>0</td>\n",
       "      <td>0</td>\n",
       "      <td>1</td>\n",
       "      <td>1</td>\n",
       "      <td>58.51</td>\n",
       "      <td>0</td>\n",
       "      <td>142.88</td>\n",
       "      <td>95.25</td>\n",
       "      <td>0</td>\n",
       "      <td>9</td>\n",
       "    </tr>\n",
       "    <tr>\n",
       "      <th>2</th>\n",
       "      <td>0</td>\n",
       "      <td>0</td>\n",
       "      <td>1</td>\n",
       "      <td>2</td>\n",
       "      <td>58.51</td>\n",
       "      <td>0</td>\n",
       "      <td>142.88</td>\n",
       "      <td>95.25</td>\n",
       "      <td>0</td>\n",
       "      <td>9</td>\n",
       "    </tr>\n",
       "    <tr>\n",
       "      <th>3</th>\n",
       "      <td>0</td>\n",
       "      <td>0</td>\n",
       "      <td>2</td>\n",
       "      <td>2</td>\n",
       "      <td>58.51</td>\n",
       "      <td>0</td>\n",
       "      <td>0.00</td>\n",
       "      <td>95.25</td>\n",
       "      <td>0</td>\n",
       "      <td>9</td>\n",
       "    </tr>\n",
       "    <tr>\n",
       "      <th>4</th>\n",
       "      <td>0</td>\n",
       "      <td>0</td>\n",
       "      <td>2</td>\n",
       "      <td>3</td>\n",
       "      <td>63.68</td>\n",
       "      <td>0</td>\n",
       "      <td>0.00</td>\n",
       "      <td>31.75</td>\n",
       "      <td>0</td>\n",
       "      <td>0</td>\n",
       "    </tr>\n",
       "  </tbody>\n",
       "</table>\n",
       "</div>"
      ],
      "text/plain": [
       "   MeetID  Sex  Equipment  Division  BodyweightKg  WeightClassKg  BestSquatKg  \\\n",
       "0       0    0          0         0         59.60              0        47.63   \n",
       "1       0    0          1         1         58.51              0       142.88   \n",
       "2       0    0          1         2         58.51              0       142.88   \n",
       "3       0    0          2         2         58.51              0         0.00   \n",
       "4       0    0          2         3         63.68              0         0.00   \n",
       "\n",
       "   BestBenchKg  Place  MeetCount  \n",
       "0        20.41      0          0  \n",
       "1        95.25      0          9  \n",
       "2        95.25      0          9  \n",
       "3        95.25      0          9  \n",
       "4        31.75      0          0  "
      ]
     },
     "execution_count": 42,
     "metadata": {},
     "output_type": "execute_result"
    }
   ],
   "source": [
    "op=op.drop(['BestDeadliftKg', 'TotalKg','Wilks'], axis=1)\n",
    "op.head()"
   ]
  },
  {
   "cell_type": "markdown",
   "metadata": {},
   "source": [
    "### 5. Выбор метрики (3 балла)\n",
    "\n",
    "Есть разумное обоснование выбора метрики качества модели. Описаны моменты, влияющие на выбор метрики качества (решаемая задача, цель решения, количество классов, дисбаланс классов, прочее);"
   ]
  },
  {
   "cell_type": "code",
   "execution_count": 53,
   "metadata": {
    "collapsed": true
   },
   "outputs": [],
   "source": [
    "target = op['Place']\n",
    "train = op.drop(['Place'], axis=1) "
   ]
  },
  {
   "cell_type": "code",
   "execution_count": 54,
   "metadata": {
    "collapsed": true
   },
   "outputs": [],
   "source": [
    "from sklearn.tree import DecisionTreeClassifier\n",
    "from sklearn.model_selection import GridSearchCV, StratifiedKFold\n",
    "from sklearn.cross_validation import cross_val_score"
   ]
  },
  {
   "cell_type": "code",
   "execution_count": 55,
   "metadata": {
    "collapsed": true
   },
   "outputs": [],
   "source": [
    "dt = DecisionTreeClassifier(random_state=17, class_weight='balanced')"
   ]
  },
  {
   "cell_type": "code",
   "execution_count": 56,
   "metadata": {
    "collapsed": true
   },
   "outputs": [],
   "source": [
    "max_depth_values = range(1, 10)\n",
    "max_features_values = range(1, 10)\n",
    "tree_params = {'max_depth': max_depth_values,\n",
    "               'max_features': max_features_values}"
   ]
  },
  {
   "cell_type": "code",
   "execution_count": 57,
   "metadata": {
    "collapsed": true
   },
   "outputs": [],
   "source": [
    "skf = StratifiedKFold(n_splits=5, shuffle=True, random_state=17)\n",
    "from sklearn.metrics import accuracy_score\n",
    "X = train\n",
    "y = target"
   ]
  },
  {
   "cell_type": "code",
   "execution_count": 58,
   "metadata": {
    "collapsed": true
   },
   "outputs": [],
   "source": [
    "grid=GridSearchCV(dt,tree_params,cv=skf, n_jobs=-1,scoring='roc_auc',verbose=1)"
   ]
  },
  {
   "cell_type": "code",
   "execution_count": 59,
   "metadata": {},
   "outputs": [
    {
     "name": "stdout",
     "output_type": "stream",
     "text": [
      "Fitting 5 folds for each of 81 candidates, totalling 405 fits\n"
     ]
    },
    {
     "name": "stderr",
     "output_type": "stream",
     "text": [
      "[Parallel(n_jobs=-1)]: Done  42 tasks      | elapsed:    8.8s\n",
      "[Parallel(n_jobs=-1)]: Done 192 tasks      | elapsed:   46.6s\n",
      "[Parallel(n_jobs=-1)]: Done 405 out of 405 | elapsed:  2.0min finished\n"
     ]
    },
    {
     "data": {
      "text/plain": [
       "GridSearchCV(cv=StratifiedKFold(n_splits=5, random_state=17, shuffle=True),\n",
       "       error_score='raise',\n",
       "       estimator=DecisionTreeClassifier(class_weight='balanced', criterion='gini',\n",
       "            max_depth=None, max_features=None, max_leaf_nodes=None,\n",
       "            min_impurity_decrease=0.0, min_impurity_split=None,\n",
       "            min_samples_leaf=1, min_samples_split=2,\n",
       "            min_weight_fraction_leaf=0.0, presort=False, random_state=17,\n",
       "            splitter='best'),\n",
       "       fit_params=None, iid=True, n_jobs=-1,\n",
       "       param_grid={'max_depth': range(1, 10), 'max_features': range(1, 10)},\n",
       "       pre_dispatch='2*n_jobs', refit=True, return_train_score='warn',\n",
       "       scoring='roc_auc', verbose=1)"
      ]
     },
     "execution_count": 59,
     "metadata": {},
     "output_type": "execute_result"
    }
   ],
   "source": [
    "grid.fit(X, y)"
   ]
  },
  {
   "cell_type": "code",
   "execution_count": 61,
   "metadata": {
    "collapsed": true
   },
   "outputs": [],
   "source": [
    "from sklearn.ensemble import RandomForestClassifier"
   ]
  },
  {
   "cell_type": "code",
   "execution_count": 62,
   "metadata": {
    "collapsed": true
   },
   "outputs": [],
   "source": [
    "dt2 = RandomForestClassifier(n_jobs=1, random_state=17)"
   ]
  },
  {
   "cell_type": "code",
   "execution_count": 63,
   "metadata": {
    "collapsed": true
   },
   "outputs": [],
   "source": [
    "max_depth_values = range(1, 10)\n",
    "max_features_values = range(1, 10)\n",
    "tree_params = {'max_depth': max_depth_values,\n",
    "               'max_features': max_features_values}"
   ]
  },
  {
   "cell_type": "code",
   "execution_count": 64,
   "metadata": {
    "collapsed": true
   },
   "outputs": [],
   "source": [
    "grid2=GridSearchCV(dt2,tree_params,cv=skf, n_jobs=-1,scoring='roc_auc',verbose=1)"
   ]
  },
  {
   "cell_type": "code",
   "execution_count": 65,
   "metadata": {
    "scrolled": false
   },
   "outputs": [
    {
     "name": "stdout",
     "output_type": "stream",
     "text": [
      "Fitting 5 folds for each of 81 candidates, totalling 405 fits\n"
     ]
    },
    {
     "name": "stderr",
     "output_type": "stream",
     "text": [
      "[Parallel(n_jobs=-1)]: Done  42 tasks      | elapsed:   28.0s\n",
      "[Parallel(n_jobs=-1)]: Done 192 tasks      | elapsed:  2.5min\n",
      "[Parallel(n_jobs=-1)]: Done 405 out of 405 | elapsed:  6.2min finished\n"
     ]
    },
    {
     "data": {
      "text/plain": [
       "GridSearchCV(cv=StratifiedKFold(n_splits=5, random_state=17, shuffle=True),\n",
       "       error_score='raise',\n",
       "       estimator=RandomForestClassifier(bootstrap=True, class_weight=None, criterion='gini',\n",
       "            max_depth=None, max_features='auto', max_leaf_nodes=None,\n",
       "            min_impurity_decrease=0.0, min_impurity_split=None,\n",
       "            min_samples_leaf=1, min_samples_split=2,\n",
       "            min_weight_fraction_leaf=0.0, n_estimators=10, n_jobs=1,\n",
       "            oob_score=False, random_state=17, verbose=0, warm_start=False),\n",
       "       fit_params=None, iid=True, n_jobs=-1,\n",
       "       param_grid={'max_depth': range(1, 10), 'max_features': range(1, 10)},\n",
       "       pre_dispatch='2*n_jobs', refit=True, return_train_score='warn',\n",
       "       scoring='roc_auc', verbose=1)"
      ]
     },
     "execution_count": 65,
     "metadata": {},
     "output_type": "execute_result"
    }
   ],
   "source": [
    "grid2.fit(X, y)"
   ]
  },
  {
   "cell_type": "markdown",
   "metadata": {},
   "source": [
    "### 8. Кросс-валидация и настройка гиперпараметров модели (4 балла)\n",
    "\n",
    "Кросс-валидация выполнена технически верно, нет утечек данных. Разумно выбрано количество фолдов и разбиение (Random/Stratified или иное), зафиксирован seed. Присутствует объяснение. Объяснены гиперпараметры модели и способ их выбора. Выбор основан на некотором исследовании гипрепараметров модели для данной задачи;"
   ]
  },
  {
   "cell_type": "code",
   "execution_count": 67,
   "metadata": {},
   "outputs": [
    {
     "name": "stdout",
     "output_type": "stream",
     "text": [
      "Лучший результат в дереве решений 1.0 лучшие параметры {'max_depth': 2, 'max_features': 5}\n"
     ]
    }
   ],
   "source": [
    "clf_best_score = grid.best_score_\n",
    "clf_best_params = grid.best_params_\n",
    "clf_best = grid.best_estimator_\n",
    "mean_validation_scores = []\n",
    "print(\"Лучший результат в дереве решений\", clf_best_score, \n",
    "      \"лучшие параметры\", clf_best_params)"
   ]
  },
  {
   "cell_type": "code",
   "execution_count": 68,
   "metadata": {},
   "outputs": [
    {
     "name": "stdout",
     "output_type": "stream",
     "text": [
      "Лучший результат в случайном лесе 1.0 лучшие параметры {'max_depth': 2, 'max_features': 6}\n"
     ]
    }
   ],
   "source": [
    "clf_best_score2 = grid2.best_score_\n",
    "clf_best_params2 = grid2.best_params_\n",
    "clf_best2 = grid2.best_estimator_\n",
    "print(\"Лучший результат в случайном лесе\", clf_best_score2, \n",
    "      \"лучшие параметры\", clf_best_params2)"
   ]
  },
  {
   "cell_type": "markdown",
   "metadata": {},
   "source": [
    "### 6. Выбор модели (3 балла)\n",
    "\n",
    "Произведен выбор модели. Описан процесс выбора и связь с решаемой задачей;"
   ]
  },
  {
   "cell_type": "markdown",
   "metadata": {},
   "source": [
    "Как видно, \"случайный лес\" и \"дерево решений\" дают точный прогноз (100%) победы спортсмена"
   ]
  },
  {
   "cell_type": "markdown",
   "metadata": {},
   "source": [
    "### 11. Прогноз для тестовой или отложенной выборке (2 балла)\n",
    "\n",
    "Указаны результаты на тестовой выборке или LB score. Результаты на тестовой выборке сравнимы с результатами на кросс-валидации. Если тестовая выборка создавалась автором проекта, то механизм создания должен быть непредвзят и объяснен (применен разумный механизм выборки, в простейшем случае – рандомизация);"
   ]
  },
  {
   "cell_type": "markdown",
   "metadata": {},
   "source": [
    "Выполним прогноз при помощи \"случайного леса\" с лучшими параметрами на тренировочной и отложенной выборке"
   ]
  },
  {
   "cell_type": "code",
   "execution_count": 69,
   "metadata": {
    "collapsed": true
   },
   "outputs": [],
   "source": [
    "from sklearn.model_selection import train_test_split\n",
    "\n",
    "X_train, X_valid, y_train, y_valid = train_test_split(train,target,test_size=0.3, random_state=17)"
   ]
  },
  {
   "cell_type": "code",
   "execution_count": 70,
   "metadata": {},
   "outputs": [
    {
     "data": {
      "text/plain": [
       "RandomForestClassifier(bootstrap=True, class_weight=None, criterion='gini',\n",
       "            max_depth=2, max_features=6, max_leaf_nodes=None,\n",
       "            min_impurity_decrease=0.0, min_impurity_split=None,\n",
       "            min_samples_leaf=1, min_samples_split=2,\n",
       "            min_weight_fraction_leaf=0.0, n_estimators=10, n_jobs=1,\n",
       "            oob_score=False, random_state=17, verbose=0, warm_start=False)"
      ]
     },
     "execution_count": 70,
     "metadata": {},
     "output_type": "execute_result"
    }
   ],
   "source": [
    "dt3 = RandomForestClassifier(n_jobs=1, max_depth=2, max_features=6,random_state=17)\n",
    "dt3.fit(X_train, y_train)"
   ]
  },
  {
   "cell_type": "code",
   "execution_count": 71,
   "metadata": {
    "scrolled": true
   },
   "outputs": [
    {
     "data": {
      "text/plain": [
       "0.99725388507734136"
      ]
     },
     "execution_count": 71,
     "metadata": {},
     "output_type": "execute_result"
    }
   ],
   "source": [
    "dt3_pred = dt3.predict(X_valid)\n",
    "accuracy_score(y_valid, dt3_pred)"
   ]
  },
  {
   "cell_type": "code",
   "execution_count": 72,
   "metadata": {},
   "outputs": [
    {
     "data": {
      "text/plain": [
       "DecisionTreeClassifier(class_weight='balanced', criterion='gini', max_depth=2,\n",
       "            max_features=5, max_leaf_nodes=None, min_impurity_decrease=0.0,\n",
       "            min_impurity_split=None, min_samples_leaf=1,\n",
       "            min_samples_split=2, min_weight_fraction_leaf=0.0,\n",
       "            presort=False, random_state=17, splitter='best')"
      ]
     },
     "execution_count": 72,
     "metadata": {},
     "output_type": "execute_result"
    }
   ],
   "source": [
    "dt4 = DecisionTreeClassifier(class_weight='balanced',max_depth=2, max_features=5,random_state=17)\n",
    "dt4.fit(X_train, y_train)"
   ]
  },
  {
   "cell_type": "code",
   "execution_count": 73,
   "metadata": {},
   "outputs": [
    {
     "data": {
      "text/plain": [
       "1.0"
      ]
     },
     "execution_count": 73,
     "metadata": {},
     "output_type": "execute_result"
    }
   ],
   "source": [
    "dt4_pred = dt4.predict(X_valid)\n",
    "accuracy_score(y_valid, dt4_pred)"
   ]
  },
  {
   "cell_type": "markdown",
   "metadata": {},
   "source": [
    "В итоге, \"дерево решений\" отлично справляется с прогнозом победы на соревнованиях по Пауэрлифтингу по результатам отложенной выборки (100%), в отличие от \"случайного леса\", где прогноз хуже (99.7%)"
   ]
  },
  {
   "cell_type": "markdown",
   "metadata": {},
   "source": [
    "### 12. Выводы (2 балла)\n",
    "\n",
    "Описана ценность решения, возможности применения, дальнейшие пути развития и улучшения решения;"
   ]
  },
  {
   "cell_type": "markdown",
   "metadata": {
    "collapsed": true
   },
   "source": [
    "Прогноз победы на соревнованиях по Пауэрлифтингу имеет низкую ценность, так как на такого рода соревнованиях отсутствует тотализатор. При этом на основе первичных данных о спортсмене, его опыт, экипировка, весовая категория и результаты по первым двум испытаниям есть возможность спрогнозировать победу со 100% вероятностью."
   ]
  }
 ],
 "metadata": {
  "kernelspec": {
   "display_name": "Python 3",
   "language": "python",
   "name": "python3"
  },
  "language_info": {
   "codemirror_mode": {
    "name": "ipython",
    "version": 3
   },
   "file_extension": ".py",
   "mimetype": "text/x-python",
   "name": "python",
   "nbconvert_exporter": "python",
   "pygments_lexer": "ipython3",
   "version": "3.6.3"
  }
 },
 "nbformat": 4,
 "nbformat_minor": 2
}
