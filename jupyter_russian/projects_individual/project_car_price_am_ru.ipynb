{
 "cells": [
  {
   "cell_type": "markdown",
   "metadata": {},
   "source": [
    "# Прогнозирование цены автомобиля по данным сайта am.ru"
   ]
  },
  {
   "cell_type": "markdown",
   "metadata": {},
   "source": [
    "# 1. Описание набора данных и признаков"
   ]
  },
  {
   "cell_type": "markdown",
   "metadata": {},
   "source": [
    "Данные собраны с сайта www.am.ru с помощью парсера, написанного в библиотеках requests и BeautifulSoup так, как это описано в видео https://www.youtube.com/watch?v=zlWiw99bBUk&index=3&list=PLlWXhlUMyoobMzou-Hl6HQWcClzg85_TZ. Отдельное спасибо Олегу Молчанову - автору видео-уроков по парсингу сайтов. Парсинг производился с 8 по 13 февраля 2018 г.\n",
    "Ссылка на данные: https://drive.google.com/open?id=1Kxngy1LJSOEH83IFex-ddTAb2xxkNB9G.\n",
    "Данные описывают ~213k объявлений о продаже автомобилей на сайте am.ru по следующим признакам:\n",
    "    1) price - цена автомобиля, руб.;\n",
    "    2) marka - марка, поколение автомобиля;\n",
    "    3) adres - субъект РФ, город, адрес продавца;\n",
    "    4) avtodiler - =1, если продавец - Автодилер;\n",
    "    5) god - год выпуска автомобиля;\n",
    "    6) probeg - пробег, км.;\n",
    "    7) kuzov_cat - тип кузова;\n",
    "    8) dverej - количество дверей;\n",
    "    9) kpp - вид коробки передач;\n",
    "    10) dvigl - объем двигателя, л.;\n",
    "    11) toplivo - тип топлива;\n",
    "    12) pravrul - =1, если правый руль;\n",
    "    13) cvet - цвет автомобиля;\n",
    "    14) privod - тип привода автомобиля;\n",
    "    15) moschn - мощность двигателя, л.с.;\n",
    "    16) nerastamozh - =1, если автомобиль не растаможен;\n",
    "    17) vladel - число официальных владельцев автомобиля;\n",
    "    18) vinotch - =1, если автомобиль проверен по VIN;\n",
    "    19) bityj - =1, если автомобиль битый.\n",
    "По имеющимся данным решается задача прогнозирования цены автомобиля по описанным выше признакам. Обученная модель позволит определять потенциальную рыночную цену или ее предсказательный интервал по заявленным проадвцом характеристикам автомобиля."
   ]
  },
  {
   "cell_type": "markdown",
   "metadata": {},
   "source": [
    "# 2. Первичный анализ данных"
   ]
  },
  {
   "cell_type": "code",
   "execution_count": 48,
   "metadata": {
    "collapsed": true
   },
   "outputs": [],
   "source": [
    "import pandas as pd\n",
    "import numpy as np\n",
    "import seaborn as sns\n",
    "%matplotlib inline"
   ]
  },
  {
   "cell_type": "code",
   "execution_count": 28,
   "metadata": {
    "collapsed": false
   },
   "outputs": [],
   "source": [
    "df = pd.read_csv('project_car_price_19_feat~210k.csv', encoding='cp1251')"
   ]
  },
  {
   "cell_type": "code",
   "execution_count": 38,
   "metadata": {
    "collapsed": false
   },
   "outputs": [],
   "source": [
    "df = df.iloc[:, 1:]"
   ]
  },
  {
   "cell_type": "code",
   "execution_count": 39,
   "metadata": {
    "collapsed": false
   },
   "outputs": [
    {
     "name": "stdout",
     "output_type": "stream",
     "text": [
      "<class 'pandas.core.frame.DataFrame'>\n",
      "RangeIndex: 213852 entries, 0 to 213851\n",
      "Data columns (total 19 columns):\n",
      "marka          213852 non-null object\n",
      "price          213852 non-null int64\n",
      "adres          213852 non-null object\n",
      "avtodiler      213852 non-null int64\n",
      "god            213852 non-null int64\n",
      "probeg         206801 non-null float64\n",
      "kuzov_cat      213852 non-null object\n",
      "dverej         212538 non-null float64\n",
      "kpp            213802 non-null object\n",
      "dvigl          213693 non-null float64\n",
      "toplivo        213846 non-null object\n",
      "pravrul        213852 non-null int64\n",
      "cvet           213832 non-null object\n",
      "privod         213442 non-null object\n",
      "moschn         212753 non-null float64\n",
      "nerastamozh    213852 non-null int64\n",
      "vladel         197413 non-null float64\n",
      "vinotch        213852 non-null int64\n",
      "bityj          213852 non-null int64\n",
      "dtypes: float64(5), int64(7), object(7)\n",
      "memory usage: 31.0+ MB\n"
     ]
    }
   ],
   "source": [
    "df.info()"
   ]
  },
  {
   "cell_type": "code",
   "execution_count": 49,
   "metadata": {
    "collapsed": false
   },
   "outputs": [],
   "source": [
    "continuous = ['price', 'god', 'probeg', 'dvigl', 'moschn', 'vladel', 'dverej']\n",
    "\n",
    "binary = ['avtodiler', 'pravrul', 'nerastamozh', 'vinotch', 'bityj']\n",
    "\n",
    "categorical = ['kuzov_cat', 'kpp', 'toplivo', 'cvet', 'privod']\n",
    "\n",
    "multicategorical = ['marka', 'adres']"
   ]
  },
  {
   "cell_type": "code",
   "execution_count": 52,
   "metadata": {
    "collapsed": false
   },
   "outputs": [
    {
     "data": {
      "text/plain": [
       "<matplotlib.axes._subplots.AxesSubplot at 0x150350a5a58>"
      ]
     },
     "execution_count": 52,
     "metadata": {},
     "output_type": "execute_result"
    },
    {
     "data": {
      "image/png": "[encoded data removed]",
      "text/plain": [
       "<matplotlib.figure.Figure at 0x150350a5d68>"
      ]
     },
     "metadata": {},
     "output_type": "display_data"
    }
   ],
   "source": [
    "sns.heatmap(df[continuous + binary].corr())"
   ]
  },
  {
   "cell_type": "code",
   "execution_count": null,
   "metadata": {
    "collapsed": true
   },
   "outputs": [],
   "source": []
  },
  {
   "cell_type": "code",
   "execution_count": null,
   "metadata": {
    "collapsed": true
   },
   "outputs": [],
   "source": []
  },
  {
   "cell_type": "code",
   "execution_count": null,
   "metadata": {
    "collapsed": true
   },
   "outputs": [],
   "source": []
  }
 ],
 "metadata": {
  "kernelspec": {
   "display_name": "Python 3",
   "language": "python",
   "name": "python3"
  },
  "language_info": {
   "codemirror_mode": {
    "name": "ipython",
    "version": 3
   },
   "file_extension": ".py",
   "mimetype": "text/x-python",
   "name": "python",
   "nbconvert_exporter": "python",
   "pygments_lexer": "ipython3",
   "version": "3.6.0"
  }
 },
 "nbformat": 4,
 "nbformat_minor": 2
}
