{
 "cells": [
  {
   "cell_type": "markdown",
   "metadata": {},
   "source": [
    "## Открытый курс по машинному обучению. Сессия № 3\n"
   ]
  },
  {
   "cell_type": "markdown",
   "metadata": {},
   "source": [
    "#### Автор материала: Романова Анастасия (Slack: @anastasiaromane)\n",
    "#### Прогнозирование посещаемости в национальных парках и др. достопримечательностях США "
   ]
  },
  {
   "cell_type": "markdown",
   "metadata": {},
   "source": [
    "**План исследования**\n",
    " - Часть 1. Описание набора данных и признаков\n",
    " - Часть 2-3. Первичный и визуальный анализ признаков\n",
    " - Часть 4. Закономерности, \"инсайты\", особенности данных\n",
    " - Часть 5-6. Выбор метрики и модели\n",
    " - Часть 7-8. Предобработка данных и создание новых признаков и описание этого процесса\n",
    " - Часть 9. Кросс-валидация, подбор параметров\n",
    " - Часть 10. Построение кривых валидации и обучения \n",
    " - Часть 11. Прогноз для тестовой или отложенной выборки. Оценка модели с описанием выбранной метрики\n",
    " - Часть 12. Выводы"
   ]
  },
  {
   "cell_type": "markdown",
   "metadata": {},
   "source": [
    "###  Импорт библиотек"
   ]
  },
  {
   "cell_type": "code",
   "execution_count": 2,
   "metadata": {},
   "outputs": [],
   "source": [
    "import os\n",
    "import numpy as np\n",
    "import pandas as pd\n",
    "import scipy.stats as stats\n",
    "from matplotlib import pyplot as plt\n",
    "import seaborn as sns\n",
    "from sklearn.preprocessing import OneHotEncoder, LabelEncoder\n",
    "from sklearn.linear_model import Ridge\n",
    "from sklearn.model_selection import train_test_split, KFold, GridSearchCV, validation_curve, learning_curve\n",
    "from catboost import Pool, CatBoostRegressor\n",
    "from sklearn.metrics import r2_score\n",
    "\n",
    "import warnings\n",
    "warnings.filterwarnings('ignore')\n",
    "%matplotlib inline"
   ]
  },
  {
   "cell_type": "markdown",
   "metadata": {},
   "source": [
    "###  Часть 1. Описание набора данных и признаков"
   ]
  },
  {
   "cell_type": "markdown",
   "metadata": {},
   "source": [
    "#### Задача"
   ]
  },
  {
   "cell_type": "markdown",
   "metadata": {},
   "source": [
    "Задача данного проекта - предсказать количество посетителей в национальных парках и других достопримечательностях США для последнего доступного года в датасете. Будем рещать задачу регрессии.\n"
   ]
  },
  {
   "cell_type": "markdown",
   "metadata": {},
   "source": [
    "#### Данные"
   ]
  },
  {
   "cell_type": "markdown",
   "metadata": {},
   "source": [
    "Данные взяты с этого [сайта](https://data.world/inform8n/us-national-parks-visitation-1904-2016-with-boundaries). Датасет включает в себя исторические данные о посещаемости национальных парков и достопримечательной США с 1904 по 2016 год."
   ]
  },
  {
   "cell_type": "markdown",
   "metadata": {},
   "source": [
    "#### Признаки"
   ]
  },
  {
   "cell_type": "markdown",
   "metadata": {},
   "source": [
    "Загрузим наш основной датасет."
   ]
  },
  {
   "cell_type": "code",
   "execution_count": 2,
   "metadata": {},
   "outputs": [],
   "source": [
    "PATH_TO_DATA = ('data')\n",
    "df = pd.read_csv(os.path.join(PATH_TO_DATA, 'national-parks-visitation.csv'))"
   ]
  },
  {
   "cell_type": "code",
   "execution_count": 3,
   "metadata": {},
   "outputs": [
    {
     "data": {
      "text/plain": [
       "(21560, 18)"
      ]
     },
     "execution_count": 3,
     "metadata": {},
     "output_type": "execute_result"
    }
   ],
   "source": [
    "df.shape"
   ]
  },
  {
   "cell_type": "code",
   "execution_count": 4,
   "metadata": {},
   "outputs": [
    {
     "data": {
      "text/html": [
       "<div>\n",
       "<style scoped>\n",
       "    .dataframe tbody tr th:only-of-type {\n",
       "        vertical-align: middle;\n",
       "    }\n",
       "\n",
       "    .dataframe tbody tr th {\n",
       "        vertical-align: top;\n",
       "    }\n",
       "\n",
       "    .dataframe thead th {\n",
       "        text-align: right;\n",
       "    }\n",
       "</style>\n",
       "<table border=\"1\" class=\"dataframe\">\n",
       "  <thead>\n",
       "    <tr style=\"text-align: right;\">\n",
       "      <th></th>\n",
       "      <th>Created By</th>\n",
       "      <th>Measure Selector</th>\n",
       "      <th>Year</th>\n",
       "      <th>Date Edit</th>\n",
       "      <th>ScrapeURL</th>\n",
       "      <th>GIS Notes</th>\n",
       "      <th>Gnis Id</th>\n",
       "      <th>Geometry</th>\n",
       "      <th>Metadata</th>\n",
       "      <th>Number of Records</th>\n",
       "      <th>Parkname</th>\n",
       "      <th>Region</th>\n",
       "      <th>State</th>\n",
       "      <th>Unit Code</th>\n",
       "      <th>Unit Name</th>\n",
       "      <th>Unit Type</th>\n",
       "      <th>Visitors</th>\n",
       "      <th>YearRaw</th>\n",
       "    </tr>\n",
       "  </thead>\n",
       "  <tbody>\n",
       "    <tr>\n",
       "      <th>0</th>\n",
       "      <td>Legacy</td>\n",
       "      <td>1</td>\n",
       "      <td>1/1/1904 12:00:00 AM</td>\n",
       "      <td>4/22/2015</td>\n",
       "      <td>https://irma.nps.gov/Stats/SSRSReports/Park%20...</td>\n",
       "      <td>LEGACY: contact allen_mccoy@nps.gov for additi...</td>\n",
       "      <td>1163670</td>\n",
       "      <td>POLYGON</td>\n",
       "      <td>NaN</td>\n",
       "      <td>1</td>\n",
       "      <td>Crater Lake</td>\n",
       "      <td>PW</td>\n",
       "      <td>OR</td>\n",
       "      <td>CRLA</td>\n",
       "      <td>Crater Lake National Park</td>\n",
       "      <td>National Park</td>\n",
       "      <td>1500.0</td>\n",
       "      <td>1904</td>\n",
       "    </tr>\n",
       "    <tr>\n",
       "      <th>1</th>\n",
       "      <td>Legacy</td>\n",
       "      <td>1</td>\n",
       "      <td>1/1/1941 12:00:00 AM</td>\n",
       "      <td>4/22/2015</td>\n",
       "      <td>https://irma.nps.gov/Stats/SSRSReports/Park%20...</td>\n",
       "      <td>LEGACY: contact allen_mccoy@nps.gov for additi...</td>\n",
       "      <td>1531834</td>\n",
       "      <td>MULTIPOLYGON</td>\n",
       "      <td>NaN</td>\n",
       "      <td>1</td>\n",
       "      <td>Lake Roosevelt</td>\n",
       "      <td>PW</td>\n",
       "      <td>WA</td>\n",
       "      <td>LARO</td>\n",
       "      <td>Lake Roosevelt National Recreation Area</td>\n",
       "      <td>National Recreation Area</td>\n",
       "      <td>0.0</td>\n",
       "      <td>1941</td>\n",
       "    </tr>\n",
       "  </tbody>\n",
       "</table>\n",
       "</div>"
      ],
      "text/plain": [
       "  Created By  Measure Selector                  Year  Date Edit  \\\n",
       "0     Legacy                 1  1/1/1904 12:00:00 AM  4/22/2015   \n",
       "1     Legacy                 1  1/1/1941 12:00:00 AM  4/22/2015   \n",
       "\n",
       "                                           ScrapeURL  \\\n",
       "0  https://irma.nps.gov/Stats/SSRSReports/Park%20...   \n",
       "1  https://irma.nps.gov/Stats/SSRSReports/Park%20...   \n",
       "\n",
       "                                           GIS Notes  Gnis Id      Geometry  \\\n",
       "0  LEGACY: contact allen_mccoy@nps.gov for additi...  1163670       POLYGON   \n",
       "1  LEGACY: contact allen_mccoy@nps.gov for additi...  1531834  MULTIPOLYGON   \n",
       "\n",
       "  Metadata  Number of Records        Parkname Region State Unit Code  \\\n",
       "0      NaN                  1     Crater Lake     PW    OR      CRLA   \n",
       "1      NaN                  1  Lake Roosevelt     PW    WA      LARO   \n",
       "\n",
       "                                 Unit Name                 Unit Type  \\\n",
       "0                Crater Lake National Park             National Park   \n",
       "1  Lake Roosevelt National Recreation Area  National Recreation Area   \n",
       "\n",
       "   Visitors YearRaw  \n",
       "0    1500.0    1904  \n",
       "1       0.0    1941  "
      ]
     },
     "execution_count": 4,
     "metadata": {},
     "output_type": "execute_result"
    }
   ],
   "source": [
    "df.head(2)"
   ]
  },
  {
   "cell_type": "markdown",
   "metadata": {},
   "source": [
    "Полный датасет состоит из 21560 объектов и 18 признаков."
   ]
  },
  {
   "cell_type": "markdown",
   "metadata": {},
   "source": [
    "- **Created By** - метаданные датасета\n",
    "- **Measure Selector** - метаданные датасета\n",
    "- **Year** - год в формате даты\n",
    "- **Date Edit** - метаданные датасета\n",
    "- **ScrapeURL** - метаданные датасета\n",
    "- **GIS Notes** - метаданные датасета\n",
    "- **Gnis Id** - id достопримечатльности из базы данных Geographic Names Information System \n",
    "- **Geometry** - геометрическая форма парка\n",
    "- **Metadata** - метаданные датасета\n",
    "- **Number of Records** - метаданные датасета\n",
    "- **Parkname** - название достопримечатльности (colloquial)\n",
    "- **Region** - район в системе национальных парков США (подробнее [здесь](https://en.wikipedia.org/wiki/Organization_of_the_National_Park_Service )) \n",
    "- **State** - штат, где расположена достопримечатльность\n",
    "- **Unit Code** - уникальный код достопримечатльности\n",
    "- **Unit Name** - полное название достопримечатльности\n",
    "- **Unit Type** - тип достопримечатльности\n",
    "- **Visitors** - метаданные датасета (**Целевой признак**)\n",
    "- **YearRaw** - год в формате текста"
   ]
  },
  {
   "cell_type": "markdown",
   "metadata": {},
   "source": [
    "Загрузим дополнительный датасет, чтобы по GNIS ID вытащить широту и долготу объектов. Данный датасет взят с этого [сайта](https://geonames.usgs.gov/domestic/download_data.htm)."
   ]
  },
  {
   "cell_type": "code",
   "execution_count": 5,
   "metadata": {},
   "outputs": [],
   "source": [
    "gnis_df = pd.read_csv(os.path.join(PATH_TO_DATA, 'gnis-april2018.txt'), sep='|').rename(columns={'FEATURE_ID':'Gnis Id'})"
   ]
  },
  {
   "cell_type": "code",
   "execution_count": 6,
   "metadata": {},
   "outputs": [
    {
     "data": {
      "text/html": [
       "<div>\n",
       "<style scoped>\n",
       "    .dataframe tbody tr th:only-of-type {\n",
       "        vertical-align: middle;\n",
       "    }\n",
       "\n",
       "    .dataframe tbody tr th {\n",
       "        vertical-align: top;\n",
       "    }\n",
       "\n",
       "    .dataframe thead th {\n",
       "        text-align: right;\n",
       "    }\n",
       "</style>\n",
       "<table border=\"1\" class=\"dataframe\">\n",
       "  <thead>\n",
       "    <tr style=\"text-align: right;\">\n",
       "      <th></th>\n",
       "      <th>Gnis Id</th>\n",
       "      <th>FEATURE_NAME</th>\n",
       "      <th>FEATURE_CLASS</th>\n",
       "      <th>STATE_ALPHA</th>\n",
       "      <th>STATE_NUMERIC</th>\n",
       "      <th>COUNTY_NAME</th>\n",
       "      <th>COUNTY_NUMERIC</th>\n",
       "      <th>PRIMARY_LAT_DMS</th>\n",
       "      <th>PRIM_LONG_DMS</th>\n",
       "      <th>PRIM_LAT_DEC</th>\n",
       "      <th>PRIM_LONG_DEC</th>\n",
       "      <th>SOURCE_LAT_DMS</th>\n",
       "      <th>SOURCE_LONG_DMS</th>\n",
       "      <th>SOURCE_LAT_DEC</th>\n",
       "      <th>SOURCE_LONG_DEC</th>\n",
       "      <th>ELEV_IN_M</th>\n",
       "      <th>ELEV_IN_FT</th>\n",
       "      <th>MAP_NAME</th>\n",
       "      <th>DATE_CREATED</th>\n",
       "      <th>DATE_EDITED</th>\n",
       "    </tr>\n",
       "  </thead>\n",
       "  <tbody>\n",
       "    <tr>\n",
       "      <th>0</th>\n",
       "      <td>0</td>\n",
       "      <td>Bruceville Cemetery</td>\n",
       "      <td>Cemetery</td>\n",
       "      <td>CO</td>\n",
       "      <td>8</td>\n",
       "      <td>Boulder</td>\n",
       "      <td>13.0</td>\n",
       "      <td>400058N</td>\n",
       "      <td>1051226W</td>\n",
       "      <td>40.016099</td>\n",
       "      <td>-105.207171</td>\n",
       "      <td>NaN</td>\n",
       "      <td>NaN</td>\n",
       "      <td>NaN</td>\n",
       "      <td>NaN</td>\n",
       "      <td>1598.0</td>\n",
       "      <td>5243.0</td>\n",
       "      <td>Niwot</td>\n",
       "      <td>05/04/2015</td>\n",
       "      <td>10/22/2015</td>\n",
       "    </tr>\n",
       "    <tr>\n",
       "      <th>1</th>\n",
       "      <td>399</td>\n",
       "      <td>Agua Sal Creek</td>\n",
       "      <td>Stream</td>\n",
       "      <td>AZ</td>\n",
       "      <td>4</td>\n",
       "      <td>Apache</td>\n",
       "      <td>1.0</td>\n",
       "      <td>362740N</td>\n",
       "      <td>1092842W</td>\n",
       "      <td>36.461112</td>\n",
       "      <td>-109.478439</td>\n",
       "      <td>362053N</td>\n",
       "      <td>1090915W</td>\n",
       "      <td>36.348058</td>\n",
       "      <td>-109.154266</td>\n",
       "      <td>1645.0</td>\n",
       "      <td>5397.0</td>\n",
       "      <td>Fire Dance Mesa</td>\n",
       "      <td>02/08/1980</td>\n",
       "      <td>NaN</td>\n",
       "    </tr>\n",
       "    <tr>\n",
       "      <th>2</th>\n",
       "      <td>400</td>\n",
       "      <td>Agua Sal Wash</td>\n",
       "      <td>Valley</td>\n",
       "      <td>AZ</td>\n",
       "      <td>4</td>\n",
       "      <td>Apache</td>\n",
       "      <td>1.0</td>\n",
       "      <td>363246N</td>\n",
       "      <td>1093103W</td>\n",
       "      <td>36.546112</td>\n",
       "      <td>-109.517607</td>\n",
       "      <td>362740N</td>\n",
       "      <td>1092842W</td>\n",
       "      <td>36.461112</td>\n",
       "      <td>-109.478439</td>\n",
       "      <td>1597.0</td>\n",
       "      <td>5239.0</td>\n",
       "      <td>Little Round Rock</td>\n",
       "      <td>02/08/1980</td>\n",
       "      <td>NaN</td>\n",
       "    </tr>\n",
       "  </tbody>\n",
       "</table>\n",
       "</div>"
      ],
      "text/plain": [
       "   Gnis Id         FEATURE_NAME FEATURE_CLASS STATE_ALPHA  STATE_NUMERIC  \\\n",
       "0        0  Bruceville Cemetery      Cemetery          CO              8   \n",
       "1      399       Agua Sal Creek        Stream          AZ              4   \n",
       "2      400        Agua Sal Wash        Valley          AZ              4   \n",
       "\n",
       "  COUNTY_NAME  COUNTY_NUMERIC PRIMARY_LAT_DMS PRIM_LONG_DMS  PRIM_LAT_DEC  \\\n",
       "0     Boulder            13.0         400058N      1051226W     40.016099   \n",
       "1      Apache             1.0         362740N      1092842W     36.461112   \n",
       "2      Apache             1.0         363246N      1093103W     36.546112   \n",
       "\n",
       "   PRIM_LONG_DEC SOURCE_LAT_DMS SOURCE_LONG_DMS  SOURCE_LAT_DEC  \\\n",
       "0    -105.207171            NaN             NaN             NaN   \n",
       "1    -109.478439        362053N        1090915W       36.348058   \n",
       "2    -109.517607        362740N        1092842W       36.461112   \n",
       "\n",
       "   SOURCE_LONG_DEC  ELEV_IN_M  ELEV_IN_FT           MAP_NAME DATE_CREATED  \\\n",
       "0              NaN     1598.0      5243.0              Niwot   05/04/2015   \n",
       "1      -109.154266     1645.0      5397.0    Fire Dance Mesa   02/08/1980   \n",
       "2      -109.478439     1597.0      5239.0  Little Round Rock   02/08/1980   \n",
       "\n",
       "  DATE_EDITED  \n",
       "0  10/22/2015  \n",
       "1         NaN  \n",
       "2         NaN  "
      ]
     },
     "execution_count": 6,
     "metadata": {},
     "output_type": "execute_result"
    }
   ],
   "source": [
    "gnis_df.head(3)"
   ]
  },
  {
   "cell_type": "markdown",
   "metadata": {},
   "source": [
    "Удалим ненужные колонки, преобразуем GNIS ID в текстовый формат и объединим два датасета по GNIS ID."
   ]
  },
  {
   "cell_type": "code",
   "execution_count": 7,
   "metadata": {},
   "outputs": [],
   "source": [
    "gnis_df.drop(['FEATURE_NAME', 'FEATURE_CLASS', 'STATE_ALPHA','STATE_NUMERIC',\n",
    "              'COUNTY_NAME', 'COUNTY_NUMERIC', 'PRIMARY_LAT_DMS','PRIM_LONG_DMS',\n",
    "              'SOURCE_LAT_DMS', 'SOURCE_LONG_DMS', 'SOURCE_LAT_DEC','SOURCE_LONG_DEC',\n",
    "              'ELEV_IN_M','ELEV_IN_FT', 'MAP_NAME', 'DATE_CREATED','DATE_EDITED'], axis=1, inplace=True)"
   ]
  },
  {
   "cell_type": "code",
   "execution_count": 8,
   "metadata": {},
   "outputs": [],
   "source": [
    "gnis_df['Gnis Id'] = gnis_df['Gnis Id'].astype('str')"
   ]
  },
  {
   "cell_type": "code",
   "execution_count": 9,
   "metadata": {},
   "outputs": [],
   "source": [
    "df = pd.merge(df, gnis_df, how='left', on='Gnis Id')"
   ]
  },
  {
   "cell_type": "markdown",
   "metadata": {},
   "source": [
    "###  Часть 2-3. Первичный + визуальный анализ признаков"
   ]
  },
  {
   "cell_type": "markdown",
   "metadata": {},
   "source": [
    "Посмотрим на тип признаков в главном датасете."
   ]
  },
  {
   "cell_type": "code",
   "execution_count": 10,
   "metadata": {},
   "outputs": [
    {
     "name": "stdout",
     "output_type": "stream",
     "text": [
      "<class 'pandas.core.frame.DataFrame'>\n",
      "Int64Index: 21560 entries, 0 to 21559\n",
      "Data columns (total 20 columns):\n",
      "Created By           21560 non-null object\n",
      "Measure Selector     21560 non-null int64\n",
      "Year                 21560 non-null object\n",
      "Date Edit            21560 non-null object\n",
      "ScrapeURL            21560 non-null object\n",
      "GIS Notes            21560 non-null object\n",
      "Gnis Id              21560 non-null object\n",
      "Geometry             21560 non-null object\n",
      "Metadata             18848 non-null object\n",
      "Number of Records    21560 non-null int64\n",
      "Parkname             19342 non-null object\n",
      "Region               21560 non-null object\n",
      "State                21560 non-null object\n",
      "Unit Code            21560 non-null object\n",
      "Unit Name            21560 non-null object\n",
      "Unit Type            21560 non-null object\n",
      "Visitors             21556 non-null float64\n",
      "YearRaw              21560 non-null object\n",
      "PRIM_LAT_DEC         21558 non-null float64\n",
      "PRIM_LONG_DEC        21558 non-null float64\n",
      "dtypes: float64(3), int64(2), object(15)\n",
      "memory usage: 3.5+ MB\n"
     ]
    }
   ],
   "source": [
    "df.info()"
   ]
  },
  {
   "cell_type": "markdown",
   "metadata": {},
   "source": [
    "Из 18 признаков только 4 вещественных, включая целевой признак Visitors, все остальные категориальные или текстовые.\n",
    "Посмотрим еще раз на данные."
   ]
  },
  {
   "cell_type": "code",
   "execution_count": 11,
   "metadata": {},
   "outputs": [
    {
     "data": {
      "text/html": [
       "<div>\n",
       "<style scoped>\n",
       "    .dataframe tbody tr th:only-of-type {\n",
       "        vertical-align: middle;\n",
       "    }\n",
       "\n",
       "    .dataframe tbody tr th {\n",
       "        vertical-align: top;\n",
       "    }\n",
       "\n",
       "    .dataframe thead th {\n",
       "        text-align: right;\n",
       "    }\n",
       "</style>\n",
       "<table border=\"1\" class=\"dataframe\">\n",
       "  <thead>\n",
       "    <tr style=\"text-align: right;\">\n",
       "      <th></th>\n",
       "      <th>Created By</th>\n",
       "      <th>Measure Selector</th>\n",
       "      <th>Year</th>\n",
       "      <th>Date Edit</th>\n",
       "      <th>ScrapeURL</th>\n",
       "      <th>GIS Notes</th>\n",
       "      <th>Gnis Id</th>\n",
       "      <th>Geometry</th>\n",
       "      <th>Metadata</th>\n",
       "      <th>Number of Records</th>\n",
       "      <th>Parkname</th>\n",
       "      <th>Region</th>\n",
       "      <th>State</th>\n",
       "      <th>Unit Code</th>\n",
       "      <th>Unit Name</th>\n",
       "      <th>Unit Type</th>\n",
       "      <th>Visitors</th>\n",
       "      <th>YearRaw</th>\n",
       "      <th>PRIM_LAT_DEC</th>\n",
       "      <th>PRIM_LONG_DEC</th>\n",
       "    </tr>\n",
       "  </thead>\n",
       "  <tbody>\n",
       "    <tr>\n",
       "      <th>0</th>\n",
       "      <td>Legacy</td>\n",
       "      <td>1</td>\n",
       "      <td>1/1/1904 12:00:00 AM</td>\n",
       "      <td>4/22/2015</td>\n",
       "      <td>https://irma.nps.gov/Stats/SSRSReports/Park%20...</td>\n",
       "      <td>LEGACY: contact allen_mccoy@nps.gov for additi...</td>\n",
       "      <td>1163670</td>\n",
       "      <td>POLYGON</td>\n",
       "      <td>NaN</td>\n",
       "      <td>1</td>\n",
       "      <td>Crater Lake</td>\n",
       "      <td>PW</td>\n",
       "      <td>OR</td>\n",
       "      <td>CRLA</td>\n",
       "      <td>Crater Lake National Park</td>\n",
       "      <td>National Park</td>\n",
       "      <td>1500.0</td>\n",
       "      <td>1904</td>\n",
       "      <td>42.941064</td>\n",
       "      <td>-122.132749</td>\n",
       "    </tr>\n",
       "    <tr>\n",
       "      <th>1</th>\n",
       "      <td>Legacy</td>\n",
       "      <td>1</td>\n",
       "      <td>1/1/1941 12:00:00 AM</td>\n",
       "      <td>4/22/2015</td>\n",
       "      <td>https://irma.nps.gov/Stats/SSRSReports/Park%20...</td>\n",
       "      <td>LEGACY: contact allen_mccoy@nps.gov for additi...</td>\n",
       "      <td>1531834</td>\n",
       "      <td>MULTIPOLYGON</td>\n",
       "      <td>NaN</td>\n",
       "      <td>1</td>\n",
       "      <td>Lake Roosevelt</td>\n",
       "      <td>PW</td>\n",
       "      <td>WA</td>\n",
       "      <td>LARO</td>\n",
       "      <td>Lake Roosevelt National Recreation Area</td>\n",
       "      <td>National Recreation Area</td>\n",
       "      <td>0.0</td>\n",
       "      <td>1941</td>\n",
       "      <td>47.911637</td>\n",
       "      <td>-118.715154</td>\n",
       "    </tr>\n",
       "    <tr>\n",
       "      <th>2</th>\n",
       "      <td>Legacy</td>\n",
       "      <td>1</td>\n",
       "      <td>1/1/1961 12:00:00 AM</td>\n",
       "      <td>4/22/2015</td>\n",
       "      <td>https://irma.nps.gov/Stats/SSRSReports/Park%20...</td>\n",
       "      <td>LEGACY: contact allen_mccoy@nps.gov for additi...</td>\n",
       "      <td>2055170</td>\n",
       "      <td>MULTIPOLYGON</td>\n",
       "      <td>NaN</td>\n",
       "      <td>1</td>\n",
       "      <td>Lewis and Clark</td>\n",
       "      <td>PW</td>\n",
       "      <td>WA</td>\n",
       "      <td>LEWI</td>\n",
       "      <td>Lewis and Clark National Historical Park</td>\n",
       "      <td>National Historical Park</td>\n",
       "      <td>69000.0</td>\n",
       "      <td>1961</td>\n",
       "      <td>46.286183</td>\n",
       "      <td>-124.067632</td>\n",
       "    </tr>\n",
       "  </tbody>\n",
       "</table>\n",
       "</div>"
      ],
      "text/plain": [
       "  Created By  Measure Selector                  Year  Date Edit  \\\n",
       "0     Legacy                 1  1/1/1904 12:00:00 AM  4/22/2015   \n",
       "1     Legacy                 1  1/1/1941 12:00:00 AM  4/22/2015   \n",
       "2     Legacy                 1  1/1/1961 12:00:00 AM  4/22/2015   \n",
       "\n",
       "                                           ScrapeURL  \\\n",
       "0  https://irma.nps.gov/Stats/SSRSReports/Park%20...   \n",
       "1  https://irma.nps.gov/Stats/SSRSReports/Park%20...   \n",
       "2  https://irma.nps.gov/Stats/SSRSReports/Park%20...   \n",
       "\n",
       "                                           GIS Notes  Gnis Id      Geometry  \\\n",
       "0  LEGACY: contact allen_mccoy@nps.gov for additi...  1163670       POLYGON   \n",
       "1  LEGACY: contact allen_mccoy@nps.gov for additi...  1531834  MULTIPOLYGON   \n",
       "2  LEGACY: contact allen_mccoy@nps.gov for additi...  2055170  MULTIPOLYGON   \n",
       "\n",
       "  Metadata  Number of Records         Parkname Region State Unit Code  \\\n",
       "0      NaN                  1      Crater Lake     PW    OR      CRLA   \n",
       "1      NaN                  1   Lake Roosevelt     PW    WA      LARO   \n",
       "2      NaN                  1  Lewis and Clark     PW    WA      LEWI   \n",
       "\n",
       "                                  Unit Name                 Unit Type  \\\n",
       "0                 Crater Lake National Park             National Park   \n",
       "1   Lake Roosevelt National Recreation Area  National Recreation Area   \n",
       "2  Lewis and Clark National Historical Park  National Historical Park   \n",
       "\n",
       "   Visitors YearRaw  PRIM_LAT_DEC  PRIM_LONG_DEC  \n",
       "0    1500.0    1904     42.941064    -122.132749  \n",
       "1       0.0    1941     47.911637    -118.715154  \n",
       "2   69000.0    1961     46.286183    -124.067632  "
      ]
     },
     "execution_count": 11,
     "metadata": {},
     "output_type": "execute_result"
    }
   ],
   "source": [
    "df.head(3)"
   ]
  },
  {
   "cell_type": "markdown",
   "metadata": {},
   "source": [
    "Первым делом необходимо удалить некоторые признаки из датасета, так как большинство из них являются метаданными датасета и не несут большой информативности для анализа. Кроме того, удалим признак Year в формате даты, так как нам будет достатотчно признака YearRaw."
   ]
  },
  {
   "cell_type": "code",
   "execution_count": 12,
   "metadata": {},
   "outputs": [],
   "source": [
    "df.drop(['Created By', 'Measure Selector', 'Year','Date Edit', 'ScrapeURL',\n",
    "       'GIS Notes', 'Geometry', 'Metadata', 'Number of Records'], axis=1, inplace=True)"
   ]
  },
  {
   "cell_type": "markdown",
   "metadata": {},
   "source": [
    "Проверим данные на пропуски."
   ]
  },
  {
   "cell_type": "code",
   "execution_count": 13,
   "metadata": {},
   "outputs": [
    {
     "data": {
      "text/plain": [
       "Gnis Id             0\n",
       "Parkname         2218\n",
       "Region              0\n",
       "State               0\n",
       "Unit Code           0\n",
       "Unit Name           0\n",
       "Unit Type           0\n",
       "Visitors            4\n",
       "YearRaw             0\n",
       "PRIM_LAT_DEC        2\n",
       "PRIM_LONG_DEC       2\n",
       "dtype: int64"
      ]
     },
     "execution_count": 13,
     "metadata": {},
     "output_type": "execute_result"
    }
   ],
   "source": [
    "df.isnull().sum()"
   ]
  },
  {
   "cell_type": "markdown",
   "metadata": {},
   "source": [
    "4 признака имеют пропуски. Для каждого из признаков разные решения. Например, для признака Parkname можно заменить пропуски на Unknown. На самом деле, этот признак можно удалить (Сделаем это чуть позднее), т.к. есть другой более точной признак, который содержит в себе полное название достопримечательни Unit Name и не содержит пропусков."
   ]
  },
  {
   "cell_type": "code",
   "execution_count": 14,
   "metadata": {},
   "outputs": [],
   "source": [
    "df['Parkname'].fillna('Unknown', inplace=True)"
   ]
  },
  {
   "cell_type": "markdown",
   "metadata": {},
   "source": [
    "Посмотрим на другие пропуски в датасете."
   ]
  },
  {
   "cell_type": "code",
   "execution_count": 15,
   "metadata": {},
   "outputs": [
    {
     "data": {
      "text/html": [
       "<div>\n",
       "<style scoped>\n",
       "    .dataframe tbody tr th:only-of-type {\n",
       "        vertical-align: middle;\n",
       "    }\n",
       "\n",
       "    .dataframe tbody tr th {\n",
       "        vertical-align: top;\n",
       "    }\n",
       "\n",
       "    .dataframe thead th {\n",
       "        text-align: right;\n",
       "    }\n",
       "</style>\n",
       "<table border=\"1\" class=\"dataframe\">\n",
       "  <thead>\n",
       "    <tr style=\"text-align: right;\">\n",
       "      <th></th>\n",
       "      <th>Gnis Id</th>\n",
       "      <th>Parkname</th>\n",
       "      <th>Region</th>\n",
       "      <th>State</th>\n",
       "      <th>Unit Code</th>\n",
       "      <th>Unit Name</th>\n",
       "      <th>Unit Type</th>\n",
       "      <th>Visitors</th>\n",
       "      <th>YearRaw</th>\n",
       "      <th>PRIM_LAT_DEC</th>\n",
       "      <th>PRIM_LONG_DEC</th>\n",
       "    </tr>\n",
       "  </thead>\n",
       "  <tbody>\n",
       "    <tr>\n",
       "      <th>300</th>\n",
       "      <td>2767391</td>\n",
       "      <td>Honouliuli</td>\n",
       "      <td>PW</td>\n",
       "      <td>HI</td>\n",
       "      <td>HONO</td>\n",
       "      <td>Honouliuli National Monument</td>\n",
       "      <td>National Monument</td>\n",
       "      <td>NaN</td>\n",
       "      <td>Total</td>\n",
       "      <td>21.388175</td>\n",
       "      <td>-158.057499</td>\n",
       "    </tr>\n",
       "    <tr>\n",
       "      <th>308</th>\n",
       "      <td>2766708</td>\n",
       "      <td>Minidoka</td>\n",
       "      <td>PW</td>\n",
       "      <td>WA</td>\n",
       "      <td>MIIN</td>\n",
       "      <td>Minidoka National Historic Site</td>\n",
       "      <td>National Historic Site</td>\n",
       "      <td>NaN</td>\n",
       "      <td>Total</td>\n",
       "      <td>42.681043</td>\n",
       "      <td>-114.247375</td>\n",
       "    </tr>\n",
       "    <tr>\n",
       "      <th>337</th>\n",
       "      <td>2035517</td>\n",
       "      <td>Valles Caldera</td>\n",
       "      <td>IM</td>\n",
       "      <td>NM</td>\n",
       "      <td>VALL</td>\n",
       "      <td>Valles Caldera National Preserve</td>\n",
       "      <td>Valles Caldera National Preserve</td>\n",
       "      <td>NaN</td>\n",
       "      <td>Total</td>\n",
       "      <td>35.916783</td>\n",
       "      <td>-106.519572</td>\n",
       "    </tr>\n",
       "    <tr>\n",
       "      <th>369</th>\n",
       "      <td>2766905</td>\n",
       "      <td>Pullman</td>\n",
       "      <td>MW</td>\n",
       "      <td>IL</td>\n",
       "      <td>PULL</td>\n",
       "      <td>Pullman National Monument</td>\n",
       "      <td>National Monument</td>\n",
       "      <td>NaN</td>\n",
       "      <td>Total</td>\n",
       "      <td>41.694291</td>\n",
       "      <td>-87.608798</td>\n",
       "    </tr>\n",
       "    <tr>\n",
       "      <th>371</th>\n",
       "      <td>need ID</td>\n",
       "      <td>Belmont-Paul Women's Equality</td>\n",
       "      <td>NC</td>\n",
       "      <td>DC</td>\n",
       "      <td>BEPA</td>\n",
       "      <td>Belmont-Paul Women's Equality National Monument</td>\n",
       "      <td>National Monument</td>\n",
       "      <td>2704.0</td>\n",
       "      <td>2016</td>\n",
       "      <td>NaN</td>\n",
       "      <td>NaN</td>\n",
       "    </tr>\n",
       "    <tr>\n",
       "      <th>753</th>\n",
       "      <td>need ID</td>\n",
       "      <td>Belmont-Paul Women's Equality</td>\n",
       "      <td>NC</td>\n",
       "      <td>DC</td>\n",
       "      <td>BEPA</td>\n",
       "      <td>Belmont-Paul Women's Equality National Monument</td>\n",
       "      <td>National Monument</td>\n",
       "      <td>2704.0</td>\n",
       "      <td>Total</td>\n",
       "      <td>NaN</td>\n",
       "      <td>NaN</td>\n",
       "    </tr>\n",
       "  </tbody>\n",
       "</table>\n",
       "</div>"
      ],
      "text/plain": [
       "     Gnis Id                       Parkname Region State Unit Code  \\\n",
       "300  2767391                     Honouliuli     PW    HI      HONO   \n",
       "308  2766708                       Minidoka     PW    WA      MIIN   \n",
       "337  2035517                 Valles Caldera     IM    NM      VALL   \n",
       "369  2766905                        Pullman     MW    IL      PULL   \n",
       "371  need ID  Belmont-Paul Women's Equality     NC    DC      BEPA   \n",
       "753  need ID  Belmont-Paul Women's Equality     NC    DC      BEPA   \n",
       "\n",
       "                                           Unit Name  \\\n",
       "300                     Honouliuli National Monument   \n",
       "308                  Minidoka National Historic Site   \n",
       "337                 Valles Caldera National Preserve   \n",
       "369                        Pullman National Monument   \n",
       "371  Belmont-Paul Women's Equality National Monument   \n",
       "753  Belmont-Paul Women's Equality National Monument   \n",
       "\n",
       "                            Unit Type  Visitors YearRaw  PRIM_LAT_DEC  \\\n",
       "300                 National Monument       NaN   Total     21.388175   \n",
       "308            National Historic Site       NaN   Total     42.681043   \n",
       "337  Valles Caldera National Preserve       NaN   Total     35.916783   \n",
       "369                 National Monument       NaN   Total     41.694291   \n",
       "371                 National Monument    2704.0    2016           NaN   \n",
       "753                 National Monument    2704.0   Total           NaN   \n",
       "\n",
       "     PRIM_LONG_DEC  \n",
       "300    -158.057499  \n",
       "308    -114.247375  \n",
       "337    -106.519572  \n",
       "369     -87.608798  \n",
       "371            NaN  \n",
       "753            NaN  "
      ]
     },
     "execution_count": 15,
     "metadata": {},
     "output_type": "execute_result"
    }
   ],
   "source": [
    "df[df.isnull().any(axis=1)]"
   ]
  },
  {
   "cell_type": "markdown",
   "metadata": {},
   "source": [
    "У двух объектов отсутсвует широта и долгота. Проблема в том, что эти два объекта не имеют GNIS ID, по которому мы находили географические данные. В таком случае можно поискать долготу и широту в интернете и заменить их в датасете вручную."
   ]
  },
  {
   "cell_type": "code",
   "execution_count": 16,
   "metadata": {},
   "outputs": [],
   "source": [
    "df['PRIM_LAT_DEC'] = df['PRIM_LAT_DEC'].replace(float('nan'), 38.892235)"
   ]
  },
  {
   "cell_type": "code",
   "execution_count": 17,
   "metadata": {},
   "outputs": [],
   "source": [
    "df['PRIM_LONG_DEC'] = df['PRIM_LONG_DEC'].replace(float('nan'), -77.003689)"
   ]
  },
  {
   "cell_type": "markdown",
   "metadata": {},
   "source": [
    "Еще есть пропуски в целевой переменной Visitors. YearRaw у данных объектов тоже весьма странный - Total. Посмотрим на YearRaw."
   ]
  },
  {
   "cell_type": "code",
   "execution_count": 18,
   "metadata": {},
   "outputs": [
    {
     "data": {
      "text/plain": [
       "Total    386\n",
       "2016     379\n",
       "2015     375\n",
       "2013     373\n",
       "2014     373\n",
       "Name: YearRaw, dtype: int64"
      ]
     },
     "execution_count": 18,
     "metadata": {},
     "output_type": "execute_result"
    }
   ],
   "source": [
    "df['YearRaw'].value_counts().head()"
   ]
  },
  {
   "cell_type": "code",
   "execution_count": 19,
   "metadata": {},
   "outputs": [
    {
     "data": {
      "text/html": [
       "<div>\n",
       "<style scoped>\n",
       "    .dataframe tbody tr th:only-of-type {\n",
       "        vertical-align: middle;\n",
       "    }\n",
       "\n",
       "    .dataframe tbody tr th {\n",
       "        vertical-align: top;\n",
       "    }\n",
       "\n",
       "    .dataframe thead th {\n",
       "        text-align: right;\n",
       "    }\n",
       "</style>\n",
       "<table border=\"1\" class=\"dataframe\">\n",
       "  <thead>\n",
       "    <tr style=\"text-align: right;\">\n",
       "      <th></th>\n",
       "      <th>Gnis Id</th>\n",
       "      <th>Parkname</th>\n",
       "      <th>Region</th>\n",
       "      <th>State</th>\n",
       "      <th>Unit Code</th>\n",
       "      <th>Unit Name</th>\n",
       "      <th>Unit Type</th>\n",
       "      <th>Visitors</th>\n",
       "      <th>YearRaw</th>\n",
       "      <th>PRIM_LAT_DEC</th>\n",
       "      <th>PRIM_LONG_DEC</th>\n",
       "    </tr>\n",
       "  </thead>\n",
       "  <tbody>\n",
       "    <tr>\n",
       "      <th>300</th>\n",
       "      <td>2767391</td>\n",
       "      <td>Honouliuli</td>\n",
       "      <td>PW</td>\n",
       "      <td>HI</td>\n",
       "      <td>HONO</td>\n",
       "      <td>Honouliuli National Monument</td>\n",
       "      <td>National Monument</td>\n",
       "      <td>NaN</td>\n",
       "      <td>Total</td>\n",
       "      <td>21.388175</td>\n",
       "      <td>-158.057499</td>\n",
       "    </tr>\n",
       "    <tr>\n",
       "      <th>308</th>\n",
       "      <td>2766708</td>\n",
       "      <td>Minidoka</td>\n",
       "      <td>PW</td>\n",
       "      <td>WA</td>\n",
       "      <td>MIIN</td>\n",
       "      <td>Minidoka National Historic Site</td>\n",
       "      <td>National Historic Site</td>\n",
       "      <td>NaN</td>\n",
       "      <td>Total</td>\n",
       "      <td>42.681043</td>\n",
       "      <td>-114.247375</td>\n",
       "    </tr>\n",
       "    <tr>\n",
       "      <th>337</th>\n",
       "      <td>2035517</td>\n",
       "      <td>Valles Caldera</td>\n",
       "      <td>IM</td>\n",
       "      <td>NM</td>\n",
       "      <td>VALL</td>\n",
       "      <td>Valles Caldera National Preserve</td>\n",
       "      <td>Valles Caldera National Preserve</td>\n",
       "      <td>NaN</td>\n",
       "      <td>Total</td>\n",
       "      <td>35.916783</td>\n",
       "      <td>-106.519572</td>\n",
       "    </tr>\n",
       "    <tr>\n",
       "      <th>369</th>\n",
       "      <td>2766905</td>\n",
       "      <td>Pullman</td>\n",
       "      <td>MW</td>\n",
       "      <td>IL</td>\n",
       "      <td>PULL</td>\n",
       "      <td>Pullman National Monument</td>\n",
       "      <td>National Monument</td>\n",
       "      <td>NaN</td>\n",
       "      <td>Total</td>\n",
       "      <td>41.694291</td>\n",
       "      <td>-87.608798</td>\n",
       "    </tr>\n",
       "    <tr>\n",
       "      <th>386</th>\n",
       "      <td>1163670</td>\n",
       "      <td>Crater Lake</td>\n",
       "      <td>PW</td>\n",
       "      <td>OR</td>\n",
       "      <td>CRLA</td>\n",
       "      <td>Crater Lake National Park</td>\n",
       "      <td>National Park</td>\n",
       "      <td>34669486.0</td>\n",
       "      <td>Total</td>\n",
       "      <td>42.941064</td>\n",
       "      <td>-122.132749</td>\n",
       "    </tr>\n",
       "  </tbody>\n",
       "</table>\n",
       "</div>"
      ],
      "text/plain": [
       "     Gnis Id        Parkname Region State Unit Code  \\\n",
       "300  2767391      Honouliuli     PW    HI      HONO   \n",
       "308  2766708        Minidoka     PW    WA      MIIN   \n",
       "337  2035517  Valles Caldera     IM    NM      VALL   \n",
       "369  2766905         Pullman     MW    IL      PULL   \n",
       "386  1163670     Crater Lake     PW    OR      CRLA   \n",
       "\n",
       "                            Unit Name                         Unit Type  \\\n",
       "300      Honouliuli National Monument                 National Monument   \n",
       "308   Minidoka National Historic Site            National Historic Site   \n",
       "337  Valles Caldera National Preserve  Valles Caldera National Preserve   \n",
       "369         Pullman National Monument                 National Monument   \n",
       "386         Crater Lake National Park                     National Park   \n",
       "\n",
       "       Visitors YearRaw  PRIM_LAT_DEC  PRIM_LONG_DEC  \n",
       "300         NaN   Total     21.388175    -158.057499  \n",
       "308         NaN   Total     42.681043    -114.247375  \n",
       "337         NaN   Total     35.916783    -106.519572  \n",
       "369         NaN   Total     41.694291     -87.608798  \n",
       "386  34669486.0   Total     42.941064    -122.132749  "
      ]
     },
     "execution_count": 19,
     "metadata": {},
     "output_type": "execute_result"
    }
   ],
   "source": [
    "df.loc[df['YearRaw'] == 'Total'].head()"
   ]
  },
  {
   "cell_type": "markdown",
   "metadata": {},
   "source": [
    "386 объектов имеют Total вместо года. Предполагается, что данные объекты были созданы в результате ошибки во время сбора данных. Предлагается удалить эти объекты."
   ]
  },
  {
   "cell_type": "code",
   "execution_count": 20,
   "metadata": {},
   "outputs": [],
   "source": [
    "df = df.loc[df['YearRaw'] != 'Total']"
   ]
  },
  {
   "cell_type": "markdown",
   "metadata": {},
   "source": [
    "Изменим формат целевой переменой Visitors и признака YearRaw."
   ]
  },
  {
   "cell_type": "code",
   "execution_count": 21,
   "metadata": {},
   "outputs": [],
   "source": [
    "df['YearRaw'] = df['YearRaw'].astype('int64')\n",
    "df['Visitors'] = df['Visitors'].astype('int64')"
   ]
  },
  {
   "cell_type": "markdown",
   "metadata": {},
   "source": [
    "Кроме того, для удобства переименуем YearRaw в Year."
   ]
  },
  {
   "cell_type": "code",
   "execution_count": 22,
   "metadata": {},
   "outputs": [],
   "source": [
    "df.rename(columns={'YearRaw': 'Year'}, inplace=True)"
   ]
  },
  {
   "cell_type": "markdown",
   "metadata": {},
   "source": [
    "Т.к. наша задача предсказать количество посетителей по историческим данных, большое количество исторических данных может затруднить задачу, в связи с чем облегчим себе задачу и оставим данные, начиная с 2000 года."
   ]
  },
  {
   "cell_type": "code",
   "execution_count": 23,
   "metadata": {},
   "outputs": [],
   "source": [
    "df = df.loc[df['Year'] >= 2000]"
   ]
  },
  {
   "cell_type": "markdown",
   "metadata": {},
   "source": [
    "### test и train"
   ]
  },
  {
   "cell_type": "markdown",
   "metadata": {},
   "source": [
    "Теперь можно разбить данных не обучающую и тестовую выборки. Посмотрим, какой год последний в датасете."
   ]
  },
  {
   "cell_type": "code",
   "execution_count": 24,
   "metadata": {},
   "outputs": [
    {
     "data": {
      "text/plain": [
       "array([2000, 2001, 2002, 2003, 2004, 2005, 2006, 2007, 2008, 2009, 2010,\n",
       "       2011, 2012, 2013, 2014, 2015, 2016])"
      ]
     },
     "execution_count": 24,
     "metadata": {},
     "output_type": "execute_result"
    }
   ],
   "source": [
    "np.sort(pd.unique(df['Year']))"
   ]
  },
  {
   "cell_type": "markdown",
   "metadata": {},
   "source": [
    "Будем предсказывать посетителей для 2016 года по данным с 2000 по 2015."
   ]
  },
  {
   "cell_type": "code",
   "execution_count": 25,
   "metadata": {},
   "outputs": [
    {
     "data": {
      "text/plain": [
       "(5795, 11)"
      ]
     },
     "execution_count": 25,
     "metadata": {},
     "output_type": "execute_result"
    }
   ],
   "source": [
    "train = df.loc[df['Year'] != 2016]\n",
    "train.shape"
   ]
  },
  {
   "cell_type": "code",
   "execution_count": 26,
   "metadata": {},
   "outputs": [
    {
     "data": {
      "text/plain": [
       "(379, 11)"
      ]
     },
     "execution_count": 26,
     "metadata": {},
     "output_type": "execute_result"
    }
   ],
   "source": [
    "test = df.loc[df['Year'] == 2016]\n",
    "test.shape"
   ]
  },
  {
   "cell_type": "markdown",
   "metadata": {},
   "source": [
    "Обучающая выборка включает 5795 объектов, тестовая - 379. Всего 11 признаков."
   ]
  },
  {
   "cell_type": "markdown",
   "metadata": {},
   "source": [
    "#### Целевая переменная"
   ]
  },
  {
   "cell_type": "markdown",
   "metadata": {},
   "source": [
    "Сначала будем изучать целевую переменную Visitors. Проведем тесты на нормальность распределения и рассчитаем скошенность и эксцесс распределения."
   ]
  },
  {
   "cell_type": "code",
   "execution_count": 27,
   "metadata": {},
   "outputs": [
    {
     "data": {
      "text/plain": [
       "<matplotlib.axes._subplots.AxesSubplot at 0x1210b4438>"
      ]
     },
     "execution_count": 27,
     "metadata": {},
     "output_type": "execute_result"
    },
    {
     "data": {
      "image/png": "[encoded data removed]",
      "text/plain": [
       "<Figure size 720x432 with 1 Axes>"
      ]
     },
     "metadata": {},
     "output_type": "display_data"
    }
   ],
   "source": [
    "sns.set(rc={\"figure.figsize\": (10, 6)})\n",
    "fig = plt.figure()\n",
    "sns.distplot(train['Visitors'])"
   ]
  },
  {
   "cell_type": "markdown",
   "metadata": {},
   "source": [
    "Из графика выше видно, что распределение совсем не похоже на нормальное. Чтобы убедиться в этом, добавим нормальное распределение (из scipy) к графику и сравним его с распределением целевой переменной."
   ]
  },
  {
   "cell_type": "code",
   "execution_count": 28,
   "metadata": {},
   "outputs": [
    {
     "data": {
      "text/plain": [
       "<matplotlib.axes._subplots.AxesSubplot at 0x1214dee10>"
      ]
     },
     "execution_count": 28,
     "metadata": {},
     "output_type": "execute_result"
    },
    {
     "data": {
      "image/png": "[encoded data removed]",
      "text/plain": [
       "<Figure size 720x432 with 1 Axes>"
      ]
     },
     "metadata": {},
     "output_type": "display_data"
    }
   ],
   "source": [
    "sns.set(rc={\"figure.figsize\": (10, 6)})\n",
    "fig = plt.figure()\n",
    "sns.distplot(train['Visitors'], fit=stats.norm)"
   ]
  },
  {
   "cell_type": "markdown",
   "metadata": {},
   "source": [
    "Распределение целевой переменной скошенно и сильно отличается от нормального. Проведем стат.тесты."
   ]
  },
  {
   "cell_type": "code",
   "execution_count": 29,
   "metadata": {},
   "outputs": [
    {
     "name": "stdout",
     "output_type": "stream",
     "text": [
      "Скошенность: 5.393353\n",
      "Эксцесс: 40.071283\n"
     ]
    }
   ],
   "source": [
    "print(\"Скошенность: %f\" % stats.skew(train['Visitors']))\n",
    "print(\"Эксцесс: %f\" % stats.kurtosis(train['Visitors']))"
   ]
  },
  {
   "cell_type": "code",
   "execution_count": 30,
   "metadata": {},
   "outputs": [
    {
     "data": {
      "text/plain": [
       "NormaltestResult(statistic=6483.6642043916145, pvalue=0.0)"
      ]
     },
     "execution_count": 30,
     "metadata": {},
     "output_type": "execute_result"
    }
   ],
   "source": [
    "stats.normaltest(df['Visitors'].values)"
   ]
  },
  {
   "cell_type": "markdown",
   "metadata": {},
   "source": [
    "Как видим, скошенность и эксцесс распределения очень большие. В дальнейшем нам будет необходимо преобразовать целевую переменную и попытаться сделать распределение близким к нормальному."
   ]
  },
  {
   "cell_type": "markdown",
   "metadata": {},
   "source": [
    "#### Вещественные признаки"
   ]
  },
  {
   "cell_type": "markdown",
   "metadata": {},
   "source": [
    "Рассмотрим вещественный признаки."
   ]
  },
  {
   "cell_type": "code",
   "execution_count": 31,
   "metadata": {},
   "outputs": [
    {
     "data": {
      "text/html": [
       "<div>\n",
       "<style scoped>\n",
       "    .dataframe tbody tr th:only-of-type {\n",
       "        vertical-align: middle;\n",
       "    }\n",
       "\n",
       "    .dataframe tbody tr th {\n",
       "        vertical-align: top;\n",
       "    }\n",
       "\n",
       "    .dataframe thead th {\n",
       "        text-align: right;\n",
       "    }\n",
       "</style>\n",
       "<table border=\"1\" class=\"dataframe\">\n",
       "  <thead>\n",
       "    <tr style=\"text-align: right;\">\n",
       "      <th></th>\n",
       "      <th>Visitors</th>\n",
       "      <th>Year</th>\n",
       "      <th>PRIM_LAT_DEC</th>\n",
       "      <th>PRIM_LONG_DEC</th>\n",
       "    </tr>\n",
       "  </thead>\n",
       "  <tbody>\n",
       "    <tr>\n",
       "      <th>count</th>\n",
       "      <td>5.795000e+03</td>\n",
       "      <td>5795.000000</td>\n",
       "      <td>5795.000000</td>\n",
       "      <td>5795.000000</td>\n",
       "    </tr>\n",
       "    <tr>\n",
       "      <th>mean</th>\n",
       "      <td>7.648219e+05</td>\n",
       "      <td>2007.609146</td>\n",
       "      <td>38.998598</td>\n",
       "      <td>-96.971976</td>\n",
       "    </tr>\n",
       "    <tr>\n",
       "      <th>std</th>\n",
       "      <td>1.684387e+06</td>\n",
       "      <td>4.603051</td>\n",
       "      <td>8.498906</td>\n",
       "      <td>26.095881</td>\n",
       "    </tr>\n",
       "    <tr>\n",
       "      <th>min</th>\n",
       "      <td>0.000000e+00</td>\n",
       "      <td>2000.000000</td>\n",
       "      <td>-14.236873</td>\n",
       "      <td>-169.452789</td>\n",
       "    </tr>\n",
       "    <tr>\n",
       "      <th>25%</th>\n",
       "      <td>4.847750e+04</td>\n",
       "      <td>2004.000000</td>\n",
       "      <td>35.168228</td>\n",
       "      <td>-111.113563</td>\n",
       "    </tr>\n",
       "    <tr>\n",
       "      <th>50%</th>\n",
       "      <td>1.922100e+05</td>\n",
       "      <td>2008.000000</td>\n",
       "      <td>38.684757</td>\n",
       "      <td>-91.578484</td>\n",
       "    </tr>\n",
       "    <tr>\n",
       "      <th>75%</th>\n",
       "      <td>6.885270e+05</td>\n",
       "      <td>2012.000000</td>\n",
       "      <td>41.856343</td>\n",
       "      <td>-77.436945</td>\n",
       "    </tr>\n",
       "    <tr>\n",
       "      <th>max</th>\n",
       "      <td>2.153876e+07</td>\n",
       "      <td>2015.000000</td>\n",
       "      <td>68.004212</td>\n",
       "      <td>144.655114</td>\n",
       "    </tr>\n",
       "  </tbody>\n",
       "</table>\n",
       "</div>"
      ],
      "text/plain": [
       "           Visitors         Year  PRIM_LAT_DEC  PRIM_LONG_DEC\n",
       "count  5.795000e+03  5795.000000   5795.000000    5795.000000\n",
       "mean   7.648219e+05  2007.609146     38.998598     -96.971976\n",
       "std    1.684387e+06     4.603051      8.498906      26.095881\n",
       "min    0.000000e+00  2000.000000    -14.236873    -169.452789\n",
       "25%    4.847750e+04  2004.000000     35.168228    -111.113563\n",
       "50%    1.922100e+05  2008.000000     38.684757     -91.578484\n",
       "75%    6.885270e+05  2012.000000     41.856343     -77.436945\n",
       "max    2.153876e+07  2015.000000     68.004212     144.655114"
      ]
     },
     "execution_count": 31,
     "metadata": {},
     "output_type": "execute_result"
    }
   ],
   "source": [
    "train.describe()"
   ]
  },
  {
   "cell_type": "markdown",
   "metadata": {},
   "source": [
    "В датасете всего три вещественных признака, построим графики, чтобы найти какие-нибудь закономерности или зависимости."
   ]
  },
  {
   "cell_type": "code",
   "execution_count": 32,
   "metadata": {},
   "outputs": [
    {
     "data": {
      "text/plain": [
       "<matplotlib.axes._subplots.AxesSubplot at 0x121cd9e80>"
      ]
     },
     "execution_count": 32,
     "metadata": {},
     "output_type": "execute_result"
    },
    {
     "data": {
      "image/png": "[encoded data removed]",
      "text/plain": [
       "<Figure size 864x432 with 1 Axes>"
      ]
     },
     "metadata": {},
     "output_type": "display_data"
    }
   ],
   "source": [
    "visitors_df = train[['Visitors'] + ['Year']]\n",
    "visitors_df.groupby('Year').sum().plot(figsize=(12,6))"
   ]
  },
  {
   "cell_type": "markdown",
   "metadata": {},
   "source": [
    "Шкала графика выше вводит заблуждение, на самом деле количество посетителей меняется не так сильно от года в год. Чтобы убедиться в этом, посмотрим на bar-chart."
   ]
  },
  {
   "cell_type": "code",
   "execution_count": 33,
   "metadata": {},
   "outputs": [
    {
     "data": {
      "text/plain": [
       "<matplotlib.axes._subplots.AxesSubplot at 0x121dc7898>"
      ]
     },
     "execution_count": 33,
     "metadata": {},
     "output_type": "execute_result"
    },
    {
     "data": {
      "image/png": "[encoded data removed]",
      "text/plain": [
       "<Figure size 864x432 with 1 Axes>"
      ]
     },
     "metadata": {},
     "output_type": "display_data"
    }
   ],
   "source": [
    "visitors_df.groupby('Year').sum().plot(kind='bar', rot=0,figsize=(12,6))"
   ]
  },
  {
   "cell_type": "markdown",
   "metadata": {},
   "source": [
    "Что и требовалось доказать. Тем не менее, число посителей все же выросло в 2015 году. Теперь посмотрим на корреляции между веществеными признаками и целевой переменной."
   ]
  },
  {
   "cell_type": "code",
   "execution_count": 34,
   "metadata": {},
   "outputs": [
    {
     "data": {
      "image/png": "[encoded data removed]",
      "text/plain": [
       "<Figure size 864x432 with 2 Axes>"
      ]
     },
     "metadata": {},
     "output_type": "display_data"
    }
   ],
   "source": [
    "sns.set(rc={\"figure.figsize\": (12, 6)})\n",
    "sns.heatmap(train.corr(), vmin=0, vmax=1,annot=True, cmap=\"Blues\")\n",
    "plt.show()"
   ]
  },
  {
   "cell_type": "markdown",
   "metadata": {},
   "source": [
    "Как видно из графика, корреляция между вещественными признаками и целевой переменной достаточно слабая."
   ]
  },
  {
   "cell_type": "markdown",
   "metadata": {},
   "source": [
    "Изучим датасет на выбросы. Для этого построим пару графиков и попытаемся найти и интерпретировать выбросы."
   ]
  },
  {
   "cell_type": "code",
   "execution_count": 35,
   "metadata": {},
   "outputs": [
    {
     "data": {
      "text/plain": [
       "<matplotlib.axes._subplots.AxesSubplot at 0x12260ba20>"
      ]
     },
     "execution_count": 35,
     "metadata": {},
     "output_type": "execute_result"
    },
    {
     "data": {
      "image/png": "[encoded data removed]",
      "text/plain": [
       "<Figure size 864x432 with 1 Axes>"
      ]
     },
     "metadata": {},
     "output_type": "display_data"
    }
   ],
   "source": [
    "sns.set(rc={\"figure.figsize\": (12, 6)})\n",
    "sns.violinplot(x='Year', y=\"Visitors\", data=train, palette=\"muted\", split=True)"
   ]
  },
  {
   "cell_type": "code",
   "execution_count": 36,
   "metadata": {},
   "outputs": [
    {
     "data": {
      "image/png": "[encoded data removed]",
      "text/plain": [
       "<Figure size 864x432 with 1 Axes>"
      ]
     },
     "metadata": {},
     "output_type": "display_data"
    }
   ],
   "source": [
    "sns.set(rc={\"figure.figsize\": (12, 6)})\n",
    "plt.plot(train['Year'], train['Visitors'], 'r.')\n",
    "plt.show()"
   ]
  },
  {
   "cell_type": "markdown",
   "metadata": {},
   "source": [
    "Графики выше показывают, что у датасета есть выбросы, но необходимо изучить природу таких больших значений."
   ]
  },
  {
   "cell_type": "code",
   "execution_count": 37,
   "metadata": {},
   "outputs": [
    {
     "data": {
      "text/html": [
       "<div>\n",
       "<style scoped>\n",
       "    .dataframe tbody tr th:only-of-type {\n",
       "        vertical-align: middle;\n",
       "    }\n",
       "\n",
       "    .dataframe tbody tr th {\n",
       "        vertical-align: top;\n",
       "    }\n",
       "\n",
       "    .dataframe thead th {\n",
       "        text-align: right;\n",
       "    }\n",
       "</style>\n",
       "<table border=\"1\" class=\"dataframe\">\n",
       "  <thead>\n",
       "    <tr style=\"text-align: right;\">\n",
       "      <th></th>\n",
       "      <th>Gnis Id</th>\n",
       "      <th>Parkname</th>\n",
       "      <th>Region</th>\n",
       "      <th>State</th>\n",
       "      <th>Unit Code</th>\n",
       "      <th>Unit Name</th>\n",
       "      <th>Unit Type</th>\n",
       "      <th>Visitors</th>\n",
       "      <th>Year</th>\n",
       "      <th>PRIM_LAT_DEC</th>\n",
       "      <th>PRIM_LONG_DEC</th>\n",
       "    </tr>\n",
       "  </thead>\n",
       "  <tbody>\n",
       "    <tr>\n",
       "      <th>5923</th>\n",
       "      <td>1009494</td>\n",
       "      <td>Unknown</td>\n",
       "      <td>NT</td>\n",
       "      <td>NC</td>\n",
       "      <td>BLRI</td>\n",
       "      <td>Blue Ridge Parkway</td>\n",
       "      <td>Parkway</td>\n",
       "      <td>21538760</td>\n",
       "      <td>2002</td>\n",
       "      <td>36.436499</td>\n",
       "      <td>-81.070565</td>\n",
       "    </tr>\n",
       "    <tr>\n",
       "      <th>6274</th>\n",
       "      <td>1009494</td>\n",
       "      <td>Unknown</td>\n",
       "      <td>NT</td>\n",
       "      <td>NC</td>\n",
       "      <td>BLRI</td>\n",
       "      <td>Blue Ridge Parkway</td>\n",
       "      <td>Parkway</td>\n",
       "      <td>19969587</td>\n",
       "      <td>2001</td>\n",
       "      <td>36.436499</td>\n",
       "      <td>-81.070565</td>\n",
       "    </tr>\n",
       "    <tr>\n",
       "      <th>6624</th>\n",
       "      <td>1009494</td>\n",
       "      <td>Unknown</td>\n",
       "      <td>NT</td>\n",
       "      <td>NC</td>\n",
       "      <td>BLRI</td>\n",
       "      <td>Blue Ridge Parkway</td>\n",
       "      <td>Parkway</td>\n",
       "      <td>19153081</td>\n",
       "      <td>2000</td>\n",
       "      <td>36.436499</td>\n",
       "      <td>-81.070565</td>\n",
       "    </tr>\n",
       "    <tr>\n",
       "      <th>4487</th>\n",
       "      <td>1009494</td>\n",
       "      <td>Unknown</td>\n",
       "      <td>NT</td>\n",
       "      <td>NC</td>\n",
       "      <td>BLRI</td>\n",
       "      <td>Blue Ridge Parkway</td>\n",
       "      <td>Parkway</td>\n",
       "      <td>18953478</td>\n",
       "      <td>2006</td>\n",
       "      <td>36.436499</td>\n",
       "      <td>-81.070565</td>\n",
       "    </tr>\n",
       "    <tr>\n",
       "      <th>5570</th>\n",
       "      <td>1009494</td>\n",
       "      <td>Unknown</td>\n",
       "      <td>NT</td>\n",
       "      <td>NC</td>\n",
       "      <td>BLRI</td>\n",
       "      <td>Blue Ridge Parkway</td>\n",
       "      <td>Parkway</td>\n",
       "      <td>18344051</td>\n",
       "      <td>2003</td>\n",
       "      <td>36.436499</td>\n",
       "      <td>-81.070565</td>\n",
       "    </tr>\n",
       "  </tbody>\n",
       "</table>\n",
       "</div>"
      ],
      "text/plain": [
       "      Gnis Id Parkname Region State Unit Code           Unit Name Unit Type  \\\n",
       "5923  1009494  Unknown     NT    NC      BLRI  Blue Ridge Parkway   Parkway   \n",
       "6274  1009494  Unknown     NT    NC      BLRI  Blue Ridge Parkway   Parkway   \n",
       "6624  1009494  Unknown     NT    NC      BLRI  Blue Ridge Parkway   Parkway   \n",
       "4487  1009494  Unknown     NT    NC      BLRI  Blue Ridge Parkway   Parkway   \n",
       "5570  1009494  Unknown     NT    NC      BLRI  Blue Ridge Parkway   Parkway   \n",
       "\n",
       "      Visitors  Year  PRIM_LAT_DEC  PRIM_LONG_DEC  \n",
       "5923  21538760  2002     36.436499     -81.070565  \n",
       "6274  19969587  2001     36.436499     -81.070565  \n",
       "6624  19153081  2000     36.436499     -81.070565  \n",
       "4487  18953478  2006     36.436499     -81.070565  \n",
       "5570  18344051  2003     36.436499     -81.070565  "
      ]
     },
     "execution_count": 37,
     "metadata": {},
     "output_type": "execute_result"
    }
   ],
   "source": [
    "train.sort_values(by='Visitors', ascending=False).head(5)"
   ]
  },
  {
   "cell_type": "markdown",
   "metadata": {},
   "source": [
    "Самое большое количество посещений на протяжении всего периода 2000-2015 у Parkway, что вполне логично. Таким образом, большие значения объясняются природой данных."
   ]
  },
  {
   "cell_type": "markdown",
   "metadata": {},
   "source": [
    "Посмотрим на другие достопримечательности, которые собирают большое количество посетителей."
   ]
  },
  {
   "cell_type": "code",
   "execution_count": 38,
   "metadata": {},
   "outputs": [
    {
     "data": {
      "text/plain": [
       "array(['World War II Memorial', 'Great Smoky Mountains National Park',\n",
       "       'George Washington Memorial Parkway', 'Vietnam Veterans Memorial',\n",
       "       'Lincoln Memorial', 'Grand Canyon National Park',\n",
       "       'Lake Mead National Recreation Area',\n",
       "       'Golden Gate National Recreation Area',\n",
       "       'Gateway National Recreation Area', 'Natchez Trace Parkway',\n",
       "       'Chesapeake and Ohio Canal National Historical Park',\n",
       "       'Gulf Islands National Seashore',\n",
       "       'Delaware Water Gap National Recreation Area',\n",
       "       'Statue Of Liberty National Monument'], dtype=object)"
      ]
     },
     "execution_count": 38,
     "metadata": {},
     "output_type": "execute_result"
    }
   ],
   "source": [
    "pd.unique(train['Unit Name'].loc[(train['Visitors'] >= 5000000) & (train['Unit Name'] != 'Blue Ridge Parkway')])"
   ]
  },
  {
   "cell_type": "markdown",
   "metadata": {},
   "source": [
    "Названия объектов говорят сами за себя, они действительно набирают миллионы посетителей каждый год, поэтому причина больших значений вполне объяснима - природа данных."
   ]
  },
  {
   "cell_type": "markdown",
   "metadata": {},
   "source": [
    "#### Категориальные признаки"
   ]
  },
  {
   "cell_type": "markdown",
   "metadata": {},
   "source": [
    "В датасете 6 категориальных признаков. Один Parkname из них имеет пропуски, и кроме того, полные названия объектов представлены в признаке Unit Name. Таким образом, предлагается удалить этот признак. "
   ]
  },
  {
   "cell_type": "code",
   "execution_count": 39,
   "metadata": {},
   "outputs": [],
   "source": [
    "train.drop(['Parkname'], axis=1, inplace=True)\n",
    "test.drop(['Parkname'], axis=1, inplace=True)"
   ]
  },
  {
   "cell_type": "markdown",
   "metadata": {},
   "source": [
    "Теперь у нас 5 категориальных признаком. Посмотрим на количество уникальных категорий в каждом из них."
   ]
  },
  {
   "cell_type": "code",
   "execution_count": 40,
   "metadata": {},
   "outputs": [
    {
     "name": "stdout",
     "output_type": "stream",
     "text": [
      "8\n",
      "54\n",
      "371\n",
      "379\n",
      "28\n"
     ]
    }
   ],
   "source": [
    "print(len(pd.unique(df['Region'])))\n",
    "print(len(pd.unique(df['State'])))\n",
    "print(len(pd.unique(df['Unit Code'])))\n",
    "print(len(pd.unique(df['Unit Name'])))\n",
    "print(len(pd.unique(df['Unit Type'])))"
   ]
  },
  {
   "cell_type": "markdown",
   "metadata": {},
   "source": [
    "Предлагается, каждый такой признак преобразовать с помощью One-Hot кодирования."
   ]
  },
  {
   "cell_type": "markdown",
   "metadata": {},
   "source": [
    "###  Часть 4. Закономерности, \"инсайты\", особенности данных"
   ]
  },
  {
   "cell_type": "markdown",
   "metadata": {},
   "source": [
    "- В датасете есть пропуски - все они были решены\n",
    "- В датасете были обнаружены ошибки, допущенные в ходе сбора данных - все они были также решены\n",
    "- В датасете были выявлены выбросы, которые объясняются природой данных\n",
    "- Распределение целевой переменной не нормальное - преобразуем его в части Предобработка данных\n",
    "- Между целевой переменной и другими вещественными признаками была выявлена слабая корреляция. Таким образом, при построении модели будем делать акцент на категориальные признаки\n",
    "- В датасете 5 категориальных признаков, предалагется преобразовать их с помощью One-Hot Encoding"
   ]
  },
  {
   "cell_type": "markdown",
   "metadata": {},
   "source": [
    "###  Часть 5-6. Выбор метрики и модели"
   ]
  },
  {
   "cell_type": "markdown",
   "metadata": {},
   "source": [
    "В качестве метрики будем использовать r2_score (r_squared) - коэффициент детерминации. Под данной метрикой подразумевают долю дисперсии зависимой переменной, которая объясняется рассматриваемой моделью зависимости, то есть объясняющими переменными (признаками). \n",
    "Выбор обусловлен:\n",
    "- задачей регресии, т.к. данная метрика является универсальной мерой и идеально подходит для данной задачи\n",
    "- спецификой и особенностями данных"
   ]
  },
  {
   "cell_type": "markdown",
   "metadata": {},
   "source": [
    "В качестве модели будем использовать:\n",
    "- Ridge, т.к. одна из универсальных простых линейных моделей, необходимых для восстановления регрессии\n",
    "- CatBoostRegressor, т.к. данный датасет включает в себя большое количество категориальных признаков, с которыми CatBoost хорошо справляется"
   ]
  },
  {
   "cell_type": "markdown",
   "metadata": {},
   "source": [
    "###  Часть 7-8. Предобработка данных и создание новых признаков"
   ]
  },
  {
   "cell_type": "markdown",
   "metadata": {},
   "source": [
    "Некоторые признаки мы уже предобработали ранее. Далее предлагается удалить ненужный признак GNIS ID, т.к. сам по себе он не несет никакой информации, необходимой для модели, но с помощью него мы уже достали широту и долготу."
   ]
  },
  {
   "cell_type": "code",
   "execution_count": 41,
   "metadata": {},
   "outputs": [],
   "source": [
    "train.drop(['Gnis Id'], axis=1, inplace=True)\n",
    "test.drop(['Gnis Id'], axis=1, inplace=True)"
   ]
  },
  {
   "cell_type": "markdown",
   "metadata": {},
   "source": [
    "#### Целевой признак"
   ]
  },
  {
   "cell_type": "markdown",
   "metadata": {},
   "source": [
    "Как было отмечено ранее, распределение целевой переменной не прошло тест на нормальность. Поэтому необходимо попытаться сделать его близким к нормальному. Рассмотрим два метотда: логарифмирование и метод [Бокса-Кокса](http://www.machinelearning.ru/wiki/index.php?title=%D0%9C%D0%B5%D1%82%D0%BE%D0%B4_%D0%91%D0%BE%D0%BA%D1%81%D0%B0-%D0%9A%D0%BE%D0%BA%D1%81%D0%B0)"
   ]
  },
  {
   "cell_type": "markdown",
   "metadata": {},
   "source": [
    "Сначала применим первый метод - логарифмирование."
   ]
  },
  {
   "cell_type": "code",
   "execution_count": 42,
   "metadata": {},
   "outputs": [
    {
     "data": {
      "text/plain": [
       "<matplotlib.axes._subplots.AxesSubplot at 0x122b08438>"
      ]
     },
     "execution_count": 42,
     "metadata": {},
     "output_type": "execute_result"
    },
    {
     "data": {
      "image/png": "[encoded data removed]",
      "text/plain": [
       "<Figure size 720x432 with 1 Axes>"
      ]
     },
     "metadata": {},
     "output_type": "display_data"
    }
   ],
   "source": [
    "sns.set(rc={\"figure.figsize\": (10, 6)})\n",
    "fig = plt.figure()\n",
    "sns.distplot(np.log1p((df['Visitors'].values)), fit=stats.norm)"
   ]
  },
  {
   "cell_type": "code",
   "execution_count": 43,
   "metadata": {},
   "outputs": [
    {
     "name": "stdout",
     "output_type": "stream",
     "text": [
      "Скошенность: -0.994030\n",
      "Эксцесс: 3.823419\n"
     ]
    }
   ],
   "source": [
    "print(\"Скошенность: %f\" % stats.skew(np.log1p((df['Visitors'].values))))\n",
    "print(\"Эксцесс: %f\" % stats.kurtosis(np.log1p((df['Visitors'].values))))"
   ]
  },
  {
   "cell_type": "code",
   "execution_count": 44,
   "metadata": {},
   "outputs": [
    {
     "data": {
      "text/plain": [
       "NormaltestResult(statistic=1274.7241952395866, pvalue=1.5745557036437986e-277)"
      ]
     },
     "execution_count": 44,
     "metadata": {},
     "output_type": "execute_result"
    }
   ],
   "source": [
    "stats.normaltest(np.log1p((df['Visitors'].values)))"
   ]
  },
  {
   "cell_type": "markdown",
   "metadata": {},
   "source": [
    "Как видно из результатов теста на нормальность и графика, нам удалось сделать распределение более нормальным, но все еще присутствует скошенность и эксцесс. Применим второй метод - меттод Бокса-Кокса."
   ]
  },
  {
   "cell_type": "code",
   "execution_count": 45,
   "metadata": {},
   "outputs": [
    {
     "data": {
      "text/plain": [
       "(array([21.64911594, 19.43188089, 17.22290007, ..., 26.77411443,\n",
       "        28.65909602, 23.88624452]), 0.10030711941693501)"
      ]
     },
     "execution_count": 45,
     "metadata": {},
     "output_type": "execute_result"
    }
   ],
   "source": [
    "# добавим единицу к посетителям, т.к. для данного метода значения должны быть строго больше нуля \n",
    "stats.boxcox(df['Visitors'].values+1)"
   ]
  },
  {
   "cell_type": "code",
   "execution_count": 46,
   "metadata": {},
   "outputs": [
    {
     "data": {
      "text/plain": [
       "<matplotlib.axes._subplots.AxesSubplot at 0x122b21c18>"
      ]
     },
     "execution_count": 46,
     "metadata": {},
     "output_type": "execute_result"
    },
    {
     "data": {
      "image/png": "[encoded data removed]",
      "text/plain": [
       "<Figure size 720x432 with 1 Axes>"
      ]
     },
     "metadata": {},
     "output_type": "display_data"
    }
   ],
   "source": [
    "sns.set(rc={\"figure.figsize\": (10, 6)})\n",
    "fig = plt.figure()\n",
    "sns.distplot(stats.boxcox(train['Visitors'].values+1)[0], fit=stats.norm)"
   ]
  },
  {
   "cell_type": "code",
   "execution_count": 47,
   "metadata": {},
   "outputs": [
    {
     "data": {
      "text/plain": [
       "NormaltestResult(statistic=10.608746455401471, pvalue=0.00496981219307766)"
      ]
     },
     "execution_count": 47,
     "metadata": {},
     "output_type": "execute_result"
    }
   ],
   "source": [
    "stats.normaltest(stats.boxcox(train['Visitors'].values+1)[0])"
   ]
  },
  {
   "cell_type": "code",
   "execution_count": 48,
   "metadata": {},
   "outputs": [
    {
     "name": "stdout",
     "output_type": "stream",
     "text": [
      "Скошенность: 0.028024\n",
      "Эксцесс: 0.219869\n"
     ]
    }
   ],
   "source": [
    "print(\"Скошенность: %f\" % stats.skew(stats.boxcox(train['Visitors'].values+1)[0]))\n",
    "print(\"Эксцесс: %f\" % stats.kurtosis(stats.boxcox(train['Visitors'].values+1)[0]))"
   ]
  },
  {
   "cell_type": "markdown",
   "metadata": {},
   "source": [
    "В данном случае, метод Бокса-Кокса был более эффективен, поэтому преобразуем нашу целевую переменную с помощью этого метода. Также отделим целевую переменную от других признаков."
   ]
  },
  {
   "cell_type": "code",
   "execution_count": 49,
   "metadata": {},
   "outputs": [],
   "source": [
    "X_train, y_train = train.drop('Visitors', axis=1).values, stats.boxcox(train['Visitors'].values+1)[0]\n",
    "X_test, y_test = test.drop('Visitors', axis=1).values, stats.boxcox(test['Visitors'].values+1)[0]"
   ]
  },
  {
   "cell_type": "markdown",
   "metadata": {},
   "source": [
    "####  OHE для категориальных признаков "
   ]
  },
  {
   "cell_type": "markdown",
   "metadata": {},
   "source": [
    "Будем использовать готовые выборки (X_train, X_test) для CatBoostRegressor, т.к. он сам преобразует категориальные признаки. Для Ridge преобразуем категориальные признаки с помощью One-Hot Encoding. Напишем функцию для преобразования, а затем применим ее ко всем категоримальным признакам."
   ]
  },
  {
   "cell_type": "code",
   "execution_count": 50,
   "metadata": {},
   "outputs": [],
   "source": [
    "def ohe_encoder(column,dftype):\n",
    "    enc = OneHotEncoder(sparse=False)\n",
    "    label_encoder = LabelEncoder()\n",
    "\n",
    "\n",
    "    values = np.array(df['{}'.format(column)].values)\n",
    "    values_labeled = label_encoder.fit_transform(values)\n",
    "\n",
    "    enc.fit(values_labeled.reshape(len(values_labeled), 1))\n",
    "\n",
    "    if dftype == 'train':\n",
    "        df_labeled = label_encoder.transform(train['{}'.format(column)])\n",
    "    else:\n",
    "        df_labeled = label_encoder.transform(test['{}'.format(column)])\n",
    "    \n",
    "    \n",
    "    df_encoded = enc.transform(df_labeled.reshape(len(df_labeled), 1))\n",
    "    \n",
    "    return df_encoded"
   ]
  },
  {
   "cell_type": "code",
   "execution_count": 51,
   "metadata": {},
   "outputs": [
    {
     "name": "stdout",
     "output_type": "stream",
     "text": [
      "CPU times: user 107 ms, sys: 40.9 ms, total: 148 ms\n",
      "Wall time: 147 ms\n"
     ]
    }
   ],
   "source": [
    "%%time\n",
    "train_region_ohe = ohe_encoder(column='Region',dftype = 'train')\n",
    "train_state_ohe = ohe_encoder(column='State',dftype = 'train')\n",
    "train_ucode_ohe = ohe_encoder(column='Unit Code',dftype = 'train')\n",
    "train_uname_ohe = ohe_encoder(column='Unit Name',dftype = 'train')\n",
    "train_utype_ohe = ohe_encoder(column='Unit Type',dftype = 'train')"
   ]
  },
  {
   "cell_type": "code",
   "execution_count": 52,
   "metadata": {},
   "outputs": [
    {
     "name": "stdout",
     "output_type": "stream",
     "text": [
      "CPU times: user 53.3 ms, sys: 18.1 ms, total: 71.3 ms\n",
      "Wall time: 69.5 ms\n"
     ]
    }
   ],
   "source": [
    "%%time\n",
    "test_region_ohe = ohe_encoder(column='Region',dftype = 'test')\n",
    "test_state_ohe = ohe_encoder(column='State',dftype = 'test')\n",
    "test_ucode_ohe = ohe_encoder(column='Unit Code',dftype = 'test')\n",
    "test_uname_ohe = ohe_encoder(column='Unit Name',dftype = 'test')\n",
    "test_utype_ohe = ohe_encoder(column='Unit Type',dftype = 'test')"
   ]
  },
  {
   "cell_type": "markdown",
   "metadata": {},
   "source": [
    "Соединим все полученные признаки в два датасета train_stacked и test_stacked."
   ]
  },
  {
   "cell_type": "code",
   "execution_count": 53,
   "metadata": {},
   "outputs": [],
   "source": [
    "train_stacked = np.hstack([train_region_ohe,train_state_ohe,\n",
    "                           train_ucode_ohe,train_uname_ohe,\n",
    "                           train_utype_ohe,\n",
    "                           train[['Year', 'PRIM_LAT_DEC','PRIM_LONG_DEC']].values])\n",
    "test_stacked = np.hstack([test_region_ohe,test_state_ohe,\n",
    "                           test_ucode_ohe,test_uname_ohe,\n",
    "                           test_utype_ohe,\n",
    "                           test[['Year', 'PRIM_LAT_DEC','PRIM_LONG_DEC']].values])"
   ]
  },
  {
   "cell_type": "markdown",
   "metadata": {},
   "source": [
    "###  Часть 9. Кросс-валидация, подбор параметров"
   ]
  },
  {
   "cell_type": "markdown",
   "metadata": {},
   "source": [
    "#### Ridge Regression"
   ]
  },
  {
   "cell_type": "markdown",
   "metadata": {},
   "source": [
    "Для Ridge укажем различные значения для основного параметра alpha - порога регуляризации. Чем выше значение, тем сильнее регуляризация.\n",
    "Далее обучим GridSearchCV для выявления лучших параметров."
   ]
  },
  {
   "cell_type": "code",
   "execution_count": 54,
   "metadata": {},
   "outputs": [],
   "source": [
    "params = {'alpha' : [1,0.1,1e2,1e3,1e4]}"
   ]
  },
  {
   "cell_type": "code",
   "execution_count": 55,
   "metadata": {},
   "outputs": [
    {
     "name": "stdout",
     "output_type": "stream",
     "text": [
      "CPU times: user 5.25 s, sys: 572 ms, total: 5.83 s\n",
      "Wall time: 2.88 s\n"
     ]
    }
   ],
   "source": [
    "%%time\n",
    "linreg = Ridge()\n",
    "kf = KFold(n_splits=3, shuffle=True, random_state=17)\n",
    "linreg_cv = GridSearchCV(linreg, param_grid=params, scoring='r2', cv=kf)\n",
    "linreg_cv.fit(train_stacked, y_train)"
   ]
  },
  {
   "cell_type": "code",
   "execution_count": 56,
   "metadata": {},
   "outputs": [
    {
     "name": "stdout",
     "output_type": "stream",
     "text": [
      "Best parameters for Ridge:  {'alpha': 0.1}\n",
      "R2 score for Ridge:  0.95302\n"
     ]
    }
   ],
   "source": [
    "print('Best parameters for Ridge: ', linreg_cv.best_params_)\n",
    "print('R2 score for Ridge: ', round(linreg_cv.best_score_, 5))"
   ]
  },
  {
   "cell_type": "markdown",
   "metadata": {},
   "source": [
    "GridSearchCV показал лучшее значение порога регуляризации 0.1, его и будем использовать на тестовой выборке."
   ]
  },
  {
   "cell_type": "markdown",
   "metadata": {},
   "source": [
    "#### CatBoostRegressor"
   ]
  },
  {
   "cell_type": "markdown",
   "metadata": {},
   "source": [
    "Для CatBoostRegressor явно укажем какие из признаков являются категориальными (features). Кроме того, зададим различные значения для глубины дерева (depths) и количества итераций (iterations)."
   ]
  },
  {
   "cell_type": "code",
   "execution_count": 57,
   "metadata": {},
   "outputs": [],
   "source": [
    "features = [0,1,2,3,4]\n",
    "depths = [7,8,9,10]\n",
    "iterations = [250,300]"
   ]
  },
  {
   "cell_type": "markdown",
   "metadata": {},
   "source": [
    "Напишем собственную кастомную версию кросс-валидации для CatBoost и сравним резльтуты различных комбинаций параметров."
   ]
  },
  {
   "cell_type": "code",
   "execution_count": 59,
   "metadata": {},
   "outputs": [
    {
     "name": "stdout",
     "output_type": "stream",
     "text": [
      "Starting  1 training: depth - 7, iterations - 250\n",
      "1 fold score is:  0.8009938507549684\n",
      "2 fold score is:  0.7924750944218538\n",
      "3 fold score is:  0.7937114042105635\n",
      "Average score for 1 training is: 0.7957267831291285\n",
      "Done...\n",
      "\n",
      "Starting  2 training: depth - 7, iterations - 300\n",
      "1 fold score is:  0.8229480853664957\n",
      "2 fold score is:  0.8040085300003805\n",
      "3 fold score is:  0.8019022815432796\n",
      "Average score for 2 training is: 0.8096196323033853\n",
      "Done...\n",
      "\n",
      "Starting  3 training: depth - 8, iterations - 250\n",
      "1 fold score is:  0.806931231762744\n",
      "2 fold score is:  0.7918703657393145\n",
      "3 fold score is:  0.805451958142545\n",
      "Average score for 3 training is: 0.8014178518815345\n",
      "Done...\n",
      "\n",
      "Starting  4 training: depth - 8, iterations - 300\n",
      "1 fold score is:  0.8205620909099582\n",
      "2 fold score is:  0.7999209194789851\n",
      "3 fold score is:  0.8134460473465592\n",
      "Average score for 4 training is: 0.8113096859118342\n",
      "Done...\n",
      "\n",
      "Starting  5 training: depth - 9, iterations - 250\n",
      "1 fold score is:  0.8088629454366342\n",
      "2 fold score is:  0.7957526349280999\n",
      "3 fold score is:  0.7940084252307005\n",
      "Average score for 5 training is: 0.799541335198478\n",
      "Done...\n",
      "\n",
      "Starting  6 training: depth - 9, iterations - 300\n",
      "1 fold score is:  0.8249104698408186\n",
      "2 fold score is:  0.8053067963333306\n",
      "3 fold score is:  0.797582194161627\n",
      "Average score for 6 training is: 0.809266486778592\n",
      "Done...\n",
      "\n",
      "Starting  7 training: depth - 10, iterations - 250\n",
      "1 fold score is:  0.8100370394154366\n",
      "2 fold score is:  0.8028512700779417\n",
      "3 fold score is:  0.798828442497013\n",
      "Average score for 7 training is: 0.8039055839967971\n",
      "Done...\n",
      "\n",
      "Starting  8 training: depth - 10, iterations - 300\n",
      "1 fold score is:  0.8261965681653987\n",
      "2 fold score is:  0.8156749962863594\n",
      "3 fold score is:  0.8093751100515599\n",
      "Average score for 8 training is: 0.8170822248344393\n",
      "Done...\n",
      "\n"
     ]
    }
   ],
   "source": [
    "counter = 1\n",
    "for x in depths:\n",
    "    for y in iterations:\n",
    "        print('Starting  '+ str(counter) + ' training: depth - ' + str(x) + ', iterations - ' + str(y))\n",
    "        kf = KFold(n_splits=3,shuffle=True,random_state=17)\n",
    "        results = 0\n",
    "        fold = 1\n",
    "        for train_index, test_index in kf.split(X_train):\n",
    "            cat_train, cat_test = X_train[train_index], X_train[test_index]\n",
    "            train_labels, test_labels = y_train[train_index], y_train[test_index]\n",
    "\n",
    "\n",
    "            cat = CatBoostRegressor(depth=x,iterations=y,random_seed=17,logging_level='Silent')\n",
    "            cat.fit(cat_train, train_labels, cat_features=features)\n",
    "            cat_pred = cat.predict(cat_test)\n",
    "            \n",
    "            results += r2_score(test_labels, cat_pred)\n",
    "            print(fold, 'fold score is: ', r2_score(test_labels, cat_pred))\n",
    "            fold += 1\n",
    "        \n",
    "        print('Average score for',str(counter),'training is:',results/3)\n",
    "        print('Done...' + '\\n')\n",
    "        counter += 1"
   ]
  },
  {
   "cell_type": "markdown",
   "metadata": {},
   "source": [
    "Лучший резлуьтат (0.8170822248344393) на кросс-валидации показала модель с параметрами depth - 10, iterations - 300. Именно их будем использовать на тестовой выборке."
   ]
  },
  {
   "cell_type": "markdown",
   "metadata": {},
   "source": [
    "### Часть 10. Построение кривых валидации и обучения"
   ]
  },
  {
   "cell_type": "markdown",
   "metadata": {},
   "source": [
    "Построим кривые валидации для Ridge."
   ]
  },
  {
   "cell_type": "code",
   "execution_count": 60,
   "metadata": {},
   "outputs": [
    {
     "data": {
      "image/png": "[encoded data removed]",
      "text/plain": [
       "<Figure size 720x432 with 1 Axes>"
      ]
     },
     "metadata": {},
     "output_type": "display_data"
    }
   ],
   "source": [
    "plt.figure(figsize=(10,6))\n",
    "param_range = [1,0.1,1e2,1e3,1e4]\n",
    "train_scores, test_scores = validation_curve(\n",
    "    Ridge(), train_stacked, y_train, param_name='alpha', param_range=param_range,\n",
    "    cv=3, scoring=\"r2\")\n",
    "train_scores_mean = np.mean(train_scores, axis=1)\n",
    "train_scores_std = np.std(train_scores, axis=1)\n",
    "test_scores_mean = np.mean(test_scores, axis=1)\n",
    "test_scores_std = np.std(test_scores, axis=1)\n",
    "\n",
    "plt.title(\"Validation Curve with Ridge\")\n",
    "plt.xlabel(\"alpha\")\n",
    "plt.ylabel(\"Score\")\n",
    "plt.ylim(0.0, 1.1)\n",
    "lw = 2\n",
    "plt.semilogx(param_range, train_scores_mean, label=\"Training score\",\n",
    "             color=\"darkorange\", lw=lw)\n",
    "plt.fill_between(param_range, train_scores_mean - train_scores_std,\n",
    "                 train_scores_mean + train_scores_std, alpha=0.2,\n",
    "                 color=\"darkorange\", lw=lw)\n",
    "plt.semilogx(param_range, test_scores_mean, label=\"Cross-validation score\",\n",
    "             color=\"navy\", lw=lw)\n",
    "plt.fill_between(param_range, test_scores_mean - test_scores_std,\n",
    "                 test_scores_mean + test_scores_std, alpha=0.2,\n",
    "                 color=\"navy\", lw=lw)\n",
    "plt.legend(loc=\"best\")\n",
    "plt.show()"
   ]
  },
  {
   "cell_type": "markdown",
   "metadata": {},
   "source": [
    "Как мы видим из графика, кривые валидации с увеличением порога регуляризации alpha немного расходятся (справа-налево), это означает, что с увеличением alpha может наблюдаться переобучение. Теперь построим кривые обучения для Ridge."
   ]
  },
  {
   "cell_type": "code",
   "execution_count": 61,
   "metadata": {},
   "outputs": [
    {
     "data": {
      "image/png": "[encoded data removed]",
      "text/plain": [
       "<Figure size 720x432 with 1 Axes>"
      ]
     },
     "metadata": {},
     "output_type": "display_data"
    }
   ],
   "source": [
    "plt.figure(figsize=(10,6))\n",
    "\n",
    "train_sizes, train_scores, test_scores = learning_curve(\n",
    "        Ridge(), train_stacked, y_train, cv=3)\n",
    "train_scores_mean = np.mean(train_scores, axis=1)\n",
    "train_scores_std = np.std(train_scores, axis=1)\n",
    "test_scores_mean = np.mean(test_scores, axis=1)\n",
    "test_scores_std = np.std(test_scores, axis=1)\n",
    "plt.grid()\n",
    "\n",
    "plt.fill_between(train_sizes, train_scores_mean - train_scores_std,\n",
    "                     train_scores_mean + train_scores_std, alpha=0.1,\n",
    "                     color=\"r\")\n",
    "plt.fill_between(train_sizes, test_scores_mean - test_scores_std,\n",
    "                     test_scores_mean + test_scores_std, alpha=0.1, color=\"g\")\n",
    "plt.plot(train_sizes, train_scores_mean, 'o-', color=\"r\",\n",
    "             label=\"Training score\")\n",
    "plt.plot(train_sizes, test_scores_mean, 'o-', color=\"g\",\n",
    "             label=\"Cross-validation score\")\n",
    "\n",
    "\n",
    "plt.title(\"Validation Curve with Ridge\")\n",
    "plt.xlabel(\"Training examples\")\n",
    "plt.ylabel(\"Score\")\n",
    "plt.legend(loc=\"best\")\n",
    "\n",
    "\n",
    "plt.show()"
   ]
  },
  {
   "cell_type": "markdown",
   "metadata": {},
   "source": [
    "На графике видно, что с увеличением количества примеров. качества на валидации улучшается. Т.к. кривые обучения не сблизились в самом конце, необходимо добавить больше примеров обуччающей выборки."
   ]
  },
  {
   "cell_type": "markdown",
   "metadata": {},
   "source": [
    "###  Часть 11. Прогноз для тестовой выборки и Оценка модели с описанием выбранной метрики"
   ]
  },
  {
   "cell_type": "markdown",
   "metadata": {},
   "source": [
    "Теперь, когда у нас есть лучшие параметры, мы готовы обучить модели на тестовой выборке, т.е. предсказать количество посетителей национальных достопримечательностей США."
   ]
  },
  {
   "cell_type": "markdown",
   "metadata": {},
   "source": [
    "#### Ridge"
   ]
  },
  {
   "cell_type": "code",
   "execution_count": 62,
   "metadata": {},
   "outputs": [
    {
     "name": "stdout",
     "output_type": "stream",
     "text": [
      "CPU times: user 466 ms, sys: 72.7 ms, total: 538 ms\n",
      "Wall time: 374 ms\n"
     ]
    }
   ],
   "source": [
    "%%time\n",
    "ridge = Ridge(alpha=0.1)\n",
    "ridge.fit(train_stacked, y_train)\n",
    "ridge_pred = ridge.predict(test_stacked)"
   ]
  },
  {
   "cell_type": "code",
   "execution_count": 63,
   "metadata": {},
   "outputs": [
    {
     "data": {
      "text/plain": [
       "0.8711647097580936"
      ]
     },
     "execution_count": 63,
     "metadata": {},
     "output_type": "execute_result"
    }
   ],
   "source": [
    "r2_score(y_test, ridge_pred)"
   ]
  },
  {
   "cell_type": "markdown",
   "metadata": {},
   "source": [
    "Коэффициент детерминации достаточно высокий но сильно отличается от результата, показанного на кросс-валидации (0.95302)."
   ]
  },
  {
   "cell_type": "markdown",
   "metadata": {},
   "source": [
    "#### CatBoostRegressor"
   ]
  },
  {
   "cell_type": "code",
   "execution_count": 64,
   "metadata": {},
   "outputs": [
    {
     "name": "stdout",
     "output_type": "stream",
     "text": [
      "CPU times: user 28.9 s, sys: 1.53 s, total: 30.4 s\n",
      "Wall time: 8.96 s\n"
     ]
    }
   ],
   "source": [
    "%%time\n",
    "cat = CatBoostRegressor(depth=10, iterations=300,eval_metric='R2',logging_level='Silent')\n",
    "cat.fit(X_train, y_train, cat_features=features)\n",
    "cat_pred = cat.predict(X_test)"
   ]
  },
  {
   "cell_type": "code",
   "execution_count": 65,
   "metadata": {},
   "outputs": [
    {
     "data": {
      "text/plain": [
       "0.7529929633300172"
      ]
     },
     "execution_count": 65,
     "metadata": {},
     "output_type": "execute_result"
    }
   ],
   "source": [
    "r2_score(y_test, cat_pred)"
   ]
  },
  {
   "cell_type": "markdown",
   "metadata": {},
   "source": [
    "CatBoostRegressor показал себя хуже на тестовой выборке (0.7529929633300172), чем лучшая модель на валидации (0.8170822248344393). Вполне вероятно, что виной такой разницы может быть переобучение."
   ]
  },
  {
   "cell_type": "markdown",
   "metadata": {},
   "source": [
    "### Часть 12. Выводы "
   ]
  },
  {
   "cell_type": "markdown",
   "metadata": {},
   "source": [
    "В результате исследования, были построены две модели Ridge из sklearn и CatBoostRegressor из CatBoost.\n",
    "На тестовой выборке CatBoostRegressor (0.7529929633300172) показал результат хуже, чем Ridge (0.8711647097580936). Обе модели переобучаются. Если Ridge переобучается из-за высокого порога alpha, то для выяснения причин переобучения CatBoostRegressor потребуется более детальное исследование.\n",
    "Кривые обучения также показали, что необходимо добавить больше примеров для обучающей выборки.\n",
    "\n",
    "Предполагаемые улучшения:\n",
    "1. Избавление от переобучения\n",
    "2. Создание новых признаков из текущего датасета + можно привлечь сторонние дополнительные данные\n",
    "3. Тюнинг параметров, т.к. были расмотренны только основные параметры моделей.\n"
   ]
  },
  {
   "cell_type": "code",
   "execution_count": null,
   "metadata": {},
   "outputs": [],
   "source": []
  }
 ],
 "metadata": {
  "kernelspec": {
   "display_name": "Python 3",
   "language": "python",
   "name": "python3"
  },
  "language_info": {
   "codemirror_mode": {
    "name": "ipython",
    "version": 3
   },
   "file_extension": ".py",
   "mimetype": "text/x-python",
   "name": "python",
   "nbconvert_exporter": "python",
   "pygments_lexer": "ipython3",
   "version": "3.6.0"
  }
 },
 "nbformat": 4,
 "nbformat_minor": 1
}
