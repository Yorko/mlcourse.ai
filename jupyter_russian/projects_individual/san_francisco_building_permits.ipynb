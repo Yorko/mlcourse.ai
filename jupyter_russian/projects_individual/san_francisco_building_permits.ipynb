{
 "cells": [
  {
   "cell_type": "markdown",
   "metadata": {},
   "source": [
    "<img src='../../img/ods_stickers.jpg'>"
   ]
  },
  {
   "cell_type": "markdown",
   "metadata": {},
   "source": [
    "# <center> Индивидуальный проект по анализу данных"
   ]
  },
  {
   "cell_type": "markdown",
   "metadata": {},
   "source": [
    "## <center>Предсказание разрешения на строительные работы в San Francisco"
   ]
  },
  {
   "cell_type": "markdown",
   "metadata": {},
   "source": [
    "<div style=\"text-align: right\"> Автор материала: Фатыхов Тимур @FatykhovTimur </div>"
   ]
  },
  {
   "cell_type": "markdown",
   "metadata": {},
   "source": [
    "<img src='../../img/title_img.jpg'>"
   ]
  },
  {
   "cell_type": "markdown",
   "metadata": {},
   "source": [
    "### 1. Описание набора данных и признаков"
   ]
  },
  {
   "cell_type": "markdown",
   "metadata": {},
   "source": [
    "Этот набор данных содержит информацию обо всех типах строительных разрешений с 1 января 2013 года по 25 февраля 2018 (почти 200к записей). Это не обязательно должно быть разрешение на строительство нового здания, надо также получать одобрение на изменение фасада, этажности, количества составных частей здания. А также при проведении трубопроводов, электричества, изменении планировки. Если кто то загорелся желанием узнать поподробнее, то [вот ссылка](https://www.thespruce.com/what-is-a-building-permit-1398344) с более подробным описанием строительных разрешений. Вышесказанное означает, что какие то признаки в строках, ожидаемо, будут иметь значение **NaN**, так как если мы хотим построить здание, то его существующая этажность не то чтобы 0. Ее попросту нет, как и материалов из которых здание существует (ведь оно не существует - спасибо кэп). \n",
    "<br><br>\n",
    "Данные настоящие и обновляются каждую субботу, спасибо открытому порталу Сан-Франциско.  \n",
    "<br>\n",
    "**А зачем это все?** - по [некоторым данным](https://www.trulia.com/blog/trends/elasticity-2016/) несоответсвие спроса и предложения на рынке недвижимости связано с задержками на разрешение реализации строительных проектов. Банальная догадка: население выросло, надо снести парочку старых низких домов и построить новые. Пока получим разрешение на снос, а потом отдельное на строительство, а потом еще на проведение канализации и трубопровода - население выростет еще больше. Как бы было хорошо иметь систему, которая сама бы определяла дать разрешение или нет. \n",
    "<br>\n",
    "<br>\n",
    "Каждую запись можно рассматривать как заявку в городской департамент. То есть в ней присутствует дата подачи, дата исполнения строительных работ (если они исполнились в конечном итоге), адрес, информация о старом здании и о новом (например старое из дерева, 3 этажа, а хотим построить кирпичную 5-этажку). Но, как говорится лучше один разу увидеть, поэтому давайте лучше глянем поближе..."
   ]
  },
  {
   "cell_type": "code",
   "execution_count": null,
   "metadata": {},
   "outputs": [],
   "source": [
    "import pandas as pd \n",
    "import warnings\n",
    "import numpy as np\n",
    "from  matplotlib import pyplot as plt\n",
    "import seaborn as sns\n",
    "\n",
    "%matplotlib inline\n",
    "warnings.filterwarnings('ignore')"
   ]
  },
  {
   "cell_type": "markdown",
   "metadata": {},
   "source": [
    "[**Ссылка**](https://www.kaggle.com/aparnashastry/building-permit-applications-data/data) по которой можно найти данные"
   ]
  },
  {
   "cell_type": "code",
   "execution_count": null,
   "metadata": {},
   "outputs": [],
   "source": [
    "df = pd.read_csv('./data/Building_Permits.csv', sep=',')"
   ]
  },
  {
   "cell_type": "code",
   "execution_count": null,
   "metadata": {},
   "outputs": [],
   "source": [
    "df.info() "
   ]
  },
  {
   "cell_type": "markdown",
   "metadata": {},
   "source": [
    "Параметров очень много, как и их значений. Разберемся по порядку. Без паники. Сначала посмотрим ближе на самый интересный из всех: "
   ]
  },
  {
   "cell_type": "code",
   "execution_count": null,
   "metadata": {},
   "outputs": [],
   "source": [
    "# текущее состояние заявки\n",
    "# это и будет наш целевой признак\n",
    "df['Current Status'].value_counts() "
   ]
  },
  {
   "cell_type": "markdown",
   "metadata": {},
   "source": [
    " - complete - исполнено (дом построен, фасад покрашен, пожарная сигнализация установлена и тд)\n",
    " - issued - разрешение выдано\n",
    " - filed - заявка подана (на рассмотрении)\n",
    " - withdrawm - заявка отозвана (сам заявитель забрал)\n",
    " - canceled - отменена департаментом\n",
    " - expired - истек срок\n",
    " - approved - заявка утверждена\n",
    " - reinstated - восстановлена в правах\n",
    " - suspend - заморожена\n",
    " - revoked - аннулирована \n",
    " - plancheck - проверка плана (плана проведения трубопровода, например)\n",
    " - disapproved - заявка не одобрена\n",
    " - incomplete - проект не завершен\n",
    " - appeal - апелляция/обращение"
   ]
  },
  {
   "cell_type": "markdown",
   "metadata": {},
   "source": [
    "Глубоко вникать в определение этих терминов можно долго (и это, будем честны, требует знаний того, как устроена работа в подобных департаментах). Но видно что они разделены на две основных группы: заявка одобрена и не одобрена."
   ]
  },
  {
   "cell_type": "markdown",
   "metadata": {},
   "source": [
    "Ну а теперь время узнать, какие свойства можно будет использовать для предсказания судьб будущих заявок (**жирным**  выделены наиболее интересные для изучения, то есть те, что, возможно, будут **сильнее всего влиять на целевой признак**):"
   ]
  },
  {
   "cell_type": "markdown",
   "metadata": {},
   "source": [
    "- Permit Number - номер заявки\n",
    "- Permit Type - тип заявления (в виде числа)\n",
    "- **Permit Type Definition - пояснение предыдущего пунтка (соответствие описаний и чисел, рассмотрим чуть подробнее далее)**\n",
    "- Permit Creation Date - дата, в которую было выдан вердикт\n",
    "- Block - блок (адрес)\n",
    "- Lot - еще одна составляющая адреса\n",
    "- **Street Number - номер улицы**\n",
    "- Street Number Suffix - суффикс номера улицы (есть не у всех)\n",
    "- **Street Name - название улицы**\n",
    "- Street Suffix - суффикс названия улицы\n",
    "- Unit - блок здания (1, 2534, 1432)\n",
    "- Unit Suffix - суффикс блока (A, B, 4C)\n",
    "- **Description - причины подачи заявки, описание деталей (починка крыши, снос стен и тд)**\n",
    "- Current Status - статус заявки на данный момент (подробнее только что познакомились выше)\n",
    "- Current Status Date - день, в который заявка преобрела актуальный статус\n",
    "- **Filed Date - день подачи заявки**\n",
    "- **Issued Date - день публикования заявки (день когда ее рассмотрели)**\n",
    "- Completed Date - день, когда заявка исполнена (стены покрашены, проводка проведена, в общем работа сделана)\n",
    "- **First Construction Document Date - дата, на которую назначено строительство**\n",
    "- **Structural Notification - соблюдение некоторых юридических правил (значение Y - yes или NaN)**\n",
    "- **Number of Existing Stories - кол-во этажей в существующем здании**\n",
    "- **Number of Proposed Stories - кол-во предложенных в заявке этажей**\n",
    "- **Voluntary Soft-Story Retrofit - кол-во этажей, удовлетворяющее сейсмическим условиям**\n",
    "- **Fire Only Permit - предоставление противопожарной защиты (значение Y - yes или NaN)**\n",
    "- Permit Expiration Date - дата истечения срока разрешения на работы\n",
    "- **Estimated Cost - первоначальная оценка стоимости проекта**\n",
    "- **Revised Cost - пересмотренная оценка**\n",
    "- **Existing Use - назначение (использование) здания (гостиница, ресторан, жилой дом и тд)**\n",
    "- **Existing Units - кол-во составных частей объекта (один дом или кооператив из 30 домов, например)**\n",
    "- **Proposed Use - предложенное в заявке использование**\n",
    "- **Proposed Units - предложенное кол-во составных частей объекта**\n",
    "- **Plansets - кол-во планов, показывающих основную задумку проекта**\n",
    "- **TIDF Compliance - соответствие еще одному юридическому условию (значение Y - yes или NaN)**\n",
    "- Existing Construction Type - тип конструкции на момент подачи заявки в виде числа\n",
    "- **Existing Construction Type Description - описание предыдущего пункта (например, кирпич или дерево)**\n",
    "- Proposed Construction Type - предложенный тип конструкции\n",
    "- **Proposed Construction Type Description - описание предыдущего пунтка **\n",
    "- **Site Permit - разрешение на строительную площадку**\n",
    "- Supervisor District - район, к которому принадлежит объект (значение от 1 до 11)\n",
    "- **Neighborhoods - Analysis Boundaries - окрестности, к которым принадлежит объект (например, Linkoln Park, South Beach, Russian Hill...)**\n",
    "- Zipcode - индекс\n",
    "- Location - координаты (широта, долгота)\n",
    "- Record ID - ID записи в базе департамента"
   ]
  },
  {
   "cell_type": "markdown",
   "metadata": {},
   "source": [
    "___"
   ]
  },
  {
   "cell_type": "markdown",
   "metadata": {},
   "source": [
    "Наконец, рассмотрим какие типы запросов (разрешений) поступают в департамент:"
   ]
  },
  {
   "cell_type": "code",
   "execution_count": null,
   "metadata": {},
   "outputs": [],
   "source": [
    "df['Permit Type Definition'].value_counts() "
   ]
  },
  {
   "cell_type": "markdown",
   "metadata": {},
   "source": [
    "- otc alterations permit - *other-the-counter*, то есть внебиржевый, частный запрос (дядя Antony захотел провести электричество)\n",
    "- additions alterations or repairs - дополнения или ремонт\n",
    "- sign - erect - возведение постройки\n",
    "- new construction wood frame - новая конструкция с деревянной рамой (буду честен, что именно это значит - загадка. Перевел и понял как смог)\n",
    "- demolitions - снос\n",
    "- wall or painted sign - изменение внешнего вида стен (реклама, покраска фасада)\n",
    "- new construction - новое строительство\n",
    "- grade or quarry or fill or excavate - другое (оценка, копка карьера с целью добычи, насыпь/заполнение ямы, создание ямы)"
   ]
  },
  {
   "cell_type": "markdown",
   "metadata": {},
   "source": [
    "### 2. Первичный анализ данных"
   ]
  },
  {
   "cell_type": "markdown",
   "metadata": {},
   "source": [
    "Вернемся к целевому признаку *Current Status* и немного прорядим данные. Заявки, которые на момент работы с данными находятся в обработке, ничем не помогут нашей модели, которая будет определять: разрешать ли стройку или нет. Также, например, если заявитель отозвал свою заявку, то никакой информации о решении департамента мы не имеем. Следовательно, подобные записи можно удалить (помечены ниже красным). "
   ]
  },
  {
   "cell_type": "markdown",
   "metadata": {},
   "source": [
    " - complete - исполнено (дом построен, фасад покрашен, пожарная сигнализация установлена и тд)\n",
    " - issued - разрешение выдано\n",
    " - <font color='red'>filed - заявка подана </font> <font color='blue'> *(т.к. на рассмотрении)*</font>\n",
    " - <font color='red'>withdrawm - заявка отозвана </font> <font color='blue'> *(сам заявитель забрал)*</font>\n",
    " - canceled - отменена департаментом\n",
    " - <font color='red'>expired - истек срок </font> <font color='blue'> *(департамент не успел принять решение)*</font> \n",
    " - approved - заявка утверждена\n",
    " - reinstated - восстановлена в правах\n",
    " - suspend - заморожена\n",
    " - revoked - аннулирована \n",
    " - <font color='red'>plancheck - проверка плана (плана проведения трубопровода, например) </font> <font color='blue'> *(решение еще не принято)*</font> \n",
    " - <font color='red'>disapproved - заявка не одобрена</font> <font color='blue'> *(заявка неправильно оформлена)*</font> \n",
    " - incomplete - проект не завершен <font color='green'> (но, зато, одобрен)</font>\n",
    " - <font color='red'>appeal - апелляция/обращение </font> <font color='blue'> *(в принципе не имеет отношения к задаче)*</font> "
   ]
  },
  {
   "cell_type": "code",
   "execution_count": null,
   "metadata": {},
   "outputs": [],
   "source": [
    "df = df[(df['Current Status'] != 'filed') &\n",
    "       (df['Current Status'] != 'withdrawn') &\n",
    "       (df['Current Status'] != 'expired') &\n",
    "       (df['Current Status'] != 'plancheck') &\n",
    "       (df['Current Status'] != 'disapproved') &\n",
    "       (df['Current Status'] != 'appeal') ]"
   ]
  },
  {
   "cell_type": "markdown",
   "metadata": {},
   "source": [
    "Посмотрим на процентное соотношение классов между собой:"
   ]
  },
  {
   "cell_type": "code",
   "execution_count": null,
   "metadata": {},
   "outputs": [],
   "source": [
    "df['Current Status'].value_counts()/df.shape[0]*100 "
   ]
  },
  {
   "cell_type": "markdown",
   "metadata": {},
   "source": [
    "Видно, что распределение классов крайне не равномерное. "
   ]
  },
  {
   "cell_type": "markdown",
   "metadata": {},
   "source": [
    "Так как мы поставили перед собой задачу создать модель, которая принимает решение о выдаче разрешения на строительные работы, то **отобразим множество упомянутых выше классов на множество {0, 1}** где 0 - отказать в запросе, 1 - одобрить проект.\n",
    "<br>\n",
    "Определим следующие классы как отказ в выдаче разрешения: <font color='red'>cancelled, suspend, revoked.</font>\n",
    "<br>\n",
    "Определим следующие классы как одобрение проекта: <font color='green'>complete, issued, approved, reinstated, incomplete.</font>"
   ]
  },
  {
   "cell_type": "code",
   "execution_count": null,
   "metadata": {},
   "outputs": [],
   "source": [
    "df['Current Status'] = df['Current Status'].map({'cancelled': 0, 'suspend': 0, 'revoked': 0,\n",
    "                                                 'complete': 1, 'issued': 1, 'approved': 1, \n",
    "                                                 'reinstated': 1, 'incomplete': 1})"
   ]
  },
  {
   "cell_type": "code",
   "execution_count": null,
   "metadata": {},
   "outputs": [],
   "source": [
    "df['Current Status'] = df['Current Status'].astype('int64')"
   ]
  },
  {
   "cell_type": "code",
   "execution_count": null,
   "metadata": {},
   "outputs": [],
   "source": [
    "print('Распределение классов в процентах:')\n",
    "df['Current Status'].value_counts() /df.shape[0] * 100"
   ]
  },
  {
   "cell_type": "markdown",
   "metadata": {},
   "source": [
    "### 3. Первичный визуальный анализ данных"
   ]
  },
  {
   "cell_type": "markdown",
   "metadata": {},
   "source": [
    "<font size='5px' color='orange'>Ан нет... Пора спать, завтра важная пара с утра, а я с Новосибирска (+4 от Мск). Но можно же несколько баллов заработать за первые два пунтка все равно, так? :D \n",
    "<br><br>\n",
    "Если это дойдет до глаз читателей, то прошу прощения, за украденное время. Хорошего дня :)</font>"
   ]
  }
 ],
 "metadata": {
  "kernelspec": {
   "display_name": "Python 3",
   "language": "python",
   "name": "python3"
  },
  "language_info": {
   "codemirror_mode": {
    "name": "ipython",
    "version": 3
   },
   "file_extension": ".py",
   "mimetype": "text/x-python",
   "name": "python",
   "nbconvert_exporter": "python",
   "pygments_lexer": "ipython3",
   "version": "3.6.3"
  },
  "latex_envs": {
   "LaTeX_envs_menu_present": true,
   "autocomplete": true,
   "bibliofile": "biblio.bib",
   "cite_by": "apalike",
   "current_citInitial": 1,
   "eqLabelWithNumbers": true,
   "eqNumInitial": 1,
   "hotkeys": {
    "equation": "Ctrl-E",
    "itemize": "Ctrl-I"
   },
   "labels_anchors": false,
   "latex_user_defs": false,
   "report_style_numbering": false,
   "user_envs_cfg": false
  }
 },
 "nbformat": 4,
 "nbformat_minor": 2
}
