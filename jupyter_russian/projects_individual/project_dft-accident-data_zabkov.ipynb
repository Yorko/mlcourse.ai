{
 "cells": [
  {
   "cell_type": "markdown",
   "metadata": {},
   "source": [
    "### Описание решаемой задачи"
   ]
  },
  {
   "cell_type": "markdown",
   "metadata": {},
   "source": [
    "Согласно данным ассоциации безопасного вождения [1] (Association for Safe International Road Travel - ASIRT) каждый год в автомобильных авариях гибнет около 1.3 млн. человек (3287 в день) и около 20-50 миллионов становятся инвалидами. Среди прочих причин смертности автомобильные аварии являются 9 по счету, составляя 2.2% среди всего населения и больше 50% среди молодых людей возраста 15-29 лет. Затраты, связанные с автомобильными авариями, стоят некоторым странам 1-2% их годового ВВП. Анализ факторов, приводящих к летальности, может помочь выработать меры предупреждения летальных исходов.\n",
    "\n",
    "В данном проекте решается задача предсказания степени повреждений, полученных человеком, попавшим в автомобильную аварию (летальная и нелетальная - бинарная классификация). В качестве исходных данных используется dataset, составленный департаментом транспорта Англии [2] (Department for Transport). Датасет состоит из данных, собранных полицией Англии по всем автомобильным авариям. Форма, заполяемая полицией, называется Stats19 [3] и состоит из трех частей:\n",
    "* Общая информация об аварии - дата, время, место, видимость и пр.\n",
    "* Отдельная форма на каждый автомобиль, попавший в аварию - тип автомобиля, информация о водителе и др.\n",
    "* Отдельная форма на каждого пострадавшего - степень тяжести повреждений, в каком автомобиле находился, был ли пассажиром или водителем и др.  \n",
    "\n",
    "\n",
    "Более подробное описание признаков - ниже. Так как признаков много, будет описана только та их часть, которая использовалась в дальнейшем анализе. Расшифровка некоторых признаков бралась из [4].\n",
    "\n",
    "Ссылки:  \n",
    "[1] http://asirt.org/initiatives/informing-road-users/road-safety-facts/road-crash-statistics    \n",
    "[2] https://www.kaggle.com/silicon99/dft-accident-data  \n",
    "[3] http://mast.roadsafetyanalysis.org/wiki/index.php?title=STATS19  \n",
    "[4]https://assets.publishing.service.gov.uk/government/uploads/system/uploads/attachment_data/file/259012/rrcgb-quality-statement.pdf"
   ]
  },
  {
   "cell_type": "markdown",
   "metadata": {},
   "source": [
    "### Описание признаков \n",
    "\n",
    "#### Общая информация об аварии - файл Accidents0515.csv\n",
    "\n",
    "__Общая информация__:\n",
    "* Accident_Index - индивидуальный номер аварии \n",
    "* Accident_Severity - серьезность аварии аварии (1 - фатальная, 2 - серьезная, 3 - легкая)  \n",
    "* Number_of_Vehicles - число автомобилей (1-67)  \n",
    "* Number_of_Casualties - число пострадавших (1-93)  \n",
    "* Date - дата в формате MM/DD/YYYY  \n",
    "* Day_of_Week - день недели (1 - воскресенье, 7 - суббота)  \n",
    "* Time - время аварии  \n",
    "\n",
    "__Характеристика дорог__:\n",
    "\n",
    "* 1st_Road_Class - тип 1-ой дороги (1 - автомагистраль, 2 - A + автомагистраль, 3 - A, 4 - B, 5 - C, 6  - неклассифицированная дорога)  \n",
    "* Road_Type - тип движения (1 - кольцевое, 2 - односторонее, 3 - двусторонее, с разграниченными полосами, 6 - двусторонее с общей полосой, 7 - скользкая дорога, 9 - неизвестно, 12 - односторонняя и скользкая дорога)  \n",
    "* Speed_limit - ограничение скорости [mph]  \n",
    "* Junction_Detail - характеристика перекрестка (0 - нет перекрестка, 1 - круговое движение, 2 - миникольцо (используется для саморегуляции перекрестков), 3 - Т-образный перекресток, 5 - скользкая дорога, 6 - обычный перекресток, 7 - перекресток с более чем 4 ответвлениями, но не круговой, 8 - частная дорога или подъезд, 9 - другой тип перекрестка, -1 - нет информации)  \n",
    "* Junction_Control - чем контролируется перекресток (0 - нет перекрестка, 1 - регулировщик, 2 - светофор, 3 - стоп знак, 4 - знак \"уступи дорогу\" или самоконтролируемый, -1 - Data missing)  \n",
    "\n",
    "__Другое__  \n",
    "* Light_Conditions - уровень освещенности (1 - дневной свет, 4 - темнота, фонари горят, 5 - темнота, фонари не горят, 6 - темнота, нет фонарей, 7 - темнота, условия неизвестны)\n",
    "* Weather_Conditions - погодные условия (1 - нормальные, без сильного ветра, 2 - дождь, без сильного ветра, 3 - снег, без сильного ветра, 4 - нормальные, с сильным ветром, 5 - дождь, с сильным ветром, 6 - снег, с сильным ветром, 7 - сильный туман или дымка, 8 - другое, 9 - неизвестно)\n",
    "* Road_Surface_Conditions - состояние покрытия дороги (1 - сухое, 2 - влажное, 3 - снег, 4 - лед, 5 - более 3 см. воды)\n",
    "* Urban_or_Rural_Area - тип местности (1 - городская, 2 - сельская, 3 - не размечено)\n",
    "\n",
    "\n",
    "\n",
    "#### Общая информация об автомобилях - файл Vehicles0515.csv\n",
    "\n",
    "* Accident_Index - индивидуальный номер аварии\n",
    "* Vehicle_Reference - индивидуальный номер транспорта\n",
    "* Vehicle_Type - тип транспорта (1 - велосипед, 2 - мотоцикл 50сс и ниже, 3 - мотоцикл 50-125сс и ниже, 4 - мотоцикл 125-500сс, 5 - мотоцикл 500сс, 8 - такси или машина, взятая в аренду, 9 - машина, 10 - автобус 8-16 пассажиров, 11 - автобус с 17 и более пассажирами, 16 - лошадь, 17 - c/х транспорт, 18 - трамвай, 19 - грузовик до 3.5 тонн, 20 - грузовик от 3.5 до 7.5 тонн, 21 - грузовик более 7.5 тонн, 22 - транспорт для инвалидов (mobility scooter), 23 - электрический мотоцикл, 90 - другой вид транспорта, 97 - мотоцикл с неизвестным cc, 98 - грузовик с неизвестной грузоподъемностью, -1 - нет данных)\n",
    "* Vehicle_Manoeuvre - маневр автомобиля (расшифровка см. файл сontextCSVs/Vehicle_Manoeuvre.csv)\n",
    "* Vehicle_Location-Restricted_Lane (расшифровка см. файл сontextCSVs/Vehicle_Location.csv)\n",
    "* Junction_Location - нахождение транспорта относительно перекрестка (0 - нет перекрестка, 1 - приближался к перекрестку, 2 - покидал перекресток, 3 - покидал круговую дорогу, 4 - въезжал на круговую дорогу, 5 - съезжал с главной дороги, 6 - въезжал на главную дорогу, 7 - въезжал через вспомогательную дорогу, 8 - находился на середине перекрестка\n",
    "* 1st_Point_of_Impact - первая точка столкновения (0 - без столкновения, 1 - перед, 2 - зад, 3 - правый бок, 4 - левый бок)\n",
    "* Was_Vehicle_Left_Hand_Drive - был ли автомобиль леворуким (1 - да, 2 - нет)\n",
    "* Sex_of_Driver - пол водителя (1 - мужчина, 2 - женщина)\n",
    "* Age_of_Driver - возраст водителя\n",
    "* Engine_Capacity_(CC) - объем двигателя автомобиля в СС\n",
    "* Age_of_Vehicle - возраст автомобиля\n",
    "\n",
    "#### Общая информация о пострадавших  - файл Casualties0515.csv\n",
    "* Accident_Index - индивидуальный номер аварии\n",
    "* Vehicle_Reference - к какому автомобилю относится пострадавший\n",
    "* Casualty_Reference - индивидуальный номер пострадавшего\n",
    "* Casualty_Class - класс (1 - водитель, 2 - пассажир, 3 - пешеход)\n",
    "* Sex_of_Casualty - пол (1 - мужчина, 2 - женщина, -1 - неизвестно)\n",
    "* Age_of_Casualty - возраст (-1 - неизвестно)\n",
    "* Casualty_Severity - степень повреждений (1 - фатальная, 2 - серьезная, 3 - легкая)\n",
    "* Casualty_Type - тип пострадавшего (0 - пешеход, 1 - велосипедист, 9 - водитель или пассажир, далее см. файл сontextCSVs/Casualty_Type.csv)\n",
    "\n",
    "### target_variable - Casualty_Severity из Casualties0515.csv переведенная в два класса, 1 - фатальный исход, 2 - нет"
   ]
  },
  {
   "cell_type": "markdown",
   "metadata": {},
   "source": [
    "### Импортирование библиотек"
   ]
  },
  {
   "cell_type": "code",
   "execution_count": null,
   "metadata": {},
   "outputs": [],
   "source": [
    "import pandas as pd\n",
    "import numpy as np\n",
    "import seaborn as sns\n",
    "from tqdm import tqdm_notebook\n",
    "\n",
    "from sklearn.preprocessing import OneHotEncoder, Binarizer, StandardScaler\n",
    "from sklearn.model_selection import train_test_split\n",
    "from sklearn.base import BaseEstimator, TransformerMixin\n",
    "from sklearn.pipeline import Pipeline, FeatureUnion, make_pipeline, make_union\n",
    "from sklearn.linear_model import LogisticRegression\n",
    "from sklearn.model_selection import GridSearchCV, StratifiedKFold\n",
    "from sklearn.metrics import roc_auc_score\n",
    "\n",
    "import os\n",
    "\n",
    "import seaborn as sns\n",
    "import matplotlib.pyplot as plt\n",
    "\n",
    "sns.set()\n",
    "sns.set_context(\n",
    "    \"notebook\", \n",
    "    font_scale = 1.5,       \n",
    "    rc = { \n",
    "        \"figure.figsize\" : (12, 9), \n",
    "        \"axes.titlesize\" : 18 \n",
    "    }\n",
    ")"
   ]
  },
  {
   "cell_type": "code",
   "execution_count": null,
   "metadata": {},
   "outputs": [],
   "source": [
    "# Создадим функцию возвращающую полный путь\n",
    "localpath = '~/Projects/data/uk'\n",
    "\n",
    "def full_path(filename):\n",
    "    return os.path.join(localpath, filename)"
   ]
  },
  {
   "cell_type": "markdown",
   "metadata": {},
   "source": [
    "### Предобработка файлов с данными\n",
    "В файлах Casualties0515.csv и Vehicles0515.csv имеются строки с одной дополнительной записью. Это мешает их нормальному считыванию с помощью pd.read_csv. Проведенный анализ показал, что эти записи являются лишними и их можно обрезать. Делаем это с помощью утилиты cut."
   ]
  },
  {
   "cell_type": "code",
   "execution_count": null,
   "metadata": {},
   "outputs": [],
   "source": [
    "preprocess_files = False # поменять на True при первом запуске\n",
    "\n",
    "if preprocess_files:\n",
    "    filename = full_path('Casualties0515.csv')\n",
    "    filename_fixed = full_path('Casualties0515_fixed.csv')\n",
    "    !cut -d ',' -f 16 --complement $filename > $filename_fixed\n",
    "    \n",
    "    filename = full_path('Vehicles0515.csv')\n",
    "    filename_fixed = full_path('Vehicles0515_fixed.csv')\n",
    "    !cut -d ',' -f 23 --complement $filename > $filename_fixed"
   ]
  },
  {
   "cell_type": "markdown",
   "metadata": {},
   "source": [
    "### Загрузка файлов с данными"
   ]
  },
  {
   "cell_type": "code",
   "execution_count": null,
   "metadata": {},
   "outputs": [],
   "source": [
    "##\n",
    "df_accidents = pd.read_csv(full_path('Accidents0515.csv'))\n",
    "df_accidents = df_accidents.rename(columns = \n",
    "                                   {'Local_Authority_(District)':'Local_Authority_District',\n",
    "                                    'Local_Authority_(Highway)':'Local_Authority_Highway'})\n",
    "\n",
    "df_casualties = pd.read_csv(full_path('Casualties0515_fixed.csv'))\n",
    "df_vehicles = pd.read_csv(full_path('Vehicles0515_fixed.csv'))\n",
    "print(df_accidents.shape[0], df_vehicles.shape[0], df_casualties.shape[0])"
   ]
  },
  {
   "cell_type": "markdown",
   "metadata": {},
   "source": [
    "Всего имеется информация о 1780653 происшествиях, в которых было задействовано 3262270 единиц транспорта и 2402909 пострадавших людей."
   ]
  },
  {
   "cell_type": "markdown",
   "metadata": {},
   "source": [
    "## Чистка данных и добавление новых признаков"
   ]
  },
  {
   "cell_type": "code",
   "execution_count": null,
   "metadata": {},
   "outputs": [],
   "source": [
    "# Функция для вывода уникальных значаний столбца и количество элементов с NaN\n",
    "def analyze_column(df, col):\n",
    "    cv = df[col].value_counts()\n",
    "    nan_el = df[col].isnull().sum()\n",
    "    return cv, nan_el\n",
    "\n",
    "# Замена одного значения колонки на другое\n",
    "def replace_column_value(df, col, old_value, new_value):\n",
    "    flt = df[col] == old_value\n",
    "    df.loc[flt, col] = new_value   \n",
    "    \n",
    "# Замена значений по фильтру или со значением col = -1 на медиану    \n",
    "def replace_nan_with_median(df, col, flt=None, add_col_error=True):\n",
    "    if flt is None:\n",
    "        flt = df.loc[:, col] == -1\n",
    "    median = round(df.loc[~flt, col].median())\n",
    "    df.loc[flt, col] = median\n",
    "    if add_col_error:\n",
    "        df[col + '_er'] = flt.astype(int)   "
   ]
  },
  {
   "cell_type": "markdown",
   "metadata": {},
   "source": [
    "### df_accidents"
   ]
  },
  {
   "cell_type": "code",
   "execution_count": null,
   "metadata": {
    "code_folding": []
   },
   "outputs": [],
   "source": [
    "##\n",
    "'''\n",
    "Junction_Detail - 19 записей со значением -1 (нет информации) \n",
    "заменяем на 0 - нет перекрестка, так как таких значений большинство (716544)\n",
    "'''\n",
    "replace_column_value(df_accidents, 'Junction_Detail', -1, 0)\n",
    "\n",
    "'''\n",
    "Junction_Control - 641392 (36%) записи со значением -1 (нет информации) \n",
    "выделяем в новый класс 5. -1 нельзя оставить так как OneHotEncoder не работает \n",
    "с отрицательными значениями. Заменить на другой класс тажке нельзя, так как слишком большой\n",
    "процент пропусков.\n",
    "'''\n",
    "replace_column_value(df_accidents, 'Junction_Control', -1, 5)\n",
    "\n",
    "'''\n",
    "Weather_Conditions - 131 запись со значением -1 (нет информации) добавляем\n",
    "в класс 9 - нет информации\n",
    "'''\n",
    "replace_column_value(df_accidents, 'Weather_Conditions', -1, 9)\n",
    "\n",
    "'''\n",
    "Road_Surface_Conditions - 2439 записей со значением -1 (нет информации) \n",
    "заменяем на 1 - сухая дорога (69% случаев)\n",
    "'''\n",
    "replace_column_value(df_accidents, 'Road_Surface_Conditions', -1, 1)\n",
    "\n",
    "\n",
    "'''\n",
    "Urban_or_Rural_Area - 143 записи со значением 3 (нет информации) \n",
    "заменяем на 1 - городская местность (64% случаев)\n",
    "'''\n",
    "replace_column_value(df_accidents, 'Urban_or_Rural_Area', 3, 1)"
   ]
  },
  {
   "cell_type": "code",
   "execution_count": null,
   "metadata": {
    "code_folding": []
   },
   "outputs": [],
   "source": [
    "##\n",
    "acc_qualitative = [\n",
    "    'Day_of_Week', \n",
    "    '1st_Road_Class', \n",
    "    'Road_Type',\n",
    "    'Junction_Detail',\n",
    "    'Junction_Control',\n",
    "    'Light_Conditions',\n",
    "    'Weather_Conditions',\n",
    "    'Road_Surface_Conditions',\n",
    "    'Urban_or_Rural_Area',\n",
    "    'Speed_limit',\n",
    "]\n",
    "\n",
    "\n",
    "acc_quantative = [\n",
    "    \n",
    "]"
   ]
  },
  {
   "cell_type": "markdown",
   "metadata": {},
   "source": [
    "### df_vehicles"
   ]
  },
  {
   "cell_type": "code",
   "execution_count": null,
   "metadata": {
    "code_folding": []
   },
   "outputs": [],
   "source": [
    "##\n",
    "'''\n",
    "Vehicle_Type - 531 запись со значением -1 (нет информации) \n",
    "заменяем на 9 - автомобиль, так как таких значений большинство 73%\n",
    "'''\n",
    "replace_column_value(df_vehicles, 'Vehicle_Type', -1, 9)\n",
    "\n",
    "'''\n",
    "Vehicle_Manoeuvre - 1225 записей со значением -1 (нет информации) \n",
    "заменяем на 18 - ехал впереди, так как таких значений большинство 47%\n",
    "'''\n",
    "replace_column_value(df_vehicles, 'Vehicle_Manoeuvre', -1, 18)\n",
    "\n",
    "\n",
    "'''\n",
    "Vehicle_Location-Restricted_Lane - 211 записей со значением -1 (нет информации) \n",
    "заменяем на 0 - на дороге, вне запрещенной зоны, так как таких значений большинство 97%\n",
    "'''\n",
    "replace_column_value(df_vehicles, 'Vehicle_Location-Restricted_Lane', -1, 0)\n",
    "\n",
    "\n",
    "'''\n",
    "Junction_Location - 9943 записи со значением -1 (нет информации) \n",
    "заменяем на 0 - не на перекрестке, так как таких значений большинство 38%\n",
    "'''\n",
    "replace_column_value(df_vehicles, 'Junction_Location', -1, 0)\n",
    "\n",
    "'''\n",
    "1st_Point_of_Impact - 727 записей со значением -1 (нет информации) \n",
    "заменяем на 1 - переднее столкновение, так как таких значений большинство 49%\n",
    "'''\n",
    "replace_column_value(df_vehicles, '1st_Point_of_Impact', -1, 1)\n",
    "\n",
    "'''\n",
    "Was_Vehicle_Left_Hand_Drive? - 24068 записей со значением -1 (нет информации) \n",
    "заменяем на 1 - да, так как таких значений большинство 98%\n",
    "'''\n",
    "replace_column_value(df_vehicles, 'Was_Vehicle_Left_Hand_Drive?', -1, 1)\n",
    "\n",
    "'''\n",
    "Sex_of_Driver - 52 записи со значением -1 (нет информации) \n",
    "заменяем на 3 - неизвестно\n",
    "'''\n",
    "replace_column_value(df_vehicles, 'Sex_of_Driver', -1, 3)\n",
    "\n",
    "\n",
    "'''\n",
    "Age_of_Driver - записи со значением возраста меньше 6 (ошибки) и -1 (неизвестно) заменим\n",
    "на медиану по остальным. Добавим новый признак, что была ошибка в указании возраста водителяя.\n",
    "'''\n",
    "flt_age = df_vehicles.loc[:, 'Age_of_Driver'] < 6\n",
    "replace_nan_with_median(df_vehicles, 'Age_of_Driver', flt_age)\n",
    "\n",
    "'''\n",
    "Engine_Capacity_(CC) - записи со значением объема -1 (неизвестно) заменим\n",
    "на медиану по остальным. Добавим новый признак, что была ошибка в указании объема двигателя.\n",
    "'''\n",
    "replace_nan_with_median(df_vehicles, 'Engine_Capacity_(CC)')\n",
    "\n",
    "'''\n",
    "Age_of_Vehicle - записи со значением возраста автомобиля -1 (неизвестно) заменим\n",
    "на медиану по остальным. Добавим новый признак, что была ошибка в указании \n",
    "возраста автомобиля.\n",
    "'''\n",
    "replace_nan_with_median(df_vehicles, 'Age_of_Vehicle')"
   ]
  },
  {
   "cell_type": "code",
   "execution_count": null,
   "metadata": {
    "code_folding": [
     1
    ]
   },
   "outputs": [],
   "source": [
    "##\n",
    "veh_qualitative = [\n",
    "    'Vehicle_Type', \n",
    "    'Vehicle_Manoeuvre',\n",
    "    'Vehicle_Location-Restricted_Lane',\n",
    "    'Junction_Location',\n",
    "    '1st_Point_of_Impact',\n",
    "    'Was_Vehicle_Left_Hand_Drive?',\n",
    "    'Sex_of_Driver',\n",
    "    'Age_of_Driver_er',\n",
    "    'Engine_Capacity_(CC)_er',\n",
    "    'Age_of_Vehicle_er',   \n",
    "]\n",
    "\n",
    "veh_quantative = [\n",
    "    'Age_of_Driver',\n",
    "    'Engine_Capacity_(CC)',\n",
    "    'Age_of_Vehicle',\n",
    "]"
   ]
  },
  {
   "cell_type": "markdown",
   "metadata": {},
   "source": [
    "### df_casualties"
   ]
  },
  {
   "cell_type": "code",
   "execution_count": null,
   "metadata": {
    "code_folding": []
   },
   "outputs": [],
   "source": [
    "##\n",
    "'''\n",
    "Sex_of_Casualty - 691 запись со значением -1 (нет информации) \n",
    "заменяем на 1 - мужчина, так как таких значений большинство - 58%\n",
    "'''\n",
    "replace_column_value(df_casualties, 'Sex_of_Casualty', -1, 1)\n",
    "\n",
    "\n",
    "'''\n",
    "Age_of_Casualty - записи со значением возраста -1 (неизвестно) заменим\n",
    "на медиану по остальным. Добавим новый признак, что была ошибка в указании возраста.\n",
    "'''\n",
    "replace_nan_with_median(df_casualties, 'Age_of_Casualty')"
   ]
  },
  {
   "cell_type": "code",
   "execution_count": null,
   "metadata": {
    "code_folding": []
   },
   "outputs": [],
   "source": [
    "##\n",
    "cas_qualitative = [\n",
    "    'Casualty_Severity',\n",
    "    'Casualty_Class', \n",
    "    'Sex_of_Casualty',\n",
    "    'Age_of_Casualty_er',\n",
    "]\n",
    "\n",
    "cas_quantative = [\n",
    "    'Age_of_Casualty',\n",
    "]"
   ]
  },
  {
   "cell_type": "markdown",
   "metadata": {},
   "source": [
    "## Формируем единый dataset\n",
    "Объединяем 3 датафрейма по Accident_Index и Vehicle_Reference"
   ]
  },
  {
   "cell_type": "code",
   "execution_count": null,
   "metadata": {},
   "outputs": [],
   "source": [
    "veh_id = ['Accident_Index', 'Vehicle_Reference']\n",
    "\n",
    "# Копируем лист пострадавших\n",
    "cas_col = cas_quantative + cas_qualitative + veh_id\n",
    "veh_col = veh_qualitative + veh_quantative + veh_id\n",
    "acc_col = acc_qualitative + acc_quantative + ['Accident_Index']\n",
    "\n",
    "\n",
    "df_cas = df_casualties[cas_col].copy()\n",
    "df_veh = df_vehicles[veh_col].copy()\n",
    "df_acc = df_accidents[acc_col].copy()\n",
    "\n",
    "df_tmp = df_cas.merge(df_veh, on = veh_id)\n",
    "df = df_tmp.merge(df_acc, on = 'Accident_Index')\n",
    "df.drop(columns=veh_id, inplace=True)"
   ]
  },
  {
   "cell_type": "markdown",
   "metadata": {},
   "source": [
    "Создадим target variable - имел ли место летальный исход для пострадавшего."
   ]
  },
  {
   "cell_type": "code",
   "execution_count": null,
   "metadata": {},
   "outputs": [],
   "source": [
    "df['target'] = Binarizer(threshold=1.5).transform(df.Casualty_Severity.values.reshape(-1, 1)).ravel()\n",
    "df.target.value_counts()"
   ]
  },
  {
   "cell_type": "markdown",
   "metadata": {},
   "source": [
    "### Первичный анализ данных, визуальный анализ данных и добавление новых признаков\n",
    "Большинство признаков являются качественными. \n",
    "Будем исследовать их распределение в зависимости от значения target variable."
   ]
  },
  {
   "cell_type": "code",
   "execution_count": null,
   "metadata": {},
   "outputs": [],
   "source": [
    "def plot_qual(xx, hh):\n",
    "    df_plot = df.groupby([xx])[hh] \\\n",
    "            .value_counts(normalize=True)  \\\n",
    "            .rename('%').mul(100).reset_index()\n",
    "\n",
    "    plt.figure(figsize=(10, 6))        \n",
    "    ax = sns.barplot(x=xx, y='%', hue=hh, data=df_plot)\n",
    "    ax.set_xticklabels(('Fatal', 'NonFatal'))"
   ]
  },
  {
   "cell_type": "code",
   "execution_count": null,
   "metadata": {},
   "outputs": [],
   "source": [
    "xx = 'target'\n",
    "hh = 'Casualty_Class'\n",
    "plot_qual(xx, hh)"
   ]
  },
  {
   "cell_type": "markdown",
   "metadata": {},
   "source": [
    "Видно, что среди летальных исходов доля пешеходов больше, а пассажиров меньше, чем среди не летальных."
   ]
  },
  {
   "cell_type": "code",
   "execution_count": null,
   "metadata": {},
   "outputs": [],
   "source": [
    "xx = 'target'\n",
    "hh = 'Vehicle_Type'\n",
    "plot_qual(xx, hh)"
   ]
  },
  {
   "cell_type": "markdown",
   "metadata": {},
   "source": [
    "Тут ясности нет, так как классов очень много. Создадим отдельную переменную, в которой объединим все мотоциклы и все грузовые автомобили."
   ]
  },
  {
   "cell_type": "code",
   "execution_count": null,
   "metadata": {},
   "outputs": [],
   "source": [
    "flt1 = df.Vehicle_Type.isin([1, 2, 3, 4, 5, 23, 97]) # мотоциклы\n",
    "flt2 = df.Vehicle_Type.isin([8, 9]) # автомобили\n",
    "flt3 = df.Vehicle_Type.isin([19, 20, 21, 98]) # грузовики\n",
    "df['Vehicle_Type_simple'] = df.Vehicle_Type.copy()\n",
    "df.loc[flt1, 'Vehicle_Type_simple'] = 1\n",
    "df.loc[flt2, 'Vehicle_Type_simple'] = 2\n",
    "df.loc[flt3, 'Vehicle_Type_simple'] = 3\n",
    "df.loc[~(flt1 | flt2 | flt3), 'Vehicle_Type_simple'] = 4\n",
    "df.Vehicle_Type_simple.value_counts()"
   ]
  },
  {
   "cell_type": "code",
   "execution_count": null,
   "metadata": {},
   "outputs": [],
   "source": [
    "xx = 'target'\n",
    "hh = 'Vehicle_Type_simple'\n",
    "plot_qual(xx, hh)"
   ]
  },
  {
   "cell_type": "markdown",
   "metadata": {},
   "source": [
    "Теперь видно, что среди смертельных исходов доля мотоциклов и грузовиков выше, а обычных машин\n",
    "и остального вида транспорта меньше."
   ]
  },
  {
   "cell_type": "code",
   "execution_count": null,
   "metadata": {},
   "outputs": [],
   "source": [
    "xx = 'target'\n",
    "hh = 'Light_Conditions'\n",
    "plot_qual(xx, hh)"
   ]
  },
  {
   "cell_type": "markdown",
   "metadata": {},
   "source": [
    "Как можно было ожидать, днем доля смертельных исходов меньше, а ночью без дополнительного освещения - существенно больше."
   ]
  },
  {
   "cell_type": "code",
   "execution_count": null,
   "metadata": {},
   "outputs": [],
   "source": [
    "xx = 'target'\n",
    "hh = 'Weather_Conditions'\n",
    "plot_qual(xx, hh)"
   ]
  },
  {
   "cell_type": "code",
   "execution_count": null,
   "metadata": {},
   "outputs": [],
   "source": [
    "xx = 'target'\n",
    "hh = 'Road_Surface_Conditions'\n",
    "plot_qual(xx, hh)"
   ]
  },
  {
   "cell_type": "markdown",
   "metadata": {},
   "source": [
    "Видно, что погода и дорожные условия также оказывают влияние на потенциальный исход. Дальше посмотрим на параметры, связанные с движением транспорта."
   ]
  },
  {
   "cell_type": "code",
   "execution_count": null,
   "metadata": {},
   "outputs": [],
   "source": [
    "xx = 'target'\n",
    "hh = 'Vehicle_Manoeuvre'\n",
    "plot_qual(xx, hh)"
   ]
  },
  {
   "cell_type": "code",
   "execution_count": null,
   "metadata": {},
   "outputs": [],
   "source": [
    "xx = 'target'\n",
    "hh = '1st_Point_of_Impact'\n",
    "plot_qual(xx, hh)"
   ]
  },
  {
   "cell_type": "markdown",
   "metadata": {},
   "source": [
    "Видно, что меньше всего смертельных исходов в транспорте, для которого столкновение заднее, и больше всего - для которого оно переднее."
   ]
  },
  {
   "cell_type": "code",
   "execution_count": null,
   "metadata": {},
   "outputs": [],
   "source": [
    "xx = 'target'\n",
    "hh = 'Sex_of_Driver'\n",
    "plot_qual(xx, hh)"
   ]
  },
  {
   "cell_type": "markdown",
   "metadata": {},
   "source": [
    "Видно, что доля смертельных исходов меньше в случае, когда водитель - женщина. Теперь рассмотрим количественные признаки."
   ]
  },
  {
   "cell_type": "code",
   "execution_count": null,
   "metadata": {},
   "outputs": [],
   "source": [
    "plt.figure(figsize=(10, 6)) \n",
    "ax = sns.violinplot(x=\"target\", y=\"Age_of_Driver\", hue='target',\n",
    "               data=df, palette=\"muted\", split=True)\n",
    "ax.set_xticklabels(('Fatal', 'NonFatal'))"
   ]
  },
  {
   "cell_type": "code",
   "execution_count": null,
   "metadata": {},
   "outputs": [],
   "source": [
    "plt.figure(figsize=(10, 6)) \n",
    "ax = sns.violinplot(x=\"target\", y=\"Age_of_Casualty\", hue='target',\n",
    "               data=df, palette=\"muted\", split=True)\n",
    "ax.set_xticklabels(('Fatal', 'NonFatal'))"
   ]
  },
  {
   "cell_type": "markdown",
   "metadata": {},
   "source": [
    "Видим, что мода возрастов водителей, попадающих в аварию, а также остальных участников\n",
    "дорожного движения составляет 20 лет."
   ]
  },
  {
   "cell_type": "markdown",
   "metadata": {},
   "source": [
    "## Выбор метрики и модели\n",
    "Мы решаем задачу бинарной классификации, при этом классы сильно не сбалансированы (2378107 против 24802). Поэтому в качестве базовой метрики будем использовать ROC-AUC.\n",
    "\n",
    "В качестве модели будем использовать логистическую регрессию, так как линейные модели хорошо подходят, когда имеется большое количество признаков, которое возникнет при OneHotEncoding. Кроме того, линейные модели достаточно хорошо интерпретируются с точки зрения важности параметров."
   ]
  },
  {
   "cell_type": "markdown",
   "metadata": {},
   "source": [
    "Сделаем отложенную выборку."
   ]
  },
  {
   "cell_type": "code",
   "execution_count": null,
   "metadata": {},
   "outputs": [],
   "source": [
    "Xdf = df.copy()\n",
    "y = Xdf.target\n",
    "Xdf.drop(columns=['target', 'Casualty_Severity'], inplace=True)"
   ]
  },
  {
   "cell_type": "code",
   "execution_count": null,
   "metadata": {},
   "outputs": [],
   "source": [
    "X_train, X_test, y_train, y_test = train_test_split(Xdf, y, test_size=0.33, \n",
    "                                                    random_state=1, stratify=y)"
   ]
  },
  {
   "cell_type": "markdown",
   "metadata": {},
   "source": [
    "Сделаем pipeline. Создадим дополнительные классы для того, чтобы пайплайн принимал на входе dataframe."
   ]
  },
  {
   "cell_type": "code",
   "execution_count": null,
   "metadata": {},
   "outputs": [],
   "source": [
    "class ItemSelector(BaseEstimator):\n",
    "    def __init__(self, key):\n",
    "        self.key = key\n",
    "        \n",
    "    def fit(self, x, y=None):\n",
    "        return self\n",
    "    \n",
    "    def transform(self, df):\n",
    "        return df.loc[:, self.key].values.reshape(-1, 1)\n",
    "    \n",
    "def select_and_ohe(column_name):\n",
    "    feature = (column_name, make_pipeline(\n",
    "                        ItemSelector(column_name),\n",
    "                        OneHotEncoder(handle_unknown='ignore')))\n",
    "    return feature\n",
    "\n",
    "def select_and_ohe_few(column_names):\n",
    "    features = [select_and_ohe(col) for col in column_names]\n",
    "    return features    "
   ]
  },
  {
   "cell_type": "code",
   "execution_count": null,
   "metadata": {},
   "outputs": [],
   "source": [
    "list_of_qual_params = list(Xdf.columns.values)\n",
    "list_of_qual_params.remove('Age_of_Casualty')\n",
    "list_of_qual_params.remove('Age_of_Driver')\n",
    "list_of_qual_params.remove('Age_of_Vehicle')\n",
    "# list_of_qual_params"
   ]
  },
  {
   "cell_type": "code",
   "execution_count": null,
   "metadata": {},
   "outputs": [],
   "source": [
    "pipe = Pipeline([\n",
    "    ('data', FeatureUnion([\n",
    "        \n",
    "        # Features to OHE\n",
    "        *select_and_ohe_few(list_of_qual_params),\n",
    "        \n",
    "        ('driver_age', make_pipeline(\n",
    "            ItemSelector('Age_of_Driver'),\n",
    "            StandardScaler()\n",
    "        )),\n",
    "        \n",
    "        ('cas_age', make_pipeline(\n",
    "            ItemSelector('Age_of_Casualty'),\n",
    "            StandardScaler()\n",
    "        )),\n",
    "        \n",
    "        ('speed_limit', make_pipeline(\n",
    "            ItemSelector('Age_of_Vehicle'),\n",
    "            StandardScaler()\n",
    "        )),\n",
    "        \n",
    "    ])),\n",
    "    ('logreg', LogisticRegression())\n",
    "])"
   ]
  },
  {
   "cell_type": "markdown",
   "metadata": {},
   "source": [
    "Подбираем оптимальные параметры регуляризации"
   ]
  },
  {
   "cell_type": "code",
   "execution_count": null,
   "metadata": {},
   "outputs": [],
   "source": [
    "fold = StratifiedKFold(n_splits=3, shuffle=True, random_state=1)\n",
    "\n",
    "params = {'logreg__C': [0.01, 0.1, 1, 10, 100]}\n",
    "\n",
    "gs = GridSearchCV(pipe, param_grid=params, scoring='roc_auc',\n",
    "                 refit=True, verbose=3)"
   ]
  },
  {
   "cell_type": "code",
   "execution_count": null,
   "metadata": {},
   "outputs": [],
   "source": [
    "gs.fit(X_train, y_train)"
   ]
  },
  {
   "cell_type": "markdown",
   "metadata": {},
   "source": [
    "Рисуем кривую валидации"
   ]
  },
  {
   "cell_type": "code",
   "execution_count": null,
   "metadata": {
    "code_folding": [
     0
    ]
   },
   "outputs": [],
   "source": [
    "def plot_with_err(gs, x, **kwargs):\n",
    "    score = gs.cv_results_\n",
    "    mu_train = score['mean_train_score']\n",
    "    std_train = score['std_train_score']\n",
    "    mu_test = score['mean_test_score']\n",
    "    std_test = score['std_test_score']\n",
    "\n",
    "    fun = lambda x : np.log10(x)\n",
    "#     fun = lambda x : x\n",
    "    lines = plt.plot(fun(x), mu_train, '-', label='training scores', **kwargs)\n",
    "    plt.fill_between(fun(x), mu_train - std_train, mu_train + std_train, edgecolor='none',\n",
    "                     facecolor=lines[0].get_color(), alpha=0.2)\n",
    "\n",
    "    lines = plt.plot(fun(x), mu_test, '-', label='validation scores', **kwargs)\n",
    "    plt.fill_between(fun(x), mu_test - std_test, mu_test + std_test, edgecolor='none',\n",
    "                     facecolor=lines[0].get_color(), alpha=0.2) "
   ]
  },
  {
   "cell_type": "code",
   "execution_count": null,
   "metadata": {},
   "outputs": [],
   "source": [
    "cv_score = gs.best_score_\n",
    "i = int(np.argwhere(gs.cv_results_['mean_test_score'] == cv_score))\n",
    "train_score = gs.cv_results_['mean_train_score'][i]\n",
    "\n",
    "x = [0.01, 0.1, 1, 10, 100]\n",
    "plt.figure(figsize=(10, 6))          \n",
    "plot_with_err(gs, x)\n",
    "plt.xlabel('log10(C)'); plt.ylabel('roc_auc')\n",
    "plt.legend();\n",
    "plt.title('train={0:.3f}, cv={1:.3f}, {2}'.format(train_score, cv_score, gs.best_params_))"
   ]
  },
  {
   "cell_type": "markdown",
   "metadata": {},
   "source": [
    "Теперь смотрим результат на отложенной выборке с лучшими параметрами регуляризации, выбранными на кросс валидации."
   ]
  },
  {
   "cell_type": "code",
   "execution_count": null,
   "metadata": {},
   "outputs": [],
   "source": [
    "y_pred = gs.predict_proba(X_test)\n",
    "final_score = roc_auc_score(y_test, y_pred[:, 1])"
   ]
  },
  {
   "cell_type": "code",
   "execution_count": null,
   "metadata": {},
   "outputs": [],
   "source": [
    "final_score"
   ]
  },
  {
   "cell_type": "markdown",
   "metadata": {},
   "source": [
    "Итого на отложенной выборке был получен результат, сравнимый с результатом кросс валидации. На базе разработанной модели может быть проведен анализ факторов, оказывающих влияние на риск летального исхода в автомобильных авариях. "
   ]
  }
 ],
 "metadata": {
  "kernelspec": {
   "display_name": "Python 3",
   "language": "python",
   "name": "python3"
  },
  "language_info": {
   "codemirror_mode": {
    "name": "ipython",
    "version": 3
   },
   "file_extension": ".py",
   "mimetype": "text/x-python",
   "name": "python",
   "nbconvert_exporter": "python",
   "pygments_lexer": "ipython3",
   "version": "3.6.4"
  }
 },
 "nbformat": 4,
 "nbformat_minor": 2
}
