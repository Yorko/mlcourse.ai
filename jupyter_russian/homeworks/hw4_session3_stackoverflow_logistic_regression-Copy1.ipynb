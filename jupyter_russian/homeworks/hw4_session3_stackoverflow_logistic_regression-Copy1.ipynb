{
 "cells": [
  {
   "cell_type": "markdown",
   "metadata": {},
   "source": [
    "<center>\n",
    "<img src=\"../../img/ods_stickers.jpg\">\n",
    "## Открытый курс по машинному обучению. Сессия № 3\n",
    "Автор материала: Павел Нестеров (@mephistopheies). Материал распространяется на условиях лицензии [Creative Commons CC BY-NC-SA 4.0](https://creativecommons.org/licenses/by-nc-sa/4.0/). Можно использовать в любых целях (редактировать, поправлять и брать за основу), кроме коммерческих, но с обязательным упоминанием автора материала."
   ]
  },
  {
   "cell_type": "markdown",
   "metadata": {},
   "source": [
    "# <center> Домашняя работа №4\n",
    "## <center> Логистическая регрессия в задаче тегирования вопросов StackOverflow\n",
    "\n",
    "**Надо вывести формулы, где это просится (да, ручка и бумажка), заполнить код в клетках и выбрать ответы в [веб-форме](https://docs.google.com/forms/d/100c3Ek94UL-VRwXrN4lxCSnGjfJrl6Gc96G21DNCh4w).**\n",
    "\n",
    "## 0. Описание задачи\n",
    "\n",
    "В этой домашней работе мы с вами изучим и запрограммируем модель для прогнозирования тегов по тексту вопроса на базе многоклассовой логистической регрессии. В отличие от обычной постановки задачи классификации (multiclass), в данном случае один пример может принадлежать одновременно к нескольким классам (multilabel). Мы будем реализовывать онлайн-версию алгоритма multilabel-классификации.\n",
    "\n",
    "Мы будем использовать небольшую выборку из протеггированных вопросов с сайта StackOverflow размером в 125 тысяч примеров (около 150 Мб, скачайте по [этой](https://drive.google.com/open?id=0B4bl7YMqDnViYVo0V2FubFVhMFE) ссылке).\n",
    "\n",
    "PS: Можно показать, что такая реализация совсем не эффективная и проще было бы использовать векторизированные вычисления. Для данного датасета так и есть. Но на самом деле подобные реализации используются в жизни, но естественно, написаны они не на Python. Например, в онлайн-моделях прогнозирования [CTR](https://en.wikipedia.org/wiki/Click-through_rate) юзеру показывается баннер, затем в зависимости от наличия клика происходит обновление параметров модели. В реальной жизни параметров модели может быть несколько сотен миллионов, а у юзера из этих ста миллионов от силы сто или тысяча параметров отличны от нуля, векторизировать такие вычисления не очень эффективно. Обычно все это хранится в огромных кластерах в in-memory базах данных, а обработка пользователей происходит распределенно.\n",
    "\n",
    "PS2:\n",
    "- в процессе решения домашней работы вам придется работать с текстом, и у вас может возникнуть желание сделать очевидный препроцессинг, например привести все слова в нижний регистр, в-общем **этого делать не нужно, если не оговорено заранее в задании**"
   ]
  },
  {
   "cell_type": "code",
   "execution_count": 6,
   "metadata": {},
   "outputs": [
    {
     "name": "stdout",
     "output_type": "stream",
     "text": [
      "The watermark extension is already loaded. To reload it, use:\n",
      "  %reload_ext watermark\n"
     ]
    }
   ],
   "source": [
    "#!pip install watermark\n",
    "%load_ext watermark"
   ]
  },
  {
   "cell_type": "markdown",
   "metadata": {},
   "source": [
    "Выведем версии используемых библиотек. Совпадут ли ответы в случае других версий - не гарантируется."
   ]
  },
  {
   "cell_type": "code",
<<<<<<< HEAD
   "execution_count": 5,
=======
   "execution_count": 3,
>>>>>>> 18ce8fdb1c805a781650e5c5c4939d55e82b403f
   "metadata": {},
   "outputs": [
    {
     "name": "stdout",
     "output_type": "stream",
     "text": [
      "CPython 3.6.3\n",
      "IPython 6.1.0\n",
      "\n",
      "numpy 1.13.3\n",
      "scipy 0.19.1\n",
      "pandas 0.20.3\n",
      "matplotlib 2.1.0\n",
      "sklearn 0.19.1\n",
      "\n",
<<<<<<< HEAD
      "compiler   : MSC v.1900 64 bit (AMD64)\n",
      "system     : Windows\n",
      "release    : 10\n",
      "machine    : AMD64\n",
      "processor  : Intel64 Family 6 Model 58 Stepping 9, GenuineIntel\n",
      "CPU cores  : 2\n",
      "interpreter: 64bit\n"
=======
      "compiler   : GCC 4.2.1 Compatible Clang 4.0.1 (tags/RELEASE_401/final)\n",
      "system     : Darwin\n",
      "release    : 17.3.0\n",
      "machine    : x86_64\n",
      "processor  : i386\n",
      "CPU cores  : 4\n",
      "interpreter: 64bit\n",
      "Git hash   : 1a4a87b43d411ed71f556dce7286b87410663bd8\n"
>>>>>>> 18ce8fdb1c805a781650e5c5c4939d55e82b403f
     ]
    }
   ],
   "source": [
    "%watermark -v -m -p numpy,scipy,pandas,matplotlib,sklearn"
   ]
  },
  {
   "cell_type": "code",
   "execution_count": 5,
   "metadata": {},
   "outputs": [],
   "source": [
    "#!pip install tqdm"
   ]
  },
  {
   "cell_type": "code",
   "execution_count": 7,
   "metadata": {
    "collapsed": true
   },
   "outputs": [],
   "source": [
    "%matplotlib inline\n",
    "import numpy as np\n",
    "import matplotlib.pyplot as plt\n",
    "import seaborn as sns\n",
    "sns.set_style(\"dark\")\n",
    "plt.rcParams['figure.figsize'] = 16, 12\n",
    "from tqdm import tqdm_notebook\n",
    "import pandas as pd\n",
    "from collections import defaultdict\n",
    "\n",
    "# поменяйте на свой путь\n",
    "DS_FILE_NAME = '../../data/stackoverflow_sample_125k.tsv'\n",
    "TAGS_FILE_NAME = '../../data/top10_tags.tsv'"
   ]
  },
  {
   "cell_type": "code",
<<<<<<< HEAD
   "execution_count": 9,
=======
   "execution_count": 8,
>>>>>>> 18ce8fdb1c805a781650e5c5c4939d55e82b403f
   "metadata": {},
   "outputs": [
    {
     "name": "stdout",
     "output_type": "stream",
     "text": [
<<<<<<< HEAD
      "{'c++', 'c#', 'android', 'ios', 'python', 'java', 'html', 'jquery', 'php', 'javascript'}\n"
=======
<<<<<<< HEAD
      "{'c++', 'html', 'android', 'c#', 'python', 'php', 'javascript', 'jquery', 'java', 'ios'}\n"
=======
      "{'android', 'c#', 'php', 'javascript', 'java', 'python', 'jquery', 'c++', 'ios', 'html'}\n"
>>>>>>> parent of d31e880... hw 4
>>>>>>> 18ce8fdb1c805a781650e5c5c4939d55e82b403f
     ]
    }
   ],
   "source": [
    "top_tags = []\n",
    "with open(TAGS_FILE_NAME, 'r') as f:\n",
    "    for line in f:\n",
    "        top_tags.append(line.strip())\n",
    "top_tags = set(top_tags)\n",
    "print(top_tags)"
   ]
  },
  {
   "cell_type": "markdown",
   "metadata": {},
   "source": [
    "## 1. Многоклассовая логистическая регрессия\n",
    "\n",
    "Вспомним, как получается логистическая регрессия для двух классов $\\left\\{0, 1\\right\\}$, вероятность принадлежности объекта к классу $1$ выписывается по теореме Байеса:\n",
    "\n",
    "$$\\large \\begin{array}{rcl}\n",
    "p\\left(c = 1 \\mid \\vec{x}\\right) &=& \\dfrac{p\\left(\\vec{x} \\mid c = 1\\right)p\\left(c = 1\\right)}{p\\left(\\vec{x} \\mid c = 1\\right)p\\left(c = 1\\right) + p\\left(\\vec{x} \\mid c = 0\\right)p\\left(c = 0\\right)} \\\\\n",
    "&=& \\dfrac{1}{1 + e^{-a}} \\\\\n",
    "&=& \\sigma\\left(a\\right)\n",
    "\\end{array}$$\n",
    "где:\n",
    "- $\\vec{x}$ – вектор признаков объекта\n",
    "- $\\sigma$ – обозначение функции логистического сигмоида при скалярном аргументе\n",
    "- $a = \\log \\frac{p\\left(\\vec{x} \\mid c = 1\\right)p\\left(c = 1\\right)}{p\\left(\\vec{x} \\mid c = 0\\right)p\\left(c = 0\\right)} = \\sum_{i=0}^M w_i x_i$ – это отношение мы моделируем линейной функцией от признаков объекта и параметров модели\n",
    "\n",
    "Данное выражение легко обобщить до множества из $K$ классов, изменится только знаменатель в формуле Байеса. Запишем вероятность принадлежности объекта к классу $k$:\n",
    "$$\\large \\begin{array}{rcl}\n",
    "p\\left(c = k \\mid \\vec{x}\\right) &=& \\dfrac{p\\left(\\vec{x} \\mid c = k\\right)p\\left(c = k\\right)}{\\sum_{i=1}^K p\\left(\\vec{x} \\mid c = i\\right)p\\left(c = i\\right)} \\\\\n",
    "&=& \\dfrac{e^{z_k}}{\\sum_{i=1}^{K}e^{z_i}} \\\\\n",
    "&=& \\sigma_k\\left(\\vec{z}\\right)\n",
    "\\end{array}$$\n",
    "где:\n",
    "- $\\sigma_k$ – обозначение функции softmax при векторном аргументе\n",
    "- $z_k = \\log p\\left(\\vec{x} \\mid c = k\\right)p\\left(c = k\\right) = \\sum_{i=0}^M w_{ki} x_i$ – это выражение моделируется линейной функцией от признаков объекта и параметров модели для класса $k$"
   ]
  },
  {
   "cell_type": "markdown",
   "metadata": {},
   "source": [
    "Для моделирования полного правдоподобия примера мы используем [категориальное распределение](https://en.wikipedia.org/wiki/Categorical_distribution), а лучше его логарифм (для удобства):\n",
    "\n",
    "$$\\large \\begin{array}{rcl}\n",
    "\\mathcal{L} = \\log p\\left({\\vec{x}}\\right) &=& \\log \\prod_{i=1}^K \\sigma_i\\left(\\vec{z}\\right)^{y_i} \\\\\n",
    "&=& \\sum_{i=1}^K y_i \\log \\sigma_i\\left(\\vec{z}\\right)\n",
    "\\end{array}$$\n",
    "\n",
    "Получается хорошо знакомая нам функция [cross entropy](https://en.wikipedia.org/wiki/Cross_entropy) (если домножить на $-1$). Правдоподобие нужно максимизировать, а, соответственно, перекрестную энтропию нужно минимизировать. Продифференцировав по параметрам модели, мы _легко_ получим правила обновления весов для градиентного спуска, **проделайте этот вывод, если вы его не делали** (если вы вдруг сдались, то на [этом](https://www.youtube.com/watch?v=-WiR16raQf4) видео есть разбор вывода, понимание этого вам понадобится для дальнейшего выполнения задания; если предпочитаете текст, то и он есть [тут](https://www.ics.uci.edu/~pjsadows/notes.pdf) и [тут](https://eli.thegreenplace.net/2016/the-softmax-function-and-its-derivative/)):\n",
    "\n",
    "$$\\large \\begin{array}{rcl}\n",
    "\\frac{\\partial \\mathcal{L}}{\\partial w_{km}} &=& x_m \\left(y_k - \\sigma_k\\left(\\vec{z}\\right)\\right)\n",
    "\\end{array}$$\n",
    "\n",
    "В стандартной формулировке получается, что вектор $\\left(\\sigma_1, \\sigma_2, \\ldots, \\sigma_K\\right)$ образует дискретное вероятностное распределение, т.е. $\\sum_{i=1}^K \\sigma_i = 1$. Но в нашей постановке задачи каждый пример может иметь несколько тегов или одновременно принадлежать к нескольким классам. Для этого мы немного изменим модель:\n",
    "- будем считать, что все теги независимы друг от друга, т.е. каждый исход – это логистическая регрессия на два класса (либо есть тег, либо его нет), тогда вероятность наличия тега у примера запишется следующим образом (каждый тег/класс как и в многоклассовой логрегрессии имеет свой набор параметров):\n",
    "$$\\large p\\left(\\text{tag}_k \\mid \\vec{x}\\right) = \\sigma\\left(z_k\\right) = \\sigma\\left(\\sum_{i=1}^M w_{ki} x^i \\right)$$\n",
    "- наличие каждого тега мы будем моделировать с помощью <a href=\"https://en.wikipedia.org/wiki/Bernoulli_distribution\">распределения Бернулли</a>\n",
    "\n",
    "<font color=\"red\">Вопрос 1.</font> Ваше первое задание –  записать упрощенное выражение логарифма правдоподобия примера с признаками $\\vec{x}$. Как правило, многие алгоритмы оптимизации имеют интерфейс для минимизации функции, мы последуем этой же традиции и домножим полученное выражение на $-1$, а во второй части выведем формулы для минимизации полученного выражения."
   ]
  },
  {
   "cell_type": "markdown",
   "metadata": {},
   "source": [
    "<font color=\"red\">Варианты ответа:</font>\n",
    "1. $\\large -\\mathcal{L} = -\\sum_{i=1}^M y_i \\log \\sigma\\left(z_i\\right) + \\left(1 - y_i\\right) \\log \\left(1 - \\sigma\\left(z_i\\right)\\right)$\n",
    "2. $\\large -\\mathcal{L} = -\\sum_{i=1}^K y_i \\log \\sigma\\left(z_i\\right) + \\left(1 - y_i\\right) \\log \\left(1 - \\sigma\\left(z_i\\right)\\right)$ [+]\n",
    "3. $\\large -\\mathcal{L} = -\\sum_{i=1}^K z_i \\log \\sigma\\left(y_i\\right) + \\left(1 - z_i\\right) \\log \\left(1 - \\sigma\\left(y_i\\right)\\right)$\n",
    "4. $\\large -\\mathcal{L} = -\\sum_{i=1}^M z_i \\log \\sigma\\left(y_i\\right) + \\left(1 - z_i\\right) \\log \\left(1 - \\sigma\\left(y_i\\right)\\right)$"
   ]
  },
  {
   "cell_type": "markdown",
   "metadata": {},
   "source": [
    "## 2. Вывод формулы обновления весов\n",
    "\n",
    "<font color=\"red\">Вопрос 2.</font>В качестве второго задания вам предоставляется возможность вывести формулу градиента для $-\\mathcal{L}$. Какой вид она будет иметь?"
   ]
  },
  {
   "cell_type": "markdown",
   "metadata": {
    "collapsed": true
   },
   "source": [
    "<font color=\"red\">Варианты ответа:</font>:\n",
    "1. $\\large -\\frac{\\partial \\mathcal{L}}{\\partial w_{km}} = -x_m \\left(\\sigma\\left(z_k\\right) - y_k\\right)$\n",
    "2. $\\large -\\frac{\\partial \\mathcal{L}}{\\partial w_{km}} = -x_m \\left(y_k - \\sigma\\left(z_k\\right)\\right)$ [+]\n",
    "3. $\\large -\\frac{\\partial \\mathcal{L}}{\\partial w_{km}} = \\left(\\sigma\\left(z_k\\right)x_m - y_k\\right)$\n",
    "4. $\\large -\\frac{\\partial \\mathcal{L}}{\\partial w_{km}} = \\left(y_k - \\sigma\\left(z_k\\right)x_m\\right)$"
   ]
  },
  {
   "cell_type": "markdown",
   "metadata": {},
   "source": [
    "## 3. Реализация базовой модели\n",
    "\n",
    "Вам предлагается каркас класса модели, разберите его внимательно, обращайте внимание на комментарии. Затем заполните пропуски, запустите полученную модель и ответьте на проверочный вопрос.\n",
    "\n",
    "Как вы могли уже заметить, при обновлении веса $w_{km}$ используется значение признака $x_m$, который равен $0$, если слова с индексом $m$ нет в предложении, и больше нуля, если такое слово есть. В нашем случае, чтобы не пересчитывать [bag-of-words](https://en.wikipedia.org/wiki/Bag-of-words_model) самим или с помощью [sklearn.feature_extraction.text.CountVectorizer](http://scikit-learn.org/stable/modules/generated/sklearn.feature_extraction.text.CountVectorizer.html#sklearn.feature_extraction.text.CountVectorizer), мы будем идти по словам предложения в порядке их следования. Если какое-то слово встречается несколько раз, то мы добавляем его в аккумулятор со своим весом. В итоге получится то же самое, как если сначала посчитать количество одинаковых слов и домножить на соответствующий вес. Соответственно, при вычислении линейной комбинации $z$ весов модели и признаков примера необходимо учитывать только ненулевые признаки объекта.\n",
    "\n",
    "Подсказка:\n",
    "- если реализовывать вычисление сигмоида так же, как в формуле, то при большом отрицательном значении $z$ вычисление $e^{-z}$ превратится в очень большое число, которое вылетит за допустимые пределы\n",
    "- в то же время $e^{-z}$ от большого положительного $z$ будет нулем\n",
    "- воспользуйтесь свойствами функции $\\sigma$ для того, чтобы пофиксить эту ошибку и реализовать $\\sigma$ без риска overflow."
   ]
  },
  {
   "cell_type": "code",
   "execution_count": null,
   "metadata": {
    "collapsed": true
   },
   "outputs": [],
   "source": [
    "class LogRegressor():\n",
    "    \n",
    "    \"\"\"Конструктор\n",
    "    \n",
    "    Параметры\n",
    "    ----------\n",
    "    tags : list of string, default=top_tags\n",
    "        список тегов\n",
    "    \"\"\"\n",
    "    def __init__(self, tags=top_tags):      \n",
    "        # словарь который содержит мапинг слов предложений и тегов в индексы (для экономии памяти)\n",
    "        # пример: self._vocab['exception'] = 17 означает что у слова exception индекс равен 17\n",
    "        self._vocab = {}\n",
    "        \n",
    "        # параметры модели: веса\n",
    "        # для каждого класса/тега нам необходимо хранить собственный вектор весов\n",
    "        # по умолчанию у нас все веса будут равны нулю\n",
    "        # мы заранее не знаем сколько весов нам понадобится\n",
    "        # поэтому для каждого класса мы сосздаем словарь изменяемого размера со значением по умолчанию 0\n",
    "        # пример: self._w['java'][self._vocab['exception']]  содержит вес для слова exception тега java\n",
    "        self._w = dict([(t, defaultdict(int)) for t in tags])\n",
    "        \n",
    "        # параметры модели: смещения или вес w_0\n",
    "        self._b = dict([(t, 0) for t in tags])\n",
    "        \n",
    "        self._tags = set(tags)\n",
    "    \n",
    "    \"\"\"Один прогон по датасету\n",
    "    \n",
    "    Параметры\n",
    "    ----------\n",
    "    fname : string, default=DS_FILE_NAME\n",
    "        имя файла с данными\n",
    "        \n",
    "    top_n_train : int\n",
    "        первые top_n_train строк будут использоваться для обучения, остальные для тестирования\n",
    "        \n",
    "    total : int, default=10000000\n",
    "        информация о количестве строк в файле для вывода прогресс бара\n",
    "    \n",
    "    learning_rate : float, default=0.1\n",
    "        скорость обучения для градиентного спуска\n",
    "        \n",
    "    tolerance : float, default=1e-16\n",
    "        используем для ограничения значений аргумента логарифмов\n",
    "    \"\"\"\n",
    "    def iterate_file(self, \n",
    "                     fname=DS_FILE_NAME, \n",
    "                     top_n_train=100000, \n",
    "                     total=125000,\n",
    "                     learning_rate=0.1,\n",
    "                     tolerance=1e-16):\n",
    "        \n",
    "        self._loss = []\n",
    "        n = 0\n",
    "        \n",
    "        # откроем файл\n",
    "        with open(fname, 'r') as f:            \n",
    "            \n",
    "            # прогуляемся по строкам файла\n",
    "            for line in tqdm_notebook(f, total=total, mininterval=1):\n",
    "                pair = line.strip().split('\\t')\n",
    "                if len(pair) != 2:\n",
    "                    continue                \n",
    "                sentence, tags = pair\n",
    "                # слова вопроса, это как раз признаки x\n",
    "                sentence = sentence.split(' ')\n",
    "                # теги вопроса, это y\n",
    "                tags = set(tags.split(' '))\n",
    "                \n",
    "                # значение функции потерь для текущего примера\n",
    "                sample_loss = 0\n",
    "\n",
    "                # прокидываем градиенты для каждого тега\n",
    "                for tag in self._tags:\n",
    "                    # целевая переменная равна 1 если текущий тег есть у текущего примера\n",
    "                    y = int(tag in tags)\n",
    "                    \n",
    "                    # расчитываем значение линейной комбинации весов и признаков объекта\n",
    "                    # инициализируем z\n",
    "                    # ЗАПОЛНИТЕ ПРОПУСКИ В КОДЕ\n",
    "                    # z = ...\n",
    "   \n",
    "                    for word in sentence:\n",
    "                        # если в режиме тестирования появляется слово которого нет в словаре, то мы его игнорируем\n",
    "                        if n >= top_n_train and word not in self._vocab:\n",
    "                            continue\n",
    "                        if word not in self._vocab:\n",
    "                            self._vocab[word] = len(self._vocab)\n",
    "                        # z += ...\n",
    "    \n",
    "                    # вычисляем вероятность наличия тега\n",
    "                    # ЗАПОЛНИТЕ ПРОПУСКИ В КОДЕ\n",
    "                    # sigma = ...\n",
    "    \n",
    "                    \n",
    "                    # обновляем значение функции потерь для текущего примера\n",
    "                    # ЗАПОЛНИТЕ ПРОПУСКИ В КОДЕ\n",
    "                    # sample_loss += ...\n",
    "                 \n",
    "                    \n",
    "                    # если мы все еще в тренировочной части, то обновим параметры\n",
    "                    if n < top_n_train:\n",
    "                        # вычисляем производную логарифмического правдоподобия по весу\n",
    "                        # ЗАПОЛНИТЕ ПРОПУСКИ В КОДЕ\n",
    "                        # dLdw = ...\n",
    "\n",
    "                        # делаем градиентный шаг\n",
    "                        # мы минимизируем отрицательное логарифмическое правдоподобие (второй знак минус)\n",
    "                        # поэтому мы идем в обратную сторону градиента для минимизации (первый знак минус)\n",
    "                        for word in sentence:                        \n",
    "                            self._w[tag][self._vocab[word]] -= -learning_rate*dLdw\n",
    "                        self._b[tag] -= -learning_rate*dLdw\n",
    "                    \n",
    "                n += 1\n",
    "                        \n",
    "                self._loss.append(sample_loss)"
   ]
  },
  {
   "cell_type": "code",
   "execution_count": null,
   "metadata": {
    "collapsed": true
   },
   "outputs": [],
   "source": [
    "# создадим эксемпляр модели и пройдемся по датасету\n",
    "model = LogRegressor()\n",
    "model.iterate_file()"
   ]
  },
  {
   "cell_type": "markdown",
   "metadata": {},
   "source": [
    "Проверим, действительно ли значение отрицательного логарифмического правдоподобия уменьшалось. Так как мы используем стохастический градентный спуск, не стоит ожидать плавного падения функции ошибки. Мы воспользуемся скользящим средним с окном в 10 тысяч примеров, чтобы хоть как-то сгладить график."
   ]
  },
  {
   "cell_type": "code",
   "execution_count": null,
   "metadata": {
    "collapsed": true
   },
   "outputs": [],
   "source": [
    "plt.plot(pd.Series(model._loss[:-25000]).rolling(10000).mean());"
   ]
  },
  {
   "cell_type": "code",
   "execution_count": null,
   "metadata": {
    "collapsed": true
   },
   "outputs": [],
   "source": [
    "print('Mean of the loss function on the last 10k train samples: %0.2f' % np.mean(model._loss[-35000:-25000]))"
   ]
  },
  {
   "cell_type": "markdown",
   "metadata": {},
   "source": [
    "<font color=\"red\">Вопрос 3.</font>\n",
    "Вычислите среднее значение функции стоимости на последних 10 000 примеров тренировочного набора, к какому из значений ваш ответ ближе всего?\n",
    "\n",
    "<font color=\"red\">Варианты ответа:</font>\n",
    "1. 17.54\n",
    "2. 18.64\n",
    "3. 19.74\n",
    "4. 20.84"
   ]
  },
  {
   "cell_type": "markdown",
   "metadata": {
    "collapsed": true
   },
   "source": [
    "## 4. Тестирование модели\n",
    "\n",
    "В базовой модели первые 100 000 строк используются для обучения, а оставшиеся – для тестирования. Как вы можете заметить, значение отрицательного логарифмического правдоподобия не очень информативно, хоть и позволяет сравнивать разные модели. В качестве четвертого задания вам необходимо модифицировать базовую модель таким образом, чтобы метод `iterate_file` возвращал значение _точности_ на тестовой части набора данных. \n",
    "\n",
    "Точность определим следующим образом:\n",
    "- считаем, что тег у вопроса присутствует, если спрогнозированная вероятность тега больше 0.9\n",
    "- точность одного примера расчитывается как [коэффициент Жаккара](https://ru.wikipedia.org/wiki/Коэффициент_Жаккара) между множеством настоящих тегов и предсказанных моделью\n",
    "  - например, если у примера настоящие теги ['html', 'jquery'], а по версии модели ['ios', 'html', 'java'], то коэффициент Жаккара будет равен |['html', 'jquery'] $\\cap$ ['ios', 'html', 'java']| / |['html', 'jquery'] $\\cup$ ['ios', 'html', 'java']| = |['html']| / |['jquery', 'ios', 'html', 'java']| = 1/4\n",
    "- метод `iterate_file` возвращает **среднюю** точность на тестовом наборе данных"
   ]
  },
  {
   "cell_type": "code",
   "execution_count": 59,
   "metadata": {
    "collapsed": true
   },
   "outputs": [],
   "source": [
<<<<<<< HEAD
    "class LogRegressor(LogRegressor):\n",
    "    \n",
    "    def iterate_file(self, \n",
    "                     fname=DS_FILE_NAME, \n",
    "                     top_n_train=100000, \n",
    "                     total=125000,\n",
    "                     learning_rate=0.1,\n",
    "                     tolerance=1e-16):\n",
    "        \n",
    "        self._loss = []\n",
    "        n = 0\n",
    "        acc = []\n",
    "        \n",
    "        # откроем файл\n",
    "        with open(fname, 'r') as f:            \n",
    "            \n",
    "            # прогуляемся по строкам файла\n",
    "            for line in tqdm_notebook(f, total=total, mininterval=1):\n",
    "                pair = line.strip().split('\\t')\n",
    "                if len(pair) != 2:\n",
    "                    continue                \n",
    "                sentence, tags = pair\n",
    "                # слова вопроса, это как раз признаки x\n",
    "                sentence = sentence.split(' ')\n",
    "                # теги вопроса, это y\n",
    "                tags = set(tags.split(' '))\n",
    "                tags_predict = set()\n",
    "                \n",
    "                # значение функции потерь для текущего примера\n",
    "                sample_loss = 0\n",
    "\n",
    "                # прокидываем градиенты для каждого тега\n",
    "                for tag in self._tags:\n",
    "                    # целевая переменная равна 1 если текущий тег есть у текущего примера\n",
    "                    y = int(tag in tags)\n",
    "                    \n",
    "                    # расчитываем значение линейной комбинации весов и признаков объекта\n",
    "                    # инициализируем z\n",
    "                    # ЗАПОЛНИТЕ ПРОПУСКИ В КОДЕ\n",
    "                    z = self._b[tag]\n",
    "   \n",
    "                    for word in sentence:\n",
    "                        # если в режиме тестирования появляется слово которого нет в словаре, то мы его игнорируем\n",
    "                        if n >= top_n_train and word not in self._vocab:\n",
    "                            continue\n",
    "                        if word not in self._vocab:\n",
    "                            self._vocab[word] = len(self._vocab)\n",
    "                        z += self._w[tag][self._vocab[word]]\n",
    "    \n",
    "                    # вычисляем вероятность наличия тега\n",
    "                    # ЗАПОЛНИТЕ ПРОПУСКИ В КОДЕ\n",
    "                    if z >= 0:\n",
    "                        sigma = 1 / (1 + np.exp(-z))\n",
    "                    else:\n",
    "                        sigma =  np.exp(z) / (1 + np.exp(z))\n",
    "    \n",
    "                    \n",
    "                    # обновляем значение функции потерь для текущего примера\n",
    "                    # ЗАПОЛНИТЕ ПРОПУСКИ В КОДЕ\n",
    "                    sample_loss += y*np.log(max(sigma,tolerance)) + (1-y)*np.log(max(1-sigma,tolerance))\n",
    "                 \n",
    "                    \n",
    "                    # если мы все еще в тренировочной части, то обновим параметры\n",
    "                    if n < top_n_train:\n",
    "                        # вычисляем производную логарифмического правдоподобия по весу\n",
    "                        # ЗАПОЛНИТЕ ПРОПУСКИ В КОДЕ\n",
    "                        dLdw = y - sigma\n",
    "\n",
    "                        # делаем градиентный шаг\n",
    "                        # мы минимизируем отрицательное логарифмическое правдоподобие (второй знак минус)\n",
    "                        # поэтому мы идем в обратную сторону градиента для минимизации (первый знак минус)\n",
    "                        for word in sentence:                        \n",
    "                            self._w[tag][self._vocab[word]] -= -learning_rate*dLdw\n",
    "                        self._b[tag] -= -learning_rate*dLdw\n",
    "                    else:\n",
    "                        if sigma >= 0.9:\n",
    "                            tags_predict.add(tag)\n",
    "                           \n",
    "                if n >= top_n_train:\n",
    "                    acc.append(len(tags.intersection(tags_predict))/len(tags.union(tags_predict)))\n",
    "                    \n",
    "                n += 1\n",
    "                        \n",
    "                self._loss.append(sample_loss)\n",
    "                \n",
    "                if n > total: break\n",
    "                    \n",
    "        return np.mean(acc)"
=======
    "# Обновите определение класса LogRegressor\n",
    "# Ваш код здесь"
>>>>>>> parent of d31e880... hw 4
   ]
  },
  {
   "cell_type": "code",
   "execution_count": 60,
   "metadata": {},
   "outputs": [
    {
     "data": {
      "application/vnd.jupyter.widget-view+json": {
       "model_id": "d382d07e0a1a4fdd98d2cf6284d2dfa2",
       "version_major": 2,
       "version_minor": 0
      },
      "text/plain": [
       "A Jupyter Widget"
      ]
     },
     "metadata": {},
     "output_type": "display_data"
    },
    {
     "name": "stdout",
     "output_type": "stream",
     "text": [
      "0.58\n"
     ]
    }
   ],
   "source": [
    "model = LogRegressor()\n",
    "acc = model.iterate_file()\n",
    "# выведем полученное значение с точностью до двух знаков\n",
    "print('%0.2f' % acc)"
   ]
  },
  {
   "cell_type": "markdown",
   "metadata": {
    "collapsed": true
   },
   "source": [
    "<font color=\"red\">Вопрос 4.</font> К какому значению ближе всего полученное значение точности?\n",
    "<font color=\"red\">Варианты ответа:</font>\n",
    "1. 0.39\n",
    "2. 0.49\n",
    "3. 0.59 [+]\n",
    "4. 0.69"
   ]
  },
  {
   "cell_type": "markdown",
   "metadata": {
    "collapsed": true
   },
   "source": [
    "## 5. $L_2$-регуляризация\n",
    "\n",
    "В качестве пятого задания вам необходимо добавить в класс `LogRegressor` поддержку $L_2$-регуляризации. В методе `iterate_file` должен появиться параметр `lmbda=0.01` со значением по умолчанию. С учетом регуляризации новая функция стоимости примет вид:\n",
    "\n",
    "$$\\large \\begin{array}{rcl}\n",
    "L &=& -\\mathcal{L} + \\frac{\\lambda}{2} R\\left(W\\right) \\\\\n",
    "&=& -\\mathcal{L} + \\frac{\\lambda}{2} \\sum_{k=1}^K\\sum_{i=1}^M w_{ki}^2\n",
    "\\end{array}$$\n",
    "\n",
    "Градиент первого члена суммы мы уже вывели, а для второго он имеет вид:\n",
    "\n",
    "$$\\large \\begin{array}{rcl}\n",
    "\\frac{\\partial}{\\partial w_{ki}} \\frac{\\lambda}{2} R\\left(W\\right) &=& \\lambda w_{ki}\n",
    "\\end{array}$$\n",
    "\n",
    "Если мы на каждом примере будем делать честное обновление всех весов, то все очень замедлится, ведь нам придется на каждой итерации пробегать по всем словам словаря. В ущерб теоретической корректности мы используем грязный трюк: будем регуляризировать только те слова, которые присутствуют в текущем предложении. Не забывайте, что смещение (bias) не регуляризируется. `sample_loss` тоже должен остаться без изменений.\n",
    "\n",
    "Замечание:\n",
    "- не забудьте, что нужно учитывать регуляризацию слова в градиентном шаге только один раз\n",
    "- условимся, что учитываем регуляризацию только при первой встрече слова\n",
    "- если бы мы считали сначала bag-of-words, то мы бы в цикле шли по уникальным словам, но т.к. мы этого не делаем, приходится выкручиваться (еще одна жертва богу online-моделей)"
   ]
  },
  {
   "cell_type": "code",
   "execution_count": 91,
   "metadata": {
    "collapsed": true
   },
   "outputs": [],
   "source": [
    "class LogRegressor(LogRegressor):\n",
    "    \n",
    "    def iterate_file(self, \n",
    "                     fname=DS_FILE_NAME, \n",
    "                     top_n_train=100000, \n",
    "                     total=125000,\n",
    "                     learning_rate=0.1,\n",
    "                     tolerance=1e-16,\n",
    "                     lmbda=0.01):\n",
    "        \n",
    "        self._loss = []\n",
    "        n = 0\n",
    "        acc = []\n",
    "        \n",
    "        # откроем файл\n",
    "        with open(fname, 'r') as f:            \n",
    "            \n",
    "            # прогуляемся по строкам файла\n",
    "            for line in tqdm_notebook(f, total=total, mininterval=1):\n",
    "                pair = line.strip().split('\\t')\n",
    "                if len(pair) != 2:\n",
    "                    continue                \n",
    "                sentence, tags = pair\n",
    "                # слова вопроса, это как раз признаки x\n",
    "                sentence = sentence.split(' ')\n",
    "                # теги вопроса, это y\n",
    "                tags = set(tags.split(' '))\n",
    "                tags_predict = set()\n",
    "                \n",
    "                # значение функции потерь для текущего примера\n",
    "                sample_loss = 0\n",
    "                \n",
    "                # прокидываем градиенты для каждого тега\n",
    "                for tag in self._tags:\n",
    "                    # целевая переменная равна 1 если текущий тег есть у текущего примера\n",
    "                    y = int(tag in tags)\n",
    "                    words = []\n",
    "                    \n",
    "                    # расчитываем значение линейной комбинации весов и признаков объекта\n",
    "                    # инициализируем z\n",
    "                    # ЗАПОЛНИТЕ ПРОПУСКИ В КОДЕ\n",
    "                    z = self._b[tag]\n",
    "   \n",
    "                    for word in sentence:\n",
    "                        # если в режиме тестирования появляется слово которого нет в словаре, то мы его игнорируем\n",
    "                        if n >= top_n_train and word not in self._vocab:\n",
    "                            continue\n",
    "                        if word not in self._vocab:\n",
    "                            self._vocab[word] = len(self._vocab)\n",
    "                        z += self._w[tag][self._vocab[word]]\n",
    "    \n",
    "                    # вычисляем вероятность наличия тега\n",
    "                    # ЗАПОЛНИТЕ ПРОПУСКИ В КОДЕ\n",
    "                    if z >= 0:\n",
    "                        sigma = 1 / (1 + np.exp(-z))\n",
    "                    else:\n",
    "                        sigma =  np.exp(z) / (1 + np.exp(z))\n",
    "                    \n",
    "                    # обновляем значение функции потерь для текущего примера\n",
    "                    # ЗАПОЛНИТЕ ПРОПУСКИ В КОДЕ\n",
    "                    sample_loss += y*np.log(max(sigma,tolerance)) + (1-y)*np.log(max(1-sigma,tolerance))\n",
    "                    \n",
    "                    # если мы все еще в тренировочной части, то обновим параметры\n",
    "                    if n < top_n_train:\n",
    "                        # вычисляем производную логарифмического правдоподобия по весу\n",
    "                        # ЗАПОЛНИТЕ ПРОПУСКИ В КОДЕ\n",
    "                        dLdw = y - sigma\n",
    "\n",
    "                        # делаем градиентный шаг\n",
    "                        # мы минимизируем отрицательное логарифмическое правдоподобие (второй знак минус)\n",
    "                        # поэтому мы идем в обратную сторону градиента для минимизации (первый знак минус)\n",
    "                        for word in sentence:\n",
    "                            self._w[tag][self._vocab[word]] -= -learning_rate*dLdw\n",
    "                            if not word in words:\n",
    "                                self._w[tag][self._vocab[word]] -= lmbda*self._w[tag][self._vocab[word]]\n",
    "                                words.append(word)                               \n",
    "                        self._b[tag] -= -learning_rate*dLdw\n",
    "                    else:\n",
    "                        if sigma >= 0.9:\n",
    "                            tags_predict.add(tag)\n",
    "                           \n",
    "                if n >= top_n_train:\n",
    "                    acc.append(len(tags.intersection(tags_predict))/len(tags.union(tags_predict)))\n",
    "                    \n",
    "                n += 1\n",
    "                        \n",
    "                self._loss.append(sample_loss)\n",
    "                \n",
    "                if n > total: break\n",
    "                    \n",
    "        return np.mean(acc)"
   ]
  },
  {
   "cell_type": "code",
   "execution_count": 92,
   "metadata": {},
   "outputs": [
    {
     "data": {
      "application/vnd.jupyter.widget-view+json": {
       "model_id": "0c184dd39df8407ea4ef327c6416f4bc",
       "version_major": 2,
       "version_minor": 0
      },
      "text/plain": [
       "A Jupyter Widget"
      ]
     },
     "metadata": {},
     "output_type": "display_data"
    },
    {
     "name": "stdout",
     "output_type": "stream",
     "text": [
      "\n",
      "0.42\n"
     ]
    },
    {
     "data": {
      "image/png": "iVBORw0KGgoAAAANSUhEUgAAA58AAAKnCAYAAAABT/kIAAAABHNCSVQICAgIfAhkiAAAAAlwSFlz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\n",
      "text/plain": [
       "<matplotlib.figure.Figure at 0x1a1e752320>"
      ]
     },
     "metadata": {},
     "output_type": "display_data"
    }
   ],
   "source": [
    "model = LogRegressor()\n",
    "acc = model.iterate_file()\n",
    "print('%0.2f' % acc)\n",
    "plt.plot(pd.Series(model._loss[:-25000]).rolling(10000).mean());"
   ]
  },
  {
   "cell_type": "markdown",
   "metadata": {},
   "source": [
    "<font color=\"red\">Вопрос 5.</font> К какому значению ближе всего полученное значение точности?\n",
    "<font color=\"red\">Варианты ответа:</font>\n",
    "1. 0.3\n",
    "2. 0.35\n",
    "3. 0.4 [+]\n",
    "4. 0.52"
   ]
  },
  {
   "cell_type": "markdown",
   "metadata": {},
   "source": [
    "## 6. ElasticNet регуляризация, вывод\n",
    "Помимо $L_2$ регуляризации, часто используется $L_1$ регуляризация.\n",
    "\n",
    "$$\\large \\begin{array}{rcl}\n",
    "L &=& -\\mathcal{L} + \\frac{\\lambda}{2} R\\left(W\\right) \\\\\n",
    "&=& -\\mathcal{L} + \\lambda \\sum_{k=1}^K\\sum_{i=1}^M \\left|w_{ki}\\right|\n",
    "\\end{array}$$\n",
    "\n",
    "Если линейно объединить $L_1$ и $L_2$ регуляризацию, то полученный тип регуляризации называется ElasticNet:\n",
    "\n",
    "$$\\large \\begin{array}{rcl}\n",
    "L &=& -\\mathcal{L} + \\lambda R\\left(W\\right) \\\\\n",
    "&=& -\\mathcal{L} + \\lambda \\left(\\gamma \\sum_{k=1}^K\\sum_{i=1}^M w_{ki}^2 + \\left(1 - \\gamma\\right) \\sum_{k=1}^K\\sum_{i=1}^M \\left|w_{ki}\\right| \\right)\n",
    "\\end{array}$$\n",
    "- где $\\gamma \\in \\left[0, 1\\right]$\n",
    "\n",
    "В качестве шестого вопроса вам предлагается вывести формулу градиента ElasticNet регуляризации (не учитывая $-\\mathcal{L}$). \n",
    "\n",
    "<font color=\"red\">Варианты ответа:</font>:\n",
    "1. $\\large \\frac{\\partial}{\\partial w_{ki}} \\lambda R\\left(W\\right) = \\lambda \\left(2 \\gamma w_{ki} + \\left(1 - \\gamma\\right) w_{ki}\\right)$ \n",
    "2. $\\large \\frac{\\partial}{\\partial w_{ki}} \\lambda R\\left(W\\right) = \\lambda \\left(2 \\gamma \\left|w_{ki}\\right| + \\left(1 - \\gamma\\right) \\text{sign}\\left(w_{ki}\\right)\\right)$\n",
    "3. $\\large \\frac{\\partial}{\\partial w_{ki}} \\lambda R\\left(W\\right) = \\lambda \\left(2 \\gamma w_{ki} + \\left(1 - \\gamma\\right) \\text{sign}\\left(w_{ki}\\right)\\right)$ [+]\n",
    "4. $\\large \\frac{\\partial}{\\partial w_{ki}} \\lambda R\\left(W\\right) = \\lambda \\left(\\gamma w_{ki} + \\left(1 - \\gamma\\right) \\text{sign}\\left(w_{ki}\\right)\\right)$"
   ]
  },
  {
   "cell_type": "markdown",
   "metadata": {},
   "source": [
    "## 7. Регуляризация ElasticNet , реализация\n",
    "\n",
    "В качестве седьмой задачи вам предлается изменить класс `LogRegressor` таким образом, чтобы метод `iterate_file` принимал два параметра со значениями по умолчанию `lmbda=0.0002` и `gamma=0.1`. Сделайте один проход по датасету с включенной `ElasticNet`-регуляризацией и заданными значениями по умолчанию и ответьте на вопрос."
   ]
  },
  {
   "cell_type": "code",
   "execution_count": 93,
   "metadata": {
    "collapsed": true
   },
   "outputs": [],
   "source": [
    "class LogRegressor(LogRegressor):\n",
    "    \n",
    "    def iterate_file(self, \n",
    "                     fname=DS_FILE_NAME, \n",
    "                     top_n_train=100000, \n",
    "                     total=125000,\n",
    "                     learning_rate=0.1,\n",
    "                     tolerance=1e-16,\n",
    "                     lmbda=0.0002,\n",
    "                     gamma=0.1):\n",
    "        \n",
    "        self._loss = []\n",
    "        n = 0\n",
    "        acc = []\n",
    "        \n",
    "        # откроем файл\n",
    "        with open(fname, 'r') as f:            \n",
    "            \n",
    "            # прогуляемся по строкам файла\n",
    "            for line in tqdm_notebook(f, total=total, mininterval=1):\n",
    "                pair = line.strip().split('\\t')\n",
    "                if len(pair) != 2:\n",
    "                    continue                \n",
    "                sentence, tags = pair\n",
    "                # слова вопроса, это как раз признаки x\n",
    "                sentence = sentence.split(' ')\n",
    "                # теги вопроса, это y\n",
    "                tags = set(tags.split(' '))\n",
    "                tags_predict = set()\n",
    "                \n",
    "                # значение функции потерь для текущего примера\n",
    "                sample_loss = 0\n",
    "                \n",
    "                # прокидываем градиенты для каждого тега\n",
    "                for tag in self._tags:\n",
    "                    # целевая переменная равна 1 если текущий тег есть у текущего примера\n",
    "                    y = int(tag in tags)\n",
    "                    words = []\n",
    "                    \n",
    "                    # расчитываем значение линейной комбинации весов и признаков объекта\n",
    "                    # инициализируем z\n",
    "                    # ЗАПОЛНИТЕ ПРОПУСКИ В КОДЕ\n",
    "                    z = self._b[tag]\n",
    "   \n",
    "                    for word in sentence:\n",
    "                        # если в режиме тестирования появляется слово которого нет в словаре, то мы его игнорируем\n",
    "                        if n >= top_n_train and word not in self._vocab:\n",
    "                            continue\n",
    "                        if word not in self._vocab:\n",
    "                            self._vocab[word] = len(self._vocab)\n",
    "                        z += self._w[tag][self._vocab[word]]\n",
    "    \n",
    "                    # вычисляем вероятность наличия тега\n",
    "                    # ЗАПОЛНИТЕ ПРОПУСКИ В КОДЕ\n",
    "                    if z >= 0:\n",
    "                        sigma = 1 / (1 + np.exp(-z))\n",
    "                    else:\n",
    "                        sigma =  np.exp(z) / (1 + np.exp(z))\n",
    "                    \n",
    "                    # обновляем значение функции потерь для текущего примера\n",
    "                    # ЗАПОЛНИТЕ ПРОПУСКИ В КОДЕ\n",
    "                    sample_loss += y*np.log(max(sigma,tolerance)) + (1-y)*np.log(max(1-sigma,tolerance))\n",
    "                    \n",
    "                    # если мы все еще в тренировочной части, то обновим параметры\n",
    "                    if n < top_n_train:\n",
    "                        # вычисляем производную логарифмического правдоподобия по весу\n",
    "                        # ЗАПОЛНИТЕ ПРОПУСКИ В КОДЕ\n",
    "                        dLdw = y - sigma\n",
    "\n",
    "                        # делаем градиентный шаг\n",
    "                        # мы минимизируем отрицательное логарифмическое правдоподобие (второй знак минус)\n",
    "                        # поэтому мы идем в обратную сторону градиента для минимизации (первый знак минус)\n",
    "                        for word in sentence:\n",
    "                            self._w[tag][self._vocab[word]] -= -learning_rate*dLdw\n",
    "                            if not word in words:\n",
    "                                w = self._w[tag][self._vocab[word]]\n",
    "                                self._w[tag][self._vocab[word]] -= lmbda*(2*gamma*w+(1-gamma)*np.sign(w))\n",
    "                                words.append(word)                               \n",
    "                        self._b[tag] -= -learning_rate*dLdw\n",
    "                    else:\n",
    "                        if sigma >= 0.9:\n",
    "                            tags_predict.add(tag)\n",
    "                           \n",
    "                if n >= top_n_train:\n",
    "                    acc.append(len(tags.intersection(tags_predict))/len(tags.union(tags_predict)))\n",
    "                    \n",
    "                n += 1\n",
    "                        \n",
    "                self._loss.append(sample_loss)\n",
    "                \n",
    "                if n > total: break\n",
    "                    \n",
    "        return np.mean(acc)"
   ]
  },
  {
   "cell_type": "code",
   "execution_count": 94,
   "metadata": {},
   "outputs": [
    {
     "data": {
      "application/vnd.jupyter.widget-view+json": {
       "model_id": "3f976b2ade3447b8a5583c8d97b89bd3",
       "version_major": 2,
       "version_minor": 0
      },
      "text/plain": [
       "A Jupyter Widget"
      ]
     },
     "metadata": {},
     "output_type": "display_data"
    },
    {
     "name": "stdout",
     "output_type": "stream",
     "text": [
      "\n",
      "0.55\n"
     ]
    },
    {
     "data": {
      "image/png": "iVBORw0KGgoAAAANSUhEUgAAA58AAAKnCAYAAAABT/kIAAAABHNCSVQICAgIfAhkiAAAAAlwSFlz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\n",
      "text/plain": [
       "<matplotlib.figure.Figure at 0x1a1e0b2c88>"
      ]
     },
     "metadata": {},
     "output_type": "display_data"
    }
   ],
   "source": [
    "model = LogRegressor()\n",
    "acc = model.iterate_file()\n",
    "print('%0.2f' % acc)\n",
    "plt.plot(pd.Series(model._loss[:-25000]).rolling(10000).mean());"
   ]
  },
  {
   "cell_type": "markdown",
   "metadata": {
    "collapsed": true
   },
   "source": [
    "<font color=\"red\">Вопрос 7.</font> К какому значению ближе всего полученное значение точности:\n",
    "<font color=\"red\">Варианты ответа:</font>\n",
    "1. 0.59 [+]\n",
    "2. 0.69\n",
    "3. 0.79\n",
    "4. 0.82"
   ]
  },
  {
   "cell_type": "markdown",
   "metadata": {},
   "source": [
    "## 8. Самые важные слова для тега\n",
    "\n",
    "Прелесть линейных моделей в том, что они легко интерпретируемы. Вам предлагается вычислить, какие слова вносят наибольший вклад в вероятность появления каждого из тегов. А затем ответьте на контрольный вопрос."
   ]
  },
  {
   "cell_type": "code",
   "execution_count": null,
   "metadata": {
    "collapsed": true
   },
   "outputs": [],
   "source": [
    "# Ваш код здесь"
   ]
  },
  {
   "cell_type": "code",
   "execution_count": 95,
   "metadata": {},
   "outputs": [
    {
     "name": "stdout",
     "output_type": "stream",
     "text": [
      "c++ : avrf, c++, std, cout, glvertex2i\n",
      "ios : ios, nil, nsstring, dylib, armv7\n",
      "java : servlet, println, hibernate, spring, java\n",
      "html : 3, br, html, lt, amp\n",
      "python : python, 00, py, def, django\n",
      "jquery : jquery, ready, ajax, td, val\n",
      "php : php, _post, x5c, echo, 125\n",
      "c# : writeline, binding, linq, foreach, usbuffer\n",
      "javascript : javascript, 3, 125, js, getelementbyid\n",
      "android : android, imgsrv, 29297, 0x0, quot\n"
     ]
    }
   ],
   "source": [
    "model._vocab_inv = dict([(v, k) for (k, v) in model._vocab.items()])\n",
    "\n",
    "for tag in model._tags:\n",
    "    print(tag, ':', ', '.join([model._vocab_inv[k] for (k, v) in \n",
    "                               sorted(model._w[tag].items(), \n",
    "                                      key=lambda t: t[1], \n",
    "                                      reverse=True)[:5]]))    "
   ]
  },
  {
   "cell_type": "markdown",
   "metadata": {},
   "source": [
    "<font color=\"red\">Вопрос 8.</font> Для многих тегов наличие самого тега в предложении является важным сигналом, у многих сам тег является самым сильным сигналом, что не удивительно. Для каких из тегов само название тега не входит в топ-5 самых важных?\n",
    "\n",
    "<font color=\"red\">Варианты ответа:</font>\n",
    "1. c# [+]\n",
    "2. javascript\n",
    "3. jquery\n",
    "4. android"
   ]
  },
  {
   "cell_type": "markdown",
   "metadata": {
    "collapsed": true
   },
   "source": [
    "## 9. Сокращаем размер словаря\n",
    "Сейчас количество слов в словаре – 519290, если бы это была выборка из 10 миллионов вопросов с сайта StackOverflow, то размер словаря был бы миллионов 10. Регуляризировать модель можно не только изящно математически, но и топорно, например, ограничить размер словаря. Вам предоставляется возможность внести следующие изменения в класс `LogRegressor`:\n",
    "- добавить в метод `iterate_file` еще один аргумент со значением по умолчанию `update_vocab=True`\n",
    "- при `update_vocab=True` разрешать добавлять слова в словарь в режиме обучения\n",
    "- при `update_vocab=False` игнорировать слова не из словаря\n",
    "- добавить в класс метод `filter_vocab(n=10000)`, который оставит в словаре только топ-n самых популярных слов, используя данные из ``train``"
   ]
  },
  {
   "cell_type": "code",
   "execution_count": 22,
   "metadata": {},
   "outputs": [],
   "source": [
    "class LogRegressor(LogRegressor):\n",
    "    \n",
    "    def filter_vocab(self, n=10000):\n",
    "        df = pd.DataFrame({'data':self._wordarray})\n",
    "        self._wordarray = df['data'].value_counts().iloc[0:n]\n",
    "        self._vocab = {k: v for k, v in self._vocab.items() if k in self._wordarray}    \n",
    "    \n",
    "    def iterate_file(self, \n",
    "                     fname=DS_FILE_NAME, \n",
    "                     top_n_train=100000, \n",
    "                     total=125000,\n",
    "                     learning_rate=0.1,\n",
    "                     tolerance=1e-16,\n",
    "                     lmbda=0.0002,\n",
    "                     gamma=0.1,\n",
    "                     update_vocab=True):\n",
    "        \n",
    "        self._loss = []\n",
    "        n = 0\n",
    "        acc = []\n",
    "        self._wordarray = []\n",
    "        \n",
    "        # откроем файл\n",
    "        with open(fname, 'r') as f:            \n",
    "            \n",
    "            # прогуляемся по строкам файла\n",
    "            for line in tqdm_notebook(f, total=total, mininterval=1):\n",
    "                pair = line.strip().split('\\t')\n",
    "                if len(pair) != 2:\n",
    "                    continue                \n",
    "                sentence, tags = pair\n",
    "                # слова вопроса, это как раз признаки x\n",
    "                sentence = sentence.split(' ')\n",
    "                # теги вопроса, это y\n",
    "                tags = set(tags.split(' '))\n",
    "                tags_predict = set()\n",
    "                \n",
    "                # значение функции потерь для текущего примера\n",
    "                sample_loss = 0\n",
    "                \n",
    "                # прокидываем градиенты для каждого тега\n",
    "                for tag in self._tags:\n",
    "                    # целевая переменная равна 1 если текущий тег есть у текущего примера\n",
    "                    y = int(tag in tags)\n",
    "                    words = []\n",
    "                    \n",
    "                    # расчитываем значение линейной комбинации весов и признаков объекта\n",
    "                    # инициализируем z\n",
    "                    # ЗАПОЛНИТЕ ПРОПУСКИ В КОДЕ\n",
    "                    z = self._b[tag]\n",
    "   \n",
    "                    for word in sentence:\n",
    "                        # если в режиме тестирования появляется слово которого нет в словаре, то мы его игнорируем\n",
    "                        self._wordarray.append(word)\n",
    "                        if n >= top_n_train and word not in self._vocab:\n",
    "                            continue\n",
    "                        if word not in self._vocab and update_vocab:\n",
    "                            self._vocab[word] = len(self._vocab)\n",
    "                        if word in self._vocab:\n",
    "                            z += self._w[tag][self._vocab[word]]\n",
    "    \n",
    "                    # вычисляем вероятность наличия тега\n",
    "                    # ЗАПОЛНИТЕ ПРОПУСКИ В КОДЕ\n",
    "                    if z >= 0:\n",
    "                        sigma = 1 / (1 + np.exp(-z))\n",
    "                    else:\n",
    "                        sigma =  np.exp(z) / (1 + np.exp(z))\n",
    "                    \n",
    "                    # обновляем значение функции потерь для текущего примера\n",
    "                    # ЗАПОЛНИТЕ ПРОПУСКИ В КОДЕ\n",
    "                    sample_loss += y*np.log(max(sigma,tolerance)) + (1-y)*np.log(max(1-sigma,tolerance))\n",
    "                    \n",
    "                    # если мы все еще в тренировочной части, то обновим параметры\n",
    "                    if n < top_n_train:\n",
    "                        # вычисляем производную логарифмического правдоподобия по весу\n",
    "                        # ЗАПОЛНИТЕ ПРОПУСКИ В КОДЕ\n",
    "                        dLdw = y - sigma\n",
    "\n",
    "                        # делаем градиентный шаг\n",
    "                        # мы минимизируем отрицательное логарифмическое правдоподобие (второй знак минус)\n",
    "                        # поэтому мы идем в обратную сторону градиента для минимизации (первый знак минус)\n",
    "                        for word in sentence:\n",
    "                            if word in self._vocab:\n",
    "                                self._w[tag][self._vocab[word]] -= -learning_rate*dLdw\n",
    "                                if not word in words:\n",
    "                                    w = self._w[tag][self._vocab[word]]\n",
    "                                    self._w[tag][self._vocab[word]] -= lmbda*(2*gamma*w+(1-gamma)*np.sign(w))\n",
    "                                    words.append(word)                               \n",
    "                        self._b[tag] -= -learning_rate*dLdw\n",
    "                    else:\n",
    "                        if sigma >= 0.9:\n",
    "                            tags_predict.add(tag)\n",
    "                           \n",
    "                if n >= top_n_train:\n",
    "                    acc.append(len(tags.intersection(tags_predict))/len(tags.union(tags_predict)))\n",
    "                    \n",
    "                n += 1\n",
    "                        \n",
    "                self._loss.append(sample_loss)\n",
    "                \n",
    "                if n > total: break\n",
    "                    \n",
    "        return np.mean(acc)"
   ]
  },
  {
   "cell_type": "code",
   "execution_count": 28,
   "metadata": {},
   "outputs": [
    {
     "data": {
      "application/vnd.jupyter.widget-view+json": {
       "model_id": "4ee62dc54dbb47699ef7dd404bdcc9f7",
       "version_major": 2,
       "version_minor": 0
      },
      "text/plain": [
       "A Jupyter Widget"
      ]
     },
     "metadata": {},
     "output_type": "display_data"
    },
    {
     "name": "stdout",
     "output_type": "stream",
     "text": [
      "\n"
     ]
    },
    {
     "name": "stderr",
     "output_type": "stream",
     "text": [
      "Exception in thread Thread-14:\n",
      "Traceback (most recent call last):\n",
      "  File \"/Users/krasnovdenis/anaconda3/lib/python3.6/threading.py\", line 916, in _bootstrap_inner\n",
      "    self.run()\n",
      "  File \"/Users/krasnovdenis/anaconda3/lib/python3.6/site-packages/tqdm/_tqdm.py\", line 148, in run\n",
      "    for instance in self.tqdm_cls._instances:\n",
      "  File \"/Users/krasnovdenis/anaconda3/lib/python3.6/_weakrefset.py\", line 60, in __iter__\n",
      "    for itemref in self.data:\n",
      "RuntimeError: Set changed size during iteration\n",
      "\n"
     ]
    },
    {
     "name": "stdout",
     "output_type": "stream",
     "text": [
      "\n",
      "0.55\n"
     ]
    }
   ],
   "source": [
    "model = LogRegressor()\n",
    "acc = model.iterate_file(update_vocab=True)\n",
    "print('%0.2f' % acc)\n",
    "#plt.plot(pd.Series(model._loss[:-25000]).rolling(10000).mean());"
   ]
  },
  {
   "cell_type": "code",
   "execution_count": 29,
   "metadata": {},
   "outputs": [],
   "source": [
    "# оставим только топ 10 000 слов\n",
    "model.filter_vocab(n=10000)"
   ]
  },
  {
   "cell_type": "code",
   "execution_count": 30,
   "metadata": {},
   "outputs": [
    {
     "data": {
      "application/vnd.jupyter.widget-view+json": {
       "model_id": "87da9aefbdd14d9a89ca4b5e4aa92a68",
       "version_major": 2,
       "version_minor": 0
      },
      "text/plain": [
       "A Jupyter Widget"
      ]
     },
     "metadata": {},
     "output_type": "display_data"
    },
    {
     "name": "stdout",
     "output_type": "stream",
     "text": [
      "\n",
      "0.69\n"
     ]
    },
    {
     "data": {
      "image/png": "iVBORw0KGgoAAAANSUhEUgAAA58AAAKnCAYAAAABT/kIAAAABHNCSVQICAgIfAhkiAAAAAlwSFlz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\nyicAAAB59/8B1Njwz2OosGcAAAAASUVORK5CYII=\n",
      "text/plain": [
       "<matplotlib.figure.Figure at 0x1a4a59d400>"
      ]
     },
     "metadata": {},
     "output_type": "display_data"
    }
   ],
   "source": [
    "# сделаем еще одну итерацию по датасету, уменьшив скорость обучения в 10 раз\n",
    "acc = model.iterate_file(update_vocab=False, learning_rate=0.01)\n",
    "print('%0.2f' % acc)\n",
    "plt.plot(pd.Series(model._loss[:-25000]).rolling(10000).mean());"
   ]
  },
  {
   "cell_type": "markdown",
   "metadata": {
    "collapsed": true
   },
   "source": [
    "<font color=\"red\">Вопрос 9.</font> К какому значению ближе всего полученное значение точности:\n",
    "<font color=\"red\">Варианты ответа:</font>\n",
    "1. 0.48\n",
    "2. 0.58\n",
    "3. 0.68 [+]\n",
    "4. 0.78"
   ]
  },
  {
   "cell_type": "markdown",
   "metadata": {},
   "source": [
    "## 10. Прогнозирование тегов для новых вопросов\n",
    "\n",
    "В завершение этого задания вам предлагается реализовать метод `predict_proba`, который принимает строку, содержащую вопрос, а возвращает список предсказанных тегов вопроса с их вероятностями."
   ]
  },
  {
   "cell_type": "code",
   "execution_count": 50,
   "metadata": {
    "collapsed": true
   },
   "outputs": [],
   "source": [
    "class LogRegressor(LogRegressor):\n",
    "    def predict_proba(self, sentence):\n",
    "        tag_predict = dict([(t, 0) for t in self._tags])\n",
    "        for tag in self._tags:\n",
    "            z = self._b[tag]\n",
    "            for word in sentence:\n",
    "                if word in self._vocab:\n",
    "                    z += self._w[tag][self._vocab[word]]\n",
    "            if z >= 0:\n",
    "                tag_predict[tag] = 1 / (1 + np.exp(-z))\n",
    "            else:\n",
    "                tag_predict[tag] =  np.exp(z) / (1 + np.exp(z))\n",
    "        return tag_predict"
   ]
  },
  {
   "cell_type": "code",
   "execution_count": 51,
   "metadata": {},
   "outputs": [
    {
     "data": {
      "application/vnd.jupyter.widget-view+json": {
       "model_id": "c4ceba7905a24011962c3aa0adc29f16",
       "version_major": 2,
       "version_minor": 0
      },
      "text/plain": [
       "A Jupyter Widget"
      ]
     },
     "metadata": {},
     "output_type": "display_data"
    },
    {
     "name": "stdout",
     "output_type": "stream",
     "text": [
      "\n",
      "0.55\n"
     ]
    },
    {
     "data": {
      "application/vnd.jupyter.widget-view+json": {
       "model_id": "e10a16c7e3014d8e8cffd886dab8c5c9",
       "version_major": 2,
       "version_minor": 0
      },
      "text/plain": [
       "A Jupyter Widget"
      ]
     },
     "metadata": {},
     "output_type": "display_data"
    },
    {
     "name": "stdout",
     "output_type": "stream",
     "text": [
      "\n",
      "0.69\n"
     ]
    }
   ],
   "source": [
    "model = LogRegressor()\n",
    "acc = model.iterate_file(update_vocab=True)\n",
    "print('%0.2f' % acc)\n",
    "model.filter_vocab(n=10000)\n",
    "acc = model.iterate_file(update_vocab=False, learning_rate=0.01)\n",
    "print('%0.2f' % acc)"
   ]
  },
  {
   "cell_type": "code",
   "execution_count": 52,
   "metadata": {
    "collapsed": true
   },
   "outputs": [],
   "source": [
    "sentence = (\"I want to improve my coding skills, so I have planned write \" +\n",
    "            \"a Mobile Application.need to choose between Apple's iOS or Google's Android.\" +\n",
    "            \" my background: I have done basic programming in .Net,C/C++,Python and PHP \" +\n",
    "            \"in college, so got OOP concepts covered. about my skill level, I just know \" +\n",
    "            \"concepts and basic syntax. But can't write complex applications, if asked :(\" +\n",
    "            \" So decided to hone my skills, And I wanted to know which is easier to \" +\n",
    "            \"learn for a programming n00b. A) iOS which uses Objective C B) Android \" + \n",
    "            \"which uses Java. I want to decide based on difficulty \" + \n",
    "            \"level\").lower().replace(',', '')"
   ]
  },
  {
   "cell_type": "code",
   "execution_count": 53,
   "metadata": {},
   "outputs": [
    {
     "data": {
      "text/plain": [
       "[('php', 0.99999999999993916),\n",
       " ('html', 0.99999999999969202),\n",
       " ('javascript', 2.103587232399896e-55),\n",
       " ('android', 1.4782409545579867e-59),\n",
       " ('c++', 2.2240262620627739e-71),\n",
       " ('c#', 4.3284590823417179e-87),\n",
       " ('java', 1.4864684087533873e-113),\n",
       " ('ios', 2.3208620825076233e-218),\n",
       " ('python', 8.3261991338030047e-240),\n",
       " ('jquery', 4.7709203325777616e-271)]"
      ]
     },
     "execution_count": 53,
     "metadata": {},
     "output_type": "execute_result"
    }
   ],
   "source": [
    "sorted(model.predict_proba(sentence).items(), \n",
    "       key=lambda t: t[1], reverse=True)"
   ]
  },
  {
   "cell_type": "markdown",
   "metadata": {},
   "source": [
    "<font color=\"red\">Вопрос 10.</font> Отметьте все теги, ассоциирующиеся с данным вопросом, если порог принятия равен $0.9$. То есть считаем, что вопросу надо поставить некоторый тег, если вероятность его появления, предсказанная моделью, больше или равна 0.9. \n",
    "\n",
    "<font color=\"red\">Варианты ответа:</font>\n",
    "1. android\n",
    "2. ios\n",
    "3. php [+]\n",
    "4. java"
   ]
  },
  {
   "cell_type": "code",
   "execution_count": null,
   "metadata": {
    "collapsed": true
   },
   "outputs": [],
   "source": []
  }
 ],
 "metadata": {
  "kernelspec": {
   "display_name": "Python 3",
   "language": "python",
   "name": "python3"
  },
  "language_info": {
   "codemirror_mode": {
    "name": "ipython",
    "version": 3
   },
   "file_extension": ".py",
   "mimetype": "text/x-python",
   "name": "python",
   "nbconvert_exporter": "python",
   "pygments_lexer": "ipython3",
   "version": "3.6.3"
  }
 },
 "nbformat": 4,
 "nbformat_minor": 2
}
