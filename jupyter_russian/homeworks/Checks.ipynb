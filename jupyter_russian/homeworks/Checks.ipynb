{
 "cells": [
  {
   "cell_type": "code",
   "execution_count": 218,
   "metadata": {},
   "outputs": [],
   "source": [
    "import warnings\n",
    "warnings.filterwarnings('ignore')\n",
    "%matplotlib inline\n",
    "from matplotlib import pyplot as plt\n",
    "import seaborn as sns\n",
    "import os\n",
    "import numpy as np\n",
    "import pandas as pd\n",
    "from scipy.sparse import csr_matrix, hstack\n",
    "from sklearn.preprocessing import StandardScaler, OneHotEncoder, LabelEncoder, MinMaxScaler\n",
    "from sklearn.model_selection import StratifiedKFold, train_test_split\n",
    "from sklearn.metrics import roc_auc_score\n",
    "from sklearn.linear_model import LogisticRegression, LogisticRegressionCV\n",
    "from sklearn.feature_extraction.text import TfidfVectorizer\n",
    "from sklearn.decomposition import PCA"
   ]
  },
  {
   "cell_type": "code",
   "execution_count": 571,
   "metadata": {},
   "outputs": [],
   "source": [
    "data_dir = '../../../data/checks'\n",
    "\n",
    "train = pd.read_csv(os.path.join(data_dir, 'train.csv'), sep=',')\n",
    "train_checks = pd.read_csv(os.path.join(data_dir, 'train_checks.csv'), parse_dates=['datetime'], sep=',')\n",
    "test = pd.read_csv(os.path.join(data_dir, 'test.csv'), sep=',')\n",
    "test_checks = pd.read_csv(os.path.join(data_dir, 'test_checks.csv'), parse_dates=['datetime'], sep=',')\n",
    "\n",
    "catalog1 = pd.read_csv(os.path.join(data_dir, 'catalog1.csv'), sep=',')\n",
    "catalog2 = pd.read_csv(os.path.join(data_dir, 'catalog2.csv'), sep=',')\n",
    "catalog3 = pd.read_csv(os.path.join(data_dir, 'catalog3.csv'), sep=',')"
   ]
  },
  {
   "cell_type": "code",
   "execution_count": 3,
   "metadata": {},
   "outputs": [
    {
     "name": "stdout",
     "output_type": "stream",
     "text": [
      "<class 'pandas.core.frame.DataFrame'>\n",
      "RangeIndex: 13682 entries, 0 to 13681\n",
      "Data columns (total 5 columns):\n",
      "check_id    13682 non-null int64\n",
      "name        13681 non-null object\n",
      "category    13682 non-null object\n",
      "price       13682 non-null float64\n",
      "count       13682 non-null float64\n",
      "dtypes: float64(2), int64(1), object(2)\n",
      "memory usage: 534.5+ KB\n",
      "<class 'pandas.core.frame.DataFrame'>\n",
      "RangeIndex: 2042 entries, 0 to 2041\n",
      "Data columns (total 4 columns):\n",
      "check_id     2042 non-null int64\n",
      "shop_name    1967 non-null object\n",
      "datetime     2042 non-null datetime64[ns]\n",
      "sum          2042 non-null float64\n",
      "dtypes: datetime64[ns](1), float64(1), int64(1), object(1)\n",
      "memory usage: 63.9+ KB\n"
     ]
    },
    {
     "data": {
      "text/plain": [
       "(None, None)"
      ]
     },
     "execution_count": 3,
     "metadata": {},
     "output_type": "execute_result"
    }
   ],
   "source": [
    "train.info(), train_checks.info()"
   ]
  },
  {
   "cell_type": "code",
   "execution_count": 4,
   "metadata": {},
   "outputs": [
    {
     "name": "stdout",
     "output_type": "stream",
     "text": [
      "<class 'pandas.core.frame.DataFrame'>\n",
      "RangeIndex: 3000 entries, 0 to 2999\n",
      "Data columns (total 5 columns):\n",
      "id          3000 non-null int64\n",
      "check_id    3000 non-null int64\n",
      "name        3000 non-null object\n",
      "price       3000 non-null float64\n",
      "count       3000 non-null float64\n",
      "dtypes: float64(2), int64(2), object(1)\n",
      "memory usage: 117.3+ KB\n",
      "<class 'pandas.core.frame.DataFrame'>\n",
      "RangeIndex: 933 entries, 0 to 932\n",
      "Data columns (total 4 columns):\n",
      "check_id     933 non-null int64\n",
      "shop_name    892 non-null object\n",
      "datetime     933 non-null datetime64[ns]\n",
      "sum          933 non-null float64\n",
      "dtypes: datetime64[ns](1), float64(1), int64(1), object(1)\n",
      "memory usage: 29.2+ KB\n"
     ]
    },
    {
     "data": {
      "text/plain": [
       "(None, None)"
      ]
     },
     "execution_count": 4,
     "metadata": {},
     "output_type": "execute_result"
    }
   ],
   "source": [
    "test.info(), test_checks.info()"
   ]
  },
  {
   "cell_type": "code",
   "execution_count": 5,
   "metadata": {},
   "outputs": [
    {
     "name": "stdout",
     "output_type": "stream",
     "text": [
      "<class 'pandas.core.frame.DataFrame'>\n",
      "RangeIndex: 49771 entries, 0 to 49770\n",
      "Data columns (total 3 columns):\n",
      "category            49771 non-null object\n",
      "description         49771 non-null object\n",
      "precise_category    49771 non-null object\n",
      "dtypes: object(3)\n",
      "memory usage: 1.1+ MB\n",
      "<class 'pandas.core.frame.DataFrame'>\n",
      "RangeIndex: 145114 entries, 0 to 145113\n",
      "Data columns (total 3 columns):\n",
      "category         145114 non-null object\n",
      "description      145114 non-null object\n",
      "main_category    145114 non-null object\n",
      "dtypes: object(3)\n",
      "memory usage: 3.3+ MB\n",
      "<class 'pandas.core.frame.DataFrame'>\n",
      "RangeIndex: 67950 entries, 0 to 67949\n",
      "Data columns (total 5 columns):\n",
      "description     55860 non-null object\n",
      "category_id     67950 non-null object\n",
      "category_raw    55860 non-null object\n",
      "PATH            49815 non-null object\n",
      "category        49815 non-null object\n",
      "dtypes: object(5)\n",
      "memory usage: 2.6+ MB\n"
     ]
    },
    {
     "data": {
      "text/plain": [
       "(None, None, None)"
      ]
     },
     "execution_count": 5,
     "metadata": {},
     "output_type": "execute_result"
    }
   ],
   "source": [
    "catalog1.info(), catalog2.info(), catalog3.info()"
   ]
  },
  {
   "cell_type": "code",
   "execution_count": 6,
   "metadata": {},
   "outputs": [
    {
     "data": {
      "text/html": [
       "<div>\n",
       "<style scoped>\n",
       "    .dataframe tbody tr th:only-of-type {\n",
       "        vertical-align: middle;\n",
       "    }\n",
       "\n",
       "    .dataframe tbody tr th {\n",
       "        vertical-align: top;\n",
       "    }\n",
       "\n",
       "    .dataframe thead th {\n",
       "        text-align: right;\n",
       "    }\n",
       "</style>\n",
       "<table border=\"1\" class=\"dataframe\">\n",
       "  <thead>\n",
       "    <tr style=\"text-align: right;\">\n",
       "      <th></th>\n",
       "      <th>check_id</th>\n",
       "      <th>name</th>\n",
       "      <th>category</th>\n",
       "      <th>price</th>\n",
       "      <th>count</th>\n",
       "    </tr>\n",
       "  </thead>\n",
       "  <tbody>\n",
       "    <tr>\n",
       "      <th>3584</th>\n",
       "      <td>997</td>\n",
       "      <td>NaN</td>\n",
       "      <td>Не определена</td>\n",
       "      <td>302.0</td>\n",
       "      <td>1.0</td>\n",
       "    </tr>\n",
       "  </tbody>\n",
       "</table>\n",
       "</div>"
      ],
      "text/plain": [
       "      check_id name       category  price  count\n",
       "3584       997  NaN  Не определена  302.0    1.0"
      ]
     },
     "execution_count": 6,
     "metadata": {},
     "output_type": "execute_result"
    }
   ],
   "source": [
    "train[train.name.isna()]"
   ]
  },
  {
   "cell_type": "code",
   "execution_count": 7,
   "metadata": {},
   "outputs": [
    {
     "data": {
      "text/html": [
       "<div>\n",
       "<style scoped>\n",
       "    .dataframe tbody tr th:only-of-type {\n",
       "        vertical-align: middle;\n",
       "    }\n",
       "\n",
       "    .dataframe tbody tr th {\n",
       "        vertical-align: top;\n",
       "    }\n",
       "\n",
       "    .dataframe thead th {\n",
       "        text-align: right;\n",
       "    }\n",
       "</style>\n",
       "<table border=\"1\" class=\"dataframe\">\n",
       "  <thead>\n",
       "    <tr style=\"text-align: right;\">\n",
       "      <th></th>\n",
       "      <th>check_id</th>\n",
       "      <th>name</th>\n",
       "      <th>category</th>\n",
       "      <th>price</th>\n",
       "      <th>count</th>\n",
       "    </tr>\n",
       "  </thead>\n",
       "  <tbody>\n",
       "    <tr>\n",
       "      <th>0</th>\n",
       "      <td>0</td>\n",
       "      <td>*3479755 ТRUF.Конф.кр.корп.гл.вк.шок180г</td>\n",
       "      <td>Чай и сладкое</td>\n",
       "      <td>49.0</td>\n",
       "      <td>2.0</td>\n",
       "    </tr>\n",
       "    <tr>\n",
       "      <th>1</th>\n",
       "      <td>0</td>\n",
       "      <td>3408392 ECONTA Мешки д/мусора 30л  30шт</td>\n",
       "      <td>Для дома</td>\n",
       "      <td>21.0</td>\n",
       "      <td>1.0</td>\n",
       "    </tr>\n",
       "    <tr>\n",
       "      <th>2</th>\n",
       "      <td>0</td>\n",
       "      <td>3260497 ЯШКИНО Рулет С ВАР.СГУЩ. 200г</td>\n",
       "      <td>Чай и сладкое</td>\n",
       "      <td>39.0</td>\n",
       "      <td>1.0</td>\n",
       "    </tr>\n",
       "    <tr>\n",
       "      <th>3</th>\n",
       "      <td>0</td>\n",
       "      <td>3300573 Пакет ПЯТЕРОЧКА 65х40см</td>\n",
       "      <td>Упаковка</td>\n",
       "      <td>4.0</td>\n",
       "      <td>1.0</td>\n",
       "    </tr>\n",
       "    <tr>\n",
       "      <th>4</th>\n",
       "      <td>0</td>\n",
       "      <td>3413607 ЗЕР/СЕЛ.Сухари с изюмом 250г</td>\n",
       "      <td>Чай и сладкое</td>\n",
       "      <td>35.0</td>\n",
       "      <td>1.0</td>\n",
       "    </tr>\n",
       "  </tbody>\n",
       "</table>\n",
       "</div>"
      ],
      "text/plain": [
       "   check_id                                      name       category  price  \\\n",
       "0         0  *3479755 ТRUF.Конф.кр.корп.гл.вк.шок180г  Чай и сладкое   49.0   \n",
       "1         0   3408392 ECONTA Мешки д/мусора 30л  30шт       Для дома   21.0   \n",
       "2         0     3260497 ЯШКИНО Рулет С ВАР.СГУЩ. 200г  Чай и сладкое   39.0   \n",
       "3         0           3300573 Пакет ПЯТЕРОЧКА 65х40см       Упаковка    4.0   \n",
       "4         0      3413607 ЗЕР/СЕЛ.Сухари с изюмом 250г  Чай и сладкое   35.0   \n",
       "\n",
       "   count  \n",
       "0    2.0  \n",
       "1    1.0  \n",
       "2    1.0  \n",
       "3    1.0  \n",
       "4    1.0  "
      ]
     },
     "execution_count": 7,
     "metadata": {},
     "output_type": "execute_result"
    }
   ],
   "source": [
    "train.head()"
   ]
  },
  {
   "cell_type": "code",
   "execution_count": 8,
   "metadata": {},
   "outputs": [
    {
     "data": {
      "text/plain": [
       "(           check_id          price         count\n",
       " count  13682.000000   13682.000000  13682.000000\n",
       " mean    1875.474784     168.523750      1.442993\n",
       " std     1142.304766    1934.014511      2.510821\n",
       " min        0.000000       0.000000      0.045000\n",
       " 25%      924.000000      30.000000      1.000000\n",
       " 50%     1971.000000      59.000000      1.000000\n",
       " 75%     2831.000000     120.000000      1.000000\n",
       " max     3943.000000  192800.000000     66.070000,\n",
       "                                    name        category\n",
       " count                             13681           13682\n",
       " unique                            11312              25\n",
       " top     3300573 Пакет ПЯТЕРОЧКА 65х40см  Овощи и фрукты\n",
       " freq                                 86            1761)"
      ]
     },
     "execution_count": 8,
     "metadata": {},
     "output_type": "execute_result"
    }
   ],
   "source": [
    "train.describe(), train.describe(include='object')"
   ]
  },
  {
   "cell_type": "code",
   "execution_count": 9,
   "metadata": {},
   "outputs": [
    {
     "data": {
      "text/plain": [
       "array([[<matplotlib.axes._subplots.AxesSubplot object at 0x000000000C1D7BE0>,\n",
       "        <matplotlib.axes._subplots.AxesSubplot object at 0x000000000C5A3A20>],\n",
       "       [<matplotlib.axes._subplots.AxesSubplot object at 0x000000000C5E05C0>,\n",
       "        <matplotlib.axes._subplots.AxesSubplot object at 0x000000000C611470>]],\n",
       "      dtype=object)"
      ]
     },
     "execution_count": 9,
     "metadata": {},
     "output_type": "execute_result"
    },
    {
     "data": {
      "image/png": "[encoded data removed]",
      "text/plain": [
       "<matplotlib.figure.Figure at 0xc1d7780>"
      ]
     },
     "metadata": {},
     "output_type": "display_data"
    }
   ],
   "source": [
    "train[train.price < 20000].hist(figsize=(10,10), bins=50)"
   ]
  },
  {
   "cell_type": "code",
   "execution_count": 10,
   "metadata": {},
   "outputs": [
    {
     "data": {
      "text/plain": [
       "101     100\n",
       "100      91\n",
       "2392     91\n",
       "1169     90\n",
       "2080     88\n",
       "1170     75\n",
       "2393     65\n",
       "2250     62\n",
       "361      55\n",
       "2623     50\n",
       "Name: check_id, dtype: int64"
      ]
     },
     "execution_count": 10,
     "metadata": {},
     "output_type": "execute_result"
    }
   ],
   "source": [
    "train.check_id.value_counts().sort_values(ascending=False)[:10]"
   ]
  },
  {
   "cell_type": "code",
   "execution_count": 11,
   "metadata": {},
   "outputs": [
    {
     "data": {
      "text/plain": [
       "(-192.80100000000002, 32133.333]    13679\n",
       "(160666.667, 192800.0]                  1\n",
       "(64266.667, 96400.0]                    1\n",
       "(32133.333, 64266.667]                  1\n",
       "(128533.333, 160666.667]                0\n",
       "(96400.0, 128533.333]                   0\n",
       "Name: price, dtype: int64"
      ]
     },
     "execution_count": 11,
     "metadata": {},
     "output_type": "execute_result"
    }
   ],
   "source": [
    "train.price.value_counts(bins=6)"
   ]
  },
  {
   "cell_type": "code",
   "execution_count": 12,
   "metadata": {},
   "outputs": [
    {
     "data": {
      "text/plain": [
       "1.000     9154\n",
       "2.000     1524\n",
       "3.000      323\n",
       "4.000      193\n",
       "6.000       72\n",
       "5.000       71\n",
       "10.000      28\n",
       "8.000       16\n",
       "7.000       15\n",
       "0.950       11\n",
       "0.500       10\n",
       "0.180        9\n",
       "0.388        8\n",
       "0.730        8\n",
       "0.710        8\n",
       "30.000       8\n",
       "0.700        8\n",
       "0.220        8\n",
       "0.284        7\n",
       "0.400        7\n",
       "0.340        7\n",
       "0.234        7\n",
       "0.750        7\n",
       "0.356        7\n",
       "0.482        7\n",
       "0.410        7\n",
       "0.328        7\n",
       "0.436        7\n",
       "0.294        7\n",
       "0.230        7\n",
       "          ... \n",
       "24.740       1\n",
       "1.706        1\n",
       "1.564        1\n",
       "1.445        1\n",
       "0.925        1\n",
       "2.234        1\n",
       "1.604        1\n",
       "0.942        1\n",
       "50.000       1\n",
       "12.750       1\n",
       "9.260        1\n",
       "1.046        1\n",
       "2.732        1\n",
       "2.102        1\n",
       "0.157        1\n",
       "2.096        1\n",
       "0.208        1\n",
       "12.488       1\n",
       "0.291        1\n",
       "0.432        1\n",
       "0.751        1\n",
       "1.175        1\n",
       "2.306        1\n",
       "0.155        1\n",
       "1.460        1\n",
       "2.294        1\n",
       "0.737        1\n",
       "1.186        1\n",
       "0.780        1\n",
       "1.052        1\n",
       "Name: count, Length: 1170, dtype: int64"
      ]
     },
     "execution_count": 12,
     "metadata": {},
     "output_type": "execute_result"
    }
   ],
   "source": [
    "train['count'].value_counts()"
   ]
  },
  {
   "cell_type": "code",
   "execution_count": 13,
   "metadata": {},
   "outputs": [
    {
     "data": {
      "text/plain": [
       "Овощи и фрукты    1761\n",
       "Чай и сладкое     1485\n",
       "Молочка           1415\n",
       "Для дома          1271\n",
       "Бакалея           1051\n",
       "Гастрономия        878\n",
       "Хлеб               652\n",
       "Упаковка           628\n",
       "Мясо и птица       600\n",
       "Напитки            567\n",
       "Дети               503\n",
       "Кафе               422\n",
       "Здоровье           375\n",
       "Алкоголь           343\n",
       "Снеки              332\n",
       "Кулинария          235\n",
       "Косметика          230\n",
       "Животные           191\n",
       "Одежда и обувь     190\n",
       "Услуги             140\n",
       "Машина             118\n",
       "Табак               99\n",
       "Рыба                75\n",
       "Не определена       70\n",
       "Компьютер           51\n",
       "Name: category, dtype: int64"
      ]
     },
     "execution_count": 13,
     "metadata": {},
     "output_type": "execute_result"
    }
   ],
   "source": [
    "train.category.value_counts()"
   ]
  },
  {
   "cell_type": "code",
   "execution_count": 14,
   "metadata": {},
   "outputs": [
    {
     "data": {
      "text/plain": [
       "3300573 Пакет ПЯТЕРОЧКА 65х40см                       86\n",
       "БАНАНЫ свеж. (цена за 1кг)                            41\n",
       "Пакет ЛЕНТА майка 9кг                                 31\n",
       "Пакет ЛЕНТА средний майка 12кг                        24\n",
       "809 Бананы 1кг                                        24\n",
       "ЯБЛОКИ свеж УРОЖАЙ (цена за кг)                       22\n",
       "Пакет \"Магнит\" белый (Пластиктре                      21\n",
       "Пакет \"Магнит\" белый (Пластиктрейд)                   18\n",
       "АПЕЛЬСИНЫ свеж. (цена за 1кг)                         16\n",
       "Бананы вес 1кг                                        16\n",
       "3182853 Яйца кур.С0 стол.фас.10шт                     16\n",
       "807 Яблоко сезонное 1кг                               15\n",
       "МАНДАРИНЫ свежие (цена за 1кг)                        15\n",
       "47642 Мандарины                   1кг                 14\n",
       "БАНАНЫ                                                14\n",
       "ПАКЕТ-МАЙКА ДИКСИ 38Х65 ПНД 12                        14\n",
       "Багет с ветчиной и сыром 300г                         13\n",
       "Пакет с логотипом                                     13\n",
       "СВЯТОЙ ИСТОЧНИК Спортик Вода пит негаз0,33л ПЭТ(Ак    13\n",
       "ЯЙЦО столовое С1 10шт (бокс) :20                      12\n",
       "Name: name, dtype: int64"
      ]
     },
     "execution_count": 14,
     "metadata": {},
     "output_type": "execute_result"
    }
   ],
   "source": [
    "train.name.value_counts().sort_values(ascending=False)[:20]"
   ]
  },
  {
   "cell_type": "code",
   "execution_count": 15,
   "metadata": {},
   "outputs": [
    {
     "data": {
      "text/plain": [
       "array([[<matplotlib.axes._subplots.AxesSubplot object at 0x000000000D623DA0>,\n",
       "        <matplotlib.axes._subplots.AxesSubplot object at 0x000000000D3C2D68>]],\n",
       "      dtype=object)"
      ]
     },
     "execution_count": 15,
     "metadata": {},
     "output_type": "execute_result"
    },
    {
     "data": {
      "image/png": "[encoded data removed]",
      "text/plain": [
       "<matplotlib.figure.Figure at 0xc737dd8>"
      ]
     },
     "metadata": {},
     "output_type": "display_data"
    }
   ],
   "source": [
    "train_checks[train_checks['sum'] < 35000 ].hist(figsize=(10, 10), bins=50)"
   ]
  },
  {
   "cell_type": "code",
   "execution_count": 16,
   "metadata": {},
   "outputs": [
    {
     "data": {
      "text/plain": [
       "Index(['check_id', 'shop_name', 'datetime', 'sum'], dtype='object')"
      ]
     },
     "execution_count": 16,
     "metadata": {},
     "output_type": "execute_result"
    }
   ],
   "source": [
    "train_checks.columns"
   ]
  },
  {
   "cell_type": "code",
   "execution_count": 17,
   "metadata": {},
   "outputs": [
    {
     "data": {
      "text/plain": [
       "Не известно                                      309\n",
       "Тандер                                           194\n",
       "Лента                                            188\n",
       "Агроторг                                          85\n",
       "Дикси ЮГ                                          36\n",
       "АШАН                                              36\n",
       "О'КЕЙ                                             30\n",
       "Сити                                              25\n",
       "Камелот-А                                         22\n",
       "Гиперглобус                                       19\n",
       "АГРОТОРГ                                          18\n",
       "ТД Интерторг                                      18\n",
       "ТД Перекресток                                    18\n",
       "Бургер Рус                                        18\n",
       "Бэст Прайс                                        17\n",
       "Газпромнефть-Центр                                16\n",
       "ОБЩЕСТВО С ОГРАНИЧЕННОЙ ОТВЕТСТВЕННОСТЬЮ АШАН     15\n",
       "АТАК                                              15\n",
       "Дикси Юг                                          13\n",
       "МЕРИДИАНА                                         12\n",
       "Name: shop_name, dtype: int64"
      ]
     },
     "execution_count": 17,
     "metadata": {},
     "output_type": "execute_result"
    }
   ],
   "source": [
    "train_checks.shop_name.value_counts()[:20]"
   ]
  },
  {
   "cell_type": "code",
   "execution_count": 18,
   "metadata": {},
   "outputs": [
    {
     "data": {
      "text/plain": [
       "18    240\n",
       "19    209\n",
       "17    192\n",
       "15    181\n",
       "14    175\n",
       "16    155\n",
       "20    154\n",
       "12    152\n",
       "13    137\n",
       "11     97\n",
       "21     89\n",
       "10     86\n",
       "9      56\n",
       "22     37\n",
       "8      31\n",
       "7      15\n",
       "23     15\n",
       "0       7\n",
       "1       4\n",
       "6       3\n",
       "5       3\n",
       "3       3\n",
       "2       1\n",
       "Name: datetime, dtype: int64"
      ]
     },
     "execution_count": 18,
     "metadata": {},
     "output_type": "execute_result"
    }
   ],
   "source": [
    "train_checks.datetime.dt.hour.value_counts()"
   ]
  },
  {
   "cell_type": "code",
   "execution_count": 19,
   "metadata": {},
   "outputs": [
    {
     "data": {
      "text/plain": [
       "2018    1678\n",
       "2017     364\n",
       "Name: datetime, dtype: int64"
      ]
     },
     "execution_count": 19,
     "metadata": {},
     "output_type": "execute_result"
    }
   ],
   "source": [
    "train_checks.datetime.dt.year.value_counts()"
   ]
  },
  {
   "cell_type": "code",
   "execution_count": 20,
   "metadata": {},
   "outputs": [
    {
     "data": {
      "text/plain": [
       "1     1611\n",
       "12     231\n",
       "11      73\n",
       "2       67\n",
       "9       27\n",
       "10      23\n",
       "8        9\n",
       "7        1\n",
       "Name: datetime, dtype: int64"
      ]
     },
     "execution_count": 20,
     "metadata": {},
     "output_type": "execute_result"
    }
   ],
   "source": [
    "train_checks.datetime.dt.month.value_counts()"
   ]
  },
  {
   "cell_type": "code",
   "execution_count": 21,
   "metadata": {},
   "outputs": [
    {
     "data": {
      "text/plain": [
       "6    330\n",
       "1    319\n",
       "2    299\n",
       "5    291\n",
       "4    278\n",
       "3    267\n",
       "0    258\n",
       "Name: datetime, dtype: int64"
      ]
     },
     "execution_count": 21,
     "metadata": {},
     "output_type": "execute_result"
    }
   ],
   "source": [
    "train_checks.datetime.dt.weekday.value_counts()"
   ]
  },
  {
   "cell_type": "code",
   "execution_count": 22,
   "metadata": {},
   "outputs": [
    {
     "data": {
      "text/plain": [
       "(-192.80100000000002, 38560.0]    2040\n",
       "(154240.0, 192800.0]                 1\n",
       "(77120.0, 115680.0]                  1\n",
       "(115680.0, 154240.0]                 0\n",
       "(38560.0, 77120.0]                   0\n",
       "Name: sum, dtype: int64"
      ]
     },
     "execution_count": 22,
     "metadata": {},
     "output_type": "execute_result"
    }
   ],
   "source": [
    "train_checks['sum'].value_counts(bins=5)"
   ]
  },
  {
   "cell_type": "code",
   "execution_count": 23,
   "metadata": {},
   "outputs": [
    {
     "data": {
      "text/plain": [
       "array([[<matplotlib.axes._subplots.AxesSubplot object at 0x000000000D428EB8>,\n",
       "        <matplotlib.axes._subplots.AxesSubplot object at 0x000000000D573C50>],\n",
       "       [<matplotlib.axes._subplots.AxesSubplot object at 0x000000000D5ADC50>,\n",
       "        <matplotlib.axes._subplots.AxesSubplot object at 0x000000000E085C50>]],\n",
       "      dtype=object)"
      ]
     },
     "execution_count": 23,
     "metadata": {},
     "output_type": "execute_result"
    },
    {
     "data": {
      "image/png": "[encoded data removed]",
      "text/plain": [
       "<matplotlib.figure.Figure at 0xd500978>"
      ]
     },
     "metadata": {},
     "output_type": "display_data"
    }
   ],
   "source": [
    "test.hist(figsize=(10, 10), bins=50)"
   ]
  },
  {
   "cell_type": "code",
   "execution_count": 24,
   "metadata": {},
   "outputs": [
    {
     "data": {
      "text/plain": [
       "array([[<matplotlib.axes._subplots.AxesSubplot object at 0x000000000E617860>,\n",
       "        <matplotlib.axes._subplots.AxesSubplot object at 0x000000000F3CEDD8>]],\n",
       "      dtype=object)"
      ]
     },
     "execution_count": 24,
     "metadata": {},
     "output_type": "execute_result"
    },
    {
     "data": {
      "image/png": "[encoded data removed]",
      "text/plain": [
       "<matplotlib.figure.Figure at 0xe5d20f0>"
      ]
     },
     "metadata": {},
     "output_type": "display_data"
    }
   ],
   "source": [
    "test_checks.hist(figsize=(10, 10), bins=50)"
   ]
  },
  {
   "cell_type": "code",
   "execution_count": 25,
   "metadata": {},
   "outputs": [
    {
     "data": {
      "text/plain": [
       "3300573 Пакет ПЯТЕРОЧКА 65х40см            13\n",
       "Пакет ЛЕНТА средний майка 12кг              8\n",
       "СТОИМ.                                      8\n",
       "ХЛЕБ ЕВРОПЕЙСКИЙ800Г                        7\n",
       "Пакет ЛЕНТА майка 9кг                       7\n",
       "197 Лук репчатый 1кг                        7\n",
       "Апельсины импорт вес. 1кг                   6\n",
       "КЕФИР 2.5% 900 ГР                           6\n",
       "БЕЗ НАИМЕНОВАНИЯ                            6\n",
       "ЛУК РЕПЧАТЫЙ ВЕС                            5\n",
       "АКВА ИДЕАЛ ПИТ 5Л                           5\n",
       "СУШКА КУКУРУЗНАЯ 200                        5\n",
       "КОНФ ГЛЕЙС 1КГ                              5\n",
       "3230933 ТЕНД.Сахар-песок/Сахар бел.1кг      5\n",
       "3074383 Картофель 1кг                       5\n",
       "ЧИЗБУРГЕР                                   4\n",
       "3182853 Яйца кур.С0 стол.фас.10шт           4\n",
       "*71029 Зелень Укроп в упаковке 100г         4\n",
       "2138999 Морковь весовая             1кг     4\n",
       "Шоколад ALPEN GOLD Мол. каппучино 90г       4\n",
       "Name: name, dtype: int64"
      ]
     },
     "execution_count": 25,
     "metadata": {},
     "output_type": "execute_result"
    }
   ],
   "source": [
    "test.name.value_counts()[:20]"
   ]
  },
  {
   "cell_type": "code",
   "execution_count": 26,
   "metadata": {},
   "outputs": [
    {
     "data": {
      "text/plain": [
       "Index(['check_id', 'name', 'category', 'price', 'count'], dtype='object')"
      ]
     },
     "execution_count": 26,
     "metadata": {},
     "output_type": "execute_result"
    }
   ],
   "source": [
    "train.columns"
   ]
  },
  {
   "cell_type": "code",
   "execution_count": 27,
   "metadata": {},
   "outputs": [
    {
     "data": {
      "text/html": [
       "<div>\n",
       "<style scoped>\n",
       "    .dataframe tbody tr th:only-of-type {\n",
       "        vertical-align: middle;\n",
       "    }\n",
       "\n",
       "    .dataframe tbody tr th {\n",
       "        vertical-align: top;\n",
       "    }\n",
       "\n",
       "    .dataframe thead th {\n",
       "        text-align: right;\n",
       "    }\n",
       "</style>\n",
       "<table border=\"1\" class=\"dataframe\">\n",
       "  <thead>\n",
       "    <tr style=\"text-align: right;\">\n",
       "      <th></th>\n",
       "      <th>category</th>\n",
       "      <th>description</th>\n",
       "      <th>precise_category</th>\n",
       "    </tr>\n",
       "  </thead>\n",
       "  <tbody>\n",
       "    <tr>\n",
       "      <th>0</th>\n",
       "      <td>Рыба</td>\n",
       "      <td>КРЕВЕТКА ВАРЕНАЯ ОЧИЩЕННАЯ CPUD \"АКУЛА\" 500 ГР.</td>\n",
       "      <td>Креветки замороженные</td>\n",
       "    </tr>\n",
       "    <tr>\n",
       "      <th>1</th>\n",
       "      <td>Чай и сладкое</td>\n",
       "      <td>ТОРТ ВАФЕЛЬНЫЙ ШОКОЛАДНИЦА ТМ КОЛОМЕНСКОЕ</td>\n",
       "      <td>Торты вафельные в шоколадной глазури длительно...</td>\n",
       "    </tr>\n",
       "    <tr>\n",
       "      <th>2</th>\n",
       "      <td>Для дома</td>\n",
       "      <td>СРЕДСТВО ЖИДКОЕ МОЮЩЕЕ ДЛЯ МЫТЬЯ ПОСУДЫ \"SANIT...</td>\n",
       "      <td>Жидкость для мытья посуды</td>\n",
       "    </tr>\n",
       "    <tr>\n",
       "      <th>3</th>\n",
       "      <td>Табачные изделия</td>\n",
       "      <td>СИГАРЕТЫ \"СТЮАРДЕССА\" 20 ШТ.</td>\n",
       "      <td>Сигареты классические другие</td>\n",
       "    </tr>\n",
       "    <tr>\n",
       "      <th>4</th>\n",
       "      <td>Бакалея</td>\n",
       "      <td>ЛАПША БЫСТРОГО ПРИГОТОВЛЕНИЯ \"ДОШИРАК\" СО ВКУС...</td>\n",
       "      <td>Лапша быстрого приготовления другая</td>\n",
       "    </tr>\n",
       "  </tbody>\n",
       "</table>\n",
       "</div>"
      ],
      "text/plain": [
       "           category                                        description  \\\n",
       "0              Рыба    КРЕВЕТКА ВАРЕНАЯ ОЧИЩЕННАЯ CPUD \"АКУЛА\" 500 ГР.   \n",
       "1     Чай и сладкое          ТОРТ ВАФЕЛЬНЫЙ ШОКОЛАДНИЦА ТМ КОЛОМЕНСКОЕ   \n",
       "2          Для дома  СРЕДСТВО ЖИДКОЕ МОЮЩЕЕ ДЛЯ МЫТЬЯ ПОСУДЫ \"SANIT...   \n",
       "3  Табачные изделия                       СИГАРЕТЫ \"СТЮАРДЕССА\" 20 ШТ.   \n",
       "4           Бакалея  ЛАПША БЫСТРОГО ПРИГОТОВЛЕНИЯ \"ДОШИРАК\" СО ВКУС...   \n",
       "\n",
       "                                    precise_category  \n",
       "0                              Креветки замороженные  \n",
       "1  Торты вафельные в шоколадной глазури длительно...  \n",
       "2                          Жидкость для мытья посуды  \n",
       "3                       Сигареты классические другие  \n",
       "4                Лапша быстрого приготовления другая  "
      ]
     },
     "execution_count": 27,
     "metadata": {},
     "output_type": "execute_result"
    }
   ],
   "source": [
    "catalog1.head()"
   ]
  },
  {
   "cell_type": "code",
   "execution_count": 28,
   "metadata": {},
   "outputs": [
    {
     "data": {
      "text/plain": [
       "['No',\n",
       " 'Аксессуары',\n",
       " 'Алкоголь',\n",
       " 'Бакалея',\n",
       " 'Гастрономия',\n",
       " 'Дети',\n",
       " 'Диетическое питание',\n",
       " 'Для дома',\n",
       " 'Животные',\n",
       " 'Здоровье',\n",
       " 'Косметика',\n",
       " 'Кулинария',\n",
       " 'Молочка',\n",
       " 'Морозилка',\n",
       " 'Мясо и птица',\n",
       " 'Напитки',\n",
       " 'Овощи и фрукты',\n",
       " 'Рыба',\n",
       " 'Табачные изделия',\n",
       " 'Хлеб',\n",
       " 'Чай и сладкое']"
      ]
     },
     "execution_count": 28,
     "metadata": {},
     "output_type": "execute_result"
    }
   ],
   "source": [
    "sorted(catalog1.category.unique())"
   ]
  },
  {
   "cell_type": "code",
   "execution_count": 29,
   "metadata": {},
   "outputs": [
    {
     "data": {
      "text/html": [
       "<div>\n",
       "<style scoped>\n",
       "    .dataframe tbody tr th:only-of-type {\n",
       "        vertical-align: middle;\n",
       "    }\n",
       "\n",
       "    .dataframe tbody tr th {\n",
       "        vertical-align: top;\n",
       "    }\n",
       "\n",
       "    .dataframe thead th {\n",
       "        text-align: right;\n",
       "    }\n",
       "</style>\n",
       "<table border=\"1\" class=\"dataframe\">\n",
       "  <thead>\n",
       "    <tr style=\"text-align: right;\">\n",
       "      <th></th>\n",
       "      <th>category</th>\n",
       "      <th>description</th>\n",
       "      <th>main_category</th>\n",
       "    </tr>\n",
       "  </thead>\n",
       "  <tbody>\n",
       "    <tr>\n",
       "      <th>0</th>\n",
       "      <td>Для дома</td>\n",
       "      <td>Lil1280-3\\tблюдо</td>\n",
       "      <td>Посуда, кухонные аксессуары</td>\n",
       "    </tr>\n",
       "    <tr>\n",
       "      <th>1</th>\n",
       "      <td>Для дома</td>\n",
       "      <td>Lil1280-7\\tблюдо</td>\n",
       "      <td>Посуда, кухонные аксессуары</td>\n",
       "    </tr>\n",
       "    <tr>\n",
       "      <th>2</th>\n",
       "      <td>Для дома</td>\n",
       "      <td>Lil1280-2\\tблюдо</td>\n",
       "      <td>Посуда, кухонные аксессуары</td>\n",
       "    </tr>\n",
       "    <tr>\n",
       "      <th>3</th>\n",
       "      <td>Для дома</td>\n",
       "      <td>Lil1280-10\\tблюдо</td>\n",
       "      <td>Посуда, кухонные аксессуары</td>\n",
       "    </tr>\n",
       "    <tr>\n",
       "      <th>4</th>\n",
       "      <td>Для дома</td>\n",
       "      <td>Lil1280-1\\tблюдо</td>\n",
       "      <td>Посуда, кухонные аксессуары</td>\n",
       "    </tr>\n",
       "  </tbody>\n",
       "</table>\n",
       "</div>"
      ],
      "text/plain": [
       "   category        description                main_category\n",
       "0  Для дома   Lil1280-3\\tблюдо  Посуда, кухонные аксессуары\n",
       "1  Для дома   Lil1280-7\\tблюдо  Посуда, кухонные аксессуары\n",
       "2  Для дома   Lil1280-2\\tблюдо  Посуда, кухонные аксессуары\n",
       "3  Для дома  Lil1280-10\\tблюдо  Посуда, кухонные аксессуары\n",
       "4  Для дома   Lil1280-1\\tблюдо  Посуда, кухонные аксессуары"
      ]
     },
     "execution_count": 29,
     "metadata": {},
     "output_type": "execute_result"
    }
   ],
   "source": [
    "catalog2.head()"
   ]
  },
  {
   "cell_type": "code",
   "execution_count": 30,
   "metadata": {},
   "outputs": [
    {
     "data": {
      "text/html": [
       "<div>\n",
       "<style scoped>\n",
       "    .dataframe tbody tr th:only-of-type {\n",
       "        vertical-align: middle;\n",
       "    }\n",
       "\n",
       "    .dataframe tbody tr th {\n",
       "        vertical-align: top;\n",
       "    }\n",
       "\n",
       "    .dataframe thead th {\n",
       "        text-align: right;\n",
       "    }\n",
       "</style>\n",
       "<table border=\"1\" class=\"dataframe\">\n",
       "  <thead>\n",
       "    <tr style=\"text-align: right;\">\n",
       "      <th></th>\n",
       "      <th>description</th>\n",
       "      <th>category_id</th>\n",
       "      <th>category_raw</th>\n",
       "      <th>PATH</th>\n",
       "      <th>category</th>\n",
       "    </tr>\n",
       "  </thead>\n",
       "  <tbody>\n",
       "    <tr>\n",
       "      <th>0</th>\n",
       "      <td>Пиво \"Жигулевское\" 0,5 л. св.</td>\n",
       "      <td>35</td>\n",
       "      <td>Пиво, слабоалкогольные напитки</td>\n",
       "      <td>Алкоголь-&gt;Пиво, слабоалкогольные напитки</td>\n",
       "      <td>Алкоголь</td>\n",
       "    </tr>\n",
       "    <tr>\n",
       "      <th>1</th>\n",
       "      <td>пиво ягерь</td>\n",
       "      <td>35</td>\n",
       "      <td>Пиво, слабоалкогольные напитки</td>\n",
       "      <td>Алкоголь-&gt;Пиво, слабоалкогольные напитки</td>\n",
       "      <td>Алкоголь</td>\n",
       "    </tr>\n",
       "    <tr>\n",
       "      <th>2</th>\n",
       "      <td>Пиво светлое (пастеризованное) \"Жатецкий Гусь\"...</td>\n",
       "      <td>35</td>\n",
       "      <td>Пиво, слабоалкогольные напитки</td>\n",
       "      <td>Алкоголь-&gt;Пиво, слабоалкогольные напитки</td>\n",
       "      <td>Алкоголь</td>\n",
       "    </tr>\n",
       "    <tr>\n",
       "      <th>3</th>\n",
       "      <td>Пиво \"Жатецкий Гусь \"  светлое стекло 0,5 л., ...</td>\n",
       "      <td>35</td>\n",
       "      <td>Пиво, слабоалкогольные напитки</td>\n",
       "      <td>Алкоголь-&gt;Пиво, слабоалкогольные напитки</td>\n",
       "      <td>Алкоголь</td>\n",
       "    </tr>\n",
       "    <tr>\n",
       "      <th>4</th>\n",
       "      <td>Линза полимерная астигматическая</td>\n",
       "      <td>35</td>\n",
       "      <td>Пиво, слабоалкогольные напитки</td>\n",
       "      <td>Алкоголь-&gt;Пиво, слабоалкогольные напитки</td>\n",
       "      <td>Алкоголь</td>\n",
       "    </tr>\n",
       "  </tbody>\n",
       "</table>\n",
       "</div>"
      ],
      "text/plain": [
       "                                         description category_id  \\\n",
       "0                      Пиво \"Жигулевское\" 0,5 л. св.          35   \n",
       "1                                         пиво ягерь          35   \n",
       "2  Пиво светлое (пастеризованное) \"Жатецкий Гусь\"...          35   \n",
       "3  Пиво \"Жатецкий Гусь \"  светлое стекло 0,5 л., ...          35   \n",
       "4                   Линза полимерная астигматическая          35   \n",
       "\n",
       "                     category_raw                                      PATH  \\\n",
       "0  Пиво, слабоалкогольные напитки  Алкоголь->Пиво, слабоалкогольные напитки   \n",
       "1  Пиво, слабоалкогольные напитки  Алкоголь->Пиво, слабоалкогольные напитки   \n",
       "2  Пиво, слабоалкогольные напитки  Алкоголь->Пиво, слабоалкогольные напитки   \n",
       "3  Пиво, слабоалкогольные напитки  Алкоголь->Пиво, слабоалкогольные напитки   \n",
       "4  Пиво, слабоалкогольные напитки  Алкоголь->Пиво, слабоалкогольные напитки   \n",
       "\n",
       "   category  \n",
       "0  Алкоголь  \n",
       "1  Алкоголь  \n",
       "2  Алкоголь  \n",
       "3  Алкоголь  \n",
       "4  Алкоголь  "
      ]
     },
     "execution_count": 30,
     "metadata": {},
     "output_type": "execute_result"
    }
   ],
   "source": [
    "catalog3.head()"
   ]
  },
  {
   "cell_type": "code",
   "execution_count": 31,
   "metadata": {},
   "outputs": [
    {
     "data": {
      "text/plain": [
       "['Алкоголь',\n",
       " 'Бакалея',\n",
       " 'Дети',\n",
       " 'Диетическое питание',\n",
       " 'Для дома',\n",
       " 'Животные',\n",
       " 'Здоровье',\n",
       " 'Косметика',\n",
       " 'Кулинария',\n",
       " 'Молочка',\n",
       " 'Морозилка',\n",
       " 'Мясо и птица',\n",
       " 'Напитки',\n",
       " 'Овощи и фрукты',\n",
       " 'Одежда и обувь',\n",
       " 'Рыба',\n",
       " 'Табачные изделия',\n",
       " 'Хлеб',\n",
       " 'Чай и сладкое']"
      ]
     },
     "execution_count": 31,
     "metadata": {},
     "output_type": "execute_result"
    }
   ],
   "source": [
    "sorted(catalog2.category.unique())"
   ]
  },
  {
   "cell_type": "code",
   "execution_count": 32,
   "metadata": {},
   "outputs": [
    {
     "data": {
      "text/plain": [
       "Не используется    21804\n",
       "NaN                18135\n",
       "Алкоголь           11920\n",
       "Для дома            7159\n",
       "Одежда и обувь      3548\n",
       "Дети                2999\n",
       "Здоровье             606\n",
       "Упаковка             604\n",
       "Машина               603\n",
       "Компьютер            572\n",
       "Name: category, dtype: int64"
      ]
     },
     "execution_count": 32,
     "metadata": {},
     "output_type": "execute_result"
    }
   ],
   "source": [
    "catalog3.category.value_counts(dropna=False)"
   ]
  },
  {
   "cell_type": "code",
   "execution_count": 33,
   "metadata": {},
   "outputs": [
    {
     "data": {
      "text/plain": [
       "(Товары, ожидающие каталогизации                                 1379\n",
       " Товары, снятые с производства                                    522\n",
       " Семечки подсолнечника жареные несоленые                          217\n",
       " Пиво светлое в стекле 0,5л                                       192\n",
       " Крем-краска для волос                                            178\n",
       " Печенье другое                                                   166\n",
       " Водка классическая 0,5л                                          156\n",
       " Сигареты классические другие                                     147\n",
       " Каши фруктовые быстрого приготовления в порционных пакетиках     137\n",
       " Палочки кукурузные                                               135\n",
       " Масла эфирные                                                    132\n",
       " Средства от насекомых и грызунов, инсектициды                    131\n",
       " Бальзам для волос                                                131\n",
       " Кофе молотый традиционный другой                                 128\n",
       " Чипсы картофельные натуральные другие                            120\n",
       " Пельмени с говядиной и свининой                                  120\n",
       " Чай черный в пакетиках традиционный цейлонский                   118\n",
       " Бумага туалетная 1 рулон                                         117\n",
       " Лапша быстрого приготовления другая                              116\n",
       " Кремы для лица другие                                            116\n",
       " Name: precise_category, dtype: int64, 2637)"
      ]
     },
     "execution_count": 33,
     "metadata": {},
     "output_type": "execute_result"
    }
   ],
   "source": [
    "catalog1.precise_category.value_counts()[:20], catalog1.precise_category.nunique()"
   ]
  },
  {
   "cell_type": "code",
   "execution_count": 34,
   "metadata": {},
   "outputs": [
    {
     "data": {
      "text/plain": [
       "(Посуда, кухонные аксессуары            12720\n",
       " Ухаживающая косметика и аксессуары      7493\n",
       " Товары для офиса, канцтовары            6922\n",
       " Алкоголь                                6381\n",
       " Молочные продукты                       6375\n",
       " Детская одежда                          5732\n",
       " Косметика декоративная и аксессуары     5162\n",
       " Домашний текстиль                       5159\n",
       " Мясо и мясная продукция                 4915\n",
       " Гигиенические изделия и средства        4883\n",
       " Хлебобулочные, кондитерские изделия     4705\n",
       " Одежда и обувь                          3948\n",
       " Медицина                                3774\n",
       " Книги, журналы, газеты                  3674\n",
       " Табачные изделия                        3456\n",
       " Чай, кофе, какао                        3344\n",
       " Бытовая химия                           3176\n",
       " Снеки (семечки, сухарики, чипсы)        2964\n",
       " Товары для уборки помещений             2471\n",
       " Строительство и ремонт                  2466\n",
       " Name: main_category, dtype: int64, 66)"
      ]
     },
     "execution_count": 34,
     "metadata": {},
     "output_type": "execute_result"
    }
   ],
   "source": [
    "catalog2.main_category.value_counts()[:20], catalog2.main_category.nunique()"
   ]
  },
  {
   "cell_type": "code",
   "execution_count": 35,
   "metadata": {},
   "outputs": [
    {
     "data": {
      "text/plain": [
       "(Табачные изделия                   6045\n",
       " Продукты питания                   6014\n",
       " Хозтовары                          5975\n",
       " Косметика, гигиена и парфюмерия    5972\n",
       " Алкоголь                           5963\n",
       " Пиво, слабоалкогольные напитки     5957\n",
       " Цветы                              3050\n",
       " Детские товары, игрушки            2999\n",
       " Обувь                              2961\n",
       " Сувениры                            639\n",
       " Стройматериалы                      633\n",
       " н/д                                 626\n",
       " Зоотовары                           618\n",
       " Текстильные товары                  616\n",
       " Спорттовары                         613\n",
       " Канцтовары                          612\n",
       " Бытовые услуги                      608\n",
       " Игрушки для взрослых                607\n",
       " Мед.товары                          606\n",
       " Упаковка                            604\n",
       " Name: category_raw, dtype: int64, 29)"
      ]
     },
     "execution_count": 35,
     "metadata": {},
     "output_type": "execute_result"
    }
   ],
   "source": [
    "catalog3.category_raw.value_counts()[:20], catalog3.category_raw.nunique()"
   ]
  },
  {
   "cell_type": "code",
   "execution_count": 572,
   "metadata": {},
   "outputs": [],
   "source": [
    "train_merged = pd.merge(train, train_checks, on='check_id', how='left')\n",
    "test_merged = pd.merge(test, test_checks, on='check_id', how='left')"
   ]
  },
  {
   "cell_type": "code",
   "execution_count": 573,
   "metadata": {},
   "outputs": [
    {
     "name": "stdout",
     "output_type": "stream",
     "text": [
      "<class 'pandas.core.frame.DataFrame'>\n",
      "Int64Index: 13682 entries, 0 to 13681\n",
      "Data columns (total 8 columns):\n",
      "check_id     13682 non-null int64\n",
      "name         13681 non-null object\n",
      "category     13682 non-null object\n",
      "price        13682 non-null float64\n",
      "count        13682 non-null float64\n",
      "shop_name    13453 non-null object\n",
      "datetime     13682 non-null datetime64[ns]\n",
      "sum          13682 non-null float64\n",
      "dtypes: datetime64[ns](1), float64(3), int64(1), object(3)\n",
      "memory usage: 962.0+ KB\n"
     ]
    }
   ],
   "source": [
    "train_merged.info()"
   ]
  },
  {
   "cell_type": "code",
   "execution_count": 574,
   "metadata": {},
   "outputs": [],
   "source": [
    "train_merged.shop_name.fillna('', inplace=True)\n",
    "test_merged.shop_name.fillna('', inplace=True)"
   ]
  },
  {
   "cell_type": "code",
   "execution_count": 575,
   "metadata": {},
   "outputs": [],
   "source": [
    "train_merged.name.fillna('', inplace=True)"
   ]
  },
  {
   "cell_type": "code",
   "execution_count": 576,
   "metadata": {},
   "outputs": [],
   "source": [
    "train_merged['name'] = train_merged['name'].apply(lambda s: ''.join([ch for ch in s if not ch.isdigit()]))"
   ]
  },
  {
   "cell_type": "code",
   "execution_count": 577,
   "metadata": {},
   "outputs": [],
   "source": [
    "test_merged['name'] = test_merged['name'].apply(lambda s: ''.join([ch for ch in s if not ch.isdigit()]))"
   ]
  },
  {
   "cell_type": "code",
   "execution_count": 578,
   "metadata": {},
   "outputs": [],
   "source": [
    "wrong_chars = '/.*#@$^&(){}[]+-_!~`=:\"%,'\n",
    "\n",
    "def delete_wrond_chars(s):\n",
    "    for ch in wrong_chars:\n",
    "        if ch in s:\n",
    "            s = s.replace(ch, ' ')\n",
    "    return s\n",
    "\n",
    "train_merged['name'] = train_merged['name'].apply(delete_wrond_chars)\n",
    "test_merged['name'] = test_merged['name'].apply(delete_wrond_chars)"
   ]
  },
  {
   "cell_type": "code",
   "execution_count": 579,
   "metadata": {},
   "outputs": [],
   "source": [
    "\n",
    "train_merged['shop_name'] = train_merged['shop_name'].apply(delete_wrond_chars)\n",
    "test_merged['shop_name'] = test_merged['shop_name'].apply(delete_wrond_chars)"
   ]
  },
  {
   "cell_type": "code",
   "execution_count": 537,
   "metadata": {},
   "outputs": [
    {
     "data": {
      "text/plain": [
       "array(['Не известно', 'ЕВРОПА', 'ПродвижениеФарм', 'ИП Роздухов М  Е ',\n",
       "       'ОРЕОЛ', 'Агроторг', 'Тандер', '', 'Новый Книжный М', 'АШАН',\n",
       "       'ОБЩЕСТВО С ОГРАНИЧЕННОЙ ОТВЕТСТВЕННОСТЬЮ ОСТИН', 'Андора',\n",
       "       'Газпромнефть Центр', 'Табер Трейд',\n",
       "       'ЭЛЕКТРОСТАЛЬСКИЙ ЦЕНТР УСЛУГ', 'МЕРИДИАНА', 'ТД Перекресток',\n",
       "       'ДЕТСКИЙ МИР', 'О Глория Джинс', 'Лента', 'РН Москва', 'О КЕЙ',\n",
       "       'ОГУП <ЛИПЕЦKФАРМАЦИЯ>', '<ЛАСЕРТА №5>',\n",
       "       'Объединенные Системы Сбора Платы', 'Эркафарм Северо запад',\n",
       "       'ТОРГОВЫЙ ДОМ', 'Котон Текстиль', 'АКТИВ', 'СПАР МИДДЛ ВОЛГА',\n",
       "       'ТД Интерторг', 'Дикси ЮГ', 'АГРОТОРГ', 'Бэст Прайс', 'ИКЕА ДОМ',\n",
       "       'Теремок   Русские Блины', 'ИП Туркин И А ', 'Ирна',\n",
       "       'З Москва Макдоналдс', 'Бургер Рус',\n",
       "       'Элемент Трейд                            Сургут  Мира 15',\n",
       "       'Касторама РУС', 'КЕА Груп', 'ИП Шухов Б А ', 'ГЭС розница',\n",
       "       'ЛУКОЙЛ Северо Западнефтепродукт', 'Анжела', 'САKУРА',\n",
       "       'Союз Св  Иоанна Воина', 'Т и К Продукты', 'РКЦ Димитровград',\n",
       "       \"О'КЕЙ\", 'Связной Логистика', 'НИВА', 'МАКДОНАЛДС', 'АМЕТИСТ',\n",
       "       'АТАК', 'ИП Моисеева Е В ', 'Стимул', 'Теремок Инвест',\n",
       "       'ФИКС СУРГУТ', 'Ампер', 'Леруа Мерлен Восток', 'Аматус',\n",
       "       'Санги Стиль', 'Сибторг', 'Бализа', 'KАРИ', 'МУЛЬТИОПТИКА 8',\n",
       "       'Сириус', 'ИП ГАСРАТОВ И О ', 'Ассорти Юг', 'Тутси', 'Ассорти',\n",
       "       'ВKУСВИЛЛ', 'ИП Дудкин Игорь Леонидович', 'Алькор и Ко',\n",
       "       'О ТД Холдинг Центр', 'ГП №3', 'ГЕКОЛАБ', 'Гиперглобус', 'ТОРА',\n",
       "       'Аптека  Табиб  г  Калуга          ул  Гагарина  д  6 А 47  пом  № 57 ',\n",
       "       'Торговый дом', 'Фикс Прайс Донецк', 'Сатурн', 'Альфа Сургут',\n",
       "       'АРМАЛИ', 'АС Бюро плюс', 'Сибирь 28', 'ДИКСИ Юг',\n",
       "       'Городской супермаркет', 'Оператор', 'ИП Власова И В ',\n",
       "       'ИП Саухина Е В ', 'Роксэт С', 'Вега', 'Класс', 'Камелот А',\n",
       "       'Мобайл Регион', 'СКЛАД МАГАЗИН №1', 'Фармленд',\n",
       "       'ИП Шаховцев Ю А ', 'СЕТЬ АВТОМАТИЗИРОВАННЫХ ПУНКТОВ ВЫДАЧИ',\n",
       "       'Вкус', 'КРОКУС ИНТЕРНЭШНЛ', 'Спар Томск', 'Татнефть АЗС Центр',\n",
       "       'УльяновскФармация', 'ТД', 'Ригла', 'ИП Роздухов М Е ',\n",
       "       'АШАН 115408  г  Москва',\n",
       "       'ОБЩЕСТВО С ОГРАНИЧЕННОЙ ОТВЕТСТВЕННОСТЬЮ СПОРТМАСТЕР',\n",
       "       'ОБЩЕСТВО С ОГРАНИЧЕННОЙ ОТВЕТСТВЕННОСТЬЮ АШАН',\n",
       "       'ПУБЛИЧНОЕ АKЦИОНЕРНОЕ ОБЩЕСТВО НK РОСНЕФТЬ   МУРМАНСKНЕФТЕПРОДУKТ',\n",
       "       'Индивидуальный предприниматель Гаврилова Вера Германовна',\n",
       "       'ИП Еремеев В А ', 'Центральная ППК', 'Добровин',\n",
       "       'ЛУКОЙЛ Пермнефтепродукт', 'Кронар', 'ДНС ЦФО',\n",
       "       'ТОРГОВАЯ СЕТЬ KОМАНДОР', 'Воронежнефтепродукт',\n",
       "       'Элемент Трейд                        Тавда  ул  П Морозова 6',\n",
       "       'Лабиринт Уфа', 'Гулливер', 'Самсон Фарма', 'САТУРН', 'ТЭЙК ЭВЕЙ',\n",
       "       'МАРКА РУС', 'ДНС ДОН', 'Виктория Балтия', 'ИП ПАХАРЕВ А В ',\n",
       "       '<Леруа Мерлен Восток>', 'ИП Афанасьев Николай Павлович',\n",
       "       'АЗК ВТК', 'Дикси Юг',\n",
       "       'ОГРАНИЧЕННОЙ ОТВЕТСТВЕННОСТЬЮ МОСТСЕРВИС ТРАНС', 'АШАНА',\n",
       "       'ТХ Сибирский Гигант', 'ПРИМЗООТОРГ', 'ПРОСУШИ М', 'СитиТорг',\n",
       "       'РН Ростовнефтепродукт', 'МАНИОЛА',\n",
       "       'ОП СИНЕМА ПАРК 3 Санкт Петербург', 'КОМПАНИЯ',\n",
       "       'М видео менеджмент', 'Спортмастер',\n",
       "       'Обособленное подразделение   ДНС Центр', 'М видео Менеджмент',\n",
       "       'Планета увлечений', 'ИВАНОВА ЕВГЕНИЯ АНАТОЛЬЕВНА', 'ДК',\n",
       "       'Петербургский Метрополитен', 'Фастлэнд', 'ЮНАЙТЭД ТРЭЙДИНГ',\n",
       "       'ТК Лето', 'ПродМир', 'Ям  Ресторантс Раша', 'КОМАТ', 'ЦНИИХМ',\n",
       "       'Спар Миддл Волга', 'Бета Сургут', 'Красная Пресня',\n",
       "       'МЕТРО Кэш энд Керри', 'ЭДДА', 'ТОРГОВАЯ СЕТЬ КОМАНДОР',\n",
       "       'АKЦИОНЕРНОЕ ОБЩЕСТВО ВОРОНЕЖНЕФТЕПРОДУKТ',\n",
       "       'ЛУКОЙЛ Югнефтепродукт', 'Сити', 'ИП Гурова Эльвира Вадимовна',\n",
       "       'Петербургский метрополитен', 'Авоська два', 'Нива', 'Престиж',\n",
       "       'МАГ СЕРВИС', 'РС Петровский',\n",
       "       'Общество с Ограниченной Ответственностью <ОнЛайн Трейд>', 'Фирма',\n",
       "       'ТД ЧЕЛНЫ ХЛЕБ', 'ВЕМЕС', 'РН ВОСТОКНЕФТЕПРОДУКТ', 'АромаЛюкс',\n",
       "       'Фреш Маркет', 'Новофарм', 'ТВК Р', 'ФРЭШРИТЕЙЛ',\n",
       "       'Общество с ограниченной ответственностью БИЛЛА',\n",
       "       'Башнефть Розница', 'МТ ППK', 'Сёркл Кей Россия',\n",
       "       'ЛУКОЙЛ Уралнефтепродукт', 'Максидом', 'Аптека от склада Центр 4',\n",
       "       'Байрам', 'ИКЕА', 'АПТЕKА А в е 1', 'Детский мир',\n",
       "       'Элемент Трейд                        Соликамск  Ленина пр кт  36б',\n",
       "       'МЯСНОВЪ   77', 'ТАРДИС', 'ИП Волков В Е ', 'Восток',\n",
       "       'КОРПОРАЦИЯ ГРИНН', 'Почта России',\n",
       "       'Максима Групп             Тел 8 800 100 33 90',\n",
       "       'ИП Кузнецов Сергей Валентинович      150007  г  Ярославль  ул  Шевелюха  100',\n",
       "       'АПРЕЛЬ САРАТОВ', 'Бета М', 'ГИПЕРГЛОБУС', 'КОМПРОМИСС',\n",
       "       'ИП Лепехин Евгений Петрович', 'ИП Владыкин Дмитрий Николаевич',\n",
       "       'OOO МЕТРО Кэш анд Керри', 'АШАН 196244  г  Санкт Петеpбуpг',\n",
       "       'Максима Групп', 'Декор 2003', 'АШАН 121087 г Москва',\n",
       "       'ДНС ПРИМОРЬЕ', 'Зельгрос', 'ОА ННК Приморнефтепродукт',\n",
       "       'ИП Белозеров А В ', 'Радеж', 'ФИНИСТ', 'ОКТОБЛУ',\n",
       "       'О Кубань Экспресс Пригород', 'ГАРДА',\n",
       "       'Элемент Трейд                    Екатеринбург  Комсомольская  76',\n",
       "       'Аптека ИП Коннова Ирина Викторовна', 'Птицефабрика Зеленецкая',\n",
       "       'Татнефть АЗС Запад', 'ЭЛЕМЕНТ ТРЕЙД', 'Массимо Дутти',\n",
       "       'Элемент Трейд                         Салават  Калинина  40',\n",
       "       'Агроаспект', 'ПКиО', 'АЛВИК', 'Медиа Маркт Сатурн', 'МОЛЛ',\n",
       "       'КЕРУСКА', 'Апельсин', 'Оптовик', 'ВЕТЕРОК', 'Стокманн СПб Центр',\n",
       "       'ИП Пак Вячеслав Владимирович', 'ЛУКОЙЛ ВОЛГАНЕФТЕПРОДУКТ',\n",
       "       'БигБокс', 'ТРИ КОТА   ХАБАРОВСК', 'О  Центральная ППK ',\n",
       "       'ИП Филимонов А В ', 'Центрторг', 'Ритейл', 'Гемо фарм',\n",
       "       'АРСКНЕФТЕПРОДУКТ', 'ИП Архипов Сергей Георгиевич',\n",
       "       'Соликамскбумпром', 'ИП Перевозников В Ю ',\n",
       "       'Автодор Платные Дороги', 'АШАН 105523  г  Москва',\n",
       "       'Мегафон Ритейл', 'ИП КУНИЦЫН А В ', 'Агрокомплекс', 'Канц Запад',\n",
       "       'HOUSE т  8  499  653 55 65  д  6112131', 'СемьЯ на Мира  41',\n",
       "       'Сити Ресторантс', 'Брянскфармация', 'Брянский хлеб',\n",
       "       'ИП Глебов Г Г ', 'НОРМА', 'ФОКУС РИТЕЙЛ',\n",
       "       'г Котельники 1й Покровский пр д  д 4', 'Юникло  Рус ',\n",
       "       'АШАН 443072  Россия  г Самаpа  Киpовский',\n",
       "       'Л УЛЬЯНОВСKНЕФТЕПРОДУKТ', 'ТАТТЕХМЕДФАРМ', 'Одежда 3000',\n",
       "       'ГЛОРИЯ ДЖИНС', 'ИП Андриянов А А ', 'Элемент Трейд',\n",
       "       'Современный дизайн', 'Первое Решение', 'СпортМарафон',\n",
       "       'Пицца Ресторантс', 'МНИИ ГБ им Гельмгольца',\n",
       "       'КАРО Фильм Менеджмент', 'МЭШАП СОЮЗ', 'ЛУКОЙЛ Центрнефтепродукт',\n",
       "       'Familia лидер Off price ритейла России 077 Универмаг Familia Иремель',\n",
       "       'З ТОРГОВЫЙ ДОМ ПЕРЕKРЕСТОK', 'Фудтрейд', 'НОВЫЙ ИМПУЛЬС 50',\n",
       "       'Евросеть Ритейл', 'СЕЛЕКТ', 'РУССKИЕ МАШИНЫ', 'ЭЛЬДОРАДО',\n",
       "       'САГАН', 'Тетрис Калининград', 'Дельта', 'З МОСКВА МАКДОНАЛДС',\n",
       "       'OOOМАКДОНАЛДС', 'Кораблик Р',\n",
       "       'ИП Алехин Д  А                                 Осипенко 27',\n",
       "       'Гурман Юг', 'Флагман', 'ЭЛЕГИЯ', 'Розница К 1',\n",
       "       'КОМПЛЕКСНЫЙ ЦЕНТР СОЦИАЛЬНОГО ОБСЛУЖИВАНИЯ НАСЕЛЕНИЯ',\n",
       "       'ИП Патрушева А С ',\n",
       "       'Индивидуальный предприниматель Сидорова Надежда Николаевна',\n",
       "       'АKЦИОНЕРНОЕ ОБЩЕСТВО НK РОСНЕФТЬ СТАВРОПОЛЬЕ', 'ИП Засеев Д Ч ',\n",
       "       'ПОЧТА РОССИИ', 'Косино и Ко', 'АБСОЛЮТ',\n",
       "       'Kлайман Василий Олегович', 'Тамерлан', 'ИП Бондарев Н В ',\n",
       "       'БАУЦЕНТР РУС', 'СИТИ', 'АПТЕКА А в е', 'ФРАНСУА ПЕKАРНЯ',\n",
       "       'ИП Дудкина Наталия Николаевна', 'Дина', 'Купишуз',\n",
       "       '<Будь здоров >', 'Глобал Маркет',\n",
       "       '142770 п Сосенское Калужское ш 21 й км', 'ТАТНЕФТЬ АЗС ЦЕНТР',\n",
       "       'Ям  Ресторантс Интернэшнл Раша Си Ай Эс',\n",
       "       'ОБЩЕСТВО С ОГРАНИЧЕННОЙ ОТВЕТСТВЕННОСТЬЮ ТД ЧЕЛНЫ ХЛЕБ',\n",
       "       'ВОЛГАТОРГ', 'ЛБК', 'ИП Луцкий А В ', 'Рич Фэмили', 'ГРАНД',\n",
       "       'Пятью пять', 'ОКЕЙ', 'РУСАЛKО 4', '<Тандер>',\n",
       "       'Теремок   Кондитерская', 'Посуда Центр сервис',\n",
       "       'ПРОГРЕСС ФАРМАИМПЕКС', 'Детки', 'ДНС Курск',\n",
       "       'ИП Сафронов Данила Анатольевич', 'Нова Пек',\n",
       "       'СИТИ ЛАЙФ БУРЕВЕСТНИK',\n",
       "       'Аптека  ГАС                    г  Новотроицк  ул  Мира  10 ',\n",
       "       'СМАРТ', 'ЗДНО', 'ИП Федотова Я К ', 'Шелл Нефть',\n",
       "       'ХЕЛИКС БАЛТИКА', 'ЧОУ ВО <Омская юридическая академия>',\n",
       "       'МЭЛОН ФЭШН ГРУП', 'Мэрт Фуд',\n",
       "       'КЛ ГРУПП 350000 Краснодарский край  Краснодар г ',\n",
       "       'Галерея Краснодар', 'АДИДАС', 'Чикен Юг', 'КД', '<ИЛЬ ДЕ БОТЭ>',\n",
       "       'АПТЕКА А в е 1', 'Полинея', 'ГАРОМИС', 'НоваТор', 'БАНАЕВЪ',\n",
       "       'Волга Мода', 'СТД', 'АНАТ', 'Новая СемьЯ', 'ВКУСНЫЙ ДОМ',\n",
       "       'ЗЕЛЬГРОС', 'АЛФАВИТ ПРОДУКТЫ', 'Эй Кей Ресторантс Раша ', 'ПУД',\n",
       "       'ИП Локтев А В ',\n",
       "       'Индивидуальный предприниматель Бочарова Ольга Ивановна',\n",
       "       'Сходненское',\n",
       "       'Индивидуальный предприниматель Кирилина Наталья Николаевна',\n",
       "       'Южный Двор  260', 'ИKС KОМ', 'СПАР Рязань СПАР 201', 'Юлплейс',\n",
       "       'ФОРМАТ', 'ИП Николаев А В ',\n",
       "       'Элемент Трейд                    Каменск Уральский  Каменская  48',\n",
       "       'Радиус Хабаровск', '0277', 'СНОУБОРД ИНВЕСТ',\n",
       "       'Чепецкнефтепродукт', 'Энергосбыт Плюс', 'Карлугас', 'ТД Ярмарка',\n",
       "       'ФРЕШ 1', 'ИП Шакурова А В ',\n",
       "       'Экспресс Ритейл       Москва  ул  Новослободская 34 2',\n",
       "       'Центральный Банк Российской Федерации', 'Бета Пермь', 'ТРАПЕЗА',\n",
       "       'Кагиров И Ш ', 'АПТЕKА А в е', 'АЛИОТ', 'ЖИВЫЕ ДИВАНЫ',\n",
       "       'ИНВИТРО УРАЛ', 'БАЙКАЛ', 'АШАН 142770  гоpод Москва',\n",
       "       'Кофе Сирена', 'КОРЗИНКА 6',\n",
       "       'Магазин Я Любимый Дмитровское шоссе 80 стр 1', 'Бум Маркет',\n",
       "       'ИП Казанцев А Н ', 'НАРВА', 'СПб Электро', 'Био Веста М',\n",
       "       'ВИKТОРИЯ', 'СОЮЗ СВЯТОГО ИОАННА ВОИНА', 'ТПК', 'ЛАГИДЖ СЕРВИС',\n",
       "       'Kорнели Фудс', 'ГАЛАКТИОН', 'НОВГОРОДНЕФТЕПРОДУКТ', 'АГРОАСПЕКТ',\n",
       "       'МЕРКУРИЙ', 'СТРОЙТОРГ', 'ТД Нефтьмагистраль', 'Большая СемьЯ',\n",
       "       'НАС', 'О ЧМПЗ', '<Сделай Своими Руками>', 'Бирюлево Ритейл',\n",
       "       'RESERVED т 8  499  653 55 65 д  6912013', 'Неотрейд', 'Первоцвет',\n",
       "       'ННК Приморнефтепродукт', 'Торг ДВ', 'Правильные игрушки',\n",
       "       'Индивидуальный Предприниматель Деринг А В ', 'ОЛДИ3',\n",
       "       'Пулл энд Беар СНГ', 'ТК Прогресс', 'ТЕХНОПАРK Центр',\n",
       "       'Деликатеска', 'Тарасевич И Ю ', 'Лукойл Пермнефтепродукт',\n",
       "       'Домовит', 'Аджента', 'Айкрафт Люкс', 'ИП МУРОМЕЦ В И ', 'АТАK',\n",
       "       'ГРАМОТА', 'Призма', 'БУРГЕР РУС', 'Альфа Владимир',\n",
       "       'KОМПАНИЯ АВТОKРЕПЕЖ', 'ИП Гурьев И М ', 'Юма',\n",
       "       'Зайцев Сергей Николаевич', 'РозТех27',\n",
       "       'Центральный банк Российской Федерации', 'БОКАРНЕЯ',\n",
       "       'ЛОТОС РИТЕЙЛ', 'Твой Дом', 'НОРМАН СПб', 'СИРИУС', 'Аптека 5 ',\n",
       "       'Диалог Запад', 'ОТКРЫТОЕ АКЦИОНЕРНОЕ ОБЩЕСТВО СУРГУТНЕФТЕГАЗ',\n",
       "       'ОБЩЕСТВО С ОГРАНИЧЕННОЙ ОТВЕТСВЕННОСТЬЮ СПОРТМАСТЕР',\n",
       "       'ИП Деханова Татьяна Николаевна', 'ДНС Альтаир', 'Первомайская 90',\n",
       "       'ВОЛKОВА ЛИДИЯ НИKОЛАЕВНА', 'ГРЕЙС 17', 'СКППК', 'Лабиринт РУ',\n",
       "       '1', 'Заман', 'Газпромнефть   Центр', 'ГЛОБАЛ ФУД УФА', 'РАДИУС',\n",
       "       'Kалина 3', 'ТД ГУМ', 'ИП Бажин Ю В ',\n",
       "       'Индивидуальный предприниматель Шумский Илья Николаевич',\n",
       "       'П ТД Холдинг Центр', 'Липецкцемент', 'ТАВРИДАНЕФТЕПРОДУКТ',\n",
       "       'ОБЩЕСТВО С ОГРАНИЧЕННОЙ ОТВЕТСТВЕННОСТЬЮ ДИСKОНТ ЭKСПРЕСС',\n",
       "       'На Высоте', 'ГЛОБУС ПРЕСС ХХI', 'ВИКТОРИЯ', 'Торг центр',\n",
       "       'Спектр Групп', 'СЕТЬ РОЗНИЧНОЙ ТОРГОВЛИ ВОРОНЕЖ',\n",
       "       'Фреш Маркет                      140170  МО  г  Бронницы',\n",
       "       'ТК ТЕХЭНЕРГОРЕСУРС', 'Лабиринт Волга', 'ГАСТРОНОМ',\n",
       "       'ИП Черных Анишка Шагеновна               ИНН 862300107100',\n",
       "       'Смак Гурмэ', 'ПЭК', 'Исупов Н А ', 'ЛФТ РУС', 'ИКС 5 Гипер',\n",
       "       'Альфа', 'АЗС ЛЮКС', 'ГрандТорг', 'Объединение Родина', 'ПанKлуб',\n",
       "       'ПЛАНЕТА ТМ', 'УЛЬМАС А', 'ОЙЛ ТЭК', 'Дрогери ритейл', 'ВТК',\n",
       "       'Аэроэкспресс', 'ИП Нагорных Иван Андреевич', 'Петролстарт',\n",
       "       'ОЛЕФИРОВА ТАТЬЯНА ВАЛЕНТИНОВНА'], dtype=object)"
      ]
     },
     "execution_count": 537,
     "metadata": {},
     "output_type": "execute_result"
    }
   ],
   "source": [
    "train_merged.shop_name.unique()"
   ]
  },
  {
   "cell_type": "code",
   "execution_count": 580,
   "metadata": {},
   "outputs": [],
   "source": [
    "tfidf = CountVectorizer(ngram_range=(2, 7), analyzer='char', max_features=50000) #TfidfVectorizer(ngram_range=(1, 3), max_features=50000)\n",
    "full_df = pd.concat([train_merged, test_merged])\n",
    "\n",
    "tfidf.fit(full_df.name + ' ' + full_df.shop_name)\n",
    "\n",
    "train_name_tf = tfidf.transform(train_merged.name + ' ' + train_merged.shop_name)\n",
    "test_name_tf = tfidf.transform(test_merged.name + ' ' + test_merged.shop_name)"
   ]
  },
  {
   "cell_type": "code",
   "execution_count": 581,
   "metadata": {},
   "outputs": [],
   "source": [
    "cvect  = CountVectorizer(ngram_range=(1, 3), max_features=50000) #TfidfVectorizer(ngram_range=(1, 3), max_features=50000)\n",
    "full_df = pd.concat([train_merged, test_merged])\n",
    "\n",
    "cvect.fit(full_df.name + ' ' + full_df.shop_name)\n",
    "\n",
    "train_name_cvect = cvect.transform(train_merged.name + ' ' + train_merged.shop_name)\n",
    "test_name_cvect = cvect.transform(test_merged.name + ' ' + test_merged.shop_name)"
   ]
  },
  {
   "cell_type": "code",
   "execution_count": 582,
   "metadata": {},
   "outputs": [],
   "source": [
    "train_merged['price'] = np.log(train_merged['price'] + 1)\n",
    "train_merged['count'] = np.log(train_merged['count'] + 1)\n",
    "train_merged['sum'] = np.log(train_merged['sum'] + 1)\n",
    "\n",
    "test_merged['price'] = np.log(test_merged['price'] + 1)\n",
    "test_merged['count'] = np.log(test_merged['count'] + 1)\n",
    "test_merged['sum'] = np.log(test_merged['sum'] + 1)"
   ]
  },
  {
   "cell_type": "code",
   "execution_count": 583,
   "metadata": {},
   "outputs": [
    {
     "data": {
      "text/plain": [
       "<matplotlib.axes._subplots.AxesSubplot at 0x15fcd518>"
      ]
     },
     "execution_count": 583,
     "metadata": {},
     "output_type": "execute_result"
    },
    {
     "data": {
      "image/png": "[encoded data removed]",
      "text/plain": [
       "<matplotlib.figure.Figure at 0x4326c128>"
      ]
     },
     "metadata": {},
     "output_type": "display_data"
    }
   ],
   "source": [
    "np.log((np.exp(train_merged['price']))/(np.exp(train_merged['sum']) )).hist()"
   ]
  },
  {
   "cell_type": "code",
   "execution_count": 480,
   "metadata": {},
   "outputs": [],
   "source": [
    "def add_week_hour(df):\n",
    "    dt = df['datetime'].dt\n",
    "    \n",
    "    df['weekday'] = dt.weekday\n",
    "    df['is_weekend'] = dt.weekday.isin([5,6]).astype('int')\n",
    "    df['hour'] = dt.hour"
   ]
  },
  {
   "cell_type": "code",
   "execution_count": 462,
   "metadata": {},
   "outputs": [],
   "source": [
    "# add_time_features(train_merged)\n",
    "# add_time_features(test_merged)"
   ]
  },
  {
   "cell_type": "code",
   "execution_count": 585,
   "metadata": {},
   "outputs": [],
   "source": [
    "full_merged_mean = pd.concat([train_merged, test_merged])\n",
    "\n",
    "check_count = dict(full_merged_mean.groupby('check_id')['check_id'].count())\n",
    "\n",
    "shop_price_mean = dict(full_merged_mean.groupby('shop_name')['price'].mean())\n",
    "shop_sum_mean = dict(full_merged_mean.groupby('shop_name')['sum'].mean())\n",
    "train_merged['products_in_check'] = train_merged.check_id.apply(lambda ch: check_count[ch])\n",
    "test_merged['products_in_check'] = test_merged.check_id.apply(lambda ch: check_count[ch])\n",
    "\n",
    "train_merged['shop_price_mean'] = train_merged.shop_name.apply(lambda ch: shop_price_mean[ch])\n",
    "test_merged['shop_price_mean'] = test_merged.shop_name.apply(lambda ch: shop_price_mean[ch])\n",
    "train_merged['shop_sum_mean'] = train_merged.shop_name.apply(lambda ch: shop_sum_mean[ch])\n",
    "test_merged['shop_sum_mean'] = test_merged.shop_name.apply(lambda ch: shop_sum_mean[ch])"
   ]
  },
  {
   "cell_type": "code",
   "execution_count": 586,
   "metadata": {},
   "outputs": [],
   "source": [
    "cat_dummies = pd.get_dummies(train_merged, columns=['category'])\n",
    "train_merged_mean = cat_dummies.copy()\n",
    "test_merged_mean = test_merged.copy()\n",
    "\n",
    "skf_mean = StratifiedKFold(5, shuffle=True, random_state=17)\n",
    "\n",
    "for c in cat_dummies.columns[cat_dummies.columns.str.startswith('category_')]:\n",
    "    train_merged_mean, test_merged_mean = mean_target_enc(train_merged_mean, train_merged_mean[c], test_merged_mean, ['shop_name', 'products_in_check'], skf_mean)"
   ]
  },
  {
   "cell_type": "code",
   "execution_count": 587,
   "metadata": {},
   "outputs": [],
   "source": [
    "cat_ohe = ['category_Алкоголь', 'category_Бакалея', 'category_Гастрономия',\n",
    "       'category_Дети', 'category_Для дома', 'category_Животные',\n",
    "       'category_Здоровье', 'category_Кафе', 'category_Компьютер',\n",
    "       'category_Косметика', 'category_Кулинария', 'category_Машина',\n",
    "       'category_Молочка', 'category_Мясо и птица', 'category_Напитки',\n",
    "       'category_Не определена', 'category_Овощи и фрукты',\n",
    "       'category_Одежда и обувь', 'category_Рыба', 'category_Снеки',\n",
    "       'category_Табак', 'category_Упаковка', 'category_Услуги',\n",
    "       'category_Хлеб', 'category_Чай и сладкое']\n",
    "\n",
    "train_merged_mean.drop(cat_ohe, axis=1, inplace=True)\n",
    "# train_merged.drop(cat_ohe, axis=1, inplace=True)"
   ]
  },
  {
   "cell_type": "code",
   "execution_count": 588,
   "metadata": {},
   "outputs": [],
   "source": [
    "\n",
    "\n",
    "train_merged, test_merged = train_merged_mean, test_merged_mean"
   ]
  },
  {
   "cell_type": "code",
   "execution_count": 589,
   "metadata": {},
   "outputs": [],
   "source": [
    "train_merged['avg_price_in_check'] = np.log((np.exp(train_merged['price']))/(np.exp(train_merged['sum']) ))\n",
    "test_merged['avg_price_in_check'] = np.log((np.exp(test_merged['price']))/(np.exp(test_merged['sum']) ))"
   ]
  },
  {
   "cell_type": "code",
   "execution_count": null,
   "metadata": {},
   "outputs": [],
   "source": [
    "train_merged['catal_pred'] = train_pred_catal_cat\n",
    "test_merged['catal_pred'] = test_pred_catal_cat\n",
    "\n",
    "full_merged_mean = pd.concat([train_merged, test_merged])\n",
    "full_merged_mean = pd.get_dummies(full_merged_mean, columns=['catal_pred'])\n",
    "\n",
    "train_merged, test_merged = full_merged_mean[:train_merged.shape[0]], full_merged_mean[train_merged.shape[0]:]"
   ]
  },
  {
   "cell_type": "code",
   "execution_count": 590,
   "metadata": {},
   "outputs": [],
   "source": [
    "lb = LabelEncoder()\n",
    "mrgd_train = pd.merge(train, train_checks, on='check_id', how='left')\n",
    "y = lb.fit_transform(mrgd_train.category)\n",
    "check_id = train_merged.check_id\n",
    "\n",
    "train_df = train_merged.drop(['name', 'shop_name', 'datetime', 'check_id'], axis=1)\n",
    "test_df = test_merged.drop(['name', 'shop_name', 'datetime', 'check_id', 'id'], axis=1)\n",
    "\n",
    "train_prep = hstack([train_df, train_name_tf, train_name_cvect])\n",
    "test_prep = hstack([test_df, test_name_tf, test_name_cvect])"
   ]
  },
  {
   "cell_type": "code",
   "execution_count": 593,
   "metadata": {},
   "outputs": [
    {
     "name": "stdout",
     "output_type": "stream",
     "text": [
      "[-0.38409205 -0.34856672 -0.36979933 -0.41101319 -0.37756278]\n"
     ]
    },
    {
     "data": {
      "text/plain": [
       "'0.378 +- 0.0203'"
      ]
     },
     "execution_count": 593,
     "metadata": {},
     "output_type": "execute_result"
    }
   ],
   "source": [
    "from sklearn.linear_model import LogisticRegression\n",
    "from sklearn.model_selection import cross_val_score\n",
    "from sklearn.model_selection import GroupKFold\n",
    "\n",
    "# gkf = list(GroupKFold(n_splits=5).split(train_prep, y, check_id.values))\n",
    "skf = StratifiedKFold(n_splits=5, shuffle=True, random_state=17)\n",
    "score = cross_val_score(LogisticRegression(C=10), train_prep, y, scoring='neg_log_loss', cv = skf, n_jobs = -1)\n",
    "print(score)\n",
    "\"%.3f +- %.4f\" % (-np.mean(score), np.std(score))"
   ]
  },
  {
   "cell_type": "code",
   "execution_count": 594,
   "metadata": {},
   "outputs": [
    {
     "data": {
      "text/plain": [
       "LogisticRegression(C=1.0, class_weight=None, dual=False, fit_intercept=True,\n",
       "          intercept_scaling=1, max_iter=100, multi_class='ovr', n_jobs=1,\n",
       "          penalty='l2', random_state=None, solver='liblinear', tol=0.0001,\n",
       "          verbose=0, warm_start=False)"
      ]
     },
     "execution_count": 594,
     "metadata": {},
     "output_type": "execute_result"
    }
   ],
   "source": [
    "model = LogisticRegression(C=10)\n",
    "model.fit(train_prep, y)"
   ]
  },
  {
   "cell_type": "code",
   "execution_count": 595,
   "metadata": {},
   "outputs": [],
   "source": [
    "p_test = model.predict_proba(test_prep)\n",
    "test = test_merged[['id']]"
   ]
  },
  {
   "cell_type": "code",
   "execution_count": 597,
   "metadata": {},
   "outputs": [],
   "source": [
    "for i, c in enumerate(lb.classes_):\n",
    "    test[c] = list(map(lambda x: '%.4f' % x, p_test[:, i]))"
   ]
  },
  {
   "cell_type": "code",
   "execution_count": 598,
   "metadata": {},
   "outputs": [],
   "source": [
    "test['id'] = test['id'].astype('int')"
   ]
  },
  {
   "cell_type": "code",
   "execution_count": 599,
   "metadata": {},
   "outputs": [],
   "source": [
    "test.to_csv('checks_cv_sh_name_char2_7_cv1_3_50k_ch_sh_targ_means_checksize_log_ft.csv.gz', compression='gzip', index = False)"
   ]
  },
  {
   "cell_type": "code",
   "execution_count": 257,
   "metadata": {},
   "outputs": [
    {
     "data": {
      "text/plain": [
       "418"
      ]
     },
     "execution_count": 257,
     "metadata": {},
     "output_type": "execute_result"
    }
   ],
   "source": [
    "len(set(test.check_id.unique()).intersection( test_checks.check_id.unique()))"
   ]
  },
  {
   "cell_type": "code",
   "execution_count": 258,
   "metadata": {},
   "outputs": [
    {
     "data": {
      "text/plain": [
       "418"
      ]
     },
     "execution_count": 258,
     "metadata": {},
     "output_type": "execute_result"
    }
   ],
   "source": [
    "test.check_id.nunique()"
   ]
  },
  {
   "cell_type": "code",
   "execution_count": 259,
   "metadata": {},
   "outputs": [
    {
     "data": {
      "text/plain": [
       "(2041, 2041)"
      ]
     },
     "execution_count": 259,
     "metadata": {},
     "output_type": "execute_result"
    }
   ],
   "source": [
    "len(set(train.check_id.unique()).intersection( train_checks.check_id.unique())), train.check_id.nunique()"
   ]
  },
  {
   "cell_type": "code",
   "execution_count": 300,
   "metadata": {},
   "outputs": [
    {
     "name": "stdout",
     "output_type": "stream",
     "text": [
      "<class 'pandas.core.frame.DataFrame'>\n",
      "Int64Index: 13682 entries, 0 to 13681\n",
      "Data columns (total 15 columns):\n",
      "check_id      13682 non-null int64\n",
      "name          13681 non-null object\n",
      "price         13682 non-null float64\n",
      "count         13682 non-null float64\n",
      "shop_name     13453 non-null object\n",
      "datetime      13682 non-null datetime64[ns]\n",
      "check_sum     13682 non-null float64\n",
      "year          13682 non-null int64\n",
      "month         13682 non-null int64\n",
      "dayOfMonth    13682 non-null int64\n",
      "dayOfYear     13682 non-null int64\n",
      "weekday       13682 non-null int64\n",
      "is_weekend    13682 non-null int32\n",
      "hour          13682 non-null int64\n",
      "catal_cat     13682 non-null int64\n",
      "dtypes: datetime64[ns](1), float64(3), int32(1), int64(8), object(2)\n",
      "memory usage: 1.6+ MB\n"
     ]
    }
   ],
   "source": [
    "train_merged.info()"
   ]
  },
  {
   "cell_type": "code",
   "execution_count": 261,
   "metadata": {},
   "outputs": [],
   "source": [
    "train_merged.rename(columns={'sum': 'check_sum'}, inplace=True)\n",
    "test_merged.rename(columns={'sum': 'check_sum'}, inplace=True)"
   ]
  },
  {
   "cell_type": "code",
   "execution_count": 262,
   "metadata": {},
   "outputs": [
    {
     "name": "stdout",
     "output_type": "stream",
     "text": [
      "<class 'pandas.core.frame.DataFrame'>\n",
      "Int64Index: 3000 entries, 0 to 2999\n",
      "Data columns (total 8 columns):\n",
      "id           3000 non-null int64\n",
      "check_id     3000 non-null int64\n",
      "name         3000 non-null object\n",
      "price        3000 non-null float64\n",
      "count        3000 non-null float64\n",
      "shop_name    2952 non-null object\n",
      "datetime     3000 non-null datetime64[ns]\n",
      "check_sum    3000 non-null float64\n",
      "dtypes: datetime64[ns](1), float64(3), int64(2), object(2)\n",
      "memory usage: 210.9+ KB\n"
     ]
    }
   ],
   "source": [
    "test_merged.info()"
   ]
  },
  {
   "cell_type": "code",
   "execution_count": 263,
   "metadata": {},
   "outputs": [],
   "source": [
    "def add_time_features(df):\n",
    "    dt = df['datetime'].dt\n",
    "    \n",
    "    df['year'] = dt.year\n",
    "    df['month'] = dt.month\n",
    "    df['dayOfMonth']= dt.day\n",
    "    df['dayOfYear'] = dt.dayofyear\n",
    "    df['weekday'] = dt.weekday\n",
    "    df['is_weekend'] = dt.weekday.isin([5,6]).astype('int')\n",
    "    df['hour'] = dt.hour"
   ]
  },
  {
   "cell_type": "code",
   "execution_count": 264,
   "metadata": {},
   "outputs": [],
   "source": [
    "add_time_features(train_merged)\n",
    "add_time_features(test_merged)"
   ]
  },
  {
   "cell_type": "code",
   "execution_count": 265,
   "metadata": {},
   "outputs": [
    {
     "name": "stdout",
     "output_type": "stream",
     "text": [
      "<class 'pandas.core.frame.DataFrame'>\n",
      "Int64Index: 13682 entries, 0 to 13681\n",
      "Data columns (total 15 columns):\n",
      "check_id      13682 non-null int64\n",
      "name          13681 non-null object\n",
      "category      13682 non-null object\n",
      "price         13682 non-null float64\n",
      "count         13682 non-null float64\n",
      "shop_name     13453 non-null object\n",
      "datetime      13682 non-null datetime64[ns]\n",
      "check_sum     13682 non-null float64\n",
      "year          13682 non-null int64\n",
      "month         13682 non-null int64\n",
      "dayOfMonth    13682 non-null int64\n",
      "dayOfYear     13682 non-null int64\n",
      "weekday       13682 non-null int64\n",
      "is_weekend    13682 non-null int32\n",
      "hour          13682 non-null int64\n",
      "dtypes: datetime64[ns](1), float64(3), int32(1), int64(7), object(3)\n",
      "memory usage: 1.6+ MB\n"
     ]
    }
   ],
   "source": [
    "train_merged.info()"
   ]
  },
  {
   "cell_type": "code",
   "execution_count": 160,
   "metadata": {},
   "outputs": [],
   "source": [
    "lb = LabelEncoder()\n",
    "train_merged['cat_lbl'] = lb.fit_transform(train_merged['category'])"
   ]
  },
  {
   "cell_type": "code",
   "execution_count": 48,
   "metadata": {},
   "outputs": [
    {
     "data": {
      "text/plain": [
       "<matplotlib.axes._subplots.AxesSubplot at 0xf1c78d0>"
      ]
     },
     "execution_count": 48,
     "metadata": {},
     "output_type": "execute_result"
    },
    {
     "data": {
      "image/png": "[encoded data removed]",
      "text/plain": [
       "<matplotlib.figure.Figure at 0xf360668>"
      ]
     },
     "metadata": {},
     "output_type": "display_data"
    }
   ],
   "source": [
    "cm = train_merged.corr()\n",
    "plt.figure(figsize=(10, 10))\n",
    "sns.heatmap(np.abs(cm), annot=True, fmt=\".2f\", linewidths=.5)"
   ]
  },
  {
   "cell_type": "code",
   "execution_count": 49,
   "metadata": {},
   "outputs": [],
   "source": [
    "pca = PCA(n_components=0.9)\n",
    "tr_m_pca = pca.fit_transform(train_merged.drop('cat_lbl', axis=1).select_dtypes(include=['float64', 'int64', 'int32']))"
   ]
  },
  {
   "cell_type": "code",
   "execution_count": 50,
   "metadata": {},
   "outputs": [
    {
     "data": {
      "text/plain": [
       "(2, 11)"
      ]
     },
     "execution_count": 50,
     "metadata": {},
     "output_type": "execute_result"
    }
   ],
   "source": [
    "pca.components_.shape"
   ]
  },
  {
   "cell_type": "code",
   "execution_count": 51,
   "metadata": {},
   "outputs": [
    {
     "data": {
      "text/plain": [
       "<matplotlib.colorbar.Colorbar at 0x115ceb38>"
      ]
     },
     "execution_count": 51,
     "metadata": {},
     "output_type": "execute_result"
    },
    {
     "data": {
      "image/png": "[encoded data removed]",
      "text/plain": [
       "<matplotlib.figure.Figure at 0x10f00710>"
      ]
     },
     "metadata": {},
     "output_type": "display_data"
    }
   ],
   "source": [
    "\n",
    "plt.figure(figsize=(15, 10))\n",
    "plt.scatter(tr_m_pca[:, 0], tr_m_pca[:, 1], c=train_merged.cat_lbl, s=50, cmap='viridis')\n",
    "plt.colorbar()"
   ]
  },
  {
   "cell_type": "code",
   "execution_count": 266,
   "metadata": {},
   "outputs": [
    {
     "data": {
      "text/plain": [
       "Index(['id', 'check_id', 'name', 'price', 'count', 'shop_name', 'datetime',\n",
       "       'check_sum', 'year', 'month', 'dayOfMonth', 'dayOfYear', 'weekday',\n",
       "       'is_weekend', 'hour'],\n",
       "      dtype='object')"
      ]
     },
     "execution_count": 266,
     "metadata": {},
     "output_type": "execute_result"
    }
   ],
   "source": [
    "test_merged.columns"
   ]
  },
  {
   "cell_type": "code",
   "execution_count": 87,
   "metadata": {},
   "outputs": [],
   "source": [
    "catalog_m = pd.merge(catalog2, train, left_on='description', right_on='name')"
   ]
  },
  {
   "cell_type": "code",
   "execution_count": 113,
   "metadata": {},
   "outputs": [],
   "source": [
    "catalog_clmns = ['description', 'category']\n",
    "\n",
    "full_catalog = pd.concat([catalog1[catalog_clmns],catalog2[catalog_clmns], catalog3[catalog_clmns]], ignore_index=True)"
   ]
  },
  {
   "cell_type": "code",
   "execution_count": 109,
   "metadata": {},
   "outputs": [
    {
     "data": {
      "text/plain": [
       "(262835, 2)"
      ]
     },
     "execution_count": 109,
     "metadata": {},
     "output_type": "execute_result"
    }
   ],
   "source": [
    "full_catalog.shape"
   ]
  },
  {
   "cell_type": "code",
   "execution_count": 119,
   "metadata": {},
   "outputs": [],
   "source": [
    "diff = set(train.category.unique()).symmetric_difference(full_catalog.category.unique())"
   ]
  },
  {
   "cell_type": "code",
   "execution_count": 120,
   "metadata": {},
   "outputs": [
    {
     "data": {
      "text/plain": [
       "({'Не определена', 'Снеки', 'Табак', 'Услуги'},\n",
       " {'No', 'Аксессуары', 'Диетическое питание', 'Морозилка', 'Табачные изделия'})"
      ]
     },
     "execution_count": 120,
     "metadata": {},
     "output_type": "execute_result"
    }
   ],
   "source": [
    "diff.intersection(train.category.unique()), diff.intersection(full_catalog.category.unique())"
   ]
  },
  {
   "cell_type": "code",
   "execution_count": 101,
   "metadata": {},
   "outputs": [
    {
     "data": {
      "text/plain": [
       "array(['Чай и сладкое', 'Для дома', 'Упаковка', 'Молочка', 'Бакалея',\n",
       "       'Дети', 'Овощи и фрукты', 'Напитки', 'Здоровье', 'Косметика',\n",
       "       'Гастрономия', 'Кафе', 'Мясо и птица', 'Хлеб', 'Услуги',\n",
       "       'Одежда и обувь', 'Рыба', 'Машина', 'Не определена', 'Животные',\n",
       "       'Кулинария', 'Алкоголь', 'Снеки', 'Табак', 'Компьютер'],\n",
       "      dtype=object)"
      ]
     },
     "execution_count": 101,
     "metadata": {},
     "output_type": "execute_result"
    }
   ],
   "source": [
    "train.category.unique()"
   ]
  },
  {
   "cell_type": "code",
   "execution_count": 114,
   "metadata": {},
   "outputs": [],
   "source": [
    "\n",
    "cafe = pd.read_csv(os.path.join(data_dir, 'cafe.csv'), sep=',')\n",
    "cafe['category'] = 'Кафе'\n",
    "cafe['description'] = cafe['name']\n",
    "full_catalog = pd.concat([full_catalog, cafe[['description', 'category']]], ignore_index=True)"
   ]
  },
  {
   "cell_type": "code",
   "execution_count": 117,
   "metadata": {},
   "outputs": [
    {
     "name": "stdout",
     "output_type": "stream",
     "text": [
      "<class 'pandas.core.frame.DataFrame'>\n",
      "Int64Index: 374039 entries, 0 to 413978\n",
      "Data columns (total 2 columns):\n",
      "description    374039 non-null object\n",
      "category       374039 non-null object\n",
      "dtypes: object(2)\n",
      "memory usage: 8.6+ MB\n"
     ]
    }
   ],
   "source": [
    "full_catalog.info()"
   ]
  },
  {
   "cell_type": "code",
   "execution_count": 116,
   "metadata": {},
   "outputs": [],
   "source": [
    "full_catalog.dropna(inplace=True)\n",
    "full_catalog = full_catalog[full_catalog.category != 'Не используется']"
   ]
  },
  {
   "cell_type": "code",
   "execution_count": 118,
   "metadata": {},
   "outputs": [
    {
     "data": {
      "text/plain": [
       "Кафе                   151143\n",
       "Для дома                65680\n",
       "Бакалея                 24550\n",
       "Алкоголь                20845\n",
       "Косметика               17197\n",
       "Одежда и обувь          13651\n",
       "Чай и сладкое           11596\n",
       "Молочка                 11254\n",
       "Дети                    10658\n",
       "Здоровье                 7030\n",
       "Гастрономия              5835\n",
       "Хлеб                     5606\n",
       "Мясо и птица             5527\n",
       "Морозилка                3802\n",
       "Табачные изделия         3789\n",
       "Напитки                  3600\n",
       "Овощи и фрукты           2648\n",
       "Рыба                     2056\n",
       "No                       1901\n",
       "Животные                 1753\n",
       "Кулинария                1187\n",
       "Диетическое питание       951\n",
       "Упаковка                  604\n",
       "Машина                    603\n",
       "Компьютер                 572\n",
       "Аксессуары                  1\n",
       "Name: category, dtype: int64"
      ]
     },
     "execution_count": 118,
     "metadata": {},
     "output_type": "execute_result"
    }
   ],
   "source": [
    "full_catalog.category.value_counts()"
   ]
  },
  {
   "cell_type": "code",
   "execution_count": 600,
   "metadata": {},
   "outputs": [],
   "source": [
    "full_catalog['description'] = full_catalog['description'].apply(lambda s: ''.join([ch for ch in s if not ch.isdigit()]))\n",
    "full_catalog['description'] = full_catalog['description'].apply(delete_wrond_chars)"
   ]
  },
  {
   "cell_type": "code",
   "execution_count": null,
   "metadata": {},
   "outputs": [],
   "source": [
    "\n",
    "# tfidf_sites = tfidf.fit(all_strings)\n",
    "\n",
    "from sklearn.feature_extraction.text import CountVectorizer\n",
    "\n",
    "trans_cat_char = CountVectorizer(ngram_range=(2, 7), analyzer='char', max_features=30000)\n",
    "trans_cat = CountVectorizer(ngram_range=(1, 3), max_features=30000)\n",
    "# trans_cat = TfidfVectorizer(ngram_range=(1, 2), max_features=50000)\n",
    "\n",
    "catal_cv = trans_cat.fit_transform(full_catalog.description)\n",
    "catal_cv_char = trans_cat_char.fit_transform(full_catalog.description)\n",
    "\n",
    "catal_trans = hstack([catal_cv, catal_cv_char])"
   ]
  },
  {
   "cell_type": "code",
   "execution_count": 602,
   "metadata": {},
   "outputs": [],
   "source": [
    "cat_lb = LabelEncoder()\n",
    "\n",
    "full_catalog['catalog_lbl'] = cat_lb.fit_transform(full_catalog.category)"
   ]
  },
  {
   "cell_type": "code",
   "execution_count": 128,
   "metadata": {
    "scrolled": true
   },
   "outputs": [
    {
     "data": {
      "text/plain": [
       "array([ 1,  2,  3,  4,  5,  6,  7,  8,  9, 10, 11, 12, 13, 14, 15, 16, 17,\n",
       "       18, 19, 20, 21, 22, 23, 24, 25, 26], dtype=int64)"
      ]
     },
     "execution_count": 128,
     "metadata": {},
     "output_type": "execute_result"
    }
   ],
   "source": [
    "np.unique(catalog_lbl)"
   ]
  },
  {
   "cell_type": "code",
   "execution_count": null,
   "metadata": {
    "scrolled": true
   },
   "outputs": [],
   "source": [
    "\n",
    "skf = StratifiedKFold(5, shuffle=True, random_state=42)\n",
    "score = cross_val_score(LogisticRegression(), catal_trans, full_catalog['catalog_lbl'], cv = skf, n_jobs = -1)\n",
    "print(score)\n",
    "\"%.3f +- %.4f\" % (-np.mean(score), np.std(score))\n"
   ]
  },
  {
   "cell_type": "code",
   "execution_count": 143,
   "metadata": {
    "scrolled": true
   },
   "outputs": [
    {
     "data": {
      "text/plain": [
       "LogisticRegression(C=1.0, class_weight='balanced', dual=False,\n",
       "          fit_intercept=True, intercept_scaling=1, max_iter=100,\n",
       "          multi_class='ovr', n_jobs=1, penalty='l2', random_state=None,\n",
       "          solver='liblinear', tol=0.0001, verbose=0, warm_start=False)"
      ]
     },
     "execution_count": 143,
     "metadata": {},
     "output_type": "execute_result"
    }
   ],
   "source": [
    "catalog_lr = LogisticRegression(class_weight='balanced')\n",
    "catalog_lr.fit(catal_tfidf, full_catalog['catalog_lbl'])"
   ]
  },
  {
   "cell_type": "code",
   "execution_count": 267,
   "metadata": {},
   "outputs": [],
   "source": [
    "train_m_name = trans_cat.transform(train_merged.name.fillna(''))\n",
    "test_m_name = trans_cat.transform(test_merged.name)"
   ]
  },
  {
   "cell_type": "code",
   "execution_count": 268,
   "metadata": {},
   "outputs": [],
   "source": [
    "train_pred_catal_cat = catalog_lr.predict(train_m_name)\n",
    "test_pred_catal_cat = catalog_lr.predict(test_m_name)"
   ]
  },
  {
   "cell_type": "code",
   "execution_count": 269,
   "metadata": {},
   "outputs": [],
   "source": [
    "train_merged['catal_cat'] = train_pred_catal_cat\n",
    "test_merged['catal_cat'] = test_pred_catal_cat"
   ]
  },
  {
   "cell_type": "code",
   "execution_count": 270,
   "metadata": {},
   "outputs": [],
   "source": [
    "def mean_target_enc(train_df, y_train, valid_df, cat_features, skf):\n",
    "    import warnings\n",
    "    warnings.filterwarnings('ignore')\n",
    "    target_name = y_train.name\n",
    "    \n",
    "    glob_mean = y_train.mean()\n",
    "    train_df = pd.concat([train_df, pd.Series(y_train, name='y')], axis=1)\n",
    "    new_train_df = train_df.copy()  \n",
    "\n",
    "    for col in cat_features:\n",
    "        new_train_df[col + '_mean_' + target_name] = [glob_mean for _ in range(new_train_df.shape[0])]\n",
    "\n",
    "    for train_idx, valid_idx in skf.split(train_df, y_train):\n",
    "        train_df_cv, valid_df_cv = train_df.iloc[train_idx, :], train_df.iloc[valid_idx, :]\n",
    "\n",
    "        for col in cat_features:\n",
    "            \n",
    "            means = valid_df_cv[col].map(train_df_cv.groupby(col)['y'].mean())\n",
    "            valid_df_cv[col + '_mean_' + target_name] = means.fillna(glob_mean)\n",
    "            \n",
    "        new_train_df.iloc[valid_idx] = valid_df_cv\n",
    "    \n",
    "    new_train_df.drop(['y'], axis=1, inplace=True)\n",
    "    \n",
    "    for col in cat_features:\n",
    "        means = valid_df[col].map(train_df.groupby(col)['y'].mean())\n",
    "        valid_df[col + '_mean_' + target_name] = means.fillna(glob_mean)\n",
    "        \n",
    "#     valid_df.drop(cat_features, axis=1, inplace=True)\n",
    "    \n",
    "    return new_train_df, valid_df"
   ]
  },
  {
   "cell_type": "code",
   "execution_count": 271,
   "metadata": {},
   "outputs": [],
   "source": [
    "train_merged = pd.get_dummies(train_merged, columns=['category'])"
   ]
  },
  {
   "cell_type": "code",
   "execution_count": 272,
   "metadata": {},
   "outputs": [],
   "source": [
    "skf = StratifiedKFold(5, shuffle=True, random_state=17)"
   ]
  },
  {
   "cell_type": "code",
   "execution_count": 273,
   "metadata": {},
   "outputs": [],
   "source": [
    "train_merged_mean = train_merged.copy()\n",
    "test_merged_mean = test_merged.copy()\n",
    "\n",
    "for c in train_merged.columns[train_merged.columns.str.startswith('category_')]:\n",
    "    train_merged_mean, test_merged_mean = mean_target_enc(train_merged_mean, train_merged_mean[c], test_merged_mean, ['shop_name', 'dayOfMonth', 'weekday', 'hour', 'is_weekend'], skf)"
   ]
  },
  {
   "cell_type": "code",
   "execution_count": 274,
   "metadata": {},
   "outputs": [],
   "source": [
    "cat_ohe = ['category_Алкоголь', 'category_Бакалея', 'category_Гастрономия',\n",
    "       'category_Дети', 'category_Для дома', 'category_Животные',\n",
    "       'category_Здоровье', 'category_Кафе', 'category_Компьютер',\n",
    "       'category_Косметика', 'category_Кулинария', 'category_Машина',\n",
    "       'category_Молочка', 'category_Мясо и птица', 'category_Напитки',\n",
    "       'category_Не определена', 'category_Овощи и фрукты',\n",
    "       'category_Одежда и обувь', 'category_Рыба', 'category_Снеки',\n",
    "       'category_Табак', 'category_Упаковка', 'category_Услуги',\n",
    "       'category_Хлеб', 'category_Чай и сладкое']\n",
    "\n",
    "train_merged_mean.drop(cat_ohe, axis=1, inplace=True)\n",
    "train_merged.drop(cat_ohe, axis=1, inplace=True)"
   ]
  },
  {
   "cell_type": "code",
   "execution_count": 275,
   "metadata": {},
   "outputs": [],
   "source": [
    "full_merged = pd.concat([train_merged_mean, test_merged_mean])\n",
    "\n",
    "check_count = dict(full_merged.groupby('check_id')['check_id'].count())\n",
    "product_price_mean_ch = dict(full_merged.groupby('check_id')['price'].mean())\n",
    "product_price_mean_shop = dict(full_merged.groupby('shop_name')['price'].mean())\n",
    "check_sum_mean_shop = dict(full_merged.groupby('shop_name')['check_sum'].mean())"
   ]
  },
  {
   "cell_type": "code",
   "execution_count": 276,
   "metadata": {},
   "outputs": [],
   "source": [
    "train_merged_mean['products_in_check'] = train_merged_mean.check_id.apply(lambda ch: check_count[ch])\n",
    "test_merged_mean['products_in_check'] = test_merged_mean.check_id.apply(lambda ch: check_count[ch])\n",
    "\n",
    "train_merged_mean['product_price_mean_ch'] = train_merged_mean.check_id.apply(lambda ch: product_price_mean_ch[ch])\n",
    "test_merged_mean['products_in_check'] = test_merged_mean.check_id.apply(lambda ch: product_price_mean_ch[ch])\n",
    "\n",
    "train_merged_mean['product_price_mean_shop'] = train_merged_mean.shop_name.apply(lambda ch: 0 if pd.isnull(ch) else product_price_mean_shop[ch])\n",
    "test_merged_mean['product_price_mean_shop'] = test_merged_mean.shop_name.apply(lambda ch: 0 if pd.isnull(ch) else product_price_mean_shop[ch])\n",
    "\n",
    "train_merged_mean['check_sum_mean_shop'] = train_merged_mean.shop_name.apply(lambda ch: 0 if pd.isnull(ch) else check_sum_mean_shop[ch])\n",
    "test_merged_mean['check_sum_mean_shop'] = test_merged_mean.shop_name.apply(lambda ch: 0 if pd.isnull(ch) else check_sum_mean_shop[ch])\n",
    "\n"
   ]
  },
  {
   "cell_type": "code",
   "execution_count": 277,
   "metadata": {},
   "outputs": [
    {
     "data": {
      "text/plain": [
       "array([[<matplotlib.axes._subplots.AxesSubplot object at 0x00000000341E8438>,\n",
       "        <matplotlib.axes._subplots.AxesSubplot object at 0x000000003322AFD0>],\n",
       "       [<matplotlib.axes._subplots.AxesSubplot object at 0x0000000032E99630>,\n",
       "        <matplotlib.axes._subplots.AxesSubplot object at 0x0000000032E2A978>]],\n",
       "      dtype=object)"
      ]
     },
     "execution_count": 277,
     "metadata": {},
     "output_type": "execute_result"
    },
    {
     "data": {
      "image/png": "[encoded data removed]",
      "text/plain": [
       "<matplotlib.figure.Figure at 0x341e0ef0>"
      ]
     },
     "metadata": {},
     "output_type": "display_data"
    }
   ],
   "source": [
    "np.log(train_merged_mean[['count', 'price', 'check_sum']] + 1).hist()"
   ]
  },
  {
   "cell_type": "code",
   "execution_count": 278,
   "metadata": {},
   "outputs": [
    {
     "name": "stdout",
     "output_type": "stream",
     "text": [
      "Normality count: (0.6213515996932983, 0.0)\n",
      "Normality price: (0.9813460111618042, 1.1262228751286233e-38)\n",
      "Normality check sum: (0.9827343821525574, 1.6727216811776253e-37)\n"
     ]
    }
   ],
   "source": [
    "from scipy.stats import shapiro, skewtest, skew\n",
    "\n",
    "log_df = np.log(train_merged_mean[['count', 'price', 'check_sum']] + 1)\n",
    "\n",
    "print('Normality count: {}'.format(shapiro(log_df['count'])))\n",
    "print('Normality price: {}'.format(shapiro(log_df['price'])))\n",
    "print('Normality check sum: {}'.format(shapiro(log_df['check_sum'])))"
   ]
  },
  {
   "cell_type": "code",
   "execution_count": 279,
   "metadata": {},
   "outputs": [
    {
     "data": {
      "text/plain": [
       "((array([-3.88740906, -3.66645413, -3.54533757, ...,  3.54533757,\n",
       "          3.66645413,  3.88740906]),\n",
       "  array([ 0.        ,  0.        ,  0.        , ..., 11.43161779,\n",
       "         11.43161779, 12.16941385])),\n",
       " (1.2169895968397368, 6.9624787291876284, 0.9912736749136692))"
      ]
     },
     "execution_count": 279,
     "metadata": {},
     "output_type": "execute_result"
    },
    {
     "data": {
      "image/png": "[encoded data removed]",
      "text/plain": [
       "<matplotlib.figure.Figure at 0x32e608d0>"
      ]
     },
     "metadata": {},
     "output_type": "display_data"
    }
   ],
   "source": [
    "\n",
    "import scipy.stats as stats\n",
    "\n",
    "stats.probplot(list(log_df['count']), dist=\"norm\", plot=plt)\n",
    "\n",
    "stats.probplot(list(log_df['price']), dist=\"norm\", plot=plt)\n",
    "\n",
    "stats.probplot(list(log_df['check_sum']), dist=\"norm\", plot=plt)"
   ]
  },
  {
   "cell_type": "code",
   "execution_count": 325,
   "metadata": {},
   "outputs": [],
   "source": [
    "train_merged_mean['count'] = np.log(train_merged['count'] + 1)\n",
    "train_merged_mean['price'] = np.log(train_merged['price'] + 1)\n",
    "train_merged_mean['check_sum'] = np.log(train_merged['sum'] + 1)"
   ]
  },
  {
   "cell_type": "code",
   "execution_count": 378,
   "metadata": {},
   "outputs": [],
   "source": [
    "test_merged_mean['count'] = np.log(test_merged_mean['count'] + 1)\n",
    "test_merged_mean['price'] = np.log(test_merged_mean['price'] + 1)\n",
    "test_merged_mean['check_sum'] = np.log(test_merged_mean['check_sum'] + 1)"
   ]
  },
  {
   "cell_type": "code",
   "execution_count": 338,
   "metadata": {},
   "outputs": [],
   "source": [
    "\n",
    "strings = train_merged.name.fillna('').str.lower().replace('.', ' ')\n",
    "strings_test = test_merged.name.fillna('').str.lower().replace('.', ' ')\n",
    "all_strings = pd.concat([strings, strings_test])"
   ]
  },
  {
   "cell_type": "code",
   "execution_count": 384,
   "metadata": {},
   "outputs": [],
   "source": [
    "\n",
    "# tfidf_sites = tfidf.fit(all_strings)\n",
    "\n",
    "from sklearn.feature_extraction.text import CountVectorizer\n",
    "\n",
    "# trans = CountVectorizer(analyzer='char', ngram_range=(3, 7), max_features=50000)\n",
    "trans = TfidfVectorizer(analyzer='char', ngram_range=(3, 7), max_features=50000)\n",
    "\n",
    "vect_fit = trans.fit(all_strings)"
   ]
  },
  {
   "cell_type": "code",
   "execution_count": 283,
   "metadata": {},
   "outputs": [
    {
     "data": {
      "text/plain": [
       "[array([ 8670,  8671,  8672, 32684, 32771, 34621, 34650, 34651, 47119,\n",
       "        47168, 47169, 47853, 47854, 47855, 48322, 48356, 48357, 81014,\n",
       "        81015, 81016, 90527], dtype=int64)]"
      ]
     },
     "execution_count": 283,
     "metadata": {},
     "output_type": "execute_result"
    }
   ],
   "source": [
    "idx = list([vect_fit.transform(train_merged.name[:1]).toarray().nonzero()[1]])\n",
    "idx"
   ]
  },
  {
   "cell_type": "code",
   "execution_count": 284,
   "metadata": {},
   "outputs": [
    {
     "data": {
      "text/plain": [
       "92815"
      ]
     },
     "execution_count": 284,
     "metadata": {},
     "output_type": "execute_result"
    }
   ],
   "source": [
    "len(vect_fit.vocabulary_)"
   ]
  },
  {
   "cell_type": "code",
   "execution_count": 385,
   "metadata": {},
   "outputs": [],
   "source": [
    "\n",
    "train_tfidf = vect_fit.transform(strings)\n",
    "test_tfidf = vect_fit.transform(strings_test)"
   ]
  },
  {
   "cell_type": "code",
   "execution_count": 370,
   "metadata": {},
   "outputs": [
    {
     "data": {
      "text/plain": [
       "0.0"
      ]
     },
     "execution_count": 370,
     "metadata": {},
     "output_type": "execute_result"
    }
   ],
   "source": [
    "np.isinf(train_merged_mean).sum().mean()"
   ]
  },
  {
   "cell_type": "code",
   "execution_count": null,
   "metadata": {},
   "outputs": [],
   "source": [
    "train_merged_mean.describe()"
   ]
  },
  {
   "cell_type": "code",
   "execution_count": 289,
   "metadata": {},
   "outputs": [],
   "source": [
    "full_merged_mean = pd.concat([train_merged_mean, test_merged_mean])\n",
    "full_merged_dumm = pd.get_dummies(full_merged_mean, columns=['dayOfMonth', 'month', 'hour', 'weekday', 'shop_name', 'year', 'catal_cat'])\n",
    "\n",
    "train_merged_mean, test_merged_mean = full_merged_dumm[:train_merged_mean.shape[0]], full_merged_dumm[train_merged_mean.shape[0]:]"
   ]
  },
  {
   "cell_type": "code",
   "execution_count": 303,
   "metadata": {},
   "outputs": [],
   "source": [
    "y = lb.fit_transform(train_merged['category'])"
   ]
  },
  {
   "cell_type": "code",
   "execution_count": 304,
   "metadata": {},
   "outputs": [],
   "source": [
    "\n",
    "train_merged_mean.drop(['check_id', 'name', 'datetime', 'dayOfYear'], axis=1, inplace=True)\n",
    "test_merged_mean.drop(['check_id', 'name', 'datetime', 'dayOfYear'], axis=1, inplace=True)"
   ]
  },
  {
   "cell_type": "code",
   "execution_count": 309,
   "metadata": {},
   "outputs": [],
   "source": [
    "\n",
    "train_merged_mean.drop(['id'], axis=1, inplace=True)\n",
    "test_merged_mean.drop(['id'], axis=1, inplace=True)"
   ]
  },
  {
   "cell_type": "code",
   "execution_count": 379,
   "metadata": {},
   "outputs": [],
   "source": [
    "test_merged_mean['product_price_mean_ch'].fillna(0, inplace=True)"
   ]
  },
  {
   "cell_type": "code",
   "execution_count": 380,
   "metadata": {},
   "outputs": [],
   "source": [
    "\n",
    "st = StandardScaler()\n",
    "train_merged_mean_st = st.fit_transform(train_merged_mean)\n",
    "test_merged_mean_st = st.transform(test_merged_mean)"
   ]
  },
  {
   "cell_type": "code",
   "execution_count": 372,
   "metadata": {},
   "outputs": [],
   "source": [
    "\n",
    "from scipy.sparse import csr_matrix, hstack"
   ]
  },
  {
   "cell_type": "code",
   "execution_count": 386,
   "metadata": {},
   "outputs": [],
   "source": [
    "train_prep = hstack([train_merged_mean_st, train_tfidf])\n",
    "test_prep = hstack([test_merged_mean_st, test_tfidf])"
   ]
  },
  {
   "cell_type": "code",
   "execution_count": 387,
   "metadata": {},
   "outputs": [
    {
     "name": "stdout",
     "output_type": "stream",
     "text": [
      "[-1.45405999 -1.40332155 -1.34715087 -1.45113862]\n"
     ]
    },
    {
     "data": {
      "text/plain": [
       "'1.414 +- 0.0435'"
      ]
     },
     "execution_count": 387,
     "metadata": {},
     "output_type": "execute_result"
    }
   ],
   "source": [
    "from sklearn.linear_model import LogisticRegression\n",
    "from sklearn.model_selection import cross_val_score\n",
    "from sklearn.model_selection import GroupKFold\n",
    "\n",
    "gkf = list(GroupKFold(n_splits=4).split(train_prep, y, train_merged.check_id.values))\n",
    "score = cross_val_score(LogisticRegression(), train_prep, y, scoring='neg_log_loss', cv = gkf, n_jobs = -1)\n",
    "print(score)\n",
    "\"%.3f +- %.4f\" % (-np.mean(score), np.std(score))"
   ]
  },
  {
   "cell_type": "code",
   "execution_count": 75,
   "metadata": {},
   "outputs": [],
   "source": [
    "import xgboost as xgb\n",
    "from hyperopt import hp\n",
    "from hyperopt import fmin, tpe, hp, STATUS_OK, Trials\n",
    "\n",
    "from sklearn.metrics import log_loss"
   ]
  },
  {
   "cell_type": "code",
   "execution_count": 76,
   "metadata": {},
   "outputs": [],
   "source": [
    "X_train, X_val, y_train, y_val = train_test_split(train_prep, y, test_size=0.3, random_state=17)"
   ]
  },
  {
   "cell_type": "code",
   "execution_count": 77,
   "metadata": {},
   "outputs": [],
   "source": [
    "def score(params):\n",
    "    print(\"Training with params:\")\n",
    "    print(params)\n",
    "    params['max_depth'] = int(params['max_depth'])\n",
    "    dtrain = xgb.DMatrix(X_train, label=y_train)\n",
    "    dvalid = xgb.DMatrix(X_val, label=y_val)\n",
    "    model = xgb.train(params, dtrain, params['num_round'])\n",
    "    predictions = model.predict(dvalid).reshape((X_val.shape[0], 25))\n",
    "    score = log_loss(y_val, predictions)\n",
    "    print(\"\\tScore {0}\\n\\n\".format(score))\n",
    "    return {'loss': score, 'status': STATUS_OK}\n",
    "\n",
    "def optimize(trials):\n",
    "    space = {\n",
    "             'num_round': 500,\n",
    "             'learning_rate': hp.quniform('eta', 0.005, 0.05, 0.005),\n",
    "             'max_depth': hp.quniform('max_depth', 3, 14, 1),\n",
    "             'min_child_weight': hp.quniform('min_child_weight', 1, 10, 1),\n",
    "             'subsample': hp.quniform('subsample', 0.5, 1, 0.05),\n",
    "             'gamma': hp.quniform('gamma', 0.5, 1, 0.01),\n",
    "             'colsample_bytree': hp.quniform('colsample_bytree', 0.4, 1, 0.05),\n",
    "             'num_class' : 25,\n",
    "             'eval_metric': 'logloss',\n",
    "             'objective': 'multi:softprob',\n",
    "             'nthread' : 8,\n",
    "             'silent' : 1\n",
    "             }\n",
    "    \n",
    "    best = fmin(score, space, algo=tpe.suggest, trials=trials, max_evals=10)\n",
    "    return best"
   ]
  },
  {
   "cell_type": "code",
   "execution_count": 78,
   "metadata": {},
   "outputs": [
    {
     "name": "stdout",
     "output_type": "stream",
     "text": [
      "Training with params:\n",
      "{'colsample_bytree': 0.45, 'eval_metric': 'logloss', 'gamma': 0.98, 'learning_rate': 0.045, 'max_depth': 6.0, 'min_child_weight': 7.0, 'nthread': 8, 'num_class': 25, 'num_round': 500, 'objective': 'multi:softprob', 'silent': 1, 'subsample': 0.55}\n",
      "\tScore 1.0938503702078128\n",
      "\n",
      "\n",
      "Training with params:\n",
      "{'colsample_bytree': 0.6000000000000001, 'eval_metric': 'logloss', 'gamma': 0.78, 'learning_rate': 0.02, 'max_depth': 13.0, 'min_child_weight': 5.0, 'nthread': 8, 'num_class': 25, 'num_round': 500, 'objective': 'multi:softprob', 'silent': 1, 'subsample': 0.55}\n",
      "\tScore 0.9890745367541746\n",
      "\n",
      "\n",
      "Training with params:\n",
      "{'colsample_bytree': 0.8500000000000001, 'eval_metric': 'logloss', 'gamma': 0.55, 'learning_rate': 0.005, 'max_depth': 9.0, 'min_child_weight': 3.0, 'nthread': 8, 'num_class': 25, 'num_round': 500, 'objective': 'multi:softprob', 'silent': 1, 'subsample': 0.8500000000000001}\n",
      "\tScore 1.2059947320118312\n",
      "\n",
      "\n",
      "Training with params:\n",
      "{'colsample_bytree': 0.6000000000000001, 'eval_metric': 'logloss', 'gamma': 0.96, 'learning_rate': 0.03, 'max_depth': 13.0, 'min_child_weight': 7.0, 'nthread': 8, 'num_class': 25, 'num_round': 500, 'objective': 'multi:softprob', 'silent': 1, 'subsample': 0.9500000000000001}\n",
      "\tScore 0.9251649850374825\n",
      "\n",
      "\n",
      "Training with params:\n",
      "{'colsample_bytree': 0.65, 'eval_metric': 'logloss', 'gamma': 0.8200000000000001, 'learning_rate': 0.035, 'max_depth': 6.0, 'min_child_weight': 7.0, 'nthread': 8, 'num_class': 25, 'num_round': 500, 'objective': 'multi:softprob', 'silent': 1, 'subsample': 0.7000000000000001}\n",
      "\tScore 1.0119742152852265\n",
      "\n",
      "\n",
      "Training with params:\n",
      "{'colsample_bytree': 0.8, 'eval_metric': 'logloss', 'gamma': 0.63, 'learning_rate': 0.035, 'max_depth': 7.0, 'min_child_weight': 8.0, 'nthread': 8, 'num_class': 25, 'num_round': 500, 'objective': 'multi:softprob', 'silent': 1, 'subsample': 0.55}\n",
      "\tScore 1.1237555077165904\n",
      "\n",
      "\n",
      "Training with params:\n",
      "{'colsample_bytree': 0.7000000000000001, 'eval_metric': 'logloss', 'gamma': 0.77, 'learning_rate': 0.02, 'max_depth': 13.0, 'min_child_weight': 6.0, 'nthread': 8, 'num_class': 25, 'num_round': 500, 'objective': 'multi:softprob', 'silent': 1, 'subsample': 0.8500000000000001}\n"
     ]
    },
    {
     "ename": "KeyboardInterrupt",
     "evalue": "",
     "output_type": "error",
     "traceback": [
      "\u001b[1;31m---------------------------------------------------------------------------\u001b[0m",
      "\u001b[1;31mKeyboardInterrupt\u001b[0m                         Traceback (most recent call last)",
      "\u001b[1;32m<ipython-input-78-2473a89c6f1b>\u001b[0m in \u001b[0;36m<module>\u001b[1;34m()\u001b[0m\n\u001b[0;32m      1\u001b[0m \u001b[0mtrials\u001b[0m \u001b[1;33m=\u001b[0m \u001b[0mTrials\u001b[0m\u001b[1;33m(\u001b[0m\u001b[1;33m)\u001b[0m\u001b[1;33m\u001b[0m\u001b[0m\n\u001b[1;32m----> 2\u001b[1;33m \u001b[0mbest_params\u001b[0m \u001b[1;33m=\u001b[0m \u001b[0moptimize\u001b[0m\u001b[1;33m(\u001b[0m\u001b[0mtrials\u001b[0m\u001b[1;33m)\u001b[0m\u001b[1;33m\u001b[0m\u001b[0m\n\u001b[0m\u001b[0;32m      3\u001b[0m \u001b[0mbest_params\u001b[0m\u001b[1;33m\u001b[0m\u001b[0m\n",
      "\u001b[1;32m<ipython-input-77-6763578159ae>\u001b[0m in \u001b[0;36moptimize\u001b[1;34m(trials)\u001b[0m\n\u001b[0;32m     27\u001b[0m              }\n\u001b[0;32m     28\u001b[0m \u001b[1;33m\u001b[0m\u001b[0m\n\u001b[1;32m---> 29\u001b[1;33m     \u001b[0mbest\u001b[0m \u001b[1;33m=\u001b[0m \u001b[0mfmin\u001b[0m\u001b[1;33m(\u001b[0m\u001b[0mscore\u001b[0m\u001b[1;33m,\u001b[0m \u001b[0mspace\u001b[0m\u001b[1;33m,\u001b[0m \u001b[0malgo\u001b[0m\u001b[1;33m=\u001b[0m\u001b[0mtpe\u001b[0m\u001b[1;33m.\u001b[0m\u001b[0msuggest\u001b[0m\u001b[1;33m,\u001b[0m \u001b[0mtrials\u001b[0m\u001b[1;33m=\u001b[0m\u001b[0mtrials\u001b[0m\u001b[1;33m,\u001b[0m \u001b[0mmax_evals\u001b[0m\u001b[1;33m=\u001b[0m\u001b[1;36m10\u001b[0m\u001b[1;33m)\u001b[0m\u001b[1;33m\u001b[0m\u001b[0m\n\u001b[0m\u001b[0;32m     30\u001b[0m     \u001b[1;32mreturn\u001b[0m \u001b[0mbest\u001b[0m\u001b[1;33m\u001b[0m\u001b[0m\n",
      "\u001b[1;32mD:\\anaconda\\lib\\site-packages\\hyperopt\\fmin.py\u001b[0m in \u001b[0;36mfmin\u001b[1;34m(fn, space, algo, max_evals, trials, rstate, allow_trials_fmin, pass_expr_memo_ctrl, catch_eval_exceptions, verbose, return_argmin)\u001b[0m\n\u001b[0;32m    305\u001b[0m             \u001b[0mverbose\u001b[0m\u001b[1;33m=\u001b[0m\u001b[0mverbose\u001b[0m\u001b[1;33m,\u001b[0m\u001b[1;33m\u001b[0m\u001b[0m\n\u001b[0;32m    306\u001b[0m             \u001b[0mcatch_eval_exceptions\u001b[0m\u001b[1;33m=\u001b[0m\u001b[0mcatch_eval_exceptions\u001b[0m\u001b[1;33m,\u001b[0m\u001b[1;33m\u001b[0m\u001b[0m\n\u001b[1;32m--> 307\u001b[1;33m             \u001b[0mreturn_argmin\u001b[0m\u001b[1;33m=\u001b[0m\u001b[0mreturn_argmin\u001b[0m\u001b[1;33m,\u001b[0m\u001b[1;33m\u001b[0m\u001b[0m\n\u001b[0m\u001b[0;32m    308\u001b[0m         )\n\u001b[0;32m    309\u001b[0m \u001b[1;33m\u001b[0m\u001b[0m\n",
      "\u001b[1;32mD:\\anaconda\\lib\\site-packages\\hyperopt\\base.py\u001b[0m in \u001b[0;36mfmin\u001b[1;34m(self, fn, space, algo, max_evals, rstate, verbose, pass_expr_memo_ctrl, catch_eval_exceptions, return_argmin)\u001b[0m\n\u001b[0;32m    633\u001b[0m             \u001b[0mpass_expr_memo_ctrl\u001b[0m\u001b[1;33m=\u001b[0m\u001b[0mpass_expr_memo_ctrl\u001b[0m\u001b[1;33m,\u001b[0m\u001b[1;33m\u001b[0m\u001b[0m\n\u001b[0;32m    634\u001b[0m             \u001b[0mcatch_eval_exceptions\u001b[0m\u001b[1;33m=\u001b[0m\u001b[0mcatch_eval_exceptions\u001b[0m\u001b[1;33m,\u001b[0m\u001b[1;33m\u001b[0m\u001b[0m\n\u001b[1;32m--> 635\u001b[1;33m             return_argmin=return_argmin)\n\u001b[0m\u001b[0;32m    636\u001b[0m \u001b[1;33m\u001b[0m\u001b[0m\n\u001b[0;32m    637\u001b[0m \u001b[1;33m\u001b[0m\u001b[0m\n",
      "\u001b[1;32mD:\\anaconda\\lib\\site-packages\\hyperopt\\fmin.py\u001b[0m in \u001b[0;36mfmin\u001b[1;34m(fn, space, algo, max_evals, trials, rstate, allow_trials_fmin, pass_expr_memo_ctrl, catch_eval_exceptions, verbose, return_argmin)\u001b[0m\n\u001b[0;32m    318\u001b[0m                     verbose=verbose)\n\u001b[0;32m    319\u001b[0m     \u001b[0mrval\u001b[0m\u001b[1;33m.\u001b[0m\u001b[0mcatch_eval_exceptions\u001b[0m \u001b[1;33m=\u001b[0m \u001b[0mcatch_eval_exceptions\u001b[0m\u001b[1;33m\u001b[0m\u001b[0m\n\u001b[1;32m--> 320\u001b[1;33m     \u001b[0mrval\u001b[0m\u001b[1;33m.\u001b[0m\u001b[0mexhaust\u001b[0m\u001b[1;33m(\u001b[0m\u001b[1;33m)\u001b[0m\u001b[1;33m\u001b[0m\u001b[0m\n\u001b[0m\u001b[0;32m    321\u001b[0m     \u001b[1;32mif\u001b[0m \u001b[0mreturn_argmin\u001b[0m\u001b[1;33m:\u001b[0m\u001b[1;33m\u001b[0m\u001b[0m\n\u001b[0;32m    322\u001b[0m         \u001b[1;32mreturn\u001b[0m \u001b[0mtrials\u001b[0m\u001b[1;33m.\u001b[0m\u001b[0margmin\u001b[0m\u001b[1;33m\u001b[0m\u001b[0m\n",
      "\u001b[1;32mD:\\anaconda\\lib\\site-packages\\hyperopt\\fmin.py\u001b[0m in \u001b[0;36mexhaust\u001b[1;34m(self)\u001b[0m\n\u001b[0;32m    197\u001b[0m     \u001b[1;32mdef\u001b[0m \u001b[0mexhaust\u001b[0m\u001b[1;33m(\u001b[0m\u001b[0mself\u001b[0m\u001b[1;33m)\u001b[0m\u001b[1;33m:\u001b[0m\u001b[1;33m\u001b[0m\u001b[0m\n\u001b[0;32m    198\u001b[0m         \u001b[0mn_done\u001b[0m \u001b[1;33m=\u001b[0m \u001b[0mlen\u001b[0m\u001b[1;33m(\u001b[0m\u001b[0mself\u001b[0m\u001b[1;33m.\u001b[0m\u001b[0mtrials\u001b[0m\u001b[1;33m)\u001b[0m\u001b[1;33m\u001b[0m\u001b[0m\n\u001b[1;32m--> 199\u001b[1;33m         \u001b[0mself\u001b[0m\u001b[1;33m.\u001b[0m\u001b[0mrun\u001b[0m\u001b[1;33m(\u001b[0m\u001b[0mself\u001b[0m\u001b[1;33m.\u001b[0m\u001b[0mmax_evals\u001b[0m \u001b[1;33m-\u001b[0m \u001b[0mn_done\u001b[0m\u001b[1;33m,\u001b[0m \u001b[0mblock_until_done\u001b[0m\u001b[1;33m=\u001b[0m\u001b[0mself\u001b[0m\u001b[1;33m.\u001b[0m\u001b[0masync\u001b[0m\u001b[1;33m)\u001b[0m\u001b[1;33m\u001b[0m\u001b[0m\n\u001b[0m\u001b[0;32m    200\u001b[0m         \u001b[0mself\u001b[0m\u001b[1;33m.\u001b[0m\u001b[0mtrials\u001b[0m\u001b[1;33m.\u001b[0m\u001b[0mrefresh\u001b[0m\u001b[1;33m(\u001b[0m\u001b[1;33m)\u001b[0m\u001b[1;33m\u001b[0m\u001b[0m\n\u001b[0;32m    201\u001b[0m         \u001b[1;32mreturn\u001b[0m \u001b[0mself\u001b[0m\u001b[1;33m\u001b[0m\u001b[0m\n",
      "\u001b[1;32mD:\\anaconda\\lib\\site-packages\\hyperopt\\fmin.py\u001b[0m in \u001b[0;36mrun\u001b[1;34m(self, N, block_until_done)\u001b[0m\n\u001b[0;32m    171\u001b[0m             \u001b[1;32melse\u001b[0m\u001b[1;33m:\u001b[0m\u001b[1;33m\u001b[0m\u001b[0m\n\u001b[0;32m    172\u001b[0m                 \u001b[1;31m# -- loop over trials and do the jobs directly\u001b[0m\u001b[1;33m\u001b[0m\u001b[1;33m\u001b[0m\u001b[0m\n\u001b[1;32m--> 173\u001b[1;33m                 \u001b[0mself\u001b[0m\u001b[1;33m.\u001b[0m\u001b[0mserial_evaluate\u001b[0m\u001b[1;33m(\u001b[0m\u001b[1;33m)\u001b[0m\u001b[1;33m\u001b[0m\u001b[0m\n\u001b[0m\u001b[0;32m    174\u001b[0m \u001b[1;33m\u001b[0m\u001b[0m\n\u001b[0;32m    175\u001b[0m             \u001b[1;32mif\u001b[0m \u001b[0mstopped\u001b[0m\u001b[1;33m:\u001b[0m\u001b[1;33m\u001b[0m\u001b[0m\n",
      "\u001b[1;32mD:\\anaconda\\lib\\site-packages\\hyperopt\\fmin.py\u001b[0m in \u001b[0;36mserial_evaluate\u001b[1;34m(self, N)\u001b[0m\n\u001b[0;32m     90\u001b[0m                 \u001b[0mctrl\u001b[0m \u001b[1;33m=\u001b[0m \u001b[0mbase\u001b[0m\u001b[1;33m.\u001b[0m\u001b[0mCtrl\u001b[0m\u001b[1;33m(\u001b[0m\u001b[0mself\u001b[0m\u001b[1;33m.\u001b[0m\u001b[0mtrials\u001b[0m\u001b[1;33m,\u001b[0m \u001b[0mcurrent_trial\u001b[0m\u001b[1;33m=\u001b[0m\u001b[0mtrial\u001b[0m\u001b[1;33m)\u001b[0m\u001b[1;33m\u001b[0m\u001b[0m\n\u001b[0;32m     91\u001b[0m                 \u001b[1;32mtry\u001b[0m\u001b[1;33m:\u001b[0m\u001b[1;33m\u001b[0m\u001b[0m\n\u001b[1;32m---> 92\u001b[1;33m                     \u001b[0mresult\u001b[0m \u001b[1;33m=\u001b[0m \u001b[0mself\u001b[0m\u001b[1;33m.\u001b[0m\u001b[0mdomain\u001b[0m\u001b[1;33m.\u001b[0m\u001b[0mevaluate\u001b[0m\u001b[1;33m(\u001b[0m\u001b[0mspec\u001b[0m\u001b[1;33m,\u001b[0m \u001b[0mctrl\u001b[0m\u001b[1;33m)\u001b[0m\u001b[1;33m\u001b[0m\u001b[0m\n\u001b[0m\u001b[0;32m     93\u001b[0m                 \u001b[1;32mexcept\u001b[0m \u001b[0mException\u001b[0m \u001b[1;32mas\u001b[0m \u001b[0me\u001b[0m\u001b[1;33m:\u001b[0m\u001b[1;33m\u001b[0m\u001b[0m\n\u001b[0;32m     94\u001b[0m                     \u001b[0mlogger\u001b[0m\u001b[1;33m.\u001b[0m\u001b[0minfo\u001b[0m\u001b[1;33m(\u001b[0m\u001b[1;34m'job exception: %s'\u001b[0m \u001b[1;33m%\u001b[0m \u001b[0mstr\u001b[0m\u001b[1;33m(\u001b[0m\u001b[0me\u001b[0m\u001b[1;33m)\u001b[0m\u001b[1;33m)\u001b[0m\u001b[1;33m\u001b[0m\u001b[0m\n",
      "\u001b[1;32mD:\\anaconda\\lib\\site-packages\\hyperopt\\base.py\u001b[0m in \u001b[0;36mevaluate\u001b[1;34m(self, config, ctrl, attach_attachments)\u001b[0m\n\u001b[0;32m    838\u001b[0m                 \u001b[0mmemo\u001b[0m\u001b[1;33m=\u001b[0m\u001b[0mmemo\u001b[0m\u001b[1;33m,\u001b[0m\u001b[1;33m\u001b[0m\u001b[0m\n\u001b[0;32m    839\u001b[0m                 print_node_on_error=self.rec_eval_print_node_on_error)\n\u001b[1;32m--> 840\u001b[1;33m             \u001b[0mrval\u001b[0m \u001b[1;33m=\u001b[0m \u001b[0mself\u001b[0m\u001b[1;33m.\u001b[0m\u001b[0mfn\u001b[0m\u001b[1;33m(\u001b[0m\u001b[0mpyll_rval\u001b[0m\u001b[1;33m)\u001b[0m\u001b[1;33m\u001b[0m\u001b[0m\n\u001b[0m\u001b[0;32m    841\u001b[0m \u001b[1;33m\u001b[0m\u001b[0m\n\u001b[0;32m    842\u001b[0m         \u001b[1;32mif\u001b[0m \u001b[0misinstance\u001b[0m\u001b[1;33m(\u001b[0m\u001b[0mrval\u001b[0m\u001b[1;33m,\u001b[0m \u001b[1;33m(\u001b[0m\u001b[0mfloat\u001b[0m\u001b[1;33m,\u001b[0m \u001b[0mint\u001b[0m\u001b[1;33m,\u001b[0m \u001b[0mnp\u001b[0m\u001b[1;33m.\u001b[0m\u001b[0mnumber\u001b[0m\u001b[1;33m)\u001b[0m\u001b[1;33m)\u001b[0m\u001b[1;33m:\u001b[0m\u001b[1;33m\u001b[0m\u001b[0m\n",
      "\u001b[1;32m<ipython-input-77-6763578159ae>\u001b[0m in \u001b[0;36mscore\u001b[1;34m(params)\u001b[0m\n\u001b[0;32m      5\u001b[0m     \u001b[0mdtrain\u001b[0m \u001b[1;33m=\u001b[0m \u001b[0mxgb\u001b[0m\u001b[1;33m.\u001b[0m\u001b[0mDMatrix\u001b[0m\u001b[1;33m(\u001b[0m\u001b[0mX_train\u001b[0m\u001b[1;33m,\u001b[0m \u001b[0mlabel\u001b[0m\u001b[1;33m=\u001b[0m\u001b[0my_train\u001b[0m\u001b[1;33m)\u001b[0m\u001b[1;33m\u001b[0m\u001b[0m\n\u001b[0;32m      6\u001b[0m     \u001b[0mdvalid\u001b[0m \u001b[1;33m=\u001b[0m \u001b[0mxgb\u001b[0m\u001b[1;33m.\u001b[0m\u001b[0mDMatrix\u001b[0m\u001b[1;33m(\u001b[0m\u001b[0mX_val\u001b[0m\u001b[1;33m,\u001b[0m \u001b[0mlabel\u001b[0m\u001b[1;33m=\u001b[0m\u001b[0my_val\u001b[0m\u001b[1;33m)\u001b[0m\u001b[1;33m\u001b[0m\u001b[0m\n\u001b[1;32m----> 7\u001b[1;33m     \u001b[0mmodel\u001b[0m \u001b[1;33m=\u001b[0m \u001b[0mxgb\u001b[0m\u001b[1;33m.\u001b[0m\u001b[0mtrain\u001b[0m\u001b[1;33m(\u001b[0m\u001b[0mparams\u001b[0m\u001b[1;33m,\u001b[0m \u001b[0mdtrain\u001b[0m\u001b[1;33m,\u001b[0m \u001b[0mparams\u001b[0m\u001b[1;33m[\u001b[0m\u001b[1;34m'num_round'\u001b[0m\u001b[1;33m]\u001b[0m\u001b[1;33m)\u001b[0m\u001b[1;33m\u001b[0m\u001b[0m\n\u001b[0m\u001b[0;32m      8\u001b[0m     \u001b[0mpredictions\u001b[0m \u001b[1;33m=\u001b[0m \u001b[0mmodel\u001b[0m\u001b[1;33m.\u001b[0m\u001b[0mpredict\u001b[0m\u001b[1;33m(\u001b[0m\u001b[0mdvalid\u001b[0m\u001b[1;33m)\u001b[0m\u001b[1;33m.\u001b[0m\u001b[0mreshape\u001b[0m\u001b[1;33m(\u001b[0m\u001b[1;33m(\u001b[0m\u001b[0mX_val\u001b[0m\u001b[1;33m.\u001b[0m\u001b[0mshape\u001b[0m\u001b[1;33m[\u001b[0m\u001b[1;36m0\u001b[0m\u001b[1;33m]\u001b[0m\u001b[1;33m,\u001b[0m \u001b[1;36m25\u001b[0m\u001b[1;33m)\u001b[0m\u001b[1;33m)\u001b[0m\u001b[1;33m\u001b[0m\u001b[0m\n\u001b[0;32m      9\u001b[0m     \u001b[0mscore\u001b[0m \u001b[1;33m=\u001b[0m \u001b[0mlog_loss\u001b[0m\u001b[1;33m(\u001b[0m\u001b[0my_val\u001b[0m\u001b[1;33m,\u001b[0m \u001b[0mpredictions\u001b[0m\u001b[1;33m)\u001b[0m\u001b[1;33m\u001b[0m\u001b[0m\n",
      "\u001b[1;32mD:\\anaconda\\lib\\site-packages\\xgboost-0.71-py3.6.egg\\xgboost\\training.py\u001b[0m in \u001b[0;36mtrain\u001b[1;34m(params, dtrain, num_boost_round, evals, obj, feval, maximize, early_stopping_rounds, evals_result, verbose_eval, xgb_model, callbacks, learning_rates)\u001b[0m\n\u001b[0;32m    202\u001b[0m                            \u001b[0mevals\u001b[0m\u001b[1;33m=\u001b[0m\u001b[0mevals\u001b[0m\u001b[1;33m,\u001b[0m\u001b[1;33m\u001b[0m\u001b[0m\n\u001b[0;32m    203\u001b[0m                            \u001b[0mobj\u001b[0m\u001b[1;33m=\u001b[0m\u001b[0mobj\u001b[0m\u001b[1;33m,\u001b[0m \u001b[0mfeval\u001b[0m\u001b[1;33m=\u001b[0m\u001b[0mfeval\u001b[0m\u001b[1;33m,\u001b[0m\u001b[1;33m\u001b[0m\u001b[0m\n\u001b[1;32m--> 204\u001b[1;33m                            xgb_model=xgb_model, callbacks=callbacks)\n\u001b[0m\u001b[0;32m    205\u001b[0m \u001b[1;33m\u001b[0m\u001b[0m\n\u001b[0;32m    206\u001b[0m \u001b[1;33m\u001b[0m\u001b[0m\n",
      "\u001b[1;32mD:\\anaconda\\lib\\site-packages\\xgboost-0.71-py3.6.egg\\xgboost\\training.py\u001b[0m in \u001b[0;36m_train_internal\u001b[1;34m(params, dtrain, num_boost_round, evals, obj, feval, xgb_model, callbacks)\u001b[0m\n\u001b[0;32m     72\u001b[0m         \u001b[1;31m# Skip the first update if it is a recovery step.\u001b[0m\u001b[1;33m\u001b[0m\u001b[1;33m\u001b[0m\u001b[0m\n\u001b[0;32m     73\u001b[0m         \u001b[1;32mif\u001b[0m \u001b[0mversion\u001b[0m \u001b[1;33m%\u001b[0m \u001b[1;36m2\u001b[0m \u001b[1;33m==\u001b[0m \u001b[1;36m0\u001b[0m\u001b[1;33m:\u001b[0m\u001b[1;33m\u001b[0m\u001b[0m\n\u001b[1;32m---> 74\u001b[1;33m             \u001b[0mbst\u001b[0m\u001b[1;33m.\u001b[0m\u001b[0mupdate\u001b[0m\u001b[1;33m(\u001b[0m\u001b[0mdtrain\u001b[0m\u001b[1;33m,\u001b[0m \u001b[0mi\u001b[0m\u001b[1;33m,\u001b[0m \u001b[0mobj\u001b[0m\u001b[1;33m)\u001b[0m\u001b[1;33m\u001b[0m\u001b[0m\n\u001b[0m\u001b[0;32m     75\u001b[0m             \u001b[0mbst\u001b[0m\u001b[1;33m.\u001b[0m\u001b[0msave_rabit_checkpoint\u001b[0m\u001b[1;33m(\u001b[0m\u001b[1;33m)\u001b[0m\u001b[1;33m\u001b[0m\u001b[0m\n\u001b[0;32m     76\u001b[0m             \u001b[0mversion\u001b[0m \u001b[1;33m+=\u001b[0m \u001b[1;36m1\u001b[0m\u001b[1;33m\u001b[0m\u001b[0m\n",
      "\u001b[1;32mD:\\anaconda\\lib\\site-packages\\xgboost-0.71-py3.6.egg\\xgboost\\core.py\u001b[0m in \u001b[0;36mupdate\u001b[1;34m(self, dtrain, iteration, fobj)\u001b[0m\n\u001b[0;32m    893\u001b[0m         \u001b[1;32mif\u001b[0m \u001b[0mfobj\u001b[0m \u001b[1;32mis\u001b[0m \u001b[1;32mNone\u001b[0m\u001b[1;33m:\u001b[0m\u001b[1;33m\u001b[0m\u001b[0m\n\u001b[0;32m    894\u001b[0m             _check_call(_LIB.XGBoosterUpdateOneIter(self.handle, ctypes.c_int(iteration),\n\u001b[1;32m--> 895\u001b[1;33m                                                     dtrain.handle))\n\u001b[0m\u001b[0;32m    896\u001b[0m         \u001b[1;32melse\u001b[0m\u001b[1;33m:\u001b[0m\u001b[1;33m\u001b[0m\u001b[0m\n\u001b[0;32m    897\u001b[0m             \u001b[0mpred\u001b[0m \u001b[1;33m=\u001b[0m \u001b[0mself\u001b[0m\u001b[1;33m.\u001b[0m\u001b[0mpredict\u001b[0m\u001b[1;33m(\u001b[0m\u001b[0mdtrain\u001b[0m\u001b[1;33m)\u001b[0m\u001b[1;33m\u001b[0m\u001b[0m\n",
      "\u001b[1;31mKeyboardInterrupt\u001b[0m: "
     ]
    }
   ],
   "source": [
    "trials = Trials()\n",
    "best_params = optimize(trials)\n",
    "best_params"
   ]
  },
  {
   "cell_type": "code",
   "execution_count": 82,
   "metadata": {},
   "outputs": [
    {
     "name": "stdout",
     "output_type": "stream",
     "text": [
      "[[nan nan nan nan nan nan nan nan nan nan nan nan nan nan nan nan nan nan\n",
      "  nan nan nan nan nan nan nan]\n",
      " [nan nan nan nan nan nan nan nan nan nan nan nan nan nan nan nan nan nan\n",
      "  nan nan nan nan nan nan nan]\n",
      " [nan nan nan nan nan nan nan nan nan nan nan nan nan nan nan nan nan nan\n",
      "  nan nan nan nan nan nan nan]]\n"
     ]
    },
    {
     "ename": "ValueError",
     "evalue": "Input contains NaN, infinity or a value too large for dtype('float32').",
     "output_type": "error",
     "traceback": [
      "\u001b[1;31m---------------------------------------------------------------------------\u001b[0m",
      "\u001b[1;31mValueError\u001b[0m                                Traceback (most recent call last)",
      "\u001b[1;32m<ipython-input-82-9f0bce6504cc>\u001b[0m in \u001b[0;36m<module>\u001b[1;34m()\u001b[0m\n\u001b[0;32m     22\u001b[0m \u001b[0mprint\u001b[0m\u001b[1;33m(\u001b[0m\u001b[0mxgb__pred\u001b[0m\u001b[1;33m[\u001b[0m\u001b[1;33m:\u001b[0m\u001b[1;36m3\u001b[0m\u001b[1;33m]\u001b[0m\u001b[1;33m)\u001b[0m\u001b[1;33m\u001b[0m\u001b[0m\n\u001b[0;32m     23\u001b[0m \u001b[1;33m\u001b[0m\u001b[0m\n\u001b[1;32m---> 24\u001b[1;33m \u001b[0mlog_loss\u001b[0m\u001b[1;33m(\u001b[0m\u001b[0my_val\u001b[0m\u001b[1;33m,\u001b[0m \u001b[0mxgb__pred\u001b[0m\u001b[1;33m)\u001b[0m\u001b[1;33m\u001b[0m\u001b[0m\n\u001b[0m",
      "\u001b[1;32mD:\\anaconda\\lib\\site-packages\\sklearn\\metrics\\classification.py\u001b[0m in \u001b[0;36mlog_loss\u001b[1;34m(y_true, y_pred, eps, normalize, sample_weight, labels)\u001b[0m\n\u001b[0;32m   1638\u001b[0m     \u001b[0mThe\u001b[0m \u001b[0mlogarithm\u001b[0m \u001b[0mused\u001b[0m \u001b[1;32mis\u001b[0m \u001b[0mthe\u001b[0m \u001b[0mnatural\u001b[0m \u001b[0mlogarithm\u001b[0m \u001b[1;33m(\u001b[0m\u001b[0mbase\u001b[0m\u001b[1;33m-\u001b[0m\u001b[0me\u001b[0m\u001b[1;33m)\u001b[0m\u001b[1;33m.\u001b[0m\u001b[1;33m\u001b[0m\u001b[0m\n\u001b[0;32m   1639\u001b[0m     \"\"\"\n\u001b[1;32m-> 1640\u001b[1;33m     \u001b[0my_pred\u001b[0m \u001b[1;33m=\u001b[0m \u001b[0mcheck_array\u001b[0m\u001b[1;33m(\u001b[0m\u001b[0my_pred\u001b[0m\u001b[1;33m,\u001b[0m \u001b[0mensure_2d\u001b[0m\u001b[1;33m=\u001b[0m\u001b[1;32mFalse\u001b[0m\u001b[1;33m)\u001b[0m\u001b[1;33m\u001b[0m\u001b[0m\n\u001b[0m\u001b[0;32m   1641\u001b[0m     \u001b[0mcheck_consistent_length\u001b[0m\u001b[1;33m(\u001b[0m\u001b[0my_pred\u001b[0m\u001b[1;33m,\u001b[0m \u001b[0my_true\u001b[0m\u001b[1;33m)\u001b[0m\u001b[1;33m\u001b[0m\u001b[0m\n\u001b[0;32m   1642\u001b[0m \u001b[1;33m\u001b[0m\u001b[0m\n",
      "\u001b[1;32mD:\\anaconda\\lib\\site-packages\\sklearn\\utils\\validation.py\u001b[0m in \u001b[0;36mcheck_array\u001b[1;34m(array, accept_sparse, dtype, order, copy, force_all_finite, ensure_2d, allow_nd, ensure_min_samples, ensure_min_features, warn_on_dtype, estimator)\u001b[0m\n\u001b[0;32m    451\u001b[0m                              % (array.ndim, estimator_name))\n\u001b[0;32m    452\u001b[0m         \u001b[1;32mif\u001b[0m \u001b[0mforce_all_finite\u001b[0m\u001b[1;33m:\u001b[0m\u001b[1;33m\u001b[0m\u001b[0m\n\u001b[1;32m--> 453\u001b[1;33m             \u001b[0m_assert_all_finite\u001b[0m\u001b[1;33m(\u001b[0m\u001b[0marray\u001b[0m\u001b[1;33m)\u001b[0m\u001b[1;33m\u001b[0m\u001b[0m\n\u001b[0m\u001b[0;32m    454\u001b[0m \u001b[1;33m\u001b[0m\u001b[0m\n\u001b[0;32m    455\u001b[0m     \u001b[0mshape_repr\u001b[0m \u001b[1;33m=\u001b[0m \u001b[0m_shape_repr\u001b[0m\u001b[1;33m(\u001b[0m\u001b[0marray\u001b[0m\u001b[1;33m.\u001b[0m\u001b[0mshape\u001b[0m\u001b[1;33m)\u001b[0m\u001b[1;33m\u001b[0m\u001b[0m\n",
      "\u001b[1;32mD:\\anaconda\\lib\\site-packages\\sklearn\\utils\\validation.py\u001b[0m in \u001b[0;36m_assert_all_finite\u001b[1;34m(X)\u001b[0m\n\u001b[0;32m     42\u001b[0m             and not np.isfinite(X).all()):\n\u001b[0;32m     43\u001b[0m         raise ValueError(\"Input contains NaN, infinity\"\n\u001b[1;32m---> 44\u001b[1;33m                          \" or a value too large for %r.\" % X.dtype)\n\u001b[0m\u001b[0;32m     45\u001b[0m \u001b[1;33m\u001b[0m\u001b[0m\n\u001b[0;32m     46\u001b[0m \u001b[1;33m\u001b[0m\u001b[0m\n",
      "\u001b[1;31mValueError\u001b[0m: Input contains NaN, infinity or a value too large for dtype('float32')."
     ]
    }
   ],
   "source": [
    "dtrain = xgb.DMatrix(X_train, label=y_train)\n",
    "dval = xgb.DMatrix(X_val)\n",
    "\n",
    "params = {\n",
    "    'objective':'multi:softprob',\n",
    "    'max_depth':1,\n",
    "    'silent':1,\n",
    "    'nthread': 8,\n",
    "    'eval_metric': 'logloss',\n",
    "    'num_class' : 25,\n",
    "#     'booster': 'dart',\n",
    "#     'eta':0.05,\n",
    "#     'gamma': 0.5,\n",
    "#     'lambda': 100,\n",
    "#     'alpha': 0.05\n",
    "}\n",
    "\n",
    "num_rounds = 500\n",
    "xgb_ = xgb.train(params, dtrain, num_rounds)\n",
    "\n",
    "xgb__pred = xgb_.predict(dval).reshape((X_val.shape[0], params['num_class']))\n",
    "print(xgb__pred[:3])\n",
    "\n",
    "log_loss(y_val, xgb__pred)"
   ]
  },
  {
   "cell_type": "code",
   "execution_count": null,
   "metadata": {},
   "outputs": [],
   "source": [
    "trans_cat.transform()"
   ]
  }
 ],
 "metadata": {
  "kernelspec": {
   "display_name": "Python 3",
   "language": "python",
   "name": "python3"
  },
  "language_info": {
   "codemirror_mode": {
    "name": "ipython",
    "version": 3
   },
   "file_extension": ".py",
   "mimetype": "text/x-python",
   "name": "python",
   "nbconvert_exporter": "python",
   "pygments_lexer": "ipython3",
   "version": "3.6.4"
  }
 },
 "nbformat": 4,
 "nbformat_minor": 2
}
