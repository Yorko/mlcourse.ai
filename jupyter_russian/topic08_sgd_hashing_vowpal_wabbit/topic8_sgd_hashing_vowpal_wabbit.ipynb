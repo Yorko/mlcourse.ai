{
 "cells": [
  {
   "cell_type": "markdown",
   "metadata": {},
   "source": [
    "<center>\n",
    "<img src=\"../../img/ods_stickers.jpg\">\n",
    "## Открытый курс по машинному обучению\n",
    "</center>\n",
    "Автор материала: программист-исследователь Mail.ru Group, старший преподаватель Факультета Компьютерных Наук ВШЭ Юрий Кашницкий. Материал распространяется на условиях лицензии [Creative Commons CC BY-NC-SA 4.0](https://creativecommons.org/licenses/by-nc-sa/4.0/). Можно использовать в любых целях (редактировать, поправлять и брать за основу), кроме коммерческих, но с обязательным упоминанием автора материала."
   ]
  },
  {
   "cell_type": "markdown",
   "metadata": {},
   "source": [
    "# <center>Тема 8. Стохастический градиентный спуск, онлайн-обучение, Vowpal Wabbit</center>"
   ]
  },
  {
   "cell_type": "markdown",
   "metadata": {},
   "source": [
    "Всем привет! Вот мы постепенно и дошли до продвинутых методов машинного обучения, сегодня обсудим, как вообще подступиться к обучению модели, если данных гигабайты и десятки гигабайт.\n",
    "Обсудим приемы, позволяющие это делать: стохастический градиентный спуск (SGD) и хэширование признаков, посмотрим на примеры применения библиотеки Vowpal Wabbit. Домашнее задание будет как на реализацию SGD-алгоритмов, так и на обучение классификатора вопросов на StackOverflow по выборке в 10 Гб. \n",
    "\n",
    "Поехали!\n",
    "\n",
    "# План\n",
    "- Стохастический градиентный спуск и онлайн-подход к обучению\n",
    "    - Стохастический градиентный спуск\n",
    "    - Онлайн-подход к обучению\n",
    "- Работа с категориальными признаками: Label Encoding, One-Hot Encoding, Hashing trick\n",
    "    - Label Encoding\n",
    "    - One-Hot Encoding\n",
    "    - Хэширование признаков (Hashing trick)\n",
    "- Vowpal Wabbit\n",
    "    - Новости. Бинарная классификация\n",
    "    - Письма. Многоклассовая классификация\n",
    "    - Рецензии к фильмам IMDB\n",
    "    - Классификация вопросов на Stackoverflow "
   ]
  },
  {
   "cell_type": "markdown",
   "metadata": {},
   "source": [
    "Вначале импортируем сразу все нужные библиотеки"
   ]
  },
  {
   "cell_type": "code",
   "execution_count": 1,
   "metadata": {},
   "outputs": [],
   "source": [
    "import warnings\n",
    "warnings.filterwarnings('ignore')\n",
    "import os\n",
    "import re\n",
    "import numpy as np\n",
    "import pandas as pd\n",
    "\n",
    "from sklearn.model_selection import train_test_split\n",
    "from sklearn.linear_model import LogisticRegression\n",
    "from sklearn.metrics import classification_report, accuracy_score\n",
    "from sklearn.metrics import roc_auc_score, roc_curve, confusion_matrix\n",
    "from sklearn.preprocessing import LabelEncoder, OneHotEncoder\n",
    "from sklearn.datasets import fetch_20newsgroups, load_files\n",
    "\n",
    "import pandas as pd\n",
    "from scipy.sparse import csr_matrix\n",
    "import matplotlib.pyplot as plt\n",
    "%matplotlib inline\n",
    "import seaborn as sns"
   ]
  },
  {
   "cell_type": "markdown",
   "metadata": {},
   "source": [
    "# Стохастический градиентный спуск и онлайн-подход к обучению\n",
    "## Стохастический градиентный спуск\n",
    "\n",
    "Несмотря на то, что градиентный спуск – одна из первых тем, изучаемых в теории оптимизации и машинном обучении, сложно переоценить важность одной его модификации – стохастического градиентного спуска, который мы часто будем называть просто SGD (Stochastic Gradient Descent). \n",
    "\n",
    "Напомним, что суть градиентного спуска – минимизировать функцию, делая небольшие шаги в сторону наискорейшего убывания функции. Название методу подарил тот факт из математического анализа, что вектор $\\nabla f = (\\frac{\\partial f}{\\partial x_1}, \\ldots \\frac{\\partial f}{\\partial x_n})^T$ частных производных функции $f(x) = f(x_1, \\ldots x_n)$ задает направление наискорейшего возрастания этой функции. Значит, двигаясь в сторону антиградиента функции (вектора, противоположного градиенту), можно уменьшать ее значение быстрее всего. \n",
    "\n",
    "<img src='../../img/snowboard.jpg' width=70%>\n",
    "\n",
    "Это я в Шерегеше – всем катающим советую хотя бы раз в жизни там оказаться. Картинка для успокоения глаз, но с ее помощью можно пояснить интуицию градиентного спуска. Если задача – как можно быстрее спуститься с горы на сноуборде, то нужно в каждой точке выбирать максимальный уклон (если это совместимо с жизнью). Вычисление антиградиента – это и есть оценка крутизны склона в данной точке. "
   ]
  },
  {
   "cell_type": "markdown",
   "metadata": {},
   "source": [
    "**Пример**\n",
    "\n",
    "Задачу простой парной регрессии можно решать с помощью градиентного спуска. Предположим, мы прогнозируем одну переменную по другой – рост по весу – и постулируем линейную зависимость роста от веса."
   ]
  },
  {
   "cell_type": "code",
   "execution_count": 2,
   "metadata": {},
   "outputs": [],
   "source": [
    "%matplotlib inline\n",
    "from matplotlib import pyplot as plt\n",
    "import seaborn as sns\n",
    "import pandas as pd\n",
    "data_demo = pd.read_csv('../../data/weights_heights.csv')"
   ]
  },
  {
   "cell_type": "code",
   "execution_count": 3,
   "metadata": {},
   "outputs": [
    {
     "data": {
      "image/png": "[encoded data removed]",
      "text/plain": [
       "<matplotlib.figure.Figure at 0xb2110b8>"
      ]
     },
     "metadata": {},
     "output_type": "display_data"
    }
   ],
   "source": [
    "plt.scatter(data_demo['Weight'], data_demo['Height']);\n",
    "plt.xlabel('Вес в фунтах')\n",
    "plt.ylabel('Рост в дюймах');"
   ]
  },
  {
   "cell_type": "markdown",
   "metadata": {},
   "source": [
    "Даны вектор $x$ длины $\\ell$– значения веса для каждого наблюдения (человека) и $y$ – вектор значений роста для каждого наблюдения (человека).\n",
    "\n",
    "Задача: найти такие веса $w_0$ и $w_1$, чтобы при прогнозе роста по весу в виде $y_i = w_0 + w_1 x_i$ (где $y_i$ – $i$-ое значение роста, $x_i$ –  $i$-ое значение веса) минимизировать квадратичную ошибку (можно и среднеквадратичную, но константа $\\frac{1}{\\ell}$ погоды не делает, а $\\frac{1}{2}$ заведена для красоты):\n",
    "$$SE(w_0, w_1) = \\frac{1}{2}\\sum_{i=1}^\\ell(y_i - (w_0 + w_1x_{i}))^2 \\rightarrow min_{w_0,w_1}$$\n",
    "\n",
    "Делать мы это будем с помощью градиентного спуска, посчитав частные производные функции $SE(w_0, w_1)$ по весам в модели – $w_0$ и $w_1$.\n",
    "Итеративная процедура обучения будет задаваться простыми формулами обновления весов (меняем веса так, чтобы длать небольшой, пропорционально малой константе $\\eta$, шаг в сторону антиградиента функции):\n",
    "\n",
    "$$\\begin{array}{rcl} w_0^{(t+1)} = w_0^{(t)} -\\eta \\frac{\\partial SE}{\\partial w_0} |_{t} \\\\  w_1^{(t+1)} = w_1^{(t)} -\\eta \\frac{\\partial SE}{\\partial w_1} |_{t} \\end{array}$$\n",
    "\n",
    "Если обратиться к ручке и бумажке и найти аналитические выражения для частных производных, то получим \n",
    "\n",
    "$$\\begin{array}{rcl} w_0^{(t+1)} = w_0^{(t)} + \\eta \\sum_{i=1}^{\\ell}(y_i - w_0^{(t)} - w_1^{(t)}x_i) \\\\  w_1^{(t+1)} = w_1^{(t)} + \\eta \\sum_{i=1}^{\\ell}(y_i - w_0^{(t)} - w_1^{(t)}x_i)x_i \\end{array}$$\n",
    "\n",
    "И все это довольно хорошо работает (в этой статье мы не будем обсуждать проблемы локальных минимумов, подбора шага градиентного спуска, момент и т.д. – про это и так много написано, можно обратиться к [главе](http://www.deeplearningbook.org/contents/numerical.html) \"Numeric Computation\" книги \"Deep Learning\") пока данных не становится слишком много. Проблема такого подхода в том, что вычисление градиента сводится к суммированию некоторых величин для каждого объекта обучающей выборки. То есть попросту, проблема в том, что итераций алгоритму на практике требуется много, а на каждой итерации веса пересчитываются по формуле, в которой есть сумма по всей выборке вида $\\sum_{i=1}^\\ell$. А что если объектов в выборке миллионы и миллиарды?\n",
    "\n",
    "\n",
    "\n",
    "Суть стохастического градиентного спуска – неформально, выкинуть знак суммы из формул пересчета весов и обновлять их по одному объекту. То есть в нашем случае\n",
    "\n",
    "$$\\begin{array}{rcl} w_0^{(t+1)} = w_0^{(t)} + \\eta (y_i - w_0^{(t)} - w_1^{(t)}x_i) \\\\  w_1^{(t+1)} = w_1^{(t)} + \\eta (y_i - w_0^{(t)} - w_1^{(t)}x_i)x_i \\end{array}$$\n",
    "\n",
    "При таком подходе на каждой итерации уже совсем не гарантировано движение в сторону наискорейшего убывания функции, и итераций может понадобиться на пару порядков больше, чем при обычном градиентном спуске. Зато пересчет весов на каждой итерации делается почти мгновенно. \n",
    "\n",
    "В качестве иллюстрации возьмем картинку Эндрю Ына из его [курса](https://www.coursera.org/learn/machine-learning) машинного обучения.\n",
    "\n",
    "<img src='../../img/sgd_convergence.png'>\n",
    "\n",
    "Нарисованы линии уровня некоторой функции, минимум который мы ищем. Красная кривая изображает изменение весов (на картинке $\\theta_0$ и $\\theta_1$ соответсвуют $w_0$ и $w_1$ в нашем примере). По свойствам градиента направление изменения в каждой точке будет перпендикулярно линиям уровня. При стохастическом подходе на каждой итерации веса меняется менее предсказуемо, порой даже кажется, что некоторые шаги неудачны – уводят от заветного минимума, но в итоге обе процедуры сходятся примерно к одному решению.\n",
    "\n",
    "Сходимость стохатического градиентного спуска к тому же решению, что и у градиентного спуска, является одним из важнейших фактов, доказанных в теории оптимизации. Сейчас в эпоху Deep Data и Big Learning чаще даже градиентным спуском называет именно его стохастическую версию."
   ]
  },
  {
   "cell_type": "markdown",
   "metadata": {},
   "source": [
    "## Онлайн-подход к обучению\n",
    "Стохастический градиентный спуск, будучи одним из методов оптимизации, дает вполне практическое руководство к обучению алгоритмов классификации и регрессии на больших выборках – до сотен гигабайт (в зависимости от имеющейся памяти).\n",
    "\n",
    "В случае парной регрессии, который мы рассмотрели, на диске можно хранить обучающую выборку $(X,y)$ и, не загружая ее в оперативную память (она может попросту не поместиться), считывать объекты по одному и обновлять веса:\n",
    "\n",
    "$$\\begin{array}{rcl} w_0^{(t+1)} = w_0^{(t)} + \\eta (y_i - w_0^{(t)} - w_1^{(t)}x_i) \\\\  w_1^{(t+1)} = w_1^{(t)} + \\eta (y_i - w_0^{(t)} - w_1^{(t)}x_i)x_i \\end{array}$$\n",
    "\n",
    "После обработки всех объектов обучающей выборки, функционал, который мы оптимизируем (квадратичная ошибка в задаче регрессии или, напрмиер, логистическая – в задаче классификации) снизится, но часто нужно несколько десятков проходов по выборке, чтобы он снизился достаточно. \n",
    "\n",
    "Такой подход к обучению моделей часто называют онлайн-обучением, термин появился еще до того, как MOOC-и стали мэйнстримом.\n",
    "\n",
    "<img src=\"../../img/andrew_ng_online_learning.jpg\" width=50%>\n",
    "\n",
    "В этой статье мы не рассматриваем многих нюансов стохастической оптимизации (вот хорошая [статья](https://habrahabr.ru/post/318970/) на Хабре, фундаментально изучить эту тему можно по книге Boyd \"Convex Optimization\"), перейдем скорее к библиотеке Vowpal Wabbit, с помощью которой можно обучать простые модели на огромных выборках за счет стохастической оптимизации и еще одного трюка – хэширования признаков, о котором пойдет речь далее."
   ]
  },
  {
   "cell_type": "markdown",
   "metadata": {},
   "source": [
    "В библиотеке Scikit-learn классификаторы и регрессоры, обучаемые стохастическим градиентным спуском, реализованы классами `SGDClassifier` и `SGDRegressor` из `sklearn.linear_model`. Частью домашнего задания будет разобраться в них уже после собственной реализации этих простых онлайн-алгоритмов."
   ]
  },
  {
   "cell_type": "markdown",
   "metadata": {},
   "source": [
    "# Работа с категориальными признаками: Label Encoding, One-Hot Encoding, Hashing trick\n",
    "\n",
    "## Label Encoding\n",
    "Подавляющее большинство методов классификации и регрессии сформулированы в терминах евклидовых или метрических пространств, то есть подразумевают представление данных в виде вещественных векторов одинаковой размерности. В реальных данных, однако, не так редки категориальные признаки, принимающие дискретные значения, такие как да/нет или  январь/февраль/.../декабрь. Обсудим то, как работать с такими данными, в частности с помощью линейных моделей, и что делать, если категориальных признаков много, да еще и у каждого куча уникальных значений. "
   ]
  },
  {
   "cell_type": "markdown",
   "metadata": {},
   "source": [
    "Рассмотрим выборку UCI bank, в которой большая часть признаков – категориальные."
   ]
  },
  {
   "cell_type": "code",
   "execution_count": 4,
   "metadata": {},
   "outputs": [
    {
     "data": {
      "text/html": [
       "<div>\n",
       "<style scoped>\n",
       "    .dataframe tbody tr th:only-of-type {\n",
       "        vertical-align: middle;\n",
       "    }\n",
       "\n",
       "    .dataframe tbody tr th {\n",
       "        vertical-align: top;\n",
       "    }\n",
       "\n",
       "    .dataframe thead th {\n",
       "        text-align: right;\n",
       "    }\n",
       "</style>\n",
       "<table border=\"1\" class=\"dataframe\">\n",
       "  <thead>\n",
       "    <tr style=\"text-align: right;\">\n",
       "      <th></th>\n",
       "      <th>age</th>\n",
       "      <th>job</th>\n",
       "      <th>marital</th>\n",
       "      <th>education</th>\n",
       "      <th>default</th>\n",
       "      <th>housing</th>\n",
       "      <th>loan</th>\n",
       "      <th>contact</th>\n",
       "      <th>month</th>\n",
       "      <th>day_of_week</th>\n",
       "      <th>duration</th>\n",
       "      <th>campaign</th>\n",
       "      <th>pdays</th>\n",
       "      <th>previous</th>\n",
       "      <th>poutcome</th>\n",
       "      <th>emp.var.rate</th>\n",
       "      <th>cons.price.idx</th>\n",
       "      <th>cons.conf.idx</th>\n",
       "      <th>euribor3m</th>\n",
       "      <th>nr.employed</th>\n",
       "    </tr>\n",
       "  </thead>\n",
       "  <tbody>\n",
       "    <tr>\n",
       "      <th>0</th>\n",
       "      <td>26</td>\n",
       "      <td>student</td>\n",
       "      <td>single</td>\n",
       "      <td>high.school</td>\n",
       "      <td>no</td>\n",
       "      <td>no</td>\n",
       "      <td>no</td>\n",
       "      <td>telephone</td>\n",
       "      <td>jun</td>\n",
       "      <td>mon</td>\n",
       "      <td>901</td>\n",
       "      <td>1</td>\n",
       "      <td>999</td>\n",
       "      <td>0</td>\n",
       "      <td>nonexistent</td>\n",
       "      <td>1.4</td>\n",
       "      <td>94.465</td>\n",
       "      <td>-41.8</td>\n",
       "      <td>4.961</td>\n",
       "      <td>5228.1</td>\n",
       "    </tr>\n",
       "    <tr>\n",
       "      <th>1</th>\n",
       "      <td>46</td>\n",
       "      <td>admin.</td>\n",
       "      <td>married</td>\n",
       "      <td>university.degree</td>\n",
       "      <td>no</td>\n",
       "      <td>yes</td>\n",
       "      <td>no</td>\n",
       "      <td>cellular</td>\n",
       "      <td>aug</td>\n",
       "      <td>tue</td>\n",
       "      <td>208</td>\n",
       "      <td>2</td>\n",
       "      <td>999</td>\n",
       "      <td>0</td>\n",
       "      <td>nonexistent</td>\n",
       "      <td>1.4</td>\n",
       "      <td>93.444</td>\n",
       "      <td>-36.1</td>\n",
       "      <td>4.963</td>\n",
       "      <td>5228.1</td>\n",
       "    </tr>\n",
       "    <tr>\n",
       "      <th>2</th>\n",
       "      <td>49</td>\n",
       "      <td>blue-collar</td>\n",
       "      <td>married</td>\n",
       "      <td>basic.4y</td>\n",
       "      <td>unknown</td>\n",
       "      <td>yes</td>\n",
       "      <td>yes</td>\n",
       "      <td>telephone</td>\n",
       "      <td>jun</td>\n",
       "      <td>tue</td>\n",
       "      <td>131</td>\n",
       "      <td>5</td>\n",
       "      <td>999</td>\n",
       "      <td>0</td>\n",
       "      <td>nonexistent</td>\n",
       "      <td>1.4</td>\n",
       "      <td>94.465</td>\n",
       "      <td>-41.8</td>\n",
       "      <td>4.864</td>\n",
       "      <td>5228.1</td>\n",
       "    </tr>\n",
       "    <tr>\n",
       "      <th>3</th>\n",
       "      <td>31</td>\n",
       "      <td>technician</td>\n",
       "      <td>married</td>\n",
       "      <td>university.degree</td>\n",
       "      <td>no</td>\n",
       "      <td>no</td>\n",
       "      <td>no</td>\n",
       "      <td>cellular</td>\n",
       "      <td>jul</td>\n",
       "      <td>tue</td>\n",
       "      <td>404</td>\n",
       "      <td>1</td>\n",
       "      <td>999</td>\n",
       "      <td>0</td>\n",
       "      <td>nonexistent</td>\n",
       "      <td>-2.9</td>\n",
       "      <td>92.469</td>\n",
       "      <td>-33.6</td>\n",
       "      <td>1.044</td>\n",
       "      <td>5076.2</td>\n",
       "    </tr>\n",
       "    <tr>\n",
       "      <th>4</th>\n",
       "      <td>42</td>\n",
       "      <td>housemaid</td>\n",
       "      <td>married</td>\n",
       "      <td>university.degree</td>\n",
       "      <td>no</td>\n",
       "      <td>yes</td>\n",
       "      <td>no</td>\n",
       "      <td>telephone</td>\n",
       "      <td>nov</td>\n",
       "      <td>mon</td>\n",
       "      <td>85</td>\n",
       "      <td>1</td>\n",
       "      <td>999</td>\n",
       "      <td>0</td>\n",
       "      <td>nonexistent</td>\n",
       "      <td>-0.1</td>\n",
       "      <td>93.200</td>\n",
       "      <td>-42.0</td>\n",
       "      <td>4.191</td>\n",
       "      <td>5195.8</td>\n",
       "    </tr>\n",
       "  </tbody>\n",
       "</table>\n",
       "</div>"
      ],
      "text/plain": [
       "   age          job  marital          education  default housing loan  \\\n",
       "0   26      student   single        high.school       no      no   no   \n",
       "1   46       admin.  married  university.degree       no     yes   no   \n",
       "2   49  blue-collar  married           basic.4y  unknown     yes  yes   \n",
       "3   31   technician  married  university.degree       no      no   no   \n",
       "4   42    housemaid  married  university.degree       no     yes   no   \n",
       "\n",
       "     contact month day_of_week  duration  campaign  pdays  previous  \\\n",
       "0  telephone   jun         mon       901         1    999         0   \n",
       "1   cellular   aug         tue       208         2    999         0   \n",
       "2  telephone   jun         tue       131         5    999         0   \n",
       "3   cellular   jul         tue       404         1    999         0   \n",
       "4  telephone   nov         mon        85         1    999         0   \n",
       "\n",
       "      poutcome  emp.var.rate  cons.price.idx  cons.conf.idx  euribor3m  \\\n",
       "0  nonexistent           1.4          94.465          -41.8      4.961   \n",
       "1  nonexistent           1.4          93.444          -36.1      4.963   \n",
       "2  nonexistent           1.4          94.465          -41.8      4.864   \n",
       "3  nonexistent          -2.9          92.469          -33.6      1.044   \n",
       "4  nonexistent          -0.1          93.200          -42.0      4.191   \n",
       "\n",
       "   nr.employed  \n",
       "0       5228.1  \n",
       "1       5228.1  \n",
       "2       5228.1  \n",
       "3       5076.2  \n",
       "4       5195.8  "
      ]
     },
     "execution_count": 4,
     "metadata": {},
     "output_type": "execute_result"
    }
   ],
   "source": [
    "df = pd.read_csv('../../data/bank_train.csv')\n",
    "labels = pd.read_csv('../../data/bank_train_target.csv', header=None)\n",
    "\n",
    "df.head()"
   ]
  },
  {
   "cell_type": "markdown",
   "metadata": {},
   "source": [
    "Нетрудно заметить, что достаточно много признаков в этом наборе данных не представлены числами. В таком виде данные еще нам не подходят - мы не сможем применять подавляющее большинство доступных нам методов.\n",
    "\n",
    "Чтобы найти решение, давайте рассмотрим признак education:"
   ]
  },
  {
   "cell_type": "code",
   "execution_count": 5,
   "metadata": {},
   "outputs": [
    {
     "data": {
      "image/png": "[encoded data removed]",
      "text/plain": [
       "<matplotlib.figure.Figure at 0xb1fcf98>"
      ]
     },
     "metadata": {},
     "output_type": "display_data"
    }
   ],
   "source": [
    "df['education'].value_counts().plot.barh();"
   ]
  },
  {
   "cell_type": "markdown",
   "metadata": {},
   "source": [
    "Естественным решением такой проблемы было бы однозначное отображение каждого значения в уникальное число. К примеру, мы могли бы преобразовать `university.degree` в 0, а `basic.9y` в 1. Эту простую операцию приходится делать часто, поэтому в модуле `preprocessing` библиотеки `sklearn` именно для этой задачи реализован класс `LabelEncoder`:"
   ]
  },
  {
   "cell_type": "code",
   "execution_count": 6,
   "metadata": {},
   "outputs": [],
   "source": [
    "label_encoder = LabelEncoder()"
   ]
  },
  {
   "cell_type": "markdown",
   "metadata": {},
   "source": [
    "Метод `fit` этого класса находит все уникальные значения и строит таблицу для соответствия каждой категории некоторому числу, а метод `transform` непосредственно преобразует значения в числа. После `fit` у `label_encoder` будет доступно поле `classes_`, содержащее все уникальные значения. Пронумеруем их, чтобы убедиться, что преобразование выполнено верно. "
   ]
  },
  {
   "cell_type": "code",
   "execution_count": 7,
   "metadata": {},
   "outputs": [
    {
     "name": "stdout",
     "output_type": "stream",
     "text": [
      "{0: 'basic.4y', 1: 'basic.6y', 2: 'basic.9y', 3: 'high.school', 4: 'illiterate', 5: 'professional.course', 6: 'university.degree', 7: 'unknown'}\n"
     ]
    },
    {
     "data": {
      "image/png": "[encoded data removed]",
      "text/plain": [
       "<matplotlib.figure.Figure at 0x5588198>"
      ]
     },
     "metadata": {},
     "output_type": "display_data"
    }
   ],
   "source": [
    "mapped_education = pd.Series(label_encoder.fit_transform(df['education']))\n",
    "mapped_education.value_counts().plot.barh()\n",
    "print(dict(enumerate(label_encoder.classes_)))"
   ]
  },
  {
   "cell_type": "markdown",
   "metadata": {},
   "source": [
    "Что произойдет, если у нас появятся данные с другими категориями?"
   ]
  },
  {
   "cell_type": "code",
   "execution_count": 8,
   "metadata": {},
   "outputs": [
    {
     "name": "stdout",
     "output_type": "stream",
     "text": [
      "Error: y contains new labels: ['high_school']\n"
     ]
    }
   ],
   "source": [
    "try:\n",
    "    label_encoder.transform(df['education'].replace('high.school', 'high_school'))\n",
    "except Exception as e:\n",
    "    print('Error:', e)"
   ]
  },
  {
   "cell_type": "markdown",
   "metadata": {},
   "source": [
    "Таким образом, при использовании этого подхода мы всегда должны быть уверены, что признак не может принимать неизвестных ранее значений. К этой проблеме мы вернемся чуть позже, а сейчас заменим весь столбец education на преобразованный:"
   ]
  },
  {
   "cell_type": "code",
   "execution_count": 9,
   "metadata": {},
   "outputs": [
    {
     "data": {
      "text/html": [
       "<div>\n",
       "<style scoped>\n",
       "    .dataframe tbody tr th:only-of-type {\n",
       "        vertical-align: middle;\n",
       "    }\n",
       "\n",
       "    .dataframe tbody tr th {\n",
       "        vertical-align: top;\n",
       "    }\n",
       "\n",
       "    .dataframe thead th {\n",
       "        text-align: right;\n",
       "    }\n",
       "</style>\n",
       "<table border=\"1\" class=\"dataframe\">\n",
       "  <thead>\n",
       "    <tr style=\"text-align: right;\">\n",
       "      <th></th>\n",
       "      <th>age</th>\n",
       "      <th>job</th>\n",
       "      <th>marital</th>\n",
       "      <th>education</th>\n",
       "      <th>default</th>\n",
       "      <th>housing</th>\n",
       "      <th>loan</th>\n",
       "      <th>contact</th>\n",
       "      <th>month</th>\n",
       "      <th>day_of_week</th>\n",
       "      <th>duration</th>\n",
       "      <th>campaign</th>\n",
       "      <th>pdays</th>\n",
       "      <th>previous</th>\n",
       "      <th>poutcome</th>\n",
       "      <th>emp.var.rate</th>\n",
       "      <th>cons.price.idx</th>\n",
       "      <th>cons.conf.idx</th>\n",
       "      <th>euribor3m</th>\n",
       "      <th>nr.employed</th>\n",
       "    </tr>\n",
       "  </thead>\n",
       "  <tbody>\n",
       "    <tr>\n",
       "      <th>0</th>\n",
       "      <td>26</td>\n",
       "      <td>student</td>\n",
       "      <td>single</td>\n",
       "      <td>3</td>\n",
       "      <td>no</td>\n",
       "      <td>no</td>\n",
       "      <td>no</td>\n",
       "      <td>telephone</td>\n",
       "      <td>jun</td>\n",
       "      <td>mon</td>\n",
       "      <td>901</td>\n",
       "      <td>1</td>\n",
       "      <td>999</td>\n",
       "      <td>0</td>\n",
       "      <td>nonexistent</td>\n",
       "      <td>1.4</td>\n",
       "      <td>94.465</td>\n",
       "      <td>-41.8</td>\n",
       "      <td>4.961</td>\n",
       "      <td>5228.1</td>\n",
       "    </tr>\n",
       "    <tr>\n",
       "      <th>1</th>\n",
       "      <td>46</td>\n",
       "      <td>admin.</td>\n",
       "      <td>married</td>\n",
       "      <td>6</td>\n",
       "      <td>no</td>\n",
       "      <td>yes</td>\n",
       "      <td>no</td>\n",
       "      <td>cellular</td>\n",
       "      <td>aug</td>\n",
       "      <td>tue</td>\n",
       "      <td>208</td>\n",
       "      <td>2</td>\n",
       "      <td>999</td>\n",
       "      <td>0</td>\n",
       "      <td>nonexistent</td>\n",
       "      <td>1.4</td>\n",
       "      <td>93.444</td>\n",
       "      <td>-36.1</td>\n",
       "      <td>4.963</td>\n",
       "      <td>5228.1</td>\n",
       "    </tr>\n",
       "    <tr>\n",
       "      <th>2</th>\n",
       "      <td>49</td>\n",
       "      <td>blue-collar</td>\n",
       "      <td>married</td>\n",
       "      <td>0</td>\n",
       "      <td>unknown</td>\n",
       "      <td>yes</td>\n",
       "      <td>yes</td>\n",
       "      <td>telephone</td>\n",
       "      <td>jun</td>\n",
       "      <td>tue</td>\n",
       "      <td>131</td>\n",
       "      <td>5</td>\n",
       "      <td>999</td>\n",
       "      <td>0</td>\n",
       "      <td>nonexistent</td>\n",
       "      <td>1.4</td>\n",
       "      <td>94.465</td>\n",
       "      <td>-41.8</td>\n",
       "      <td>4.864</td>\n",
       "      <td>5228.1</td>\n",
       "    </tr>\n",
       "    <tr>\n",
       "      <th>3</th>\n",
       "      <td>31</td>\n",
       "      <td>technician</td>\n",
       "      <td>married</td>\n",
       "      <td>6</td>\n",
       "      <td>no</td>\n",
       "      <td>no</td>\n",
       "      <td>no</td>\n",
       "      <td>cellular</td>\n",
       "      <td>jul</td>\n",
       "      <td>tue</td>\n",
       "      <td>404</td>\n",
       "      <td>1</td>\n",
       "      <td>999</td>\n",
       "      <td>0</td>\n",
       "      <td>nonexistent</td>\n",
       "      <td>-2.9</td>\n",
       "      <td>92.469</td>\n",
       "      <td>-33.6</td>\n",
       "      <td>1.044</td>\n",
       "      <td>5076.2</td>\n",
       "    </tr>\n",
       "    <tr>\n",
       "      <th>4</th>\n",
       "      <td>42</td>\n",
       "      <td>housemaid</td>\n",
       "      <td>married</td>\n",
       "      <td>6</td>\n",
       "      <td>no</td>\n",
       "      <td>yes</td>\n",
       "      <td>no</td>\n",
       "      <td>telephone</td>\n",
       "      <td>nov</td>\n",
       "      <td>mon</td>\n",
       "      <td>85</td>\n",
       "      <td>1</td>\n",
       "      <td>999</td>\n",
       "      <td>0</td>\n",
       "      <td>nonexistent</td>\n",
       "      <td>-0.1</td>\n",
       "      <td>93.200</td>\n",
       "      <td>-42.0</td>\n",
       "      <td>4.191</td>\n",
       "      <td>5195.8</td>\n",
       "    </tr>\n",
       "  </tbody>\n",
       "</table>\n",
       "</div>"
      ],
      "text/plain": [
       "   age          job  marital  education  default housing loan    contact  \\\n",
       "0   26      student   single          3       no      no   no  telephone   \n",
       "1   46       admin.  married          6       no     yes   no   cellular   \n",
       "2   49  blue-collar  married          0  unknown     yes  yes  telephone   \n",
       "3   31   technician  married          6       no      no   no   cellular   \n",
       "4   42    housemaid  married          6       no     yes   no  telephone   \n",
       "\n",
       "  month day_of_week  duration  campaign  pdays  previous     poutcome  \\\n",
       "0   jun         mon       901         1    999         0  nonexistent   \n",
       "1   aug         tue       208         2    999         0  nonexistent   \n",
       "2   jun         tue       131         5    999         0  nonexistent   \n",
       "3   jul         tue       404         1    999         0  nonexistent   \n",
       "4   nov         mon        85         1    999         0  nonexistent   \n",
       "\n",
       "   emp.var.rate  cons.price.idx  cons.conf.idx  euribor3m  nr.employed  \n",
       "0           1.4          94.465          -41.8      4.961       5228.1  \n",
       "1           1.4          93.444          -36.1      4.963       5228.1  \n",
       "2           1.4          94.465          -41.8      4.864       5228.1  \n",
       "3          -2.9          92.469          -33.6      1.044       5076.2  \n",
       "4          -0.1          93.200          -42.0      4.191       5195.8  "
      ]
     },
     "execution_count": 9,
     "metadata": {},
     "output_type": "execute_result"
    }
   ],
   "source": [
    "df['education'] = mapped_education\n",
    "df.head()"
   ]
  },
  {
   "cell_type": "markdown",
   "metadata": {},
   "source": [
    "Продолжим преобразование для всех столбцов, имеющих тип `object` – именно этот тип задается в pandas для таких данных."
   ]
  },
  {
   "cell_type": "code",
   "execution_count": 10,
   "metadata": {},
   "outputs": [
    {
     "data": {
      "text/html": [
       "<div>\n",
       "<style scoped>\n",
       "    .dataframe tbody tr th:only-of-type {\n",
       "        vertical-align: middle;\n",
       "    }\n",
       "\n",
       "    .dataframe tbody tr th {\n",
       "        vertical-align: top;\n",
       "    }\n",
       "\n",
       "    .dataframe thead th {\n",
       "        text-align: right;\n",
       "    }\n",
       "</style>\n",
       "<table border=\"1\" class=\"dataframe\">\n",
       "  <thead>\n",
       "    <tr style=\"text-align: right;\">\n",
       "      <th></th>\n",
       "      <th>age</th>\n",
       "      <th>job</th>\n",
       "      <th>marital</th>\n",
       "      <th>education</th>\n",
       "      <th>default</th>\n",
       "      <th>housing</th>\n",
       "      <th>loan</th>\n",
       "      <th>contact</th>\n",
       "      <th>month</th>\n",
       "      <th>day_of_week</th>\n",
       "      <th>duration</th>\n",
       "      <th>campaign</th>\n",
       "      <th>pdays</th>\n",
       "      <th>previous</th>\n",
       "      <th>poutcome</th>\n",
       "      <th>emp.var.rate</th>\n",
       "      <th>cons.price.idx</th>\n",
       "      <th>cons.conf.idx</th>\n",
       "      <th>euribor3m</th>\n",
       "      <th>nr.employed</th>\n",
       "    </tr>\n",
       "  </thead>\n",
       "  <tbody>\n",
       "    <tr>\n",
       "      <th>0</th>\n",
       "      <td>26</td>\n",
       "      <td>8</td>\n",
       "      <td>2</td>\n",
       "      <td>3</td>\n",
       "      <td>0</td>\n",
       "      <td>0</td>\n",
       "      <td>0</td>\n",
       "      <td>1</td>\n",
       "      <td>4</td>\n",
       "      <td>1</td>\n",
       "      <td>901</td>\n",
       "      <td>1</td>\n",
       "      <td>999</td>\n",
       "      <td>0</td>\n",
       "      <td>1</td>\n",
       "      <td>1.4</td>\n",
       "      <td>94.465</td>\n",
       "      <td>-41.8</td>\n",
       "      <td>4.961</td>\n",
       "      <td>5228.1</td>\n",
       "    </tr>\n",
       "    <tr>\n",
       "      <th>1</th>\n",
       "      <td>46</td>\n",
       "      <td>0</td>\n",
       "      <td>1</td>\n",
       "      <td>6</td>\n",
       "      <td>0</td>\n",
       "      <td>2</td>\n",
       "      <td>0</td>\n",
       "      <td>0</td>\n",
       "      <td>1</td>\n",
       "      <td>3</td>\n",
       "      <td>208</td>\n",
       "      <td>2</td>\n",
       "      <td>999</td>\n",
       "      <td>0</td>\n",
       "      <td>1</td>\n",
       "      <td>1.4</td>\n",
       "      <td>93.444</td>\n",
       "      <td>-36.1</td>\n",
       "      <td>4.963</td>\n",
       "      <td>5228.1</td>\n",
       "    </tr>\n",
       "    <tr>\n",
       "      <th>2</th>\n",
       "      <td>49</td>\n",
       "      <td>1</td>\n",
       "      <td>1</td>\n",
       "      <td>0</td>\n",
       "      <td>1</td>\n",
       "      <td>2</td>\n",
       "      <td>2</td>\n",
       "      <td>1</td>\n",
       "      <td>4</td>\n",
       "      <td>3</td>\n",
       "      <td>131</td>\n",
       "      <td>5</td>\n",
       "      <td>999</td>\n",
       "      <td>0</td>\n",
       "      <td>1</td>\n",
       "      <td>1.4</td>\n",
       "      <td>94.465</td>\n",
       "      <td>-41.8</td>\n",
       "      <td>4.864</td>\n",
       "      <td>5228.1</td>\n",
       "    </tr>\n",
       "    <tr>\n",
       "      <th>3</th>\n",
       "      <td>31</td>\n",
       "      <td>9</td>\n",
       "      <td>1</td>\n",
       "      <td>6</td>\n",
       "      <td>0</td>\n",
       "      <td>0</td>\n",
       "      <td>0</td>\n",
       "      <td>0</td>\n",
       "      <td>3</td>\n",
       "      <td>3</td>\n",
       "      <td>404</td>\n",
       "      <td>1</td>\n",
       "      <td>999</td>\n",
       "      <td>0</td>\n",
       "      <td>1</td>\n",
       "      <td>-2.9</td>\n",
       "      <td>92.469</td>\n",
       "      <td>-33.6</td>\n",
       "      <td>1.044</td>\n",
       "      <td>5076.2</td>\n",
       "    </tr>\n",
       "    <tr>\n",
       "      <th>4</th>\n",
       "      <td>42</td>\n",
       "      <td>3</td>\n",
       "      <td>1</td>\n",
       "      <td>6</td>\n",
       "      <td>0</td>\n",
       "      <td>2</td>\n",
       "      <td>0</td>\n",
       "      <td>1</td>\n",
       "      <td>7</td>\n",
       "      <td>1</td>\n",
       "      <td>85</td>\n",
       "      <td>1</td>\n",
       "      <td>999</td>\n",
       "      <td>0</td>\n",
       "      <td>1</td>\n",
       "      <td>-0.1</td>\n",
       "      <td>93.200</td>\n",
       "      <td>-42.0</td>\n",
       "      <td>4.191</td>\n",
       "      <td>5195.8</td>\n",
       "    </tr>\n",
       "  </tbody>\n",
       "</table>\n",
       "</div>"
      ],
      "text/plain": [
       "   age  job  marital  education  default  housing  loan  contact  month  \\\n",
       "0   26    8        2          3        0        0     0        1      4   \n",
       "1   46    0        1          6        0        2     0        0      1   \n",
       "2   49    1        1          0        1        2     2        1      4   \n",
       "3   31    9        1          6        0        0     0        0      3   \n",
       "4   42    3        1          6        0        2     0        1      7   \n",
       "\n",
       "   day_of_week  duration  campaign  pdays  previous  poutcome  emp.var.rate  \\\n",
       "0            1       901         1    999         0         1           1.4   \n",
       "1            3       208         2    999         0         1           1.4   \n",
       "2            3       131         5    999         0         1           1.4   \n",
       "3            3       404         1    999         0         1          -2.9   \n",
       "4            1        85         1    999         0         1          -0.1   \n",
       "\n",
       "   cons.price.idx  cons.conf.idx  euribor3m  nr.employed  \n",
       "0          94.465          -41.8      4.961       5228.1  \n",
       "1          93.444          -36.1      4.963       5228.1  \n",
       "2          94.465          -41.8      4.864       5228.1  \n",
       "3          92.469          -33.6      1.044       5076.2  \n",
       "4          93.200          -42.0      4.191       5195.8  "
      ]
     },
     "execution_count": 10,
     "metadata": {},
     "output_type": "execute_result"
    }
   ],
   "source": [
    "categorical_columns = df.columns[df.dtypes == 'object'].union(['education'])\n",
    "for column in categorical_columns:\n",
    "    df[column] = label_encoder.fit_transform(df[column])\n",
    "df.head()"
   ]
  },
  {
   "cell_type": "markdown",
   "metadata": {},
   "source": [
    "Основная проблема такого представления заключается в том, что числовой код создал евклидово представление для данных.\n",
    "\n",
    "К примеру, нами неявным образом была введена алгебра над значениями работы - мы можем вычесть работу клиента 1 из работы клиента 2:"
   ]
  },
  {
   "cell_type": "code",
   "execution_count": 11,
   "metadata": {},
   "outputs": [
    {
     "data": {
      "text/plain": [
       "-1.0"
      ]
     },
     "execution_count": 11,
     "metadata": {},
     "output_type": "execute_result"
    }
   ],
   "source": [
    "df.loc[1].job - df.loc[2].job"
   ]
  },
  {
   "cell_type": "markdown",
   "metadata": {},
   "source": [
    "Конечно же, эта операция не имеет никакого смысла. Но именно на этом основаны метрики близости объектов, что делает бессмысленным применение метода ближайшего соседа на данных в таком виде. Аналогичным образом, никакого смысла не будет иметь применение линейных моделей. Убедимся в этом:"
   ]
  },
  {
   "cell_type": "code",
   "execution_count": 12,
   "metadata": {},
   "outputs": [
    {
     "name": "stdout",
     "output_type": "stream",
     "text": [
      "             precision    recall  f1-score   support\n",
      "\n",
      "          0       0.89      1.00      0.94      6157\n",
      "          1       1.00      0.00      0.00       742\n",
      "\n",
      "avg / total       0.90      0.89      0.84      6899\n",
      "\n"
     ]
    }
   ],
   "source": [
    "def logistic_regression_accuracy_on(dataframe, labels):\n",
    "    features = dataframe.as_matrix()\n",
    "    train_features, test_features, train_labels, test_labels = \\\n",
    "        train_test_split(features, labels)\n",
    "\n",
    "    logit = LogisticRegression()\n",
    "    logit.fit(train_features, train_labels)\n",
    "    return classification_report(test_labels, logit.predict(test_features))\n",
    "\n",
    "print(logistic_regression_accuracy_on(df[categorical_columns], labels))"
   ]
  },
  {
   "cell_type": "markdown",
   "metadata": {},
   "source": [
    "Для того, чтобы мы смогли применять линейные модели на таких данных нам необходим другой метод, который называется One-Hot Encoding\n",
    "\n",
    "## One-Hot Encoding\n",
    "\n",
    "Предположим, что некоторый признак может принимать 10 разных значений. В этом случае one hot encoding подразумевает создание 10 признаков, все из которых равны нулю *за исключением одного*. На позицию, соответствующую численному значению признака мы помещаем 1:"
   ]
  },
  {
   "cell_type": "code",
   "execution_count": 13,
   "metadata": {},
   "outputs": [
    {
     "data": {
      "text/html": [
       "<div>\n",
       "<style scoped>\n",
       "    .dataframe tbody tr th:only-of-type {\n",
       "        vertical-align: middle;\n",
       "    }\n",
       "\n",
       "    .dataframe tbody tr th {\n",
       "        vertical-align: top;\n",
       "    }\n",
       "\n",
       "    .dataframe thead th {\n",
       "        text-align: right;\n",
       "    }\n",
       "</style>\n",
       "<table border=\"1\" class=\"dataframe\">\n",
       "  <thead>\n",
       "    <tr style=\"text-align: right;\">\n",
       "      <th></th>\n",
       "      <th>0</th>\n",
       "      <th>1</th>\n",
       "      <th>2</th>\n",
       "      <th>3</th>\n",
       "      <th>4</th>\n",
       "      <th>5</th>\n",
       "      <th>6</th>\n",
       "      <th>7</th>\n",
       "      <th>8</th>\n",
       "      <th>9</th>\n",
       "    </tr>\n",
       "  </thead>\n",
       "  <tbody>\n",
       "    <tr>\n",
       "      <th>0</th>\n",
       "      <td>0</td>\n",
       "      <td>0</td>\n",
       "      <td>0</td>\n",
       "      <td>0</td>\n",
       "      <td>0</td>\n",
       "      <td>0</td>\n",
       "      <td>1</td>\n",
       "      <td>0</td>\n",
       "      <td>0</td>\n",
       "      <td>0</td>\n",
       "    </tr>\n",
       "  </tbody>\n",
       "</table>\n",
       "</div>"
      ],
      "text/plain": [
       "   0  1  2  3  4  5  6  7  8  9\n",
       "0  0  0  0  0  0  0  1  0  0  0"
      ]
     },
     "execution_count": 13,
     "metadata": {},
     "output_type": "execute_result"
    }
   ],
   "source": [
    "one_hot_example = pd.DataFrame([{i: 0 for i in range(10)}])\n",
    "one_hot_example.loc[0, 6] = 1\n",
    "one_hot_example"
   ]
  },
  {
   "cell_type": "markdown",
   "metadata": {},
   "source": [
    "Эта техника реализована в `sklearn.preprocessing` в классе `OneHotEncoder`. По умолчанию `OneHotEncoder` преобразует данные в разреженную матрицу, чтобы не расходовать память на хранение многочисленных нулей. Однако в этом примере размер данных не является для нас проблемой, поэтому мы будем использовать \"плотное\" представление."
   ]
  },
  {
   "cell_type": "code",
   "execution_count": 14,
   "metadata": {},
   "outputs": [],
   "source": [
    "onehot_encoder = OneHotEncoder(sparse=False)"
   ]
  },
  {
   "cell_type": "code",
   "execution_count": 15,
   "metadata": {},
   "outputs": [
    {
     "data": {
      "text/html": [
       "<div>\n",
       "<style scoped>\n",
       "    .dataframe tbody tr th:only-of-type {\n",
       "        vertical-align: middle;\n",
       "    }\n",
       "\n",
       "    .dataframe tbody tr th {\n",
       "        vertical-align: top;\n",
       "    }\n",
       "\n",
       "    .dataframe thead th {\n",
       "        text-align: right;\n",
       "    }\n",
       "</style>\n",
       "<table border=\"1\" class=\"dataframe\">\n",
       "  <thead>\n",
       "    <tr style=\"text-align: right;\">\n",
       "      <th></th>\n",
       "      <th>0</th>\n",
       "      <th>1</th>\n",
       "      <th>2</th>\n",
       "      <th>3</th>\n",
       "      <th>4</th>\n",
       "      <th>5</th>\n",
       "      <th>6</th>\n",
       "      <th>7</th>\n",
       "      <th>8</th>\n",
       "      <th>9</th>\n",
       "      <th>...</th>\n",
       "      <th>43</th>\n",
       "      <th>44</th>\n",
       "      <th>45</th>\n",
       "      <th>46</th>\n",
       "      <th>47</th>\n",
       "      <th>48</th>\n",
       "      <th>49</th>\n",
       "      <th>50</th>\n",
       "      <th>51</th>\n",
       "      <th>52</th>\n",
       "    </tr>\n",
       "  </thead>\n",
       "  <tbody>\n",
       "    <tr>\n",
       "      <th>0</th>\n",
       "      <td>0.0</td>\n",
       "      <td>1.0</td>\n",
       "      <td>0.0</td>\n",
       "      <td>1.0</td>\n",
       "      <td>0.0</td>\n",
       "      <td>0.0</td>\n",
       "      <td>0.0</td>\n",
       "      <td>1.0</td>\n",
       "      <td>0.0</td>\n",
       "      <td>0.0</td>\n",
       "      <td>...</td>\n",
       "      <td>0.0</td>\n",
       "      <td>1.0</td>\n",
       "      <td>0.0</td>\n",
       "      <td>0.0</td>\n",
       "      <td>0.0</td>\n",
       "      <td>0.0</td>\n",
       "      <td>0.0</td>\n",
       "      <td>0.0</td>\n",
       "      <td>1.0</td>\n",
       "      <td>0.0</td>\n",
       "    </tr>\n",
       "    <tr>\n",
       "      <th>1</th>\n",
       "      <td>1.0</td>\n",
       "      <td>0.0</td>\n",
       "      <td>0.0</td>\n",
       "      <td>0.0</td>\n",
       "      <td>0.0</td>\n",
       "      <td>1.0</td>\n",
       "      <td>0.0</td>\n",
       "      <td>1.0</td>\n",
       "      <td>0.0</td>\n",
       "      <td>0.0</td>\n",
       "      <td>...</td>\n",
       "      <td>0.0</td>\n",
       "      <td>0.0</td>\n",
       "      <td>0.0</td>\n",
       "      <td>0.0</td>\n",
       "      <td>0.0</td>\n",
       "      <td>0.0</td>\n",
       "      <td>0.0</td>\n",
       "      <td>0.0</td>\n",
       "      <td>1.0</td>\n",
       "      <td>0.0</td>\n",
       "    </tr>\n",
       "    <tr>\n",
       "      <th>2</th>\n",
       "      <td>0.0</td>\n",
       "      <td>1.0</td>\n",
       "      <td>0.0</td>\n",
       "      <td>0.0</td>\n",
       "      <td>0.0</td>\n",
       "      <td>1.0</td>\n",
       "      <td>0.0</td>\n",
       "      <td>0.0</td>\n",
       "      <td>1.0</td>\n",
       "      <td>0.0</td>\n",
       "      <td>...</td>\n",
       "      <td>0.0</td>\n",
       "      <td>1.0</td>\n",
       "      <td>0.0</td>\n",
       "      <td>0.0</td>\n",
       "      <td>0.0</td>\n",
       "      <td>0.0</td>\n",
       "      <td>0.0</td>\n",
       "      <td>0.0</td>\n",
       "      <td>1.0</td>\n",
       "      <td>0.0</td>\n",
       "    </tr>\n",
       "    <tr>\n",
       "      <th>3</th>\n",
       "      <td>1.0</td>\n",
       "      <td>0.0</td>\n",
       "      <td>0.0</td>\n",
       "      <td>0.0</td>\n",
       "      <td>0.0</td>\n",
       "      <td>1.0</td>\n",
       "      <td>0.0</td>\n",
       "      <td>1.0</td>\n",
       "      <td>0.0</td>\n",
       "      <td>0.0</td>\n",
       "      <td>...</td>\n",
       "      <td>1.0</td>\n",
       "      <td>0.0</td>\n",
       "      <td>0.0</td>\n",
       "      <td>0.0</td>\n",
       "      <td>0.0</td>\n",
       "      <td>0.0</td>\n",
       "      <td>0.0</td>\n",
       "      <td>0.0</td>\n",
       "      <td>1.0</td>\n",
       "      <td>0.0</td>\n",
       "    </tr>\n",
       "    <tr>\n",
       "      <th>4</th>\n",
       "      <td>0.0</td>\n",
       "      <td>1.0</td>\n",
       "      <td>0.0</td>\n",
       "      <td>1.0</td>\n",
       "      <td>0.0</td>\n",
       "      <td>0.0</td>\n",
       "      <td>0.0</td>\n",
       "      <td>1.0</td>\n",
       "      <td>0.0</td>\n",
       "      <td>0.0</td>\n",
       "      <td>...</td>\n",
       "      <td>0.0</td>\n",
       "      <td>0.0</td>\n",
       "      <td>0.0</td>\n",
       "      <td>0.0</td>\n",
       "      <td>1.0</td>\n",
       "      <td>0.0</td>\n",
       "      <td>0.0</td>\n",
       "      <td>0.0</td>\n",
       "      <td>1.0</td>\n",
       "      <td>0.0</td>\n",
       "    </tr>\n",
       "  </tbody>\n",
       "</table>\n",
       "<p>5 rows × 53 columns</p>\n",
       "</div>"
      ],
      "text/plain": [
       "    0    1    2    3    4    5    6    7    8    9  ...    43   44   45   46  \\\n",
       "0  0.0  1.0  0.0  1.0  0.0  0.0  0.0  1.0  0.0  0.0 ...   0.0  1.0  0.0  0.0   \n",
       "1  1.0  0.0  0.0  0.0  0.0  1.0  0.0  1.0  0.0  0.0 ...   0.0  0.0  0.0  0.0   \n",
       "2  0.0  1.0  0.0  0.0  0.0  1.0  0.0  0.0  1.0  0.0 ...   0.0  1.0  0.0  0.0   \n",
       "3  1.0  0.0  0.0  0.0  0.0  1.0  0.0  1.0  0.0  0.0 ...   1.0  0.0  0.0  0.0   \n",
       "4  0.0  1.0  0.0  1.0  0.0  0.0  0.0  1.0  0.0  0.0 ...   0.0  0.0  0.0  0.0   \n",
       "\n",
       "    47   48   49   50   51   52  \n",
       "0  0.0  0.0  0.0  0.0  1.0  0.0  \n",
       "1  0.0  0.0  0.0  0.0  1.0  0.0  \n",
       "2  0.0  0.0  0.0  0.0  1.0  0.0  \n",
       "3  0.0  0.0  0.0  0.0  1.0  0.0  \n",
       "4  1.0  0.0  0.0  0.0  1.0  0.0  \n",
       "\n",
       "[5 rows x 53 columns]"
      ]
     },
     "execution_count": 15,
     "metadata": {},
     "output_type": "execute_result"
    }
   ],
   "source": [
    "encoded_categorical_columns = pd.DataFrame(onehot_encoder.fit_transform(df[categorical_columns]))\n",
    "encoded_categorical_columns.head()"
   ]
  },
  {
   "cell_type": "markdown",
   "metadata": {},
   "source": [
    "Мы получили 53 столбца - именно столько различных уникальных значений могут принимать категориальные столбцы исходной выборки. Преобразованные с помощью One-Hot Encoding данные начинают обретать смысл для линейной модели:"
   ]
  },
  {
   "cell_type": "code",
   "execution_count": 16,
   "metadata": {},
   "outputs": [
    {
     "name": "stdout",
     "output_type": "stream",
     "text": [
      "             precision    recall  f1-score   support\n",
      "\n",
      "          0       0.90      0.99      0.94      6106\n",
      "          1       0.70      0.17      0.27       793\n",
      "\n",
      "avg / total       0.88      0.90      0.87      6899\n",
      "\n"
     ]
    }
   ],
   "source": [
    "print(logistic_regression_accuracy_on(encoded_categorical_columns, labels))"
   ]
  },
  {
   "cell_type": "markdown",
   "metadata": {},
   "source": [
    "## Хэширование признаков (Hashing trick)\n",
    "Реальные данные могут оказаться гораздо более динамичными, и мы не всегда можем рассчитывать, что категориальные признаки не будут принимать новых значений. Все это сильно затрудняет использование уже обученных моделей на новых данных. Кроме того, `LabelEncoder` подразумевает предварительный анализ всей выборки и хранение построенных отображений в памяти, что затрудняет работу в режиме больших данных.\n",
    "\n",
    "Для решения этих проблем существует более простой подход к векторизации категориальных признаков, основанный на хэшировании, известный как hashing trick. \n",
    "\n",
    "Хэш-функции могут помочь нам в задаче поиска уникальных кодов для различных значений признака, к примеру:"
   ]
  },
  {
   "cell_type": "code",
   "execution_count": 17,
   "metadata": {},
   "outputs": [
    {
     "name": "stdout",
     "output_type": "stream",
     "text": [
      "university.degree -> -663893756866935401\n",
      "high.school -> -6292925882924186606\n",
      "illiterate -> 3821546169608474728\n"
     ]
    }
   ],
   "source": [
    "for s in ('university.degree', 'high.school', 'illiterate'):\n",
    "    print(s, '->', hash(s))"
   ]
  },
  {
   "cell_type": "markdown",
   "metadata": {},
   "source": [
    "Отрицательные и настолько большие по модулю значения нам не подойдут. Ограничим область значений хэш-функции:"
   ]
  },
  {
   "cell_type": "code",
   "execution_count": 18,
   "metadata": {},
   "outputs": [
    {
     "name": "stdout",
     "output_type": "stream",
     "text": [
      "university.degree -> 24\n",
      "high.school -> 19\n",
      "illiterate -> 3\n"
     ]
    }
   ],
   "source": [
    "hash_space = 25\n",
    "for s in ('university.degree', 'high.school', 'illiterate'):\n",
    "    print(s, '->', hash(s) % hash_space)"
   ]
  },
  {
   "cell_type": "markdown",
   "metadata": {},
   "source": [
    "Представим, что у нас в выборке есть холостой студент, которому позвонили в понедельник, тогда его вектор признаков будет сформирован аналогично One-Hot Encoding, но в едином пространстве фиксированного размера для всех признаков:"
   ]
  },
  {
   "cell_type": "code",
   "execution_count": 19,
   "metadata": {},
   "outputs": [
    {
     "name": "stdout",
     "output_type": "stream",
     "text": [
      "job=student -> 10\n",
      "marital=single -> 21\n",
      "day_of_week=mon -> 4\n"
     ]
    },
    {
     "data": {
      "text/html": [
       "<div>\n",
       "<style scoped>\n",
       "    .dataframe tbody tr th:only-of-type {\n",
       "        vertical-align: middle;\n",
       "    }\n",
       "\n",
       "    .dataframe tbody tr th {\n",
       "        vertical-align: top;\n",
       "    }\n",
       "\n",
       "    .dataframe thead th {\n",
       "        text-align: right;\n",
       "    }\n",
       "</style>\n",
       "<table border=\"1\" class=\"dataframe\">\n",
       "  <thead>\n",
       "    <tr style=\"text-align: right;\">\n",
       "      <th></th>\n",
       "      <th>0</th>\n",
       "      <th>1</th>\n",
       "      <th>2</th>\n",
       "      <th>3</th>\n",
       "      <th>4</th>\n",
       "      <th>5</th>\n",
       "      <th>6</th>\n",
       "      <th>7</th>\n",
       "      <th>8</th>\n",
       "      <th>9</th>\n",
       "      <th>...</th>\n",
       "      <th>15</th>\n",
       "      <th>16</th>\n",
       "      <th>17</th>\n",
       "      <th>18</th>\n",
       "      <th>19</th>\n",
       "      <th>20</th>\n",
       "      <th>21</th>\n",
       "      <th>22</th>\n",
       "      <th>23</th>\n",
       "      <th>24</th>\n",
       "    </tr>\n",
       "  </thead>\n",
       "  <tbody>\n",
       "    <tr>\n",
       "      <th>0</th>\n",
       "      <td>0.0</td>\n",
       "      <td>0.0</td>\n",
       "      <td>0.0</td>\n",
       "      <td>0.0</td>\n",
       "      <td>1.0</td>\n",
       "      <td>0.0</td>\n",
       "      <td>0.0</td>\n",
       "      <td>0.0</td>\n",
       "      <td>0.0</td>\n",
       "      <td>0.0</td>\n",
       "      <td>...</td>\n",
       "      <td>0.0</td>\n",
       "      <td>0.0</td>\n",
       "      <td>0.0</td>\n",
       "      <td>0.0</td>\n",
       "      <td>0.0</td>\n",
       "      <td>0.0</td>\n",
       "      <td>1.0</td>\n",
       "      <td>0.0</td>\n",
       "      <td>0.0</td>\n",
       "      <td>0.0</td>\n",
       "    </tr>\n",
       "  </tbody>\n",
       "</table>\n",
       "<p>1 rows × 25 columns</p>\n",
       "</div>"
      ],
      "text/plain": [
       "    0    1    2    3    4    5    6    7    8    9  ...    15   16   17   18  \\\n",
       "0  0.0  0.0  0.0  0.0  1.0  0.0  0.0  0.0  0.0  0.0 ...   0.0  0.0  0.0  0.0   \n",
       "\n",
       "    19   20   21   22   23   24  \n",
       "0  0.0  0.0  1.0  0.0  0.0  0.0  \n",
       "\n",
       "[1 rows x 25 columns]"
      ]
     },
     "execution_count": 19,
     "metadata": {},
     "output_type": "execute_result"
    }
   ],
   "source": [
    "hashing_example = pd.DataFrame([{i: 0.0 for i in range(hash_space)}])\n",
    "for s in ('job=student', 'marital=single', 'day_of_week=mon'):\n",
    "    print(s, '->', hash(s) % hash_space)\n",
    "    hashing_example.loc[0, hash(s) % hash_space] = 1\n",
    "hashing_example"
   ]
  },
  {
   "cell_type": "markdown",
   "metadata": {},
   "source": [
    "Стоит обратить внимание, что в этом примере хэшировались не только значения признаков, а пары **название признака + значение признака**. Это необходимо, чтобы разделить одинаковые значения разных признаков между собой, к примеру:"
   ]
  },
  {
   "cell_type": "code",
   "execution_count": 20,
   "metadata": {},
   "outputs": [],
   "source": [
    "assert hash('no') == hash('no')\n",
    "assert hash('housing=no') != hash('loan=no')"
   ]
  },
  {
   "cell_type": "markdown",
   "metadata": {},
   "source": [
    "Может ли произойти коллизия хэш-функции, то есть совпадение кодов для двух разных значений? Нетрудно доказать, что при достаточном размере пространства хэширования это происходит редко, но даже в тех случаях, когда это происходит, это не будет приводить к существенному ухудшению качества классификации или регрессии.\n",
    "\n",
    "Возможно, вы спросите: \"а что за хрень вообще происходит?\", и покажется, что при хэшировании признаков страдает здравый смысл. Возможно, но эта эвристика – по сути, единственный подход к тому, чтобы работать с категориальными признаками, у которых много уникальных значений. Более того, эта техника себя хорошо зарекомендовала по результатами на практике. Подробней про хэширование признаков (learning to hash) можно почитать в [этом](https://arxiv.org/abs/1509.05472) обзоре, а также в [материалах](https://github.com/esokolov/ml-course-hse/blob/master/2016-fall/lecture-notes/lecture06-linclass.pdf) Евгения Соколова."
   ]
  },
  {
   "cell_type": "markdown",
   "metadata": {},
   "source": [
    "# Библиотека Vowpal Wabbit"
   ]
  },
  {
   "cell_type": "markdown",
   "metadata": {},
   "source": [
    "Vowpal Wabbit (VW) является одной из наиболее широко используемых библиотек в индустрии. Её отличает высокая скорость работы и поддержка большого количества различных режимов обучения. Особый интерес для больших и высокоразмерных данных представляет онлайн-обучение  – самая сильная сторона библиотеки. \n",
    "Также реализовано хэширование признаков, и Vowpal Wabbit отлично подходит для работы с текстовыми данными.\n",
    "\n",
    "Основным интерфейсом для работы с VW является shell."
   ]
  },
  {
   "cell_type": "code",
   "execution_count": 21,
   "metadata": {},
   "outputs": [
    {
     "name": "stdout",
     "output_type": "stream",
     "text": [
      "\n",
      "\n",
      "VW options:\n",
      "  --random_seed arg                     seed random number generator\n",
      "  --ring_size arg                       size of example ring\n",
      "\n",
      "Update options:\n",
      "  -l [ --learning_rate ] arg            Set learning rate\n",
      "  --power_t arg                         t power value\n",
      "  --decay_learning_rate arg             Set Decay factor for learning_rate \n",
      "                                        between passes\n",
      "  --initial_t arg                       initial t value\n",
      "  --feature_mask arg                    Use existing regressor to determine \n",
      "                                        which parameters may be updated.  If no\n",
      "                                        initial_regressor given, also used for \n",
      "                                        initial weights.\n",
      "\n",
      "Weight options:\n",
      "  -i [ --initial_regressor ] arg        Initial regressor(s)\n",
      "  --initial_weight arg                  Set all weights to an initial value of \n",
      "                                        arg.\n",
      "  --random_weights arg                  make initial weights random\n",
      "  --normal_weights arg                  make initial weights normal\n",
      "  --truncated_normal_weights arg        make initial weights truncated normal\n",
      "  --sparse_weights                      Use a sparse datastructure for weights\n",
      "  --input_feature_regularizer arg       Per feature regularization input file\n",
      "\n",
      "Parallelization options:\n",
      "  --span_server arg                     Location of server for setting up \n",
      "                                        spanning tree\n",
      "  --threads                             Enable multi-threading\n",
      "  --unique_id arg (=0)                  unique id used for cluster parallel \n",
      "                                        jobs\n",
      "  --total arg (=1)                      total number of nodes used in cluster \n",
      "                                        parallel job\n",
      "  --node arg (=0)                       node number in cluster parallel job\n",
      "\n",
      "Diagnostic options:\n",
      "  --version                             Version information\n",
      "  -a [ --audit ]                        print weights of features\n",
      "  -P [ --progress ] arg                 Progress update frequency. int: \n",
      "                                        additive, float: multiplicative\n",
      "  --quiet                               Don't output disgnostics and progress \n",
      "                                        updates\n",
      "  -h [ --help ]                         Look here: http://hunch.net/~vw/ and \n",
      "                                        click on Tutorial.\n",
      "\n",
      "Feature options:\n",
      "  --hash arg                            how to hash the features. Available \n",
      "                                        options: strings, all\n",
      "  --ignore arg                          ignore namespaces beginning with \n",
      "                                        character <arg>\n",
      "  --ignore_linear arg                   ignore namespaces beginning with \n",
      "                                        character <arg> for linear terms only\n",
      "  --keep arg                            keep namespaces beginning with \n",
      "                                        character <arg>\n",
      "  --redefine arg                        redefine namespaces beginning with \n",
      "                                        characters of string S as namespace N. \n",
      "                                        <arg> shall be in form 'N:=S' where := \n",
      "                                        is operator. Empty N or S are treated \n",
      "                                        as default namespace. Use ':' as a \n",
      "                                        wildcard in S.\n",
      "  -b [ --bit_precision ] arg            number of bits in the feature table\n",
      "  --noconstant                          Don't add a constant feature\n",
      "  -C [ --constant ] arg                 Set initial value of constant\n",
      "  --ngram arg                           Generate N grams. To generate N grams \n",
      "                                        for a single namespace 'foo', arg \n",
      "                                        should be fN.\n",
      "  --skips arg                           Generate skips in N grams. This in \n",
      "                                        conjunction with the ngram tag can be \n",
      "                                        used to generate generalized \n",
      "                                        n-skip-k-gram. To generate n-skips for \n",
      "                                        a single namespace 'foo', arg should be\n",
      "                                        fN.\n",
      "  --feature_limit arg                   limit to N features. To apply to a \n",
      "                                        single namespace 'foo', arg should be \n",
      "                                        fN\n",
      "  --affix arg                           generate prefixes/suffixes of features;\n",
      "                                        argument '+2a,-3b,+1' means generate \n",
      "                                        2-char prefixes for namespace a, 3-char\n",
      "                                        suffixes for b and 1 char prefixes for \n",
      "                                        default namespace\n",
      "  --spelling arg                        compute spelling features for a give \n",
      "                                        namespace (use '_' for default \n",
      "                                        namespace)\n",
      "  --dictionary arg                      read a dictionary for additional \n",
      "                                        features (arg either 'x:file' or just \n",
      "                                        'file')\n",
      "  --dictionary_path arg                 look in this directory for \n",
      "                                        dictionaries; defaults to current \n",
      "                                        directory or env{PATH}\n",
      "  --interactions arg                    Create feature interactions of any \n",
      "                                        level between namespaces.\n",
      "  --permutations                        Use permutations instead of \n",
      "                                        combinations for feature interactions \n",
      "                                        of same namespace.\n",
      "  --leave_duplicate_interactions        Don't remove interactions with \n",
      "                                        duplicate combinations of namespaces. \n",
      "                                        For ex. this is a duplicate: '-q ab -q \n",
      "                                        ba' and a lot more in '-q ::'.\n",
      "  -q [ --quadratic ] arg                Create and use quadratic features\n",
      "  --q: arg                              : corresponds to a wildcard for all \n",
      "                                        printable characters\n",
      "  --cubic arg                           Create and use cubic features\n",
      "\n",
      "Example options:\n",
      "  -t [ --testonly ]                     Ignore label information and just test\n",
      "  --holdout_off                         no holdout data in multiple passes\n",
      "  --holdout_period arg                  holdout period for test only, default \n",
      "                                        10\n",
      "  --holdout_after arg                   holdout after n training examples, \n",
      "                                        default off (disables holdout_period)\n",
      "  --early_terminate arg                 Specify the number of passes tolerated \n",
      "                                        when holdout loss doesn't decrease \n",
      "                                        before early termination, default is 3\n",
      "  --passes arg                          Number of Training Passes\n",
      "  --initial_pass_length arg             initial number of examples per pass\n",
      "  --examples arg                        number of examples to parse\n",
      "  --min_prediction arg                  Smallest prediction to output\n",
      "  --max_prediction arg                  Largest prediction to output\n",
      "  --sort_features                       turn this on to disregard order in \n",
      "                                        which features have been defined. This \n",
      "                                        will lead to smaller cache sizes\n",
      "  --loss_function arg (=squared)        Specify the loss function to be used, \n",
      "                                        uses squared by default. Currently \n",
      "                                        available ones are squared, classic, \n",
      "                                        hinge, logistic, quantile and poisson.\n",
      "  --quantile_tau arg (=0.5)             Parameter \\tau associated with Quantile\n",
      "                                        loss. Defaults to 0.5\n",
      "  --l1 arg                              l_1 lambda\n",
      "  --l2 arg                              l_2 lambda\n",
      "  --no_bias_regularization arg          no bias in regularization\n",
      "  --named_labels arg                    use names for labels (multiclass, etc.)\n",
      "                                        rather than integers, argument \n",
      "                                        specified all possible labels, \n",
      "                                        comma-sep, eg \"--named_labels \n",
      "                                        Noun,Verb,Adj,Punc\"\n",
      "\n",
      "Output model:\n",
      "  -f [ --final_regressor ] arg          Final regressor\n",
      "  --readable_model arg                  Output human-readable final regressor \n",
      "                                        with numeric features\n",
      "  --invert_hash arg                     Output human-readable final regressor \n",
      "                                        with feature names.  Computationally \n",
      "                                        expensive.\n",
      "  --save_resume                         save extra state so learning can be \n",
      "                                        resumed later with new data\n",
      "  --preserve_performance_counters       reset performance counters when \n",
      "                                        warmstarting\n",
      "  --save_per_pass                       Save the model after every pass over \n",
      "                                        data\n",
      "  --output_feature_regularizer_binary arg\n",
      "                                        Per feature regularization output file\n",
      "  --output_feature_regularizer_text arg Per feature regularization output file,\n",
      "                                        in text\n",
      "  --id arg                              User supplied ID embedded into the \n",
      "                                        final regressor\n",
      "\n",
      "Output options:\n",
      "  -p [ --predictions ] arg              File to output predictions to\n",
      "  -r [ --raw_predictions ] arg          File to output unnormalized predictions\n",
      "                                        to\n",
      "\n",
      "Reduction options, use [option] --help for more info:\n",
      "\n",
      "  --audit_regressor arg                 stores feature names and their \n",
      "                                        regressor values. Same dataset must be \n",
      "                                        used for both regressor training and \n",
      "                                        this mode.\n",
      "\n",
      "  --bootstrap arg                       k-way bootstrap by online importance \n",
      "                                        resampling\n",
      "\n",
      "  --search arg                          Use learning to search, \n",
      "                                        argument=maximum action id or 0 for LDF\n",
      "\n",
      "  --replay_c arg                        use experience replay at a specified \n",
      "                                        level [b=classification/regression, \n",
      "                                        m=multiclass, c=cost sensitive] with \n",
      "                                        specified buffer size\n",
      "\n",
      "  --explore_eval                        Evaluate explore_eval adf policies\n",
      "\n",
      "  --cbify arg                           Convert multiclass on <k> classes into \n",
      "                                        a contextual bandit problem\n",
      "\n",
      "  --cb_explore_adf                      Online explore-exploit for a contextual\n",
      "                                        bandit problem with multiline action \n",
      "                                        dependent features\n",
      "\n",
      "  --cb_explore arg                      Online explore-exploit for a <k> action\n",
      "                                        contextual bandit problem\n",
      "\n",
      "  --multiworld_test arg                 Evaluate features as a policies\n",
      "\n",
      "  --cb_adf                              Do Contextual Bandit learning with \n",
      "                                        multiline action dependent features.\n",
      "\n",
      "  --cb arg                              Use contextual bandit learning with <k>\n",
      "                                        costs\n",
      "\n",
      "  --csoaa_ldf arg                       Use one-against-all multiclass learning\n",
      "                                        with label dependent features.  Specify\n",
      "                                        singleline or multiline.\n",
      "\n",
      "  --wap_ldf arg                         Use weighted all-pairs multiclass \n",
      "                                        learning with label dependent features.\n",
      "                                          Specify singleline or multiline.\n",
      "\n",
      "  --interact arg                        Put weights on feature products from \n",
      "                                        namespaces <n1> and <n2>\n",
      "\n",
      "  --csoaa arg                           One-against-all multiclass with <k> \n",
      "                                        costs\n",
      "\n",
      "  --multilabel_oaa arg                  One-against-all multilabel with <k> \n",
      "                                        labels\n",
      "\n",
      "  --classweight arg\n",
      "\n",
      "  --recall_tree arg                     Use online tree for multiclass\n",
      "\n",
      "  --log_multi arg                       Use online tree for multiclass\n",
      "\n",
      "  --ect arg                             Error correcting tournament with <k> \n",
      "                                        labels\n",
      "\n",
      "  --boosting arg                        Online boosting with <N> weak learners\n",
      "\n",
      "  --oaa arg                             One-against-all multiclass with <k> \n",
      "                                        labels\n",
      "\n",
      "  --top arg                             top k recommendation\n",
      "\n",
      "  --replay_m arg                        use experience replay at a specified \n",
      "                                        level [b=classification/regression, \n",
      "                                        m=multiclass, c=cost sensitive] with \n",
      "                                        specified buffer size\n",
      "\n",
      "  --binary                              report loss as binary classification on\n",
      "                                        -1,1\n",
      "\n",
      "  --link arg (=identity)                Specify the link function: identity, \n",
      "                                        logistic, glf1 or poisson\n",
      "\n",
      "  --stage_poly                          use stagewise polynomial feature \n",
      "                                        learning\n",
      "\n",
      "  --lrqfa arg                           use low rank quadratic features with \n",
      "                                        field aware weights\n",
      "\n",
      "  --lrq arg                             use low rank quadratic features\n",
      "\n",
      "  --autolink arg                        create link function with polynomial d\n",
      "\n",
      "  --marginal arg                        substitute marginal label estimates for\n",
      "                                        ids\n",
      "\n",
      "  --new_mf arg                          rank for reduction-based matrix \n",
      "                                        factorization\n",
      "\n",
      "  --nn arg                              Sigmoidal feedforward network with <k> \n",
      "                                        hidden units\n",
      "\n",
      "confidence options:\n",
      "  --confidence_after_training           Confidence after training\n",
      "\n",
      "  --confidence                          Get confidence for binary predictions\n",
      "\n",
      "  --active_cover                        enable active learning with cover\n",
      "\n",
      "  --active                              enable active learning\n",
      "\n",
      "  --replay_b arg                        use experience replay at a specified \n",
      "                                        level [b=classification/regression, \n",
      "                                        m=multiclass, c=cost sensitive] with \n",
      "                                        specified buffer size\n",
      "\n",
      "  --baseline                            Learn an additive baseline (from \n",
      "                                        constant features) and a residual \n",
      "                                        separately in regression.\n",
      "\n",
      "  --OjaNewton                           Online Newton with Oja's Sketch\n",
      "\n",
      "  --bfgs                                use bfgs optimization\n",
      "\n",
      "  --conjugate_gradient                  use conjugate gradient based \n",
      "                                        optimization\n",
      "\n",
      "  --lda arg                             Run lda with <int> topics\n",
      "\n",
      "  --noop                                do no learning\n",
      "\n",
      "  --print                               print examples\n",
      "\n",
      "  --rank arg                            rank for matrix factorization.\n",
      "\n",
      "  --sendto arg                          send examples to <host>\n",
      "\n",
      "  --svrg                                Streaming Stochastic Variance Reduced \n",
      "                                        Gradient\n",
      "\n",
      "  --ftrl                                FTRL: Follow the Proximal Regularized \n",
      "                                        Leader\n",
      "\n",
      "  --pistol                              FTRL: Parameter-free Stochastic \n",
      "                                        Learning\n",
      "\n",
      "  --ksvm                                kernel svm\n",
      "\n",
      "Gradient Descent options:\n",
      "  --sgd                                 use regular stochastic gradient descent\n",
      "                                        update.\n",
      "  --adaptive                            use adaptive, individual learning \n",
      "                                        rates.\n",
      "  --invariant                           use safe/importance aware updates.\n",
      "  --normalized                          use per feature normalized updates\n",
      "  --sparse_l2 arg (=0)                  use per feature normalized updates\n",
      "\n",
      "Input options:\n",
      "  -d [ --data ] arg                     Example Set\n",
      "  --daemon                              persistent daemon mode on port 26542\n",
      "  --foreground                          in persistent daemon mode, do not run \n",
      "                                        in the background\n",
      "  --port arg                            port to listen on; use 0 to pick unused\n",
      "                                        port\n",
      "  --num_children arg                    number of children for persistent \n",
      "                                        daemon mode\n",
      "  --pid_file arg                        Write pid file in persistent daemon \n",
      "                                        mode\n",
      "  --port_file arg                       Write port used in persistent daemon \n",
      "                                        mode\n",
      "  -c [ --cache ]                        Use a cache.  The default is \n",
      "                                        <data>.cache\n",
      "  --cache_file arg                      The location(s) of cache_file.\n",
      "  --json                                Enable JSON parsing.\n",
      "  --dsjson                              Enable Decision Service JSON parsing.\n",
      "  -k [ --kill_cache ]                   do not reuse existing cache: create a \n",
      "                                        new one always\n",
      "  --compressed                          use gzip format whenever possible. If a\n",
      "                                        cache file is being created, this \n",
      "                                        option creates a compressed cache file.\n",
      "                                        A mixture of raw-text & compressed \n",
      "                                        inputs are supported with \n",
      "                                        autodetection.\n",
      "  --no_stdin                            do not default to reading from stdin\n",
      "\n"
     ]
    },
    {
     "name": "stderr",
     "output_type": "stream",
     "text": [
      "Num weight bits = 18\n",
      "learning rate = 0.5\n",
      "initial_t = 0\n",
      "power_t = 0.5\n",
      "using no cache\n",
      "Reading datafile = \n",
      "num sources = 1\n"
     ]
    }
   ],
   "source": [
    "!vw --help"
   ]
  },
  {
   "cell_type": "markdown",
   "metadata": {
    "collapsed": true
   },
   "source": [
    "Vowpal Wabbit считывает данные из файла или стандартного ввода (stdin) в формате, который имеет следующий вид:\n",
    "\n",
    "`[Label] [Importance] [Tag]|Namespace Features |Namespace Features ... |Namespace Features`\n",
    "\n",
    "`Namespace=String[:Value]`\n",
    "\n",
    "`Features=(String[:Value] )*`\n",
    "\n",
    "где [] обозначает необязательные элементы, а (...)\\* означает повтор неопределенное число раз. \n",
    "\n",
    "- **Label** является числом, \"правильным\" ответом. В случае классификации обычно принимает значение 1/-1, а в случае регрессии некоторое вещественное число\n",
    "- **Importance** является числом и отвечает за вес примера при обучении. Это позволяет бороться с проблемой несбалансированных данных, изученной нами ранее\n",
    "- **Tag** является некоторой строкой без пробелов и отвечает за некоторое \"название\" примера, которое сохраняется при предсказании ответа. Для того, чтобы отделить Tag от Importance лучше начинать Tag с символа '.\n",
    "- **Namespace** служит для создания отдельных пространств признаков. В аргументах Namespace именуются по первой букве, это нужно учитывать при выборе их названий\n",
    "- **Features** являются непосредственно признаками объекта внутри **Namespace**. Признаки по умолчанию имеют вес 1.0, но его можно переопределить, к примеру feature:0.1. \n",
    "\n",
    "\n",
    "К примеру, под такой формат подходит следующая строка:\n",
    "\n",
    "```\n",
    "1 1.0 |Subject WHAT car is this |Organization University of Maryland:0.5 College Park\n",
    "```\n",
    "\n",
    "\n",
    "чтобы убедиться в этом, запустим vw с этим обучающим примером:"
   ]
  },
  {
   "cell_type": "code",
   "execution_count": 23,
   "metadata": {},
   "outputs": [
    {
     "name": "stdout",
     "output_type": "stream",
     "text": [
      "warning: \"1 is not a good float, replacing with 0\n"
     ]
    },
    {
     "name": "stderr",
     "output_type": "stream",
     "text": [
      "Num weight bits = 18\n",
      "learning rate = 0.5\n",
      "initial_t = 0\n",
      "power_t = 0.5\n",
      "using no cache\n",
      "Reading datafile = \n",
      "num sources = 1\n",
      "average  since         example        example  current  current  current\n",
      "loss     last          counter         weight    label  predict features\n",
      "0.000000 0.000000            1            1.0   0.0000   0.0000       10\n",
      "\n",
      "finished run\n",
      "number of examples per pass = 1\n",
      "passes used = 1\n",
      "weighted example sum = 1.000000\n",
      "weighted label sum = 0.000000\n",
      "average loss = 0.000000\n",
      "total feature number = 10\n"
     ]
    }
   ],
   "source": [
    "!echo \"1 1.0 |Subject WHAT car is this |Organization University of Maryland:0.5 College Park\" | vw"
   ]
  },
  {
   "cell_type": "markdown",
   "metadata": {},
   "source": [
    "VW является прекрасным инструментом для работы с текстовыми данными. Убедимся в этом с помощью выборки 20newsgroups, содержащей письма из 20 различных тематических рассылок.\n",
    "\n",
    "\n",
    "## Новости. Бинарная классификация"
   ]
  },
  {
   "cell_type": "code",
   "execution_count": 25,
   "metadata": {},
   "outputs": [
    {
     "name": "stderr",
     "output_type": "stream",
     "text": [
      "Downloading 20news dataset. This may take a few minutes.\n",
      "Downloading dataset from https://ndownloader.figshare.com/files/5975967 (14 MB)\n"
     ]
    }
   ],
   "source": [
    "newsgroups = fetch_20newsgroups('../../data/news_data')"
   ]
  },
  {
   "cell_type": "code",
   "execution_count": 26,
   "metadata": {},
   "outputs": [
    {
     "data": {
      "text/plain": [
       "['alt.atheism',\n",
       " 'comp.graphics',\n",
       " 'comp.os.ms-windows.misc',\n",
       " 'comp.sys.ibm.pc.hardware',\n",
       " 'comp.sys.mac.hardware',\n",
       " 'comp.windows.x',\n",
       " 'misc.forsale',\n",
       " 'rec.autos',\n",
       " 'rec.motorcycles',\n",
       " 'rec.sport.baseball',\n",
       " 'rec.sport.hockey',\n",
       " 'sci.crypt',\n",
       " 'sci.electronics',\n",
       " 'sci.med',\n",
       " 'sci.space',\n",
       " 'soc.religion.christian',\n",
       " 'talk.politics.guns',\n",
       " 'talk.politics.mideast',\n",
       " 'talk.politics.misc',\n",
       " 'talk.religion.misc']"
      ]
     },
     "execution_count": 26,
     "metadata": {},
     "output_type": "execute_result"
    }
   ],
   "source": [
    "newsgroups['target_names']"
   ]
  },
  {
   "cell_type": "markdown",
   "metadata": {},
   "source": [
    "Рассмотрим первый текстовый документ этой коллекции:"
   ]
  },
  {
   "cell_type": "code",
   "execution_count": 27,
   "metadata": {},
   "outputs": [
    {
     "name": "stdout",
     "output_type": "stream",
     "text": [
      "-----\n",
      "rec.autos\n",
      "-----\n",
      "From: lerxst@wam.umd.edu (where's my thing)\n",
      "Subject: WHAT car is this!?\n",
      "Nntp-Posting-Host: rac3.wam.umd.edu\n",
      "Organization: University of Maryland, College Park\n",
      "Lines: 15\n",
      "\n",
      " I was wondering if anyone out there could enlighten me on this car I saw\n",
      "the other day. It was a 2-door sports car, looked to be from the late 60s/\n",
      "early 70s. It was called a Bricklin. The doors were really small. In addition,\n",
      "the front bumper was separate from the rest of the body. This is \n",
      "all I know. If anyone can tellme a model name, engine specs, years\n",
      "of production, where this car is made, history, or whatever info you\n",
      "have on this funky looking car, please e-mail.\n",
      "\n",
      "Thanks,\n",
      "- IL\n",
      "   ---- brought to you by your neighborhood Lerxst ----\n",
      "----\n"
     ]
    }
   ],
   "source": [
    "text = newsgroups['data'][0]\n",
    "target = newsgroups['target_names'][newsgroups['target'][0]]\n",
    "\n",
    "print('-----')\n",
    "print(target)\n",
    "print('-----')\n",
    "print(text.strip())\n",
    "print('----')"
   ]
  },
  {
   "cell_type": "markdown",
   "metadata": {},
   "source": [
    "Приведем данные к формату Vowpal Wabbit, при этом оставляя только слова не короче 3 символов. Здесь мы не выполняем многие важные в анализе текстов процедуры (стемминг и лемматизацию), но, как увидим, задача и так будет решаться хорошо."
   ]
  },
  {
   "cell_type": "code",
   "execution_count": 28,
   "metadata": {},
   "outputs": [
    {
     "data": {
      "text/plain": [
       "'1 |text from lerxst wam umd edu where thing subject what car this nntp posting host rac3 wam umd edu organization university maryland college park lines was wondering anyone out there could enlighten this car saw the other day was door sports car looked from the late 60s early 70s was called bricklin the doors were really small addition the front bumper was separate from the rest the body this all know anyone can tellme model name engine specs years production where this car made history whatever info you have this funky looking car please mail thanks brought you your neighborhood lerxst\\n'"
      ]
     },
     "execution_count": 28,
     "metadata": {},
     "output_type": "execute_result"
    }
   ],
   "source": [
    "def to_vw_format(document, label=None):\n",
    "    return str(label or '') + ' |text ' + ' '.join(re.findall('\\w{3,}', document.lower())) + '\\n'\n",
    "\n",
    "to_vw_format(text, 1 if target == 'rec.autos' else -1)"
   ]
  },
  {
   "cell_type": "markdown",
   "metadata": {},
   "source": [
    "Разобьем выборку на обучающую и тестовую и запишем в файл преобразованные таким образом документы. Будем считать документ положительным, если он относится к рассылке про автомобили **rec.autos**. Так мы построим модель, отличающую письма про автомобили от остальных: "
   ]
  },
  {
   "cell_type": "code",
   "execution_count": 29,
   "metadata": {},
   "outputs": [],
   "source": [
    "all_documents = newsgroups['data']\n",
    "all_targets = [1 if newsgroups['target_names'][target] == 'rec.autos' \n",
    "               else -1 for target in newsgroups['target']]"
   ]
  },
  {
   "cell_type": "code",
   "execution_count": 34,
   "metadata": {},
   "outputs": [],
   "source": [
    "\n",
    "import io\n",
    "train_documents, test_documents, train_labels, test_labels = \\\n",
    "    train_test_split(all_documents, all_targets, random_state=7)\n",
    "    \n",
    "with io.open('../../data/news_data/20news_train.vw',  'w', encoding='utf-8') as vw_train_data:\n",
    "    for text, target in zip(train_documents, train_labels):\n",
    "        vw_train_data.write(to_vw_format(text, target))\n",
    "with io.open('../../data/news_data/20news_test.vw', 'w', encoding='utf-8') as vw_test_data:\n",
    "    for text in test_documents:\n",
    "        vw_test_data.write(to_vw_format(text))"
   ]
  },
  {
   "cell_type": "markdown",
   "metadata": {},
   "source": [
    "Запустим Vowpal Wabbit на сформированном файле. Мы решаем задачу классификации, поэтому зададим функцию потерь в значение hinge (линейный SVM). Построенную модель мы сохраним в соответствующий файл `20news_model.vw`:"
   ]
  },
  {
   "cell_type": "code",
   "execution_count": 35,
   "metadata": {},
   "outputs": [
    {
     "name": "stderr",
     "output_type": "stream",
     "text": [
      "final_regressor = ../../data/news_data/20news_model.vw\n",
      "Num weight bits = 18\n",
      "learning rate = 0.5\n",
      "initial_t = 0\n",
      "power_t = 0.5\n",
      "using no cache\n",
      "Reading datafile = ../../data/news_data/20news_train.vw\n",
      "num sources = 1\n",
      "average  since         example        example  current  current  current\n",
      "loss     last          counter         weight    label  predict features\n",
      "1.000000 1.000000            1            1.0  -1.0000   0.0000      157\n",
      "0.911276 0.822551            2            2.0  -1.0000  -0.1774      159\n",
      "0.605793 0.300311            4            4.0  -1.0000  -0.3994       92\n",
      "0.419594 0.233394            8            8.0  -1.0000  -0.8167      129\n",
      "0.313998 0.208402           16           16.0  -1.0000  -0.6509      108\n",
      "0.196014 0.078029           32           32.0  -1.0000  -1.0000      115\n",
      "0.183158 0.170302           64           64.0  -1.0000  -0.7072      114\n",
      "0.261046 0.338935          128          128.0   1.0000  -0.7900      110\n",
      "0.262910 0.264774          256          256.0  -1.0000  -0.6425       44\n",
      "0.216663 0.170415          512          512.0  -1.0000  -1.0000      160\n",
      "0.176710 0.136757         1024         1024.0  -1.0000  -1.0000      194\n",
      "0.134541 0.092371         2048         2048.0  -1.0000  -1.0000      438\n",
      "0.104403 0.074266         4096         4096.0  -1.0000  -1.0000      644\n",
      "0.081329 0.058255         8192         8192.0  -1.0000  -1.0000      174\n",
      "\n",
      "finished run\n",
      "number of examples per pass = 8485\n",
      "passes used = 1\n",
      "weighted example sum = 8485.000000\n",
      "weighted label sum = -7555.000000\n",
      "average loss = 0.079837\n",
      "best constant = -1.000000\n",
      "best constant's loss = 0.109605\n",
      "total feature number = 2048932\n"
     ]
    }
   ],
   "source": [
    "!vw -d ../../data/news_data/20news_train.vw \\\n",
    "  --loss_function hinge -f ../../data/news_data/20news_model.vw"
   ]
  },
  {
   "cell_type": "markdown",
   "metadata": {},
   "source": [
    "Модель обучена. VW выводит достаточно много полезной информации по ходу обучения (тем не менее, ее можно погасить, если задать параметр --quiet). Подробно вывод диагностическйой информации разобран в документации VW на GitHub – [тут](https://github.com/JohnLangford/vowpal_wabbit/wiki/Tutorial#vws-diagnostic-information). Обратите внимание, что average loss снижался по ходу выполнения итераций. Для вычисления функции потерь VW использует еще не просмотренные примеры, поэтому, как правило, эта оценка является корректной. Применим обученную модель на тестовой выборке, сохраняя предсказания в файл с помощью опции -p: "
   ]
  },
  {
   "cell_type": "code",
   "execution_count": 36,
   "metadata": {},
   "outputs": [
    {
     "name": "stderr",
     "output_type": "stream",
     "text": [
      "only testing\n",
      "predictions = ../../data/news_data/20news_test_predictions.txt\n",
      "Num weight bits = 18\n",
      "learning rate = 0.5\n",
      "initial_t = 0\n",
      "power_t = 0.5\n",
      "using no cache\n",
      "Reading datafile = ../../data/news_data/20news_test.vw\n",
      "num sources = 1\n",
      "average  since         example        example  current  current  current\n",
      "loss     last          counter         weight    label  predict features\n",
      "    n.a.     n.a.            1            1.0  unknown   1.0000      349\n",
      "    n.a.     n.a.            2            2.0  unknown  -1.0000       50\n",
      "    n.a.     n.a.            4            4.0  unknown  -1.0000      251\n",
      "    n.a.     n.a.            8            8.0  unknown  -1.0000      237\n",
      "    n.a.     n.a.           16           16.0  unknown  -0.8978      106\n",
      "    n.a.     n.a.           32           32.0  unknown  -1.0000      964\n",
      "    n.a.     n.a.           64           64.0  unknown  -1.0000      261\n",
      "    n.a.     n.a.          128          128.0  unknown   0.4621       82\n",
      "    n.a.     n.a.          256          256.0  unknown  -1.0000      186\n",
      "    n.a.     n.a.          512          512.0  unknown  -1.0000      162\n",
      "    n.a.     n.a.         1024         1024.0  unknown  -1.0000      283\n",
      "    n.a.     n.a.         2048         2048.0  unknown  -1.0000      104\n",
      "\n",
      "finished run\n",
      "number of examples per pass = 2829\n",
      "passes used = 1\n",
      "weighted example sum = 2829.000000\n",
      "weighted label sum = 0.000000\n",
      "average loss = n.a.\n",
      "total feature number = 642215\n"
     ]
    }
   ],
   "source": [
    "!vw -i ../../data/news_data/20news_model.vw -t -d ../../data/news_data/20news_test.vw \\\n",
    "-p ../../data/news_data/20news_test_predictions.txt"
   ]
  },
  {
   "cell_type": "markdown",
   "metadata": {},
   "source": [
    "Загрузим полученные предсказания, вычислим AUC и отобразим ROC-кривую:"
   ]
  },
  {
   "cell_type": "code",
   "execution_count": 37,
   "metadata": {
    "scrolled": true
   },
   "outputs": [
    {
     "data": {
      "image/png": "[encoded data removed]",
      "text/plain": [
       "<matplotlib.figure.Figure at 0xb786978>"
      ]
     },
     "metadata": {},
     "output_type": "display_data"
    }
   ],
   "source": [
    "with io.open('../../data/news_data/20news_test_predictions.txt', encoding='utf-8') as pred_file:\n",
    "    test_prediction = [float(label) \n",
    "                             for label in pred_file.readlines()]\n",
    "\n",
    "auc = roc_auc_score(test_labels, test_prediction)\n",
    "roc_curve = roc_curve(test_labels, test_prediction)\n",
    "\n",
    "with plt.xkcd():\n",
    "    plt.plot(roc_curve[0], roc_curve[1]);\n",
    "    plt.plot([0,1], [0,1])\n",
    "    plt.xlabel('FPR'); plt.ylabel('TPR'); plt.title('test AUC = %f' % (auc)); plt.axis([-0.05,1.05,-0.05,1.05]);"
   ]
  },
  {
   "cell_type": "markdown",
   "metadata": {},
   "source": [
    "Полученное значения AUC говорит о высоком качестве классификации."
   ]
  },
  {
   "cell_type": "markdown",
   "metadata": {},
   "source": [
    "# Новости. Многоклассовая классификация"
   ]
  },
  {
   "cell_type": "markdown",
   "metadata": {},
   "source": [
    "Используем ту же выборку, что в прошлой части, но решаем задачу многоклассовой классификации. Тут `Vowpal Wabbit` слегка капризничает – он любит, чтоб метки классов были распределены от 1 до K, где K – число классов в задаче классификации (в нашем случае – 20). Поэтому придется применить LabelEncoder, да еще и +1 потом добавить (`LabelEncoder` переводит метки в диапозон от 0 до K-1)."
   ]
  },
  {
   "cell_type": "code",
   "execution_count": 38,
   "metadata": {},
   "outputs": [],
   "source": [
    "all_documents = newsgroups['data']\n",
    "topic_encoder = LabelEncoder()\n",
    "all_targets_mult = topic_encoder.fit_transform(newsgroups['target']) + 1"
   ]
  },
  {
   "cell_type": "markdown",
   "metadata": {},
   "source": [
    "**Выборки будут те же, а метки поменяются, train_labels_mult и test_labels_mult – векторы меток от 1 до 20.**"
   ]
  },
  {
   "cell_type": "code",
   "execution_count": 39,
   "metadata": {},
   "outputs": [],
   "source": [
    "train_documents, test_documents, train_labels_mult, test_labels_mult = \\\n",
    "    train_test_split(all_documents, all_targets_mult, random_state=7)"
   ]
  },
  {
   "cell_type": "code",
   "execution_count": 40,
   "metadata": {},
   "outputs": [],
   "source": [
    "with io.open('../../data/news_data/20news_train_mult.vw', 'w', encoding='utf-8') as vw_train_data:\n",
    "    for text, target in zip(train_documents, train_labels_mult):\n",
    "        vw_train_data.write(to_vw_format(text, target))\n",
    "with io.open('../../data/news_data/20news_test_mult.vw', 'w', encoding='utf-8') as vw_test_data:\n",
    "    for text in test_documents:\n",
    "        vw_test_data.write(to_vw_format(text))"
   ]
  },
  {
   "cell_type": "markdown",
   "metadata": {},
   "source": [
    "Обучим Vowpal Wabbit в режиме многоклассовой классификации, передав параметр `oaa` (от \"one against all\"), равный числу классов. Также перечислим параметры, которые можно понастраивать, и от которых качество модели может довольно значительно зависеть (более полно – в официальном [тьюториале](https://github.com/JohnLangford/vowpal_wabbit/wiki/Tutorial) по Vowpal Wabbit):\n",
    " - темп обучения (-l, по умолчанию 0.5) – коэффициент перед изменением весов модели при каждом изменении\n",
    " - степень убывания темпа обучения (--power_t, по умолчанию 0.5) – на практике проверено, что если темп обучения уменьшается при увеличении числа итераций стохастического градиентного спуска, то минимум функции находится лучше \n",
    " - функция потерь (--loss_function) – от нее, по сути, зависит обучаемый алгоритм. Про функции потерь в [документации](https://github.com/JohnLangford/vowpal_wabbit/wiki/Loss-functions)\n",
    " - регуляризация (-l1) – тут надо обратить внимание на то, что в VW регуляризация считается для каждого объекта, поэтому коэффициенты регуляризации обычно берутся малыми, около $10^{-20}.$\n",
    " \n",
    " Дополнительно можно попробовать автоматическую настройку параметров Vowpal Wabbit с Hyperopt. Пока это работает только с Python 2. [Статья](https://habrahabr.ru/company/dca/blog/272697/) на Хабре."
   ]
  },
  {
   "cell_type": "code",
   "execution_count": 41,
   "metadata": {},
   "outputs": [
    {
     "name": "stdout",
     "output_type": "stream",
     "text": [
      "Wall time: 1.86 s\n"
     ]
    },
    {
     "name": "stderr",
     "output_type": "stream",
     "text": [
      "final_regressor = ../../data/news_data/20news_model_mult.vw\n",
      "Num weight bits = 18\n",
      "learning rate = 0.5\n",
      "initial_t = 0\n",
      "power_t = 0.5\n",
      "using no cache\n",
      "Reading datafile = ../../data/news_data/20news_train_mult.vw\n",
      "num sources = 1\n",
      "average  since         example        example  current  current  current\n",
      "loss     last          counter         weight    label  predict features\n",
      "1.000000 1.000000            1            1.0       15        1      157\n",
      "1.000000 1.000000            2            2.0        2       15      159\n",
      "1.000000 1.000000            4            4.0       15       10       92\n",
      "1.000000 1.000000            8            8.0       16       15      129\n",
      "1.000000 1.000000           16           16.0       13       12      108\n",
      "0.937500 0.875000           32           32.0        2        9      115\n",
      "0.906250 0.875000           64           64.0       16       16      114\n",
      "0.867188 0.828125          128          128.0        8        4      110\n",
      "0.816406 0.765625          256          256.0        7       15       44\n",
      "0.646484 0.476563          512          512.0       13        9      160\n",
      "0.502930 0.359375         1024         1024.0        3        4      194\n",
      "0.388672 0.274414         2048         2048.0        1        1      438\n",
      "0.300293 0.211914         4096         4096.0       11       11      644\n",
      "0.225098 0.149902         8192         8192.0        5        5      174\n",
      "\n",
      "finished run\n",
      "number of examples per pass = 8485\n",
      "passes used = 1\n",
      "weighted example sum = 8485.000000\n",
      "weighted label sum = 0.000000\n",
      "average loss = 0.222392\n",
      "total feature number = 2048932\n"
     ]
    }
   ],
   "source": [
    "%%time\n",
    "!vw --oaa 20 ../../data/news_data/20news_train_mult.vw \\\n",
    "-f ../../data/news_data/20news_model_mult.vw --loss_function=hinge"
   ]
  },
  {
   "cell_type": "code",
   "execution_count": 42,
   "metadata": {},
   "outputs": [
    {
     "name": "stdout",
     "output_type": "stream",
     "text": [
      "Wall time: 320 ms\n"
     ]
    },
    {
     "name": "stderr",
     "output_type": "stream",
     "text": [
      "only testing\n",
      "predictions = ../../data/news_data/20news_test_predictions_mult.txt\n",
      "Num weight bits = 18\n",
      "learning rate = 0.5\n",
      "initial_t = 0\n",
      "power_t = 0.5\n",
      "using no cache\n",
      "Reading datafile = ../../data/news_data/20news_test_mult.vw\n",
      "num sources = 1\n",
      "average  since         example        example  current  current  current\n",
      "loss     last          counter         weight    label  predict features\n",
      "    n.a.     n.a.            1            1.0  unknown        8      349\n",
      "    n.a.     n.a.            2            2.0  unknown        6       50\n",
      "    n.a.     n.a.            4            4.0  unknown       18      251\n",
      "    n.a.     n.a.            8            8.0  unknown       18      237\n",
      "    n.a.     n.a.           16           16.0  unknown        4      106\n",
      "    n.a.     n.a.           32           32.0  unknown       15      964\n",
      "    n.a.     n.a.           64           64.0  unknown        4      261\n",
      "    n.a.     n.a.          128          128.0  unknown        8       82\n",
      "    n.a.     n.a.          256          256.0  unknown       10      186\n",
      "    n.a.     n.a.          512          512.0  unknown        1      162\n",
      "    n.a.     n.a.         1024         1024.0  unknown       11      283\n",
      "    n.a.     n.a.         2048         2048.0  unknown       14      104\n",
      "\n",
      "finished run\n",
      "number of examples per pass = 2829\n",
      "passes used = 1\n",
      "weighted example sum = 2829.000000\n",
      "weighted label sum = 0.000000\n",
      "average loss = n.a.\n",
      "total feature number = 642215\n"
     ]
    }
   ],
   "source": [
    "%%time\n",
    "!vw -i ../../data/news_data/20news_model_mult.vw -t \\\n",
    "-d ../../data/news_data/20news_test_mult.vw \\\n",
    "-p ../../data/news_data/20news_test_predictions_mult.txt"
   ]
  },
  {
   "cell_type": "code",
   "execution_count": 43,
   "metadata": {},
   "outputs": [],
   "source": [
    "with io.open('../../data/news_data/20news_test_predictions_mult.txt', encoding='utf-8') as pred_file:\n",
    "    test_prediction_mult = [float(label) \n",
    "                            for label in pred_file.readlines()]"
   ]
  },
  {
   "cell_type": "code",
   "execution_count": 44,
   "metadata": {},
   "outputs": [
    {
     "data": {
      "text/plain": [
       "0.8734535171438671"
      ]
     },
     "execution_count": 44,
     "metadata": {},
     "output_type": "execute_result"
    }
   ],
   "source": [
    "accuracy_score(test_labels_mult, test_prediction_mult)"
   ]
  },
  {
   "cell_type": "markdown",
   "metadata": {},
   "source": [
    "В качестве примера анализа резльтатов, посмотрим, с какими темами классификатор путает атеизм."
   ]
  },
  {
   "cell_type": "code",
   "execution_count": 45,
   "metadata": {},
   "outputs": [
    {
     "data": {
      "text/plain": [
       "array([[109,   0,   0,   0,   0,   0,   0,   1,   0,   1,   0,   0,   0,\n",
       "          1,   0,   3,   0,   0,   0,   5],\n",
       "       [  1, 123,   6,   2,   2,   3,   4,   2,   0,   1,   0,   0,   1,\n",
       "          1,   0,   2,   0,   0,   0,   0],\n",
       "       [  4,   2, 125,   3,   6,   2,   3,   0,   1,   0,   0,   0,   4,\n",
       "          1,   0,   1,   0,   0,   0,   0],\n",
       "       [  4,   4,   8,  92,   4,   2,   7,   2,   4,   0,   0,   1,   2,\n",
       "          0,   1,   0,   0,   0,   1,   0],\n",
       "       [  0,   4,   3,   8, 114,   3,   9,   0,   2,   1,   0,   0,   1,\n",
       "          2,   1,   0,   0,   0,   0,   0],\n",
       "       [  0,   9,   2,   3,   3, 119,   1,   1,   1,   0,   0,   1,   2,\n",
       "          0,   1,   0,   0,   0,   0,   0],\n",
       "       [  1,   1,   1,   4,   0,   1, 120,   4,   0,   0,   0,   0,   3,\n",
       "          0,   0,   0,   0,   0,   1,   0],\n",
       "       [  0,   0,   0,   1,   2,   1,   3, 114,   2,   2,   0,   0,   2,\n",
       "          0,   1,   0,   0,   0,   0,   1],\n",
       "       [  1,   0,   0,   1,   1,   0,   5,   4, 145,   0,   0,   0,   0,\n",
       "          1,   0,   0,   0,   0,   0,   0],\n",
       "       [  0,   0,   0,   1,   0,   0,   1,   1,   1, 136,   4,   0,   0,\n",
       "          0,   1,   0,   0,   0,   0,   0],\n",
       "       [  0,   0,   0,   2,   0,   0,   1,   1,   1,   2, 145,   0,   0,\n",
       "          0,   0,   0,   0,   1,   1,   0],\n",
       "       [  2,   1,   0,   1,   0,   3,   0,   0,   0,   0,   0, 148,   0,\n",
       "          0,   0,   0,   2,   1,   0,   0],\n",
       "       [  2,   1,   1,   6,   3,   2,   6,   4,   1,   0,   1,   0, 122,\n",
       "          1,   2,   0,   0,   0,   0,   0],\n",
       "       [  1,   4,   0,   0,   0,   1,   1,   1,   2,   0,   0,   1,   1,\n",
       "        152,   1,   1,   0,   0,   0,   1],\n",
       "       [  0,   4,   0,   0,   2,   0,   2,   0,   1,   0,   0,   0,   1,\n",
       "          1, 135,   0,   0,   0,   0,   1],\n",
       "       [  4,   3,   2,   1,   0,   1,   2,   0,   1,   1,   1,   0,   2,\n",
       "          2,   1, 137,   0,   0,   1,   0],\n",
       "       [  0,   0,   0,   1,   0,   0,   0,   2,   0,   1,   0,   0,   0,\n",
       "          3,   0,   1, 116,   0,   1,   1],\n",
       "       [  0,   1,   0,   0,   0,   1,   0,   0,   0,   0,   0,   0,   0,\n",
       "          0,   0,   1,   0, 154,   1,   0],\n",
       "       [  4,   0,   0,   0,   2,   0,   0,   0,   0,   2,   0,   0,   0,\n",
       "          0,   3,   0,   3,   2,  96,   0],\n",
       "       [  5,   0,   0,   0,   0,   1,   0,   0,   1,   0,   0,   0,   0,\n",
       "          0,   0,   6,   2,   1,   0,  69]], dtype=int64)"
      ]
     },
     "execution_count": 45,
     "metadata": {},
     "output_type": "execute_result"
    }
   ],
   "source": [
    "M = confusion_matrix(test_labels_mult, test_prediction_mult)\n",
    "M"
   ]
  },
  {
   "cell_type": "code",
   "execution_count": 46,
   "metadata": {},
   "outputs": [
    {
     "name": "stdout",
     "output_type": "stream",
     "text": [
      "rec.autos 1\n",
      "rec.sport.baseball 1\n",
      "sci.med 1\n",
      "soc.religion.christian 3\n",
      "talk.religion.misc 5\n"
     ]
    }
   ],
   "source": [
    "for i in np.where(M[0,:] > 0)[0][1:]:\n",
    "    print(newsgroups['target_names'][i], M[0,i], )"
   ]
  },
  {
   "cell_type": "markdown",
   "metadata": {},
   "source": [
    "# Рецензии к фильмам IMDB"
   ]
  },
  {
   "cell_type": "markdown",
   "metadata": {},
   "source": [
    "В этой части мы будем заниматься бинарной классификацией отзывов к фильмам, публикованным на сайте IMDB. Обратите внимание, насколько быстро будет работать Vowpal Wabbit.\n",
    "\n",
    "Используем функцию `load_files` из `sklearn.datasets` для загрузки отзывов по фильмам [отсюда](https://drive.google.com/file/d/1xq4l5c0JrcxJdyBwJWvy0u9Ad_pvkJ1l/view?usp=sharing). Скачайте данные и укажите свой путь к каталогу `imdb_reviews` (в нем должны быть каталоги *train* и *test*). Разархивирование может занять несколько минут – там 100 тыс. файлов. В обучающей и тестовой выборках по 12500 тысяч хороших и плохих отзывов к фильмам. Отделим данные (собственно, тексты) от меток."
   ]
  },
  {
   "cell_type": "code",
   "execution_count": 47,
   "metadata": {},
   "outputs": [],
   "source": [
    "# поменяйте на свой путь\n",
    "path_to_movies = '../../../data/imdb_reviews/imdb_reviews/'\n",
    "reviews_train = load_files(os.path.join(path_to_movies, 'train'))\n",
    "text_train, y_train = reviews_train.data, reviews_train.target"
   ]
  },
  {
   "cell_type": "code",
   "execution_count": 42,
   "metadata": {},
   "outputs": [
    {
     "name": "stdout",
     "output_type": "stream",
     "text": [
      "Number of documents in training data: 25000\n",
      "[12500 12500]\n"
     ]
    }
   ],
   "source": [
    "print(\"Number of documents in training data: %d\" % len(text_train))\n",
    "print(np.bincount(y_train))"
   ]
  },
  {
   "cell_type": "markdown",
   "metadata": {},
   "source": [
    "То же самое с тестовой выборкой."
   ]
  },
  {
   "cell_type": "code",
   "execution_count": 48,
   "metadata": {},
   "outputs": [
    {
     "name": "stdout",
     "output_type": "stream",
     "text": [
      "Number of documents in test data: 25000\n",
      "[12500 12500]\n"
     ]
    }
   ],
   "source": [
    "reviews_test = load_files(os.path.join(path_to_movies, 'test'))\n",
    "text_test, y_test = reviews_test.data, reviews_train.target\n",
    "print(\"Number of documents in test data: %d\" % len(text_test))\n",
    "print(np.bincount(y_test))"
   ]
  },
  {
   "cell_type": "markdown",
   "metadata": {},
   "source": [
    "Примеры отзывов и соответствующих меток"
   ]
  },
  {
   "cell_type": "code",
   "execution_count": 49,
   "metadata": {},
   "outputs": [
    {
     "data": {
      "text/plain": [
       "b\"Zero Day leads you to think, even re-think why two boys/young men would do what they did - commit mutual suicide via slaughtering their classmates. It captures what must be beyond a bizarre mode of being for two humans who have decided to withdraw from common civility in order to define their own/mutual world via coupled destruction.<br /><br />It is not a perfect movie but given what money/time the filmmaker and actors had - it is a remarkable product. In terms of explaining the motives and actions of the two young suicide/murderers it is better than 'Elephant' - in terms of being a film that gets under our 'rationalistic' skin it is a far, far better film than almost anything you are likely to see. <br /><br />Flawed but honest with a terrible honesty.\""
      ]
     },
     "execution_count": 49,
     "metadata": {},
     "output_type": "execute_result"
    }
   ],
   "source": [
    "text_train[0]"
   ]
  },
  {
   "cell_type": "code",
   "execution_count": 45,
   "metadata": {},
   "outputs": [
    {
     "data": {
      "text/plain": [
       "1"
      ]
     },
     "execution_count": 45,
     "metadata": {},
     "output_type": "execute_result"
    }
   ],
   "source": [
    "y_train[0] # хороший отзыв"
   ]
  },
  {
   "cell_type": "code",
   "execution_count": 46,
   "metadata": {},
   "outputs": [
    {
     "data": {
      "text/plain": [
       "b'Words can\\'t describe how bad this movie is. I can\\'t explain it by writing only. You have too see it for yourself to get at grip of how horrible a movie really can be. Not that I recommend you to do that. There are so many clich\\xc3\\xa9s, mistakes (and all other negative things you can imagine) here that will just make you cry. To start with the technical first, there are a LOT of mistakes regarding the airplane. I won\\'t list them here, but just mention the coloring of the plane. They didn\\'t even manage to show an airliner in the colors of a fictional airline, but instead used a 747 painted in the original Boeing livery. Very bad. The plot is stupid and has been done many times before, only much, much better. There are so many ridiculous moments here that i lost count of it really early. Also, I was on the bad guys\\' side all the time in the movie, because the good guys were so stupid. \"Executive Decision\" should without a doubt be you\\'re choice over this one, even the \"Turbulence\"-movies are better. In fact, every other movie in the world is better than this one.'"
      ]
     },
     "execution_count": 46,
     "metadata": {},
     "output_type": "execute_result"
    }
   ],
   "source": [
    "text_train[1]"
   ]
  },
  {
   "cell_type": "code",
   "execution_count": 50,
   "metadata": {},
   "outputs": [
    {
     "data": {
      "text/plain": [
       "0"
      ]
     },
     "execution_count": 50,
     "metadata": {},
     "output_type": "execute_result"
    }
   ],
   "source": [
    "y_train[1] # плохой отзыв"
   ]
  },
  {
   "cell_type": "markdown",
   "metadata": {},
   "source": [
    "Будем использовать ранее написанную функцию `to_vw_format`."
   ]
  },
  {
   "cell_type": "code",
   "execution_count": 51,
   "metadata": {},
   "outputs": [
    {
     "data": {
      "text/plain": [
       "'1 |text words can describe how bad this movie can explain writing only you have too see for yourself get grip how horrible movie really can not that recommend you that there are many clich xc3 xa9s mistakes and all other negative things you can imagine here that will just make you cry start with the technical first there are lot mistakes regarding the airplane won list them here but just mention the coloring the plane they didn even manage show airliner the colors fictional airline but instead used 747 painted the original boeing livery very bad the plot stupid and has been done many times before only much much better there are many ridiculous moments here that lost count really early also was the bad guys side all the time the movie because the good guys were stupid executive decision should without doubt you choice over this one even the turbulence movies are better fact every other movie the world better than this one\\n'"
      ]
     },
     "execution_count": 51,
     "metadata": {},
     "output_type": "execute_result"
    }
   ],
   "source": [
    "to_vw_format(str(text_train[1]), 1 if y_train[0] == 1 else -1)"
   ]
  },
  {
   "cell_type": "markdown",
   "metadata": {},
   "source": [
    "Подготовим обучающую (`movie_reviews_train.vw`), отложенную (`movie_reviews_valid.vw`) и тестовую (`movie_reviews_test.vw`) выборки для Vowpal Wabbit. 70% исходной обучаюшей выборки оставим под обучение, 30% – под отложенную выборку."
   ]
  },
  {
   "cell_type": "code",
   "execution_count": 52,
   "metadata": {},
   "outputs": [],
   "source": [
    "train_share = int(0.7 * len(text_train))\n",
    "train, valid = text_train[:train_share], text_train[train_share:]\n",
    "train_labels, valid_labels = y_train[:train_share], y_train[train_share:]"
   ]
  },
  {
   "cell_type": "code",
   "execution_count": 53,
   "metadata": {},
   "outputs": [
    {
     "data": {
      "text/plain": [
       "(17500, 7500)"
      ]
     },
     "execution_count": 53,
     "metadata": {},
     "output_type": "execute_result"
    }
   ],
   "source": [
    "len(train_labels), len(valid_labels)"
   ]
  },
  {
   "cell_type": "code",
   "execution_count": 54,
   "metadata": {},
   "outputs": [],
   "source": [
    "with io.open('../../../data/imdb_reviews/movie_reviews_train.vw', 'w', encoding='utf-8') as vw_train_data:\n",
    "    for text, target in zip(train, train_labels):\n",
    "        vw_train_data.write(to_vw_format(str(text), 1 if target == 1 else -1))\n",
    "with io.open('../../../data/imdb_reviews/movie_reviews_valid.vw', 'w', encoding='utf-8') as vw_train_data:\n",
    "    for text, target in zip(valid, valid_labels):\n",
    "        vw_train_data.write(to_vw_format(str(text), 1 if target == 1 else -1))\n",
    "with io.open('../../../data/imdb_reviews/movie_reviews_test.vw', 'w', encoding='utf-8') as vw_test_data:\n",
    "    for text in text_test:\n",
    "        vw_test_data.write(to_vw_format(str(text)))"
   ]
  },
  {
   "cell_type": "code",
   "execution_count": 55,
   "metadata": {},
   "outputs": [
    {
     "name": "stderr",
     "output_type": "stream",
     "text": [
      "'head' is not recognized as an internal or external command,\n",
      "operable program or batch file.\n"
     ]
    }
   ],
   "source": [
    "!head -2 ../../../data/imdb_reviews/movie_reviews_train.vw"
   ]
  },
  {
   "cell_type": "code",
   "execution_count": 53,
   "metadata": {},
   "outputs": [
    {
     "name": "stdout",
     "output_type": "stream",
     "text": [
      "1 |text matter life and death what can you really say that would properly justice the genius and beauty this film powell and pressburger visual imagination knows bounds every frame filled with fantastically bold compositions the switches between the bold colours the real world the stark black and white heaven ingenious showing visually just how much more vibrant life the final court scene also fantastic the judge and jury descend the stairway heaven hold court over peter david niven operation all the performances are spot roger livesey being standout and the romantic energy the film beautiful never has there been more romantic film than this there has haven seen matter life and death all about the power love and just how important life and jack cardiff cinematography reason enough watch the film alone the way lights kim hunter face makes her all the more beautiful what genius can make simple things such game table tennis look exciting and the sound design also impeccable the way the sound mutes vital points was decision way ahead its time this true classic that can restore anyone faith cinema under appreciated its initial release and today audiences but one all time favourites which why give this film word beautiful\r\n",
      "1 |text while this was better movie than 101 dalmations live action not animated version think still fell little short what disney could was well filmed the music was more suited the action and the effects were better done compared 101 the acting was perhaps better but then the human characters were given far more appropriate roles this sequel and glenn close really not missed the first movie she makes shine her poor lackey and the overzealous furrier sidekicks are wonderful characters play off and they add the spectacle disney has given this great family film with little objectionable material and yet remains fun and interesting for adults and children alike bound classic many disney films are here hoping the third will even better still because you know they probably want make one\r\n"
     ]
    }
   ],
   "source": [
    "!head -2 ../../data/movie_reviews_valid.vw"
   ]
  },
  {
   "cell_type": "code",
   "execution_count": 54,
   "metadata": {},
   "outputs": [
    {
     "name": "stdout",
     "output_type": "stream",
     "text": [
      " |text don hate heather graham because she beautiful hate her because she fun watch this movie like the hip clothing and funky surroundings the actors this flick work well together casey affleck hysterical and heather graham literally lights the screen the minor characters goran visnjic sigh and patricia velazquez are talented they are gorgeous congratulations miramax director lisa krueger\r\n",
      " |text don know how this movie has received many positive comments one can call artistic and beautifully filmed but those things don make for the empty plot that was filled with sexual innuendos wish had not wasted time watch this movie rather than being biographical was poor excuse for promoting strange and lewd behavior was just another hollywood attempt convince that that kind life normal and from the very beginning asked self what was the point this movie and continued watching hoping that would change and was quite disappointed that continued the same vein glad did not spend the money see this theater\r\n"
     ]
    }
   ],
   "source": [
    "!head -2 ../../data/movie_reviews_test.vw"
   ]
  },
  {
   "cell_type": "markdown",
   "metadata": {},
   "source": [
    "**Обучим модель Vowpal Wabbit со следующими агрументами:**\n",
    "\n",
    " - -d, путь к обучающей выборке (соотв. файл .vw )\n",
    " - --loss_function – hinge (хотя можно и поэкспериментировать с другими)\n",
    " - -f – путь к файлу, в который запишется модель (можно тоже в формате .vw)"
   ]
  },
  {
   "cell_type": "code",
   "execution_count": 56,
   "metadata": {},
   "outputs": [],
   "source": [
    "!vw -d ../../../data/imdb_reviews/movie_reviews_train.vw \\\n",
    "--loss_function hinge -f movie_reviews_model.vw --quiet"
   ]
  },
  {
   "cell_type": "markdown",
   "metadata": {},
   "source": [
    "Сделаем прогноз для отложенной выборки с помощью обученной модели Vowpal Wabbit, передав следующие аргументы:\n",
    " - -i –путь к обученной модели (соотв. файл .vw)\n",
    " - -t -d – путь к отложенной выборке (соотв. файл .vw)\n",
    " - -p – путь к txt-файлу, куда запишутся прогнозы"
   ]
  },
  {
   "cell_type": "code",
   "execution_count": 57,
   "metadata": {},
   "outputs": [],
   "source": [
    "!vw -i movie_reviews_model.vw -t -d ../../../data/imdb_reviews/movie_reviews_valid.vw \\\n",
    "-p movie_valid_pred.txt --quiet"
   ]
  },
  {
   "cell_type": "markdown",
   "metadata": {},
   "source": [
    "Считаем прогноз из файла и посчитаем долю правильных ответов и ROC AUC. Учтем, что VW выводит оценки вероятности принадлежности к классу +1. Эти оценки распределены на [-1, 1], поэтому бинарным ответом алгоритма (0 или 1) будем попросту считать тот факт, что оценка получилась положительной."
   ]
  },
  {
   "cell_type": "code",
   "execution_count": 59,
   "metadata": {},
   "outputs": [
    {
     "name": "stdout",
     "output_type": "stream",
     "text": [
      "Accuracy: 0.885\n",
      "AUC: 0.942\n"
     ]
    }
   ],
   "source": [
    "with io.open('movie_valid_pred.txt', encoding='utf-8') as pred_file:\n",
    "    valid_prediction = [float(label) \n",
    "                             for label in pred_file.readlines()]\n",
    "print(\"Accuracy: {}\".format(round(accuracy_score(valid_labels, \n",
    "               [int(pred_prob > 0) for pred_prob in valid_prediction]), 3)))\n",
    "print(\"AUC: {}\".format(round(roc_auc_score(valid_labels, valid_prediction), 3)))"
   ]
  },
  {
   "cell_type": "markdown",
   "metadata": {
    "collapsed": true
   },
   "source": [
    "Сделаем то же самое для тестовой выборки."
   ]
  },
  {
   "cell_type": "code",
   "execution_count": 60,
   "metadata": {},
   "outputs": [],
   "source": [
    "!vw -i movie_reviews_model.vw -t -d ../../../data/imdb_reviews/movie_reviews_test.vw \\\n",
    "-p movie_test_pred.txt --quiet"
   ]
  },
  {
   "cell_type": "code",
   "execution_count": 61,
   "metadata": {},
   "outputs": [
    {
     "name": "stdout",
     "output_type": "stream",
     "text": [
      "Accuracy: 0.88\n",
      "AUC: 0.94\n"
     ]
    }
   ],
   "source": [
    "with io.open('movie_test_pred.txt', encoding='utf-8') as pred_file:\n",
    "    test_prediction = [float(label) \n",
    "                             for label in pred_file.readlines()]\n",
    "print(\"Accuracy: {}\".format(round(accuracy_score(y_test, \n",
    "               [int(pred_prob > 0) for pred_prob in test_prediction]), 3)))\n",
    "print(\"AUC: {}\".format(round(roc_auc_score(y_test, test_prediction), 3)))"
   ]
  },
  {
   "cell_type": "markdown",
   "metadata": {},
   "source": [
    "Попробуем улучшить прогноз за счет задействования биграмм"
   ]
  },
  {
   "cell_type": "code",
   "execution_count": 62,
   "metadata": {},
   "outputs": [],
   "source": [
    "!vw -d ../../../data/imdb_reviews/movie_reviews_train.vw \\\n",
    "--loss_function hinge --ngram 2 -f movie_reviews_model2.vw --quiet"
   ]
  },
  {
   "cell_type": "code",
   "execution_count": 63,
   "metadata": {},
   "outputs": [],
   "source": [
    "!vw -i movie_reviews_model2.vw -t -d ../../../data/imdb_reviews/movie_reviews_valid.vw \\\n",
    "-p movie_valid_pred2.txt --quiet"
   ]
  },
  {
   "cell_type": "code",
   "execution_count": 64,
   "metadata": {},
   "outputs": [
    {
     "name": "stdout",
     "output_type": "stream",
     "text": [
      "Accuracy: 0.894\n",
      "AUC: 0.954\n"
     ]
    }
   ],
   "source": [
    "with io.open('movie_valid_pred2.txt', encoding='utf-8') as pred_file:\n",
    "    valid_prediction = [float(label) \n",
    "                             for label in pred_file.readlines()]\n",
    "print(\"Accuracy: {}\".format(round(accuracy_score(valid_labels, \n",
    "               [int(pred_prob > 0) for pred_prob in valid_prediction]), 3)))\n",
    "print(\"AUC: {}\".format(round(roc_auc_score(valid_labels, valid_prediction), 3)))"
   ]
  },
  {
   "cell_type": "code",
   "execution_count": 65,
   "metadata": {},
   "outputs": [],
   "source": [
    "!vw -i movie_reviews_model2.vw -t -d ../../../data/imdb_reviews/movie_reviews_test.vw \\\n",
    "-p movie_test_pred2.txt --quiet"
   ]
  },
  {
   "cell_type": "code",
   "execution_count": 66,
   "metadata": {},
   "outputs": [
    {
     "name": "stdout",
     "output_type": "stream",
     "text": [
      "Accuracy: 0.888\n",
      "AUC: 0.952\n"
     ]
    }
   ],
   "source": [
    "with open('movie_test_pred2.txt') as pred_file:\n",
    "    test_prediction2 = [float(label) \n",
    "                             for label in pred_file.readlines()]\n",
    "print(\"Accuracy: {}\".format(round(accuracy_score(y_test, \n",
    "               [int(pred_prob > 0) for pred_prob in test_prediction2]), 3)))\n",
    "print(\"AUC: {}\".format(round(roc_auc_score(y_test, test_prediction2), 3)))"
   ]
  },
  {
   "cell_type": "markdown",
   "metadata": {},
   "source": [
    "Видим, что биграммы помогли повысить качество классификации."
   ]
  },
  {
   "cell_type": "markdown",
   "metadata": {},
   "source": [
    "## Классификация вопросов на StackOverflow "
   ]
  },
  {
   "cell_type": "markdown",
   "metadata": {},
   "source": [
    "Теперь посмотрим, как в действительности Vowpal Wabbit справляется с большими выборками. Имеются 10 Гб вопросов со StackOverflow – [ссылка](https://cloud.mail.ru/public/3bwi/bFYHDN5S5) на данные, там аккурат 10 миллионов вопросов, и у каждого вопроса может быть несколько тегов. Данные довольно чистые, и не называйте это бигдатой даже в пабе :)\n",
    "\n",
    "<img src='../../img/say_big_data.jpg' width=50%>\n",
    "\n",
    "Из всех тегов выделены 10, и решается задача классификации на 10 классов: по тексту вопроса надо поставить один из 10 тегов, соответствующих 10 популярным языкам программирования. Предобработанные данные не даются, поскольку их надо получить в домашней работе."
   ]
  },
  {
   "cell_type": "code",
   "execution_count": 65,
   "metadata": {
    "collapsed": true
   },
   "outputs": [],
   "source": [
    "# поменяйте путь к данным\n",
    "PATH_TO_DATA = '/Users/y.kashnitsky/Documents/Machine_learning/org_mlcourse_open/private/stackoverflow_hw/'"
   ]
  },
  {
   "cell_type": "code",
   "execution_count": 66,
   "metadata": {},
   "outputs": [
    {
     "name": "stdout",
     "output_type": "stream",
     "text": [
      "1,4G\t/Users/y.kashnitsky/Documents/Machine_learning/org_mlcourse_open/private/stackoverflow_hw//stackoverflow_10mln_test.vw\r\n",
      "3,3G\t/Users/y.kashnitsky/Documents/Machine_learning/org_mlcourse_open/private/stackoverflow_hw//stackoverflow_10mln_train.vw\r\n",
      "1,9G\t/Users/y.kashnitsky/Documents/Machine_learning/org_mlcourse_open/private/stackoverflow_hw//stackoverflow_10mln_train_part.vw\r\n",
      "1,4G\t/Users/y.kashnitsky/Documents/Machine_learning/org_mlcourse_open/private/stackoverflow_hw//stackoverflow_10mln_valid.vw\r\n"
     ]
    }
   ],
   "source": [
    "!du -hs $PATH_TO_DATA/stackoverflow_10mln_*.vw"
   ]
  },
  {
   "cell_type": "markdown",
   "metadata": {},
   "source": [
    "Вот как выглядят строки, на которых будет обучаться Vowpal Wabbit. 10 означает 10 класс, далее вертикальная черта и просто текст вопроса. "
   ]
  },
  {
   "cell_type": "code",
   "execution_count": 67,
   "metadata": {},
   "outputs": [
    {
     "name": "stdout",
     "output_type": "stream",
     "text": [
      "10 | i ve got some code in window scroll that checks if an element is visible then triggers another function however only the first section of code is firing both bits of code work in and of themselves if i swap their order whichever is on top fires correctly my code is as follows fn isonscreen function use strict var win window viewport top win scrolltop left win scrollleft bounds this offset viewport right viewport left + win width viewport bottom viewport top + win height bounds right bounds left + this outerwidth bounds bottom bounds top + this outerheight return viewport right lt bounds left viewport left gt bounds right viewport bottom lt bounds top viewport top gt bounds bottom window scroll function use strict var load_more_results ajax load_more_results isonscreen if load_more_results true loadmoreresults var load_more_staff ajax load_more_staff isonscreen if load_more_staff true loadmorestaff what am i doing wrong can you only fire one event from window scroll i assume not\r\n"
     ]
    }
   ],
   "source": [
    "!head -1 $PATH_TO_DATA/stackoverflow_10mln_train.vw"
   ]
  },
  {
   "cell_type": "markdown",
   "metadata": {},
   "source": [
    "Обучим на обучающей части выборки (3.3 Гб) модель Vowpal Wabbit со следующими аргументами: \n",
    "- -oaa 10 – указываем, что классификация на 10 классов \n",
    "- -d – путь к данным \n",
    "- -f – путь к модели, которая будет построена \n",
    "- -b 28 – используем 28 бит для хэширования, то есть признаковое пространство ограничено $2^{28}$ признаками, что в данном случае больше, чем число уникальных слов в выборке (но потом появятся би- и триграммы, и ограничение размерности признакового пространства начнет работать)\n",
    "- также указываем random seed"
   ]
  },
  {
   "cell_type": "code",
   "execution_count": null,
   "metadata": {},
   "outputs": [],
   "source": [
    "%%time\n",
    "!vw --oaa 10 -d $PATH_TO_DATA/stackoverflow_10mln_train.vw \\\n",
    "-f vw_model1_10mln.vw -b 28 --random_seed 17 --quiet"
   ]
  },
  {
   "cell_type": "markdown",
   "metadata": {},
   "source": [
    "Заметим, что модель обучилась всего за 43 секунды, для тестовой выборки прогнозы сделала еще за 15 секунд, доля правильных ответов – почти 92%. Далее качество модели можно повышать за счет нескольких проходов по выборке, задействования биграмм и настройке параметров. Это вместе с предобработкой данных и будет второй частью домашнего задания."
   ]
  },
  {
   "cell_type": "code",
   "execution_count": 69,
   "metadata": {},
   "outputs": [
    {
     "name": "stdout",
     "output_type": "stream",
     "text": [
      "CPU times: user 231 ms, sys: 90.5 ms, total: 322 ms\n",
      "Wall time: 14.8 s\n"
     ]
    }
   ],
   "source": [
    "%%time\n",
    "!vw -t -i vw_model1_10mln.vw \\\n",
    "-d $PATH_TO_DATA/stackoverflow_10mln_test.vw \\\n",
    "-p vw_valid_10mln_pred1.csv --random_seed 17 --quiet"
   ]
  },
  {
   "cell_type": "code",
   "execution_count": 70,
   "metadata": {},
   "outputs": [
    {
     "data": {
      "text/plain": [
       "0.91868709729356979"
      ]
     },
     "execution_count": 70,
     "metadata": {},
     "output_type": "execute_result"
    }
   ],
   "source": [
    "import os\n",
    "import numpy as np\n",
    "from sklearn.metrics import accuracy_score\n",
    "\n",
    "vw_pred = np.loadtxt('vw_valid_10mln_pred1.csv')\n",
    "test_labels = np.loadtxt(os.path.join(PATH_TO_DATA, \n",
    "                                      'stackoverflow_10mln_test_labels.txt'))\n",
    "accuracy_score(test_labels, vw_pred)"
   ]
  },
  {
   "cell_type": "markdown",
   "metadata": {},
   "source": [
    "# Домашнее задание\n",
    "В этот раз задание будет большим. В первой части, чтоб вам не казалось, что Vowpal Wabbit – это какая-то магия, вы реализуете самостоятельно классификатор и регрессор, обучаемые стохастическим градиентным спуском.\n",
    "\n",
    "Во второй части вам предлагается взять набор данных (10 Гб), содержащий вопросы на StackOverflow и теги этих вопросов, предобработать данные (подумав над эффективность совершаемых операций) и построить классификатор вопросов по 10 тегам (по 10 языкам программирования). Возможно, вы уже удивились, как простая модель VW может обучиться на такой выборке за секунды или минуты на простом железе, без всяких Hadoop-кластеров. "
   ]
  },
  {
   "cell_type": "markdown",
   "metadata": {},
   "source": [
    "# Полезные ссылки\n",
    "- материалы Евгения Соколова: [Многоклассовая классификация и категориальные признаки](https://github.com/esokolov/ml-course-hse/blob/master/2016-fall/lecture-notes/lecture06-linclass.pdf) (там же про хэширование признаков), [Линейная регрессия](https://github.com/esokolov/ml-course-hse/blob/master/2016-fall/lecture-notes/lecture02-linregr.pdf) (там же про градиентный спуск и его стохастическую версию), [презентация](https://github.com/esokolov/ml-course-msu/blob/master/ML15/lecture-notes/Sem08_vw.pdf) про Vowpal Wabbit\n",
    "- [Глава](http://www.deeplearningbook.org/contents/numerical.html) \"Numeric Computation\" книги \"Deep Learning\"\n",
    "- Обширная [документация](https://github.com/JohnLangford/vowpal_wabbit/wiki) Vowpal Wabbit на GitHub\n",
    "- Минималистичная [статья](https://habrahabr.ru/company/mlclass/blog/248779/) на Хабре про VW\n",
    "- [Статья](https://habrahabr.ru/company/dca/blog/272697/) на Хабре про связку VW и hyperopt "
   ]
  }
 ],
 "metadata": {
  "anaconda-cloud": {},
  "kernelspec": {
   "display_name": "Python 3",
   "language": "python",
   "name": "python3"
  },
  "language_info": {
   "codemirror_mode": {
    "name": "ipython",
    "version": 3
   },
   "file_extension": ".py",
   "mimetype": "text/x-python",
   "name": "python",
   "nbconvert_exporter": "python",
   "pygments_lexer": "ipython3",
   "version": "3.6.4"
  }
 },
 "nbformat": 4,
 "nbformat_minor": 1
}
