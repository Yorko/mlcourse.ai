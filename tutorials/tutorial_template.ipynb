{
 "cells": [
  {
   "cell_type": "markdown",
   "metadata": {},
   "source": [
    "<center>\n",
    "<img src=\"../../img/ods_stickers.jpg\">\n",
    "## mlcourse.ai\n",
    "<center>Author: Name as in therating, ODS Slack nickname."
   ]
  },
  {
   "cell_type": "markdown",
   "metadata": {},
   "source": [
    "# <center>Tutorial (template)</center>\n",
    "## <center>Task description</center>"
   ]
  },
  {
   "cell_type": "markdown",
   "metadata": {
    "collapsed": true
   },
   "source": [
    "The last task in the course - is the most creative. Write and publish a tutorial on practically any topic on  Data Science & Machine Learning. \n",
    "\n",
    "Rules:\n",
    "- It must be a tutorial (reproducible Jupyter notebook, ipynb file), i.e you should teach some skills, do not just express your ideas on some theoretical concept\n",
    "- It is not just a translation of somebody else's material. You can borrow some stuff, but with fair links/citations\n",
    "- The prerequisite for reading your tutorial should be basic ML as tought in [mlcourse.ai](https://mlcourse.ai). Do not write in-depth articles about neural nets, probabilistic programming, Bayesian approach, reinforcement learning etc. - topics like these need a thorough approach. That is, sure, you can write articles like that, but not in the format of [mlcourse.ai](https://mlcourse.ai) tutorials. On the other hand, it's hardly worth making a tutorial too simple (e.g., to take some library and demonstrate only a couple of methods from it)\n",
    "- A typical tutorial shall be 30-60 minutes to read and digest (however, here exceptions are possible)\n",
    "- Check out a [list](https://github.com/Yorko/mlcourse.ai/wiki/Individual-projects-and-tutorials-(in-Russian)) of published tutorials from previous runs of this course (in Russian). Yes, it's in Russian but Google Translate can kind of give you an insight, and topic that are already covered. For those who already passed the course: definitely, translating somebody else's (or your own) tutorial into English is not going to work\n",
    "\n",
    "Here are a dozen of sample topics (but this is a just as an exampe, you can/should come up with your own):\n",
    "- data collection, crawling with, working with XML, JSON and so on.\n",
    "- overview of dask library\n",
    "- overview of Bokeh or another viz library\n",
    "- decision trees with statistical tests in the nodes\n",
    "- review of H2O library\n",
    "- poisson/quantile or another type of regression\n",
    "- automatization of machine learning, AutoML, Teapot\n",
    "- interpretability of ML - LIME, reducing of Forests to Trees\n",
    "- review of some clusterization method (with motivation, why it is needed)\n",
    "- dimetionality reduction for vizualisation (there are some methods besides t-SNE, e.g. from manifold learning family)\n",
    "- word2vec\n",
    "- methods of filling missing data\n",
    "- review of solutoin of some competitions where you participated\n",
    "- description of some Kaggle trick\n",
    "- counters in supervised learning tasks: WOE, smoothed likelihood and other methods of feature engeneering from the target\n",
    "- there is a lot in Scikit-learn that we didn't cover (e.g. different methods of feature selection, feature hashing; can better cover NestedCV or elastic net)\n",
    "- methods of tree vizualization in Python (other than standard graphviz)\n",
    "- review of a small but useful utility\n",
    "- something about statistics, but such that a general audience will understand\n",
    "- something that better covers the course material, e.g. a broader review of Vowpal Wabbit \n",
    "- data analisys with bash\n",
    "- ...\n",
    "\n",
    "How to publish: \n",
    "1. First of all, choose a unique topic and registed it in the [Google doc](https://docs.google.com/spreadsheets/d/15qao-tn6V7JXy2bWUasWy-yOXDm8xW8ZtPXfdJnO-v4/edit?usp=sharing)\n",
    "2. Make a Pull Request with your tutorial in a form of a Jupyter notebook [here](https://github.com/Yorko/mlcourse.ai/tree/master/jupyter_english/tutorials). Respect the repo structure: please put images to img, ipynb file to `jupyter_english/tutorials`. Do not commit data to our repo. Instead, upload your data somewhere, and share a link\n",
    "3. When your Pull Request is accepted, you need to make an [nbviewer](http://nbviewer.jupyter.org/) link for your ipynb file and share the link in the #mlcourse_ai Slack channel with a short description of the tutorial. You also need to add the *#tutorial_contest* tag, It's obligatory, otherwise, the tutorial will be ignored.\n",
    "4. If you don't cope with these simple rules, your tutorial is not taken into account.\n",
    "\n",
   ]
  }
 ],
 "metadata": {
  "anaconda-cloud": {},
  "kernelspec": {
   "display_name": "Python 3",
   "language": "python",
   "name": "python3"
  },
  "language_info": {
   "codemirror_mode": {
    "name": "ipython",
    "version": 3
   },
   "file_extension": ".py",
   "mimetype": "text/x-python",
   "name": "python",
   "nbconvert_exporter": "python",
   "pygments_lexer": "ipython3",
   "version": "3.6.4"
  }
 },
 "nbformat": 4,
 "nbformat_minor": 1
}
