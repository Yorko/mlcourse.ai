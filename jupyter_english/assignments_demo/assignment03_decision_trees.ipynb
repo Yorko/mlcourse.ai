{
 "cells": [
  {
   "cell_type": "markdown",
   "metadata": {},
   "source": [
    "<center>\n",
    "<img src=\"../../img/ods_stickers.jpg\">\n",
<<<<<<< HEAD
    "## Open Machine Learning Course\n",
    "<center> Authors: [Maria Sumarokova](https://www.linkedin.com/in/mariya-sumarokova-230b4054/), senior data scientist/analyst at Veon, and [Yury Kashnitsky](https://www.linkedin.com/in/festline/), data scientist at Mail.Ru Group. <br>Translated and edited by Gleb Filatov, Aleksey Kiselev,<br> [Anastasia Manokhina](https://www.linkedin.com/in/anastasiamanokhina/), [Egor Polusmak](https://www.linkedin.com/in/egor-polusmak/), and [Yuanyuan Pao](https://www.linkedin.com/in/yuanyuanpao/) <br>All content is distributed under the [Creative Commons CC BY-NC-SA 4.0](https://creativecommons.org/licenses/by-nc-sa/4.0/) license."
=======
    "    \n",
    "## Open Machine Learning Course\n",
    "\n",
    "Authors: [Maria Sumarokova](https://www.linkedin.com/in/mariya-sumarokova-230b4054/), senior data scientist/analyst at Veon, and [Yury Kashnitsky](https://www.linkedin.com/in/festline/), data scientist at Mail.Ru Group. Translated and edited by Gleb Filatov, Aleksey Kiselev, [Anastasia Manokhina](https://www.linkedin.com/in/anastasiamanokhina/), [Egor Polusmak](https://www.linkedin.com/in/egor-polusmak/), and [Yuanyuan Pao](https://www.linkedin.com/in/yuanyuanpao/). All content is distributed under the [Creative Commons CC BY-NC-SA 4.0](https://creativecommons.org/licenses/by-nc-sa/4.0/) license."
>>>>>>> b95a59a01fa2879014056c1bbf1585de10dacc6e
   ]
  },
  {
   "cell_type": "markdown",
   "metadata": {
    "collapsed": true
   },
   "source": [
    "# <center> Assignment #3 (demo)\n",
    "## <center>  Decision trees with a toy task and the UCI Adult dataset \n",
    "\n",
    "Please fill in the answers in the [web-form](https://docs.google.com/forms/d/1wfWYYoqXTkZNOPy1wpewACXaj2MZjBdLOL58htGWYBA/edit)."
   ]
  },
  {
   "cell_type": "markdown",
   "metadata": {},
   "source": [
    "Let's start by loading all necessary libraries:"
   ]
  },
  {
   "cell_type": "code",
   "execution_count": 1,
   "metadata": {},
   "outputs": [],
   "source": [
    "%matplotlib inline\n",
    "from matplotlib import pyplot as plt\n",
    "plt.rcParams['figure.figsize'] = (10, 8)\n",
    "import seaborn as sns\n",
    "import numpy as np\n",
    "import pandas as pd\n",
    "from sklearn.preprocessing import LabelEncoder\n",
    "import collections\n",
    "from sklearn.model_selection import GridSearchCV\n",
    "from sklearn import preprocessing\n",
    "from sklearn.tree import DecisionTreeClassifier, export_graphviz\n",
    "from sklearn.ensemble import RandomForestClassifier\n",
<<<<<<< HEAD
    "from sklearn.metrics import accuracy_score"
=======
    "from sklearn.metrics import accuracy_score\n",
    "from ipywidgets import Image\n",
    "from io import StringIO\n",
    "import pydotplus #pip install pydotplus"
>>>>>>> b95a59a01fa2879014056c1bbf1585de10dacc6e
   ]
  },
  {
   "cell_type": "markdown",
   "metadata": {},
   "source": [
    "### Part 1. Toy dataset \"Will They? Won't They?\""
   ]
  },
  {
   "cell_type": "markdown",
   "metadata": {},
   "source": [
    "Your goal is to figure out how decision trees work by walking through a toy problem. While a single decision tree does not yield outstanding results, other performant algorithms like gradient boosting and random forests are based on the same idea. That is why knowing how decision trees work might be useful."
   ]
  },
  {
   "cell_type": "markdown",
   "metadata": {},
   "source": [
    "We'll go through a toy example of binary classification - Person A is deciding whether they will go on a second date with Person B. It will depend on their looks, eloquence, alcohol consumption (only for example), and how much money was spent on the first date."
   ]
  },
  {
   "cell_type": "markdown",
   "metadata": {},
   "source": [
    "#### Creating the dataset"
   ]
  },
  {
   "cell_type": "code",
   "execution_count": 2,
   "metadata": {},
   "outputs": [],
   "source": [
    "# Create dataframe with dummy variables\n",
    "def create_df(dic, feature_list):\n",
    "    out = pd.DataFrame(dic)\n",
    "    out = pd.concat([out, pd.get_dummies(out[feature_list])], axis = 1)\n",
    "    out.drop(feature_list, axis = 1, inplace = True)\n",
    "    return out\n",
    "\n",
    "# Some feature values are present in train and absent in test and vice-versa.\n",
    "def intersect_features(train, test):\n",
    "    common_feat = list( set(train.keys()) & set(test.keys()))\n",
    "    return train[common_feat], test[common_feat]"
   ]
  },
  {
   "cell_type": "code",
   "execution_count": 3,
   "metadata": {},
   "outputs": [],
   "source": [
    "features = ['Looks', 'Alcoholic_beverage','Eloquence','Money_spent']"
   ]
  },
  {
   "cell_type": "markdown",
   "metadata": {},
   "source": [
    "#### Training data"
   ]
  },
  {
   "cell_type": "code",
   "execution_count": 4,
   "metadata": {},
   "outputs": [
    {
     "data": {
      "text/html": [
       "<div>\n",
       "<style scoped>\n",
       "    .dataframe tbody tr th:only-of-type {\n",
       "        vertical-align: middle;\n",
       "    }\n",
       "\n",
       "    .dataframe tbody tr th {\n",
       "        vertical-align: top;\n",
       "    }\n",
       "\n",
       "    .dataframe thead th {\n",
       "        text-align: right;\n",
       "    }\n",
       "</style>\n",
       "<table border=\"1\" class=\"dataframe\">\n",
       "  <thead>\n",
       "    <tr style=\"text-align: right;\">\n",
       "      <th></th>\n",
       "      <th>Will_go</th>\n",
       "      <th>Looks_handsome</th>\n",
       "      <th>Looks_repulsive</th>\n",
       "      <th>Alcoholic_beverage_no</th>\n",
       "      <th>Alcoholic_beverage_yes</th>\n",
       "      <th>Eloquence_average</th>\n",
       "      <th>Eloquence_high</th>\n",
       "      <th>Eloquence_low</th>\n",
       "      <th>Money_spent_little</th>\n",
       "      <th>Money_spent_lots</th>\n",
       "    </tr>\n",
       "  </thead>\n",
       "  <tbody>\n",
       "    <tr>\n",
       "      <th>0</th>\n",
       "      <td>0</td>\n",
       "      <td>1</td>\n",
       "      <td>0</td>\n",
       "      <td>0</td>\n",
       "      <td>1</td>\n",
       "      <td>0</td>\n",
       "      <td>1</td>\n",
       "      <td>0</td>\n",
       "      <td>0</td>\n",
       "      <td>1</td>\n",
       "    </tr>\n",
       "    <tr>\n",
       "      <th>1</th>\n",
       "      <td>1</td>\n",
       "      <td>1</td>\n",
       "      <td>0</td>\n",
       "      <td>0</td>\n",
       "      <td>1</td>\n",
       "      <td>0</td>\n",
       "      <td>0</td>\n",
       "      <td>1</td>\n",
       "      <td>1</td>\n",
       "      <td>0</td>\n",
       "    </tr>\n",
       "    <tr>\n",
       "      <th>2</th>\n",
       "      <td>0</td>\n",
       "      <td>1</td>\n",
       "      <td>0</td>\n",
       "      <td>1</td>\n",
       "      <td>0</td>\n",
       "      <td>1</td>\n",
       "      <td>0</td>\n",
       "      <td>0</td>\n",
       "      <td>0</td>\n",
       "      <td>1</td>\n",
       "    </tr>\n",
       "    <tr>\n",
       "      <th>3</th>\n",
       "      <td>1</td>\n",
       "      <td>0</td>\n",
       "      <td>1</td>\n",
       "      <td>1</td>\n",
       "      <td>0</td>\n",
       "      <td>1</td>\n",
       "      <td>0</td>\n",
       "      <td>0</td>\n",
       "      <td>1</td>\n",
       "      <td>0</td>\n",
       "    </tr>\n",
       "    <tr>\n",
       "      <th>4</th>\n",
       "      <td>1</td>\n",
       "      <td>0</td>\n",
       "      <td>1</td>\n",
       "      <td>0</td>\n",
       "      <td>1</td>\n",
       "      <td>0</td>\n",
       "      <td>0</td>\n",
       "      <td>1</td>\n",
       "      <td>0</td>\n",
       "      <td>1</td>\n",
       "    </tr>\n",
       "    <tr>\n",
       "      <th>5</th>\n",
       "      <td>0</td>\n",
       "      <td>0</td>\n",
       "      <td>1</td>\n",
       "      <td>0</td>\n",
       "      <td>1</td>\n",
       "      <td>0</td>\n",
       "      <td>1</td>\n",
       "      <td>0</td>\n",
       "      <td>0</td>\n",
       "      <td>1</td>\n",
       "    </tr>\n",
       "    <tr>\n",
       "      <th>6</th>\n",
       "      <td>0</td>\n",
       "      <td>1</td>\n",
       "      <td>0</td>\n",
       "      <td>0</td>\n",
       "      <td>1</td>\n",
       "      <td>1</td>\n",
       "      <td>0</td>\n",
       "      <td>0</td>\n",
       "      <td>0</td>\n",
       "      <td>1</td>\n",
       "    </tr>\n",
       "  </tbody>\n",
       "</table>\n",
       "</div>"
      ],
      "text/plain": [
       "   Will_go  Looks_handsome  Looks_repulsive  Alcoholic_beverage_no  \\\n",
       "0        0               1                0                      0   \n",
       "1        1               1                0                      0   \n",
       "2        0               1                0                      1   \n",
       "3        1               0                1                      1   \n",
       "4        1               0                1                      0   \n",
       "5        0               0                1                      0   \n",
       "6        0               1                0                      0   \n",
       "\n",
       "   Alcoholic_beverage_yes  Eloquence_average  Eloquence_high  Eloquence_low  \\\n",
       "0                       1                  0               1              0   \n",
       "1                       1                  0               0              1   \n",
       "2                       0                  1               0              0   \n",
       "3                       0                  1               0              0   \n",
       "4                       1                  0               0              1   \n",
       "5                       1                  0               1              0   \n",
       "6                       1                  1               0              0   \n",
       "\n",
       "   Money_spent_little  Money_spent_lots  \n",
       "0                   0                 1  \n",
       "1                   1                 0  \n",
       "2                   0                 1  \n",
       "3                   1                 0  \n",
       "4                   0                 1  \n",
       "5                   0                 1  \n",
       "6                   0                 1  "
      ]
     },
     "execution_count": 4,
     "metadata": {},
     "output_type": "execute_result"
    }
   ],
   "source": [
    "df_train = {}\n",
    "df_train['Looks'] = ['handsome', 'handsome', 'handsome', 'repulsive',\n",
    "                         'repulsive', 'repulsive', 'handsome'] \n",
    "df_train['Alcoholic_beverage'] = ['yes', 'yes', 'no', 'no', 'yes', 'yes', 'yes']\n",
    "df_train['Eloquence'] = ['high', 'low', 'average', 'average', 'low',\n",
    "                                   'high', 'average']\n",
    "df_train['Money_spent'] = ['lots', 'little', 'lots', 'little', 'lots',\n",
    "                                  'lots', 'lots']\n",
    "df_train['Will_go'] = LabelEncoder().fit_transform(['+', '-', '+', '-', '-', '+', '+'])\n",
    "\n",
    "df_train = create_df(df_train, features)\n",
    "df_train"
   ]
  },
  {
   "cell_type": "markdown",
   "metadata": {},
   "source": [
    "#### Test data"
   ]
  },
  {
   "cell_type": "code",
   "execution_count": 5,
   "metadata": {},
   "outputs": [
    {
     "data": {
      "text/html": [
       "<div>\n",
       "<style scoped>\n",
       "    .dataframe tbody tr th:only-of-type {\n",
       "        vertical-align: middle;\n",
       "    }\n",
       "\n",
       "    .dataframe tbody tr th {\n",
       "        vertical-align: top;\n",
       "    }\n",
       "\n",
       "    .dataframe thead th {\n",
       "        text-align: right;\n",
       "    }\n",
       "</style>\n",
       "<table border=\"1\" class=\"dataframe\">\n",
       "  <thead>\n",
       "    <tr style=\"text-align: right;\">\n",
       "      <th></th>\n",
       "      <th>Looks_handsome</th>\n",
       "      <th>Looks_repulsive</th>\n",
       "      <th>Alcoholic_beverage_no</th>\n",
       "      <th>Alcoholic_beverage_yes</th>\n",
       "      <th>Eloquence_average</th>\n",
       "      <th>Eloquence_high</th>\n",
       "      <th>Money_spent_little</th>\n",
       "      <th>Money_spent_lots</th>\n",
       "    </tr>\n",
       "  </thead>\n",
       "  <tbody>\n",
       "    <tr>\n",
       "      <th>0</th>\n",
       "      <td>1</td>\n",
       "      <td>0</td>\n",
       "      <td>1</td>\n",
       "      <td>0</td>\n",
       "      <td>1</td>\n",
       "      <td>0</td>\n",
       "      <td>0</td>\n",
       "      <td>1</td>\n",
       "    </tr>\n",
       "    <tr>\n",
       "      <th>1</th>\n",
       "      <td>1</td>\n",
       "      <td>0</td>\n",
       "      <td>0</td>\n",
       "      <td>1</td>\n",
       "      <td>0</td>\n",
       "      <td>1</td>\n",
       "      <td>1</td>\n",
       "      <td>0</td>\n",
       "    </tr>\n",
       "    <tr>\n",
       "      <th>2</th>\n",
       "      <td>0</td>\n",
       "      <td>1</td>\n",
       "      <td>0</td>\n",
       "      <td>1</td>\n",
       "      <td>1</td>\n",
       "      <td>0</td>\n",
       "      <td>0</td>\n",
       "      <td>1</td>\n",
       "    </tr>\n",
       "  </tbody>\n",
       "</table>\n",
       "</div>"
      ],
      "text/plain": [
       "   Looks_handsome  Looks_repulsive  Alcoholic_beverage_no  \\\n",
       "0               1                0                      1   \n",
       "1               1                0                      0   \n",
       "2               0                1                      0   \n",
       "\n",
       "   Alcoholic_beverage_yes  Eloquence_average  Eloquence_high  \\\n",
       "0                       0                  1               0   \n",
       "1                       1                  0               1   \n",
       "2                       1                  1               0   \n",
       "\n",
       "   Money_spent_little  Money_spent_lots  \n",
       "0                   0                 1  \n",
       "1                   1                 0  \n",
       "2                   0                 1  "
      ]
     },
     "execution_count": 5,
     "metadata": {},
     "output_type": "execute_result"
    }
   ],
   "source": [
    "df_test = {}\n",
    "df_test['Looks'] = ['handsome', 'handsome', 'repulsive'] \n",
    "df_test['Alcoholic_beverage'] = ['no', 'yes', 'yes']\n",
    "df_test['Eloquence'] = ['average', 'high', 'average']\n",
    "df_test['Money_spent'] = ['lots', 'little', 'lots']\n",
    "df_test = create_df(df_test, features)\n",
    "df_test"
   ]
  },
  {
   "cell_type": "code",
   "execution_count": 6,
   "metadata": {},
   "outputs": [
    {
     "data": {
      "text/html": [
       "<div>\n",
       "<style scoped>\n",
       "    .dataframe tbody tr th:only-of-type {\n",
       "        vertical-align: middle;\n",
       "    }\n",
       "\n",
       "    .dataframe tbody tr th {\n",
       "        vertical-align: top;\n",
       "    }\n",
       "\n",
       "    .dataframe thead th {\n",
       "        text-align: right;\n",
       "    }\n",
       "</style>\n",
       "<table border=\"1\" class=\"dataframe\">\n",
       "  <thead>\n",
       "    <tr style=\"text-align: right;\">\n",
       "      <th></th>\n",
<<<<<<< HEAD
       "      <th>Looks_handsome</th>\n",
       "      <th>Eloquence_high</th>\n",
       "      <th>Alcoholic_beverage_yes</th>\n",
       "      <th>Eloquence_average</th>\n",
       "      <th>Money_spent_little</th>\n",
       "      <th>Money_spent_lots</th>\n",
       "      <th>Looks_repulsive</th>\n",
=======
       "      <th>Eloquence_average</th>\n",
       "      <th>Eloquence_high</th>\n",
       "      <th>Money_spent_lots</th>\n",
       "      <th>Looks_handsome</th>\n",
       "      <th>Looks_repulsive</th>\n",
       "      <th>Money_spent_little</th>\n",
       "      <th>Alcoholic_beverage_yes</th>\n",
>>>>>>> b95a59a01fa2879014056c1bbf1585de10dacc6e
       "      <th>Alcoholic_beverage_no</th>\n",
       "    </tr>\n",
       "  </thead>\n",
       "  <tbody>\n",
       "    <tr>\n",
       "      <th>0</th>\n",
<<<<<<< HEAD
=======
       "      <td>0</td>\n",
>>>>>>> b95a59a01fa2879014056c1bbf1585de10dacc6e
       "      <td>1</td>\n",
       "      <td>1</td>\n",
       "      <td>1</td>\n",
       "      <td>0</td>\n",
       "      <td>0</td>\n",
       "      <td>1</td>\n",
       "      <td>0</td>\n",
<<<<<<< HEAD
       "      <td>0</td>\n",
       "    </tr>\n",
       "    <tr>\n",
       "      <th>1</th>\n",
       "      <td>1</td>\n",
       "      <td>0</td>\n",
       "      <td>1</td>\n",
       "      <td>0</td>\n",
       "      <td>1</td>\n",
       "      <td>0</td>\n",
       "      <td>0</td>\n",
=======
       "    </tr>\n",
       "    <tr>\n",
       "      <th>1</th>\n",
       "      <td>0</td>\n",
       "      <td>0</td>\n",
       "      <td>0</td>\n",
       "      <td>1</td>\n",
       "      <td>0</td>\n",
       "      <td>1</td>\n",
       "      <td>1</td>\n",
>>>>>>> b95a59a01fa2879014056c1bbf1585de10dacc6e
       "      <td>0</td>\n",
       "    </tr>\n",
       "    <tr>\n",
       "      <th>2</th>\n",
       "      <td>1</td>\n",
       "      <td>0</td>\n",
<<<<<<< HEAD
       "      <td>0</td>\n",
       "      <td>1</td>\n",
       "      <td>0</td>\n",
       "      <td>1</td>\n",
       "      <td>0</td>\n",
=======
       "      <td>1</td>\n",
       "      <td>1</td>\n",
       "      <td>0</td>\n",
       "      <td>0</td>\n",
       "      <td>0</td>\n",
>>>>>>> b95a59a01fa2879014056c1bbf1585de10dacc6e
       "      <td>1</td>\n",
       "    </tr>\n",
       "    <tr>\n",
       "      <th>3</th>\n",
<<<<<<< HEAD
=======
       "      <td>1</td>\n",
>>>>>>> b95a59a01fa2879014056c1bbf1585de10dacc6e
       "      <td>0</td>\n",
       "      <td>0</td>\n",
       "      <td>0</td>\n",
       "      <td>1</td>\n",
       "      <td>1</td>\n",
       "      <td>0</td>\n",
       "      <td>1</td>\n",
<<<<<<< HEAD
       "      <td>1</td>\n",
=======
>>>>>>> b95a59a01fa2879014056c1bbf1585de10dacc6e
       "    </tr>\n",
       "    <tr>\n",
       "      <th>4</th>\n",
       "      <td>0</td>\n",
       "      <td>0</td>\n",
       "      <td>1</td>\n",
       "      <td>0</td>\n",
<<<<<<< HEAD
       "      <td>0</td>\n",
       "      <td>1</td>\n",
=======
       "      <td>1</td>\n",
       "      <td>0</td>\n",
>>>>>>> b95a59a01fa2879014056c1bbf1585de10dacc6e
       "      <td>1</td>\n",
       "      <td>0</td>\n",
       "    </tr>\n",
       "    <tr>\n",
       "      <th>5</th>\n",
       "      <td>0</td>\n",
       "      <td>1</td>\n",
       "      <td>1</td>\n",
       "      <td>0</td>\n",
<<<<<<< HEAD
       "      <td>0</td>\n",
       "      <td>1</td>\n",
=======
       "      <td>1</td>\n",
       "      <td>0</td>\n",
>>>>>>> b95a59a01fa2879014056c1bbf1585de10dacc6e
       "      <td>1</td>\n",
       "      <td>0</td>\n",
       "    </tr>\n",
       "    <tr>\n",
       "      <th>6</th>\n",
       "      <td>1</td>\n",
       "      <td>0</td>\n",
       "      <td>1</td>\n",
       "      <td>1</td>\n",
       "      <td>0</td>\n",
<<<<<<< HEAD
       "      <td>1</td>\n",
       "      <td>0</td>\n",
=======
       "      <td>0</td>\n",
       "      <td>1</td>\n",
>>>>>>> b95a59a01fa2879014056c1bbf1585de10dacc6e
       "      <td>0</td>\n",
       "    </tr>\n",
       "  </tbody>\n",
       "</table>\n",
       "</div>"
      ],
      "text/plain": [
<<<<<<< HEAD
       "   Looks_handsome  Eloquence_high  Alcoholic_beverage_yes  Eloquence_average  \\\n",
       "0               1               1                       1                  0   \n",
       "1               1               0                       1                  0   \n",
       "2               1               0                       0                  1   \n",
       "3               0               0                       0                  1   \n",
       "4               0               0                       1                  0   \n",
       "5               0               1                       1                  0   \n",
       "6               1               0                       1                  1   \n",
       "\n",
       "   Money_spent_little  Money_spent_lots  Looks_repulsive  \\\n",
       "0                   0                 1                0   \n",
       "1                   1                 0                0   \n",
       "2                   0                 1                0   \n",
       "3                   1                 0                1   \n",
       "4                   0                 1                1   \n",
       "5                   0                 1                1   \n",
       "6                   0                 1                0   \n",
=======
       "   Eloquence_average  Eloquence_high  Money_spent_lots  Looks_handsome  \\\n",
       "0                  0               1                 1               1   \n",
       "1                  0               0                 0               1   \n",
       "2                  1               0                 1               1   \n",
       "3                  1               0                 0               0   \n",
       "4                  0               0                 1               0   \n",
       "5                  0               1                 1               0   \n",
       "6                  1               0                 1               1   \n",
       "\n",
       "   Looks_repulsive  Money_spent_little  Alcoholic_beverage_yes  \\\n",
       "0                0                   0                       1   \n",
       "1                0                   1                       1   \n",
       "2                0                   0                       0   \n",
       "3                1                   1                       0   \n",
       "4                1                   0                       1   \n",
       "5                1                   0                       1   \n",
       "6                0                   0                       1   \n",
>>>>>>> b95a59a01fa2879014056c1bbf1585de10dacc6e
       "\n",
       "   Alcoholic_beverage_no  \n",
       "0                      0  \n",
       "1                      0  \n",
       "2                      1  \n",
       "3                      1  \n",
       "4                      0  \n",
       "5                      0  \n",
       "6                      0  "
      ]
     },
     "execution_count": 6,
     "metadata": {},
     "output_type": "execute_result"
    }
   ],
   "source": [
    "# Some feature values are present in train and absent in test and vice-versa.\n",
    "y = df_train['Will_go']\n",
    "df_train, df_test = intersect_features(train=df_train, test=df_test)\n",
    "df_train"
   ]
  },
  {
   "cell_type": "code",
   "execution_count": 7,
   "metadata": {},
   "outputs": [
    {
     "data": {
      "text/html": [
       "<div>\n",
       "<style scoped>\n",
       "    .dataframe tbody tr th:only-of-type {\n",
       "        vertical-align: middle;\n",
       "    }\n",
       "\n",
       "    .dataframe tbody tr th {\n",
       "        vertical-align: top;\n",
       "    }\n",
       "\n",
       "    .dataframe thead th {\n",
       "        text-align: right;\n",
       "    }\n",
       "</style>\n",
       "<table border=\"1\" class=\"dataframe\">\n",
       "  <thead>\n",
       "    <tr style=\"text-align: right;\">\n",
       "      <th></th>\n",
<<<<<<< HEAD
       "      <th>Looks_handsome</th>\n",
       "      <th>Eloquence_high</th>\n",
       "      <th>Alcoholic_beverage_yes</th>\n",
       "      <th>Eloquence_average</th>\n",
       "      <th>Money_spent_little</th>\n",
       "      <th>Money_spent_lots</th>\n",
       "      <th>Looks_repulsive</th>\n",
=======
       "      <th>Eloquence_average</th>\n",
       "      <th>Eloquence_high</th>\n",
       "      <th>Money_spent_lots</th>\n",
       "      <th>Looks_handsome</th>\n",
       "      <th>Looks_repulsive</th>\n",
       "      <th>Money_spent_little</th>\n",
       "      <th>Alcoholic_beverage_yes</th>\n",
>>>>>>> b95a59a01fa2879014056c1bbf1585de10dacc6e
       "      <th>Alcoholic_beverage_no</th>\n",
       "    </tr>\n",
       "  </thead>\n",
       "  <tbody>\n",
       "    <tr>\n",
       "      <th>0</th>\n",
       "      <td>1</td>\n",
       "      <td>0</td>\n",
<<<<<<< HEAD
       "      <td>0</td>\n",
       "      <td>1</td>\n",
       "      <td>0</td>\n",
       "      <td>1</td>\n",
       "      <td>0</td>\n",
=======
       "      <td>1</td>\n",
       "      <td>1</td>\n",
       "      <td>0</td>\n",
       "      <td>0</td>\n",
       "      <td>0</td>\n",
>>>>>>> b95a59a01fa2879014056c1bbf1585de10dacc6e
       "      <td>1</td>\n",
       "    </tr>\n",
       "    <tr>\n",
       "      <th>1</th>\n",
<<<<<<< HEAD
       "      <td>1</td>\n",
       "      <td>1</td>\n",
       "      <td>1</td>\n",
       "      <td>0</td>\n",
       "      <td>1</td>\n",
       "      <td>0</td>\n",
       "      <td>0</td>\n",
=======
       "      <td>0</td>\n",
       "      <td>1</td>\n",
       "      <td>0</td>\n",
       "      <td>1</td>\n",
       "      <td>0</td>\n",
       "      <td>1</td>\n",
       "      <td>1</td>\n",
>>>>>>> b95a59a01fa2879014056c1bbf1585de10dacc6e
       "      <td>0</td>\n",
       "    </tr>\n",
       "    <tr>\n",
       "      <th>2</th>\n",
<<<<<<< HEAD
       "      <td>0</td>\n",
       "      <td>0</td>\n",
       "      <td>1</td>\n",
       "      <td>1</td>\n",
       "      <td>0</td>\n",
       "      <td>1</td>\n",
=======
       "      <td>1</td>\n",
       "      <td>0</td>\n",
       "      <td>1</td>\n",
       "      <td>0</td>\n",
       "      <td>1</td>\n",
       "      <td>0</td>\n",
>>>>>>> b95a59a01fa2879014056c1bbf1585de10dacc6e
       "      <td>1</td>\n",
       "      <td>0</td>\n",
       "    </tr>\n",
       "  </tbody>\n",
       "</table>\n",
       "</div>"
      ],
      "text/plain": [
<<<<<<< HEAD
       "   Looks_handsome  Eloquence_high  Alcoholic_beverage_yes  Eloquence_average  \\\n",
       "0               1               0                       0                  1   \n",
       "1               1               1                       1                  0   \n",
       "2               0               0                       1                  1   \n",
       "\n",
       "   Money_spent_little  Money_spent_lots  Looks_repulsive  \\\n",
       "0                   0                 1                0   \n",
       "1                   1                 0                0   \n",
       "2                   0                 1                1   \n",
=======
       "   Eloquence_average  Eloquence_high  Money_spent_lots  Looks_handsome  \\\n",
       "0                  1               0                 1               1   \n",
       "1                  0               1                 0               1   \n",
       "2                  1               0                 1               0   \n",
       "\n",
       "   Looks_repulsive  Money_spent_little  Alcoholic_beverage_yes  \\\n",
       "0                0                   0                       0   \n",
       "1                0                   1                       1   \n",
       "2                1                   0                       1   \n",
>>>>>>> b95a59a01fa2879014056c1bbf1585de10dacc6e
       "\n",
       "   Alcoholic_beverage_no  \n",
       "0                      1  \n",
       "1                      0  \n",
       "2                      0  "
      ]
     },
     "execution_count": 7,
     "metadata": {},
     "output_type": "execute_result"
    }
   ],
   "source": [
    "df_test"
   ]
  },
  {
   "cell_type": "markdown",
   "metadata": {},
   "source": [
    "#### Draw a decision tree (by hand or in any graphics editor) for this dataset. Optionally you can also implement tree construction and draw it here."
   ]
  },
  {
   "cell_type": "markdown",
   "metadata": {},
   "source": [
    "1\\. What is the entropy $S_0$ of the initial system? By system states, we mean values of the binary feature \"Will_go\" - 0 or 1 - two states in total."
   ]
  },
  {
<<<<<<< HEAD
=======
   "cell_type": "code",
   "execution_count": 8,
   "metadata": {},
   "outputs": [],
   "source": [
    "# you code here"
   ]
  },
  {
>>>>>>> b95a59a01fa2879014056c1bbf1585de10dacc6e
   "cell_type": "markdown",
   "metadata": {},
   "source": [
    "2\\. Let's split the data by the feature \"Looks_handsome\". What is the entropy $S_1$ of the left group - the one with \"Looks_handsome\". What is the entropy $S_2$ in the opposite group? What is the information gain (IG) if we consider such a split?"
   ]
  },
  {
   "cell_type": "code",
<<<<<<< HEAD
   "execution_count": 8,
=======
   "execution_count": 9,
>>>>>>> b95a59a01fa2879014056c1bbf1585de10dacc6e
   "metadata": {},
   "outputs": [],
   "source": [
    "# you code here"
   ]
  },
  {
   "cell_type": "markdown",
   "metadata": {},
   "source": [
    "#### Train a decision tree using sklearn on the training data. You may choose any depth for the tree."
   ]
  },
  {
   "cell_type": "code",
<<<<<<< HEAD
   "execution_count": 9,
=======
   "execution_count": 10,
>>>>>>> b95a59a01fa2879014056c1bbf1585de10dacc6e
   "metadata": {},
   "outputs": [],
   "source": [
    "# you code here"
   ]
  },
  {
   "cell_type": "markdown",
   "metadata": {},
   "source": [
    "#### Additional: display the resulting tree using graphviz. You can use pydot or [web-service](https://www.coolutils.com/ru/online/DOT-to-PNG) dot2png."
   ]
  },
  {
   "cell_type": "code",
<<<<<<< HEAD
   "execution_count": 10,
=======
   "execution_count": 11,
>>>>>>> b95a59a01fa2879014056c1bbf1585de10dacc6e
   "metadata": {},
   "outputs": [],
   "source": [
    "# you code here"
   ]
  },
  {
   "cell_type": "markdown",
   "metadata": {},
   "source": [
    "### Part 2. Functions for calculating entropy and information gain."
   ]
  },
  {
   "cell_type": "markdown",
   "metadata": {},
   "source": [
    "Consider the following warm-up example: we have 9 blue balls and 11 yellow balls. Let ball have label **1** if it is blue, **0** otherwise."
   ]
  },
  {
   "cell_type": "code",
<<<<<<< HEAD
   "execution_count": 11,
=======
   "execution_count": 12,
>>>>>>> b95a59a01fa2879014056c1bbf1585de10dacc6e
   "metadata": {},
   "outputs": [],
   "source": [
    "balls = [1 for i in range(9)] + [0 for i in range(11)]"
   ]
  },
  {
   "cell_type": "markdown",
   "metadata": {},
   "source": [
    "<img src = '../../img/decision_tree3.png'>"
   ]
  },
  {
   "cell_type": "markdown",
   "metadata": {},
   "source": [
    "Next split the balls into two groups:"
   ]
  },
  {
   "cell_type": "markdown",
   "metadata": {},
   "source": [
    "<img src = '../../img/decision_tree4.png'>"
   ]
  },
  {
   "cell_type": "code",
<<<<<<< HEAD
   "execution_count": 12,
=======
   "execution_count": 13,
>>>>>>> b95a59a01fa2879014056c1bbf1585de10dacc6e
   "metadata": {},
   "outputs": [],
   "source": [
    "# two groups\n",
    "balls_left  = [1 for i in range(8)] + [0 for i in range(5)] # 8 blue and 5 yellow\n",
    "balls_right = [1 for i in range(1)] + [0 for i in range(6)] # 1 blue and 6 yellow"
   ]
  },
  {
   "cell_type": "markdown",
   "metadata": {},
   "source": [
    "#### Implement a function to calculate the Shannon Entropy"
   ]
  },
  {
   "cell_type": "code",
<<<<<<< HEAD
   "execution_count": 13,
=======
   "execution_count": 14,
>>>>>>> b95a59a01fa2879014056c1bbf1585de10dacc6e
   "metadata": {},
   "outputs": [],
   "source": [
    "def entropy(a_list):\n",
    "    # you code here\n",
    "    pass"
   ]
  },
  {
   "cell_type": "markdown",
   "metadata": {},
   "source": [
    "Tests"
   ]
  },
  {
   "cell_type": "code",
<<<<<<< HEAD
   "execution_count": 14,
=======
   "execution_count": 15,
>>>>>>> b95a59a01fa2879014056c1bbf1585de10dacc6e
   "metadata": {},
   "outputs": [
    {
     "name": "stdout",
     "output_type": "stream",
     "text": [
      "None\n",
      "None\n",
      "None\n",
      "None\n"
     ]
    }
   ],
   "source": [
<<<<<<< HEAD
    "print(entropy(balls)) # 9 blue and 11 yellow\n",
    "print(entropy(balls_left)) # 8 blue and 5 yellow\n",
    "print(entropy(balls_right)) # 1 blue and 6 yellow\n",
    "print(entropy([1,2,3,4,5,6])) # entropy of a fair 6-sided dice"
=======
    "print(entropy(balls)) # 9 blue и 11 yellow\n",
    "print(entropy(balls_left)) # 8 blue и 5 yellow\n",
    "print(entropy(balls_right)) # 1 blue и 6 yellow\n",
    "print(entropy([1,2,3,4,5,6])) # entropy of a fair 6-sided die"
>>>>>>> b95a59a01fa2879014056c1bbf1585de10dacc6e
   ]
  },
  {
   "cell_type": "markdown",
   "metadata": {},
   "source": [
    "3\\. What is the entropy of the state given by the list **balls_left**?"
   ]
  },
  {
   "cell_type": "markdown",
   "metadata": {},
   "source": [
    "4\\. What is the entropy of a fair dice? (where we look at a dice as a system with 6 equally probable states)?"
   ]
  },
  {
   "cell_type": "code",
<<<<<<< HEAD
   "execution_count": 15,
=======
   "execution_count": 16,
>>>>>>> b95a59a01fa2879014056c1bbf1585de10dacc6e
   "metadata": {},
   "outputs": [],
   "source": [
    "# information gain calculation\n",
    "def information_gain(root, left, right):\n",
    "    ''' root - initial data, left and right - two partitions of initial data'''\n",
    "    \n",
    "    # you code here\n",
    "    pass"
   ]
  },
  {
   "cell_type": "markdown",
   "metadata": {},
   "source": [
    "5\\. What is the information gain from splitting the initial dataset into **balls_left** and **balls_right** ?"
   ]
  },
  {
   "cell_type": "code",
<<<<<<< HEAD
   "execution_count": 16,
   "metadata": {},
   "outputs": [],
   "source": [
    "# you code here"
   ]
  },
  {
   "cell_type": "code",
=======
>>>>>>> b95a59a01fa2879014056c1bbf1585de10dacc6e
   "execution_count": 17,
   "metadata": {},
   "outputs": [],
   "source": [
    "def best_feature_to_split(X, y):\n",
    "    '''Outputs information gain when splitting on best feature'''\n",
    "    \n",
    "    # you code here\n",
    "    pass"
   ]
  },
  {
   "cell_type": "markdown",
   "metadata": {},
   "source": [
    "#### Optional:\n",
    "- Implement a decision tree building algorithm by calling **best_feature_to_split** recursively\n",
    "- Plot the resulting tree"
   ]
  },
  {
   "cell_type": "markdown",
   "metadata": {},
   "source": [
    "### Part 3. The \"Adult\" dataset"
   ]
  },
  {
   "cell_type": "markdown",
   "metadata": {},
   "source": [
    "#### Dataset description:"
   ]
  },
  {
   "cell_type": "markdown",
   "metadata": {},
   "source": [
    "[Dataset](http://archive.ics.uci.edu/ml/machine-learning-databases/adult) UCI Adult (no need to download it, we have a copy in the course repository): classify people using demographical data - whether they earn more than \\$50,000 per year or not."
   ]
  },
  {
   "cell_type": "markdown",
   "metadata": {},
   "source": [
    "Feature descriptions:"
   ]
  },
  {
   "cell_type": "markdown",
   "metadata": {},
   "source": [
    "- **Age** – continuous feature\n",
    "- **Workclass** –  continuous feature\n",
    "- **fnlwgt** – final weight of object, continuous feature\n",
    "- **Education** –  categorical feature\n",
    "- **Education_Num** – number of years of education, continuous feature\n",
    "- **Martial_Status** –  categorical feature\n",
    "- **Occupation** –  categorical feature\n",
    "- **Relationship** – categorical feature\n",
    "- **Race** – categorical feature\n",
    "- **Sex** – categorical feature\n",
    "- **Capital_Gain** – continuous feature\n",
    "- **Capital_Loss** – continuous feature\n",
    "- **Hours_per_week** – continuous feature\n",
    "- **Country** – categorical feature"
   ]
  },
  {
   "cell_type": "markdown",
   "metadata": {},
   "source": [
    "**Target** – earnings level, categorical (binary) feature."
   ]
  },
  {
   "cell_type": "markdown",
   "metadata": {},
   "source": [
    "#### Reading train and test data"
   ]
  },
  {
   "cell_type": "code",
   "execution_count": 18,
   "metadata": {},
   "outputs": [],
   "source": [
    "data_train = pd.read_csv('../../data/adult_train.csv', sep=';')"
   ]
  },
  {
   "cell_type": "code",
   "execution_count": 19,
   "metadata": {},
   "outputs": [
    {
     "data": {
      "text/html": [
       "<div>\n",
       "<style scoped>\n",
       "    .dataframe tbody tr th:only-of-type {\n",
       "        vertical-align: middle;\n",
       "    }\n",
       "\n",
       "    .dataframe tbody tr th {\n",
       "        vertical-align: top;\n",
       "    }\n",
       "\n",
       "    .dataframe thead th {\n",
       "        text-align: right;\n",
       "    }\n",
       "</style>\n",
       "<table border=\"1\" class=\"dataframe\">\n",
       "  <thead>\n",
       "    <tr style=\"text-align: right;\">\n",
       "      <th></th>\n",
       "      <th>Age</th>\n",
       "      <th>Workclass</th>\n",
       "      <th>fnlwgt</th>\n",
       "      <th>Education</th>\n",
       "      <th>Education_Num</th>\n",
       "      <th>Martial_Status</th>\n",
       "      <th>Occupation</th>\n",
       "      <th>Relationship</th>\n",
       "      <th>Race</th>\n",
       "      <th>Sex</th>\n",
       "      <th>Capital_Gain</th>\n",
       "      <th>Capital_Loss</th>\n",
       "      <th>Hours_per_week</th>\n",
       "      <th>Country</th>\n",
       "      <th>Target</th>\n",
       "    </tr>\n",
       "  </thead>\n",
       "  <tbody>\n",
       "    <tr>\n",
       "      <th>32556</th>\n",
       "      <td>27</td>\n",
       "      <td>Private</td>\n",
       "      <td>257302</td>\n",
       "      <td>Assoc-acdm</td>\n",
       "      <td>12</td>\n",
       "      <td>Married-civ-spouse</td>\n",
       "      <td>Tech-support</td>\n",
       "      <td>Wife</td>\n",
       "      <td>White</td>\n",
       "      <td>Female</td>\n",
       "      <td>0</td>\n",
       "      <td>0</td>\n",
       "      <td>38</td>\n",
       "      <td>United-States</td>\n",
       "      <td>&lt;=50K</td>\n",
       "    </tr>\n",
       "    <tr>\n",
       "      <th>32557</th>\n",
       "      <td>40</td>\n",
       "      <td>Private</td>\n",
       "      <td>154374</td>\n",
       "      <td>HS-grad</td>\n",
       "      <td>9</td>\n",
       "      <td>Married-civ-spouse</td>\n",
       "      <td>Machine-op-inspct</td>\n",
       "      <td>Husband</td>\n",
       "      <td>White</td>\n",
       "      <td>Male</td>\n",
       "      <td>0</td>\n",
       "      <td>0</td>\n",
       "      <td>40</td>\n",
       "      <td>United-States</td>\n",
       "      <td>&gt;50K</td>\n",
       "    </tr>\n",
       "    <tr>\n",
       "      <th>32558</th>\n",
       "      <td>58</td>\n",
       "      <td>Private</td>\n",
       "      <td>151910</td>\n",
       "      <td>HS-grad</td>\n",
       "      <td>9</td>\n",
       "      <td>Widowed</td>\n",
       "      <td>Adm-clerical</td>\n",
       "      <td>Unmarried</td>\n",
       "      <td>White</td>\n",
       "      <td>Female</td>\n",
       "      <td>0</td>\n",
       "      <td>0</td>\n",
       "      <td>40</td>\n",
       "      <td>United-States</td>\n",
       "      <td>&lt;=50K</td>\n",
       "    </tr>\n",
       "    <tr>\n",
       "      <th>32559</th>\n",
       "      <td>22</td>\n",
       "      <td>Private</td>\n",
       "      <td>201490</td>\n",
       "      <td>HS-grad</td>\n",
       "      <td>9</td>\n",
       "      <td>Never-married</td>\n",
       "      <td>Adm-clerical</td>\n",
       "      <td>Own-child</td>\n",
       "      <td>White</td>\n",
       "      <td>Male</td>\n",
       "      <td>0</td>\n",
       "      <td>0</td>\n",
       "      <td>20</td>\n",
       "      <td>United-States</td>\n",
       "      <td>&lt;=50K</td>\n",
       "    </tr>\n",
       "    <tr>\n",
       "      <th>32560</th>\n",
       "      <td>52</td>\n",
       "      <td>Self-emp-inc</td>\n",
       "      <td>287927</td>\n",
       "      <td>HS-grad</td>\n",
       "      <td>9</td>\n",
       "      <td>Married-civ-spouse</td>\n",
       "      <td>Exec-managerial</td>\n",
       "      <td>Wife</td>\n",
       "      <td>White</td>\n",
       "      <td>Female</td>\n",
       "      <td>15024</td>\n",
       "      <td>0</td>\n",
       "      <td>40</td>\n",
       "      <td>United-States</td>\n",
       "      <td>&gt;50K</td>\n",
       "    </tr>\n",
       "  </tbody>\n",
       "</table>\n",
       "</div>"
      ],
      "text/plain": [
       "       Age      Workclass  fnlwgt    Education  Education_Num  \\\n",
       "32556   27        Private  257302   Assoc-acdm             12   \n",
       "32557   40        Private  154374      HS-grad              9   \n",
       "32558   58        Private  151910      HS-grad              9   \n",
       "32559   22        Private  201490      HS-grad              9   \n",
       "32560   52   Self-emp-inc  287927      HS-grad              9   \n",
       "\n",
       "            Martial_Status          Occupation Relationship    Race      Sex  \\\n",
       "32556   Married-civ-spouse        Tech-support         Wife   White   Female   \n",
       "32557   Married-civ-spouse   Machine-op-inspct      Husband   White     Male   \n",
       "32558              Widowed        Adm-clerical    Unmarried   White   Female   \n",
       "32559        Never-married        Adm-clerical    Own-child   White     Male   \n",
       "32560   Married-civ-spouse     Exec-managerial         Wife   White   Female   \n",
       "\n",
       "       Capital_Gain  Capital_Loss  Hours_per_week         Country  Target  \n",
       "32556             0             0              38   United-States   <=50K  \n",
       "32557             0             0              40   United-States    >50K  \n",
       "32558             0             0              40   United-States   <=50K  \n",
       "32559             0             0              20   United-States   <=50K  \n",
       "32560         15024             0              40   United-States    >50K  "
      ]
     },
     "execution_count": 19,
     "metadata": {},
     "output_type": "execute_result"
    }
   ],
   "source": [
    "data_train.tail()"
   ]
  },
  {
   "cell_type": "code",
   "execution_count": 20,
   "metadata": {},
   "outputs": [],
   "source": [
    "data_test = pd.read_csv('../../data/adult_test.csv', sep=';')"
   ]
  },
  {
   "cell_type": "code",
   "execution_count": 21,
   "metadata": {},
   "outputs": [
    {
     "data": {
      "text/html": [
       "<div>\n",
       "<style scoped>\n",
       "    .dataframe tbody tr th:only-of-type {\n",
       "        vertical-align: middle;\n",
       "    }\n",
       "\n",
       "    .dataframe tbody tr th {\n",
       "        vertical-align: top;\n",
       "    }\n",
       "\n",
       "    .dataframe thead th {\n",
       "        text-align: right;\n",
       "    }\n",
       "</style>\n",
       "<table border=\"1\" class=\"dataframe\">\n",
       "  <thead>\n",
       "    <tr style=\"text-align: right;\">\n",
       "      <th></th>\n",
       "      <th>Age</th>\n",
       "      <th>Workclass</th>\n",
       "      <th>fnlwgt</th>\n",
       "      <th>Education</th>\n",
       "      <th>Education_Num</th>\n",
       "      <th>Martial_Status</th>\n",
       "      <th>Occupation</th>\n",
       "      <th>Relationship</th>\n",
       "      <th>Race</th>\n",
       "      <th>Sex</th>\n",
       "      <th>Capital_Gain</th>\n",
       "      <th>Capital_Loss</th>\n",
       "      <th>Hours_per_week</th>\n",
       "      <th>Country</th>\n",
       "      <th>Target</th>\n",
       "    </tr>\n",
       "  </thead>\n",
       "  <tbody>\n",
       "    <tr>\n",
       "      <th>16277</th>\n",
       "      <td>39</td>\n",
       "      <td>Private</td>\n",
       "      <td>215419.0</td>\n",
       "      <td>Bachelors</td>\n",
       "      <td>13.0</td>\n",
       "      <td>Divorced</td>\n",
       "      <td>Prof-specialty</td>\n",
       "      <td>Not-in-family</td>\n",
       "      <td>White</td>\n",
       "      <td>Female</td>\n",
       "      <td>0.0</td>\n",
       "      <td>0.0</td>\n",
       "      <td>36.0</td>\n",
       "      <td>United-States</td>\n",
       "      <td>&lt;=50K.</td>\n",
       "    </tr>\n",
       "    <tr>\n",
       "      <th>16278</th>\n",
       "      <td>64</td>\n",
       "      <td>NaN</td>\n",
       "      <td>321403.0</td>\n",
       "      <td>HS-grad</td>\n",
       "      <td>9.0</td>\n",
       "      <td>Widowed</td>\n",
       "      <td>NaN</td>\n",
       "      <td>Other-relative</td>\n",
       "      <td>Black</td>\n",
       "      <td>Male</td>\n",
       "      <td>0.0</td>\n",
       "      <td>0.0</td>\n",
       "      <td>40.0</td>\n",
       "      <td>United-States</td>\n",
       "      <td>&lt;=50K.</td>\n",
       "    </tr>\n",
       "    <tr>\n",
       "      <th>16279</th>\n",
       "      <td>38</td>\n",
       "      <td>Private</td>\n",
       "      <td>374983.0</td>\n",
       "      <td>Bachelors</td>\n",
       "      <td>13.0</td>\n",
       "      <td>Married-civ-spouse</td>\n",
       "      <td>Prof-specialty</td>\n",
       "      <td>Husband</td>\n",
       "      <td>White</td>\n",
       "      <td>Male</td>\n",
       "      <td>0.0</td>\n",
       "      <td>0.0</td>\n",
       "      <td>50.0</td>\n",
       "      <td>United-States</td>\n",
       "      <td>&lt;=50K.</td>\n",
       "    </tr>\n",
       "    <tr>\n",
       "      <th>16280</th>\n",
       "      <td>44</td>\n",
       "      <td>Private</td>\n",
       "      <td>83891.0</td>\n",
       "      <td>Bachelors</td>\n",
       "      <td>13.0</td>\n",
       "      <td>Divorced</td>\n",
       "      <td>Adm-clerical</td>\n",
       "      <td>Own-child</td>\n",
       "      <td>Asian-Pac-Islander</td>\n",
       "      <td>Male</td>\n",
       "      <td>5455.0</td>\n",
       "      <td>0.0</td>\n",
       "      <td>40.0</td>\n",
       "      <td>United-States</td>\n",
       "      <td>&lt;=50K.</td>\n",
       "    </tr>\n",
       "    <tr>\n",
       "      <th>16281</th>\n",
       "      <td>35</td>\n",
       "      <td>Self-emp-inc</td>\n",
       "      <td>182148.0</td>\n",
       "      <td>Bachelors</td>\n",
       "      <td>13.0</td>\n",
       "      <td>Married-civ-spouse</td>\n",
       "      <td>Exec-managerial</td>\n",
       "      <td>Husband</td>\n",
       "      <td>White</td>\n",
       "      <td>Male</td>\n",
       "      <td>0.0</td>\n",
       "      <td>0.0</td>\n",
       "      <td>60.0</td>\n",
       "      <td>United-States</td>\n",
       "      <td>&gt;50K.</td>\n",
       "    </tr>\n",
       "  </tbody>\n",
       "</table>\n",
       "</div>"
      ],
      "text/plain": [
       "      Age      Workclass    fnlwgt   Education  Education_Num  \\\n",
       "16277  39        Private  215419.0   Bachelors           13.0   \n",
       "16278  64            NaN  321403.0     HS-grad            9.0   \n",
       "16279  38        Private  374983.0   Bachelors           13.0   \n",
       "16280  44        Private   83891.0   Bachelors           13.0   \n",
       "16281  35   Self-emp-inc  182148.0   Bachelors           13.0   \n",
       "\n",
       "            Martial_Status        Occupation     Relationship  \\\n",
       "16277             Divorced    Prof-specialty    Not-in-family   \n",
       "16278              Widowed               NaN   Other-relative   \n",
       "16279   Married-civ-spouse    Prof-specialty          Husband   \n",
       "16280             Divorced      Adm-clerical        Own-child   \n",
       "16281   Married-civ-spouse   Exec-managerial          Husband   \n",
       "\n",
       "                      Race      Sex  Capital_Gain  Capital_Loss  \\\n",
       "16277                White   Female           0.0           0.0   \n",
       "16278                Black     Male           0.0           0.0   \n",
       "16279                White     Male           0.0           0.0   \n",
       "16280   Asian-Pac-Islander     Male        5455.0           0.0   \n",
       "16281                White     Male           0.0           0.0   \n",
       "\n",
       "       Hours_per_week         Country   Target  \n",
       "16277            36.0   United-States   <=50K.  \n",
       "16278            40.0   United-States   <=50K.  \n",
       "16279            50.0   United-States   <=50K.  \n",
       "16280            40.0   United-States   <=50K.  \n",
       "16281            60.0   United-States    >50K.  "
      ]
     },
     "execution_count": 21,
     "metadata": {},
     "output_type": "execute_result"
    }
   ],
   "source": [
    "data_test.tail()"
   ]
  },
  {
   "cell_type": "code",
   "execution_count": 22,
   "metadata": {},
   "outputs": [],
   "source": [
    "# necessary to remove rows with incorrect labels in test dataset\n",
    "data_test = data_test[(data_test['Target'] == ' >50K.') | (data_test['Target']==' <=50K.')]\n",
    "\n",
    "# encode target variable as integer\n",
    "data_train.loc[data_train['Target']==' <=50K', 'Target'] = 0\n",
    "data_train.loc[data_train['Target']==' >50K', 'Target'] = 1\n",
    "\n",
    "data_test.loc[data_test['Target']==' <=50K.', 'Target'] = 0\n",
    "data_test.loc[data_test['Target']==' >50K.', 'Target'] = 1"
   ]
  },
  {
   "cell_type": "markdown",
   "metadata": {},
   "source": [
    "#### Primary data analysis"
   ]
  },
  {
   "cell_type": "code",
   "execution_count": 23,
   "metadata": {},
   "outputs": [
    {
     "data": {
      "text/html": [
       "<div>\n",
       "<style scoped>\n",
       "    .dataframe tbody tr th:only-of-type {\n",
       "        vertical-align: middle;\n",
       "    }\n",
       "\n",
       "    .dataframe tbody tr th {\n",
       "        vertical-align: top;\n",
       "    }\n",
       "\n",
       "    .dataframe thead th {\n",
       "        text-align: right;\n",
       "    }\n",
       "</style>\n",
       "<table border=\"1\" class=\"dataframe\">\n",
       "  <thead>\n",
       "    <tr style=\"text-align: right;\">\n",
       "      <th></th>\n",
       "      <th>count</th>\n",
       "      <th>unique</th>\n",
       "      <th>top</th>\n",
       "      <th>freq</th>\n",
       "      <th>mean</th>\n",
       "      <th>std</th>\n",
       "      <th>min</th>\n",
       "      <th>25%</th>\n",
       "      <th>50%</th>\n",
       "      <th>75%</th>\n",
       "      <th>max</th>\n",
       "    </tr>\n",
       "  </thead>\n",
       "  <tbody>\n",
       "    <tr>\n",
       "      <th>Age</th>\n",
       "      <td>16281</td>\n",
       "      <td>73</td>\n",
       "      <td>35</td>\n",
       "      <td>461</td>\n",
       "      <td>NaN</td>\n",
       "      <td>NaN</td>\n",
       "      <td>NaN</td>\n",
       "      <td>NaN</td>\n",
       "      <td>NaN</td>\n",
       "      <td>NaN</td>\n",
       "      <td>NaN</td>\n",
       "    </tr>\n",
       "    <tr>\n",
       "      <th>Workclass</th>\n",
       "      <td>15318</td>\n",
       "      <td>8</td>\n",
       "      <td>Private</td>\n",
       "      <td>11210</td>\n",
       "      <td>NaN</td>\n",
       "      <td>NaN</td>\n",
       "      <td>NaN</td>\n",
       "      <td>NaN</td>\n",
       "      <td>NaN</td>\n",
       "      <td>NaN</td>\n",
       "      <td>NaN</td>\n",
       "    </tr>\n",
       "    <tr>\n",
       "      <th>fnlwgt</th>\n",
       "      <td>16281</td>\n",
       "      <td>NaN</td>\n",
       "      <td>NaN</td>\n",
       "      <td>NaN</td>\n",
       "      <td>189436</td>\n",
       "      <td>105715</td>\n",
       "      <td>13492</td>\n",
       "      <td>116736</td>\n",
       "      <td>177831</td>\n",
       "      <td>238384</td>\n",
       "      <td>1.4904e+06</td>\n",
       "    </tr>\n",
       "    <tr>\n",
       "      <th>Education</th>\n",
       "      <td>16281</td>\n",
       "      <td>16</td>\n",
       "      <td>HS-grad</td>\n",
       "      <td>5283</td>\n",
       "      <td>NaN</td>\n",
       "      <td>NaN</td>\n",
       "      <td>NaN</td>\n",
       "      <td>NaN</td>\n",
       "      <td>NaN</td>\n",
       "      <td>NaN</td>\n",
       "      <td>NaN</td>\n",
       "    </tr>\n",
       "    <tr>\n",
       "      <th>Education_Num</th>\n",
       "      <td>16281</td>\n",
       "      <td>NaN</td>\n",
       "      <td>NaN</td>\n",
       "      <td>NaN</td>\n",
       "      <td>10.0729</td>\n",
       "      <td>2.56755</td>\n",
       "      <td>1</td>\n",
       "      <td>9</td>\n",
       "      <td>10</td>\n",
       "      <td>12</td>\n",
       "      <td>16</td>\n",
       "    </tr>\n",
       "    <tr>\n",
       "      <th>Martial_Status</th>\n",
       "      <td>16281</td>\n",
       "      <td>7</td>\n",
       "      <td>Married-civ-spouse</td>\n",
       "      <td>7403</td>\n",
       "      <td>NaN</td>\n",
       "      <td>NaN</td>\n",
       "      <td>NaN</td>\n",
       "      <td>NaN</td>\n",
       "      <td>NaN</td>\n",
       "      <td>NaN</td>\n",
       "      <td>NaN</td>\n",
       "    </tr>\n",
       "    <tr>\n",
       "      <th>Occupation</th>\n",
       "      <td>15315</td>\n",
       "      <td>14</td>\n",
       "      <td>Prof-specialty</td>\n",
       "      <td>2032</td>\n",
       "      <td>NaN</td>\n",
       "      <td>NaN</td>\n",
       "      <td>NaN</td>\n",
       "      <td>NaN</td>\n",
       "      <td>NaN</td>\n",
       "      <td>NaN</td>\n",
       "      <td>NaN</td>\n",
       "    </tr>\n",
       "    <tr>\n",
       "      <th>Relationship</th>\n",
       "      <td>16281</td>\n",
       "      <td>6</td>\n",
       "      <td>Husband</td>\n",
       "      <td>6523</td>\n",
       "      <td>NaN</td>\n",
       "      <td>NaN</td>\n",
       "      <td>NaN</td>\n",
       "      <td>NaN</td>\n",
       "      <td>NaN</td>\n",
       "      <td>NaN</td>\n",
       "      <td>NaN</td>\n",
       "    </tr>\n",
       "    <tr>\n",
       "      <th>Race</th>\n",
       "      <td>16281</td>\n",
       "      <td>5</td>\n",
       "      <td>White</td>\n",
       "      <td>13946</td>\n",
       "      <td>NaN</td>\n",
       "      <td>NaN</td>\n",
       "      <td>NaN</td>\n",
       "      <td>NaN</td>\n",
       "      <td>NaN</td>\n",
       "      <td>NaN</td>\n",
       "      <td>NaN</td>\n",
       "    </tr>\n",
       "    <tr>\n",
       "      <th>Sex</th>\n",
       "      <td>16281</td>\n",
       "      <td>2</td>\n",
       "      <td>Male</td>\n",
       "      <td>10860</td>\n",
       "      <td>NaN</td>\n",
       "      <td>NaN</td>\n",
       "      <td>NaN</td>\n",
       "      <td>NaN</td>\n",
       "      <td>NaN</td>\n",
       "      <td>NaN</td>\n",
       "      <td>NaN</td>\n",
       "    </tr>\n",
       "    <tr>\n",
       "      <th>Capital_Gain</th>\n",
       "      <td>16281</td>\n",
       "      <td>NaN</td>\n",
       "      <td>NaN</td>\n",
       "      <td>NaN</td>\n",
       "      <td>1081.91</td>\n",
       "      <td>7583.94</td>\n",
       "      <td>0</td>\n",
       "      <td>0</td>\n",
       "      <td>0</td>\n",
       "      <td>0</td>\n",
       "      <td>99999</td>\n",
       "    </tr>\n",
       "    <tr>\n",
       "      <th>Capital_Loss</th>\n",
       "      <td>16281</td>\n",
       "      <td>NaN</td>\n",
       "      <td>NaN</td>\n",
       "      <td>NaN</td>\n",
       "      <td>87.8993</td>\n",
       "      <td>403.105</td>\n",
       "      <td>0</td>\n",
       "      <td>0</td>\n",
       "      <td>0</td>\n",
       "      <td>0</td>\n",
       "      <td>3770</td>\n",
       "    </tr>\n",
       "    <tr>\n",
       "      <th>Hours_per_week</th>\n",
       "      <td>16281</td>\n",
       "      <td>NaN</td>\n",
       "      <td>NaN</td>\n",
       "      <td>NaN</td>\n",
       "      <td>40.3922</td>\n",
       "      <td>12.4793</td>\n",
       "      <td>1</td>\n",
       "      <td>40</td>\n",
       "      <td>40</td>\n",
       "      <td>45</td>\n",
       "      <td>99</td>\n",
       "    </tr>\n",
       "    <tr>\n",
       "      <th>Country</th>\n",
       "      <td>16007</td>\n",
       "      <td>40</td>\n",
       "      <td>United-States</td>\n",
       "      <td>14662</td>\n",
       "      <td>NaN</td>\n",
       "      <td>NaN</td>\n",
       "      <td>NaN</td>\n",
       "      <td>NaN</td>\n",
       "      <td>NaN</td>\n",
       "      <td>NaN</td>\n",
       "      <td>NaN</td>\n",
       "    </tr>\n",
       "    <tr>\n",
       "      <th>Target</th>\n",
       "      <td>16281</td>\n",
       "      <td>NaN</td>\n",
       "      <td>NaN</td>\n",
       "      <td>NaN</td>\n",
       "      <td>0.236226</td>\n",
       "      <td>0.424776</td>\n",
       "      <td>0</td>\n",
       "      <td>0</td>\n",
       "      <td>0</td>\n",
       "      <td>0</td>\n",
       "      <td>1</td>\n",
       "    </tr>\n",
       "  </tbody>\n",
       "</table>\n",
       "</div>"
      ],
      "text/plain": [
       "                count unique                  top   freq      mean       std  \\\n",
       "Age             16281     73                   35    461       NaN       NaN   \n",
       "Workclass       15318      8              Private  11210       NaN       NaN   \n",
       "fnlwgt          16281    NaN                  NaN    NaN    189436    105715   \n",
       "Education       16281     16              HS-grad   5283       NaN       NaN   \n",
       "Education_Num   16281    NaN                  NaN    NaN   10.0729   2.56755   \n",
       "Martial_Status  16281      7   Married-civ-spouse   7403       NaN       NaN   \n",
       "Occupation      15315     14       Prof-specialty   2032       NaN       NaN   \n",
       "Relationship    16281      6              Husband   6523       NaN       NaN   \n",
       "Race            16281      5                White  13946       NaN       NaN   \n",
       "Sex             16281      2                 Male  10860       NaN       NaN   \n",
       "Capital_Gain    16281    NaN                  NaN    NaN   1081.91   7583.94   \n",
       "Capital_Loss    16281    NaN                  NaN    NaN   87.8993   403.105   \n",
       "Hours_per_week  16281    NaN                  NaN    NaN   40.3922   12.4793   \n",
       "Country         16007     40        United-States  14662       NaN       NaN   \n",
       "Target          16281    NaN                  NaN    NaN  0.236226  0.424776   \n",
       "\n",
       "                  min     25%     50%     75%         max  \n",
       "Age               NaN     NaN     NaN     NaN         NaN  \n",
       "Workclass         NaN     NaN     NaN     NaN         NaN  \n",
       "fnlwgt          13492  116736  177831  238384  1.4904e+06  \n",
       "Education         NaN     NaN     NaN     NaN         NaN  \n",
       "Education_Num       1       9      10      12          16  \n",
       "Martial_Status    NaN     NaN     NaN     NaN         NaN  \n",
       "Occupation        NaN     NaN     NaN     NaN         NaN  \n",
       "Relationship      NaN     NaN     NaN     NaN         NaN  \n",
       "Race              NaN     NaN     NaN     NaN         NaN  \n",
       "Sex               NaN     NaN     NaN     NaN         NaN  \n",
       "Capital_Gain        0       0       0       0       99999  \n",
       "Capital_Loss        0       0       0       0        3770  \n",
       "Hours_per_week      1      40      40      45          99  \n",
       "Country           NaN     NaN     NaN     NaN         NaN  \n",
       "Target              0       0       0       0           1  "
      ]
     },
     "execution_count": 23,
     "metadata": {},
     "output_type": "execute_result"
    }
   ],
   "source": [
    "data_test.describe(include='all').T"
   ]
  },
  {
   "cell_type": "code",
   "execution_count": 24,
   "metadata": {},
   "outputs": [
    {
     "data": {
      "text/plain": [
       "0    24720\n",
       "1     7841\n",
       "Name: Target, dtype: int64"
      ]
     },
     "execution_count": 24,
     "metadata": {},
     "output_type": "execute_result"
    }
   ],
   "source": [
    "data_train['Target'].value_counts()"
   ]
  },
  {
   "cell_type": "code",
   "execution_count": 25,
   "metadata": {},
   "outputs": [
    {
     "data": {
<<<<<<< HEAD
      "image/png": "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\n",
=======
      "image/png": "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\n",
>>>>>>> b95a59a01fa2879014056c1bbf1585de10dacc6e
      "text/plain": [
       "<Figure size 1800x1080 with 15 Axes>"
      ]
     },
<<<<<<< HEAD
     "metadata": {},
=======
     "metadata": {
      "needs_background": "light"
     },
>>>>>>> b95a59a01fa2879014056c1bbf1585de10dacc6e
     "output_type": "display_data"
    }
   ],
   "source": [
    "fig = plt.figure(figsize=(25, 15))\n",
    "cols = 5\n",
    "rows = np.ceil(float(data_train.shape[1]) / cols)\n",
    "for i, column in enumerate(data_train.columns):\n",
    "    ax = fig.add_subplot(rows, cols, i + 1)\n",
    "    ax.set_title(column)\n",
    "    if data_train.dtypes[column] == np.object:\n",
    "        data_train[column].value_counts().plot(kind=\"bar\", axes=ax)\n",
    "    else:\n",
    "        data_train[column].hist(axes=ax)\n",
    "        plt.xticks(rotation=\"vertical\")\n",
    "plt.subplots_adjust(hspace=0.7, wspace=0.2)"
   ]
  },
  {
   "cell_type": "markdown",
   "metadata": {},
   "source": [
    "#### Checking data types"
   ]
  },
  {
   "cell_type": "code",
   "execution_count": 26,
   "metadata": {},
   "outputs": [
    {
     "data": {
      "text/plain": [
       "Age                int64\n",
       "Workclass         object\n",
       "fnlwgt             int64\n",
       "Education         object\n",
       "Education_Num      int64\n",
       "Martial_Status    object\n",
       "Occupation        object\n",
       "Relationship      object\n",
       "Race              object\n",
       "Sex               object\n",
       "Capital_Gain       int64\n",
       "Capital_Loss       int64\n",
       "Hours_per_week     int64\n",
       "Country           object\n",
       "Target             int64\n",
       "dtype: object"
      ]
     },
     "execution_count": 26,
     "metadata": {},
     "output_type": "execute_result"
    }
   ],
   "source": [
    "data_train.dtypes"
   ]
  },
  {
   "cell_type": "code",
   "execution_count": 27,
   "metadata": {},
   "outputs": [
    {
     "data": {
      "text/plain": [
       "Age                object\n",
       "Workclass          object\n",
       "fnlwgt            float64\n",
       "Education          object\n",
       "Education_Num     float64\n",
       "Martial_Status     object\n",
       "Occupation         object\n",
       "Relationship       object\n",
       "Race               object\n",
       "Sex                object\n",
       "Capital_Gain      float64\n",
       "Capital_Loss      float64\n",
       "Hours_per_week    float64\n",
       "Country            object\n",
       "Target              int64\n",
       "dtype: object"
      ]
     },
     "execution_count": 27,
     "metadata": {},
     "output_type": "execute_result"
    }
   ],
   "source": [
    "data_test.dtypes"
   ]
  },
  {
   "cell_type": "markdown",
   "metadata": {},
   "source": [
    "As we see, in the test data, age is treated as type **object**. We need to fix this."
   ]
  },
  {
   "cell_type": "code",
   "execution_count": 28,
   "metadata": {},
   "outputs": [],
   "source": [
    "data_test['Age'] = data_test['Age'].astype(int)"
   ]
  },
  {
   "cell_type": "markdown",
   "metadata": {},
   "source": [
    "Also we'll cast all **float** features to **int** type to keep types consistent between our train and test data."
   ]
  },
  {
   "cell_type": "code",
   "execution_count": 29,
   "metadata": {},
   "outputs": [],
   "source": [
    "data_test['fnlwgt'] = data_test['fnlwgt'].astype(int)\n",
    "data_test['Education_Num'] = data_test['Education_Num'].astype(int)\n",
    "data_test['Capital_Gain'] = data_test['Capital_Gain'].astype(int)\n",
    "data_test['Capital_Loss'] = data_test['Capital_Loss'].astype(int)\n",
    "data_test['Hours_per_week'] = data_test['Hours_per_week'].astype(int)"
   ]
  },
  {
   "cell_type": "markdown",
   "metadata": {},
   "source": [
    "#### Fill in missing data for continuous features with their median values, for categorical features with their mode."
   ]
  },
  {
   "cell_type": "code",
   "execution_count": 30,
   "metadata": {},
   "outputs": [
    {
     "name": "stdout",
     "output_type": "stream",
     "text": [
      "categorical_columns: ['Workclass', 'Education', 'Martial_Status', 'Occupation', 'Relationship', 'Race', 'Sex', 'Country']\n",
      "numerical_columns: ['Age', 'fnlwgt', 'Education_Num', 'Capital_Gain', 'Capital_Loss', 'Hours_per_week', 'Target']\n"
     ]
    }
   ],
   "source": [
    "# choose categorical and continuous features from data\n",
    "\n",
    "categorical_columns = [c for c in data_train.columns \n",
    "                       if data_train[c].dtype.name == 'object']\n",
    "numerical_columns = [c for c in data_train.columns \n",
    "                     if data_train[c].dtype.name != 'object']\n",
    "\n",
    "print('categorical_columns:', categorical_columns)\n",
    "print('numerical_columns:', numerical_columns)"
   ]
  },
  {
   "cell_type": "code",
   "execution_count": 31,
   "metadata": {},
   "outputs": [],
   "source": [
    "# fill missing data\n",
    "\n",
    "for c in categorical_columns:\n",
    "    data_train[c].fillna(data_train[c].mode(), inplace=True)\n",
    "    data_test[c].fillna(data_train[c].mode(), inplace=True)\n",
    "    \n",
    "for c in numerical_columns:\n",
    "    data_train[c].fillna(data_train[c].median(), inplace=True)\n",
    "    data_test[c].fillna(data_train[c].median(), inplace=True)"
   ]
  },
  {
   "cell_type": "markdown",
   "metadata": {},
   "source": [
    "We'll dummy code some categorical features: **Workclass**, **Education**, **Martial_Status**, **Occupation**, **Relationship**, **Race**, **Sex**, **Country**. It can be done via pandas method **get_dummies**"
   ]
  },
  {
   "cell_type": "code",
   "execution_count": 32,
   "metadata": {},
   "outputs": [],
   "source": [
<<<<<<< HEAD
    "data_train = pd.concat([\n",
    "    pd.get_dummies(data_train[categorical_columns]),\n",
    "    data_train[numerical_columns]], axis=1)\n",
    "\n",
    "data_test = pd.concat([\n",
    "    pd.get_dummies(data_test[categorical_columns]),\n",
    "    data_test[numerical_columns]], axis=1)"
=======
    "data_train = pd.concat([data_train[numerical_columns],\n",
    "    pd.get_dummies(data_train[categorical_columns])], axis=1)\n",
    "\n",
    "data_test = pd.concat([data_test[numerical_columns],\n",
    "    pd.get_dummies(data_test[categorical_columns])], axis=1)"
>>>>>>> b95a59a01fa2879014056c1bbf1585de10dacc6e
   ]
  },
  {
   "cell_type": "code",
   "execution_count": 33,
   "metadata": {},
   "outputs": [
    {
     "data": {
      "text/plain": [
       "{'Country_ Holand-Netherlands'}"
      ]
     },
     "execution_count": 33,
     "metadata": {},
     "output_type": "execute_result"
    }
   ],
   "source": [
    "set(data_train.columns) - set(data_test.columns)"
   ]
  },
  {
   "cell_type": "code",
   "execution_count": 34,
   "metadata": {},
   "outputs": [
    {
     "data": {
      "text/plain": [
       "((32561, 106), (16281, 105))"
      ]
     },
     "execution_count": 34,
     "metadata": {},
     "output_type": "execute_result"
    }
   ],
   "source": [
    "data_train.shape, data_test.shape"
   ]
  },
  {
   "cell_type": "markdown",
   "metadata": {},
   "source": [
    "#### There is no Holland in the test data. Create new zero-valued feature."
   ]
  },
  {
   "cell_type": "code",
   "execution_count": 35,
   "metadata": {},
   "outputs": [],
   "source": [
    "data_test['Country_ Holand-Netherlands'] = 0"
   ]
  },
  {
   "cell_type": "code",
   "execution_count": 36,
   "metadata": {},
   "outputs": [
    {
     "data": {
      "text/plain": [
       "set()"
      ]
     },
     "execution_count": 36,
     "metadata": {},
     "output_type": "execute_result"
    }
   ],
   "source": [
    "set(data_train.columns) - set(data_test.columns)"
   ]
  },
  {
   "cell_type": "code",
   "execution_count": 37,
   "metadata": {},
   "outputs": [
    {
     "data": {
      "text/html": [
       "<div>\n",
       "<style scoped>\n",
       "    .dataframe tbody tr th:only-of-type {\n",
       "        vertical-align: middle;\n",
       "    }\n",
       "\n",
       "    .dataframe tbody tr th {\n",
       "        vertical-align: top;\n",
       "    }\n",
       "\n",
       "    .dataframe thead th {\n",
       "        text-align: right;\n",
       "    }\n",
       "</style>\n",
       "<table border=\"1\" class=\"dataframe\">\n",
       "  <thead>\n",
       "    <tr style=\"text-align: right;\">\n",
       "      <th></th>\n",
<<<<<<< HEAD
       "      <th>Workclass_ Federal-gov</th>\n",
       "      <th>Workclass_ Local-gov</th>\n",
       "      <th>Workclass_ Never-worked</th>\n",
       "      <th>Workclass_ Private</th>\n",
       "      <th>Workclass_ Self-emp-inc</th>\n",
       "      <th>Workclass_ Self-emp-not-inc</th>\n",
       "      <th>Workclass_ State-gov</th>\n",
       "      <th>Workclass_ Without-pay</th>\n",
       "      <th>Education_ 10th</th>\n",
       "      <th>Education_ 11th</th>\n",
       "      <th>...</th>\n",
       "      <th>Country_ United-States</th>\n",
       "      <th>Country_ Vietnam</th>\n",
       "      <th>Country_ Yugoslavia</th>\n",
=======
>>>>>>> b95a59a01fa2879014056c1bbf1585de10dacc6e
       "      <th>Age</th>\n",
       "      <th>fnlwgt</th>\n",
       "      <th>Education_Num</th>\n",
       "      <th>Capital_Gain</th>\n",
       "      <th>Capital_Loss</th>\n",
       "      <th>Hours_per_week</th>\n",
       "      <th>Target</th>\n",
<<<<<<< HEAD
=======
       "      <th>Workclass_ Federal-gov</th>\n",
       "      <th>Workclass_ Local-gov</th>\n",
       "      <th>Workclass_ Never-worked</th>\n",
       "      <th>...</th>\n",
       "      <th>Country_ Portugal</th>\n",
       "      <th>Country_ Puerto-Rico</th>\n",
       "      <th>Country_ Scotland</th>\n",
       "      <th>Country_ South</th>\n",
       "      <th>Country_ Taiwan</th>\n",
       "      <th>Country_ Thailand</th>\n",
       "      <th>Country_ Trinadad&amp;Tobago</th>\n",
       "      <th>Country_ United-States</th>\n",
       "      <th>Country_ Vietnam</th>\n",
       "      <th>Country_ Yugoslavia</th>\n",
>>>>>>> b95a59a01fa2879014056c1bbf1585de10dacc6e
       "    </tr>\n",
       "  </thead>\n",
       "  <tbody>\n",
       "    <tr>\n",
       "      <th>0</th>\n",
<<<<<<< HEAD
       "      <td>0</td>\n",
=======
       "      <td>39</td>\n",
       "      <td>77516</td>\n",
       "      <td>13</td>\n",
       "      <td>2174</td>\n",
       "      <td>0</td>\n",
       "      <td>40</td>\n",
>>>>>>> b95a59a01fa2879014056c1bbf1585de10dacc6e
       "      <td>0</td>\n",
       "      <td>0</td>\n",
       "      <td>0</td>\n",
       "      <td>0</td>\n",
<<<<<<< HEAD
       "      <td>0</td>\n",
       "      <td>1</td>\n",
       "      <td>0</td>\n",
       "      <td>0</td>\n",
       "      <td>0</td>\n",
       "      <td>...</td>\n",
       "      <td>1</td>\n",
       "      <td>0</td>\n",
       "      <td>0</td>\n",
       "      <td>39</td>\n",
       "      <td>77516</td>\n",
       "      <td>13</td>\n",
       "      <td>2174</td>\n",
       "      <td>0</td>\n",
       "      <td>40</td>\n",
=======
       "      <td>...</td>\n",
       "      <td>0</td>\n",
       "      <td>0</td>\n",
       "      <td>0</td>\n",
       "      <td>0</td>\n",
       "      <td>0</td>\n",
       "      <td>0</td>\n",
       "      <td>0</td>\n",
       "      <td>1</td>\n",
       "      <td>0</td>\n",
>>>>>>> b95a59a01fa2879014056c1bbf1585de10dacc6e
       "      <td>0</td>\n",
       "    </tr>\n",
       "    <tr>\n",
       "      <th>1</th>\n",
<<<<<<< HEAD
       "      <td>0</td>\n",
       "      <td>0</td>\n",
       "      <td>0</td>\n",
       "      <td>0</td>\n",
       "      <td>0</td>\n",
       "      <td>1</td>\n",
       "      <td>0</td>\n",
       "      <td>0</td>\n",
       "      <td>0</td>\n",
       "      <td>0</td>\n",
       "      <td>...</td>\n",
       "      <td>1</td>\n",
       "      <td>0</td>\n",
       "      <td>0</td>\n",
       "      <td>50</td>\n",
       "      <td>83311</td>\n",
       "      <td>13</td>\n",
       "      <td>0</td>\n",
       "      <td>0</td>\n",
       "      <td>13</td>\n",
=======
       "      <td>50</td>\n",
       "      <td>83311</td>\n",
       "      <td>13</td>\n",
       "      <td>0</td>\n",
       "      <td>0</td>\n",
       "      <td>13</td>\n",
       "      <td>0</td>\n",
       "      <td>0</td>\n",
       "      <td>0</td>\n",
       "      <td>0</td>\n",
       "      <td>...</td>\n",
       "      <td>0</td>\n",
       "      <td>0</td>\n",
       "      <td>0</td>\n",
       "      <td>0</td>\n",
       "      <td>0</td>\n",
       "      <td>0</td>\n",
       "      <td>0</td>\n",
       "      <td>1</td>\n",
       "      <td>0</td>\n",
>>>>>>> b95a59a01fa2879014056c1bbf1585de10dacc6e
       "      <td>0</td>\n",
       "    </tr>\n",
       "  </tbody>\n",
       "</table>\n",
       "<p>2 rows × 106 columns</p>\n",
       "</div>"
      ],
      "text/plain": [
<<<<<<< HEAD
       "   Workclass_ Federal-gov  Workclass_ Local-gov  Workclass_ Never-worked  \\\n",
       "0                       0                     0                        0   \n",
       "1                       0                     0                        0   \n",
       "\n",
       "   Workclass_ Private  Workclass_ Self-emp-inc  Workclass_ Self-emp-not-inc  \\\n",
       "0                   0                        0                            0   \n",
       "1                   0                        0                            1   \n",
       "\n",
       "   Workclass_ State-gov  Workclass_ Without-pay  Education_ 10th  \\\n",
       "0                     1                       0                0   \n",
       "1                     0                       0                0   \n",
       "\n",
       "   Education_ 11th   ...    Country_ United-States  Country_ Vietnam  \\\n",
       "0                0   ...                         1                 0   \n",
       "1                0   ...                         1                 0   \n",
       "\n",
       "   Country_ Yugoslavia  Age  fnlwgt  Education_Num  Capital_Gain  \\\n",
       "0                    0   39   77516             13          2174   \n",
       "1                    0   50   83311             13             0   \n",
       "\n",
       "   Capital_Loss  Hours_per_week  Target  \n",
       "0             0              40       0  \n",
       "1             0              13       0  \n",
=======
       "   Age  fnlwgt  Education_Num  Capital_Gain  Capital_Loss  Hours_per_week  \\\n",
       "0   39   77516             13          2174             0              40   \n",
       "1   50   83311             13             0             0              13   \n",
       "\n",
       "   Target  Workclass_ Federal-gov  Workclass_ Local-gov  \\\n",
       "0       0                       0                     0   \n",
       "1       0                       0                     0   \n",
       "\n",
       "   Workclass_ Never-worked         ...           Country_ Portugal  \\\n",
       "0                        0         ...                           0   \n",
       "1                        0         ...                           0   \n",
       "\n",
       "   Country_ Puerto-Rico  Country_ Scotland  Country_ South  Country_ Taiwan  \\\n",
       "0                     0                  0               0                0   \n",
       "1                     0                  0               0                0   \n",
       "\n",
       "   Country_ Thailand  Country_ Trinadad&Tobago  Country_ United-States  \\\n",
       "0                  0                         0                       1   \n",
       "1                  0                         0                       1   \n",
       "\n",
       "   Country_ Vietnam  Country_ Yugoslavia  \n",
       "0                 0                    0  \n",
       "1                 0                    0  \n",
>>>>>>> b95a59a01fa2879014056c1bbf1585de10dacc6e
       "\n",
       "[2 rows x 106 columns]"
      ]
     },
     "execution_count": 37,
     "metadata": {},
     "output_type": "execute_result"
    }
   ],
   "source": [
    "data_train.head(2)"
   ]
  },
  {
   "cell_type": "code",
   "execution_count": 38,
   "metadata": {},
   "outputs": [
    {
     "data": {
      "text/html": [
       "<div>\n",
       "<style scoped>\n",
       "    .dataframe tbody tr th:only-of-type {\n",
       "        vertical-align: middle;\n",
       "    }\n",
       "\n",
       "    .dataframe tbody tr th {\n",
       "        vertical-align: top;\n",
       "    }\n",
       "\n",
       "    .dataframe thead th {\n",
       "        text-align: right;\n",
       "    }\n",
       "</style>\n",
       "<table border=\"1\" class=\"dataframe\">\n",
       "  <thead>\n",
       "    <tr style=\"text-align: right;\">\n",
       "      <th></th>\n",
<<<<<<< HEAD
       "      <th>Workclass_ Federal-gov</th>\n",
       "      <th>Workclass_ Local-gov</th>\n",
       "      <th>Workclass_ Never-worked</th>\n",
       "      <th>Workclass_ Private</th>\n",
       "      <th>Workclass_ Self-emp-inc</th>\n",
       "      <th>Workclass_ Self-emp-not-inc</th>\n",
       "      <th>Workclass_ State-gov</th>\n",
       "      <th>Workclass_ Without-pay</th>\n",
       "      <th>Education_ 10th</th>\n",
       "      <th>Education_ 11th</th>\n",
       "      <th>...</th>\n",
       "      <th>Country_ Vietnam</th>\n",
       "      <th>Country_ Yugoslavia</th>\n",
=======
>>>>>>> b95a59a01fa2879014056c1bbf1585de10dacc6e
       "      <th>Age</th>\n",
       "      <th>fnlwgt</th>\n",
       "      <th>Education_Num</th>\n",
       "      <th>Capital_Gain</th>\n",
       "      <th>Capital_Loss</th>\n",
       "      <th>Hours_per_week</th>\n",
       "      <th>Target</th>\n",
<<<<<<< HEAD
=======
       "      <th>Workclass_ Federal-gov</th>\n",
       "      <th>Workclass_ Local-gov</th>\n",
       "      <th>Workclass_ Never-worked</th>\n",
       "      <th>...</th>\n",
       "      <th>Country_ Puerto-Rico</th>\n",
       "      <th>Country_ Scotland</th>\n",
       "      <th>Country_ South</th>\n",
       "      <th>Country_ Taiwan</th>\n",
       "      <th>Country_ Thailand</th>\n",
       "      <th>Country_ Trinadad&amp;Tobago</th>\n",
       "      <th>Country_ United-States</th>\n",
       "      <th>Country_ Vietnam</th>\n",
       "      <th>Country_ Yugoslavia</th>\n",
>>>>>>> b95a59a01fa2879014056c1bbf1585de10dacc6e
       "      <th>Country_ Holand-Netherlands</th>\n",
       "    </tr>\n",
       "  </thead>\n",
       "  <tbody>\n",
       "    <tr>\n",
       "      <th>1</th>\n",
<<<<<<< HEAD
       "      <td>0</td>\n",
       "      <td>0</td>\n",
       "      <td>0</td>\n",
       "      <td>1</td>\n",
       "      <td>0</td>\n",
       "      <td>0</td>\n",
       "      <td>0</td>\n",
       "      <td>0</td>\n",
       "      <td>0</td>\n",
       "      <td>1</td>\n",
       "      <td>...</td>\n",
       "      <td>0</td>\n",
       "      <td>0</td>\n",
       "      <td>25</td>\n",
       "      <td>226802</td>\n",
       "      <td>7</td>\n",
       "      <td>0</td>\n",
       "      <td>0</td>\n",
       "      <td>40</td>\n",
=======
       "      <td>25</td>\n",
       "      <td>226802</td>\n",
       "      <td>7</td>\n",
       "      <td>0</td>\n",
       "      <td>0</td>\n",
       "      <td>40</td>\n",
       "      <td>0</td>\n",
       "      <td>0</td>\n",
       "      <td>0</td>\n",
       "      <td>0</td>\n",
       "      <td>...</td>\n",
       "      <td>0</td>\n",
       "      <td>0</td>\n",
       "      <td>0</td>\n",
       "      <td>0</td>\n",
       "      <td>0</td>\n",
       "      <td>0</td>\n",
       "      <td>1</td>\n",
       "      <td>0</td>\n",
>>>>>>> b95a59a01fa2879014056c1bbf1585de10dacc6e
       "      <td>0</td>\n",
       "      <td>0</td>\n",
       "    </tr>\n",
       "    <tr>\n",
       "      <th>2</th>\n",
<<<<<<< HEAD
       "      <td>0</td>\n",
       "      <td>0</td>\n",
       "      <td>0</td>\n",
       "      <td>1</td>\n",
       "      <td>0</td>\n",
       "      <td>0</td>\n",
       "      <td>0</td>\n",
       "      <td>0</td>\n",
       "      <td>0</td>\n",
       "      <td>0</td>\n",
       "      <td>...</td>\n",
       "      <td>0</td>\n",
       "      <td>0</td>\n",
       "      <td>38</td>\n",
       "      <td>89814</td>\n",
       "      <td>9</td>\n",
       "      <td>0</td>\n",
       "      <td>0</td>\n",
       "      <td>50</td>\n",
=======
       "      <td>38</td>\n",
       "      <td>89814</td>\n",
       "      <td>9</td>\n",
       "      <td>0</td>\n",
       "      <td>0</td>\n",
       "      <td>50</td>\n",
       "      <td>0</td>\n",
       "      <td>0</td>\n",
       "      <td>0</td>\n",
       "      <td>0</td>\n",
       "      <td>...</td>\n",
       "      <td>0</td>\n",
       "      <td>0</td>\n",
       "      <td>0</td>\n",
       "      <td>0</td>\n",
       "      <td>0</td>\n",
       "      <td>0</td>\n",
       "      <td>1</td>\n",
       "      <td>0</td>\n",
>>>>>>> b95a59a01fa2879014056c1bbf1585de10dacc6e
       "      <td>0</td>\n",
       "      <td>0</td>\n",
       "    </tr>\n",
       "  </tbody>\n",
       "</table>\n",
       "<p>2 rows × 106 columns</p>\n",
       "</div>"
      ],
      "text/plain": [
<<<<<<< HEAD
       "   Workclass_ Federal-gov  Workclass_ Local-gov  Workclass_ Never-worked  \\\n",
       "1                       0                     0                        0   \n",
       "2                       0                     0                        0   \n",
       "\n",
       "   Workclass_ Private  Workclass_ Self-emp-inc  Workclass_ Self-emp-not-inc  \\\n",
       "1                   1                        0                            0   \n",
       "2                   1                        0                            0   \n",
       "\n",
       "   Workclass_ State-gov  Workclass_ Without-pay  Education_ 10th  \\\n",
       "1                     0                       0                0   \n",
       "2                     0                       0                0   \n",
       "\n",
       "   Education_ 11th             ...               Country_ Vietnam  \\\n",
       "1                1             ...                              0   \n",
       "2                0             ...                              0   \n",
       "\n",
       "   Country_ Yugoslavia  Age  fnlwgt  Education_Num  Capital_Gain  \\\n",
       "1                    0   25  226802              7             0   \n",
       "2                    0   38   89814              9             0   \n",
       "\n",
       "   Capital_Loss  Hours_per_week  Target  Country_ Holand-Netherlands  \n",
       "1             0              40       0                            0  \n",
       "2             0              50       0                            0  \n",
=======
       "   Age  fnlwgt  Education_Num  Capital_Gain  Capital_Loss  Hours_per_week  \\\n",
       "1   25  226802              7             0             0              40   \n",
       "2   38   89814              9             0             0              50   \n",
       "\n",
       "   Target  Workclass_ Federal-gov  Workclass_ Local-gov  \\\n",
       "1       0                       0                     0   \n",
       "2       0                       0                     0   \n",
       "\n",
       "   Workclass_ Never-worked             ...               Country_ Puerto-Rico  \\\n",
       "1                        0             ...                                  0   \n",
       "2                        0             ...                                  0   \n",
       "\n",
       "   Country_ Scotland  Country_ South  Country_ Taiwan  Country_ Thailand  \\\n",
       "1                  0               0                0                  0   \n",
       "2                  0               0                0                  0   \n",
       "\n",
       "   Country_ Trinadad&Tobago  Country_ United-States  Country_ Vietnam  \\\n",
       "1                         0                       1                 0   \n",
       "2                         0                       1                 0   \n",
       "\n",
       "   Country_ Yugoslavia  Country_ Holand-Netherlands  \n",
       "1                    0                            0  \n",
       "2                    0                            0  \n",
>>>>>>> b95a59a01fa2879014056c1bbf1585de10dacc6e
       "\n",
       "[2 rows x 106 columns]"
      ]
     },
     "execution_count": 38,
     "metadata": {},
     "output_type": "execute_result"
    }
   ],
   "source": [
    "data_test.head(2)"
   ]
  },
  {
   "cell_type": "code",
   "execution_count": 39,
   "metadata": {},
   "outputs": [],
   "source": [
    "X_train = data_train.drop(['Target'], axis=1)\n",
    "y_train = data_train['Target']\n",
    "\n",
    "X_test = data_test.drop(['Target'], axis=1)\n",
    "y_test = data_test['Target']"
   ]
  },
  {
   "cell_type": "markdown",
   "metadata": {},
   "source": [
    "### 3.1 Decision tree without parameter tuning"
   ]
  },
  {
   "cell_type": "markdown",
   "metadata": {},
   "source": [
    "Train a decision tree **(DecisionTreeClassifier)** with a maximum depth of 3, and evaluate the accuracy metric on the test data. Use parameter **random_state = 17** for results reproducibility."
   ]
  },
  {
   "cell_type": "code",
   "execution_count": 40,
   "metadata": {},
   "outputs": [],
   "source": [
    "# you code here\n",
    "# tree = \n",
    "# tree.fit"
   ]
  },
  {
   "cell_type": "markdown",
   "metadata": {},
   "source": [
    "Make a prediction with the trained model on the test data."
   ]
  },
  {
   "cell_type": "code",
   "execution_count": 41,
   "metadata": {},
   "outputs": [],
   "source": [
    "# you code here\n",
    "# tree_predictions = tree.predict "
   ]
  },
  {
   "cell_type": "code",
   "execution_count": 42,
   "metadata": {},
   "outputs": [],
   "source": [
    "# you code here\n",
    "# accuracy_score "
   ]
  },
  {
   "cell_type": "markdown",
   "metadata": {},
   "source": [
    "6\\. What is the test set accuracy of a decision tree with maximum tree depth of 3 and **random_state = 17**?"
   ]
  },
  {
   "cell_type": "markdown",
   "metadata": {},
   "source": [
    "### 3.2 Decision tree with parameter tuning"
   ]
  },
  {
   "cell_type": "markdown",
   "metadata": {},
   "source": [
    "Train a decision tree **(DecisionTreeClassifier, random_state = 17).** Find the optimal maximum depth using 5-fold cross-validation **(GridSearchCV)**."
   ]
  },
  {
   "cell_type": "code",
   "execution_count": 43,
   "metadata": {},
<<<<<<< HEAD
   "outputs": [
    {
     "data": {
      "text/plain": [
       "<function sklearn.model_selection._search.BaseSearchCV.fit(self, X, y=None, groups=None, **fit_params)>"
      ]
     },
     "execution_count": 43,
     "metadata": {},
     "output_type": "execute_result"
    }
   ],
=======
   "outputs": [],
>>>>>>> b95a59a01fa2879014056c1bbf1585de10dacc6e
   "source": [
    "tree_params = {'max_depth': range(2,11)}\n",
    "\n",
    "locally_best_tree = GridSearchCV # you code here                     \n",
    "\n",
<<<<<<< HEAD
    "locally_best_tree.fit # you code here "
   ]
  },
  {
   "cell_type": "code",
   "execution_count": 44,
   "metadata": {},
   "outputs": [],
   "source": [
    "# print(\"Best params:\", locally_best_tree.best_params_)\n",
    "# print(\"Best cross validaton score\", locally_best_tree.best_score_)"
=======
    "locally_best_tree.fit; # you code here "
>>>>>>> b95a59a01fa2879014056c1bbf1585de10dacc6e
   ]
  },
  {
   "cell_type": "markdown",
   "metadata": {},
   "source": [
    "Train a decision tree with maximum depth of 9 (it is the best **max_depth** in my case), and compute the test set accuracy. Use parameter **random_state = 17** for reproducibility."
   ]
  },
  {
   "cell_type": "code",
<<<<<<< HEAD
   "execution_count": 45,
   "metadata": {},
   "outputs": [],
   "source": [
    "# tuned_tree = # you code here \n",
    "# tuned_tree.fit # you code here \n",
    "# tuned_tree_predictions = tuned_tree.predict # you code here \n",
    "# accuracy_score # you code here "
=======
   "execution_count": 44,
   "metadata": {},
   "outputs": [],
   "source": [
    "# you code here \n",
    "# tuned_tree = \n",
    "# tuned_tree.fit \n",
    "# tuned_tree_predictions = tuned_tree.predict\n",
    "# accuracy_score"
>>>>>>> b95a59a01fa2879014056c1bbf1585de10dacc6e
   ]
  },
  {
   "cell_type": "markdown",
   "metadata": {},
   "source": [
    "7\\. What is the test set accuracy of a decision tree with maximum depth of 9 and **random_state = 17**?"
   ]
  },
  {
   "cell_type": "markdown",
   "metadata": {},
   "source": [
    "### 3.3 (Optional) Random forest without parameter tuning"
   ]
  },
  {
   "cell_type": "markdown",
   "metadata": {},
   "source": [
    "Let's take a sneak peek of upcoming lectures and try to use a random forest for our task. For now, you can imagine a random forest as a bunch of decision trees, trained on slightly different subsets of the training data."
   ]
  },
  {
   "cell_type": "markdown",
   "metadata": {},
   "source": [
    "Train a random forest **(RandomForestClassifier)**. Set the number of trees to 100 and use **random_state = 17**."
   ]
  },
  {
   "cell_type": "code",
<<<<<<< HEAD
   "execution_count": 46,
   "metadata": {},
   "outputs": [],
   "source": [
    "# rf = # you code here \n",
=======
   "execution_count": 45,
   "metadata": {},
   "outputs": [],
   "source": [
    "# you code here \n",
    "# rf = \n",
>>>>>>> b95a59a01fa2879014056c1bbf1585de10dacc6e
    "# rf.fit # you code here "
   ]
  },
  {
   "cell_type": "markdown",
   "metadata": {},
   "source": [
<<<<<<< HEAD
    "Make predictions for the test data."
   ]
  },
  {
   "cell_type": "code",
   "execution_count": 47,
   "metadata": {},
   "outputs": [],
   "source": [
    "# forest_predictions = rf.predict # you code here "
=======
    "Make predictions for the test data and assess accuracy."
>>>>>>> b95a59a01fa2879014056c1bbf1585de10dacc6e
   ]
  },
  {
   "cell_type": "code",
<<<<<<< HEAD
   "execution_count": 48,
   "metadata": {},
   "outputs": [],
   "source": [
    "# accuracy_score # you code here "
=======
   "execution_count": 46,
   "metadata": {},
   "outputs": [],
   "source": [
    "# you code here "
>>>>>>> b95a59a01fa2879014056c1bbf1585de10dacc6e
   ]
  },
  {
   "cell_type": "markdown",
   "metadata": {},
   "source": [
    "### 3.4 (Optional) Random forest with parameter tuning"
   ]
  },
  {
   "cell_type": "markdown",
   "metadata": {},
   "source": [
    "Train a random forest **(RandomForestClassifier)**. Tune the maximum depth and maximum number of features for each tree using **GridSearchCV**. "
   ]
  },
  {
   "cell_type": "code",
<<<<<<< HEAD
   "execution_count": 49,
=======
   "execution_count": 47,
>>>>>>> b95a59a01fa2879014056c1bbf1585de10dacc6e
   "metadata": {},
   "outputs": [],
   "source": [
    "# forest_params = {'max_depth': range(10, 21),\n",
    "#                 'max_features': range(5, 105, 20)}\n",
    "\n",
    "# locally_best_forest = GridSearchCV # you code here \n",
    "\n",
    "# locally_best_forest.fit # you code here "
   ]
  },
  {
<<<<<<< HEAD
   "cell_type": "code",
   "execution_count": 50,
   "metadata": {},
   "outputs": [],
   "source": [
    "# print(\"Best params:\", locally_best_forest.best_params_)\n",
    "# print(\"Best cross validaton score\", locally_best_forest.best_score_)"
   ]
  },
  {
   "cell_type": "markdown",
   "metadata": {},
   "source": [
    "Make predictions for the test data."
=======
   "cell_type": "markdown",
   "metadata": {},
   "source": [
    "Make predictions for the test data and assess accuracy."
>>>>>>> b95a59a01fa2879014056c1bbf1585de10dacc6e
   ]
  },
  {
   "cell_type": "code",
<<<<<<< HEAD
   "execution_count": 51,
   "metadata": {},
   "outputs": [],
   "source": [
    "# tuned_forest_predictions = locally_best_forest.predict # you code here \n",
    "# accuracy_score # you code here "
=======
   "execution_count": 48,
   "metadata": {},
   "outputs": [],
   "source": [
    "# you code here "
>>>>>>> b95a59a01fa2879014056c1bbf1585de10dacc6e
   ]
  }
 ],
 "metadata": {
  "kernelspec": {
   "display_name": "Python 3",
   "language": "python",
   "name": "python3"
  },
  "language_info": {
   "codemirror_mode": {
    "name": "ipython",
    "version": 3
   },
   "file_extension": ".py",
   "mimetype": "text/x-python",
   "name": "python",
   "nbconvert_exporter": "python",
   "pygments_lexer": "ipython3",
<<<<<<< HEAD
   "version": "3.6.5"
=======
   "version": "3.5.2"
>>>>>>> b95a59a01fa2879014056c1bbf1585de10dacc6e
  }
 },
 "nbformat": 4,
 "nbformat_minor": 2
}
