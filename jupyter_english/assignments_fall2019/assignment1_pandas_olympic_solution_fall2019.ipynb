{
 "cells": [
  {
   "cell_type": "markdown",
   "metadata": {},
   "source": [
    "<center>\n",
    "<img src=\"../../img/ods_stickers.jpg\" />\n",
    "    \n",
    "## [mlcourse.ai](https://mlcourse.ai) – Open Machine Learning Course \n",
    "Author: Arina Lopukhova (@erynn). Edited by [Yury Kashnitsky](https://yorko.github.io) (@yorko) and Vadim Shestopalov (@vchulski). This material is subject to the terms and conditions of the [Creative Commons CC BY-NC-SA 4.0](https://creativecommons.org/licenses/by-nc-sa/4.0/) license. Free use is permitted for any non-commercial purpose."
   ]
  },
  {
   "cell_type": "markdown",
   "metadata": {},
   "source": [
    "# <center>Assignment #1. Fall 2019. Solution\n",
    "## <center>Exploratory data analysis of Olympic games with Pandas\n",
    "    \n",
    "<img src='../../img/olympic_logo.png' width=50%>"
   ]
  },
  {
   "cell_type": "markdown",
   "metadata": {},
   "source": [
    "Prior to working on the assignment, you'd better check out the corresponding course material:\n",
    " - [Exploratory data analysis with Pandas](https://nbviewer.jupyter.org/github/Yorko/mlcourse_open/blob/master/jupyter_english/topic01_pandas_data_analysis/topic1_pandas_data_analysis.ipynb?flush_cache=true), the same as an interactive web-based [Kaggle Kernel](https://www.kaggle.com/kashnitsky/topic-1-exploratory-data-analysis-with-pandas)\n",
    " - first lectures in mlcourse.ai [YouTube playlist ](https://www.youtube.com/watch?v=QKTuw4PNOsU&list=PLVlY_7IJCMJeRfZ68eVfEcu-UcN9BbwiX) \n",
    " - you can also practice with demo assignments, which are simpler and already shared with solutions: [A1 demo](https://www.kaggle.com/kashnitsky/a1-demo-pandas-and-uci-adult-dataset), [solution](https://www.kaggle.com/kashnitsky/a1-demo-pandas-and-uci-adult-dataset-solution)\n",
    "\n",
    "### Your task is to:\n",
    " 1. write code and perform computations in the cells below\n",
    " 2. choose answers in the [webform](https://docs.google.com/forms/d/1JxhQ9Bg4OpM3E5N47ZuRbILgDuMRbvEnUbDMZK8L-NU). Solutions will be shared only with those who've filled in this form \n",
    " 3. submit answers with some email and **remember it**! This will be your ID during the course. Specify your real full name in the form as well (no nicks allowed in the final top-100 [rating](https://mlcourse.ai/rating)). If in doubt, you can re-submit the form till the deadline for A1, no problem, but stick to only one email.\n",
    " \n",
    "### <center> Deadline for A1: 2019 September 15, 20:59 GMT (London time)\n",
    "    \n",
    "You'll get up to 10 credits for this assignment.\n",
    "\n",
    "### How to get help\n",
    "In [ODS Slack](https://opendatascience.slack.com) (if you still don't have access, fill in the [form](https://docs.google.com/forms/d/10HAN5huM996snUKjsNYyT_oOlm2uOsTKulKurb3oiNM/) mentioned on the mlcourse.ai main page), we have a channel **#mlcourse_ai_news** with announcements from the course team.\n",
    "You can discuss the course content freely in the **#mlcourse_ai** channel (we still have a huge Russian-speaking group, they have a separate channel **#mlcourse_ai_rus**).\n",
    "\n",
    "Here's how you reply in a thread (press this dialog icon to drill down into a thread):\n",
    "\n",
    "<img src=\"../../img/start_a_thread.png\" />\n",
    "\n",
    "Please stick to special threads *a1_q1-5_fall2019* and *a1_q6-10_fall2019* in **#mlcourse_ai_news** for your questions on A1. Help each other without sharing correct code and answers. Our TA **Vadim @vchulski** is there to help (only in the mentioned thread, do not write to him directly).\n",
    "\n",
    "Lastly, you can save useful messages by pinning them, further you can find pinned items on the top, just below the channel name:\n",
    "\n",
    "<img src=\"../../img/pinned_item.png\" />\n",
    "\n",
    "### Assignment \n",
    "__There are ten questions about 120 years of Olympic history in this task. Your task is to fill in the missing Python code and choose answers in [this web-form](https://docs.google.com/forms/d/1JxhQ9Bg4OpM3E5N47ZuRbILgDuMRbvEnUbDMZK8L-NU).__"
   ]
  },
  {
   "cell_type": "markdown",
   "metadata": {},
   "source": [
    "Download the file `athlete_events.csv` from [here](https://drive.google.com/file/d/1f5v6Z2ayc7h698FG_98wP5x1Y2zZQeox/view?usp=sharing) (scraped by [rgriffin](https://www.randigriffin.com/) from www.sports-reference.com). The dataset has the following features:\n",
    "\n",
    "- __ID__ - Unique number for each athlete\n",
    "- __Name__ - Athlete's name\n",
    "- __Sex__ - M or F\n",
    "- __Age__ - Integer\n",
    "- __Height__ - In centimeters\n",
    "- __Weight__ - In kilograms\n",
    "- __Team__ - Team name\n",
    "- __NOC__ - National Olympic Committee 3-letter code\n",
    "- __Games__ - Year and season\n",
    "- __Year__ - Integer\n",
    "- __Season__ - Summer or Winter\n",
    "- __City__ - Host city\n",
    "- __Sport__ - Sport\n",
    "- __Event__ - Event\n",
    "- __Medal__ - Gold, Silver, Bronze, or NA"
   ]
  },
  {
   "cell_type": "code",
   "execution_count": 1,
   "metadata": {},
   "outputs": [],
   "source": [
    "import pandas as pd"
   ]
  },
  {
   "cell_type": "code",
   "execution_count": 2,
   "metadata": {},
   "outputs": [],
   "source": [
    "# Change the path to the dataset file if needed. \n",
    "PATH = '../../data/athlete_events.csv'"
   ]
  },
  {
   "cell_type": "code",
   "execution_count": 3,
   "metadata": {},
   "outputs": [
    {
     "data": {
      "text/html": [
       "<div>\n",
       "<style scoped>\n",
       "    .dataframe tbody tr th:only-of-type {\n",
       "        vertical-align: middle;\n",
       "    }\n",
       "\n",
       "    .dataframe tbody tr th {\n",
       "        vertical-align: top;\n",
       "    }\n",
       "\n",
       "    .dataframe thead th {\n",
       "        text-align: right;\n",
       "    }\n",
       "</style>\n",
       "<table border=\"1\" class=\"dataframe\">\n",
       "  <thead>\n",
       "    <tr style=\"text-align: right;\">\n",
       "      <th></th>\n",
       "      <th>ID</th>\n",
       "      <th>Name</th>\n",
       "      <th>Sex</th>\n",
       "      <th>Age</th>\n",
       "      <th>Height</th>\n",
       "      <th>Weight</th>\n",
       "      <th>Team</th>\n",
       "      <th>NOC</th>\n",
       "      <th>Games</th>\n",
       "      <th>Year</th>\n",
       "      <th>Season</th>\n",
       "      <th>City</th>\n",
       "      <th>Sport</th>\n",
       "      <th>Event</th>\n",
       "      <th>Medal</th>\n",
       "    </tr>\n",
       "  </thead>\n",
       "  <tbody>\n",
       "    <tr>\n",
       "      <th>0</th>\n",
       "      <td>1</td>\n",
       "      <td>A Dijiang</td>\n",
       "      <td>M</td>\n",
       "      <td>24.0</td>\n",
       "      <td>180.0</td>\n",
       "      <td>80.0</td>\n",
       "      <td>China</td>\n",
       "      <td>CHN</td>\n",
       "      <td>1992 Summer</td>\n",
       "      <td>1992</td>\n",
       "      <td>Summer</td>\n",
       "      <td>Barcelona</td>\n",
       "      <td>Basketball</td>\n",
       "      <td>Basketball Men's Basketball</td>\n",
       "      <td>NaN</td>\n",
       "    </tr>\n",
       "    <tr>\n",
       "      <th>1</th>\n",
       "      <td>2</td>\n",
       "      <td>A Lamusi</td>\n",
       "      <td>M</td>\n",
       "      <td>23.0</td>\n",
       "      <td>170.0</td>\n",
       "      <td>60.0</td>\n",
       "      <td>China</td>\n",
       "      <td>CHN</td>\n",
       "      <td>2012 Summer</td>\n",
       "      <td>2012</td>\n",
       "      <td>Summer</td>\n",
       "      <td>London</td>\n",
       "      <td>Judo</td>\n",
       "      <td>Judo Men's Extra-Lightweight</td>\n",
       "      <td>NaN</td>\n",
       "    </tr>\n",
       "    <tr>\n",
       "      <th>2</th>\n",
       "      <td>3</td>\n",
       "      <td>Gunnar Nielsen Aaby</td>\n",
       "      <td>M</td>\n",
       "      <td>24.0</td>\n",
       "      <td>NaN</td>\n",
       "      <td>NaN</td>\n",
       "      <td>Denmark</td>\n",
       "      <td>DEN</td>\n",
       "      <td>1920 Summer</td>\n",
       "      <td>1920</td>\n",
       "      <td>Summer</td>\n",
       "      <td>Antwerpen</td>\n",
       "      <td>Football</td>\n",
       "      <td>Football Men's Football</td>\n",
       "      <td>NaN</td>\n",
       "    </tr>\n",
       "    <tr>\n",
       "      <th>3</th>\n",
       "      <td>4</td>\n",
       "      <td>Edgar Lindenau Aabye</td>\n",
       "      <td>M</td>\n",
       "      <td>34.0</td>\n",
       "      <td>NaN</td>\n",
       "      <td>NaN</td>\n",
       "      <td>Denmark/Sweden</td>\n",
       "      <td>DEN</td>\n",
       "      <td>1900 Summer</td>\n",
       "      <td>1900</td>\n",
       "      <td>Summer</td>\n",
       "      <td>Paris</td>\n",
       "      <td>Tug-Of-War</td>\n",
       "      <td>Tug-Of-War Men's Tug-Of-War</td>\n",
       "      <td>Gold</td>\n",
       "    </tr>\n",
       "    <tr>\n",
       "      <th>4</th>\n",
       "      <td>5</td>\n",
       "      <td>Christine Jacoba Aaftink</td>\n",
       "      <td>F</td>\n",
       "      <td>21.0</td>\n",
       "      <td>185.0</td>\n",
       "      <td>82.0</td>\n",
       "      <td>Netherlands</td>\n",
       "      <td>NED</td>\n",
       "      <td>1988 Winter</td>\n",
       "      <td>1988</td>\n",
       "      <td>Winter</td>\n",
       "      <td>Calgary</td>\n",
       "      <td>Speed Skating</td>\n",
       "      <td>Speed Skating Women's 500 metres</td>\n",
       "      <td>NaN</td>\n",
       "    </tr>\n",
       "  </tbody>\n",
       "</table>\n",
       "</div>"
      ],
      "text/plain": [
       "   ID                      Name Sex   Age  Height  Weight            Team  \\\n",
       "0   1                 A Dijiang   M  24.0   180.0    80.0           China   \n",
       "1   2                  A Lamusi   M  23.0   170.0    60.0           China   \n",
       "2   3       Gunnar Nielsen Aaby   M  24.0     NaN     NaN         Denmark   \n",
       "3   4      Edgar Lindenau Aabye   M  34.0     NaN     NaN  Denmark/Sweden   \n",
       "4   5  Christine Jacoba Aaftink   F  21.0   185.0    82.0     Netherlands   \n",
       "\n",
       "   NOC        Games  Year  Season       City          Sport  \\\n",
       "0  CHN  1992 Summer  1992  Summer  Barcelona     Basketball   \n",
       "1  CHN  2012 Summer  2012  Summer     London           Judo   \n",
       "2  DEN  1920 Summer  1920  Summer  Antwerpen       Football   \n",
       "3  DEN  1900 Summer  1900  Summer      Paris     Tug-Of-War   \n",
       "4  NED  1988 Winter  1988  Winter    Calgary  Speed Skating   \n",
       "\n",
       "                              Event Medal  \n",
       "0       Basketball Men's Basketball   NaN  \n",
       "1      Judo Men's Extra-Lightweight   NaN  \n",
       "2           Football Men's Football   NaN  \n",
       "3       Tug-Of-War Men's Tug-Of-War  Gold  \n",
       "4  Speed Skating Women's 500 metres   NaN  "
      ]
     },
     "execution_count": 3,
     "metadata": {},
     "output_type": "execute_result"
    }
   ],
   "source": [
    "data = pd.read_csv(PATH)\n",
    "data.head()"
   ]
  },
  {
   "cell_type": "markdown",
   "metadata": {},
   "source": [
    "__1. How old were the youngest male and female participants of the 1992 Olympics?__\n",
    "\n",
    "- 16 and 15\n",
    "- 14 and 13 \n",
    "- 13 and 11\n",
    "- 11 and 12 **[+]**"
   ]
  },
  {
   "cell_type": "markdown",
   "metadata": {},
   "source": [
    "Straightforward way:"
   ]
  },
  {
   "cell_type": "code",
   "execution_count": 4,
   "metadata": {},
   "outputs": [
    {
     "data": {
      "text/plain": [
       "11.0"
      ]
     },
     "execution_count": 4,
     "metadata": {},
     "output_type": "execute_result"
    }
   ],
   "source": [
    "# male\n",
    "data.loc[(data.Year == 1992) & (data['Sex'] == 'M'), 'Age'].min()"
   ]
  },
  {
   "cell_type": "code",
   "execution_count": 5,
   "metadata": {},
   "outputs": [
    {
     "data": {
      "text/plain": [
       "12.0"
      ]
     },
     "execution_count": 5,
     "metadata": {},
     "output_type": "execute_result"
    }
   ],
   "source": [
    "# female\n",
    "data.loc[(data.Year == 1992) & (data['Sex'] == 'F'), 'Age'].min()"
   ]
  },
  {
   "cell_type": "markdown",
   "metadata": {},
   "source": [
    "A \"fancier\" way:"
   ]
  },
  {
   "cell_type": "code",
   "execution_count": 6,
   "metadata": {},
   "outputs": [
    {
     "data": {
      "text/plain": [
       "Sex\n",
       "F    12.0\n",
       "M    11.0\n",
       "Name: Age, dtype: float64"
      ]
     },
     "execution_count": 6,
     "metadata": {},
     "output_type": "execute_result"
    }
   ],
   "source": [
    "(data[data.Year == 1992]\n",
    ".groupby('Sex')\n",
    ".agg('min')\n",
    ".Age)"
   ]
  },
  {
   "cell_type": "markdown",
   "metadata": {},
   "source": [
    "__2. What was the percentage of male basketball players among all the male participants of the 2012 Olympics? Round the answer to the first decimal.__\n",
    "\n",
    "*Hint:* drop duplicate athletes where necessary to count each athlete just once. This applies to other questions too.\n",
    "\n",
    "- 0.2\n",
    "- 1.5 \n",
    "- 2.5 **[+]**\n",
    "- 7.7"
   ]
  },
  {
   "cell_type": "code",
   "execution_count": 7,
   "metadata": {},
   "outputs": [
    {
     "name": "stdout",
     "output_type": "stream",
     "text": [
      "2.5\n"
     ]
    }
   ],
   "source": [
    "q = '(Year == 2012) & (Sex == \"M\")'\n",
    "# data.query(q) equals to data[(data.Year == 2012) & (data.Sex == 'M')]\n",
    "sportsmen_count = len(data.query(q)\n",
    "                     .drop_duplicates(subset='Name'))\n",
    "basketball_count = len(data.query(q)\n",
    "                    .query('Sport == \"Basketball\"')\n",
    "                    .drop_duplicates(subset='Name'))\n",
    "\n",
    "print('%.1f' % (basketball_count / sportsmen_count * 100))"
   ]
  },
  {
   "cell_type": "markdown",
   "metadata": {},
   "source": [
    "__3. What are the mean and standard deviation of height for female tennis players participated in the 2000 Olympics? Round the answer to the first decimal.__\n",
    "\n",
    "- 171.8 and 6.5 **[+]**\n",
    "- 179.4 and 10\n",
    "- 180.7 and 6.7\n",
    "- 182.4 and 9.1 "
   ]
  },
  {
   "cell_type": "code",
   "execution_count": 8,
   "metadata": {},
   "outputs": [
    {
     "data": {
      "text/plain": [
       "count    125.000000\n",
       "mean     171.792000\n",
       "std        6.458673\n",
       "min      150.000000\n",
       "25%      168.000000\n",
       "50%      172.000000\n",
       "75%      176.000000\n",
       "max      191.000000\n",
       "Name: Height, dtype: float64"
      ]
     },
     "execution_count": 8,
     "metadata": {},
     "output_type": "execute_result"
    }
   ],
   "source": [
    "q = '(Year == 2000) & (Sex == \"F\") & (Sport == \"Tennis\")'\n",
    "(data.query(q)\n",
    ".describe()\n",
    ".Height)"
   ]
  },
  {
   "cell_type": "markdown",
   "metadata": {},
   "source": [
    "__4. Find the heaviest athlete among 2006 Olympics participants. What sport did he or she do?__\n",
    "\n",
    "- Judo\n",
    "- Bobsleigh \n",
    "- Skeleton **[+]**\n",
    "- Boxing"
   ]
  },
  {
   "cell_type": "code",
   "execution_count": 9,
   "metadata": {},
   "outputs": [
    {
     "data": {
      "text/plain": [
       "'Skeleton'"
      ]
     },
     "execution_count": 9,
     "metadata": {},
     "output_type": "execute_result"
    }
   ],
   "source": [
    "max_weight_idx = (data[data.Year == 2006]\n",
    "                 .Weight\n",
    "                 .idxmax())\n",
    "\n",
    "(data[data.Year == 2006]\n",
    ".loc[max_weight_idx]\n",
    ".Sport)"
   ]
  },
  {
   "cell_type": "code",
   "execution_count": 10,
   "metadata": {},
   "outputs": [
    {
     "data": {
      "text/plain": [
       "array(['Winter'], dtype=object)"
      ]
     },
     "execution_count": 10,
     "metadata": {},
     "output_type": "execute_result"
    }
   ],
   "source": [
    "data[data.Year == 2006].Season.unique()"
   ]
  },
  {
   "cell_type": "markdown",
   "metadata": {},
   "source": [
    "__5. How many times did John Aalberg participate in the Olympics held in different years?__\n",
    "\n",
    "- 0\n",
    "- 1 \n",
    "- 2 **[+]**\n",
    "- 3 "
   ]
  },
  {
   "cell_type": "markdown",
   "metadata": {},
   "source": [
    "Straightforward way:"
   ]
  },
  {
   "cell_type": "code",
   "execution_count": 11,
   "metadata": {},
   "outputs": [
    {
     "data": {
      "text/plain": [
       "2"
      ]
     },
     "execution_count": 11,
     "metadata": {},
     "output_type": "execute_result"
    }
   ],
   "source": [
    "len(data[data.Name == 'John Aalberg']\n",
    "   .drop_duplicates(subset='Year')\n",
    "   .Year) "
   ]
  },
  {
   "cell_type": "markdown",
   "metadata": {},
   "source": [
    "\"Fancier\" way:"
   ]
  },
  {
   "cell_type": "code",
   "execution_count": 12,
   "metadata": {},
   "outputs": [
    {
     "data": {
      "text/plain": [
       "2"
      ]
     },
     "execution_count": 12,
     "metadata": {},
     "output_type": "execute_result"
    }
   ],
   "source": [
    "len(data[data.Name == 'John Aalberg']\n",
    "   .groupby('Year'))"
   ]
  },
  {
   "cell_type": "markdown",
   "metadata": {},
   "source": [
    "__6. How many gold medals in tennis did the Switzerland team win at the 2008 Olympics?__\n",
    "\n",
    "- 0\n",
    "- 1 \n",
    "- 2 **[+]**\n",
    "- 3 "
   ]
  },
  {
   "cell_type": "markdown",
   "metadata": {},
   "source": [
    "Straightforward way:"
   ]
  },
  {
   "cell_type": "code",
   "execution_count": 13,
   "metadata": {},
   "outputs": [
    {
     "data": {
      "text/plain": [
       "2"
      ]
     },
     "execution_count": 13,
     "metadata": {},
     "output_type": "execute_result"
    }
   ],
   "source": [
    "q = '(Year == 2008) & (Team == \"Switzerland\") & (Medal == \"Gold\") & (Sport == \"Tennis\")'\n",
    "data.query(q).shape[0]"
   ]
  },
  {
   "cell_type": "markdown",
   "metadata": {},
   "source": [
    "\"Fancier\" way:"
   ]
  },
  {
   "cell_type": "code",
   "execution_count": 14,
   "metadata": {},
   "outputs": [
    {
     "data": {
      "text/plain": [
       "2"
      ]
     },
     "execution_count": 14,
     "metadata": {},
     "output_type": "execute_result"
    }
   ],
   "source": [
    "q = '(Year == 2008) & (Team == \"Switzerland\")'\n",
    "(data.query(q)\n",
    ".groupby(['Medal', 'Sport'])\n",
    ".get_group(('Gold', 'Tennis'))\n",
    ".shape[0])"
   ]
  },
  {
   "cell_type": "markdown",
   "metadata": {},
   "source": [
    "__7. Is it true that Spain won fewer medals than Italy at the 2016 Olympics? Do not consider NaN values in _Medal_ column.__ \n",
    "\n",
    "- Yes **[+]**\n",
    "- No"
   ]
  },
  {
   "cell_type": "markdown",
   "metadata": {},
   "source": [
    "Straightforward way:"
   ]
  },
  {
   "cell_type": "code",
   "execution_count": 15,
   "metadata": {},
   "outputs": [
    {
     "data": {
      "text/plain": [
       "(43, 70)"
      ]
     },
     "execution_count": 15,
     "metadata": {},
     "output_type": "execute_result"
    }
   ],
   "source": [
    "Spain_medals = len(data.query('(Year == 2016) & (Team == \"Spain\")')\n",
    "                        .dropna(subset=['Medal']))\n",
    "\n",
    "Italy_medals = len(data.query('(Year == 2016) & (Team == \"Italy\")')\n",
    "                   .dropna(subset=['Medal']))\n",
    "\n",
    "Spain_medals, Italy_medals"
   ]
  },
  {
   "cell_type": "markdown",
   "metadata": {},
   "source": [
    "\"Fancier\" way:"
   ]
  },
  {
   "cell_type": "code",
   "execution_count": 16,
   "metadata": {},
   "outputs": [
    {
     "data": {
      "text/plain": [
       "Team\n",
       "Spain    43\n",
       "Italy    70\n",
       "dtype: int64"
      ]
     },
     "execution_count": 16,
     "metadata": {},
     "output_type": "execute_result"
    }
   ],
   "source": [
    "(data[data.Year == 2016]\n",
    ".dropna(subset=['Medal']) \n",
    ".groupby('Team') \n",
    ".size()\n",
    "[['Spain', 'Italy']])"
   ]
  },
  {
   "cell_type": "markdown",
   "metadata": {},
   "source": [
    "__8. What are the most and least common age groups among the participants of the 2008 Olympics?__\n",
    "- [45-55] and [25-35) correspondingly **[+]**\n",
    "- [45-55] and [15-25) correspondingly\n",
    "- [35-45) and [25-35) correspondingly\n",
    "- [45-55] and [35-45) correspondingly"
   ]
  },
  {
   "cell_type": "markdown",
   "metadata": {},
   "source": [
    "Straightforward way:"
   ]
  },
  {
   "cell_type": "code",
   "execution_count": 17,
   "metadata": {},
   "outputs": [
    {
     "name": "stdout",
     "output_type": "stream",
     "text": [
      "[15, 25):  4776\n",
      "[25, 35):  5373\n",
      "[35, 45):  630\n",
      "[45, 55]:  78\n"
     ]
    }
   ],
   "source": [
    "participants_2008 = (data[data.Year == 2008]\n",
    "                    .drop_duplicates(subset='Name'))\n",
    "\n",
    "print('[15, 25): ', len(participants_2008.query('(Age >= 15) & (Age < 25)')))\n",
    "\n",
    "print('[25, 35): ', len(participants_2008.query('(Age >= 25) & (Age < 35)')))\n",
    "\n",
    "print('[35, 45): ', len(participants_2008.query('(Age >= 35) & (Age < 45)')))\n",
    "\n",
    "print('[45, 55]: ', len(participants_2008.query('(Age >= 45) & (Age <= 55)')))"
   ]
  },
  {
   "cell_type": "markdown",
   "metadata": {},
   "source": [
    "\"Fancier\" way:"
   ]
  },
  {
   "cell_type": "code",
   "execution_count": 18,
   "metadata": {},
   "outputs": [
    {
     "data": {
      "text/plain": [
       "age_category\n",
       "[15, 25)    4776\n",
       "[25, 35)    5373\n",
       "[35, 45)     630\n",
       "[45, 55]     101\n",
       "dtype: int64"
      ]
     },
     "execution_count": 18,
     "metadata": {},
     "output_type": "execute_result"
    }
   ],
   "source": [
    "def age_category(age):\n",
    "    '''Maps age to four categories'''\n",
    "\n",
    "    if 15 <= age < 25:\n",
    "        return '[15, 25)'\n",
    "    elif 25 <= age < 35:\n",
    "        return '[25, 35)'\n",
    "    elif 35 <= age < 45:\n",
    "        return '[35, 45)'\n",
    "    return '[45, 55]'\n",
    "\n",
    "\n",
    "# map() applies age_category() function to every value in data.Age\n",
    "data['age_category'] = data.Age.map(age_category)\n",
    "(data[data.Year == 2008]\n",
    ".drop_duplicates(subset='Name')  \n",
    ".groupby('age_category')\n",
    ".size())"
   ]
  },
  {
   "cell_type": "markdown",
   "metadata": {},
   "source": [
    "__9. Is it true that there were Summer Olympics held in Atlanta? Is it true that there were Winter Olympics held in Squaw Valley?__\n",
    "\n",
    "- Yes, Yes **[+]**\n",
    "- Yes, No\n",
    "- No, Yes \n",
    "- No, No "
   ]
  },
  {
   "cell_type": "code",
   "execution_count": 19,
   "metadata": {},
   "outputs": [
    {
     "data": {
      "text/html": [
       "<div>\n",
       "<style scoped>\n",
       "    .dataframe tbody tr th:only-of-type {\n",
       "        vertical-align: middle;\n",
       "    }\n",
       "\n",
       "    .dataframe tbody tr th {\n",
       "        vertical-align: top;\n",
       "    }\n",
       "\n",
       "    .dataframe thead th {\n",
       "        text-align: right;\n",
       "    }\n",
       "</style>\n",
       "<table border=\"1\" class=\"dataframe\">\n",
       "  <thead>\n",
       "    <tr style=\"text-align: right;\">\n",
       "      <th>Season</th>\n",
       "      <th>Summer</th>\n",
       "      <th>Winter</th>\n",
       "    </tr>\n",
       "    <tr>\n",
       "      <th>City</th>\n",
       "      <th></th>\n",
       "      <th></th>\n",
       "    </tr>\n",
       "  </thead>\n",
       "  <tbody>\n",
       "    <tr>\n",
       "      <th>Atlanta</th>\n",
       "      <td>13780</td>\n",
       "      <td>0</td>\n",
       "    </tr>\n",
       "    <tr>\n",
       "      <th>Squaw Valley</th>\n",
       "      <td>0</td>\n",
       "      <td>1116</td>\n",
       "    </tr>\n",
       "  </tbody>\n",
       "</table>\n",
       "</div>"
      ],
      "text/plain": [
       "Season        Summer  Winter\n",
       "City                        \n",
       "Atlanta        13780       0\n",
       "Squaw Valley       0    1116"
      ]
     },
     "execution_count": 19,
     "metadata": {},
     "output_type": "execute_result"
    }
   ],
   "source": [
    "(pd.crosstab(data.City, data.Season)\n",
    ".loc[['Atlanta', 'Squaw Valley']])"
   ]
  },
  {
   "cell_type": "markdown",
   "metadata": {},
   "source": [
    "__10. What is the absolute difference between the number of unique sports at the 1986 Olympics and 2002 Olympics?__\n",
    "\n",
    "- 3 \n",
    "- 10\n",
    "- 15 **[+]**\n",
    "- 27 "
   ]
  },
  {
   "cell_type": "code",
   "execution_count": 20,
   "metadata": {},
   "outputs": [
    {
     "data": {
      "text/plain": [
       "15"
      ]
     },
     "execution_count": 20,
     "metadata": {},
     "output_type": "execute_result"
    }
   ],
   "source": [
    "abs(data[data.Year == 1986].Sport.nunique() - data[data.Year == 2002].Sport.nunique())"
   ]
  }
 ],
 "metadata": {
  "kernelspec": {
   "display_name": "Python 3",
   "language": "python",
   "name": "python3"
  },
  "language_info": {
   "codemirror_mode": {
    "name": "ipython",
    "version": 3
   },
   "file_extension": ".py",
   "mimetype": "text/x-python",
   "name": "python",
   "nbconvert_exporter": "python",
   "pygments_lexer": "ipython3",
   "version": "3.7.3"
  }
 },
 "nbformat": 4,
 "nbformat_minor": 2
}
