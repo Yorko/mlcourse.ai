{
 "cells": [
  {
   "cell_type": "markdown",
   "metadata": {},
   "source": [
    "<center>\n",
    "<img src=\"../../img/ods_stickers.jpg\" />\n",
    "    \n",
    "## [mlcourse.ai](https://mlcourse.ai) – Open Machine Learning Course \n",
    "Author: [Yury Kashnitsky](https://yorko.github.io) (@yorko). This material is subject to the terms and conditions of the [Creative Commons CC BY-NC-SA 4.0](https://creativecommons.org/licenses/by-nc-sa/4.0/) license. Free use is permitted for any non-commercial purpose."
   ]
  },
  {
   "cell_type": "markdown",
   "metadata": {
    "collapsed": true
   },
   "source": [
    "# <center>Assignment #2. Optional part\n",
    "## <center> Implementation of the gradient boosting algorithm\n",
    "    \n",
    "#  <center>  <font color = 'red'> Warning! </font>This is a very useful but ungraded assignment"
   ]
  },
  {
   "cell_type": "markdown",
   "metadata": {},
   "source": [
    "In this assignment, we will implement a the general gradient boosting algorithm -- the same class will implement a binary classifier that minimizes the logistic loss function and two regressors that minimize the mean squared error (MSE) and the root mean squared logarithmic error ([RMSLE](https://www.kaggle.com/wiki/RootMeanSquaredLogarithmicError)). This way, we will see that we can optimize arbitrary differentiable functions using gradient boosting and how this technique adapts in different contexts.\n",
    "\n",
    "We will use the algorithm version from the [article](https://habrahabr.ru/company/ods/blog/327250/#klassicheskiy-gbm-algoritm-friedman-a) but with two simplifications:\n",
    "1. We initialize the algorithm with the mean value of the vector $\\large y$ i.e. $\\large \\hat{f_0} = \\frac{1}{n}\\sum_{i=1}^{n}y_i$.\n",
    "2. We will make the learning rate constant: $\\large \\rho_t = const$.\n",
    "\n",
    "There is a mapping between the pseudo code and the class parameters in `GradientBoosting`:\n",
    "\n",
    "| What | Pseudo code &nbsp;&nbsp;&nbsp;&nbsp;&nbsp;&nbsp; &nbsp;&nbsp;&nbsp;&nbsp;&nbsp; &nbsp;&nbsp;&nbsp;&nbsp; &nbsp; &nbsp;&nbsp;&nbsp;&nbsp; &nbsp;&nbsp;&nbsp;&nbsp; &nbsp;&nbsp;&nbsp;&nbsp;| `GradientBoosting` |\n",
    "|:-----|:--------------------------------------|:-------------------|\n",
    "| Training set  | $\\large \\{x_i, y_i\\}_{i = 1,\\ldots n}$ | `X`, `y` |\n",
    "| Loss function | $\\large L(y,f)$ | `objective` |\n",
    "| Loss function gradient | $\\large \\frac{\\partial L(y_i,f(x_i))}{\\partial f(x_i)}$ | `objective_grad` |\n",
    "| Number of iterations | $\\large М$ | `n_estimators` |\n",
    "| Base algorithm (decision tree regressor) | $\\large h(x,\\theta)$ | `DecisionionTreeRegressor` |\n",
    "| Decision tree hyperparameters | $\\large \\theta$ | We will use only `max_depth` and `random_state`. |\n",
    "| Learning rate<br>(coefficient for $\\large h_t(x,\\theta)$ in the composition) | $\\large \\rho_t, \\quad t=1,\\ldots,M$ | `learning_rate` |"
   ]
  },
  {
   "cell_type": "markdown",
   "metadata": {},
   "source": [
    "## Deriving gradients for log_loss, MSE and RMSLE\n",
    "\n",
    "Let's start with the traditional way of deriving formulas with pen and paper:\n",
    "$\\DeclareMathOperator{\\logloss}{log\\_loss}$\n",
    "$\\DeclareMathOperator{\\MSE}{MSE}$\n",
    "$\\DeclareMathOperator{\\RMSLE}{RMSLE}$\n",
    "$\\newcommand{\\y}{\\mathbf{y}}$\n",
    "$\\newcommand{\\p}{\\mathbf{p}}$\n",
    "\n",
    "$$\\begin{array}{rcl}\n",
    "\\logloss(\\y, \\p) &=& -\\y\\log \\p + (1 - \\y)\\log (1 - \\p) \\\\\n",
    "&=& -\\sum_{i=1}^{n}\\left[y_i\\log p_i + (1 - y_i)\\log (1 - p_i)\\right] \\\\\n",
    "\\\\\n",
    "\\MSE(\\y, \\p) &=& \\frac{1}{n}(\\y - \\p)^T(\\y - \\p) = \\frac{1}{n}\\sum_{i=1}^{n}(y_i - p_i)^2 \\\\\n",
    "\\\\\n",
    "\\RMSLE(\\y, \\p) &=& \\sqrt{\\frac{1}{n} (\\log (\\p + 1) - \\log (\\y + 1))^T(\\log (\\p + 1) - \\log (\\y + 1))} \\\\\n",
    "&=& \\sqrt{\\frac{1}{n} \\sum_{i=1}^{n}(\\log (p_i + 1) - \\log (y_i + 1))^2}\n",
    "\\end{array}$$\n",
    "\n",
    "where:\n",
    "\n",
    "* $\\y$ and $\\p$ are **vectors** of values and predictions respectively.\n",
    "* $\\logloss$ takes the same values as in `scikit-learn` with $0$ and $1$ instead of $-1$ and $1$, as described in the main article."
   ]
  },
  {
   "cell_type": "markdown",
   "metadata": {},
   "source": [
    "**Question 1.** What is the expression for the `MSE` gradient?\n",
    "\n",
    "$\\begin{array}{rcl}\n",
    "&& \\text{1. } (\\p - \\y) && \\text{3. } 2(\\p - \\y) \\\\\n",
    "&& \\text{2. } \\frac{2}{n}(\\y - \\p) && \\text{4. } \\frac{2}{n}(\\p - \\y)\n",
    "\\end{array}$"
   ]
  },
  {
   "cell_type": "markdown",
   "metadata": {},
   "source": [
    "**Question 2.** What is the expression for the `log_loss` gradient?\n",
    "\n",
    "$\\begin{array}{rcl}\n",
    "&& \\text{1. } \\large \\frac{\\y - \\p}{\\y(1 - \\y)} && \\text{3. } \\large \\frac{\\p - \\y}{\\p(1 - \\p)} \\\\\n",
    "&& \\text{2. } \\large \\frac{\\y - \\p}{\\p(1 - \\p)} && \\text{4. } \\large \\frac{\\p - \\y}{\\y(1 - \\y)}\n",
    "\\end{array}$\n",
    "\n",
    "*Note:* division by a vector is element-wise, i.e. $\\frac{1}{\\p} = (\\frac{1}{p_1}, \\ldots \\frac{1}{p_n})^T$."
   ]
  },
  {
   "cell_type": "markdown",
   "metadata": {},
   "source": [
    "**Question 3.** What is the expression for the `RMSLE` gradient?\n",
    "\n",
    "$\\begin{array}{rcl}\n",
    "&& \\text{1. } \\frac{1}{n}(\\p + 1)\\RMSLE^{-1}(\\y, \\p) \\log \\frac{\\p+1}{\\y+1} && \\text{3. } [n(\\y + 1)\\RMSLE(\\y, \\p)]^{-1} \\log \\frac{\\p+1}{\\y+1} \\\\\n",
    "&& \\text{2. } [n(\\p + 1)\\RMSLE(\\y, \\p)]^{-1} \\log \\frac{\\p+1}{\\y+1} && \\text{4. } \\frac{1}{n}\\frac{\\y+1}{(\\p + 1)}\\RMSLE^{-1}(\\y, \\p) \\log \\frac{\\p+1}{\\y+1}\n",
    "\\end{array}$"
   ]
  },
  {
   "cell_type": "markdown",
   "metadata": {},
   "source": [
    "## Algorithm implementation\n",
    "\n",
    "### Task:\n",
    "\n",
    "Implement the `GradientBoosting` class using the following specification:\n",
    "- The class inherits from `sklearn.base.BaseEstimator`.\n",
    "- The constructor has the following parameters:\n",
    "\n",
    "     - `loss` – a loss function to be optimized: `log_loss`, `mse` (by default) or `rmsle`;\n",
    "     - `n_estimators` – the number of trees, that is, the number of boosting iterations (10 by default);\n",
    "     - `learning_rate` – the learning rate ($10^{-2}$ by default);\n",
    "     - `max_depth` – the maximum depth of a tree (3 by default);\n",
    "     - `random_state` – the seed for the random number generator, only used for trees (17 by default).\n",
    "     \n",
    "- Depending on the value of `loss`, `objective` and `objective_grad` are initialized differently:\n",
    "\n",
    "     - For `mse`, use `sklearn.metrics.mean_squared_error`;\n",
    "     - For `log_loss`, use `sklearn.metrics.log_loss`;\n",
    "     - For `rmsle`, you will need to implement the loss function by yourself as well as the gradients of all three loss functions. Also, don't leave out constants like $2$ or $n$ when computing the gradients.\n",
    "     \n",
    "- You will be using element-wise vector division in the implementations of the gradients for `log_loss` and `rmsle`. In order to avoid division by zero, replace all values less than $10^{-5}$ with $10^{-5}$, but do it only where it is absolutely neccesary. For example, when computing $\\frac{y}{p}$, only replace the values in vector $p$.\n",
    "- The constructor must create lists `loss_by_iter_` and `residuals_by_iter_` for debugging purposes and `trees_` for storing trained trees.\n",
    "- The class must have methods `fit`, `predict`, and `predict_proba`:\n",
    "    - The method `fit` takes a matrix `X` and a vector `y` (both are instances of `numpy.array`) as arguments, and returns the current instance of `GradientBoosting` i.e `self`. This method will implement the main logic of the algorithm. At each iteration, the current value of the loss function is stored in `loss_by_iter`, the value of the anti gradient (what we called *pseudo residuals* in the article) in `residuals_by_iter_`. Optionally, you could add a flag `debug=False` to the constructor arguments and store the anti gradient values when it is set to `True`. You must store each new trained tree in the `trees_` list.\n",
    "    - The method `predict_proba` returns a linear combination of predictions over the trees. Don't forget the initial approximation. In the case of regression, the name of the method is somewhat misleading, but let's keep it so that we do not have to implement it twice for both the regressor and classifier. In the case of classification, apply $\\sigma$-transformation to the returned value. In the impementation of the $\\sigma$-function, replace arguments with absolute values larger than $100$ with $100$ or $-100$, depending on the sign of the argument, to prevent underflow or overflow.\n",
    "    - In the case of regression, method `predict` returns a linear combination of predictions over all the trees (plus the initial aproximation) i.e. the same as the method `predict_proba`. In the case of classification, `predict` uses `predict_proba` and returns a vector composed of $0$s and $1$s obtained by comparing the predicted probabilities with a threshold that maximizes a share of correct answers on the training set. Here, it would be better to solve a one-dimensional optimization problem, but, for the sake of reproducibility, you should choose the threshold from `np.linspace(0.01, 1.01, 100)`."
   ]
  },
  {
   "cell_type": "markdown",
   "metadata": {},
   "source": [
    "### Solution:"
   ]
  },
  {
   "cell_type": "code",
   "execution_count": 1,
   "metadata": {
    "collapsed": true
   },
   "outputs": [],
   "source": [
    "import numpy as np\n",
    "from tqdm import tqdm_notebook\n",
    "from sklearn.base import BaseEstimator\n",
    "from sklearn.metrics import log_loss, mean_squared_error, roc_auc_score, accuracy_score\n",
    "from sklearn.datasets import load_breast_cancer, load_boston\n",
    "from sklearn.model_selection import train_test_split\n",
    "from sklearn.tree import DecisionTreeClassifier, DecisionTreeRegressor\n",
    "from matplotlib import pyplot as plt\n",
    "%matplotlib inline"
   ]
  },
  {
   "cell_type": "code",
   "execution_count": 2,
   "metadata": {
    "collapsed": true
   },
   "outputs": [],
   "source": [
    "class GradientBoosting(BaseEstimator):\n",
    "    def __init__(self):\n",
    "        pass\n",
    "\n",
    "    def sigma(self, z):\n",
    "        pass\n",
    "    \n",
    "    def log_loss(self, y, p):\n",
    "        pass\n",
    "    \n",
    "    def log_loss_grad(self, y, p):\n",
    "        pass\n",
    "    \n",
    "    def mse_grad(self, y, p):\n",
    "        pass\n",
    "    \n",
    "    def rmsle(self, y, p):\n",
    "        pass\n",
    "    \n",
    "    def rmsle_grad(self, y, p):\n",
    "        pass\n",
    "        \n",
    "    def fit(self, X, y):\n",
    "        pass\n",
    "                 \n",
    "    def predict_proba(self, X):\n",
    "        pass\n",
    "        \n",
    "    def predict(self, X):\n",
    "        pass"
   ]
  },
  {
   "cell_type": "markdown",
   "metadata": {
    "collapsed": true
   },
   "source": [
    "## Regression with a toy example"
   ]
  },
  {
   "cell_type": "markdown",
   "metadata": {},
   "source": [
    "Prepare the dataset:"
   ]
  },
  {
   "cell_type": "code",
   "execution_count": 3,
   "metadata": {},
   "outputs": [
    {
     "data": {
      "image/png": "[encoded data removed]",
      "text/plain": [
       "<matplotlib.figure.Figure at 0x10afd2ef0>"
      ]
     },
     "metadata": {},
     "output_type": "display_data"
    }
   ],
   "source": [
    "X_regr_toy = np.arange(7).reshape(-1, 1)\n",
    "\n",
    "y_regr_toy = ((X_regr_toy - 3) ** 2).astype('float64')\n",
    "\n",
    "plt.scatter(X_regr_toy, y_regr_toy);"
   ]
  },
  {
   "cell_type": "markdown",
   "metadata": {},
   "source": [
    "### Task:\n",
    "\n",
    "Train an instance of the `GradientBoosting` regressor with the loss function `MSE` and the following input parameters: `learning_rate=0.1`, `max_depth=3`, `n_estimators=200`. Then, plot the change of the loss function over boosting iterations. You could also visualize the initial approximation and pseudo residuals on the first iterations as done in the article."
   ]
  },
  {
   "cell_type": "markdown",
   "metadata": {},
   "source": [
    "### Solution:"
   ]
  },
  {
   "cell_type": "code",
   "execution_count": 4,
   "metadata": {
    "collapsed": true
   },
   "outputs": [],
   "source": [
    "# Your code here"
   ]
  },
  {
   "cell_type": "markdown",
   "metadata": {},
   "source": [
    "### Task:\n",
    "\n",
    "Train another `GradientBoosting` regressor with the same input parameters, but change the loss function to `RMSLE`. Plot the same values as in the previous task."
   ]
  },
  {
   "cell_type": "markdown",
   "metadata": {},
   "source": [
    "### Solution:"
   ]
  },
  {
   "cell_type": "code",
   "execution_count": 5,
   "metadata": {
    "collapsed": true
   },
   "outputs": [],
   "source": [
    "# Your code here"
   ]
  },
  {
   "cell_type": "markdown",
   "metadata": {},
   "source": [
    "## Classification with a toy example"
   ]
  },
  {
   "cell_type": "markdown",
   "metadata": {},
   "source": [
    "Prepare the dataset:"
   ]
  },
  {
   "cell_type": "code",
   "execution_count": 6,
   "metadata": {
    "collapsed": true
   },
   "outputs": [],
   "source": [
    "X_clf_toy = np.c_[np.arange(7), (np.arange(7) - 3) ** 2]\n",
    "y_clf_toy = np.array([0, 1, 0, 1, 0, 1, 0])"
   ]
  },
  {
   "cell_type": "code",
   "execution_count": 7,
   "metadata": {},
   "outputs": [
    {
     "data": {
      "image/png": "[encoded data removed]",
      "text/plain": [
       "<matplotlib.figure.Figure at 0x1071bf7b8>"
      ]
     },
     "metadata": {},
     "output_type": "display_data"
    }
   ],
   "source": [
    "plt.scatter(X_clf_toy[:, 0], X_clf_toy[:, 1], c=y_clf_toy,\n",
    "            s=100, edgecolors='black', linewidth=1);"
   ]
  },
  {
   "cell_type": "markdown",
   "metadata": {},
   "source": [
    "### Task:\n",
    "\n",
    "Train a classifier of type `GradientBoosting` with the loss function `log_loss` and the following parameters: `learning_rate=0.05`, `max_depth=3`, `n_estimators=10`. Then, plot the change of the loss function over boosting iterations. You could also visualize the initial approximation and pseudo residuals on the first iterations as done in the article."
   ]
  },
  {
   "cell_type": "markdown",
   "metadata": {},
   "source": [
    "### Solution:"
   ]
  },
  {
   "cell_type": "code",
   "execution_count": 8,
   "metadata": {
    "collapsed": true
   },
   "outputs": [],
   "source": [
    "# Your code here"
   ]
  },
  {
   "cell_type": "markdown",
   "metadata": {},
   "source": [
    "**Question 4.** For all $7$ objects in the toy dataset, calculate the predicted probabilities of being in the class $+1$? What are the two unique values in the computed vector?\n",
    "\n",
    "1. $0.42$ and $0.77$\n",
    "2. $0.36$ and $0.82$\n",
    "3. $0.48$ and $0.53$\n",
    "4. $0.46$ and $0.75$"
   ]
  },
  {
   "cell_type": "markdown",
   "metadata": {},
   "source": [
    "## Regression with the Boston House-Prices Dataset"
   ]
  },
  {
   "cell_type": "markdown",
   "metadata": {},
   "source": [
    "Prepare the dataset:"
   ]
  },
  {
   "cell_type": "code",
   "execution_count": 9,
   "metadata": {
    "collapsed": true
   },
   "outputs": [],
   "source": [
    "boston = load_boston()\n",
    "X, y = boston.data, boston.target"
   ]
  },
  {
   "cell_type": "code",
   "execution_count": 10,
   "metadata": {
    "collapsed": true
   },
   "outputs": [],
   "source": [
    "X_train, X_test, y_train, y_test = train_test_split(X, y, test_size=0.3, random_state=17)"
   ]
  },
  {
   "cell_type": "markdown",
   "metadata": {},
   "source": [
    "### Task:\n",
    "\n",
    "- Train a `GradientBoosting` regressor with the loss function `MSE` and the following parameters: `learning_rate=3`,  `max_depth=10`, `n_estimators=300`.\n",
    "- Plot the change of the loss function over boosting iterations.\n",
    "- Make predictions on the test set.\n",
    "- Plot the distribution of `y_test`, which are the output variable values from the training set, along with the distribution of `test_pred`, which contains the values predicted by gradient boosting. Use the method `hist` from `matplotlib.pyplot` with the parameter `bins=15`.\n",
    "\n",
    "### Solution:"
   ]
  },
  {
   "cell_type": "code",
   "execution_count": 11,
   "metadata": {
    "collapsed": true
   },
   "outputs": [],
   "source": [
    "# Your code here"
   ]
  },
  {
   "cell_type": "markdown",
   "metadata": {},
   "source": [
    "**Question 5.** Choose the correct statement regarding the resulting histograms:\n",
    "1. On average, boosting predictions are overestimated by 10.\n",
    "2. In the bin that contains the median of the answers on the test set (i.e. `numpy.median(y_test)`), there are more values from the vector of predictions `test_pred` than from the vector of answers `y_test`.\n",
    "3. Sometimes our boosting algorithm predicts values that are far beyond the range of the `y_test` vector."
   ]
  },
  {
   "cell_type": "markdown",
   "metadata": {},
   "source": [
    "## Classification with the Breast Cancer Wisconsin Dataset"
   ]
  },
  {
   "cell_type": "markdown",
   "metadata": {},
   "source": [
    "Prepare the dataset:"
   ]
  },
  {
   "cell_type": "code",
   "execution_count": 13,
   "metadata": {
    "collapsed": true
   },
   "outputs": [],
   "source": [
    "cancer = load_breast_cancer()\n",
    "X, y = cancer.data, cancer.target"
   ]
  },
  {
   "cell_type": "code",
   "execution_count": 14,
   "metadata": {
    "collapsed": true
   },
   "outputs": [],
   "source": [
    "X_train, X_test, y_train, y_test = train_test_split(X, y, test_size=0.3, random_state=17)"
   ]
  },
  {
   "cell_type": "markdown",
   "metadata": {},
   "source": [
    "### Task:\n",
    "\n",
    "- Train a `GradientBoosting` classifier with the loss function `log_loss` and the parameters `learning_rate=0.01`, `max_depth=3`, `n_estimators=200`.\n",
    "- Plot the change of the loss function over boosting iterations.\n",
    "- Make predictions on the test set: both the probabilities of being in the class $+1$ and binary predictions. \n",
    "- Calculate ROC AUC for the case of probabilites and the share of correct answers for binary predictions.\n",
    "\n",
    "### Solution:"
   ]
  },
  {
   "cell_type": "code",
   "execution_count": 15,
   "metadata": {
    "collapsed": true
   },
   "outputs": [],
   "source": [
    "# Your code here"
   ]
  },
  {
   "cell_type": "markdown",
   "metadata": {},
   "source": [
    "**Question 6.** What are the ROC AUC value and the share of correct predictions on the test set `(X_test, y_test)`?\n",
    "1. $0.99$ and $0.97$\n",
    "2. $1$ and $0.97$\n",
    "3. $0.98$ and $0.96$\n",
    "4. $0.97$ and $0.95$"
   ]
  }
 ],
 "metadata": {
  "kernelspec": {
   "display_name": "Python 3",
   "language": "python",
   "name": "python3"
  },
  "language_info": {
   "codemirror_mode": {
    "name": "ipython",
    "version": 3
   },
   "file_extension": ".py",
   "mimetype": "text/x-python",
   "name": "python",
   "nbconvert_exporter": "python",
   "pygments_lexer": "ipython3",
   "version": "3.7.3"
  }
 },
 "nbformat": 4,
 "nbformat_minor": 2
}
