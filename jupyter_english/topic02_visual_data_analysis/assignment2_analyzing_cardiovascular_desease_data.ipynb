{
 "cells": [
  {
   "cell_type": "markdown",
   "metadata": {},
   "source": [
    "<center>\n",
    "<img src=\"../../img/ods_stickers.jpg\">\n",
    "## Open Machine Learning Course\n",
    "<center>Authors: Ilya Baryshnikov, Data Scientist at ivi.ru, [Yury Kashnitsky](https://www.linkedin.com/in/festline/), Data Scientist at Mail.Ru Group <br>\n",
    "Translated and edited by Inga Kaydanova, [Egor Polusmak](https://www.linkedin.com/in/egor-polusmak/), Anastasia Manokhina, and [Yuanyuan Pao](https://www.linkedin.com/in/yuanyuanpao/) \n",
    "\n",
    "This material is subject to the terms and conditions of the license [Creative Commons CC BY-NC-SA 4.0](https://creativecommons.org/licenses/by-nc-sa/4.0/). Free use is permitted for any non-comercial purpose with an obligatory indication of the names of the authors and of the source."
   ]
  },
  {
   "cell_type": "markdown",
   "metadata": {
    "collapsed": true
   },
   "source": [
    "# <center>Assignment # 2</center>\n",
    "## <center>Analyzing cardiovascular disease data</center>  "
   ]
  },
  {
   "cell_type": "markdown",
   "metadata": {},
   "source": [
    "In this assignment, you will answer questions about a dataset on cardiovascular disease. You do not need to download the data: it is already in the repository. There are some Tasks that will require you to write code. Complete them and then answer the questions in the [form](https://drive.google.com/open?id=1IpLdIncbGKLvaAAE0VBB2EBuyrJDmzUrPr4pBl8k7cI).\n",
    "\n",
    "#### Problem\n",
    "\n",
    "Predict the presence or absence of cardiovascular disease (CVD) using the patient examination results.\n",
    "\n",
    "#### Data description\n",
    "\n",
    "There are 3 types of input features:\n",
    "\n",
    "- *Objective*: factual information;\n",
    "- *Examination*: results of medical examination;\n",
    "- *Subjective*: information given by the patient.\n",
    "\n",
    "| Feature | Variable Type | Variable      | Value Type |\n",
    "|---------|--------------|---------------|------------|\n",
    "| Age | Objective Feature | age | int (days) |\n",
    "| Height | Objective Feature | height | int (cm) |\n",
    "| Weight | Objective Feature | weight | float (kg) |\n",
    "| Gender | Objective Feature | gender | categorical code |\n",
    "| Systolic blood pressure | Examination Feature | ap_hi | int |\n",
    "| Diastolic blood pressure | Examination Feature | ap_lo | int |\n",
    "| Cholesterol | Examination Feature | cholesterol | 1: normal, 2: above normal, 3: well above normal |\n",
    "| Glucose | Examination Feature | gluc | 1: normal, 2: above normal, 3: well above normal |\n",
    "| Smoking | Subjective Feature | smoke | binary |\n",
    "| Alcohol intake | Subjective Feature | alco | binary |\n",
    "| Physical activity | Subjective Feature | active | binary |\n",
    "| Presence or absence of cardiovascular disease | Target Variable | cardio | binary |\n",
    "\n",
    "All of the dataset values were collected at the moment of medical examination."
   ]
  },
  {
   "cell_type": "markdown",
   "metadata": {},
   "source": [
    "Let's get to know our data by performing a preliminary data analysis.\n",
    "\n",
    "#  Part 1. Preliminary data analysis\n",
    "\n",
    "First, we will initialize the environment:"
   ]
  },
  {
   "cell_type": "code",
<<<<<<< HEAD
<<<<<<< HEAD
   "execution_count": 14,
=======
   "execution_count": 1,
>>>>>>> e24ab1eb00a8599cfb9ecdb21dac957d4d3c4db8
=======
   "execution_count": 14,
>>>>>>> 5ab016c1dde955f61ab39bc1daf935f455189dc0
   "metadata": {},
   "outputs": [],
   "source": [
    "# Import all required modules\n",
    "import pandas as pd\n",
    "import numpy as np\n",
    "\n",
<<<<<<< HEAD
    "# we don't like warnings\n",
    "# you can comment the following 2 lines if you'd like to\n",
    "import warnings\n",
    "warnings.filterwarnings('ignore')\n",
=======
    "# Disable warnings\n",
    "import warnings\n",
    "warnings.filterwarnings(\"ignore\")\n",
>>>>>>> 5ab016c1dde955f61ab39bc1daf935f455189dc0
    "\n",
    "# Import plotting modules\n",
    "import seaborn as sns\n",
    "sns.set()\n",
    "import matplotlib\n",
    "import matplotlib.pyplot as plt\n",
    "import matplotlib.ticker\n",
    "%matplotlib inline"
   ]
  },
  {
   "cell_type": "markdown",
   "metadata": {},
   "source": [
    "You will use the `seaborn` library for visual analysis, so let's set that up too:"
   ]
  },
  {
   "cell_type": "code",
<<<<<<< HEAD
<<<<<<< HEAD
   "execution_count": 15,
=======
   "execution_count": 2,
>>>>>>> e24ab1eb00a8599cfb9ecdb21dac957d4d3c4db8
=======
   "execution_count": 15,
>>>>>>> 5ab016c1dde955f61ab39bc1daf935f455189dc0
   "metadata": {},
   "outputs": [],
   "source": [
    "# Tune the visual settings for figures in `seaborn`\n",
    "sns.set_context(\n",
    "    \"notebook\", \n",
    "    font_scale=1.5,       \n",
    "    rc={ \n",
    "        \"figure.figsize\": (11, 8), \n",
<<<<<<< HEAD
    "        \"axes.titlesize\": 18,\n",
    "        \"image.cmap\": \"viridis\"\n",
    "    }\n",
    ")"
=======
    "        \"axes.titlesize\": 18 \n",
    "    }\n",
    ")\n",
    "\n",
    "from matplotlib import rcParams\n",
    "rcParams['figure.figsize'] = 11, 8"
>>>>>>> 5ab016c1dde955f61ab39bc1daf935f455189dc0
   ]
  },
  {
   "cell_type": "markdown",
   "metadata": {},
   "source": [
    "To make it simple, we will work only with the training part of the dataset:"
   ]
  },
  {
   "cell_type": "code",
   "execution_count": 16,
   "metadata": {},
   "outputs": [
    {
     "name": "stdout",
     "output_type": "stream",
     "text": [
      "Dataset size:  (70000, 13)\n"
     ]
    },
    {
     "data": {
      "text/html": [
       "<div>\n",
       "<style scoped>\n",
       "    .dataframe tbody tr th:only-of-type {\n",
       "        vertical-align: middle;\n",
       "    }\n",
       "\n",
       "    .dataframe tbody tr th {\n",
       "        vertical-align: top;\n",
       "    }\n",
       "\n",
       "    .dataframe thead th {\n",
       "        text-align: right;\n",
       "    }\n",
       "</style>\n",
       "<table border=\"1\" class=\"dataframe\">\n",
       "  <thead>\n",
       "    <tr style=\"text-align: right;\">\n",
       "      <th></th>\n",
       "      <th>id</th>\n",
       "      <th>age</th>\n",
       "      <th>gender</th>\n",
       "      <th>height</th>\n",
       "      <th>weight</th>\n",
       "      <th>ap_hi</th>\n",
       "      <th>ap_lo</th>\n",
       "      <th>cholesterol</th>\n",
       "      <th>gluc</th>\n",
       "      <th>smoke</th>\n",
       "      <th>alco</th>\n",
       "      <th>active</th>\n",
       "      <th>cardio</th>\n",
       "    </tr>\n",
       "  </thead>\n",
       "  <tbody>\n",
       "    <tr>\n",
       "      <th>0</th>\n",
       "      <td>0</td>\n",
       "      <td>18393</td>\n",
       "      <td>2</td>\n",
       "      <td>168</td>\n",
       "      <td>62.0</td>\n",
       "      <td>110</td>\n",
       "      <td>80</td>\n",
       "      <td>1</td>\n",
       "      <td>1</td>\n",
       "      <td>0</td>\n",
       "      <td>0</td>\n",
       "      <td>1</td>\n",
       "      <td>0</td>\n",
       "    </tr>\n",
       "    <tr>\n",
       "      <th>1</th>\n",
       "      <td>1</td>\n",
       "      <td>20228</td>\n",
       "      <td>1</td>\n",
       "      <td>156</td>\n",
       "      <td>85.0</td>\n",
       "      <td>140</td>\n",
       "      <td>90</td>\n",
       "      <td>3</td>\n",
       "      <td>1</td>\n",
       "      <td>0</td>\n",
       "      <td>0</td>\n",
       "      <td>1</td>\n",
       "      <td>1</td>\n",
       "    </tr>\n",
       "    <tr>\n",
       "      <th>2</th>\n",
       "      <td>2</td>\n",
       "      <td>18857</td>\n",
       "      <td>1</td>\n",
       "      <td>165</td>\n",
       "      <td>64.0</td>\n",
       "      <td>130</td>\n",
       "      <td>70</td>\n",
       "      <td>3</td>\n",
       "      <td>1</td>\n",
       "      <td>0</td>\n",
       "      <td>0</td>\n",
       "      <td>0</td>\n",
       "      <td>1</td>\n",
       "    </tr>\n",
       "    <tr>\n",
       "      <th>3</th>\n",
       "      <td>3</td>\n",
       "      <td>17623</td>\n",
       "      <td>2</td>\n",
       "      <td>169</td>\n",
       "      <td>82.0</td>\n",
       "      <td>150</td>\n",
       "      <td>100</td>\n",
       "      <td>1</td>\n",
       "      <td>1</td>\n",
       "      <td>0</td>\n",
       "      <td>0</td>\n",
       "      <td>1</td>\n",
       "      <td>1</td>\n",
       "    </tr>\n",
       "    <tr>\n",
       "      <th>4</th>\n",
       "      <td>4</td>\n",
       "      <td>17474</td>\n",
       "      <td>1</td>\n",
       "      <td>156</td>\n",
       "      <td>56.0</td>\n",
       "      <td>100</td>\n",
       "      <td>60</td>\n",
       "      <td>1</td>\n",
       "      <td>1</td>\n",
       "      <td>0</td>\n",
       "      <td>0</td>\n",
       "      <td>0</td>\n",
       "      <td>0</td>\n",
       "    </tr>\n",
       "  </tbody>\n",
       "</table>\n",
       "</div>"
      ],
      "text/plain": [
       "   id    age  gender  height  weight  ap_hi  ap_lo  cholesterol  gluc  smoke  \\\n",
       "0   0  18393       2     168    62.0    110     80            1     1      0   \n",
       "1   1  20228       1     156    85.0    140     90            3     1      0   \n",
       "2   2  18857       1     165    64.0    130     70            3     1      0   \n",
       "3   3  17623       2     169    82.0    150    100            1     1      0   \n",
       "4   4  17474       1     156    56.0    100     60            1     1      0   \n",
       "\n",
       "   alco  active  cardio  \n",
       "0     0       1       0  \n",
       "1     0       1       1  \n",
       "2     0       0       1  \n",
       "3     0       1       1  \n",
       "4     0       0       0  "
      ]
     },
     "execution_count": 16,
     "metadata": {},
     "output_type": "execute_result"
    }
   ],
   "source": [
    "df = pd.read_csv('../../data/mlbootcamp5_train.csv', sep=';')\n",
    "print('Dataset size: ', df.shape)\n",
    "df.head()"
   ]
  },
  {
   "cell_type": "markdown",
   "metadata": {},
   "source": [
    "It would be instructive to peek into the values of our variables.\n",
    " \n",
    "Let's convert the data into *long* format and depict the value counts of the categorical features using [`factorplot()`](https://seaborn.pydata.org/generated/seaborn.factorplot.html)."
   ]
  },
  {
   "cell_type": "code",
   "execution_count": 17,
   "metadata": {},
   "outputs": [
    {
     "data": {
<<<<<<< HEAD
<<<<<<< HEAD
      "image/png": "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\n",
      "text/plain": [
       "<matplotlib.figure.Figure at 0x7f2fa6084400>"
=======
      "image/png": "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\n",
      "text/plain": [
       "<matplotlib.figure.Figure at 0x108a82710>"
>>>>>>> e24ab1eb00a8599cfb9ecdb21dac957d4d3c4db8
=======
      "image/png": "iVBORw0KGgoAAAANSUhEUgAAA4wAAANHCAYAAAB95dPVAAAABHNCSVQICAgIfAhkiAAAAAlwSFlzAAALEgAACxIB0t1+/AAAADl0RVh0U29mdHdhcmUAbWF0cGxvdGxpYiB2ZXJzaW9uIDIuMS4yLCBodHRwOi8vbWF0cGxvdGxpYi5vcmcvNQv5yAAAIABJREFUeJzs3X+05Xdd3/vXMEOAgSQekulCNDZE9J0Crb112d6gFS+IIblAKIsUK9cW6GobLIZLYlwEE02QlITww5hU05YufqgxEomF5BKyiGgWFGyjQr0S5gOXn/VexUFPmoQBwTD3j72P3WzfyeSc2Yd9zpnHY62zZs73+9mf/Zl9ZtbKM99fuw4dOhQAAACY95BlLwAAAICtSTACAADQEowAAAC0BCMAAAAtwQgAAEBLMAIAANDas+wF7DQHDtzjOSUAALAN7Nt37K5lr2Grc4QRAACAlmAEAACgJRgBAABoCUYAAABaghEAAICWYAQAAKAlGAEAAGgJRgAAAFqCEQAAgJZgBAAAoCUYAQAAaAlGAAAAWoIRAACAlmAEAACgJRgBAABoCUYAAABaghEAAICWYAQAAKAlGAEAAGgJRgAAAFqCEQAAgJZgBAAAoCUYAQAAaAlGAAAAWoIRAACAlmAEAACgJRgBAABoCUYAAABaghEAAICWYAQAAKAlGAEAAGgJRgAAAFqCEQAAgJZgBAAAoCUYAQAAaAlGAAAAWnuWvQDYDl525bsWPudVFzx74XMCAMAiOcIIAABASzACAADQEowAAAC0BCMAAAAtwQgAAEBLMAIAANASjAAAALQEIwAAAC3BCAAAQEswAgAA0BKMAAAAtAQjAAAALcEIAABASzACAADQEowAAAC0BCMAAAAtwQgAAEBLMAIAANASjAAAALQEIwAAAC3BCAAAQEswAgAA0BKMAAAAtAQjAAAALcEIAABASzACAADQ2rPsBQAAwNHqZVe+a+FzXnXBsxc+J0cvRxgBAABoCUYAAABaghEAAICWYAQAAKAlGAEAAGgJRgAAAFqCEQAAgJZgBAAAoCUYAQAAaAlGAAAAWoIRAACAlmAEAACgJRgBAABoCUYAAABaghEAAICWYAQAAKAlGAEAAGgJRgAAAFqCEQAAgJZgBAAAoCUYAQAAaAlGAAAAWoIRAACAlmAEAACgJRgBAABoCUYAAABaghEAAICWYAQAAKAlGAEAAGgJRgAAAFqCEQAAgJZgBAAAoCUYAQAAaAlGAAAAWoIRAACAlmAEAACgtWeZb15Ve5L8RJJ/nuTbkhxIcsMY4+UzY3YluTDJS5KcmOSOJOeOMT4yN9cTklyd5LQkdyV5U5JLxxj3bcZcAAAAO92yjzC+Jcm5SV6X5IeSvCLJl+bGvCLJxUmuSPKsJPcmua2qHrM2oKpWktyW5FCSs5K8Ksn5SS7dxLkAAAB2tKUdYayqZyR5fpLvGmPceT9jHp5J5L1mjHHNdNuHknwmyUuTXDQdek6SRyR57hjj7iTvrarjklxSVa8dY9y9yLkW+TkAAABsVcs8wvjiJO+7v1icenKS45K8fW3DGOOLSW5KcsbMuDOS3DoXc9dnEn5P2YS5AAAAdrxlBuM/SPLxqrqmqu6uqoNVdWNVPXZmzKlJ7kvyibnXfmy6b3bc/tkBY4zPJTk4M26RcwEAAOx4ywzGxyR5YZK/m+SHk7woyXcn+Y3pzWmSZCXJvc3NZlaT7K2qY2bG3dW8x+p036LnAgAA2PGWeZfUXdOvs8YYf5YkVfXHSW5P8tQkv7nEtW3Yysre7Nmze9nLYBvYt+/YZS8BANiB/DcGi7TMYFxN8qm1WJz6QJKvJHlCJsG4muRRVbV77sjgSpKDY4yvzMx1fPMeK9N9a2MWNdf9/6FWDx5uCCRJDhy4Z9lLAAB2IP+N8eCJ68Nb5impH8vkCOO8XUm+Nv39/iS7kzx+bsz8dYb7M3d9YVWdlGTvzLhFzgUAALDjLTMYb07yt6vqxJlt35/koUn+2/T7Dya5O8nZawOqam8mz1C8ZeZ1tyQ5vapm/xfB8zN5puPtmzAXAADAjrfMU1L/fZJzk9xUVf8mybFJrkhy2xjjA0kyxvhyVV2e5OKqWs3kCN95mYTu1TNzXTud68aquiLJKUkuSfKGtcdjLHIuAACAo8HSjjBO4+upmVwXeH2Sf5vJdYv/eG7o5UkuS3JhJkclj0vy9DHG52fmWk3ytExOOb0pyaVJ3pjkZzZxLgAAgB1t16FDh5a9hh3lwIF7fKA70MuufNfC57zqgmcvfE4A2CwX3HzRwue88pmvXvic243/xliuffuO7e6pwoxlXsMIAADAFiYYAQAAaAlGAAAAWoIRAACAlmAEAACgJRgBAABoCUYAAABaghEAAICWYAQAAKAlGAEAAGgJRgAAAFqCEQAAgJZgBAAAoCUYAQAAaAlGAAAAWoIRAACAlmAEAACgJRgBAABoCUYAAABaghEAAICWYAQAAKAlGAEAAGgJRgAAAFqCEQAAgJZgBAAAoCUYAQAAaAlGAAAAWoIRAACAlmAEAACgJRgBAABoCUYAAABaghEAAICWYAQAAKAlGAEAAGgJRgAAAFp7lr0AFuuCmy/alHmvfOarN2VeAABg63KEEQAAgJZgBAAAoCUYAQAAaAlGAAAAWoIRAACAlmAEAACgJRgBAABoCUYAAABaghEAAICWYAQAAKAlGAEAAGgJRgAAAFqCEQAAgJZgBAAAoCUYAQAAaAlGAAAAWoIRAACAlmAEAACgJRgBAABoCUYAAABaghEAAICWYAQAAKAlGAEAAGgJRgAAAFqCEQAAgJZgBAAAoCUYAQAAaAlGAAAAWoIRAACAlmAEAACgJRgBAABoCUYAAABaghEAAICWYAQAAKAlGAEAAGgJRgAAAFqCEQAAgJZgBAAAoCUYAQAAaAlGAAAAWoIRAACAlmAEAACgtWfZCwCARbrg5os2Zd4rn/nqTZkXALYyRxgBAABoCUYAAABaghEAAICWYAQAAKAlGAEAAGgJRgAAAFqCEQAAgJZgBAAAoCUYAQAAaAlGAAAAWoIRAACAlmAEAACgJRgBAABoCUYAAABaghEAAICWYAQAAKAlGAEAAGgJRgAAAFqCEQAAgJZgBAAAoCUYAQAAaO1Z5ptX1QuTvLnZ9ZIxxrXTMbuSXJjkJUlOTHJHknPHGB+Zm+sJSa5OclqSu5K8KcmlY4z7ZsYsbC4AAICdbqscYXxqJnG29nXjzL5XJLk4yRVJnpXk3iS3VdVj1gZU1UqS25IcSnJWklclOT/JpXPvs8i5AAAAdrSlHmGccccY4975jVX18Ewi7zVjjGum2z6U5DNJXprkounQc5I8Islzxxh3J3lvVR2X5JKqeu0Y4+5FzrX4Pz4AAMDWs1WOMN6fJyc5Lsnb1zaMMb6Y5KYkZ8yMOyPJrXMxd30m4feUTZgLAABgx9sqwfjJqvrLqhpV9a9mtp+a5L4kn5gb/7Hpvtlx+2cHjDE+l+TgzLhFzgUAALDjLfuU1D/O5JrC/5pkd5IfTnJtVe0dY7wxyUqSe5ubzawm2VtVx4wxvjIdd1cz/+p0XxY81/1aWdmbPXt2H27YtrNv37HLXsKO4zOF7cW/WVg8/642h8+VRVpqMI4xbk1y68ymW6bXGl5UVVctaVlHZHX14LKXsCkOHLhn2UvYcXymsL34NwuL59/V5vC5Pnji+vC2yimps349yaOTnJzJUb1HVdX8IbuVJAenRwQzHXd8M9fKdN/amEXNBQAAsONtxWA8NPPr/kxOVX383Jj56wz3Z+76wqo6KcnemXGLnAsAAGDH24rB+LwkX0jy2SQfTHJ3krPXdlbV3kyeoXjLzGtuSXJ6Vc0eU35+ki8luX36/SLnAgAA2PGWeg1jVb0jkxve/EEmR/+eP/06d4zxtSRfrqrLk1xcVauZHOE7L5PQvXpmqmuTnJvkxqq6IskpSS5J8oa1x2OMMRY2FwAAwNFg2XdJHUlenOSkJLuS3Jnkn44xfmlmzOWZRN2FSU5I8rtJnj7G+PxfTTLGalU9Lck1mTxX8a4kb8wk9LJJcwEAAOxoy75L6iuTvPIwYw4luWz69UDj7kzy1G/UXAAAADvdVryGEQAAgC1AMAIAANASjAAAALQEIwAAAC3BCAAAQEswAgAA0BKMAAAAtAQjAAAALcEIAABASzACAADQEowAAAC0BCMAAAAtwQgAAEBLMAIAANASjAAAALQEIwAAAC3BCAAAQEswAgAA0BKMAAAAtAQjAAAALcEIAABASzACAADQEowAAAC0BCMAAAAtwQgAAEBLMAIAANASjAAAALQEIwAAAC3BCAAAQEswAgAA0BKMAAAAtAQjAAAALcEIAABASzACAADQEowAAAC0BCMAAAAtwQgAAEBLMAIAANASjAAAALQEIwAAAC3BCAAAQEswAgAA0Nqz7AUAAEevC26+aOFzXvnMVy98ToCjlSOMAAAAtAQjAAAALcEIAABASzACAADQEowAAAC0BCMAAAAtwQgAAEBLMAIAANASjAAAALQEIwAAAC3BCAAAQEswAgAA0BKMAAAAtAQjAAAALcEIAABASzACAADQEowAAAC0BCMAAAAtwQgAAEBLMAIAANASjAAAALQEIwAAAC3BCAAAQEswAgAA0BKMAAAAtAQjAAAALcEIAABASzACAADQEowAAAC0BCMAAAAtwQgAAEBLMAIAANASjAAAALQEIwAAAC3BCAAAQEswAgAA0BKMAAAAtAQjAAAALcEIAABASzACAADQEowAAAC0BCMAAAAtwQgAAEBLMAIAANASjAAAALQEIwAAAC3BCAAAQEswAgAA0BKMAAAAtAQjAAAALcEIAABASzACAADQEowAAAC0BCMAAAAtwQgAAEBLMAIAANDas+wFrKmqb0kykjwyybFjjHun23cluTDJS5KcmOSOJOeOMT4y9/onJLk6yWlJ7krypiSXjjHumxmzsLkAAAB2uq10hPHKJPc221+R5OIkVyR51nTMbVX1mLUBVbWS5LYkh5KcleRVSc5PcukmzgUAALCjbYlgrKrvT/KMJK+b2/7wTCLvNWOMa8YYtyU5O5OYe+nM0HOSPCLJc8cY7x1jXJtJ4J1XVcctei4AAICjwdKDsap2Z3L656uSfGFu95OTHJfk7WsbxhhfTHJTkjNmxp2R5NYxxt0z267PJPyesglzAQAA7HhLD8ZMjug9LMm/bfadmuS+JJ+Y2/6x6b7ZcftnB4wxPpfk4My4Rc4FAACw4y01GKvqhCQ/m+S8McZXmyErSe5tbjazmmRvVR0zM+6u5vWr032LngsAAGDHW/ZdUi9L8jtjjHcveR0Ls7KyN3v27F72MhZu375jl72EHcdnCtuLf7Pbh5/V9uFntTl8rizS0oKxqp6Y5MVJvr+qvmm6ee/01+Or6r5Mjuo9qqp2zx0ZXElycIzxlen3q0mOb95mZbpvbcyi5rpfq6sHDzdkWzpw4J5lL2HH8ZnC9uLf7PbhZ7V9+FltDp/rgyeuD2+ZRxi/I8lDk3yo2fdHSf5jkuuS7E7y+Eye0bhm/jrD/Zm7vrCqTsokQPfPjFnUXAAAADveMq9h/ECS/23u64rpvjMzeS7jB5PcncnjL5IkVbU3k2co3jIz1y1JTq+q2f9F8PwkX0py+/T7Rc4FAACw4y3tCOMY4wtJfnt2W1WdPP3t+8cY9063XZ7k4qpazeQI33mZhO7VMy+9Nsm5SW6sqiuSnJLkkiRvWHs8xhjjy4uaCwAA4Giw7JvePBiXZxJ1FyY5IcnvJnn6GOPzawPGGKtV9bQk12TyXMW7krwxk9DbrLkAAAB2tC0VjGOMtyR5y9y2Q5ncTfWyw7z2ziRPPcyYhc0FAACw0y31OYwAAABsXYIRAACAlmAEAACgJRgBAABoCUYAAABaghEAAICWYAQAAKAlGAEAAGgJRgAAAFqCEQAAgJZgBAAAoCUYAQAAaAlGAAAAWoIRAACAlmAEAACgJRgBAABoCUYAAABaghEAAICWYAQAAKAlGAEAAGgJRgAAAFqCEQAAgJZgBAAAWIKq+u2qumbZ63ggghEAAICWYAQAAKC1Z9kLAAAA2G6q6l8m+dkkjx1j3Dez/bokj0ry8iRvSPIPkhybZCT56THGzQ8w52eSXDPGeN3Mtt9O8odjjJdOvz9m+r4vSPLoJB9NctEY49YF/vH+iiOMAAAA63dDkuOTPH1tQ1U9KslZSX45k2i8Zbr/u5K8I8mNVXXqEb7vm5M8JcmPJHlSkrcmuamqvusI5205wggAALBOY4zVqnp3Jkf63jPd/Jwkf5nkXWOMLyf5bzMvuayqnpXkeUlevZH3rKpvT/JPkpw8xvjcdPM1VfWDSf5Vkh/byLwPRDACAABszC8neWtV7R1jHMwkHt8xxvhyVT0yyc8keWaSb07y0CQPT/IHR/B+fy/JriR3VtXs9ocled8RzHu/BCMAAMDG/F+ZHFE8q6p+M8kPJjl9uu91SZ6R5CeSfCLJwSRvS3LMA8z3tUyCcNZDZ37/kCSHknxPkq/OjfvSBtZ/WOsKxqr6tiQHxhjtYqrqEUn2zRweBQAA2JHGGH9RVTdkcmTxxCR/kuS3p7u/L8nbxhjvSJKqeniSb0/y8QeY8kAmRyMz85pTk3x4uunDmQTlY8YYv7W4P8n9W+8Rxk8n+dEk193P/mdP9+0+kkUBAABsE7+c5DeTPC7Jr44xvjbd/vEk/6iq3pnJ0cCfyeSU1AfyviQvrqp3ZRKPP5WZZhtjfLyqfiXJW6rq/CS/n8mdUn8gyafGGDcu7E81td5gnD88Ou+hmRxGBQAAOBq8P8n/m+QJmdyQZs15Sf7jdP9qkp/L4YPxNUlOTvLOJPcmuSzJY+fGvCiTkHxtkm9N8udJ/muSTTnieNhgrKrjknzTzKYTpqemzvumJD+c5I8XtDYAAIAtbYxxKJPIm9/+2UyuaZz1urkxPzD3/d35+uhMkl+YG/PVJJdMvzbdgznC+PIkPz39/aFMyvjn7mfsriQXLmBdAAAALNmDCcb3JLkrkxh8Qybn6P7e3JhDSb6Y5PfGGB9Z6AoBAABYisMG4xjjvyT5L0lSVcdn8lyRP9zshQEAALBc67rpzRjj0s1aCAAAAFvLeu+SmqpayeRCzFOSrOSv3zn10Bjjny9gbQAAACzRuoKxqk5P8utJHpnk7kxuDzvv0ALWBQAAwJKt9wjj65P8SZLnjjH+701YDwAAAFvEQ9Y5/vFJfl4sAgAA7HzrDcb/J8mjNmMhAAAAbC3rPSX1p5NcVVW/Msb43GYsCAAAgPWrqickuTrJaUnuSvKmJJeOMe7b6JzrDcbvS3Igyf6qek+S/55k/s0PjTHO3+iCAAAAtoIf+clfWcoNPa977Qvmn0RxWNOnWdyW5M4kZyX59kzuQfOQJBdtdC3rDcb/c+b3z7mfMYeSCEYAAIBvnHOSPCKTG5TeneS9VXVckkuq6rXTbeu2rmAcY6z3mkcAAAA23xlJbp0Lw+uTXJHkKUlu2sikAhAAAGD7OzXJ/tkN0/vOHJzu25D1npIKsKW97Mp3bcq8V13w7E2ZFwBgQVYyudHNvNXpvg1ZVzBW1dcyuUbxAY0xdm90QQBb0QU3b/ha8ft15TNfvfA5AQAWab1HGF+Vvx6Mu5OcnMlNcEaSm498WQAAAKzDapLjm+0r030bst6b3lxyf/uq6puT/E6Sj290MQAAAGzI/sxdq1hVJyXZm7lrG9djYTe9GWP8cZJrk1y8qDkBAAB4UG5JcnpVHTuz7flJvpTk9o1Ouuib3nwxyeMWPCcAAAAP7Nok5ya5saquSHJKkkuSvGGjz2BMFniEsaqelMkCnZIKAADwDTTGWE3ytEzuMXNTkkuTvDHJzxzJvOu9S+qn098l9ZsyucDyYCY3vwEAANjWrnvtC3Ytew3rMca4M8lTFznnek9JvT1/PRgPZXLXnU8muX6M8eeLWBgAAADLtd67pL5wk9YBAADAFrPhm95U1a4kJ06//cIYoztVFQAAgG1q3Te9qYkbkvyPJH8y/fofVfX2qqpFLxAAAIDlWO9Nb/5OkvcnOSbJb+R/PgDy1ExudnN6Vf3DMcYfLHSVAAAAfMOt95TUK5LcleT7xxifnd1RVd+WSUxenuTMxSwPAACAZVnvKanfm+QX52MxScYYn8vkYZHft4iFAQAAsFzrvoYx/XMYH8w+AAAAtpH1BuOHkvxYVX3r/I7ptpck+eAiFgYAAMByrfcaxguT3J5kVNU7knx8ur2SPDfJfUlesbjlAQAAsCzrCsYxxu9X1f+a5NWZBOLe6a6DSW5NctEY487FLhEAAIDDqarHJ7kgyWlJnpjk/WOMHziSOdd7hDFjjI8m+UdV9ZAk+6abD4wxvnYkCwEAANhKXvjmly3lHi1vedFVuzb40idm8sSK30ny0EWsZb3PYfy5JGeOMb5zGoifn9s/ktw0xviJRSwOAACAB+2mMcY7k6Sqfj3JiUc64XpvevO/J/m1B9j/a0metfHlAAAAsBGbcdbneoPxW5P8tWcwzvhckpM2vhwAAAC2ivUG42qS73yA/ZXkno0vBwAAgK1ivcF4a5Jzqupvz++oqu9Kcs50DAAAANvceu+SenGSZyT5var6jSQfnW5/UpLnJPmzJBctbnkAAAAsy3qfw/hHVfXdSa5I8uwkZ0933ZPk+iSvHGP80WKXCAAAwDJs5DmM/1+SH62qXfn65zAu5RklAAAAbI51B+OaaSD+6QLXAgAAwAZV1d4kZ06//ZYkx1XV86bfv3uMcXC9c244GAEAAHayt7zoql3LXsM6/Y0kN8xtW/v+cUk+s94JBSMAAMAOMMb4TJKFRu56H6sBAADAUUIwAgAA0BKMAAAAtAQjAAAALcEIAABASzACAADQEowAAAC0BCMAAAAtwQgAAEBrz7IXAAAAwJGpqrOT/GiS705yfJKR5HVjjF89knkFIwAAQOPd//RFh5bxvme+7c27NvCy85J8OsnLk3whyZlJrquqE8cYV290LYIRAABg+3vWGOMLM9+/r6oem0lIbjgYXcMIAACwzc3F4poPJ3nskcwrGAEAAHam05J8/EgmcEoqAADADlNVT0vynCQvPpJ5HGEEAADYQarq5CTXJXnnGOMtRzKXYAQAANghqurRSW5J8tkkLzjS+QQjAADADlBVe5PcnOSYJM8cYxw80jldwwgAALDNVdWeJDck+Y4kTx5j/Oki5hWMAAAA298vJDkzycuSnFBVJ8zs+/AY4y82MunSgrGqnpfJQyQrySMzOcf2l5K8dozxlemYXUkuTPKSJCcmuSPJuWOMj8zN9YRMHkZ5WpK7krwpyaVjjPtmxixsLgAAgC3mh6a/XtXse1ySz2xk0mUeYTwhyfuSXJlJmP39JJckeUySl07HvCLJxUkuSLI/k8C8raqeNMb4kySpqpUktyW5M8lZSb49yeszuT7zopn3W+RcAADADnfm2968a9lreLDGGCdvxrxLC8Yxxr+b2/RbVXVckn9dVT+e5GGZRN5rxhjXJElVfSiTMn5p/mfAnZPkEUmeO8a4O8l7p/NcUlWvHWPcXVUPX9RcC/8gAAAAtqitdpfUP8vkjj5J8uQkxyV5+9rOMcYXk9yU5IyZ15yR5Na5mLs+k/B7yibMBQAAcFRYejBW1e6q2ltV35fk3CS/OMY4lOTUJPcl+cTcSz423bfm1ExOMf0rY4zPJTk4M26RcwEAABwVlh6MSb44/Xp/ktszucYwSVaS3NvcbGY1yd6qOmZm3F3NvKvTfYueCwAA4KiwFR6r8eQkezO56c1PJ7kmyY8tdUVHYGVlb/bs2b3sZSzcvn3HLnsJO47PFH8Hthc/r+3Dz2r78LPaHD5XFmnpwTjG+P3pbz9QVV9I8taqen0mR/UeVVW7544MriQ5uPbojem445upV6b71sYsaq4HtLp68MEM23YOHLhn2UvYcXym+Duwvfh5bR9+VtuHn9Xm8Lk+eOL68LbCKamz1uLxcZlcS7g7yePnxsxfZ7g/c9cXVtVJmRy13D8zZlFzAQAAHBW2WjB+7/TXTyf5YJK7k5y9trOq9iZ5VpJbZl5zS5LTq2r2fw88P8mXMrkmMgueCwAA4KiwtFNSq+o9SW5L8tFM7mD6vUnOT/JrY4xPTsdcnuTiqlrN5AjfeZlE7tUzU12byd1Vb6yqK5KckuSSJG9YezzGGOPLi5oLAADgaLHMaxjvSPLCJCcn+cskn0pyYSbRtubyTKLuwiQnJPndJE8fY3x+bcAYY7WqnpbJzXJuyuQup2/MJPSySXMBAADseEsLxjHGxUkuPsyYQ0kum3490Lg7kzz1GzUXAADAVlJVz8vkLMpK8sgkn03yS0leO3OTz3Vb+l1SAQAAtqJ/81M3HFrG+77ysrN3beBlJyR5X5IrMzlT8u9ncqbkY5K8dKNrEYwAAADb3Bjj381t+q2qOi7Jv66qH5+ecbluW+0uqQAAACzGnyU55kgmcIQRAABgh6iq3UkeluTvZfIEiF/c6NHFRDACAADsJF/MJBiT5G1JLjiSyZySCgAAsHM8Ock/zOQZ92dl8sjADXOEEQAAYIcYY/z+9LcfqKovJHlrVb1+jPHJjcznCCMAAMDOtBaPj9voBIIRAABgZ/re6a+f3ugETkkFAADY5qrqPUluS/LRJPdlEovnJ/m1jZ6OmghGAACA1isvO3vXstewDnckeWGSk5P8ZZJPJbkwybVHMqlgBAAA2ObGGBcnuXjR87qGEQAAgJZgBAAAoCUYAQAAaAlGAAAAWoIRAACAlmAEAACgJRgBAABoCUYAAABaghEAAICWYAQAAKAlGAEAAGgJRgAAAFqCEQAAgJZgBAAAoCUYAQAAaAlGAAAAWoIRAACAlmAEAACgJRgBAABoCUYAAABaghEAAICWYAQAAKAlGAEAAGgJRgAAAFqCEQAAgJZgBAAAoCUYAQAAaAlGAAAAWoIRAACAlmAEAACgJRgBAABoCUYAAABaghEAAICWYAQAAKAlGAEAAGgJRgAAAFqCEQAAgJZgBAAAoCUYAQAAaAlGAAAAWoIRAACAlmAEAACgJRgBAABo7Vn2AgAAFumO88/u3/ctAAAgAElEQVRd+Jzf8/qfX/icANuBI4wAAAC0BCMAAAAtwQgAAEBLMAIAANASjAAAALQEIwAAAC3BCAAAQEswAgAA0BKMAAAAtAQjAAAALcEIAABASzACAADQEowAAAC0BCMAAAAtwQgAAEBLMAIAANASjAAAALQEIwAAAC3BCAAAQEswAgAA0BKMAAAAtAQjAAAALcEIAABASzACAADQEowAAAC0BCMAAAAtwQgAAEBLMAIAANASjAAAALQEIwAAAC3BCAAAQEswAgAA0BKMAAAAtAQjAAAALcEIAABASzACAADQEowAAAC0BCMAAAAtwQgAAEBLMAIAANASjAAAALQEIwAAAC3BCAAAQEswAgAA0NqzrDeuqrOT/GiS705yfJKR5HVjjF+dG/cvkvxkkpOSfDTJT44xfnNuzLckuSbJDyb5iyTXT8cd3Ky5AAAAdrplHmE8L8m9SV6e5NlJfivJdVX142sDquqfJLk2yduSnJFJ5N1cVU+aGfPQJLcm+ZtJfjjJy5KcneTfz77ZIucCAAA4GiztCGOSZ40xvjDz/fuq6rGZhOTV022XJHnrGONnk6Sqbk/yvyR5RZL/YzrmeUn+VpLHjzE+PR331STXV9WlY4xPbMJcAAAAO97SjjDOxeKaDyd5bJJU1SlJvjPJ22de87UkN2RyhHDNGUnuWAu8qf+U5CtJnrHouQAAAI4WW+2mN6cl+fj096dOf90/N+ZjSR5dVftmxn3dmDHGV5J8cmaORc4FAABwVFjmKalfp6qeluQ5SV483bQy/fWuuaGrM/sPTH+dH7M2bmVm7KLmekArK3uzZ8/uBzN0W9m379hlL2HH8Zni78D24ud1dPPz3xw+183hc2WRtkQwVtXJSa5L8s4xxluWu5ojs7q6M2+meuDAPctewo7jM8Xfge3Fz+vo5ue/OXyum8Pn+uCJ68Nb+impVfXoJLck+WySF8zsWjv6d/zcS1bm9q82Y9bGrc6NXcRcAAAAR4WlBmNV7U1yc5Jjkjxz7lmHa9cSzl87eGqSPx9jHJgZ93VjquqYJKfMzLHIuQAAAI4KSwvGqtqTyV1KvyPJM8YYfzq7f4zxqUxugHP2zGseMv3+lpmhtyT5nqr6mzPbnp3kYUnes+i5AAAAjhbLvIbxF5KcmeRlSU6oqhNm9n14jPEXmTw78Zer6jNJ/nOSf5ZJYP7IzNhfT/JTSW6sqoszOaX0jUmum3tu4iLnAgAA2PGWeUrqD01/vSrJh+a+vjlJxhi/muScJC/M5Ajf38nk1NU/XJtkjPHVTJ6R+N8zec7iNUnekeRfzr7ZIucCAAA4GiztCOMY4+QHOe4/JPkPhxnzR5k8kuMbNhcAAMBOt/S7pAIAALA1CUYAAABaghEAAICWYAQAAKAlGAEAAGgJRgAAAFqCEQAAgJZgBAAAoCUYAQAAaAlGAAAAWoIRAACAlmAEAACgJRgBAABoCUYAAABaghEAAICWYAQAAKAlGAEAAGgJRgAAAFqCEQAAgJZgBAAAoCUYAQAAaAlGAAAAWoIRAACAlmAEAACgJRgBAABoCUYAAABaghEAAICWYAQAAKAlGAEAAGgJRgAAAFqCEQAAgJZgBAAAoCUYAQAAaAlGAAAAWoIRAACAlmAEAACgJRgBAABoCUYAAABaghEAAICWYAQAAKAlGAEAAGgJRgAAAFqCEQAAgJZgBAAAoCUYAQAAaAlGAAAAWoIRAACAlmAEAACgJRgBAABoCUYAAABaghEAAICWYAQAAKAlGAEAAGgJRgAAAFqCEQAAgJZgBAAAoCUYAQAAaAlGAAAAWoIRAACAlmAEAACgJRgBAABoCUYAAABae5a9gKPZy65818LnPOZvLXxKAADgKOUIIwAAAC3BCAAAQEswAgAA0BKMAAAAtAQjAAAALcEIAABASzACAADQEowAAAC0BCMAAAAtwQgAAEBLMAIAANASjAAAALQEIwAAAC3BCAAAQEswAgAA0BKMAAAAtAQjAAAALcEIAABASzACAADQEowAAAC0BCMAAAAtwQgAAEBLMAIAANASjAAAALQEIwAAAC3BCAAAQEswAgAA0BKMAAAAtAQjAAAALcEIAABASzACAADQEowAAAC0BCMAAAAtwQgAAEBLMAIAANASjAAAALT2LPPNq+rxSS5IclqSJyZ5/xjjB+bG7EpyYZKXJDkxyR1Jzh1jfGRu3BOSXD2d664kb0py6Rjjvs2YCwAAYKdb9hHGJyY5M8lI8vH7GfOKJBcnuSLJs5Lcm+S2qnrM2oCqWklyW5JDSc5K8qok5ye5dBPnAgAA2NGWHYw3jTFOGmOcneSj8zur6uGZRN5rxhjXjDFuS3J2JjH30pmh5yR5RJLnjjHeO8a4NpPAO6+qjlv0XAAAAEeDpQbjGONrhxny5CTHJXn7zGu+mOSmJGfMjDsjya1jjLtntl2fSfg9ZRPmAgAA2PGWfYTxcE5Ncl+ST8xt/9h03+y4/bMDxhifS3JwZtwi5wIAANjxlnrTmwdhJcm9zc1mVpPsrapjxhhfmY67q3n96nTfoue6/wWv7M2ePbsPN2zb2bfv2GUvYcfxmeLvwPbi53V08/PfHD7XzeFzZZG2ejBuO6urB5e9hE1x4MA9y17CjuMzxd+B7cXP6+jm5785fK6bw+f64Inrw9vqp6SuJnlUVc0fsltJcnB6RHBt3PHN61em+xY9FwAAwI631YNxf5LdSR4/t33+OsP9mbu+sKpOSrJ3Ztwi5wIAANjxtnowfjDJ3Zk8/iJJUlV7M3mG4i0z425JcnpVzR5Tfn6SLyW5fRPmAgAA2PGWeg3jNNjOnH77LUmOq6rnTb9/9xjjYFVdnuTiqlrN5AjfeZmE7tUzU12b5NwkN1bVFUlOSXJJkjesPR5jjPHlRc0FAABwNFj2TW/+RpIb5ratff+4JJ9JcnkmUXdhkhOS/G6Sp48xPr/2gjHGalU9Lck1mTxX8a4kb8wk9GYtci4AjiJ3nH/uwuf8ntf//MLnBIBFWmowjjE+k2TXYcYcSnLZ9OuBxt2Z5KnfqLkAAAB2uq1+DSMAAABLIhgBAABoCUYAAABaghEAAICWYAQAAKAlGAEAAGgJRgAAAFqCEQAAgJZgBAAAoCUYAQAAaAlGAAAAWoIRAACAlmAEAADg/2/v3uN+G8vEj392mURitkQyDkmuDpofNUiH3U4mKSVyeDUZaaTDKKlIJCGmg8SEX0pJflPjVFLObDZS06ipTCNXpWL8IrIN5XzY88e1vvaynvUcPPvZ+znsz/v12q9nf9d3rXvda93fdbju+1736mXAKEmSJEnqtdxkZ0CSpGXVicdcsETS3XOf1y6RdCVJyx5bGCVJkiRJvQwYJUmSJEm9DBglSZIkSb0MGCVJkiRJvQwYJUmSJEm9DBglSZIkSb0MGCVJkiRJvQwYJUmSJEm9DBglSZIkSb0MGCVJkiRJvQwYJUmSJEm9DBglSZIkSb0MGCVJkiRJvQwYJUmSJEm9DBglSZIkSb0MGCVJkiRJvQwYJUmSJEm9DBglSZIkSb0MGCVJkiRJvQwYJUmSJEm9DBglSZIkSb2Wm+wMSJIkSZo4+51z0BJJ98htD18i6Wpqs4VRkiRJktTLgFGSJEmS1MuAUZIkSZLUy4BRkiRJktTLgFGSJEmS1MuAUZIkSZLUy4BRkiRJktTLgFGSJEmS1Gu5yc6AJEmSNJFOPOaCCU9zz31eO+FpStOBLYySJEmSpF62MEqSJGlSXP2hvZdMwmu/bsmkKy2DbGGUJEmSJPUyYJQkSZIk9TJglCRJkiT1MmCUJEmSJPUyYJQkSZIk9TJglCRJkiT1MmCUJEmSJPUyYJQkSZIk9TJglCRJkiT1MmCUJEmSJPUyYJQkSZIk9TJglCRJkiT1MmCUJEmSJPUyYJQkSZIk9TJglCRJkiT1Wm6yMyAtq/Y756Alku6R2x6+RNKVJEnSsscWRkmSJElSLwNGSZIkSVIvA0ZJkiRJUi8DRkmSJElSLwNGSZIkSVIvA0ZJkiRJUi8DRkmSJElSLwNGSZIkSVIvA0ZJkiRJUi8DRkmSJElSLwNGSZIkSVIvA0ZJkiRJUi8DRkmSJElSLwNGSZIkSVIvA0ZJkiRJUi8DRkmSJElSLwNGSZIkSVIvA0ZJkiRJUi8DRkmSJElSLwNGSZIkSVIvA0ZJkiRJUi8DRkmSJElSLwNGSZIkSVIvA0ZJkiRJUi8DRkmSJElSLwNGSZIkSVIvA0ZJkiRJUi8DRkmSJElSLwNGSZIkSVIvA0ZJkiRJUi8DRkmSJElSLwNGSZIkSVIvA0ZJkiRJUi8DRkmSJElSLwNGSZIkSVKv5SY7A1NRRDwfOBbYAvgf4MvAoZn58KRmTJIkSZKWIgPGjoiYDVwCXAtsBzwbOIpqjT1oErMmSZIkSUuVXVKHejewArBDZl6cmScAhwIfjIiVJzdrkiRJkrT0GDAOtQ1wYWbe1Zp2KhVEvnJysiRJkiRJS58B41DPBa5rT8jMG4F7mu8kSZIkaZlgwDjUbGqgm647mu8kSZIkaZkwa+HChZOdhyklIh4E9svMYzrTbwJOycwDJydnkiRJkrR02cI41B3AKj3TZzffSZIkSdIywYBxqOvoPKsYEWsDK9J5tlGSJEmSZjIDxqHOB7aOiKe2pu0C3AtcPjlZkiRJkqSlz2cYOyJiNnAt8HPg08D6wOeAYzLzoMnMmyRJkiQtTbYwdmTmHcCrgScC3wUOBY4GPj6Z+ZIkSZKkpc0WRkmSJElSL1sYNURErB4Rh0TEep3pcyNiYURsNElZU0tE7N6Ux0qTnRdNvIh4b0QsbH1epo+/ify9N+e3P05Evlpp9p43l4YlsT0zXUScGRHzJzsfy5rmGH7vZOdDS05E/C4iPjvZ+dDEMmBUn9WpLrjrdab/B7AFcP3SzpAkj78pbrjzpiRJ09pyk50BTR+ZeRfwb5OdD2mmiIgVMvPesczr8bdseTy/DU0ey0nSssCAcQaKiC2AA4BNgZWBXwFHZubXW/OsC3wK+FvqHZO/bj5/H/jPZrbLIgKAzJwVEXOBy4AXZubPm+48t2XmTp31H0m9imTdzFwYEU8GDgPeQtXCXwcckJnnTfzWzxxjKceeZVagBmraBXgG8Hvg1Mw8oPn+icDHgH8A1qDK/YjM/MYS3JQZIyLmUPt3U+Bh4CfAB4BbgCOAucCawH8DpwOHZeYDzbLrAb8FdgW2Bt4I/AjYKiKWB45qvnsE+BpwY2fdc2kdf820FanjdmfgL6lj96OZedES2PylYoR9PPCsiPgc8FJqPx+Ymd/qpPFe4P3AOs08x2fm0aOsd1VqX24HrEK16H4gM3/YmmcP4EPAs4C7gf8C/rH5f+9583GkvbBJex3grcCdwAbj3Z6prtmm/YFVgYuBY4FLgFdl5vyIeALwYeAdwNrADdS56mutNOYDfwS+RV1jVgeuAvbMzJta860NfBF4FfAH4PBh8rQRNTr6nGbSBcD7MvOW5vu51DH4WmAvYEvgNGCPxdoZM8ho5doz/++AMzNz39a03YGvAk/NzD83054G/BN13pxN/R6+kJnHLLmtmb4i4gXUNWUzYHnqenJcZh7fOm7OBQ4Gng6cRR1r/wc4Dng+dX3aLTNvbKW7WpPutsAKwL8D+2bmj0bIy1rAPOAm4I2ZeY/3hdOPXVJnpnWpi+YewBuAbwJfjYi3QD1rA/yAuiHbt5nnK9RF+WbqZgXqgrhF86/PacDrIuIpgwkRMYu6eT09MwfPX50J7E6d7N8AXA18JyI2noBtnclGLMeuZt+fDbwHOB54HdVFbrXWbIcBHwW+RF14rwK+PlyaWqS5WZwHPAi8jQrKrwTWovbxAuCD1M3kkcDbqZulrs8CfwJ2oo4JqGDiHcAnqONvXSp4GM2JzXqOALangolzI+Llj3f7poJR9vHAN4DvUNv7K+DUiPirVhp7Uvv9O9RxcwZwVER8ZIT1Lk/d1G4F7Ae8CbgNuCQintHMMwc4Afh/wDZUpcv3qQBw2PPmWNJu2Y+qcPh7YO/xbs9UFxHbs2ibtgeuoa5BbccCB1HnqtdTN7QnRcS2nfk2B95LHS/vBF7ULDNY1+C8uBF1Lv0gFXw/5roWERtQ58MnUxU3uwMvAL7bpNH2FeBn1Dm0m+9l1hjLdTzprgDMp46dT1DXtqOAZy5u2jPYd6kKt12p3+mxQPv94i+hzrHvoypmdm7mORH452a59WkdS41vUxWe+1Ln5ydQlWQb9GWiqSi9gnqUYtvMvKf5yvvCacYWxhkoM08d/L+50F0B/BWwJ/CvVG39KsCLM/PmZtZ5rWWuaf57bWaO1AXuTOoE8wZgsM6XULXgpzZpvZq62M/NzMubeS6KiA2pwOUxrZNaZAzl2PUaqsV4u8z8Tmv6KU0aqwL7AIdn5qCG/cLmZvuQYdLUIp+kbhK3blWGXND6vl1DfhXV6nRSRLxv0MrY+LfM3Ks179OAdwMfz8yjmmkXUu+DHVZEPI+qnX37oNWlWe4aqhV563Ft5eQadh83rQ4AR2fmSc20H1MtRtsCJzStUocAJ2fmIOC+KCJWAQ6IiGMy876e9e5KBRQvyMxfNWlfAiQViOxH1dRfk5mfbC336HE2wnlzLGkP3JyZu7TSHO/2THUHAue1joOLmpaL98Cjwdt7aP22qQB7TaoS7JxWWisDr29eiUUThB/d6iq6DbAJ8JJBi27zu7meqnAY+DjVU2CbVq+Aa6iWj9dRrTEDZ2TmxyZgP8w0I5brYtiNCt5flJk/baZduphpzljNPn8WdS8w6PkwrzPbSs33dzbLzKXuLV6ZmVc0054JHB8RKzatgq8FXkbrfi4iLgV+R53H3tXJxwZUOV0NvKV1XHlfOA3ZwjgDRcTsiPh8RNxA1dQ/SNW8btjMsiVwQStYHJfMvI06GezSmrwLcH2re8JW1EX4qohYbvCPOnn9zeKsf6YbQzl2bQks6ASLbRtR3Y/P6Ew/DdgwIp4+AdmekZpW9M2Br7UCmfb3syJin4i4NiLupcrq61RXoHU6s5/b+fxCqlXj7MGEzHyk/XkYmwKzaJVns9wZwLRrYRxtH7c82t02M28HbqUqUmj+PpP+3/jK1L7usxXwY+C3rXMUwOUsOk/9FNgkIo6OiDkR8aSxbdmY0h7odsca7/ZMWc32b0Ir2G60P7+a6pp9Vs91Y+OorvUDVw+CxcagomXQKr0Z8Id299/MvIEqk7atqFbMR1rr+y11M9wtp+4xvMwbY7mO15bAT1rBoka2gOptckJE7NL0Kuv60SBYbPwaeAD4XmcaLGrJ3Qy4tRXkkZl3UxU43WtOUJXc3wN26VSael84DRkwzkwnU4HbkVSr06bASdRNKcDTqC5UE+FUYJuIWLmpDd+JupkZWI16lu7Bzr9DqC6wGt7JjFyOXaOV65rN3z90pg8+rzquXC4bZlPB2XD7dx+qq+lZ1HNqm1FdE2FoeXX3/6Bb4q2d6d3PXWsCf2518Wmnv2LTFXI6GW0fD/xP5/MDLNrH4/2Nr0b1juiep95Oc57KzEuaz3Oo7nF/jIjj213yx5t2Tz4HZuIxuxrwRKpbbtttPfPcyWP32clUz6g1W/P2/R5g0W/iGfQfS91pq1HP3nXLaX1GLyeNrVzHayLvWWa8puLwNVRQdhJwS0RcGRGbtGbrO27+1CzbngaPPb/2HUt/YOi56KXN/F/OzIc633lfOA3ZJXWGaR4k3hbYKzNPaE1vVw7czmMvuIvjLOAL1E3yDVRNVDtgXAD8f+rZA43RGMuxa7RyHVxwV2/mHVij+btgHFldVtxBtXgMt393ogZu+OhgQkQ8f5h5u61ntzR/V+exZdBXK9x2M7DSoLtQa/oawD2Zef8oy081o+3jsWj/xttG+40voAZ46Os69+h+bLpHfq1pjd8BOJp6HnWk5wnHlHaj+9sY7/ZMZX+knq3q9mhof14APER1f3uEoUarTGm7hf5jaXWgPbrpAup69uWeebvvuBypBXxZNZZy7XMf0G2tn935fDvNAFAam8y8DnhzRPwF8ApqMKdz2897j8PN9B9LazD0XPRVqhfEtyNiq8z899Z33hdOQwaMM8/yVMvxozciEfFU6qHnwUVuHrB3RKyRmX01pd1apWFl5h0RcRHVEnYD8IvMvKY1yzzqOZ0/Nycwjc1YyrFrHvDhiNg2M8/p+f7nwD1UcHNYa/rOwC+bLsbqkZl3R8QPgd0i4rieLpMrMPTm/62MzX9SN03bUc9LDSoGthtluaup38KOLHpOdVbz+XsjLDcljWEfj8VN1MjAOwHnt6bvDNzFopFMu+ZRNfI3ZuaowUhzrHwxInagRhOE4c+bjyvtjvFuz5SVmQ9FxE+o3/cXW1+9sfX/S6nWqlUy8+LFXOXVwMcjYvPWM4zrUIPjXNWabx71nNyPx/nbW6aNsVz73AQ8rzPtNZ3P84CdIuKvO/cXGkVmPghcGjWy9Deo0bTH64fAoRExp/Wc44osGpSq693Us5LnR8TczvOU3hdOMwaMM0xm3hkRVwMHR8RdVO3sR6iuPSs3sx1NPUR+ZUQcQfV1fx7wlMz8DDX88r3A2yLiTuDBkYZMploUT2rWcVznu4uBC4GLI+LT1DD0KwMbA08evO5BjzXGcuwa7OtvRMRh1ND9awJzMvNdmbkgIo4BDoqIh6hWjx2oAR0cJXV0H6FGuzw/Ir5EDWqzBbUfL6YqYX5IDabxVsZYI56ZtzfpHdqUy39Rgw+sNMpyv4iIfwWOayoTrm+Wey6LP8jEZBlpH48qMx+JiEOoYO52qlxeSe2PA0cYIOYU6uZmfkR8FvgN1Q1uM+CWzDw6Ig6lul3Np1pTNmnSHrQuDnfeHDXtJbA9U90ngW9GxHHUM24vo246AR7JzIyIE6gRcD9Dlf+TqYBuw8x8x+NY13nUQEpnRMT+VMXOoQxtpTyEekXAuRFxElXGa1EDiZ3c90oIDTFiuQ6zzFnAsRFxIBXcv5kq57ZTqC7+FzXHQ1KDumyYmdN2tOAlJSL+mnpE4jTqfDOb6m79s+Y+YFzpZuaFEfF94LSoUZpvpwZ7W4F6dKY7/yMRsRs1wvtFEfGKzPw13hdOSz7DODP9HXWSOIUaHvmbzf+BR2vHX0a93+wY6oHld9K89625CdkTeDE1MMPVo6zvbKr70GosGi11sK6FVFByEvWc14VU7eMWTMNWkKVsxHLsavb19tQw2PtQLRKH89juVAdTF/X3UOU+B9i1PSKr+jU1qoP3lv4LdTF+JVVDfhg1yuzhzd8HaF6LMEYfpo6Rg5vlfw98bgzL7Um9s/Fg6jhclxq6fFoeW6Ps47GmcSL12oTtqd/4W4APZeanRljmPuodfRdTwcRF1DH3HCqIgDoPPp96tcaF1DF0SDPfsOfNMaY9odsz1WW9N3Nvqkvat1n0iieollOoAOETVOXmedTzi6+nBtJ4POtaSLVyXUsdY0dTFZs/6Mz3S+pZ03uoc+j5VHndz6LBPzSCMZZr15eo+5C9qXfX3k/nPZnNMbQl9aqIw6iy+TB1ntRQt1DPFX6U2lf/F/gFo7f2jsWbqHPZMdRgXLOALZtAcIjm+cWdqd4Q8yJibe8Lp6dZCxfa80KSJE2eiDiIusFdtXkdhmYAy1WaGeySKkmSlppm0KADgMuoFr1XUF3mvmJQMX1ZrtLMZcAoSZKWpgeoZ213A1ahRl/8Z+Bjk5kpLTbLVZqh7JIqSZIkSerloDeSJEmSpF4GjJIkSZKkXgaMkiRJkqReBoySJLVExPyImD+O5daLiIURsc8Y5j05In43juxJkrRUGTBKkiRJknr5Wg1Jkh7rNZOdAUmSpgpbGCVJAiJiRYDMfCAzH5js/EiSNBXYwihJmvIiYifgdODlmXlV57v9gU8C6wLrAXsDmwNrALcCZwIHZua9rWVOBt4EbAocC7y8mW/3wfOLmTm3mfdJwEHA64ENqGvnfwAHZ+Zlw+R3X+D9wNOA7wP/mJm/HGUbnwB8ENgDWB9Y0OTpgMz884g7SJKkJcQWRknSdHAucDewc893OwM/yMz/BnYCVgS+ALwPuLD5e0rPcn/RfH8TFaidO8y6VwbeAcwH9gcOAZ4OXBgRG/fM/w/Au4HPA58B/ga4LCJmj7KNXwGOaNazN/B1YE/g7IiYNcqykiQtEbYwSpKmvMy8JyLOAXaMiH0ycyFARDwbeBHVmgewf7slEfhSRPwa+KeIWCczb2x9tyLwL5l58CirvwNYr91NNSJOBK6jgtE9OvOvDzwnM29u5r0UuJwKAg/tW0FEvALYHdgxM7/Zmn41cCqwNXDBKPmUJGnCGTBKkqaL04FdqO6jVzbTdgYeAc4A6HQ7fQqwAtUldBawCdAOGAFOGG2lmfkw8HCT5hOAv6R66PyICla7vjUIFpvlr4iInwPbMEzACOxIdUG9PCJWa02/oln3XAwYJUmTwIBRkjRdnAf8iQoa2wHj91qteesAhwFvBLpdQFfpfL4/M38/lhVHxNuADwHPpbqyDvy2Z/ZfDTPtpSOs4jnAqsBtw3z/9DFkU5KkCWfAKEmaFjLzvoj4LvDmiNib6vq5MbAXQEQ8EbiYCrw+TXUZvRtYCziZoc/t3zeW9UbErs3y3waOpAbSeRg4AHj24mxTyxOAm4Hdhvl+TIGtJEkTzYBRkjSdnA78HTCHarF7mBpJFOCFwIbA2zLz0UFuIuJvF3OdOwK/AXYYPDvZpDtc99LnDDPthhHWcT3wKuDKzLx/vBmVJGmiOUqqJGk6uQC4i+qWujMwPzNvbb57uPn76Iiizeii72fx9KW7ObDFMPPvEBFrtuadA2wEnD/COs4EngR8pPtFRCwfESs/3kxLkjQRbGGUJE0bmXl/RJwN7AqsBLyz9fV1VEvdZyNiLSqwfDNDn2V8vM4BdgDOiohzgWdRr824tslD12+AKyPiBKXw1HcAAADnSURBVOApwAeo7qafH2G7LouILwOHRMSLgXnUYD4bUoHxW4FLFnM7JEl63AwYJUnTzWnA3wMPAd8aTMzMByPiDVRgdgD1jOJZwHHAzxZjfScDzwDeRb3e4loqYN2JGr206yTq+vp+YDVqlNa9MnPBKOt5J/Dj5u+ngPupQXVOBH66GPmXJGncZi1cuHD0uSRJkiRJyxyfYZQkSZIk9TJglCRJkiT1MmCUJEmSJPUyYJQkSZIk9TJglCRJkiT1MmCUJEmSJPUyYJQkSZIk9TJglCRJkiT1MmCUJEmSJPUyYJQkSZIk9fpfljOGbbqYF1sAAAAASUVORK5CYII=\n",
      "text/plain": [
       "<matplotlib.figure.Figure at 0x7f2fa6084400>"
>>>>>>> 5ab016c1dde955f61ab39bc1daf935f455189dc0
      ]
     },
     "metadata": {},
     "output_type": "display_data"
    }
   ],
   "source": [
    "df_uniques = pd.melt(frame=df, value_vars=['gender','cholesterol', \n",
    "                                           'gluc', 'smoke', 'alco', \n",
    "                                           'active', 'cardio'])\n",
    "df_uniques = pd.DataFrame(df_uniques.groupby(['variable', \n",
    "                                              'value'])['value'].count()) \\\n",
    "    .sort_index(level=[0, 1]) \\\n",
    "    .rename(columns={'value': 'count'}) \\\n",
    "    .reset_index()\n",
    "\n",
    "sns.factorplot(x='variable', y='count', hue='value', \n",
    "               data=df_uniques, kind='bar', size=12);"
   ]
  },
  {
   "cell_type": "markdown",
   "metadata": {
    "collapsed": true
   },
   "source": [
    "We can see that the target classes are balanced. That's great!\n",
    "\n",
    "Let's split the dataset by target values. Can you already spot the most significant feature by just looking at the plot?"
   ]
  },
  {
   "cell_type": "code",
   "execution_count": 18,
   "metadata": {},
   "outputs": [
    {
     "data": {
<<<<<<< HEAD
<<<<<<< HEAD
      "image/png": "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\n",
      "text/plain": [
       "<matplotlib.figure.Figure at 0x7f2fa5f6ce48>"
=======
      "image/png": "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\n",
      "text/plain": [
       "<matplotlib.figure.Figure at 0x10406a5f8>"
>>>>>>> e24ab1eb00a8599cfb9ecdb21dac957d4d3c4db8
=======
      "image/png": "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\n",
      "text/plain": [
       "<matplotlib.figure.Figure at 0x7f2fa5f6ce48>"
>>>>>>> 5ab016c1dde955f61ab39bc1daf935f455189dc0
      ]
     },
     "metadata": {},
     "output_type": "display_data"
    }
   ],
   "source": [
    "df_uniques = pd.melt(frame=df, value_vars=['gender','cholesterol', \n",
    "                                           'gluc', 'smoke', 'alco', \n",
    "                                           'active'], \n",
    "                     id_vars=['cardio'])\n",
    "df_uniques = pd.DataFrame(df_uniques.groupby(['variable', 'value', \n",
    "                                              'cardio'])['value'].count()) \\\n",
    "    .sort_index(level=[0, 1]) \\\n",
    "    .rename(columns={'value': 'count'}) \\\n",
    "    .reset_index()\n",
    "\n",
    "sns.factorplot(x='variable', y='count', hue='value', \n",
    "               col='cardio', data=df_uniques, kind='bar', size=9);"
   ]
  },
  {
   "cell_type": "markdown",
   "metadata": {},
   "source": [
    "You can see that the distribution of cholesterol and glucose levels great differs by the value of the target variable. Is this a coincidence?\n",
    "\n",
    "Now, let's calculate some statistics for the feature unique values:"
   ]
  },
  {
   "cell_type": "code",
   "execution_count": 19,
   "metadata": {},
   "outputs": [
    {
     "name": "stdout",
     "output_type": "stream",
     "text": [
      "id\n",
      "70000\n",
      "----------\n",
      "age\n",
      "8076\n",
      "----------\n",
      "gender\n",
      "2 [(1, 45530), (2, 24470)]\n",
      "----------\n",
      "height\n",
      "109\n",
      "----------\n",
      "weight\n",
      "287\n",
      "----------\n",
      "ap_hi\n",
      "153\n",
      "----------\n",
      "ap_lo\n",
      "157\n",
      "----------\n",
      "cholesterol\n",
      "3 [(1, 52385), (2, 9549), (3, 8066)]\n",
      "----------\n",
      "gluc\n",
      "3 [(1, 59479), (2, 5190), (3, 5331)]\n",
      "----------\n",
      "smoke\n",
      "2 [(0, 63831), (1, 6169)]\n",
      "----------\n",
      "alco\n",
      "2 [(0, 66236), (1, 3764)]\n",
      "----------\n",
      "active\n",
      "2 [(0, 13739), (1, 56261)]\n",
      "----------\n",
      "cardio\n",
      "2 [(0, 35021), (1, 34979)]\n",
      "----------\n"
     ]
    }
   ],
   "source": [
    "for c in df.columns:\n",
    "    n = df[c].nunique()\n",
    "    print(c)\n",
    "    if n <= 3:\n",
    "        print(n, sorted(df[c].value_counts().to_dict().items()))\n",
    "    else:\n",
    "        print(n)\n",
    "    print(10 * '-')"
   ]
  },
  {
   "cell_type": "markdown",
   "metadata": {},
   "source": [
    "In the end, we have:\n",
    "- 5 numerical features (excluding *id*);\n",
    "- 7 categorical features;\n",
    "- 70000 records in total."
   ]
  },
  {
   "cell_type": "markdown",
   "metadata": {},
   "source": [
    "## 1.1. Basic observations"
   ]
  },
  {
   "cell_type": "markdown",
   "metadata": {},
   "source": [
    "**Question 1.1. (1 point). How many men and women are present in this dataset? Values of the `gender` feature were not given (whether \"1\" stands for women or for men) – figure this out by looking analyzing height, making the assumption that men are taller on average. **\n",
    "1. 45530 women and 24470 men\n",
    "2. 45530 men and 24470 women\n",
    "3. 45470 women and 24530 men\n",
    "4. 45470 men and 24530 women"
   ]
  },
  {
   "cell_type": "code",
   "execution_count": 20,
   "metadata": {},
   "outputs": [
    {
     "data": {
      "text/plain": [
       "gender\n",
       "1    161.355612\n",
       "2    169.947895\n",
       "Name: height, dtype: float64"
      ]
     },
     "execution_count": 20,
     "metadata": {},
     "output_type": "execute_result"
    }
   ],
   "source": [
    "df.groupby(['gender'])['height'].mean()"
   ]
  },
  {
   "cell_type": "code",
   "execution_count": 21,
   "metadata": {},
   "outputs": [
    {
     "data": {
      "text/plain": [
       "1    45530\n",
       "2    24470\n",
       "Name: gender, dtype: int64"
      ]
     },
     "execution_count": 21,
     "metadata": {},
     "output_type": "execute_result"
    }
   ],
   "source": [
    "df.gender.value_counts()"
   ]
  },
  {
   "cell_type": "markdown",
   "metadata": {},
   "source": [
    "**Question 1.2. (1 point). Which gender more often reports consuming alcohol - men or women?**\n",
    "1. women\n",
    "2. men"
   ]
  },
  {
   "cell_type": "code",
   "execution_count": 22,
   "metadata": {},
   "outputs": [
    {
     "data": {
      "text/plain": [
       "gender\n",
       "1    0.025500\n",
       "2    0.106375\n",
       "Name: alco, dtype: float64"
      ]
     },
     "execution_count": 22,
     "metadata": {},
     "output_type": "execute_result"
    }
   ],
   "source": [
    "df.groupby(['gender'])['alco'].mean()"
   ]
  },
  {
   "cell_type": "markdown",
   "metadata": {},
   "source": [
    "**Question 1.3. (1 point). What is the difference between the percentages of smokers among men and women (rounded)?**\n",
    "1. 4\n",
    "2. 16\n",
    "3. 20\n",
    "4. 24"
   ]
  },
  {
   "cell_type": "code",
   "execution_count": 23,
   "metadata": {},
   "outputs": [
    {
     "data": {
      "text/plain": [
       "0.2"
      ]
     },
     "execution_count": 23,
     "metadata": {},
     "output_type": "execute_result"
    }
   ],
   "source": [
    "round(df.groupby(['gender'])['smoke'].mean()[2] - df.groupby(['gender'])['smoke'].mean()[1],2)"
   ]
  },
  {
   "cell_type": "markdown",
   "metadata": {},
   "source": [
    "**Question 1.4. (1 point). What is the difference between median values of age for smokers and non-smokers (rounded)? You'll need to figure out the units of feature `age` in this dataset.**\n",
    "\n",
    "1. 5\n",
    "2. 10\n",
    "3. 15\n",
    "4. 20"
   ]
  },
  {
   "cell_type": "code",
   "execution_count": 24,
   "metadata": {},
   "outputs": [
    {
     "data": {
      "text/plain": [
       "20"
      ]
     },
     "execution_count": 24,
     "metadata": {},
     "output_type": "execute_result"
    }
   ],
   "source": [
    "round((df[df['smoke']==0]['age'].median() - df[df['smoke']==1]['age'].median())/365.25*12)"
   ]
  },
  {
   "cell_type": "markdown",
   "metadata": {},
   "source": [
    "## 1.2. Risk maps\n",
    "### Task:"
   ]
  },
  {
   "cell_type": "markdown",
   "metadata": {},
   "source": [
    "On the website for the European Society of Cardiology, a [SCORE scale](https://www.escardio.org/Education/Practice-Tools/CVD-prevention-toolbox/SCORE-Risk-Charts) is provided. It is used for calculating the risk of death from a cardiovascular decease in the next 10 years. Here it is:\n",
    "<img src='../../img/SCORE2007-eng.png' width=70%>\n",
    "\n",
    "Let's take a look at the upper-right rectangle, which shows a subset of smoking men aged from 60 to 65. (It's not obvious, but the values in the figure represent the upper bound).\n",
    "\n",
    "We see the value 9 in the lower-left corner of the rectangle and 47 in the upper-right. This means that, for people in this gender-age group whose systolic pressure is less than 120, the risk of a CVD is estimated to be 5 times lower than for those with the pressure in the interval [160,180).\n",
    "\n",
    "Let's calculate that same ratio using our data.\n",
    "\n",
    "Clarifications:\n",
    "- Calculate ``age_years`` feature – round age to the nearest number of years. For this task, select only the people of age 60 to 64, inclusive.\n",
    "- Cholesterol level categories differ between the figure and our dataset. The conversion for the ``cholesterol`` feature is as follows: 4 mmol/l $\\rightarrow$ 1, 5-7 mmol/l $\\rightarrow$ 2, 8 mmol/l $\\rightarrow$ 3."
   ]
  },
  {
   "cell_type": "code",
   "execution_count": 25,
   "metadata": {},
   "outputs": [
    {
     "data": {
      "text/html": [
       "<div>\n",
       "<style scoped>\n",
       "    .dataframe tbody tr th:only-of-type {\n",
       "        vertical-align: middle;\n",
       "    }\n",
       "\n",
       "    .dataframe tbody tr th {\n",
       "        vertical-align: top;\n",
       "    }\n",
       "\n",
       "    .dataframe thead th {\n",
       "        text-align: right;\n",
       "    }\n",
       "</style>\n",
       "<table border=\"1\" class=\"dataframe\">\n",
       "  <thead>\n",
       "    <tr style=\"text-align: right;\">\n",
       "      <th></th>\n",
       "      <th>id</th>\n",
       "      <th>age</th>\n",
       "      <th>gender</th>\n",
       "      <th>height</th>\n",
       "      <th>weight</th>\n",
       "      <th>ap_hi</th>\n",
       "      <th>ap_lo</th>\n",
       "      <th>cholesterol</th>\n",
       "      <th>gluc</th>\n",
       "      <th>smoke</th>\n",
       "      <th>alco</th>\n",
       "      <th>active</th>\n",
       "      <th>cardio</th>\n",
       "      <th>age_years</th>\n",
       "    </tr>\n",
       "  </thead>\n",
       "  <tbody>\n",
       "    <tr>\n",
       "      <th>0</th>\n",
       "      <td>0</td>\n",
       "      <td>18393</td>\n",
       "      <td>2</td>\n",
       "      <td>168</td>\n",
       "      <td>62.0</td>\n",
       "      <td>110</td>\n",
       "      <td>80</td>\n",
       "      <td>1</td>\n",
       "      <td>1</td>\n",
       "      <td>0</td>\n",
       "      <td>0</td>\n",
       "      <td>1</td>\n",
       "      <td>0</td>\n",
       "      <td>50</td>\n",
       "    </tr>\n",
       "    <tr>\n",
       "      <th>1</th>\n",
       "      <td>1</td>\n",
       "      <td>20228</td>\n",
       "      <td>1</td>\n",
       "      <td>156</td>\n",
       "      <td>85.0</td>\n",
       "      <td>140</td>\n",
       "      <td>90</td>\n",
       "      <td>3</td>\n",
       "      <td>1</td>\n",
       "      <td>0</td>\n",
       "      <td>0</td>\n",
       "      <td>1</td>\n",
       "      <td>1</td>\n",
       "      <td>55</td>\n",
       "    </tr>\n",
       "    <tr>\n",
       "      <th>2</th>\n",
       "      <td>2</td>\n",
       "      <td>18857</td>\n",
       "      <td>1</td>\n",
       "      <td>165</td>\n",
       "      <td>64.0</td>\n",
       "      <td>130</td>\n",
       "      <td>70</td>\n",
       "      <td>3</td>\n",
       "      <td>1</td>\n",
       "      <td>0</td>\n",
       "      <td>0</td>\n",
       "      <td>0</td>\n",
       "      <td>1</td>\n",
       "      <td>51</td>\n",
       "    </tr>\n",
       "    <tr>\n",
       "      <th>3</th>\n",
       "      <td>3</td>\n",
       "      <td>17623</td>\n",
       "      <td>2</td>\n",
       "      <td>169</td>\n",
       "      <td>82.0</td>\n",
       "      <td>150</td>\n",
       "      <td>100</td>\n",
       "      <td>1</td>\n",
       "      <td>1</td>\n",
       "      <td>0</td>\n",
       "      <td>0</td>\n",
       "      <td>1</td>\n",
       "      <td>1</td>\n",
       "      <td>48</td>\n",
       "    </tr>\n",
       "    <tr>\n",
       "      <th>4</th>\n",
       "      <td>4</td>\n",
       "      <td>17474</td>\n",
       "      <td>1</td>\n",
       "      <td>156</td>\n",
       "      <td>56.0</td>\n",
       "      <td>100</td>\n",
       "      <td>60</td>\n",
       "      <td>1</td>\n",
       "      <td>1</td>\n",
       "      <td>0</td>\n",
       "      <td>0</td>\n",
       "      <td>0</td>\n",
       "      <td>0</td>\n",
       "      <td>47</td>\n",
       "    </tr>\n",
       "  </tbody>\n",
       "</table>\n",
       "</div>"
      ],
      "text/plain": [
       "   id    age  gender  height  weight  ap_hi  ap_lo  cholesterol  gluc  smoke  \\\n",
       "0   0  18393       2     168    62.0    110     80            1     1      0   \n",
       "1   1  20228       1     156    85.0    140     90            3     1      0   \n",
       "2   2  18857       1     165    64.0    130     70            3     1      0   \n",
       "3   3  17623       2     169    82.0    150    100            1     1      0   \n",
       "4   4  17474       1     156    56.0    100     60            1     1      0   \n",
       "\n",
       "   alco  active  cardio  age_years  \n",
       "0     0       1       0         50  \n",
       "1     0       1       1         55  \n",
       "2     0       0       1         51  \n",
       "3     0       1       1         48  \n",
       "4     0       0       0         47  "
      ]
     },
     "execution_count": 25,
     "metadata": {},
     "output_type": "execute_result"
    }
   ],
   "source": [
    "df['age_years'] = round(df['age']//365.25).astype(int)\n",
    "df.head()"
   ]
  },
  {
   "cell_type": "code",
   "execution_count": 26,
   "metadata": {},
   "outputs": [
    {
     "data": {
      "text/html": [
       "<div>\n",
       "<style scoped>\n",
       "    .dataframe tbody tr th:only-of-type {\n",
       "        vertical-align: middle;\n",
       "    }\n",
       "\n",
       "    .dataframe tbody tr th {\n",
       "        vertical-align: top;\n",
       "    }\n",
       "\n",
       "    .dataframe thead th {\n",
       "        text-align: right;\n",
       "    }\n",
       "</style>\n",
       "<table border=\"1\" class=\"dataframe\">\n",
       "  <thead>\n",
       "    <tr style=\"text-align: right;\">\n",
       "      <th></th>\n",
       "      <th>id</th>\n",
       "      <th>age</th>\n",
       "      <th>gender</th>\n",
       "      <th>height</th>\n",
       "      <th>weight</th>\n",
       "      <th>ap_hi</th>\n",
       "      <th>ap_lo</th>\n",
       "      <th>cholesterol</th>\n",
       "      <th>gluc</th>\n",
       "      <th>smoke</th>\n",
       "      <th>alco</th>\n",
       "      <th>active</th>\n",
       "      <th>cardio</th>\n",
       "      <th>age_years</th>\n",
       "    </tr>\n",
       "  </thead>\n",
       "  <tbody>\n",
       "    <tr>\n",
       "      <th>6</th>\n",
       "      <td>9</td>\n",
       "      <td>22113</td>\n",
       "      <td>1</td>\n",
       "      <td>157</td>\n",
       "      <td>93.0</td>\n",
       "      <td>130</td>\n",
       "      <td>80</td>\n",
       "      <td>3</td>\n",
       "      <td>1</td>\n",
       "      <td>0</td>\n",
       "      <td>0</td>\n",
       "      <td>1</td>\n",
       "      <td>0</td>\n",
       "      <td>60</td>\n",
       "    </tr>\n",
       "    <tr>\n",
       "      <th>7</th>\n",
       "      <td>12</td>\n",
       "      <td>22584</td>\n",
       "      <td>2</td>\n",
       "      <td>178</td>\n",
       "      <td>95.0</td>\n",
       "      <td>130</td>\n",
       "      <td>90</td>\n",
       "      <td>3</td>\n",
       "      <td>3</td>\n",
       "      <td>0</td>\n",
       "      <td>0</td>\n",
       "      <td>1</td>\n",
       "      <td>1</td>\n",
       "      <td>61</td>\n",
       "    </tr>\n",
       "    <tr>\n",
       "      <th>10</th>\n",
       "      <td>15</td>\n",
       "      <td>22530</td>\n",
       "      <td>1</td>\n",
       "      <td>169</td>\n",
       "      <td>80.0</td>\n",
       "      <td>120</td>\n",
       "      <td>80</td>\n",
       "      <td>1</td>\n",
       "      <td>1</td>\n",
       "      <td>0</td>\n",
       "      <td>0</td>\n",
       "      <td>1</td>\n",
       "      <td>0</td>\n",
       "      <td>61</td>\n",
       "    </tr>\n",
       "    <tr>\n",
       "      <th>22</th>\n",
       "      <td>32</td>\n",
       "      <td>23046</td>\n",
       "      <td>1</td>\n",
       "      <td>158</td>\n",
       "      <td>90.0</td>\n",
       "      <td>145</td>\n",
       "      <td>85</td>\n",
       "      <td>2</td>\n",
       "      <td>2</td>\n",
       "      <td>0</td>\n",
       "      <td>0</td>\n",
       "      <td>1</td>\n",
       "      <td>1</td>\n",
       "      <td>63</td>\n",
       "    </tr>\n",
       "    <tr>\n",
       "      <th>23</th>\n",
       "      <td>33</td>\n",
       "      <td>23376</td>\n",
       "      <td>2</td>\n",
       "      <td>156</td>\n",
       "      <td>45.0</td>\n",
       "      <td>110</td>\n",
       "      <td>60</td>\n",
       "      <td>1</td>\n",
       "      <td>1</td>\n",
       "      <td>0</td>\n",
       "      <td>0</td>\n",
       "      <td>1</td>\n",
       "      <td>0</td>\n",
       "      <td>64</td>\n",
       "    </tr>\n",
       "  </tbody>\n",
       "</table>\n",
       "</div>"
      ],
      "text/plain": [
       "    id    age  gender  height  weight  ap_hi  ap_lo  cholesterol  gluc  smoke  \\\n",
       "6    9  22113       1     157    93.0    130     80            3     1      0   \n",
       "7   12  22584       2     178    95.0    130     90            3     3      0   \n",
       "10  15  22530       1     169    80.0    120     80            1     1      0   \n",
       "22  32  23046       1     158    90.0    145     85            2     2      0   \n",
       "23  33  23376       2     156    45.0    110     60            1     1      0   \n",
       "\n",
       "    alco  active  cardio  age_years  \n",
       "6      0       1       0         60  \n",
       "7      0       1       1         61  \n",
       "10     0       1       0         61  \n",
       "22     0       1       1         63  \n",
       "23     0       1       0         64  "
      ]
     },
     "execution_count": 26,
     "metadata": {},
     "output_type": "execute_result"
    }
   ],
   "source": [
    "old_men = df[(df['age_years'] >= 60) & (df['age_years'] < 65)]\n",
    "old_men.head()"
   ]
  },
  {
   "cell_type": "markdown",
   "metadata": {},
   "source": [
    "**Question 1.5. (2 points). Calculate the fraction of the people with CVD for the two segments described above. What is the ratio of these two fractions?**\n",
    "\n",
    "1. 1\n",
    "2. 2\n",
    "3. 3\n",
    "4. 4"
   ]
  },
  {
   "cell_type": "code",
   "execution_count": 27,
   "metadata": {},
   "outputs": [
    {
     "data": {
      "text/plain": [
       "2.0"
      ]
     },
     "execution_count": 27,
     "metadata": {},
     "output_type": "execute_result"
    }
   ],
   "source": [
    "round(old_men[(old_men['ap_hi']>=160) & \n",
    "        (old_men['ap_hi']<180)]['cardio'].mean()/ \\\n",
    "old_men[old_men['ap_hi']<120]['cardio'].mean())"
   ]
  },
  {
   "cell_type": "markdown",
   "metadata": {},
   "source": [
    "## 1.3. Analyzing BMI\n",
    "### Task:"
   ]
  },
  {
   "cell_type": "markdown",
   "metadata": {},
   "source": [
    "Create a new feature – BMI ([Body Mass Index](https://en.wikipedia.org/wiki/Body_mass_index)). To do this, divide weight in kilogramms by the square of the height in meters. Normal BMI values are said to be from 18.5 to 25. "
   ]
  },
  {
   "cell_type": "code",
   "execution_count": 28,
   "metadata": {},
   "outputs": [
    {
     "data": {
      "text/html": [
       "<div>\n",
       "<style scoped>\n",
       "    .dataframe tbody tr th:only-of-type {\n",
       "        vertical-align: middle;\n",
       "    }\n",
       "\n",
       "    .dataframe tbody tr th {\n",
       "        vertical-align: top;\n",
       "    }\n",
       "\n",
       "    .dataframe thead th {\n",
       "        text-align: right;\n",
       "    }\n",
       "</style>\n",
       "<table border=\"1\" class=\"dataframe\">\n",
       "  <thead>\n",
       "    <tr style=\"text-align: right;\">\n",
       "      <th></th>\n",
       "      <th>id</th>\n",
       "      <th>age</th>\n",
       "      <th>gender</th>\n",
       "      <th>height</th>\n",
       "      <th>weight</th>\n",
       "      <th>ap_hi</th>\n",
       "      <th>ap_lo</th>\n",
       "      <th>cholesterol</th>\n",
       "      <th>gluc</th>\n",
       "      <th>smoke</th>\n",
       "      <th>alco</th>\n",
       "      <th>active</th>\n",
       "      <th>cardio</th>\n",
       "      <th>age_years</th>\n",
       "      <th>BMI</th>\n",
       "    </tr>\n",
       "  </thead>\n",
       "  <tbody>\n",
       "    <tr>\n",
       "      <th>0</th>\n",
       "      <td>0</td>\n",
       "      <td>18393</td>\n",
       "      <td>2</td>\n",
       "      <td>168</td>\n",
       "      <td>62.0</td>\n",
       "      <td>110</td>\n",
       "      <td>80</td>\n",
       "      <td>1</td>\n",
       "      <td>1</td>\n",
       "      <td>0</td>\n",
       "      <td>0</td>\n",
       "      <td>1</td>\n",
       "      <td>0</td>\n",
       "      <td>50</td>\n",
       "      <td>21.967120</td>\n",
       "    </tr>\n",
       "    <tr>\n",
       "      <th>1</th>\n",
       "      <td>1</td>\n",
       "      <td>20228</td>\n",
       "      <td>1</td>\n",
       "      <td>156</td>\n",
       "      <td>85.0</td>\n",
       "      <td>140</td>\n",
       "      <td>90</td>\n",
       "      <td>3</td>\n",
       "      <td>1</td>\n",
       "      <td>0</td>\n",
       "      <td>0</td>\n",
       "      <td>1</td>\n",
       "      <td>1</td>\n",
       "      <td>55</td>\n",
       "      <td>34.927679</td>\n",
       "    </tr>\n",
       "    <tr>\n",
       "      <th>2</th>\n",
       "      <td>2</td>\n",
       "      <td>18857</td>\n",
       "      <td>1</td>\n",
       "      <td>165</td>\n",
       "      <td>64.0</td>\n",
       "      <td>130</td>\n",
       "      <td>70</td>\n",
       "      <td>3</td>\n",
       "      <td>1</td>\n",
       "      <td>0</td>\n",
       "      <td>0</td>\n",
       "      <td>0</td>\n",
       "      <td>1</td>\n",
       "      <td>51</td>\n",
       "      <td>23.507805</td>\n",
       "    </tr>\n",
       "    <tr>\n",
       "      <th>3</th>\n",
       "      <td>3</td>\n",
       "      <td>17623</td>\n",
       "      <td>2</td>\n",
       "      <td>169</td>\n",
       "      <td>82.0</td>\n",
       "      <td>150</td>\n",
       "      <td>100</td>\n",
       "      <td>1</td>\n",
       "      <td>1</td>\n",
       "      <td>0</td>\n",
       "      <td>0</td>\n",
       "      <td>1</td>\n",
       "      <td>1</td>\n",
       "      <td>48</td>\n",
       "      <td>28.710479</td>\n",
       "    </tr>\n",
       "    <tr>\n",
       "      <th>4</th>\n",
       "      <td>4</td>\n",
       "      <td>17474</td>\n",
       "      <td>1</td>\n",
       "      <td>156</td>\n",
       "      <td>56.0</td>\n",
       "      <td>100</td>\n",
       "      <td>60</td>\n",
       "      <td>1</td>\n",
       "      <td>1</td>\n",
       "      <td>0</td>\n",
       "      <td>0</td>\n",
       "      <td>0</td>\n",
       "      <td>0</td>\n",
       "      <td>47</td>\n",
       "      <td>23.011177</td>\n",
       "    </tr>\n",
       "  </tbody>\n",
       "</table>\n",
       "</div>"
      ],
      "text/plain": [
       "   id    age  gender  height  weight  ap_hi  ap_lo  cholesterol  gluc  smoke  \\\n",
       "0   0  18393       2     168    62.0    110     80            1     1      0   \n",
       "1   1  20228       1     156    85.0    140     90            3     1      0   \n",
       "2   2  18857       1     165    64.0    130     70            3     1      0   \n",
       "3   3  17623       2     169    82.0    150    100            1     1      0   \n",
       "4   4  17474       1     156    56.0    100     60            1     1      0   \n",
       "\n",
       "   alco  active  cardio  age_years        BMI  \n",
       "0     0       1       0         50  21.967120  \n",
       "1     0       1       1         55  34.927679  \n",
       "2     0       0       1         51  23.507805  \n",
       "3     0       1       1         48  28.710479  \n",
       "4     0       0       0         47  23.011177  "
      ]
     },
     "execution_count": 28,
     "metadata": {},
     "output_type": "execute_result"
    }
   ],
   "source": [
    "df['BMI'] = df['weight'] / (df['height'] / 100) ** 2\n",
    "df.head()"
   ]
  },
  {
   "cell_type": "markdown",
   "metadata": {},
   "source": [
    "**Question 1.6. (2 points). Choose the correct statements:**\n",
    "\n",
    "1. Median BMI in the sample is within the range of normal BMI values.\n",
    "2. The BMI for women is on average higher than for men.\n",
    "3. Healthy people have, on average, a higher BMI than the people with CVD.\n",
    "4. For healthy, non-drinking men, BMI is closer to the norm than for healthy, non-drinking women"
   ]
  },
  {
   "cell_type": "code",
   "execution_count": 29,
   "metadata": {},
   "outputs": [
    {
     "data": {
      "text/plain": [
       "26.374068120774975"
      ]
     },
     "execution_count": 29,
     "metadata": {},
     "output_type": "execute_result"
    }
   ],
   "source": [
    "df['BMI'].median()"
   ]
  },
  {
   "cell_type": "code",
   "execution_count": 30,
   "metadata": {},
   "outputs": [
    {
     "data": {
      "text/plain": [
       "gender\n",
       "1    27.987583\n",
       "2    26.754442\n",
       "Name: BMI, dtype: float64"
      ]
     },
     "execution_count": 30,
     "metadata": {},
     "output_type": "execute_result"
    }
   ],
   "source": [
    "df.groupby('gender')['BMI'].mean()"
   ]
  },
  {
   "cell_type": "code",
   "execution_count": 31,
   "metadata": {},
   "outputs": [
    {
     "data": {
      "text/plain": [
       "cardio\n",
       "0    26.548175\n",
       "1    28.566061\n",
       "Name: BMI, dtype: float64"
      ]
     },
     "execution_count": 31,
     "metadata": {},
     "output_type": "execute_result"
    }
   ],
   "source": [
    "df.groupby('cardio')['BMI'].mean()"
   ]
  },
  {
   "cell_type": "code",
   "execution_count": 32,
   "metadata": {},
   "outputs": [
    {
     "data": {
      "text/plain": [
       "gender  alco  cardio\n",
       "1       0     0         26.845407\n",
       "              1         29.052771\n",
       "        1     0         28.671457\n",
       "              1         30.812347\n",
       "2       0     0         25.872638\n",
       "              1         27.522450\n",
       "        1     0         26.097220\n",
       "              1         28.226569\n",
       "Name: BMI, dtype: float64"
      ]
     },
     "execution_count": 32,
     "metadata": {},
     "output_type": "execute_result"
    }
   ],
   "source": [
    "df.groupby(['gender', 'alco', 'cardio'])['BMI'].mean()"
   ]
  },
  {
   "cell_type": "markdown",
   "metadata": {},
   "source": [
    "## 1.4. Cleaning data"
   ]
  },
  {
   "cell_type": "markdown",
   "metadata": {},
   "source": [
    "### Task:\n",
    "We can see that the data is not perfect. It contains \"dirt\" and inaccuracies. We'll see this better as we visualize the data.\n",
    "\n",
    "Filter out the following patient segments (we consider these as erroneous data)\n",
    "\n",
    "- diastolic pressure is higher than systolic \n",
    "- height is strictly less than 2.5 percentile (Use `pd.Series.quantile` to compute this value. If you are not familiar with the function, please read the docs.)\n",
    "- height is strictly more than 97.5 percentile\n",
    "- weight is strictly less than 2.5 percentile\n",
    "- weight is strictly more than 97.5 percentile\n",
    "\n",
    "This is not everything that we can do to clean this data, but this is sufficient for now."
   ]
  },
  {
   "cell_type": "code",
   "execution_count": 33,
   "metadata": {},
   "outputs": [
    {
     "name": "stdout",
     "output_type": "stream",
     "text": [
      "0.9037\n"
     ]
    }
   ],
   "source": [
    "filtered_df = df[(df['ap_lo'] <= df['ap_hi']) & \n",
    "                 (df['height'] >= df['height'].quantile(0.025)) &\n",
    "                 (df['height'] <= df['height'].quantile(0.975)) &\n",
    "                 (df['weight'] >= df['weight'].quantile(0.025)) & \n",
    "                 (df['weight'] <= df['weight'].quantile(0.975))]\n",
    "print(filtered_df.shape[0] / df.shape[0])"
   ]
  },
  {
   "cell_type": "markdown",
   "metadata": {},
   "source": [
    "**Question 1.7. (2 points). What percent of the original data (rounded) did we throw away?**\n",
    "\n",
    "1. 8\n",
    "2. 9\n",
    "3. 10\n",
    "4. 11"
   ]
  },
  {
   "cell_type": "markdown",
   "metadata": {},
   "source": [
    "# Part 2. Visual data analysis\n",
    "\n",
    "## 2.1. Correlation matrix visualization\n",
    "\n",
    "To understand the features better, you can create a matrix of the correlation coefficients between the features. Use the initial dataset (non-filtered).\n",
    "\n",
    "### Task:\n",
    "\n",
    "Plot a correlation matrix using [`heatmap()`](http://seaborn.pydata.org/generated/seaborn.heatmap.html). You can create the matrix using the standard `pandas` tools with the default parameters."
   ]
  },
  {
   "cell_type": "code",
   "execution_count": 34,
   "metadata": {},
   "outputs": [
    {
     "data": {
      "image/png": "iVBORw0KGgoAAAANSUhEUgAAAr0AAAIhCAYAAABDgALgAAAABHNCSVQICAgIfAhkiAAAAAlwSFlzAAALEgAACxIB0t1+/AAAADl0RVh0U29mdHdhcmUAbWF0cGxvdGxpYiB2ZXJzaW9uIDIuMS4yLCBodHRwOi8vbWF0cGxvdGxpYi5vcmcvNQv5yAAAIABJREFUeJzs3XmcHHWd+P/XkARCFDByCALCqstbBV2VQ/PFhSheKLcC4vpzQcBVUdYDRFQgiBeCgAsqKkJkVUBAFATkkoDgwbmgAm8OBRS5CYnIlWT690dVQ9PMTGYm1ame7teTRz16uupTn8+nMhPy7ve861MDjUYDSZIkqZctU/cEJEmSpE4z6JUkSVLPM+iVJElSzzPolSRJUs8z6JUkSVLPM+iVJElSz5tc9wQkSZLUnSLipcC+wAxgfeDXmTlzFOetBBwFbEeRZP0FsHdmPtjWblvgi8C/An8GDs7MU6q8hiYzvZIkSRrO+sA7gARuHsN5PwFmAnsAuwIbAz9rbRARbwBOBy4GtgTOBk6KiLcu6aSHMuDDKSRJkjSUiFgmMwfLr08DVllcpjciZgC/ATbPzEvLfZsAvwfekpkXlvvOA6Zk5ptazj0HWDEz31D1tZjplSRJ0pCaAe8YbQnc2wx4y36uAP5SHiMilgPeSJERbnUyMKMsj6iUQa8kSZKq9DLgpiH231geA3gJMGWIdjdSxKfrVT0pg15JkiRVaTrw8BD755bHaHltbze37XhlXL2hSyx44M+1Fle/f8NP1jl8VxjP7296Ud2fhLvh+1D3n0G3WEi993wsw0Ct4xdzUDfohv8vAJxyx89q+aHsVIwwZZUX1/+XbCny77MkSZKqNBcYqiZ3Ok9ncpuv7e2mtx2vjEGvJElSNxtc1Jmtc27i6drdVq21vrcBC4Zo9zKK5P5YlkcbFYNeSZKkbtYY7MzWOecCq5fr8AIQERsBLy6PkZlPUKzPu2PbuTsDv83MeVVPyppeSZIkDSkiplE8nAJgTWDFiHh3+f6czHw0Im4FLsnM3QEy87cRcT5wYkTsQ5G5PRS4rLlGb+kQYE5EHEXx4Ip3lNvbO3EtBr2SJEndbLDWW/lWA05t29d8/y/A7RTx5KS2NjsDRwLH0/IY4tYGmXlZGUB/EfgwxTq+783M8yuc/1N8IluXcPWG+nXL3cF1q7vmqRu+D3X/GXQLV2/wZ6FbdMP/F6DG1RvuvrEzqzes8fL6/5ItRWZ6JUmSulijs/W3fcMPsZIkSep5Br3jFBGzI+KqxbR5ICJmLaUpSZKkXjQ42Jmtz1jeMH6HAMvXPQlJktTjLG+ohEHvOGXmbXXPQZIkSaNj0DtOETEb2CAzNyrfbwYcDQTwJ+Bj9c1OkiT1jM4+Pa1vGPRWICJeSPGEkSuAdwMvBH4ETKtzXpIkSSoY9Fbj48DjwDsz81GAiPgn8MNaZyVJkiY+a3orYdBbjU2AC5oBb+mMuiYjSZJ6SB+utNAJLllWjdWB+1p3lAHwI/VMR5IkSa3M9FbjHopnUz8lIqYBz61nOpIkqVf4RLZqmOmtxpXAW8pAt2n7uiYjSZKkZzLTW42jgL2AX0TEERSrN+wPPFbrrCRJ0sRnTW8lzPRWIDPvAt4BrAKcDnwEeB/w6EjnSZIkLVZjsDNbnzHTO06ZuWvb+znAq9qarbK05iNJkqThGfRKkiR1M5/IVgnLGyRJktTzzPRKkiR1sz6sv+0EM72SJEnqeWZ6JUmSuplLllXCoFeSJKmbWd5QCYPeLvH+DT9Z6/gnXn1EreMD7PTa/651/AcX1b+s8vpTVq57CjzSWFj3FGr3SqYtvlGHPThQ/93a1y96uNbxJw9MqnV8gOUG6q8C3H7BinVPgZ2u/0Kt4++30WdrHV+9waBXkiSpm1neUIn6P8JKkiRJHWamV5IkqYs1GvWXO/UCg15JkqRu5o1slbC8QZIkST3PTK8kSVI380a2SpjplSRJUs8z0ytJktTNrOmthEGvJElSNxt09YYqWN4gSZKknmemV5IkqZtZ3lAJM72SJEnqeX2f6Y2IGcD+wMbAisAtwGGZ+aOWNjOB/wHWA/4A7AWcAxyTmbNa2m0LHABsADwMnAh8LjMXLI1rkSRJPcglyyphphfWAS4Hdge2Bk4HToiIXQAiYk2KAPc+4N3Ad4AfAcu3dhIROwE/Ba4AtgEOBj4IfGWpXIUkSZKG1feZ3sw8ufl1RAwAlwJrAXsCJwEfBx4Fts7Mx8p284FT2s47DDgxMz/Ssv8J4JsR8ZXMfHApXI4kSeo11vRWou+D3oiYTpGV3RZYE5hUHrqrfN0YuKAZ8JbObOtmPeBFwE8iovXP9FfAVIpyh0sqnrokSeoHljdUwvIGmA3sTJGpfStFkHs8RbAKsDpwf+sJmfk48EjLrlXK13OABS3bX8r9a3dg3pIkSRqlvs70RsRUYCtgr8w8tmV/64eBe4BVhzjvuS27HipfPwhcO8RQfxlinyRJ0uKZ6a1EXwe9wHIU2e4nmjsiYgWKG9Ea5a4rgd0iYvmWEodt2vpJinKIdTPze52dsiRJksaqr4PezJwXEVcCB5Y3pw0CnwHmUSxfBnAUxRJlZ0XEkRTlDp+huLltsOxnMCI+BfxvRKwInAs8CbwY2A54d2Y+uvSuTJIk9YpGw8cQV8GaXngv8GeKNXW/QbFk2YnNg5l5F/BOYDWKJck+BnyA4oa3+S3tTqG4Ge7VwKll248A11AEwJIkSWM3ONiZrc/0daYXIDNvBbYY4tCsljYXA69qvo+IN1CURlzX1te5FFleSZIkdZG+D3pHIyIOpbhB7R4gKJ66dj0uQyZJkjrNdXorYdA7OstRLGn2AuAfwPnAJzPTn0JJkqQJwKB3FDLz4xRPZpMkSVq6+rD+thMMeiVJkrqZ5Q2VcPUGSZIk9TwzvZIkSd3M8oZKGPQKgJ1e+991T4GfXPONWsd/eJfdah0f4ISbl617ClzbBctKT6r5l1CXNubWOj7AlEb9v4g7YOG0Wsf//ZTlax0f4AoeqXsKnD3ln3VPgdNq/jfinkX1fx808Rn0SuoqdQe8ktR1rOmthEGvJElSN7O8oRKmVCRJktTzzPRKkiR1MzO9lTDTK0mSpJ5npleSJKmbeSNbJcz0SpIkqeeZ6ZUkSepm1vRWwqBXkiSpm1neUAnLGxYjIk6LiDl1z0OSJEnjZ6ZXkiSpm1neUAkzvUtJRNT/EHlJkqQ+1fWZ3oj4KLAf8HzgAuBo4ELgjZk5JyKWAT4N7AGsDdwBfCkzf9DSxxzgAeCnwBeA1YDLgT0z828t7dYGvgO8EbgX+OIwc9oAOBTYrNz1S+BjmXlPeXwmcDHwdmAv4E3AKcDuS/SHIUmS+o81vZXo6kxvRGxPEeSeCWwPXA98v63Z0cDnge8C7wTOAI6PiK3a2r0O+CjwKeCDwGvLc5pjDQA/BzagCE4/Cfw3MKNtTi+lCJinAu8DdgXWB84q+2j1feA6YJsh5i1JkrR4g4Od2fpMt2d6Pwuck5l7le/Pj4hVgA/DUwHoh4HdWjK7F0bEGsBBwC9a+loReGdmzi3PXR04MiKWz8zHgC2B1wCvz8zfl22uBm4Dbmnp5yDgHmDLzHyybHc9cBPwDuDslranZuYBFfw5SJIkaQl0baY3IiZTBKFnth1qfb8FMAicERGTmxtwEfDqiJjU0vbKZsBbuqF8XbN83QS4txnwAmTmHcDVbeO/mSKbPNgy3l+A24GN2tqejSRJ0pIw01uJbs70rgJMAu5v23//EG3mDdPHGkCzZvfhtmNPlq9Ty9fVgfuG6OM+YIW2Mfcrt3Zrt72/d5h5SZIkaSnq5qD3AWARsGrb/tb3DwELgU0pMr7thgpih3MPxQ1u7VYDHmsb8wzguCHaPtD2vjGG8SVJkp6tYThRha4NejNzYURcC2xLsaJC0zYtX/+KItO7UmZesIRDXgkcFBGva6npfRHFDW+Xt7S7iOLGtasz059CSZLUWX1YitAJXRv0lr4CnB4Rx1DU8m5KsUIDwGBmZkQcC5wcEV8DrqIoV1gfWC8z9xjDWOdQrLRwakTsBzwBHMyzs8WzgCuAsyPieIrs7prAW4DZmTlnzFcpSZKkjurqoDczfxoRe1PUz34AmAPsA/wEmF822wu4GdiTYg3e+RQ3qY1pibDMbETENhTLmB1PEex+mSKYXaWl3c0R8XqKNXy/CywP3EWRAb51PNcpSZI0rBozvRHxCorlYWdQ3B91HHBwZi4a4ZxZFKtdDeWzmfmVst1s4D+HaPPyzLxpCaY9pK4OegEy82iKP2wAIuLzwONAlscbwFHlNlwfM4fYNwcYaNt3J8UDJVp9p+095Tfi3SOM96y+JUmSJpKImE7xQLAbKMpNXwJ8nWL1r8+PcOpxFA/uarUdRRLz3Lb9NwG7te27fXwzHllXB70RsSqwP8XTzR4F/p3iD+z75dq6kiRJva2+J7J9iOI32jtk5nzggohYEZgVEV8r9z1L+bTbv7Xui4gDgJsy8//amv8zM3/Xgbk/S9eu01t6EngZcALFJ4YPAN8APlHnpCRJkvrAlsB5bcHtyRSB8Oaj7SQiVqYoFz2p2umNTVdnejNzHsVTziRJkvpTfTW9L6NYKespmXlnRDxaHjtrlP28C5jC0EHvKyJiPrAcxUpan8vMS8Y/5eF1e6ZXkiSpvzUandkWbzrPfrgXwNzy2Gi9B7gmM29p238t8Clga+A/KJahvSAiNhlD36PW1ZleSZIkTVwRsQZFKcSznmSbmd9oa3sO8CfgsxQ3vlXKTK8kSVI3GxzszLZ4c4GVhtg/vTw2GjtRrGh1yuIaZuajFM9NeO0o+x4TM71dou5nrTy46NGaZwAP79K+YsnS9byTTqh1fIBXrf/ZuqfAtVPrHX9R7X8bYEF9d0o/ZcpA/TmJayYvX+v4dy8z7DKgS83CLnj8a6ML/k7U/W/ElfffXOv4fewmitrdp0TE2sC08thovAe4LDP/Osr2jXKrXP3/V5UkSdLw6sv0ngu8LSJWaNm3M/AYsNibzSJiXeD1jHLVhohYnuLJu1ePpv1YmemVJEnqZvX99ulYYG/gpxFxKPBiYBZwROsyZhFxK3BJZu7edv57gIXAqe0dR8RKwC+AH1I80XYViiVpXwjsWPmVYKZXkiRJQ8jMucAWFKsqnAUcDBzJsx8xPLls0+49wEWZ+cAQx54A7qd4sts5wHcpVorYPDOvquQChpikJEmSulRjsL7a8sy8AXjTYtqsO8z+V49wzuPADks0uTEy0ytJkqSeZ6ZXkiSpm9X3RLaeYtArSZLUzbpgGcVeYHmDJEmSep6ZXkmSpG5W441svWTCZXojYnZELPFSFhExJyJOG8d5t0fE4Ytps15EzIqI541/hpIkSapKP2d6PwIs6FDf61GsYTebYs05SZKk8fFGtkr0bdBbrjsnSZKkPjBhg96IeAvwdeAlwLXAf2Xmn8pjywCfBvYA1gbuAL6UmT9oOX8O8EBmvrtl347Al4G1gN8BnwSuAXbLzNlt438C+BTwHOA84EOZ+XBEzKR4agnAXyIC4I7hFm6WJEkakZneSky4mt7Si4DDgC8BuwCrAadExEB5/GiKx9p9F3gncAZwfERsNVyHEbERcDJFkLs9cCZwyjDNd6J4LN8Hgf2ArSiCZcrz9ym/3gGYUfYnSZI0do1GZ7Y+M1Ezvc8HNs3MW+CpzO4ZxZexEPgwRXa2mdm9MCLWoKiz/cUwfe4H3Ai8JzMbwC8jYgpw6BBtFwDbZebCcvxXUDxf+iOZOT8ismx3bWbevoTXKkmSpCU0UTO9tzcD3lKzPnctigzsIHBGRExubsBFwKsjYtIwfW4MnFUGvE1nDtP24mbA2zL+amWQLEmSVJ3Bwc5sfWaiZnrbV0R4snydCqwCTALmDXPuGsDfhti/OnB/27729yONPwAsR+dWhJAkSdI4TdSgdyQPAQuBTSkyvu3uG+a8e4BV2/a1v5ckSVq6fDhFJXox6P0VRaZ3pcy8YAznXQlsHRGfbSlx2Gacc2jNPEuSJI1fo/9KETqh54LezMyIOBY4OSK+BlxFEXyuD6yXmXsMc+qhwO/L804AXg7sWR4b609b80a2/4qIk4FHM/MPY+xDkiRJFZmoN7Itzl7AIcD7gXMonoz2TuDS4U7IzKsolj/bEPgZ8C6KVSAA5o9l8My8g2LZsh2Ay3l63V5JkqSxGWx0ZuszEy7Tm5m7DrHvdoobyZrvG8BR5TZcPzOH2PcT4CfN9xHxvvLL61rarDvEebMpAuvWfV+neHiGJEmSajbhgt5OiohvAxcAc4HXUjzg4uzM/EutE5MkSX2r0YfLi3WCQe8zrQx8q3x9kOKJbJ+udUaSJKm/9WEpQicY9LbIzJ3qnoMkSZKqZ9ArSZLUzVyyrBK9unqDJEmS9BQzvZIkSd3Mmt5KGPQKgPWnrFz3FDjh5mVrHf9V63+21vEBtvjTl+ueAqdstG/dU2Byzb+E2mCZ59Q6PsAjA/X/I3czC2odvxt+obuI+r8Pbxxcse4pcMOUeh8wet7xu9Y6vnqDQa+krlJ3wCtJXcclyyph0CtJktTNLG+ohCkVSZIk9TwzvZIkSd3MJcsqYaZXkiRJPc9MryRJUjezprcSBr2SJEldrOHqDZWwvEGSJEk9z0yvJElSN7O8oRJ9GfRGxLrAX4CtM/MXYzhvJnAx8MrM/OMI7XYCpmXm7CWbqSRJkqrQl0EvcDcwA7ipQ/3vBKwCzO5Q/5IkqV+Y6a1EXwa9mfkE8Lu65yFJkrRYrtNbia4PeiPijcCvgDUz8+/lvt8CmwArZ+bD5b4/AGdm5uci4kXA14C3AlOBXwN7Z2aWbdelrbwhIpYDjgJ2ARYBxwN3AUdm5kDbtFaJiFOBLYH7gMMz81tlP7OBd5VfNz+aHZyZsyr8Y5EkSdIYTITVG34PLAD+HSAipgEbAk8Cm5b7ng+sD/y6/PoyIIAPUZQaPAe4MCKWH2GcrwG7AgcD/wG8CPjUMG2/B1wHbA/MAb4ZEZuUxw6hqPu9lqKEYgZw3NguWZIkqTTY6MzWZ7o+05uZj0bE1RRB7ynA64F5wEXlvrOBNwAN4DfAvhRB7qsz8yGAiLgcuB34APDN9jEiYmXgg8CBmXlkue88YLib1U7KzC+W7eYAWwM7AFdk5m0R8RCwTGZaQiFJktQFJkKmF+BSykwvsBlFJveStn3XZeZ84M3ABcD8iJgcEZOBfwBXAxsN0/8rKcogzmzuyMwGcNYw7c9vabcAuAVYa+yXJUmSNLLGYKMjW7+ZKEHvr4ENIuJ5FIHur8tto4iY2rIPilUTdqYoiWjd3gisPUz/q5ev97ftb3/f9HDb+ycpgmZJkiR1oa4vbyhdXr7OpChv2A/4E/AIsAXwWuCwss1DFBnbQ4bo5x/D9H9P+bpqeT4t7yVJkurTh1nZTpgQQW9mzo2IPwKfoFhZ4drMbETEZcCnKa6jmem9iOLmtT9l5mOjHOIPwOPAthQ3tBERAxS1uuNh5leSJFVj0CXLqjAhgt7Sr4G9gPMyc1HLvsOAWzLz3nLfEcD7gF9FxNEUy469ANgcuCwzT2rvODMfjIjvAQdHxALgRmA3YEWKG+TG6iZg24jYDvgb8PfmcmuSJEla+iZKTS88ncm9dIh9lzV3ZOYDFCUQNwFHUtx09jVgJeD6Efr/NMUT1GYBJwH3At8H5o9jrt8qxz0euJJiZQhJkqSxc8mySkyYTG9mnkKxZFnrvt8D7Q+OoMyq7jZCX7e3n5eZjwMfLjcAIuJCivV4m23mDDPezLb3D1Cs4StJkqQuMGGC3k4rn/z2OuAaYArFChBbADvWOS9JktTn+jAr2wkGvU97BNgO2J/iJrRbgF0z87RaZyVJkvpao2HQWwWD3lJmXklRCyxJkqQeY9ArSZLUzSxvqMREWr1BkiRJGhczvZIkSd3MTG8lBiyO7g67rLNdrd+IyV2Q9F+IT5yZOjCp7inw3asOW3yjDtttw31qHX/SwLNWJlzqFjTq//uwaFzP5lHVnj+wbN1T4JHGwlrHX6YL/k4C/OD202uZyLzd3tyRv4wrnXBhd/zBLiX1RzqS1KLugFeS1Jssb5AkSepmljdUwkyvJEmSep6ZXkmSpG5Wf4l/TzDTK0mSpJ5npleSJKmLNazprYRBryRJUjcz6K2E5Q2SJEnqeWZ6JUmSupk3slXCTO84RMTMiGhExAaLaTc7Iq5aWvOSJEnS0Mz0dtYhwPJ1T0KSJE1c3shWDYPeDsrM2+qegyRJmuAsb6hEzwW9ETED2B/YGFgRuAU4LDN/VB7fFTgB2AQ4AtgI+CuwX2aeMcbhVomIU4EtgfuAwzPzWy1zmQ1skJkbLck1SZIkacn0Yk3vOsDlwO7A1sDpwAkRsUtbu1OAnwM7AH8ATo2IfxvjWN8DrgO2B+YA34yITcY/dUmSpGdqDDY6svWbnsv0ZubJza8jYgC4FFgL2BM4qaXpcZl5eNnuPOAGigzxe8Yw3EmZ+cWyjzkUQfYOwBVLcAmSJEmqWM8FvRExHTgY2BZYE5hUHrqrrelTpQyZORgRPwd2HONw57f0sSAibqEIsCVJkqphTW8lei7oBWYDr6dYOeEGYD7wYYoguNV9Q7xfY4xjPdz2/klg6hj7kCRJGlbDoLcSPRX0RsRUYCtgr8w8tmX/ULXLqwEPtr2/u7MzlCRJUh16KugFlqO4Oe+J5o6IWAHYBmiv2N4euLFsswxFJthaXEmS1F1qzPRGxCuAo4EZFL/hPg44ODMXjXDOusBfhjh0Sma+p63ttsAXgX8F/lz2fUo1s3+mngp6M3NeRFwJHBgR8yl+TD4DzKNYvqzVHhHxJPBHYA/gpUD7Cg+SJEl9qbxP6kKKctFtgZcAX6dIMH5+FF3sQ7GiVtMDbf2/gWKVrW8BewPvAE6KiLmZeT4V66mgt/Re4DvAiRTlC8cA04CPtrV7D3AkxaeLvwI7Z+a1S3GekiRJi1VjTe+HKJ4su0NmzgcuiIgVgVkR8bVy30gyM383wvEDgEszc+/y/cURsT5wIC2LBVSl54LezLwV2GKIQ7Pa3t+QmZuOc4w5wMAQ+2e2vd91PP1LkiR1gS2B89qC25OBQ4HNgbPG23FELAe8kSLD2+pkiucrrJSZ88bb/1B68eEUkiRJvWOwQ9vivQy4qXVHZt4JPFoeW5wTImJRRNwdEUdExPItx14CTGnvn+J+q2WA9UY1wzHouUzvkiofaDFphCaDmeniIZIkaamosbxhOs9enhVgbnlsOE8A36QoUZgPzAT2owh0m0vINs9v739u2/HK9F3Qm5mzKdbyHc7mwMUjHD+YZ5dKSJIkCcjMu3nmvVRzIuJe4FsR8W+ZeV0d8+q7oHcUrgY2HuH435fWRCRJkmrM9M4FVhpi/3SezsiO1mkUqzRsCFzXcn57/80M71j7XyyD3jaZ+Q/gqrrnIUmSVLObaKvdjYi1KVbFaq/FXZxG2+ttwIKy/0ta2r2MouL45rFOdnG8kU2SJKmLNQY7s43CucDbygd9Ne0MPMYzA9XReHf5ejVAZj5BUU66Y1u7nYHfVr1yA5jp7RreGQeTav4MtqgLvguTu+Bz6G4b7lPr+CdcfXit4wPssdG+dU+hK9T90zjw7JUhl7rGsx7mufRN6oI/h7r1/Z9Bo7brP5ZiSbGfRsShwIsp7ms6onUZs4i4FbgkM3cv388CVqB4MMV8YDNgX+CnmXl9S/+HUNT7HgX8jOLhFO8A3t6Ji6n7/2mSJEnqQpk5l+LZB5Mo1uQ9mOLBXge1NZ3MM1e+uoliYYATgHMoHhx2WPna2v9lFBngNwPnAdsA7+3E09iak5QkSVKXqvFGNjLzBuBNi2mzbtv7kykeMjGa/n9GkeXtODO9kiRJ6nlmeiVJkrpYY7DPa5orYtArSZLUxeosb+glljdIkiSp55nplSRJ6mKN+pYs6ylmeiVJktTzzPRKkiR1MWt6q2HQO04RMZPi8XmvzMw/1jwdSZIkjcCgV5IkqYu5ZFk1DHolSZK6WKNR9wx6Q08GvRExA9gf2BhYEbgFOCwzf1Qe35XiedCbAEcAGwF/BfbLzDOWYNxpwFeBnYDnAX8APtepZ0hLkiRpdHp19YZ1gMuB3YGtgdOBEyJil7Z2pwA/B3agCFBPjYh/W4JxvwfsBnwJ2J4ikD47It6wBH1KkqQ+1hgc6MjWb3oy05uZJze/jogB4FJgLWBP4KSWpsdl5uFlu/OAGygyxO8Z65gR8XJgF2C3zPxBS5/XAwcAbxvXxUiSJGmJ9WTQGxHTgYOBbYE1gUnlobvamj5VypCZgxHxc2DHcQ67MTAAnNrW56nAp8fZpyRJ6nP9mJXthF4tb5gN7AwcBryVIiA9Hpja1u6+Id6vMc4x1wAeycxH2/bfC0yLiOXG2a8kSepjjUZntn7Tc5neiJgKbAXslZnHtuwfKsBfDXiw7f3d4xz6buC5ETGtLfB9AfBoZj4xzn4lSZK0hHox07scxXU9FWRGxArANkO03b6lzTIU5RBXjHPcK4EG8O6WPgfK95eNs09JktTnvJGtGj2X6c3MeRFxJXBgRMwHBoHPAPMoli9rtUdEPAn8EdgDeCnFzWjjGffGiDgJOKYMsm+juHHuZcCHx3UxkiRJqkTPBb2l9wLfAU6kKF84BpgGfLSt3XuAI4EvUiwvtnNmXrsE4+4JHAocyNPr9G6VmWZ6JUnSuDQa/ZeV7YSeDHoz81ZgiyEOzWp7f0NmbjrOMeZQrNbQuu9R4GPlJkmStMQag3XPoDf0Yk2vJEmS9Aw9meldUuUNaJNGaDKYmX7ukiRJHTdoeUMl+jLTm5mzM3MgMx8ZpsnmwIIRtgOXykQlSZJUCTO9Q7ua4oEWw/n70pqIJEnqb97IVg2D3iFk5j+Aq+qehyRJUj+uqdsJfVneIEmSpP5iprdL1P3p45VMq3kGcGljbq3jL+iCNWE2WOY5dU+Bmwcer3X8PTbat9bxAY676rC6p8A9W+5Z9xTY77725/ksXVMHRrqfeOl4vLGo7imw0YIpdU+B+ybXO4dFjVqHr12jz6+/KnXHWpIkSVLHmemVJEnqYtb0VsNMryRJknqY8aHlAAAgAElEQVSemV5JkqQu5sMpqmHQK0mS1MVcp7caljdIkiSp55nplSRJ6mIuWVYNM72SJEnqeWZ6JUmSupg3slVjiTO9EbFrRDQi4rkV9DUrIh5Y0n7a+lyt7HfdKvsd5diVX48kSeovjcZAR7Z+0w/lDasBBwHr1jwPSZIk1aQfgt5KRcTydc9BkiT1j0ajM1u/GXVNb0RsBhwMbAwsAq4FPtHS5F8i4gjg/wF/BT6bmT9t6+OjwH8DLyrbfDMzj1zMuM8HvgpsC6wEXAN8IjN/39Jmd+BTwL8A/wT+BHyk/PoPZbOLIwKAzBwYQ9+Nsu8XAf8BzANeOt7rkSRJ0tI3qkxvRMwELgIWAP8J7Az8GlizpdmPgTOB7YFbgJMjYq2WPvYEji7bbA2cCnw9Ij4zwrjLARcCbwb2BbYD7gcujIjVyzabAccC/wtsCXwA+A1FEHs3RaAKsBcwo9xG1XeLfYE1gP8P2Hu81yNJkjRWg42Bjmz9ZrSZ3q8A1wFvy8xmQvyXUNzIVr4/MjOPL/ddDdwLbAUcGxHLALOA2Zn5qbL9+RGxErB/RByVmY8PMe77gA2A9TPzlrLvC4GkyL7uC2wCXJ+ZX2k578zmFxFxffnlDZn5uzH23XR3Zu7c0ud4r0eSJGlM+vGms05YbKY3Ip4DvA74QUvAO5Tzm19k5oPAfUAz07sW8EKKbGirU4AVgVcO0+ebgauBv0TE5IhoBumXABuVX/8f8JqIODIiNouIZRd3TWPou+mctvfjvR5JkiTVYDTlDdOBAYpSgZE83Pb+SWBq+fUa5eu9bW2a758/TJ+rAK+nKKto3XYD1gbIzAvL95sBc4AHIuKbZbA+ksX2PcQ8m8Z7PZIkSWNieUM1RlPeMBcY5OlAbzyaAfNqbftfUL4+NMx5DwFXAR8e4tgTzS8y8wfADyJiVWAH4EjgH8BI9bWj6rvUnuEe7/VIkiSpBosNejPznxHxe+D9EXHMYkochvM34O/AjsC5Lft3Aubz9AoL7S4C3grcmZn3jWKu9wPfiYgdgFeUu58sX6e2NR9T323Gez2SJElj0oeri3XEaG9k+wzFSgfnRsR3KZYCm0GRKV2szByMiFkUAemDwAXA5hRZ1s+OcNPXicCHgDkRcTjwZ2BlipvX7snMIyPiYIpygjnAA8Bryr6bWd47gceA/4yIecCCzLxqNH134HokSZJUg1EtWZaZlwJvAaYBP6S4YWtzioznqGTm9yjWtN0e+AWwC/CpzPzqCOc8DryRIqg8mOJmuW8A/wpcUTa7kiKreyxwHkXgOats1+xjT2BDipvUrhxD35VejyRJ0lhZ01uNgUY/PpKjC+2yzna1fiNew3PrHB6ASxtzax1/QWOw1vEBNlum/nsgbx7wFxXHXXVY3VPgni33rHsK7HffirWOP3VgUq3jAzzeWFT3FHjrwsXdl9159436UVadUf93obD/HT+sJVK8fPV3dyRG2PSe0/oq8vUxxJIkSep5NX92kyRJ0kjq/z1kbzDTK0mSpJ5npleSJKmLNeir0tuOMeiVJEnqYoOuOVAJyxskSZLU88z0CoAHB+pfEGZKo97PYFMG6v8M+MhA/R/nu2Hptrp1w3Jhq5/7vbqnwIINP1HvBOr/68CCLriF6I9T6v//c/2Lx/W3QcsbKlH/v/KSJElSh5nplSRJ6mLeyFYNg15JkqQuVn+RTW+wvEGSJEk9z0yvJElSF7O8oRpmeiVJktTzzPRKkiR1MWt6q2GmV5IkST3PTK8kSVIXM9NbDTO9w4iIRkR8tO55SJKk/tZgoCNbvzHolSRJUs+zvEGSJKmLDfZfUrYj+jboLUsX9gOeD1wAHA1cCLwxM+cM0f524LTM3Kdl367ACcAKmflIuW9l4MvANsB04A7g25l5VOeuRpIkSSPpy6A3IranCHK/BfwceAPw/Qr6XR6YA6wGHAzcBLy03CRJksZssA/rbzuhL4Ne4LPAOZm5V/n+/IhYBfjwEvb7fmB94LWZ+X/lvl8tYZ+SJKmPNeqeQI/ou6A3IiYDrwH2ajt0Jkse9L4JuLYl4JUkSZqwIuIVFL8dnwE8DBwHHJyZi0Y4Z2PgI8C/Ay8E/gr8GDg0Mx9vaTcLOGiILrbMzF9WdQ1NfRf0AqsAk4D72/a3vx+PlYG7K+hHkiQJqG+d3oiYTnG/0w3AtsBLgK9TrP71+RFO3blseyhwC/Aq4JDy9V1tbecBb2/bd+OSzn0o/Rj0PgAsAlZt29/+vt3jwLJt+6a3vX8Q63clSVJv+BCwPLBDZs4HLoiIFYFZEfG1ct9QvpqZD7S8nxMRjwPfiYh1MvOOlmMLM/N3nZn+M/XdOr2ZuRC4luITS6ttFnPq34CXt+17a9v7i4DXRMSrxj9DSZKkpw0ODHRkG4UtgfPagtuTKQLhzYc7qS3gbbq2fH3haK+7av2Y6QX4CnB6RBxDUcu7KfDO8thwv0U4Azg6Ij4LXEmRnl+/rc2JFLXC55d1Kgn8C7BeZn6m0iuQJEl9ocYb2V5G2w35mXlnRDxaHjtrDH3NoIixbmvb/7yIeABYCfgjcEhm/nT8Ux5e32V6Aco/zL2B7YCfARsDzfV3h0vVfxc4qjzvJ8ATwBfb+n2c4ma2s4AvAOcCnwb+Xu0VSJIkddx0ipvX2s3l2SWew4qI1SlqgP83M+9rOXQrRZy0I0Uy8e8USckdxj3jEfRrppfMPJribkQAIuLzFHW7WR4faGu/APhkubX6blu7B4E9y02SJGmJ1HUjWxUiYlmKZOEjwCdaj2XmD9vangX8BjgQqDzb25dBb0SsCuwPXAw8SrGkxn7A9zPzsTrnJkmS1CXmUpQdtJteHhtRRAxQlH6uD2yamSOek5mNiPgpcGhETBppWbTx6MugF3iSohbl/RTfzLuBbwAH1DkpSZKkdoP1PZDtJop46SkRsTYwrTy2OEdRLBzwlswcTXsoSpg7Usbcl0FvZs4D3lH3PCRJkrrYucC+EbFCZv6j3Lcz8BhwyUgnRsT+wEeBnTLzstEMVmaG3wVcV3WWF/o06JUkSZooBqkt1XssxQ38P42IQ4EXA7OAI1qXMYuIW4FLMnP38v17gS8Ds4G7IuL1LX3elpn3l+0uAU6nyBo/h+J+qNdRLDRQOYNeSZKkLlbXkmWZOTcitgCOoViZ6mHgSIrAt9VkiqfdNjWfY7BrubXajSIYhmL1ho8Da1Dcr3cN8M7MPLeK+bcz6JUkSdKQMvMGiuVYR2qzbtv7XXl2sDvUebsvwdTGzKC3Syysc+lp4PpFQy3Dt3QdsHBareNfM3n5WscHuJkFdU+BRTX/LHbD4uH73bdi3VNgwYafWHyjDvvx1UfWOv7Vr9pn8Y067NvL1v/P5J8b/6x7Cjw2WO//m5YdmLT4Rj2sxhvZeko3/PsiSZIkdVT9H2ElSZI0rIn8cIpuYtArSZLUxeotOusdljdIkiSp55nplSRJ6mLeyFYNM72SJEnqeWZ6JUmSupg3slXDoFeSJKmLGfRWw/IGSZIk9TyD3lGKiNsj4vC65yFJkvpLY6AzW78x6JUkSVLPs6ZXkiSpi1nTW40JFfRGxPrA14FNgOWAO4FjMvObETEHeAA4GzgQWBU4A9gD+DfgGOAVwFXA+zPzzpZ+Vyn73QpYHrgC2CczrxphLmsCFwF/A7bJzEcjYirwBWAXYDXgJmD/zDynqj8DSZIkjd2ECnqBs4AbgfcBTwABrNhy/PXAKsDHgBcBRwKPAa8Dvgb8E/gf4LvA21vO+xnwUmAfisB5X+DiiHhNZt7aPomIWJci4L0JeFdmPl4eOo0iID8IuA3YCTgzIjbKzP9bwmuXJEl9yExvNSZM0FtmY/8F2DYz/1Duvqit2XPL4/PKc2YCewKbZ+al5b4XAt+MiGlldvbtwKbAzMy8pGzzK+B2iuD3v9rm8VLgV8CVwC6Z+WS5fwvgna39AOdHxHrA54AdK/mDkCRJfaVR9wR6xES6ke0h4K/AsRGxc0SsNkSbq5oBb+lW4EngsrZ9AC8sXzcB7msJVMnMfwK/AN7Q1n8Al5b97dwMeEtvBu4BLo+Iyc2NIjDfaAzXKUmSpIpNmKA3MweBt1IElscD90TEryPiNS3NHm477UngH+W5rfsAppavawD3DTHkvcDz2/b9v7L9cZm5sO3YKsDqwIK2bRaw9ogXJ0mSNIzBgc5s/WbClDcAZOZNwLsiYgrw78ChwNkRsdYSdHs3xU1n7V5AkV1udQJFDfHPIuLNmXlFy7GHgLuA7ZZgLpIkSeqACRX0NmXmAuBXEXEE8GPgeUvQ3e+BgyNis5a632kU9blnDNH+QxS1w+dGxMy2+uJPAY+UwbkkSdIS80a2akyYoDciXgUcDpwC/BmYDuwHXJeZD0XEuPrNzPMi4jfAKRHxGeBBilUclgcOG6L9YES8Hzid4ka1fy9XeLgAOA+4ICIOBf5EkRV+NTA1M/cf1wQlSVJfM+itxoSp6aWo5b2XYiWEc4FvUSxftk0FfW9HEbQeBZwKDABvGmq5MoCynncn4A/ARRGxdmY2gB0o6o0/ThEAfweYwTNvpJMkSdJSNtBouBBGN9hxnW1r/UY8Mvjk4ht12AELp9U6/jWTl691fICbJy2oewrc23ii1vG74ZP4APXf4bGgC3I7P776yFrHv/pV+9Q6PsC3l63/Z+Efjfr/v/DYYL1zWHZgUq3jN/38zl/U8gNx+Ive15EYYZ87f1j/D/hS1A3/vkiSJEkdNWFqeiVJkvpRPy4v1gkGvZIkSV2s/mKn3mB5gyRJknqemV5JkqQu5pID1TDTK0mSpJ5nprdLLFPzEkmTu2A5mN9PqXfJsLuXWVTr+GDdFnTHcmFTu+DvQzekdupeMmzD6w+vdXwANtq37hkwqQv+TtT9b8QKA8vWOn7dBrvhfwg9wEyvJEmSep6ZXkmSpC7mbwGrYdArSZLUxSxuqIblDZIkSep5ZnolSZK6mOUN1TDTK0mSpJ5npleSJKmLDda/al1PMOiVJEnqYq7TWw3LGyRJktTzzPQOISJ2BU4AVsjMR2qejiRJ6mPmeathpleSJEk9z0yvJElSF3PJsmr0ZdAbETOA/YGNgRWBW4DDMvNHI5yzPHAwsDOwOvB34OTM3L88Pgk4APgA8ALgVuBLmfnjDl6KJEnqcd7IVo1+LW9YB7gc2B3YGjgdOCEidhmqcUQMAD8HPgx8E3gHcBCwSkuzLwCfA74LbFP2/6Ph+pQkSdLS05eZ3sw8ufl1GdBeCqwF7AmcNMQpbwXeAmybmWe27D+x7OP5wMeBL2bmF8tj50XEWsCsYfqUJElaLPO81ejLoDciplOUKmwLrAlMKg/dNcwpbwIeagt4W20ATANObdt/CjA7IlbNzPuXbNaSJEkar74MeoHZwOuBQ4AbgPkUpQvbDtN+ZeDuEfpbo3y9t21/8/3zAYNeSZI0Zt7IVo2+C3ojYiqwFbBXZh7bsn+k+uYHeTqwHUozIF6tbNv0gvL1oXFMVZIkSRXpxxvZlqO47ieaOyJiBYqbz4ZzEfD8iNhqmON/BB4FdmzbvxNws6UNkiRpvAZpdGTrN32X6c3MeRFxJXBgRMyn+K3BZ4B5FMuXDeUC4DzgxxHxBeAaiszvZpn5X5n5UEQcBXw+IhYCVwE7UKzy4OoNkiRp3PovPO2Mvgt6S+8FvkOx+sKDwDEUN6J9dKjGmdmIiO0paoA/DqxKsU5v6xq8BwILKWqDm+v0vq91pQhJkiTVoy+D3sy8FdhiiEOzyuOzKW52az3nMWCfchuqz0UUa/ceVN1MJUlSv/NGtmr0Y02vJEmS+kxfZnolSZImioZVvZUw6JUkSepiljdUw/IGSZIk9TwzvZIkSV2sH9fU7QQzvZIkSep5Znq7RN2fPpYbqHsGcAWP1Dr+wkb9n6QXdcGn+Sk1/zR2ww0bjzcW1T0FFnRBFd+3l635n4iN9q13fOC4qw6rewps/9qP1T0Fpg5MqnX8R1lY6/h1q///ir3BoFeSJKmLWd5QjfrTe5IkSVKHmemVJEnqYvUXO/UGM72SJEnqeWZ6JUmSulg33ODbC8z0SpIkqeeZ6ZUkSepi1vRWw6BXkiSpi1neUA3LGyRJktTz+jrTGxGrAR8BZmfm7S37ZwIXA6/MzD/WMztJkiTLG6rS75ne1YCDgHXb9l8DzABuW9oTkiRJUvX6OtM7nMycD/yu7nlIkiQNNqzprcKEDnojYgawP7AxsCJwC3BYZv6opc06wFeBtwDTgFvL978B/lA2uzgiAMjMgfbyhoiYA9yfmTu2jX8YsDOwTmY2ImIq8AVgF4os8k3A/pl5TvVXL0mS+kGdIW9EvAI4muI34A8DxwEHZ+aixZy3EnAUsB1FZcEvgL0z88G2dtsCXwT+Ffhz2fcpVV8HTPzyhnWAy4Hdga2B04ETImIXeKpm97cUQfE+ZZvvA2sDdwP/UfazF8U3c8Yw45wCvCMintPcEREDwE7ATzKz+fN4GrAr8OVyrCuBMyPi1RVcqyRJ0lITEdOBCyni7m0pEnufAg4exek/AWYCe1DERhsDP2vr/w0UsdvFwJbA2cBJEfHWSi6gzYTO9Gbmyc2vyyD0UmAtYE/gJOATwErAhpl5d9n0opZzri+/vCEzRypnOI3iU87WQHPM1wMvar6PiC2AdwIzM/OSss35EbEe8DngGVliSZKk0RisL9f7IWB5YIey9POCiFgRmBURXyv3PUv5m/i3Aptn5qXlvruA30fEmzPzwrLpAcClmbl3+f7iiFgfOBA4v+qLmdCZ3oiYHhH/ExF3AAvK7YPAemWTNwG/bAl4xyUz7wd+RVHK0LQzcFtmXlW+fzNwD3B5RExubhRB9kZLMr4kSVINtgTOawtuT6YIhDdfzHn3NgNegMy8AvhLeYyIWA54I0VGuNXJwIyyPKJSEzroBWZTBJ+HUXyi2Bg4HphaHl+ZooyhCicDW0bEihGxDEXmtrXmZBVgdZ4OvpvbLIpyCkmSpDFrdOi/UXgZxf1JT8nMO4FHy2OjPq90Y8t5LwGmDNHuRor4dD0qNmHLG8qbxrYC9srMY1v2twbyDwJrVDTkGcC3KWpa7gBeyDOD3oeAuygKtiVJkipR4zq90yluXms3tzw2nvNe3NKGIdrNbTtemQkb9ALLUXwSeKK5IyJWALbh6RsdLwL2jogXZOa9Q/TxZPk6dYhjz5CZcyPifIrM8h3AjZl5fUuTiyiKux/JzKE+3UiSJKkmEzbozcx5EXElcGBEzKf4IPQZYB7F8mUARwLvB34dEV8C/gq8HHhOZn4NuBN4DPjPiJgHLGip0R3KKRTlE/OAY9qOXQCcR1HkfSjwp3IerwamZub+S3rNkiSp/9R4I9tcigUB2k3n6YzscOetupjzmq/t/U9vO16ZiV7T+16KNd1OBL5BsezFic2D5Q1omwLXUqwV9wuKG93uLI8/TrHSw4bAJRRLjI3k58BCivrdk1sPlMuW7UARFH+cIgD+DsUyaJeN/xIlSZJqcRNttbsRsTbFcw9G+q32s84rtdb63kZx71N7u5dRJDJvHsd8RzRhM70AmXkrsMUQh2a1tLmDZ6660N7Hj4Afte2bAwwM0fYfFN/o4fp6guKxxgeNPHNJkqTRGeVNZ51wLrBvRKxQxkBQxFSPUSQLRzrvgIh4Q2ZeBhARG1HU854LRcwUERdTLAzwnZZzdwZ+m5nzqr2UCR70SpIk9boab2Q7Ftgb+GlZuvliisTiEa3LmEXErcAlmbk7QGb+trwP6sSI2IfiEg4FLmtZoxfgEGBORBxF8eCKd5Tb2ztxMRO9vEGSJEkdkJlzKX6jPgk4i+JJbEfy7N9oTy7btNqZIht8PEXp6dXA9m39Xwa8m+JZB+dRLEbw3sys/MEUzUlKkiSpSzUatZU3kJk3UDzsa6Q26w6x72Fgt3Ib6dyf0fZ44k4x0ytJkqSeZ6ZXkiSpi9W4ZFlPMdMrSZKknmemVwBsv2DFxTfqsLOn/LPW8Rt13h9beuNg/d+HGyY9ufhGHTTp2asFLnUbLZhS9xT445RFdU+BPzfq/TvZDT8L27/2Y3VPgTOuObruKfCTVx1Y6/j39Hm0Uv+/Tr2hz3+MJEmSuluN6/T2FMsbJEmS1PPM9EqSJHUxb2SrhpleSZIk9TwzvZIkSV2szodT9BKDXkmSpC7m6g3VsLxBkiRJPc9MryRJUhdzybJqmOmVJElSzzPoHaWI+GhENFrez4yIRkRsUOe8JElSbxuk0ZGt31jeMH7XADOA2+qeiCRJ6l2u3lANg94WEbF8Zj42mraZOR/4XYenJEmSpApM6KA3IjYDDgY2BhYB1wKfAO4BvgTMBNYA/gr8BPhCZj5Znrsu8BfgfcDbgG2Aq4A3R8RywNfLY4PAD4A728aeCVwMvDIz/1jumwZ8FdgJeB7wB+BzmXl+By5fkiT1gX4sReiECVvTWwadFwELgP8EdgZ+DawJrAI8BHwSeDtwGLAbcPQQXR0O/APYEfhyue+rwB7AIcB/AOsAnxrFtL5XjvMlYHuKYPvsiHjDWK9PkiRJ1ZnImd6vANcBb8vM5kegX7Yc36f5RURcDvwTOD4iPtbM9pZ+l5l7tbRdGfgQcFBmfr3cdx5ww0iTiYiXA7sAu2XmD1rOux44gCKbLEmSNCYuWVaNCZnpjYjnAK8DftAS8LYeH4iIj0fEDRHxGEU2+EfAcsCL2pqf3fb+lcBU4OfNHZk52Pp+GBsDA8CpbeedCpjplSRJqtGEDHqB6RQB5t3DHP84RdnCGcC2wCZAM5s7ta3tvW3vVy9f72vb3/6+3RrAI5n56BD9TyvrhCVJksZksNHoyNZvJmp5w1yKG8zWGOb4jsBpmfm55o6I+P/bu+84uar6/+OvJQIBBKWFJkVAPqCISPuJlQioIEX4IiAoBv0GEKSGDoaASARU+IYiVYoiCChFpIXQexBQ6ocuEDqhRSCBZH9/fM6wN7OzJdk5987uvp957CM7996Zc3Z2Z+Zzz/2cz/lsF8fW/9ZfSv8PI/KCKdzuzovAx81s3rrAdzHgXXef2sP9RURERDoZfOFpHv1ypNfd/wvcBexgZm0NDpkHqA8yt+/lwz8AvE+MEANgZnMUb3dhIvF3uVXhfm3p9q29bFtEREREMuivI70ABwLXAVeZ2WnERLV1ibJj44E9zOwuYvGI7YEVe/Og7v56erzDzexD4CFgJPDxHu73iJmdD5xoZvOndkcCKwM/m42fT0REREQly5qkX470Arj7zcCGwLzAn4C/AN8AngeOAM4Hjkz/TwP2mIWH3x/4AzA63f8F4He9uN9IoqbvaGLi27LAJu6ukV4RERGRCvXnkV7c/Sbg613s3rHBto9SIdz9meLtusedCuyavop+Vzjmxvr7p1ze3dOXiIiISJ9ppLc5+nXQKyIiIjLQtQ/CSgs59Nv0BhERERGR3tJIr4iIiEgLU3pDc2ikV0REREQGPI30ioiIiLSwdo30NoWCXhEREZEWpolszaGgVwDY+t9HVN0FLl5jz0rbf336uz0flNnDcw6tugtMaf+w6i5U7pWPzVl1FxhSdQeA92Z8UGn7H2ur/lkY2gJ9uHC10VV3ofLPiAPWOrjS9mVgUNArIiIi0sI0ka05NJFNRERERAY8jfSKiIiItDDl9DaHRnpFREREZMDTSK+IiIhIC1NOb3Mo6BURERFpYarT2xxKbxARERGRAU8jvSIiIiItbIYmsjWFRnpFREREZMDTSK+IiIhIC1NOb3Mo6G0CMxsCDHH3aVX3RURERAYWpTc0R5+CXjNbFzgIWBtYAHgcONbdzyscsx4wDlgJeADYDbgSONHdxxSO2xz4BbAq8CZwLnCIu/e4+LuZXQgMc/f16raPAX4GfMrdPzCzocARwA+AYcCjwEHufmXhPjsAOwGfBdqA+4H93P2ewjFnp34eCfwq/WzfNLMHgN8AGwMLAa8A17j7yJ5+BhERERHJp685vcsCtwE/BTYF/gqcZWY/ADCzpYgA9xVgK+BU4DxgnuKDmNnWwN+Au4HNgMOJwHNsL/txJvB1M/t04THbgB8DfyoEzhcDI4CjUn8nApeb2eqFx1qOCLi/D2wHPAfcYmbL17W5HHBM6uNGwNPA74CvAnsD3wYOBl2TEBERkdnXnunfYNOnkV53v6D2fQoybwY+BYwEzgf2At4FNnX399JxbwN/qbvfscC57r5rYftU4CQzG+vur/fQlfHA80RAe1jaNpwITM9Kj7c+8F1gPXe/KR1zrZmtBBxCBLm4+xGFPsyRHnsd4IfEKHHNwsAG7n5/4fh1gJPc/S+F4/7UQ99FREREJLO+pjcsSIzKbg4sBQxJuyal/9cGxtcC3uTyuodZCVgGuNDMiv25HhhKpBHcRDfcfYaZnQXsYGZj3L2dCIDvcfcH02EbAC8Bt9W1MyEdW/uZViFGgr9MpEAU+1k0qRjwJvcD+5nZdOA6d3+su36LiIiI9EQ5vc3R1/SGs4FtiJHabxFB7h+IYBVgceDV4h3c/X1gSmHTIun/K4EPCl9Pp+1L97IvZxHpFsPNbH7gf1Jfiu0sXtfGB8CYWhvpftem2/sAX0s/078KP1PNyw368HPgUmA04Gb2uJlt28v+i4iIiHSi9IbmmO2R3jQpbBNgN3c/pbC9GEi/BCza4H4fL2yanP7fCbivQVNPN9jWibs/Y2bXEaO2nyYC+vPr2pkEfK+bh1mXSM/Y0N0fLfT5Ew2O7fTX4u5vAnsAe5jZasD+wHlm9m93f7g3P4eIiIiINF9f0hvmJgLLqbUNaaR0MzoCwonAjmY2TyHFYbO6x3EiGF3O3U/vQ38gJrT9AfgccGkKQmsmAKOAKcWAtk5tgl3xZ/oykRv8z1npiLv/28z2A7YHVgYU9IqIiMgsU3pDc8x20Ovub5nZRGB0mpw2AzgQeIsoXwZwPFGi7O9mdj+cfIEAACAASURBVByRXnAgMbltRnqcGWY2CvijmS0AXAVMA5YnRmW3cvd3e9mtS4GTgTWIUmpF44FrgPFmdjTwUOrn6sBQdz8IuJNIvTjdzI4hRn3H0JGj3C0zuxW4BHiQCPxHAv8lqlKIiIiISEX6mtO7HfAUUeLr/4iSZefWdrr7JKJiwjCiJNnuwE+ICW9vF477CzEZbnXgonTsrsC9RADcK+4+lQianwOuq9vXDmxJjATvRQTApxIpDbemY14mqjgsDlyWjtsFeKKXXbiDSK+4GLiQyCPeyN2f7+3PICIiIlKknN7m6GvJsieA9RvsGlM45gZgtdptM/sqkRrxr7rHuooIWGdbqsowHPiDu89o0N+pREmzw+r3FY65Gri6bvOVdceM6OK++wH7zVqvRURERCS37MsQp1SC+4hJbUasuvZveihDNottzAV8gRh5XpgYwRURERHp99rbO43jyWzIHvQSo7rHAosB7xAlwfZpNBLblbq6uvXagSWJvNlXgJ2VTiAiIiIDxYxBmIqQQ/ag1933InJj++KDbvbd5O7rAW19bENEREREBqgyRnqbYe1u9r1TWi9EREREStaukmVN0S+CXne/p+o+iIiIiEj/1S+CXhEREZHBSjm9zaGgV0RERKSFKb2hORT0toiqi5EcsNbBFfcAXpo+pdL2J776WKXtA1zzhxFVd4FdDu1qle5yDGmBOanT9fkCwFxtQyptf/62uSptH+BdPqy6C7zUAp/UVX9GHH3PUZW2LwNDC7yURERERKQrMzTS2xR9XYZYRERERKTlaaRXREREpIW1ayJbUyjoFREREWlhmsjWHEpvEBEREZEBTyO9IiIiIi1MdXqbQyO9IiIiIjLgaaRXREREpIUpp7c5NNIrIiIiIgPeoB/pNbMxwGGFTe8BTwInuPtp6ZjlgKfT/q+5+611j3Eo8EvgP+6+XN19NnX3K/L9BCIiIjKQ9bfFKcxsJLA/sDTwELC/u0/o4T47A1sBqwFDgQeBw9392rrjngGWrbv7y+6+eE/90khveAtYN31tCkwATjWz7eqOmwJs2+D+26Z9IiIiIk3V3t6e5SsHM/sBcApwLrAREfReYWar9nDXQ4jBwlrw+wRwtZlt1uDYP9MRt60LbNybvg36kd7kQ3e/s3B7gpl9Gfge8cTW/B3Yysz2dPfpAGb2eWAV4ELiiRcREREZrMYA57j7LwHM7Cbgi8CBwA+7ud8a7v5a4fZ4M/sMsDdwed2xL9bFbb2ikd6uvQPMWbftcmB+YHhh27bArcCkkvolIiIig8gM2rN8NZuZLQ+sRAwEAuDuM4CLiFHfLtUFvDX3AUs2q38a6U3MrPZczAtsBnwD+EndYVOAK4AfANelbdsCxwIrltBNERERkVa1cvr/0brtjwALmdmi7v7qLDzeusBjDbb/1Mz2IOZhjQdGuft/enowjfSGhYEP0tdbwB+Bk9z93AbHXgBsYWZzmdk6wDLAxaX1VERERAaVfpTTu2D6/8267W/U7e+Rmf2ESIv4Xd2uy4BdgfWB/YjA+BYz+0RPj6mR3vAWsEH6fm5gTeAIM5vs7ofXHXslMAT4NpHmMMHdXzOz0jorIiIig0eV1RtSMLlET8e5e/3obl/aXBM4Afg/d7+hrp09CzdvMbPbgfuBHYHju3tcBb3hQ3e/p3D7tpTuMNbMTige6O5TzexSYDvga8ChJfZTREREpEzfB07vxXFtdIzofoKZR3trI7xv0IOUF/wPopLWqJ6Od/cHzcyBNXo6VkFv1x4B5gJWAOrzTy4gcns/AC4puV8iIiIyiLRnmHTWW+5+BnBGLw+vjfauDBRzbFcGJveUz2tmw4Br0n23rVXK6oX29NUt5fR2rVZP7rkG+8YDfwWOcfe3yuuSiIiISGty96eIiWffr20zsznS7au6u6+ZfZxIIQXYxN3f7U2bqf7vysA/ezpWI73hY2b2pfT9XERO76HAZe7+Ulpd7SPu/iGwdbldFBERkcGon63INgb4U1o57Tbgx8BniLRQAMzsG0T6wvruflPa/DdiNbYRwApmtkLt+FpNXjP7LlHr9wrgBSLYPRR4Fji7p44p6A2fAO5I339ADKufAhxZWY9EREREINvqaTm4+/lp1PYA4BfEimybuPuDhcPaiKIAbYVtG6b/z2vwsLXjngOGERPWPgm8DlwNHOzub/fUt7b+9EQOZNss+71KfxFLtQ2tsnkA7vjg5Urbn/hqo1KA5XrnDyOq7gK7HNq0CbizZchM74HV+Ex79a+HN9t6m8qWz6Mz3qm0/fnb5qq0fYB3+bDqLvCV9gWq7gKT5qj2eTj6nqMqbb9mzkWWr+QNaujQZbLECO+//2z1b7gl0kiviIiISAurciLbQKKJbCIiIiIy4GmkV0RERKSFKRW1OTTSKyIiIiIDnkZ6RURERFqYRnqbQ0GviIiISAtTyNscKlkmIiIiIgOecnpFREREZMBT0CsiIiIiA56CXhEREREZ8BT0ioiIiMiAp6BXRERERAY8Bb0iIiIiMuAp6BURERGRAU9Br4iIiIgMeAp6RURERGTA0zLE0idmtiCwKrA0cJW7v2FmQ4Fp7j4jY7tDgROAM939zlzttDozGw2c4e4vNNi3BDDS3Y8ov2fVMbM53f2Dqvsh1TOzhYGFgMnu/nrV/alKK7wmzGxlYGXg7kbvVyJlUNArs8XMhgBjgd2AeYilwdcG3gD+CtwDHJarfXd/38y2Bc7L1UZvmNlTwBbu/q8G+1YFLnf35TN24TDgaqDRh8iSaX/Tg14zuxsY4e4Pm9lEelga3t3XaXYf6vrzZeAXwFeBec3sXeAW4JfufkemNl+lh5+7yN2H5ehHjZntASzp7gc22DcWmOTuJ+bsQ2prNeAQYC3gU8C67n6vmf0KuNXdryqhD9sAY4CVCtseA0a7+0UltN8Kz0Hpr4lC26cC7e6+S7q9DfAnYAgwxcy+4+635+yDSCMKevuRNKrXa5lH+I4CRgI/B24AnirsuwzYhYxBb3I9MBy4MXM73VkOmLuLffMSH3g5tdF14PUp4iQkh4eA9wrf9zr4azYz2xD4B+DAscDLwGLAVsCNZvZdd78uQ9MnUeHP3cCuwG+62PcYsB+QNeg1s42Ay4HbgXOZ+T1gKrA7kDXgM7MfECfDVxEn5rW/h22AC8xsiLtfkLH9VngOqnpN1HwHOKhw+5fA+cD+xBW6XwLr52jYzDaelePd/coc/ZDWpKC3f9m97vY8RGAFMAX4ePr+3fSVM+jdATjQ3c9Ko75FTwI5RzdrTgLOMLP5gCuJN/aZghB3f7jZjZrZAsAnC5sWN7Nl6g4bCmwLTMrQ/o+BH6eb7cDvzeztBu1/Hri22e0DuPuOhe9H5GhjFvyKCDK+7+7F3/8RZvZX4gSt6R/w7j6m2Y/ZR8sCT3Sx72niBC23scDZ7j7SzD7GzAHf/cTJcG6HAKfVRhkLzjWzU4BDgWxBL63xHFTymigYBjwHYGafAVYEtnT3l8zsNOAvGdu+gnhfbOvFse3E6LMMEgp6+xF3X7T2vZmtS4xmHApc4u7vmdk8wJbEWfT2mbvzSSK4bWQuynkjuTr9v0/6Kr6510ZAc/Rjb+KDrD19XdLFcW3AqAztvwvU8hPbgLeAyXXHTCNGk07O0H6r+Tzwi7oP95rTgEvL6oiZzZX6sxDxO3nA3aeV1PwbgNH4yocB9SdGOawM7Ju+r/99vE08L7mtSLxGG/krMCJz+63wHFT9mphMjCwDbAC85O4Ppttt5P18+HTGx5Z+TkFv/zUOOMrd/1zb4O7vAeelkc+TgDUytv8gsDmNRws2Au7N2HbN8BLaaOTPRM5yGzGasi9xGbFoGuDu/myzG085iRcBmNlZRI7eU93fKy8zW4s44foUMco8E3ffOmPzbwIrdLFvhbQ/OzPbn7ikuwAdo0xvmdlR7n5sCV34OzDGzG539wcK/VqVOEm7rIQ+vELXV3k+BzT99dDAy0Qu7fgG+9ZK+3Nqheeg6tfEVcSo8mJESsOFhX2rAs/katjd/5PrsaX/U9Dbf61K48lLEJfUV8nc/pHAX9Po8kXEiMbqZrYFsDOwWeb2cfebcrfRRbuPA48DmNlw4F53f6eivuzY81F5mdnPiFzR14nnpayRzZqLgLEpxePiNMlxKJG/eBRwTu4OmNlexGXtU4hLt8U80rFmNtXdx2XuxkHAl4H7zOw+4EVgCeCLxElqpwluGVxABDsPA7XJUu1mthJwAHBmCX04iwj+hwAXE7+LYcD3iStjYzO33wrPQdWviVHAcUQqx81AcT7KFnRcpRMpVVt7eyvNw5DeMrN/Aa8C33X3qYXtQ4kJDAu7++qZ+7A1cAxQzGedBIxy9wsb3ytLPzYiRnCWBo5092fN7OvAE2WWxkkfsp0mtbn7u5nbrXKUFTN7kpjMuIu7f5izrS7anwc4g8ihhpnz288H/tfd38/ch8eBC939kAb7fgVs4+4r5uxDamsoke89HFiYOBGZAJxbfJ/I2P7cRArBRsBLRND9PLA4kV++Re7SWWY2B5HitScx76HmPeB4ur7s36z2W+E5qOw1YWZzAusAz7h70+c09KL9Wbrqlbm6jrQYBb39VArqriTeyMcTl9SGARsSk9s2cvebS+rLSsAiRB6X5/xAqWt3MSK9YE3ictmngbVTaaCzgPfd/WeZ+7AAMXKyJfH8d5o84e7Z8tfSKOtJwGt0Mcrq7lnTQMzsHeB77j4hZzu96MfKRNm8JYhRzonu/mhJbb8PbNJoRnyaSf93d+90QjJQmdn6xOz82vvCBHdvlG6Qsw+1GuK1v4cH3T1XNZNG7bfCc1D6ayKddLxHfAZdn7OtLtqfAbxDTGjrcdDD3ffL3ilpGUpv6Kfc/eYUbO5FvKl9kRhVOAs4vswRTnd/jCiJVLYTiNGLlYmgtxjwXUf+kmkApwKbEKMqD1P+pf19gT9Q0ShrchXw/4gRxcqkD/NSgtwGngW+ReMc9w0pIY/TzObt6ZgSrjoMdff30wlQp78HM1uqrNG/FODeUkZbXbTf8DkouQ+lvybcfUa68rF4me0WjCbSirYhfv/nEyke9ZN9ZRBS0NuPpcB2/yra7qFm8AxilvK/Mufdfgf4sbs/0aBs2vPAUhnbrvk2sLe7n1FCW40MA84vO+A1s88Wbp4EnJYua46nwSSZZpeOq2u/RzlK19UZB4wzs4XonEc6grjUntsUeq4bnLuqyuVmtkmjihVmtgJxUpB1dn1KJ1nE3XdusO8U4FV3/0XG9p8h8rovcPf7crXToN3PAk+6+9TevD4yvyYOAY42sweKkyrL4O5HAkemCZzbkmoDm9kEIgC+tKo5GFI9Bb39SIutgrU7kT86X7pdzBn7L/G3NbeZ3U9c5so1Y7qrYG8ROhZPyOm/RIBdlapGWR+kc4m4w5h5wkpte47ScfXtdyVn6bqPuPuJZjaVeA5+Qked0BeIUfgyTopq7RYtSJyYfZbIc81tGeBiM9uyeCJmZp8jToj+XUIffkDnv8OaW4j65dmCXmIS2TbAvinf/QIi3/vB7u/WZw8CXwLupvvXRxmviUOJnPL7zWwSjWuoZ12lMT3fhwKHmtk6xO/kKOBUMzva3Q/P2b60JgW9/UvLrIIFbEzUCT6EWGp3aprAsTlR2WFH4s31fOC3wA8z9OEWYA8zK66oU3tOfkKs2Jbbb4Fdzexad59RQnuVj7ImVZWLa5X2O3H3083sDGJCYS2H8vmyctzd/ewudh1vZr8nymXltj5wE/BnM9s2Xepei5itfyuQdVJlsiRdLwrzQtqfTcoR3S/VUt+GeC86xMweoWME+PEMTQ8nUqxq31fpwfTVKu4FFiVel1uTv7qRtChNZJPZYmZ3Aae6+x8a7PspsJu7r2FmOxMVFRbt9CB978OqxAfpi8QCEQcQObafI4qzfynlGze73WPqNm1D5PLeQOegs93dD2hy+zPoPMoKnU+C2lL7LbPikJm1EaNsp7n7SwOh/VQx4d/AHu7ekqWYzGwD4C/uvnAJbS1HBL43E+W5LiMmFe3g7tNLaP8Z4AR3/22DfaOAPd29fgXFnP1pA75KvE9sDSzk7hpwyiw978OJkf8tiJHty4iR9/Fl/C1K69ELT2bXasTEuUZepONM+lFg/hwdcPcHzWxNYAyRNzmdqKIwgSjJk2M0BSJPs2gG8VrasMGx7UQw3kxVj+L0xRxECsAVdP3306/aTzVQP0n8HbSqtYHsJcsA3P0ZM/smEfRuB5zunZcEzulCYLSZPeru/6htNLONSSc8JfYFIgVsGWKZ6E9Q0u9hsDKzLxO5vFsRnz3/AP4XuLLE1RGlRSnoldn1GLCnmV1XfCNJKQ5707FC2eJkXAHJ3Z8EfpTr8btos9JlLqtalKOJOpV1GwDtn0ek9Fyb4bF7pcEVCIglwVch0g6OL7FdgH8C6wJvF45p+pWPBkYDqwN/N7PX6VikYyHi95Mznxf4qE7upsTo7kbEyda1RKpDlpXxGlwB6lbuK0BpxP+HwEqUWz/8VqJk2d+JkpZT0vYNzKzTwe5+ZaeNMmAp6JXZtSdxBv28mY0nFspYlBjtnI/I+YUopfa3SnooUp5nga3TBNOr6Dxxp93df5+5D/VXIADeJyZa7kG+Ec5G7dZMqduf48rHTNKiC98ys29Tt0hHGXVyzexCItAdSswr2A24xN1zL/27Bx1/c3MSq6JNIYLsV4gVAjcn3p87pX40U7oCdzPxuliJSP/5BLAc8ff4RM72iRHe7YjUhu5OcrNPcpXWopxemW1mtiQxqrsWMaL7EjCRjHWCzWyWJqe5+zdz9KPGzHboZnexdFuW9eB7GN1pr7UPjHP3S3L0YVak0nIfAGu5+70Dpf30e+hOS+VWSz5mdgMxYe1id3+toj78jkip+H5xImXKc70ImOTu2cropffpZ4GfUni9pdSD84Gdc+W/m9mys3J8rvdmaU0a6ZXZlgLbslezeb3u9rrECMY/6ViVbg1ipO0O8jubjqCzOKJQ3NZuZlcA27v7FJprn/T1NnE571XiOdiUGO04E/gaUUbqx+7+pya3L4C7z1F1Hwaz3izMUZRzkY7cKyD20g7E+019mbB2Mzsd+DN5a0evDhxNR5770NT+7WZ2OPBroqJH03UXxKbc+xWA59z9lRztS2tT0Cuzzcy2AUbSdc7WsGa36e4fXSpNVSIM+LK7P1vYvgwxUamMJT/XIEZ1ziDyx2ppHpsTkyd2IUokjSM+BHZrcvtLAre5+w/qth9oZhcAC7r7BmZ2LlGkXUHvAGJmu87C4WWkWGBmyxMnw18l8mgnE+UFf+PuT2VqtjcLcxQ1ddS9xRaGgPj5VgGuabDvc0SOcU7twLQUZL9CTOK7Pe17DvhMzsbNbFvge0Sax9/c/by0oNJBRJ47ZnYpUVHkvzn7Iq1FQa/MFjPbjlj+9mzgm+n7OYDNiLJd55bQjUOAfYoBL4C7P2tmY4i8tdMz9+G3wMnu/n+FbZOBY8xsGnCYu3/DzBYjcuyaHfTuCGzfxb6ziBGdvYjAvLvcS+kjMxtG/I7XApYGtnD3h8xsT+Bud89x5eHEWTi2Hcga9KZczhuIXOIriCsuiwH/A2xvZsMzpbU0WpijTK20MATExMqjzOxjxMl47SrY5sTiHGdmbv9hYkT1BuKK295mdg9R2nF/4MlcDZvZSKJ05URiQttZqVb0COBg4BGipOUh6evgXH2R1qOgV2bXfsQKT78GdiICv3vNbH5ihDXb5cOCxYG5u9g3F/Emn9u6xAhuI48QKwBBpF/kqJH6MWBlGlcNWIWOEZ1pRCBSKXefbmbD6ajuMSDaTys+1SZ03gSsR8ff5hJEMLxVM9uElkyr+A1wH7EK40fvASn94Mq0v+l59t0szFGW4sIQ36TaABwi5ekDIsAtvj9NJQLC3MvXn0aM7kIEldcS5SshVrFs+muhYHdiXsk+AGb2Q+Acoj5z7STxajP7kLgSp6B3EFHQK7PrM8Rl9elmNh1YAMDd3zGzo4HjiA+4nG4k1nd/0t3vqW00s7WJN/oySns9T4wgNAo6d6RjieIF6ZyP3AwXAGPTiE4tp7eWXnEEMdoLkYbxaMNHaAIz+zxx6XAdOlYjuws42t1nWno2R8m1qtsn/t5vIOpEz0H87mvuJmaSZ2VmX+9m9wzgLeAxd89ZJ3YdYOv6nFl3f9fMfkNccciu7NSr4t+Uu9/YzMeeHamM5N5m9ktiVLM20fgBd59cQvt/LHz/iJmtQgwQzAPcmTmfdgVmzle+jBhh/2fdcffQEZjLIKGgV2bX23SMZE0iRhVvTLfbyDOqWW8n4tLdXWb2Mh2X8BYjSuTsVEIfDgHOT6vDFYPOTYHPEkXSIUq53ZKh/T2JUdwjgWML26cSqR21iYZ3EYt2NJ2ZfY9YEOBJ4GJmvpR6j5lt7e6X5mi7FdpP1gA2T8vu1pdIep1yrjrcSOeV+upvv5eWSt4n04pU79H1a38hSrjaUHXqVRoEWNfd726wb00i1SVbekNaIfBy4KgUgFde1ztN4C1jjgVEYF3M062dgNWf7E0jcn5lEFHQK7NrIrEq2zXEG+zodLloGlEc/s7cHXD354E10kpLa1Mom1ZWwXF3v8jMniZqj27HzKXbdnT3f6bjZmXC0ay0P41YJORwuhnRyTz6dDQxmrJ1XXmkg4jySEcDOYPOqtuHGEXtaqnt5cm4QEvBBkSu5pV0nlS5MZFisQpxOXcKccLWbP8Afm1mT7n7rbWNZvZVYCxxYphb1alX3dWFnRP4MGfjaYXAtam4/qyZrUb8ja0FfIo4EbjXzH4F3OruV2VsvlF6SdUpJ9ICFPTK7BpLx6Wh0en73xMjKhOBncvqSApwK1tVJ6VWVDpJLAW4VY3oLA3s0U15pNz1gatuHyLIPNzM7gBqJZPazWwRYF/KWaDl58A57j6mbvs1aWLnCHffNKXCjCBP0LsPcQJyU5q1Xxt1H0ZMaBqVoc16padepYoxyxU2fTGNuBYNBX4MPN3MtrtwOVG9IMvVnZ6Y2UapD7cTI+uHFXZPJfJucwa916RBmKIJddsU/wxC+qXLbHH3O0mjuWmloc3TEsRzu/vbZfYltbsUjXP3cpcGKl0a2b7V3d9O33erhFHve4gySI3KI60K5F6Eour2IUb6JxCTmWq5g6cAKxJBzugS+vAt4OQu9t1GBN8QK2UdlKMD7v468FUz+w5x9eWj/Gp3L2uJ5ipSr3YkArt2uq+S8R5RyjC3a4BjzWwJYkCgfoXA3O8LY4Gz3X1kOskqBr33ExPIcjk842NLP6egV5omTZDJOUlmJmlFuNOIJT/rZSsNlJYZPcjdn0zfd6fd3bdpcheuoKM80hXEz9nVJdUyyiPtA1xgZnMSaQS10b0tiA/4bYuLB2RYGKDq9nH3N8zsS8CPgPWJnMLJRP3mczNPHquZTOStXtdg32ZpP8C8RDpGNmm1rSyLD/RCFalXJxP55G3EfILt0/9F04BnS/pbqNXj3jJ91cv9vrAyHSdZ9WkFbxP53Vm4u4Je6ZKCXunPziAmEO1DjLBNK6ndRemYADGM8nPFPk2MntW+r1ptws5YOkq0QUcgflfd8c3+sK26feCj/OozyV8DtSvHAOPMbDk6V/LYmLikDFFea2LOjqRL+0tSzdWX0lOv3P1V4vnGzD4NvODuHzS7nVlQ9fvCK0QueyOfI5YoFildW3u7crulfzKzt4CR7t7TaKtkZGYjmIXA393PGUjtpz5UOmO/0NYWROrCF4ngfjpRN3esu1+SjlmEWC2r6WlIZvYp4urLtxvsbiOufJQ+warM1Ku0GtjS7n5sg337EqO9A/o9y8yOIZZC3orI5f4AWJO4AnIdcKZGZKUKGumV/uwVIkeuJaRSVUsAr7h71hnade3OTaxIVVsJbDd3fzzVKv23uz+Ss/2qFwaouv2k0hn7NSmwvcTMhgCLAK/VlyZz99cyduGPxAjfz4EnKO/qS7dKTr06iLgK1ci7aX8pQW/Kp12G8kfcf0GUbLyJqCYDMcFxcaKm+VFd3E8kKwW90p+NBg4ws5vKnjxXlCaTHQasTrym1gbuTZUDbnL3P3V3/z62vRJRhukTxASq9YD50+6vAd8lRlyyKnsxgFZovwVn7H8kBbpllEmrtxawvbtfXkHbrWJFYiniRh4hqktklfLbxxF/e12tWpltxD2dZGxiZusTOe6LEDnlE9y9rHq9Ip0o6JX+bEtiFOM/ZjaRKDxflGMS2UzMbAei+P15xGSWswq7HwN+SsekkhzGEflxmxK1V4sjazfR9RLJTdMCiwFU1X6rzdhvBQ8TE+UGs3eJurSNLE05I86jgU2I95/zgN2I1IIfEiuW7d71XfvOzIa4+3R3n0BFZdNEGmm1ddtFZsUixCpc9xOXkBet+ypjFaxDgGPd/cd0Dm4fIi7x5fQ1Il/zTTrntb5MpFvkVlsMYLd0+2R3/wkxmeY18i8GUFX7JxMLgnyBSG/YPt0ufhmwkLufn6kPrWZ34urLV6ruSIWuA35hZjO9/5jZosT7RRml27YGxtCRRnG3u5/r7t8CbiUmN+Y0ycyOScsPi7QMjfRKv+Xuw6vuAzEzvKvLde+TCuNn9D6x7GYjS9F59DuH0hcDaIX2W3DGfiu4n6imcbOZTQPeqT8gd6pLCziAKIv2pJldTVRaWYKY3PcmsH8JfVgaeCy9Jt4HFizsOw/4M3kXEDqFSKsaZWb3EBVNLqgyDU0EFPTKAFHVJDLgOWKm/PUN9q1FTObJaTxwsJldR6Q3QKwENjcx6lbGSnVVLAbQSu1DXNJfk1QD1szmoWMyzwR3P6GEPrSCM4jVCS+mhSaylcndnzWzLxClFIcTuf6vAycAx2WeSFjzIvDJ9P3TwNfpqN+8Qu7G06qAY8zsm8Tqf78DjjOzS4Gz3L1RLWmR7BT0Sr9WUlrhzgAAC8VJREFU5SSy5EzgMDN7mVgYAaAtTeDYHzgic/v7EattPUEEwO1EPt/ngLloXJi+2apYDKCV2odIdbi90NaxRM7vLcDRZja0UQmrAWgLYG93P6XqjlQpXQXIsupdL91IpD79HTidWJ1tRSKfeFtipDc7d78euN7MdiVSLnYllgh+jsjBP83dXyijLyKgnF7px9IkssuBR4GdmLlsVG0SWW5HE2WazqFjxavbiQDsL+4+Lmfj7v4ckVN6ClFJ4ElixPsiYE13f6nrezfNWDqKzY8mLm//npjU9xp5L6O2QvsQyx3fAR/NnP8RsJe7fwc4mCgpNxi8ihYewMy2MbPrzOxZM3ul/quELhxCmsDp7scTJ+DLEu8V44A9SuhD0VrEaPPKwBvEyeD/Ak+Y2Q9L7osMYhrplf6sNonsoFSXtFg54SE6lsHMxt3bgd3M7HfMXJrnend/LHf7ZvZL4GbgaHf/Re72GnH3O0kjnGlC3eZlLgZQdfvJfESaBcQS0fMBf0u376VjhbCB7ghgXzO72d2n9Hj0ANRFNZEhRIWV7NVMksWInP4HAdz9OCK3HTP7LpHiUL9MclOZ2bJEasMOxAn5dcTJ36XuPi29Z/+GuCqS+4qcCKCgV/q3qieRFQ0hUgyeT7dXTJcTcfecebXfI0YSZ5jZv4gRlJuBW9Ml1kqUvBhAK7T/NBHs3kxc4r/P3V9P+xahwYSuAeq7xMTCZ9MEptLLCLaAWjWRXxNXoE5293vNbH7i/Sp3NROIAPcWGuf0r0XkG6+fq3Ezu4FIr5hEDEac5e7/KR6TJtn9GdgzVz9E6inolf6s6klkmNlngQuIHNpGq3K1k7cI/OfNbEHiA6b2tRswxMweB25x95G52peP/A74vZl9n/ib3LGwbz0yj6q1kEXoeN3VyggONlVXMwFYgwi6G7mD/IHmK8DGwPh0Nawr9xOlBUVKoaBX+rOqJ5EBnEpUDtiSKMxf+mx1d3+DyG2+3MzmAjYgfv6vEx/ACnozc/cz00nG2sCBqSh/zWTg+Gp6Vq6uygia2SdT6slg0ArVRIYQKTaNzEdMcs2mt6P57v6BmT1nZtcDO7v74zn7JaKgV/qzo4l6lOcA09O224k3/FNzTyJLvghs6+5XlNBWJ2a2APAVOkZ51yJKl91GXGa9pYp+DUbufjOR3lC/fUz5vamGmf0MmN/dj0m3vwD8A1jCzO4HNnf357t7jAGgFaqJTCRSKy5psG8n4J4S+tBbbcy8fLpINgp6pd+qehJZ8iQwtKS2GplM5K5eRkwG2cXdH6qwP4NWWoFrFHHisTSwhbs/ZGZ7Eiti3VFpB8uxO1EdoOYE4AViUukBxCX3gT5bfywdExdHp+9/T1RLmkg51UTGANeZ2V3EoMBLRFWXHYgKDhuW0AeRlqOgV/otM/t64eajhe8XTwHI24CnSU25jAKOMbN73f2pjO10ZSKRv7cBcUl1npTicH8PuXTSRGa2DjE7/RXgJmLkqnaJewni72SrSjpXrmUAh4+W3f0KsL6735hWaDuxys6VoRWqibj7zWb2LSIAP4EYTZ0B3AVs6O66AiSDkoJe6c9uJCaKded9MzsD2Mfdp/dwbK+Y2cS6dpcCHjWzZ2iw7K+7r9OMdhtx93XT6l9fInJ4NwGOBD40s9uJBTqOztW+fOQ4YkLllsSIXnEi293AdlV0qgJT6cgXHU5UKqgFWJPpWCVsUKmimom73wisa2bzEssQv+HuZVSOEGlZCnqlP9uAmMx2JZE79yoxW3xzYubwKGISycFEnushTWr3IWYOeitNJ3D394AbgBtSju9wYG/gO8C3idxnyWsNIl91RloSu+h1YFgFfarC3UTK0fPEAghXF042lydSHaREKdBVsCuCgl7p334OnNNgotA1ZjYGGOHum5rZx4gi6U0Jet19RDMepxnMbHFmLle2atr1EHASmshWlrfoujzX8sDLJfalSqOIpW8fIEoKFlei24aYYClST6lYUgoFvdKffQs4uYt9t9GxItvNwEGl9Kh8LxCzwu8lZosfStQIHSzloVrF5cDhZnYHUCvC325mixB/h3/r8p4DiLs/DKxgZgsDk+vyyvclJlSJ1GtU41yk6RT0Sn82GdiMmEBUb7O0H2BeYiRuIPomcFdKcZDqHABMIGo1/zNtOwVYkVitbXRF/apEYTW64rYHquiLVCctnLMqUc3kKnd/w8yGAtPcfQbEymxEHrxIdgp6pT87BhhnZssRl1Trc3p3T8cNJ6ocDDhpsopULH2Yfwn4EVE+77/ESdcZwLmZK4iItBQzG0JUjtgNmIdIX1gbeAP4K1En+LDKOiiDloJe6bfc/UQzm0SkLpxMLEoxHbgP+B93rxVmH0sFK6XJ4OLu04iJlWdW3ReRih1FrAT5c2KSbbGc42XALijolQoo6JV+LQW2l6SRhUWA1+pLk7n7a5V0TkRkcNqBWI77rPTeXPQkMblTpHQKemVASIHuYJkhLy3AzF5lFmadu/tgKVsm8kkiuG1kLuKqnEjpFPSKiMyek1CpJZFGHiTmVjSaZLwRUW1GpHRt7e16zxYREZHmMLPNiQlrZwMXEQsIjQQ+DewPbObu11TWQRm0FPSKiDSJmc0FfB5YiKje8ECa4CYyqJjZ1kSFnWUKmycBo9z9wmp6JYOdgl4RkSYws/2JSiIL0FFs/y3gKHc/trKOiVTIzFYiJhlPBrxuwRKRUinoFRHpIzPbC/gtsSDFX4hJlYsRS+/uDOzj7uOq66GIiGgim4hI3+0G/NrdDylsc+BmM3sT2ANQ0CuDgpl1twLhDOBt4F/uflNJXRIBFPSKiDTD0kQR/kZuBEaV1xWRyu0ODAXmS7enAB9P3/+XiD3mNrP7gY3cXeUmpRRa71pEpO+eBb7Vxb4N036RwWJj4EUivWced1+AWI5427R9A+DrxLLxv62qkzL4aKRXRKTvxgHjzGwh4GIip3cY8H1gBLBndV0TKd2JRLrPRbUN7j4VuNDM5gdOcPc1zOxI4MiqOimDj4JeEZE+cvcTzWwqcBjwE2LRijbgBWAXdz+jyv6JlGw14KUu9r0IrJK+fxSYv5QeiaD0BhGRpnD304nc3mWBddP/SyvglUHoMWDPVLf6I2Y2N7A3MckTYHG0fLyUSCO9IiJNkmqQPpe+RAarPYF/AM+b2XjgVSJ/d0NictvG6bgvAn+rpIcyKKlOr4hIE5jZksAmwKeImetF7e5+QPm9EqlGej3sDaxFjOi+BEwEjnf3F6rsmwxeCnpFRPrIzLYAzgeGAK8A9UsPt7v78qV3TEREPqL0BhGRvjsKuBYY4e6Tq+6MSNXMbBtgJLASna984O7DSu+UDHqayCYi0ndLA+MU8IqAmW0HnAM8QaT7XA5cQcQcbxMlzURKp6BXRKTvbges6k6ItIj9gF8Sy3MDnOzuPwE+DbwGvFtVx2RwU3qDiMhsMLN5Czf3Ac4zsynAeODN+uPdXR/0Mlh8BrjN3aeb2XRgAQB3f8fMjgaOA35TZQdlcFLQKyIye6YQi1DUtAFn1W0rGpK9RyKt4W1g7vT9JGIxihvT7TZg4Qr6JKKgV0RkNtVWXhORmU0kVmW7hsjnHW1mHxJVTUYDd1bYNxnEFPSKiMwGdz+79r2ZfQFYyt2vrD/OzDYGni+xayJVG0usSAgR5C4L/J6YRzQR2Lmifskgp6BXRKTvjgNuAToFvcDawChg/VJ7JFIRd7+TNJrr7m8Cm6cliOd297cr7ZwMagp6RUT6bg3g113su4NYllVk0HL3qcDUqvshg5tKlomI9N0QYL4u9s0HzFViX0REpAEFvSIifTcR2KmLfTsB95TYFxERaUDpDSIifTcGuM7M7iJWonoJWALYAfgCsGF1XRMREYC29nZV3BER6SszW4+Ytb4OUYt0BnAXcKC731Jh10REBAW9IiJNlVZqWxB4Q6uwiYi0DgW9IiIiIjLgaSKbiIiIiAx4CnpFREREZMBT0CsiIiIiA56CXhEREREZ8BT0ioiIiMiA9/8BMsXbdGb4kDAAAAAASUVORK5CYII=\n",
      "text/plain": [
       "<matplotlib.figure.Figure at 0x7f2fa5d8b4a8>"
      ]
     },
     "metadata": {},
     "output_type": "display_data"
    }
   ],
   "source": [
    "corr_matrix = df.corr()\n",
    "sns.heatmap(corr_matrix);"
   ]
  },
  {
   "cell_type": "markdown",
   "metadata": {},
   "source": [
    "** Question 2.1. (1 point).** Which pair of features has the strongest Pearson's correlation with the *gender* feature?\n",
    "\n",
    "1. Cardio, Cholesterol\n",
    "2. Height, Smoke\n",
    "3. Smoke, Alco\n",
    "4. Height, Weight"
   ]
  },
  {
   "cell_type": "code",
   "execution_count": 35,
   "metadata": {},
   "outputs": [
    {
     "data": {
      "text/plain": [
       "age_years  age          0.999090\n",
       "age        age_years    0.999090\n",
       "weight     BMI          0.762009\n",
       "BMI        weight       0.762009\n",
       "height     gender       0.499033\n",
       "dtype: float64"
      ]
     },
     "execution_count": 35,
     "metadata": {},
     "output_type": "execute_result"
    }
   ],
   "source": [
    "c = corr_matrix.abs()\n",
    "s = c.unstack()\n",
    "so = s.sort_values(ascending=False)\n",
    "so[so != 1].head()"
   ]
  },
  {
   "cell_type": "markdown",
   "metadata": {},
   "source": [
    "## 2.2. Height distribution of men and women\n",
    "\n",
    "From our exploration of the unique values earlier, we know that the gender is encoded by the values *1* and *2*. Although you do not know the mapping of these values to gender, you can figure that out graphically by looking at the mean values of height and weight for each value of the *gender* feature.\n",
    "\n",
    "### Task:\n",
    "\n",
    "Create a violin plot for the height and gender using [`violinplot()`](https://seaborn.pydata.org/generated/seaborn.violinplot.html). Use the parameters:\n",
    "- `hue` to split by gender;\n",
    "- `scale` to evaluate the number of records for each gender.\n",
    "\n",
    "In order for the plot to render correctly, you need to convert your `DataFrame` to *long* format using the `melt()` function from `pandas`. Here is [an example](https://stackoverflow.com/a/41575149/3338479) of this for your reference."
   ]
  },
  {
   "cell_type": "code",
   "execution_count": 36,
   "metadata": {},
   "outputs": [
    {
     "data": {
      "image/png": "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\n",
      "text/plain": [
       "<matplotlib.figure.Figure at 0x7f2fa5db7e80>"
      ]
     },
     "metadata": {},
     "output_type": "display_data"
    }
   ],
   "source": [
    "train_uniques = pd.melt(df, value_vars = 'height', id_vars = 'gender')\n",
    "sns.violinplot(x='variable', y='value', hue='gender', scale='count', data=train_uniques);"
   ]
  },
  {
   "cell_type": "markdown",
   "metadata": {},
   "source": [
    "**Question 2.2. (1 point).** Which pair of features has the strongest Spearman correlation?\n",
    "\n",
    "1. Height, Weight\n",
    "2. Age, Weight\n",
    "3. Cholesterol, Gluc\n",
    "4. Cardio, Cholesterol\n",
    "5. Ap_hi, Ap_lo\n",
    "6. Smoke, Alco"
   ]
  },
  {
   "cell_type": "code",
   "execution_count": 37,
   "metadata": {},
   "outputs": [
    {
     "data": {
      "image/png": "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\n",
      "text/plain": [
       "<matplotlib.figure.Figure at 0x7f2fa5c74ac8>"
      ]
     },
     "metadata": {},
     "output_type": "display_data"
    }
   ],
   "source": [
    "corr_matrix = df.corr(method = 'spearman')\n",
    "sns.heatmap(corr_matrix);"
   ]
  },
  {
   "cell_type": "code",
   "execution_count": 38,
   "metadata": {},
   "outputs": [
    {
     "data": {
      "text/plain": [
       "age_years  age          0.999013\n",
       "age        age_years    0.999013\n",
       "weight     BMI          0.848271\n",
       "BMI        weight       0.848271\n",
       "ap_hi      ap_lo        0.735436\n",
       "dtype: float64"
      ]
     },
     "execution_count": 38,
     "metadata": {},
     "output_type": "execute_result"
    }
   ],
   "source": [
    "c = corr_matrix.abs()\n",
    "s = c.unstack()\n",
    "so = s.sort_values(ascending=False)\n",
    "so[so != 1].head()"
   ]
  },
  {
   "cell_type": "markdown",
   "metadata": {},
   "source": [
    "**Question 2.3. (1 point).** Why do these features have strong rank correlation?\n",
    "\n",
    "1. Inaccuracies in the data (data acquisition errors).\n",
    "2. Relation is wrong, these features should not be related.\n",
    "3. Nature of the data."
   ]
  },
  {
   "cell_type": "markdown",
   "metadata": {},
   "source": [
    "## 2.4. Age\n",
    "\n",
    "Previously, we calculated the age of the respondents in years at the moment of examination."
   ]
  },
  {
   "cell_type": "markdown",
   "metadata": {},
   "source": [
    "### Task:\n",
    "\n",
    "Create a *count plot* using [`countplot()`](http://seaborn.pydata.org/generated/seaborn.countplot.html) with the age on the *X* axis and the number of people on the *Y* axis. Your resulting plot should have two columns for each age, corresponding to the number of people for each *cardio* class of that age."
   ]
  },
  {
   "cell_type": "code",
   "execution_count": 39,
   "metadata": {},
   "outputs": [
    {
     "data": {
      "image/png": "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\n",
      "text/plain": [
       "<matplotlib.figure.Figure at 0x7f2fa5aee6a0>"
      ]
     },
     "metadata": {},
     "output_type": "display_data"
    }
   ],
   "source": [
    "plt.rcParams['figure.figsize'] = 20, 5\n",
    "sns.countplot(x='age_years', hue='cardio', data=df);"
   ]
  },
  {
   "cell_type": "markdown",
   "metadata": {},
   "source": [
    "**Question 2.4. (1 point).** What is the smallest age at which the number of people with CVD outnumber the number of people without CVD?\n",
    "\n",
    "1. 44\n",
    "2. 55\n",
    "3. 64\n",
    "4. 70"
   ]
  }
 ],
 "metadata": {
  "anaconda-cloud": {},
  "kernelspec": {
   "display_name": "Python 3",
   "language": "python",
   "name": "python3"
  },
  "language_info": {
   "codemirror_mode": {
    "name": "ipython",
    "version": 3
   },
   "file_extension": ".py",
   "mimetype": "text/x-python",
   "name": "python",
   "nbconvert_exporter": "python",
   "pygments_lexer": "ipython3",
   "version": "3.6.3"
  }
 },
 "nbformat": 4,
 "nbformat_minor": 2
}
