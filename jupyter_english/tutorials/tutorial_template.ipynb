{
 "cells": [
  {
   "cell_type": "markdown",
   "metadata": {},
   "source": [
    "<center>\n",
    "<img src=\"../../img/ods_stickers.jpg\" />\n",
    "    \n",
    "## [mlcourse.ai](https://mlcourse.ai) – Open Machine Learning Course \n",
    "### <center> Author: Name as in the rating, ODS Slack nickname\n",
    "    \n",
    "## <center> Tutorial\n",
    "### <center> \"Your topic\""
   ]
  },
  {
   "cell_type": "markdown",
   "metadata": {},
   "source": [
    "**Rules:**\n",
    " - It must be a tutorial (reproducible Jupyter notebook, ipynb file), i.e you should teach some skills, do not just express your ideas on some theoretical concept\n",
    " - It is not just a translation of somebody else's material. You can borrow some stuff, but with fair links/citations\n",
    " - The prerequisite for reading your tutorial should be basic ML as taught in [mlcourse.ai](https://mlcourse.ai). Do not write in-depth articles about neural nets, probabilistic programming, Bayesian approach, reinforcement learning etc. - topics like these need a thorough approach. That is, sure, you can write articles like that, but not in the format of [mlcourse.ai](https://mlcourse.ai) tutorials. On the other hand, it's hardly worth making a tutorial too simple (e.g., to take some library and demonstrate only a couple of methods from it)\n",
    " - A typical tutorial shall be 30-60 minutes to read and digest (however, here exceptions are possible)\n",
    " - Check out a [list](https://github.com/Yorko/mlcourse.ai/wiki/Individual-projects-and-tutorials-(in-Russian)) of published tutorials from previous runs of this course (in Russian). Yes, it's in Russian but Google Translate can kind of give you an insight, and topic that are already covered. For those who already passed the course: definitely, translating somebody else's (or your own) tutorial into English is not going to work\n",
    "\n",
    "Here are a dozen of sample topics (but this is a just as an example, you can/should come up with your own):\n",
    " - data collection, crawling with, working with XML, JSON and so on.\n",
    " - overview of dask library\n",
    " - overview of Bokeh or another viz library\n",
    " - decision trees with statistical tests in the nodes\n",
    " - review of H2O library\n",
    " - poisson/quantile or another type of regression\n",
    " - automatization of machine learning, AutoML, Teapot\n",
    " - interpretability of ML - LIME, reducing of Forests to Trees\n",
    " - review of some clustering method (with motivation, why it is needed)\n",
    " - dimentionality reduction for visualization (there are some methods besides t-SNE, e.g. from manifold learning family)\n",
    " - fastText\n",
    " - methods of imputing missing data\n",
    " - description of some Kaggle tricks\n",
    " - counters in supervised learning tasks: WOE, smoothed likelihood and other methods of feature engineering from the target\n",
    " - there is much more in Scikit-learn that we didn't cover (e.g. different methods of feature selection, feature hashing; you cover NestedCV or elastic net, for instance)\n",
    " - methods of tree visualization in Python (other than standard graphviz)\n",
    " - something about statistics, but such that a general audience will understand\n",
    " - something that better covers the course material, e.g. a broader review of Vowpal Wabbit \n",
    " - data analysis with bash\n",
    " - etc."
   ]
  },
  {
   "cell_type": "markdown",
   "metadata": {},
   "source": [
    "How to publish: \n",
    "  1. First of all, choose a unique topic and register it in the [Google doc](https://docs.google.com/spreadsheets/d/15qao-tn6V7JXy2bWUasWy-yOXDm8xW8ZtPXfdJnO-v4/edit?usp=sharing)\n",
    "  2. Make a Pull Request with your tutorial in a form of a Jupyter notebook [here](https://github.com/Yorko/mlcourse.ai/tree/master/jupyter_english/tutorials). Respect the repo structure: please put images to img, ipynb file to `jupyter_english/tutorials`. Do not commit data to our repo. Instead, upload your data somewhere, and share a link\n",
    "  3. When your Pull Request is accepted, you need to make an [nbviewer](http://nbviewer.jupyter.org/) link for your ipynb file and share the link in the #mlcourse_ai Slack channel with a short description of the tutorial. You also need to add the *#tutorial_contest* tag, It's obligatory, otherwise, the tutorial will be ignored.\n",
    "  4. If you don't cope with these simple rules, your tutorial is not taken into account"
   ]
  },
  {
   "cell_type": "code",
   "execution_count": null,
   "metadata": {},
   "outputs": [],
   "source": []
  }
 ],
 "metadata": {
  "kernelspec": {
   "display_name": "Python 3",
   "language": "python",
   "name": "python3"
  },
  "language_info": {
   "codemirror_mode": {
    "name": "ipython",
    "version": 3
   },
   "file_extension": ".py",
   "mimetype": "text/x-python",
   "name": "python",
   "nbconvert_exporter": "python",
   "pygments_lexer": "ipython3",
   "version": "3.6.6"
  }
 },
 "nbformat": 4,
 "nbformat_minor": 2
}
