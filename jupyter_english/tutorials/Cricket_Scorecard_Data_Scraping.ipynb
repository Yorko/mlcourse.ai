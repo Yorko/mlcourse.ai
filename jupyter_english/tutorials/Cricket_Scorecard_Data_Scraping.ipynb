{
 "cells": [
  {
   "cell_type": "markdown",
   "metadata": {},
   "source": [
    "<center>\n",
    "<img src=\"../../img/ods_stickers.jpg\"/> \n",
    "    \n",
    "### <center> Author: Rajasekhar Battula, @Rajasekhar Battula\n",
    "    \n",
    "## <center> Tutorial\n",
    "### <center> Cricket Scorecard Data Scraping."
   ]
  },
  {
   "cell_type": "markdown",
   "metadata": {},
   "source": [
    "Do you like Cricket? I think you do.\n",
    "\n",
    "In this tutorial we will discuss the way to convert publicly available cricket scorecard of any cricket match from the website (www.espncricinfo.com) to Structured tabular format in python dataframe. For the same purpose I'd make use of a python library espncricinfo."
   ]
  },
  {
   "cell_type": "markdown",
   "metadata": {},
   "source": [
    " For each cricket there is a unique MatchID provided at the end of a match page URL in the website ('http://www.espncricinfo.com/matches/engine/match/1119496.html'). MatchID is highlighted with red box in the URL. We will use this ID to fetch score card details. Lets use of couple of matches to explain in this tutorial.\n",
    "1. Match 1: India vs Australia, Sep 17 2017  --> MatchID = '**1119496**'\n",
    "2. Match 2: England vs New Zealand, Jun 6 2017   --> MatchID = '**1022357**'\n",
    "\n",
    "<img src=\"../../img/Cricket_1.png\"/>"
   ]
  },
  {
   "cell_type": "code",
   "execution_count": 2,
   "metadata": {
    "scrolled": false
   },
   "outputs": [
    {
     "name": "stdout",
     "output_type": "stream",
     "text": [
      "Requirement already satisfied: python-espncricinfo in c:\\users\\rbat\\appdata\\local\\continuum\\anaconda3\\lib\\site-packages (0.4.1)\n",
      "Requirement already satisfied: requests in c:\\users\\rbat\\appdata\\local\\continuum\\anaconda3\\lib\\site-packages (from python-espncricinfo) (2.21.0)\n",
      "Requirement already satisfied: dateparser in c:\\users\\rbat\\appdata\\local\\continuum\\anaconda3\\lib\\site-packages (from python-espncricinfo) (0.7.1)\n",
      "Requirement already satisfied: bs4 in c:\\users\\rbat\\appdata\\local\\continuum\\anaconda3\\lib\\site-packages (from python-espncricinfo) (0.0.1)\n",
      "Requirement already satisfied: certifi>=2017.4.17 in c:\\users\\rbat\\appdata\\local\\continuum\\anaconda3\\lib\\site-packages (from requests->python-espncricinfo) (2018.11.29)\n",
      "Requirement already satisfied: chardet<3.1.0,>=3.0.2 in c:\\users\\rbat\\appdata\\local\\continuum\\anaconda3\\lib\\site-packages (from requests->python-espncricinfo) (3.0.4)\n",
      "Requirement already satisfied: idna<2.9,>=2.5 in c:\\users\\rbat\\appdata\\local\\continuum\\anaconda3\\lib\\site-packages (from requests->python-espncricinfo) (2.8)\n",
      "Requirement already satisfied: urllib3<1.25,>=1.21.1 in c:\\users\\rbat\\appdata\\local\\continuum\\anaconda3\\lib\\site-packages (from requests->python-espncricinfo) (1.24.1)\n",
      "Requirement already satisfied: regex in c:\\users\\rbat\\appdata\\local\\continuum\\anaconda3\\lib\\site-packages (from dateparser->python-espncricinfo) (2019.2.18)\n",
      "Requirement already satisfied: pytz in c:\\users\\rbat\\appdata\\local\\continuum\\anaconda3\\lib\\site-packages (from dateparser->python-espncricinfo) (2018.7)\n",
      "Requirement already satisfied: tzlocal in c:\\users\\rbat\\appdata\\local\\continuum\\anaconda3\\lib\\site-packages (from dateparser->python-espncricinfo) (1.5.1)\n",
      "Requirement already satisfied: python-dateutil in c:\\users\\rbat\\appdata\\local\\continuum\\anaconda3\\lib\\site-packages (from dateparser->python-espncricinfo) (2.7.5)\n",
      "Requirement already satisfied: beautifulsoup4 in c:\\users\\rbat\\appdata\\local\\continuum\\anaconda3\\lib\\site-packages (from bs4->python-espncricinfo) (4.6.3)\n",
      "Requirement already satisfied: six>=1.5 in c:\\users\\rbat\\appdata\\local\\continuum\\anaconda3\\lib\\site-packages (from python-dateutil->dateparser->python-espncricinfo) (1.12.0)\n",
      "Requirement already satisfied: grequests in c:\\users\\rbat\\appdata\\local\\continuum\\anaconda3\\lib\\site-packages (0.3.0)\n",
      "Requirement already satisfied: requests in c:\\users\\rbat\\appdata\\local\\continuum\\anaconda3\\lib\\site-packages (from grequests) (2.21.0)\n",
      "Requirement already satisfied: gevent in c:\\users\\rbat\\appdata\\local\\continuum\\anaconda3\\lib\\site-packages (from grequests) (1.3.7)\n",
      "Requirement already satisfied: urllib3<1.25,>=1.21.1 in c:\\users\\rbat\\appdata\\local\\continuum\\anaconda3\\lib\\site-packages (from requests->grequests) (1.24.1)\n",
      "Requirement already satisfied: idna<2.9,>=2.5 in c:\\users\\rbat\\appdata\\local\\continuum\\anaconda3\\lib\\site-packages (from requests->grequests) (2.8)\n",
      "Requirement already satisfied: chardet<3.1.0,>=3.0.2 in c:\\users\\rbat\\appdata\\local\\continuum\\anaconda3\\lib\\site-packages (from requests->grequests) (3.0.4)\n",
      "Requirement already satisfied: certifi>=2017.4.17 in c:\\users\\rbat\\appdata\\local\\continuum\\anaconda3\\lib\\site-packages (from requests->grequests) (2018.11.29)\n",
      "Requirement already satisfied: greenlet>=0.4.14 in c:\\users\\rbat\\appdata\\local\\continuum\\anaconda3\\lib\\site-packages (from gevent->grequests) (0.4.15)\n",
      "Requirement already satisfied: cffi>=1.11.5 in c:\\users\\rbat\\appdata\\local\\continuum\\anaconda3\\lib\\site-packages (from gevent->grequests) (1.11.5)\n",
      "Requirement already satisfied: pycparser in c:\\users\\rbat\\appdata\\local\\continuum\\anaconda3\\lib\\site-packages (from cffi>=1.11.5->gevent->grequests) (2.19)\n"
     ]
    }
   ],
   "source": [
    "#Install the required libraries as below\n",
    "!pip install python-espncricinfo\n",
    "!pip install grequests"
   ]
  },
  {
   "cell_type": "code",
   "execution_count": 3,
   "metadata": {
    "scrolled": true
   },
   "outputs": [
    {
     "name": "stderr",
     "output_type": "stream",
     "text": [
      "C:\\Users\\rbat\\AppData\\Local\\Continuum\\anaconda3\\lib\\site-packages\\grequests.py:21: MonkeyPatchWarning: Monkey-patching ssl after ssl has already been imported may lead to errors, including RecursionError on Python 3.6. It may also silently lead to incorrect behaviour on Python 3.7. Please monkey-patch earlier. See https://github.com/gevent/gevent/issues/1016. Modules that had direct imports (NOT patched): ['urllib3.util (C:\\\\Users\\\\rbat\\\\AppData\\\\Local\\\\Continuum\\\\anaconda3\\\\lib\\\\site-packages\\\\urllib3\\\\util\\\\__init__.py)', 'urllib3.contrib.pyopenssl (C:\\\\Users\\\\rbat\\\\AppData\\\\Local\\\\Continuum\\\\anaconda3\\\\lib\\\\site-packages\\\\urllib3\\\\contrib\\\\pyopenssl.py)']. \n",
      "  curious_george.patch_all(thread=False, select=False)\n",
      "C:\\Users\\rbat\\AppData\\Local\\Continuum\\anaconda3\\lib\\site-packages\\gevent\\hub.py:154: UserWarning: libuv only supports millisecond timer resolution; all times less will be set to 1 ms\n",
      "  with loop.timer(seconds, ref=ref) as t:\n"
     ]
    }
   ],
   "source": [
    "from espncricinfo.summary import Summary\n",
    "from espncricinfo.match import Match \n",
    "from espncricinfo.series import Series\n",
    "\n",
    "import json\n",
    "import requests\n",
    "from bs4 import BeautifulSoup\n",
    "from espncricinfo.exceptions import MatchNotFoundError, NoScorecardError\n",
    "\n",
    "import pandas as pd"
   ]
  },
  {
   "cell_type": "markdown",
   "metadata": {},
   "source": [
    "For the sake of illustration i've used the below couple of matchID's. We can use any number of them and it depends on your system computational power."
   ]
  },
  {
   "cell_type": "code",
   "execution_count": 4,
   "metadata": {},
   "outputs": [],
   "source": [
    "testlist = ['1119496', '1022357']"
   ]
  },
  {
   "cell_type": "code",
   "execution_count": 5,
   "metadata": {
    "scrolled": true
   },
   "outputs": [
    {
     "data": {
      "text/plain": [
       "'http://www.espncricinfo.com/matches/engine/match/1119496.html'"
      ]
     },
     "execution_count": 5,
     "metadata": {},
     "output_type": "execute_result"
    }
   ],
   "source": [
    "#To see the match URL we can use the below function within espncricinfo library\n",
    "Match('1119496').match_url"
   ]
  },
  {
   "cell_type": "code",
   "execution_count": 6,
   "metadata": {
    "scrolled": true
   },
   "outputs": [],
   "source": [
    "#This functions helps to expand the list of dictonaries to columns in a dataframe.\n",
    "def flatten(js):\n",
    "    return pd.DataFrame(js).set_index(['text','name']).squeeze()"
   ]
  },
  {
   "cell_type": "markdown",
   "metadata": {},
   "source": [
    "Steps to be followed to create the structured data from ESPNCricinfo website:\n",
    "-  To extract the scorecard details we create 2 dataframes one for batsmen and other for bowllers\n",
    "-  Firstly, extract the HTML content of the match using the Match(<matchID>).html\n",
    "-  Locate the scorecard script in the HTML content using the method \"find_all\" of BeautifulSoup.\n",
    "-  Convert it to JSON format.\n",
    "-  Extract the scorecard of each batsmen or bowller using the key-value pair of JSON dicts.\n",
    "-  Flatten the scorecard of each batsmen or bowller using the \"flatten\" function written above.\n",
    "-  Using the helper functions in espncricinfo library extract the city and date of match.\n",
    "-  Finally return a dataframe with all the above details."
   ]
  },
  {
   "cell_type": "code",
   "execution_count": 7,
   "metadata": {},
   "outputs": [],
   "source": [
    "def getbattingdatafame(list1):\n",
    "    df = pd.DataFrame()\n",
    "    for x in list1:\n",
    "        x1 = Match(x).html\n",
    "        x2 = json.loads(x1.find_all('script')[12].get_text().replace(\"\\n\", \" \").replace('window.__INITIAL_STATE__ =','').replace('&dagger;','wk').replace('&amp;','').replace('wkts;','wkts,').replace('wkt;','wkt,').strip().replace('};', \"}};\").split('};')[0])\n",
    "        df1bat = pd.DataFrame(x2['gamePackage']['scorecard']['innings']['1']['batsmen'])\n",
    "        d1title = x2['gamePackage']['scorecard']['innings']['1']['title']\n",
    "        df1bat['Team'] = d1title.split(' ')[0]\n",
    "        df2bat = pd.DataFrame(x2['gamePackage']['scorecard']['innings']['2']['batsmen'])\n",
    "        d2title = x2['gamePackage']['scorecard']['innings']['2']['title']\n",
    "        df2bat['Team'] = d2title.split(' ')[0]\n",
    "        df1bat['Oppositionteam'] = d2title.split(' ')[0]\n",
    "        df2bat['Oppositionteam'] = d1title.split(' ')[0]\n",
    "        \n",
    "        Finaldf_bat = pd.concat([df1bat.drop(['captain','commentary','runningScore','runningOver', 'stats','hasVideoId','href','isNotOut','roles','shortText','trackingName'], axis=1),\n",
    "           df1bat.stats.apply(flatten)], axis=1).append(pd.concat([df2bat.drop(['captain','commentary','runningScore','runningOver', 'stats','hasVideoId','href','isNotOut','roles','shortText','trackingName'], axis=1),\n",
    "                                                               df2bat.stats.apply(flatten)], axis=1))\n",
    "        Finaldf_bat['city'] = Match(x).town_name\n",
    "        Finaldf_bat['date'] = Match(x).date\n",
    "        df=pd.concat([df,Finaldf_bat])\n",
    "    return(df)"
   ]
  },
  {
   "cell_type": "code",
   "execution_count": 8,
   "metadata": {
    "scrolled": true
   },
   "outputs": [
    {
     "data": {
      "text/html": [
       "<div>\n",
       "<style scoped>\n",
       "    .dataframe tbody tr th:only-of-type {\n",
       "        vertical-align: middle;\n",
       "    }\n",
       "\n",
       "    .dataframe tbody tr th {\n",
       "        vertical-align: top;\n",
       "    }\n",
       "\n",
       "    .dataframe thead th {\n",
       "        text-align: right;\n",
       "    }\n",
       "</style>\n",
       "<table border=\"1\" class=\"dataframe\">\n",
       "  <thead>\n",
       "    <tr style=\"text-align: right;\">\n",
       "      <th></th>\n",
       "      <th>name</th>\n",
       "      <th>Team</th>\n",
       "      <th>Oppositionteam</th>\n",
       "      <th>(R, runs)</th>\n",
       "      <th>(B, ballsFaced)</th>\n",
       "      <th>(M, minutes)</th>\n",
       "      <th>(4s, fours)</th>\n",
       "      <th>(6s, sixes)</th>\n",
       "      <th>(SR, strikeRate)</th>\n",
       "      <th>city</th>\n",
       "      <th>date</th>\n",
       "    </tr>\n",
       "  </thead>\n",
       "  <tbody>\n",
       "    <tr>\n",
       "      <th>0</th>\n",
       "      <td>AM Rahane</td>\n",
       "      <td>India</td>\n",
       "      <td>Australia</td>\n",
       "      <td>5</td>\n",
       "      <td>15</td>\n",
       "      <td>18</td>\n",
       "      <td>0</td>\n",
       "      <td>0</td>\n",
       "      <td>33.33</td>\n",
       "      <td>Chennai</td>\n",
       "      <td>2017-09-17</td>\n",
       "    </tr>\n",
       "    <tr>\n",
       "      <th>1</th>\n",
       "      <td>RG Sharma</td>\n",
       "      <td>India</td>\n",
       "      <td>Australia</td>\n",
       "      <td>28</td>\n",
       "      <td>44</td>\n",
       "      <td>81</td>\n",
       "      <td>3</td>\n",
       "      <td>0</td>\n",
       "      <td>63.63</td>\n",
       "      <td>Chennai</td>\n",
       "      <td>2017-09-17</td>\n",
       "    </tr>\n",
       "    <tr>\n",
       "      <th>2</th>\n",
       "      <td>V Kohli</td>\n",
       "      <td>India</td>\n",
       "      <td>Australia</td>\n",
       "      <td>0</td>\n",
       "      <td>4</td>\n",
       "      <td>7</td>\n",
       "      <td>0</td>\n",
       "      <td>0</td>\n",
       "      <td>0.00</td>\n",
       "      <td>Chennai</td>\n",
       "      <td>2017-09-17</td>\n",
       "    </tr>\n",
       "    <tr>\n",
       "      <th>3</th>\n",
       "      <td>MK Pandey</td>\n",
       "      <td>India</td>\n",
       "      <td>Australia</td>\n",
       "      <td>0</td>\n",
       "      <td>2</td>\n",
       "      <td>4</td>\n",
       "      <td>0</td>\n",
       "      <td>0</td>\n",
       "      <td>0.00</td>\n",
       "      <td>Chennai</td>\n",
       "      <td>2017-09-17</td>\n",
       "    </tr>\n",
       "    <tr>\n",
       "      <th>4</th>\n",
       "      <td>KM Jadhav</td>\n",
       "      <td>India</td>\n",
       "      <td>Australia</td>\n",
       "      <td>40</td>\n",
       "      <td>54</td>\n",
       "      <td>72</td>\n",
       "      <td>5</td>\n",
       "      <td>0</td>\n",
       "      <td>74.07</td>\n",
       "      <td>Chennai</td>\n",
       "      <td>2017-09-17</td>\n",
       "    </tr>\n",
       "  </tbody>\n",
       "</table>\n",
       "</div>"
      ],
      "text/plain": [
       "        name   Team Oppositionteam (R, runs) (B, ballsFaced) (M, minutes)  \\\n",
       "0  AM Rahane  India      Australia         5              15           18   \n",
       "1  RG Sharma  India      Australia        28              44           81   \n",
       "2    V Kohli  India      Australia         0               4            7   \n",
       "3  MK Pandey  India      Australia         0               2            4   \n",
       "4  KM Jadhav  India      Australia        40              54           72   \n",
       "\n",
       "  (4s, fours) (6s, sixes) (SR, strikeRate)     city        date  \n",
       "0           0           0            33.33  Chennai  2017-09-17  \n",
       "1           3           0            63.63  Chennai  2017-09-17  \n",
       "2           0           0             0.00  Chennai  2017-09-17  \n",
       "3           0           0             0.00  Chennai  2017-09-17  \n",
       "4           5           0            74.07  Chennai  2017-09-17  "
      ]
     },
     "execution_count": 8,
     "metadata": {},
     "output_type": "execute_result"
    }
   ],
   "source": [
    "getbattingdatafame(testlist).head()"
   ]
  },
  {
   "cell_type": "code",
   "execution_count": 9,
   "metadata": {},
   "outputs": [],
   "source": [
    "def getbowlingdatafame(list1):\n",
    "    df = pd.DataFrame()\n",
    "    for x in list1:\n",
    "        x1 = Match(x).html\n",
    "        x2 = json.loads(x1.find_all('script')[12].get_text().replace(\"\\n\", \" \").replace('window.__INITIAL_STATE__ =','').replace('&dagger;','wk').replace('&amp;','').replace('wkts;','wkts,').replace('wkt;','wkt,').strip().replace('};', \"}};\").split('};')[0])\n",
    "        df1bowl = pd.DataFrame(x2['gamePackage']['scorecard']['innings']['1']['bowlers'])\n",
    "        d1title = x2['gamePackage']['scorecard']['innings']['1']['title']\n",
    "        df2bowl = pd.DataFrame(x2['gamePackage']['scorecard']['innings']['2']['bowlers'])\n",
    "        d2title = x2['gamePackage']['scorecard']['innings']['2']['title']\n",
    "        df1bowl['Team'] = d2title.split(' ')[0]\n",
    "        df2bowl['Team'] = d1title.split(' ')[0]\n",
    "        df1bowl['Oppositionteam'] = d1title.split(' ')[0]\n",
    "        df2bowl['Oppositionteam'] = d2title.split(' ')[0]\n",
    "        \n",
    "        Finaldf_bowl = pd.concat([df1bowl.drop(['captain','stats','hasVideoId','href','roles','trackingName'], axis=1),\n",
    "                       df1bowl.stats.apply(flatten)], axis=1).append(pd.concat([df2bowl.drop(['captain','stats','hasVideoId','href','roles','trackingName'], axis=1),\n",
    "                                                               df2bowl.stats.apply(flatten)], axis=1))\n",
    "        Finaldf_bowl['city'] = Match(x).town_name\n",
    "        Finaldf_bowl['date'] = Match(x).date\n",
    "        df=pd.concat([df,Finaldf_bowl])\n",
    "    return(df)"
   ]
  },
  {
   "cell_type": "code",
   "execution_count": 10,
   "metadata": {
    "scrolled": true
   },
   "outputs": [
    {
     "data": {
      "text/html": [
       "<div>\n",
       "<style scoped>\n",
       "    .dataframe tbody tr th:only-of-type {\n",
       "        vertical-align: middle;\n",
       "    }\n",
       "\n",
       "    .dataframe tbody tr th {\n",
       "        vertical-align: top;\n",
       "    }\n",
       "\n",
       "    .dataframe thead th {\n",
       "        text-align: right;\n",
       "    }\n",
       "</style>\n",
       "<table border=\"1\" class=\"dataframe\">\n",
       "  <thead>\n",
       "    <tr style=\"text-align: right;\">\n",
       "      <th></th>\n",
       "      <th>name</th>\n",
       "      <th>Team</th>\n",
       "      <th>Oppositionteam</th>\n",
       "      <th>(O, overs)</th>\n",
       "      <th>(M, maidens)</th>\n",
       "      <th>(R, conceded)</th>\n",
       "      <th>(W, wickets)</th>\n",
       "      <th>(Econ, economyRate)</th>\n",
       "      <th>(0s, dots)</th>\n",
       "      <th>(4s, foursConceded)</th>\n",
       "      <th>(6s, sixesConceded)</th>\n",
       "      <th>(WD, wides)</th>\n",
       "      <th>(NB, noballs)</th>\n",
       "      <th>city</th>\n",
       "      <th>date</th>\n",
       "    </tr>\n",
       "  </thead>\n",
       "  <tbody>\n",
       "    <tr>\n",
       "      <th>0</th>\n",
       "      <td>PJ Cummins</td>\n",
       "      <td>Australia</td>\n",
       "      <td>India</td>\n",
       "      <td>10</td>\n",
       "      <td>1</td>\n",
       "      <td>44</td>\n",
       "      <td>0</td>\n",
       "      <td>4.40</td>\n",
       "      <td>33</td>\n",
       "      <td>3</td>\n",
       "      <td>0</td>\n",
       "      <td>2</td>\n",
       "      <td>0</td>\n",
       "      <td>Chennai</td>\n",
       "      <td>2017-09-17</td>\n",
       "    </tr>\n",
       "    <tr>\n",
       "      <th>1</th>\n",
       "      <td>NM Coulter-Nile</td>\n",
       "      <td>Australia</td>\n",
       "      <td>India</td>\n",
       "      <td>10</td>\n",
       "      <td>0</td>\n",
       "      <td>44</td>\n",
       "      <td>3</td>\n",
       "      <td>4.40</td>\n",
       "      <td>38</td>\n",
       "      <td>5</td>\n",
       "      <td>0</td>\n",
       "      <td>1</td>\n",
       "      <td>1</td>\n",
       "      <td>Chennai</td>\n",
       "      <td>2017-09-17</td>\n",
       "    </tr>\n",
       "    <tr>\n",
       "      <th>2</th>\n",
       "      <td>JP Faulkner</td>\n",
       "      <td>Australia</td>\n",
       "      <td>India</td>\n",
       "      <td>10</td>\n",
       "      <td>1</td>\n",
       "      <td>67</td>\n",
       "      <td>1</td>\n",
       "      <td>6.70</td>\n",
       "      <td>31</td>\n",
       "      <td>8</td>\n",
       "      <td>2</td>\n",
       "      <td>0</td>\n",
       "      <td>2</td>\n",
       "      <td>Chennai</td>\n",
       "      <td>2017-09-17</td>\n",
       "    </tr>\n",
       "    <tr>\n",
       "      <th>3</th>\n",
       "      <td>MP Stoinis</td>\n",
       "      <td>Australia</td>\n",
       "      <td>India</td>\n",
       "      <td>10</td>\n",
       "      <td>0</td>\n",
       "      <td>54</td>\n",
       "      <td>2</td>\n",
       "      <td>5.40</td>\n",
       "      <td>27</td>\n",
       "      <td>3</td>\n",
       "      <td>1</td>\n",
       "      <td>2</td>\n",
       "      <td>0</td>\n",
       "      <td>Chennai</td>\n",
       "      <td>2017-09-17</td>\n",
       "    </tr>\n",
       "    <tr>\n",
       "      <th>4</th>\n",
       "      <td>A Zampa</td>\n",
       "      <td>Australia</td>\n",
       "      <td>India</td>\n",
       "      <td>10</td>\n",
       "      <td>0</td>\n",
       "      <td>66</td>\n",
       "      <td>1</td>\n",
       "      <td>6.60</td>\n",
       "      <td>26</td>\n",
       "      <td>3</td>\n",
       "      <td>4</td>\n",
       "      <td>0</td>\n",
       "      <td>0</td>\n",
       "      <td>Chennai</td>\n",
       "      <td>2017-09-17</td>\n",
       "    </tr>\n",
       "  </tbody>\n",
       "</table>\n",
       "</div>"
      ],
      "text/plain": [
       "              name       Team Oppositionteam (O, overs) (M, maidens)  \\\n",
       "0       PJ Cummins  Australia          India         10            1   \n",
       "1  NM Coulter-Nile  Australia          India         10            0   \n",
       "2      JP Faulkner  Australia          India         10            1   \n",
       "3       MP Stoinis  Australia          India         10            0   \n",
       "4          A Zampa  Australia          India         10            0   \n",
       "\n",
       "  (R, conceded) (W, wickets) (Econ, economyRate) (0s, dots)  \\\n",
       "0            44            0                4.40         33   \n",
       "1            44            3                4.40         38   \n",
       "2            67            1                6.70         31   \n",
       "3            54            2                5.40         27   \n",
       "4            66            1                6.60         26   \n",
       "\n",
       "  (4s, foursConceded) (6s, sixesConceded) (WD, wides) (NB, noballs)     city  \\\n",
       "0                   3                   0           2             0  Chennai   \n",
       "1                   5                   0           1             1  Chennai   \n",
       "2                   8                   2           0             2  Chennai   \n",
       "3                   3                   1           2             0  Chennai   \n",
       "4                   3                   4           0             0  Chennai   \n",
       "\n",
       "         date  \n",
       "0  2017-09-17  \n",
       "1  2017-09-17  \n",
       "2  2017-09-17  \n",
       "3  2017-09-17  \n",
       "4  2017-09-17  "
      ]
     },
     "execution_count": 10,
     "metadata": {},
     "output_type": "execute_result"
    }
   ],
   "source": [
    "getbowlingdatafame(testlist).head()"
   ]
  },
  {
   "cell_type": "markdown",
   "metadata": {},
   "source": [
    "We have other helper functions to see the details of the series as shown below. "
   ]
  },
  {
   "cell_type": "code",
   "execution_count": 13,
   "metadata": {},
   "outputs": [
    {
     "name": "stdout",
     "output_type": "stream",
     "text": [
      "['2019']\n",
      "http://www.espn.in/cricket/series/_/id/18808/india-in-new-zealand-2018-19\n",
      "India tour of New Zealand 2018/19\n"
     ]
    },
    {
     "name": "stderr",
     "output_type": "stream",
     "text": [
      "C:\\Users\\rbat\\AppData\\Local\\Continuum\\anaconda3\\lib\\site-packages\\gevent\\hub.py:154: UserWarning: libuv only supports millisecond timer resolution; all times less will be set to 1 ms\n",
      "  with loop.timer(seconds, ref=ref) as t:\n"
     ]
    }
   ],
   "source": [
    "print(Series('18808').years)\n",
    "print(Series('18808').url)\n",
    "print(Series('18808').name)"
   ]
  },
  {
   "cell_type": "markdown",
   "metadata": {},
   "source": [
    "## References:\n",
    "1. [espncricinfo reference](https://github.com/dwillis/python-espncricinfo)<br>\n",
    "2. [Scorecards from YAML files](https://github.com/tvganesh/yorkpy/blob/master/yorkpy/analytics.py)<br>"
   ]
  }
 ],
 "metadata": {
  "kernelspec": {
   "display_name": "Python 3",
   "language": "python",
   "name": "python3"
  },
  "language_info": {
   "codemirror_mode": {
    "name": "ipython",
    "version": 3
   },
   "file_extension": ".py",
   "mimetype": "text/x-python",
   "name": "python",
   "nbconvert_exporter": "python",
   "pygments_lexer": "ipython3",
   "version": "3.7.1"
  }
 },
 "nbformat": 4,
 "nbformat_minor": 2
}
