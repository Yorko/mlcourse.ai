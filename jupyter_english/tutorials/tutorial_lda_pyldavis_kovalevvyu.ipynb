{
 "cells": [
  {
   "cell_type": "markdown",
   "metadata": {},
   "source": [
    "## <center> Open Machine Learning Course mlcourse.ai. English session #1\n",
    "\n",
    "### <center> Autor: Valentin Kovalev"
   ]
  },
  {
   "cell_type": "markdown",
   "metadata": {},
   "source": [
    "## <center> Tutorial </center>\n",
    "### <center> Latent Dirichlet Allocation </center>"
   ]
  },
  {
   "cell_type": "markdown",
   "metadata": {},
   "source": [
    "In this tutorial I'll try some Latent Dirichlet Allocation to automaticallly extract the topics that charactereze texts. <br> Good tuning of LDA (that's an art) can give a really good result on the Leaderboard on kaggle contests with text features. <br>"
   ]
  },
  {
   "cell_type": "markdown",
   "metadata": {},
   "source": [
    "#### import libraries"
   ]
  },
  {
   "cell_type": "code",
   "execution_count": 1,
   "metadata": {},
   "outputs": [
    {
     "name": "stderr",
     "output_type": "stream",
     "text": [
      "C:\\Users\\koval\\Anaconda3\\lib\\site-packages\\gensim\\utils.py:1197: UserWarning: detected Windows; aliasing chunkize to chunkize_serial\n",
      "  warnings.warn(\"detected Windows; aliasing chunkize to chunkize_serial\")\n"
     ]
    }
   ],
   "source": [
    "from gensim.test.utils import common_texts\n",
    "from gensim.models.ldamodel import LdaModel\n",
    "from gensim.corpora.dictionary import Dictionary"
   ]
  },
  {
   "cell_type": "markdown",
   "metadata": {},
   "source": [
    "### Extracting topics with LDA\n",
    "\n",
    "LDA represents documents as mix of topics that spit out words with certain probabilities. <br>\n",
    "\n",
    "For each possible topic Z, we'll multiply the frequency of this word type W in Z by the number of other words in document D that already belong to Z. The result will represent the probability that this word came from Z."
   ]
  },
  {
   "cell_type": "markdown",
   "metadata": {},
   "source": [
    "### Train an LDA model using a Gensim corpus"
   ]
  },
  {
   "cell_type": "markdown",
   "metadata": {},
   "source": [
    "#### Create a corpus from a list of texts"
   ]
  },
  {
   "cell_type": "code",
   "execution_count": 2,
   "metadata": {},
   "outputs": [],
   "source": [
    "common_dictionary = Dictionary(common_texts)\n",
    "common_corpus = [common_dictionary.doc2bow(text) for text in common_texts]"
   ]
  },
  {
   "cell_type": "markdown",
   "metadata": {},
   "source": [
    "#### Train the model on the corpus."
   ]
  },
  {
   "cell_type": "code",
   "execution_count": 3,
   "metadata": {},
   "outputs": [],
   "source": [
    "lda = LdaModel(common_corpus, num_topics=10)"
   ]
  },
  {
   "cell_type": "markdown",
   "metadata": {},
   "source": [
    "### We can save a model to disk, or reload a pre-trained model\n",
    "This code will be commented for not to produce entities"
   ]
  },
  {
   "cell_type": "code",
   "execution_count": 4,
   "metadata": {},
   "outputs": [],
   "source": [
    "from gensim.test.utils import datapath"
   ]
  },
  {
   "cell_type": "markdown",
   "metadata": {},
   "source": [
    "#### Save model to disk"
   ]
  },
  {
   "cell_type": "code",
   "execution_count": 5,
   "metadata": {},
   "outputs": [],
   "source": [
    "#temp_file = datapath(\"model\")\n",
    "#lda.save(temp_file)"
   ]
  },
  {
   "cell_type": "markdown",
   "metadata": {},
   "source": [
    "#### Load a potentially pretrained model from disk."
   ]
  },
  {
   "cell_type": "code",
   "execution_count": 6,
   "metadata": {},
   "outputs": [],
   "source": [
    "#lda = LdaModel.load(temp_file)"
   ]
  },
  {
   "cell_type": "markdown",
   "metadata": {},
   "source": [
    "### Check model on using new, unseen documents"
   ]
  },
  {
   "cell_type": "markdown",
   "metadata": {},
   "source": [
    "#### Create a new corpus, made of previously unseen documents."
   ]
  },
  {
   "cell_type": "code",
   "execution_count": 7,
   "metadata": {},
   "outputs": [],
   "source": [
    "other_texts = [\n",
    "    ['computer', 'time', 'graph'],\n",
    "    ['survey', 'response', 'eps'],\n",
    "    ['human', 'system', 'computer']\n",
    "]\n",
    "other_corpus = [common_dictionary.doc2bow(text) for text in other_texts]\n",
    "\n",
    "unseen_doc = other_corpus[0]\n",
    "vector = lda[unseen_doc] # get topic probability distribution for a document"
   ]
  },
  {
   "cell_type": "markdown",
   "metadata": {},
   "source": [
    "### Update the model by incrementally training on the new corpus"
   ]
  },
  {
   "cell_type": "code",
   "execution_count": 8,
   "metadata": {},
   "outputs": [],
   "source": [
    "lda.update(other_corpus)\n",
    "vector = lda[unseen_doc]"
   ]
  },
  {
   "cell_type": "markdown",
   "metadata": {},
   "source": [
    "#### About hyperparameters"
   ]
  },
  {
   "cell_type": "markdown",
   "metadata": {},
   "source": [
    "Alpha and Beta Hyperparameters – alpha represents document-topic density and Beta represents topic-word density. Higher the value of alpha, documents are composed of more topics and lower the value of alpha, documents contain fewer topics. On the other hand, higher the beta, topics are composed of a large number of words in the corpus, and with the lower value of beta, they are composed of few words.\n",
    "\n",
    "Number of Topics – Number of topics to be extracted from the corpus. Researchers have developed approaches to obtain an optimal number of topics by using Kullback Leibler Divergence Score. I will not discuss this in detail, as it is too mathematical. For understanding, one can refer to this[1] original paper on the use of KL divergence.\n",
    "\n",
    "Number of Topic Terms – Number of terms composed in a single topic. It is generally decided according to the requirement. If the problem statement talks about extracting themes or concepts, it is recommended to choose a higher number, if problem statement talks about extracting features or terms, a low number is recommended.\n",
    "\n",
    "Number of Iterations / passes – Maximum number of iterations allowed to LDA algorithm for convergence."
   ]
  },
  {
   "cell_type": "markdown",
   "metadata": {},
   "source": [
    "### Ok, lets check on real data"
   ]
  },
  {
   "cell_type": "code",
   "execution_count": 9,
   "metadata": {},
   "outputs": [],
   "source": [
    "doc1 = \"Sugar is bad to consume. My sister likes to have sugar, but not my father.\"\n",
    "doc2 = \"My father spends a lot of time driving my sister around to dance practice.\"\n",
    "doc3 = \"Doctors suggest that driving may cause increased stress and blood pressure.\"\n",
    "doc4 = \"Sometimes I feel pressure to perform well at school, but my father never seems to drive my sister to do better.\"\n",
    "doc5 = \"Health experts say that Sugar is not good for your lifestyle.\"\n",
    "\n",
    "# compile documents\n",
    "doc_complete = [doc1, doc2, doc3, doc4, doc5]"
   ]
  },
  {
   "cell_type": "markdown",
   "metadata": {},
   "source": [
    "#### Cleaning and preprocessing"
   ]
  },
  {
   "cell_type": "code",
   "execution_count": 10,
   "metadata": {},
   "outputs": [],
   "source": [
    "from nltk.corpus import stopwords \n",
    "from nltk.stem.wordnet import WordNetLemmatizer\n",
    "import string\n",
    "stop = set(stopwords.words('english'))\n",
    "exclude = set(string.punctuation) \n",
    "lemma = WordNetLemmatizer()\n",
    "\n",
    "def clean(doc):\n",
    "    stop_free = \" \".join([i for i in doc.lower().split() if i not in stop])\n",
    "    punc_free = ''.join(ch for ch in stop_free if ch not in exclude)\n",
    "    normalized = \" \".join(lemma.lemmatize(word) for word in punc_free.split())\n",
    "    return normalized\n",
    "\n",
    "doc_clean = [clean(doc).split() for doc in doc_complete]        "
   ]
  },
  {
   "cell_type": "markdown",
   "metadata": {},
   "source": [
    "#### Preparing Document-Term Matrix"
   ]
  },
  {
   "cell_type": "code",
   "execution_count": 11,
   "metadata": {},
   "outputs": [],
   "source": [
    "# Importing Gensim\n",
    "import gensim\n",
    "from gensim import corpora\n",
    "\n",
    "# Creating the term dictionary of our courpus, where every unique term is assigned an index. \n",
    "dictionary = corpora.Dictionary(doc_clean)\n",
    "\n",
    "# Converting list of documents (corpus) into Document Term Matrix using dictionary prepared above.\n",
    "doc_term_matrix = [dictionary.doc2bow(doc) for doc in doc_clean]"
   ]
  },
  {
   "cell_type": "markdown",
   "metadata": {},
   "source": [
    "#### Running LDA Model"
   ]
  },
  {
   "cell_type": "code",
   "execution_count": 12,
   "metadata": {},
   "outputs": [],
   "source": [
    "# Creating the object for LDA model using gensim library\n",
    "Lda = gensim.models.ldamodel.LdaModel\n",
    "\n",
    "# Running and Trainign LDA model on the document term matrix.\n",
    "ldamodel = Lda(doc_term_matrix, num_topics=3, id2word = dictionary, passes=50)"
   ]
  },
  {
   "cell_type": "markdown",
   "metadata": {},
   "source": [
    "#### Results"
   ]
  },
  {
   "cell_type": "code",
   "execution_count": 13,
   "metadata": {},
   "outputs": [
    {
     "name": "stdout",
     "output_type": "stream",
     "text": [
      "[(0, '0.072*\"father\" + 0.072*\"sister\" + 0.041*\"seems\"'), (1, '0.135*\"sugar\" + 0.054*\"like\" + 0.054*\"consume\"'), (2, '0.065*\"driving\" + 0.065*\"pressure\" + 0.064*\"doctor\"')]\n"
     ]
    }
   ],
   "source": [
    "print(ldamodel.print_topics(num_topics=3, num_words=3))"
   ]
  },
  {
   "cell_type": "markdown",
   "metadata": {},
   "source": [
    "### Topic Modelling for Feature Selection"
   ]
  },
  {
   "cell_type": "markdown",
   "metadata": {},
   "source": [
    "Sometimes LDA can also be used as feature selection technique. Take an example of text classification problem where the training data contain category wise documents. If LDA is running on sets of category wise documents. Followed by removing common topic terms across the results of different categories will give the best features for a category."
   ]
  },
  {
   "cell_type": "markdown",
   "metadata": {},
   "source": [
    "### Bonus: pyLDAvis"
   ]
  },
  {
   "cell_type": "markdown",
   "metadata": {},
   "source": [
    "pyLDAvis is designed to help users interpret the topics in a topic model that has been fit to a corpus of text data. The package extracts information from a fitted LDA topic model to inform an interactive web-based visualization.\n",
    "\n",
    "The visualization is intended to be used within an IPython notebook but can also be saved to a stand-alone HTML file for easy sharing."
   ]
  },
  {
   "cell_type": "markdown",
   "metadata": {},
   "source": [
    "By default the topics are projected to the 2D plane using PCoA on a distance matrix created using the Jensen-Shannon divergence on the topic-term distributions. You can pass in a different multidimensional scaling function via the mds parameter. In addition to pcoa, other provided options are tsne and mmds which operate on the same JS-divergence distance matrix. Both tsne and mmds require that you have sklearn installed. Here is tnse in action:"
   ]
  },
  {
   "cell_type": "code",
   "execution_count": 14,
   "metadata": {},
   "outputs": [
    {
     "data": {
      "text/html": [
       "\n",
       "<link rel=\"stylesheet\" type=\"text/css\" href=\"https://cdn.rawgit.com/bmabey/pyLDAvis/files/ldavis.v1.0.0.css\">\n",
       "\n",
       "\n",
       "<div id=\"ldavis_el1041223083766053445323622585\"></div>\n",
       "<script type=\"text/javascript\">\n",
       "\n",
       "var ldavis_el1041223083766053445323622585_data = {\"mdsDat\": {\"Freq\": [48.04511260986328, 29.628982543945312, 22.325910568237305], \"cluster\": [1, 1, 1], \"topics\": [1, 2, 3], \"x\": [0.04315506116783919, -0.09655655139774187, 0.053401490229902746], \"y\": [0.07383873512908097, -0.005045300360825374, -0.06879343476825561]}, \"tinfo\": {\"Category\": [\"Default\", \"Default\", \"Default\", \"Default\", \"Default\", \"Default\", \"Default\", \"Default\", \"Default\", \"Default\", \"Default\", \"Default\", \"Default\", \"Default\", \"Default\", \"Default\", \"Default\", \"Default\", \"Default\", \"Default\", \"Default\", \"Default\", \"Default\", \"Default\", \"Default\", \"Default\", \"Default\", \"Default\", \"Default\", \"Default\", \"Topic1\", \"Topic1\", \"Topic1\", \"Topic1\", \"Topic1\", \"Topic1\", \"Topic1\", \"Topic1\", \"Topic1\", \"Topic1\", \"Topic1\", \"Topic1\", \"Topic1\", \"Topic1\", \"Topic1\", \"Topic1\", \"Topic1\", \"Topic1\", \"Topic1\", \"Topic1\", \"Topic1\", \"Topic1\", \"Topic1\", \"Topic1\", \"Topic1\", \"Topic1\", \"Topic1\", \"Topic1\", \"Topic1\", \"Topic1\", \"Topic1\", \"Topic1\", \"Topic1\", \"Topic1\", \"Topic1\", \"Topic2\", \"Topic2\", \"Topic2\", \"Topic2\", \"Topic2\", \"Topic2\", \"Topic2\", \"Topic2\", \"Topic2\", \"Topic2\", \"Topic2\", \"Topic2\", \"Topic2\", \"Topic2\", \"Topic2\", \"Topic2\", \"Topic2\", \"Topic2\", \"Topic2\", \"Topic2\", \"Topic2\", \"Topic2\", \"Topic2\", \"Topic2\", \"Topic2\", \"Topic2\", \"Topic2\", \"Topic2\", \"Topic2\", \"Topic2\", \"Topic2\", \"Topic2\", \"Topic2\", \"Topic2\", \"Topic2\", \"Topic3\", \"Topic3\", \"Topic3\", \"Topic3\", \"Topic3\", \"Topic3\", \"Topic3\", \"Topic3\", \"Topic3\", \"Topic3\", \"Topic3\", \"Topic3\", \"Topic3\", \"Topic3\", \"Topic3\", \"Topic3\", \"Topic3\", \"Topic3\", \"Topic3\", \"Topic3\", \"Topic3\", \"Topic3\", \"Topic3\", \"Topic3\", \"Topic3\", \"Topic3\", \"Topic3\", \"Topic3\", \"Topic3\", \"Topic3\", \"Topic3\", \"Topic3\", \"Topic3\"], \"Freq\": [2.0, 1.0, 1.0, 1.0, 1.0, 1.0, 1.0, 1.0, 1.0, 1.0, 1.0, 1.0, 1.0, 1.0, 1.0, 1.0, 1.0, 1.0, 2.0, 2.0, 1.0, 1.0, 1.0, 1.0, 1.0, 1.0, 1.0, 1.0, 1.0, 1.0, 0.8429121375083923, 0.8429120779037476, 0.8429120779037476, 0.8429121375083923, 0.8429120779037476, 0.8429121375083923, 0.8429121375083923, 0.8429120779037476, 0.8429120779037476, 0.8427755236625671, 0.8427755236625671, 0.8427754640579224, 0.8427755236625671, 0.8427754640579224, 0.8427755236625671, 1.4801772832870483, 1.4801772832870483, 0.8411204218864441, 0.8395150899887085, 0.21092678606510162, 0.21092678606510162, 0.21092678606510162, 0.21092678606510162, 0.21092678606510162, 0.21092678606510162, 0.21092678606510162, 0.2110181599855423, 0.2110181450843811, 0.2110181450843811, 0.21100105345249176, 0.21100105345249176, 0.21100105345249176, 0.21100105345249176, 0.21100105345249176, 0.21099773049354553, 1.7223857641220093, 0.6887277364730835, 0.6887277364730835, 0.6887277364730835, 0.6887063980102539, 0.68870609998703, 0.68870609998703, 0.6887060403823853, 0.6887060403823853, 0.6850823760032654, 0.6850823163986206, 0.17238137125968933, 0.17238138616085052, 0.17238138616085052, 0.17238138616085052, 0.17238138616085052, 0.17238137125968933, 0.17238138616085052, 0.17245928943157196, 0.17245928943157196, 0.17245928943157196, 0.17245928943157196, 0.17245928943157196, 0.17245928943157196, 0.1724095493555069, 0.1724095493555069, 0.1724095493555069, 0.1724095493555069, 0.1724095493555069, 0.1724095493555069, 0.1724095493555069, 0.1724095493555069, 0.17256708443164825, 0.1725175380706787, 0.1724095493555069, 0.618690550327301, 0.618690550327301, 0.618690550327301, 0.618690550327301, 0.618690550327301, 0.618690550327301, 0.618690550327301, 0.6213675141334534, 0.6202338933944702, 0.15493032336235046, 0.15493030846118927, 0.15493018925189972, 0.15493018925189972, 0.15493004024028778, 0.1548982858657837, 0.1548982858657837, 0.1548982709646225, 0.15492233633995056, 0.15492233633995056, 0.15492233633995056, 0.15492233633995056, 0.15492233633995056, 0.15492233633995056, 0.1548667550086975, 0.1548667550086975, 0.15486671030521393, 0.15486671030521393, 0.15486671030521393, 0.15486671030521393, 0.15486668050289154, 0.1550658494234085, 0.15506580471992493, 0.15489430725574493], \"Term\": [\"sugar\", \"may\", \"blood\", \"suggest\", \"stress\", \"increased\", \"doctor\", \"cause\", \"driving\", \"pressure\", \"consume\", \"bad\", \"like\", \"good\", \"lifestyle\", \"health\", \"say\", \"expert\", \"sister\", \"father\", \"better\", \"feel\", \"seems\", \"never\", \"perform\", \"sometimes\", \"well\", \"drive\", \"school\", \"around\", \"never\", \"well\", \"sometimes\", \"seems\", \"perform\", \"better\", \"feel\", \"drive\", \"school\", \"spends\", \"practice\", \"around\", \"dance\", \"lot\", \"time\", \"father\", \"sister\", \"pressure\", \"driving\", \"blood\", \"may\", \"cause\", \"doctor\", \"increased\", \"stress\", \"suggest\", \"like\", \"consume\", \"bad\", \"lifestyle\", \"say\", \"expert\", \"good\", \"health\", \"sugar\", \"sugar\", \"bad\", \"consume\", \"like\", \"good\", \"lifestyle\", \"health\", \"say\", \"expert\", \"father\", \"sister\", \"blood\", \"increased\", \"cause\", \"doctor\", \"may\", \"stress\", \"suggest\", \"lot\", \"around\", \"time\", \"spends\", \"practice\", \"dance\", \"perform\", \"well\", \"sometimes\", \"drive\", \"never\", \"feel\", \"school\", \"seems\", \"driving\", \"pressure\", \"better\", \"may\", \"suggest\", \"blood\", \"cause\", \"doctor\", \"increased\", \"stress\", \"driving\", \"pressure\", \"say\", \"expert\", \"health\", \"lifestyle\", \"good\", \"bad\", \"like\", \"consume\", \"around\", \"lot\", \"spends\", \"dance\", \"practice\", \"time\", \"school\", \"drive\", \"well\", \"sometimes\", \"perform\", \"better\", \"seems\", \"father\", \"sister\", \"sugar\"], \"Total\": [2.0, 1.0, 1.0, 1.0, 1.0, 1.0, 1.0, 1.0, 1.0, 1.0, 1.0, 1.0, 1.0, 1.0, 1.0, 1.0, 1.0, 1.0, 2.0, 2.0, 1.0, 1.0, 1.0, 1.0, 1.0, 1.0, 1.0, 1.0, 1.0, 1.0, 1.1701884269714355, 1.170188307762146, 1.170188307762146, 1.1701884269714355, 1.170188307762146, 1.1701884269714355, 1.1701884269714355, 1.1701884269714355, 1.1701884269714355, 1.1701571941375732, 1.1701571941375732, 1.1701570749282837, 1.1701571941375732, 1.1701570749282837, 1.1701571941375732, 2.3203253746032715, 2.3203253746032715, 1.6338719129562378, 1.6334497928619385, 1.0019986629486084, 1.0019986629486084, 1.0019986629486084, 1.0019986629486084, 1.0019986629486084, 1.0019986629486084, 1.0019986629486084, 1.0546441078186035, 1.0546441078186035, 1.0546441078186035, 1.0546373128890991, 1.0546374320983887, 1.0546374320983887, 1.0546374320983887, 1.0546373128890991, 2.088277816772461, 2.088277816772461, 1.0546441078186035, 1.0546441078186035, 1.0546441078186035, 1.0546374320983887, 1.0546373128890991, 1.0546373128890991, 1.0546374320983887, 1.0546374320983887, 2.3203253746032715, 2.3203253746032715, 1.0019986629486084, 1.0019986629486084, 1.0019986629486084, 1.0019986629486084, 1.0019986629486084, 1.0019986629486084, 1.0019986629486084, 1.1701570749282837, 1.1701570749282837, 1.1701571941375732, 1.1701571941375732, 1.1701571941375732, 1.1701571941375732, 1.170188307762146, 1.170188307762146, 1.170188307762146, 1.1701884269714355, 1.1701884269714355, 1.1701884269714355, 1.1701884269714355, 1.1701884269714355, 1.6334497928619385, 1.6338719129562378, 1.1701884269714355, 1.0019986629486084, 1.0019986629486084, 1.0019986629486084, 1.0019986629486084, 1.0019986629486084, 1.0019986629486084, 1.0019986629486084, 1.6334497928619385, 1.6338719129562378, 1.0546374320983887, 1.0546374320983887, 1.0546373128890991, 1.0546373128890991, 1.0546374320983887, 1.0546441078186035, 1.0546441078186035, 1.0546441078186035, 1.1701570749282837, 1.1701570749282837, 1.1701571941375732, 1.1701571941375732, 1.1701571941375732, 1.1701571941375732, 1.1701884269714355, 1.1701884269714355, 1.170188307762146, 1.170188307762146, 1.170188307762146, 1.1701884269714355, 1.1701884269714355, 2.3203253746032715, 2.3203253746032715, 2.088277816772461], \"loglift\": [30.0, 29.0, 28.0, 27.0, 26.0, 25.0, 24.0, 23.0, 22.0, 21.0, 20.0, 19.0, 18.0, 17.0, 16.0, 15.0, 14.0, 13.0, 12.0, 11.0, 10.0, 9.0, 8.0, 7.0, 6.0, 5.0, 4.0, 3.0, 2.0, 1.0, 0.4050000011920929, 0.4050000011920929, 0.4050000011920929, 0.4050000011920929, 0.4050000011920929, 0.4050000011920929, 0.4050000011920929, 0.4050000011920929, 0.4050000011920929, 0.4047999978065491, 0.4047999978065491, 0.4047999978065491, 0.4047999978065491, 0.4047999978065491, 0.4047999978065491, 0.28349998593330383, 0.28349998593330383, 0.06909999996423721, 0.0674000009894371, -0.8252000212669373, -0.8252000212669373, -0.8252000212669373, -0.8252000212669373, -0.8252000212669373, -0.8252000212669373, -0.8252000212669373, -0.8759999871253967, -0.8759999871253967, -0.8759999871253967, -0.8761000037193298, -0.8761000037193298, -0.8761000037193298, -0.8761000037193298, -0.8761000037193298, -1.5592000484466553, 1.023800015449524, 0.7903000116348267, 0.7903000116348267, 0.7903000116348267, 0.7903000116348267, 0.7903000116348267, 0.7903000116348267, 0.7903000116348267, 0.7903000116348267, -0.0035000001080334187, -0.0035000001080334187, -0.5436000227928162, -0.5436000227928162, -0.5436000227928162, -0.5436000227928162, -0.5436000227928162, -0.5436000227928162, -0.5436000227928162, -0.6983000040054321, -0.6983000040054321, -0.6983000040054321, -0.6983000040054321, -0.6983000040054321, -0.6983000040054321, -0.6985999941825867, -0.6985999941825867, -0.6985999941825867, -0.6985999941825867, -0.6985999941825867, -0.6985999941825867, -0.6985999941825867, -0.6985999941825867, -1.0312000513076782, -1.0318000316619873, -0.6985999941825867, 1.017300009727478, 1.017300009727478, 1.017300009727478, 1.017300009727478, 1.017300009727478, 1.017300009727478, 1.017300009727478, 0.5328999757766724, 0.5307999849319458, -0.4185999929904938, -0.4185999929904938, -0.4185999929904938, -0.4185999929904938, -0.4185999929904938, -0.4187999963760376, -0.4187999963760376, -0.4187999963760376, -0.5224999785423279, -0.5224999785423279, -0.5224999785423279, -0.5224999785423279, -0.5224999785423279, -0.5224999785423279, -0.5228999853134155, -0.5228999853134155, -0.5228999853134155, -0.5228999853134155, -0.5228999853134155, -0.5228999853134155, -0.5228999853134155, -1.2062000036239624, -1.2062000036239624, -1.1018999814987183], \"logprob\": [30.0, 29.0, 28.0, 27.0, 26.0, 25.0, 24.0, 23.0, 22.0, 21.0, 20.0, 19.0, 18.0, 17.0, 16.0, 15.0, 14.0, 13.0, 12.0, 11.0, 10.0, 9.0, 8.0, 7.0, 6.0, 5.0, 4.0, 3.0, 2.0, 1.0, -3.1991000175476074, -3.1991000175476074, -3.1991000175476074, -3.1991000175476074, -3.1991000175476074, -3.1991000175476074, -3.1991000175476074, -3.1991000175476074, -3.1991000175476074, -3.199199914932251, -3.199199914932251, -3.199199914932251, -3.199199914932251, -3.199199914932251, -3.199199914932251, -2.635999917984009, -2.635999917984009, -3.201200008392334, -3.2030999660491943, -4.584400177001953, -4.584400177001953, -4.584400177001953, -4.584400177001953, -4.584400177001953, -4.584400177001953, -4.584400177001953, -4.584000110626221, -4.584000110626221, -4.584000110626221, -4.584099769592285, -4.584099769592285, -4.584099769592285, -4.584099769592285, -4.584099769592285, -4.584099769592285, -2.0011000633239746, -2.9177000522613525, -2.9177000522613525, -2.9177000522613525, -2.9177000522613525, -2.9177000522613525, -2.9177000522613525, -2.9177000522613525, -2.9177000522613525, -2.9230000972747803, -2.9230000972747803, -4.302800178527832, -4.302800178527832, -4.302800178527832, -4.302800178527832, -4.302800178527832, -4.302800178527832, -4.302800178527832, -4.3024001121521, -4.3024001121521, -4.3024001121521, -4.3024001121521, -4.3024001121521, -4.3024001121521, -4.302700042724609, -4.302700042724609, -4.302700042724609, -4.302700042724609, -4.302700042724609, -4.302700042724609, -4.302700042724609, -4.302700042724609, -4.301799774169922, -4.302000045776367, -4.302700042724609, -2.7418999671936035, -2.7418999671936035, -2.7418999671936035, -2.7418999671936035, -2.7418999671936035, -2.7418999671936035, -2.7418999671936035, -2.737600088119507, -2.7393999099731445, -4.1265997886657715, -4.1265997886657715, -4.1265997886657715, -4.1265997886657715, -4.1265997886657715, -4.126800060272217, -4.126800060272217, -4.126800060272217, -4.1265997886657715, -4.1265997886657715, -4.1265997886657715, -4.1265997886657715, -4.1265997886657715, -4.1265997886657715, -4.126999855041504, -4.126999855041504, -4.126999855041504, -4.126999855041504, -4.126999855041504, -4.126999855041504, -4.126999855041504, -4.125699996948242, -4.125699996948242, -4.126800060272217]}, \"token.table\": {\"Topic\": [1, 2, 1, 3, 3, 2, 1, 3, 1, 1, 3, 2, 1, 2, 1, 2, 2, 3, 2, 2, 1, 3, 1, 1, 1, 1, 3, 2, 1, 1, 1, 2, 1, 1, 3, 2, 3, 1, 1], \"Freq\": [0.854586124420166, 0.9481871724128723, 0.8545632362365723, 0.9980053305625916, 0.9980053305625916, 0.9481871724128723, 0.8545860648155212, 0.9980053305625916, 0.8545632362365723, 0.6122012734413147, 0.6122012734413147, 0.9481931328773499, 0.4309740364551544, 0.4309740364551544, 0.8545632362365723, 0.9481931328773499, 0.9481932520866394, 0.9980053305625916, 0.9481932520866394, 0.9481871724128723, 0.854586124420166, 0.9980053305625916, 0.8545632362365723, 0.854563295841217, 0.8545860648155212, 0.6120430827140808, 0.6120430827140808, 0.9481931328773499, 0.8545632362365723, 0.8545632362365723, 0.4309740364551544, 0.4309740364551544, 0.854563295841217, 0.8545860648155212, 0.9980053305625916, 0.9577269554138184, 0.9980053305625916, 0.8545860648155212, 0.854563295841217], \"Term\": [\"around\", \"bad\", \"better\", \"blood\", \"cause\", \"consume\", \"dance\", \"doctor\", \"drive\", \"driving\", \"driving\", \"expert\", \"father\", \"father\", \"feel\", \"good\", \"health\", \"increased\", \"lifestyle\", \"like\", \"lot\", \"may\", \"never\", \"perform\", \"practice\", \"pressure\", \"pressure\", \"say\", \"school\", \"seems\", \"sister\", \"sister\", \"sometimes\", \"spends\", \"stress\", \"sugar\", \"suggest\", \"time\", \"well\"]}, \"R\": 30, \"lambda.step\": 0.01, \"plot.opts\": {\"xlab\": \"PC1\", \"ylab\": \"PC2\"}, \"topic.order\": [1, 2, 3]};\n",
       "\n",
       "function LDAvis_load_lib(url, callback){\n",
       "  var s = document.createElement('script');\n",
       "  s.src = url;\n",
       "  s.async = true;\n",
       "  s.onreadystatechange = s.onload = callback;\n",
       "  s.onerror = function(){console.warn(\"failed to load library \" + url);};\n",
       "  document.getElementsByTagName(\"head\")[0].appendChild(s);\n",
       "}\n",
       "\n",
       "if(typeof(LDAvis) !== \"undefined\"){\n",
       "   // already loaded: just create the visualization\n",
       "   !function(LDAvis){\n",
       "       new LDAvis(\"#\" + \"ldavis_el1041223083766053445323622585\", ldavis_el1041223083766053445323622585_data);\n",
       "   }(LDAvis);\n",
       "}else if(typeof define === \"function\" && define.amd){\n",
       "   // require.js is available: use it to load d3/LDAvis\n",
       "   require.config({paths: {d3: \"https://cdnjs.cloudflare.com/ajax/libs/d3/3.5.5/d3.min\"}});\n",
       "   require([\"d3\"], function(d3){\n",
       "      window.d3 = d3;\n",
       "      LDAvis_load_lib(\"https://cdn.rawgit.com/bmabey/pyLDAvis/files/ldavis.v1.0.0.js\", function(){\n",
       "        new LDAvis(\"#\" + \"ldavis_el1041223083766053445323622585\", ldavis_el1041223083766053445323622585_data);\n",
       "      });\n",
       "    });\n",
       "}else{\n",
       "    // require.js not available: dynamically load d3 & LDAvis\n",
       "    LDAvis_load_lib(\"https://cdnjs.cloudflare.com/ajax/libs/d3/3.5.5/d3.min.js\", function(){\n",
       "         LDAvis_load_lib(\"https://cdn.rawgit.com/bmabey/pyLDAvis/files/ldavis.v1.0.0.js\", function(){\n",
       "                 new LDAvis(\"#\" + \"ldavis_el1041223083766053445323622585\", ldavis_el1041223083766053445323622585_data);\n",
       "            })\n",
       "         });\n",
       "}\n",
       "</script>"
      ],
      "text/plain": [
       "<IPython.core.display.HTML object>"
      ]
     },
     "execution_count": 14,
     "metadata": {},
     "output_type": "execute_result"
    }
   ],
   "source": [
    "import pyLDAvis.gensim\n",
    "vis = pyLDAvis.gensim.prepare(ldamodel, corpus=doc_term_matrix, dictionary=dictionary)\n",
    "pyLDAvis.display(vis)"
   ]
  },
  {
   "cell_type": "markdown",
   "metadata": {},
   "source": [
    "### Refrences:\n",
    "- <a href=\"https://pypi.org/project/lda/\"> LDA official site</a>.\n",
    "- <a href=\"https://rstudio-pubs-static.s3.amazonaws.com/79360_850b2a69980c4488b1db95987a24867a.html\"> LDA with Python</a>.\n",
    "- <a href=\"https://www.analyticsvidhya.com/blog/2016/08/beginners-guide-to-topic-modeling-in-python/\"> LDA on Python guide</a>.\n",
    "- <a href=\"https://github.com/bmabey/pyLDAvis/blob/master/tests/pyLDAvis/test_gensim_models.py\">test on gensim models</a>.\n",
    "- <a href=\"https://github.com/bmabey/pyLDAvis\"> pyLDAvis library</a>."
   ]
  }
 ],
 "metadata": {
  "kernelspec": {
   "display_name": "Python 3",
   "language": "python",
   "name": "python3"
  },
  "language_info": {
   "codemirror_mode": {
    "name": "ipython",
    "version": 3
   },
   "file_extension": ".py",
   "mimetype": "text/x-python",
   "name": "python",
   "nbconvert_exporter": "python",
   "pygments_lexer": "ipython3",
   "version": "3.6.7"
  }
 },
 "nbformat": 4,
 "nbformat_minor": 2
}
