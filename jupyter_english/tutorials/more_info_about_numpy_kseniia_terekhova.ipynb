{
 "cells": [
  {
   "cell_type": "markdown",
   "metadata": {},
   "source": [
    "<center>\n",
    "<img src=\"../../img/ods_stickers.jpg\" />\n",
    "    \n",
    "## [mlcourse.ai](https://mlcourse.ai) – Open Machine Learning Course \n",
    "### <center> Author: Kseniia Terekhova, ODS Slack Kseniia\n",
    "    \n",
    "## <center> Tutorial\n",
    "## <center> A little more info about NumPy"
   ]
  },
  {
   "cell_type": "markdown",
   "metadata": {},
   "source": [
    "### 1. Introduction/justification"
   ]
  },
  {
   "cell_type": "markdown",
   "metadata": {},
   "source": [
    "Though NumPy was not denoted as prerequisite for mlcourse.ai, there is no doubt that most participants are familiar with it and have no difficulties in performing common actions. However, pieces of interesting information encountered here and there seem to be worth sharing. No one knows everything, NumPy was not covered in the course in details -  but it is a powerful scientific library that can make many mathematical calculations simpler and nicer.<br>\n",
    "Links to materials the tutorial is based on can be found in the end of the notebook, in the \"References\" section. And sure, I'm not going to retell NumPy <a href=\"https://docs.scipy.org/doc/numpy/user/quickstart.html\" target=__blank>quickstart tutorial</a>."
   ]
  },
  {
   "cell_type": "markdown",
   "metadata": {},
   "source": [
    "### 2. NumPy performance"
   ]
  },
  {
   "cell_type": "markdown",
   "metadata": {},
   "source": [
    "It is not only convenient API that makes NumPy so useful for scientific purposes, but also its performance characteristics. Python is not the most quick and memory-economical language. When you are often getting MemoryError while working with large ML datasets it does not look as a minor disadvantage.<br>\n",
    "Let's first compare amounts of bytes taken by standard Python list and identical NumPy array. "
   ]
  },
  {
   "cell_type": "code",
   "execution_count": 8,
   "metadata": {},
   "outputs": [],
   "source": [
    "import sys\n",
    "import numpy as np"
   ]
  },
  {
   "cell_type": "code",
   "execution_count": 9,
   "metadata": {},
   "outputs": [
    {
     "name": "stdout",
     "output_type": "stream",
     "text": [
      "Python list size: 8.583 MB\n",
      "Numpy array size: 7.629 MB\n",
      "ArraySize/ListSize ratio: 0.89\n"
     ]
    }
   ],
   "source": [
    "mb = 1024 * 1024\n",
    "\n",
    "python_list = list(range(0, 1000000))\n",
    "numpy_array = np.array(range(0, 1000000))\n",
    "\n",
    "print(\"Python list size: {0:.3f} MB\".format(sys.getsizeof(python_list) / mb))\n",
    "print(\"Numpy array size: {0:.3f} MB\".format(numpy_array.nbytes / mb, \"MB\"))\n",
    "print(\"ArraySize/ListSize ratio: {0:.2f}\".format(numpy_array.nbytes / sys.getsizeof(python_list)))"
   ]
  },
  {
   "cell_type": "markdown",
   "metadata": {},
   "source": [
    "11% of gain is something noticeable. But were Python lists implemented so inefficiently? No, actually, they just were implemented differently."
   ]
  },
  {
   "cell_type": "markdown",
   "metadata": {},
   "source": [
    "<center>\n",
    "<img src=\"../../img/kseniia_numpy_array_vs_python_list.png\" style=\"width: 600px;\" />"
   ]
  },
  {
   "cell_type": "markdown",
   "metadata": {},
   "source": [
    "While NumPy contains data in a continious area in memory, a Python list stores only pointers to the real data. And yes, not only \"list in Python is more than just list\" but also \"an integer in Python is more than just integer\". "
   ]
  },
  {
   "cell_type": "markdown",
   "metadata": {},
   "source": [
    "<center>\n",
    "<img src=\"../../img/kseniia_cint_vs_pyint.png\" style=\"width: 400px;\" />"
   ]
  },
  {
   "cell_type": "markdown",
   "metadata": {},
   "source": [
    "Such way of storing data incurs additional metadata overhead, but gives more flexibility. There is no problems with having such mixed-type list in Python:"
   ]
  },
  {
   "cell_type": "code",
   "execution_count": 5,
   "metadata": {},
   "outputs": [],
   "source": [
    "mixed_list = [1, 2, 3, 4.0, 5.0, 'abc', 'def', True, False]"
   ]
  },
  {
   "cell_type": "markdown",
   "metadata": {},
   "source": [
    "In general, NumPy allows such notation too, but as its datastorage is continious, with equal strides, it has to convert all the data to one type. "
   ]
  },
  {
   "cell_type": "markdown",
   "metadata": {},
   "source": [
    "Creating mixed int and string array:"
   ]
  },
  {
   "cell_type": "code",
   "execution_count": 11,
   "metadata": {},
   "outputs": [
    {
     "name": "stdout",
     "output_type": "stream",
     "text": [
      "Mixed numpy array size: 80.108642578125 MB\n"
     ]
    }
   ],
   "source": [
    "np_array_mixed = np.array([i if i % 2 == 0 else str(i) for i in range(0, 1000000)])\n",
    "np_array_mixed_size = np_array_mixed.nbytes\n",
    "print(\"Mixed numpy array size:\", np_array_mixed_size / mb, \"MB\")"
   ]
  },
  {
   "cell_type": "markdown",
   "metadata": {},
   "source": [
    "And when storing string only:"
   ]
  },
  {
   "cell_type": "code",
   "execution_count": 12,
   "metadata": {},
   "outputs": [
    {
     "name": "stdout",
     "output_type": "stream",
     "text": [
      "Strings-only numpy array size: 22.88818359375 MB\n"
     ]
    }
   ],
   "source": [
    "np_array_str = np.array([str(i) for i in range(0, 1000000)])\n",
    "np_array_str_size = np_array_str.nbytes\n",
    "print(\"Strings-only numpy array size:\", np_array_str_size / mb, \"MB\")"
   ]
  },
  {
   "cell_type": "markdown",
   "metadata": {},
   "source": [
    "What? Half-integer half-string array occupies four times more space than string-only one? In reality, there are no integers in the first array: "
   ]
  },
  {
   "cell_type": "code",
   "execution_count": 14,
   "metadata": {},
   "outputs": [
    {
     "name": "stdout",
     "output_type": "stream",
     "text": [
      "String array contains type: <U6\n",
      "\"Mixed\" array contains type: <U21\n",
      "\"Mixed\" array elements:\" ['0' '1' '2' '3' '4' '5']\n"
     ]
    }
   ],
   "source": [
    "print('String array contains type:', np_array_str.dtype)\n",
    "print('\"Mixed\" array contains type:', np_array_mixed.dtype)\n",
    "print('\"Mixed\" array elements:\"', np_array_mixed[:6])"
   ]
  },
  {
   "cell_type": "markdown",
   "metadata": {},
   "source": [
    "All the elements in the \"mixed\" array were converted to unicode string. And they were converted in very awkward way: \"mixed\" elements take more bytes than in string-only array. Not sure how did it work internally, but I can suppose that U21 was selected during int conversion in order to accommodate even large numbers, though string representations of all integers < 1000000 fit into 6-characters string."
   ]
  },
  {
   "cell_type": "markdown",
   "metadata": {},
   "source": [
    "That allows to make a conclusion that NumPy was designed for high performance computing over large blocks of same-type numbers. Let's try to compare such computations made with NumPy and with Python intrinsics on the example of calculating reciprocals (1/x) of ten million integers. "
   ]
  },
  {
   "cell_type": "code",
   "execution_count": 15,
   "metadata": {},
   "outputs": [],
   "source": [
    "nums_list = list(range(1, 10000000))\n",
    "numpy_nums = np.array(nums_list)"
   ]
  },
  {
   "cell_type": "code",
   "execution_count": 16,
   "metadata": {},
   "outputs": [
    {
     "name": "stdout",
     "output_type": "stream",
     "text": [
      "CPU times: user 1.31 s, sys: 96.1 ms, total: 1.4 s\n",
      "Wall time: 1.4 s\n"
     ]
    }
   ],
   "source": [
    "%%time\n",
    "reciprocal_list = []\n",
    "for num in nums_list:\n",
    "    reciprocal_list.append(1 / num)"
   ]
  },
  {
   "cell_type": "markdown",
   "metadata": {},
   "source": [
    "Python loops shows as quite slow. Maybe list comprehension are quicker?"
   ]
  },
  {
   "cell_type": "code",
   "execution_count": 18,
   "metadata": {},
   "outputs": [
    {
     "name": "stdout",
     "output_type": "stream",
     "text": [
      "CPU times: user 608 ms, sys: 120 ms, total: 729 ms\n",
      "Wall time: 727 ms\n"
     ]
    }
   ],
   "source": [
    "%%time\n",
    "reciprocal_list = [1 / num for num in nums_list]"
   ]
  },
  {
   "cell_type": "markdown",
   "metadata": {},
   "source": [
    "A little bit. What about NumPy?"
   ]
  },
  {
   "cell_type": "code",
   "execution_count": 20,
   "metadata": {},
   "outputs": [
    {
     "name": "stdout",
     "output_type": "stream",
     "text": [
      "CPU times: user 46.6 ms, sys: 58.6 ms, total: 105 ms\n",
      "Wall time: 103 ms\n"
     ]
    }
   ],
   "source": [
    "%%time\n",
    "reciprocal_array = 1 / numpy_nums"
   ]
  },
  {
   "cell_type": "markdown",
   "metadata": {},
   "source": [
    "Much more better!"
   ]
  },
  {
   "cell_type": "markdown",
   "metadata": {},
   "source": [
    "To be honest, there was a small deceit. The amounts of time spent creating list and array were not measured. They are different:"
   ]
  },
  {
   "cell_type": "code",
   "execution_count": 22,
   "metadata": {},
   "outputs": [
    {
     "name": "stdout",
     "output_type": "stream",
     "text": [
      "CPU times: user 227 ms, sys: 164 ms, total: 391 ms\n",
      "Wall time: 389 ms\n"
     ]
    }
   ],
   "source": [
    "%%time \n",
    "nums_list = list(range(1, 10000000))"
   ]
  },
  {
   "cell_type": "code",
   "execution_count": 23,
   "metadata": {},
   "outputs": [
    {
     "name": "stdout",
     "output_type": "stream",
     "text": [
      "CPU times: user 664 ms, sys: 11.4 ms, total: 675 ms\n",
      "Wall time: 672 ms\n"
     ]
    }
   ],
   "source": [
    "%%time\n",
    "numpy_nums = np.array(nums_list)"
   ]
  },
  {
   "cell_type": "code",
   "execution_count": 24,
   "metadata": {},
   "outputs": [
    {
     "name": "stdout",
     "output_type": "stream",
     "text": [
      "CPU times: user 1.38 s, sys: 461 ms, total: 1.84 s\n",
      "Wall time: 1.83 s\n"
     ]
    }
   ],
   "source": [
    "%%time\n",
    "numpy_nums = np.array(range(1, 10000000))"
   ]
  },
  {
   "cell_type": "markdown",
   "metadata": {},
   "source": [
    "Does it mean that there was no gain in reality? No, only that it is better to create NumPy arrays using NumPy initialization functions. Numpy.arange in this case."
   ]
  },
  {
   "cell_type": "code",
   "execution_count": 26,
   "metadata": {},
   "outputs": [
    {
     "name": "stdout",
     "output_type": "stream",
     "text": [
      "CPU times: user 26.7 ms, sys: 56.3 ms, total: 83 ms\n",
      "Wall time: 78.4 ms\n"
     ]
    }
   ],
   "source": [
    "%%time\n",
    "numpy_nums = np.arange(1, 10000000)"
   ]
  },
  {
   "cell_type": "code",
   "execution_count": 27,
   "metadata": {},
   "outputs": [
    {
     "name": "stdout",
     "output_type": "stream",
     "text": [
      "CPU times: user 67.4 ms, sys: 52.9 ms, total: 120 ms\n",
      "Wall time: 118 ms\n"
     ]
    }
   ],
   "source": [
    "%%time\n",
    "reciprocal_array = 1 / numpy_nums"
   ]
  },
  {
   "cell_type": "markdown",
   "metadata": {},
   "source": [
    "One more example, slightly more complex. Calculating distances from a point to long sequence of other ones:"
   ]
  },
  {
   "cell_type": "code",
   "execution_count": 29,
   "metadata": {},
   "outputs": [
    {
     "name": "stdout",
     "output_type": "stream",
     "text": [
      "CPU times: user 13.1 s, sys: 571 ms, total: 13.6 s\n",
      "Wall time: 13.6 s\n"
     ]
    }
   ],
   "source": [
    "%%time\n",
    "point = [1.0, 1.0]\n",
    "other_points = list([float(x), x + 1.0] for x in range(10000000))\n",
    "dists = [((point[0] - op[0])**2 + (point[1] - op[1])**2)**0.5 for op in other_points]"
   ]
  },
  {
   "cell_type": "code",
   "execution_count": 30,
   "metadata": {},
   "outputs": [
    {
     "data": {
      "text/plain": [
       "[1.0,\n",
       " 1.0,\n",
       " 2.23606797749979,\n",
       " 3.605551275463989,\n",
       " 5.0,\n",
       " 6.4031242374328485,\n",
       " 7.810249675906654,\n",
       " 9.219544457292887,\n",
       " 10.63014581273465,\n",
       " 12.041594578792296]"
      ]
     },
     "execution_count": 30,
     "metadata": {},
     "output_type": "execute_result"
    }
   ],
   "source": [
    "dists[:10]"
   ]
  },
  {
   "cell_type": "code",
   "execution_count": 31,
   "metadata": {},
   "outputs": [
    {
     "name": "stdout",
     "output_type": "stream",
     "text": [
      "CPU times: user 236 ms, sys: 255 ms, total: 491 ms\n",
      "Wall time: 330 ms\n"
     ]
    }
   ],
   "source": [
    "%%time\n",
    "np_point = np.ones(2)\n",
    "np_other_points = np.vstack([np.arange(0.0, 10000000.0), np.arange(1.0, 10000001.0)]).T\n",
    "np_dists = np.sum((np_point - np_other_points)**2, axis=1)**0.5"
   ]
  },
  {
   "cell_type": "code",
   "execution_count": 12,
   "metadata": {},
   "outputs": [
    {
     "data": {
      "text/plain": [
       "array([ 1.        ,  1.        ,  2.23606798,  3.60555128,  5.        ,\n",
       "        6.40312424,  7.81024968,  9.21954446, 10.63014581, 12.04159458])"
      ]
     },
     "execution_count": 12,
     "metadata": {},
     "output_type": "execute_result"
    }
   ],
   "source": [
    "np_dists[:10]"
   ]
  },
  {
   "cell_type": "markdown",
   "metadata": {},
   "source": [
    "The results are the same, but the performance advantage is significant."
   ]
  },
  {
   "cell_type": "markdown",
   "metadata": {},
   "source": [
    "### 3. NumPy matrix broadcasting"
   ]
  },
  {
   "cell_type": "markdown",
   "metadata": {},
   "source": [
    "<p>One of the things that should be noticed about the example above is that it handles matrixes with different dimensions. The np_point has shape (2,) and np_other_points - (10000000, 2). Nevertheless, element-wise operations are performed with them, producing a matrix with shape (10000000,). That is possible by the virtue of <b><i>matrix broadcasting</i></b> mechanism.</p>\n",
    "<p>Matrix broadcasting in NumPy is a set of rules that allowes to expand two matrixes with different dimentions to  match shapes of each other, in order to perform element-by-element operations. What is important, this set of rules is a  \"virtual\" mechanism, that just allows to understand how matrixes will interact. No real expansion and memory allocation is performed.</p>\n",
    "<p>Its simplest case is summing a matrix with a scalar number, that will be added to each element of the matrix:</p>"
   ]
  },
  {
   "cell_type": "code",
   "execution_count": 11,
   "metadata": {},
   "outputs": [
    {
     "name": "stdout",
     "output_type": "stream",
     "text": [
      "M:\n",
      "[[1. 1. 1.]\n",
      " [1. 1. 1.]\n",
      " [1. 1. 1.]]\n",
      "\n",
      "M + 2 :\n",
      "[[3. 3. 3.]\n",
      " [3. 3. 3.]\n",
      " [3. 3. 3.]]\n"
     ]
    }
   ],
   "source": [
    "M = np.ones((3, 3))\n",
    "print(\"M:\")\n",
    "print(M)\n",
    "\n",
    "scalar = 2\n",
    "M_added = M + scalar\n",
    "\n",
    "print()\n",
    "print(\"M +\", scalar, \":\")\n",
    "print(M_added)"
   ]
  },
  {
   "cell_type": "markdown",
   "metadata": {},
   "source": [
    "A matrix can be summed with a vector in the similar way:"
   ]
  },
  {
   "cell_type": "code",
   "execution_count": 39,
   "metadata": {},
   "outputs": [
    {
     "name": "stdout",
     "output_type": "stream",
     "text": [
      "[[1. 1. 1.]\n",
      " [1. 1. 1.]\n",
      " [1. 1. 1.]]\n",
      "\n",
      "[0 1 2]\n",
      "\n",
      "[[1. 2. 3.]\n",
      " [1. 2. 3.]\n",
      " [1. 2. 3.]]\n"
     ]
    }
   ],
   "source": [
    "M = np.ones((3, 3))\n",
    "print(M)\n",
    "\n",
    "v = np.array([0, 1, 2])\n",
    "print()\n",
    "print(v)\n",
    "\n",
    "M_added = M + v\n",
    "print()\n",
    "print(M_added)"
   ]
  },
  {
   "cell_type": "markdown",
   "metadata": {},
   "source": [
    "In a more complex case the both matrixes are broadcasted:"
   ]
  },
  {
   "cell_type": "code",
   "execution_count": 43,
   "metadata": {},
   "outputs": [
    {
     "name": "stdout",
     "output_type": "stream",
     "text": [
      "a: [0 1 2]\n",
      "b:\n",
      " [[0]\n",
      " [1]\n",
      " [2]]\n",
      "\n",
      "Summed:\n",
      "[[0 1 2]\n",
      " [1 2 3]\n",
      " [2 3 4]]\n"
     ]
    }
   ],
   "source": [
    "a = np.arange(3)\n",
    "b = np.arange(3)[:, np.newaxis]\n",
    "\n",
    "print(\"a:\", a)\n",
    "print(\"b:\\n\", b)\n",
    "\n",
    "summed = a + b\n",
    "print(\"\\nSummed:\")\n",
    "print(summed)"
   ]
  },
  {
   "cell_type": "markdown",
   "metadata": {},
   "source": [
    "The rules of matrix broadcasting are this way:<br>\n",
    "<b>Rule 1:</b> If the two arrays differ in their number of dimensions, the shape of the one with fewer dimensions is padded with ones on its leading (left) side.<br>\n",
    "<b>Rule 2:</b> If the shape of the two arrays does not match in any dimension, the array with shape equal to 1 in that dimension is stretched to match the other shape.<br>\n",
    "<b>Rule 3:</b> If in any dimension the sizes disagree and neither is equal to 1, an error is raised.<br>"
   ]
  },
  {
   "cell_type": "markdown",
   "metadata": {},
   "source": [
    "So, adding a two-dimensional array to a one-dimensional array is performed this way:"
   ]
  },
  {
   "cell_type": "code",
   "execution_count": 48,
   "metadata": {},
   "outputs": [
    {
     "name": "stdout",
     "output_type": "stream",
     "text": [
      "M: (2, 3)\n",
      "[[1. 1. 1.]\n",
      " [1. 1. 1.]]\n",
      "\n",
      "a: (3,)\n",
      "[0 1 2]\n"
     ]
    }
   ],
   "source": [
    "M = np.ones((2, 3))\n",
    "a = np.arange(3)\n",
    "print(\"M:\", M.shape)\n",
    "print(M)\n",
    "print()\n",
    "print(\"a:\", a.shape)\n",
    "print(a)"
   ]
  },
  {
   "cell_type": "markdown",
   "metadata": {},
   "source": [
    "The shape of a is pad on the left, as it has fewer dimensions:<br>\n",
    "    M.shape -> (2, 3)<br>\n",
    "    a.shape -> (1, 3)<br><br>\n",
    "The the 1-dimension of a is stretched to match M:<br>\n",
    "    M.shape -> (2, 3)<br>\n",
    "    a.shape -> (2, 3)<br>\n",
    "\n",
    "Now the shapes match and matrixes can be summed:"
   ]
  },
  {
   "cell_type": "code",
   "execution_count": 47,
   "metadata": {},
   "outputs": [
    {
     "data": {
      "text/plain": [
       "array([[1., 2., 3.],\n",
       "       [1., 2., 3.]])"
      ]
     },
     "execution_count": 47,
     "metadata": {},
     "output_type": "execute_result"
    }
   ],
   "source": [
    "M + a"
   ]
  },
  {
   "cell_type": "markdown",
   "metadata": {},
   "source": [
    "That's what happens when both arrays need to be broadcasted:"
   ]
  },
  {
   "cell_type": "code",
   "execution_count": 49,
   "metadata": {},
   "outputs": [
    {
     "name": "stdout",
     "output_type": "stream",
     "text": [
      "a: (3, 1)\n",
      "[[0]\n",
      " [1]\n",
      " [2]]\n",
      "\n",
      "b: (3,)\n",
      "[0 1 2]\n"
     ]
    }
   ],
   "source": [
    "a = np.arange(3).reshape((3, 1))\n",
    "b = np.arange(3)\n",
    "\n",
    "print(\"a:\", a.shape)\n",
    "print(a)\n",
    "print()\n",
    "print(\"b:\", b.shape)\n",
    "print(b)"
   ]
  },
  {
   "cell_type": "markdown",
   "metadata": {},
   "source": [
    "The shape of b is pad left with ones:<br>\n",
    "a.shape -> (3, 1)<br>\n",
    "b.shape -> (1, 3)<br>\n",
    "<br>\n",
    "Then both matrixes has dimension to be expanded:<br>\n",
    "a.shape -> (3, 3)<br>\n",
    "b.shape -> (3, 3)<br>\n",
    "<br>\n",
    "Then the matrixes can be easily summed:"
   ]
  },
  {
   "cell_type": "code",
   "execution_count": 50,
   "metadata": {},
   "outputs": [
    {
     "data": {
      "text/plain": [
       "array([[0, 1, 2],\n",
       "       [1, 2, 3],\n",
       "       [2, 3, 4]])"
      ]
     },
     "execution_count": 50,
     "metadata": {},
     "output_type": "execute_result"
    }
   ],
   "source": [
    "a + b"
   ]
  },
  {
   "cell_type": "markdown",
   "metadata": {},
   "source": [
    "However, broadcasting is not always possible:"
   ]
  },
  {
   "cell_type": "code",
   "execution_count": 32,
   "metadata": {},
   "outputs": [
    {
     "name": "stdout",
     "output_type": "stream",
     "text": [
      "M: (3, 2)\n",
      "[[1. 1.]\n",
      " [1. 1.]\n",
      " [1. 1.]]\n",
      "\n",
      "a: (3,)\n",
      "[0 1 2]\n",
      "\n"
     ]
    }
   ],
   "source": [
    "M = np.ones((3, 2))\n",
    "print(\"M:\", M.shape)\n",
    "print(M)\n",
    "print()\n",
    "\n",
    "a = np.arange(3)\n",
    "print(\"a:\", a.shape)\n",
    "print(a)\n",
    "print()"
   ]
  },
  {
   "cell_type": "markdown",
   "metadata": {},
   "source": [
    "M.shape -> (3, 2) <br>\n",
    "a.shape -> (1, 3) <br>\n",
    "<br>\n",
    "M.shape -> (3, 2)<br>\n",
    "a.shape -> (3, 3)<br>"
   ]
  },
  {
   "cell_type": "markdown",
   "metadata": {},
   "source": [
    "Matrixes shape does not match, the error is raised when trying to perform operations with them:"
   ]
  },
  {
   "cell_type": "code",
   "execution_count": 33,
   "metadata": {},
   "outputs": [
    {
     "ename": "ValueError",
     "evalue": "operands could not be broadcast together with shapes (3,2) (3,) ",
     "output_type": "error",
     "traceback": [
      "\u001b[0;31m---------------------------------------------------------------------------\u001b[0m",
      "\u001b[0;31mValueError\u001b[0m                                Traceback (most recent call last)",
      "\u001b[0;32m<ipython-input-33-8cac1d547906>\u001b[0m in \u001b[0;36m<module>\u001b[0;34m()\u001b[0m\n\u001b[0;32m----> 1\u001b[0;31m \u001b[0mM\u001b[0m \u001b[0;34m+\u001b[0m \u001b[0ma\u001b[0m\u001b[0;34m\u001b[0m\u001b[0m\n\u001b[0m",
      "\u001b[0;31mValueError\u001b[0m: operands could not be broadcast together with shapes (3,2) (3,) "
     ]
    }
   ],
   "source": [
    "M + a"
   ]
  },
  {
   "cell_type": "markdown",
   "metadata": {},
   "source": [
    "The possible solution in such situation is padding \"a\" with 1 dimention in the <i>right</i> manually. This way the Rule 1 will be skipped and according to the Rule 2 NumPy will just expand matrix to the needed size: "
   ]
  },
  {
   "cell_type": "code",
   "execution_count": 34,
   "metadata": {},
   "outputs": [
    {
     "name": "stdout",
     "output_type": "stream",
     "text": [
      "a: (3, 1)\n",
      "[[0]\n",
      " [1]\n",
      " [2]]\n",
      "\n"
     ]
    }
   ],
   "source": [
    "a = a[:, np.newaxis]\n",
    "\n",
    "print(\"a:\", a.shape)\n",
    "print(a)\n",
    "print()"
   ]
  },
  {
   "cell_type": "code",
   "execution_count": 35,
   "metadata": {},
   "outputs": [
    {
     "data": {
      "text/plain": [
       "array([[1., 1.],\n",
       "       [2., 2.],\n",
       "       [3., 3.]])"
      ]
     },
     "execution_count": 35,
     "metadata": {},
     "output_type": "execute_result"
    }
   ],
   "source": [
    "M + a"
   ]
  },
  {
   "cell_type": "markdown",
   "metadata": {},
   "source": [
    "### 3. What is np.newaxis?"
   ]
  },
  {
   "cell_type": "markdown",
   "metadata": {},
   "source": [
    "In the example in the previous section used a np.newaxis constant was used. What is it? Actually it is None."
   ]
  },
  {
   "cell_type": "code",
   "execution_count": 36,
   "metadata": {},
   "outputs": [
    {
     "data": {
      "text/plain": [
       "True"
      ]
     },
     "execution_count": 36,
     "metadata": {},
     "output_type": "execute_result"
    }
   ],
   "source": [
    "np.newaxis is None"
   ]
  },
  {
   "cell_type": "markdown",
   "metadata": {},
   "source": [
    "So, just a convenient alias. The <i>np.newaxis</i> constant is useful when converting a 1D array into a row vector or a column vector, by adding new dimensions from left or right side:"
   ]
  },
  {
   "cell_type": "code",
   "execution_count": 46,
   "metadata": {},
   "outputs": [
    {
     "data": {
      "text/plain": [
       "(3,)"
      ]
     },
     "execution_count": 46,
     "metadata": {},
     "output_type": "execute_result"
    }
   ],
   "source": [
    "arr = np.arange(3)\n",
    "arr.shape"
   ]
  },
  {
   "cell_type": "code",
   "execution_count": 47,
   "metadata": {},
   "outputs": [
    {
     "name": "stdout",
     "output_type": "stream",
     "text": [
      "(1, 3)\n",
      "[[0 1 2]]\n"
     ]
    }
   ],
   "source": [
    "row_vec = arr[np.newaxis, :]\n",
    "print(row_vec.shape)\n",
    "print(row_vec)"
   ]
  },
  {
   "cell_type": "code",
   "execution_count": 49,
   "metadata": {},
   "outputs": [
    {
     "name": "stdout",
     "output_type": "stream",
     "text": [
      "(3, 1)\n",
      "[[0]\n",
      " [1]\n",
      " [2]]\n"
     ]
    }
   ],
   "source": [
    "col_vec = arr[:, np.newaxis]\n",
    "print(col_vec.shape)\n",
    "print(col_vec)"
   ]
  },
  {
   "cell_type": "markdown",
   "metadata": {},
   "source": [
    "In fact it is similar to <i>np.reshape(-1, 1)</i> and <i>np.reshape(1, -1)</i> down to minor implementation details. But the np.newaxis allows to stack dimentions using slice syntax, without specifying original shape: "
   ]
  },
  {
   "cell_type": "code",
   "execution_count": 66,
   "metadata": {},
   "outputs": [],
   "source": [
    "M = np.ones((5, 5))"
   ]
  },
  {
   "cell_type": "code",
   "execution_count": 67,
   "metadata": {},
   "outputs": [
    {
     "data": {
      "text/plain": [
       "(1, 5, 5, 1, 1)"
      ]
     },
     "execution_count": 67,
     "metadata": {},
     "output_type": "execute_result"
    }
   ],
   "source": [
    "M[np.newaxis, :, :, np.newaxis, np.newaxis].shape"
   ]
  },
  {
   "cell_type": "code",
   "execution_count": 68,
   "metadata": {},
   "outputs": [
    {
     "data": {
      "text/plain": [
       "(1, 5, 5, 1, 1)"
      ]
     },
     "execution_count": 68,
     "metadata": {},
     "output_type": "execute_result"
    }
   ],
   "source": [
    "M[np.newaxis, ..., np.newaxis, np.newaxis].shape"
   ]
  },
  {
   "cell_type": "markdown",
   "metadata": {},
   "source": [
    "And reshape allows to use -1 only once, requiring to explicitly pass original shape when working with multidimentional arrays:"
   ]
  },
  {
   "cell_type": "code",
   "execution_count": 69,
   "metadata": {},
   "outputs": [
    {
     "ename": "ValueError",
     "evalue": "can only specify one unknown dimension",
     "output_type": "error",
     "traceback": [
      "\u001b[0;31m---------------------------------------------------------------------------\u001b[0m",
      "\u001b[0;31mValueError\u001b[0m                                Traceback (most recent call last)",
      "\u001b[0;32m<ipython-input-69-92614bbd4d77>\u001b[0m in \u001b[0;36m<module>\u001b[0;34m()\u001b[0m\n\u001b[0;32m----> 1\u001b[0;31m \u001b[0mM\u001b[0m\u001b[0;34m.\u001b[0m\u001b[0mreshape\u001b[0m\u001b[0;34m(\u001b[0m\u001b[0;36m1\u001b[0m\u001b[0;34m,\u001b[0m \u001b[0;34m-\u001b[0m\u001b[0;36m1\u001b[0m\u001b[0;34m,\u001b[0m \u001b[0;34m-\u001b[0m\u001b[0;36m1\u001b[0m\u001b[0;34m,\u001b[0m \u001b[0;36m1\u001b[0m\u001b[0;34m,\u001b[0m \u001b[0;36m1\u001b[0m \u001b[0;34m)\u001b[0m\u001b[0;34m.\u001b[0m\u001b[0mshape\u001b[0m\u001b[0;34m\u001b[0m\u001b[0m\n\u001b[0m",
      "\u001b[0;31mValueError\u001b[0m: can only specify one unknown dimension"
     ]
    }
   ],
   "source": [
    "M.reshape(1, -1, -1, 1, 1 ).shape"
   ]
  },
  {
   "cell_type": "markdown",
   "metadata": {},
   "source": [
    "This will work:"
   ]
  },
  {
   "cell_type": "code",
   "execution_count": 71,
   "metadata": {},
   "outputs": [
    {
     "data": {
      "text/plain": [
       "(1, 5, 5, 1, 1)"
      ]
     },
     "execution_count": 71,
     "metadata": {},
     "output_type": "execute_result"
    }
   ],
   "source": [
    "M.reshape(1, *M.shape, 1, 1 ).shape"
   ]
  },
  {
   "cell_type": "markdown",
   "metadata": {},
   "source": [
    "but doesn't it look a little bit clumsy?"
   ]
  },
  {
   "cell_type": "markdown",
   "metadata": {},
   "source": [
    " Adding several new dimensions is useful in ML when working with, for example, convolutional neural networks. Such frameworks as <b>Pytorch</b> allows to initialize its \"Tensors\" <a href=\"https://pytorch.org/docs/master/torch.html#torch.from_numpy\">from numpy arrays</a>, but often requires input in the form \"minibatch × in_channels × iW\" or \"minibatch × in_channels × iH × iW\" (<a href=\"https://pytorch.org/docs/master/nn.html#torch-nn-functional\" target=__blank>torch.nn.functional</a>). There, minibatch and in_channels can be equal to 1, but they must be  present. "
   ]
  },
  {
   "cell_type": "markdown",
   "metadata": {},
   "source": [
    "### 4. A quick note about matrix multiplication"
   ]
  },
  {
   "cell_type": "markdown",
   "metadata": {},
   "source": [
    "Of course, summing is not the only operation that can be applied to matrixes; a number of arithmetic operations can be used, along with several “universal functions”. The operation that I would like to pay some attention is multiplication, i.e. '*'. As other arithmetic operations, in NumPy it is applied elementwise:"
   ]
  },
  {
   "cell_type": "code",
   "execution_count": 10,
   "metadata": {},
   "outputs": [
    {
     "name": "stdout",
     "output_type": "stream",
     "text": [
      "A:\n",
      "[[2 2]\n",
      " [2 2]]\n",
      "\n",
      "B:\n",
      "[[3 3]\n",
      " [3 3]]\n",
      "\n",
      "A*B:\n",
      "[[6 6]\n",
      " [6 6]]\n"
     ]
    }
   ],
   "source": [
    "A = np.full((2, 2), 2)\n",
    "print(\"A:\")\n",
    "print(A)\n",
    "print()\n",
    "\n",
    "B = np.full((2, 2), 3)\n",
    "print(\"B:\")\n",
    "print(B)\n",
    "print()\n",
    "\n",
    "print(\"A*B:\")\n",
    "print(A*B)"
   ]
  },
  {
   "cell_type": "markdown",
   "metadata": {},
   "source": [
    "But when speaking about matrix multiplication, especially in linear algebra (and ML) another operation is often implied, the <i>matrix product</i>, that is defined this way (formula from <a href=\"https://en.wikipedia.org/wiki/Matrix_multiplication#Definition\" target=__blank>wikipedia</a>):"
   ]
  },
  {
   "cell_type": "markdown",
   "metadata": {},
   "source": [
    "$$ A = \\begin{pmatrix} a_{11}, a_{12} & \\cdots & a_{1m}\\\\a_{21}, a_{22} & \\cdots & a_{2m} \\\\ \\vdots & \\ddots & \\vdots \\\\ a_{n1}, a_{n2} & \\cdots & a_{nm} \\end{pmatrix},  B = \\begin{pmatrix} b_{11}, b_{12} & \\cdots & b_{1p}\\\\b_{21}, b_{22} & \\cdots & b_{2p} \\\\ \\vdots & \\ddots & \\vdots \\\\ b_{m1}, b_{m2} & \\cdots & b_{mp} \\end{pmatrix} $$\n",
    "Matrix product <b>C</b> = <b>AB</b>:\n",
    "$$C = \\begin{pmatrix} c_{11}, c_{12} & \\cdots & c_{1p} \\\\c_{21}, c_{22} & \\cdots & c_{2p} \\\\ \\vdots & \\ddots & \\vdots \\\\ c_{n1}, c_{n2} & \\cdots & c_{np} \\end{pmatrix} $$ \n",
    "$c_{ij} = a_{i1}b_{1j} + ... +  a_{im}b_{mj} = \\sum_{k=1}^{m} a_{ik}b_{kj}$"
   ]
  },
  {
   "cell_type": "markdown",
   "metadata": {},
   "source": [
    "The <i>numpy.dot()</i> function or \"@\" shortcut is used for this purpose in NumPy. That is unpleasant to confuse these two operations, especially when matrix broadcasting exists:"
   ]
  },
  {
   "cell_type": "code",
   "execution_count": 25,
   "metadata": {},
   "outputs": [
    {
     "name": "stdout",
     "output_type": "stream",
     "text": [
      "A:\n",
      "[[1 2 3]\n",
      " [4 5 6]\n",
      " [7 8 9]]\n",
      "\n",
      "B:\n",
      "[3 3 3]\n",
      "\n",
      "A*B:\n",
      "[[ 3  6  9]\n",
      " [12 15 18]\n",
      " [21 24 27]]\n",
      "\n",
      "A@B:\n",
      "[18 45 72]\n"
     ]
    }
   ],
   "source": [
    "A = np.arange(1, 10).reshape(3,3)\n",
    "print(\"A:\")\n",
    "print(A)\n",
    "print()\n",
    "\n",
    "B = np.full((3,), 3)\n",
    "print(\"B:\")\n",
    "print(B)\n",
    "print()\n",
    "\n",
    "print(\"A*B:\")\n",
    "print(A*B)\n",
    "\n",
    "print()\n",
    "print(\"A@B:\")\n",
    "print(A@B)"
   ]
  },
  {
   "cell_type": "markdown",
   "metadata": {},
   "source": [
    "So, be attentive :)"
   ]
  },
  {
   "cell_type": "markdown",
   "metadata": {},
   "source": [
    "### 5. No mess with np.meshgrid"
   ]
  },
  {
   "cell_type": "markdown",
   "metadata": {},
   "source": [
    "We used np.meshgrid function somewhere in the course, but without any explanations. That's pity in my opinion, as it is not so easy to grasp what it does from the NumPy <a href=\"https://docs.scipy.org/doc/numpy/reference/generated/numpy.meshgrid.html\" target=__blank>documentation</a>:\n",
    "<blockquote cite=\"https://docs.scipy.org/doc/numpy/reference/generated/numpy.meshgrid.html\">\n",
    "numpy.meshgrid(*xi, **kwargs)<br>\n",
    "\n",
    "Return coordinate matrices from coordinate vectors.<br>\n",
    "\n",
    "Make N-D coordinate arrays for vectorized evaluations of N-D scalar/vector fields over N-D grids, given one-dimensional coordinate arrays x1, x2,…, xn.\n",
    "</blockquote>"
   ]
  },
  {
   "cell_type": "markdown",
   "metadata": {},
   "source": [
    "Nevertheless, the first time I've saw its usage was in the <a href=\"https://towardsdatascience.com/convnets-series-spatial-transformer-networks-cff47565ae81\" target=__blank>article</a> about Spatial Transformer Networks, on the step with \"Identity meshgrid\" and \"Transformed meshgrid\". So, it can be a useful stuff. <br>\n",
    "Actually, this function just creates a set of grids with coordinates of x, y, etc. on the corresponding grid locations. "
   ]
  },
  {
   "cell_type": "code",
   "execution_count": 4,
   "metadata": {},
   "outputs": [
    {
     "name": "stdout",
     "output_type": "stream",
     "text": [
      "[[-1.  -0.5  0.   0.5  1. ]\n",
      " [-1.  -0.5  0.   0.5  1. ]\n",
      " [-1.  -0.5  0.   0.5  1. ]\n",
      " [-1.  -0.5  0.   0.5  1. ]\n",
      " [-1.  -0.5  0.   0.5  1. ]]\n",
      "\n",
      "[[-1.  -1.  -1.  -1.  -1. ]\n",
      " [-0.5 -0.5 -0.5 -0.5 -0.5]\n",
      " [ 0.   0.   0.   0.   0. ]\n",
      " [ 0.5  0.5  0.5  0.5  0.5]\n",
      " [ 1.   1.   1.   1.   1. ]]\n"
     ]
    },
    {
     "data": {
      "image/png": "[encoded data removed]",
      "text/plain": [
       "<Figure size 432x288 with 1 Axes>"
      ]
     },
     "metadata": {
      "needs_background": "light"
     },
     "output_type": "display_data"
    }
   ],
   "source": [
    "import matplotlib.pyplot as plt\n",
    "from matplotlib import cm\n",
    "\n",
    "xvalues = np.arange(-1, 1.05, 0.5)\n",
    "yvalues = np.arange(-1, 1.05, 0.5)\n",
    "\n",
    "xx, yy = np.meshgrid(xvalues, yvalues)\n",
    "print(xx)\n",
    "print()\n",
    "print(yy)\n",
    "grid = plt.plot(xx, yy, marker='.', color='k', linestyle='none')"
   ]
  },
  {
   "cell_type": "markdown",
   "metadata": {},
   "source": [
    "Then, those coordinate grids can be used to calculate values of multivariable functions, or to visualize something beautiful."
   ]
  },
  {
   "cell_type": "code",
   "execution_count": 5,
   "metadata": {},
   "outputs": [
    {
     "data": {
      "image/png": "[encoded data removed]",
      "text/plain": [
       "<Figure size 432x288 with 1 Axes>"
      ]
     },
     "metadata": {
      "needs_background": "light"
     },
     "output_type": "display_data"
    }
   ],
   "source": [
    "x = np.arange(-8, 8, 0.01)\n",
    "y = np.arange(-8, 8, 0.01)\n",
    "xx, yy = np.meshgrid(x, y, sparse=True)\n",
    "z = np.sin(xx**2 + yy**2) / (xx**2 + yy**2)\n",
    "\n",
    "h = plt.contourf(x,y,z, cmap=cm.PuBu_r)"
   ]
  },
  {
   "cell_type": "code",
   "execution_count": 111,
   "metadata": {},
   "outputs": [
    {
     "data": {
      "image/png": "[encoded data removed]",
      "text/plain": [
       "<Figure size 720x576 with 1 Axes>"
      ]
     },
     "metadata": {
      "needs_background": "light"
     },
     "output_type": "display_data"
    }
   ],
   "source": [
    "from mpl_toolkits.mplot3d import Axes3D\n",
    "\n",
    "fig = plt.figure(figsize=(10, 8))\n",
    "ax = fig.gca(projection='3d')\n",
    "ax.view_init(60, 35)\n",
    "\n",
    "# Make data.\n",
    "X = np.arange(-5, 5, 0.25)\n",
    "Y = np.arange(-5, 5, 0.25)\n",
    "X, Y = np.meshgrid(X, Y)\n",
    "R = np.sqrt(X**2 + Y**2)\n",
    "Z = np.sin(R)\n",
    "\n",
    "# Plot the surface.\n",
    "surf = ax.plot_surface(X, Y, Z, cmap=cm.coolwarm, linewidth=0, antialiased=False)"
   ]
  },
  {
   "cell_type": "markdown",
   "metadata": {},
   "source": [
    "### 6. Some interesting samples"
   ]
  },
  {
   "cell_type": "markdown",
   "metadata": {},
   "source": [
    "And lastly a few examples that shows how NumPy allows to write short and elegant code for computational and ML-related tasks."
   ]
  },
  {
   "cell_type": "markdown",
   "metadata": {},
   "source": [
    "#### 6.1 K-Nearest Neighbors"
   ]
  },
  {
   "cell_type": "markdown",
   "metadata": {},
   "source": [
    "There was a sample above, that counts distances from a single point to set of others. But if it is needed to find the closest points for each point in the set, that can be performed this way:"
   ]
  },
  {
   "cell_type": "code",
   "execution_count": 13,
   "metadata": {},
   "outputs": [
    {
     "data": {
      "image/png": "[encoded data removed]",
      "text/plain": [
       "<Figure size 432x288 with 1 Axes>"
      ]
     },
     "metadata": {},
     "output_type": "display_data"
    }
   ],
   "source": [
    "%matplotlib inline\n",
    "import matplotlib.pyplot as plt\n",
    "import seaborn; seaborn.set()\n",
    "\n",
    "rand = np.random.RandomState(42)\n",
    "X = rand.rand(10, 2)\n",
    "plt.scatter(X[:, 0], X[:, 1], s=100);"
   ]
  },
  {
   "cell_type": "code",
   "execution_count": 14,
   "metadata": {},
   "outputs": [],
   "source": [
    " dist_sq = np.sum((X[:, np.newaxis, :] - X[np.newaxis, :, :]) ** 2, axis=-1)"
   ]
  },
  {
   "cell_type": "markdown",
   "metadata": {},
   "source": [
    "Here, adding newaxis allows to convert the X matrix with shape (10, 2) into two matrices (10, 1, 2) and (1, 10, 2), that have ten 2D-points in rows and cols correspondingly; then, the broadcasting allows to calculate difference between coordinates of points on the i-th row and j-th column; then square and sum operations give squared euclidean distance between those points. <br>\n",
    "The dist_qs matrix has zeros on its diagonal, that proves calculation correctness. Distance between ii element is distance between i-th point and itself; that is zero."
   ]
  },
  {
   "cell_type": "code",
   "execution_count": 15,
   "metadata": {},
   "outputs": [
    {
     "data": {
      "text/plain": [
       "array([0., 0., 0., 0., 0., 0., 0., 0., 0., 0.])"
      ]
     },
     "execution_count": 15,
     "metadata": {},
     "output_type": "execute_result"
    }
   ],
   "source": [
    "dist_sq.diagonal()"
   ]
  },
  {
   "cell_type": "markdown",
   "metadata": {},
   "source": [
    "Then <i>np.argsort</i> function allows to sort elements in the each row and print indexes of other points in the order of their remoteness from the i-th point:"
   ]
  },
  {
   "cell_type": "code",
   "execution_count": 16,
   "metadata": {},
   "outputs": [
    {
     "name": "stdout",
     "output_type": "stream",
     "text": [
      "[[0 3 4 5 8 1 9 7 2 6]\n",
      " [1 4 6 9 8 0 7 3 2 5]\n",
      " [2 7 9 8 6 4 3 1 0 5]\n",
      " [3 5 0 8 4 9 7 2 1 6]\n",
      " [4 1 0 8 9 6 3 5 7 2]\n",
      " [5 3 0 8 4 9 1 7 2 6]\n",
      " [6 1 9 4 8 7 2 0 3 5]\n",
      " [7 2 9 8 6 4 1 3 0 5]\n",
      " [8 9 4 7 2 3 0 1 5 6]\n",
      " [9 8 7 2 6 1 4 0 3 5]]\n"
     ]
    }
   ],
   "source": [
    "nearests = np.argsort(dist_sq, axis=1)\n",
    "print(nearests)"
   ]
  },
  {
   "cell_type": "markdown",
   "metadata": {},
   "source": [
    "If only K nearest points (unsorted) are needed, the <i>np.argpartition</i> function allows to take them only, without sorting the whole rows: "
   ]
  },
  {
   "cell_type": "code",
   "execution_count": 17,
   "metadata": {},
   "outputs": [
    {
     "name": "stdout",
     "output_type": "stream",
     "text": [
      "[[3 0 4]\n",
      " [1 4 6]\n",
      " [2 7 9]\n",
      " [3 5 0]\n",
      " [1 4 0]\n",
      " [5 3 0]\n",
      " [1 9 6]\n",
      " [7 2 9]\n",
      " [8 9 4]\n",
      " [8 7 9]]\n"
     ]
    }
   ],
   "source": [
    "K = 2\n",
    "nearest_partition = np.argpartition(dist_sq, K + 1, axis=1)\n",
    "print(nearest_partition[:, :K+1])"
   ]
  },
  {
   "cell_type": "markdown",
   "metadata": {},
   "source": [
    "That can be visualized:"
   ]
  },
  {
   "cell_type": "code",
   "execution_count": 18,
   "metadata": {},
   "outputs": [
    {
     "data": {
      "image/png": "[encoded data removed]",
      "text/plain": [
       "<Figure size 432x288 with 1 Axes>"
      ]
     },
     "metadata": {},
     "output_type": "display_data"
    }
   ],
   "source": [
    "cmap = plt.get_cmap('viridis')\n",
    "colors = cmap(np.linspace(0, 1, 10))\n",
    "plt.scatter(X[:, 0], X[:, 1], s=150, color=colors)\n",
    "\n",
    "# draw lines from each point to its two nearest neighbors\n",
    "K = 2\n",
    "\n",
    "for i in range(X.shape[0]):\n",
    "    for j in nearest_partition[i, :K+1]:\n",
    "        # plot a line from X[i] to X[j]\n",
    "        # the lines colors correspond to outgoing point color, but some lines obviously overlap\n",
    "        # using some zip magic:\n",
    "        plt.plot(*zip(X[j], X[i]), c=colors[i])"
   ]
  },
  {
   "cell_type": "markdown",
   "metadata": {},
   "source": [
    "#### 6.2 Conway's Game of Life"
   ]
  },
  {
   "cell_type": "markdown",
   "metadata": {},
   "source": [
    "The <a href=\"https://en.wikipedia.org/wiki/Conway%27s_Game_of_Life\" target=__blank>Conway's Game of Life</a> is a classical model of cellular automaton model and a zero-player game. Given an initial state, it starts to live its own life by applying the following rules on each step:<ul>\n",
    "<li>Each cell on a 2D grid is \"alive\"(1) or \"dead\"(0)</li>\n",
    "<li>Any living cell that has 2 or 3 neighbors survives, else it dies [0,1 or 4+ neighbors]</li>\n",
    "<li>Any cell with exactly 3 neighbors becomes alive (if it was dead)</li></ul>"
   ]
  },
  {
   "cell_type": "markdown",
   "metadata": {},
   "source": [
    "What it takes to implement this game using NumPy arrays? It's tricky, but not so long:"
   ]
  },
  {
   "cell_type": "code",
   "execution_count": 6,
   "metadata": {},
   "outputs": [],
   "source": [
    "def iterate(Z):\n",
    "    # Count neighbours\n",
    "    N = (Z[0:-2,0:-2] + Z[0:-2,1:-1] + Z[0:-2,2:] +\n",
    "         Z[1:-1,0:-2]                + Z[1:-1,2:] +\n",
    "         Z[2:  ,0:-2] + Z[2:  ,1:-1] + Z[2:  ,2:])\n",
    "\n",
    "    # Apply rules\n",
    "    birth = (N==3) & (Z[1:-1,1:-1]==0)\n",
    "    survive = ((N==2) | (N==3)) & (Z[1:-1,1:-1]==1)\n",
    "    Z[...] = 0\n",
    "    Z[1:-1,1:-1][birth | survive] = 1\n",
    "    return Z"
   ]
  },
  {
   "cell_type": "markdown",
   "metadata": {},
   "source": [
    "<p>First, it slices original matrix with 0, 1 and 2 vertical strides, thus getting matrices with \"middle\" rows, rows shifted by -1 from the \"middle\" ones, and rows shifted by +1. The similar action is performed with the columns. Combining this steps in different directions creates 8 shifted matrices; their elementwise sum gives amount of \"alive\" neighbors for every element of N matrix.</p>\n",
    "<p>Then, by applying game rules to the N and Z matrices the boolean mask matrices \"birth\" and \"survive\" can be calculated. After that, NumPy boolean indexing allows to set to \"1\" only those cells that were born or had survived.</p>"
   ]
  },
  {
   "cell_type": "markdown",
   "metadata": {},
   "source": [
    "The folowing code allows to animate the game process when running the notebook. Hopping, nbviewer will show at least a resulting picture :)"
   ]
  },
  {
   "cell_type": "code",
   "execution_count": 7,
   "metadata": {},
   "outputs": [
    {
     "data": {
      "application/javascript": [
       "/* Put everything inside the global mpl namespace */\n",
       "window.mpl = {};\n",
       "\n",
       "\n",
       "mpl.get_websocket_type = function() {\n",
       "    if (typeof(WebSocket) !== 'undefined') {\n",
       "        return WebSocket;\n",
       "    } else if (typeof(MozWebSocket) !== 'undefined') {\n",
       "        return MozWebSocket;\n",
       "    } else {\n",
       "        alert('Your browser does not have WebSocket support.' +\n",
       "              'Please try Chrome, Safari or Firefox ≥ 6. ' +\n",
       "              'Firefox 4 and 5 are also supported but you ' +\n",
       "              'have to enable WebSockets in about:config.');\n",
       "    };\n",
       "}\n",
       "\n",
       "mpl.figure = function(figure_id, websocket, ondownload, parent_element) {\n",
       "    this.id = figure_id;\n",
       "\n",
       "    this.ws = websocket;\n",
       "\n",
       "    this.supports_binary = (this.ws.binaryType != undefined);\n",
       "\n",
       "    if (!this.supports_binary) {\n",
       "        var warnings = document.getElementById(\"mpl-warnings\");\n",
       "        if (warnings) {\n",
       "            warnings.style.display = 'block';\n",
       "            warnings.textContent = (\n",
       "                \"This browser does not support binary websocket messages. \" +\n",
       "                    \"Performance may be slow.\");\n",
       "        }\n",
       "    }\n",
       "\n",
       "    this.imageObj = new Image();\n",
       "\n",
       "    this.context = undefined;\n",
       "    this.message = undefined;\n",
       "    this.canvas = undefined;\n",
       "    this.rubberband_canvas = undefined;\n",
       "    this.rubberband_context = undefined;\n",
       "    this.format_dropdown = undefined;\n",
       "\n",
       "    this.image_mode = 'full';\n",
       "\n",
       "    this.root = $('<div/>');\n",
       "    this._root_extra_style(this.root)\n",
       "    this.root.attr('style', 'display: inline-block');\n",
       "\n",
       "    $(parent_element).append(this.root);\n",
       "\n",
       "    this._init_header(this);\n",
       "    this._init_canvas(this);\n",
       "    this._init_toolbar(this);\n",
       "\n",
       "    var fig = this;\n",
       "\n",
       "    this.waiting = false;\n",
       "\n",
       "    this.ws.onopen =  function () {\n",
       "            fig.send_message(\"supports_binary\", {value: fig.supports_binary});\n",
       "            fig.send_message(\"send_image_mode\", {});\n",
       "            if (mpl.ratio != 1) {\n",
       "                fig.send_message(\"set_dpi_ratio\", {'dpi_ratio': mpl.ratio});\n",
       "            }\n",
       "            fig.send_message(\"refresh\", {});\n",
       "        }\n",
       "\n",
       "    this.imageObj.onload = function() {\n",
       "            if (fig.image_mode == 'full') {\n",
       "                // Full images could contain transparency (where diff images\n",
       "                // almost always do), so we need to clear the canvas so that\n",
       "                // there is no ghosting.\n",
       "                fig.context.clearRect(0, 0, fig.canvas.width, fig.canvas.height);\n",
       "            }\n",
       "            fig.context.drawImage(fig.imageObj, 0, 0);\n",
       "        };\n",
       "\n",
       "    this.imageObj.onunload = function() {\n",
       "        fig.ws.close();\n",
       "    }\n",
       "\n",
       "    this.ws.onmessage = this._make_on_message_function(this);\n",
       "\n",
       "    this.ondownload = ondownload;\n",
       "}\n",
       "\n",
       "mpl.figure.prototype._init_header = function() {\n",
       "    var titlebar = $(\n",
       "        '<div class=\"ui-dialog-titlebar ui-widget-header ui-corner-all ' +\n",
       "        'ui-helper-clearfix\"/>');\n",
       "    var titletext = $(\n",
       "        '<div class=\"ui-dialog-title\" style=\"width: 100%; ' +\n",
       "        'text-align: center; padding: 3px;\"/>');\n",
       "    titlebar.append(titletext)\n",
       "    this.root.append(titlebar);\n",
       "    this.header = titletext[0];\n",
       "}\n",
       "\n",
       "\n",
       "\n",
       "mpl.figure.prototype._canvas_extra_style = function(canvas_div) {\n",
       "\n",
       "}\n",
       "\n",
       "\n",
       "mpl.figure.prototype._root_extra_style = function(canvas_div) {\n",
       "\n",
       "}\n",
       "\n",
       "mpl.figure.prototype._init_canvas = function() {\n",
       "    var fig = this;\n",
       "\n",
       "    var canvas_div = $('<div/>');\n",
       "\n",
       "    canvas_div.attr('style', 'position: relative; clear: both; outline: 0');\n",
       "\n",
       "    function canvas_keyboard_event(event) {\n",
       "        return fig.key_event(event, event['data']);\n",
       "    }\n",
       "\n",
       "    canvas_div.keydown('key_press', canvas_keyboard_event);\n",
       "    canvas_div.keyup('key_release', canvas_keyboard_event);\n",
       "    this.canvas_div = canvas_div\n",
       "    this._canvas_extra_style(canvas_div)\n",
       "    this.root.append(canvas_div);\n",
       "\n",
       "    var canvas = $('<canvas/>');\n",
       "    canvas.addClass('mpl-canvas');\n",
       "    canvas.attr('style', \"left: 0; top: 0; z-index: 0; outline: 0\")\n",
       "\n",
       "    this.canvas = canvas[0];\n",
       "    this.context = canvas[0].getContext(\"2d\");\n",
       "\n",
       "    var backingStore = this.context.backingStorePixelRatio ||\n",
       "\tthis.context.webkitBackingStorePixelRatio ||\n",
       "\tthis.context.mozBackingStorePixelRatio ||\n",
       "\tthis.context.msBackingStorePixelRatio ||\n",
       "\tthis.context.oBackingStorePixelRatio ||\n",
       "\tthis.context.backingStorePixelRatio || 1;\n",
       "\n",
       "    mpl.ratio = (window.devicePixelRatio || 1) / backingStore;\n",
       "\n",
       "    var rubberband = $('<canvas/>');\n",
       "    rubberband.attr('style', \"position: absolute; left: 0; top: 0; z-index: 1;\")\n",
       "\n",
       "    var pass_mouse_events = true;\n",
       "\n",
       "    canvas_div.resizable({\n",
       "        start: function(event, ui) {\n",
       "            pass_mouse_events = false;\n",
       "        },\n",
       "        resize: function(event, ui) {\n",
       "            fig.request_resize(ui.size.width, ui.size.height);\n",
       "        },\n",
       "        stop: function(event, ui) {\n",
       "            pass_mouse_events = true;\n",
       "            fig.request_resize(ui.size.width, ui.size.height);\n",
       "        },\n",
       "    });\n",
       "\n",
       "    function mouse_event_fn(event) {\n",
       "        if (pass_mouse_events)\n",
       "            return fig.mouse_event(event, event['data']);\n",
       "    }\n",
       "\n",
       "    rubberband.mousedown('button_press', mouse_event_fn);\n",
       "    rubberband.mouseup('button_release', mouse_event_fn);\n",
       "    // Throttle sequential mouse events to 1 every 20ms.\n",
       "    rubberband.mousemove('motion_notify', mouse_event_fn);\n",
       "\n",
       "    rubberband.mouseenter('figure_enter', mouse_event_fn);\n",
       "    rubberband.mouseleave('figure_leave', mouse_event_fn);\n",
       "\n",
       "    canvas_div.on(\"wheel\", function (event) {\n",
       "        event = event.originalEvent;\n",
       "        event['data'] = 'scroll'\n",
       "        if (event.deltaY < 0) {\n",
       "            event.step = 1;\n",
       "        } else {\n",
       "            event.step = -1;\n",
       "        }\n",
       "        mouse_event_fn(event);\n",
       "    });\n",
       "\n",
       "    canvas_div.append(canvas);\n",
       "    canvas_div.append(rubberband);\n",
       "\n",
       "    this.rubberband = rubberband;\n",
       "    this.rubberband_canvas = rubberband[0];\n",
       "    this.rubberband_context = rubberband[0].getContext(\"2d\");\n",
       "    this.rubberband_context.strokeStyle = \"#000000\";\n",
       "\n",
       "    this._resize_canvas = function(width, height) {\n",
       "        // Keep the size of the canvas, canvas container, and rubber band\n",
       "        // canvas in synch.\n",
       "        canvas_div.css('width', width)\n",
       "        canvas_div.css('height', height)\n",
       "\n",
       "        canvas.attr('width', width * mpl.ratio);\n",
       "        canvas.attr('height', height * mpl.ratio);\n",
       "        canvas.attr('style', 'width: ' + width + 'px; height: ' + height + 'px;');\n",
       "\n",
       "        rubberband.attr('width', width);\n",
       "        rubberband.attr('height', height);\n",
       "    }\n",
       "\n",
       "    // Set the figure to an initial 600x600px, this will subsequently be updated\n",
       "    // upon first draw.\n",
       "    this._resize_canvas(600, 600);\n",
       "\n",
       "    // Disable right mouse context menu.\n",
       "    $(this.rubberband_canvas).bind(\"contextmenu\",function(e){\n",
       "        return false;\n",
       "    });\n",
       "\n",
       "    function set_focus () {\n",
       "        canvas.focus();\n",
       "        canvas_div.focus();\n",
       "    }\n",
       "\n",
       "    window.setTimeout(set_focus, 100);\n",
       "}\n",
       "\n",
       "mpl.figure.prototype._init_toolbar = function() {\n",
       "    var fig = this;\n",
       "\n",
       "    var nav_element = $('<div/>')\n",
       "    nav_element.attr('style', 'width: 100%');\n",
       "    this.root.append(nav_element);\n",
       "\n",
       "    // Define a callback function for later on.\n",
       "    function toolbar_event(event) {\n",
       "        return fig.toolbar_button_onclick(event['data']);\n",
       "    }\n",
       "    function toolbar_mouse_event(event) {\n",
       "        return fig.toolbar_button_onmouseover(event['data']);\n",
       "    }\n",
       "\n",
       "    for(var toolbar_ind in mpl.toolbar_items) {\n",
       "        var name = mpl.toolbar_items[toolbar_ind][0];\n",
       "        var tooltip = mpl.toolbar_items[toolbar_ind][1];\n",
       "        var image = mpl.toolbar_items[toolbar_ind][2];\n",
       "        var method_name = mpl.toolbar_items[toolbar_ind][3];\n",
       "\n",
       "        if (!name) {\n",
       "            // put a spacer in here.\n",
       "            continue;\n",
       "        }\n",
       "        var button = $('<button/>');\n",
       "        button.addClass('ui-button ui-widget ui-state-default ui-corner-all ' +\n",
       "                        'ui-button-icon-only');\n",
       "        button.attr('role', 'button');\n",
       "        button.attr('aria-disabled', 'false');\n",
       "        button.click(method_name, toolbar_event);\n",
       "        button.mouseover(tooltip, toolbar_mouse_event);\n",
       "\n",
       "        var icon_img = $('<span/>');\n",
       "        icon_img.addClass('ui-button-icon-primary ui-icon');\n",
       "        icon_img.addClass(image);\n",
       "        icon_img.addClass('ui-corner-all');\n",
       "\n",
       "        var tooltip_span = $('<span/>');\n",
       "        tooltip_span.addClass('ui-button-text');\n",
       "        tooltip_span.html(tooltip);\n",
       "\n",
       "        button.append(icon_img);\n",
       "        button.append(tooltip_span);\n",
       "\n",
       "        nav_element.append(button);\n",
       "    }\n",
       "\n",
       "    var fmt_picker_span = $('<span/>');\n",
       "\n",
       "    var fmt_picker = $('<select/>');\n",
       "    fmt_picker.addClass('mpl-toolbar-option ui-widget ui-widget-content');\n",
       "    fmt_picker_span.append(fmt_picker);\n",
       "    nav_element.append(fmt_picker_span);\n",
       "    this.format_dropdown = fmt_picker[0];\n",
       "\n",
       "    for (var ind in mpl.extensions) {\n",
       "        var fmt = mpl.extensions[ind];\n",
       "        var option = $(\n",
       "            '<option/>', {selected: fmt === mpl.default_extension}).html(fmt);\n",
       "        fmt_picker.append(option)\n",
       "    }\n",
       "\n",
       "    // Add hover states to the ui-buttons\n",
       "    $( \".ui-button\" ).hover(\n",
       "        function() { $(this).addClass(\"ui-state-hover\");},\n",
       "        function() { $(this).removeClass(\"ui-state-hover\");}\n",
       "    );\n",
       "\n",
       "    var status_bar = $('<span class=\"mpl-message\"/>');\n",
       "    nav_element.append(status_bar);\n",
       "    this.message = status_bar[0];\n",
       "}\n",
       "\n",
       "mpl.figure.prototype.request_resize = function(x_pixels, y_pixels) {\n",
       "    // Request matplotlib to resize the figure. Matplotlib will then trigger a resize in the client,\n",
       "    // which will in turn request a refresh of the image.\n",
       "    this.send_message('resize', {'width': x_pixels, 'height': y_pixels});\n",
       "}\n",
       "\n",
       "mpl.figure.prototype.send_message = function(type, properties) {\n",
       "    properties['type'] = type;\n",
       "    properties['figure_id'] = this.id;\n",
       "    this.ws.send(JSON.stringify(properties));\n",
       "}\n",
       "\n",
       "mpl.figure.prototype.send_draw_message = function() {\n",
       "    if (!this.waiting) {\n",
       "        this.waiting = true;\n",
       "        this.ws.send(JSON.stringify({type: \"draw\", figure_id: this.id}));\n",
       "    }\n",
       "}\n",
       "\n",
       "\n",
       "mpl.figure.prototype.handle_save = function(fig, msg) {\n",
       "    var format_dropdown = fig.format_dropdown;\n",
       "    var format = format_dropdown.options[format_dropdown.selectedIndex].value;\n",
       "    fig.ondownload(fig, format);\n",
       "}\n",
       "\n",
       "\n",
       "mpl.figure.prototype.handle_resize = function(fig, msg) {\n",
       "    var size = msg['size'];\n",
       "    if (size[0] != fig.canvas.width || size[1] != fig.canvas.height) {\n",
       "        fig._resize_canvas(size[0], size[1]);\n",
       "        fig.send_message(\"refresh\", {});\n",
       "    };\n",
       "}\n",
       "\n",
       "mpl.figure.prototype.handle_rubberband = function(fig, msg) {\n",
       "    var x0 = msg['x0'] / mpl.ratio;\n",
       "    var y0 = (fig.canvas.height - msg['y0']) / mpl.ratio;\n",
       "    var x1 = msg['x1'] / mpl.ratio;\n",
       "    var y1 = (fig.canvas.height - msg['y1']) / mpl.ratio;\n",
       "    x0 = Math.floor(x0) + 0.5;\n",
       "    y0 = Math.floor(y0) + 0.5;\n",
       "    x1 = Math.floor(x1) + 0.5;\n",
       "    y1 = Math.floor(y1) + 0.5;\n",
       "    var min_x = Math.min(x0, x1);\n",
       "    var min_y = Math.min(y0, y1);\n",
       "    var width = Math.abs(x1 - x0);\n",
       "    var height = Math.abs(y1 - y0);\n",
       "\n",
       "    fig.rubberband_context.clearRect(\n",
       "        0, 0, fig.canvas.width, fig.canvas.height);\n",
       "\n",
       "    fig.rubberband_context.strokeRect(min_x, min_y, width, height);\n",
       "}\n",
       "\n",
       "mpl.figure.prototype.handle_figure_label = function(fig, msg) {\n",
       "    // Updates the figure title.\n",
       "    fig.header.textContent = msg['label'];\n",
       "}\n",
       "\n",
       "mpl.figure.prototype.handle_cursor = function(fig, msg) {\n",
       "    var cursor = msg['cursor'];\n",
       "    switch(cursor)\n",
       "    {\n",
       "    case 0:\n",
       "        cursor = 'pointer';\n",
       "        break;\n",
       "    case 1:\n",
       "        cursor = 'default';\n",
       "        break;\n",
       "    case 2:\n",
       "        cursor = 'crosshair';\n",
       "        break;\n",
       "    case 3:\n",
       "        cursor = 'move';\n",
       "        break;\n",
       "    }\n",
       "    fig.rubberband_canvas.style.cursor = cursor;\n",
       "}\n",
       "\n",
       "mpl.figure.prototype.handle_message = function(fig, msg) {\n",
       "    fig.message.textContent = msg['message'];\n",
       "}\n",
       "\n",
       "mpl.figure.prototype.handle_draw = function(fig, msg) {\n",
       "    // Request the server to send over a new figure.\n",
       "    fig.send_draw_message();\n",
       "}\n",
       "\n",
       "mpl.figure.prototype.handle_image_mode = function(fig, msg) {\n",
       "    fig.image_mode = msg['mode'];\n",
       "}\n",
       "\n",
       "mpl.figure.prototype.updated_canvas_event = function() {\n",
       "    // Called whenever the canvas gets updated.\n",
       "    this.send_message(\"ack\", {});\n",
       "}\n",
       "\n",
       "// A function to construct a web socket function for onmessage handling.\n",
       "// Called in the figure constructor.\n",
       "mpl.figure.prototype._make_on_message_function = function(fig) {\n",
       "    return function socket_on_message(evt) {\n",
       "        if (evt.data instanceof Blob) {\n",
       "            /* FIXME: We get \"Resource interpreted as Image but\n",
       "             * transferred with MIME type text/plain:\" errors on\n",
       "             * Chrome.  But how to set the MIME type?  It doesn't seem\n",
       "             * to be part of the websocket stream */\n",
       "            evt.data.type = \"image/png\";\n",
       "\n",
       "            /* Free the memory for the previous frames */\n",
       "            if (fig.imageObj.src) {\n",
       "                (window.URL || window.webkitURL).revokeObjectURL(\n",
       "                    fig.imageObj.src);\n",
       "            }\n",
       "\n",
       "            fig.imageObj.src = (window.URL || window.webkitURL).createObjectURL(\n",
       "                evt.data);\n",
       "            fig.updated_canvas_event();\n",
       "            fig.waiting = false;\n",
       "            return;\n",
       "        }\n",
       "        else if (typeof evt.data === 'string' && evt.data.slice(0, 21) == \"data:image/png;base64\") {\n",
       "            fig.imageObj.src = evt.data;\n",
       "            fig.updated_canvas_event();\n",
       "            fig.waiting = false;\n",
       "            return;\n",
       "        }\n",
       "\n",
       "        var msg = JSON.parse(evt.data);\n",
       "        var msg_type = msg['type'];\n",
       "\n",
       "        // Call the  \"handle_{type}\" callback, which takes\n",
       "        // the figure and JSON message as its only arguments.\n",
       "        try {\n",
       "            var callback = fig[\"handle_\" + msg_type];\n",
       "        } catch (e) {\n",
       "            console.log(\"No handler for the '\" + msg_type + \"' message type: \", msg);\n",
       "            return;\n",
       "        }\n",
       "\n",
       "        if (callback) {\n",
       "            try {\n",
       "                // console.log(\"Handling '\" + msg_type + \"' message: \", msg);\n",
       "                callback(fig, msg);\n",
       "            } catch (e) {\n",
       "                console.log(\"Exception inside the 'handler_\" + msg_type + \"' callback:\", e, e.stack, msg);\n",
       "            }\n",
       "        }\n",
       "    };\n",
       "}\n",
       "\n",
       "// from http://stackoverflow.com/questions/1114465/getting-mouse-location-in-canvas\n",
       "mpl.findpos = function(e) {\n",
       "    //this section is from http://www.quirksmode.org/js/events_properties.html\n",
       "    var targ;\n",
       "    if (!e)\n",
       "        e = window.event;\n",
       "    if (e.target)\n",
       "        targ = e.target;\n",
       "    else if (e.srcElement)\n",
       "        targ = e.srcElement;\n",
       "    if (targ.nodeType == 3) // defeat Safari bug\n",
       "        targ = targ.parentNode;\n",
       "\n",
       "    // jQuery normalizes the pageX and pageY\n",
       "    // pageX,Y are the mouse positions relative to the document\n",
       "    // offset() returns the position of the element relative to the document\n",
       "    var x = e.pageX - $(targ).offset().left;\n",
       "    var y = e.pageY - $(targ).offset().top;\n",
       "\n",
       "    return {\"x\": x, \"y\": y};\n",
       "};\n",
       "\n",
       "/*\n",
       " * return a copy of an object with only non-object keys\n",
       " * we need this to avoid circular references\n",
       " * http://stackoverflow.com/a/24161582/3208463\n",
       " */\n",
       "function simpleKeys (original) {\n",
       "  return Object.keys(original).reduce(function (obj, key) {\n",
       "    if (typeof original[key] !== 'object')\n",
       "        obj[key] = original[key]\n",
       "    return obj;\n",
       "  }, {});\n",
       "}\n",
       "\n",
       "mpl.figure.prototype.mouse_event = function(event, name) {\n",
       "    var canvas_pos = mpl.findpos(event)\n",
       "\n",
       "    if (name === 'button_press')\n",
       "    {\n",
       "        this.canvas.focus();\n",
       "        this.canvas_div.focus();\n",
       "    }\n",
       "\n",
       "    var x = canvas_pos.x * mpl.ratio;\n",
       "    var y = canvas_pos.y * mpl.ratio;\n",
       "\n",
       "    this.send_message(name, {x: x, y: y, button: event.button,\n",
       "                             step: event.step,\n",
       "                             guiEvent: simpleKeys(event)});\n",
       "\n",
       "    /* This prevents the web browser from automatically changing to\n",
       "     * the text insertion cursor when the button is pressed.  We want\n",
       "     * to control all of the cursor setting manually through the\n",
       "     * 'cursor' event from matplotlib */\n",
       "    event.preventDefault();\n",
       "    return false;\n",
       "}\n",
       "\n",
       "mpl.figure.prototype._key_event_extra = function(event, name) {\n",
       "    // Handle any extra behaviour associated with a key event\n",
       "}\n",
       "\n",
       "mpl.figure.prototype.key_event = function(event, name) {\n",
       "\n",
       "    // Prevent repeat events\n",
       "    if (name == 'key_press')\n",
       "    {\n",
       "        if (event.which === this._key)\n",
       "            return;\n",
       "        else\n",
       "            this._key = event.which;\n",
       "    }\n",
       "    if (name == 'key_release')\n",
       "        this._key = null;\n",
       "\n",
       "    var value = '';\n",
       "    if (event.ctrlKey && event.which != 17)\n",
       "        value += \"ctrl+\";\n",
       "    if (event.altKey && event.which != 18)\n",
       "        value += \"alt+\";\n",
       "    if (event.shiftKey && event.which != 16)\n",
       "        value += \"shift+\";\n",
       "\n",
       "    value += 'k';\n",
       "    value += event.which.toString();\n",
       "\n",
       "    this._key_event_extra(event, name);\n",
       "\n",
       "    this.send_message(name, {key: value,\n",
       "                             guiEvent: simpleKeys(event)});\n",
       "    return false;\n",
       "}\n",
       "\n",
       "mpl.figure.prototype.toolbar_button_onclick = function(name) {\n",
       "    if (name == 'download') {\n",
       "        this.handle_save(this, null);\n",
       "    } else {\n",
       "        this.send_message(\"toolbar_button\", {name: name});\n",
       "    }\n",
       "};\n",
       "\n",
       "mpl.figure.prototype.toolbar_button_onmouseover = function(tooltip) {\n",
       "    this.message.textContent = tooltip;\n",
       "};\n",
       "mpl.toolbar_items = [[\"Home\", \"Reset original view\", \"fa fa-home icon-home\", \"home\"], [\"Back\", \"Back to  previous view\", \"fa fa-arrow-left icon-arrow-left\", \"back\"], [\"Forward\", \"Forward to next view\", \"fa fa-arrow-right icon-arrow-right\", \"forward\"], [\"\", \"\", \"\", \"\"], [\"Pan\", \"Pan axes with left mouse, zoom with right\", \"fa fa-arrows icon-move\", \"pan\"], [\"Zoom\", \"Zoom to rectangle\", \"fa fa-square-o icon-check-empty\", \"zoom\"], [\"\", \"\", \"\", \"\"], [\"Download\", \"Download plot\", \"fa fa-floppy-o icon-save\", \"download\"]];\n",
       "\n",
       "mpl.extensions = [\"eps\", \"jpeg\", \"pdf\", \"png\", \"ps\", \"raw\", \"svg\", \"tif\"];\n",
       "\n",
       "mpl.default_extension = \"png\";var comm_websocket_adapter = function(comm) {\n",
       "    // Create a \"websocket\"-like object which calls the given IPython comm\n",
       "    // object with the appropriate methods. Currently this is a non binary\n",
       "    // socket, so there is still some room for performance tuning.\n",
       "    var ws = {};\n",
       "\n",
       "    ws.close = function() {\n",
       "        comm.close()\n",
       "    };\n",
       "    ws.send = function(m) {\n",
       "        //console.log('sending', m);\n",
       "        comm.send(m);\n",
       "    };\n",
       "    // Register the callback with on_msg.\n",
       "    comm.on_msg(function(msg) {\n",
       "        //console.log('receiving', msg['content']['data'], msg);\n",
       "        // Pass the mpl event to the overridden (by mpl) onmessage function.\n",
       "        ws.onmessage(msg['content']['data'])\n",
       "    });\n",
       "    return ws;\n",
       "}\n",
       "\n",
       "mpl.mpl_figure_comm = function(comm, msg) {\n",
       "    // This is the function which gets called when the mpl process\n",
       "    // starts-up an IPython Comm through the \"matplotlib\" channel.\n",
       "\n",
       "    var id = msg.content.data.id;\n",
       "    // Get hold of the div created by the display call when the Comm\n",
       "    // socket was opened in Python.\n",
       "    var element = $(\"#\" + id);\n",
       "    var ws_proxy = comm_websocket_adapter(comm)\n",
       "\n",
       "    function ondownload(figure, format) {\n",
       "        window.open(figure.imageObj.src);\n",
       "    }\n",
       "\n",
       "    var fig = new mpl.figure(id, ws_proxy,\n",
       "                           ondownload,\n",
       "                           element.get(0));\n",
       "\n",
       "    // Call onopen now - mpl needs it, as it is assuming we've passed it a real\n",
       "    // web socket which is closed, not our websocket->open comm proxy.\n",
       "    ws_proxy.onopen();\n",
       "\n",
       "    fig.parent_element = element.get(0);\n",
       "    fig.cell_info = mpl.find_output_cell(\"<div id='\" + id + \"'></div>\");\n",
       "    if (!fig.cell_info) {\n",
       "        console.error(\"Failed to find cell for figure\", id, fig);\n",
       "        return;\n",
       "    }\n",
       "\n",
       "    var output_index = fig.cell_info[2]\n",
       "    var cell = fig.cell_info[0];\n",
       "\n",
       "};\n",
       "\n",
       "mpl.figure.prototype.handle_close = function(fig, msg) {\n",
       "    var width = fig.canvas.width/mpl.ratio\n",
       "    fig.root.unbind('remove')\n",
       "\n",
       "    // Update the output cell to use the data from the current canvas.\n",
       "    fig.push_to_output();\n",
       "    var dataURL = fig.canvas.toDataURL();\n",
       "    // Re-enable the keyboard manager in IPython - without this line, in FF,\n",
       "    // the notebook keyboard shortcuts fail.\n",
       "    IPython.keyboard_manager.enable()\n",
       "    $(fig.parent_element).html('<img src=\"' + dataURL + '\" width=\"' + width + '\">');\n",
       "    fig.close_ws(fig, msg);\n",
       "}\n",
       "\n",
       "mpl.figure.prototype.close_ws = function(fig, msg){\n",
       "    fig.send_message('closing', msg);\n",
       "    // fig.ws.close()\n",
       "}\n",
       "\n",
       "mpl.figure.prototype.push_to_output = function(remove_interactive) {\n",
       "    // Turn the data on the canvas into data in the output cell.\n",
       "    var width = this.canvas.width/mpl.ratio\n",
       "    var dataURL = this.canvas.toDataURL();\n",
       "    this.cell_info[1]['text/html'] = '<img src=\"' + dataURL + '\" width=\"' + width + '\">';\n",
       "}\n",
       "\n",
       "mpl.figure.prototype.updated_canvas_event = function() {\n",
       "    // Tell IPython that the notebook contents must change.\n",
       "    IPython.notebook.set_dirty(true);\n",
       "    this.send_message(\"ack\", {});\n",
       "    var fig = this;\n",
       "    // Wait a second, then push the new image to the DOM so\n",
       "    // that it is saved nicely (might be nice to debounce this).\n",
       "    setTimeout(function () { fig.push_to_output() }, 1000);\n",
       "}\n",
       "\n",
       "mpl.figure.prototype._init_toolbar = function() {\n",
       "    var fig = this;\n",
       "\n",
       "    var nav_element = $('<div/>')\n",
       "    nav_element.attr('style', 'width: 100%');\n",
       "    this.root.append(nav_element);\n",
       "\n",
       "    // Define a callback function for later on.\n",
       "    function toolbar_event(event) {\n",
       "        return fig.toolbar_button_onclick(event['data']);\n",
       "    }\n",
       "    function toolbar_mouse_event(event) {\n",
       "        return fig.toolbar_button_onmouseover(event['data']);\n",
       "    }\n",
       "\n",
       "    for(var toolbar_ind in mpl.toolbar_items){\n",
       "        var name = mpl.toolbar_items[toolbar_ind][0];\n",
       "        var tooltip = mpl.toolbar_items[toolbar_ind][1];\n",
       "        var image = mpl.toolbar_items[toolbar_ind][2];\n",
       "        var method_name = mpl.toolbar_items[toolbar_ind][3];\n",
       "\n",
       "        if (!name) { continue; };\n",
       "\n",
       "        var button = $('<button class=\"btn btn-default\" href=\"#\" title=\"' + name + '\"><i class=\"fa ' + image + ' fa-lg\"></i></button>');\n",
       "        button.click(method_name, toolbar_event);\n",
       "        button.mouseover(tooltip, toolbar_mouse_event);\n",
       "        nav_element.append(button);\n",
       "    }\n",
       "\n",
       "    // Add the status bar.\n",
       "    var status_bar = $('<span class=\"mpl-message\" style=\"text-align:right; float: right;\"/>');\n",
       "    nav_element.append(status_bar);\n",
       "    this.message = status_bar[0];\n",
       "\n",
       "    // Add the close button to the window.\n",
       "    var buttongrp = $('<div class=\"btn-group inline pull-right\"></div>');\n",
       "    var button = $('<button class=\"btn btn-mini btn-primary\" href=\"#\" title=\"Stop Interaction\"><i class=\"fa fa-power-off icon-remove icon-large\"></i></button>');\n",
       "    button.click(function (evt) { fig.handle_close(fig, {}); } );\n",
       "    button.mouseover('Stop Interaction', toolbar_mouse_event);\n",
       "    buttongrp.append(button);\n",
       "    var titlebar = this.root.find($('.ui-dialog-titlebar'));\n",
       "    titlebar.prepend(buttongrp);\n",
       "}\n",
       "\n",
       "mpl.figure.prototype._root_extra_style = function(el){\n",
       "    var fig = this\n",
       "    el.on(\"remove\", function(){\n",
       "\tfig.close_ws(fig, {});\n",
       "    });\n",
       "}\n",
       "\n",
       "mpl.figure.prototype._canvas_extra_style = function(el){\n",
       "    // this is important to make the div 'focusable\n",
       "    el.attr('tabindex', 0)\n",
       "    // reach out to IPython and tell the keyboard manager to turn it's self\n",
       "    // off when our div gets focus\n",
       "\n",
       "    // location in version 3\n",
       "    if (IPython.notebook.keyboard_manager) {\n",
       "        IPython.notebook.keyboard_manager.register_events(el);\n",
       "    }\n",
       "    else {\n",
       "        // location in version 2\n",
       "        IPython.keyboard_manager.register_events(el);\n",
       "    }\n",
       "\n",
       "}\n",
       "\n",
       "mpl.figure.prototype._key_event_extra = function(event, name) {\n",
       "    var manager = IPython.notebook.keyboard_manager;\n",
       "    if (!manager)\n",
       "        manager = IPython.keyboard_manager;\n",
       "\n",
       "    // Check for shift+enter\n",
       "    if (event.shiftKey && event.which == 13) {\n",
       "        this.canvas_div.blur();\n",
       "        event.shiftKey = false;\n",
       "        // Send a \"J\" for go to next cell\n",
       "        event.which = 74;\n",
       "        event.keyCode = 74;\n",
       "        manager.command_mode();\n",
       "        manager.handle_keydown(event);\n",
       "    }\n",
       "}\n",
       "\n",
       "mpl.figure.prototype.handle_save = function(fig, msg) {\n",
       "    fig.ondownload(fig, null);\n",
       "}\n",
       "\n",
       "\n",
       "mpl.find_output_cell = function(html_output) {\n",
       "    // Return the cell and output element which can be found *uniquely* in the notebook.\n",
       "    // Note - this is a bit hacky, but it is done because the \"notebook_saving.Notebook\"\n",
       "    // IPython event is triggered only after the cells have been serialised, which for\n",
       "    // our purposes (turning an active figure into a static one), is too late.\n",
       "    var cells = IPython.notebook.get_cells();\n",
       "    var ncells = cells.length;\n",
       "    for (var i=0; i<ncells; i++) {\n",
       "        var cell = cells[i];\n",
       "        if (cell.cell_type === 'code'){\n",
       "            for (var j=0; j<cell.output_area.outputs.length; j++) {\n",
       "                var data = cell.output_area.outputs[j];\n",
       "                if (data.data) {\n",
       "                    // IPython >= 3 moved mimebundle to data attribute of output\n",
       "                    data = data.data;\n",
       "                }\n",
       "                if (data['text/html'] == html_output) {\n",
       "                    return [cell, data, j];\n",
       "                }\n",
       "            }\n",
       "        }\n",
       "    }\n",
       "}\n",
       "\n",
       "// Register the function which deals with the matplotlib target/channel.\n",
       "// The kernel may be null if the page has been refreshed.\n",
       "if (IPython.notebook.kernel != null) {\n",
       "    IPython.notebook.kernel.comm_manager.register_target('matplotlib', mpl.mpl_figure_comm);\n",
       "}\n"
      ],
      "text/plain": [
       "<IPython.core.display.Javascript object>"
      ]
     },
     "metadata": {},
     "output_type": "display_data"
    },
    {
     "data": {
      "text/html": [
       "<img src=\"data:image/png;base64,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\" width=\"640\">"
      ],
      "text/plain": [
       "<IPython.core.display.HTML object>"
      ]
     },
     "metadata": {},
     "output_type": "display_data"
    }
   ],
   "source": [
    "import matplotlib.pyplot as plt\n",
    "import numpy as np\n",
    "%matplotlib notebook\n",
    "plt.ion()\n",
    "\n",
    "#initialize game field\n",
    "Z = np.random.choice([0,1],size=(100,100))\n",
    "\n",
    "fig = plt.figure()\n",
    "ax = fig.add_subplot(111)\n",
    "fig.show()\n",
    "\n",
    "for _ in range(1000):    \n",
    "    #update\n",
    "    Z = iterate(Z)\n",
    "    \n",
    "    #re-draw image\n",
    "    ax.clear()\n",
    "    ax.imshow(Z,cmap='gray')\n",
    "    fig.canvas.draw()"
   ]
  },
  {
   "cell_type": "markdown",
   "metadata": {},
   "source": [
    "#### 6.3 Convolutional layers in Convolutional Neural Networks"
   ]
  },
  {
   "cell_type": "markdown",
   "metadata": {},
   "source": [
    "The topic above is quite close to the ML area, as the action performed there is similar to the principle of convolutional layers in Convolution Neural Networks (CNN).<br>\n",
    "When convolution is applied, for example to an image in computer vision, it takes the matrix with image pixels and  slides across it with small window called \"filter\" or \"kernel\". The kernel is just little (3x3, 5x5, 7x7 or smth. like this) weight matrix that contains numerical coefficients. Each of these coefficients has to be multiplied by the value of pixel that is currently under the corresponding kernel cell. Then, all such multiplied element are summed, giving the value of an element of the resulting map. After that, the kernel is moved by 1 or more strides horizontaly or verticaly, to the next group of pixels, and the next weighted sum is calculated.<br>\n",
    "This image illustrates the process of applying the filter and calculating an element of resulting map:"
   ]
  },
  {
   "cell_type": "markdown",
   "metadata": {},
   "source": [
    "<center>\n",
    "<img src=\"../../img/kseniia_convolution.png\" style=\"width: 600px;\" />"
   ]
  },
  {
   "cell_type": "markdown",
   "metadata": {},
   "source": [
    "In fact, the N matrix, calculating amount of cell's neighbors is similar convolution result, using a filter with wieght \"0\" for the middle element and \"1\" for all its neighbors.<br>"
   ]
  },
  {
   "cell_type": "code",
   "execution_count": 9,
   "metadata": {},
   "outputs": [],
   "source": [
    "filters = np.array([[1,1,1],\n",
    "                    [1,0,1],\n",
    "                    [1,1,1]])"
   ]
  },
  {
   "cell_type": "markdown",
   "metadata": {},
   "source": [
    "Neural networks usually offers such operation as a ready functionality (<a href=\"https://pytorch.org/docs/master/nn.html#torch-nn-functional\" target=__blank>Pytorch for example</a>). And even scipy model has such a <a href=\"https://docs.scipy.org/doc/scipy/reference/generated/scipy.signal.convolve2d.html\" target=__blank>function</a>. <br>\n",
    "Let's see if it indeed does the same thing:"
   ]
  },
  {
   "cell_type": "code",
   "execution_count": 22,
   "metadata": {},
   "outputs": [
    {
     "name": "stdout",
     "output_type": "stream",
     "text": [
      "Are N1 and N2 identical?\n",
      "True\n"
     ]
    }
   ],
   "source": [
    "from scipy import signal\n",
    "\n",
    "Z = np.random.choice([0,1],size=(10,10))\n",
    "\n",
    "N1 = (Z[0:-2,0:-2] + Z[0:-2,1:-1] + Z[0:-2,2:] +\n",
    "      Z[1:-1,0:-2]                + Z[1:-1,2:] +\n",
    "      Z[2:  ,0:-2] + Z[2:  ,1:-1] + Z[2:  ,2:]) \n",
    "\n",
    "N2 = signal.convolve2d(Z, filters, mode='valid')\n",
    "\n",
    "print(\"Are N1 and N2 identical?\")\n",
    "print(np.array_equal(N1, N2))"
   ]
  },
  {
   "cell_type": "markdown",
   "metadata": {},
   "source": [
    "That's all by this moment. Hopping, it was informative :)"
   ]
  },
  {
   "cell_type": "markdown",
   "metadata": {},
   "source": [
    "## References\n",
    "<ol>\n",
    "    <li><a href=\"http://shop.oreilly.com/product/0636920034919.do\" target=__blank>\"Python Data Science Handbook\"</a> by Jake VanderPlas</li><ul><li><a href=\"https://jakevdp.github.io/blog/2014/05/09/why-python-is-slow/\" target=__blank>\"Why Python is slow\"</a> article</li>\n",
    "        <li><a href=\"https://jakevdp.github.io/PythonDataScienceHandbook/02.05-computation-on-arrays-broadcasting.html\" target=__blanl>Computation on Arrays: Broadcasting</a></li>\n",
    "    <li><a href=\"https://jakevdp.github.io/PythonDataScienceHandbook/02.08-sorting.html#Example:-k-Nearest-Neighbors\" target=__blank>K-Nearest Neighbors sample</a></li>\n",
    "    </ul>\n",
    "    <li><a href=\"https://medium.com/@ian.dzindo01/what-is-numpy-newaxis-and-when-to-use-it-8cb61c7ed6ae\">What is numpy.newaxis and when to use it</a></li>\n",
    "    <li>NumPy documentation about <a href=\"https://docs.scipy.org/doc/numpy/reference/generated/numpy.dot.html\" target=__blank>numpy.dot</a>, <a href=\"https://docs.scipy.org/doc/numpy/reference/constants.html#numpy.newaxis\" target=__blank>numpy.newaxis</a>, <a href=\"https://docs.scipy.org/doc/numpy/reference/generated/numpy.meshgrid.html\" target=__blank>numpy.meshgrid</a></li>\n",
    "    <li><a href=\"https://matplotlib.org/examples/mplot3d/surface3d_demo.html\">Matplotlib 3d surface example</a></li>\n",
    "    <li>Exercise 88 from the <a href=\"https://github.com/rougier/numpy-100/blob/master/100_Numpy_exercises.ipynb\">100 NumPy exercises</a></li>\n",
    "<ol>"
   ]
  }
 ],
 "metadata": {
  "kernelspec": {
   "display_name": "Python 3",
   "language": "python",
   "name": "python3"
  },
  "language_info": {
   "codemirror_mode": {
    "name": "ipython",
    "version": 3
   },
   "file_extension": ".py",
   "mimetype": "text/x-python",
   "name": "python",
   "nbconvert_exporter": "python",
   "pygments_lexer": "ipython3",
   "version": "3.6.5"
  }
 },
 "nbformat": 4,
 "nbformat_minor": 2
}
