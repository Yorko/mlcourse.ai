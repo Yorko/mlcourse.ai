{
 "cells": [
  {
   "cell_type": "markdown",
   "metadata": {},
   "source": [
    "<center>\n",
    "<img src=\"../../img/ods_stickers.jpg\">\n",
    "## Open Machine Learning Course\n",
    "<center>Author: [Yury Kashnitsky](https://www.linkedin.com/in/festline). Translated and edited by Christina Butsko, Nerses Bagiyan, Yulia Klimushina, and [Yuanyuan Pao](https://www.linkedin.com/in/yuanyuanpao/).\n",
    "\n",
    "This material is subject to the terms and conditions of the license [Creative Commons CC BY-NC-SA 4.0](https://creativecommons.org/licenses/by-nc-sa/4.0/). Free use is permitted for any non-comercial purpose with an obligatory indication of the names of the authors and of the source."
   ]
  },
  {
   "cell_type": "markdown",
   "metadata": {},
   "source": [
    "# <center>Topic 4. Linear Classification and Regression\n",
    "## <center> Part 2. Linear Classification"
   ]
  },
  {
   "cell_type": "markdown",
   "metadata": {},
   "source": [
    "### Linear Classifier"
   ]
  },
  {
   "cell_type": "markdown",
   "metadata": {},
   "source": [
    "The basic idea behind the linear classifier is that the two values of the target class can be separated by a hyperplane in the feature space. If this can be done without error, the training set is called *linearly separable*.\n",
    "\n",
    "<img src=\"../../img/logit.png\">\n",
    "\n",
    "We have already seen linear regression and Ordinary Least Squares (OLS). Let's consider a binary classification problem, and denote target classes to be \"+1\" (positive examples) and \"-1\" (negative examples). One of the simplest linear classifiers can be defined using regression as follows:\n",
    "\n",
    "$$a(\\vec{x}) = sign(\\vec{w}^Tx),$$\n",
    "\n",
    "where\n",
    " - $\\vec{x}$ –  feature vector (along with identity);\n",
    " - $\\vec{w}$ – weights in the linear model (with bias $w_0$);\n",
    " - $sign(\\bullet)$ – the signum function that returns the sign of its argument;\n",
    " - $a(\\vec{x})$ – classifier response for $\\vec{x}$.\n",
    "\n"
   ]
  },
  {
   "cell_type": "markdown",
   "metadata": {},
   "source": [
    "### Logistic Regression as a Linear Classifier"
   ]
  },
  {
   "cell_type": "markdown",
   "metadata": {},
   "source": [
    "Logistic regression is a special case of the linear classifier, but it has an added benefit of predicting a probability $p_+$ of referring example $\\vec{x_i}$ to the class \"+\":\n",
    "$$p_+ = P\\left(y_i = 1 \\mid \\vec{x_i}, \\vec{w}\\right) $$\n",
    "\n",
    "Being able to predict not just a response ( \"+1\" or \"-1\") but the *probability* of assignment to class \"+1\" is a very important requirement in many business problems e.g. credit scoring where logistic regression is traditionally used. Customers who have applied for a loan are ranked based on this predicted probability (in descending order) to obtain a scoreboard that rates customers from bad to good. Below is an example of such a toy scoreboard.\n",
    "    <img src='../../img/toy_scorecard_eng.png' width=60%>\n",
    "\n",
    "The bank chooses a threshold $p_*$ to predict the probability of loan default (in the picture it's $0.15$) and stops approving loans starting from that value. Moreover, it is possible to multiply this predicted probability by the outstanding amount to get the expectation of losses from the client, which can also constitute good business metrics (scoring experts may have more to add, but the main gist is this).\n",
    "\n"
   ]
  },
  {
   "cell_type": "markdown",
   "metadata": {},
   "source": [
    "To predict the probability $p_+ \\in [0,1]$, we can start by constructing a linear prediction using OLS: $b(\\vec{x}) = \\vec{w}^T \\vec{x} \\in \\mathbb{R}$. But converting the resulting value to the probability within in the [0, 1] range requires some function $f: \\mathbb{R} \\rightarrow [0,1].$. Logistic regression uses a specific function for this: $\\sigma(z) = \\frac{1}{1 + \\exp^{-z}}$. Now let's understand what the prerequisites are."
   ]
  },
  {
   "cell_type": "code",
   "execution_count": 1,
   "metadata": {},
   "outputs": [],
   "source": [
    "%matplotlib inline\n",
    "from matplotlib import pyplot as plt\n",
    "import seaborn as sns\n",
    "import numpy as np"
   ]
  },
  {
   "cell_type": "code",
   "execution_count": 2,
   "metadata": {},
   "outputs": [],
   "source": [
    "def sigma(z):\n",
    "    return 1. / (1 + np.exp(-z))"
   ]
  },
  {
   "cell_type": "code",
   "execution_count": 3,
   "metadata": {},
   "outputs": [
    {
     "data": {
      "image/png": "[encoded data removed]",
      "text/plain": [
       "<matplotlib.figure.Figure at 0x11231b160>"
      ]
     },
     "metadata": {},
     "output_type": "display_data"
    }
   ],
   "source": [
    "xx = np.linspace(-10, 10, 1000)\n",
    "plt.plot(xx, [sigma(x) for x in xx]);\n",
    "plt.xlabel('z');\n",
    "plt.ylabel('sigmoid(z)')\n",
    "plt.title('Sigmoid function');"
   ]
  },
  {
   "cell_type": "markdown",
   "metadata": {},
   "source": [
    "Let's denote the probability of an event $X$ as $P(X)$. Then the odds ratio $OR(X)$ is determined by $\\frac{P(X)}{1-P(X)}$, which is the ratio of the probabilities of whether or not an event will happen. It is obvious that the probability and odds ratio contain the same information, but, while $P(X)$ ranges from 0 to 1, $OR(X)$ is in the range of 0 to $\\infty$.\n",
    "\n",
    "If we calculate the logarithm of $OR(X)$ (a logarithm of odds or log probability ratio), it is easy to notice that $\\log{OR(X)} \\in \\mathbb{R}$. This is what we will use with OLS.\n",
    "\n",
    "Let's see how logistic regression will make a prediction $p_+ = P\\left(y_i = 1 \\mid \\vec{x_i}, \\vec{w}\\right)$. (For now, let's assume that we have somehow obtained weights $\\vec{w}$ i.e. trained the model. Later, we'll look at how it is done.)\n",
    "\n",
    "**Step 1.** Calculate $w_{0}+w_{1}x_1 + w_{2}x_2 + ... = \\vec{w}^T\\vec{x}$. (Equation $\\vec{w}^T\\vec{x} = 0$ defines a hyperplane separating the examples into two classes);\n",
    "\n",
    "**Step 2.** Compute the log odds ratio: $ \\log(OR_{+}) = \\vec{w}^T\\vec{x}$.\n",
    "\n",
    "**Step 3.** Now that we have the chance of assigning an example to the class of \"+\" - $OR_{+}$, calculate $p_{+}$ using the simple relationship:\n",
    "\n",
    "$$\\large p_{+} = \\frac{OR_{+}}{1 + OR_{+}} = \\frac{\\exp^{\\vec{w}^T\\vec{x}}}{1 + \\exp^{\\vec{w}^T\\vec{x}}} = \\frac{1}{1 + \\exp^{-\\vec{w}^T\\vec{x}}} = \\sigma(\\vec{w}^T\\vec{x})$$\n",
    "\n",
    "On the right side, you can see that we have the sigmoid function.\n",
    "\n",
    "So, logistic regression predicts the probability of assigning an example to the \"+\" class (assuming that we know the features and weights of the model) as a sigmoid transformation of a linear combination of the weight vector and the feature vector:\n",
    "\n",
    "$$\\large p_+(x_i) = P\\left(y_i = 1 \\mid \\vec{x_i}, \\vec{w}\\right) = \\sigma(\\vec{w}^T\\vec{x_i}). $$\n",
    "\n",
    "Next, we will see how the model is trained. We will again rely on maximum likelihood estimation."
   ]
  },
  {
   "cell_type": "markdown",
   "metadata": {},
   "source": [
    "### Maximum Likelihood Estimation and Logistic Regression\n",
    "\n",
    "Now let's see how an optimization problem for logistic regression is obtained from the MLE, namely, minimization of the *logistic* loss function. We have just seen that logistic regression models the probability of assigning an example to the class \"+\" as:\n",
    "\n",
    "\n",
    "$$p_+(\\vec{x_i}) = P\\left(y_i = 1 \\mid \\vec{x_i}, \\vec{w}\\right) = \\sigma(\\vec{w}^T\\vec{x_i})$$\n",
    "\n",
    "Тhen, for the class \"-\", the corresponding expression is as follows:\n",
    "$$p_-(\\vec{x_i})  = P\\left(y_i = -1 \\mid \\vec{x_i}, \\vec{w}\\right)  = 1 - \\sigma(\\vec{w}^T\\vec{x_i}) = \\sigma(-\\vec{w}^T\\vec{x_i}) $$\n",
    "\n",
    "Both of these expressions can be cleverly combined into one (watch carefully, maybe you are being tricked):\n",
    "\n",
    "$$P\\left(y = y_i \\mid \\vec{x_i}, \\vec{w}\\right) = \\sigma(y_i\\vec{w}^T\\vec{x_i})$$\n",
    "\n",
    "The expression $M(\\vec{x_i}) = y_i\\vec{w}^T\\vec{x_i}$ is known as the margin of classification on the object $\\vec{x_i}$ (not to be confused with a gap, which is also called margin, in the SVM context). If it is non-negative, the model is correct in choosing the class of the object $\\vec{x_i}$; if it is negative, then the object $\\vec{x_i}$ is misclassified. Note that the margin is defined for objects in the training set only where real target class labels $y_i$ are known.\n",
    "\n",
    "To understand exactly why we have come to such a conclusion, let us turn to the geometrical interpretation of the linear classifier."
   ]
  },
  {
   "cell_type": "markdown",
   "metadata": {
    "collapsed": true
   },
   "source": [
    "First, I would recommend looking at a classic, introductory problem in linear algebra: find the distance from the point with a radius-vector $\\vec{x_A}$ to a plane defined by the equation $\\vec{w}^T\\vec{x} = 0.$\n",
    "\n",
    "\n",
    "<spoiler title='Answer'>\n",
    "$\\rho(\\vec{x_A}, \\vec{w}^T\\vec{x} = 0) = \\frac{\\vec{w}^T\\vec{x_A}}{||\\vec{w}||}$\n",
    "</spoiler>"
   ]
  },
  {
   "cell_type": "markdown",
   "metadata": {},
   "source": [
    "<img src = '../../img/simple_linal_task.png' width=60%>"
   ]
  },
  {
   "cell_type": "markdown",
   "metadata": {},
   "source": [
    "When we get to the answer, we will understand that the greater the absolute value of the expression $\\vec{w}^T\\vec{x_i}$, the farther the point $\\vec{x_i}$ is from the plane $\\vec{w}^T\\vec{x} = 0.$\n",
    "\n",
    "Hence, our expression $M(\\vec{x_i}) = y_i\\vec{w}^T\\vec{x_i}$ is a kind of \"confidence\" in our model's classification of the object $\\vec{x_i}$:\n",
    "\n",
    "- if the margin is large (in absolute value) and positive, the class label is set correctly, and the object is far away from the separating hyperplane i.e. classified confidently. See Point $x_3$ on the picture;\n",
    "- if the margin is large (in absolute value) and negative, then class label is set incorrectly, and the object is far from the separating hyperplane (the object is most likely an anomaly; for example, it could be improperly labeled in the training set). See Point $x_1$ on the picture;\n",
    "- if the margin is small (in absolute value), then the object is close to the separating hyperplane, and the margin sign determines whether the object is correctly classified. See Points $x_2$ and $x_4$ on the plot;"
   ]
  },
  {
   "cell_type": "markdown",
   "metadata": {},
   "source": [
    "<img src = '../../img/margin.png' width=60%>"
   ]
  },
  {
   "cell_type": "markdown",
   "metadata": {},
   "source": [
    "Let's now compute the likelihood of the data set i.e. the probability of observing the given vector $\\vec{y}$ from data set $X$. We'll make a strong assumption: objects come independently from one distribution (*i.i.d.*). Then, we can write\n",
    "\n",
    "$$P\\left(\\vec{y} \\mid X, \\vec{w}\\right) = \\prod_{i=1}^{\\ell} P\\left(y = y_i \\mid \\vec{x_i}, \\vec{w}\\right),$$\n",
    "\n",
    "where $\\ell$ is the length of data set $X$ (number of rows).\n",
    "\n",
    "As usual, let's take the logarithm of this expression because a sum is much easier to optimize than the product:\n",
    "\n",
    "$$\\log P\\left(\\vec{y} \\mid X, \\vec{w}\\right) = \\log \\sum_{i=1}^{\\ell} P\\left(y = y_i \\mid \\vec{x_i}, \\vec{w}\\right) = \\log \\prod_{i=1}^{\\ell} \\sigma(y_i\\vec{w}^T\\vec{x_i})   = $$\n",
    "\n",
    "$$ = \\sum_{i=1}^{\\ell} \\log \\sigma(y_i\\vec{w}^T\\vec{x_i}) = \\sum_{i=1}^{\\ell} \\log \\frac{1}{1 + \\exp^{-y_i\\vec{w}^T\\vec{x_i}}} = - \\sum_{i=1}^{\\ell} \\log (1 + \\exp^{-y_i\\vec{w}^T\\vec{x_i}})$$"
   ]
  },
  {
   "cell_type": "markdown",
   "metadata": {},
   "source": [
    "Maximizing the likelihood is equivalent to minimizing the expression:\n",
    "\n",
    "$$\\mathcal{L_{log}} (X, \\vec{y}, \\vec{w}) = \\sum_{i=1}^{\\ell} \\log (1 + \\exp^{-y_i\\vec{w}^T\\vec{x_i}}).$$\n",
    "\n",
    "This is *logistic* loss function that is summed over all objects in the training set.\n",
    "\n",
    "Let's look at the new function as a function of margin $L(M) = \\log (1 + \\exp^{-M})$ and plot it along with *zero-one loss* graph, which simply penalizes the model for error on each object by 1 (negative margin): $L_{1/0}(M) = [M < 0]$."
   ]
  },
  {
   "cell_type": "markdown",
   "metadata": {},
   "source": [
    "<img src = '../../img/logloss_margin.png' width=60%>"
   ]
  },
  {
   "cell_type": "markdown",
   "metadata": {},
   "source": [
    "The picture reflects the idea that, if we are not able to directly minimize the number of errors in the classification problem (at least not by gradient methods - derivative of the zero-one loss function at zero turns to infinity), we can minimize its upper bounds. For the logistic loss function (where the logarithm is binary, but this does not matter), the following is valid:\n",
    "\n",
    "$$\\mathcal{L_{1/0}} (X, \\vec{y}, \\vec{w}) = \\sum_{i=1}^{\\ell} [M(\\vec{x_i}) < 0] \\leq \\sum_{i=1}^{\\ell} \\log (1 + \\exp^{-y_i\\vec{w}^T\\vec{x_i}}) = \\mathcal{L_{log}} (X, \\vec{y}, \\vec{w}), $$\n",
    "\n",
    "where $\\mathcal{L_{1/0}} (X, \\vec{y})$ is simply the number of errors of logistic regression with weights $\\vec{w}$ on a data set $(X, \\vec{y})$.\n",
    "\n",
    "Thus, by reducing the upper bound of $\\mathcal{L_{log}}$ by the number of classification errors, we hope to reduce the number of errors itself."
   ]
  },
  {
   "cell_type": "markdown",
   "metadata": {},
   "source": [
    "### $L_2$-Regularization of Logistic Loss"
   ]
  },
  {
   "cell_type": "markdown",
   "metadata": {},
   "source": [
    "L2-regularization of logistic regression is almost the same as ridge regression. Instead of the function $\\mathcal{L_{log}} (X, \\vec{y}, \\vec{w})$ we minimize the following:\n",
    "\n",
    "$$\\large J(X, \\vec{y}, \\vec{w}) = \\mathcal{L_{log}} (X, \\vec{y}, \\vec{w}) + \\lambda |\\vec{w}|^2$$\n",
    "\n",
    "In the case of logistic regression, a reverse regularization coefficient $C = \\frac{1}{\\lambda}$ is typically introduced. Then the solution to the problem would be:\n",
    "\n",
    "$$\\hat{w}  = \\arg \\min_{\\vec{w}} J(X, \\vec{y}, \\vec{w}) =  \\arg \\min_{\\vec{w}}\\ (C\\sum_{i=1}^{\\ell} \\log (1 + \\exp^{-y_i\\vec{w}^T\\vec{x_i}})+ |\\vec{w}|^2)$$ \n",
    "\n",
    "Next, we'll look at an example that allows us to intuitively understand one of the interpretations of regularization."
   ]
  }
 ],
 "metadata": {
  "kernelspec": {
   "display_name": "Python 3",
   "language": "python",
   "name": "python3"
  },
  "language_info": {
   "codemirror_mode": {
    "name": "ipython",
    "version": 3
   },
   "file_extension": ".py",
   "mimetype": "text/x-python",
   "name": "python",
   "nbconvert_exporter": "python",
   "pygments_lexer": "ipython3",
   "version": "3.6.1"
  }
 },
 "nbformat": 4,
 "nbformat_minor": 2
}
