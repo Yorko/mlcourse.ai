{
  "cells": [
    {
      "metadata": {
        "_uuid": "8f2839f25d086af736a60e9eeb907d3b93b6e0e5",
        "_cell_guid": "b1076dfc-b9ad-4769-8c92-a6c4dae69d19",
        "trusted": true,
        "scrolled": true
      },
      "cell_type": "code",
      "source": "# This Python 3 environment comes with many helpful analytics libraries installed\n# It is defined by the kaggle/python docker image: https://github.com/kaggle/docker-python\n# For example, here's several helpful packages to load in \n\nimport numpy as np # linear algebra\nimport pandas as pd # data processing, CSV file I/O (e.g. pd.read_csv)\nimport matplotlib.pyplot as plt\nimport seaborn as sns\ncolor = sns.color_palette()\n\n%matplotlib inline\n\nfrom plotly import tools\nimport plotly.offline as py\npy.init_notebook_mode(connected=True)\nimport plotly.graph_objs as go\n\n\n\nfrom sklearn.model_selection import train_test_split\nfrom sklearn import metrics\n\nfrom keras.preprocessing.text import Tokenizer\nfrom keras.preprocessing.sequence import pad_sequences\n\nfrom sklearn.model_selection import cross_val_score\n\n# Input data files are available in the \"../input/\" directory.\n# For example, running this (by clicking run or pressing Shift+Enter) will list the files in the input directory\nimport os\nimport time\nimport numpy as np # linear algebra\nimport pandas as pd # data processing, CSV file I/O (e.g. pd.read_csv)\nfrom tqdm import tqdm\nimport math\nfrom sklearn.model_selection import train_test_split\nfrom sklearn import metrics\n\nfrom keras.preprocessing.text import Tokenizer\nfrom keras.preprocessing.sequence import pad_sequences\n\n\nfrom sklearn.model_selection import KFold\nfrom sklearn.feature_extraction.text import CountVectorizer\nfrom keras.preprocessing import text, sequence\nimport os\nprint(os.listdir(\"../input\"))\n\n# Any results you write to the current directory are saved as output.",
      "execution_count": 51,
      "outputs": [
        {
          "output_type": "display_data",
          "data": {
            "text/html": "<script type=\"text/javascript\">window.PlotlyConfig = {MathJaxConfig: 'local'};</script><script type=\"text/javascript\">if (window.MathJax) {MathJax.Hub.Config({SVG: {font: \"STIX-Web\"}});}</script><script>requirejs.config({paths: { 'plotly': ['https://cdn.plot.ly/plotly-latest.min']},});if(!window._Plotly) {require(['plotly'],function(plotly) {window._Plotly=plotly;});}</script>",
            "text/vnd.plotly.v1+html": "<script type=\"text/javascript\">window.PlotlyConfig = {MathJaxConfig: 'local'};</script><script type=\"text/javascript\">if (window.MathJax) {MathJax.Hub.Config({SVG: {font: \"STIX-Web\"}});}</script><script>requirejs.config({paths: { 'plotly': ['https://cdn.plot.ly/plotly-latest.min']},});if(!window._Plotly) {require(['plotly'],function(plotly) {window._Plotly=plotly;});}</script>"
          },
          "metadata": {}
        },
        {
          "output_type": "stream",
          "text": "['embeddings', 'train.csv', 'sample_submission.csv', 'test.csv']\n",
          "name": "stdout"
        }
      ]
    },
    {
      "metadata": {
        "_uuid": "5f8edfb2e3260acf27bbcda13da73c5c0c899ee4"
      },
      "cell_type": "markdown",
      "source": "**1. Feature and data explanation**"
    },
    {
      "metadata": {
        "_uuid": "eb41beb67cc33f5e094499b36cf2233e9b5fa1e3"
      },
      "cell_type": "markdown",
      "source": "\nThe basis of this project is taken kaggle competition \"Quora Insincere Questions Classification\".  Quora is a platform that empowers people to learn from each other. On Quora, people can ask questions and connect with others who contribute unique insights and quality answers. A key challenge is to weed out insincere questions -- those founded upon false premises, or that intend to make a statement rather than look for helpful answers.\nIn this competition, we will develop models that identify and flag insincere questions.\nAn existential problem for any major website today is how to handle toxic and divisive content. Quora wants to tackle this problem head-on to keep their platform a place where users can feel safe sharing their knowledge with the world.\n\nIn this project I will try to help them with this. Let's start!"
    },
    {
      "metadata": {
        "_uuid": "1e2224b616cb5080ce7c82ed7c1b4812328c971e"
      },
      "cell_type": "markdown",
      "source": "In this competition we will be predicting whether a question asked on Quora is sincere or not.\nAn insincere question is defined as a question intended to make a statement rather than look for helpful answers. Some characteristics that can signify that a question is insincere:\n* Has a non-neutral tone:\n  *    Has an exaggerated tone to underscore a point about a group of people\n  *    Is rhetorical and meant to imply a statement about a group of people\n* Is disparaging or inflammatory:\n  *      Suggests a discriminatory idea against a protected class of people, or seeks confirmation of a stereotype\n  *      Makes disparaging attacks/insults against a specific person or group of people\n  *      Based on an outlandish premise about a group of people\n  *      Disparages against a characteristic that is not fixable and not measurable\n* Isn't grounded in reality:\n  *     Based on false information, or contains absurd assumptions\n* Uses sexual content (incest, bestiality, pedophilia) for shock value, and not to seek genuine answers*\n\nThe training data includes the question that was asked, and whether it was identified as insincere (target = 1). The ground-truth labels contain some amount of noise: they are not guaranteed to be perfect.\n\n"
    },
    {
      "metadata": {
        "_uuid": "6b14f8622946cfddb8e033e3b07d0613a1afc8a1"
      },
      "cell_type": "markdown",
      "source": " * *File descriptions*  (data is here https://www.kaggle.com/c/quora-insincere-questions-classification/data)\n   * train.csv - the training set\n   * test.csv - the test set\n   * sample_submission.csv - A sample submission in the correct format\n   * embeddings/ - (see below)\n   \n*    *Data fields*\n    * qid - unique question identifier\n    * question_text - Quora question text\n    * target - a question labeled \"insincere\" has a value of 1, otherwise 0"
    },
    {
      "metadata": {
        "_uuid": "2875a65e64ed10a75767cd19ea3f4c8e73c9bc52"
      },
      "cell_type": "markdown",
      "source": "External data sources are not allowed for this competition. But Quora provides us with a number of pre-trained word vectors\n* GoogleNews-vectors-negative300 - https://code.google.com/archive/p/word2vec/\n* glove.840B.300d - https://nlp.stanford.edu/projects/glove/\n* paragram_300_sl999 - https://cogcomp.org/page/resource_view/106\n* wiki-news-300d-1M - https://fasttext.cc/docs/en/english-vectors.html\n\n"
    },
    {
      "metadata": {
        "_uuid": "a48c52c50c238827960dbcf1a179bf879f1bc80d"
      },
      "cell_type": "markdown",
      "source": "**2. Primary data analysis**"
    },
    {
      "metadata": {
        "trusted": true,
        "_uuid": "29e78c5bac555ce495db6e6b92e1857a924b9b0c"
      },
      "cell_type": "code",
      "source": "# load train and test datasets\ntrain_df = pd.read_csv(\"../input/train.csv\")\ntest_df = pd.read_csv(\"../input/test.csv\")\nprint(\"Train datasets shape:\", train_df.shape)\nprint(\"Test datasets shape:\", test_df.shape)\ntrain_df.head()",
      "execution_count": 52,
      "outputs": [
        {
          "output_type": "stream",
          "text": "Train datasets shape: (1306122, 3)\nTest datasets shape: (56370, 2)\n",
          "name": "stdout"
        },
        {
          "output_type": "execute_result",
          "execution_count": 52,
          "data": {
            "text/plain": "                    qid  ...   target\n0  00002165364db923c7e6  ...        0\n1  000032939017120e6e44  ...        0\n2  0000412ca6e4628ce2cf  ...        0\n3  000042bf85aa498cd78e  ...        0\n4  0000455dfa3e01eae3af  ...        0\n\n[5 rows x 3 columns]",
            "text/html": "<div>\n<style scoped>\n    .dataframe tbody tr th:only-of-type {\n        vertical-align: middle;\n    }\n\n    .dataframe tbody tr th {\n        vertical-align: top;\n    }\n\n    .dataframe thead th {\n        text-align: right;\n    }\n</style>\n<table border=\"1\" class=\"dataframe\">\n  <thead>\n    <tr style=\"text-align: right;\">\n      <th></th>\n      <th>qid</th>\n      <th>question_text</th>\n      <th>target</th>\n    </tr>\n  </thead>\n  <tbody>\n    <tr>\n      <th>0</th>\n      <td>00002165364db923c7e6</td>\n      <td>How did Quebec nationalists see their province...</td>\n      <td>0</td>\n    </tr>\n    <tr>\n      <th>1</th>\n      <td>000032939017120e6e44</td>\n      <td>Do you have an adopted dog, how would you enco...</td>\n      <td>0</td>\n    </tr>\n    <tr>\n      <th>2</th>\n      <td>0000412ca6e4628ce2cf</td>\n      <td>Why does velocity affect time? Does velocity a...</td>\n      <td>0</td>\n    </tr>\n    <tr>\n      <th>3</th>\n      <td>000042bf85aa498cd78e</td>\n      <td>How did Otto von Guericke used the Magdeburg h...</td>\n      <td>0</td>\n    </tr>\n    <tr>\n      <th>4</th>\n      <td>0000455dfa3e01eae3af</td>\n      <td>Can I convert montra helicon D to a mountain b...</td>\n      <td>0</td>\n    </tr>\n  </tbody>\n</table>\n</div>"
          },
          "metadata": {}
        }
      ]
    },
    {
      "metadata": {
        "trusted": true,
        "_uuid": "58dcf2071146cc185de6319ab4fc561fbf71cf64"
      },
      "cell_type": "code",
      "source": "train_df.info()\ntest_df.info()",
      "execution_count": 53,
      "outputs": [
        {
          "output_type": "stream",
          "text": "<class 'pandas.core.frame.DataFrame'>\nRangeIndex: 1306122 entries, 0 to 1306121\nData columns (total 3 columns):\nqid              1306122 non-null object\nquestion_text    1306122 non-null object\ntarget           1306122 non-null int64\ndtypes: int64(1), object(2)\nmemory usage: 29.9+ MB\n<class 'pandas.core.frame.DataFrame'>\nRangeIndex: 56370 entries, 0 to 56369\nData columns (total 2 columns):\nqid              56370 non-null object\nquestion_text    56370 non-null object\ndtypes: object(2)\nmemory usage: 880.9+ KB\n",
          "name": "stdout"
        }
      ]
    },
    {
      "metadata": {
        "_uuid": "6bce8d9bf74b42e0863c8463230958800673640e"
      },
      "cell_type": "markdown",
      "source": "We can see there are no missing values"
    },
    {
      "metadata": {
        "_uuid": "1738e870e2c8722193b58ddd21c0c06103cd7809"
      },
      "cell_type": "markdown",
      "source": "First let us look at the distribution of the target variable to understand more about the imbalance and so on."
    },
    {
      "metadata": {
        "trusted": true,
        "_uuid": "891f6cc3eeded1ece24dfac06445fb67f6e4b6a7"
      },
      "cell_type": "code",
      "source": "sns.countplot(train_df['target'])",
      "execution_count": 54,
      "outputs": [
        {
          "output_type": "execute_result",
          "execution_count": 54,
          "data": {
            "text/plain": "<matplotlib.axes._subplots.AxesSubplot at 0x7f68602f2470>"
          },
          "metadata": {}
        },
        {
          "output_type": "display_data",
          "data": {
            "text/plain": "<Figure size 432x288 with 1 Axes>",
            "image/png": "[encoded data removed]"
          },
          "metadata": {}
        }
      ]
    },
    {
      "metadata": {
        "_uuid": "b11ae038811ffd6e0c0041793e7376c319676918"
      },
      "cell_type": "markdown",
      "source": "So we see that data unbalanced.\n\nSince we only have text data, let's take a look at some of the mean values ​​of words / sentences."
    },
    {
      "metadata": {
        "trusted": true,
        "_uuid": "c66c24eee79396a9cc3c78179a714d0b14597d66"
      },
      "cell_type": "code",
      "source": "print('Average word length of questions in train is {0:.0f}.'.format(np.mean(train_df['question_text'].apply(lambda x: len(x.split())))))\nprint('Average word length of questions in test is {0:.0f}.'.format(np.mean(test_df['question_text'].apply(lambda x: len(x.split())))))",
      "execution_count": null,
      "outputs": []
    },
    {
      "metadata": {
        "trusted": true,
        "scrolled": false,
        "_uuid": "62745d43f382f4c60729c22ff0c560f67314976c"
      },
      "cell_type": "code",
      "source": "print('Max word length of questions in train is {0:.0f}.'.format(np.max(train_df['question_text'].apply(lambda x: len(x.split())))))\nprint('Max word length of questions in test is {0:.0f}.'.format(np.max(test_df['question_text'].apply(lambda x: len(x.split())))))",
      "execution_count": null,
      "outputs": []
    },
    {
      "metadata": {
        "trusted": true,
        "_uuid": "0e0e44246fd5d9c81549c5813ba5a6bf21662756"
      },
      "cell_type": "code",
      "source": "print('Average character length of questions in train is {0:.0f}.'.format(np.mean(train_df['question_text'].apply(lambda x: len(x)))))\nprint('Average character length of questions in test is {0:.0f}.'.format(np.mean(test_df['question_text'].apply(lambda x: len(x)))))",
      "execution_count": null,
      "outputs": []
    },
    {
      "metadata": {
        "_uuid": "8b933f1d75be9e55385af4fce3731449365195e7"
      },
      "cell_type": "markdown",
      "source": "As we can see on average questions in train and test datasets are similar, but there are quite long questions in train dataset."
    },
    {
      "metadata": {
        "_uuid": "a41a10a402b75536852806d7e0ca72d06b9e39d0"
      },
      "cell_type": "markdown",
      "source": "Let's look at the most frequent words in each of the classes separately and immediately visualize it"
    },
    {
      "metadata": {
        "trusted": true,
        "_uuid": "a34f07fcbc950cbfe4ee880df2a5e8fe7fdc1dc8"
      },
      "cell_type": "code",
      "source": "from collections import defaultdict\nfrom wordcloud import WordCloud, STOPWORDS\ntrain1_df = train_df[train_df[\"target\"]==1]\ntrain0_df = train_df[train_df[\"target\"]==0]\n\n## custom function for ngram generation ##\ndef generate_ngrams(text, n_gram=1):\n    token = [token for token in text.lower().split(\" \") if token != \"\" if token not in STOPWORDS]\n    ngrams = zip(*[token[i:] for i in range(n_gram)])\n    return [\" \".join(ngram) for ngram in ngrams]\n\n## custom function for horizontal bar chart ##\ndef horizontal_bar_chart(df, color):\n    trace = go.Bar(\n        y=df[\"word\"].values[::-1],\n        x=df[\"wordcount\"].values[::-1],\n        showlegend=False,\n        orientation = 'h',\n        marker=dict(\n            color=color,\n        ),\n    )\n    return trace\n\n## Get the bar chart from sincere questions ##\nfreq_dict = defaultdict(int)\nfor sent in train0_df[\"question_text\"]:\n    for word in generate_ngrams(sent):\n        freq_dict[word] += 1\nfd_sorted = pd.DataFrame(sorted(freq_dict.items(), key=lambda x: x[1])[::-1])\nfd_sorted.columns = [\"word\", \"wordcount\"]\ntrace0 = horizontal_bar_chart(fd_sorted.head(50), 'blue')\n\n## Get the bar chart from insincere questions ##\nfreq_dict = defaultdict(int)\nfor sent in train1_df[\"question_text\"]:\n    for word in generate_ngrams(sent):\n        freq_dict[word] += 1\nfd_sorted = pd.DataFrame(sorted(freq_dict.items(), key=lambda x: x[1])[::-1])\nfd_sorted.columns = [\"word\", \"wordcount\"]\ntrace1 = horizontal_bar_chart(fd_sorted.head(50), 'blue')\n\n# Creating two subplots\nfig = tools.make_subplots(rows=1, cols=2, vertical_spacing=0.04,\n                          subplot_titles=[\"Frequent words of sincere questions\", \n                                          \"Frequent words of insincere questions\"])\nfig.append_trace(trace0, 1, 1)\nfig.append_trace(trace1, 1, 2)\nfig['layout'].update(height=1200, width=900, paper_bgcolor='rgb(233,233,233)', title=\"Word Count Plots\")\npy.iplot(fig, filename='word-plots')\n",
      "execution_count": null,
      "outputs": []
    },
    {
      "metadata": {
        "_uuid": "69c3db60580f529864bacadbd9b75048ddf912dc"
      },
      "cell_type": "markdown",
      "source": "It can be seen that in insincere questions words as 'black',  'white', 'muslims', 'trump', 'woman' is predominate, which hints at us on racial discrimination, sexual content. But for example, the word 'people' is often found in both classes. Let's look at bi-gramm and tri-gramm to understand the context in which they most often used."
    },
    {
      "metadata": {
        "trusted": true,
        "_uuid": "589b2573d4dc803e134a0f132c76f91558658c7f"
      },
      "cell_type": "code",
      "source": "freq_dict = defaultdict(int)\nfor sent in train0_df[\"question_text\"]:\n    for word in generate_ngrams(sent,2):\n        freq_dict[word] += 1\nfd_sorted = pd.DataFrame(sorted(freq_dict.items(), key=lambda x: x[1])[::-1])\nfd_sorted.columns = [\"word\", \"wordcount\"]\ntrace0 = horizontal_bar_chart(fd_sorted.head(50), 'orange')\n\n\nfreq_dict = defaultdict(int)\nfor sent in train1_df[\"question_text\"]:\n    for word in generate_ngrams(sent,2):\n        freq_dict[word] += 1\nfd_sorted = pd.DataFrame(sorted(freq_dict.items(), key=lambda x: x[1])[::-1])\nfd_sorted.columns = [\"word\", \"wordcount\"]\ntrace1 = horizontal_bar_chart(fd_sorted.head(50), 'orange')\n\n# Creating two subplots\nfig = tools.make_subplots(rows=1, cols=2, vertical_spacing=0.04,horizontal_spacing=0.15,\n                          subplot_titles=[\"Frequent bigrams of sincere questions\", \n                                          \"Frequent bigrams of insincere questions\"])\nfig.append_trace(trace0, 1, 1)\nfig.append_trace(trace1, 1, 2)\nfig['layout'].update(height=1200, width=900, paper_bgcolor='rgb(233,233,233)', title=\"Bigram Count Plots\")\npy.iplot(fig, filename='word-plots')",
      "execution_count": null,
      "outputs": []
    },
    {
      "metadata": {
        "trusted": true,
        "_uuid": "2e2be63858b13e618172868939f0a12dac7798a2"
      },
      "cell_type": "code",
      "source": "freq_dict = defaultdict(int)\nfor sent in train0_df[\"question_text\"]:\n    for word in generate_ngrams(sent,3):\n        freq_dict[word] += 1\nfd_sorted = pd.DataFrame(sorted(freq_dict.items(), key=lambda x: x[1])[::-1])\nfd_sorted.columns = [\"word\", \"wordcount\"]\ntrace0 = horizontal_bar_chart(fd_sorted.head(50), 'green')\n\n\nfreq_dict = defaultdict(int)\nfor sent in train1_df[\"question_text\"]:\n    for word in generate_ngrams(sent,3):\n        freq_dict[word] += 1\nfd_sorted = pd.DataFrame(sorted(freq_dict.items(), key=lambda x: x[1])[::-1])\nfd_sorted.columns = [\"word\", \"wordcount\"]\ntrace1 = horizontal_bar_chart(fd_sorted.head(50), 'green')\n\n# Creating two subplots\nfig = tools.make_subplots(rows=1, cols=2, vertical_spacing=0.04, horizontal_spacing=0.15,\n                          subplot_titles=[\"Frequent trigrams of sincere questions\", \n                                          \"Frequent trigrams of insincere questions\"])\nfig.append_trace(trace0, 1, 1)\nfig.append_trace(trace1, 1, 2)\nfig['layout'].update(height=1200, width=1000, paper_bgcolor='rgb(233,233,233)', title=\"Trigram Count Plots\")\npy.iplot(fig, filename='word-plots')",
      "execution_count": null,
      "outputs": []
    },
    {
      "metadata": {
        "_uuid": "ba6965131abeac9256bfff78f319e78c356e4d61"
      },
      "cell_type": "markdown",
      "source": "On these two graphs, you can see phrases that determine the insincere question or not. They clearly indicate unfriendly content.\nNo wonder that the word 'donald trump' is so common. These words apparently refer to the political context, and there, as is well known, there are always heated discussions between his supporters and those who do not like him."
    },
    {
      "metadata": {
        "_uuid": "a41dc24f0c36f413dd6b126e3eb4a9eb90dc0c17"
      },
      "cell_type": "markdown",
      "source": "**3. Primary visual data analysis**"
    },
    {
      "metadata": {
        "trusted": true,
        "_uuid": "dd5f9d58ff216d3ab35190a090020b2f1c719c96"
      },
      "cell_type": "code",
      "source": "train_df['question_text'].apply(lambda x: len(x.split())).plot(kind='hist');\nplt.yscale('log');\nplt.title('Distribution of question text length in characters in train')",
      "execution_count": null,
      "outputs": []
    },
    {
      "metadata": {
        "trusted": true,
        "_uuid": "a545a8758ed5b208db1a6e317861e93ec2e97117"
      },
      "cell_type": "code",
      "source": "test_df['question_text'].apply(lambda x: len(x.split())).plot(kind='hist');\nplt.yscale('log');\nplt.title('Distribution of question text length in characters in test')",
      "execution_count": null,
      "outputs": []
    },
    {
      "metadata": {
        "_uuid": "a3f288109da7c0aba15fba0b3de1b432c0ed77ce"
      },
      "cell_type": "markdown",
      "source": "We can see that most of the questions in train and test are 40 words long or shorter. \n"
    },
    {
      "metadata": {
        "_uuid": "4f6451ae7d7a34db48e19640dbe161e8ea97e6c3"
      },
      "cell_type": "markdown",
      "source": "Now let us see how some  features are distributed between both sincere and insincere questions."
    },
    {
      "metadata": {
        "trusted": true,
        "_uuid": "a07172c64c074c3c0d13cccac5211e240e8c0a0c"
      },
      "cell_type": "code",
      "source": "## Number of words in the text ##\ntrain_df[\"num_words\"] = train_df[\"question_text\"].apply(lambda x: len(str(x).split()))\ntest_df[\"num_words\"] = test_df[\"question_text\"].apply(lambda x: len(str(x).split()))\n\n## Number of characters in the text ##\ntrain_df[\"num_chars\"] = train_df[\"question_text\"].apply(lambda x: len(str(x)))\ntest_df[\"num_chars\"] = test_df[\"question_text\"].apply(lambda x: len(str(x)))\n\nf, axes = plt.subplots(2, 1, figsize=(10,20))\nsns.boxplot(x='target', y='num_words', data=train_df, ax=axes[0])\naxes[0].set_xlabel('Target', fontsize=12)\naxes[0].set_title(\"Number of words in each class\", fontsize=15)\n\nsns.boxplot(x='target', y='num_chars', data=train_df, ax=axes[1])\naxes[1].set_xlabel('Target', fontsize=12)\naxes[1].set_title(\"Number of characters in each class\", fontsize=15)",
      "execution_count": null,
      "outputs": []
    },
    {
      "metadata": {
        "_uuid": "f225a32b4b0735fb47df455913af1c538e30328e"
      },
      "cell_type": "markdown",
      "source": "We can see that the insincere questions have more number of words as well as characters compared to sincere questions"
    },
    {
      "metadata": {
        "_uuid": "05cda4a655e1ed8350211c69769440c6fc9ec38a"
      },
      "cell_type": "markdown",
      "source": "**4. Insights and found dependencies **\nThe problem is closely related to sentiment analysis as well. Usually, neural networks, for example RNN / LSTM, which can reveal hidden patterns are most often used in such tasks. \nBut we noticed that some word combinations, which determine the class of the question, stand out very well, let's make text preprocessing plus TFIDFTransform and try to make simple LogisticRegression baseline."
    },
    {
      "metadata": {
        "_uuid": "c0a97473f8d8938648e567f62104f4b1b1e66e2b"
      },
      "cell_type": "markdown",
      "source": "**5. Metrics selection**"
    },
    {
      "metadata": {
        "_uuid": "df423154190d9aef6ffe9539d2e0a6cc45eef349"
      },
      "cell_type": "markdown",
      "source": "Metrics -** F1 score ** is given in competition. F1  is a function of Precision and Recall. \nF1 formula:\n**F1 = 2*(Precision * Recall)/(Precision + Recall)**"
    },
    {
      "metadata": {
        "_uuid": "d69668dc11968e50a8f3916a9863f731511a176d"
      },
      "cell_type": "markdown",
      "source": "F1 Score might be a better measure to use if we need to seek a balance between Precision and Recall. \nSince dataset is very unbalanced, it’s no wonder why this metric is chosen."
    },
    {
      "metadata": {
        "_uuid": "1f7be43a989bd51adaac7b9f0582e1dd76f387f4"
      },
      "cell_type": "markdown",
      "source": "**6. Model selection**\nWe will predict the class of the question using a simple logistic regression."
    },
    {
      "metadata": {
        "_uuid": "3bc196b19b682c58163e146614a5f2b27c74fb67"
      },
      "cell_type": "markdown",
      "source": "**7. Data preprocessing**"
    },
    {
      "metadata": {
        "_uuid": "a881b5ede5e820946f043b8d3fc7104c68ec6432"
      },
      "cell_type": "markdown",
      "source": "Lets make some text preprocessing:\n* Removing numbers and special characters\n* Lowering letters\n* Removing Stopwords\n* Lemmatization "
    },
    {
      "metadata": {
        "trusted": true,
        "_uuid": "004356e48b0db9669e46ddac3f276d288d3ab378"
      },
      "cell_type": "code",
      "source": "from nltk import WordNetLemmatizer\nimport re\nfrom nltk.corpus import stopwords\nstop_words = set(stopwords.words('english'))\nwnl = WordNetLemmatizer()\ndef preprocess_text(text): \n    # Keeping letters + lowerring\n    text = re.sub(\"[^a-zA-Z]\",\" \", text)\n    text = re.findall(r\"[a-zA-Z]+\", text.lower())\n  \n    # Removing stopwords\n    text = [word for word in text if (word not in stop_words and len(word)>2)]\n    \n    # Lemming\n    text = [wnl.lemmatize(word) for word in text]\n    \n    # Removing repetitions\n    text = re.sub(r'(.)\\1+', r'\\1\\1', ' '.join(text))\n    \n    return text\n\nprint('Cleaning data ... ')\ntrain_df['clean_text'] = train_df['question_text'].transform(preprocess_text)\ntest_df['clean_text'] = train_df['question_text'].transform(preprocess_text)\nprint(train_df['clean_text'])",
      "execution_count": 55,
      "outputs": [
        {
          "output_type": "stream",
          "text": "Cleaning data ... \n0                     quebec nationalist see province nation\n1              adopted dog would encourage people adopt shop\n2          velocity affect time velocity affect space geo...\n3                otto von guericke used magdeburg hemisphere\n4          convert montra helicon mountain bike changing ...\n5          gaza slowly becoming auschwitz dachau treblink...\n6          quora automatically ban conservative opinion r...\n7                    crazy wash wipe grocery germ everywhere\n8          thing dressing moderately different dressing m...\n9          ever phase wherein became ignorant people love...\n10                                              say feminism\n11                                     calgary flame founded\n12         dumbest yet possibly true explanation trump el...\n13         use external hard disk well data storage data ...\n14         living home boyfriend would love boyfriend hom...\n15                           know bram fischer rivonia trial\n16            difficult find good instructor take class near\n17                                        licked skin corpse\n18         think amazon adopt house approach manufacturin...\n19            many barony might exist within county palatine\n20                            know whether girl done sex sex\n21         become fast learner professional career person...\n22            united state become largest dictatorship world\n23         strangest phenomenon know witnessed generated ...\n24                                 leave friend find new one\n25                   make amazon alexa trigger event browser\n26         two democracy never ever went full fledged war...\n27                                            top cbse month\n28                      know visiting mcleodganj triund trek\n29         modern military submarine reduce noise achieve...\n                                 ...                        \n1306092    hardly talk interest reading history always ma...\n1306093                             intimate relation cousin\n1306094    singer lyric voice head religious people say h...\n1306095                 ginger plant naturally contain sugar\n1306096    technological advance medicine harm good humanity\n1306097             pas class math mark board cbse good mark\n1306098         think physical trait born affect personality\n1306099                               pakis smell curry shit\n1306100                  quora good downvoting answer voting\n1306101                                wahabi muslim puritan\n1306102    step take live normal life suffer social anxie...\n1306103    trump right usa benevolent towards neighbor me...\n1306104                     late career creative advertising\n1306105    difference filteration work liver filteration ...\n1306106    universe popped existence nothing stop popping...\n1306107    shared service technology team measure value d...\n1306108                              dsatm civil engineering\n1306109    know problem depends solely boundary geometry ...\n1306110                    comic idea tube video shoot alone\n1306111    million bitcoin could sell pay capital gain ta...\n1306112                                       ashamed indian\n1306113                      method determine fossil age std\n1306114                                          story today\n1306115    consume gm protein daily vegetarian non vegeta...\n1306116    good career option msc chemistry student quali...\n1306117      technical skill need computer science undergrad\n1306118     ece good job prospect usa like india job present\n1306119                                foam insulation toxic\n1306120    one start research project based biochemistry ...\n1306121                            win battle wolverine puma\nName: clean_text, Length: 1306122, dtype: object\n",
          "name": "stdout"
        }
      ]
    },
    {
      "metadata": {
        "trusted": true,
        "_uuid": "11d10b4a5b5ad91d9b775b7b3724a773f2303b02"
      },
      "cell_type": "code",
      "source": "",
      "execution_count": null,
      "outputs": []
    },
    {
      "metadata": {
        "trusted": true,
        "_uuid": "9ae984ddc760bdb8e3f10782e767b2fbbe656439"
      },
      "cell_type": "code",
      "source": "from sklearn.feature_extraction.text import TfidfVectorizer\n\ntfidf = TfidfVectorizer(ngram_range=(1, 3))\nx_train = tfidf.fit_transform(train_df['clean_text'])\ny_train = train_df['target']\n\nprint(x_train.shape)",
      "execution_count": 56,
      "outputs": [
        {
          "output_type": "stream",
          "text": "(1306122, 8355306)\n",
          "name": "stdout"
        }
      ]
    },
    {
      "metadata": {
        "trusted": true,
        "_uuid": "7edeb7ff4ca093eb48cac0a8159a79f81b0d14a2"
      },
      "cell_type": "code",
      "source": "from sklearn.linear_model import LogisticRegression\nfrom sklearn.metrics import f1_score\nfrom sklearn.metrics import classification_report\nfrom sklearn.model_selection import StratifiedKFold, KFold\nfrom sklearn.model_selection import cross_val_score\nskf = StratifiedKFold(n_splits=5, random_state=7, shuffle=True)\n#C = 12.5 best param using gridsearch\nlogit = LogisticRegression(C=12.5, random_state = 7)\n\n# cv_scores = cross_val_score(logit, x_train, train_df['target'], cv=skf,\n#                                     scoring='f1', n_jobs=-1)\n# print(cv_scores.mean(), cv_scores)\n",
      "execution_count": 59,
      "outputs": []
    },
    {
      "metadata": {
        "_uuid": "d131cc48a1261d3ca2fcad6c395e5d5967e0fb41"
      },
      "cell_type": "markdown",
      "source": "Now try to add a little bit meta feature."
    },
    {
      "metadata": {
        "trusted": true,
        "_uuid": "5d2f70193c48cf1f70aabd98160c2cc4d6561c51"
      },
      "cell_type": "code",
      "source": "\nimport string\ntrain_df[\"num_words\"] = train_df['question_text'].apply(lambda x: len(str(x).split()))\ntest_df[\"num_words\"] = test_df['question_text'].apply(lambda x: len(str(x).split()))\n\ntrain_df[\"num_unique_words\"] = train_df['question_text'].apply(lambda x: len(set(str(x).split())))\ntest_df[\"num_unique_words\"] = test_df['question_text'].apply(lambda x: len(set(str(x).split())))\n\ntrain_df[\"num_chars\"] = train_df['question_text'].apply(lambda x: len(str(x)))\ntest_df[\"num_chars\"] = test_df['question_text'].apply(lambda x: len(str(x)))\n\ntrain_df[\"mean_word_len\"] = train_df['question_text'].apply(lambda x: np.mean([len(w) for w in str(x).split()]))\ntest_df[\"mean_word_len\"] = test_df['question_text'].apply(lambda x: np.mean([len(w) for w in str(x).split()]))\n\ntrain_df[\"num_stopwords\"] = train_df[\"question_text\"].apply(lambda x: len([w for w in str(x).lower().split() if w in stop_words]))\ntest_df[\"num_stopwords\"] = test_df[\"question_text\"].apply(lambda x: len([w for w in str(x).lower().split() if w in stop_words]))\n\n## Number of punctuations in the text ##\ntrain_df[\"num_punctuations\"] =train_df['question_text'].apply(lambda x: len([c for c in str(x) if c in string.punctuation]) )\ntest_df[\"num_punctuations\"] =test_df['question_text'].apply(lambda x: len([c for c in str(x) if c in string.punctuation]) )\n\n## Number of title case words in the text ##\ntrain_df[\"num_words_upper\"] = train_df[\"question_text\"].apply(lambda x: len([w for w in str(x).split() if w.isupper()]))\ntest_df[\"num_words_upper\"] = test_df[\"question_text\"].apply(lambda x: len([w for w in str(x).split() if w.isupper()]))\n\n## Number of title case words in the text ##\ntrain_df[\"num_words_title\"] = train_df[\"question_text\"].apply(lambda x: len([w for w in str(x).split() if w.istitle()]))\ntest_df[\"num_words_title\"] = test_df[\"question_text\"].apply(lambda x: len([w for w in str(x).split() if w.istitle()]))\n\n## Average length of the words in the text ##\ntrain_df[\"mean_word_len\"] = train_df[\"question_text\"].apply(lambda x: np.mean([len(w) for w in str(x).split()]))\ntest_df[\"mean_word_len\"] =test_df[\"question_text\"].apply(lambda x: np.mean([len(w) for w in str(x).split()]))\nprint(train_df.head(5))",
      "execution_count": 60,
      "outputs": [
        {
          "output_type": "stream",
          "text": "                    qid       ...       num_words_title\n0  00002165364db923c7e6       ...                     2\n1  000032939017120e6e44       ...                     1\n2  0000412ca6e4628ce2cf       ...                     2\n3  000042bf85aa498cd78e       ...                     4\n4  0000455dfa3e01eae3af       ...                     3\n\n[5 rows x 12 columns]\n",
          "name": "stdout"
        }
      ]
    },
    {
      "metadata": {
        "trusted": true,
        "_uuid": "d239e282965b951e13902910cb34d2215588b33a"
      },
      "cell_type": "code",
      "source": "from scipy.sparse import hstack\nfeats = [\"num_words\", \"num_unique_words\", \"num_chars\", \"mean_word_len\", \"num_stopwords\", \"num_punctuations\", \"num_words_upper\", \"num_words_title\"]\nX_train_full = hstack([x_train, train_df[feats].values])\n\n# cv_scores = cross_val_score(logit, X_train_full, train_df['target'], cv=skf,\n#                                     scoring='f1', n_jobs=-1)\n# print(cv_scores.mean(), cv_scores)\n",
      "execution_count": 61,
      "outputs": []
    },
    {
      "metadata": {
        "_uuid": "1df60109820fe6aaf6799e11c64cf690d6938cab"
      },
      "cell_type": "markdown",
      "source": "Now, let's find optimal parametr C for logregression using GridSearch"
    },
    {
      "metadata": {
        "trusted": true,
        "_uuid": "e322d9738fd9d6d7cb93a46156af30017a354b4f"
      },
      "cell_type": "code",
      "source": "from sklearn.model_selection import GridSearchCV\n #GridSearch for C\nc_values = np.linspace(10, 15, 5)\n\nlogit_grid_searcher = GridSearchCV(estimator=logit, param_grid={'C': c_values},\n                                           scoring='f1', n_jobs=-1, cv=skf, verbose=1)\n\nlogit_grid_searcher.fit(X_train_full, train_df['target'])\nprint(logit_grid_searcher.best_score_, logit_grid_searcher.best_params_)",
      "execution_count": 62,
      "outputs": [
        {
          "output_type": "stream",
          "text": "Fitting 5 folds for each of 5 candidates, totalling 25 fits\n",
          "name": "stdout"
        },
        {
          "output_type": "stream",
          "text": "[Parallel(n_jobs=-1)]: Using backend LokyBackend with 4 concurrent workers.\n[Parallel(n_jobs=-1)]: Done  25 out of  25 | elapsed: 64.5min finished\n/opt/conda/lib/python3.6/site-packages/sklearn/linear_model/logistic.py:433: FutureWarning:\n\nDefault solver will be changed to 'lbfgs' in 0.22. Specify a solver to silence this warning.\n\n",
          "name": "stderr"
        },
        {
          "output_type": "stream",
          "text": "0.5018747518142584 {'C': 12.5}\n",
          "name": "stdout"
        }
      ]
    },
    {
      "metadata": {
        "_uuid": "4e549b6e1ada35682b98e836ea4b56d8450e7e6c"
      },
      "cell_type": "markdown",
      "source": "**10.  Plotting training and validation curves **"
    },
    {
      "metadata": {
        "trusted": true,
        "_uuid": "f789a36c63104b22972275b29d17e038d3ff1cff"
      },
      "cell_type": "code",
      "source": "from sklearn.model_selection import learning_curve\n\ndef plot_learning_curve(estimator, title, X, y, ylim=None, cv=None,\n                        n_jobs=None, train_sizes=np.linspace(.1, 1.0, 5)):\n    plt.figure()\n    plt.title(title)\n    if ylim is not None:\n        plt.ylim(*ylim)\n    plt.xlabel(\"Training examples\")\n    plt.ylabel(\"Score\")\n    train_sizes, train_scores, test_scores = learning_curve(\n        estimator, X, y, cv=cv, n_jobs=n_jobs, train_sizes=train_sizes)\n    train_scores_mean = np.mean(train_scores, axis=1)\n    train_scores_std = np.std(train_scores, axis=1)\n    test_scores_mean = np.mean(test_scores, axis=1)\n    test_scores_std = np.std(test_scores, axis=1)\n    plt.grid()\n\n    plt.fill_between(train_sizes, train_scores_mean - train_scores_std,\n                     train_scores_mean + train_scores_std, alpha=0.1,\n                     color=\"r\")\n    plt.fill_between(train_sizes, test_scores_mean - test_scores_std,\n                     test_scores_mean + test_scores_std, alpha=0.1, color=\"g\")\n    plt.plot(train_sizes, train_scores_mean, 'o-', color=\"r\",\n             label=\"Training score\")\n    plt.plot(train_sizes, test_scores_mean, 'o-', color=\"g\",\n             label=\"Cross-validation score\")\n\n    plt.legend(loc=\"best\")\n    plt.show\n\ntitle = \"Learning Curves (Logistic Regression)\"\nplot_learning_curve(logit, title, X_train_full, train_df['target'], ylim=(0.3, 1.01), cv=skf, n_jobs=-1)",
      "execution_count": 66,
      "outputs": [
        {
          "output_type": "display_data",
          "data": {
            "text/plain": "<Figure size 432x288 with 1 Axes>",
            "image/png": "[encoded data removed]"
          },
          "metadata": {}
        }
      ]
    },
    {
      "metadata": {
        "trusted": true,
        "_uuid": "a04ef05135a322c4dbecf7a1844e76eae864dce6"
      },
      "cell_type": "code",
      "source": "scores = logit_grid_searcher.cv_results_['mean_test_score']\nscores_std = logit_grid_searcher.cv_results_['std_test_score']\nplt.figure().set_size_inches(8, 6)\nplt.semilogx(c_values, scores)\n\n# plot error lines showing +/- std. errors of the scores\nstd_error = scores_std / np.sqrt(5)\n\nplt.semilogx(c_values, scores + std_error, 'b--')\nplt.semilogx(c_values, scores - std_error, 'b--')\n\n\nplt.fill_between(c_values, scores + std_error, scores - std_error, alpha=0.2)\n\nplt.ylabel('CV score +/- std error')\nplt.xlabel('c_values')\nplt.axhline(np.max(scores), linestyle='--', color='.5')\nplt.xlim([c_values[0], c_values[-1]])\nplt.show()",
      "execution_count": 70,
      "outputs": [
        {
          "output_type": "display_data",
          "data": {
            "text/plain": "<Figure size 576x432 with 1 Axes>",
            "image/png": "[encoded data removed]"
          },
          "metadata": {}
        }
      ]
    },
    {
      "metadata": {
        "_uuid": "2901ce48923c1803a8196dff59d4c9de87d69f84"
      },
      "cell_type": "markdown",
      "source": "It's time to make predict for test set!"
    },
    {
      "metadata": {
        "trusted": true,
        "_uuid": "2f7388ae2975c83489ee00af6a69ce4708a9e6fd"
      },
      "cell_type": "code",
      "source": "x_test = tfidf.transform(test_df['clean_text'])\nX_test_full = hstack([x_test, test_df[feats].values])\nlogit.fit(X_train_full, train_df['target'])\n",
      "execution_count": 74,
      "outputs": [
        {
          "output_type": "stream",
          "text": "/opt/conda/lib/python3.6/site-packages/sklearn/linear_model/logistic.py:433: FutureWarning:\n\nDefault solver will be changed to 'lbfgs' in 0.22. Specify a solver to silence this warning.\n\n",
          "name": "stderr"
        },
        {
          "output_type": "execute_result",
          "execution_count": 74,
          "data": {
            "text/plain": "LogisticRegression(C=1, class_weight=None, dual=False, fit_intercept=True,\n          intercept_scaling=1, max_iter=100, multi_class='warn',\n          n_jobs=None, penalty='l2', random_state=7, solver='warn',\n          tol=0.0001, verbose=0, warm_start=False)"
          },
          "metadata": {}
        }
      ]
    },
    {
      "metadata": {
        "trusted": true,
        "_uuid": "e767d76ae46f211abceabba05b296043ac74c788"
      },
      "cell_type": "code",
      "source": "pred = logit.predict(X_test_full)\nexample = pd.read_csv('../input/sample_submission.csv')\nexample['prediction'] = pred\nexample.to_csv('submission.csv', index=False)",
      "execution_count": 76,
      "outputs": []
    }
  ],
  "metadata": {
    "kernelspec": {
      "display_name": "Python 3",
      "language": "python",
      "name": "python3"
    },
    "language_info": {
      "name": "python",
      "version": "3.6.6",
      "mimetype": "text/x-python",
      "codemirror_mode": {
        "name": "ipython",
        "version": 3
      },
      "pygments_lexer": "ipython3",
      "nbconvert_exporter": "python",
      "file_extension": ".py"
    }
  },
  "nbformat": 4,
  "nbformat_minor": 1
}