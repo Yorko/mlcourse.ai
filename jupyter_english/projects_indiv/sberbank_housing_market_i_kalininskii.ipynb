{
 "cells": [
  {
   "cell_type": "markdown",
   "metadata": {},
   "source": [
    "<center>\n",
    "<img src=\"../../img/ods_stickers.jpg\" />\n",
    "    \n",
    "## [mlcourse.ai](https://mlcourse.ai) – Open Machine Learning Course \n",
    "### <center> Author: I_Kalininskii, Kiavip at ODS Slack \n",
    "    \n",
    "## <center> Individual project\n",
    "### <center> \"Sberbank Russian Housing Market\""
   ]
  },
  {
   "cell_type": "markdown",
   "metadata": {},
   "source": [
    "[Kaggle competition overview](#Kaggle-competition-overview)<br>\n",
    "[Main assumptions](#Main_assumptions)<br>\n",
    "[Part 1. Dataset and features description](#Part-1.-Dataset-and-features-description )<br>\n",
    "[Part 2. Exploratory data analysis](#Part-2.-Exploratory-data-analysis)<br>\n",
    "[Part 3. Visual analysis of the features](#Part-3.-Visual-analysis-of-the-features)<br>\n",
    "[Part 4. Patterns, insights, pecularities of data](#Part-4.-Patterns,-insights,-pecularities-of-data)<br>\n",
    "[Part 5. Data preprocessing](#Part-5.-Data-preprocessing)<br>\n",
    "[Part 6. Feature engineering and description](#Part-6.-Feature-engineering-and-description)<br>\n",
    "[Part 7. Cross-validation, hyperparameter tuning](#Part-7.-Cross-validation,-hyperparameter-tuning)<br>\n",
    "[Part 8. Validation and learning curves](#Part-8.-Validation-and-learning-curves)<br>\n",
    "[Part 9. Prediction for hold-out and test samples ](#Part-9.-Prediction-for-hold-out-and-test-samples )<br>\n",
    "[Part 10. Model evaluation with metrics description](#Part-10.-Model-evaluation-with-metrics-description)<br>\n",
    "[Part 11. Conclusions](#Part-11.-Conclusions)<br>"
   ]
  },
  {
   "cell_type": "markdown",
   "metadata": {},
   "source": [
    "## Kaggle competition overview\n",
    "\n",
    "Housing costs demand a significant investment from both consumers and developers. And when it comes to planning a budget—whether personal or corporate—the last thing anyone needs is uncertainty about one of their biggets expenses. Sberbank, Russia’s oldest and largest bank, helps their customers by making predictions about realty prices so renters, developers, and lenders are more confident when they sign a lease or purchase a building.\n",
    "\n",
    "Although the housing market is relatively stable in Russia, the country’s volatile economy makes forecasting prices as a function of apartment characteristics a unique challenge. Complex interactions between housing features such as number of bedrooms and location are enough to make pricing predictions complicated. Adding an unstable economy to the mix means Sberbank and their customers need more than simple regression models in their arsenal.\n",
    "\n",
    "In this competition, Sberbank is challenging Kagglers to develop algorithms which use a broad spectrum of features to predict realty prices. Competitors will rely on a rich dataset that includes housing data and macroeconomic patterns. An accurate forecasting model will allow Sberbank to provide more certainty to their customers in an uncertain economy."
   ]
  },
  {
   "cell_type": "markdown",
   "metadata": {},
   "source": [
    "## Project data\n",
    "\n",
    "Datasets and their description are on Kaggle and it's much safer than any other location I can offer.<br>\n",
    "__[Download all from Kaggle](https://www.kaggle.com/c/6392/download-all)__<br>\n",
    "__[Kaggle competition Data page](https://www.kaggle.com/c/sberbank-russian-housing-market/data)__"
   ]
  },
  {
   "cell_type": "markdown",
   "metadata": {},
   "source": [
    "## Main assumptions\n",
    "\n",
    "I'm interested in Sberbank strategy and in Moscow realty prices, so I'll try to learn as much as I can out of this project.\n",
    "\n",
    "I'll try to examine most obvious features in datasets, then, i'll compare train and test sets to see, are they comparable. Also' I'll try to enhance the model by using macroeconomical features as well as cleaning data and feature engineering. \n",
    "\n",
    "As a model, I'll use LightGBM. It's new to me and I want to learn, how to build a robust predictions using gradient boosting. I want to use ensemble, but I think, ensembling will take more time, and I'd better stick to one decision.\n",
    "\n",
    "As a metric, I'll choose RMSLE, as it is the one set for this competition."
   ]
  },
  {
   "cell_type": "code",
   "execution_count": null,
   "metadata": {},
   "outputs": [],
   "source": [
    "import numpy as np\n",
    "import pandas as pd\n",
    "import pylab\n",
    "import calendar\n",
    "from datetime import datetime\n",
    "from scipy import stats\n",
    "import seaborn as sn\n",
    "import matplotlib.pyplot as plt\n",
    "%matplotlib inline\n",
    "\n",
    "import lightgbm as lgb\n",
    "from sklearn.metrics import mean_squared_error"
   ]
  },
  {
   "cell_type": "markdown",
   "metadata": {},
   "source": [
    "### Part 1. Dataset and features description"
   ]
  },
  {
   "cell_type": "markdown",
   "metadata": {},
   "source": [
    "Here I'm going to read data from csv files. There are three files:\n",
    "1. train.csv: data and target variable for model training\n",
    "2. test.csv: data to make prediction of target variable by trained model\n",
    "3. macro.csv: additional data both for training and making prediction\n",
    "\n",
    "Features described in file data_dictionary.txt, and description is significantly long, so I'll not copy that content here. Later I'll describe groups of columns."
   ]
  },
  {
   "cell_type": "code",
   "execution_count": null,
   "metadata": {},
   "outputs": [],
   "source": [
    "train_df = pd.read_csv(\"train.csv\", parse_dates=['timestamp'])\n",
    "test_df = pd.read_csv(\"test.csv\", parse_dates=['timestamp'])\n",
    "macro_df = pd.read_csv(\"macro.csv\", parse_dates=['timestamp'])"
   ]
  },
  {
   "cell_type": "code",
   "execution_count": null,
   "metadata": {},
   "outputs": [],
   "source": [
    "print (train_df.shape, test_df.shape, macro_df.shape)"
   ]
  },
  {
   "cell_type": "markdown",
   "metadata": {},
   "source": [
    "I experienced some troubles with *timestamp* column at **macro_df**. It seems, no one else had such behavior, but I need to cast it to *datetime64[ns]* or compatible."
   ]
  },
  {
   "cell_type": "code",
   "execution_count": null,
   "metadata": {},
   "outputs": [],
   "source": [
    "macro_df['timestamp']=macro_df['timestamp'].apply(lambda s: pd.to_datetime(s+' 00:00:00'))\n",
    "macro_df['timestamp'].dtype"
   ]
  },
  {
   "cell_type": "code",
   "execution_count": null,
   "metadata": {},
   "outputs": [],
   "source": [
    "train_df.head().T"
   ]
  },
  {
   "cell_type": "markdown",
   "metadata": {},
   "source": [
    "**train_df** is dataframe containing 292 features. Data exploratory analysis will come later. Now only brief explanations of these features, as they described in annotation to competition:\n",
    "\n",
    "\n",
    "price_doc: sale price (this is the target variable)"
   ]
  },
  {
   "cell_type": "code",
   "execution_count": null,
   "metadata": {},
   "outputs": [],
   "source": [
    "test_df.head().T"
   ]
  },
  {
   "cell_type": "markdown",
   "metadata": {},
   "source": [
    "Same columns, as in **train_df**, but without a target."
   ]
  },
  {
   "cell_type": "code",
   "execution_count": null,
   "metadata": {},
   "outputs": [],
   "source": [
    "macro_df.head().T"
   ]
  },
  {
   "cell_type": "markdown",
   "metadata": {},
   "source": [
    "**macro_df** contains 99 features related to Russia's macroeconomy and financial sector and timestamp to join to the **train_df** and **test_df**. These stats are collected daily, so 2485 days are approximately 7 years."
   ]
  },
  {
   "cell_type": "markdown",
   "metadata": {},
   "source": [
    "### Part 2. Exploratory data analysis"
   ]
  },
  {
   "cell_type": "markdown",
   "metadata": {},
   "source": [
    "I will explore target variable **price_doc**. Price can be quite imbalanced, I'll apply logarithm to see, if it can looks like normal distibution."
   ]
  },
  {
   "cell_type": "code",
   "execution_count": null,
   "metadata": {},
   "outputs": [],
   "source": [
    "train_df['price_doc'].describe()"
   ]
  },
  {
   "cell_type": "markdown",
   "metadata": {},
   "source": [
    "Target description is nice. I see, 75 quartile is 8.3 million, so reasonable. But there is some huge prices, of course, realty market may contain such offers.\n",
    "\n",
    "I'll find skewness and kurtosis"
   ]
  },
  {
   "cell_type": "code",
   "execution_count": null,
   "metadata": {},
   "outputs": [],
   "source": [
    "print(\"Skewness: %f\" % train_df['price_doc'].skew())\n",
    "print(\"Kurtosis: %f\" % train_df['price_doc'].kurt())"
   ]
  },
  {
   "cell_type": "code",
   "execution_count": null,
   "metadata": {},
   "outputs": [],
   "source": [
    "train_df['price_doc_log'] = np.log1p(train_df['price_doc'])"
   ]
  },
  {
   "cell_type": "code",
   "execution_count": null,
   "metadata": {},
   "outputs": [],
   "source": [
    "print(\"Skewness: %f\" % train_df['price_doc_log'].skew())\n",
    "print(\"Kurtosis: %f\" % train_df['price_doc_log'].kurt())"
   ]
  },
  {
   "cell_type": "markdown",
   "metadata": {},
   "source": [
    "Skewness closer to zero and kurtosis less than original of *price_doc*. I think, logarithmic target will be better to predict. "
   ]
  },
  {
   "cell_type": "code",
   "execution_count": null,
   "metadata": {},
   "outputs": [],
   "source": [
    "fig,axes = plt.subplots(ncols=2)\n",
    "fig.set_size_inches(20,10)\n",
    "sn.kdeplot(data=train_df[\"price_doc\"], color=\"r\", shade=True,ax=axes[0])\n",
    "sn.kdeplot(data=train_df[\"price_doc_log\"], color=\"r\", shade=True,ax=axes[1])"
   ]
  },
  {
   "cell_type": "code",
   "execution_count": null,
   "metadata": {},
   "outputs": [],
   "source": [
    "fig,axes = plt.subplots(ncols=2)\n",
    "fig.set_size_inches(20,10)\n",
    "sn.kdeplot(data=train_df[(train_df[\"price_doc\"]>1e6) & (train_df[\"price_doc\"]!=2e6) & (train_df[\"price_doc\"]!=3e6)][\"price_doc\"], color=\"r\", shade=True,ax=axes[0])\n",
    "sn.kdeplot(data=train_df[(train_df[\"price_doc\"]>1e6) & (train_df[\"price_doc\"]!=2e6) & (train_df[\"price_doc\"]!=3e6)][\"price_doc_log\"], color=\"r\", shade=True,ax=axes[1])"
   ]
  },
  {
   "cell_type": "markdown",
   "metadata": {},
   "source": [
    "Without some values, distributions seems more smooth. I'll prepare method of cleaning this values and call it at next step."
   ]
  },
  {
   "cell_type": "code",
   "execution_count": null,
   "metadata": {},
   "outputs": [],
   "source": [
    "def remove_abnormal_prices(df):\n",
    "    df.drop(df[(df[\"price_doc\"]<=1e6) | (df[\"price_doc\"]==2e6) | (df[\"price_doc\"]==3e6)].index,\n",
    "              inplace=True)"
   ]
  },
  {
   "cell_type": "code",
   "execution_count": null,
   "metadata": {},
   "outputs": [],
   "source": [
    "fig,axes = plt.subplots(ncols=2)\n",
    "fig.set_size_inches(20, 10)\n",
    "stats.probplot(train_df[\"price_doc_log\"], dist='norm', fit=True, plot=axes[0])\n",
    "stats.probplot(train_df[(train_df[\"price_doc\"]>1e6) & (train_df[\"price_doc\"]!=2e6) & (train_df[\"price_doc\"]!=3e6)][\"price_doc_log\"], dist='norm', fit=True, plot=axes[1])"
   ]
  },
  {
   "cell_type": "markdown",
   "metadata": {},
   "source": [
    "It seems, logarithm target has normal distibution with some deviations. Model will be trained on *log* Target to get better predictions and satisfy metric condidions. \n",
    "\n",
    "I'll look on *product_type* relation to *price_doc_log*."
   ]
  },
  {
   "cell_type": "code",
   "execution_count": null,
   "metadata": {},
   "outputs": [],
   "source": [
    "ax = sn.FacetGrid(train_df, col=\"product_type\", size=6)\n",
    "ax.map(sn.kdeplot, \"price_doc_log\", color=\"r\", shade=True)\n",
    "ax.add_legend()\n",
    "ax.set(ylabel='density')"
   ]
  },
  {
   "cell_type": "markdown",
   "metadata": {},
   "source": [
    "Investment realty price tends to have round value, 1e6 - one million, 2e6 - two millions, etc."
   ]
  },
  {
   "cell_type": "markdown",
   "metadata": {},
   "source": [
    "### Part 3. Visual analysis of the features"
   ]
  },
  {
   "cell_type": "markdown",
   "metadata": {},
   "source": [
    "I'll explore datatypes of features in **train_df**."
   ]
  },
  {
   "cell_type": "code",
   "execution_count": null,
   "metadata": {},
   "outputs": [],
   "source": [
    "dataTypeDf = pd.DataFrame(train_df.dtypes.value_counts()).reset_index().rename(columns={\"index\":\"variableType\",0:\"count\"})\n",
    "fig,ax = plt.subplots()\n",
    "fig.set_size_inches(20,5)\n",
    "sn.barplot(data=dataTypeDf,x=\"variableType\",y=\"count\",ax=ax)\n",
    "ax.set(xlabel='Variable Type', ylabel='Count',title=\"Variables Count Across Datatype\")"
   ]
  },
  {
   "cell_type": "markdown",
   "metadata": {},
   "source": [
    "*int84* and *float64* values are good for regression. Features marked as *object* are categorical variables. *datetime64[ns]* is **timestamp** column."
   ]
  },
  {
   "cell_type": "markdown",
   "metadata": {},
   "source": [
    "I'll look for missing values in **train_df**"
   ]
  },
  {
   "cell_type": "code",
   "execution_count": null,
   "metadata": {},
   "outputs": [],
   "source": [
    "train_na = (train_df.isnull().sum() / len(train_df)) * 100\n",
    "train_na = train_na.drop(train_na[train_na == 0].index).sort_values(ascending=False)"
   ]
  },
  {
   "cell_type": "code",
   "execution_count": null,
   "metadata": {},
   "outputs": [],
   "source": [
    "f, ax = plt.subplots(figsize=(12, 8))\n",
    "plt.xticks(rotation='90')\n",
    "sn.barplot(x=train_na.index, y=train_na)\n",
    "ax.set(title='Percent missing data by feature', ylabel='% missing')"
   ]
  },
  {
   "cell_type": "markdown",
   "metadata": {},
   "source": [
    "Of 292 columns, 51 have missing values. The percentage of values missing ranges from 0.1% in metro_min_walk to 47.4% in hospital_beds_raion. I'll think, how to deal with it. Remain it intact is an option, though."
   ]
  },
  {
   "cell_type": "markdown",
   "metadata": {},
   "source": [
    "I need to get some new features derived from timestamp to continue."
   ]
  },
  {
   "cell_type": "code",
   "execution_count": null,
   "metadata": {},
   "outputs": [],
   "source": [
    "train_df['year'] = train_df['timestamp'].apply(lambda ts: ts.year)\n",
    "train_df['month'] = train_df['timestamp'].apply(lambda ts:ts. month)\n",
    "\n",
    "test_df['year'] = test_df['timestamp'].apply(lambda ts: ts.year)\n",
    "test_df['month'] = test_df['timestamp'].apply(lambda ts: ts.month)"
   ]
  },
  {
   "cell_type": "code",
   "execution_count": null,
   "metadata": {},
   "outputs": [],
   "source": [
    "fig,(ax1,ax2) = plt.subplots(ncols=2)\n",
    "fig.set_size_inches(20,5)\n",
    "sn.boxplot(data=train_df,y=\"price_doc\",orient=\"v\",ax=ax1)\n",
    "sn.boxplot(data=train_df,x=\"price_doc\",y=\"year\",orient=\"h\",ax=ax2)\n",
    "\n",
    "fig1,ax3 = plt.subplots()\n",
    "fig1.set_size_inches(20,5)\n",
    "sn.boxplot(data=train_df,x=\"month\",y=\"price_doc\",orient=\"v\",ax=ax3)\n",
    "ax1.set(ylabel='Price Doc', title=\"Box Plot On Price Doc\")\n",
    "ax2.set(xlabel='Price Doc', ylabel='Year',title=\"Box Plot On Price Doc Across Year\")\n",
    "ax3.set(xlabel='Month', ylabel='Count',title=\"Box Plot On Price Doc Across Month\")"
   ]
  },
  {
   "cell_type": "code",
   "execution_count": null,
   "metadata": {},
   "outputs": [],
   "source": [
    "stateDf = pd.DataFrame(train_df[~train_df['state'].isnull()]['state'].value_counts()).reset_index().rename(columns={\"index\":\"state\",\"state\":\"count\"})\n",
    "stateDf\n",
    "fig,ax = plt.subplots()\n",
    "fig.set_size_inches(20,5)\n",
    "sn.barplot(data=stateDf,x=\"state\",y=\"count\",ax=ax)\n",
    "ax.set(xlabel='state', ylabel='Count',title=\"Variables Count Across Datatype\")"
   ]
  },
  {
   "cell_type": "markdown",
   "metadata": {},
   "source": [
    "State should be discrete valued between 1 and 4. There is a 33 in it that is cleary a data entry error\n",
    "Lets just replace it with value 3."
   ]
  },
  {
   "cell_type": "code",
   "execution_count": null,
   "metadata": {},
   "outputs": [],
   "source": [
    "def correct_state_33(df):\n",
    "    df.loc[df['state'] == 33, 'state'] = 3"
   ]
  },
  {
   "cell_type": "markdown",
   "metadata": {},
   "source": [
    "I'll explore *build_year* feature"
   ]
  },
  {
   "cell_type": "code",
   "execution_count": null,
   "metadata": {},
   "outputs": [],
   "source": [
    "f, ax = plt.subplots(figsize=(12, 8))\n",
    "plt.xticks(rotation='90')\n",
    "ind = train_df[(train_df['build_year'] <= 1691) | (train_df['build_year'] >= 2018)].index\n",
    "by_df = train_df.drop(ind).sort_values(by=['build_year'])\n",
    "sn.countplot(x=by_df['build_year'])\n",
    "ax.set(title='Distribution of build year')"
   ]
  },
  {
   "cell_type": "markdown",
   "metadata": {},
   "source": [
    "The distribution appears bimodal with a peak somewhere in the early 1970s and somewhere in the past few years."
   ]
  },
  {
   "cell_type": "code",
   "execution_count": null,
   "metadata": {},
   "outputs": [],
   "source": [
    "buildYearDf = pd.DataFrame(train_df[(train_df['build_year']<1147)|(train_df['build_year']>2030)]['build_year'].value_counts()).reset_index().rename(columns={\"index\":\"build_year\",\"build_year\":\"count\"})\n",
    "buildYearDf\n",
    "fig,ax = plt.subplots()\n",
    "fig.set_size_inches(20,5)\n",
    "sn.barplot(data=buildYearDf,x=\"build_year\",y=\"count\",ax=ax)\n",
    "ax.set(xlabel='Build Year', ylabel='Count',title=\"Count Across build_year\")"
   ]
  },
  {
   "cell_type": "markdown",
   "metadata": {},
   "source": [
    "Build_year has some erroneous values. Since its unclear what they should be, let's replace 20052009 with 2007, 4965 with 1965, 20 with 1920, 71 with 1971. Values 0, 1, 3 remain intact."
   ]
  },
  {
   "cell_type": "code",
   "execution_count": null,
   "metadata": {},
   "outputs": [],
   "source": [
    "def clean_build_year(df):\n",
    "    build_year_mode = df['build_year'].mode().iloc[0]\n",
    "    print(\"build_year_mode=%s\"%build_year_mode)\n",
    "\n",
    "    df.loc[df['build_year'] == 20052009, 'build_year'] = 2007\n",
    "    df.loc[df['build_year'] == 4965, 'build_year'] = 1965\n",
    "    df.loc[df['build_year'] == 20, 'build_year'] = 1920\n",
    "    df.loc[df['build_year'] == 71, 'build_year'] = 1971\n",
    "\n",
    "    #df.loc[df['build_year'] < 1147, 'build_year'] = build_year_mode"
   ]
  },
  {
   "cell_type": "markdown",
   "metadata": {},
   "source": [
    "Now let’s see if build_year and prices are related. Here I group the data by year and take the mean of price_doc."
   ]
  },
  {
   "cell_type": "code",
   "execution_count": null,
   "metadata": {},
   "outputs": [],
   "source": [
    "f, ax = plt.subplots(figsize=(12, 6))\n",
    "by_price = by_df.groupby('build_year')[['build_year', 'price_doc']].mean()\n",
    "sn.regplot(x=\"build_year\", y=\"price_doc\", data=by_price, scatter=False, order=3, truncate=True)\n",
    "plt.plot(by_price['build_year'], by_price['price_doc'], color='r')\n",
    "ax.set(title='Mean price by year of build')"
   ]
  },
  {
   "cell_type": "markdown",
   "metadata": {},
   "source": [
    "The relationship appears somewhat steady over time, especially after 1960. There is some volatility in the earlier years. This is not a real effect but simply due to the sparseness of observations until around 1950."
   ]
  },
  {
   "cell_type": "markdown",
   "metadata": {},
   "source": [
    "There are internal home characteristics in the **train_df**. I'll build correlation matrix with column *price_doc*."
   ]
  },
  {
   "cell_type": "code",
   "execution_count": null,
   "metadata": {},
   "outputs": [],
   "source": [
    "internal_feats = ['full_sq', 'life_sq', 'floor', 'max_floor', 'build_year', 'num_room', 'kitch_sq', 'state', 'price_doc']\n",
    "corrmat = train_df[internal_feats].corr()"
   ]
  },
  {
   "cell_type": "code",
   "execution_count": null,
   "metadata": {},
   "outputs": [],
   "source": [
    "f, ax = plt.subplots(figsize=(10, 7))\n",
    "plt.xticks(rotation='90')\n",
    "sn.heatmap(corrmat, square=True, linewidths=.5, annot=True)"
   ]
  },
  {
   "cell_type": "markdown",
   "metadata": {},
   "source": [
    "**Area of Home and Number of Rooms**\n",
    "\n",
    "*full_sq* is correlated with price. I'll take a closer look."
   ]
  },
  {
   "cell_type": "code",
   "execution_count": null,
   "metadata": {},
   "outputs": [],
   "source": [
    "f, ax = plt.subplots(figsize=(10, 7))\n",
    "plt.scatter(x=train_df['full_sq'], y=train_df['price_doc'], c='r')"
   ]
  },
  {
   "cell_type": "markdown",
   "metadata": {},
   "source": [
    "There is an outlier in *full_sq*. Its not clear whether this is an entry error. I'll remove it. "
   ]
  },
  {
   "cell_type": "code",
   "execution_count": null,
   "metadata": {},
   "outputs": [],
   "source": [
    "def remove_life_sq_outlier(df):\n",
    "    df.drop(df[df[\"life_sq\"] > 5000].index, inplace=True)"
   ]
  },
  {
   "cell_type": "code",
   "execution_count": null,
   "metadata": {},
   "outputs": [],
   "source": [
    "f, ax = plt.subplots(figsize=(10, 7))\n",
    "ind = train_df[train_df['full_sq'] > 2000].index\n",
    "plt.scatter(x=train_df.drop(ind)['full_sq'], y=train_df.drop(ind)['price_doc'], c='r', alpha=0.5)\n",
    "ax.set(title='Price by area in sq meters', xlabel='Area', ylabel='Price')"
   ]
  },
  {
   "cell_type": "markdown",
   "metadata": {},
   "source": [
    "The feature *full_sq* is defined in the data dictionary as ‘total area in square meters, including loggias, balconies and other non-residential areas’ and the *life_sq* is defined as ‘living area in square meters, excluding loggias, balconies and other non-residential areas.’ So it should be the case that *life_sq* is always less than *full_sq*."
   ]
  },
  {
   "cell_type": "code",
   "execution_count": null,
   "metadata": {},
   "outputs": [],
   "source": [
    "(train_df['life_sq'] > train_df['full_sq']).sum()"
   ]
  },
  {
   "cell_type": "markdown",
   "metadata": {},
   "source": [
    "There are 37 observations where *life_sq* is greater than *full_sq*."
   ]
  },
  {
   "cell_type": "markdown",
   "metadata": {},
   "source": [
    "I'll explore *num_room* feature"
   ]
  },
  {
   "cell_type": "code",
   "execution_count": null,
   "metadata": {},
   "outputs": [],
   "source": [
    "f, ax = plt.subplots(figsize=(10, 7))\n",
    "sn.countplot(x=train_df['num_room'])\n",
    "ax.set(title='Distribution of room count', xlabel='num_room')"
   ]
  },
  {
   "cell_type": "markdown",
   "metadata": {},
   "source": [
    "A vast majority of the apartments have one, two or three rooms."
   ]
  },
  {
   "cell_type": "markdown",
   "metadata": {},
   "source": [
    "**Timestamp**\n",
    "\n",
    "How does the sale price vary over the time horizon of the data set? Here I just group by the day and caclulate the median price for each day and plot it over time."
   ]
  },
  {
   "cell_type": "code",
   "execution_count": null,
   "metadata": {},
   "outputs": [],
   "source": [
    "f, ax = plt.subplots(figsize=(12, 6))\n",
    "ts_df = train_df.groupby('timestamp')[['price_doc']].mean()\n",
    "#sns.regplot(x=\"timestamp\", y=\"price_doc\", data=ts_df, scatter=False, truncate=True)\n",
    "plt.plot(ts_df.index, ts_df['price_doc'], color='r', )\n",
    "ax.set(title='Daily median price over time')"
   ]
  },
  {
   "cell_type": "markdown",
   "metadata": {},
   "source": [
    "And to compare with the above plot, here is the volume of sales over the same time."
   ]
  },
  {
   "cell_type": "code",
   "execution_count": null,
   "metadata": {},
   "outputs": [],
   "source": [
    "import datetime\n",
    "import matplotlib.dates as mdates\n",
    "years = mdates.YearLocator()   # every year\n",
    "yearsFmt = mdates.DateFormatter('%Y')\n",
    "ts_vc = train_df['timestamp'].value_counts()\n",
    "f, ax = plt.subplots(figsize=(12, 6))\n",
    "plt.bar(left=ts_vc.index, height=ts_vc)\n",
    "ax.xaxis.set_major_locator(years)\n",
    "ax.xaxis.set_major_formatter(yearsFmt)\n",
    "ax.set(title='Sales volume over time', ylabel='Number of transactions')"
   ]
  },
  {
   "cell_type": "markdown",
   "metadata": {},
   "source": [
    "Is there a seasonal component to home prices in the course of a year?"
   ]
  },
  {
   "cell_type": "code",
   "execution_count": null,
   "metadata": {},
   "outputs": [],
   "source": [
    "f, ax = plt.subplots(figsize=(12, 8))\n",
    "ts_df = train_df.groupby(by=[train_df.timestamp.dt.month])[['price_doc']].median()\n",
    "plt.plot(ts_df.index, ts_df, color='r')\n",
    "ax.set(title='Price by month of year')"
   ]
  },
  {
   "cell_type": "markdown",
   "metadata": {},
   "source": [
    "**Home State/Material**\n",
    "\n",
    "How do homes vary in price by condition?"
   ]
  },
  {
   "cell_type": "code",
   "execution_count": null,
   "metadata": {},
   "outputs": [],
   "source": [
    "f, ax = plt.subplots(figsize=(12, 8))\n",
    "ind = train_df[train_df['state'].isnull()].index\n",
    "train_df['price_doc_log10'] = np.log10(train_df['price_doc'])\n",
    "sn.violinplot(x=\"state\", y=\"price_doc_log10\", data=train_df.drop(ind), inner=\"box\")\n",
    "# sns.swarmplot(x=\"state\", y=\"price_doc_log10\", data=train_df.dropna(), color=\"w\", alpha=.2);\n",
    "ax.set(title='Log10 of median price by state of home', xlabel='state', ylabel='log10(price)')"
   ]
  },
  {
   "cell_type": "markdown",
   "metadata": {},
   "source": [
    "It’s hard to tell from the plot, but it does appear that state 4 has the highest sale price on average. Significantly fewer homes fall under this category however. I'll check this assumption:"
   ]
  },
  {
   "cell_type": "code",
   "execution_count": null,
   "metadata": {},
   "outputs": [],
   "source": [
    "train_df.drop(ind).groupby('state')['price_doc'].mean()"
   ]
  },
  {
   "cell_type": "markdown",
   "metadata": {},
   "source": [
    "State 4 has the highest average price by far, followed by state 3. State 1 and 2 are close."
   ]
  },
  {
   "cell_type": "markdown",
   "metadata": {},
   "source": [
    "What about the material feature?"
   ]
  },
  {
   "cell_type": "code",
   "execution_count": null,
   "metadata": {},
   "outputs": [],
   "source": [
    "f, ax = plt.subplots(figsize=(12, 8))\n",
    "ind = train_df[train_df['material'].isnull()].index\n",
    "sn.violinplot(x=\"material\", y=\"price_doc_log\", data=train_df.drop(ind), inner=\"box\")\n",
    "# sns.swarmplot(x=\"state\", y=\"price_doc_log10\", data=train_df.dropna(), color=\"w\", alpha=.2);\n",
    "ax.set(title='Distribution of price by build material', xlabel='material', ylabel='log(price)')"
   ]
  },
  {
   "cell_type": "markdown",
   "metadata": {},
   "source": [
    "It’s unclear what these values mean since this feature is not described in the data dictionary. Material 1 is by far the most common. Only one home is classifed as material 3. How does median price compare among these six materials?"
   ]
  },
  {
   "cell_type": "code",
   "execution_count": null,
   "metadata": {},
   "outputs": [],
   "source": [
    "train_df.drop(ind).groupby('material')['price_doc'].median()"
   ]
  },
  {
   "cell_type": "markdown",
   "metadata": {},
   "source": [
    "**Floor of Home**\n",
    "\n",
    "How does the floor feature compare with price? According to the correlation plot from earlier, there is a moderate positive correlation."
   ]
  },
  {
   "cell_type": "code",
   "execution_count": null,
   "metadata": {},
   "outputs": [],
   "source": [
    "f, ax = plt.subplots(figsize=(12, 8))\n",
    "plt.scatter(x=train_df['floor'], y=train_df['price_doc_log'], c='r', alpha=0.4)\n",
    "sn.regplot(x=\"floor\", y=\"price_doc_log\", data=train_df, scatter=False, truncate=True)\n",
    "ax.set(title='Price by floor of home', xlabel='floor', ylabel='log(price)')"
   ]
  },
  {
   "cell_type": "markdown",
   "metadata": {},
   "source": [
    "On a whole, price seems to rise with the floor, although the effect is pretty small. Along the same lines, I wonder if the height of building is correlated with price. Well look at this using max_floor as a proxy for height."
   ]
  },
  {
   "cell_type": "code",
   "execution_count": null,
   "metadata": {},
   "outputs": [],
   "source": [
    "f, ax = plt.subplots(figsize=(12, 8))\n",
    "plt.scatter(x=train_df['max_floor'], y=train_df['price_doc_log'], c='r', alpha=0.4)\n",
    "sn.regplot(x=\"max_floor\", y=\"price_doc_log\", data=train_df, scatter=False, truncate=True)\n",
    "ax.set(title='Price by max floor of home', xlabel='max_floor', ylabel='log(price)')"
   ]
  },
  {
   "cell_type": "markdown",
   "metadata": {},
   "source": [
    "Again a small positive correlation. This effect however is likely being confounded by the fact that the urban core has both more expensive real estate and taller buildings. So the height of the building alone is likely not what is determing price here."
   ]
  },
  {
   "cell_type": "code",
   "execution_count": null,
   "metadata": {},
   "outputs": [],
   "source": [
    "f, ax = plt.subplots(figsize=(12, 8))\n",
    "plt.scatter(x=train_df['floor'], y=train_df['max_floor'], c='r', alpha=0.4)\n",
    "plt.plot([0, 80], [0, 80], color='.5')"
   ]
  },
  {
   "cell_type": "markdown",
   "metadata": {},
   "source": [
    "The observations below the grey identity line have a floor greater than the number of floors in the building. That’s not good. How many are there?"
   ]
  },
  {
   "cell_type": "code",
   "execution_count": null,
   "metadata": {},
   "outputs": [],
   "source": [
    "train_df.loc[train_df['max_floor'] < train_df['floor'], ['id', 'floor','max_floor']].head(20)"
   ]
  },
  {
   "cell_type": "markdown",
   "metadata": {},
   "source": [
    "There are 1,493 observations where this is the case."
   ]
  },
  {
   "cell_type": "markdown",
   "metadata": {},
   "source": [
    "**Demographic Characteristics**\n",
    "\n",
    "Now let’s move beyond the internal home characteristics and take a look at some of the basic demographic and geographic characteristics. First, the correlation plot."
   ]
  },
  {
   "cell_type": "code",
   "execution_count": null,
   "metadata": {},
   "outputs": [],
   "source": [
    "demo_feats = ['area_m', 'raion_popul', 'full_all', 'male_f', 'female_f', 'young_all', 'young_female', \n",
    "             'work_all', 'work_male', 'work_female', 'price_doc']\n",
    "corrmat = train_df[demo_feats].corr()"
   ]
  },
  {
   "cell_type": "code",
   "execution_count": null,
   "metadata": {},
   "outputs": [],
   "source": [
    "f, ax = plt.subplots(figsize=(10, 7))\n",
    "plt.xticks(rotation='90')\n",
    "sn.heatmap(corrmat, square=True, linewidths=.5, annot=True)"
   ]
  },
  {
   "cell_type": "markdown",
   "metadata": {},
   "source": [
    "Price is correlated with most of these, but the associations are fairly weak. First I’ll check out the sub_area feature. According to the data dictionary, this is the district that the home is located in."
   ]
  },
  {
   "cell_type": "code",
   "execution_count": null,
   "metadata": {},
   "outputs": [],
   "source": [
    "train_df['sub_area'].unique().shape[0]"
   ]
  },
  {
   "cell_type": "markdown",
   "metadata": {
    "scrolled": true
   },
   "source": [
    "I'll try to set how many sales transactions are in each district:"
   ]
  },
  {
   "cell_type": "code",
   "execution_count": null,
   "metadata": {},
   "outputs": [],
   "source": [
    "f, ax = plt.subplots(figsize=(10, 20))\n",
    "sa_vc = train_df['sub_area'].value_counts()\n",
    "sa_vc = pd.DataFrame({'sub_area':sa_vc.index, 'count': sa_vc.values})\n",
    "ax = sn.barplot(x=\"count\", y=\"sub_area\", data=sa_vc, orient=\"h\")\n",
    "ax.set(title='Number of Transactions by District')\n",
    "f.tight_layout()"
   ]
  },
  {
   "cell_type": "markdown",
   "metadata": {},
   "source": [
    "Poselenie Sosenskoe, Nekrasovka, Poselenie Vnukovskoe had the most transactions in the data set by a fairly large margin."
   ]
  },
  {
   "cell_type": "markdown",
   "metadata": {},
   "source": [
    "I'll look if there is a relationship between the share of the population that is working age and price."
   ]
  },
  {
   "cell_type": "code",
   "execution_count": null,
   "metadata": {},
   "outputs": [],
   "source": [
    "train_df['work_share'] = train_df['work_all'] / train_df['raion_popul']\n",
    "f, ax = plt.subplots(figsize=(12, 6))\n",
    "sa_price = train_df.groupby('sub_area')[['work_share', 'price_doc']].mean()\n",
    "sn.regplot(x=\"work_share\", y=\"price_doc\", data=sa_price, scatter=True, order=4, truncate=True)\n",
    "ax.set(title='District mean home price by share of working age population')"
   ]
  },
  {
   "cell_type": "markdown",
   "metadata": {},
   "source": [
    "There does not appear to be a relationship between the mean home price in a district and the district’s share of working age population."
   ]
  },
  {
   "cell_type": "markdown",
   "metadata": {},
   "source": [
    "**School Characteristics**\n",
    "\n",
    "I'll see if the price depends on school quality."
   ]
  },
  {
   "cell_type": "code",
   "execution_count": null,
   "metadata": {},
   "outputs": [],
   "source": [
    "school_feats = ['children_preschool', 'preschool_quota', 'preschool_education_centers_raion', 'children_school', \n",
    "                'school_quota', 'school_education_centers_raion', 'school_education_centers_top_20_raion', \n",
    "                'university_top_20_raion', 'additional_education_raion', 'additional_education_km', 'university_km', 'price_doc']\n",
    "corrmat = train_df[school_feats].corr()"
   ]
  },
  {
   "cell_type": "code",
   "execution_count": null,
   "metadata": {},
   "outputs": [],
   "source": [
    "f, ax = plt.subplots(figsize=(10, 7))\n",
    "plt.xticks(rotation='90')\n",
    "sn.heatmap(corrmat, square=True, linewidths=.5, annot=True)"
   ]
  },
  {
   "cell_type": "markdown",
   "metadata": {},
   "source": [
    "There is little to no correlation between price and the school variables. The school variables however are highly correlated with each other, indicating that we would not want to use all of them in a linear regression model due to multicollinearity."
   ]
  },
  {
   "cell_type": "markdown",
   "metadata": {},
   "source": [
    "The one variable that does show some correlation is *university_top_20_raion*. I'll look at it:"
   ]
  },
  {
   "cell_type": "code",
   "execution_count": null,
   "metadata": {},
   "outputs": [],
   "source": [
    "train_df['university_top_20_raion'].unique()"
   ]
  },
  {
   "cell_type": "code",
   "execution_count": null,
   "metadata": {},
   "outputs": [],
   "source": [
    "f, ax = plt.subplots(figsize=(12, 8))\n",
    "sn.stripplot(x=\"university_top_20_raion\", y=\"price_doc\", data=train_df, jitter=True, alpha=.2, color=\".8\");\n",
    "sn.boxplot(x=\"university_top_20_raion\", y=\"price_doc\", data=train_df)\n",
    "ax.set(title='Distribution of home price by # of top universities in Raion', xlabel='university_top_20_raion', \n",
    "       ylabel='price_doc')"
   ]
  },
  {
   "cell_type": "markdown",
   "metadata": {},
   "source": [
    "Homes in a raion with 3 top 20 universities have the highest median home price, however, it is fairly close among 0, 1, and 2. There are very few homes with 3 top universites in their raion."
   ]
  },
  {
   "cell_type": "markdown",
   "metadata": {},
   "source": [
    "**Cultural/Recreational Characteristics**\n",
    "\n",
    "These features may correlate with price."
   ]
  },
  {
   "cell_type": "code",
   "execution_count": null,
   "metadata": {},
   "outputs": [],
   "source": [
    "cult_feats = ['sport_objects_raion', 'culture_objects_top_25_raion', 'shopping_centers_raion', 'park_km', 'fitness_km', \n",
    "                'swim_pool_km', 'ice_rink_km','stadium_km', 'basketball_km', 'shopping_centers_km', 'big_church_km',\n",
    "                'church_synagogue_km', 'mosque_km', 'theater_km', 'museum_km', 'exhibition_km', 'catering_km', 'price_doc']\n",
    "corrmat = train_df[cult_feats].corr()"
   ]
  },
  {
   "cell_type": "code",
   "execution_count": null,
   "metadata": {},
   "outputs": [],
   "source": [
    "f, ax = plt.subplots(figsize=(12, 7))\n",
    "plt.xticks(rotation='90')\n",
    "sn.heatmap(corrmat, square=True, linewidths=.5, annot=True)"
   ]
  },
  {
   "cell_type": "markdown",
   "metadata": {},
   "source": [
    "There are weak correlations between price and many of these variables. There is a small positive correlation between price and the number of ‘sports objects’ in a raion as well as between price and the number of shopping centers. As expected, there is also a negative correlation between price and the (nearest?) of the cultural and recreational amenities."
   ]
  },
  {
   "cell_type": "markdown",
   "metadata": {},
   "source": [
    "I'll look at *sport_objects*."
   ]
  },
  {
   "cell_type": "code",
   "execution_count": null,
   "metadata": {},
   "outputs": [],
   "source": [
    "f, ax = plt.subplots(figsize=(10, 6))\n",
    "so_price = train_df.groupby('sub_area')[['sport_objects_raion', 'price_doc']].median()\n",
    "sn.regplot(x=\"sport_objects_raion\", y=\"price_doc\", data=so_price, scatter=True, truncate=True)\n",
    "ax.set(title='Median Raion home price by # of sports objects in Raion')"
   ]
  },
  {
   "cell_type": "markdown",
   "metadata": {},
   "source": [
    "There is definitely a positive correlation. This could be a good candidate feature to include in a model."
   ]
  },
  {
   "cell_type": "markdown",
   "metadata": {},
   "source": [
    "I'll do the same for culture objects."
   ]
  },
  {
   "cell_type": "code",
   "execution_count": null,
   "metadata": {},
   "outputs": [],
   "source": [
    "f, ax = plt.subplots(figsize=(10, 6))\n",
    "co_price = train_df.groupby('sub_area')[['culture_objects_top_25_raion', 'price_doc']].median()\n",
    "sn.regplot(x=\"culture_objects_top_25_raion\", y=\"price_doc\", data=co_price, scatter=True, truncate=True)\n",
    "ax.set(title='Median Raion home price by # of sports objects in Raion')"
   ]
  },
  {
   "cell_type": "markdown",
   "metadata": {},
   "source": [
    "We can’t get much information out of this due to the large number of raions that have zero culture objects. What if we just see if there is a difference between raions with and raions without a top 25 culture object."
   ]
  },
  {
   "cell_type": "code",
   "execution_count": null,
   "metadata": {},
   "outputs": [],
   "source": [
    "train_df.groupby('culture_objects_top_25')['price_doc'].median()"
   ]
  },
  {
   "cell_type": "markdown",
   "metadata": {},
   "source": [
    "So raions that have a top 25 cultural object have a median home sale price that is higher by 1.2 million."
   ]
  },
  {
   "cell_type": "markdown",
   "metadata": {},
   "source": [
    "How is the distance to the nearest park related to home price?"
   ]
  },
  {
   "cell_type": "code",
   "execution_count": null,
   "metadata": {},
   "outputs": [],
   "source": [
    "f, ax = plt.subplots(figsize=(10, 6))\n",
    "sn.regplot(x=\"park_km\", y=\"price_doc\", data=train_df, scatter=True, truncate=True, scatter_kws={'color': 'r', 'alpha': .2})\n",
    "ax.set(title='Median Raion home price by # of sports objects in Raion')"
   ]
  },
  {
   "cell_type": "markdown",
   "metadata": {},
   "source": [
    "**Infrastructure Features**"
   ]
  },
  {
   "cell_type": "code",
   "execution_count": null,
   "metadata": {},
   "outputs": [],
   "source": [
    "inf_feats = ['nuclear_reactor_km', 'thermal_power_plant_km', 'power_transmission_line_km', 'incineration_km',\n",
    "                'water_treatment_km', 'incineration_km', 'railroad_station_walk_km', 'railroad_station_walk_min', \n",
    "                'railroad_station_avto_km', 'railroad_station_avto_min', 'public_transport_station_km', \n",
    "                'public_transport_station_min_walk', 'water_km', 'mkad_km', 'ttk_km', 'sadovoe_km','bulvar_ring_km',\n",
    "                'kremlin_km', 'price_doc']\n",
    "corrmat = train_df[inf_feats].corr()"
   ]
  },
  {
   "cell_type": "code",
   "execution_count": null,
   "metadata": {},
   "outputs": [],
   "source": [
    "f, ax = plt.subplots(figsize=(12, 7))\n",
    "plt.xticks(rotation='90')\n",
    "sn.heatmap(corrmat, square=True, linewidths=.5, annot=True)"
   ]
  },
  {
   "cell_type": "code",
   "execution_count": null,
   "metadata": {},
   "outputs": [],
   "source": [
    "f, ax = plt.subplots(figsize=(10, 6))\n",
    "sn.regplot(x=\"kremlin_km\", y=\"price_doc\", data=train_df, scatter=True, truncate=True, scatter_kws={'color': 'r', 'alpha': .2})\n",
    "ax.set(title='Home price by distance to Kremlin')"
   ]
  },
  {
   "cell_type": "markdown",
   "metadata": {},
   "source": [
    "There is negative correlation between distance to Kremlin and price"
   ]
  },
  {
   "cell_type": "markdown",
   "metadata": {},
   "source": [
    "**Macroeconomical features**\n",
    "\n",
    "Now I'll examine macroeconomical features. I'll join **train_df** and **macro_df** by a timestamp and treat **macro_df** as optional (\"left join\")"
   ]
  },
  {
   "cell_type": "code",
   "execution_count": null,
   "metadata": {},
   "outputs": [],
   "source": [
    "train_macro_df = pd.merge(train_df, macro_df, on='timestamp', how='left')\n",
    "print(train_macro_df.shape)"
   ]
  },
  {
   "cell_type": "markdown",
   "metadata": {},
   "source": [
    "Missing values:"
   ]
  },
  {
   "cell_type": "code",
   "execution_count": null,
   "metadata": {},
   "outputs": [],
   "source": [
    "train_macro_na = (train_macro_df[macro_df.columns].isnull().sum() / len(train_macro_df)) * 100\n",
    "train_macro_na = train_macro_na.drop(train_macro_na[train_macro_na == 0].index).sort_values(ascending=False)"
   ]
  },
  {
   "cell_type": "markdown",
   "metadata": {},
   "source": [
    "I see, that one of the columns (*provision_retail_space_modern_sqm*) is totally useless, other (*provision_retail_space_sqm*) is nearly empty. Some others have equal missings, I may predict, It can be weekends, or interval, when data was not collected."
   ]
  },
  {
   "cell_type": "code",
   "execution_count": null,
   "metadata": {},
   "outputs": [],
   "source": [
    "f, ax = plt.subplots(figsize=(12, 8))\n",
    "plt.xticks(rotation='90')\n",
    "sn.barplot(x=train_macro_na.index, y=train_macro_na)\n",
    "ax.set(title='Percent missing data by feature', ylabel='% missing')"
   ]
  },
  {
   "cell_type": "markdown",
   "metadata": {},
   "source": [
    "Next five heatmaps indicates correlation of **macro_df** features."
   ]
  },
  {
   "cell_type": "markdown",
   "metadata": {},
   "source": [
    "#### Main trading features"
   ]
  },
  {
   "cell_type": "code",
   "execution_count": null,
   "metadata": {},
   "outputs": [],
   "source": [
    "mcr_trade_feats = ['oil_urals',\n",
    "                 'gdp_quart',\n",
    "                 'gdp_quart_growth',\n",
    "                 'cpi',\n",
    "                 'ppi',\n",
    "                 'gdp_deflator',\n",
    "                 'balance_trade',\n",
    "                 'balance_trade_growth',\n",
    "                 'usdrub',\n",
    "                 'eurrub',\n",
    "                 'brent',\n",
    "                 'net_capital_export',\n",
    "                 'gdp_annual',\n",
    "                 'gdp_annual_growth',\n",
    "                 'rts',\n",
    "                 'micex',\n",
    "                 'micex_rgbi_tr',\n",
    "                 'micex_cbi_tr',\n",
    "                 'grp',\n",
    "                 'grp_growth',\n",
    "                 'price_doc']\n",
    "corrmat = train_macro_df[mcr_trade_feats].corr()"
   ]
  },
  {
   "cell_type": "code",
   "execution_count": null,
   "metadata": {},
   "outputs": [],
   "source": [
    "f, ax = plt.subplots(figsize=(12, 12))\n",
    "plt.xticks(rotation='90')\n",
    "sn.heatmap(corrmat, square=True, linewidths=.5, annot=True)"
   ]
  },
  {
   "cell_type": "markdown",
   "metadata": {},
   "source": [
    "#### Market features"
   ]
  },
  {
   "cell_type": "code",
   "execution_count": null,
   "metadata": {},
   "outputs": [],
   "source": [
    "mcr_market_feats = ['average_provision_of_build_contract',\n",
    "             'average_provision_of_build_contract_moscow',\n",
    "             'deposits_value',\n",
    "             'deposits_growth',\n",
    "             'deposits_rate',\n",
    "             'mortgage_value',\n",
    "             'mortgage_growth',\n",
    "             'mortgage_rate',\n",
    "             'income_per_cap',\n",
    "             'real_dispos_income_per_cap_growth',\n",
    "             'salary',\n",
    "             'salary_growth',\n",
    "             'fixed_basket',\n",
    "             'retail_trade_turnover',\n",
    "             'retail_trade_turnover_per_cap',\n",
    "             'retail_trade_turnover_growth',\n",
    "             'labor_force',\n",
    "             'unemployment',\n",
    "             'employment',\n",
    "             'pop_natural_increase',\n",
    "             'pop_migration',\n",
    "             'pop_total_inc',\n",
    "             'childbirth',\n",
    "             'mortality',\n",
    "             'price_doc']\n",
    "corrmat = train_macro_df[mcr_market_feats].corr()"
   ]
  },
  {
   "cell_type": "code",
   "execution_count": null,
   "metadata": {},
   "outputs": [],
   "source": [
    "f, ax = plt.subplots(figsize=(12, 12))\n",
    "plt.xticks(rotation='90')\n",
    "sn.heatmap(corrmat, square=True, linewidths=.5, annot=True)"
   ]
  },
  {
   "cell_type": "markdown",
   "metadata": {},
   "source": [
    "#### Investment features"
   ]
  },
  {
   "cell_type": "code",
   "execution_count": null,
   "metadata": {},
   "outputs": [],
   "source": [
    "mcr_invest_feats = ['invest_fixed_capital_per_cap',\n",
    " 'invest_fixed_assets',\n",
    " 'profitable_enterpr_share',\n",
    " 'unprofitable_enterpr_share',\n",
    " 'share_own_revenues',\n",
    " 'overdue_wages_per_cap',\n",
    " 'fin_res_per_cap',\n",
    " 'marriages_per_1000_cap',\n",
    " 'divorce_rate',\n",
    " 'construction_value',\n",
    " 'invest_fixed_assets_phys',\n",
    " 'price_doc']\n",
    "corrmat = train_macro_df[mcr_invest_feats].corr()"
   ]
  },
  {
   "cell_type": "code",
   "execution_count": null,
   "metadata": {},
   "outputs": [],
   "source": [
    "f, ax = plt.subplots(figsize=(7, 7))\n",
    "plt.xticks(rotation='90')\n",
    "sn.heatmap(corrmat, square=True, linewidths=.5, annot=True)"
   ]
  },
  {
   "cell_type": "markdown",
   "metadata": {},
   "source": [
    "#### Rental features"
   ]
  },
  {
   "cell_type": "code",
   "execution_count": null,
   "metadata": {},
   "outputs": [],
   "source": [
    "mcr_rent_feats = ['housing_fund_sqm',\n",
    " 'lodging_sqm_per_cap',\n",
    " 'water_pipes_share',\n",
    " 'baths_share',\n",
    " 'sewerage_share',\n",
    " 'gas_share',\n",
    " 'hot_water_share',\n",
    " 'electric_stove_share',\n",
    " 'heating_share',\n",
    " 'old_house_share',\n",
    " 'average_life_exp',\n",
    " 'infant_mortarity_per_1000_cap',\n",
    " 'perinatal_mort_per_1000_cap',\n",
    " 'incidence_population',\n",
    " 'rent_price_4+room_bus',\n",
    " 'rent_price_3room_bus',\n",
    " 'rent_price_2room_bus',\n",
    " 'rent_price_1room_bus',\n",
    " 'rent_price_3room_eco',\n",
    " 'rent_price_2room_eco',\n",
    " 'rent_price_1room_eco',\n",
    " 'apartment_build',\n",
    " 'apartment_fund_sqm',\n",
    " 'price_doc']\n",
    "corrmat = train_macro_df[mcr_rent_feats].corr()"
   ]
  },
  {
   "cell_type": "code",
   "execution_count": null,
   "metadata": {},
   "outputs": [],
   "source": [
    "f, ax = plt.subplots(figsize=(12, 12))\n",
    "plt.xticks(rotation='90')\n",
    "sn.heatmap(corrmat, square=True, linewidths=.5, annot=True)"
   ]
  },
  {
   "cell_type": "markdown",
   "metadata": {},
   "source": [
    "#### Educational and cultural features"
   ]
  },
  {
   "cell_type": "code",
   "execution_count": null,
   "metadata": {},
   "outputs": [],
   "source": [
    "mcr_edc_cult_feats = ['load_of_teachers_preschool_per_teacher',\n",
    "                 'child_on_acc_pre_school',\n",
    "                 'load_of_teachers_school_per_teacher',\n",
    "                 'students_state_oneshift',\n",
    "                 'modern_education_share',\n",
    "                 'old_education_build_share',\n",
    "                 'provision_doctors',\n",
    "                 'provision_nurse',\n",
    "                 'load_on_doctors',\n",
    "                 'power_clinics',\n",
    "                 'hospital_beds_available_per_cap',\n",
    "                 'hospital_bed_occupancy_per_year',\n",
    "                 'provision_retail_space_sqm',\n",
    "                 'provision_retail_space_modern_sqm',\n",
    "                 'retail_trade_turnover_per_cap',\n",
    "                 'turnover_catering_per_cap',\n",
    "                 'theaters_viewers_per_1000_cap',\n",
    "                 'seats_theather_rfmin_per_100000_cap',\n",
    "                 'museum_visitis_per_100_cap',\n",
    "                 'bandwidth_sports',\n",
    "                 'population_reg_sports_share',\n",
    "                 'students_reg_sports_share',\n",
    "                 'price_doc']\n",
    "corrmat = train_macro_df[mcr_edc_cult_feats].corr()"
   ]
  },
  {
   "cell_type": "code",
   "execution_count": null,
   "metadata": {},
   "outputs": [],
   "source": [
    "f, ax = plt.subplots(figsize=(12, 12))\n",
    "plt.xticks(rotation='90')\n",
    "sn.heatmap(corrmat, square=True, linewidths=.5, annot=True)"
   ]
  },
  {
   "cell_type": "markdown",
   "metadata": {},
   "source": [
    "#### Final **macro_df** feature selection\n",
    "\n",
    "Value of **macro_df** features may be unsignificant. I'll just take columns with absolute correlation more or equal to 0.1. And it's obvious, there will be some multicollinearity, which I may detect and cut excessive features."
   ]
  },
  {
   "cell_type": "code",
   "execution_count": null,
   "metadata": {},
   "outputs": [],
   "source": [
    "macro_cols = ['cpi',\n",
    "            'ppi',\n",
    "            'gdp_deflator',\n",
    "            'usdrub',\n",
    "            'eurrub',\n",
    "            'gdp_annual',\n",
    "            'gdp_annual_growth',\n",
    "            'rts',\n",
    "            'micex_rgbi_tr',\n",
    "            'micex_cbi_tr',\n",
    "            'grp',\n",
    "            'deposits_value',\n",
    "            'salary',\n",
    "            'fixed_basket',\n",
    "            'retail_trade_turnover',\n",
    "            'retail_trade_turnover_per_cap',\n",
    "            'labor_force',\n",
    "            'employment',\n",
    "            'invest_fixed_capital_per_cap',\n",
    "            'invest_fixed_assets',\n",
    "            'profitable_enterpr_share',\n",
    "            'unprofitable_enterpr_share',\n",
    "            'fin_res_per_cap',\n",
    "            'construction_value',\n",
    "            'average_life_exp',\n",
    "            'incidence_population',\n",
    "            'load_of_teachers_school_per_teacher',\n",
    "            'modern_education_share',\n",
    "            'old_education_build_share',\n",
    "            'provision_doctors',\n",
    "            'provision_nurse',\n",
    "            'load_on_doctors',\n",
    "            'hospital_beds_available_per_cap',\n",
    "            'hospital_bed_occupancy_per_year',\n",
    "            'retail_trade_turnover_per_cap',\n",
    "            'turnover_catering_per_cap',\n",
    "            'bandwidth_sports']\n",
    "del train_macro_df"
   ]
  },
  {
   "cell_type": "markdown",
   "metadata": {},
   "source": [
    "Now I'll perform train and test comparison."
   ]
  },
  {
   "cell_type": "markdown",
   "metadata": {},
   "source": [
    "At first, I will look for missing values in **test_df.**"
   ]
  },
  {
   "cell_type": "code",
   "execution_count": null,
   "metadata": {},
   "outputs": [],
   "source": [
    "test_na = (test_df.isnull().sum() / len(test_df)) * 100\n",
    "test_na = test_na.drop(test_na[test_na == 0].index).sort_values(ascending=False)"
   ]
  },
  {
   "cell_type": "code",
   "execution_count": null,
   "metadata": {},
   "outputs": [],
   "source": [
    "f, ax = plt.subplots(figsize=(12, 8))\n",
    "plt.xticks(rotation='90')\n",
    "sn.barplot(x=test_na.index, y=test_na)\n",
    "ax.set(title='Percent missing data by feature', ylabel='% missing')"
   ]
  },
  {
   "cell_type": "markdown",
   "metadata": {},
   "source": [
    "Here are some missing values, We may compare with ones in **train_df**"
   ]
  },
  {
   "cell_type": "code",
   "execution_count": null,
   "metadata": {},
   "outputs": [],
   "source": [
    "f, ax = plt.subplots(nrows=1, ncols=2, figsize=(12, 8), sharey=True)\n",
    "pd.DataFrame(np.log1p(train_df['full_sq'])).plot.kde(ax=ax[0])\n",
    "pd.DataFrame(np.log1p(test_df['full_sq'])).plot.kde(ax=ax[1])\n",
    "ax[0].set(title='train', xlabel='full_sq_log')\n",
    "ax[1].set(title='test', xlabel='full_sq_log')"
   ]
  },
  {
   "cell_type": "markdown",
   "metadata": {},
   "source": [
    "*full_sq* distribution shape in **train_df** looks like one in **test_df**."
   ]
  },
  {
   "cell_type": "code",
   "execution_count": null,
   "metadata": {},
   "outputs": [],
   "source": [
    "f, ax = plt.subplots(nrows=1, ncols=2, figsize=(12, 8), sharey=True)\n",
    "pd.DataFrame(np.log1p(train_df['life_sq'])).plot.kde(ax=ax[0])\n",
    "pd.DataFrame(np.log1p(test_df['life_sq'])).plot.kde(ax=ax[1])\n",
    "ax[0].set(title='train', xlabel='life_sq_log')\n",
    "ax[1].set(title='test', xlabel='life_sq_log')"
   ]
  },
  {
   "cell_type": "markdown",
   "metadata": {},
   "source": [
    "*life_sq* distribution shape in **train_df** looks like one in **test_df**."
   ]
  },
  {
   "cell_type": "code",
   "execution_count": null,
   "metadata": {},
   "outputs": [],
   "source": [
    "f, ax = plt.subplots(nrows=1, ncols=2, figsize=(12, 8), sharey=True)\n",
    "pd.DataFrame(np.log1p(train_df['kitch_sq'])).plot.kde(ax=ax[0])\n",
    "pd.DataFrame(np.log1p(test_df['kitch_sq'])).plot.kde(ax=ax[1])\n",
    "ax[0].set(title='train', xlabel='kitch_sq_log')\n",
    "ax[1].set(title='test', xlabel='kitch_sq_log')"
   ]
  },
  {
   "cell_type": "markdown",
   "metadata": {},
   "source": [
    "*kitch_sq* distribution shape in **train_df** looks like one in **test_df**."
   ]
  },
  {
   "cell_type": "code",
   "execution_count": null,
   "metadata": {},
   "outputs": [],
   "source": [
    "f, ax = plt.subplots(nrows=1, ncols=2, figsize=(12, 8), sharey=True)\n",
    "sn.countplot(x=test_df['num_room'], ax=ax[0])\n",
    "sn.countplot(x=train_df['num_room'], ax=ax[1])\n",
    "ax[0].set(title='test', xlabel='num_room')\n",
    "ax[1].set(title='train', xlabel='num_room')"
   ]
  },
  {
   "cell_type": "markdown",
   "metadata": {},
   "source": [
    "Proportions of quantities of *num_room* are comparable"
   ]
  },
  {
   "cell_type": "code",
   "execution_count": null,
   "metadata": {},
   "outputs": [],
   "source": [
    "f, ax = plt.subplots(nrows=1, ncols=2, figsize=(12, 8), sharey=True)\n",
    "pd.DataFrame(np.log1p(train_df['cafe_count_2000'])).plot.kde(ax=ax[0])\n",
    "pd.DataFrame(np.log1p(test_df['cafe_count_2000'])).plot.kde(ax=ax[1])\n",
    "ax[0].set(title='train', xlabel='cafe_count_2000_log')\n",
    "ax[1].set(title='test', xlabel='cafe_count_2000_log')"
   ]
  },
  {
   "cell_type": "markdown",
   "metadata": {},
   "source": [
    "*cafe_count_2000* distribution shape in **train_df** looks like one in **test_df**."
   ]
  },
  {
   "cell_type": "code",
   "execution_count": null,
   "metadata": {},
   "outputs": [],
   "source": [
    "f, ax = plt.subplots(nrows=1, ncols=2, figsize=(12, 8), sharey=True)\n",
    "pd.DataFrame(np.log1p(train_df['sport_count_3000'])).plot.kde(ax=ax[0])\n",
    "pd.DataFrame(np.log1p(test_df['sport_count_3000'])).plot.kde(ax=ax[1])\n",
    "ax[0].set(title='train', xlabel='sport_count_3000_log')\n",
    "ax[1].set(title='test', xlabel='sport_count_3000_log')"
   ]
  },
  {
   "cell_type": "markdown",
   "metadata": {},
   "source": [
    "*sport_count_3000* distribution shape in **train_df** have some differences with one in **test_df**< but thy are still comparable."
   ]
  },
  {
   "cell_type": "code",
   "execution_count": null,
   "metadata": {},
   "outputs": [],
   "source": [
    "years = mdates.YearLocator()   # every year\n",
    "yearsFmt = mdates.DateFormatter('%Y')\n",
    "ts_vc_train = train_df['timestamp'].value_counts()\n",
    "ts_vc_test = test_df['timestamp'].value_counts()\n",
    "f, ax = plt.subplots(figsize=(12, 6))\n",
    "plt.bar(left=ts_vc_train.index, height=ts_vc_train)\n",
    "plt.bar(left=ts_vc_test.index, height=ts_vc_test)\n",
    "ax.xaxis.set_major_locator(years)\n",
    "ax.xaxis.set_major_formatter(yearsFmt)\n",
    "ax.set(title='Number of transactions by day', ylabel='count')"
   ]
  },
  {
   "cell_type": "markdown",
   "metadata": {},
   "source": [
    "*Number of transactions by day*, of course, varies, but there should be more than just seasonal graph and general trend."
   ]
  },
  {
   "cell_type": "code",
   "execution_count": null,
   "metadata": {},
   "outputs": [],
   "source": [
    "f, ax = plt.subplots(nrows=1, ncols=2, figsize=(12, 8), sharey=True)\n",
    "sn.countplot(x=test_df['product_type'], ax=ax[0])\n",
    "sn.countplot(x=train_df['product_type'], ax=ax[1])\n",
    "ax[0].set(title='test', xlabel='product_type')\n",
    "ax[1].set(title='train', xlabel='product_type')"
   ]
  },
  {
   "cell_type": "markdown",
   "metadata": {},
   "source": [
    "Proportions of quantities of *product_type* are comparable"
   ]
  },
  {
   "cell_type": "code",
   "execution_count": null,
   "metadata": {},
   "outputs": [],
   "source": [
    "f, ax = plt.subplots(nrows=1, ncols=2, figsize=(12, 8), sharey=True)\n",
    "sn.countplot(x=test_df['state'], ax=ax[0])\n",
    "sn.countplot(x=train_df['state'], ax=ax[1])\n",
    "ax[0].set(title='test', xlabel='state')\n",
    "ax[1].set(title='train', xlabel='state')"
   ]
  },
  {
   "cell_type": "markdown",
   "metadata": {},
   "source": [
    "Proportions of quantities of *state* are comparable"
   ]
  },
  {
   "cell_type": "code",
   "execution_count": null,
   "metadata": {},
   "outputs": [],
   "source": [
    "f, ax = plt.subplots(nrows=1, ncols=2, figsize=(12, 8), sharey=True)\n",
    "sn.countplot(x=test_df['material'], ax=ax[0])\n",
    "sn.countplot(x=train_df['material'], ax=ax[1])\n",
    "ax[0].set(title='test', xlabel='material')\n",
    "ax[1].set(title='train', xlabel='material')"
   ]
  },
  {
   "cell_type": "markdown",
   "metadata": {},
   "source": [
    "Proportions of quantities of *material* are comparable\n",
    "\n",
    "It seems to me, that data in **train_df** and **test_df** are comparable and we should get results with decent quality."
   ]
  },
  {
   "cell_type": "markdown",
   "metadata": {},
   "source": [
    "### Part 4. Patterns, insights, pecularities of data "
   ]
  },
  {
   "cell_type": "markdown",
   "metadata": {},
   "source": [
    "Price of Moscow realty depends on many factors, but that's for sure, I consider full square (*full_sq*) as the most important. next may be quantity or rooms (*num_room*), and then it may be district or raion, but it could be just because of different dintance to center, therefore distance to Kremlin.\n",
    "\n",
    "There were many assumptions during the exploratory data analysis, so they are alredy written up there."
   ]
  },
  {
   "cell_type": "markdown",
   "metadata": {},
   "source": [
    "### Part 5. Data preprocessing"
   ]
  },
  {
   "cell_type": "markdown",
   "metadata": {},
   "source": [
    "LightGBM don't required a mandatory preprocessing of the missed values in the input and it worked with the data quite fast. Earlier I chose it as a base algorithm.\n",
    "\n",
    "I'll process **train_df** to remove some outliers and clean data. I will extract logarithmic target variable *price_doc_log* from **train_df** into target_dataset and *id* from **test_df** to construct submission file later. Then, I'll drop unneeded columns, concat **train_df** and **test_df** and merge **macro_df** to get access to selected *macro_cols*"
   ]
  },
  {
   "cell_type": "code",
   "execution_count": null,
   "metadata": {},
   "outputs": [],
   "source": [
    "remove_abnormal_prices(train_df)\n",
    "clean_build_year(train_df)\n",
    "correct_state_33(train_df)\n",
    "remove_life_sq_outlier(train_df)"
   ]
  },
  {
   "cell_type": "code",
   "execution_count": null,
   "metadata": {},
   "outputs": [],
   "source": [
    "y_train = train_df['price_doc_log'].values\n",
    "id_test = test_df['id']"
   ]
  },
  {
   "cell_type": "code",
   "execution_count": null,
   "metadata": {},
   "outputs": [],
   "source": [
    "train_df.drop(['id', 'price_doc', 'price_doc_log','price_doc_log10'], axis=1, inplace=True)\n",
    "test_df.drop(['id'], axis=1, inplace=True)\n",
    "\n",
    "# Build full_df = (train_df+test_df).join(macro_df)\n",
    "idx_split = len(train_df)\n",
    "full_df = pd.concat([train_df, test_df],sort=False)"
   ]
  },
  {
   "cell_type": "code",
   "execution_count": null,
   "metadata": {},
   "outputs": [],
   "source": [
    "full_df = pd.merge_ordered(full_df, macro_df[['timestamp']+macro_cols], on='timestamp', how='left')\n",
    "print(full_df.shape)"
   ]
  },
  {
   "cell_type": "markdown",
   "metadata": {},
   "source": [
    "### Part 6. Feature engineering and description "
   ]
  },
  {
   "cell_type": "markdown",
   "metadata": {},
   "source": [
    "#### 6.1 Creating new features\n",
    "\n",
    "I'll add basic timestamp-derived features: *year*, *month* and *day of week*. \n",
    "\n",
    "Then I'll calculate quantity of realty deals in given month (*month_year_cnt*) and week (*week_year_cnt*). I'll do that, because price of the house could also be affected by the availability of other houses at the same time period. So creating a count variable on the number of houses at the given time period might help.\n",
    "\n",
    "And after that, i'll compute ratio of given floor to a total floors quantity in building (*rel_floor*) and ratio of kitchen square to full square (*rel_kitch_sq*). Finally, column *timestamp* will be dropped to avoid overfitting\n",
    "\n",
    "Since schools generally play an important role in house hunting, I'll create some variables around school."
   ]
  },
  {
   "cell_type": "code",
   "execution_count": null,
   "metadata": {},
   "outputs": [],
   "source": [
    "# Add year, month and day-of-week\n",
    "full_df['year'] = full_df.timestamp.dt.year\n",
    "full_df['month'] = full_df.timestamp.dt.month\n",
    "full_df['dow'] = full_df.timestamp.dt.dayofweek\n",
    "\n",
    "# Add month-year\n",
    "month_year = (full_df.timestamp.dt.month + full_df.timestamp.dt.year * 100)\n",
    "month_year_cnt_map = month_year.value_counts().to_dict()\n",
    "full_df['month_year_cnt'] = month_year.map(month_year_cnt_map)\n",
    "\n",
    "# Add week-year count\n",
    "week_year = (full_df.timestamp.dt.weekofyear + full_df.timestamp.dt.year * 100)\n",
    "week_year_cnt_map = week_year.value_counts().to_dict()\n",
    "full_df['week_year_cnt'] = week_year.map(week_year_cnt_map)\n",
    "\n",
    "# Other feature engineering\n",
    "full_df['rel_floor'] = full_df['floor'] / full_df['max_floor'].astype(float)\n",
    "full_df['rel_kitch_sq'] = full_df['kitch_sq'] / full_df['full_sq'].astype(float)\n",
    "full_df[\"extra_sq\"] = full_df[\"full_sq\"] - full_df[\"life_sq\"]\n",
    "full_df[\"floor_from_top\"] = full_df[\"max_floor\"] - full_df[\"floor\"]\n",
    "\n",
    "full_df[\"ratio_preschool\"] = full_df[\"children_preschool\"] / full_df[\"preschool_quota\"].astype(\"float\")\n",
    "full_df[\"ratio_school\"] = full_df[\"children_school\"] / full_df[\"school_quota\"].astype(\"float\")\n",
    "\n",
    "# Remove timestamp column (may overfit the model in train)\n",
    "full_df.drop(['timestamp'], axis=1, inplace=True)"
   ]
  },
  {
   "cell_type": "markdown",
   "metadata": {},
   "source": [
    "#### 6.2 Deal with categorical values\n",
    "\n",
    "I need to create distinct datasets with numeric values and object type values. **obj_df** will be processed to be fit to LightGBM, than I'll concatenate datasets again."
   ]
  },
  {
   "cell_type": "code",
   "execution_count": null,
   "metadata": {},
   "outputs": [],
   "source": [
    "numeric_df = full_df.select_dtypes(exclude=['object'])\n",
    "obj_df = full_df.select_dtypes(include=['object']).copy()\n",
    "for c in obj_df:\n",
    "    obj_df[c] = pd.factorize(obj_df[c])[0]\n",
    "\n",
    "values_df = pd.concat([numeric_df, obj_df], axis=1)\n",
    "del numeric_df, obj_df"
   ]
  },
  {
   "cell_type": "markdown",
   "metadata": {},
   "source": [
    "#### 6.3 Create a validation set, with last 20% of data\n",
    "\n",
    "I'll provide hold-on dataset to estimate model after CV, but before submitting results. It's necessary operation, and data leakage should be evaded."
   ]
  },
  {
   "cell_type": "code",
   "execution_count": null,
   "metadata": {},
   "outputs": [],
   "source": [
    "idx_val = int(idx_split * 0.2)\n",
    "\n",
    "X_train = values_df[:idx_split]\n",
    "X_train_part = values_df[:idx_split-idx_val]\n",
    "X_valid = values_df[idx_split-idx_val:idx_split]\n",
    "y_train_part = y_train[:-idx_val]\n",
    "y_valid = y_train[-idx_val:]\n",
    "\n",
    "X_test = values_df[idx_split:]\n",
    "\n",
    "columns_df = values_df.columns\n",
    "\n",
    "print('X_train shape is', X_train.shape)\n",
    "print('X_train_part shape is', X_train_part.shape)\n",
    "print('y_train_part shape is', y_train_part.shape)\n",
    "print('X_valid shape is', X_valid.shape)\n",
    "print('y_valid shape is', y_valid.shape)\n",
    "print('X_test shape is', X_test.shape)"
   ]
  },
  {
   "cell_type": "markdown",
   "metadata": {},
   "source": [
    "#### 6.4 LightGBM datasets preparing"
   ]
  },
  {
   "cell_type": "code",
   "execution_count": null,
   "metadata": {},
   "outputs": [],
   "source": [
    "lgb_x_train_part = lgb.Dataset(X_train_part, \n",
    "                               label=y_train_part)"
   ]
  },
  {
   "cell_type": "code",
   "execution_count": null,
   "metadata": {},
   "outputs": [],
   "source": [
    "lgb_x_valid = lgb.Dataset(X_valid, \n",
    "                          label=y_valid)"
   ]
  },
  {
   "cell_type": "markdown",
   "metadata": {},
   "source": [
    "### Part 7. Cross-validation, hyperparameter tuning"
   ]
  },
  {
   "cell_type": "markdown",
   "metadata": {},
   "source": [
    "I'll set random seed value = **111**, initial iterations (rounds = 1500).\n",
    "\n",
    "Also I want to emphasize Cross-validation role. I encountered a discussion about CV and here is important statement:\n",
    "\n",
    "Mykhailo Lisovyi (https://stackoverflow.com/users/9640384/mykhailo-lisovyi):\n",
    "\n",
    "\"In general, the purpose of CV in NOT to do hyperparameter optimisation. The purpose is to evaluate performance of model-building procedure.\n",
    "\n",
    "A basic train/test split is conceptually identical to a 1-fold CV (with a custom size of the split in contrast to the 1/K train size in the k-fold CV). The advantage of doing more splits (i.e. k>1 CV) is to get more information about the estimate of generalisation error. There is more info in a sense of getting the error + stat uncertainty. There is an excellent discussion(https://stats.stackexchange.com/questions/244907/how-to-get-hyper-parameters-in-nested-cross-validation?rq=1) on CrossValidated (start with the links added to the question, which cover the same question, but formulated in a different way). It covers nested cross validation and is absolutely not straightforward. But if you will wrap your head around the concept in general, this will help you in various non-trivial situations. The idea that you have to take away is: **The purpose of CV is to evaluate performance of model-building procedure.**\n",
    "\n",
    "Keeping that idea in mind, how does one approach hyperparameter estimation in general (not only in LightGBM)?\n",
    "\n",
    "You want to train a model with a set of parameters on some data and evaluate each variation of the model on an independent (validation) set. Then you intend to choose the best parameters by choosing the variant that gives the best evaluation metric of your choice.\n",
    "This **can be done with a simple train/test split.** But evaluated performance, and thus the choice of the optimal model parameters, might be just a fluctuation on a particular split.\n",
    "Thus, you **can evaluate each of those models more statistically robust averaging evaluation over several train/test splits, i.e k-fold CV.**\n",
    "Then you can make a step further and say that you had an additional hold-out set, that was separated before hyperparameter optimisation was started. This way you can evaluate the chosen best model on that set to measure the final generalisation error. However, you can make even step further and instead of having a single test sample you can have an outer CV loop, which brings us to nested cross validation.\n",
    "\n",
    "Technically, *lightbgm.cv()* allows you only to evaluate performance on a k-fold split with fixed model parameters. For hyper-parameter tuning you will need to run it in a loop providing different parameters and recoding averaged performance to choose the best parameter set. after the loop is complete. This interface is different from *sklearn*, which provides you with complete functionality to do hyperparameter optimisation in a CV loop. Personally, **I would recommend to use the sklearn-API of lightgbm**. It is just a wrapper around the native *lightgbm.train()* functionality, thus it is not slower. But it allows you to use the full stack of *sklearn* toolkit, thich makes your life MUCH easier.\""
   ]
  },
  {
   "cell_type": "markdown",
   "metadata": {},
   "source": [
    "#### 7.1 Initial hyperparameters"
   ]
  },
  {
   "cell_type": "code",
   "execution_count": null,
   "metadata": {},
   "outputs": [],
   "source": [
    "RS = 111\n",
    "np.random.seed(RS)\n",
    "ROUNDS = 1500\n",
    "params = {\n",
    "    'objective': 'regression',\n",
    "    'metric': 'rmse', #metric is chosen and descripted further\n",
    "    'boosting': 'gbdt',\n",
    "    'learning_rate': 0.1,\n",
    "    'verbose': 1,\n",
    "    'num_leaves': 2 ** 5,\n",
    "    'bagging_fraction': 0.95,\n",
    "    'bagging_freq': 1,\n",
    "    'bagging_seed': RS,\n",
    "    'feature_fraction': 0.7,\n",
    "    'feature_fraction_seed': RS,\n",
    "    'max_bin': 100,\n",
    "    'max_depth': 5,\n",
    "    'num_rounds': ROUNDS\n",
    "}"
   ]
  },
  {
   "cell_type": "code",
   "execution_count": null,
   "metadata": {},
   "outputs": [],
   "source": [
    "import warnings\n",
    "warnings.filterwarnings('ignore')"
   ]
  },
  {
   "cell_type": "markdown",
   "metadata": {},
   "source": [
    "#### 7.2 Initial tune hyperparameters with cv"
   ]
  },
  {
   "cell_type": "code",
   "execution_count": null,
   "metadata": {},
   "outputs": [],
   "source": [
    "learning_rates = [0.005,0.01,0.02]\n",
    "nums_leaves = [8,16,32,48,64]"
   ]
  },
  {
   "cell_type": "code",
   "execution_count": null,
   "metadata": {},
   "outputs": [],
   "source": [
    "%%time\n",
    "lgb_cv_params = []\n",
    "lgb_cv_results = []\n",
    "for learning_rate in learning_rates:\n",
    "    for num_leaves in nums_leaves:\n",
    "        gridParams = {\n",
    "            'objective': 'regression',\n",
    "            'metric': 'rmse',\n",
    "            'boosting': 'gbdt',\n",
    "            'learning_rate': learning_rate,\n",
    "            'verbose': 1,\n",
    "            'num_leaves': num_leaves,\n",
    "            'bagging_fraction': 0.95,\n",
    "            'bagging_freq': 1,\n",
    "            'bagging_seed': RS,\n",
    "            'feature_fraction': 0.7,\n",
    "            'feature_fraction_seed': RS,\n",
    "            'max_bin': 100,\n",
    "            'max_depth': 5\n",
    "            }\n",
    "        print('Processing learning rate = {0}, num_leaves = {1}'.format(learning_rate, num_leaves))\n",
    "        lgb_cv_params.append(gridParams)\n",
    "        lgb_cv_results.append(lgb.cv(gridParams, lgb_x_train_part, num_boost_round=ROUNDS, nfold=4, early_stopping_rounds=200, stratified=False, seed=RS))"
   ]
  },
  {
   "cell_type": "code",
   "execution_count": null,
   "metadata": {},
   "outputs": [],
   "source": [
    "i=0\n",
    "for res in lgb_cv_results:\n",
    "    print(lgb_cv_params[i]['learning_rate'],lgb_cv_params[i]['num_leaves'],len(res['rmse-mean']), np.round(np.min(res['rmse-mean']),4))\n",
    "    i+=1"
   ]
  },
  {
   "cell_type": "markdown",
   "metadata": {},
   "source": [
    "#### 7.3 Fine tune hyperparameters with cv"
   ]
  },
  {
   "cell_type": "code",
   "execution_count": null,
   "metadata": {},
   "outputs": [],
   "source": [
    "fine_learning_rates = [0.019,0.02,0.021]\n",
    "fine_nums_leaves = [27,30,32,34,37]"
   ]
  },
  {
   "cell_type": "code",
   "execution_count": null,
   "metadata": {},
   "outputs": [],
   "source": [
    "%%time\n",
    "lgb_cv_fine_params = []\n",
    "lgb_cv_fine_results = []\n",
    "for learning_rate in fine_learning_rates:\n",
    "    for num_leaves in fine_nums_leaves:\n",
    "        gridParams = {\n",
    "            'objective': 'regression',\n",
    "            'metric': 'rmse',\n",
    "            'boosting': 'gbdt',\n",
    "            'learning_rate': learning_rate,\n",
    "            'verbose': 1,\n",
    "            'num_leaves': num_leaves,\n",
    "            'bagging_fraction': 0.95,\n",
    "            'bagging_freq': 1,\n",
    "            'bagging_seed': RS,\n",
    "            'feature_fraction': 0.7,\n",
    "            'feature_fraction_seed': RS,\n",
    "            'max_bin': 100,\n",
    "            'max_depth': 5,\n",
    "            'num_rounds': ROUNDS\n",
    "            }\n",
    "        print('Processing learning rate = {0}, num_leaves = {1}'.format(learning_rate, num_leaves))\n",
    "        lgb_cv_fine_params.append(gridParams)\n",
    "        lgb_cv_fine_results.append(lgb.cv(gridParams, lgb_x_train_part, nfold=4, early_stopping_rounds=200, stratified=False, seed=RS))"
   ]
  },
  {
   "cell_type": "code",
   "execution_count": null,
   "metadata": {},
   "outputs": [],
   "source": [
    "i=0\n",
    "for res in lgb_cv_fine_results:\n",
    "    print(lgb_cv_fine_params[i]['learning_rate'],lgb_cv_fine_params[i]['num_leaves'],len(res['rmse-mean']), np.round(np.min(res['rmse-mean']),4))\n",
    "    i+=1"
   ]
  },
  {
   "cell_type": "markdown",
   "metadata": {
    "scrolled": true
   },
   "source": [
    "### Part 8. Validation and learning curves"
   ]
  },
  {
   "cell_type": "markdown",
   "metadata": {},
   "source": [
    "#### 8.1 Making predictions on validation set\n",
    "\n",
    "I'll set params as the best I get by CV.\n",
    "\n",
    "I need to create variable *evals_result* to record eval results for plotting validation curve."
   ]
  },
  {
   "cell_type": "code",
   "execution_count": null,
   "metadata": {},
   "outputs": [],
   "source": [
    "params = {\n",
    "    'objective': 'regression',\n",
    "    'metric': {'rmse'},\n",
    "    'boosting': 'gbdt',\n",
    "    'learning_rate': 0.019,\n",
    "    'verbose': 1,\n",
    "    'num_leaves': 32,\n",
    "    'bagging_fraction': 0.95,\n",
    "    'bagging_freq': 1,\n",
    "    'bagging_seed': RS,\n",
    "    'feature_fraction': 0.7,\n",
    "    'feature_fraction_seed': RS,\n",
    "    'max_bin': 100,\n",
    "    'max_depth': 5,\n",
    "    'num_rounds': ROUNDS\n",
    "}\n",
    "evals_result = {} "
   ]
  },
  {
   "cell_type": "code",
   "execution_count": null,
   "metadata": {},
   "outputs": [],
   "source": [
    "model_lgb = lgb.train(params, \n",
    "                      lgb_x_train_part, \n",
    "                      evals_result=evals_result, \n",
    "                      valid_sets=[lgb_x_valid], \n",
    "                      early_stopping_rounds=200)"
   ]
  },
  {
   "cell_type": "markdown",
   "metadata": {},
   "source": [
    "#### 8.2 Validation curve\n",
    "\n",
    "Now I'll plot validation curve."
   ]
  },
  {
   "cell_type": "code",
   "execution_count": null,
   "metadata": {},
   "outputs": [],
   "source": [
    "ax = lgb.plot_metric(evals_result, metric='rmse')\n",
    "plt.show()"
   ]
  },
  {
   "cell_type": "markdown",
   "metadata": {},
   "source": [
    "Smooth curve shows that model minimized metric well enough on 400-600 iteration. But perfomance of LightGBM is very impressive, so I'll keep **ROUNDS=1500**"
   ]
  },
  {
   "cell_type": "markdown",
   "metadata": {},
   "source": [
    "### Part 9. Prediction for hold-out and test samples "
   ]
  },
  {
   "cell_type": "markdown",
   "metadata": {},
   "source": [
    "#### 9.1 RMSLE"
   ]
  },
  {
   "cell_type": "code",
   "execution_count": null,
   "metadata": {},
   "outputs": [],
   "source": [
    "lgb_valid_pred = model_lgb.predict(X_valid)\n",
    "lgb_mse = np.sqrt(mean_squared_error(y_valid, lgb_valid_pred))\n",
    "lgb_mse"
   ]
  },
  {
   "cell_type": "markdown",
   "metadata": {},
   "source": [
    "Resulting metric is good enough to continue with submitting test set predictions on Kaggle."
   ]
  },
  {
   "cell_type": "markdown",
   "metadata": {},
   "source": [
    "#### 9.2 Feature importance"
   ]
  },
  {
   "cell_type": "code",
   "execution_count": null,
   "metadata": {},
   "outputs": [],
   "source": [
    "gain = model_lgb.feature_importance('gain')\n",
    "ft = pd.DataFrame({'feature':model_lgb.feature_name(), 'split':model_lgb.feature_importance('split'), 'gain':100 * gain / gain.sum()}).sort_values('gain', ascending=False)\n",
    "print(ft.head(25))"
   ]
  },
  {
   "cell_type": "code",
   "execution_count": null,
   "metadata": {},
   "outputs": [],
   "source": [
    "plt.figure()\n",
    "ft[['feature','gain']].head(25).plot(kind='barh', x='feature', y='gain', legend=False, figsize=(10, 20))"
   ]
  },
  {
   "cell_type": "markdown",
   "metadata": {},
   "source": [
    "Obviously, *full_sq* is the most important feature, but second one, *cafe_count_2000*, is unexpected. Same for the following, *num_room*, *life_sq* and *build_year* are valuable, but *sport_count_3000*, *cafe_count_5000_price_2500* and *cafe_count_5000_price_high* are surprising. Also, there are some engineered features: *extra_sq* is on the sixth place, *ratio_preschool* and *rel_kitch_sq* in top."
   ]
  },
  {
   "cell_type": "markdown",
   "metadata": {},
   "source": [
    "### Part 10. Model evaluation with metrics description"
   ]
  },
  {
   "cell_type": "markdown",
   "metadata": {},
   "source": [
    "Finally, model trains on full train set. Metric chosen for competition is *Root Mean Squared Log Error* **(RMSLE)**. \n",
    "\n",
    "This metric is used when the Target variable is converted into Log(Target), and this is our case. To evaluate RMSLE, I need to take square root out of *sklearn.mean_squared_error*. So, our metric on validation set **X_valid** (20% of full **train_df**) gives about **0.2271**.\n",
    "\n",
    "There is an economical meaning of RMSLE, it penalises underpricing more than overpricing, which may be relevant for banks, as they have huge amounte of financial resources and may benefit from investing money in realty and sell actives later, but with greater profit. Also, realty prices in Russia tends to grow, especially in Moscow. This is a general direction, and there is one rule: realty become more expensive over time, so go for upper limit and earn more! Anyhow, it's just my opinion and doesn't make big sense in context of this project."
   ]
  },
  {
   "cell_type": "code",
   "execution_count": null,
   "metadata": {},
   "outputs": [],
   "source": [
    "lgb_x_train = lgb.Dataset(X_train,\n",
    "                          label=y_train)"
   ]
  },
  {
   "cell_type": "code",
   "execution_count": null,
   "metadata": {},
   "outputs": [],
   "source": [
    "bst_lgb = lgb.train(params, lgb_x_train)"
   ]
  },
  {
   "cell_type": "code",
   "execution_count": null,
   "metadata": {},
   "outputs": [],
   "source": [
    "lgb_test_pred = bst_lgb.predict(X_test)\n",
    "lgb_test_pred_exp = np.exp(lgb_test_pred)"
   ]
  },
  {
   "cell_type": "code",
   "execution_count": null,
   "metadata": {},
   "outputs": [],
   "source": [
    "output=pd.DataFrame({'id':id_test,'price_doc':lgb_test_pred_exp})\n",
    "output.to_csv('lgb_%s_%s_%s.csv'%(ROUNDS, RS, np.round(lgb_mse,4)),index=False)"
   ]
  },
  {
   "cell_type": "markdown",
   "metadata": {},
   "source": [
    "After submitting result to Kaggle, best result for Public LB was **0.32145** and for Private LB **0.31787**. It means getting in top-1000 out of 3200 with the first place scored respectively **0.29755** and **0.30087**."
   ]
  },
  {
   "attachments": {
    "image.png": {
     "image/png": "[encoded data removed]"
    }
   },
   "cell_type": "markdown",
   "metadata": {},
   "source": [
    "![image.png](attachment:image.png)"
   ]
  },
  {
   "cell_type": "markdown",
   "metadata": {},
   "source": [
    "### Part 11. Conclusions"
   ]
  },
  {
   "cell_type": "markdown",
   "metadata": {},
   "source": [
    "This was my very first experience for competing on Kaggle (although without appear on a leaderboard actualy).\n",
    "\n",
    "I was able to explore given data, find some dependencies and relations. Also i caught the idea of droping some irrelevant or bad (outlied) train data in favor of important features.\n",
    "\n",
    "I used regression with gradient boosting LightGBM library, I used it for the second time and gain valuable results. This approach can show feature importance and therefore interpretable! One can see which variables made most significant effect on prediction and may considerate to find other reliable data and features to futher improve model and forecasts.\n",
    "\n",
    "There are many ways to improve the solution, as it is, obviously, not the best one. I could use ensemble of different models, cleanse data based on outer datasets and realty agencies datasets. I could provide more complex feature engeneering, for example based on macroeconomical feature changes and on rolling time intervals. Also, I could use PCA or another GB model (XGboost) as a most important feature selector.\n",
    "\n",
    "But there is also time limits and perfomance issues, so my decision may be not the worst for some cases, and when I'll face similar task, I'll bring this code and get the job done!"
   ]
  }
 ],
 "metadata": {
  "kernelspec": {
   "display_name": "Python 3",
   "language": "python",
   "name": "python3"
  },
  "language_info": {
   "codemirror_mode": {
    "name": "ipython",
    "version": 3
   },
   "file_extension": ".py",
   "mimetype": "text/x-python",
   "name": "python",
   "nbconvert_exporter": "python",
   "pygments_lexer": "ipython3",
   "version": "3.7.0"
  }
 },
 "nbformat": 4,
 "nbformat_minor": 2
}
