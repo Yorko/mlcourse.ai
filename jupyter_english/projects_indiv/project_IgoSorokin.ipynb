{
 "cells": [
  {
   "cell_type": "markdown",
   "metadata": {},
   "source": [
    "# <center> Credit scoring for the microloan organization"
   ]
  },
  {
   "cell_type": "markdown",
   "metadata": {},
   "source": [
    "## 1. Feature and data explanation"
   ]
  },
  {
   "cell_type": "markdown",
   "metadata": {},
   "source": [
    "We have data from a micro loan organization. Data includes: applications, status (if application was granted or not) and portfoli snapshorts. Current risk level (ration of default clients) is too much, we need to implement at least basic scorecard to extract the best clients."
   ]
  },
  {
   "cell_type": "markdown",
   "metadata": {},
   "source": [
    "Data can be found here https://cloud.mail.ru/public/MTPz/zvoEGUjz9"
   ]
  },
  {
   "cell_type": "markdown",
   "metadata": {},
   "source": [
    "**applications.csv** - contains information about applications\n",
    "\n",
    "**status.csv** - contains information if loan was granted or not, and short information about previous applications of client\n",
    "\n",
    "**portfolio.csv** - snapshot for every day if client was in delinquency or not"
   ]
  },
  {
   "cell_type": "markdown",
   "metadata": {},
   "source": [
    "**applications.csv:**\n",
    "\n",
    "Term - term of loan\n",
    "\n",
    "expired_date - till that date client can accept the loan\n",
    "\n",
    "loans_amount - amount of loans (rur) that client took\n",
    "\n",
    "loans_cnt - count of loans that client took\n",
    "\n",
    "paid_amount - amount of loans (rur) that client paid\n",
    "\n",
    "paid_cnt - count of loans that client paid\n",
    "\n",
    "pretention - client has pretention about previous loans (for example, didn't pay the penalties)\n",
    "\n",
    "location_country - country location of client (from IP address)\n",
    "\n",
    "location_city - city location of client (from IP address)\n",
    "\n",
    "app_dt - date of application\n",
    "\n",
    "verif_data - client verified his data\n",
    "\n",
    "verif_doc - client verified his document\n",
    "\n",
    "verif_appl - client verified his photo\n",
    "\n",
    "verif_addres - client verified his address\n",
    "\n",
    "doc_date - issue date of passport\n",
    "\n",
    "client_date - date of registration in the community of microloan organization\n",
    "\n",
    "credit_status - status of client (2: has active loan, 1: has closed loans, 0: never had loans in the system)\n",
    "\n",
    "rating, rating2 - ratings in the community of microloan organization\n",
    "\n",
    "amount_issued - amount of current loan\n",
    "\n",
    "amount_return - amount of current loan plus interest rate\n",
    "\n",
    "friends - friends in the community of microloan organization\n",
    "\n",
    "app_id - id of applications\n",
    "\n",
    "client_id - id of client\n",
    "\n",
    "**status.csv**:\n",
    "\n",
    "comments - comments of staff (usually it means something bad)\n",
    "\n",
    "decision - if loan was granted or not (1 - granted)\n",
    "\n",
    "**portfolio.csv**:\n",
    "\n",
    "report_dt - date of snapshot\n",
    "\n",
    "delq - if client was in delinquency or not (1 - was)"
   ]
  },
  {
   "cell_type": "markdown",
   "metadata": {},
   "source": [
    "## 2. Primary data analysis"
   ]
  },
  {
   "cell_type": "code",
   "execution_count": 2,
   "metadata": {},
   "outputs": [],
   "source": [
    "import warnings\n",
    "warnings.filterwarnings('ignore')\n",
    "import numpy as np\n",
    "import pandas as pd\n",
    "from sklearn.preprocessing import StandardScaler\n",
    "from sklearn.model_selection import train_test_split, cross_val_predict, GridSearchCV\n",
    "from sklearn.linear_model import LogisticRegression, Ridge, LinearRegression\n",
    "from xgboost import XGBClassifier\n",
    "from sklearn.metrics import roc_auc_score\n",
    "from sklearn.feature_extraction.text import TfidfVectorizer\n",
    "from scipy.sparse import csr_matrix, hstack\n",
    "from datetime import timedelta, date\n",
    "import datetime\n",
    "import math\n",
    "import matplotlib.pyplot as plt\n",
    "%matplotlib inline"
   ]
  },
  {
   "cell_type": "markdown",
   "metadata": {},
   "source": [
    "Loading data"
   ]
  },
  {
   "cell_type": "code",
   "execution_count": 3,
   "metadata": {},
   "outputs": [],
   "source": [
    "status = pd.read_csv('status.csv')\n",
    "applications = pd.read_csv('applications.csv')\n",
    "portfolio = pd.read_csv('portfolio.csv')"
   ]
  },
  {
   "cell_type": "code",
   "execution_count": 4,
   "metadata": {},
   "outputs": [
    {
     "data": {
      "text/html": [
       "<div>\n",
       "<style scoped>\n",
       "    .dataframe tbody tr th:only-of-type {\n",
       "        vertical-align: middle;\n",
       "    }\n",
       "\n",
       "    .dataframe tbody tr th {\n",
       "        vertical-align: top;\n",
       "    }\n",
       "\n",
       "    .dataframe thead th {\n",
       "        text-align: right;\n",
       "    }\n",
       "</style>\n",
       "<table border=\"1\" class=\"dataframe\">\n",
       "  <thead>\n",
       "    <tr style=\"text-align: right;\">\n",
       "      <th></th>\n",
       "      <th>id</th>\n",
       "      <th>Term</th>\n",
       "      <th>comments</th>\n",
       "      <th>location_country</th>\n",
       "      <th>location_city</th>\n",
       "      <th>app_id</th>\n",
       "      <th>client_id</th>\n",
       "      <th>app_dt</th>\n",
       "      <th>amount_issued</th>\n",
       "      <th>amount_return</th>\n",
       "      <th>decision</th>\n",
       "    </tr>\n",
       "  </thead>\n",
       "  <tbody>\n",
       "    <tr>\n",
       "      <th>0</th>\n",
       "      <td>0</td>\n",
       "      <td>30</td>\n",
       "      <td>0</td>\n",
       "      <td>n\\a</td>\n",
       "      <td>NaN</td>\n",
       "      <td>19938</td>\n",
       "      <td>6246</td>\n",
       "      <td>2018-12-15</td>\n",
       "      <td>610.0</td>\n",
       "      <td>854.0</td>\n",
       "      <td>1.0</td>\n",
       "    </tr>\n",
       "    <tr>\n",
       "      <th>1</th>\n",
       "      <td>1</td>\n",
       "      <td>20</td>\n",
       "      <td>0</td>\n",
       "      <td>n\\a</td>\n",
       "      <td>NaN</td>\n",
       "      <td>19937</td>\n",
       "      <td>6246</td>\n",
       "      <td>2018-12-15</td>\n",
       "      <td>610.0</td>\n",
       "      <td>854.0</td>\n",
       "      <td>1.0</td>\n",
       "    </tr>\n",
       "    <tr>\n",
       "      <th>2</th>\n",
       "      <td>2</td>\n",
       "      <td>30</td>\n",
       "      <td>0</td>\n",
       "      <td>Ukraine</td>\n",
       "      <td>Simferopol</td>\n",
       "      <td>19930</td>\n",
       "      <td>19923</td>\n",
       "      <td>2018-12-15</td>\n",
       "      <td>3050.0</td>\n",
       "      <td>3416.0</td>\n",
       "      <td>1.0</td>\n",
       "    </tr>\n",
       "    <tr>\n",
       "      <th>3</th>\n",
       "      <td>3</td>\n",
       "      <td>30</td>\n",
       "      <td>0</td>\n",
       "      <td>Russia</td>\n",
       "      <td>Chelyabinsk</td>\n",
       "      <td>19929</td>\n",
       "      <td>19674</td>\n",
       "      <td>2018-12-15</td>\n",
       "      <td>7320.0</td>\n",
       "      <td>7686.0</td>\n",
       "      <td>1.0</td>\n",
       "    </tr>\n",
       "    <tr>\n",
       "      <th>4</th>\n",
       "      <td>4</td>\n",
       "      <td>110</td>\n",
       "      <td>0</td>\n",
       "      <td>Russia</td>\n",
       "      <td>Novosibirsk</td>\n",
       "      <td>19928</td>\n",
       "      <td>19529</td>\n",
       "      <td>2018-12-15</td>\n",
       "      <td>2440.0</td>\n",
       "      <td>2928.0</td>\n",
       "      <td>1.0</td>\n",
       "    </tr>\n",
       "  </tbody>\n",
       "</table>\n",
       "</div>"
      ],
      "text/plain": [
       "   id  Term  comments location_country location_city  app_id  client_id  \\\n",
       "0   0    30         0              n\\a           NaN   19938       6246   \n",
       "1   1    20         0              n\\a           NaN   19937       6246   \n",
       "2   2    30         0          Ukraine    Simferopol   19930      19923   \n",
       "3   3    30         0           Russia   Chelyabinsk   19929      19674   \n",
       "4   4   110         0           Russia   Novosibirsk   19928      19529   \n",
       "\n",
       "       app_dt  amount_issued  amount_return  decision  \n",
       "0  2018-12-15          610.0          854.0       1.0  \n",
       "1  2018-12-15          610.0          854.0       1.0  \n",
       "2  2018-12-15         3050.0         3416.0       1.0  \n",
       "3  2018-12-15         7320.0         7686.0       1.0  \n",
       "4  2018-12-15         2440.0         2928.0       1.0  "
      ]
     },
     "execution_count": 4,
     "metadata": {},
     "output_type": "execute_result"
    }
   ],
   "source": [
    "status.head()"
   ]
  },
  {
   "cell_type": "code",
   "execution_count": 5,
   "metadata": {},
   "outputs": [
    {
     "data": {
      "text/html": [
       "<div>\n",
       "<style scoped>\n",
       "    .dataframe tbody tr th:only-of-type {\n",
       "        vertical-align: middle;\n",
       "    }\n",
       "\n",
       "    .dataframe tbody tr th {\n",
       "        vertical-align: top;\n",
       "    }\n",
       "\n",
       "    .dataframe thead th {\n",
       "        text-align: right;\n",
       "    }\n",
       "</style>\n",
       "<table border=\"1\" class=\"dataframe\">\n",
       "  <thead>\n",
       "    <tr style=\"text-align: right;\">\n",
       "      <th></th>\n",
       "      <th>id</th>\n",
       "      <th>Term</th>\n",
       "      <th>expired_date</th>\n",
       "      <th>loans_amount</th>\n",
       "      <th>loans_cnt</th>\n",
       "      <th>paid_amount</th>\n",
       "      <th>paid_cnt</th>\n",
       "      <th>pretention</th>\n",
       "      <th>location_country</th>\n",
       "      <th>location_city</th>\n",
       "      <th>...</th>\n",
       "      <th>doc_date</th>\n",
       "      <th>client_date</th>\n",
       "      <th>credit_status</th>\n",
       "      <th>rating</th>\n",
       "      <th>rating2</th>\n",
       "      <th>amount_issued</th>\n",
       "      <th>amount_return</th>\n",
       "      <th>friends</th>\n",
       "      <th>app_id</th>\n",
       "      <th>client_id</th>\n",
       "    </tr>\n",
       "  </thead>\n",
       "  <tbody>\n",
       "    <tr>\n",
       "      <th>0</th>\n",
       "      <td>0</td>\n",
       "      <td>90</td>\n",
       "      <td>2018.01.20</td>\n",
       "      <td>675667.11</td>\n",
       "      <td>393</td>\n",
       "      <td>589733.36</td>\n",
       "      <td>342</td>\n",
       "      <td>0.0</td>\n",
       "      <td>Belarus</td>\n",
       "      <td>Mogilev</td>\n",
       "      <td>...</td>\n",
       "      <td>2011-10-13</td>\n",
       "      <td>2013-04-04</td>\n",
       "      <td>2</td>\n",
       "      <td>162</td>\n",
       "      <td>500</td>\n",
       "      <td>3050.0</td>\n",
       "      <td>3538.0</td>\n",
       "      <td>101</td>\n",
       "      <td>11067.0</td>\n",
       "      <td>19795.0</td>\n",
       "    </tr>\n",
       "    <tr>\n",
       "      <th>1</th>\n",
       "      <td>1</td>\n",
       "      <td>60</td>\n",
       "      <td>2017.12.23</td>\n",
       "      <td>371734.61</td>\n",
       "      <td>130</td>\n",
       "      <td>371734.61</td>\n",
       "      <td>130</td>\n",
       "      <td>0.0</td>\n",
       "      <td>Russia</td>\n",
       "      <td>Chelyabinsk</td>\n",
       "      <td>...</td>\n",
       "      <td>2006-02-01</td>\n",
       "      <td>2008-06-10</td>\n",
       "      <td>1</td>\n",
       "      <td>321</td>\n",
       "      <td>8210</td>\n",
       "      <td>15250.0</td>\n",
       "      <td>15860.0</td>\n",
       "      <td>53</td>\n",
       "      <td>11068.0</td>\n",
       "      <td>19570.0</td>\n",
       "    </tr>\n",
       "    <tr>\n",
       "      <th>2</th>\n",
       "      <td>2</td>\n",
       "      <td>30</td>\n",
       "      <td>2017.12.22</td>\n",
       "      <td>1482117.00</td>\n",
       "      <td>321</td>\n",
       "      <td>1472967.00</td>\n",
       "      <td>320</td>\n",
       "      <td>0.0</td>\n",
       "      <td>Israel</td>\n",
       "      <td>Tel Aviv</td>\n",
       "      <td>...</td>\n",
       "      <td>2013-12-24</td>\n",
       "      <td>2008-06-22</td>\n",
       "      <td>2</td>\n",
       "      <td>154</td>\n",
       "      <td>8</td>\n",
       "      <td>8540.0</td>\n",
       "      <td>9150.0</td>\n",
       "      <td>93</td>\n",
       "      <td>11069.0</td>\n",
       "      <td>16125.0</td>\n",
       "    </tr>\n",
       "    <tr>\n",
       "      <th>3</th>\n",
       "      <td>3</td>\n",
       "      <td>35</td>\n",
       "      <td>2017.12.28</td>\n",
       "      <td>527587.17</td>\n",
       "      <td>225</td>\n",
       "      <td>514655.17</td>\n",
       "      <td>221</td>\n",
       "      <td>0.0</td>\n",
       "      <td>Russia</td>\n",
       "      <td>Moscow</td>\n",
       "      <td>...</td>\n",
       "      <td>2006-07-21</td>\n",
       "      <td>2006-11-28</td>\n",
       "      <td>2</td>\n",
       "      <td>79</td>\n",
       "      <td>16</td>\n",
       "      <td>6100.0</td>\n",
       "      <td>6466.0</td>\n",
       "      <td>94</td>\n",
       "      <td>11070.0</td>\n",
       "      <td>19894.0</td>\n",
       "    </tr>\n",
       "    <tr>\n",
       "      <th>4</th>\n",
       "      <td>4</td>\n",
       "      <td>30</td>\n",
       "      <td>2017.12.22</td>\n",
       "      <td>7838500.00</td>\n",
       "      <td>2287</td>\n",
       "      <td>7776578.90</td>\n",
       "      <td>2260</td>\n",
       "      <td>0.0</td>\n",
       "      <td>Russia</td>\n",
       "      <td>Togliatti</td>\n",
       "      <td>...</td>\n",
       "      <td>2009-10-24</td>\n",
       "      <td>2005-09-13</td>\n",
       "      <td>2</td>\n",
       "      <td>276</td>\n",
       "      <td>0</td>\n",
       "      <td>11529.0</td>\n",
       "      <td>12200.0</td>\n",
       "      <td>541</td>\n",
       "      <td>11071.0</td>\n",
       "      <td>13026.0</td>\n",
       "    </tr>\n",
       "  </tbody>\n",
       "</table>\n",
       "<p>5 rows × 25 columns</p>\n",
       "</div>"
      ],
      "text/plain": [
       "   id  Term expired_date  loans_amount  loans_cnt  paid_amount  paid_cnt  \\\n",
       "0   0    90   2018.01.20     675667.11        393    589733.36       342   \n",
       "1   1    60   2017.12.23     371734.61        130    371734.61       130   \n",
       "2   2    30   2017.12.22    1482117.00        321   1472967.00       320   \n",
       "3   3    35   2017.12.28     527587.17        225    514655.17       221   \n",
       "4   4    30   2017.12.22    7838500.00       2287   7776578.90      2260   \n",
       "\n",
       "   pretention location_country location_city    ...        doc_date  \\\n",
       "0         0.0          Belarus       Mogilev    ...      2011-10-13   \n",
       "1         0.0           Russia   Chelyabinsk    ...      2006-02-01   \n",
       "2         0.0           Israel      Tel Aviv    ...      2013-12-24   \n",
       "3         0.0           Russia        Moscow    ...      2006-07-21   \n",
       "4         0.0           Russia     Togliatti    ...      2009-10-24   \n",
       "\n",
       "   client_date  credit_status  rating  rating2 amount_issued amount_return  \\\n",
       "0   2013-04-04              2     162      500        3050.0        3538.0   \n",
       "1   2008-06-10              1     321     8210       15250.0       15860.0   \n",
       "2   2008-06-22              2     154        8        8540.0        9150.0   \n",
       "3   2006-11-28              2      79       16        6100.0        6466.0   \n",
       "4   2005-09-13              2     276        0       11529.0       12200.0   \n",
       "\n",
       "   friends   app_id  client_id  \n",
       "0      101  11067.0    19795.0  \n",
       "1       53  11068.0    19570.0  \n",
       "2       93  11069.0    16125.0  \n",
       "3       94  11070.0    19894.0  \n",
       "4      541  11071.0    13026.0  \n",
       "\n",
       "[5 rows x 25 columns]"
      ]
     },
     "execution_count": 5,
     "metadata": {},
     "output_type": "execute_result"
    }
   ],
   "source": [
    "applications.head()"
   ]
  },
  {
   "cell_type": "code",
   "execution_count": 6,
   "metadata": {},
   "outputs": [
    {
     "data": {
      "text/plain": [
       "Index(['id', 'Term', 'expired_date', 'loans_amount', 'loans_cnt',\n",
       "       'paid_amount', 'paid_cnt', 'pretention', 'location_country',\n",
       "       'location_city', 'app_dt', 'verif_data', 'verif_doc', 'verif_appl',\n",
       "       'verif_addres', 'doc_date', 'client_date', 'credit_status', 'rating',\n",
       "       'rating2', 'amount_issued', 'amount_return', 'friends', 'app_id',\n",
       "       'client_id'],\n",
       "      dtype='object')"
      ]
     },
     "execution_count": 6,
     "metadata": {},
     "output_type": "execute_result"
    }
   ],
   "source": [
    "applications.columns"
   ]
  },
  {
   "cell_type": "code",
   "execution_count": 7,
   "metadata": {},
   "outputs": [
    {
     "data": {
      "text/html": [
       "<div>\n",
       "<style scoped>\n",
       "    .dataframe tbody tr th:only-of-type {\n",
       "        vertical-align: middle;\n",
       "    }\n",
       "\n",
       "    .dataframe tbody tr th {\n",
       "        vertical-align: top;\n",
       "    }\n",
       "\n",
       "    .dataframe thead th {\n",
       "        text-align: right;\n",
       "    }\n",
       "</style>\n",
       "<table border=\"1\" class=\"dataframe\">\n",
       "  <thead>\n",
       "    <tr style=\"text-align: right;\">\n",
       "      <th></th>\n",
       "      <th>id</th>\n",
       "      <th>report_dt</th>\n",
       "      <th>client_id</th>\n",
       "      <th>delq</th>\n",
       "    </tr>\n",
       "  </thead>\n",
       "  <tbody>\n",
       "    <tr>\n",
       "      <th>0</th>\n",
       "      <td>0</td>\n",
       "      <td>2017-07-17</td>\n",
       "      <td>19882.0</td>\n",
       "      <td>1</td>\n",
       "    </tr>\n",
       "    <tr>\n",
       "      <th>1</th>\n",
       "      <td>1</td>\n",
       "      <td>2017-07-17</td>\n",
       "      <td>19683.0</td>\n",
       "      <td>1</td>\n",
       "    </tr>\n",
       "    <tr>\n",
       "      <th>2</th>\n",
       "      <td>2</td>\n",
       "      <td>2017-07-17</td>\n",
       "      <td>19866.0</td>\n",
       "      <td>1</td>\n",
       "    </tr>\n",
       "    <tr>\n",
       "      <th>3</th>\n",
       "      <td>3</td>\n",
       "      <td>2017-07-17</td>\n",
       "      <td>19715.0</td>\n",
       "      <td>0</td>\n",
       "    </tr>\n",
       "    <tr>\n",
       "      <th>4</th>\n",
       "      <td>4</td>\n",
       "      <td>2017-07-17</td>\n",
       "      <td>1074.0</td>\n",
       "      <td>0</td>\n",
       "    </tr>\n",
       "  </tbody>\n",
       "</table>\n",
       "</div>"
      ],
      "text/plain": [
       "   id   report_dt  client_id  delq\n",
       "0   0  2017-07-17    19882.0     1\n",
       "1   1  2017-07-17    19683.0     1\n",
       "2   2  2017-07-17    19866.0     1\n",
       "3   3  2017-07-17    19715.0     0\n",
       "4   4  2017-07-17     1074.0     0"
      ]
     },
     "execution_count": 7,
     "metadata": {},
     "output_type": "execute_result"
    }
   ],
   "source": [
    "portfolio.head()"
   ]
  },
  {
   "cell_type": "markdown",
   "metadata": {},
   "source": [
    "First, we need to select target variable. Of cource, it should be that loan are not paid, but if client delayed payment for a day we shouldn't consider him as a defaulted client. Therefore, we need to examine how much days of delay we'll consider as a default (target = 1)"
   ]
  },
  {
   "cell_type": "code",
   "execution_count": 8,
   "metadata": {},
   "outputs": [],
   "source": [
    "portfolio['report_dt'] = pd.to_datetime(portfolio['report_dt'], format = '%Y-%m-%d')\n",
    "portfolio['key'] = portfolio['client_id'].apply(lambda x: str(x)) + portfolio['report_dt'].apply(lambda x: str(x))\n",
    "portfolio['key_last'] = portfolio['client_id'].apply(lambda x: str(x)) + portfolio['report_dt'].apply(lambda x: str(x + timedelta(-1)))"
   ]
  },
  {
   "cell_type": "code",
   "execution_count": 9,
   "metadata": {},
   "outputs": [],
   "source": [
    "res = []\n",
    "d = {}\n",
    "d[0] = portfolio[(portfolio['delq'] == 0) & (portfolio['report_dt'] < '2018-11-15')]\n",
    "for i in range(1,30):\n",
    "    d[i] = portfolio[(portfolio['key_last'].isin(d[i-1]['key'])) & (portfolio['delq'] == 1)]\n",
    "    res.append(d[i].shape[0])\n",
    "res = np.array(res)"
   ]
  },
  {
   "cell_type": "markdown",
   "metadata": {},
   "source": [
    "Recovery rate (how many percent of clients, who was in delinquency one day, are still in delinquency depending of delinquency day):"
   ]
  },
  {
   "cell_type": "code",
   "execution_count": 10,
   "metadata": {},
   "outputs": [
    {
     "data": {
      "text/plain": [
       "array([926, 702, 606, 552, 520, 492, 468, 454, 448, 438, 424, 414, 411,\n",
       "       406, 400, 396, 395, 384, 379, 377, 375, 372, 370, 366, 360, 359,\n",
       "       356, 352, 348])"
      ]
     },
     "execution_count": 10,
     "metadata": {},
     "output_type": "execute_result"
    },
    {
     "data": {
      "image/png": "[encoded data removed]",
      "text/plain": [
       "<Figure size 432x288 with 1 Axes>"
      ]
     },
     "metadata": {},
     "output_type": "display_data"
    }
   ],
   "source": [
    "plt.plot(res[1:]/res[1], 'bo')\n",
    "plt.ylim(0,1)\n",
    "res"
   ]
  },
  {
   "cell_type": "markdown",
   "metadata": {},
   "source": [
    "We'll choose default definition - to be in delinquency for **more than five days**, since after five days recovery rate is decreasing slowly."
   ]
  },
  {
   "cell_type": "markdown",
   "metadata": {},
   "source": [
    " "
   ]
  },
  {
   "cell_type": "markdown",
   "metadata": {},
   "source": [
    "**Calculating target variable**"
   ]
  },
  {
   "cell_type": "markdown",
   "metadata": {},
   "source": [
    "We exclude all applications with term more than 60 days, since company are not going to credit them in future. And we need to exclude all loans granted for last 60 days + 6 days, otherwise we can't calculate target variable"
   ]
  },
  {
   "cell_type": "code",
   "execution_count": 11,
   "metadata": {},
   "outputs": [],
   "source": [
    "applications = applications[applications['Term'] <= 60]\n",
    "applications['app_dt'] = pd.to_datetime(applications['app_dt'], format = '%Y-%m-%d')\n",
    "applications = applications[applications['app_dt'] <= '2018-10-10']"
   ]
  },
  {
   "cell_type": "markdown",
   "metadata": {},
   "source": [
    "Add flag that loan was granted:"
   ]
  },
  {
   "cell_type": "code",
   "execution_count": 12,
   "metadata": {},
   "outputs": [
    {
     "data": {
      "text/plain": [
       "0.8019898082989566"
      ]
     },
     "execution_count": 12,
     "metadata": {},
     "output_type": "execute_result"
    }
   ],
   "source": [
    "applications['granted'] = 0\n",
    "applications.loc[applications['app_id'].isin(status[status['decision'] == 1]['app_id']),'granted'] = 1\n",
    "applications['granted'].mean()"
   ]
  },
  {
   "cell_type": "markdown",
   "metadata": {},
   "source": [
    "Check stability of granted rate:"
   ]
  },
  {
   "cell_type": "code",
   "execution_count": 13,
   "metadata": {},
   "outputs": [
    {
     "data": {
      "image/png": "[encoded data removed]",
      "text/plain": [
       "<Figure size 432x288 with 1 Axes>"
      ]
     },
     "metadata": {},
     "output_type": "display_data"
    }
   ],
   "source": [
    "applications['month_gr'] = applications['app_dt'].apply(lambda x: str(x.year*100+x.month))\n",
    "res = applications[['month_gr', 'granted']].groupby('month_gr').mean().sort_values(by = ['month_gr'])\n",
    "plt.plot(res)\n",
    "plt.xticks(rotation='vertical');\n",
    "plt.ylim((0,1));"
   ]
  },
  {
   "cell_type": "markdown",
   "metadata": {},
   "source": [
    "There is a fall in June-2018, but in general it's stable and there is no trends"
   ]
  },
  {
   "cell_type": "markdown",
   "metadata": {},
   "source": [
    "Leave only granted applications:"
   ]
  },
  {
   "cell_type": "code",
   "execution_count": 14,
   "metadata": {},
   "outputs": [],
   "source": [
    "applications = applications[applications['granted'] == 1]"
   ]
  },
  {
   "cell_type": "markdown",
   "metadata": {},
   "source": [
    "There is no data for app_id = 12558 in portfolio, delete this one application (otherwise the next script has an error):"
   ]
  },
  {
   "cell_type": "code",
   "execution_count": 15,
   "metadata": {},
   "outputs": [],
   "source": [
    "applications = applications[applications['app_id'] != 12558]"
   ]
  },
  {
   "cell_type": "code",
   "execution_count": 16,
   "metadata": {},
   "outputs": [
    {
     "name": "stdout",
     "output_type": "stream",
     "text": [
      "Wall time: 1min 23s\n"
     ]
    }
   ],
   "source": [
    "%%time\n",
    "for i in applications['app_id']:\n",
    "    dt = pd.to_datetime(applications[applications['app_id'] == i]['app_dt'].values[0])\n",
    "    client_id = applications[applications['app_id'] == i]['client_id'].values[0]\n",
    "    term = int(applications[applications['app_id'] == i]['Term'].values[0])\n",
    "    a = portfolio.loc[(portfolio['report_dt'] >= dt + timedelta(term+2)) & (portfolio['report_dt'] <= dt + timedelta(term+6)) & (portfolio['client_id'] == client_id), ['client_id', 'delq']].groupby('client_id').min()\n",
    "    applications.loc[applications['app_id'] == i, 'target'] = a['delq'].values[0]"
   ]
  },
  {
   "cell_type": "code",
   "execution_count": 17,
   "metadata": {},
   "outputs": [
    {
     "data": {
      "text/plain": [
       "0.12528370403994554"
      ]
     },
     "execution_count": 17,
     "metadata": {},
     "output_type": "execute_result"
    }
   ],
   "source": [
    "applications['target'].mean()"
   ]
  },
  {
   "cell_type": "code",
   "execution_count": 18,
   "metadata": {},
   "outputs": [
    {
     "data": {
      "image/png": "[encoded data removed]",
      "text/plain": [
       "<Figure size 432x288 with 1 Axes>"
      ]
     },
     "metadata": {},
     "output_type": "display_data"
    }
   ],
   "source": [
    "res = applications[['month_gr', 'target']].groupby('month_gr').mean().sort_values(by = ['month_gr'])\n",
    "plt.plot(res)\n",
    "plt.xticks(rotation='vertical');\n",
    "plt.ylim((0, 0.3));"
   ]
  },
  {
   "cell_type": "markdown",
   "metadata": {},
   "source": [
    "Default rate is less stable because one client can take more than one loan. And bad rate strongly depends on such clients (if they are good or bad):"
   ]
  },
  {
   "cell_type": "code",
   "execution_count": 19,
   "metadata": {},
   "outputs": [
    {
     "data": {
      "text/html": [
       "<div>\n",
       "<style scoped>\n",
       "    .dataframe tbody tr th:only-of-type {\n",
       "        vertical-align: middle;\n",
       "    }\n",
       "\n",
       "    .dataframe tbody tr th {\n",
       "        vertical-align: top;\n",
       "    }\n",
       "\n",
       "    .dataframe thead th {\n",
       "        text-align: right;\n",
       "    }\n",
       "</style>\n",
       "<table border=\"1\" class=\"dataframe\">\n",
       "  <thead>\n",
       "    <tr style=\"text-align: right;\">\n",
       "      <th></th>\n",
       "      <th>client_id</th>\n",
       "      <th>app_id</th>\n",
       "    </tr>\n",
       "  </thead>\n",
       "  <tbody>\n",
       "    <tr>\n",
       "      <th>291</th>\n",
       "      <td>15583.0</td>\n",
       "      <td>314</td>\n",
       "    </tr>\n",
       "    <tr>\n",
       "      <th>498</th>\n",
       "      <td>19738.0</td>\n",
       "      <td>254</td>\n",
       "    </tr>\n",
       "    <tr>\n",
       "      <th>219</th>\n",
       "      <td>13026.0</td>\n",
       "      <td>253</td>\n",
       "    </tr>\n",
       "    <tr>\n",
       "      <th>451</th>\n",
       "      <td>19530.0</td>\n",
       "      <td>234</td>\n",
       "    </tr>\n",
       "    <tr>\n",
       "      <th>290</th>\n",
       "      <td>15579.0</td>\n",
       "      <td>194</td>\n",
       "    </tr>\n",
       "  </tbody>\n",
       "</table>\n",
       "</div>"
      ],
      "text/plain": [
       "     client_id  app_id\n",
       "291    15583.0     314\n",
       "498    19738.0     254\n",
       "219    13026.0     253\n",
       "451    19530.0     234\n",
       "290    15579.0     194"
      ]
     },
     "execution_count": 19,
     "metadata": {},
     "output_type": "execute_result"
    }
   ],
   "source": [
    "applications[['client_id', 'app_id']].groupby('client_id').count().reset_index().sort_values(by = 'app_id', ascending = False).head(5)"
   ]
  },
  {
   "cell_type": "markdown",
   "metadata": {},
   "source": [
    "To avoid it we'll leave only one active loan per one client per one time moment, e.g. if client took a loan on 1st of January for 30 days, we'll exclude all granted loans of this client before 31th of January."
   ]
  },
  {
   "cell_type": "code",
   "execution_count": 20,
   "metadata": {},
   "outputs": [
    {
     "name": "stdout",
     "output_type": "stream",
     "text": [
      "Wall time: 16.9 s\n"
     ]
    }
   ],
   "source": [
    "%%time\n",
    "client_id = 0\n",
    "applications = applications.sort_values(by = ['client_id' , 'app_dt', 'app_id'])\n",
    "applications['sample'] = 0\n",
    "\n",
    "for i in applications['app_id']:\n",
    "    if client_id != applications[applications['app_id'] == i]['client_id'].values[0]:\n",
    "        client_id = applications[applications['app_id'] == i]['client_id'].values[0]\n",
    "        final_dt = pd.to_datetime(applications[applications['app_id'] == i]['app_dt'].values[0], format = '%Y-%m-%d') + timedelta(int(applications[applications['app_id'] == i]['Term'].values[0]))\n",
    "        applications.loc[applications['app_id'] == i, 'sample'] = 1    \n",
    "    else:\n",
    "        if pd.to_datetime(applications[applications['app_id'] == i]['app_dt'].values[0], format = '%Y-%m-%d') >= final_dt:\n",
    "            final_dt = pd.to_datetime(applications[applications['app_id'] == i]['app_dt'].values[0], format = '%Y-%m-%d') + timedelta(int(applications[applications['app_id'] == i]['Term'].values[0]))\n",
    "            applications.loc[applications['app_id'] == i, 'sample'] = 1   "
   ]
  },
  {
   "cell_type": "code",
   "execution_count": 21,
   "metadata": {},
   "outputs": [
    {
     "data": {
      "image/png": "[encoded data removed]",
      "text/plain": [
       "<Figure size 432x288 with 1 Axes>"
      ]
     },
     "metadata": {},
     "output_type": "display_data"
    }
   ],
   "source": [
    "res = applications[applications['sample'] == 1][['month_gr', 'target']].groupby('month_gr').mean().sort_values(by = ['month_gr'])\n",
    "plt.plot(res)\n",
    "plt.xticks(rotation='vertical');\n",
    "plt.ylim((0, 0.3));"
   ]
  },
  {
   "cell_type": "markdown",
   "metadata": {},
   "source": [
    "Now it's better. But we can see growth in summer 2018. At the same time we saw decsrease of approval rate at the same period, it means that clients flow was worst at that time.\n",
    "\n",
    "Now we have not too much data:"
   ]
  },
  {
   "cell_type": "code",
   "execution_count": 22,
   "metadata": {},
   "outputs": [
    {
     "data": {
      "image/png": "[encoded data removed]",
      "text/plain": [
       "<Figure size 432x288 with 1 Axes>"
      ]
     },
     "metadata": {},
     "output_type": "display_data"
    }
   ],
   "source": [
    "res = applications[applications['sample'] == 1][['month_gr', 'target']].groupby('month_gr').count().sort_values(by = ['month_gr'])\n",
    "plt.plot(res)\n",
    "plt.xticks(rotation='vertical');"
   ]
  },
  {
   "cell_type": "markdown",
   "metadata": {},
   "source": [
    "## 7. Data preprocessing"
   ]
  },
  {
   "cell_type": "markdown",
   "metadata": {},
   "source": [
    "Check NaN:"
   ]
  },
  {
   "cell_type": "code",
   "execution_count": 166,
   "metadata": {},
   "outputs": [
    {
     "data": {
      "text/plain": [
       "Index(['id', 'Term', 'expired_date', 'loans_amount', 'loans_cnt',\n",
       "       'paid_amount', 'paid_cnt', 'pretention', 'location_country',\n",
       "       'location_city', 'app_dt', 'verif_data', 'verif_doc', 'verif_appl',\n",
       "       'verif_addres', 'doc_date', 'client_date', 'credit_status', 'rating',\n",
       "       'rating2', 'amount_issued', 'amount_return', 'friends', 'app_id',\n",
       "       'client_id', 'granted', 'month_gr', 'target', 'sample', 'doc_date_i',\n",
       "       'client_date_i'],\n",
       "      dtype='object')"
      ]
     },
     "execution_count": 166,
     "metadata": {},
     "output_type": "execute_result"
    }
   ],
   "source": [
    "applications.columns"
   ]
  },
  {
   "cell_type": "code",
   "execution_count": 168,
   "metadata": {},
   "outputs": [
    {
     "data": {
      "text/html": [
       "<div>\n",
       "<style scoped>\n",
       "    .dataframe tbody tr th:only-of-type {\n",
       "        vertical-align: middle;\n",
       "    }\n",
       "\n",
       "    .dataframe tbody tr th {\n",
       "        vertical-align: top;\n",
       "    }\n",
       "\n",
       "    .dataframe thead th {\n",
       "        text-align: right;\n",
       "    }\n",
       "</style>\n",
       "<table border=\"1\" class=\"dataframe\">\n",
       "  <thead>\n",
       "    <tr style=\"text-align: right;\">\n",
       "      <th></th>\n",
       "      <th>Term</th>\n",
       "      <th>loans_amount</th>\n",
       "      <th>loans_cnt</th>\n",
       "      <th>paid_amount</th>\n",
       "      <th>paid_cnt</th>\n",
       "      <th>pretention</th>\n",
       "      <th>verif_data</th>\n",
       "      <th>verif_doc</th>\n",
       "      <th>verif_appl</th>\n",
       "      <th>verif_addres</th>\n",
       "      <th>credit_status</th>\n",
       "      <th>rating</th>\n",
       "      <th>rating2</th>\n",
       "      <th>amount_issued</th>\n",
       "      <th>amount_return</th>\n",
       "      <th>friends</th>\n",
       "    </tr>\n",
       "  </thead>\n",
       "  <tbody>\n",
       "    <tr>\n",
       "      <th>count</th>\n",
       "      <td>6609.000000</td>\n",
       "      <td>6.609000e+03</td>\n",
       "      <td>6609.000000</td>\n",
       "      <td>6.609000e+03</td>\n",
       "      <td>6609.000000</td>\n",
       "      <td>4034.000000</td>\n",
       "      <td>6608.000000</td>\n",
       "      <td>6604.000000</td>\n",
       "      <td>6608.000000</td>\n",
       "      <td>6609.000000</td>\n",
       "      <td>6609.000000</td>\n",
       "      <td>6609.000000</td>\n",
       "      <td>6609.000000</td>\n",
       "      <td>6609.000000</td>\n",
       "      <td>6609.000000</td>\n",
       "      <td>6609.000000</td>\n",
       "    </tr>\n",
       "    <tr>\n",
       "      <th>mean</th>\n",
       "      <td>34.088213</td>\n",
       "      <td>2.184977e+06</td>\n",
       "      <td>604.711303</td>\n",
       "      <td>2.101542e+06</td>\n",
       "      <td>578.062944</td>\n",
       "      <td>0.115022</td>\n",
       "      <td>2.948245</td>\n",
       "      <td>1.101605</td>\n",
       "      <td>1.552966</td>\n",
       "      <td>1.550613</td>\n",
       "      <td>1.830080</td>\n",
       "      <td>217.403995</td>\n",
       "      <td>216.906945</td>\n",
       "      <td>10919.961934</td>\n",
       "      <td>11797.881521</td>\n",
       "      <td>118.892419</td>\n",
       "    </tr>\n",
       "    <tr>\n",
       "      <th>std</th>\n",
       "      <td>15.627277</td>\n",
       "      <td>2.806990e+06</td>\n",
       "      <td>692.752587</td>\n",
       "      <td>2.736434e+06</td>\n",
       "      <td>675.952390</td>\n",
       "      <td>0.598086</td>\n",
       "      <td>0.232223</td>\n",
       "      <td>0.302151</td>\n",
       "      <td>0.497224</td>\n",
       "      <td>0.497469</td>\n",
       "      <td>0.397514</td>\n",
       "      <td>134.760104</td>\n",
       "      <td>1871.646780</td>\n",
       "      <td>26201.328238</td>\n",
       "      <td>27693.195426</td>\n",
       "      <td>121.744662</td>\n",
       "    </tr>\n",
       "    <tr>\n",
       "      <th>min</th>\n",
       "      <td>1.000000</td>\n",
       "      <td>0.000000e+00</td>\n",
       "      <td>0.000000</td>\n",
       "      <td>0.000000e+00</td>\n",
       "      <td>0.000000</td>\n",
       "      <td>0.000000</td>\n",
       "      <td>1.000000</td>\n",
       "      <td>1.000000</td>\n",
       "      <td>1.000000</td>\n",
       "      <td>1.000000</td>\n",
       "      <td>0.000000</td>\n",
       "      <td>0.000000</td>\n",
       "      <td>0.000000</td>\n",
       "      <td>61.000000</td>\n",
       "      <td>62.220000</td>\n",
       "      <td>0.000000</td>\n",
       "    </tr>\n",
       "    <tr>\n",
       "      <th>25%</th>\n",
       "      <td>30.000000</td>\n",
       "      <td>4.107941e+05</td>\n",
       "      <td>140.000000</td>\n",
       "      <td>3.816386e+05</td>\n",
       "      <td>131.000000</td>\n",
       "      <td>0.000000</td>\n",
       "      <td>3.000000</td>\n",
       "      <td>1.000000</td>\n",
       "      <td>1.000000</td>\n",
       "      <td>1.000000</td>\n",
       "      <td>2.000000</td>\n",
       "      <td>127.000000</td>\n",
       "      <td>0.000000</td>\n",
       "      <td>3050.000000</td>\n",
       "      <td>3355.000000</td>\n",
       "      <td>43.000000</td>\n",
       "    </tr>\n",
       "    <tr>\n",
       "      <th>50%</th>\n",
       "      <td>30.000000</td>\n",
       "      <td>1.136880e+06</td>\n",
       "      <td>346.000000</td>\n",
       "      <td>1.072187e+06</td>\n",
       "      <td>324.000000</td>\n",
       "      <td>0.000000</td>\n",
       "      <td>3.000000</td>\n",
       "      <td>1.000000</td>\n",
       "      <td>2.000000</td>\n",
       "      <td>2.000000</td>\n",
       "      <td>2.000000</td>\n",
       "      <td>198.000000</td>\n",
       "      <td>4.000000</td>\n",
       "      <td>6100.000000</td>\n",
       "      <td>6466.000000</td>\n",
       "      <td>77.000000</td>\n",
       "    </tr>\n",
       "    <tr>\n",
       "      <th>75%</th>\n",
       "      <td>41.000000</td>\n",
       "      <td>2.788831e+06</td>\n",
       "      <td>773.000000</td>\n",
       "      <td>2.674457e+06</td>\n",
       "      <td>735.000000</td>\n",
       "      <td>0.000000</td>\n",
       "      <td>3.000000</td>\n",
       "      <td>1.000000</td>\n",
       "      <td>2.000000</td>\n",
       "      <td>2.000000</td>\n",
       "      <td>2.000000</td>\n",
       "      <td>281.000000</td>\n",
       "      <td>73.000000</td>\n",
       "      <td>9150.000000</td>\n",
       "      <td>9760.000000</td>\n",
       "      <td>159.000000</td>\n",
       "    </tr>\n",
       "    <tr>\n",
       "      <th>max</th>\n",
       "      <td>60.000000</td>\n",
       "      <td>1.621004e+07</td>\n",
       "      <td>3531.000000</td>\n",
       "      <td>1.525064e+07</td>\n",
       "      <td>3470.000000</td>\n",
       "      <td>12.000000</td>\n",
       "      <td>3.000000</td>\n",
       "      <td>2.000000</td>\n",
       "      <td>2.000000</td>\n",
       "      <td>2.000000</td>\n",
       "      <td>2.000000</td>\n",
       "      <td>1060.000000</td>\n",
       "      <td>71874.000000</td>\n",
       "      <td>610000.000000</td>\n",
       "      <td>652700.000000</td>\n",
       "      <td>592.000000</td>\n",
       "    </tr>\n",
       "  </tbody>\n",
       "</table>\n",
       "</div>"
      ],
      "text/plain": [
       "              Term  loans_amount    loans_cnt   paid_amount     paid_cnt  \\\n",
       "count  6609.000000  6.609000e+03  6609.000000  6.609000e+03  6609.000000   \n",
       "mean     34.088213  2.184977e+06   604.711303  2.101542e+06   578.062944   \n",
       "std      15.627277  2.806990e+06   692.752587  2.736434e+06   675.952390   \n",
       "min       1.000000  0.000000e+00     0.000000  0.000000e+00     0.000000   \n",
       "25%      30.000000  4.107941e+05   140.000000  3.816386e+05   131.000000   \n",
       "50%      30.000000  1.136880e+06   346.000000  1.072187e+06   324.000000   \n",
       "75%      41.000000  2.788831e+06   773.000000  2.674457e+06   735.000000   \n",
       "max      60.000000  1.621004e+07  3531.000000  1.525064e+07  3470.000000   \n",
       "\n",
       "        pretention   verif_data    verif_doc   verif_appl  verif_addres  \\\n",
       "count  4034.000000  6608.000000  6604.000000  6608.000000   6609.000000   \n",
       "mean      0.115022     2.948245     1.101605     1.552966      1.550613   \n",
       "std       0.598086     0.232223     0.302151     0.497224      0.497469   \n",
       "min       0.000000     1.000000     1.000000     1.000000      1.000000   \n",
       "25%       0.000000     3.000000     1.000000     1.000000      1.000000   \n",
       "50%       0.000000     3.000000     1.000000     2.000000      2.000000   \n",
       "75%       0.000000     3.000000     1.000000     2.000000      2.000000   \n",
       "max      12.000000     3.000000     2.000000     2.000000      2.000000   \n",
       "\n",
       "       credit_status       rating       rating2  amount_issued  amount_return  \\\n",
       "count    6609.000000  6609.000000   6609.000000    6609.000000    6609.000000   \n",
       "mean        1.830080   217.403995    216.906945   10919.961934   11797.881521   \n",
       "std         0.397514   134.760104   1871.646780   26201.328238   27693.195426   \n",
       "min         0.000000     0.000000      0.000000      61.000000      62.220000   \n",
       "25%         2.000000   127.000000      0.000000    3050.000000    3355.000000   \n",
       "50%         2.000000   198.000000      4.000000    6100.000000    6466.000000   \n",
       "75%         2.000000   281.000000     73.000000    9150.000000    9760.000000   \n",
       "max         2.000000  1060.000000  71874.000000  610000.000000  652700.000000   \n",
       "\n",
       "           friends  \n",
       "count  6609.000000  \n",
       "mean    118.892419  \n",
       "std     121.744662  \n",
       "min       0.000000  \n",
       "25%      43.000000  \n",
       "50%      77.000000  \n",
       "75%     159.000000  \n",
       "max     592.000000  "
      ]
     },
     "execution_count": 168,
     "metadata": {},
     "output_type": "execute_result"
    }
   ],
   "source": [
    "applications[['Term', 'expired_date', 'loans_amount', 'loans_cnt',\n",
    "       'paid_amount', 'paid_cnt', 'pretention', 'location_country',\n",
    "       'location_city', 'app_dt', 'verif_data', 'verif_doc', 'verif_appl',\n",
    "       'verif_addres', 'doc_date', 'client_date', 'credit_status', 'rating',\n",
    "       'rating2', 'amount_issued', 'amount_return', 'friends']].describe()"
   ]
  },
  {
   "cell_type": "markdown",
   "metadata": {},
   "source": [
    "**pretention:**"
   ]
  },
  {
   "cell_type": "code",
   "execution_count": 170,
   "metadata": {},
   "outputs": [
    {
     "data": {
      "text/html": [
       "<div>\n",
       "<style scoped>\n",
       "    .dataframe tbody tr th:only-of-type {\n",
       "        vertical-align: middle;\n",
       "    }\n",
       "\n",
       "    .dataframe tbody tr th {\n",
       "        vertical-align: top;\n",
       "    }\n",
       "\n",
       "    .dataframe thead th {\n",
       "        text-align: right;\n",
       "    }\n",
       "</style>\n",
       "<table border=\"1\" class=\"dataframe\">\n",
       "  <thead>\n",
       "    <tr style=\"text-align: right;\">\n",
       "      <th></th>\n",
       "      <th>pretention</th>\n",
       "    </tr>\n",
       "    <tr>\n",
       "      <th>month_gr</th>\n",
       "      <th></th>\n",
       "    </tr>\n",
       "  </thead>\n",
       "  <tbody>\n",
       "    <tr>\n",
       "      <th>201707</th>\n",
       "      <td>0</td>\n",
       "    </tr>\n",
       "    <tr>\n",
       "      <th>201708</th>\n",
       "      <td>0</td>\n",
       "    </tr>\n",
       "    <tr>\n",
       "      <th>201709</th>\n",
       "      <td>0</td>\n",
       "    </tr>\n",
       "    <tr>\n",
       "      <th>201710</th>\n",
       "      <td>0</td>\n",
       "    </tr>\n",
       "    <tr>\n",
       "      <th>201711</th>\n",
       "      <td>0</td>\n",
       "    </tr>\n",
       "    <tr>\n",
       "      <th>201712</th>\n",
       "      <td>157</td>\n",
       "    </tr>\n",
       "    <tr>\n",
       "      <th>201801</th>\n",
       "      <td>463</td>\n",
       "    </tr>\n",
       "    <tr>\n",
       "      <th>201802</th>\n",
       "      <td>415</td>\n",
       "    </tr>\n",
       "    <tr>\n",
       "      <th>201803</th>\n",
       "      <td>558</td>\n",
       "    </tr>\n",
       "    <tr>\n",
       "      <th>201804</th>\n",
       "      <td>430</td>\n",
       "    </tr>\n",
       "    <tr>\n",
       "      <th>201805</th>\n",
       "      <td>423</td>\n",
       "    </tr>\n",
       "    <tr>\n",
       "      <th>201806</th>\n",
       "      <td>377</td>\n",
       "    </tr>\n",
       "    <tr>\n",
       "      <th>201807</th>\n",
       "      <td>365</td>\n",
       "    </tr>\n",
       "    <tr>\n",
       "      <th>201808</th>\n",
       "      <td>378</td>\n",
       "    </tr>\n",
       "    <tr>\n",
       "      <th>201809</th>\n",
       "      <td>359</td>\n",
       "    </tr>\n",
       "    <tr>\n",
       "      <th>201810</th>\n",
       "      <td>109</td>\n",
       "    </tr>\n",
       "  </tbody>\n",
       "</table>\n",
       "</div>"
      ],
      "text/plain": [
       "          pretention\n",
       "month_gr            \n",
       "201707             0\n",
       "201708             0\n",
       "201709             0\n",
       "201710             0\n",
       "201711             0\n",
       "201712           157\n",
       "201801           463\n",
       "201802           415\n",
       "201803           558\n",
       "201804           430\n",
       "201805           423\n",
       "201806           377\n",
       "201807           365\n",
       "201808           378\n",
       "201809           359\n",
       "201810           109"
      ]
     },
     "execution_count": 170,
     "metadata": {},
     "output_type": "execute_result"
    }
   ],
   "source": [
    "applications[['pretention', 'month_gr']].groupby('month_gr').count()"
   ]
  },
  {
   "cell_type": "markdown",
   "metadata": {},
   "source": [
    "Since one third of varible has missing values, we'll not use it"
   ]
  },
  {
   "cell_type": "markdown",
   "metadata": {},
   "source": [
    "Check **verif_doc**:"
   ]
  },
  {
   "cell_type": "code",
   "execution_count": 173,
   "metadata": {},
   "outputs": [
    {
     "data": {
      "text/html": [
       "<div>\n",
       "<style scoped>\n",
       "    .dataframe tbody tr th:only-of-type {\n",
       "        vertical-align: middle;\n",
       "    }\n",
       "\n",
       "    .dataframe tbody tr th {\n",
       "        vertical-align: top;\n",
       "    }\n",
       "\n",
       "    .dataframe thead th {\n",
       "        text-align: right;\n",
       "    }\n",
       "</style>\n",
       "<table border=\"1\" class=\"dataframe\">\n",
       "  <thead>\n",
       "    <tr style=\"text-align: right;\">\n",
       "      <th></th>\n",
       "      <th>app_id</th>\n",
       "    </tr>\n",
       "    <tr>\n",
       "      <th>verif_doc</th>\n",
       "      <th></th>\n",
       "    </tr>\n",
       "  </thead>\n",
       "  <tbody>\n",
       "    <tr>\n",
       "      <th>1.0</th>\n",
       "      <td>5933</td>\n",
       "    </tr>\n",
       "    <tr>\n",
       "      <th>2.0</th>\n",
       "      <td>671</td>\n",
       "    </tr>\n",
       "  </tbody>\n",
       "</table>\n",
       "</div>"
      ],
      "text/plain": [
       "           app_id\n",
       "verif_doc        \n",
       "1.0          5933\n",
       "2.0           671"
      ]
     },
     "execution_count": 173,
     "metadata": {},
     "output_type": "execute_result"
    }
   ],
   "source": [
    "applications[['verif_doc', 'app_id']].groupby('verif_doc').count()"
   ]
  },
  {
   "cell_type": "code",
   "execution_count": 174,
   "metadata": {},
   "outputs": [],
   "source": [
    "applications['verif_doc'] = applications['verif_doc'].fillna(0)"
   ]
  },
  {
   "cell_type": "markdown",
   "metadata": {},
   "source": [
    "Check **verif_appl**:"
   ]
  },
  {
   "cell_type": "code",
   "execution_count": 189,
   "metadata": {},
   "outputs": [
    {
     "data": {
      "text/html": [
       "<div>\n",
       "<style scoped>\n",
       "    .dataframe tbody tr th:only-of-type {\n",
       "        vertical-align: middle;\n",
       "    }\n",
       "\n",
       "    .dataframe tbody tr th {\n",
       "        vertical-align: top;\n",
       "    }\n",
       "\n",
       "    .dataframe thead th {\n",
       "        text-align: right;\n",
       "    }\n",
       "</style>\n",
       "<table border=\"1\" class=\"dataframe\">\n",
       "  <thead>\n",
       "    <tr style=\"text-align: right;\">\n",
       "      <th></th>\n",
       "      <th>app_id</th>\n",
       "    </tr>\n",
       "    <tr>\n",
       "      <th>verif_appl</th>\n",
       "      <th></th>\n",
       "    </tr>\n",
       "  </thead>\n",
       "  <tbody>\n",
       "    <tr>\n",
       "      <th>1.0</th>\n",
       "      <td>2954</td>\n",
       "    </tr>\n",
       "    <tr>\n",
       "      <th>2.0</th>\n",
       "      <td>3654</td>\n",
       "    </tr>\n",
       "  </tbody>\n",
       "</table>\n",
       "</div>"
      ],
      "text/plain": [
       "            app_id\n",
       "verif_appl        \n",
       "1.0           2954\n",
       "2.0           3654"
      ]
     },
     "execution_count": 189,
     "metadata": {},
     "output_type": "execute_result"
    }
   ],
   "source": [
    "applications[['verif_appl', 'app_id']].groupby('verif_appl').count()"
   ]
  },
  {
   "cell_type": "code",
   "execution_count": 190,
   "metadata": {},
   "outputs": [],
   "source": [
    "applications['verif_appl'] = applications['verif_appl'].fillna(0)"
   ]
  },
  {
   "cell_type": "markdown",
   "metadata": {},
   "source": [
    "Check **location_country** and **location_city**:"
   ]
  },
  {
   "cell_type": "code",
   "execution_count": 204,
   "metadata": {},
   "outputs": [],
   "source": [
    "applications['location_country'] = applications['location_country'].fillna('n\\a')\n",
    "applications['location_city'] = applications['location_city'].fillna('n\\a')"
   ]
  },
  {
   "cell_type": "markdown",
   "metadata": {},
   "source": [
    "## 9. Creation of new features"
   ]
  },
  {
   "cell_type": "markdown",
   "metadata": {},
   "source": [
    "Add new features: time from client registration and from issued of document (for both than more then better)"
   ]
  },
  {
   "cell_type": "code",
   "execution_count": 165,
   "metadata": {},
   "outputs": [],
   "source": [
    "applications['doc_date_i'] = ((pd.to_datetime(applications['app_dt'], format = '%Y-%m-%d')-pd.to_datetime(applications['doc_date'], format = '%Y-%m-%d')).dt.days/365.25).fillna(0)\n",
    "applications['client_date_i'] = (pd.to_datetime(applications['app_dt'], format = '%Y-%m-%d')-pd.to_datetime(applications['client_date'], format = '%Y-%m-%d')).dt.days/365.25"
   ]
  },
  {
   "cell_type": "markdown",
   "metadata": {},
   "source": [
    "Add new feature: average interest rate (monthly). According to current loan process, client accepts maximum rate that he agrees. Process won't be changed, therefore we can use such variable "
   ]
  },
  {
   "cell_type": "code",
   "execution_count": 226,
   "metadata": {},
   "outputs": [],
   "source": [
    "applications['ir'] = (applications['amount_return'] - applications['amount_issued'])/(applications['Term']/30)/applications['amount_issued']"
   ]
  },
  {
   "cell_type": "code",
   "execution_count": null,
   "metadata": {},
   "outputs": [],
   "source": []
  },
  {
   "cell_type": "code",
   "execution_count": 412,
   "metadata": {},
   "outputs": [],
   "source": [
    "applications['pti'] = (applications['loans_amount'] - applications['paid_amount'] + applications['amount_return'])/applications['paid_amount']"
   ]
  },
  {
   "cell_type": "markdown",
   "metadata": {},
   "source": [
    "## 3. Primary visual data analysis"
   ]
  },
  {
   "cell_type": "code",
   "execution_count": 233,
   "metadata": {},
   "outputs": [],
   "source": [
    "appl_short = applications[applications['sample'] == 1]"
   ]
  },
  {
   "cell_type": "code",
   "execution_count": 234,
   "metadata": {},
   "outputs": [
    {
     "data": {
      "text/plain": [
       "Index(['id', 'Term', 'expired_date', 'loans_amount', 'loans_cnt',\n",
       "       'paid_amount', 'paid_cnt', 'pretention', 'location_country',\n",
       "       'location_city', 'app_dt', 'verif_data', 'verif_doc', 'verif_appl',\n",
       "       'verif_addres', 'doc_date', 'client_date', 'credit_status', 'rating',\n",
       "       'rating2', 'amount_issued', 'amount_return', 'friends', 'app_id',\n",
       "       'client_id', 'granted', 'month_gr', 'target', 'sample', 'doc_date_i',\n",
       "       'client_date_i', 'ir'],\n",
       "      dtype='object')"
      ]
     },
     "execution_count": 234,
     "metadata": {},
     "output_type": "execute_result"
    }
   ],
   "source": [
    "appl_short.columns"
   ]
  },
  {
   "cell_type": "code",
   "execution_count": 177,
   "metadata": {
    "scrolled": true
   },
   "outputs": [
    {
     "data": {
      "image/png": "[encoded data removed]",
      "text/plain": [
       "<Figure size 1080x360 with 2 Axes>"
      ]
     },
     "metadata": {},
     "output_type": "display_data"
    }
   ],
   "source": [
    "var = 'Term'\n",
    "ratio = 15\n",
    "plt.figure(1,figsize=(15,5))\n",
    "plt.subplot(1,2,1)\n",
    "pd.DataFrame(data = np.concatenate((np.asarray([appl_short[var].apply(lambda x: int(x/ratio))]).T,\n",
    "                                    appl_short[['target']]), axis = 1), \n",
    "             columns = ['x',\n",
    "                        var + ' (cnt)']).groupby('x').count().reset_index().sort_values(by = ['x']).plot(x = 'x', \n",
    "                                                                                                   kind = 'bar',\n",
    "                                                                                                    ax=plt.gca());\n",
    "plt.subplot(1,2,2)\n",
    "pd.DataFrame(data = np.concatenate((np.asarray([appl_short[var].apply(lambda x: int(x/ratio))]).T,\n",
    "                                    appl_short[['target']]), axis = 1), \n",
    "             columns = ['x',\n",
    "                        var + ' (avg target)']).groupby('x').mean().reset_index().sort_values(by = ['x']).plot(x = 'x', \n",
    "                                                                                                   kind = 'bar',\n",
    "                                                                                                    ax=plt.gca());"
   ]
  },
  {
   "cell_type": "code",
   "execution_count": 178,
   "metadata": {},
   "outputs": [
    {
     "data": {
      "image/png": "[encoded data removed]",
      "text/plain": [
       "<Figure size 1080x360 with 2 Axes>"
      ]
     },
     "metadata": {},
     "output_type": "display_data"
    }
   ],
   "source": [
    "var = 'loans_amount'\n",
    "ratio = 200000\n",
    "limit = 5\n",
    "plt.figure(1,figsize=(15,5))\n",
    "plt.subplot(1,2,1)\n",
    "pd.DataFrame(data = np.concatenate((np.asarray([appl_short[var].apply(lambda x: limit if int(x/ratio) > limit else int(x/ratio))]).T,\n",
    "                                    appl_short[['target']]), axis = 1), \n",
    "             columns = ['x',\n",
    "                        var + ' (cnt)']).groupby('x').count().reset_index().sort_values(by = ['x']).plot(x = 'x', \n",
    "                                                                                                   kind = 'bar',\n",
    "                                                                                                    ax=plt.gca());\n",
    "plt.subplot(1,2,2)\n",
    "pd.DataFrame(data = np.concatenate((np.asarray([appl_short[var].apply(lambda x: limit if int(x/ratio) > limit else int(x/ratio))]).T,\n",
    "                                    appl_short[['target']]), axis = 1), \n",
    "             columns = ['x',\n",
    "                        var + ' (avg target)']).groupby('x').mean().reset_index().sort_values(by = ['x']).plot(x = 'x', \n",
    "                                                                                                   kind = 'bar',\n",
    "                                                                                                    ax=plt.gca());"
   ]
  },
  {
   "cell_type": "code",
   "execution_count": 179,
   "metadata": {},
   "outputs": [
    {
     "data": {
      "image/png": "[encoded data removed]",
      "text/plain": [
       "<Figure size 1080x360 with 2 Axes>"
      ]
     },
     "metadata": {},
     "output_type": "display_data"
    }
   ],
   "source": [
    "var = 'loans_cnt'\n",
    "ratio = 100\n",
    "limit = 3\n",
    "plt.figure(1,figsize=(15,5))\n",
    "plt.subplot(1,2,1)\n",
    "pd.DataFrame(data = np.concatenate((np.asarray([appl_short[var].apply(lambda x: limit if int(x/ratio) > limit else int(x/ratio))]).T,\n",
    "                                    appl_short[['target']]), axis = 1), \n",
    "             columns = ['x',\n",
    "                        var + ' (cnt)']).groupby('x').count().reset_index().sort_values(by = ['x']).plot(x = 'x', \n",
    "                                                                                                   kind = 'bar',\n",
    "                                                                                                    ax=plt.gca());\n",
    "plt.subplot(1,2,2)\n",
    "pd.DataFrame(data = np.concatenate((np.asarray([appl_short[var].apply(lambda x: limit if int(x/ratio) > limit else int(x/ratio))]).T,\n",
    "                                    appl_short[['target']]), axis = 1), \n",
    "             columns = ['x',\n",
    "                        var + ' (avg target)']).groupby('x').mean().reset_index().sort_values(by = ['x']).plot(x = 'x', \n",
    "                                                                                                   kind = 'bar',\n",
    "                                                                                                    ax=plt.gca());"
   ]
  },
  {
   "cell_type": "code",
   "execution_count": 180,
   "metadata": {},
   "outputs": [
    {
     "data": {
      "image/png": "[encoded data removed]",
      "text/plain": [
       "<Figure size 1080x360 with 2 Axes>"
      ]
     },
     "metadata": {},
     "output_type": "display_data"
    }
   ],
   "source": [
    "var = 'rating'\n",
    "ratio = 100\n",
    "limit = 3\n",
    "plt.figure(1,figsize=(15,5))\n",
    "plt.subplot(1,2,1)\n",
    "pd.DataFrame(data = np.concatenate((np.asarray([appl_short[var].apply(lambda x: limit if int(x/ratio) > limit else int(x/ratio))]).T,\n",
    "                                    appl_short[['target']]), axis = 1), \n",
    "             columns = ['x',\n",
    "                        var + ' (cnt)']).groupby('x').count().reset_index().sort_values(by = ['x']).plot(x = 'x', \n",
    "                                                                                                   kind = 'bar',\n",
    "                                                                                                    ax=plt.gca());\n",
    "plt.subplot(1,2,2)\n",
    "pd.DataFrame(data = np.concatenate((np.asarray([appl_short[var].apply(lambda x: limit if int(x/ratio) > limit else int(x/ratio))]).T,\n",
    "                                    appl_short[['target']]), axis = 1), \n",
    "             columns = ['x',\n",
    "                        var + ' (avg target)']).groupby('x').mean().reset_index().sort_values(by = ['x']).plot(x = 'x', \n",
    "                                                                                                   kind = 'bar',\n",
    "                                                                                                    ax=plt.gca());"
   ]
  },
  {
   "cell_type": "code",
   "execution_count": 181,
   "metadata": {},
   "outputs": [
    {
     "data": {
      "image/png": "[encoded data removed]",
      "text/plain": [
       "<Figure size 1080x360 with 2 Axes>"
      ]
     },
     "metadata": {},
     "output_type": "display_data"
    }
   ],
   "source": [
    "var = 'rating2'\n",
    "ratio = 10\n",
    "limit = 1\n",
    "plt.figure(1,figsize=(15,5))\n",
    "plt.subplot(1,2,1)\n",
    "pd.DataFrame(data = np.concatenate((np.asarray([appl_short[var].apply(lambda x: limit if int(x/ratio) > limit else int(x/ratio))]).T,\n",
    "                                    appl_short[['target']]), axis = 1), \n",
    "             columns = ['x',\n",
    "                        var + ' (cnt)']).groupby('x').count().reset_index().sort_values(by = ['x']).plot(x = 'x', \n",
    "                                                                                                   kind = 'bar',\n",
    "                                                                                                    ax=plt.gca());\n",
    "plt.subplot(1,2,2)\n",
    "pd.DataFrame(data = np.concatenate((np.asarray([appl_short[var].apply(lambda x: limit if int(x/ratio) > limit else int(x/ratio))]).T,\n",
    "                                    appl_short[['target']]), axis = 1), \n",
    "             columns = ['x',\n",
    "                        var + ' (avg target)']).groupby('x').mean().reset_index().sort_values(by = ['x']).plot(x = 'x', \n",
    "                                                                                                   kind = 'bar',\n",
    "                                                                                                    ax=plt.gca());"
   ]
  },
  {
   "cell_type": "code",
   "execution_count": 182,
   "metadata": {},
   "outputs": [
    {
     "data": {
      "image/png": "[encoded data removed]",
      "text/plain": [
       "<Figure size 1080x360 with 2 Axes>"
      ]
     },
     "metadata": {},
     "output_type": "display_data"
    }
   ],
   "source": [
    "var = 'amount_issued'\n",
    "ratio = 5000\n",
    "limit = 3\n",
    "plt.figure(1,figsize=(15,5))\n",
    "plt.subplot(1,2,1)\n",
    "pd.DataFrame(data = np.concatenate((np.asarray([appl_short[var].apply(lambda x: limit if int(x/ratio) > limit else int(x/ratio))]).T,\n",
    "                                    appl_short[['target']]), axis = 1), \n",
    "             columns = ['x',\n",
    "                        var + ' (cnt)']).groupby('x').count().reset_index().sort_values(by = ['x']).plot(x = 'x', \n",
    "                                                                                                   kind = 'bar',\n",
    "                                                                                                    ax=plt.gca());\n",
    "plt.subplot(1,2,2)\n",
    "pd.DataFrame(data = np.concatenate((np.asarray([appl_short[var].apply(lambda x: limit if int(x/ratio) > limit else int(x/ratio))]).T,\n",
    "                                    appl_short[['target']]), axis = 1), \n",
    "             columns = ['x',\n",
    "                        var + ' (avg target)']).groupby('x').mean().reset_index().sort_values(by = ['x']).plot(x = 'x', \n",
    "                                                                                                   kind = 'bar',\n",
    "                                                                                                    ax=plt.gca());"
   ]
  },
  {
   "cell_type": "code",
   "execution_count": 183,
   "metadata": {},
   "outputs": [
    {
     "data": {
      "image/png": "[encoded data removed]",
      "text/plain": [
       "<Figure size 1080x360 with 2 Axes>"
      ]
     },
     "metadata": {},
     "output_type": "display_data"
    }
   ],
   "source": [
    "var = 'friends'\n",
    "ratio = 15\n",
    "limit = 5\n",
    "plt.figure(1,figsize=(15,5))\n",
    "plt.subplot(1,2,1)\n",
    "pd.DataFrame(data = np.concatenate((np.asarray([appl_short[var].apply(lambda x: limit if int(x/ratio) > limit else int(x/ratio))]).T,\n",
    "                                    appl_short[['target']]), axis = 1), \n",
    "             columns = ['x',\n",
    "                        var + ' (cnt)']).groupby('x').count().reset_index().sort_values(by = ['x']).plot(x = 'x', \n",
    "                                                                                                   kind = 'bar',\n",
    "                                                                                                    ax=plt.gca());\n",
    "plt.subplot(1,2,2)\n",
    "pd.DataFrame(data = np.concatenate((np.asarray([appl_short[var].apply(lambda x: limit if int(x/ratio) > limit else int(x/ratio))]).T,\n",
    "                                    appl_short[['target']]), axis = 1), \n",
    "             columns = ['x',\n",
    "                        var + ' (avg target)']).groupby('x').mean().reset_index().sort_values(by = ['x']).plot(x = 'x', \n",
    "                                                                                                   kind = 'bar',\n",
    "                                                                                                    ax=plt.gca());"
   ]
  },
  {
   "cell_type": "code",
   "execution_count": 184,
   "metadata": {},
   "outputs": [
    {
     "data": {
      "image/png": "[encoded data removed]",
      "text/plain": [
       "<Figure size 1080x360 with 2 Axes>"
      ]
     },
     "metadata": {},
     "output_type": "display_data"
    }
   ],
   "source": [
    "var = 'client_date_i'\n",
    "ratio = 3\n",
    "limit = 5\n",
    "plt.figure(1,figsize=(15,5))\n",
    "plt.subplot(1,2,1)\n",
    "pd.DataFrame(data = np.concatenate((np.asarray([appl_short[var].apply(lambda x: limit if int(x/ratio) > limit else int(x/ratio))]).T,\n",
    "                                    appl_short[['target']]), axis = 1), \n",
    "             columns = ['x',\n",
    "                        var + ' (cnt)']).groupby('x').count().reset_index().sort_values(by = ['x']).plot(x = 'x', \n",
    "                                                                                                   kind = 'bar',\n",
    "                                                                                                    ax=plt.gca());\n",
    "plt.subplot(1,2,2)\n",
    "pd.DataFrame(data = np.concatenate((np.asarray([appl_short[var].apply(lambda x: limit if int(x/ratio) > limit else int(x/ratio))]).T,\n",
    "                                    appl_short[['target']]), axis = 1), \n",
    "             columns = ['x',\n",
    "                        var + ' (avg target)']).groupby('x').mean().reset_index().sort_values(by = ['x']).plot(x = 'x', \n",
    "                                                                                                   kind = 'bar',\n",
    "                                                                                                    ax=plt.gca());"
   ]
  },
  {
   "cell_type": "code",
   "execution_count": 185,
   "metadata": {},
   "outputs": [
    {
     "data": {
      "image/png": "[encoded data removed]",
      "text/plain": [
       "<Figure size 1080x360 with 2 Axes>"
      ]
     },
     "metadata": {},
     "output_type": "display_data"
    }
   ],
   "source": [
    "var = 'doc_date_i'\n",
    "ratio = 3\n",
    "limit = 5\n",
    "plt.figure(1,figsize=(15,5))\n",
    "plt.subplot(1,2,1)\n",
    "pd.DataFrame(data = np.concatenate((np.asarray([appl_short[var].apply(lambda x: limit if int(x/ratio) > limit else int(x/ratio))]).T,\n",
    "                                    appl_short[['target']]), axis = 1), \n",
    "             columns = ['x',\n",
    "                        var + ' (cnt)']).groupby('x').count().reset_index().sort_values(by = ['x']).plot(x = 'x', \n",
    "                                                                                                   kind = 'bar',\n",
    "                                                                                                    ax=plt.gca());\n",
    "plt.subplot(1,2,2)\n",
    "pd.DataFrame(data = np.concatenate((np.asarray([appl_short[var].apply(lambda x: limit if int(x/ratio) > limit else int(x/ratio))]).T,\n",
    "                                    appl_short[['target']]), axis = 1), \n",
    "             columns = ['x',\n",
    "                        var + ' (avg target)']).groupby('x').mean().reset_index().sort_values(by = ['x']).plot(x = 'x', \n",
    "                                                                                                   kind = 'bar',\n",
    "                                                                                                    ax=plt.gca());"
   ]
  },
  {
   "cell_type": "code",
   "execution_count": 241,
   "metadata": {
    "scrolled": true
   },
   "outputs": [
    {
     "data": {
      "image/png": "[encoded data removed]",
      "text/plain": [
       "<Figure size 1080x360 with 2 Axes>"
      ]
     },
     "metadata": {},
     "output_type": "display_data"
    }
   ],
   "source": [
    "var = 'ir'\n",
    "ratio = 0.02\n",
    "limit = 15\n",
    "plt.figure(1,figsize=(15,5))\n",
    "plt.subplot(1,2,1)\n",
    "pd.DataFrame(data = np.concatenate((np.asarray([appl_short[var].apply(lambda x: limit if int(x/ratio) > limit else int(x/ratio))]).T,\n",
    "                                    appl_short[['target']]), axis = 1), \n",
    "             columns = ['x',\n",
    "                        var + ' (cnt)']).groupby('x').count().reset_index().sort_values(by = ['x']).plot(x = 'x', \n",
    "                                                                                                   kind = 'bar',\n",
    "                                                                                                    ax=plt.gca());\n",
    "plt.subplot(1,2,2)\n",
    "pd.DataFrame(data = np.concatenate((np.asarray([appl_short[var].apply(lambda x: limit if int(x/ratio) > limit else int(x/ratio))]).T,\n",
    "                                    appl_short[['target']]), axis = 1), \n",
    "             columns = ['x',\n",
    "                        var + ' (avg target)']).groupby('x').mean().reset_index().sort_values(by = ['x']).plot(x = 'x', \n",
    "                                                                                                   kind = 'bar',\n",
    "                                                                                                    ax=plt.gca());"
   ]
  },
  {
   "cell_type": "markdown",
   "metadata": {},
   "source": [
    "Very high interest rate means very high risk. Decreasing of risk in the last bucket is due to clients with very short term (usualy, they have much higher interest rate)"
   ]
  },
  {
   "cell_type": "markdown",
   "metadata": {},
   "source": [
    "## 5. Metrics selection"
   ]
  },
  {
   "cell_type": "markdown",
   "metadata": {},
   "source": [
    "We need to split clients for \"good\" and \"bad\". But we don't need to split \"bad\" clients from \"very bad\" clients. Therefore, firstly, we decline very bad clients - with very high interest rate.\n",
    "After we'll use standard metric for bank scoring - roc-auc."
   ]
  },
  {
   "cell_type": "code",
   "execution_count": 249,
   "metadata": {},
   "outputs": [],
   "source": [
    "df = appl_short[['target', 'ir', 'Term']]\n",
    "df['Term_gr'] = df['Term'].apply(lambda x: 7 if x <= 7 else 29 if x <= 29 else 30 if x == 30 else 60)\n",
    "df['ir_gr'] = df['ir'].apply(lambda x: 15 if int(x/0.02) > 15 else int(x/0.02))\n",
    "df['cnt'] = 1\n",
    "df2 = df.groupby(['Term_gr', 'ir_gr']).sum().reset_index()\n",
    "df2['avg_target'] = df2['target']/df2['cnt']"
   ]
  },
  {
   "cell_type": "code",
   "execution_count": 251,
   "metadata": {},
   "outputs": [
    {
     "data": {
      "text/html": [
       "<div>\n",
       "<style scoped>\n",
       "    .dataframe tbody tr th:only-of-type {\n",
       "        vertical-align: middle;\n",
       "    }\n",
       "\n",
       "    .dataframe tbody tr th {\n",
       "        vertical-align: top;\n",
       "    }\n",
       "\n",
       "    .dataframe thead th {\n",
       "        text-align: right;\n",
       "    }\n",
       "</style>\n",
       "<table border=\"1\" class=\"dataframe\">\n",
       "  <thead>\n",
       "    <tr style=\"text-align: right;\">\n",
       "      <th></th>\n",
       "      <th>Term_gr</th>\n",
       "      <th>ir_gr</th>\n",
       "      <th>avg_target</th>\n",
       "      <th>cnt</th>\n",
       "    </tr>\n",
       "  </thead>\n",
       "  <tbody>\n",
       "    <tr>\n",
       "      <th>0</th>\n",
       "      <td>7</td>\n",
       "      <td>1</td>\n",
       "      <td>0.000000</td>\n",
       "      <td>1</td>\n",
       "    </tr>\n",
       "    <tr>\n",
       "      <th>1</th>\n",
       "      <td>7</td>\n",
       "      <td>2</td>\n",
       "      <td>0.250000</td>\n",
       "      <td>4</td>\n",
       "    </tr>\n",
       "    <tr>\n",
       "      <th>2</th>\n",
       "      <td>7</td>\n",
       "      <td>3</td>\n",
       "      <td>0.000000</td>\n",
       "      <td>10</td>\n",
       "    </tr>\n",
       "    <tr>\n",
       "      <th>3</th>\n",
       "      <td>7</td>\n",
       "      <td>4</td>\n",
       "      <td>0.000000</td>\n",
       "      <td>10</td>\n",
       "    </tr>\n",
       "    <tr>\n",
       "      <th>4</th>\n",
       "      <td>7</td>\n",
       "      <td>5</td>\n",
       "      <td>0.100000</td>\n",
       "      <td>10</td>\n",
       "    </tr>\n",
       "    <tr>\n",
       "      <th>5</th>\n",
       "      <td>7</td>\n",
       "      <td>6</td>\n",
       "      <td>0.250000</td>\n",
       "      <td>12</td>\n",
       "    </tr>\n",
       "    <tr>\n",
       "      <th>6</th>\n",
       "      <td>7</td>\n",
       "      <td>7</td>\n",
       "      <td>0.333333</td>\n",
       "      <td>9</td>\n",
       "    </tr>\n",
       "    <tr>\n",
       "      <th>7</th>\n",
       "      <td>7</td>\n",
       "      <td>8</td>\n",
       "      <td>0.000000</td>\n",
       "      <td>2</td>\n",
       "    </tr>\n",
       "    <tr>\n",
       "      <th>8</th>\n",
       "      <td>7</td>\n",
       "      <td>9</td>\n",
       "      <td>0.000000</td>\n",
       "      <td>1</td>\n",
       "    </tr>\n",
       "    <tr>\n",
       "      <th>9</th>\n",
       "      <td>7</td>\n",
       "      <td>10</td>\n",
       "      <td>0.000000</td>\n",
       "      <td>10</td>\n",
       "    </tr>\n",
       "    <tr>\n",
       "      <th>10</th>\n",
       "      <td>7</td>\n",
       "      <td>11</td>\n",
       "      <td>0.500000</td>\n",
       "      <td>2</td>\n",
       "    </tr>\n",
       "    <tr>\n",
       "      <th>11</th>\n",
       "      <td>7</td>\n",
       "      <td>12</td>\n",
       "      <td>0.400000</td>\n",
       "      <td>5</td>\n",
       "    </tr>\n",
       "    <tr>\n",
       "      <th>12</th>\n",
       "      <td>7</td>\n",
       "      <td>13</td>\n",
       "      <td>1.000000</td>\n",
       "      <td>1</td>\n",
       "    </tr>\n",
       "    <tr>\n",
       "      <th>13</th>\n",
       "      <td>7</td>\n",
       "      <td>15</td>\n",
       "      <td>0.133333</td>\n",
       "      <td>45</td>\n",
       "    </tr>\n",
       "    <tr>\n",
       "      <th>14</th>\n",
       "      <td>29</td>\n",
       "      <td>1</td>\n",
       "      <td>0.153846</td>\n",
       "      <td>13</td>\n",
       "    </tr>\n",
       "    <tr>\n",
       "      <th>15</th>\n",
       "      <td>29</td>\n",
       "      <td>2</td>\n",
       "      <td>0.056604</td>\n",
       "      <td>53</td>\n",
       "    </tr>\n",
       "    <tr>\n",
       "      <th>16</th>\n",
       "      <td>29</td>\n",
       "      <td>3</td>\n",
       "      <td>0.045455</td>\n",
       "      <td>66</td>\n",
       "    </tr>\n",
       "    <tr>\n",
       "      <th>17</th>\n",
       "      <td>29</td>\n",
       "      <td>4</td>\n",
       "      <td>0.018868</td>\n",
       "      <td>53</td>\n",
       "    </tr>\n",
       "    <tr>\n",
       "      <th>18</th>\n",
       "      <td>29</td>\n",
       "      <td>5</td>\n",
       "      <td>0.085106</td>\n",
       "      <td>47</td>\n",
       "    </tr>\n",
       "    <tr>\n",
       "      <th>19</th>\n",
       "      <td>29</td>\n",
       "      <td>6</td>\n",
       "      <td>0.173913</td>\n",
       "      <td>23</td>\n",
       "    </tr>\n",
       "    <tr>\n",
       "      <th>20</th>\n",
       "      <td>29</td>\n",
       "      <td>7</td>\n",
       "      <td>0.111111</td>\n",
       "      <td>27</td>\n",
       "    </tr>\n",
       "    <tr>\n",
       "      <th>21</th>\n",
       "      <td>29</td>\n",
       "      <td>8</td>\n",
       "      <td>0.076923</td>\n",
       "      <td>13</td>\n",
       "    </tr>\n",
       "    <tr>\n",
       "      <th>22</th>\n",
       "      <td>29</td>\n",
       "      <td>9</td>\n",
       "      <td>0.142857</td>\n",
       "      <td>7</td>\n",
       "    </tr>\n",
       "    <tr>\n",
       "      <th>23</th>\n",
       "      <td>29</td>\n",
       "      <td>10</td>\n",
       "      <td>0.125000</td>\n",
       "      <td>16</td>\n",
       "    </tr>\n",
       "    <tr>\n",
       "      <th>24</th>\n",
       "      <td>29</td>\n",
       "      <td>11</td>\n",
       "      <td>0.333333</td>\n",
       "      <td>6</td>\n",
       "    </tr>\n",
       "    <tr>\n",
       "      <th>25</th>\n",
       "      <td>29</td>\n",
       "      <td>12</td>\n",
       "      <td>0.400000</td>\n",
       "      <td>5</td>\n",
       "    </tr>\n",
       "    <tr>\n",
       "      <th>26</th>\n",
       "      <td>29</td>\n",
       "      <td>13</td>\n",
       "      <td>0.000000</td>\n",
       "      <td>2</td>\n",
       "    </tr>\n",
       "    <tr>\n",
       "      <th>27</th>\n",
       "      <td>29</td>\n",
       "      <td>14</td>\n",
       "      <td>0.500000</td>\n",
       "      <td>2</td>\n",
       "    </tr>\n",
       "    <tr>\n",
       "      <th>28</th>\n",
       "      <td>29</td>\n",
       "      <td>15</td>\n",
       "      <td>0.291667</td>\n",
       "      <td>24</td>\n",
       "    </tr>\n",
       "    <tr>\n",
       "      <th>29</th>\n",
       "      <td>30</td>\n",
       "      <td>0</td>\n",
       "      <td>0.000000</td>\n",
       "      <td>2</td>\n",
       "    </tr>\n",
       "    <tr>\n",
       "      <th>30</th>\n",
       "      <td>30</td>\n",
       "      <td>1</td>\n",
       "      <td>0.033898</td>\n",
       "      <td>59</td>\n",
       "    </tr>\n",
       "    <tr>\n",
       "      <th>31</th>\n",
       "      <td>30</td>\n",
       "      <td>2</td>\n",
       "      <td>0.064057</td>\n",
       "      <td>281</td>\n",
       "    </tr>\n",
       "    <tr>\n",
       "      <th>32</th>\n",
       "      <td>30</td>\n",
       "      <td>3</td>\n",
       "      <td>0.085106</td>\n",
       "      <td>188</td>\n",
       "    </tr>\n",
       "    <tr>\n",
       "      <th>33</th>\n",
       "      <td>30</td>\n",
       "      <td>4</td>\n",
       "      <td>0.174757</td>\n",
       "      <td>103</td>\n",
       "    </tr>\n",
       "    <tr>\n",
       "      <th>34</th>\n",
       "      <td>30</td>\n",
       "      <td>5</td>\n",
       "      <td>0.206349</td>\n",
       "      <td>126</td>\n",
       "    </tr>\n",
       "    <tr>\n",
       "      <th>35</th>\n",
       "      <td>30</td>\n",
       "      <td>6</td>\n",
       "      <td>0.166667</td>\n",
       "      <td>18</td>\n",
       "    </tr>\n",
       "    <tr>\n",
       "      <th>36</th>\n",
       "      <td>30</td>\n",
       "      <td>7</td>\n",
       "      <td>0.285714</td>\n",
       "      <td>14</td>\n",
       "    </tr>\n",
       "    <tr>\n",
       "      <th>37</th>\n",
       "      <td>30</td>\n",
       "      <td>8</td>\n",
       "      <td>0.142857</td>\n",
       "      <td>7</td>\n",
       "    </tr>\n",
       "    <tr>\n",
       "      <th>38</th>\n",
       "      <td>30</td>\n",
       "      <td>10</td>\n",
       "      <td>0.333333</td>\n",
       "      <td>15</td>\n",
       "    </tr>\n",
       "    <tr>\n",
       "      <th>39</th>\n",
       "      <td>30</td>\n",
       "      <td>11</td>\n",
       "      <td>0.666667</td>\n",
       "      <td>3</td>\n",
       "    </tr>\n",
       "    <tr>\n",
       "      <th>40</th>\n",
       "      <td>30</td>\n",
       "      <td>12</td>\n",
       "      <td>0.666667</td>\n",
       "      <td>6</td>\n",
       "    </tr>\n",
       "    <tr>\n",
       "      <th>41</th>\n",
       "      <td>30</td>\n",
       "      <td>13</td>\n",
       "      <td>1.000000</td>\n",
       "      <td>1</td>\n",
       "    </tr>\n",
       "    <tr>\n",
       "      <th>42</th>\n",
       "      <td>30</td>\n",
       "      <td>15</td>\n",
       "      <td>0.300000</td>\n",
       "      <td>10</td>\n",
       "    </tr>\n",
       "    <tr>\n",
       "      <th>43</th>\n",
       "      <td>60</td>\n",
       "      <td>0</td>\n",
       "      <td>0.000000</td>\n",
       "      <td>3</td>\n",
       "    </tr>\n",
       "    <tr>\n",
       "      <th>44</th>\n",
       "      <td>60</td>\n",
       "      <td>1</td>\n",
       "      <td>0.000000</td>\n",
       "      <td>54</td>\n",
       "    </tr>\n",
       "    <tr>\n",
       "      <th>45</th>\n",
       "      <td>60</td>\n",
       "      <td>2</td>\n",
       "      <td>0.078189</td>\n",
       "      <td>243</td>\n",
       "    </tr>\n",
       "    <tr>\n",
       "      <th>46</th>\n",
       "      <td>60</td>\n",
       "      <td>3</td>\n",
       "      <td>0.077419</td>\n",
       "      <td>155</td>\n",
       "    </tr>\n",
       "    <tr>\n",
       "      <th>47</th>\n",
       "      <td>60</td>\n",
       "      <td>4</td>\n",
       "      <td>0.094340</td>\n",
       "      <td>53</td>\n",
       "    </tr>\n",
       "    <tr>\n",
       "      <th>48</th>\n",
       "      <td>60</td>\n",
       "      <td>5</td>\n",
       "      <td>0.187500</td>\n",
       "      <td>48</td>\n",
       "    </tr>\n",
       "    <tr>\n",
       "      <th>49</th>\n",
       "      <td>60</td>\n",
       "      <td>6</td>\n",
       "      <td>0.300000</td>\n",
       "      <td>10</td>\n",
       "    </tr>\n",
       "    <tr>\n",
       "      <th>50</th>\n",
       "      <td>60</td>\n",
       "      <td>7</td>\n",
       "      <td>0.285714</td>\n",
       "      <td>7</td>\n",
       "    </tr>\n",
       "    <tr>\n",
       "      <th>51</th>\n",
       "      <td>60</td>\n",
       "      <td>9</td>\n",
       "      <td>0.500000</td>\n",
       "      <td>2</td>\n",
       "    </tr>\n",
       "    <tr>\n",
       "      <th>52</th>\n",
       "      <td>60</td>\n",
       "      <td>10</td>\n",
       "      <td>0.000000</td>\n",
       "      <td>1</td>\n",
       "    </tr>\n",
       "    <tr>\n",
       "      <th>53</th>\n",
       "      <td>60</td>\n",
       "      <td>11</td>\n",
       "      <td>0.333333</td>\n",
       "      <td>3</td>\n",
       "    </tr>\n",
       "    <tr>\n",
       "      <th>54</th>\n",
       "      <td>60</td>\n",
       "      <td>12</td>\n",
       "      <td>1.000000</td>\n",
       "      <td>1</td>\n",
       "    </tr>\n",
       "    <tr>\n",
       "      <th>55</th>\n",
       "      <td>60</td>\n",
       "      <td>15</td>\n",
       "      <td>1.000000</td>\n",
       "      <td>1</td>\n",
       "    </tr>\n",
       "  </tbody>\n",
       "</table>\n",
       "</div>"
      ],
      "text/plain": [
       "    Term_gr  ir_gr  avg_target  cnt\n",
       "0         7      1    0.000000    1\n",
       "1         7      2    0.250000    4\n",
       "2         7      3    0.000000   10\n",
       "3         7      4    0.000000   10\n",
       "4         7      5    0.100000   10\n",
       "5         7      6    0.250000   12\n",
       "6         7      7    0.333333    9\n",
       "7         7      8    0.000000    2\n",
       "8         7      9    0.000000    1\n",
       "9         7     10    0.000000   10\n",
       "10        7     11    0.500000    2\n",
       "11        7     12    0.400000    5\n",
       "12        7     13    1.000000    1\n",
       "13        7     15    0.133333   45\n",
       "14       29      1    0.153846   13\n",
       "15       29      2    0.056604   53\n",
       "16       29      3    0.045455   66\n",
       "17       29      4    0.018868   53\n",
       "18       29      5    0.085106   47\n",
       "19       29      6    0.173913   23\n",
       "20       29      7    0.111111   27\n",
       "21       29      8    0.076923   13\n",
       "22       29      9    0.142857    7\n",
       "23       29     10    0.125000   16\n",
       "24       29     11    0.333333    6\n",
       "25       29     12    0.400000    5\n",
       "26       29     13    0.000000    2\n",
       "27       29     14    0.500000    2\n",
       "28       29     15    0.291667   24\n",
       "29       30      0    0.000000    2\n",
       "30       30      1    0.033898   59\n",
       "31       30      2    0.064057  281\n",
       "32       30      3    0.085106  188\n",
       "33       30      4    0.174757  103\n",
       "34       30      5    0.206349  126\n",
       "35       30      6    0.166667   18\n",
       "36       30      7    0.285714   14\n",
       "37       30      8    0.142857    7\n",
       "38       30     10    0.333333   15\n",
       "39       30     11    0.666667    3\n",
       "40       30     12    0.666667    6\n",
       "41       30     13    1.000000    1\n",
       "42       30     15    0.300000   10\n",
       "43       60      0    0.000000    3\n",
       "44       60      1    0.000000   54\n",
       "45       60      2    0.078189  243\n",
       "46       60      3    0.077419  155\n",
       "47       60      4    0.094340   53\n",
       "48       60      5    0.187500   48\n",
       "49       60      6    0.300000   10\n",
       "50       60      7    0.285714    7\n",
       "51       60      9    0.500000    2\n",
       "52       60     10    0.000000    1\n",
       "53       60     11    0.333333    3\n",
       "54       60     12    1.000000    1\n",
       "55       60     15    1.000000    1"
      ]
     },
     "execution_count": 251,
     "metadata": {},
     "output_type": "execute_result"
    }
   ],
   "source": [
    "df2[['Term_gr', 'ir_gr', 'avg_target', 'cnt']]"
   ]
  },
  {
   "cell_type": "code",
   "execution_count": 254,
   "metadata": {},
   "outputs": [
    {
     "data": {
      "text/html": [
       "<div>\n",
       "<style scoped>\n",
       "    .dataframe tbody tr th:only-of-type {\n",
       "        vertical-align: middle;\n",
       "    }\n",
       "\n",
       "    .dataframe tbody tr th {\n",
       "        vertical-align: top;\n",
       "    }\n",
       "\n",
       "    .dataframe thead th {\n",
       "        text-align: right;\n",
       "    }\n",
       "</style>\n",
       "<table border=\"1\" class=\"dataframe\">\n",
       "  <thead>\n",
       "    <tr style=\"text-align: right;\">\n",
       "      <th></th>\n",
       "      <th>Term_gr</th>\n",
       "      <th>ir_gr</th>\n",
       "      <th>avg_target</th>\n",
       "      <th>cnt</th>\n",
       "    </tr>\n",
       "  </thead>\n",
       "  <tbody>\n",
       "    <tr>\n",
       "      <th>0</th>\n",
       "      <td>7</td>\n",
       "      <td>6</td>\n",
       "      <td>0.106383</td>\n",
       "      <td>47</td>\n",
       "    </tr>\n",
       "    <tr>\n",
       "      <th>1</th>\n",
       "      <td>7</td>\n",
       "      <td>7</td>\n",
       "      <td>0.166667</td>\n",
       "      <td>24</td>\n",
       "    </tr>\n",
       "    <tr>\n",
       "      <th>2</th>\n",
       "      <td>7</td>\n",
       "      <td>11</td>\n",
       "      <td>0.176471</td>\n",
       "      <td>51</td>\n",
       "    </tr>\n",
       "    <tr>\n",
       "      <th>3</th>\n",
       "      <td>29</td>\n",
       "      <td>6</td>\n",
       "      <td>0.066667</td>\n",
       "      <td>255</td>\n",
       "    </tr>\n",
       "    <tr>\n",
       "      <th>4</th>\n",
       "      <td>29</td>\n",
       "      <td>7</td>\n",
       "      <td>0.130435</td>\n",
       "      <td>69</td>\n",
       "    </tr>\n",
       "    <tr>\n",
       "      <th>5</th>\n",
       "      <td>29</td>\n",
       "      <td>11</td>\n",
       "      <td>0.303030</td>\n",
       "      <td>33</td>\n",
       "    </tr>\n",
       "    <tr>\n",
       "      <th>6</th>\n",
       "      <td>30</td>\n",
       "      <td>6</td>\n",
       "      <td>0.106821</td>\n",
       "      <td>777</td>\n",
       "    </tr>\n",
       "    <tr>\n",
       "      <th>7</th>\n",
       "      <td>30</td>\n",
       "      <td>7</td>\n",
       "      <td>0.307692</td>\n",
       "      <td>39</td>\n",
       "    </tr>\n",
       "    <tr>\n",
       "      <th>8</th>\n",
       "      <td>30</td>\n",
       "      <td>11</td>\n",
       "      <td>0.470588</td>\n",
       "      <td>17</td>\n",
       "    </tr>\n",
       "    <tr>\n",
       "      <th>9</th>\n",
       "      <td>60</td>\n",
       "      <td>6</td>\n",
       "      <td>0.084806</td>\n",
       "      <td>566</td>\n",
       "    </tr>\n",
       "    <tr>\n",
       "      <th>10</th>\n",
       "      <td>60</td>\n",
       "      <td>7</td>\n",
       "      <td>0.307692</td>\n",
       "      <td>13</td>\n",
       "    </tr>\n",
       "    <tr>\n",
       "      <th>11</th>\n",
       "      <td>60</td>\n",
       "      <td>11</td>\n",
       "      <td>1.000000</td>\n",
       "      <td>2</td>\n",
       "    </tr>\n",
       "  </tbody>\n",
       "</table>\n",
       "</div>"
      ],
      "text/plain": [
       "    Term_gr  ir_gr  avg_target  cnt\n",
       "0         7      6    0.106383   47\n",
       "1         7      7    0.166667   24\n",
       "2         7     11    0.176471   51\n",
       "3        29      6    0.066667  255\n",
       "4        29      7    0.130435   69\n",
       "5        29     11    0.303030   33\n",
       "6        30      6    0.106821  777\n",
       "7        30      7    0.307692   39\n",
       "8        30     11    0.470588   17\n",
       "9        60      6    0.084806  566\n",
       "10       60      7    0.307692   13\n",
       "11       60     11    1.000000    2"
      ]
     },
     "execution_count": 254,
     "metadata": {},
     "output_type": "execute_result"
    }
   ],
   "source": [
    "df = appl_short[['target', 'ir', 'Term']]\n",
    "df['Term_gr'] = df['Term'].apply(lambda x: 7 if x <= 7 else 29 if x <= 29 else 30 if x == 30 else 60)\n",
    "df['ir_gr'] = df['ir'].apply(lambda x: 11 if int(x/0.02) > 11 else 7 if int(x/0.02) >= 7 else 6)\n",
    "df['cnt'] = 1\n",
    "df2 = df.groupby(['Term_gr', 'ir_gr']).sum().reset_index()\n",
    "df2['avg_target'] = df2['target']/df2['cnt']\n",
    "df2[['Term_gr', 'ir_gr', 'avg_target', 'cnt']]"
   ]
  },
  {
   "cell_type": "markdown",
   "metadata": {},
   "source": [
    "Finally, we'll decline clients with \n",
    "    - interest rate >= 0.13 if term >= 30\n",
    "    - interest rate >= 0.21 if term > 7"
   ]
  },
  {
   "cell_type": "code",
   "execution_count": 413,
   "metadata": {},
   "outputs": [],
   "source": [
    "applications['auto_decl'] = 0\n",
    "applications.loc[(applications['ir'] >= 0.13) & (applications['Term'] >= 30),'auto_decl'] = 1\n",
    "applications.loc[(applications['ir'] >= 0.21) & (applications['Term'] > 7),'auto_decl'] = 1\n",
    "appl_short = applications[(applications['sample'] == 1) & (applications['auto_decl'] == 0)]"
   ]
  },
  {
   "cell_type": "code",
   "execution_count": 414,
   "metadata": {},
   "outputs": [
    {
     "data": {
      "text/plain": [
       "(0.09779536461277558, 0.3064516129032258, 1769, 124)"
      ]
     },
     "execution_count": 414,
     "metadata": {},
     "output_type": "execute_result"
    }
   ],
   "source": [
    "applications[(applications['sample'] == 1) & (applications['auto_decl'] == 0)]['target'].mean(), \\\n",
    "applications[(applications['sample'] == 1) & (applications['auto_decl'] == 1)]['target'].mean(), \\\n",
    "applications[(applications['sample'] == 1) & (applications['auto_decl'] == 0)]['target'].count(), \\\n",
    "applications[(applications['sample'] == 1) & (applications['auto_decl'] == 1)]['target'].count()"
   ]
  },
  {
   "cell_type": "markdown",
   "metadata": {},
   "source": [
    "We decline 124 observations with risk rate more than 30%"
   ]
  },
  {
   "cell_type": "markdown",
   "metadata": {},
   "source": [
    "## 6. Model selection"
   ]
  },
  {
   "cell_type": "markdown",
   "metadata": {},
   "source": [
    "We'll choose catboost model since it works very good with categorial variables. "
   ]
  },
  {
   "cell_type": "code",
   "execution_count": 452,
   "metadata": {},
   "outputs": [],
   "source": [
    "appl_short = appl_short.sort_values(by = ['app_dt', 'app_id'])\n",
    "X_train = appl_short[['location_country','location_city', 'verif_data', 'verif_doc', 'verif_appl',\n",
    "                       'verif_addres', 'credit_status', 'Term', 'rating', 'pti',\n",
    "                   'rating2', 'amount_issued', 'amount_return', 'friends', 'doc_date_i','client_date_i', 'ir']].values\n",
    "y_train = appl_short['target'].values"
   ]
  },
  {
   "cell_type": "code",
   "execution_count": 453,
   "metadata": {},
   "outputs": [],
   "source": [
    "X_train_part, X_valid, y_train_part, y_valid = \\\n",
    "    train_test_split(X_train, y_train, \n",
    "                     test_size=0.3, random_state=17)"
   ]
  },
  {
   "cell_type": "code",
   "execution_count": 483,
   "metadata": {},
   "outputs": [
    {
     "data": {
      "text/plain": [
       "<catboost.core.CatBoostClassifier at 0x18d9c2e8>"
      ]
     },
     "execution_count": 483,
     "metadata": {},
     "output_type": "execute_result"
    }
   ],
   "source": [
    "from catboost import CatBoostClassifier\n",
    "\n",
    "model = CatBoostClassifier(random_seed = 17, thread_count = 4, verbose = False)\n",
    "model.fit(X_train_part, y_train_part, cat_features = [0,1,2,3,4,5,6])"
   ]
  },
  {
   "cell_type": "code",
   "execution_count": 485,
   "metadata": {},
   "outputs": [
    {
     "data": {
      "text/plain": [
       "0.655044784958176"
      ]
     },
     "execution_count": 485,
     "metadata": {},
     "output_type": "execute_result"
    }
   ],
   "source": [
    "cb_train_pred = model.predict_proba(X_valid)[:, 1]\n",
    "roc_auc_score(y_valid, cb_train_pred)"
   ]
  },
  {
   "cell_type": "markdown",
   "metadata": {},
   "source": [
    "## 8. Cross-validation and adjustment of model hyperparameters"
   ]
  },
  {
   "cell_type": "code",
   "execution_count": 443,
   "metadata": {},
   "outputs": [],
   "source": [
    "X_train = appl_short[['location_country','location_city', 'verif_data', 'verif_doc', 'verif_appl',\n",
    "                       'verif_addres', 'credit_status', 'Term', 'rating', 'pti',\n",
    "                   'rating2', 'amount_issued', 'amount_return', 'friends', 'doc_date_i','client_date_i', 'ir']].values\n",
    "y_train = appl_short['target'].values"
   ]
  },
  {
   "cell_type": "markdown",
   "metadata": {},
   "source": [
    "We'll find the best values of max_depth and n_estimators, we'll assume parameter cv = 3"
   ]
  },
  {
   "cell_type": "code",
   "execution_count": 526,
   "metadata": {},
   "outputs": [
    {
     "name": "stdout",
     "output_type": "stream",
     "text": [
      "2 500 1 0.9236883942766295 0.6617675128841383\n",
      "2 500 2 0.8657703365465923 0.6279423392737669\n",
      "2 500 3 0.8184623408231562 0.6174081920903955\n",
      "2 1000 1 0.9288914583032231 0.6494241903671184\n",
      "2 1000 2 0.8671740233384069 0.6419317559759139\n",
      "2 1000 3 0.8308705289234648 0.6204978813559321\n",
      "2 1500 1 0.9319988437635497 0.6491696888719222\n",
      "2 1500 2 0.8711821410451547 0.6328690468949577\n",
      "2 1500 3 0.8290161820736813 0.628222104519774\n",
      "4 500 1 0.9799103916750975 0.6246739199592798\n",
      "4 500 2 0.9448503297818367 0.6424183443829452\n",
      "4 500 3 0.8973227867356252 0.623675847457627\n",
      "4 1000 1 0.9831623066917186 0.6183113825793727\n",
      "4 1000 2 0.952004058853374 0.6444255215619488\n",
      "4 1000 3 0.9069929158155504 0.6274276129943503\n",
      "4 1500 1 0.984029484029484 0.6353629827575237\n",
      "4 1500 2 0.9532048029764925 0.6286722218843136\n",
      "4 1500 3 0.9046822257957031 0.6264124293785311\n",
      "6 500 1 0.9963144963144963 0.6298275752370046\n",
      "6 500 2 0.9838998816167767 0.631470105224743\n",
      "6 500 3 0.9297231518101613 0.6307821327683616\n",
      "6 1000 1 0.9985547044370574 0.6270916841636445\n",
      "6 1000 2 0.9841197361745307 0.6445471686637066\n",
      "6 1000 3 0.9481941848841757 0.617231638418079\n",
      "6 1500 1 0.9980488509900275 0.6027867913723993\n",
      "6 1500 2 0.9874682902080163 0.6274557508667357\n",
      "6 1500 3 0.9518304431599229 0.640580861581921\n",
      "Wall time: 6min 48s\n"
     ]
    }
   ],
   "source": [
    "%%time\n",
    "res = []\n",
    "cv = 3\n",
    "\n",
    "step = int(X_train.shape[0]/(cv + 1))\n",
    "\n",
    "for max_depth in range(2,7,2):\n",
    "    for n_estimators in range(500, 2000, 500):            \n",
    "        for i in range(1,cv+1):\n",
    "            X_train_part = X_train[:step*i-1,:]\n",
    "            y_train_part = y_train[:step*i-1]\n",
    "            if i < cv:\n",
    "                X_valid = X_train[step*i:step*(i+1),:]\n",
    "                y_valid = y_train[step*i:step*(i+1)]\n",
    "            else:\n",
    "                X_valid = X_train[step*i:,:]\n",
    "                y_valid = y_train[step*i:]\n",
    "\n",
    "            model = CatBoostClassifier(random_seed = 17, thread_count = 4, verbose = False,\n",
    "                                       max_depth = max_depth, n_estimators = n_estimators)\n",
    "            model.fit(X_train_part, y_train_part, cat_features = [0,1,2,3,4,5,6])\n",
    "            \n",
    "            cb_train_pred = model.predict_proba(X_train_part)[:, 1]\n",
    "            train_res = roc_auc_score(y_train_part, cb_train_pred)\n",
    "            \n",
    "            cb_valid_pred = model.predict_proba(X_valid)[:, 1]\n",
    "            cv_res = roc_auc_score(y_valid, cb_valid_pred)\n",
    "            res.append([max_depth, n_estimators, i, train_res, cv_res])\n",
    "            print(max_depth, n_estimators, i, train_res, cv_res)\n"
   ]
  },
  {
   "cell_type": "code",
   "execution_count": 529,
   "metadata": {},
   "outputs": [
    {
     "data": {
      "text/html": [
       "<div>\n",
       "<style scoped>\n",
       "    .dataframe tbody tr th:only-of-type {\n",
       "        vertical-align: middle;\n",
       "    }\n",
       "\n",
       "    .dataframe tbody tr th {\n",
       "        vertical-align: top;\n",
       "    }\n",
       "\n",
       "    .dataframe thead th {\n",
       "        text-align: right;\n",
       "    }\n",
       "</style>\n",
       "<table border=\"1\" class=\"dataframe\">\n",
       "  <thead>\n",
       "    <tr style=\"text-align: right;\">\n",
       "      <th></th>\n",
       "      <th>max_depth</th>\n",
       "      <th>n_estimators</th>\n",
       "      <th>train_res</th>\n",
       "      <th>cv_res</th>\n",
       "    </tr>\n",
       "  </thead>\n",
       "  <tbody>\n",
       "    <tr>\n",
       "      <th>1</th>\n",
       "      <td>2</td>\n",
       "      <td>1000</td>\n",
       "      <td>0.875645</td>\n",
       "      <td>0.637285</td>\n",
       "    </tr>\n",
       "    <tr>\n",
       "      <th>2</th>\n",
       "      <td>2</td>\n",
       "      <td>1500</td>\n",
       "      <td>0.877399</td>\n",
       "      <td>0.636754</td>\n",
       "    </tr>\n",
       "    <tr>\n",
       "      <th>0</th>\n",
       "      <td>2</td>\n",
       "      <td>500</td>\n",
       "      <td>0.869307</td>\n",
       "      <td>0.635706</td>\n",
       "    </tr>\n",
       "    <tr>\n",
       "      <th>6</th>\n",
       "      <td>6</td>\n",
       "      <td>500</td>\n",
       "      <td>0.969979</td>\n",
       "      <td>0.630693</td>\n",
       "    </tr>\n",
       "    <tr>\n",
       "      <th>3</th>\n",
       "      <td>4</td>\n",
       "      <td>500</td>\n",
       "      <td>0.940695</td>\n",
       "      <td>0.630256</td>\n",
       "    </tr>\n",
       "    <tr>\n",
       "      <th>5</th>\n",
       "      <td>4</td>\n",
       "      <td>1500</td>\n",
       "      <td>0.947306</td>\n",
       "      <td>0.630149</td>\n",
       "    </tr>\n",
       "    <tr>\n",
       "      <th>4</th>\n",
       "      <td>4</td>\n",
       "      <td>1000</td>\n",
       "      <td>0.947386</td>\n",
       "      <td>0.630055</td>\n",
       "    </tr>\n",
       "    <tr>\n",
       "      <th>7</th>\n",
       "      <td>6</td>\n",
       "      <td>1000</td>\n",
       "      <td>0.976956</td>\n",
       "      <td>0.629623</td>\n",
       "    </tr>\n",
       "    <tr>\n",
       "      <th>8</th>\n",
       "      <td>6</td>\n",
       "      <td>1500</td>\n",
       "      <td>0.979116</td>\n",
       "      <td>0.623608</td>\n",
       "    </tr>\n",
       "  </tbody>\n",
       "</table>\n",
       "</div>"
      ],
      "text/plain": [
       "   max_depth  n_estimators  train_res    cv_res\n",
       "1          2          1000   0.875645  0.637285\n",
       "2          2          1500   0.877399  0.636754\n",
       "0          2           500   0.869307  0.635706\n",
       "6          6           500   0.969979  0.630693\n",
       "3          4           500   0.940695  0.630256\n",
       "5          4          1500   0.947306  0.630149\n",
       "4          4          1000   0.947386  0.630055\n",
       "7          6          1000   0.976956  0.629623\n",
       "8          6          1500   0.979116  0.623608"
      ]
     },
     "execution_count": 529,
     "metadata": {},
     "output_type": "execute_result"
    }
   ],
   "source": [
    "res = pd.DataFrame(data = res, columns = ['max_depth', 'n_estimators', 'cv_iter', 'train_res', 'cv_res'])\n",
    "res[['max_depth', 'n_estimators', 'train_res', 'cv_res']].groupby(['max_depth', 'n_estimators']).\\\n",
    "    mean().reset_index().sort_values(by = ['cv_res'], ascending = False)"
   ]
  },
  {
   "cell_type": "markdown",
   "metadata": {},
   "source": [
    "## 10. Plotting training and validation curves"
   ]
  },
  {
   "cell_type": "markdown",
   "metadata": {},
   "source": [
    "Max_depth:"
   ]
  },
  {
   "cell_type": "code",
   "execution_count": 522,
   "metadata": {},
   "outputs": [
    {
     "name": "stdout",
     "output_type": "stream",
     "text": [
      "Wall time: 2min 4s\n"
     ]
    },
    {
     "data": {
      "image/png": "[encoded data removed]",
      "text/plain": [
       "<Figure size 432x288 with 1 Axes>"
      ]
     },
     "metadata": {},
     "output_type": "display_data"
    }
   ],
   "source": [
    "%%time\n",
    "res = []\n",
    "cv = 3\n",
    "\n",
    "step = int(X_train.shape[0]/(cv + 1))\n",
    "\n",
    "n_estimators = 100\n",
    "\n",
    "for max_depth in range(2,11):\n",
    "    for i in range(1,cv+1):\n",
    "        X_train_part = X_train[:step*i-1,:]\n",
    "        y_train_part = y_train[:step*i-1]\n",
    "        if i < cv:\n",
    "            X_valid = X_train[step*i:step*(i+1),:]\n",
    "            y_valid = y_train[step*i:step*(i+1)]\n",
    "        else:\n",
    "            X_valid = X_train[step*i:,:]\n",
    "            y_valid = y_train[step*i:]\n",
    "\n",
    "        model = CatBoostClassifier(random_seed = 17, thread_count = 4, verbose = False,\n",
    "                                   max_depth = max_depth, n_estimators = n_estimators)\n",
    "        model.fit(X_train_part, y_train_part, cat_features = [0,1,2,3,4,5,6])\n",
    "\n",
    "        cb_train_pred = model.predict_proba(X_train_part)[:, 1]\n",
    "        train_res = roc_auc_score(y_train_part, cb_train_pred)\n",
    "\n",
    "        cb_valid_pred = model.predict_proba(X_valid)[:, 1]\n",
    "        cv_res = roc_auc_score(y_valid, cb_valid_pred)\n",
    "        res.append([max_depth, n_estimators, i, train_res, cv_res])\n",
    "\n",
    "df_res = pd.DataFrame(data = res, columns = ['max_depth', 'n_estimators', 'cv_iter', 'train_res', 'cv_res'])\n",
    "x = np.linspace(2,10,9)\n",
    "y1 = df_res[['max_depth', 'n_estimators', 'train_res']].groupby(['max_depth', 'n_estimators']).\\\n",
    "        mean()['train_res'].values\n",
    "y2 = df_res[['max_depth', 'n_estimators', 'cv_res']].groupby(['max_depth', 'n_estimators']).\\\n",
    "        mean().reset_index()['cv_res'].values\n",
    "plt.plot(x, y1, '-b', label = 'train')\n",
    "plt.plot(x, y2, '-r', label = 'valid')\n",
    "plt.legend(loc='upper left')"
   ]
  },
  {
   "cell_type": "markdown",
   "metadata": {},
   "source": [
    "n_estimators:"
   ]
  },
  {
   "cell_type": "code",
   "execution_count": 523,
   "metadata": {},
   "outputs": [
    {
     "name": "stdout",
     "output_type": "stream",
     "text": [
      "Wall time: 3min 54s\n"
     ]
    },
    {
     "data": {
      "image/png": "[encoded data removed]",
      "text/plain": [
       "<Figure size 432x288 with 1 Axes>"
      ]
     },
     "metadata": {},
     "output_type": "display_data"
    }
   ],
   "source": [
    "%%time\n",
    "res = []\n",
    "cv = 3\n",
    "\n",
    "step = int(X_train.shape[0]/(cv + 1))\n",
    "\n",
    "max_depth = 2\n",
    "\n",
    "for n_estimators in range(100,1500,100):\n",
    "    for i in range(1,cv+1):\n",
    "        X_train_part = X_train[:step*i-1,:]\n",
    "        y_train_part = y_train[:step*i-1]\n",
    "        if i < cv:\n",
    "            X_valid = X_train[step*i:step*(i+1),:]\n",
    "            y_valid = y_train[step*i:step*(i+1)]\n",
    "        else:\n",
    "            X_valid = X_train[step*i:,:]\n",
    "            y_valid = y_train[step*i:]\n",
    "\n",
    "        model = CatBoostClassifier(random_seed = 17, thread_count = 4, verbose = False,\n",
    "                                   max_depth = max_depth, n_estimators = n_estimators)\n",
    "        model.fit(X_train_part, y_train_part, cat_features = [0,1,2,3,4,5,6])\n",
    "\n",
    "        cb_train_pred = model.predict_proba(X_train_part)[:, 1]\n",
    "        train_res = roc_auc_score(y_train_part, cb_train_pred)\n",
    "\n",
    "        cb_valid_pred = model.predict_proba(X_valid)[:, 1]\n",
    "        cv_res = roc_auc_score(y_valid, cb_valid_pred)\n",
    "        res.append([max_depth, n_estimators, i, train_res, cv_res])\n",
    "        \n",
    "df_res = pd.DataFrame(data = res, columns = ['max_depth', 'n_estimators', 'cv_iter', 'train_res', 'cv_res'])\n",
    "x = np.linspace(100,1400,14)\n",
    "y1 = df_res[['max_depth', 'n_estimators', 'train_res']].groupby(['max_depth', 'n_estimators']).\\\n",
    "        mean()['train_res'].values\n",
    "y2 = df_res[['max_depth', 'n_estimators', 'cv_res']].groupby(['max_depth', 'n_estimators']).\\\n",
    "        mean().reset_index()['cv_res'].values\n",
    "plt.plot(x, y1, '-b', label = 'train')\n",
    "plt.plot(x, y2, '-r', label = 'valid')\n",
    "plt.legend(loc='upper left')"
   ]
  },
  {
   "cell_type": "markdown",
   "metadata": {},
   "source": [
    "## 11. Prediction for test or hold-out samples"
   ]
  },
  {
   "cell_type": "markdown",
   "metadata": {},
   "source": [
    "**Final model:**"
   ]
  },
  {
   "cell_type": "code",
   "execution_count": 600,
   "metadata": {},
   "outputs": [
    {
     "data": {
      "text/plain": [
       "0.6176993115700643"
      ]
     },
     "execution_count": 600,
     "metadata": {},
     "output_type": "execute_result"
    }
   ],
   "source": [
    "X_train = appl_short[['location_country','location_city', 'verif_data', 'verif_doc', 'verif_appl',\n",
    "                       'verif_addres', 'credit_status', 'Term', 'rating', 'pti',\n",
    "                   'rating2', 'amount_issued', 'amount_return', 'friends', 'doc_date_i','client_date_i', 'ir']].values\n",
    "y_train = appl_short['target'].values\n",
    "\n",
    "X_train_part, X_valid, y_train_part, y_valid = \\\n",
    "    train_test_split(X_train, y_train, \n",
    "                     test_size=0.3, random_state=17)\n",
    "model = CatBoostClassifier(random_seed = 17, thread_count = 4, verbose = False,\n",
    "                            max_depth = 2, n_estimators = 1000)\n",
    "model.fit(X_train_part, y_train_part, cat_features = [0,1,2,3,4,5,6])\n",
    "cb_train_pred = model.predict_proba(X_valid)[:, 1]\n",
    "roc_auc_score(y_valid, cb_train_pred)"
   ]
  },
  {
   "cell_type": "markdown",
   "metadata": {},
   "source": [
    "This result is less than we have at first iteration of model, but it seems to be more stable."
   ]
  },
  {
   "cell_type": "markdown",
   "metadata": {},
   "source": [
    "## 12. Conclusions"
   ]
  },
  {
   "cell_type": "markdown",
   "metadata": {},
   "source": [
    "First, we need to set up cut-off, since the main goal of this project is to estimate potential volume of loans. To set up cut-off, we need to choose value of score according of risk level. Acceptable risk level is 2% (calculated from margin)"
   ]
  },
  {
   "cell_type": "code",
   "execution_count": 603,
   "metadata": {},
   "outputs": [
    {
     "name": "stdout",
     "output_type": "stream",
     "text": [
      "               bad\n",
      "score_gr          \n",
      "bad       0.112205\n",
      "good      0.000000           bad\n",
      "score_gr     \n",
      "bad       508\n",
      "good       23\n"
     ]
    }
   ],
   "source": [
    "res = []\n",
    "res = np.concatenate((np.asarray([cb_train_pred]).T, np.asarray([y_valid]).T), axis = 1)\n",
    "df_res = pd.DataFrame(data = res, columns = ['score', 'bad'])\n",
    "df_res = df_res.sort_values(by = ['score'])\n",
    "df_res['score_gr'] = df_res['score'].apply(lambda x: 'good' if x <= 0.027 else 'bad')\n",
    "print(df_res[['score_gr', 'bad']].groupby('score_gr').mean(), df_res[['score_gr', 'bad']].groupby('score_gr').count())"
   ]
  },
  {
   "cell_type": "markdown",
   "metadata": {},
   "source": [
    "Share of good clients is too small"
   ]
  },
  {
   "cell_type": "markdown",
   "metadata": {},
   "source": [
    "**Conclusion:** \n",
    "\n",
    "1. To build model only on application data is not possible, additional data should be used\n",
    "2. To include in the model variable of credit history (now it's not available in credit process)"
   ]
  }
 ],
 "metadata": {
  "kernelspec": {
   "display_name": "Python 3",
   "language": "python",
   "name": "python3"
  },
  "language_info": {
   "codemirror_mode": {
    "name": "ipython",
    "version": 3
   },
   "file_extension": ".py",
   "mimetype": "text/x-python",
   "name": "python",
   "nbconvert_exporter": "python",
   "pygments_lexer": "ipython3",
   "version": "3.6.5"
  }
 },
 "nbformat": 4,
 "nbformat_minor": 2
}
