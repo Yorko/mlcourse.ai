{
 "cells": [
  {
   "cell_type": "markdown",
   "metadata": {},
   "source": [
    "<center>\n",
    "<img src=\"../../img/ods_stickers.jpg\" />\n",
    "    \n",
    "## [mlcourse.ai](mlcourse.ai) – Open Machine Learning Course \n",
    "### <center> Author: Andrei Rem, Andr Rem\n",
    "    \n",
    "## <center> Individual data analysis project\n",
    "### <center> Daily Happiness & Employee Turnover"
   ]
  },
  {
   "cell_type": "markdown",
   "metadata": {},
   "source": [
    "**Research plan**\n",
    "\n",
    "[Part 1. Dataset and task explanation](#part1)<br>\n",
    "\n",
    "[Part 2. Сomplete raw data analysis](#part2)<br>\n",
    "\n",
    "[Part 2.1. Churn](#part2.1)<br>\n",
    "[Part 2.1.1. Churn. Dataset and features description](#part2.1.1)<br>\n",
    "[Part 2.1.2. Churn. Exploratory data analysis, visual analysis of the features](#part2.1.2)<br>\n",
    "[Part 2.1.3. Churn. Patterns, insights, pecularities of data](#part2.1.3)<br>\n",
    "\n",
    "[Part 2.2. Votes](#part2.2)<br>\n",
    "[Part 2.2.1. Votes. Dataset and features description](#part2.2.1)<br>\n",
    "[Part 2.2.2. Votes. Exploratory data analysis, visual analysis of the features](#part2.2.2)<br>\n",
    "[Part 2.2.3. Votes. Patterns, insights, pecularities of data](#part2.2.3)<br>\n",
    "\n",
    "[Part 2.3. Anonimized clean comments](#part2.3)<br>\n",
    "[Part 2.3.1. Anonimized clean comments. Dataset and features description](#part2.3.1)<br>\n",
    "[Part 2.3.2. Anonimized clean comments. Exploratory data analysis, visual analysis of the features](#part2.3.2)<br>\n",
    "[Part 2.3.3. Anonimized clean comments. Patterns, insights, pecularities of data](#part2.3.3)<br>\n",
    "\n",
    "[Part 2.4. Interactions with comments](#part2.4)<br>\n",
    "[Part 2.4.1. Interactions with comments. Dataset and features description](#part2.4.1)<br>\n",
    "[Part 2.4.2. Interactions with comments. Exploratory data analysis, visual analysis of the features](#part2.4.2)<br>\n",
    "[Part 2.4.3. Interactions with comments. Patterns, insights, pecularities of data](#part2.4.3)<br>\n",
    "\n",
    "[Part 2.5. Employee. Collect all data in one dataset](#part2.5)<br>\n",
    "[Part 2.5.1. Employee. Dataset and features description](#part2.5.1)<br>\n",
    "[Part 2.5.2. Employee. Feature engineering and description](#part2.5.2)<br>\n",
    "[Part 2.5.3. Employee. Exploratory data analysis, visual analysis of the features](#part2.5.3)<br>\n",
    "[Part 2.5.4. Employee. Patterns, insights, pecularities of data](#part2.5.4)<br>\n",
    "\n",
    "[Part 3. Visual analysis of the features](#part3)<br>\n",
    "[Part 4. Patterns, insights, pecularities of data](#part4)<br>\n",
    "[Part 5. Data preprocessing](#part5)<br>\n",
    "[Part 6. Feature engineering and description](#part6)<br>\n",
    "\n",
    "[Part 7. Cross-validation, hyperparameter tuning](#part7)<br>\n",
    "[Part 8. Validation and learning curves](#part8)<br>\n",
    "[Part 9. Prediction for hold-out and test samples](#part9)<br>\n",
    "[Part 10. Model evaluation with metrics description](#part10)<br>\n",
    "[Part 11. Conclusions](#part11)<br>"
   ]
  },
  {
   "cell_type": "markdown",
   "metadata": {},
   "source": [
    "### Part 1. Dataset and task explanation<a id='part1'></a>"
   ]
  },
  {
   "cell_type": "markdown",
   "metadata": {},
   "source": [
    "<p>This project uses the dataset from site <a href=\"https://www.myhappyforce.com/en/\" target=__blank>Happyforce</a>. The data is publicly available through <a href=\"https://www.kaggle.com/harriken/employeeturnover#commentInteractions.csv\" target=__blank>Kaggle Datasets</a>.</p>\n",
    "\n",
    "<p>The Dataset description on Kaggle states:</p>\n",
    "<blockquote cite=\"https://www.kaggle.com/harriken/employeeturnover/home\">The data consists of four tables: votes, comments, interactions and churn. A vote was obtained when an employee opened the app and answered the question: How happy are you at work today? To vote the employee indicates their feeling by touching one of four icons that appeared on the screen. After the employee indicates their happiness level, a second screen appears where they can input a text explanation (usually a complaint, suggestion or comment), this is the comments table. Out of 4,356 employees, 2,638 employees commented at least once. Finally, in a third screen the employee can see their peers’ comments and like or dislike them, this data is stored in the interactions table. 3,516 employees liked or disliked at least one of their peers’ comments. The churn table contains when an employee churned (quit or was fired).</blockquote>\n",
    "\n",
    "In this individual project, I will develop a model for predicting employee dismissal. For this, I will use data on employee happiness in the company. <br>\n",
    "**My target variable is negative stillExists fields in churn.csv**.\n",
    "\n",
    "<p>The dataset consists of four files:</p>\n",
    "<ul>\n",
    "    <li>churn.csv</li>\n",
    "    <li>votes.csv</li>\n",
    "    <li>comments_clean_anonimized.csv</li>\n",
    "    <li>commentInteractions.csv</li>\n",
    "</ul>"
   ]
  },
  {
   "cell_type": "markdown",
   "metadata": {},
   "source": [
    "**I have 4 data files and for clarity I will conduct all stages of analysis on each file sequentially. Later, I will collect all the data in 1 file and will analyze it.**"
   ]
  },
  {
   "cell_type": "markdown",
   "metadata": {},
   "source": [
    "### Part 2. Сomplete raw data analysis<a id='part2'></a>"
   ]
  },
  {
   "cell_type": "markdown",
   "metadata": {},
   "source": [
    "#### Part 2.1. Churn<a id='part2.1'></a>"
   ]
  },
  {
   "cell_type": "markdown",
   "metadata": {},
   "source": [
    "##### Part 2.1.1. Churn. Dataset and features description<a id='part2.1.1'></a>"
   ]
  },
  {
   "cell_type": "markdown",
   "metadata": {},
   "source": [
    "The **churn.csv** file contains information about the date of the last interaction of an employee with the app.\n",
    "\n",
    "- **employee**: An integer id that identifies an employee inside a company.\n",
    "- **companyAlias**: A hash id for a given company.\n",
    "- **numVotes**: Total number of happyness votes emited by the user.\n",
    "- **lastParticipationDate**: Date of the last interaction of the user with the app.\n",
    "- **stillExists**: Boolean that is True if the user is still registered in the app."
   ]
  },
  {
   "cell_type": "code",
   "execution_count": 1,
   "metadata": {},
   "outputs": [],
   "source": [
    "import pandas as pd\n",
    "import numpy as np\n",
    "import seaborn as sns\n",
    "from matplotlib import pyplot as plt\n",
    "import warnings\n",
    "warnings.simplefilter('ignore')\n",
    "# from pylab import rcParams\n",
    "# rcParams['figure.figsize'] = 15, 10"
   ]
  },
  {
   "cell_type": "code",
   "execution_count": 2,
   "metadata": {},
   "outputs": [
    {
     "data": {
      "text/html": [
       "<div>\n",
       "<style scoped>\n",
       "    .dataframe tbody tr th:only-of-type {\n",
       "        vertical-align: middle;\n",
       "    }\n",
       "\n",
       "    .dataframe tbody tr th {\n",
       "        vertical-align: top;\n",
       "    }\n",
       "\n",
       "    .dataframe thead th {\n",
       "        text-align: right;\n",
       "    }\n",
       "</style>\n",
       "<table border=\"1\" class=\"dataframe\">\n",
       "  <thead>\n",
       "    <tr style=\"text-align: right;\">\n",
       "      <th></th>\n",
       "      <th>employee</th>\n",
       "      <th>companyAlias</th>\n",
       "      <th>numVotes</th>\n",
       "      <th>lastParticipationDate</th>\n",
       "      <th>stillExists</th>\n",
       "    </tr>\n",
       "  </thead>\n",
       "  <tbody>\n",
       "    <tr>\n",
       "      <th>0</th>\n",
       "      <td>512</td>\n",
       "      <td>56aec740f1ef260003e307d6</td>\n",
       "      <td>4</td>\n",
       "      <td>2017-02-23 11:48:04</td>\n",
       "      <td>True</td>\n",
       "    </tr>\n",
       "    <tr>\n",
       "      <th>1</th>\n",
       "      <td>-2</td>\n",
       "      <td>56aec740f1ef260003e307d6</td>\n",
       "      <td>0</td>\n",
       "      <td>2017-01-18 13:00:55</td>\n",
       "      <td>False</td>\n",
       "    </tr>\n",
       "    <tr>\n",
       "      <th>2</th>\n",
       "      <td>2</td>\n",
       "      <td>56aec740f1ef260003e307d6</td>\n",
       "      <td>72</td>\n",
       "      <td>2017-03-17 00:00:00</td>\n",
       "      <td>True</td>\n",
       "    </tr>\n",
       "    <tr>\n",
       "      <th>3</th>\n",
       "      <td>487</td>\n",
       "      <td>56aec740f1ef260003e307d6</td>\n",
       "      <td>14</td>\n",
       "      <td>2016-11-19 14:02:14</td>\n",
       "      <td>False</td>\n",
       "    </tr>\n",
       "    <tr>\n",
       "      <th>4</th>\n",
       "      <td>3</td>\n",
       "      <td>56aec740f1ef260003e307d6</td>\n",
       "      <td>22</td>\n",
       "      <td>2017-02-16 00:00:00</td>\n",
       "      <td>True</td>\n",
       "    </tr>\n",
       "  </tbody>\n",
       "</table>\n",
       "</div>"
      ],
      "text/plain": [
       "   employee              companyAlias  numVotes lastParticipationDate  \\\n",
       "0       512  56aec740f1ef260003e307d6         4   2017-02-23 11:48:04   \n",
       "1        -2  56aec740f1ef260003e307d6         0   2017-01-18 13:00:55   \n",
       "2         2  56aec740f1ef260003e307d6        72   2017-03-17 00:00:00   \n",
       "3       487  56aec740f1ef260003e307d6        14   2016-11-19 14:02:14   \n",
       "4         3  56aec740f1ef260003e307d6        22   2017-02-16 00:00:00   \n",
       "\n",
       "   stillExists  \n",
       "0         True  \n",
       "1        False  \n",
       "2         True  \n",
       "3        False  \n",
       "4         True  "
      ]
     },
     "execution_count": 2,
     "metadata": {},
     "output_type": "execute_result"
    }
   ],
   "source": [
    "churn = pd.read_csv('data/indiv/churn.csv', parse_dates=[3], \n",
    "                    dtype={\n",
    "                        'employee': np.int32, 'numVotes': np.int32, 'stillExists': np.bool\n",
    "                    }\n",
    "                   ).drop_duplicates()\n",
    "churn.head()"
   ]
  },
  {
   "cell_type": "code",
   "execution_count": 3,
   "metadata": {},
   "outputs": [
    {
     "data": {
      "text/html": [
       "<div>\n",
       "<style scoped>\n",
       "    .dataframe tbody tr th:only-of-type {\n",
       "        vertical-align: middle;\n",
       "    }\n",
       "\n",
       "    .dataframe tbody tr th {\n",
       "        vertical-align: top;\n",
       "    }\n",
       "\n",
       "    .dataframe thead th {\n",
       "        text-align: right;\n",
       "    }\n",
       "</style>\n",
       "<table border=\"1\" class=\"dataframe\">\n",
       "  <thead>\n",
       "    <tr style=\"text-align: right;\">\n",
       "      <th></th>\n",
       "      <th>count</th>\n",
       "      <th>mean</th>\n",
       "      <th>std</th>\n",
       "      <th>min</th>\n",
       "      <th>25%</th>\n",
       "      <th>50%</th>\n",
       "      <th>75%</th>\n",
       "      <th>max</th>\n",
       "    </tr>\n",
       "  </thead>\n",
       "  <tbody>\n",
       "    <tr>\n",
       "      <th>employee</th>\n",
       "      <td>4847.0</td>\n",
       "      <td>167.375490</td>\n",
       "      <td>208.271041</td>\n",
       "      <td>-218.0</td>\n",
       "      <td>33.0</td>\n",
       "      <td>113.0</td>\n",
       "      <td>231.0</td>\n",
       "      <td>999.0</td>\n",
       "    </tr>\n",
       "    <tr>\n",
       "      <th>numVotes</th>\n",
       "      <td>4847.0</td>\n",
       "      <td>45.896431</td>\n",
       "      <td>71.302128</td>\n",
       "      <td>0.0</td>\n",
       "      <td>3.0</td>\n",
       "      <td>16.0</td>\n",
       "      <td>59.0</td>\n",
       "      <td>740.0</td>\n",
       "    </tr>\n",
       "  </tbody>\n",
       "</table>\n",
       "</div>"
      ],
      "text/plain": [
       "           count        mean         std    min   25%    50%    75%    max\n",
       "employee  4847.0  167.375490  208.271041 -218.0  33.0  113.0  231.0  999.0\n",
       "numVotes  4847.0   45.896431   71.302128    0.0   3.0   16.0   59.0  740.0"
      ]
     },
     "execution_count": 3,
     "metadata": {},
     "output_type": "execute_result"
    }
   ],
   "source": [
    "churn.describe().T"
   ]
  },
  {
   "cell_type": "code",
   "execution_count": 4,
   "metadata": {},
   "outputs": [
    {
     "name": "stdout",
     "output_type": "stream",
     "text": [
      "<class 'pandas.core.frame.DataFrame'>\n",
      "Int64Index: 4847 entries, 0 to 4846\n",
      "Data columns (total 5 columns):\n",
      "employee                 4847 non-null int32\n",
      "companyAlias             4847 non-null object\n",
      "numVotes                 4847 non-null int32\n",
      "lastParticipationDate    4847 non-null datetime64[ns]\n",
      "stillExists              4847 non-null bool\n",
      "dtypes: bool(1), datetime64[ns](1), int32(2), object(1)\n",
      "memory usage: 156.2+ KB\n"
     ]
    }
   ],
   "source": [
    "churn.info()"
   ]
  },
  {
   "cell_type": "markdown",
   "metadata": {},
   "source": [
    "##### Part 2.1.2. Churn. Exploratory data analysis, visual analysis of the features<a id='part2.1.2'></a>"
   ]
  },
  {
   "cell_type": "code",
   "execution_count": 5,
   "metadata": {
    "scrolled": false
   },
   "outputs": [
    {
     "data": {
      "text/html": [
       "<div>\n",
       "<style scoped>\n",
       "    .dataframe tbody tr th:only-of-type {\n",
       "        vertical-align: middle;\n",
       "    }\n",
       "\n",
       "    .dataframe tbody tr th {\n",
       "        vertical-align: top;\n",
       "    }\n",
       "\n",
       "    .dataframe thead th {\n",
       "        text-align: right;\n",
       "    }\n",
       "</style>\n",
       "<table border=\"1\" class=\"dataframe\">\n",
       "  <thead>\n",
       "    <tr style=\"text-align: right;\">\n",
       "      <th></th>\n",
       "      <th>employee</th>\n",
       "      <th>companyAlias</th>\n",
       "      <th>numVotes</th>\n",
       "      <th>lastParticipationDate</th>\n",
       "      <th>stillExists</th>\n",
       "    </tr>\n",
       "  </thead>\n",
       "  <tbody>\n",
       "    <tr>\n",
       "      <th>0</th>\n",
       "      <td>512</td>\n",
       "      <td>56aec740f1ef260003e307d6</td>\n",
       "      <td>4</td>\n",
       "      <td>2017-02-23 11:48:04</td>\n",
       "      <td>True</td>\n",
       "    </tr>\n",
       "    <tr>\n",
       "      <th>1</th>\n",
       "      <td>-2</td>\n",
       "      <td>56aec740f1ef260003e307d6</td>\n",
       "      <td>0</td>\n",
       "      <td>2017-01-18 13:00:55</td>\n",
       "      <td>False</td>\n",
       "    </tr>\n",
       "    <tr>\n",
       "      <th>2</th>\n",
       "      <td>2</td>\n",
       "      <td>56aec740f1ef260003e307d6</td>\n",
       "      <td>72</td>\n",
       "      <td>2017-03-17 00:00:00</td>\n",
       "      <td>True</td>\n",
       "    </tr>\n",
       "    <tr>\n",
       "      <th>3</th>\n",
       "      <td>487</td>\n",
       "      <td>56aec740f1ef260003e307d6</td>\n",
       "      <td>14</td>\n",
       "      <td>2016-11-19 14:02:14</td>\n",
       "      <td>False</td>\n",
       "    </tr>\n",
       "    <tr>\n",
       "      <th>4</th>\n",
       "      <td>3</td>\n",
       "      <td>56aec740f1ef260003e307d6</td>\n",
       "      <td>22</td>\n",
       "      <td>2017-02-16 00:00:00</td>\n",
       "      <td>True</td>\n",
       "    </tr>\n",
       "  </tbody>\n",
       "</table>\n",
       "</div>"
      ],
      "text/plain": [
       "   employee              companyAlias  numVotes lastParticipationDate  \\\n",
       "0       512  56aec740f1ef260003e307d6         4   2017-02-23 11:48:04   \n",
       "1        -2  56aec740f1ef260003e307d6         0   2017-01-18 13:00:55   \n",
       "2         2  56aec740f1ef260003e307d6        72   2017-03-17 00:00:00   \n",
       "3       487  56aec740f1ef260003e307d6        14   2016-11-19 14:02:14   \n",
       "4         3  56aec740f1ef260003e307d6        22   2017-02-16 00:00:00   \n",
       "\n",
       "   stillExists  \n",
       "0         True  \n",
       "1        False  \n",
       "2         True  \n",
       "3        False  \n",
       "4         True  "
      ]
     },
     "execution_count": 5,
     "metadata": {},
     "output_type": "execute_result"
    }
   ],
   "source": [
    "churn.head()"
   ]
  },
  {
   "cell_type": "markdown",
   "metadata": {},
   "source": [
    "In the table above, we can see that there are employees with negative identifiers. Let's explore this question"
   ]
  },
  {
   "cell_type": "code",
   "execution_count": 6,
   "metadata": {},
   "outputs": [
    {
     "data": {
      "text/html": [
       "<div>\n",
       "<style scoped>\n",
       "    .dataframe tbody tr th:only-of-type {\n",
       "        vertical-align: middle;\n",
       "    }\n",
       "\n",
       "    .dataframe tbody tr th {\n",
       "        vertical-align: top;\n",
       "    }\n",
       "\n",
       "    .dataframe thead th {\n",
       "        text-align: right;\n",
       "    }\n",
       "</style>\n",
       "<table border=\"1\" class=\"dataframe\">\n",
       "  <thead>\n",
       "    <tr style=\"text-align: right;\">\n",
       "      <th></th>\n",
       "      <th>employee</th>\n",
       "      <th>companyAlias</th>\n",
       "      <th>numVotes</th>\n",
       "      <th>lastParticipationDate</th>\n",
       "      <th>stillExists</th>\n",
       "    </tr>\n",
       "  </thead>\n",
       "  <tbody>\n",
       "    <tr>\n",
       "      <th>1</th>\n",
       "      <td>-2</td>\n",
       "      <td>56aec740f1ef260003e307d6</td>\n",
       "      <td>0</td>\n",
       "      <td>2017-01-18 13:00:55</td>\n",
       "      <td>False</td>\n",
       "    </tr>\n",
       "    <tr>\n",
       "      <th>5</th>\n",
       "      <td>-4</td>\n",
       "      <td>56aec740f1ef260003e307d6</td>\n",
       "      <td>0</td>\n",
       "      <td>2016-11-07 16:41:56</td>\n",
       "      <td>False</td>\n",
       "    </tr>\n",
       "    <tr>\n",
       "      <th>11</th>\n",
       "      <td>-6</td>\n",
       "      <td>56aec740f1ef260003e307d6</td>\n",
       "      <td>0</td>\n",
       "      <td>2016-10-25 15:17:21</td>\n",
       "      <td>False</td>\n",
       "    </tr>\n",
       "    <tr>\n",
       "      <th>359</th>\n",
       "      <td>-3</td>\n",
       "      <td>54d43612e4b0f6a40755d93e</td>\n",
       "      <td>0</td>\n",
       "      <td>2016-05-26 07:57:28</td>\n",
       "      <td>False</td>\n",
       "    </tr>\n",
       "    <tr>\n",
       "      <th>379</th>\n",
       "      <td>-3</td>\n",
       "      <td>5370af43e4b0cff95558c12a</td>\n",
       "      <td>0</td>\n",
       "      <td>2017-01-23 17:11:02</td>\n",
       "      <td>False</td>\n",
       "    </tr>\n",
       "  </tbody>\n",
       "</table>\n",
       "</div>"
      ],
      "text/plain": [
       "     employee              companyAlias  numVotes lastParticipationDate  \\\n",
       "1          -2  56aec740f1ef260003e307d6         0   2017-01-18 13:00:55   \n",
       "5          -4  56aec740f1ef260003e307d6         0   2016-11-07 16:41:56   \n",
       "11         -6  56aec740f1ef260003e307d6         0   2016-10-25 15:17:21   \n",
       "359        -3  54d43612e4b0f6a40755d93e         0   2016-05-26 07:57:28   \n",
       "379        -3  5370af43e4b0cff95558c12a         0   2017-01-23 17:11:02   \n",
       "\n",
       "     stillExists  \n",
       "1          False  \n",
       "5          False  \n",
       "11         False  \n",
       "359        False  \n",
       "379        False  "
      ]
     },
     "execution_count": 6,
     "metadata": {},
     "output_type": "execute_result"
    }
   ],
   "source": [
    "churn[churn['employee'] < 0].head()"
   ]
  },
  {
   "cell_type": "markdown",
   "metadata": {},
   "source": [
    "You may notice that these employees have 0 votes, respectively, I cannot use them for my task. Also, these employees have a negative target variable."
   ]
  },
  {
   "cell_type": "code",
   "execution_count": 7,
   "metadata": {},
   "outputs": [
    {
     "data": {
      "text/plain": [
       "numVotes       1\n",
       "stillExists    1\n",
       "dtype: int64"
      ]
     },
     "execution_count": 7,
     "metadata": {},
     "output_type": "execute_result"
    }
   ],
   "source": [
    "churn[churn['employee'] < 0][['numVotes', 'stillExists']].nunique()"
   ]
  },
  {
   "cell_type": "markdown",
   "metadata": {},
   "source": [
    "Yes, indeed, these employees did not vote and they all do not work. In my opinion, this is an onomaly and I will delete all information about employees with a negative identifier."
   ]
  },
  {
   "cell_type": "code",
   "execution_count": 8,
   "metadata": {},
   "outputs": [],
   "source": [
    "churn = churn[churn['employee'] > 0]"
   ]
  },
  {
   "cell_type": "markdown",
   "metadata": {},
   "source": [
    "We do not need employees without votes, check whether there are such and remove, if there is."
   ]
  },
  {
   "cell_type": "code",
   "execution_count": 9,
   "metadata": {},
   "outputs": [
    {
     "data": {
      "text/html": [
       "<div>\n",
       "<style scoped>\n",
       "    .dataframe tbody tr th:only-of-type {\n",
       "        vertical-align: middle;\n",
       "    }\n",
       "\n",
       "    .dataframe tbody tr th {\n",
       "        vertical-align: top;\n",
       "    }\n",
       "\n",
       "    .dataframe thead th {\n",
       "        text-align: right;\n",
       "    }\n",
       "</style>\n",
       "<table border=\"1\" class=\"dataframe\">\n",
       "  <thead>\n",
       "    <tr style=\"text-align: right;\">\n",
       "      <th></th>\n",
       "      <th>employee</th>\n",
       "      <th>companyAlias</th>\n",
       "      <th>numVotes</th>\n",
       "      <th>lastParticipationDate</th>\n",
       "      <th>stillExists</th>\n",
       "    </tr>\n",
       "  </thead>\n",
       "  <tbody>\n",
       "    <tr>\n",
       "      <th>361</th>\n",
       "      <td>9</td>\n",
       "      <td>54d43612e4b0f6a40755d93e</td>\n",
       "      <td>0</td>\n",
       "      <td>2015-03-18 19:23:42</td>\n",
       "      <td>False</td>\n",
       "    </tr>\n",
       "    <tr>\n",
       "      <th>378</th>\n",
       "      <td>266</td>\n",
       "      <td>5370af43e4b0cff95558c12a</td>\n",
       "      <td>0</td>\n",
       "      <td>2017-03-03 15:59:25</td>\n",
       "      <td>False</td>\n",
       "    </tr>\n",
       "    <tr>\n",
       "      <th>591</th>\n",
       "      <td>35</td>\n",
       "      <td>5370af43e4b0cff95558c12a</td>\n",
       "      <td>0</td>\n",
       "      <td>2016-03-04 09:55:34</td>\n",
       "      <td>False</td>\n",
       "    </tr>\n",
       "    <tr>\n",
       "      <th>855</th>\n",
       "      <td>157</td>\n",
       "      <td>567011c035dce00003a07fa4</td>\n",
       "      <td>0</td>\n",
       "      <td>2016-04-15 10:27:58</td>\n",
       "      <td>False</td>\n",
       "    </tr>\n",
       "    <tr>\n",
       "      <th>857</th>\n",
       "      <td>135</td>\n",
       "      <td>567011c035dce00003a07fa4</td>\n",
       "      <td>0</td>\n",
       "      <td>2016-04-05 07:15:05</td>\n",
       "      <td>False</td>\n",
       "    </tr>\n",
       "    <tr>\n",
       "      <th>1097</th>\n",
       "      <td>10</td>\n",
       "      <td>552e2d00e4b066b42fd122ed</td>\n",
       "      <td>0</td>\n",
       "      <td>2015-12-02 08:22:29</td>\n",
       "      <td>False</td>\n",
       "    </tr>\n",
       "    <tr>\n",
       "      <th>1099</th>\n",
       "      <td>2</td>\n",
       "      <td>552e2d00e4b066b42fd122ed</td>\n",
       "      <td>0</td>\n",
       "      <td>2015-09-17 15:43:48</td>\n",
       "      <td>False</td>\n",
       "    </tr>\n",
       "    <tr>\n",
       "      <th>1422</th>\n",
       "      <td>59</td>\n",
       "      <td>57908a2622881200033b34d7</td>\n",
       "      <td>0</td>\n",
       "      <td>2017-03-07 20:30:21</td>\n",
       "      <td>False</td>\n",
       "    </tr>\n",
       "    <tr>\n",
       "      <th>1424</th>\n",
       "      <td>35</td>\n",
       "      <td>57908a2622881200033b34d7</td>\n",
       "      <td>0</td>\n",
       "      <td>2016-12-16 11:50:16</td>\n",
       "      <td>False</td>\n",
       "    </tr>\n",
       "    <tr>\n",
       "      <th>1427</th>\n",
       "      <td>27</td>\n",
       "      <td>57908a2622881200033b34d7</td>\n",
       "      <td>0</td>\n",
       "      <td>2016-10-26 16:23:32</td>\n",
       "      <td>False</td>\n",
       "    </tr>\n",
       "    <tr>\n",
       "      <th>1498</th>\n",
       "      <td>66</td>\n",
       "      <td>54e52607e4b01191dc064966</td>\n",
       "      <td>0</td>\n",
       "      <td>2017-03-17 14:11:50</td>\n",
       "      <td>False</td>\n",
       "    </tr>\n",
       "    <tr>\n",
       "      <th>2518</th>\n",
       "      <td>425</td>\n",
       "      <td>5641f96713664c000332c8cd</td>\n",
       "      <td>0</td>\n",
       "      <td>2017-03-19 22:18:54</td>\n",
       "      <td>False</td>\n",
       "    </tr>\n",
       "    <tr>\n",
       "      <th>2520</th>\n",
       "      <td>421</td>\n",
       "      <td>5641f96713664c000332c8cd</td>\n",
       "      <td>0</td>\n",
       "      <td>2016-10-26 17:37:34</td>\n",
       "      <td>False</td>\n",
       "    </tr>\n",
       "    <tr>\n",
       "      <th>2755</th>\n",
       "      <td>3</td>\n",
       "      <td>56fd2b64f41c670003f643c8</td>\n",
       "      <td>0</td>\n",
       "      <td>2016-04-18 07:37:25</td>\n",
       "      <td>False</td>\n",
       "    </tr>\n",
       "    <tr>\n",
       "      <th>3026</th>\n",
       "      <td>2</td>\n",
       "      <td>57d1eb86a22c9d0003dd1f05</td>\n",
       "      <td>0</td>\n",
       "      <td>2017-03-10 10:25:59</td>\n",
       "      <td>False</td>\n",
       "    </tr>\n",
       "    <tr>\n",
       "      <th>3992</th>\n",
       "      <td>161</td>\n",
       "      <td>5742d699f839a10003a407d2</td>\n",
       "      <td>0</td>\n",
       "      <td>2016-08-31 18:24:01</td>\n",
       "      <td>False</td>\n",
       "    </tr>\n",
       "  </tbody>\n",
       "</table>\n",
       "</div>"
      ],
      "text/plain": [
       "      employee              companyAlias  numVotes lastParticipationDate  \\\n",
       "361          9  54d43612e4b0f6a40755d93e         0   2015-03-18 19:23:42   \n",
       "378        266  5370af43e4b0cff95558c12a         0   2017-03-03 15:59:25   \n",
       "591         35  5370af43e4b0cff95558c12a         0   2016-03-04 09:55:34   \n",
       "855        157  567011c035dce00003a07fa4         0   2016-04-15 10:27:58   \n",
       "857        135  567011c035dce00003a07fa4         0   2016-04-05 07:15:05   \n",
       "1097        10  552e2d00e4b066b42fd122ed         0   2015-12-02 08:22:29   \n",
       "1099         2  552e2d00e4b066b42fd122ed         0   2015-09-17 15:43:48   \n",
       "1422        59  57908a2622881200033b34d7         0   2017-03-07 20:30:21   \n",
       "1424        35  57908a2622881200033b34d7         0   2016-12-16 11:50:16   \n",
       "1427        27  57908a2622881200033b34d7         0   2016-10-26 16:23:32   \n",
       "1498        66  54e52607e4b01191dc064966         0   2017-03-17 14:11:50   \n",
       "2518       425  5641f96713664c000332c8cd         0   2017-03-19 22:18:54   \n",
       "2520       421  5641f96713664c000332c8cd         0   2016-10-26 17:37:34   \n",
       "2755         3  56fd2b64f41c670003f643c8         0   2016-04-18 07:37:25   \n",
       "3026         2  57d1eb86a22c9d0003dd1f05         0   2017-03-10 10:25:59   \n",
       "3992       161  5742d699f839a10003a407d2         0   2016-08-31 18:24:01   \n",
       "\n",
       "      stillExists  \n",
       "361         False  \n",
       "378         False  \n",
       "591         False  \n",
       "855         False  \n",
       "857         False  \n",
       "1097        False  \n",
       "1099        False  \n",
       "1422        False  \n",
       "1424        False  \n",
       "1427        False  \n",
       "1498        False  \n",
       "2518        False  \n",
       "2520        False  \n",
       "2755        False  \n",
       "3026        False  \n",
       "3992        False  "
      ]
     },
     "execution_count": 9,
     "metadata": {},
     "output_type": "execute_result"
    }
   ],
   "source": [
    "churn[churn['numVotes'] == 0]"
   ]
  },
  {
   "cell_type": "code",
   "execution_count": 10,
   "metadata": {},
   "outputs": [],
   "source": [
    "churn = churn[churn['numVotes'] > 0]"
   ]
  },
  {
   "cell_type": "markdown",
   "metadata": {},
   "source": [
    "We also know from the dataset description that employee identifiers are unique only within the company. We will now analyze the companies and, for short, change the hash to numbers."
   ]
  },
  {
   "cell_type": "code",
   "execution_count": 11,
   "metadata": {},
   "outputs": [
    {
     "name": "stdout",
     "output_type": "stream",
     "text": [
      "We have a 37 companies\n"
     ]
    }
   ],
   "source": [
    "companies = churn['companyAlias'].unique()\n",
    "print('We have a %s companies' % len(companies))"
   ]
  },
  {
   "cell_type": "code",
   "execution_count": 12,
   "metadata": {},
   "outputs": [],
   "source": [
    "companies_map = {company: i for i, company in enumerate(companies)}\n",
    "churn['companyAlias'] = churn['companyAlias'].map(companies_map).astype('int')"
   ]
  },
  {
   "cell_type": "markdown",
   "metadata": {},
   "source": [
    "So, we recoded companies. Now we can make unique identifiers for employees. Let's do that."
   ]
  },
  {
   "cell_type": "code",
   "execution_count": 13,
   "metadata": {},
   "outputs": [],
   "source": [
    "churn['employee'] = churn['companyAlias'].astype(str)+\"_\"+churn['employee'].astype(str)"
   ]
  },
  {
   "cell_type": "markdown",
   "metadata": {},
   "source": [
    "Now we can see how many unique employees are left in our data set."
   ]
  },
  {
   "cell_type": "code",
   "execution_count": 14,
   "metadata": {},
   "outputs": [
    {
     "name": "stdout",
     "output_type": "stream",
     "text": [
      "We have 4377 unique employees\n"
     ]
    }
   ],
   "source": [
    "print('We have %s unique employees' % churn['employee'].nunique())"
   ]
  },
  {
   "cell_type": "markdown",
   "metadata": {},
   "source": [
    "Let's check whether all of our employees are truly unique."
   ]
  },
  {
   "cell_type": "code",
   "execution_count": 15,
   "metadata": {
    "scrolled": true
   },
   "outputs": [
    {
     "data": {
      "text/plain": [
       "10_118    6\n",
       "10_160    2\n",
       "10_897    2\n",
       "10_438    2\n",
       "10_955    2\n",
       "10_493    2\n",
       "10_553    2\n",
       "10_481    2\n",
       "10_129    1\n",
       "10_269    1\n",
       "Name: employee, dtype: int64"
      ]
     },
     "execution_count": 15,
     "metadata": {},
     "output_type": "execute_result"
    }
   ],
   "source": [
    "churn[churn['companyAlias'] == 10]['employee'].value_counts().head(10)"
   ]
  },
  {
   "cell_type": "markdown",
   "metadata": {},
   "source": [
    "Here we see, that employees in churn table can be repeated"
   ]
  },
  {
   "cell_type": "code",
   "execution_count": 16,
   "metadata": {
    "scrolled": true
   },
   "outputs": [
    {
     "data": {
      "text/html": [
       "<div>\n",
       "<style scoped>\n",
       "    .dataframe tbody tr th:only-of-type {\n",
       "        vertical-align: middle;\n",
       "    }\n",
       "\n",
       "    .dataframe tbody tr th {\n",
       "        vertical-align: top;\n",
       "    }\n",
       "\n",
       "    .dataframe thead th {\n",
       "        text-align: right;\n",
       "    }\n",
       "</style>\n",
       "<table border=\"1\" class=\"dataframe\">\n",
       "  <thead>\n",
       "    <tr style=\"text-align: right;\">\n",
       "      <th></th>\n",
       "      <th>employee</th>\n",
       "      <th>companyAlias</th>\n",
       "      <th>numVotes</th>\n",
       "      <th>lastParticipationDate</th>\n",
       "      <th>stillExists</th>\n",
       "    </tr>\n",
       "  </thead>\n",
       "  <tbody>\n",
       "    <tr>\n",
       "      <th>1626</th>\n",
       "      <td>10_118</td>\n",
       "      <td>10</td>\n",
       "      <td>3</td>\n",
       "      <td>2016-11-25 08:38:21</td>\n",
       "      <td>False</td>\n",
       "    </tr>\n",
       "    <tr>\n",
       "      <th>1699</th>\n",
       "      <td>10_118</td>\n",
       "      <td>10</td>\n",
       "      <td>3</td>\n",
       "      <td>2016-12-16 00:00:00</td>\n",
       "      <td>True</td>\n",
       "    </tr>\n",
       "    <tr>\n",
       "      <th>1614</th>\n",
       "      <td>10_118</td>\n",
       "      <td>10</td>\n",
       "      <td>3</td>\n",
       "      <td>2017-01-02 07:58:42</td>\n",
       "      <td>False</td>\n",
       "    </tr>\n",
       "    <tr>\n",
       "      <th>1534</th>\n",
       "      <td>10_118</td>\n",
       "      <td>10</td>\n",
       "      <td>3</td>\n",
       "      <td>2017-03-15 06:58:00</td>\n",
       "      <td>False</td>\n",
       "    </tr>\n",
       "    <tr>\n",
       "      <th>1528</th>\n",
       "      <td>10_118</td>\n",
       "      <td>10</td>\n",
       "      <td>3</td>\n",
       "      <td>2017-03-15 09:29:01</td>\n",
       "      <td>False</td>\n",
       "    </tr>\n",
       "    <tr>\n",
       "      <th>1502</th>\n",
       "      <td>10_118</td>\n",
       "      <td>10</td>\n",
       "      <td>3</td>\n",
       "      <td>2017-03-17 11:48:12</td>\n",
       "      <td>False</td>\n",
       "    </tr>\n",
       "  </tbody>\n",
       "</table>\n",
       "</div>"
      ],
      "text/plain": [
       "     employee  companyAlias  numVotes lastParticipationDate  stillExists\n",
       "1626   10_118            10         3   2016-11-25 08:38:21        False\n",
       "1699   10_118            10         3   2016-12-16 00:00:00         True\n",
       "1614   10_118            10         3   2017-01-02 07:58:42        False\n",
       "1534   10_118            10         3   2017-03-15 06:58:00        False\n",
       "1528   10_118            10         3   2017-03-15 09:29:01        False\n",
       "1502   10_118            10         3   2017-03-17 11:48:12        False"
      ]
     },
     "execution_count": 16,
     "metadata": {},
     "output_type": "execute_result"
    }
   ],
   "source": [
    "churn[(churn['employee'] == '10_118')].sort_values('lastParticipationDate')"
   ]
  },
  {
   "cell_type": "markdown",
   "metadata": {},
   "source": [
    "I think, than is somethink wrong, let's stay only latest"
   ]
  },
  {
   "cell_type": "code",
   "execution_count": 17,
   "metadata": {},
   "outputs": [],
   "source": [
    "emp_ids = churn['employee'].value_counts().index\n",
    "emp_count = churn['employee'].value_counts()\n",
    "removing_emps_ids = []\n",
    "for emp_id, count in zip(emp_ids, emp_count):\n",
    "    if count > 1:\n",
    "        removing_emps_ids.append(emp_id)\n",
    "\n",
    "for emp_id in removing_emps_ids:\n",
    "    churn.drop(\n",
    "        index=churn[churn['employee'] == emp_id].sort_values('lastParticipationDate').index[:-1], \n",
    "        inplace=True\n",
    "    )        "
   ]
  },
  {
   "cell_type": "code",
   "execution_count": 18,
   "metadata": {},
   "outputs": [
    {
     "data": {
      "text/html": [
       "<div>\n",
       "<style scoped>\n",
       "    .dataframe tbody tr th:only-of-type {\n",
       "        vertical-align: middle;\n",
       "    }\n",
       "\n",
       "    .dataframe tbody tr th {\n",
       "        vertical-align: top;\n",
       "    }\n",
       "\n",
       "    .dataframe thead th {\n",
       "        text-align: right;\n",
       "    }\n",
       "</style>\n",
       "<table border=\"1\" class=\"dataframe\">\n",
       "  <thead>\n",
       "    <tr style=\"text-align: right;\">\n",
       "      <th></th>\n",
       "      <th>employee</th>\n",
       "      <th>companyAlias</th>\n",
       "      <th>numVotes</th>\n",
       "      <th>lastParticipationDate</th>\n",
       "      <th>stillExists</th>\n",
       "    </tr>\n",
       "  </thead>\n",
       "  <tbody>\n",
       "    <tr>\n",
       "      <th>1502</th>\n",
       "      <td>10_118</td>\n",
       "      <td>10</td>\n",
       "      <td>3</td>\n",
       "      <td>2017-03-17 11:48:12</td>\n",
       "      <td>False</td>\n",
       "    </tr>\n",
       "  </tbody>\n",
       "</table>\n",
       "</div>"
      ],
      "text/plain": [
       "     employee  companyAlias  numVotes lastParticipationDate  stillExists\n",
       "1502   10_118            10         3   2017-03-17 11:48:12        False"
      ]
     },
     "execution_count": 18,
     "metadata": {},
     "output_type": "execute_result"
    }
   ],
   "source": [
    "churn[(churn['employee'] == '10_118')].sort_values('lastParticipationDate')"
   ]
  },
  {
   "cell_type": "markdown",
   "metadata": {},
   "source": [
    "Now all is well"
   ]
  },
  {
   "cell_type": "code",
   "execution_count": 19,
   "metadata": {},
   "outputs": [
    {
     "data": {
      "text/html": [
       "<div>\n",
       "<style scoped>\n",
       "    .dataframe tbody tr th:only-of-type {\n",
       "        vertical-align: middle;\n",
       "    }\n",
       "\n",
       "    .dataframe tbody tr th {\n",
       "        vertical-align: top;\n",
       "    }\n",
       "\n",
       "    .dataframe thead th {\n",
       "        text-align: right;\n",
       "    }\n",
       "</style>\n",
       "<table border=\"1\" class=\"dataframe\">\n",
       "  <thead>\n",
       "    <tr style=\"text-align: right;\">\n",
       "      <th></th>\n",
       "      <th>employee</th>\n",
       "      <th>companyAlias</th>\n",
       "      <th>numVotes</th>\n",
       "      <th>lastParticipationDate</th>\n",
       "      <th>stillExists</th>\n",
       "    </tr>\n",
       "  </thead>\n",
       "  <tbody>\n",
       "    <tr>\n",
       "      <th>0</th>\n",
       "      <td>0_512</td>\n",
       "      <td>0</td>\n",
       "      <td>4</td>\n",
       "      <td>2017-02-23 11:48:04</td>\n",
       "      <td>True</td>\n",
       "    </tr>\n",
       "    <tr>\n",
       "      <th>2</th>\n",
       "      <td>0_2</td>\n",
       "      <td>0</td>\n",
       "      <td>72</td>\n",
       "      <td>2017-03-17 00:00:00</td>\n",
       "      <td>True</td>\n",
       "    </tr>\n",
       "    <tr>\n",
       "      <th>4</th>\n",
       "      <td>0_3</td>\n",
       "      <td>0</td>\n",
       "      <td>22</td>\n",
       "      <td>2017-02-16 00:00:00</td>\n",
       "      <td>True</td>\n",
       "    </tr>\n",
       "    <tr>\n",
       "      <th>6</th>\n",
       "      <td>0_4</td>\n",
       "      <td>0</td>\n",
       "      <td>195</td>\n",
       "      <td>2017-03-20 00:00:00</td>\n",
       "      <td>True</td>\n",
       "    </tr>\n",
       "    <tr>\n",
       "      <th>7</th>\n",
       "      <td>0_516</td>\n",
       "      <td>0</td>\n",
       "      <td>29</td>\n",
       "      <td>2017-03-20 11:28:45</td>\n",
       "      <td>True</td>\n",
       "    </tr>\n",
       "  </tbody>\n",
       "</table>\n",
       "</div>"
      ],
      "text/plain": [
       "  employee  companyAlias  numVotes lastParticipationDate  stillExists\n",
       "0    0_512             0         4   2017-02-23 11:48:04         True\n",
       "2      0_2             0        72   2017-03-17 00:00:00         True\n",
       "4      0_3             0        22   2017-02-16 00:00:00         True\n",
       "6      0_4             0       195   2017-03-20 00:00:00         True\n",
       "7    0_516             0        29   2017-03-20 11:28:45         True"
      ]
     },
     "execution_count": 19,
     "metadata": {},
     "output_type": "execute_result"
    }
   ],
   "source": [
    "churn.head()"
   ]
  },
  {
   "cell_type": "markdown",
   "metadata": {},
   "source": [
    "Let's explore how many employees in companies"
   ]
  },
  {
   "cell_type": "code",
   "execution_count": 20,
   "metadata": {
    "scrolled": true
   },
   "outputs": [
    {
     "data": {
      "text/plain": [
       "(companyAlias\n",
       " 10    572\n",
       " 35    379\n",
       " 0     350\n",
       " 22    293\n",
       " 29    259\n",
       " dtype: int64, companyAlias\n",
       " 36     2\n",
       " 34     9\n",
       " 32     9\n",
       " 16    10\n",
       " 17    12\n",
       " dtype: int64)"
      ]
     },
     "execution_count": 20,
     "metadata": {},
     "output_type": "execute_result"
    }
   ],
   "source": [
    "churn.groupby('companyAlias').size().sort_values(ascending=False).head(),\\\n",
    "churn.groupby('companyAlias').size().sort_values(ascending=True).head()"
   ]
  },
  {
   "cell_type": "code",
   "execution_count": 21,
   "metadata": {
    "scrolled": true
   },
   "outputs": [
    {
     "data": {
      "image/png": "[encoded data removed]",
      "text/plain": [
       "<Figure size 432x288 with 1 Axes>"
      ]
     },
     "metadata": {},
     "output_type": "display_data"
    }
   ],
   "source": [
    "churn.groupby('companyAlias').size().sort_values(ascending=False).plot(kind='bar');"
   ]
  },
  {
   "cell_type": "markdown",
   "metadata": {},
   "source": [
    "It can be seen that the number of employees is distributed exponentially from 585 to 2. Let's find out how many mean employees are in companies."
   ]
  },
  {
   "cell_type": "code",
   "execution_count": 22,
   "metadata": {},
   "outputs": [
    {
     "name": "stdout",
     "output_type": "stream",
     "text": [
      "Mean count of employees 118.30\n"
     ]
    }
   ],
   "source": [
    "print('Mean count of employees %.2f' % churn.groupby('companyAlias').size().mean())"
   ]
  },
  {
   "cell_type": "markdown",
   "metadata": {},
   "source": [
    "Let's look at the distribution of number votes among employees."
   ]
  },
  {
   "cell_type": "code",
   "execution_count": 23,
   "metadata": {},
   "outputs": [
    {
     "data": {
      "text/plain": [
       "count    4377.000000\n",
       "mean       50.544208\n",
       "std        73.246803\n",
       "min         1.000000\n",
       "25%         5.000000\n",
       "50%        19.000000\n",
       "75%        66.000000\n",
       "max       740.000000\n",
       "Name: numVotes, dtype: float64"
      ]
     },
     "execution_count": 23,
     "metadata": {},
     "output_type": "execute_result"
    }
   ],
   "source": [
    "churn['numVotes'].describe()"
   ]
  },
  {
   "cell_type": "code",
   "execution_count": 24,
   "metadata": {},
   "outputs": [
    {
     "data": {
      "image/png": "[encoded data removed]",
      "text/plain": [
       "<Figure size 432x288 with 1 Axes>"
      ]
     },
     "metadata": {},
     "output_type": "display_data"
    }
   ],
   "source": [
    "churn['numVotes'].hist(bins=20);"
   ]
  },
  {
   "cell_type": "markdown",
   "metadata": {},
   "source": [
    "Note that 75 percent of employees passed less than 66 votes. Number of votes is distributed exponentially.\n",
    "Let's explore the people with the most votes."
   ]
  },
  {
   "cell_type": "code",
   "execution_count": 25,
   "metadata": {},
   "outputs": [
    {
     "data": {
      "text/html": [
       "<div>\n",
       "<style scoped>\n",
       "    .dataframe tbody tr th:only-of-type {\n",
       "        vertical-align: middle;\n",
       "    }\n",
       "\n",
       "    .dataframe tbody tr th {\n",
       "        vertical-align: top;\n",
       "    }\n",
       "\n",
       "    .dataframe thead th {\n",
       "        text-align: right;\n",
       "    }\n",
       "</style>\n",
       "<table border=\"1\" class=\"dataframe\">\n",
       "  <thead>\n",
       "    <tr style=\"text-align: right;\">\n",
       "      <th></th>\n",
       "      <th>employee</th>\n",
       "      <th>companyAlias</th>\n",
       "      <th>numVotes</th>\n",
       "      <th>lastParticipationDate</th>\n",
       "      <th>stillExists</th>\n",
       "    </tr>\n",
       "  </thead>\n",
       "  <tbody>\n",
       "    <tr>\n",
       "      <th>1887</th>\n",
       "      <td>10_219</td>\n",
       "      <td>10</td>\n",
       "      <td>740</td>\n",
       "      <td>2017-03-20 05:45:53</td>\n",
       "      <td>True</td>\n",
       "    </tr>\n",
       "    <tr>\n",
       "      <th>1665</th>\n",
       "      <td>10_101</td>\n",
       "      <td>10</td>\n",
       "      <td>688</td>\n",
       "      <td>2017-03-20 11:53:20</td>\n",
       "      <td>True</td>\n",
       "    </tr>\n",
       "    <tr>\n",
       "      <th>1543</th>\n",
       "      <td>10_38</td>\n",
       "      <td>10</td>\n",
       "      <td>687</td>\n",
       "      <td>2017-02-01 00:00:00</td>\n",
       "      <td>False</td>\n",
       "    </tr>\n",
       "    <tr>\n",
       "      <th>1687</th>\n",
       "      <td>10_112</td>\n",
       "      <td>10</td>\n",
       "      <td>558</td>\n",
       "      <td>2017-03-20 00:00:00</td>\n",
       "      <td>True</td>\n",
       "    </tr>\n",
       "    <tr>\n",
       "      <th>1697</th>\n",
       "      <td>10_117</td>\n",
       "      <td>10</td>\n",
       "      <td>526</td>\n",
       "      <td>2017-03-20 00:00:00</td>\n",
       "      <td>True</td>\n",
       "    </tr>\n",
       "    <tr>\n",
       "      <th>1683</th>\n",
       "      <td>10_110</td>\n",
       "      <td>10</td>\n",
       "      <td>500</td>\n",
       "      <td>2017-03-20 17:02:49</td>\n",
       "      <td>True</td>\n",
       "    </tr>\n",
       "    <tr>\n",
       "      <th>1720</th>\n",
       "      <td>10_129</td>\n",
       "      <td>10</td>\n",
       "      <td>493</td>\n",
       "      <td>2017-03-20 00:00:00</td>\n",
       "      <td>True</td>\n",
       "    </tr>\n",
       "    <tr>\n",
       "      <th>2034</th>\n",
       "      <td>10_475</td>\n",
       "      <td>10</td>\n",
       "      <td>492</td>\n",
       "      <td>2017-03-20 11:53:20</td>\n",
       "      <td>True</td>\n",
       "    </tr>\n",
       "    <tr>\n",
       "      <th>1753</th>\n",
       "      <td>10_146</td>\n",
       "      <td>10</td>\n",
       "      <td>488</td>\n",
       "      <td>2017-01-31 12:56:38</td>\n",
       "      <td>False</td>\n",
       "    </tr>\n",
       "    <tr>\n",
       "      <th>1958</th>\n",
       "      <td>10_319</td>\n",
       "      <td>10</td>\n",
       "      <td>480</td>\n",
       "      <td>2016-07-19 15:29:20</td>\n",
       "      <td>False</td>\n",
       "    </tr>\n",
       "  </tbody>\n",
       "</table>\n",
       "</div>"
      ],
      "text/plain": [
       "     employee  companyAlias  numVotes lastParticipationDate  stillExists\n",
       "1887   10_219            10       740   2017-03-20 05:45:53         True\n",
       "1665   10_101            10       688   2017-03-20 11:53:20         True\n",
       "1543    10_38            10       687   2017-02-01 00:00:00        False\n",
       "1687   10_112            10       558   2017-03-20 00:00:00         True\n",
       "1697   10_117            10       526   2017-03-20 00:00:00         True\n",
       "1683   10_110            10       500   2017-03-20 17:02:49         True\n",
       "1720   10_129            10       493   2017-03-20 00:00:00         True\n",
       "2034   10_475            10       492   2017-03-20 11:53:20         True\n",
       "1753   10_146            10       488   2017-01-31 12:56:38        False\n",
       "1958   10_319            10       480   2016-07-19 15:29:20        False"
      ]
     },
     "execution_count": 25,
     "metadata": {},
     "output_type": "execute_result"
    }
   ],
   "source": [
    "churn.sort_values('numVotes', ascending=False).head(10)"
   ]
  },
  {
   "cell_type": "markdown",
   "metadata": {},
   "source": [
    "You can see that they work in one company and most of them are not fired yet, this can be a good feature.\n",
    "Let's see other companies."
   ]
  },
  {
   "cell_type": "code",
   "execution_count": 26,
   "metadata": {},
   "outputs": [
    {
     "data": {
      "text/html": [
       "<div>\n",
       "<style scoped>\n",
       "    .dataframe tbody tr th:only-of-type {\n",
       "        vertical-align: middle;\n",
       "    }\n",
       "\n",
       "    .dataframe tbody tr th {\n",
       "        vertical-align: top;\n",
       "    }\n",
       "\n",
       "    .dataframe thead th {\n",
       "        text-align: right;\n",
       "    }\n",
       "</style>\n",
       "<table border=\"1\" class=\"dataframe\">\n",
       "  <thead>\n",
       "    <tr style=\"text-align: right;\">\n",
       "      <th></th>\n",
       "      <th>employee</th>\n",
       "      <th>companyAlias</th>\n",
       "      <th>numVotes</th>\n",
       "      <th>lastParticipationDate</th>\n",
       "      <th>stillExists</th>\n",
       "    </tr>\n",
       "  </thead>\n",
       "  <tbody>\n",
       "    <tr>\n",
       "      <th>35</th>\n",
       "      <td>0_24</td>\n",
       "      <td>0</td>\n",
       "      <td>404</td>\n",
       "      <td>2017-03-20 18:00:17</td>\n",
       "      <td>True</td>\n",
       "    </tr>\n",
       "    <tr>\n",
       "      <th>441</th>\n",
       "      <td>2_38</td>\n",
       "      <td>2</td>\n",
       "      <td>377</td>\n",
       "      <td>2017-03-20 07:57:56</td>\n",
       "      <td>True</td>\n",
       "    </tr>\n",
       "    <tr>\n",
       "      <th>138</th>\n",
       "      <td>0_152</td>\n",
       "      <td>0</td>\n",
       "      <td>371</td>\n",
       "      <td>2017-03-20 15:44:02</td>\n",
       "      <td>True</td>\n",
       "    </tr>\n",
       "    <tr>\n",
       "      <th>47</th>\n",
       "      <td>0_34</td>\n",
       "      <td>0</td>\n",
       "      <td>369</td>\n",
       "      <td>2017-03-20 15:44:02</td>\n",
       "      <td>True</td>\n",
       "    </tr>\n",
       "    <tr>\n",
       "      <th>147</th>\n",
       "      <td>0_169</td>\n",
       "      <td>0</td>\n",
       "      <td>364</td>\n",
       "      <td>2017-03-20 13:30:50</td>\n",
       "      <td>True</td>\n",
       "    </tr>\n",
       "    <tr>\n",
       "      <th>2775</th>\n",
       "      <td>15_25</td>\n",
       "      <td>15</td>\n",
       "      <td>329</td>\n",
       "      <td>2017-03-20 00:00:00</td>\n",
       "      <td>True</td>\n",
       "    </tr>\n",
       "    <tr>\n",
       "      <th>2542</th>\n",
       "      <td>13_23</td>\n",
       "      <td>13</td>\n",
       "      <td>325</td>\n",
       "      <td>2017-03-20 16:01:33</td>\n",
       "      <td>True</td>\n",
       "    </tr>\n",
       "    <tr>\n",
       "      <th>89</th>\n",
       "      <td>0_93</td>\n",
       "      <td>0</td>\n",
       "      <td>321</td>\n",
       "      <td>2017-03-20 00:00:00</td>\n",
       "      <td>True</td>\n",
       "    </tr>\n",
       "    <tr>\n",
       "      <th>2527</th>\n",
       "      <td>13_8</td>\n",
       "      <td>13</td>\n",
       "      <td>320</td>\n",
       "      <td>2017-03-20 00:00:00</td>\n",
       "      <td>True</td>\n",
       "    </tr>\n",
       "    <tr>\n",
       "      <th>2538</th>\n",
       "      <td>13_19</td>\n",
       "      <td>13</td>\n",
       "      <td>320</td>\n",
       "      <td>2017-03-20 16:01:33</td>\n",
       "      <td>True</td>\n",
       "    </tr>\n",
       "  </tbody>\n",
       "</table>\n",
       "</div>"
      ],
      "text/plain": [
       "     employee  companyAlias  numVotes lastParticipationDate  stillExists\n",
       "35       0_24             0       404   2017-03-20 18:00:17         True\n",
       "441      2_38             2       377   2017-03-20 07:57:56         True\n",
       "138     0_152             0       371   2017-03-20 15:44:02         True\n",
       "47       0_34             0       369   2017-03-20 15:44:02         True\n",
       "147     0_169             0       364   2017-03-20 13:30:50         True\n",
       "2775    15_25            15       329   2017-03-20 00:00:00         True\n",
       "2542    13_23            13       325   2017-03-20 16:01:33         True\n",
       "89       0_93             0       321   2017-03-20 00:00:00         True\n",
       "2527     13_8            13       320   2017-03-20 00:00:00         True\n",
       "2538    13_19            13       320   2017-03-20 16:01:33         True"
      ]
     },
     "execution_count": 26,
     "metadata": {},
     "output_type": "execute_result"
    }
   ],
   "source": [
    "churn[churn['companyAlias'] != 10].sort_values('numVotes', ascending=False).head(10)"
   ]
  },
  {
   "cell_type": "markdown",
   "metadata": {},
   "source": [
    "We can observe quite a large scatter: 404 in company - 0, and 740 in company - 10. **And in other companies, people with a large number of votes work**"
   ]
  },
  {
   "cell_type": "markdown",
   "metadata": {},
   "source": [
    "**lastParticipationDate** field is the date of the last vote, let's consider it"
   ]
  },
  {
   "cell_type": "code",
   "execution_count": 27,
   "metadata": {
    "scrolled": false
   },
   "outputs": [
    {
     "data": {
      "image/png": "[encoded data removed]",
      "text/plain": [
       "<Figure size 432x288 with 1 Axes>"
      ]
     },
     "metadata": {},
     "output_type": "display_data"
    }
   ],
   "source": [
    "churn.groupby('lastParticipationDate').size().plot();"
   ]
  },
  {
   "cell_type": "markdown",
   "metadata": {},
   "source": [
    "Let's look at the same data, but with a weekly sliding window."
   ]
  },
  {
   "cell_type": "code",
   "execution_count": 28,
   "metadata": {},
   "outputs": [
    {
     "data": {
      "image/png": "[encoded data removed]",
      "text/plain": [
       "<Figure size 432x288 with 1 Axes>"
      ]
     },
     "metadata": {},
     "output_type": "display_data"
    }
   ],
   "source": [
    "churn.groupby('lastParticipationDate').size().rolling(window=7).mean().plot();"
   ]
  },
  {
   "cell_type": "code",
   "execution_count": 29,
   "metadata": {
    "scrolled": false
   },
   "outputs": [
    {
     "data": {
      "image/png": "[encoded data removed]",
      "text/plain": [
       "<Figure size 432x288 with 1 Axes>"
      ]
     },
     "metadata": {},
     "output_type": "display_data"
    }
   ],
   "source": [
    "churn[churn['lastParticipationDate'] > '2017-03-07 00:00:00'].groupby('lastParticipationDate').size().plot();"
   ]
  },
  {
   "cell_type": "code",
   "execution_count": 30,
   "metadata": {
    "scrolled": true
   },
   "outputs": [
    {
     "name": "stdout",
     "output_type": "stream",
     "text": [
      "The first record date -  2014-06-07 00:00:00\n",
      "The last record date -  2017-03-20 20:25:54\n",
      "We have data for 2.79 years\n"
     ]
    }
   ],
   "source": [
    "print('The first record date - ', churn['lastParticipationDate'].min())\n",
    "print('The last record date - ', churn['lastParticipationDate'].max())\n",
    "td = (churn['lastParticipationDate'].max() - churn['lastParticipationDate'].min())\n",
    "print('We have data for %.2f years' % (td.days/365))"
   ]
  },
  {
   "cell_type": "markdown",
   "metadata": {},
   "source": [
    "We can see that the number of votes at the end is growing strongly. This may be due to the growing popularity of the application or something else."
   ]
  },
  {
   "cell_type": "markdown",
   "metadata": {},
   "source": [
    "Ok, let's create our **target attribute from stillExists**"
   ]
  },
  {
   "cell_type": "code",
   "execution_count": 31,
   "metadata": {},
   "outputs": [],
   "source": [
    "churn['target'] = (-churn['stillExists']).astype('int')\n",
    "churn.drop('stillExists', axis=1, inplace=True)"
   ]
  },
  {
   "cell_type": "code",
   "execution_count": 32,
   "metadata": {},
   "outputs": [
    {
     "data": {
      "text/html": [
       "<div>\n",
       "<style scoped>\n",
       "    .dataframe tbody tr th:only-of-type {\n",
       "        vertical-align: middle;\n",
       "    }\n",
       "\n",
       "    .dataframe tbody tr th {\n",
       "        vertical-align: top;\n",
       "    }\n",
       "\n",
       "    .dataframe thead th {\n",
       "        text-align: right;\n",
       "    }\n",
       "</style>\n",
       "<table border=\"1\" class=\"dataframe\">\n",
       "  <thead>\n",
       "    <tr style=\"text-align: right;\">\n",
       "      <th></th>\n",
       "      <th>employee</th>\n",
       "      <th>companyAlias</th>\n",
       "      <th>numVotes</th>\n",
       "      <th>lastParticipationDate</th>\n",
       "      <th>target</th>\n",
       "    </tr>\n",
       "  </thead>\n",
       "  <tbody>\n",
       "    <tr>\n",
       "      <th>0</th>\n",
       "      <td>0_512</td>\n",
       "      <td>0</td>\n",
       "      <td>4</td>\n",
       "      <td>2017-02-23 11:48:04</td>\n",
       "      <td>0</td>\n",
       "    </tr>\n",
       "    <tr>\n",
       "      <th>2</th>\n",
       "      <td>0_2</td>\n",
       "      <td>0</td>\n",
       "      <td>72</td>\n",
       "      <td>2017-03-17 00:00:00</td>\n",
       "      <td>0</td>\n",
       "    </tr>\n",
       "    <tr>\n",
       "      <th>4</th>\n",
       "      <td>0_3</td>\n",
       "      <td>0</td>\n",
       "      <td>22</td>\n",
       "      <td>2017-02-16 00:00:00</td>\n",
       "      <td>0</td>\n",
       "    </tr>\n",
       "    <tr>\n",
       "      <th>6</th>\n",
       "      <td>0_4</td>\n",
       "      <td>0</td>\n",
       "      <td>195</td>\n",
       "      <td>2017-03-20 00:00:00</td>\n",
       "      <td>0</td>\n",
       "    </tr>\n",
       "    <tr>\n",
       "      <th>7</th>\n",
       "      <td>0_516</td>\n",
       "      <td>0</td>\n",
       "      <td>29</td>\n",
       "      <td>2017-03-20 11:28:45</td>\n",
       "      <td>0</td>\n",
       "    </tr>\n",
       "  </tbody>\n",
       "</table>\n",
       "</div>"
      ],
      "text/plain": [
       "  employee  companyAlias  numVotes lastParticipationDate  target\n",
       "0    0_512             0         4   2017-02-23 11:48:04       0\n",
       "2      0_2             0        72   2017-03-17 00:00:00       0\n",
       "4      0_3             0        22   2017-02-16 00:00:00       0\n",
       "6      0_4             0       195   2017-03-20 00:00:00       0\n",
       "7    0_516             0        29   2017-03-20 11:28:45       0"
      ]
     },
     "execution_count": 32,
     "metadata": {},
     "output_type": "execute_result"
    }
   ],
   "source": [
    "churn.head()"
   ]
  },
  {
   "cell_type": "markdown",
   "metadata": {},
   "source": [
    "Correlations with other features."
   ]
  },
  {
   "cell_type": "code",
   "execution_count": 33,
   "metadata": {},
   "outputs": [
    {
     "data": {
      "text/plain": [
       "0    3671\n",
       "1     706\n",
       "Name: target, dtype: int64"
      ]
     },
     "execution_count": 33,
     "metadata": {},
     "output_type": "execute_result"
    }
   ],
   "source": [
    "churn['target'].value_counts()"
   ]
  },
  {
   "cell_type": "markdown",
   "metadata": {},
   "source": [
    "### Please note that our target variable is whether the person is still working. 1 - the employee does not work, 0 - the employee works."
   ]
  },
  {
   "cell_type": "code",
   "execution_count": 34,
   "metadata": {
    "scrolled": false
   },
   "outputs": [
    {
     "data": {
      "image/png": "[encoded data removed]",
      "text/plain": [
       "<Figure size 432x288 with 1 Axes>"
      ]
     },
     "metadata": {},
     "output_type": "display_data"
    }
   ],
   "source": [
    "churn['target'].hist();"
   ]
  },
  {
   "cell_type": "markdown",
   "metadata": {},
   "source": [
    "Let's look at the average number of votes for different classes."
   ]
  },
  {
   "cell_type": "code",
   "execution_count": 35,
   "metadata": {
    "scrolled": true
   },
   "outputs": [
    {
     "data": {
      "image/png": "[encoded data removed]",
      "text/plain": [
       "<Figure size 432x288 with 1 Axes>"
      ]
     },
     "metadata": {},
     "output_type": "display_data"
    }
   ],
   "source": [
    "churn.groupby('target')['numVotes'].mean().plot(kind='bar');"
   ]
  },
  {
   "cell_type": "code",
   "execution_count": 36,
   "metadata": {},
   "outputs": [
    {
     "data": {
      "text/plain": [
       "(52.27948787796241, 41.521246458923514)"
      ]
     },
     "execution_count": 36,
     "metadata": {},
     "output_type": "execute_result"
    }
   ],
   "source": [
    "churn[churn['target'] == 0]['numVotes'].mean(), \\\n",
    "churn[churn['target'] == 1]['numVotes'].mean()"
   ]
  },
  {
   "cell_type": "markdown",
   "metadata": {},
   "source": [
    "As we can see, it is not much different in classes, although it should be noted that it is still higher for those who work"
   ]
  },
  {
   "cell_type": "code",
   "execution_count": 37,
   "metadata": {
    "scrolled": true
   },
   "outputs": [
    {
     "data": {
      "image/png": "[encoded data removed]",
      "text/plain": [
       "<Figure size 432x288 with 1 Axes>"
      ]
     },
     "metadata": {},
     "output_type": "display_data"
    }
   ],
   "source": [
    "churn[churn['target'] == 1].hist('numVotes', bins=20);"
   ]
  },
  {
   "cell_type": "code",
   "execution_count": 38,
   "metadata": {
    "scrolled": true
   },
   "outputs": [
    {
     "data": {
      "image/png": "[encoded data removed]",
      "text/plain": [
       "<Figure size 432x288 with 1 Axes>"
      ]
     },
     "metadata": {},
     "output_type": "display_data"
    }
   ],
   "source": [
    "churn[churn['target'] == 0].hist('numVotes', bins=20);"
   ]
  },
  {
   "cell_type": "markdown",
   "metadata": {},
   "source": [
    "Let's look at the ratio of classes in companies"
   ]
  },
  {
   "cell_type": "code",
   "execution_count": 39,
   "metadata": {
    "scrolled": false
   },
   "outputs": [
    {
     "data": {
      "image/png": "[encoded data removed]",
      "text/plain": [
       "<Figure size 1080x720 with 1 Axes>"
      ]
     },
     "metadata": {},
     "output_type": "display_data"
    }
   ],
   "source": [
    "churn.groupby(['companyAlias', 'target'])['employee'].count().plot(kind='bar', figsize=(15, 10));"
   ]
  },
  {
   "cell_type": "markdown",
   "metadata": {},
   "source": [
    "In my opinion, this is a **very interesting** graph, here we can immediately notice 2 interesting facts.\n",
    "First, in large companies there are more retired employees. Later we look at correlation happiness with the number of employees in the company.\n",
    "Second, there are companies in which all employees work."
   ]
  },
  {
   "cell_type": "code",
   "execution_count": 40,
   "metadata": {
    "scrolled": false
   },
   "outputs": [
    {
     "data": {
      "image/png": "[encoded data removed]",
      "text/plain": [
       "<Figure size 1080x720 with 1 Axes>"
      ]
     },
     "metadata": {},
     "output_type": "display_data"
    }
   ],
   "source": [
    "churn.groupby('companyAlias')['numVotes'].mean().sort_values(ascending=False).plot(kind='bar', figsize=(15, 10));"
   ]
  },
  {
   "cell_type": "markdown",
   "metadata": {},
   "source": [
    "##### 2.1.3. Churn. Patterns, insights, pecularities of data<a id='part2.1.3'></a>"
   ]
  },
  {
   "cell_type": "markdown",
   "metadata": {},
   "source": [
    "In this data set, we noticed several important observations:\n",
    "1. Employees with negative identifiers and zero votes are not suitable for our task, as they have no votes.\n",
    "2. We have both large companies (585 employees) and small ones (9 employees), and with the help of a diagram, we have established that the turnover in large companies is larger.\n",
    "3. There are companies in which all employees work.\n",
    "4. The required class has lower number of votes.\n",
    "5. The number of votes increases over time.\n",
    "6. No data gaps."
   ]
  },
  {
   "cell_type": "markdown",
   "metadata": {},
   "source": [
    "#### Part 2.2.Votes<a id='part2.2'></a>"
   ]
  },
  {
   "cell_type": "markdown",
   "metadata": {},
   "source": [
    "##### Part 2.2.1. Votes. Dataset and features description<a id='part2.2.1'></a>"
   ]
  },
  {
   "cell_type": "markdown",
   "metadata": {},
   "source": [
    "The data about the votes of the app users is stored in **votes.csv**. This file containg 4 different columns:\n",
    "\n",
    "- **employee**: An integer id that identifies an employee inside a company.\n",
    "- **companyAlias**: A hash id for a given company.\n",
    "- **voteDate**: String representing the date a given vote was emited.\n",
    "- **vote**: The numeric value of the vote emited ranging from 1 to 4."
   ]
  },
  {
   "cell_type": "code",
   "execution_count": 41,
   "metadata": {},
   "outputs": [
    {
     "data": {
      "text/html": [
       "<div>\n",
       "<style scoped>\n",
       "    .dataframe tbody tr th:only-of-type {\n",
       "        vertical-align: middle;\n",
       "    }\n",
       "\n",
       "    .dataframe tbody tr th {\n",
       "        vertical-align: top;\n",
       "    }\n",
       "\n",
       "    .dataframe thead th {\n",
       "        text-align: right;\n",
       "    }\n",
       "</style>\n",
       "<table border=\"1\" class=\"dataframe\">\n",
       "  <thead>\n",
       "    <tr style=\"text-align: right;\">\n",
       "      <th></th>\n",
       "      <th>employee</th>\n",
       "      <th>companyAlias</th>\n",
       "      <th>voteDate</th>\n",
       "      <th>vote</th>\n",
       "    </tr>\n",
       "  </thead>\n",
       "  <tbody>\n",
       "    <tr>\n",
       "      <th>0</th>\n",
       "      <td>31</td>\n",
       "      <td>56aec740f1ef260003e307d6</td>\n",
       "      <td>2016-02-01</td>\n",
       "      <td>4</td>\n",
       "    </tr>\n",
       "    <tr>\n",
       "      <th>1</th>\n",
       "      <td>33</td>\n",
       "      <td>56aec740f1ef260003e307d6</td>\n",
       "      <td>2016-02-01</td>\n",
       "      <td>4</td>\n",
       "    </tr>\n",
       "    <tr>\n",
       "      <th>2</th>\n",
       "      <td>79</td>\n",
       "      <td>56aec740f1ef260003e307d6</td>\n",
       "      <td>2016-02-01</td>\n",
       "      <td>4</td>\n",
       "    </tr>\n",
       "    <tr>\n",
       "      <th>3</th>\n",
       "      <td>94</td>\n",
       "      <td>56aec740f1ef260003e307d6</td>\n",
       "      <td>2016-02-01</td>\n",
       "      <td>4</td>\n",
       "    </tr>\n",
       "    <tr>\n",
       "      <th>4</th>\n",
       "      <td>16</td>\n",
       "      <td>56aec740f1ef260003e307d6</td>\n",
       "      <td>2016-02-01</td>\n",
       "      <td>2</td>\n",
       "    </tr>\n",
       "  </tbody>\n",
       "</table>\n",
       "</div>"
      ],
      "text/plain": [
       "   employee              companyAlias   voteDate  vote\n",
       "0        31  56aec740f1ef260003e307d6 2016-02-01     4\n",
       "1        33  56aec740f1ef260003e307d6 2016-02-01     4\n",
       "2        79  56aec740f1ef260003e307d6 2016-02-01     4\n",
       "3        94  56aec740f1ef260003e307d6 2016-02-01     4\n",
       "4        16  56aec740f1ef260003e307d6 2016-02-01     2"
      ]
     },
     "execution_count": 41,
     "metadata": {},
     "output_type": "execute_result"
    }
   ],
   "source": [
    "votes = pd.read_csv(\n",
    "    'data/indiv/votes.csv',parse_dates=[2],\n",
    "    dtype={\n",
    "        'employee': np.int32, 'vote': np.int32\n",
    "    }).drop_duplicates()\n",
    "votes.head()"
   ]
  },
  {
   "cell_type": "markdown",
   "metadata": {},
   "source": [
    "It is necessary to bring identifiers of employees and companies in a general view."
   ]
  },
  {
   "cell_type": "code",
   "execution_count": 42,
   "metadata": {},
   "outputs": [],
   "source": [
    "votes = votes[votes['employee'] > 0]\n",
    "votes['companyAlias'] = votes['companyAlias'].map(companies_map).astype('int')\n",
    "votes['employee'] = votes['companyAlias'].astype(str)+\"_\"+votes['employee'].astype(str)"
   ]
  },
  {
   "cell_type": "code",
   "execution_count": 43,
   "metadata": {},
   "outputs": [
    {
     "data": {
      "text/html": [
       "<div>\n",
       "<style scoped>\n",
       "    .dataframe tbody tr th:only-of-type {\n",
       "        vertical-align: middle;\n",
       "    }\n",
       "\n",
       "    .dataframe tbody tr th {\n",
       "        vertical-align: top;\n",
       "    }\n",
       "\n",
       "    .dataframe thead th {\n",
       "        text-align: right;\n",
       "    }\n",
       "</style>\n",
       "<table border=\"1\" class=\"dataframe\">\n",
       "  <thead>\n",
       "    <tr style=\"text-align: right;\">\n",
       "      <th></th>\n",
       "      <th>employee</th>\n",
       "      <th>companyAlias</th>\n",
       "      <th>voteDate</th>\n",
       "      <th>vote</th>\n",
       "    </tr>\n",
       "  </thead>\n",
       "  <tbody>\n",
       "    <tr>\n",
       "      <th>0</th>\n",
       "      <td>0_31</td>\n",
       "      <td>0</td>\n",
       "      <td>2016-02-01</td>\n",
       "      <td>4</td>\n",
       "    </tr>\n",
       "    <tr>\n",
       "      <th>1</th>\n",
       "      <td>0_33</td>\n",
       "      <td>0</td>\n",
       "      <td>2016-02-01</td>\n",
       "      <td>4</td>\n",
       "    </tr>\n",
       "    <tr>\n",
       "      <th>2</th>\n",
       "      <td>0_79</td>\n",
       "      <td>0</td>\n",
       "      <td>2016-02-01</td>\n",
       "      <td>4</td>\n",
       "    </tr>\n",
       "    <tr>\n",
       "      <th>3</th>\n",
       "      <td>0_94</td>\n",
       "      <td>0</td>\n",
       "      <td>2016-02-01</td>\n",
       "      <td>4</td>\n",
       "    </tr>\n",
       "    <tr>\n",
       "      <th>4</th>\n",
       "      <td>0_16</td>\n",
       "      <td>0</td>\n",
       "      <td>2016-02-01</td>\n",
       "      <td>2</td>\n",
       "    </tr>\n",
       "  </tbody>\n",
       "</table>\n",
       "</div>"
      ],
      "text/plain": [
       "  employee  companyAlias   voteDate  vote\n",
       "0     0_31             0 2016-02-01     4\n",
       "1     0_33             0 2016-02-01     4\n",
       "2     0_79             0 2016-02-01     4\n",
       "3     0_94             0 2016-02-01     4\n",
       "4     0_16             0 2016-02-01     2"
      ]
     },
     "execution_count": 43,
     "metadata": {},
     "output_type": "execute_result"
    }
   ],
   "source": [
    "votes.head()"
   ]
  },
  {
   "cell_type": "code",
   "execution_count": 44,
   "metadata": {},
   "outputs": [
    {
     "data": {
      "text/html": [
       "<div>\n",
       "<style scoped>\n",
       "    .dataframe tbody tr th:only-of-type {\n",
       "        vertical-align: middle;\n",
       "    }\n",
       "\n",
       "    .dataframe tbody tr th {\n",
       "        vertical-align: top;\n",
       "    }\n",
       "\n",
       "    .dataframe thead th {\n",
       "        text-align: right;\n",
       "    }\n",
       "</style>\n",
       "<table border=\"1\" class=\"dataframe\">\n",
       "  <thead>\n",
       "    <tr style=\"text-align: right;\">\n",
       "      <th></th>\n",
       "      <th>count</th>\n",
       "      <th>mean</th>\n",
       "      <th>std</th>\n",
       "      <th>min</th>\n",
       "      <th>25%</th>\n",
       "      <th>50%</th>\n",
       "      <th>75%</th>\n",
       "      <th>max</th>\n",
       "    </tr>\n",
       "  </thead>\n",
       "  <tbody>\n",
       "    <tr>\n",
       "      <th>companyAlias</th>\n",
       "      <td>221145.0</td>\n",
       "      <td>14.122680</td>\n",
       "      <td>10.033457</td>\n",
       "      <td>0.0</td>\n",
       "      <td>8.0</td>\n",
       "      <td>11.0</td>\n",
       "      <td>22.0</td>\n",
       "      <td>36.0</td>\n",
       "    </tr>\n",
       "    <tr>\n",
       "      <th>vote</th>\n",
       "      <td>221145.0</td>\n",
       "      <td>2.861634</td>\n",
       "      <td>0.986119</td>\n",
       "      <td>1.0</td>\n",
       "      <td>2.0</td>\n",
       "      <td>3.0</td>\n",
       "      <td>4.0</td>\n",
       "      <td>4.0</td>\n",
       "    </tr>\n",
       "  </tbody>\n",
       "</table>\n",
       "</div>"
      ],
      "text/plain": [
       "                 count       mean        std  min  25%   50%   75%   max\n",
       "companyAlias  221145.0  14.122680  10.033457  0.0  8.0  11.0  22.0  36.0\n",
       "vote          221145.0   2.861634   0.986119  1.0  2.0   3.0   4.0   4.0"
      ]
     },
     "execution_count": 44,
     "metadata": {},
     "output_type": "execute_result"
    }
   ],
   "source": [
    "votes.describe().T"
   ]
  },
  {
   "cell_type": "code",
   "execution_count": 45,
   "metadata": {},
   "outputs": [
    {
     "name": "stdout",
     "output_type": "stream",
     "text": [
      "<class 'pandas.core.frame.DataFrame'>\n",
      "Int64Index: 221145 entries, 0 to 221231\n",
      "Data columns (total 4 columns):\n",
      "employee        221145 non-null object\n",
      "companyAlias    221145 non-null int64\n",
      "voteDate        221145 non-null datetime64[ns]\n",
      "vote            221145 non-null int32\n",
      "dtypes: datetime64[ns](1), int32(1), int64(1), object(1)\n",
      "memory usage: 7.6+ MB\n"
     ]
    }
   ],
   "source": [
    "votes.info()"
   ]
  },
  {
   "cell_type": "markdown",
   "metadata": {},
   "source": [
    "Let's see what number of votes are employees of companies"
   ]
  },
  {
   "cell_type": "code",
   "execution_count": 46,
   "metadata": {
    "scrolled": true
   },
   "outputs": [
    {
     "name": "stdout",
     "output_type": "stream",
     "text": [
      "10    50392\n",
      "0     26756\n",
      "30    24902\n",
      "13    23023\n",
      "22    16886\n",
      "Name: companyAlias, dtype: int64\n"
     ]
    }
   ],
   "source": [
    "print(votes['companyAlias'].value_counts().head());"
   ]
  },
  {
   "cell_type": "markdown",
   "metadata": {},
   "source": [
    "##### Part 2.2.2. Votes. Exploratory data analysis, visual analysis of the features<a id='part2.2.2'></a>"
   ]
  },
  {
   "cell_type": "markdown",
   "metadata": {},
   "source": [
    "Look at the distribution of votes"
   ]
  },
  {
   "cell_type": "code",
   "execution_count": 47,
   "metadata": {},
   "outputs": [
    {
     "data": {
      "image/png": "[encoded data removed]",
      "text/plain": [
       "<Figure size 432x288 with 1 Axes>"
      ]
     },
     "metadata": {},
     "output_type": "display_data"
    }
   ],
   "source": [
    "votes.groupby('vote').size().plot(kind='bar');"
   ]
  },
  {
   "cell_type": "markdown",
   "metadata": {},
   "source": [
    "We see that people are mostly **almost happy** in their companies.<br>\n",
    "It is interesting to look at the distribution of votes for different time periods, add a couple of features."
   ]
  },
  {
   "cell_type": "code",
   "execution_count": 48,
   "metadata": {},
   "outputs": [],
   "source": [
    "votes['day_of_week'] = votes['voteDate'].dt.dayofweek\n",
    "votes['month'] = votes['voteDate'].dt.month\n",
    "votes['year'] = votes['voteDate'].dt.year"
   ]
  },
  {
   "cell_type": "markdown",
   "metadata": {},
   "source": [
    "How much time do we have a votes stats?"
   ]
  },
  {
   "cell_type": "code",
   "execution_count": 49,
   "metadata": {},
   "outputs": [
    {
     "name": "stdout",
     "output_type": "stream",
     "text": [
      "2014-06-07 00:00:00 2017-03-20 00:00:00\n"
     ]
    }
   ],
   "source": [
    "print(votes['voteDate'].min(), votes['voteDate'].max())"
   ]
  },
  {
   "cell_type": "markdown",
   "metadata": {},
   "source": [
    "In this period we have votes - **2014.06 - 2017.03**."
   ]
  },
  {
   "cell_type": "code",
   "execution_count": 50,
   "metadata": {},
   "outputs": [
    {
     "data": {
      "image/png": "[encoded data removed]",
      "text/plain": [
       "<Figure size 432x288 with 1 Axes>"
      ]
     },
     "metadata": {},
     "output_type": "display_data"
    }
   ],
   "source": [
    "votes.groupby('voteDate').size().plot();"
   ]
  },
  {
   "cell_type": "markdown",
   "metadata": {},
   "source": [
    "On this graph, we are convinced of the hypothesis that the popularity of the application is growing.<br>\n",
    "Let's look at the same graph but with a sliding window."
   ]
  },
  {
   "cell_type": "code",
   "execution_count": 51,
   "metadata": {},
   "outputs": [
    {
     "data": {
      "image/png": "[encoded data removed]",
      "text/plain": [
       "<Figure size 432x288 with 1 Axes>"
      ]
     },
     "metadata": {},
     "output_type": "display_data"
    }
   ],
   "source": [
    "votes.groupby('voteDate').size().rolling(window=31).mean().plot();"
   ]
  },
  {
   "cell_type": "markdown",
   "metadata": {},
   "source": [
    "Let's try to build a schedule for months."
   ]
  },
  {
   "cell_type": "code",
   "execution_count": 52,
   "metadata": {},
   "outputs": [
    {
     "data": {
      "image/png": "[encoded data removed]",
      "text/plain": [
       "<Figure size 432x288 with 1 Axes>"
      ]
     },
     "metadata": {},
     "output_type": "display_data"
    }
   ],
   "source": [
    "votes.groupby('month').size().plot();"
   ]
  },
  {
   "cell_type": "code",
   "execution_count": 53,
   "metadata": {},
   "outputs": [
    {
     "data": {
      "image/png": "[encoded data removed]",
      "text/plain": [
       "<Figure size 432x288 with 1 Axes>"
      ]
     },
     "metadata": {},
     "output_type": "display_data"
    }
   ],
   "source": [
    "votes.groupby(['month', 'vote']).size().plot(kind='bar');"
   ]
  },
  {
   "cell_type": "markdown",
   "metadata": {},
   "source": [
    "As we can see, the schedule is very similar to the last year, because last year was the largest audience increase.<br>\n",
    "Build a schedule for the days of the week.\n"
   ]
  },
  {
   "cell_type": "code",
   "execution_count": 54,
   "metadata": {},
   "outputs": [
    {
     "data": {
      "image/png": "[encoded data removed]",
      "text/plain": [
       "<Figure size 432x288 with 1 Axes>"
      ]
     },
     "metadata": {},
     "output_type": "display_data"
    }
   ],
   "source": [
    "votes.groupby(['day_of_week', 'vote']).size().plot(kind='bar');"
   ]
  },
  {
   "cell_type": "markdown",
   "metadata": {},
   "source": [
    "In general, every day reflects the setting as a whole, but you can see that on Friday more people put 4, which means that they are happier before the weekend. And some strange people are voting on weekends and their vote 1 frequency is higher than usual."
   ]
  },
  {
   "cell_type": "markdown",
   "metadata": {},
   "source": [
    "Look at the distribution of votes by year."
   ]
  },
  {
   "cell_type": "code",
   "execution_count": 55,
   "metadata": {},
   "outputs": [
    {
     "data": {
      "image/png": "[encoded data removed]",
      "text/plain": [
       "<Figure size 432x288 with 1 Axes>"
      ]
     },
     "metadata": {},
     "output_type": "display_data"
    }
   ],
   "source": [
    "votes.groupby('year').size().plot(kind='bar');"
   ]
  },
  {
   "cell_type": "code",
   "execution_count": 56,
   "metadata": {},
   "outputs": [
    {
     "data": {
      "image/png": "[encoded data removed]",
      "text/plain": [
       "<Figure size 432x288 with 1 Axes>"
      ]
     },
     "metadata": {},
     "output_type": "display_data"
    }
   ],
   "source": [
    "votes.groupby(['year', 'vote']).size().plot(kind='bar');"
   ]
  },
  {
   "cell_type": "markdown",
   "metadata": {},
   "source": [
    "The application is growing very actively, we can see that in just 3 months of 2017, the application has already gained about half of the votes in 2016."
   ]
  },
  {
   "cell_type": "markdown",
   "metadata": {},
   "source": [
    "Let's see how employees vote on average"
   ]
  },
  {
   "cell_type": "code",
   "execution_count": 57,
   "metadata": {},
   "outputs": [
    {
     "data": {
      "image/png": "[encoded data removed]",
      "text/plain": [
       "<Figure size 432x288 with 1 Axes>"
      ]
     },
     "metadata": {},
     "output_type": "display_data"
    }
   ],
   "source": [
    "votes.groupby('employee')['vote'].mean().sort_values().plot();"
   ]
  },
  {
   "cell_type": "markdown",
   "metadata": {},
   "source": [
    "I wonder how the average vote in the company."
   ]
  },
  {
   "cell_type": "code",
   "execution_count": 58,
   "metadata": {},
   "outputs": [
    {
     "data": {
      "image/png": "[encoded data removed]",
      "text/plain": [
       "<Figure size 864x576 with 1 Axes>"
      ]
     },
     "metadata": {},
     "output_type": "display_data"
    }
   ],
   "source": [
    "votes.groupby('companyAlias')['vote'].mean().sort_values().plot(kind='bar', figsize=(12, 8));"
   ]
  },
  {
   "cell_type": "code",
   "execution_count": 59,
   "metadata": {},
   "outputs": [
    {
     "data": {
      "image/png": "[encoded data removed]",
      "text/plain": [
       "<Figure size 432x288 with 1 Axes>"
      ]
     },
     "metadata": {},
     "output_type": "display_data"
    }
   ],
   "source": [
    "plt.scatter(x=votes.groupby('companyAlias')['vote'].mean(), y=churn.groupby('companyAlias')['employee'].size());\n",
    "plt.ylabel('Employees count')\n",
    "plt.xlabel('Mean employees happiness')\n",
    "plt.show()"
   ]
  },
  {
   "cell_type": "markdown",
   "metadata": {},
   "source": [
    "In this graph, we see an important **relationship between employee happiness and company size**; the higher the number of employees, the less happy the employee."
   ]
  },
  {
   "cell_type": "markdown",
   "metadata": {},
   "source": [
    "Plot the average churn and happiness level for the company"
   ]
  },
  {
   "cell_type": "code",
   "execution_count": 60,
   "metadata": {},
   "outputs": [
    {
     "data": {
      "image/png": "[encoded data removed]",
      "text/plain": [
       "<Figure size 432x288 with 1 Axes>"
      ]
     },
     "metadata": {},
     "output_type": "display_data"
    }
   ],
   "source": [
    "plt.scatter(x=votes.groupby('companyAlias')['vote'].mean(), y=churn.groupby('companyAlias')['target'].mean());\n",
    "plt.xlabel('Mean employees happiness')\n",
    "plt.ylabel('Mean churn')\n",
    "plt.show()"
   ]
  },
  {
   "cell_type": "markdown",
   "metadata": {},
   "source": [
    "It seems intuitively that not happy people quit more often, but there is no strict dependence"
   ]
  },
  {
   "cell_type": "markdown",
   "metadata": {},
   "source": [
    "##### 2.2.3. Votes. Patterns, insights, pecularities of data<a id='part2.2.3'></a>"
   ]
  },
  {
   "cell_type": "markdown",
   "metadata": {},
   "source": [
    "In this data set, we noticed several important observations:\n",
    "1. Data collected for the period 2014.06 - 2017.03.\n",
    "2. Application is growing very actively\n",
    "3. People are mostly almost happy in their companies and choose 3.\n",
    "4. On Friday more people put 4.\n",
    "5. Correlation between employee happiness and company size is negative.\n",
    "6. No data gaps."
   ]
  },
  {
   "cell_type": "markdown",
   "metadata": {},
   "source": [
    "#### Part 2.3. Anonimized clean comments<a id='part2.3'></a>"
   ]
  },
  {
   "cell_type": "markdown",
   "metadata": {},
   "source": [
    "##### Part 2.3.1. Anonimized clean comments. Dataset and features description<a id='part2.3.1'></a>"
   ]
  },
  {
   "cell_type": "markdown",
   "metadata": {},
   "source": [
    "It is possible to find data about the comments written in the app in the **comments_clean_anonimized.csv** file, and it has the following structure:\n",
    "\n",
    "- **employee**: An integer id that identifies an employee inside a company.\n",
    "- **companyAlias**: A hash id for a given company.\n",
    "- **commentDate**: String representing the date a given comment was written.\n",
    "- **commentId**: A unique id for a given comment.\n",
    "- **comment**: Anonimized comment. It has the same length as the original comment. \n",
    "- **likes**: Number of likes that the comment received.\n",
    "- **dislikes**: Number of dislikes that the comment received."
   ]
  },
  {
   "cell_type": "code",
   "execution_count": 61,
   "metadata": {},
   "outputs": [
    {
     "data": {
      "text/html": [
       "<div>\n",
       "<style scoped>\n",
       "    .dataframe tbody tr th:only-of-type {\n",
       "        vertical-align: middle;\n",
       "    }\n",
       "\n",
       "    .dataframe tbody tr th {\n",
       "        vertical-align: top;\n",
       "    }\n",
       "\n",
       "    .dataframe thead th {\n",
       "        text-align: right;\n",
       "    }\n",
       "</style>\n",
       "<table border=\"1\" class=\"dataframe\">\n",
       "  <thead>\n",
       "    <tr style=\"text-align: right;\">\n",
       "      <th></th>\n",
       "      <th>employee</th>\n",
       "      <th>companyAlias</th>\n",
       "      <th>commentId</th>\n",
       "      <th>txt</th>\n",
       "      <th>likes</th>\n",
       "      <th>dislikes</th>\n",
       "      <th>commentDate</th>\n",
       "    </tr>\n",
       "  </thead>\n",
       "  <tbody>\n",
       "    <tr>\n",
       "      <th>0</th>\n",
       "      <td>307</td>\n",
       "      <td>56aec740f1ef260003e307d6</td>\n",
       "      <td>58d018d7e010990004e38070</td>\n",
       "      <td>**********************************************...</td>\n",
       "      <td>4.0</td>\n",
       "      <td>0.0</td>\n",
       "      <td>2017-03-20 18:00:17</td>\n",
       "    </tr>\n",
       "    <tr>\n",
       "      <th>1</th>\n",
       "      <td>382</td>\n",
       "      <td>56aec740f1ef260003e307d6</td>\n",
       "      <td>58d0179ae010990004e3806d</td>\n",
       "      <td>*****************************</td>\n",
       "      <td>1.0</td>\n",
       "      <td>2.0</td>\n",
       "      <td>2017-03-20 17:55:16</td>\n",
       "    </tr>\n",
       "    <tr>\n",
       "      <th>2</th>\n",
       "      <td>172</td>\n",
       "      <td>56aec740f1ef260003e307d6</td>\n",
       "      <td>58cff8cde010990004e37f6a</td>\n",
       "      <td>***************************</td>\n",
       "      <td>3.0</td>\n",
       "      <td>0.0</td>\n",
       "      <td>2017-03-20 15:44:02</td>\n",
       "    </tr>\n",
       "    <tr>\n",
       "      <th>3</th>\n",
       "      <td>135</td>\n",
       "      <td>56aec740f1ef260003e307d6</td>\n",
       "      <td>58cfefeee010990004e37f60</td>\n",
       "      <td>***************************</td>\n",
       "      <td>1.0</td>\n",
       "      <td>1.0</td>\n",
       "      <td>2017-03-20 15:06:08</td>\n",
       "    </tr>\n",
       "    <tr>\n",
       "      <th>4</th>\n",
       "      <td>225</td>\n",
       "      <td>56aec740f1ef260003e307d6</td>\n",
       "      <td>58cfd9b4e010990004e37f52</td>\n",
       "      <td>*********************************</td>\n",
       "      <td>3.0</td>\n",
       "      <td>2.0</td>\n",
       "      <td>2017-03-20 13:30:50</td>\n",
       "    </tr>\n",
       "  </tbody>\n",
       "</table>\n",
       "</div>"
      ],
      "text/plain": [
       "   employee              companyAlias                 commentId  \\\n",
       "0       307  56aec740f1ef260003e307d6  58d018d7e010990004e38070   \n",
       "1       382  56aec740f1ef260003e307d6  58d0179ae010990004e3806d   \n",
       "2       172  56aec740f1ef260003e307d6  58cff8cde010990004e37f6a   \n",
       "3       135  56aec740f1ef260003e307d6  58cfefeee010990004e37f60   \n",
       "4       225  56aec740f1ef260003e307d6  58cfd9b4e010990004e37f52   \n",
       "\n",
       "                                                 txt  likes  dislikes  \\\n",
       "0  **********************************************...    4.0       0.0   \n",
       "1                      *****************************    1.0       2.0   \n",
       "2                        ***************************    3.0       0.0   \n",
       "3                        ***************************    1.0       1.0   \n",
       "4                  *********************************    3.0       2.0   \n",
       "\n",
       "          commentDate  \n",
       "0 2017-03-20 18:00:17  \n",
       "1 2017-03-20 17:55:16  \n",
       "2 2017-03-20 15:44:02  \n",
       "3 2017-03-20 15:06:08  \n",
       "4 2017-03-20 13:30:50  "
      ]
     },
     "execution_count": 61,
     "metadata": {},
     "output_type": "execute_result"
    }
   ],
   "source": [
    "comments = pd.read_csv(\n",
    "    'data/indiv/comments_clean_anonimized.csv', parse_dates=[-1],\n",
    "    dtype={\n",
    "        'employee': np.int32, 'likes': np.float, 'dislikes': np.float\n",
    "    }).drop_duplicates()\n",
    "comments.head()"
   ]
  },
  {
   "cell_type": "code",
   "execution_count": 62,
   "metadata": {},
   "outputs": [
    {
     "data": {
      "text/html": [
       "<div>\n",
       "<style scoped>\n",
       "    .dataframe tbody tr th:only-of-type {\n",
       "        vertical-align: middle;\n",
       "    }\n",
       "\n",
       "    .dataframe tbody tr th {\n",
       "        vertical-align: top;\n",
       "    }\n",
       "\n",
       "    .dataframe thead th {\n",
       "        text-align: right;\n",
       "    }\n",
       "</style>\n",
       "<table border=\"1\" class=\"dataframe\">\n",
       "  <thead>\n",
       "    <tr style=\"text-align: right;\">\n",
       "      <th></th>\n",
       "      <th>employee</th>\n",
       "      <th>likes</th>\n",
       "      <th>dislikes</th>\n",
       "    </tr>\n",
       "  </thead>\n",
       "  <tbody>\n",
       "    <tr>\n",
       "      <th>count</th>\n",
       "      <td>42019.000000</td>\n",
       "      <td>42018.000000</td>\n",
       "      <td>42018.000000</td>\n",
       "    </tr>\n",
       "    <tr>\n",
       "      <th>mean</th>\n",
       "      <td>135.022656</td>\n",
       "      <td>6.889595</td>\n",
       "      <td>1.287234</td>\n",
       "    </tr>\n",
       "    <tr>\n",
       "      <th>std</th>\n",
       "      <td>162.893510</td>\n",
       "      <td>7.719326</td>\n",
       "      <td>2.740623</td>\n",
       "    </tr>\n",
       "    <tr>\n",
       "      <th>min</th>\n",
       "      <td>-217.000000</td>\n",
       "      <td>0.000000</td>\n",
       "      <td>0.000000</td>\n",
       "    </tr>\n",
       "    <tr>\n",
       "      <th>25%</th>\n",
       "      <td>28.000000</td>\n",
       "      <td>2.000000</td>\n",
       "      <td>0.000000</td>\n",
       "    </tr>\n",
       "    <tr>\n",
       "      <th>50%</th>\n",
       "      <td>101.000000</td>\n",
       "      <td>4.000000</td>\n",
       "      <td>0.000000</td>\n",
       "    </tr>\n",
       "    <tr>\n",
       "      <th>75%</th>\n",
       "      <td>197.000000</td>\n",
       "      <td>9.000000</td>\n",
       "      <td>1.000000</td>\n",
       "    </tr>\n",
       "    <tr>\n",
       "      <th>max</th>\n",
       "      <td>999.000000</td>\n",
       "      <td>86.000000</td>\n",
       "      <td>53.000000</td>\n",
       "    </tr>\n",
       "  </tbody>\n",
       "</table>\n",
       "</div>"
      ],
      "text/plain": [
       "           employee         likes      dislikes\n",
       "count  42019.000000  42018.000000  42018.000000\n",
       "mean     135.022656      6.889595      1.287234\n",
       "std      162.893510      7.719326      2.740623\n",
       "min     -217.000000      0.000000      0.000000\n",
       "25%       28.000000      2.000000      0.000000\n",
       "50%      101.000000      4.000000      0.000000\n",
       "75%      197.000000      9.000000      1.000000\n",
       "max      999.000000     86.000000     53.000000"
      ]
     },
     "execution_count": 62,
     "metadata": {},
     "output_type": "execute_result"
    }
   ],
   "source": [
    "comments.describe()"
   ]
  },
  {
   "cell_type": "code",
   "execution_count": 63,
   "metadata": {},
   "outputs": [
    {
     "name": "stdout",
     "output_type": "stream",
     "text": [
      "<class 'pandas.core.frame.DataFrame'>\n",
      "Int64Index: 42019 entries, 0 to 82755\n",
      "Data columns (total 7 columns):\n",
      "employee        42019 non-null int32\n",
      "companyAlias    42019 non-null object\n",
      "commentId       42019 non-null object\n",
      "txt             41910 non-null object\n",
      "likes           42018 non-null float64\n",
      "dislikes        42018 non-null float64\n",
      "commentDate     42018 non-null datetime64[ns]\n",
      "dtypes: datetime64[ns](1), float64(2), int32(1), object(3)\n",
      "memory usage: 2.4+ MB\n"
     ]
    }
   ],
   "source": [
    "comments.info()"
   ]
  },
  {
   "cell_type": "code",
   "execution_count": 64,
   "metadata": {},
   "outputs": [],
   "source": [
    "comments['txt'].fillna('', inplace=True)"
   ]
  },
  {
   "cell_type": "markdown",
   "metadata": {},
   "source": [
    "It is necessary to bring identifiers of employees and companies in a general view."
   ]
  },
  {
   "cell_type": "code",
   "execution_count": 65,
   "metadata": {},
   "outputs": [],
   "source": [
    "comments = comments[comments['employee'] > 0]\n",
    "comments['companyAlias'] = comments['companyAlias'].map(companies_map).astype('int')\n",
    "comments['employee'] = comments['companyAlias'].astype(str)+\"_\"+comments['employee'].astype(str)"
   ]
  },
  {
   "cell_type": "code",
   "execution_count": 66,
   "metadata": {},
   "outputs": [
    {
     "data": {
      "text/html": [
       "<div>\n",
       "<style scoped>\n",
       "    .dataframe tbody tr th:only-of-type {\n",
       "        vertical-align: middle;\n",
       "    }\n",
       "\n",
       "    .dataframe tbody tr th {\n",
       "        vertical-align: top;\n",
       "    }\n",
       "\n",
       "    .dataframe thead th {\n",
       "        text-align: right;\n",
       "    }\n",
       "</style>\n",
       "<table border=\"1\" class=\"dataframe\">\n",
       "  <thead>\n",
       "    <tr style=\"text-align: right;\">\n",
       "      <th></th>\n",
       "      <th>employee</th>\n",
       "      <th>companyAlias</th>\n",
       "      <th>commentId</th>\n",
       "      <th>txt</th>\n",
       "      <th>likes</th>\n",
       "      <th>dislikes</th>\n",
       "      <th>commentDate</th>\n",
       "    </tr>\n",
       "  </thead>\n",
       "  <tbody>\n",
       "    <tr>\n",
       "      <th>0</th>\n",
       "      <td>0_307</td>\n",
       "      <td>0</td>\n",
       "      <td>58d018d7e010990004e38070</td>\n",
       "      <td>**********************************************...</td>\n",
       "      <td>4.0</td>\n",
       "      <td>0.0</td>\n",
       "      <td>2017-03-20 18:00:17</td>\n",
       "    </tr>\n",
       "    <tr>\n",
       "      <th>1</th>\n",
       "      <td>0_382</td>\n",
       "      <td>0</td>\n",
       "      <td>58d0179ae010990004e3806d</td>\n",
       "      <td>*****************************</td>\n",
       "      <td>1.0</td>\n",
       "      <td>2.0</td>\n",
       "      <td>2017-03-20 17:55:16</td>\n",
       "    </tr>\n",
       "    <tr>\n",
       "      <th>2</th>\n",
       "      <td>0_172</td>\n",
       "      <td>0</td>\n",
       "      <td>58cff8cde010990004e37f6a</td>\n",
       "      <td>***************************</td>\n",
       "      <td>3.0</td>\n",
       "      <td>0.0</td>\n",
       "      <td>2017-03-20 15:44:02</td>\n",
       "    </tr>\n",
       "    <tr>\n",
       "      <th>3</th>\n",
       "      <td>0_135</td>\n",
       "      <td>0</td>\n",
       "      <td>58cfefeee010990004e37f60</td>\n",
       "      <td>***************************</td>\n",
       "      <td>1.0</td>\n",
       "      <td>1.0</td>\n",
       "      <td>2017-03-20 15:06:08</td>\n",
       "    </tr>\n",
       "    <tr>\n",
       "      <th>4</th>\n",
       "      <td>0_225</td>\n",
       "      <td>0</td>\n",
       "      <td>58cfd9b4e010990004e37f52</td>\n",
       "      <td>*********************************</td>\n",
       "      <td>3.0</td>\n",
       "      <td>2.0</td>\n",
       "      <td>2017-03-20 13:30:50</td>\n",
       "    </tr>\n",
       "  </tbody>\n",
       "</table>\n",
       "</div>"
      ],
      "text/plain": [
       "  employee  companyAlias                 commentId  \\\n",
       "0    0_307             0  58d018d7e010990004e38070   \n",
       "1    0_382             0  58d0179ae010990004e3806d   \n",
       "2    0_172             0  58cff8cde010990004e37f6a   \n",
       "3    0_135             0  58cfefeee010990004e37f60   \n",
       "4    0_225             0  58cfd9b4e010990004e37f52   \n",
       "\n",
       "                                                 txt  likes  dislikes  \\\n",
       "0  **********************************************...    4.0       0.0   \n",
       "1                      *****************************    1.0       2.0   \n",
       "2                        ***************************    3.0       0.0   \n",
       "3                        ***************************    1.0       1.0   \n",
       "4                  *********************************    3.0       2.0   \n",
       "\n",
       "          commentDate  \n",
       "0 2017-03-20 18:00:17  \n",
       "1 2017-03-20 17:55:16  \n",
       "2 2017-03-20 15:44:02  \n",
       "3 2017-03-20 15:06:08  \n",
       "4 2017-03-20 13:30:50  "
      ]
     },
     "execution_count": 66,
     "metadata": {},
     "output_type": "execute_result"
    }
   ],
   "source": [
    "comments.head()"
   ]
  },
  {
   "cell_type": "markdown",
   "metadata": {},
   "source": [
    "We can notice that the comment text is encoded, but we can use it, we can take its length and create an indication of the presence of the text. <br>\n",
    "and add a couple of time-related features"
   ]
  },
  {
   "cell_type": "code",
   "execution_count": 67,
   "metadata": {},
   "outputs": [],
   "source": [
    "def get_len(txt):\n",
    "    if type(txt) == str:\n",
    "        return len(txt)\n",
    "    else:\n",
    "        return 0\n",
    "        \n",
    "def text_exist(txt):\n",
    "    if type(txt) == str and len(txt) > 0:\n",
    "        return 1\n",
    "    else:\n",
    "        return 0\n",
    "        \n",
    "comments['txt_len'] = comments['txt'].apply(get_len)\n",
    "comments['txt_exist'] = comments['txt'].apply(text_exist)\n",
    "\n",
    "comments['day_of_week'] = comments['commentDate'].dt.dayofweek\n",
    "comments['month'] = comments['commentDate'].dt.month\n",
    "comments['year'] = comments['commentDate'].dt.year\n",
    "\n",
    "comments.drop(columns=['txt'], axis=1, inplace=True)"
   ]
  },
  {
   "cell_type": "code",
   "execution_count": 68,
   "metadata": {},
   "outputs": [],
   "source": [
    "comments.dropna(inplace=True)"
   ]
  },
  {
   "cell_type": "code",
   "execution_count": 69,
   "metadata": {},
   "outputs": [],
   "source": [
    "comments['likes'] = comments['likes'].astype('int64')\n",
    "comments['dislikes'] = comments['dislikes'].astype('int64')"
   ]
  },
  {
   "cell_type": "code",
   "execution_count": 70,
   "metadata": {},
   "outputs": [
    {
     "data": {
      "text/html": [
       "<div>\n",
       "<style scoped>\n",
       "    .dataframe tbody tr th:only-of-type {\n",
       "        vertical-align: middle;\n",
       "    }\n",
       "\n",
       "    .dataframe tbody tr th {\n",
       "        vertical-align: top;\n",
       "    }\n",
       "\n",
       "    .dataframe thead th {\n",
       "        text-align: right;\n",
       "    }\n",
       "</style>\n",
       "<table border=\"1\" class=\"dataframe\">\n",
       "  <thead>\n",
       "    <tr style=\"text-align: right;\">\n",
       "      <th></th>\n",
       "      <th>employee</th>\n",
       "      <th>companyAlias</th>\n",
       "      <th>commentId</th>\n",
       "      <th>likes</th>\n",
       "      <th>dislikes</th>\n",
       "      <th>commentDate</th>\n",
       "      <th>txt_len</th>\n",
       "      <th>txt_exist</th>\n",
       "      <th>day_of_week</th>\n",
       "      <th>month</th>\n",
       "      <th>year</th>\n",
       "    </tr>\n",
       "  </thead>\n",
       "  <tbody>\n",
       "    <tr>\n",
       "      <th>0</th>\n",
       "      <td>0_307</td>\n",
       "      <td>0</td>\n",
       "      <td>58d018d7e010990004e38070</td>\n",
       "      <td>4</td>\n",
       "      <td>0</td>\n",
       "      <td>2017-03-20 18:00:17</td>\n",
       "      <td>62</td>\n",
       "      <td>1</td>\n",
       "      <td>0.0</td>\n",
       "      <td>3.0</td>\n",
       "      <td>2017.0</td>\n",
       "    </tr>\n",
       "    <tr>\n",
       "      <th>1</th>\n",
       "      <td>0_382</td>\n",
       "      <td>0</td>\n",
       "      <td>58d0179ae010990004e3806d</td>\n",
       "      <td>1</td>\n",
       "      <td>2</td>\n",
       "      <td>2017-03-20 17:55:16</td>\n",
       "      <td>29</td>\n",
       "      <td>1</td>\n",
       "      <td>0.0</td>\n",
       "      <td>3.0</td>\n",
       "      <td>2017.0</td>\n",
       "    </tr>\n",
       "    <tr>\n",
       "      <th>2</th>\n",
       "      <td>0_172</td>\n",
       "      <td>0</td>\n",
       "      <td>58cff8cde010990004e37f6a</td>\n",
       "      <td>3</td>\n",
       "      <td>0</td>\n",
       "      <td>2017-03-20 15:44:02</td>\n",
       "      <td>27</td>\n",
       "      <td>1</td>\n",
       "      <td>0.0</td>\n",
       "      <td>3.0</td>\n",
       "      <td>2017.0</td>\n",
       "    </tr>\n",
       "    <tr>\n",
       "      <th>3</th>\n",
       "      <td>0_135</td>\n",
       "      <td>0</td>\n",
       "      <td>58cfefeee010990004e37f60</td>\n",
       "      <td>1</td>\n",
       "      <td>1</td>\n",
       "      <td>2017-03-20 15:06:08</td>\n",
       "      <td>27</td>\n",
       "      <td>1</td>\n",
       "      <td>0.0</td>\n",
       "      <td>3.0</td>\n",
       "      <td>2017.0</td>\n",
       "    </tr>\n",
       "    <tr>\n",
       "      <th>4</th>\n",
       "      <td>0_225</td>\n",
       "      <td>0</td>\n",
       "      <td>58cfd9b4e010990004e37f52</td>\n",
       "      <td>3</td>\n",
       "      <td>2</td>\n",
       "      <td>2017-03-20 13:30:50</td>\n",
       "      <td>33</td>\n",
       "      <td>1</td>\n",
       "      <td>0.0</td>\n",
       "      <td>3.0</td>\n",
       "      <td>2017.0</td>\n",
       "    </tr>\n",
       "  </tbody>\n",
       "</table>\n",
       "</div>"
      ],
      "text/plain": [
       "  employee  companyAlias                 commentId  likes  dislikes  \\\n",
       "0    0_307             0  58d018d7e010990004e38070      4         0   \n",
       "1    0_382             0  58d0179ae010990004e3806d      1         2   \n",
       "2    0_172             0  58cff8cde010990004e37f6a      3         0   \n",
       "3    0_135             0  58cfefeee010990004e37f60      1         1   \n",
       "4    0_225             0  58cfd9b4e010990004e37f52      3         2   \n",
       "\n",
       "          commentDate  txt_len  txt_exist  day_of_week  month    year  \n",
       "0 2017-03-20 18:00:17       62          1          0.0    3.0  2017.0  \n",
       "1 2017-03-20 17:55:16       29          1          0.0    3.0  2017.0  \n",
       "2 2017-03-20 15:44:02       27          1          0.0    3.0  2017.0  \n",
       "3 2017-03-20 15:06:08       27          1          0.0    3.0  2017.0  \n",
       "4 2017-03-20 13:30:50       33          1          0.0    3.0  2017.0  "
      ]
     },
     "execution_count": 70,
     "metadata": {},
     "output_type": "execute_result"
    }
   ],
   "source": [
    "comments.head()"
   ]
  },
  {
   "cell_type": "markdown",
   "metadata": {},
   "source": [
    "##### Part 2.3.2. Anonimized clean comments. Exploratory data analysis, visual analysis of the features<a id='part2.3.2'></a>"
   ]
  },
  {
   "cell_type": "markdown",
   "metadata": {},
   "source": [
    "Let's see how comments are distributed by time."
   ]
  },
  {
   "cell_type": "code",
   "execution_count": 71,
   "metadata": {
    "scrolled": false
   },
   "outputs": [
    {
     "data": {
      "image/png": "[encoded data removed]",
      "text/plain": [
       "<Figure size 864x576 with 1 Axes>"
      ]
     },
     "metadata": {},
     "output_type": "display_data"
    }
   ],
   "source": [
    "comments.groupby('commentDate').size().plot(figsize=(12, 8));"
   ]
  },
  {
   "cell_type": "markdown",
   "metadata": {},
   "source": [
    "This is usually 1 or 2 comments. Here we do not see the growth of comments over time, but there is some kind of surge, you can explore it."
   ]
  },
  {
   "cell_type": "code",
   "execution_count": 72,
   "metadata": {},
   "outputs": [
    {
     "data": {
      "text/plain": [
       "employee\n",
       "22_278    23\n",
       "13_1      20\n",
       "10_146    19\n",
       "13_11     19\n",
       "2_38      17\n",
       "dtype: int64"
      ]
     },
     "execution_count": 72,
     "metadata": {},
     "output_type": "execute_result"
    }
   ],
   "source": [
    "comments[(comments['commentDate'] > '2016-09-01') & (comments['commentDate'] < '2016-10-01')].groupby('employee').size().sort_values(ascending=False).head()"
   ]
  },
  {
   "cell_type": "code",
   "execution_count": 73,
   "metadata": {},
   "outputs": [
    {
     "data": {
      "text/html": [
       "<div>\n",
       "<style scoped>\n",
       "    .dataframe tbody tr th:only-of-type {\n",
       "        vertical-align: middle;\n",
       "    }\n",
       "\n",
       "    .dataframe tbody tr th {\n",
       "        vertical-align: top;\n",
       "    }\n",
       "\n",
       "    .dataframe thead th {\n",
       "        text-align: right;\n",
       "    }\n",
       "</style>\n",
       "<table border=\"1\" class=\"dataframe\">\n",
       "  <thead>\n",
       "    <tr style=\"text-align: right;\">\n",
       "      <th></th>\n",
       "      <th>employee</th>\n",
       "      <th>companyAlias</th>\n",
       "      <th>commentId</th>\n",
       "      <th>likes</th>\n",
       "      <th>dislikes</th>\n",
       "      <th>commentDate</th>\n",
       "      <th>txt_len</th>\n",
       "      <th>txt_exist</th>\n",
       "      <th>day_of_week</th>\n",
       "      <th>month</th>\n",
       "      <th>year</th>\n",
       "    </tr>\n",
       "  </thead>\n",
       "  <tbody>\n",
       "    <tr>\n",
       "      <th>59180</th>\n",
       "      <td>22_278</td>\n",
       "      <td>22</td>\n",
       "      <td>57ede598d8f22d00035bd251</td>\n",
       "      <td>6</td>\n",
       "      <td>2</td>\n",
       "      <td>2016-09-30 04:09:12</td>\n",
       "      <td>96</td>\n",
       "      <td>1</td>\n",
       "      <td>4.0</td>\n",
       "      <td>9.0</td>\n",
       "      <td>2016.0</td>\n",
       "    </tr>\n",
       "    <tr>\n",
       "      <th>59188</th>\n",
       "      <td>22_278</td>\n",
       "      <td>22</td>\n",
       "      <td>57ecc6d97a9f230003b279bd</td>\n",
       "      <td>28</td>\n",
       "      <td>3</td>\n",
       "      <td>2016-09-29 07:42:27</td>\n",
       "      <td>378</td>\n",
       "      <td>1</td>\n",
       "      <td>3.0</td>\n",
       "      <td>9.0</td>\n",
       "      <td>2016.0</td>\n",
       "    </tr>\n",
       "    <tr>\n",
       "      <th>59205</th>\n",
       "      <td>22_278</td>\n",
       "      <td>22</td>\n",
       "      <td>57eb5401a3f5a4000311c188</td>\n",
       "      <td>10</td>\n",
       "      <td>0</td>\n",
       "      <td>2016-09-28 05:23:32</td>\n",
       "      <td>91</td>\n",
       "      <td>1</td>\n",
       "      <td>2.0</td>\n",
       "      <td>9.0</td>\n",
       "      <td>2016.0</td>\n",
       "    </tr>\n",
       "    <tr>\n",
       "      <th>59209</th>\n",
       "      <td>22_278</td>\n",
       "      <td>22</td>\n",
       "      <td>57ea9067bad95d0003085945</td>\n",
       "      <td>25</td>\n",
       "      <td>2</td>\n",
       "      <td>2016-09-27 15:28:19</td>\n",
       "      <td>150</td>\n",
       "      <td>1</td>\n",
       "      <td>1.0</td>\n",
       "      <td>9.0</td>\n",
       "      <td>2016.0</td>\n",
       "    </tr>\n",
       "    <tr>\n",
       "      <th>59240</th>\n",
       "      <td>22_278</td>\n",
       "      <td>22</td>\n",
       "      <td>57e64e2880162d00036517b8</td>\n",
       "      <td>7</td>\n",
       "      <td>1</td>\n",
       "      <td>2016-09-24 09:56:13</td>\n",
       "      <td>105</td>\n",
       "      <td>1</td>\n",
       "      <td>5.0</td>\n",
       "      <td>9.0</td>\n",
       "      <td>2016.0</td>\n",
       "    </tr>\n",
       "    <tr>\n",
       "      <th>59244</th>\n",
       "      <td>22_278</td>\n",
       "      <td>22</td>\n",
       "      <td>57e579736d641600035db8f9</td>\n",
       "      <td>3</td>\n",
       "      <td>0</td>\n",
       "      <td>2016-09-23 18:50:00</td>\n",
       "      <td>42</td>\n",
       "      <td>1</td>\n",
       "      <td>4.0</td>\n",
       "      <td>9.0</td>\n",
       "      <td>2016.0</td>\n",
       "    </tr>\n",
       "    <tr>\n",
       "      <th>59262</th>\n",
       "      <td>22_278</td>\n",
       "      <td>22</td>\n",
       "      <td>57e386e7c75edd00036cd12d</td>\n",
       "      <td>8</td>\n",
       "      <td>1</td>\n",
       "      <td>2016-09-22 07:22:06</td>\n",
       "      <td>169</td>\n",
       "      <td>1</td>\n",
       "      <td>3.0</td>\n",
       "      <td>9.0</td>\n",
       "      <td>2016.0</td>\n",
       "    </tr>\n",
       "    <tr>\n",
       "      <th>59268</th>\n",
       "      <td>22_278</td>\n",
       "      <td>22</td>\n",
       "      <td>57e2ab429230820003af1543</td>\n",
       "      <td>22</td>\n",
       "      <td>1</td>\n",
       "      <td>2016-09-21 15:45:33</td>\n",
       "      <td>30</td>\n",
       "      <td>1</td>\n",
       "      <td>2.0</td>\n",
       "      <td>9.0</td>\n",
       "      <td>2016.0</td>\n",
       "    </tr>\n",
       "    <tr>\n",
       "      <th>59283</th>\n",
       "      <td>22_278</td>\n",
       "      <td>22</td>\n",
       "      <td>57e0c6ffdbf1190003416fdc</td>\n",
       "      <td>1</td>\n",
       "      <td>0</td>\n",
       "      <td>2016-09-20 05:19:06</td>\n",
       "      <td>102</td>\n",
       "      <td>1</td>\n",
       "      <td>1.0</td>\n",
       "      <td>9.0</td>\n",
       "      <td>2016.0</td>\n",
       "    </tr>\n",
       "    <tr>\n",
       "      <th>59287</th>\n",
       "      <td>22_278</td>\n",
       "      <td>22</td>\n",
       "      <td>57dfe58b838c0d0003e2ac1a</td>\n",
       "      <td>13</td>\n",
       "      <td>1</td>\n",
       "      <td>2016-09-19 13:17:06</td>\n",
       "      <td>111</td>\n",
       "      <td>1</td>\n",
       "      <td>0.0</td>\n",
       "      <td>9.0</td>\n",
       "      <td>2016.0</td>\n",
       "    </tr>\n",
       "    <tr>\n",
       "      <th>59294</th>\n",
       "      <td>22_278</td>\n",
       "      <td>22</td>\n",
       "      <td>57de65b2eee72c0003326195</td>\n",
       "      <td>20</td>\n",
       "      <td>1</td>\n",
       "      <td>2016-09-18 09:59:37</td>\n",
       "      <td>97</td>\n",
       "      <td>1</td>\n",
       "      <td>6.0</td>\n",
       "      <td>9.0</td>\n",
       "      <td>2016.0</td>\n",
       "    </tr>\n",
       "    <tr>\n",
       "      <th>59298</th>\n",
       "      <td>22_278</td>\n",
       "      <td>22</td>\n",
       "      <td>57dc12758dd88400037b80d9</td>\n",
       "      <td>7</td>\n",
       "      <td>0</td>\n",
       "      <td>2016-09-16 15:40:14</td>\n",
       "      <td>38</td>\n",
       "      <td>1</td>\n",
       "      <td>4.0</td>\n",
       "      <td>9.0</td>\n",
       "      <td>2016.0</td>\n",
       "    </tr>\n",
       "    <tr>\n",
       "      <th>59313</th>\n",
       "      <td>22_278</td>\n",
       "      <td>22</td>\n",
       "      <td>57da8ad226484e0003fbbc7d</td>\n",
       "      <td>13</td>\n",
       "      <td>2</td>\n",
       "      <td>2016-09-15 11:48:39</td>\n",
       "      <td>104</td>\n",
       "      <td>1</td>\n",
       "      <td>3.0</td>\n",
       "      <td>9.0</td>\n",
       "      <td>2016.0</td>\n",
       "    </tr>\n",
       "    <tr>\n",
       "      <th>59322</th>\n",
       "      <td>22_278</td>\n",
       "      <td>22</td>\n",
       "      <td>57d8fa3e2a040a00036a88c2</td>\n",
       "      <td>1</td>\n",
       "      <td>2</td>\n",
       "      <td>2016-09-14 07:19:57</td>\n",
       "      <td>77</td>\n",
       "      <td>1</td>\n",
       "      <td>2.0</td>\n",
       "      <td>9.0</td>\n",
       "      <td>2016.0</td>\n",
       "    </tr>\n",
       "    <tr>\n",
       "      <th>59329</th>\n",
       "      <td>22_278</td>\n",
       "      <td>22</td>\n",
       "      <td>57d79d9e593b0d0003ed7be9</td>\n",
       "      <td>24</td>\n",
       "      <td>0</td>\n",
       "      <td>2016-09-13 06:30:05</td>\n",
       "      <td>383</td>\n",
       "      <td>1</td>\n",
       "      <td>1.0</td>\n",
       "      <td>9.0</td>\n",
       "      <td>2016.0</td>\n",
       "    </tr>\n",
       "    <tr>\n",
       "      <th>59339</th>\n",
       "      <td>22_278</td>\n",
       "      <td>22</td>\n",
       "      <td>57d671777793290003d3df38</td>\n",
       "      <td>22</td>\n",
       "      <td>0</td>\n",
       "      <td>2016-09-12 09:10:53</td>\n",
       "      <td>221</td>\n",
       "      <td>1</td>\n",
       "      <td>0.0</td>\n",
       "      <td>9.0</td>\n",
       "      <td>2016.0</td>\n",
       "    </tr>\n",
       "    <tr>\n",
       "      <th>59360</th>\n",
       "      <td>22_278</td>\n",
       "      <td>22</td>\n",
       "      <td>57d25d0fa22c9d0003dd1f28</td>\n",
       "      <td>0</td>\n",
       "      <td>1</td>\n",
       "      <td>2016-09-09 06:56:02</td>\n",
       "      <td>30</td>\n",
       "      <td>1</td>\n",
       "      <td>4.0</td>\n",
       "      <td>9.0</td>\n",
       "      <td>2016.0</td>\n",
       "    </tr>\n",
       "    <tr>\n",
       "      <th>59369</th>\n",
       "      <td>22_278</td>\n",
       "      <td>22</td>\n",
       "      <td>57d16f3c33b63a0003afd262</td>\n",
       "      <td>3</td>\n",
       "      <td>3</td>\n",
       "      <td>2016-09-08 14:01:31</td>\n",
       "      <td>84</td>\n",
       "      <td>1</td>\n",
       "      <td>3.0</td>\n",
       "      <td>9.0</td>\n",
       "      <td>2016.0</td>\n",
       "    </tr>\n",
       "    <tr>\n",
       "      <th>59381</th>\n",
       "      <td>22_278</td>\n",
       "      <td>22</td>\n",
       "      <td>57cfda3eb27185000396b527</td>\n",
       "      <td>6</td>\n",
       "      <td>2</td>\n",
       "      <td>2016-09-07 09:13:17</td>\n",
       "      <td>23</td>\n",
       "      <td>1</td>\n",
       "      <td>2.0</td>\n",
       "      <td>9.0</td>\n",
       "      <td>2016.0</td>\n",
       "    </tr>\n",
       "    <tr>\n",
       "      <th>59390</th>\n",
       "      <td>22_278</td>\n",
       "      <td>22</td>\n",
       "      <td>57ce67b464a2e10003d54247</td>\n",
       "      <td>5</td>\n",
       "      <td>1</td>\n",
       "      <td>2016-09-06 06:51:10</td>\n",
       "      <td>86</td>\n",
       "      <td>1</td>\n",
       "      <td>1.0</td>\n",
       "      <td>9.0</td>\n",
       "      <td>2016.0</td>\n",
       "    </tr>\n",
       "    <tr>\n",
       "      <th>59394</th>\n",
       "      <td>22_278</td>\n",
       "      <td>22</td>\n",
       "      <td>57cd62afa2fc800003923d52</td>\n",
       "      <td>18</td>\n",
       "      <td>1</td>\n",
       "      <td>2016-09-05 12:16:53</td>\n",
       "      <td>55</td>\n",
       "      <td>1</td>\n",
       "      <td>0.0</td>\n",
       "      <td>9.0</td>\n",
       "      <td>2016.0</td>\n",
       "    </tr>\n",
       "    <tr>\n",
       "      <th>59408</th>\n",
       "      <td>22_278</td>\n",
       "      <td>22</td>\n",
       "      <td>57c9220da550ce0003eb5e52</td>\n",
       "      <td>12</td>\n",
       "      <td>0</td>\n",
       "      <td>2016-09-02 06:52:09</td>\n",
       "      <td>226</td>\n",
       "      <td>1</td>\n",
       "      <td>4.0</td>\n",
       "      <td>9.0</td>\n",
       "      <td>2016.0</td>\n",
       "    </tr>\n",
       "    <tr>\n",
       "      <th>59423</th>\n",
       "      <td>22_278</td>\n",
       "      <td>22</td>\n",
       "      <td>57c7c9faef7b020003186991</td>\n",
       "      <td>6</td>\n",
       "      <td>1</td>\n",
       "      <td>2016-09-01 06:25:25</td>\n",
       "      <td>86</td>\n",
       "      <td>1</td>\n",
       "      <td>3.0</td>\n",
       "      <td>9.0</td>\n",
       "      <td>2016.0</td>\n",
       "    </tr>\n",
       "  </tbody>\n",
       "</table>\n",
       "</div>"
      ],
      "text/plain": [
       "      employee  companyAlias                 commentId  likes  dislikes  \\\n",
       "59180   22_278            22  57ede598d8f22d00035bd251      6         2   \n",
       "59188   22_278            22  57ecc6d97a9f230003b279bd     28         3   \n",
       "59205   22_278            22  57eb5401a3f5a4000311c188     10         0   \n",
       "59209   22_278            22  57ea9067bad95d0003085945     25         2   \n",
       "59240   22_278            22  57e64e2880162d00036517b8      7         1   \n",
       "59244   22_278            22  57e579736d641600035db8f9      3         0   \n",
       "59262   22_278            22  57e386e7c75edd00036cd12d      8         1   \n",
       "59268   22_278            22  57e2ab429230820003af1543     22         1   \n",
       "59283   22_278            22  57e0c6ffdbf1190003416fdc      1         0   \n",
       "59287   22_278            22  57dfe58b838c0d0003e2ac1a     13         1   \n",
       "59294   22_278            22  57de65b2eee72c0003326195     20         1   \n",
       "59298   22_278            22  57dc12758dd88400037b80d9      7         0   \n",
       "59313   22_278            22  57da8ad226484e0003fbbc7d     13         2   \n",
       "59322   22_278            22  57d8fa3e2a040a00036a88c2      1         2   \n",
       "59329   22_278            22  57d79d9e593b0d0003ed7be9     24         0   \n",
       "59339   22_278            22  57d671777793290003d3df38     22         0   \n",
       "59360   22_278            22  57d25d0fa22c9d0003dd1f28      0         1   \n",
       "59369   22_278            22  57d16f3c33b63a0003afd262      3         3   \n",
       "59381   22_278            22  57cfda3eb27185000396b527      6         2   \n",
       "59390   22_278            22  57ce67b464a2e10003d54247      5         1   \n",
       "59394   22_278            22  57cd62afa2fc800003923d52     18         1   \n",
       "59408   22_278            22  57c9220da550ce0003eb5e52     12         0   \n",
       "59423   22_278            22  57c7c9faef7b020003186991      6         1   \n",
       "\n",
       "              commentDate  txt_len  txt_exist  day_of_week  month    year  \n",
       "59180 2016-09-30 04:09:12       96          1          4.0    9.0  2016.0  \n",
       "59188 2016-09-29 07:42:27      378          1          3.0    9.0  2016.0  \n",
       "59205 2016-09-28 05:23:32       91          1          2.0    9.0  2016.0  \n",
       "59209 2016-09-27 15:28:19      150          1          1.0    9.0  2016.0  \n",
       "59240 2016-09-24 09:56:13      105          1          5.0    9.0  2016.0  \n",
       "59244 2016-09-23 18:50:00       42          1          4.0    9.0  2016.0  \n",
       "59262 2016-09-22 07:22:06      169          1          3.0    9.0  2016.0  \n",
       "59268 2016-09-21 15:45:33       30          1          2.0    9.0  2016.0  \n",
       "59283 2016-09-20 05:19:06      102          1          1.0    9.0  2016.0  \n",
       "59287 2016-09-19 13:17:06      111          1          0.0    9.0  2016.0  \n",
       "59294 2016-09-18 09:59:37       97          1          6.0    9.0  2016.0  \n",
       "59298 2016-09-16 15:40:14       38          1          4.0    9.0  2016.0  \n",
       "59313 2016-09-15 11:48:39      104          1          3.0    9.0  2016.0  \n",
       "59322 2016-09-14 07:19:57       77          1          2.0    9.0  2016.0  \n",
       "59329 2016-09-13 06:30:05      383          1          1.0    9.0  2016.0  \n",
       "59339 2016-09-12 09:10:53      221          1          0.0    9.0  2016.0  \n",
       "59360 2016-09-09 06:56:02       30          1          4.0    9.0  2016.0  \n",
       "59369 2016-09-08 14:01:31       84          1          3.0    9.0  2016.0  \n",
       "59381 2016-09-07 09:13:17       23          1          2.0    9.0  2016.0  \n",
       "59390 2016-09-06 06:51:10       86          1          1.0    9.0  2016.0  \n",
       "59394 2016-09-05 12:16:53       55          1          0.0    9.0  2016.0  \n",
       "59408 2016-09-02 06:52:09      226          1          4.0    9.0  2016.0  \n",
       "59423 2016-09-01 06:25:25       86          1          3.0    9.0  2016.0  "
      ]
     },
     "execution_count": 73,
     "metadata": {},
     "output_type": "execute_result"
    }
   ],
   "source": [
    "comments[\n",
    "    (comments['commentDate'] > '2016-09-01') & \n",
    "    (comments['commentDate'] < '2016-10-01') &\n",
    "    (comments['employee'] == '22_278')\n",
    "]"
   ]
  },
  {
   "cell_type": "markdown",
   "metadata": {},
   "source": [
    "The employee actually writes messages of different lengths, and judging by likes, his colleagues like them.<br>\n",
    "Let's see, does he still work?"
   ]
  },
  {
   "cell_type": "code",
   "execution_count": 74,
   "metadata": {},
   "outputs": [
    {
     "data": {
      "text/html": [
       "<div>\n",
       "<style scoped>\n",
       "    .dataframe tbody tr th:only-of-type {\n",
       "        vertical-align: middle;\n",
       "    }\n",
       "\n",
       "    .dataframe tbody tr th {\n",
       "        vertical-align: top;\n",
       "    }\n",
       "\n",
       "    .dataframe thead th {\n",
       "        text-align: right;\n",
       "    }\n",
       "</style>\n",
       "<table border=\"1\" class=\"dataframe\">\n",
       "  <thead>\n",
       "    <tr style=\"text-align: right;\">\n",
       "      <th></th>\n",
       "      <th>employee</th>\n",
       "      <th>companyAlias</th>\n",
       "      <th>numVotes</th>\n",
       "      <th>lastParticipationDate</th>\n",
       "      <th>target</th>\n",
       "    </tr>\n",
       "  </thead>\n",
       "  <tbody>\n",
       "    <tr>\n",
       "      <th>3287</th>\n",
       "      <td>22_278</td>\n",
       "      <td>22</td>\n",
       "      <td>184</td>\n",
       "      <td>2017-03-15 17:32:04</td>\n",
       "      <td>0</td>\n",
       "    </tr>\n",
       "  </tbody>\n",
       "</table>\n",
       "</div>"
      ],
      "text/plain": [
       "     employee  companyAlias  numVotes lastParticipationDate  target\n",
       "3287   22_278            22       184   2017-03-15 17:32:04       0"
      ]
     },
     "execution_count": 74,
     "metadata": {},
     "output_type": "execute_result"
    }
   ],
   "source": [
    "churn[churn['employee'] == '22_278']"
   ]
  },
  {
   "cell_type": "markdown",
   "metadata": {},
   "source": [
    "Yes, this employee is still working. I assume that the **presence and length of the text** are good features"
   ]
  },
  {
   "cell_type": "markdown",
   "metadata": {},
   "source": [
    "How many comments can be written per day?"
   ]
  },
  {
   "cell_type": "code",
   "execution_count": 75,
   "metadata": {},
   "outputs": [
    {
     "data": {
      "text/plain": [
       "2"
      ]
     },
     "execution_count": 75,
     "metadata": {},
     "output_type": "execute_result"
    }
   ],
   "source": [
    "comments.groupby(['commentDate', 'employee']).size().max()"
   ]
  },
  {
   "cell_type": "markdown",
   "metadata": {},
   "source": [
    "Let's look at a couple of graphs with likes and dislikes."
   ]
  },
  {
   "cell_type": "code",
   "execution_count": 76,
   "metadata": {},
   "outputs": [
    {
     "data": {
      "image/png": "[encoded data removed]",
      "text/plain": [
       "<Figure size 432x288 with 1 Axes>"
      ]
     },
     "metadata": {},
     "output_type": "display_data"
    }
   ],
   "source": [
    "sns.boxplot(x='month', y='likes', data=comments);"
   ]
  },
  {
   "cell_type": "code",
   "execution_count": 77,
   "metadata": {},
   "outputs": [
    {
     "data": {
      "image/png": "[encoded data removed]",
      "text/plain": [
       "<Figure size 432x288 with 1 Axes>"
      ]
     },
     "metadata": {},
     "output_type": "display_data"
    }
   ],
   "source": [
    "sns.boxplot(x='month', y='dislikes', data=comments);"
   ]
  },
  {
   "cell_type": "code",
   "execution_count": 78,
   "metadata": {},
   "outputs": [
    {
     "data": {
      "image/png": "[encoded data removed]",
      "text/plain": [
       "<Figure size 432x288 with 1 Axes>"
      ]
     },
     "metadata": {},
     "output_type": "display_data"
    }
   ],
   "source": [
    "sns.boxplot(x='day_of_week', y='likes', data=comments);"
   ]
  },
  {
   "cell_type": "markdown",
   "metadata": {},
   "source": [
    "Interestingly, there are not so many votes on weekends, but comments written on weekends collect a lot of likes, as seen in the diagram above."
   ]
  },
  {
   "cell_type": "code",
   "execution_count": 79,
   "metadata": {},
   "outputs": [
    {
     "data": {
      "image/png": "[encoded data removed]",
      "text/plain": [
       "<Figure size 432x288 with 1 Axes>"
      ]
     },
     "metadata": {},
     "output_type": "display_data"
    }
   ],
   "source": [
    "comments['likes'].hist(bins=20);"
   ]
  },
  {
   "cell_type": "code",
   "execution_count": 80,
   "metadata": {},
   "outputs": [
    {
     "data": {
      "image/png": "[encoded data removed]",
      "text/plain": [
       "<Figure size 432x288 with 1 Axes>"
      ]
     },
     "metadata": {},
     "output_type": "display_data"
    }
   ],
   "source": [
    "comments['dislikes'].hist(bins=20);"
   ]
  },
  {
   "cell_type": "markdown",
   "metadata": {},
   "source": [
    "Let's check the relationship between lenght text and the number of likes."
   ]
  },
  {
   "cell_type": "code",
   "execution_count": 81,
   "metadata": {},
   "outputs": [
    {
     "data": {
      "image/png": "[encoded data removed]",
      "text/plain": [
       "<Figure size 432x288 with 1 Axes>"
      ]
     },
     "metadata": {},
     "output_type": "display_data"
    }
   ],
   "source": [
    "plt.scatter(x=comments['txt_len'], y=comments['likes'])\n",
    "# plt.label(label='Correlation bitween length of text and likes')\n",
    "plt.xlabel('Lenght of text')\n",
    "plt.ylabel('Number of likes')\n",
    "plt.show()"
   ]
  },
  {
   "cell_type": "markdown",
   "metadata": {},
   "source": [
    "We cannot interpret the graph because of the text 30k long. Let's fix it."
   ]
  },
  {
   "cell_type": "code",
   "execution_count": 82,
   "metadata": {},
   "outputs": [
    {
     "data": {
      "image/png": "[encoded data removed]",
      "text/plain": [
       "<Figure size 432x288 with 1 Axes>"
      ]
     },
     "metadata": {},
     "output_type": "display_data"
    }
   ],
   "source": [
    "plt.scatter(x=comments[comments['txt_len'] < 3000]['txt_len'], y=comments[comments['txt_len'] < 3000]['likes'])\n",
    "plt.xlabel('Lenght of text')\n",
    "plt.ylabel('Number of likes')\n",
    "plt.show()"
   ]
  },
  {
   "cell_type": "markdown",
   "metadata": {},
   "source": [
    "There is no clear relationship. A large number of likes can get short comments, and a little long ones."
   ]
  },
  {
   "cell_type": "code",
   "execution_count": 83,
   "metadata": {},
   "outputs": [
    {
     "name": "stdout",
     "output_type": "stream",
     "text": [
      "<class 'pandas.core.frame.DataFrame'>\n",
      "Int64Index: 38993 entries, 0 to 81636\n",
      "Data columns (total 11 columns):\n",
      "employee        38993 non-null object\n",
      "companyAlias    38993 non-null int64\n",
      "commentId       38993 non-null object\n",
      "likes           38993 non-null int64\n",
      "dislikes        38993 non-null int64\n",
      "commentDate     38993 non-null datetime64[ns]\n",
      "txt_len         38993 non-null int64\n",
      "txt_exist       38993 non-null int64\n",
      "day_of_week     38993 non-null float64\n",
      "month           38993 non-null float64\n",
      "year            38993 non-null float64\n",
      "dtypes: datetime64[ns](1), float64(3), int64(5), object(2)\n",
      "memory usage: 4.8+ MB\n"
     ]
    }
   ],
   "source": [
    "comments.info()"
   ]
  },
  {
   "cell_type": "markdown",
   "metadata": {},
   "source": [
    "There is one dirty record, I know what this record is, it is the last one in this dataset"
   ]
  },
  {
   "cell_type": "code",
   "execution_count": 84,
   "metadata": {},
   "outputs": [
    {
     "data": {
      "text/html": [
       "<div>\n",
       "<style scoped>\n",
       "    .dataframe tbody tr th:only-of-type {\n",
       "        vertical-align: middle;\n",
       "    }\n",
       "\n",
       "    .dataframe tbody tr th {\n",
       "        vertical-align: top;\n",
       "    }\n",
       "\n",
       "    .dataframe thead th {\n",
       "        text-align: right;\n",
       "    }\n",
       "</style>\n",
       "<table border=\"1\" class=\"dataframe\">\n",
       "  <thead>\n",
       "    <tr style=\"text-align: right;\">\n",
       "      <th></th>\n",
       "      <th>employee</th>\n",
       "      <th>companyAlias</th>\n",
       "      <th>commentId</th>\n",
       "      <th>likes</th>\n",
       "      <th>dislikes</th>\n",
       "      <th>commentDate</th>\n",
       "      <th>txt_len</th>\n",
       "      <th>txt_exist</th>\n",
       "      <th>day_of_week</th>\n",
       "      <th>month</th>\n",
       "      <th>year</th>\n",
       "    </tr>\n",
       "  </thead>\n",
       "  <tbody>\n",
       "    <tr>\n",
       "      <th>81636</th>\n",
       "      <td>35_1</td>\n",
       "      <td>35</td>\n",
       "      <td>58a73005e75bda00042a3472</td>\n",
       "      <td>12</td>\n",
       "      <td>0</td>\n",
       "      <td>2017-02-17 17:16:25</td>\n",
       "      <td>52</td>\n",
       "      <td>1</td>\n",
       "      <td>4.0</td>\n",
       "      <td>2.0</td>\n",
       "      <td>2017.0</td>\n",
       "    </tr>\n",
       "  </tbody>\n",
       "</table>\n",
       "</div>"
      ],
      "text/plain": [
       "      employee  companyAlias                 commentId  likes  dislikes  \\\n",
       "81636     35_1            35  58a73005e75bda00042a3472     12         0   \n",
       "\n",
       "              commentDate  txt_len  txt_exist  day_of_week  month    year  \n",
       "81636 2017-02-17 17:16:25       52          1          4.0    2.0  2017.0  "
      ]
     },
     "execution_count": 84,
     "metadata": {},
     "output_type": "execute_result"
    }
   ],
   "source": [
    "comments[-1:]"
   ]
  },
  {
   "cell_type": "markdown",
   "metadata": {},
   "source": [
    "Perhaps, when downloading data from the application, it appeared."
   ]
  },
  {
   "cell_type": "code",
   "execution_count": 85,
   "metadata": {},
   "outputs": [],
   "source": [
    "comments.dropna(inplace=True)"
   ]
  },
  {
   "cell_type": "markdown",
   "metadata": {},
   "source": [
    "Lastly, we look at the correlation of features"
   ]
  },
  {
   "cell_type": "code",
   "execution_count": 86,
   "metadata": {},
   "outputs": [
    {
     "data": {
      "image/png": "[encoded data removed]",
      "text/plain": [
       "<Figure size 432x288 with 2 Axes>"
      ]
     },
     "metadata": {},
     "output_type": "display_data"
    }
   ],
   "source": [
    "sns.heatmap(comments.corr());"
   ]
  },
  {
   "cell_type": "markdown",
   "metadata": {},
   "source": [
    "The dependence of likes and length of the text is highlighted."
   ]
  },
  {
   "cell_type": "markdown",
   "metadata": {},
   "source": [
    "##### 2.3.3.  Anonimized clean comments. Patterns, insights, pecularities of data<a id='part2.3.3'></a>"
   ]
  },
  {
   "cell_type": "markdown",
   "metadata": {},
   "source": [
    "In this data set, we noticed several important observations:\n",
    "\n",
    "1. There is a text with a very long one.\n",
    "2. There is a slight relationship between likes and long text.\n",
    "3. There are no people in the data who would write more than 2 comments per day.\n",
    "4. Comments written on the weekend, collect more likes.\n",
    "5. No data gaps."
   ]
  },
  {
   "cell_type": "markdown",
   "metadata": {},
   "source": [
    "#### Part 2.4. Interactions with comments<a id='part2.4'></a>"
   ]
  },
  {
   "cell_type": "markdown",
   "metadata": {},
   "source": [
    "##### Part 2.4.1.  Interactions with comments. Dataset and features description<a id='part2.4.1'></a>"
   ]
  },
  {
   "cell_type": "markdown",
   "metadata": {},
   "source": [
    "The file **commentInteractions.csv** contains information about which employee liked or disliked a given comment.\n",
    "\n",
    "- **employee**: An integer id that identifies an employee inside a company.\n",
    "- **companyAlias**: A hash id for a given company.\n",
    "- **commentId**: A unique id for a given comment that allows us to relate it with the comments in anon_comments.csv.\n",
    "- **liked**: A boolean that is True if the employee liked the comment.\n",
    "- **disliked**: A boolean that is True if the employee disliked the comment."
   ]
  },
  {
   "cell_type": "code",
   "execution_count": 87,
   "metadata": {},
   "outputs": [
    {
     "data": {
      "text/html": [
       "<div>\n",
       "<style scoped>\n",
       "    .dataframe tbody tr th:only-of-type {\n",
       "        vertical-align: middle;\n",
       "    }\n",
       "\n",
       "    .dataframe tbody tr th {\n",
       "        vertical-align: top;\n",
       "    }\n",
       "\n",
       "    .dataframe thead th {\n",
       "        text-align: right;\n",
       "    }\n",
       "</style>\n",
       "<table border=\"1\" class=\"dataframe\">\n",
       "  <thead>\n",
       "    <tr style=\"text-align: right;\">\n",
       "      <th></th>\n",
       "      <th>employee</th>\n",
       "      <th>companyAlias</th>\n",
       "      <th>liked</th>\n",
       "      <th>disliked</th>\n",
       "      <th>commentId</th>\n",
       "    </tr>\n",
       "  </thead>\n",
       "  <tbody>\n",
       "    <tr>\n",
       "      <th>0</th>\n",
       "      <td>307</td>\n",
       "      <td>56aec740f1ef260003e307d6</td>\n",
       "      <td>1.0</td>\n",
       "      <td>0.0</td>\n",
       "      <td>58d018d7e010990004e38070</td>\n",
       "    </tr>\n",
       "    <tr>\n",
       "      <th>1</th>\n",
       "      <td>36</td>\n",
       "      <td>56aec740f1ef260003e307d6</td>\n",
       "      <td>1.0</td>\n",
       "      <td>0.0</td>\n",
       "      <td>58d018d7e010990004e38070</td>\n",
       "    </tr>\n",
       "    <tr>\n",
       "      <th>2</th>\n",
       "      <td>276</td>\n",
       "      <td>56aec740f1ef260003e307d6</td>\n",
       "      <td>1.0</td>\n",
       "      <td>0.0</td>\n",
       "      <td>58d018d7e010990004e38070</td>\n",
       "    </tr>\n",
       "    <tr>\n",
       "      <th>3</th>\n",
       "      <td>24</td>\n",
       "      <td>56aec740f1ef260003e307d6</td>\n",
       "      <td>1.0</td>\n",
       "      <td>0.0</td>\n",
       "      <td>58d018d7e010990004e38070</td>\n",
       "    </tr>\n",
       "    <tr>\n",
       "      <th>4</th>\n",
       "      <td>382</td>\n",
       "      <td>56aec740f1ef260003e307d6</td>\n",
       "      <td>1.0</td>\n",
       "      <td>0.0</td>\n",
       "      <td>58d0179ae010990004e3806d</td>\n",
       "    </tr>\n",
       "  </tbody>\n",
       "</table>\n",
       "</div>"
      ],
      "text/plain": [
       "   employee              companyAlias  liked  disliked  \\\n",
       "0       307  56aec740f1ef260003e307d6    1.0       0.0   \n",
       "1        36  56aec740f1ef260003e307d6    1.0       0.0   \n",
       "2       276  56aec740f1ef260003e307d6    1.0       0.0   \n",
       "3        24  56aec740f1ef260003e307d6    1.0       0.0   \n",
       "4       382  56aec740f1ef260003e307d6    1.0       0.0   \n",
       "\n",
       "                  commentId  \n",
       "0  58d018d7e010990004e38070  \n",
       "1  58d018d7e010990004e38070  \n",
       "2  58d018d7e010990004e38070  \n",
       "3  58d018d7e010990004e38070  \n",
       "4  58d0179ae010990004e3806d  "
      ]
     },
     "execution_count": 87,
     "metadata": {},
     "output_type": "execute_result"
    }
   ],
   "source": [
    "comments_inters = pd.read_csv('data/indiv/commentInteractions.csv',\n",
    "                              dtype={\n",
    "                                  'employee': np.int32, \n",
    "                                  'liked': np.int32, \n",
    "                                  'disliked': np.int32\n",
    "                              }).drop_duplicates().dropna()\n",
    "comments_inters.head()"
   ]
  },
  {
   "cell_type": "code",
   "execution_count": 88,
   "metadata": {},
   "outputs": [
    {
     "name": "stdout",
     "output_type": "stream",
     "text": [
      "<class 'pandas.core.frame.DataFrame'>\n",
      "Int64Index: 336952 entries, 0 to 336958\n",
      "Data columns (total 5 columns):\n",
      "employee        336952 non-null int32\n",
      "companyAlias    336952 non-null object\n",
      "liked           336952 non-null float64\n",
      "disliked        336952 non-null float64\n",
      "commentId       336952 non-null object\n",
      "dtypes: float64(2), int32(1), object(2)\n",
      "memory usage: 14.1+ MB\n"
     ]
    }
   ],
   "source": [
    "comments_inters.info()"
   ]
  },
  {
   "cell_type": "code",
   "execution_count": 89,
   "metadata": {},
   "outputs": [],
   "source": [
    "comments_inters['companyAlias'] = comments_inters['companyAlias'].map(companies_map).astype('int')\n",
    "comments_inters = comments_inters[comments_inters['employee'] >= 0]"
   ]
  },
  {
   "cell_type": "markdown",
   "metadata": {},
   "source": [
    "Create unique employees ids<p>"
   ]
  },
  {
   "cell_type": "code",
   "execution_count": 90,
   "metadata": {},
   "outputs": [],
   "source": [
    "comments_inters['employee'] = comments_inters['companyAlias'].astype(str)+\"_\"+comments_inters['employee'].astype(str)"
   ]
  },
  {
   "cell_type": "code",
   "execution_count": 91,
   "metadata": {},
   "outputs": [
    {
     "data": {
      "text/html": [
       "<div>\n",
       "<style scoped>\n",
       "    .dataframe tbody tr th:only-of-type {\n",
       "        vertical-align: middle;\n",
       "    }\n",
       "\n",
       "    .dataframe tbody tr th {\n",
       "        vertical-align: top;\n",
       "    }\n",
       "\n",
       "    .dataframe thead th {\n",
       "        text-align: right;\n",
       "    }\n",
       "</style>\n",
       "<table border=\"1\" class=\"dataframe\">\n",
       "  <thead>\n",
       "    <tr style=\"text-align: right;\">\n",
       "      <th></th>\n",
       "      <th>employee</th>\n",
       "      <th>companyAlias</th>\n",
       "      <th>liked</th>\n",
       "      <th>disliked</th>\n",
       "      <th>commentId</th>\n",
       "    </tr>\n",
       "  </thead>\n",
       "  <tbody>\n",
       "    <tr>\n",
       "      <th>0</th>\n",
       "      <td>0_307</td>\n",
       "      <td>0</td>\n",
       "      <td>1.0</td>\n",
       "      <td>0.0</td>\n",
       "      <td>58d018d7e010990004e38070</td>\n",
       "    </tr>\n",
       "    <tr>\n",
       "      <th>1</th>\n",
       "      <td>0_36</td>\n",
       "      <td>0</td>\n",
       "      <td>1.0</td>\n",
       "      <td>0.0</td>\n",
       "      <td>58d018d7e010990004e38070</td>\n",
       "    </tr>\n",
       "    <tr>\n",
       "      <th>2</th>\n",
       "      <td>0_276</td>\n",
       "      <td>0</td>\n",
       "      <td>1.0</td>\n",
       "      <td>0.0</td>\n",
       "      <td>58d018d7e010990004e38070</td>\n",
       "    </tr>\n",
       "    <tr>\n",
       "      <th>3</th>\n",
       "      <td>0_24</td>\n",
       "      <td>0</td>\n",
       "      <td>1.0</td>\n",
       "      <td>0.0</td>\n",
       "      <td>58d018d7e010990004e38070</td>\n",
       "    </tr>\n",
       "    <tr>\n",
       "      <th>4</th>\n",
       "      <td>0_382</td>\n",
       "      <td>0</td>\n",
       "      <td>1.0</td>\n",
       "      <td>0.0</td>\n",
       "      <td>58d0179ae010990004e3806d</td>\n",
       "    </tr>\n",
       "  </tbody>\n",
       "</table>\n",
       "</div>"
      ],
      "text/plain": [
       "  employee  companyAlias  liked  disliked                 commentId\n",
       "0    0_307             0    1.0       0.0  58d018d7e010990004e38070\n",
       "1     0_36             0    1.0       0.0  58d018d7e010990004e38070\n",
       "2    0_276             0    1.0       0.0  58d018d7e010990004e38070\n",
       "3     0_24             0    1.0       0.0  58d018d7e010990004e38070\n",
       "4    0_382             0    1.0       0.0  58d0179ae010990004e3806d"
      ]
     },
     "execution_count": 91,
     "metadata": {},
     "output_type": "execute_result"
    }
   ],
   "source": [
    "comments_inters.head()"
   ]
  },
  {
   "cell_type": "markdown",
   "metadata": {},
   "source": [
    "How many likes and dislikes by companies"
   ]
  },
  {
   "cell_type": "code",
   "execution_count": 92,
   "metadata": {
    "scrolled": false
   },
   "outputs": [
    {
     "data": {
      "text/plain": [
       "10    63786\n",
       "13    44427\n",
       "0     42153\n",
       "30    41361\n",
       "22    29297\n",
       "Name: companyAlias, dtype: int64"
      ]
     },
     "execution_count": 92,
     "metadata": {},
     "output_type": "execute_result"
    }
   ],
   "source": [
    "comments_inters['companyAlias'].value_counts().head()"
   ]
  },
  {
   "cell_type": "markdown",
   "metadata": {},
   "source": [
    "Distribution of **likes** by company"
   ]
  },
  {
   "cell_type": "markdown",
   "metadata": {},
   "source": [
    "By one record employee can liked or disliked, but not together"
   ]
  },
  {
   "cell_type": "code",
   "execution_count": 93,
   "metadata": {},
   "outputs": [
    {
     "data": {
      "text/plain": [
       "0"
      ]
     },
     "execution_count": 93,
     "metadata": {},
     "output_type": "execute_result"
    }
   ],
   "source": [
    "len(comments_inters[\n",
    "    (comments_inters['liked'] == False) & (comments_inters['disliked'] == False)\n",
    "]) "
   ]
  },
  {
   "cell_type": "markdown",
   "metadata": {},
   "source": [
    "##### Part 2.4.2. Interactions with comments. Exploratory data analysis, visual analysis of the features<a id='part2.4.2'></a>"
   ]
  },
  {
   "cell_type": "code",
   "execution_count": 94,
   "metadata": {},
   "outputs": [
    {
     "data": {
      "image/png": "[encoded data removed]",
      "text/plain": [
       "<Figure size 432x288 with 1 Axes>"
      ]
     },
     "metadata": {},
     "output_type": "display_data"
    }
   ],
   "source": [
    "comments_inters[comments_inters['liked'] == True].groupby('companyAlias').size().sort_values().plot(kind='bar');"
   ]
  },
  {
   "cell_type": "markdown",
   "metadata": {},
   "source": [
    "Distribution of **dislikes** by company"
   ]
  },
  {
   "cell_type": "code",
   "execution_count": 95,
   "metadata": {},
   "outputs": [
    {
     "data": {
      "image/png": "[encoded data removed]",
      "text/plain": [
       "<Figure size 432x288 with 1 Axes>"
      ]
     },
     "metadata": {},
     "output_type": "display_data"
    }
   ],
   "source": [
    "comments_inters[comments_inters['liked'] == False].groupby('companyAlias').size().sort_values().plot(kind='bar');"
   ]
  },
  {
   "cell_type": "markdown",
   "metadata": {},
   "source": [
    "In big companies expectedly most like and dislike"
   ]
  },
  {
   "cell_type": "markdown",
   "metadata": {},
   "source": [
    "Look at the number of employees in the company and how many likes and dislikes per employee"
   ]
  },
  {
   "cell_type": "code",
   "execution_count": 96,
   "metadata": {},
   "outputs": [
    {
     "data": {
      "image/png": "[encoded data removed]",
      "text/plain": [
       "<Figure size 432x288 with 1 Axes>"
      ]
     },
     "metadata": {},
     "output_type": "display_data"
    }
   ],
   "source": [
    "churn.groupby('companyAlias')['employee'].size().sort_values().plot(kind='bar');"
   ]
  },
  {
   "cell_type": "markdown",
   "metadata": {},
   "source": [
    "key - Interactions per employee, value - number employees"
   ]
  },
  {
   "cell_type": "code",
   "execution_count": 97,
   "metadata": {},
   "outputs": [
    {
     "data": {
      "text/plain": [
       "{nan: 10,\n",
       " 0.0: 34,\n",
       " 1.0: 12,\n",
       " 2.0: 9,\n",
       " 3.0: 21,\n",
       " 5.0: 60,\n",
       " 9.0: 45,\n",
       " 13.0: 259,\n",
       " 19.0: 220,\n",
       " 21.0: 67,\n",
       " 22.0: 76,\n",
       " 28.0: 163,\n",
       " 29.0: 144,\n",
       " 36.0: 379,\n",
       " 38.0: 74,\n",
       " 42.0: 44,\n",
       " 43.0: 48,\n",
       " 48.0: 221,\n",
       " 50.0: 47,\n",
       " 55.0: 138,\n",
       " 73.0: 171,\n",
       " 82.0: 135,\n",
       " 120.0: 350,\n",
       " 201.0: 221,\n",
       " 216.0: 191,\n",
       " nan: 2,\n",
       " nan: 9,\n",
       " 99.0: 293,\n",
       " 111.0: 572,\n",
       " 119.0: 101}"
      ]
     },
     "execution_count": 97,
     "metadata": {},
     "output_type": "execute_result"
    }
   ],
   "source": [
    "dict(zip((comments_inters.groupby('companyAlias').size() // churn.groupby('companyAlias').size()), churn.groupby('companyAlias').size()))"
   ]
  },
  {
   "cell_type": "markdown",
   "metadata": {},
   "source": [
    "We may notice that very small companies have no records"
   ]
  },
  {
   "cell_type": "code",
   "execution_count": 98,
   "metadata": {},
   "outputs": [
    {
     "data": {
      "image/png": "[encoded data removed]",
      "text/plain": [
       "<Figure size 432x288 with 1 Axes>"
      ]
     },
     "metadata": {},
     "output_type": "display_data"
    }
   ],
   "source": [
    "plt.scatter(\n",
    "    x=comments_inters.groupby('companyAlias').size() // churn.groupby('companyAlias').size(), \n",
    "    y=churn.groupby('companyAlias').size()\n",
    ")\n",
    "plt.title('Interactions per employee and number employees in company')\n",
    "plt.xlabel('likes and dislikes per employee')\n",
    "plt.ylabel('number employees in company')\n",
    "plt.show()"
   ]
  },
  {
   "cell_type": "markdown",
   "metadata": {},
   "source": [
    "Let's see how much an employee can do interactions"
   ]
  },
  {
   "cell_type": "code",
   "execution_count": 99,
   "metadata": {},
   "outputs": [
    {
     "data": {
      "image/png": "[encoded data removed]",
      "text/plain": [
       "<Figure size 432x288 with 1 Axes>"
      ]
     },
     "metadata": {},
     "output_type": "display_data"
    }
   ],
   "source": [
    "comments_inters.groupby('employee').size().sort_values(ascending=False).head(50).plot(kind='bar');"
   ]
  },
  {
   "cell_type": "code",
   "execution_count": 100,
   "metadata": {},
   "outputs": [
    {
     "data": {
      "text/plain": [
       "103.10486177311725"
      ]
     },
     "execution_count": 100,
     "metadata": {},
     "output_type": "execute_result"
    }
   ],
   "source": [
    "comments_inters.groupby('employee').size().mean()"
   ]
  },
  {
   "cell_type": "markdown",
   "metadata": {},
   "source": [
    "There is an assumption that the more active the employee, the higher the likelihood that he works. Let's see if these employees work yet."
   ]
  },
  {
   "cell_type": "code",
   "execution_count": 101,
   "metadata": {},
   "outputs": [
    {
     "data": {
      "text/html": [
       "<div>\n",
       "<style scoped>\n",
       "    .dataframe tbody tr th:only-of-type {\n",
       "        vertical-align: middle;\n",
       "    }\n",
       "\n",
       "    .dataframe tbody tr th {\n",
       "        vertical-align: top;\n",
       "    }\n",
       "\n",
       "    .dataframe thead th {\n",
       "        text-align: right;\n",
       "    }\n",
       "</style>\n",
       "<table border=\"1\" class=\"dataframe\">\n",
       "  <thead>\n",
       "    <tr style=\"text-align: right;\">\n",
       "      <th></th>\n",
       "      <th>employee</th>\n",
       "      <th>companyAlias</th>\n",
       "      <th>numVotes</th>\n",
       "      <th>lastParticipationDate</th>\n",
       "      <th>target</th>\n",
       "    </tr>\n",
       "  </thead>\n",
       "  <tbody>\n",
       "    <tr>\n",
       "      <th>35</th>\n",
       "      <td>0_24</td>\n",
       "      <td>0</td>\n",
       "      <td>404</td>\n",
       "      <td>2017-03-20 18:00:17</td>\n",
       "      <td>0</td>\n",
       "    </tr>\n",
       "    <tr>\n",
       "      <th>97</th>\n",
       "      <td>0_101</td>\n",
       "      <td>0</td>\n",
       "      <td>312</td>\n",
       "      <td>2017-03-20 07:11:08</td>\n",
       "      <td>0</td>\n",
       "    </tr>\n",
       "    <tr>\n",
       "      <th>138</th>\n",
       "      <td>0_152</td>\n",
       "      <td>0</td>\n",
       "      <td>371</td>\n",
       "      <td>2017-03-20 15:44:02</td>\n",
       "      <td>0</td>\n",
       "    </tr>\n",
       "    <tr>\n",
       "      <th>177</th>\n",
       "      <td>0_209</td>\n",
       "      <td>0</td>\n",
       "      <td>314</td>\n",
       "      <td>2017-03-20 00:00:00</td>\n",
       "      <td>0</td>\n",
       "    </tr>\n",
       "    <tr>\n",
       "      <th>1320</th>\n",
       "      <td>8_45</td>\n",
       "      <td>8</td>\n",
       "      <td>185</td>\n",
       "      <td>2017-03-20 12:13:38</td>\n",
       "      <td>0</td>\n",
       "    </tr>\n",
       "    <tr>\n",
       "      <th>1535</th>\n",
       "      <td>10_34</td>\n",
       "      <td>10</td>\n",
       "      <td>456</td>\n",
       "      <td>2016-07-14 16:53:52</td>\n",
       "      <td>1</td>\n",
       "    </tr>\n",
       "    <tr>\n",
       "      <th>1543</th>\n",
       "      <td>10_38</td>\n",
       "      <td>10</td>\n",
       "      <td>687</td>\n",
       "      <td>2017-02-01 00:00:00</td>\n",
       "      <td>1</td>\n",
       "    </tr>\n",
       "    <tr>\n",
       "      <th>1665</th>\n",
       "      <td>10_101</td>\n",
       "      <td>10</td>\n",
       "      <td>688</td>\n",
       "      <td>2017-03-20 11:53:20</td>\n",
       "      <td>0</td>\n",
       "    </tr>\n",
       "    <tr>\n",
       "      <th>1868</th>\n",
       "      <td>10_208</td>\n",
       "      <td>10</td>\n",
       "      <td>480</td>\n",
       "      <td>2017-03-19 00:00:00</td>\n",
       "      <td>0</td>\n",
       "    </tr>\n",
       "    <tr>\n",
       "      <th>1887</th>\n",
       "      <td>10_219</td>\n",
       "      <td>10</td>\n",
       "      <td>740</td>\n",
       "      <td>2017-03-20 05:45:53</td>\n",
       "      <td>0</td>\n",
       "    </tr>\n",
       "    <tr>\n",
       "      <th>2151</th>\n",
       "      <td>10_768</td>\n",
       "      <td>10</td>\n",
       "      <td>245</td>\n",
       "      <td>2017-03-20 11:53:20</td>\n",
       "      <td>0</td>\n",
       "    </tr>\n",
       "    <tr>\n",
       "      <th>2166</th>\n",
       "      <td>10_825</td>\n",
       "      <td>10</td>\n",
       "      <td>251</td>\n",
       "      <td>2017-03-19 00:00:00</td>\n",
       "      <td>0</td>\n",
       "    </tr>\n",
       "    <tr>\n",
       "      <th>2530</th>\n",
       "      <td>13_11</td>\n",
       "      <td>13</td>\n",
       "      <td>155</td>\n",
       "      <td>2017-03-14 22:09:13</td>\n",
       "      <td>0</td>\n",
       "    </tr>\n",
       "    <tr>\n",
       "      <th>2532</th>\n",
       "      <td>13_13</td>\n",
       "      <td>13</td>\n",
       "      <td>269</td>\n",
       "      <td>2017-03-20 16:01:33</td>\n",
       "      <td>0</td>\n",
       "    </tr>\n",
       "    <tr>\n",
       "      <th>2538</th>\n",
       "      <td>13_19</td>\n",
       "      <td>13</td>\n",
       "      <td>320</td>\n",
       "      <td>2017-03-20 16:01:33</td>\n",
       "      <td>0</td>\n",
       "    </tr>\n",
       "    <tr>\n",
       "      <th>2635</th>\n",
       "      <td>13_165</td>\n",
       "      <td>13</td>\n",
       "      <td>306</td>\n",
       "      <td>2017-03-20 00:00:00</td>\n",
       "      <td>0</td>\n",
       "    </tr>\n",
       "    <tr>\n",
       "      <th>2905</th>\n",
       "      <td>19_6</td>\n",
       "      <td>19</td>\n",
       "      <td>306</td>\n",
       "      <td>2017-03-20 10:48:28</td>\n",
       "      <td>0</td>\n",
       "    </tr>\n",
       "    <tr>\n",
       "      <th>3287</th>\n",
       "      <td>22_278</td>\n",
       "      <td>22</td>\n",
       "      <td>184</td>\n",
       "      <td>2017-03-15 17:32:04</td>\n",
       "      <td>0</td>\n",
       "    </tr>\n",
       "    <tr>\n",
       "      <th>4023</th>\n",
       "      <td>30_38</td>\n",
       "      <td>30</td>\n",
       "      <td>302</td>\n",
       "      <td>2017-03-20 13:11:12</td>\n",
       "      <td>0</td>\n",
       "    </tr>\n",
       "    <tr>\n",
       "      <th>4098</th>\n",
       "      <td>30_123</td>\n",
       "      <td>30</td>\n",
       "      <td>285</td>\n",
       "      <td>2017-03-20 13:11:12</td>\n",
       "      <td>0</td>\n",
       "    </tr>\n",
       "  </tbody>\n",
       "</table>\n",
       "</div>"
      ],
      "text/plain": [
       "     employee  companyAlias  numVotes lastParticipationDate  target\n",
       "35       0_24             0       404   2017-03-20 18:00:17       0\n",
       "97      0_101             0       312   2017-03-20 07:11:08       0\n",
       "138     0_152             0       371   2017-03-20 15:44:02       0\n",
       "177     0_209             0       314   2017-03-20 00:00:00       0\n",
       "1320     8_45             8       185   2017-03-20 12:13:38       0\n",
       "1535    10_34            10       456   2016-07-14 16:53:52       1\n",
       "1543    10_38            10       687   2017-02-01 00:00:00       1\n",
       "1665   10_101            10       688   2017-03-20 11:53:20       0\n",
       "1868   10_208            10       480   2017-03-19 00:00:00       0\n",
       "1887   10_219            10       740   2017-03-20 05:45:53       0\n",
       "2151   10_768            10       245   2017-03-20 11:53:20       0\n",
       "2166   10_825            10       251   2017-03-19 00:00:00       0\n",
       "2530    13_11            13       155   2017-03-14 22:09:13       0\n",
       "2532    13_13            13       269   2017-03-20 16:01:33       0\n",
       "2538    13_19            13       320   2017-03-20 16:01:33       0\n",
       "2635   13_165            13       306   2017-03-20 00:00:00       0\n",
       "2905     19_6            19       306   2017-03-20 10:48:28       0\n",
       "3287   22_278            22       184   2017-03-15 17:32:04       0\n",
       "4023    30_38            30       302   2017-03-20 13:11:12       0\n",
       "4098   30_123            30       285   2017-03-20 13:11:12       0"
      ]
     },
     "execution_count": 101,
     "metadata": {},
     "output_type": "execute_result"
    }
   ],
   "source": [
    "so_active_employees = comments_inters.groupby('employee').size().sort_values(ascending=False).keys()[:20]\n",
    "churn[churn['employee'].isin(so_active_employees)]"
   ]
  },
  {
   "cell_type": "markdown",
   "metadata": {},
   "source": [
    "Indeed, almost all employees still work."
   ]
  },
  {
   "cell_type": "markdown",
   "metadata": {},
   "source": [
    "##### 2.4.3.  Interactions with comments. Patterns, insights, pecularities of data<a id='part2.4.3'></a>"
   ]
  },
  {
   "cell_type": "markdown",
   "metadata": {},
   "source": [
    "In this data set, we noticed several important observations:\n",
    "\n",
    "1. There are companies in which employees made 200 interactions per employee.\n",
    "2. On average, the staff did 109 interactions\n",
    "3. There are employees who have done 3,500 interactions.\n",
    "4. There is a correlation between employee activity and that he works.\n",
    "5. No data gaps."
   ]
  },
  {
   "cell_type": "markdown",
   "metadata": {},
   "source": [
    "#### Part 2.5. Employee. Collect all data in one dataset<a id='part2.5'></a>"
   ]
  },
  {
   "cell_type": "markdown",
   "metadata": {},
   "source": [
    "##### Part 2.5.1. Employee. Dataset and features description<a id='part2.5.1'></a>"
   ]
  },
  {
   "cell_type": "markdown",
   "metadata": {},
   "source": [
    "Let me remind you that we plan to predict the churnout of employees. <br>\n",
    "To do this, we need to aggregate the data for each employee and add them to a single set of data.<br>\n",
    "The following signs seemed interesting to me:\n",
    "1. Voices (min, max, mean, std)\n",
    "2. Length and presence of comments (max, mean, std, sum)\n",
    "3. Reaction to comments of other employees(likes, dislikes) (min, max, mean, std)\n",
    "4. Reaction to employee comments (likes, dislikes) (min, max, mean, std)\n",
    "5. The average level of happiness in the company\n",
    "6. The number of people in the company\n",
    "7. The number of days between the first and last vote"
   ]
  },
  {
   "cell_type": "markdown",
   "metadata": {},
   "source": [
    "**'employee'** - unique identifier of the employee<br>\n",
    "**'companyAlias'** - unique company identifier<br>\n",
    "**'numVotes'** - the number of votes passed<br>\n",
    "**'target'** - is the target variable. Still working - 0, Not working - 1<br>\n",
    "\n",
    "**('vote', 'mean')** - the mean vote of the employee<br>\n",
    "**('vote', 'min')** - minimum employee’s vote<br>\n",
    "**('vote', 'max')** - maximum employee vote<br>\n",
    "\n",
    "**('dislikes', 'mean')** - the mean number of dislikes received for comments from colleagues<br>\n",
    "**('dislikes', 'sum')** - the total number of dislikes received for comments from colleagues<br>\n",
    "**('dislikes', 'min')** - the minimum number of dislikes received for comments from colleagues<br>\n",
    "**('dislikes', 'max')** - the maximum number of dislikes received for comments from colleagues<br>\n",
    "\n",
    "**('likes', 'mean')** - the mean number of likes received for comments from colleagues<br>\n",
    "**('likes', 'sum')** - the total number of likes received on their comments from colleagues<br>\n",
    "**('likes', 'min')** - the minimum number of likes received for comments from colleagues<br>\n",
    "**('likes', 'max')** - the maximum number of likes received for comments from colleagues<br>\n",
    "\n",
    "**('txt_len', 'mean')** - mean length of the comment text<br>\n",
    "**('txt_len', 'sum')** - total length of comment texts<br>\n",
    "**('txt_len', 'min')** - the minimum length of the comment text<br>\n",
    "**('txt_len', 'max')** - maximum comment text length<br>\n",
    "\n",
    "**('txt_exist', 'mean')** - percentage of votes with a comment<br>\n",
    "\n",
    "**('disliked', 'mean')** - percentage of dislikes from all interactions with colleagues comments<br>\n",
    "**('disliked', 'sum')** - the total number of dislikes that the employee put<br>\n",
    "\n",
    "**('liked', 'mean')** - percentage of likes from all interactions with colleagues comments<br>\n",
    "**('liked', 'sum')** - the total number of likes that the employee put<br>\n",
    "\n",
    "**'mean_vote_by_company'** - mean happiness of employees in a company<br>\n",
    "**'num_emploees_by_company'** - the number of employees in the company<br>\n",
    "**'first_last_vote_days'** - the number of days between the first and last vote<br>"
   ]
  },
  {
   "cell_type": "markdown",
   "metadata": {},
   "source": [
    "##### Part 2.5.2. Employee. Feature engineering and description <a id='part2.5.2'></a>"
   ]
  },
  {
   "cell_type": "code",
   "execution_count": 102,
   "metadata": {},
   "outputs": [],
   "source": [
    "employee = pd.DataFrame()\n",
    "employee = churn[['employee', 'companyAlias', 'numVotes', 'target']]"
   ]
  },
  {
   "cell_type": "code",
   "execution_count": 103,
   "metadata": {},
   "outputs": [
    {
     "data": {
      "text/html": [
       "<div>\n",
       "<style scoped>\n",
       "    .dataframe tbody tr th:only-of-type {\n",
       "        vertical-align: middle;\n",
       "    }\n",
       "\n",
       "    .dataframe tbody tr th {\n",
       "        vertical-align: top;\n",
       "    }\n",
       "\n",
       "    .dataframe thead th {\n",
       "        text-align: right;\n",
       "    }\n",
       "</style>\n",
       "<table border=\"1\" class=\"dataframe\">\n",
       "  <thead>\n",
       "    <tr style=\"text-align: right;\">\n",
       "      <th></th>\n",
       "      <th>employee</th>\n",
       "      <th>companyAlias</th>\n",
       "      <th>numVotes</th>\n",
       "      <th>target</th>\n",
       "      <th>(vote, mean)</th>\n",
       "      <th>(vote, min)</th>\n",
       "      <th>(vote, max)</th>\n",
       "      <th>(txt_len, mean)</th>\n",
       "      <th>(txt_len, sum)</th>\n",
       "      <th>(txt_len, min)</th>\n",
       "      <th>...</th>\n",
       "      <th>(txt_exist, mean)</th>\n",
       "      <th>(likes, mean)</th>\n",
       "      <th>(likes, sum)</th>\n",
       "      <th>(likes, min)</th>\n",
       "      <th>(likes, max)</th>\n",
       "      <th>(liked, mean)</th>\n",
       "      <th>(liked, sum)</th>\n",
       "      <th>(disliked, mean)</th>\n",
       "      <th>(disliked, sum)</th>\n",
       "      <th>first_last_vote_days</th>\n",
       "    </tr>\n",
       "  </thead>\n",
       "  <tbody>\n",
       "    <tr>\n",
       "      <th>0</th>\n",
       "      <td>0_512</td>\n",
       "      <td>0</td>\n",
       "      <td>4</td>\n",
       "      <td>0</td>\n",
       "      <td>2.500000</td>\n",
       "      <td>1</td>\n",
       "      <td>4</td>\n",
       "      <td>114.500000</td>\n",
       "      <td>229.0</td>\n",
       "      <td>111.0</td>\n",
       "      <td>...</td>\n",
       "      <td>1.0</td>\n",
       "      <td>7.500000</td>\n",
       "      <td>15.0</td>\n",
       "      <td>6.0</td>\n",
       "      <td>9.0</td>\n",
       "      <td>1.000000</td>\n",
       "      <td>6.0</td>\n",
       "      <td>0.000000</td>\n",
       "      <td>0.0</td>\n",
       "      <td>37</td>\n",
       "    </tr>\n",
       "    <tr>\n",
       "      <th>1</th>\n",
       "      <td>0_2</td>\n",
       "      <td>0</td>\n",
       "      <td>72</td>\n",
       "      <td>0</td>\n",
       "      <td>2.250000</td>\n",
       "      <td>1</td>\n",
       "      <td>4</td>\n",
       "      <td>59.571429</td>\n",
       "      <td>834.0</td>\n",
       "      <td>21.0</td>\n",
       "      <td>...</td>\n",
       "      <td>1.0</td>\n",
       "      <td>5.428571</td>\n",
       "      <td>76.0</td>\n",
       "      <td>0.0</td>\n",
       "      <td>12.0</td>\n",
       "      <td>0.833333</td>\n",
       "      <td>60.0</td>\n",
       "      <td>0.166667</td>\n",
       "      <td>12.0</td>\n",
       "      <td>406</td>\n",
       "    </tr>\n",
       "    <tr>\n",
       "      <th>2</th>\n",
       "      <td>0_3</td>\n",
       "      <td>0</td>\n",
       "      <td>22</td>\n",
       "      <td>0</td>\n",
       "      <td>3.454545</td>\n",
       "      <td>2</td>\n",
       "      <td>4</td>\n",
       "      <td>85.555556</td>\n",
       "      <td>770.0</td>\n",
       "      <td>24.0</td>\n",
       "      <td>...</td>\n",
       "      <td>1.0</td>\n",
       "      <td>3.333333</td>\n",
       "      <td>30.0</td>\n",
       "      <td>0.0</td>\n",
       "      <td>14.0</td>\n",
       "      <td>0.545455</td>\n",
       "      <td>6.0</td>\n",
       "      <td>0.454545</td>\n",
       "      <td>5.0</td>\n",
       "      <td>378</td>\n",
       "    </tr>\n",
       "    <tr>\n",
       "      <th>3</th>\n",
       "      <td>0_4</td>\n",
       "      <td>0</td>\n",
       "      <td>195</td>\n",
       "      <td>0</td>\n",
       "      <td>3.856410</td>\n",
       "      <td>1</td>\n",
       "      <td>4</td>\n",
       "      <td>68.727273</td>\n",
       "      <td>756.0</td>\n",
       "      <td>17.0</td>\n",
       "      <td>...</td>\n",
       "      <td>1.0</td>\n",
       "      <td>7.272727</td>\n",
       "      <td>80.0</td>\n",
       "      <td>1.0</td>\n",
       "      <td>29.0</td>\n",
       "      <td>0.875000</td>\n",
       "      <td>210.0</td>\n",
       "      <td>0.125000</td>\n",
       "      <td>30.0</td>\n",
       "      <td>368</td>\n",
       "    </tr>\n",
       "    <tr>\n",
       "      <th>4</th>\n",
       "      <td>0_516</td>\n",
       "      <td>0</td>\n",
       "      <td>29</td>\n",
       "      <td>0</td>\n",
       "      <td>2.793103</td>\n",
       "      <td>1</td>\n",
       "      <td>4</td>\n",
       "      <td>66.363636</td>\n",
       "      <td>730.0</td>\n",
       "      <td>13.0</td>\n",
       "      <td>...</td>\n",
       "      <td>1.0</td>\n",
       "      <td>6.272727</td>\n",
       "      <td>69.0</td>\n",
       "      <td>1.0</td>\n",
       "      <td>13.0</td>\n",
       "      <td>0.880952</td>\n",
       "      <td>37.0</td>\n",
       "      <td>0.119048</td>\n",
       "      <td>5.0</td>\n",
       "      <td>62</td>\n",
       "    </tr>\n",
       "  </tbody>\n",
       "</table>\n",
       "<p>5 rows × 25 columns</p>\n",
       "</div>"
      ],
      "text/plain": [
       "  employee  companyAlias  numVotes  target  (vote, mean)  (vote, min)  \\\n",
       "0    0_512             0         4       0      2.500000            1   \n",
       "1      0_2             0        72       0      2.250000            1   \n",
       "2      0_3             0        22       0      3.454545            2   \n",
       "3      0_4             0       195       0      3.856410            1   \n",
       "4    0_516             0        29       0      2.793103            1   \n",
       "\n",
       "   (vote, max)  (txt_len, mean)  (txt_len, sum)  (txt_len, min)  \\\n",
       "0            4       114.500000           229.0           111.0   \n",
       "1            4        59.571429           834.0            21.0   \n",
       "2            4        85.555556           770.0            24.0   \n",
       "3            4        68.727273           756.0            17.0   \n",
       "4            4        66.363636           730.0            13.0   \n",
       "\n",
       "           ...           (txt_exist, mean)  (likes, mean)  (likes, sum)  \\\n",
       "0          ...                         1.0       7.500000          15.0   \n",
       "1          ...                         1.0       5.428571          76.0   \n",
       "2          ...                         1.0       3.333333          30.0   \n",
       "3          ...                         1.0       7.272727          80.0   \n",
       "4          ...                         1.0       6.272727          69.0   \n",
       "\n",
       "   (likes, min)  (likes, max)  (liked, mean)  (liked, sum)  (disliked, mean)  \\\n",
       "0           6.0           9.0       1.000000           6.0          0.000000   \n",
       "1           0.0          12.0       0.833333          60.0          0.166667   \n",
       "2           0.0          14.0       0.545455           6.0          0.454545   \n",
       "3           1.0          29.0       0.875000         210.0          0.125000   \n",
       "4           1.0          13.0       0.880952          37.0          0.119048   \n",
       "\n",
       "   (disliked, sum)  first_last_vote_days  \n",
       "0              0.0                    37  \n",
       "1             12.0                   406  \n",
       "2              5.0                   378  \n",
       "3             30.0                   368  \n",
       "4              5.0                    62  \n",
       "\n",
       "[5 rows x 25 columns]"
      ]
     },
     "execution_count": 103,
     "metadata": {},
     "output_type": "execute_result"
    }
   ],
   "source": [
    "agg_votes = votes[['employee', 'vote']].groupby('employee', as_index=False).agg({'vote': [np.mean, min, max]})\n",
    "\n",
    "agg_comments = comments[['employee', 'txt_len', 'likes', 'dislikes', 'txt_exist']]\\\n",
    "    .groupby('employee', as_index=False).agg(\n",
    "        {\n",
    "            'txt_len': [np.mean, np.sum, min, max],\n",
    "            'likes': [np.mean, np.sum, min, max],\n",
    "            'dislikes': [np.mean, np.sum, min, max],\n",
    "            'txt_exist': [np.mean]\n",
    "        }\n",
    "    )\n",
    "\n",
    "agg_employee_likes_dislokes = comments_inters[['employee', 'liked', 'disliked']].groupby('employee', as_index=False).agg(\n",
    "    {\n",
    "        'liked': [np.mean, np.sum],\n",
    "        'disliked': [np.mean, np.sum],\n",
    "    }\n",
    ")\n",
    "\n",
    "agg_work_long = votes[['employee', 'voteDate']].groupby('employee', as_index=False).agg({'voteDate': [min, max]})\n",
    "\n",
    "employee = employee.merge(agg_votes, on=['employee','employee'],how='left')\n",
    "employee = employee.merge(agg_comments, on=['employee','employee'],how='left')\n",
    "employee = employee.merge(agg_employee_likes_dislokes, on=['employee','employee'],how='left')\n",
    "employee = employee.merge(agg_work_long, on=['employee','employee'],how='left')\n",
    "\n",
    "employee['first_last_vote_days'] = (employee[('voteDate', 'max')] - employee[('voteDate', 'min')]).dt.days\n",
    "employee.drop([('voteDate', 'max'), ('voteDate', 'min')], axis=1, inplace=True)\n",
    "\n",
    "employee.head()"
   ]
  },
  {
   "cell_type": "code",
   "execution_count": 104,
   "metadata": {},
   "outputs": [],
   "source": [
    "mean_vote_by_company = votes.groupby('companyAlias')['vote'].mean().to_dict()\n",
    "employee['mean_vote_by_company'] = employee['companyAlias'].map(mean_vote_by_company)"
   ]
  },
  {
   "cell_type": "code",
   "execution_count": 105,
   "metadata": {},
   "outputs": [],
   "source": [
    "emploies_by_company = churn.groupby('companyAlias')['employee'].count().to_dict()\n",
    "employee['num_emploees_by_company'] = employee['companyAlias'].map(emploies_by_company)"
   ]
  },
  {
   "cell_type": "code",
   "execution_count": 106,
   "metadata": {
    "scrolled": false
   },
   "outputs": [
    {
     "name": "stdout",
     "output_type": "stream",
     "text": [
      "<class 'pandas.core.frame.DataFrame'>\n",
      "Int64Index: 4377 entries, 0 to 4376\n",
      "Data columns (total 27 columns):\n",
      "employee                   4377 non-null object\n",
      "companyAlias               4377 non-null int64\n",
      "numVotes                   4377 non-null int32\n",
      "target                     4377 non-null int64\n",
      "(vote, mean)               4377 non-null float64\n",
      "(vote, min)                4377 non-null int32\n",
      "(vote, max)                4377 non-null int32\n",
      "(txt_len, mean)            2881 non-null float64\n",
      "(txt_len, sum)             2881 non-null float64\n",
      "(txt_len, min)             2881 non-null float64\n",
      "(txt_len, max)             2881 non-null float64\n",
      "(dislikes, mean)           2881 non-null float64\n",
      "(dislikes, sum)            2881 non-null float64\n",
      "(dislikes, min)            2881 non-null float64\n",
      "(dislikes, max)            2881 non-null float64\n",
      "(txt_exist, mean)          2881 non-null float64\n",
      "(likes, mean)              2881 non-null float64\n",
      "(likes, sum)               2881 non-null float64\n",
      "(likes, min)               2881 non-null float64\n",
      "(likes, max)               2881 non-null float64\n",
      "(liked, mean)              3147 non-null float64\n",
      "(liked, sum)               3147 non-null float64\n",
      "(disliked, mean)           3147 non-null float64\n",
      "(disliked, sum)            3147 non-null float64\n",
      "first_last_vote_days       4377 non-null int64\n",
      "mean_vote_by_company       4377 non-null float64\n",
      "num_emploees_by_company    4377 non-null int64\n",
      "dtypes: float64(19), int32(3), int64(4), object(1)\n",
      "memory usage: 1.0+ MB\n"
     ]
    }
   ],
   "source": [
    "employee.info()"
   ]
  },
  {
   "cell_type": "code",
   "execution_count": 107,
   "metadata": {},
   "outputs": [],
   "source": [
    "employee.fillna(0, inplace=True)"
   ]
  },
  {
   "cell_type": "code",
   "execution_count": 108,
   "metadata": {
    "scrolled": false
   },
   "outputs": [
    {
     "name": "stdout",
     "output_type": "stream",
     "text": [
      "<class 'pandas.core.frame.DataFrame'>\n",
      "Int64Index: 4377 entries, 0 to 4376\n",
      "Data columns (total 27 columns):\n",
      "employee                   4377 non-null object\n",
      "companyAlias               4377 non-null int64\n",
      "numVotes                   4377 non-null int32\n",
      "target                     4377 non-null int64\n",
      "(vote, mean)               4377 non-null float64\n",
      "(vote, min)                4377 non-null int32\n",
      "(vote, max)                4377 non-null int32\n",
      "(txt_len, mean)            4377 non-null float64\n",
      "(txt_len, sum)             4377 non-null float64\n",
      "(txt_len, min)             4377 non-null float64\n",
      "(txt_len, max)             4377 non-null float64\n",
      "(dislikes, mean)           4377 non-null float64\n",
      "(dislikes, sum)            4377 non-null float64\n",
      "(dislikes, min)            4377 non-null float64\n",
      "(dislikes, max)            4377 non-null float64\n",
      "(txt_exist, mean)          4377 non-null float64\n",
      "(likes, mean)              4377 non-null float64\n",
      "(likes, sum)               4377 non-null float64\n",
      "(likes, min)               4377 non-null float64\n",
      "(likes, max)               4377 non-null float64\n",
      "(liked, mean)              4377 non-null float64\n",
      "(liked, sum)               4377 non-null float64\n",
      "(disliked, mean)           4377 non-null float64\n",
      "(disliked, sum)            4377 non-null float64\n",
      "first_last_vote_days       4377 non-null int64\n",
      "mean_vote_by_company       4377 non-null float64\n",
      "num_emploees_by_company    4377 non-null int64\n",
      "dtypes: float64(19), int32(3), int64(4), object(1)\n",
      "memory usage: 1.0+ MB\n"
     ]
    }
   ],
   "source": [
    "employee.info()"
   ]
  },
  {
   "cell_type": "code",
   "execution_count": 109,
   "metadata": {},
   "outputs": [
    {
     "data": {
      "text/html": [
       "<div>\n",
       "<style scoped>\n",
       "    .dataframe tbody tr th:only-of-type {\n",
       "        vertical-align: middle;\n",
       "    }\n",
       "\n",
       "    .dataframe tbody tr th {\n",
       "        vertical-align: top;\n",
       "    }\n",
       "\n",
       "    .dataframe thead th {\n",
       "        text-align: right;\n",
       "    }\n",
       "</style>\n",
       "<table border=\"1\" class=\"dataframe\">\n",
       "  <thead>\n",
       "    <tr style=\"text-align: right;\">\n",
       "      <th></th>\n",
       "      <th>count</th>\n",
       "      <th>mean</th>\n",
       "      <th>std</th>\n",
       "      <th>min</th>\n",
       "      <th>25%</th>\n",
       "      <th>50%</th>\n",
       "      <th>75%</th>\n",
       "      <th>max</th>\n",
       "    </tr>\n",
       "  </thead>\n",
       "  <tbody>\n",
       "    <tr>\n",
       "      <th>companyAlias</th>\n",
       "      <td>4377.0</td>\n",
       "      <td>16.135024</td>\n",
       "      <td>11.326499</td>\n",
       "      <td>0.000000</td>\n",
       "      <td>7.000000</td>\n",
       "      <td>13.000000</td>\n",
       "      <td>28.000000</td>\n",
       "      <td>36.000000</td>\n",
       "    </tr>\n",
       "    <tr>\n",
       "      <th>numVotes</th>\n",
       "      <td>4377.0</td>\n",
       "      <td>50.544208</td>\n",
       "      <td>73.246803</td>\n",
       "      <td>1.000000</td>\n",
       "      <td>5.000000</td>\n",
       "      <td>19.000000</td>\n",
       "      <td>66.000000</td>\n",
       "      <td>740.000000</td>\n",
       "    </tr>\n",
       "    <tr>\n",
       "      <th>target</th>\n",
       "      <td>4377.0</td>\n",
       "      <td>0.161298</td>\n",
       "      <td>0.367847</td>\n",
       "      <td>0.000000</td>\n",
       "      <td>0.000000</td>\n",
       "      <td>0.000000</td>\n",
       "      <td>0.000000</td>\n",
       "      <td>1.000000</td>\n",
       "    </tr>\n",
       "    <tr>\n",
       "      <th>(vote, mean)</th>\n",
       "      <td>4377.0</td>\n",
       "      <td>2.945912</td>\n",
       "      <td>0.651171</td>\n",
       "      <td>1.000000</td>\n",
       "      <td>2.640000</td>\n",
       "      <td>3.000000</td>\n",
       "      <td>3.333333</td>\n",
       "      <td>4.000000</td>\n",
       "    </tr>\n",
       "    <tr>\n",
       "      <th>(vote, min)</th>\n",
       "      <td>4377.0</td>\n",
       "      <td>1.908613</td>\n",
       "      <td>0.956246</td>\n",
       "      <td>1.000000</td>\n",
       "      <td>1.000000</td>\n",
       "      <td>2.000000</td>\n",
       "      <td>3.000000</td>\n",
       "      <td>4.000000</td>\n",
       "    </tr>\n",
       "    <tr>\n",
       "      <th>(vote, max)</th>\n",
       "      <td>4377.0</td>\n",
       "      <td>3.696596</td>\n",
       "      <td>0.558522</td>\n",
       "      <td>1.000000</td>\n",
       "      <td>3.000000</td>\n",
       "      <td>4.000000</td>\n",
       "      <td>4.000000</td>\n",
       "      <td>4.000000</td>\n",
       "    </tr>\n",
       "    <tr>\n",
       "      <th>(txt_len, mean)</th>\n",
       "      <td>4377.0</td>\n",
       "      <td>58.169429</td>\n",
       "      <td>76.441240</td>\n",
       "      <td>0.000000</td>\n",
       "      <td>0.000000</td>\n",
       "      <td>37.333333</td>\n",
       "      <td>84.000000</td>\n",
       "      <td>880.500000</td>\n",
       "    </tr>\n",
       "    <tr>\n",
       "      <th>(txt_len, sum)</th>\n",
       "      <td>4377.0</td>\n",
       "      <td>909.926891</td>\n",
       "      <td>2652.419623</td>\n",
       "      <td>0.000000</td>\n",
       "      <td>0.000000</td>\n",
       "      <td>104.000000</td>\n",
       "      <td>698.000000</td>\n",
       "      <td>55496.000000</td>\n",
       "    </tr>\n",
       "    <tr>\n",
       "      <th>(txt_len, min)</th>\n",
       "      <td>4377.0</td>\n",
       "      <td>20.599726</td>\n",
       "      <td>40.579167</td>\n",
       "      <td>0.000000</td>\n",
       "      <td>0.000000</td>\n",
       "      <td>8.000000</td>\n",
       "      <td>23.000000</td>\n",
       "      <td>672.000000</td>\n",
       "    </tr>\n",
       "    <tr>\n",
       "      <th>(txt_len, max)</th>\n",
       "      <td>4377.0</td>\n",
       "      <td>162.749600</td>\n",
       "      <td>509.497878</td>\n",
       "      <td>0.000000</td>\n",
       "      <td>0.000000</td>\n",
       "      <td>62.000000</td>\n",
       "      <td>193.000000</td>\n",
       "      <td>29057.000000</td>\n",
       "    </tr>\n",
       "    <tr>\n",
       "      <th>(dislikes, mean)</th>\n",
       "      <td>4377.0</td>\n",
       "      <td>0.753802</td>\n",
       "      <td>1.618398</td>\n",
       "      <td>0.000000</td>\n",
       "      <td>0.000000</td>\n",
       "      <td>0.000000</td>\n",
       "      <td>1.000000</td>\n",
       "      <td>33.000000</td>\n",
       "    </tr>\n",
       "    <tr>\n",
       "      <th>(dislikes, sum)</th>\n",
       "      <td>4377.0</td>\n",
       "      <td>11.563171</td>\n",
       "      <td>39.575965</td>\n",
       "      <td>0.000000</td>\n",
       "      <td>0.000000</td>\n",
       "      <td>0.000000</td>\n",
       "      <td>7.000000</td>\n",
       "      <td>970.000000</td>\n",
       "    </tr>\n",
       "    <tr>\n",
       "      <th>(dislikes, min)</th>\n",
       "      <td>4377.0</td>\n",
       "      <td>0.163125</td>\n",
       "      <td>1.116349</td>\n",
       "      <td>0.000000</td>\n",
       "      <td>0.000000</td>\n",
       "      <td>0.000000</td>\n",
       "      <td>0.000000</td>\n",
       "      <td>33.000000</td>\n",
       "    </tr>\n",
       "    <tr>\n",
       "      <th>(dislikes, max)</th>\n",
       "      <td>4377.0</td>\n",
       "      <td>2.810372</td>\n",
       "      <td>5.141077</td>\n",
       "      <td>0.000000</td>\n",
       "      <td>0.000000</td>\n",
       "      <td>0.000000</td>\n",
       "      <td>3.000000</td>\n",
       "      <td>53.000000</td>\n",
       "    </tr>\n",
       "    <tr>\n",
       "      <th>(txt_exist, mean)</th>\n",
       "      <td>4377.0</td>\n",
       "      <td>0.657173</td>\n",
       "      <td>0.473943</td>\n",
       "      <td>0.000000</td>\n",
       "      <td>0.000000</td>\n",
       "      <td>1.000000</td>\n",
       "      <td>1.000000</td>\n",
       "      <td>1.000000</td>\n",
       "    </tr>\n",
       "    <tr>\n",
       "      <th>(likes, mean)</th>\n",
       "      <td>4377.0</td>\n",
       "      <td>4.270549</td>\n",
       "      <td>5.575253</td>\n",
       "      <td>0.000000</td>\n",
       "      <td>0.000000</td>\n",
       "      <td>2.000000</td>\n",
       "      <td>6.785714</td>\n",
       "      <td>46.000000</td>\n",
       "    </tr>\n",
       "    <tr>\n",
       "      <th>(likes, sum)</th>\n",
       "      <td>4377.0</td>\n",
       "      <td>62.382454</td>\n",
       "      <td>171.140307</td>\n",
       "      <td>0.000000</td>\n",
       "      <td>0.000000</td>\n",
       "      <td>7.000000</td>\n",
       "      <td>49.000000</td>\n",
       "      <td>3279.000000</td>\n",
       "    </tr>\n",
       "    <tr>\n",
       "      <th>(likes, min)</th>\n",
       "      <td>4377.0</td>\n",
       "      <td>1.521590</td>\n",
       "      <td>3.579414</td>\n",
       "      <td>0.000000</td>\n",
       "      <td>0.000000</td>\n",
       "      <td>0.000000</td>\n",
       "      <td>1.000000</td>\n",
       "      <td>46.000000</td>\n",
       "    </tr>\n",
       "    <tr>\n",
       "      <th>(likes, max)</th>\n",
       "      <td>4377.0</td>\n",
       "      <td>9.406900</td>\n",
       "      <td>12.510346</td>\n",
       "      <td>0.000000</td>\n",
       "      <td>0.000000</td>\n",
       "      <td>4.000000</td>\n",
       "      <td>15.000000</td>\n",
       "      <td>86.000000</td>\n",
       "    </tr>\n",
       "    <tr>\n",
       "      <th>(liked, mean)</th>\n",
       "      <td>4377.0</td>\n",
       "      <td>0.612787</td>\n",
       "      <td>0.415392</td>\n",
       "      <td>0.000000</td>\n",
       "      <td>0.000000</td>\n",
       "      <td>0.828244</td>\n",
       "      <td>0.959514</td>\n",
       "      <td>1.000000</td>\n",
       "    </tr>\n",
       "    <tr>\n",
       "      <th>(liked, sum)</th>\n",
       "      <td>4377.0</td>\n",
       "      <td>62.543980</td>\n",
       "      <td>163.910107</td>\n",
       "      <td>0.000000</td>\n",
       "      <td>0.000000</td>\n",
       "      <td>8.000000</td>\n",
       "      <td>52.000000</td>\n",
       "      <td>3151.000000</td>\n",
       "    </tr>\n",
       "    <tr>\n",
       "      <th>(disliked, mean)</th>\n",
       "      <td>4377.0</td>\n",
       "      <td>0.106198</td>\n",
       "      <td>0.173663</td>\n",
       "      <td>0.000000</td>\n",
       "      <td>0.000000</td>\n",
       "      <td>0.024540</td>\n",
       "      <td>0.153846</td>\n",
       "      <td>1.000000</td>\n",
       "    </tr>\n",
       "    <tr>\n",
       "      <th>(disliked, sum)</th>\n",
       "      <td>4377.0</td>\n",
       "      <td>11.586932</td>\n",
       "      <td>41.939396</td>\n",
       "      <td>0.000000</td>\n",
       "      <td>0.000000</td>\n",
       "      <td>1.000000</td>\n",
       "      <td>7.000000</td>\n",
       "      <td>891.000000</td>\n",
       "    </tr>\n",
       "    <tr>\n",
       "      <th>first_last_vote_days</th>\n",
       "      <td>4377.0</td>\n",
       "      <td>142.938771</td>\n",
       "      <td>153.571263</td>\n",
       "      <td>0.000000</td>\n",
       "      <td>19.000000</td>\n",
       "      <td>107.000000</td>\n",
       "      <td>216.000000</td>\n",
       "      <td>770.000000</td>\n",
       "    </tr>\n",
       "    <tr>\n",
       "      <th>mean_vote_by_company</th>\n",
       "      <td>4377.0</td>\n",
       "      <td>2.893100</td>\n",
       "      <td>0.257356</td>\n",
       "      <td>2.487488</td>\n",
       "      <td>2.643531</td>\n",
       "      <td>2.855814</td>\n",
       "      <td>3.037703</td>\n",
       "      <td>3.666667</td>\n",
       "    </tr>\n",
       "    <tr>\n",
       "      <th>num_emploees_by_company</th>\n",
       "      <td>4377.0</td>\n",
       "      <td>252.356180</td>\n",
       "      <td>158.859994</td>\n",
       "      <td>2.000000</td>\n",
       "      <td>139.000000</td>\n",
       "      <td>221.000000</td>\n",
       "      <td>350.000000</td>\n",
       "      <td>572.000000</td>\n",
       "    </tr>\n",
       "  </tbody>\n",
       "</table>\n",
       "</div>"
      ],
      "text/plain": [
       "                          count        mean          std       min  \\\n",
       "companyAlias             4377.0   16.135024    11.326499  0.000000   \n",
       "numVotes                 4377.0   50.544208    73.246803  1.000000   \n",
       "target                   4377.0    0.161298     0.367847  0.000000   \n",
       "(vote, mean)             4377.0    2.945912     0.651171  1.000000   \n",
       "(vote, min)              4377.0    1.908613     0.956246  1.000000   \n",
       "(vote, max)              4377.0    3.696596     0.558522  1.000000   \n",
       "(txt_len, mean)          4377.0   58.169429    76.441240  0.000000   \n",
       "(txt_len, sum)           4377.0  909.926891  2652.419623  0.000000   \n",
       "(txt_len, min)           4377.0   20.599726    40.579167  0.000000   \n",
       "(txt_len, max)           4377.0  162.749600   509.497878  0.000000   \n",
       "(dislikes, mean)         4377.0    0.753802     1.618398  0.000000   \n",
       "(dislikes, sum)          4377.0   11.563171    39.575965  0.000000   \n",
       "(dislikes, min)          4377.0    0.163125     1.116349  0.000000   \n",
       "(dislikes, max)          4377.0    2.810372     5.141077  0.000000   \n",
       "(txt_exist, mean)        4377.0    0.657173     0.473943  0.000000   \n",
       "(likes, mean)            4377.0    4.270549     5.575253  0.000000   \n",
       "(likes, sum)             4377.0   62.382454   171.140307  0.000000   \n",
       "(likes, min)             4377.0    1.521590     3.579414  0.000000   \n",
       "(likes, max)             4377.0    9.406900    12.510346  0.000000   \n",
       "(liked, mean)            4377.0    0.612787     0.415392  0.000000   \n",
       "(liked, sum)             4377.0   62.543980   163.910107  0.000000   \n",
       "(disliked, mean)         4377.0    0.106198     0.173663  0.000000   \n",
       "(disliked, sum)          4377.0   11.586932    41.939396  0.000000   \n",
       "first_last_vote_days     4377.0  142.938771   153.571263  0.000000   \n",
       "mean_vote_by_company     4377.0    2.893100     0.257356  2.487488   \n",
       "num_emploees_by_company  4377.0  252.356180   158.859994  2.000000   \n",
       "\n",
       "                                25%         50%         75%           max  \n",
       "companyAlias               7.000000   13.000000   28.000000     36.000000  \n",
       "numVotes                   5.000000   19.000000   66.000000    740.000000  \n",
       "target                     0.000000    0.000000    0.000000      1.000000  \n",
       "(vote, mean)               2.640000    3.000000    3.333333      4.000000  \n",
       "(vote, min)                1.000000    2.000000    3.000000      4.000000  \n",
       "(vote, max)                3.000000    4.000000    4.000000      4.000000  \n",
       "(txt_len, mean)            0.000000   37.333333   84.000000    880.500000  \n",
       "(txt_len, sum)             0.000000  104.000000  698.000000  55496.000000  \n",
       "(txt_len, min)             0.000000    8.000000   23.000000    672.000000  \n",
       "(txt_len, max)             0.000000   62.000000  193.000000  29057.000000  \n",
       "(dislikes, mean)           0.000000    0.000000    1.000000     33.000000  \n",
       "(dislikes, sum)            0.000000    0.000000    7.000000    970.000000  \n",
       "(dislikes, min)            0.000000    0.000000    0.000000     33.000000  \n",
       "(dislikes, max)            0.000000    0.000000    3.000000     53.000000  \n",
       "(txt_exist, mean)          0.000000    1.000000    1.000000      1.000000  \n",
       "(likes, mean)              0.000000    2.000000    6.785714     46.000000  \n",
       "(likes, sum)               0.000000    7.000000   49.000000   3279.000000  \n",
       "(likes, min)               0.000000    0.000000    1.000000     46.000000  \n",
       "(likes, max)               0.000000    4.000000   15.000000     86.000000  \n",
       "(liked, mean)              0.000000    0.828244    0.959514      1.000000  \n",
       "(liked, sum)               0.000000    8.000000   52.000000   3151.000000  \n",
       "(disliked, mean)           0.000000    0.024540    0.153846      1.000000  \n",
       "(disliked, sum)            0.000000    1.000000    7.000000    891.000000  \n",
       "first_last_vote_days      19.000000  107.000000  216.000000    770.000000  \n",
       "mean_vote_by_company       2.643531    2.855814    3.037703      3.666667  \n",
       "num_emploees_by_company  139.000000  221.000000  350.000000    572.000000  "
      ]
     },
     "execution_count": 109,
     "metadata": {},
     "output_type": "execute_result"
    }
   ],
   "source": [
    "employee.describe().T"
   ]
  },
  {
   "cell_type": "markdown",
   "metadata": {},
   "source": [
    "You may notice that the company identifier is a number, so it should not be, we make it a string"
   ]
  },
  {
   "cell_type": "code",
   "execution_count": 110,
   "metadata": {},
   "outputs": [],
   "source": [
    "employee['companyAlias'] = employee['companyAlias'].astype('str')"
   ]
  },
  {
   "cell_type": "markdown",
   "metadata": {},
   "source": [
    "You can also see target class 16%"
   ]
  },
  {
   "cell_type": "markdown",
   "metadata": {},
   "source": [
    "##### Part 2.5.3. Employee. Exploratory data analysis, visual analysis of the features <a id='part2.5.3'></a>"
   ]
  },
  {
   "cell_type": "code",
   "execution_count": 111,
   "metadata": {
    "scrolled": false
   },
   "outputs": [
    {
     "data": {
      "image/png": "[encoded data removed]",
      "text/plain": [
       "<Figure size 864x864 with 25 Axes>"
      ]
     },
     "metadata": {},
     "output_type": "display_data"
    }
   ],
   "source": [
    "employee.hist(figsize=(12, 12));"
   ]
  },
  {
   "cell_type": "code",
   "execution_count": 112,
   "metadata": {},
   "outputs": [
    {
     "data": {
      "image/png": "[encoded data removed]",
      "text/plain": [
       "<Figure size 720x576 with 2 Axes>"
      ]
     },
     "metadata": {},
     "output_type": "display_data"
    }
   ],
   "source": [
    "from pylab import rcParams\n",
    "rcParams['figure.figsize'] = 10, 8\n",
    "sns.heatmap(employee.corr())\n",
    "plt.title('Features Correlation Heatmap',fontsize=24)\n",
    "plt.show()"
   ]
  },
  {
   "cell_type": "markdown",
   "metadata": {},
   "source": [
    "On this heat map we can see a lot of interesting.\n",
    "The target variable correlates well with parameters such as:\n",
    "(liked, mean), (txt_exist, mean), (txt_len, mean), (likes, mean), num_emploees_by_company, (vote, mean)"
   ]
  },
  {
   "cell_type": "markdown",
   "metadata": {},
   "source": [
    "So here we see correlations with the target feature."
   ]
  },
  {
   "cell_type": "code",
   "execution_count": 113,
   "metadata": {},
   "outputs": [
    {
     "data": {
      "text/plain": [
       "target                     1.000000\n",
       "(liked, mean)              0.382977\n",
       "(txt_exist, mean)          0.366535\n",
       "num_emploees_by_company    0.309907\n",
       "(likes, mean)              0.209298\n",
       "(txt_len, mean)            0.199653\n",
       "(likes, max)               0.188067\n",
       "(txt_len, min)             0.159482\n",
       "(disliked, mean)           0.155697\n",
       "(likes, min)               0.139235\n",
       "Name: target, dtype: float64"
      ]
     },
     "execution_count": 113,
     "metadata": {},
     "output_type": "execute_result"
    }
   ],
   "source": [
    "employee.corr()['target'].abs().sort_values(ascending=False)[:10]"
   ]
  },
  {
   "cell_type": "code",
   "execution_count": 114,
   "metadata": {},
   "outputs": [],
   "source": [
    "corr_feat = employee.corr()['target'].abs().sort_values(ascending=False)[:10].keys()"
   ]
  },
  {
   "cell_type": "code",
   "execution_count": 115,
   "metadata": {},
   "outputs": [
    {
     "data": {
      "image/png": "[encoded data removed]",
      "text/plain": [
       "<Figure size 720x576 with 1 Axes>"
      ]
     },
     "metadata": {},
     "output_type": "display_data"
    }
   ],
   "source": [
    "sns.boxplot(y='mean_vote_by_company', x='target', data=employee);"
   ]
  },
  {
   "cell_type": "markdown",
   "metadata": {},
   "source": [
    "Let's see how representatives of different classes put on dislikes"
   ]
  },
  {
   "cell_type": "code",
   "execution_count": 116,
   "metadata": {},
   "outputs": [
    {
     "data": {
      "image/png": "[encoded data removed]",
      "text/plain": [
       "<Figure size 720x576 with 1 Axes>"
      ]
     },
     "metadata": {},
     "output_type": "display_data"
    }
   ],
   "source": [
    "sns.boxplot(y=('disliked', 'mean'), x='target', data=employee);"
   ]
  },
  {
   "cell_type": "markdown",
   "metadata": {},
   "source": [
    "It can be noted that people who want to leave put less dislikes to comments of other employees."
   ]
  },
  {
   "cell_type": "code",
   "execution_count": 117,
   "metadata": {},
   "outputs": [
    {
     "data": {
      "image/png": "[encoded data removed]",
      "text/plain": [
       "<Figure size 720x576 with 1 Axes>"
      ]
     },
     "metadata": {},
     "output_type": "display_data"
    }
   ],
   "source": [
    "sns.boxplot(y=('liked', 'mean'), x='target', data=employee);"
   ]
  },
  {
   "cell_type": "markdown",
   "metadata": {},
   "source": [
    "And put less likes to comments of other employees."
   ]
  },
  {
   "cell_type": "code",
   "execution_count": 118,
   "metadata": {},
   "outputs": [
    {
     "data": {
      "image/png": "[encoded data removed]",
      "text/plain": [
       "<Figure size 720x576 with 1 Axes>"
      ]
     },
     "metadata": {},
     "output_type": "display_data"
    }
   ],
   "source": [
    "sns.boxplot(y=('txt_len', 'mean'), x='target', data=employee[employee[('txt_len', 'mean')] < 250]);"
   ]
  },
  {
   "cell_type": "markdown",
   "metadata": {},
   "source": [
    "And less write comments."
   ]
  },
  {
   "cell_type": "markdown",
   "metadata": {},
   "source": [
    "What about getting likes"
   ]
  },
  {
   "cell_type": "code",
   "execution_count": 119,
   "metadata": {},
   "outputs": [
    {
     "data": {
      "image/png": "[encoded data removed]",
      "text/plain": [
       "<Figure size 720x576 with 1 Axes>"
      ]
     },
     "metadata": {},
     "output_type": "display_data"
    }
   ],
   "source": [
    "sns.boxplot(y=('likes', 'mean'), x='target', data=employee[employee[('likes', 'mean')] < 20]);"
   ]
  },
  {
   "cell_type": "code",
   "execution_count": 120,
   "metadata": {},
   "outputs": [
    {
     "data": {
      "image/png": "[encoded data removed]",
      "text/plain": [
       "<Figure size 720x576 with 1 Axes>"
      ]
     },
     "metadata": {},
     "output_type": "display_data"
    }
   ],
   "source": [
    "sns.boxplot(y=('dislikes', 'mean'), x='target', data=employee[employee[('dislikes', 'mean')] < 2]);"
   ]
  },
  {
   "cell_type": "markdown",
   "metadata": {},
   "source": [
    "##### Part 2.5.4. Employee. Patterns, insights, pecularities of data <a id='part2.5.4'></a>"
   ]
  },
  {
   "cell_type": "markdown",
   "metadata": {},
   "source": [
    "You can make the following assumptions:\n",
    "1. People actively participating in this application, presumably, also actively communicate with colleagues and they do not quit.\n",
    "2. If a person writes comments, then he most likely wants to work in a company.\n",
    "3. The more employees, the higher the turnover."
   ]
  },
  {
   "cell_type": "markdown",
   "metadata": {},
   "source": [
    "### Part 3. Visual analysis of the features<a id='part3'></a>"
   ]
  },
  {
   "cell_type": "markdown",
   "metadata": {},
   "source": [
    "### Part 4. Patterns, insights, pecularities of data <a id='part4'></a>"
   ]
  },
  {
   "cell_type": "markdown",
   "metadata": {},
   "source": [
    "### Part 5. Data preprocessing<a id='part5'></a>"
   ]
  },
  {
   "cell_type": "markdown",
   "metadata": {},
   "source": [
    "### Part 6. Feature engineering and description<a id='part6'></a>"
   ]
  },
  {
   "cell_type": "markdown",
   "metadata": {},
   "source": [
    "Parts 3,4,5,6 are done for each dataset separately, for ease of reading. Sorry, that complicated the assessment of my work, but in my opinion it is logical."
   ]
  },
  {
   "cell_type": "markdown",
   "metadata": {},
   "source": [
    "### Part 7. Cross-validation, hyperparameter tuning<a id='part7'></a>"
   ]
  },
  {
   "cell_type": "markdown",
   "metadata": {},
   "source": [
    "Since we have a strong imbalance in the target feature, we will use train_test_split with stratify.<br>\n",
    "And for fit model we will use StratifiedKFold."
   ]
  },
  {
   "cell_type": "code",
   "execution_count": 121,
   "metadata": {},
   "outputs": [],
   "source": [
    "from sklearn.ensemble import RandomForestClassifier\n",
    "from sklearn.model_selection import GridSearchCV\n",
    "from sklearn.metrics import confusion_matrix, roc_auc_score\n",
    "from sklearn.model_selection import StratifiedKFold, train_test_split\n",
    "\n",
    "y = employee['target']\n",
    "X = employee.drop(['target', 'companyAlias'], axis=1).set_index('employee')\n",
    "X_train, X_test, y_train, y_test = train_test_split(X, y, stratify=y, test_size=0.3)"
   ]
  },
  {
   "cell_type": "markdown",
   "metadata": {},
   "source": [
    "Check that the distribution of classes is the same."
   ]
  },
  {
   "cell_type": "code",
   "execution_count": 122,
   "metadata": {},
   "outputs": [
    {
     "data": {
      "text/plain": [
       "(5.19971671388102, 5.19811320754717, 5.200404858299595)"
      ]
     },
     "execution_count": 122,
     "metadata": {},
     "output_type": "execute_result"
    }
   ],
   "source": [
    "y.value_counts()[0]/y.value_counts()[1], \\\n",
    "y_test.value_counts()[0]/y_test.value_counts()[1], \\\n",
    "y_train.value_counts()[0]/y_train.value_counts()[1]"
   ]
  },
  {
   "cell_type": "markdown",
   "metadata": {},
   "source": [
    "In our task, we predict the dismissal of an employee. In our problem there are 2 types of errors.\n",
    "First, we predicted that the person would quit, and he did not quit, that is, instead of 0, predict 1. This is an error F1.\n",
    "Second, we say that the person will remain, and he leaves. **This is a f2 error.** For our task, **it is more important**, because We try to minimize the costs associated with hiring new employees."
   ]
  },
  {
   "cell_type": "code",
   "execution_count": 123,
   "metadata": {},
   "outputs": [
    {
     "data": {
      "text/plain": [
       "array([[2554,   15],\n",
       "       [  47,  447]])"
      ]
     },
     "execution_count": 123,
     "metadata": {},
     "output_type": "execute_result"
    }
   ],
   "source": [
    "rf = RandomForestClassifier(random_state=17)\n",
    "rf.fit(X_train, y_train)\n",
    "# false negative - f2\n",
    "# [tn, fp]\n",
    "# [fn, tp]\n",
    "confusion_matrix(y_train, rf.predict(X_train))"
   ]
  },
  {
   "cell_type": "code",
   "execution_count": 124,
   "metadata": {},
   "outputs": [
    {
     "data": {
      "text/plain": [
       "array([[1065,   37],\n",
       "       [  94,  118]])"
      ]
     },
     "execution_count": 124,
     "metadata": {},
     "output_type": "execute_result"
    }
   ],
   "source": [
    "confusion_matrix(y_test, rf.predict(X_test))"
   ]
  },
  {
   "cell_type": "code",
   "execution_count": 125,
   "metadata": {},
   "outputs": [
    {
     "data": {
      "text/plain": [
       "[('num_emploees_by_company', 0.20422983161191208),\n",
       " ('mean_vote_by_company', 0.08762766441657631),\n",
       " ('first_last_vote_days', 0.08686866544928236),\n",
       " (('liked', 'sum'), 0.08433687522750899),\n",
       " ('numVotes', 0.06817508455324282),\n",
       " (('vote', 'mean'), 0.06533535990268544),\n",
       " (('txt_len', 'max'), 0.05301559282742939),\n",
       " (('liked', 'mean'), 0.051557302114450546),\n",
       " (('txt_len', 'min'), 0.0348536356003419),\n",
       " (('txt_len', 'mean'), 0.032853693162707295),\n",
       " (('vote', 'min'), 0.026223637588938597),\n",
       " (('disliked', 'mean'), 0.026115128197507338),\n",
       " (('likes', 'mean'), 0.025859075994624742),\n",
       " (('txt_len', 'sum'), 0.02092766578659625),\n",
       " (('likes', 'sum'), 0.02025892294580309),\n",
       " (('disliked', 'sum'), 0.0191542030775965),\n",
       " (('txt_exist', 'mean'), 0.016278885321209254),\n",
       " (('vote', 'max'), 0.015306062385153845),\n",
       " (('likes', 'max'), 0.014777306732728765),\n",
       " (('dislikes', 'mean'), 0.014716494993992168),\n",
       " (('dislikes', 'max'), 0.011467174342393962),\n",
       " (('dislikes', 'sum'), 0.010998782046750335),\n",
       " (('likes', 'min'), 0.007051672904702333),\n",
       " (('dislikes', 'min'), 0.0020112828158657275)]"
      ]
     },
     "execution_count": 125,
     "metadata": {},
     "output_type": "execute_result"
    }
   ],
   "source": [
    "import operator\n",
    "sorted(zip(X_train.columns, rf.feature_importances_), key=operator.itemgetter(1), reverse=True)"
   ]
  },
  {
   "cell_type": "code",
   "execution_count": 126,
   "metadata": {},
   "outputs": [],
   "source": [
    "skf = StratifiedKFold(n_splits=3)\n",
    "\n",
    "def fit_grid_rf(params, cv=skf, X_train=X_train, y_train=y_train):\n",
    "    rf_for_grid = RandomForestClassifier(random_state=17, n_jobs=-1, bootstrap=True)\n",
    "    rf_grid = GridSearchCV(estimator=rf_for_grid, param_grid=params, cv=skf)\n",
    "    rf_grid.fit(X_train, y_train)\n",
    "    return rf_grid\n",
    "\n",
    "def get_all_stats(grid, X_train=X_train, X_test=X_test, y_train=y_train, y_test=y_test):\n",
    "    print('Best grid params: ', grid.best_params_)\n",
    "    print('Best grid score: ', grid.best_score_)\n",
    "    print('Confusion matrix for train: ', confusion_matrix(y_train, grid.best_estimator_.predict(X_train)))\n",
    "    print('Confusion matrix for test: ', confusion_matrix(y_test, grid.best_estimator_.predict(X_test)))\n",
    "    print('ROC AUC for train: ', roc_auc_score(y_train, grid.best_estimator_.predict_proba(X_train)[:, 1]))\n",
    "    print('ROC AUC for test: ', roc_auc_score(y_test, grid.best_estimator_.predict_proba(X_test)[:, 1]))\n",
    "    print('Best features', sorted(zip(X_train.columns, grid.best_estimator_.feature_importances_), key=operator.itemgetter(1), reverse=True)[:8])"
   ]
  },
  {
   "cell_type": "markdown",
   "metadata": {},
   "source": [
    "Let's try to train the first search grid. Here I have given a lot of weight to the examples of our positive class."
   ]
  },
  {
   "cell_type": "markdown",
   "metadata": {},
   "source": [
    "## First grid search "
   ]
  },
  {
   "cell_type": "code",
   "execution_count": 127,
   "metadata": {},
   "outputs": [
    {
     "name": "stdout",
     "output_type": "stream",
     "text": [
      "Best grid params:  {'n_estimators': 50, 'class_weight': {0: 1, 1: 5}, 'max_depth': 15, 'max_features': 0.2}\n",
      "Best grid score:  0.9066274893894875\n",
      "Confusion matrix for train:  [[2519   50]\n",
      " [   8  486]]\n",
      "Confusion matrix for test:  [[1061   41]\n",
      " [  79  133]]\n",
      "ROC AUC for train:  0.9953549247253537\n",
      "ROC AUC for test:  0.8874944355032017\n",
      "Best features [('num_emploees_by_company', 0.1391157867602305), ('mean_vote_by_company', 0.09745977800807099), (('liked', 'sum'), 0.09037881914150563), (('liked', 'mean'), 0.08096390373401398), ('first_last_vote_days', 0.06983426174416488), (('txt_len', 'max'), 0.05145834625751002), (('vote', 'mean'), 0.05119721825386927), ('numVotes', 0.04752200575681547)]\n",
      "CPU times: user 1min 23s, sys: 4.65 s, total: 1min 28s\n",
      "Wall time: 1min 16s\n"
     ]
    }
   ],
   "source": [
    "%%time\n",
    "rf_params = {\n",
    "    'n_estimators': [10, 50, 100],\n",
    "    'max_depth': [5, 10, 15],\n",
    "    'class_weight': [{0: 1, 1: 5}, {0: 1, 1: 9}],\n",
    "    'max_features': [0.2, 0.5, 0.7,]\n",
    "}\n",
    "get_all_stats(fit_grid_rf(rf_params))"
   ]
  },
  {
   "cell_type": "markdown",
   "metadata": {},
   "source": [
    "# Second grid search"
   ]
  },
  {
   "cell_type": "code",
   "execution_count": 128,
   "metadata": {},
   "outputs": [
    {
     "name": "stdout",
     "output_type": "stream",
     "text": [
      "Best grid params:  {'n_estimators': 100, 'class_weight': {0: 1, 1: 5}, 'max_features': 0.6, 'max_depth': 16, 'criterion': 'entropy'}\n",
      "Best grid score:  0.9053215801501796\n",
      "Confusion matrix for train:  [[2533   36]\n",
      " [   3  491]]\n",
      "Confusion matrix for test:  [[1063   39]\n",
      " [  75  137]]\n",
      "ROC AUC for train:  0.9960900994889235\n",
      "ROC AUC for test:  0.9097096188747733\n",
      "Best features [('num_emploees_by_company', 0.17897436789699162), (('liked', 'sum'), 0.10153830183949969), ('mean_vote_by_company', 0.10125343050105723), (('liked', 'mean'), 0.10093051489004656), ('first_last_vote_days', 0.09770315107467178), ('numVotes', 0.05968983619627274), (('vote', 'mean'), 0.05247228034475559), (('txt_len', 'min'), 0.03992242576731884)]\n",
      "CPU times: user 2min 21s, sys: 3.27 s, total: 2min 24s\n",
      "Wall time: 1min 2s\n"
     ]
    }
   ],
   "source": [
    "%%time\n",
    "skf = StratifiedKFold(n_splits=3)\n",
    "\n",
    "rf_params = {\n",
    "    'n_estimators': [100, 120],\n",
    "    'max_depth': [15, 16],\n",
    "    'class_weight': [{0: 1, 1: 5}],\n",
    "    'max_features': [0.6, 0.7, 0.9],\n",
    "    'criterion': ['gini', 'entropy']\n",
    "}\n",
    "get_all_stats(fit_grid_rf(rf_params))"
   ]
  },
  {
   "cell_type": "markdown",
   "metadata": {},
   "source": [
    "## Third grid search"
   ]
  },
  {
   "cell_type": "code",
   "execution_count": 129,
   "metadata": {},
   "outputs": [
    {
     "name": "stdout",
     "output_type": "stream",
     "text": [
      "Best grid params:  {'n_estimators': 120, 'class_weight': {0: 1, 1: 5}, 'max_depth': 16, 'max_features': 0.7}\n",
      "Best grid score:  0.9033627162912178\n",
      "Confusion matrix for train:  [[2533   36]\n",
      " [   3  491]]\n",
      "Confusion matrix for test:  [[1065   37]\n",
      " [  77  135]]\n",
      "ROC AUC for train:  0.9959955432492361\n",
      "ROC AUC for test:  0.9105057699551415\n",
      "Best features [('num_emploees_by_company', 0.18117747969189046), (('liked', 'mean'), 0.13567764710778707), (('liked', 'sum'), 0.12094016948906505), ('mean_vote_by_company', 0.09418658704821566), ('first_last_vote_days', 0.08359517353221725), ('numVotes', 0.047785792206117325), (('vote', 'mean'), 0.0467946674413973), (('txt_len', 'min'), 0.041784271851094394)]\n",
      "CPU times: user 7.75 s, sys: 251 ms, total: 8 s\n",
      "Wall time: 4.1 s\n"
     ]
    }
   ],
   "source": [
    "%%time\n",
    "skf = StratifiedKFold(n_splits=3)\n",
    "\n",
    "rf_params = {\n",
    "    'n_estimators': [120],\n",
    "    'max_depth': [16],\n",
    "    'max_features': [0.7],\n",
    "    'class_weight': [{0: 1, 1: 5}]\n",
    "}\n",
    "final_grid = fit_grid_rf(rf_params)\n",
    "get_all_stats(final_grid)"
   ]
  },
  {
   "cell_type": "markdown",
   "metadata": {},
   "source": [
    "Let's try to leave only awesome features."
   ]
  },
  {
   "cell_type": "code",
   "execution_count": 130,
   "metadata": {},
   "outputs": [
    {
     "data": {
      "text/plain": [
       "Index([               'numVotes',          ('vote', 'mean'),\n",
       "                 ('vote', 'min'),           ('vote', 'max'),\n",
       "             ('txt_len', 'mean'),        ('txt_len', 'sum'),\n",
       "              ('txt_len', 'min'),        ('txt_len', 'max'),\n",
       "            ('dislikes', 'mean'),       ('dislikes', 'sum'),\n",
       "             ('dislikes', 'min'),       ('dislikes', 'max'),\n",
       "           ('txt_exist', 'mean'),         ('likes', 'mean'),\n",
       "                ('likes', 'sum'),          ('likes', 'min'),\n",
       "                ('likes', 'max'),         ('liked', 'mean'),\n",
       "                ('liked', 'sum'),      ('disliked', 'mean'),\n",
       "             ('disliked', 'sum'),    'first_last_vote_days',\n",
       "          'mean_vote_by_company', 'num_emploees_by_company'],\n",
       "      dtype='object')"
      ]
     },
     "execution_count": 130,
     "metadata": {},
     "output_type": "execute_result"
    }
   ],
   "source": [
    " X_train.columns"
   ]
  },
  {
   "cell_type": "code",
   "execution_count": 131,
   "metadata": {},
   "outputs": [
    {
     "data": {
      "text/plain": [
       "['num_emploees_by_company',\n",
       " ('liked', 'mean'),\n",
       " ('liked', 'sum'),\n",
       " 'mean_vote_by_company',\n",
       " 'first_last_vote_days',\n",
       " 'numVotes',\n",
       " ('vote', 'mean'),\n",
       " ('txt_len', 'min'),\n",
       " ('txt_len', 'sum')]"
      ]
     },
     "execution_count": 131,
     "metadata": {},
     "output_type": "execute_result"
    }
   ],
   "source": [
    "y = employee['target']\n",
    "\n",
    "best_features = sorted(\n",
    "    zip(\n",
    "        X_train.columns, final_grid.best_estimator_.feature_importances_), key=operator.itemgetter(1), reverse=True\n",
    ")\n",
    "feats = []\n",
    "for feat in best_features:\n",
    "    feats.append(feat[0])\n",
    "feats[:9]"
   ]
  },
  {
   "cell_type": "markdown",
   "metadata": {},
   "source": [
    "The result has not changed, 71 f2 errors are quite a lot."
   ]
  },
  {
   "cell_type": "markdown",
   "metadata": {},
   "source": [
    "The most important feature for this model are:<br>\n",
    "**num_emploees_by_company'** <br>\n",
    "**('liked', 'mean')**<br>\n",
    "**('liked', 'sum')**<br>\n",
    "**first_last_vote_days**<br>\n",
    "**mean_vote_by_company**<br>\n",
    "**('txt_len', 'min')**<br>\n",
    "**numVotes**<br>\n",
    "**('vote', 'mean')**<br>\n",
    "**('txt_len', 'sum')** <br>"
   ]
  },
  {
   "cell_type": "markdown",
   "metadata": {},
   "source": [
    "### Part 9. Prediction for hold-out and test samples <a id='part9'></a>"
   ]
  },
  {
   "cell_type": "code",
   "execution_count": 132,
   "metadata": {},
   "outputs": [
    {
     "name": "stdout",
     "output_type": "stream",
     "text": [
      "Best grid params:  {'n_estimators': 120, 'class_weight': {0: 1, 1: 5}, 'max_depth': 16, 'max_features': 0.7}\n",
      "Best grid score:  0.9033627162912178\n",
      "Confusion matrix for train:  [[2533   36]\n",
      " [   3  491]]\n",
      "Confusion matrix for test:  [[1065   37]\n",
      " [  77  135]]\n",
      "ROC AUC for train:  0.9959955432492361\n",
      "ROC AUC for test:  0.9105057699551415\n",
      "Best features [('num_emploees_by_company', 0.18117747969189046), (('liked', 'mean'), 0.13567764710778707), (('liked', 'sum'), 0.12094016948906505), ('mean_vote_by_company', 0.09418658704821566), ('first_last_vote_days', 0.08359517353221725), ('numVotes', 0.047785792206117325), (('vote', 'mean'), 0.0467946674413973), (('txt_len', 'min'), 0.041784271851094394)]\n"
     ]
    }
   ],
   "source": [
    "get_all_stats(final_grid)"
   ]
  },
  {
   "cell_type": "markdown",
   "metadata": {},
   "source": [
    "ROC AUC for holdout a.k.a test = 0.911"
   ]
  },
  {
   "cell_type": "markdown",
   "metadata": {},
   "source": [
    "### Part 10. Model evaluation with metrics description<a id='part10'></a>"
   ]
  },
  {
   "cell_type": "markdown",
   "metadata": {},
   "source": [
    "I chose to use rock auk for simplicity, you can later develop it and use another metric"
   ]
  },
  {
   "cell_type": "markdown",
   "metadata": {},
   "source": [
    "### Part 11. Conclusions<a id='part11'></a>"
   ]
  },
  {
   "cell_type": "markdown",
   "metadata": {},
   "source": [
    "This task is very important to reduce the costs of finding and adapting employees. In particular, this task is important for large companies, because the turnover in them is more.\n",
    "\n",
    "As a result of researching this data set, it was revealed that the dismissal of an employee does not greatly depend on whether he is happy, more dependent on the size of the company, how active the social life of the employee is, whether he receives likes from employees and how much he interacts with the application.\n",
    "\n",
    "In the future, you can try other models, such as logistic regression, perhaps it will also cope well with this task. You can also improve the predictive model by increasing the size of the data set."
   ]
  }
 ],
 "metadata": {
  "kernelspec": {
   "display_name": "Python 3",
   "language": "python",
   "name": "python3"
  },
  "language_info": {
   "codemirror_mode": {
    "name": "ipython",
    "version": 3
   },
   "file_extension": ".py",
   "mimetype": "text/x-python",
   "name": "python",
   "nbconvert_exporter": "python",
   "pygments_lexer": "ipython3",
   "version": "3.5.2"
  }
 },
 "nbformat": 4,
 "nbformat_minor": 2
}
