{
 "cells": [
  {
   "cell_type": "code",
   "execution_count": 1,
   "metadata": {},
   "outputs": [],
   "source": [
    "import sys\n",
    "import copy\n",
    "import random\n",
    "import hashlib\n",
    "import itertools\n",
    "from PIL import Image\n",
    "import matplotlib.pyplot as plt\n",
    "%matplotlib inline\n",
    "import operator\n",
    "import json\n",
    "import pandas as pd\n",
    "import numpy as np\n",
    "from sklearn.utils import shuffle\n",
    "from sklearn.metrics import confusion_matrix\n",
    "from sklearn.linear_model import SGDClassifier\n",
    "from sklearn.tree import DecisionTreeClassifier\n",
    "from sklearn.ensemble import RandomForestClassifier\n",
    "from sklearn.model_selection import train_test_split\n",
    "from sklearn.metrics import roc_auc_score, f1_score, confusion_matrix, average_precision_score\n",
    "from sklearn.model_selection import validation_curve, learning_curve\n",
    "from IPython.display import Image\n",
    "import seaborn as sns\n",
    "import warnings\n",
    "warnings.filterwarnings('ignore')"
   ]
  },
  {
   "cell_type": "markdown",
   "metadata": {},
   "source": [
    "Data can be downloaded at \n",
    "\n",
    "https://drive.google.com/open?id=1H7N3Y7PEm0_442koQeffVfodlOiR0W_o\n",
    "\n",
    "https://drive.google.com/open?id=1YbI2DFpuR_689OcqTwvRvEgcpu6BXSVt"
   ]
  },
  {
   "cell_type": "code",
   "execution_count": 14,
   "metadata": {},
   "outputs": [],
   "source": [
    "df = pd.read_csv('sites_markup.csv')"
   ]
  },
  {
   "cell_type": "code",
   "execution_count": null,
   "metadata": {},
   "outputs": [],
   "source": [
    "df.head(3)"
   ]
  },
  {
   "cell_type": "markdown",
   "metadata": {},
   "source": [
    "## Part 1. Dataset and features description"
   ]
  },
  {
   "cell_type": "markdown",
   "metadata": {},
   "source": [
    "Dataset was gathered from grocery retail sites.<br>\n",
    "They all have a similar structure, so it's supposed to be possible to parse this sites not by manual rules, but by crawler which can distinguish between elements in site.<br>\n",
    "Let's have a look at the sites"
   ]
  },
  {
   "cell_type": "code",
   "execution_count": 3,
   "metadata": {},
   "outputs": [
    {
     "data": {
      "text/html": [
       "<img src=\"https://habrastorage.org/webt/xe/ek/vu/xeekvu2aogn6mljs-obb4y7nns0.png\" width=\"700\"/>"
      ],
      "text/plain": [
       "<IPython.core.display.Image object>"
      ]
     },
     "execution_count": 3,
     "metadata": {},
     "output_type": "execute_result"
    }
   ],
   "source": [
    "Image(url='https://habrastorage.org/webt/xe/ek/vu/xeekvu2aogn6mljs-obb4y7nns0.png', width=700)"
   ]
  },
  {
   "cell_type": "code",
   "execution_count": 4,
   "metadata": {},
   "outputs": [
    {
     "data": {
      "text/html": [
       "<img src=\"https://habrastorage.org/webt/vz/vz/u8/vzvzu80khqbtlr3cow9xmj8kgwq.png\" width=\"700\"/>"
      ],
      "text/plain": [
       "<IPython.core.display.Image object>"
      ]
     },
     "execution_count": 4,
     "metadata": {},
     "output_type": "execute_result"
    }
   ],
   "source": [
    "Image(url='https://habrastorage.org/webt/vz/vz/u8/vzvzu80khqbtlr3cow9xmj8kgwq.png', width=700)"
   ]
  },
  {
   "cell_type": "code",
   "execution_count": 5,
   "metadata": {},
   "outputs": [
    {
     "data": {
      "text/html": [
       "<img src=\"https://habrastorage.org/webt/ng/s3/8w/ngs38wzj4gtl4bnhikmamyjtory.png\" width=\"700\"/>"
      ],
      "text/plain": [
       "<IPython.core.display.Image object>"
      ]
     },
     "execution_count": 5,
     "metadata": {},
     "output_type": "execute_result"
    }
   ],
   "source": [
    "Image(url='https://habrastorage.org/webt/ng/s3/8w/ngs38wzj4gtl4bnhikmamyjtory.png', width=700)"
   ]
  },
  {
   "cell_type": "markdown",
   "metadata": {},
   "source": [
    "So they indeed similar.<br>\n",
    "Let's look at the dataset and features"
   ]
  },
  {
   "cell_type": "code",
   "execution_count": 1183,
   "metadata": {},
   "outputs": [
    {
     "name": "stdout",
     "output_type": "stream",
     "text": [
      "<class 'pandas.core.frame.DataFrame'>\n",
      "RangeIndex: 129341 entries, 0 to 129340\n",
      "Data columns (total 23 columns):\n",
      "Unnamed: 0               129341 non-null object\n",
      "childs_tags              129341 non-null object\n",
      "depth                    129341 non-null int64\n",
      "element_classes_count    129341 non-null int64\n",
      "element_classes_words    105612 non-null object\n",
      "href_seen                129341 non-null bool\n",
      "img_seen                 129341 non-null bool\n",
      "inner_elements           129341 non-null int64\n",
      "is_displayed             129341 non-null bool\n",
      "is_href                  129341 non-null bool\n",
      "location                 129341 non-null object\n",
      "parent_tag               129341 non-null object\n",
      "screenshot               48761 non-null object\n",
      "shop                     129341 non-null object\n",
      "siblings_count           129341 non-null int64\n",
      "size                     129341 non-null object\n",
      "tag                      129341 non-null object\n",
      "text                     0 non-null float64\n",
      "y                        129341 non-null bool\n",
      "loc_x                    129341 non-null int64\n",
      "loc_y                    129341 non-null int64\n",
      "size_h                   129341 non-null int64\n",
      "size_w                   129341 non-null int64\n",
      "dtypes: bool(5), float64(1), int64(8), object(9)\n",
      "memory usage: 18.4+ MB\n"
     ]
    }
   ],
   "source": [
    "df.info()"
   ]
  },
  {
   "cell_type": "code",
   "execution_count": 1184,
   "metadata": {},
   "outputs": [
    {
     "data": {
      "text/html": [
       "<div>\n",
       "<style scoped>\n",
       "    .dataframe tbody tr th:only-of-type {\n",
       "        vertical-align: middle;\n",
       "    }\n",
       "\n",
       "    .dataframe tbody tr th {\n",
       "        vertical-align: top;\n",
       "    }\n",
       "\n",
       "    .dataframe thead th {\n",
       "        text-align: right;\n",
       "    }\n",
       "</style>\n",
       "<table border=\"1\" class=\"dataframe\">\n",
       "  <thead>\n",
       "    <tr style=\"text-align: right;\">\n",
       "      <th></th>\n",
       "      <th>Unnamed: 0</th>\n",
       "      <th>childs_tags</th>\n",
       "      <th>depth</th>\n",
       "      <th>element_classes_count</th>\n",
       "      <th>element_classes_words</th>\n",
       "      <th>href_seen</th>\n",
       "      <th>img_seen</th>\n",
       "      <th>inner_elements</th>\n",
       "      <th>is_displayed</th>\n",
       "      <th>is_href</th>\n",
       "      <th>...</th>\n",
       "      <th>shop</th>\n",
       "      <th>siblings_count</th>\n",
       "      <th>size</th>\n",
       "      <th>tag</th>\n",
       "      <th>text</th>\n",
       "      <th>y</th>\n",
       "      <th>loc_x</th>\n",
       "      <th>loc_y</th>\n",
       "      <th>size_h</th>\n",
       "      <th>size_w</th>\n",
       "    </tr>\n",
       "  </thead>\n",
       "  <tbody>\n",
       "    <tr>\n",
       "      <th>0</th>\n",
       "      <td>ffc674cb-2ee2-41cc-83dd-ba20eb7238ba</td>\n",
       "      <td></td>\n",
       "      <td>5</td>\n",
       "      <td>1</td>\n",
       "      <td>sendpulse bell path</td>\n",
       "      <td>False</td>\n",
       "      <td>False</td>\n",
       "      <td>0</td>\n",
       "      <td>True</td>\n",
       "      <td>False</td>\n",
       "      <td>...</td>\n",
       "      <td>Европа</td>\n",
       "      <td>0</td>\n",
       "      <td>{'height': 14.0, 'width': 14.0}</td>\n",
       "      <td>use</td>\n",
       "      <td>NaN</td>\n",
       "      <td>False</td>\n",
       "      <td>96</td>\n",
       "      <td>21</td>\n",
       "      <td>14</td>\n",
       "      <td>14</td>\n",
       "    </tr>\n",
       "    <tr>\n",
       "      <th>1</th>\n",
       "      <td>09867f88-1872-4611-9aec-8f09ee0e5941</td>\n",
       "      <td>'use'</td>\n",
       "      <td>4</td>\n",
       "      <td>1</td>\n",
       "      <td>sendpulse bell icon</td>\n",
       "      <td>False</td>\n",
       "      <td>False</td>\n",
       "      <td>1</td>\n",
       "      <td>True</td>\n",
       "      <td>False</td>\n",
       "      <td>...</td>\n",
       "      <td>Европа</td>\n",
       "      <td>4</td>\n",
       "      <td>{'height': 14.0, 'width': 14.0}</td>\n",
       "      <td>svg</td>\n",
       "      <td>NaN</td>\n",
       "      <td>False</td>\n",
       "      <td>96</td>\n",
       "      <td>21</td>\n",
       "      <td>14</td>\n",
       "      <td>14</td>\n",
       "    </tr>\n",
       "  </tbody>\n",
       "</table>\n",
       "<p>2 rows × 23 columns</p>\n",
       "</div>"
      ],
      "text/plain": [
       "                             Unnamed: 0 childs_tags  depth  \\\n",
       "0  ffc674cb-2ee2-41cc-83dd-ba20eb7238ba                  5   \n",
       "1  09867f88-1872-4611-9aec-8f09ee0e5941       'use'      4   \n",
       "\n",
       "   element_classes_count element_classes_words  href_seen  img_seen  \\\n",
       "0                      1   sendpulse bell path      False     False   \n",
       "1                      1   sendpulse bell icon      False     False   \n",
       "\n",
       "   inner_elements  is_displayed  is_href   ...      shop siblings_count  \\\n",
       "0               0          True    False   ...    Европа              0   \n",
       "1               1          True    False   ...    Европа              4   \n",
       "\n",
       "                              size  tag  text      y loc_x  loc_y  size_h  \\\n",
       "0  {'height': 14.0, 'width': 14.0}  use   NaN  False    96     21      14   \n",
       "1  {'height': 14.0, 'width': 14.0}  svg   NaN  False    96     21      14   \n",
       "\n",
       "   size_w  \n",
       "0      14  \n",
       "1      14  \n",
       "\n",
       "[2 rows x 23 columns]"
      ]
     },
     "execution_count": 1184,
     "metadata": {},
     "output_type": "execute_result"
    }
   ],
   "source": [
    "df.head(2)"
   ]
  },
  {
   "cell_type": "markdown",
   "metadata": {},
   "source": [
    "Features were constructed from common sense and couple papers with similar goal (https://medium.com/contentsquare-engineering-blog/automatic-zone-recognition-in-webpages-68fb2efab822 , https://arxiv.org/pdf/1210.6113.pdf).\n",
    "\n",
    "<i>childs_tags</i> - tags that nested elements have<br>\n",
    "<i>depth</i> - depth in HTML markup tree<br>\n",
    "<i>element_classes_count</i> - how many classes have an element<br>\n",
    "<i>element_classes_words</i> - element's classes names<br>\n",
    "<i>href_seen</i> - is href somewhere inside child elements<br>\n",
    "<i>img_seen</i> - is img somewhere inside child elements<br>\n",
    "<i>inner_elements</i> - how many nested elements<br>\n",
    "<i>is_displayed</i> - is_displayed flag from selenium<br>\n",
    "<i>is_href</i> - is current element href<br>\n",
    "<i>location</i> - loacation of upper-left corner on page<br>\n",
    "<i>parent_tag</i> - which tag have element's ancestor<br>\n",
    "<i>screenshot</i> - path to element's screenshot<br>\n",
    "<i>shop</i> - shop's name<br>\n",
    "<i>siblings_count</i> - how many other elements lay on the same layer<br>\n",
    "<i>size</i> - width and height of element<br>\n",
    "<i>tag</i> - element's tag<br>\n",
    "<i>text</i> - text inside the element<br>\n",
    "<i>y</i> - is it a \"product card\" our target<br>"
   ]
  },
  {
   "cell_type": "markdown",
   "metadata": {},
   "source": [
    "Our goal to find \"product card\" object"
   ]
  },
  {
   "cell_type": "code",
   "execution_count": 6,
   "metadata": {},
   "outputs": [
    {
     "data": {
      "text/html": [
       "<img src=\"https://habrastorage.org/webt/if/yo/r2/ifyor2xutwypu-eyqfufqnh2g5o.png\" width=\"900\"/>"
      ],
      "text/plain": [
       "<IPython.core.display.Image object>"
      ]
     },
     "execution_count": 6,
     "metadata": {},
     "output_type": "execute_result"
    }
   ],
   "source": [
    "Image(url='https://habrastorage.org/webt/if/yo/r2/ifyor2xutwypu-eyqfufqnh2g5o.png', width=900)"
   ]
  },
  {
   "cell_type": "markdown",
   "metadata": {},
   "source": [
    "As we can see there are many products on the same page. Each product card has many descending elements and specific structure like picture, price, product name, rating, to_cart, etc.\n",
    "\n",
    "Data was gathered not just by downloading pages to obtain raw html, but with page execution to get element sizes and locations.\n",
    "\n",
    "When we'll get auto product card recognition, our crawlers will be able to get products from a wide range of sites without explicit rules. It is possible to crawl all sites by hands, but boring and after 20+ sites, it's harder to maintain, because site's structure changes over time."
   ]
  },
  {
   "cell_type": "markdown",
   "metadata": {},
   "source": [
    "### Part 1.5 Raw data processing"
   ]
  },
  {
   "cell_type": "markdown",
   "metadata": {},
   "source": [
    "'childs_tags', 'location', 'parent_tag', 'size' - needs to be corrected. All array elements will be strings with \" \" separator, and all ints will be separate fields."
   ]
  },
  {
   "cell_type": "code",
   "execution_count": 389,
   "metadata": {},
   "outputs": [],
   "source": [
    "df[['loc_x', 'loc_y']] = df['location'].str.replace(\"'\", '\"').apply(json.loads).apply(pd.Series)\n",
    "df[['size_h', 'size_w']] = df['size'].str.replace(\"'\", '\"').apply(json.loads).apply(pd.Series)\n",
    "df.size_h = df.size_h.astype(int)\n",
    "df.size_w = df.size_w.astype(int)"
   ]
  },
  {
   "cell_type": "code",
   "execution_count": 390,
   "metadata": {},
   "outputs": [],
   "source": [
    "df['parent_tag'] = df.parent_tag.str.split('_')\n",
    "df['childs_tags'] = df.childs_tags.apply(lambda x: x.replace('[', '').replace(']','').strip())"
   ]
  },
  {
   "cell_type": "markdown",
   "metadata": {},
   "source": [
    "Drop some columns"
   ]
  },
  {
   "cell_type": "code",
   "execution_count": 392,
   "metadata": {},
   "outputs": [],
   "source": [
    "df_clean = df.copy()\n",
    "df_clean.drop(['location', 'size', 'Unnamed: 0'], axis=1, inplace=True)"
   ]
  },
  {
   "cell_type": "markdown",
   "metadata": {},
   "source": [
    "## Part 2-3-4. Exploratory data analysis and visual analysis of the features. Patterns, insights, pecularities of data"
   ]
  },
  {
   "cell_type": "markdown",
   "metadata": {},
   "source": [
    "#### target distribution\n",
    "First things first. Let's find your target feature distribution."
   ]
  },
  {
   "cell_type": "code",
   "execution_count": 393,
   "metadata": {},
   "outputs": [
    {
     "data": {
      "text/plain": [
       "False    126312\n",
       "True       3029\n",
       "Name: y, dtype: int64"
      ]
     },
     "execution_count": 393,
     "metadata": {},
     "output_type": "execute_result"
    }
   ],
   "source": [
    "df_clean['y'].value_counts()"
   ]
  },
  {
   "cell_type": "markdown",
   "metadata": {},
   "source": [
    "Only 3k true values, which is 42:1 distribution. No surprise though, we got each element of DOM tree as row start from body."
   ]
  },
  {
   "cell_type": "markdown",
   "metadata": {},
   "source": [
    "I've made a screenshot for every element, not for deep learning and image recognition but to ease understanding how an element looks like. (Screenshot for every element it's too many images, so I'll make screenshot over the graph with screenshots =))\n",
    "\n",
    "How looks target elements:"
   ]
  },
  {
   "cell_type": "code",
   "execution_count": 7,
   "metadata": {},
   "outputs": [
    {
     "data": {
      "text/html": [
       "<img src=\"https://habrastorage.org/webt/bz/xy/ds/bzxydsgez9atzsqavsatzgibrlm.png\" width=\"900\"/>"
      ],
      "text/plain": [
       "<IPython.core.display.Image object>"
      ]
     },
     "execution_count": 7,
     "metadata": {},
     "output_type": "execute_result"
    }
   ],
   "source": [
    "Image(url='https://habrastorage.org/webt/bz/xy/ds/bzxydsgez9atzsqavsatzgibrlm.png', width=900)"
   ]
  },
  {
   "cell_type": "markdown",
   "metadata": {},
   "source": [
    "Indeed very simular"
   ]
  },
  {
   "cell_type": "markdown",
   "metadata": {},
   "source": [
    "#### Overall stats"
   ]
  },
  {
   "cell_type": "code",
   "execution_count": 395,
   "metadata": {},
   "outputs": [
    {
     "data": {
      "text/html": [
       "<div>\n",
       "<style scoped>\n",
       "    .dataframe tbody tr th:only-of-type {\n",
       "        vertical-align: middle;\n",
       "    }\n",
       "\n",
       "    .dataframe tbody tr th {\n",
       "        vertical-align: top;\n",
       "    }\n",
       "\n",
       "    .dataframe thead th {\n",
       "        text-align: right;\n",
       "    }\n",
       "</style>\n",
       "<table border=\"1\" class=\"dataframe\">\n",
       "  <thead>\n",
       "    <tr style=\"text-align: right;\">\n",
       "      <th></th>\n",
       "      <th>childs_tags</th>\n",
       "      <th>depth</th>\n",
       "      <th>element_classes_count</th>\n",
       "      <th>element_classes_words</th>\n",
       "      <th>href_seen</th>\n",
       "      <th>img_seen</th>\n",
       "      <th>inner_elements</th>\n",
       "      <th>is_displayed</th>\n",
       "      <th>is_href</th>\n",
       "      <th>parent_tag</th>\n",
       "      <th>screenshot</th>\n",
       "      <th>shop</th>\n",
       "      <th>siblings_count</th>\n",
       "      <th>tag</th>\n",
       "      <th>text</th>\n",
       "      <th>y</th>\n",
       "      <th>loc_x</th>\n",
       "      <th>loc_y</th>\n",
       "      <th>size_h</th>\n",
       "      <th>size_w</th>\n",
       "    </tr>\n",
       "  </thead>\n",
       "  <tbody>\n",
       "    <tr>\n",
       "      <th>0</th>\n",
       "      <td></td>\n",
       "      <td>5</td>\n",
       "      <td>1</td>\n",
       "      <td>sendpulse bell path</td>\n",
       "      <td>False</td>\n",
       "      <td>False</td>\n",
       "      <td>0</td>\n",
       "      <td>True</td>\n",
       "      <td>False</td>\n",
       "      <td>[body, div, div, svg]</td>\n",
       "      <td>NaN</td>\n",
       "      <td>Европа</td>\n",
       "      <td>0</td>\n",
       "      <td>use</td>\n",
       "      <td>NaN</td>\n",
       "      <td>False</td>\n",
       "      <td>96</td>\n",
       "      <td>21</td>\n",
       "      <td>14</td>\n",
       "      <td>14</td>\n",
       "    </tr>\n",
       "  </tbody>\n",
       "</table>\n",
       "</div>"
      ],
      "text/plain": [
       "  childs_tags  depth  element_classes_count element_classes_words  href_seen  \\\n",
       "0                  5                      1   sendpulse bell path      False   \n",
       "\n",
       "   img_seen  inner_elements  is_displayed  is_href             parent_tag  \\\n",
       "0     False               0          True    False  [body, div, div, svg]   \n",
       "\n",
       "  screenshot    shop  siblings_count  tag  text      y  loc_x  loc_y  size_h  \\\n",
       "0        NaN  Европа               0  use   NaN  False     96     21      14   \n",
       "\n",
       "   size_w  \n",
       "0      14  "
      ]
     },
     "execution_count": 395,
     "metadata": {},
     "output_type": "execute_result"
    }
   ],
   "source": [
    "df_clean.head(1)"
   ]
  },
  {
   "cell_type": "code",
   "execution_count": 396,
   "metadata": {},
   "outputs": [],
   "source": [
    "continuous_vars = ['depth', 'element_classes_count', 'inner_elements', 'siblings_count', 'loc_x', 'loc_y', 'size_h', 'size_w']"
   ]
  },
  {
   "cell_type": "code",
   "execution_count": 397,
   "metadata": {},
   "outputs": [
    {
     "data": {
      "text/plain": [
       "depth                      12.898532\n",
       "element_classes_count       1.256964\n",
       "inner_elements             17.926821\n",
       "siblings_count              3.607510\n",
       "loc_x                     403.495860\n",
       "loc_y                    3264.209663\n",
       "size_h                     93.453190\n",
       "size_w                    141.481858\n",
       "dtype: float64"
      ]
     },
     "execution_count": 397,
     "metadata": {},
     "output_type": "execute_result"
    }
   ],
   "source": [
    "df_clean[continuous_vars].mean()"
   ]
  },
  {
   "cell_type": "code",
   "execution_count": 398,
   "metadata": {},
   "outputs": [
    {
     "data": {
      "text/plain": [
       "depth                      10.140640\n",
       "element_classes_count       1.923077\n",
       "inner_elements             37.172334\n",
       "siblings_count             14.893364\n",
       "loc_x                     433.352261\n",
       "loc_y                    3221.284913\n",
       "size_h                    354.146253\n",
       "size_w                    244.189501\n",
       "dtype: float64"
      ]
     },
     "execution_count": 398,
     "metadata": {},
     "output_type": "execute_result"
    }
   ],
   "source": [
    "df_clean[df_clean.y == 1][continuous_vars].mean()"
   ]
  },
  {
   "cell_type": "markdown",
   "metadata": {},
   "source": [
    "#### depth\n",
    "At what depth sitting target elements"
   ]
  },
  {
   "cell_type": "code",
   "execution_count": 399,
   "metadata": {},
   "outputs": [
    {
     "data": {
      "text/plain": [
       "shop\n",
       "Азбука вкуса     8.000000\n",
       "Европа          10.000000\n",
       "Комус           10.000000\n",
       "Метро            9.000000\n",
       "Окей            13.092545\n",
       "Перекрёсток     10.000000\n",
       "Name: depth, dtype: float64"
      ]
     },
     "execution_count": 399,
     "metadata": {},
     "output_type": "execute_result"
    }
   ],
   "source": [
    "df_clean[df_clean.y == 1].groupby('shop')['depth'].mean()"
   ]
  },
  {
   "cell_type": "markdown",
   "metadata": {},
   "source": [
    "Strange behavior for 'Окей'. Let's investigate."
   ]
  },
  {
   "cell_type": "code",
   "execution_count": 400,
   "metadata": {},
   "outputs": [
    {
     "data": {
      "text/plain": [
       "(706, 20)"
      ]
     },
     "execution_count": 400,
     "metadata": {},
     "output_type": "execute_result"
    }
   ],
   "source": [
    "df_clean[(df_clean.shop ==  'Окей') & (df_clean.y == 1) & (df_clean.depth == 13)].shape"
   ]
  },
  {
   "cell_type": "code",
   "execution_count": 401,
   "metadata": {},
   "outputs": [
    {
     "data": {
      "text/plain": [
       "(72, 20)"
      ]
     },
     "execution_count": 401,
     "metadata": {},
     "output_type": "execute_result"
    }
   ],
   "source": [
    "df_clean[(df_clean.shop ==  'Окей') & (df_clean.y == 1) & (df_clean.depth != 13)].shape"
   ]
  },
  {
   "cell_type": "markdown",
   "metadata": {},
   "source": [
    "Almost all product cards from 'Окей' depth == 13, let's look at them\n",
    "\n",
    "images for df_clean[(df_clean.shop ==  'Окей') & (df_clean.y == 1) & (df_clean.depth == 13)]"
   ]
  },
  {
   "cell_type": "code",
   "execution_count": 8,
   "metadata": {},
   "outputs": [
    {
     "data": {
      "text/html": [
       "<img src=\"https://habrastorage.org/webt/vf/uz/rd/vfuzrdfzhrzihvarhglnfk4zdje.png\" width=\"900\"/>"
      ],
      "text/plain": [
       "<IPython.core.display.Image object>"
      ]
     },
     "execution_count": 8,
     "metadata": {},
     "output_type": "execute_result"
    }
   ],
   "source": [
    "Image(url='https://habrastorage.org/webt/vf/uz/rd/vfuzrdfzhrzihvarhglnfk4zdje.png', width=900)"
   ]
  },
  {
   "cell_type": "markdown",
   "metadata": {},
   "source": [
    "images for df_clean[(df_clean.shop == 'Окей') & (df_clean.y == 1) & (df_clean.depth != 13)]"
   ]
  },
  {
   "cell_type": "code",
   "execution_count": 9,
   "metadata": {},
   "outputs": [
    {
     "data": {
      "text/html": [
       "<img src=\"https://habrastorage.org/webt/32/ee/ah/32eeahfoleo-ijciyzz1dvbv8hs.png\" width=\"900\"/>"
      ],
      "text/plain": [
       "<IPython.core.display.Image object>"
      ]
     },
     "execution_count": 9,
     "metadata": {},
     "output_type": "execute_result"
    }
   ],
   "source": [
    "Image(url='https://habrastorage.org/webt/32/ee/ah/32eeahfoleo-ijciyzz1dvbv8hs.png', width=900)"
   ]
  },
  {
   "cell_type": "markdown",
   "metadata": {},
   "source": [
    "Looks the same"
   ]
  },
  {
   "cell_type": "code",
   "execution_count": 404,
   "metadata": {},
   "outputs": [
    {
     "data": {
      "text/html": [
       "<div>\n",
       "<style scoped>\n",
       "    .dataframe tbody tr th:only-of-type {\n",
       "        vertical-align: middle;\n",
       "    }\n",
       "\n",
       "    .dataframe tbody tr th {\n",
       "        vertical-align: top;\n",
       "    }\n",
       "\n",
       "    .dataframe thead th {\n",
       "        text-align: right;\n",
       "    }\n",
       "</style>\n",
       "<table border=\"1\" class=\"dataframe\">\n",
       "  <thead>\n",
       "    <tr style=\"text-align: right;\">\n",
       "      <th></th>\n",
       "      <th>childs_tags</th>\n",
       "      <th>depth</th>\n",
       "      <th>element_classes_count</th>\n",
       "      <th>element_classes_words</th>\n",
       "      <th>href_seen</th>\n",
       "      <th>img_seen</th>\n",
       "      <th>inner_elements</th>\n",
       "      <th>is_displayed</th>\n",
       "      <th>is_href</th>\n",
       "      <th>parent_tag</th>\n",
       "      <th>screenshot</th>\n",
       "      <th>shop</th>\n",
       "      <th>siblings_count</th>\n",
       "      <th>tag</th>\n",
       "      <th>text</th>\n",
       "      <th>y</th>\n",
       "      <th>loc_x</th>\n",
       "      <th>loc_y</th>\n",
       "      <th>size_h</th>\n",
       "      <th>size_w</th>\n",
       "    </tr>\n",
       "  </thead>\n",
       "  <tbody>\n",
       "    <tr>\n",
       "      <th>103350</th>\n",
       "      <td>'input', 'script', 'span', 'img', 'a', 'label'...</td>\n",
       "      <td>13</td>\n",
       "      <td>2</td>\n",
       "      <td>product ok theme</td>\n",
       "      <td>True</td>\n",
       "      <td>True</td>\n",
       "      <td>31</td>\n",
       "      <td>True</td>\n",
       "      <td>False</td>\n",
       "      <td>[body, div, div, div, div, div, div, div, div,...</td>\n",
       "      <td>/home/d.perepechin/scr_shot/cf5c43b9-6120-43f9...</td>\n",
       "      <td>Окей</td>\n",
       "      <td>3</td>\n",
       "      <td>div</td>\n",
       "      <td>NaN</td>\n",
       "      <td>True</td>\n",
       "      <td>214</td>\n",
       "      <td>351</td>\n",
       "      <td>304</td>\n",
       "      <td>202</td>\n",
       "    </tr>\n",
       "  </tbody>\n",
       "</table>\n",
       "</div>"
      ],
      "text/plain": [
       "                                              childs_tags  depth  \\\n",
       "103350  'input', 'script', 'span', 'img', 'a', 'label'...     13   \n",
       "\n",
       "        element_classes_count element_classes_words  href_seen  img_seen  \\\n",
       "103350                      2      product ok theme       True      True   \n",
       "\n",
       "        inner_elements  is_displayed  is_href  \\\n",
       "103350              31          True    False   \n",
       "\n",
       "                                               parent_tag  \\\n",
       "103350  [body, div, div, div, div, div, div, div, div,...   \n",
       "\n",
       "                                               screenshot  shop  \\\n",
       "103350  /home/d.perepechin/scr_shot/cf5c43b9-6120-43f9...  Окей   \n",
       "\n",
       "        siblings_count  tag  text     y  loc_x  loc_y  size_h  size_w  \n",
       "103350               3  div   NaN  True    214    351     304     202  "
      ]
     },
     "execution_count": 404,
     "metadata": {},
     "output_type": "execute_result"
    }
   ],
   "source": [
    "df_clean[(df_clean.shop ==  'Окей') & (df_clean.y == 1) & (df_clean.depth == 13)].head(1)"
   ]
  },
  {
   "cell_type": "code",
   "execution_count": 405,
   "metadata": {},
   "outputs": [
    {
     "data": {
      "text/html": [
       "<div>\n",
       "<style scoped>\n",
       "    .dataframe tbody tr th:only-of-type {\n",
       "        vertical-align: middle;\n",
       "    }\n",
       "\n",
       "    .dataframe tbody tr th {\n",
       "        vertical-align: top;\n",
       "    }\n",
       "\n",
       "    .dataframe thead th {\n",
       "        text-align: right;\n",
       "    }\n",
       "</style>\n",
       "<table border=\"1\" class=\"dataframe\">\n",
       "  <thead>\n",
       "    <tr style=\"text-align: right;\">\n",
       "      <th></th>\n",
       "      <th>childs_tags</th>\n",
       "      <th>depth</th>\n",
       "      <th>element_classes_count</th>\n",
       "      <th>element_classes_words</th>\n",
       "      <th>href_seen</th>\n",
       "      <th>img_seen</th>\n",
       "      <th>inner_elements</th>\n",
       "      <th>is_displayed</th>\n",
       "      <th>is_href</th>\n",
       "      <th>parent_tag</th>\n",
       "      <th>screenshot</th>\n",
       "      <th>shop</th>\n",
       "      <th>siblings_count</th>\n",
       "      <th>tag</th>\n",
       "      <th>text</th>\n",
       "      <th>y</th>\n",
       "      <th>loc_x</th>\n",
       "      <th>loc_y</th>\n",
       "      <th>size_h</th>\n",
       "      <th>size_w</th>\n",
       "    </tr>\n",
       "  </thead>\n",
       "  <tbody>\n",
       "    <tr>\n",
       "      <th>109958</th>\n",
       "      <td>'input', 'script', 'ul', 'span', 'img', 'a', '...</td>\n",
       "      <td>14</td>\n",
       "      <td>2</td>\n",
       "      <td>product ok theme</td>\n",
       "      <td>True</td>\n",
       "      <td>True</td>\n",
       "      <td>34</td>\n",
       "      <td>True</td>\n",
       "      <td>False</td>\n",
       "      <td>[body, div, div, div, div, div, div, div, div,...</td>\n",
       "      <td>/home/d.perepechin/scr_shot/d411110f-8f20-4163...</td>\n",
       "      <td>Окей</td>\n",
       "      <td>3</td>\n",
       "      <td>div</td>\n",
       "      <td>NaN</td>\n",
       "      <td>True</td>\n",
       "      <td>214</td>\n",
       "      <td>443</td>\n",
       "      <td>304</td>\n",
       "      <td>202</td>\n",
       "    </tr>\n",
       "  </tbody>\n",
       "</table>\n",
       "</div>"
      ],
      "text/plain": [
       "                                              childs_tags  depth  \\\n",
       "109958  'input', 'script', 'ul', 'span', 'img', 'a', '...     14   \n",
       "\n",
       "        element_classes_count element_classes_words  href_seen  img_seen  \\\n",
       "109958                      2      product ok theme       True      True   \n",
       "\n",
       "        inner_elements  is_displayed  is_href  \\\n",
       "109958              34          True    False   \n",
       "\n",
       "                                               parent_tag  \\\n",
       "109958  [body, div, div, div, div, div, div, div, div,...   \n",
       "\n",
       "                                               screenshot  shop  \\\n",
       "109958  /home/d.perepechin/scr_shot/d411110f-8f20-4163...  Окей   \n",
       "\n",
       "        siblings_count  tag  text     y  loc_x  loc_y  size_h  size_w  \n",
       "109958               3  div   NaN  True    214    443     304     202  "
      ]
     },
     "execution_count": 405,
     "metadata": {},
     "output_type": "execute_result"
    }
   ],
   "source": [
    "df_clean[(df_clean.shop ==  'Окей') & (df_clean.y == 1) & (df_clean.depth != 13)].head(1)"
   ]
  },
  {
   "cell_type": "markdown",
   "metadata": {},
   "source": [
    "Same tags and class names, inner_elements vary a little. Everything correct, just depth varies"
   ]
  },
  {
   "cell_type": "code",
   "execution_count": 406,
   "metadata": {},
   "outputs": [
    {
     "name": "stderr",
     "output_type": "stream",
     "text": [
      "/home/perepechin/anaconda3/envs/fastai/lib/python3.6/site-packages/scipy/stats/stats.py:1713: FutureWarning: Using a non-tuple sequence for multidimensional indexing is deprecated; use `arr[tuple(seq)]` instead of `arr[seq]`. In the future this will be interpreted as an array index, `arr[np.array(seq)]`, which will result either in an error or a different result.\n",
      "  return np.add.reduce(sorted[indexer] * weights, axis=axis) / sumval\n"
     ]
    },
    {
     "data": {
      "text/plain": [
       "<matplotlib.axes._subplots.AxesSubplot at 0x7f70f40e8898>"
      ]
     },
     "execution_count": 406,
     "metadata": {},
     "output_type": "execute_result"
    },
    {
     "data": {
      "image/png": "[encoded data removed]",
      "text/plain": [
       "<Figure size 432x288 with 1 Axes>"
      ]
     },
     "metadata": {
      "needs_background": "light"
     },
     "output_type": "display_data"
    }
   ],
   "source": [
    "sns.barplot(df_clean.depth, df_clean.y)"
   ]
  },
  {
   "cell_type": "markdown",
   "metadata": {},
   "source": [
    "Outlayer depth==16"
   ]
  },
  {
   "cell_type": "code",
   "execution_count": 407,
   "metadata": {},
   "outputs": [
    {
     "data": {
      "text/html": [
       "<div>\n",
       "<style scoped>\n",
       "    .dataframe tbody tr th:only-of-type {\n",
       "        vertical-align: middle;\n",
       "    }\n",
       "\n",
       "    .dataframe tbody tr th {\n",
       "        vertical-align: top;\n",
       "    }\n",
       "\n",
       "    .dataframe thead th {\n",
       "        text-align: right;\n",
       "    }\n",
       "</style>\n",
       "<table border=\"1\" class=\"dataframe\">\n",
       "  <thead>\n",
       "    <tr style=\"text-align: right;\">\n",
       "      <th></th>\n",
       "      <th>childs_tags</th>\n",
       "      <th>depth</th>\n",
       "      <th>element_classes_count</th>\n",
       "      <th>element_classes_words</th>\n",
       "      <th>href_seen</th>\n",
       "      <th>img_seen</th>\n",
       "      <th>inner_elements</th>\n",
       "      <th>is_displayed</th>\n",
       "      <th>is_href</th>\n",
       "      <th>parent_tag</th>\n",
       "      <th>screenshot</th>\n",
       "      <th>shop</th>\n",
       "      <th>siblings_count</th>\n",
       "      <th>tag</th>\n",
       "      <th>text</th>\n",
       "      <th>y</th>\n",
       "      <th>loc_x</th>\n",
       "      <th>loc_y</th>\n",
       "      <th>size_h</th>\n",
       "      <th>size_w</th>\n",
       "    </tr>\n",
       "  </thead>\n",
       "  <tbody>\n",
       "    <tr>\n",
       "      <th>35167</th>\n",
       "      <td>'nav', 'img', 'div', 'a', 'span'</td>\n",
       "      <td>16</td>\n",
       "      <td>3</td>\n",
       "      <td>retailrocket item container js product jsrr pr...</td>\n",
       "      <td>True</td>\n",
       "      <td>True</td>\n",
       "      <td>17</td>\n",
       "      <td>True</td>\n",
       "      <td>False</td>\n",
       "      <td>[body, div, div, section, main, div, ul, div, ...</td>\n",
       "      <td>/home/d.perepechin/scr_shot/7fb326ff-4a62-4b9b...</td>\n",
       "      <td>Перекрёсток</td>\n",
       "      <td>0</td>\n",
       "      <td>div</td>\n",
       "      <td>NaN</td>\n",
       "      <td>True</td>\n",
       "      <td>286</td>\n",
       "      <td>1030</td>\n",
       "      <td>118</td>\n",
       "      <td>222</td>\n",
       "    </tr>\n",
       "  </tbody>\n",
       "</table>\n",
       "</div>"
      ],
      "text/plain": [
       "                            childs_tags  depth  element_classes_count  \\\n",
       "35167  'nav', 'img', 'div', 'a', 'span'     16                      3   \n",
       "\n",
       "                                   element_classes_words  href_seen  img_seen  \\\n",
       "35167  retailrocket item container js product jsrr pr...       True      True   \n",
       "\n",
       "       inner_elements  is_displayed  is_href  \\\n",
       "35167              17          True    False   \n",
       "\n",
       "                                              parent_tag  \\\n",
       "35167  [body, div, div, section, main, div, ul, div, ...   \n",
       "\n",
       "                                              screenshot         shop  \\\n",
       "35167  /home/d.perepechin/scr_shot/7fb326ff-4a62-4b9b...  Перекрёсток   \n",
       "\n",
       "       siblings_count  tag  text     y  loc_x  loc_y  size_h  size_w  \n",
       "35167               0  div   NaN  True    286   1030     118     222  "
      ]
     },
     "execution_count": 407,
     "metadata": {},
     "output_type": "execute_result"
    }
   ],
   "source": [
    "df_clean[(df_clean.y == 1) & (df_clean.depth == 16)].head(1)"
   ]
  },
  {
   "cell_type": "code",
   "execution_count": 10,
   "metadata": {},
   "outputs": [
    {
     "data": {
      "text/html": [
       "<img src=\"https://habrastorage.org/webt/gm/fz/hi/gmfzhiial3a_fxgj5lfq2oaa-ac.png\" width=\"900\"/>"
      ],
      "text/plain": [
       "<IPython.core.display.Image object>"
      ]
     },
     "execution_count": 10,
     "metadata": {},
     "output_type": "execute_result"
    }
   ],
   "source": [
    "Image(url='https://habrastorage.org/webt/gm/fz/hi/gmfzhiial3a_fxgj5lfq2oaa-ac.png', width=900)"
   ]
  },
  {
   "cell_type": "markdown",
   "metadata": {},
   "source": [
    "Most cards in 'Перекрёсток' is 9 depth"
   ]
  },
  {
   "cell_type": "code",
   "execution_count": 409,
   "metadata": {},
   "outputs": [
    {
     "data": {
      "text/html": [
       "<div>\n",
       "<style scoped>\n",
       "    .dataframe tbody tr th:only-of-type {\n",
       "        vertical-align: middle;\n",
       "    }\n",
       "\n",
       "    .dataframe tbody tr th {\n",
       "        vertical-align: top;\n",
       "    }\n",
       "\n",
       "    .dataframe thead th {\n",
       "        text-align: right;\n",
       "    }\n",
       "</style>\n",
       "<table border=\"1\" class=\"dataframe\">\n",
       "  <thead>\n",
       "    <tr style=\"text-align: right;\">\n",
       "      <th></th>\n",
       "      <th>childs_tags</th>\n",
       "      <th>depth</th>\n",
       "      <th>element_classes_count</th>\n",
       "      <th>element_classes_words</th>\n",
       "      <th>href_seen</th>\n",
       "      <th>img_seen</th>\n",
       "      <th>inner_elements</th>\n",
       "      <th>is_displayed</th>\n",
       "      <th>is_href</th>\n",
       "      <th>parent_tag</th>\n",
       "      <th>screenshot</th>\n",
       "      <th>shop</th>\n",
       "      <th>siblings_count</th>\n",
       "      <th>tag</th>\n",
       "      <th>text</th>\n",
       "      <th>y</th>\n",
       "      <th>loc_x</th>\n",
       "      <th>loc_y</th>\n",
       "      <th>size_h</th>\n",
       "      <th>size_w</th>\n",
       "    </tr>\n",
       "  </thead>\n",
       "  <tbody>\n",
       "    <tr>\n",
       "      <th>35062</th>\n",
       "      <td>'figure', 'svg', 'img', 'li', 'ul', 'figcaptio...</td>\n",
       "      <td>9</td>\n",
       "      <td>2</td>\n",
       "      <td>xf product js product</td>\n",
       "      <td>True</td>\n",
       "      <td>True</td>\n",
       "      <td>52</td>\n",
       "      <td>True</td>\n",
       "      <td>False</td>\n",
       "      <td>[body, div, div, section, main, div, ul, li]</td>\n",
       "      <td>/home/d.perepechin/scr_shot/8e25c148-996b-4dac...</td>\n",
       "      <td>Перекрёсток</td>\n",
       "      <td>0</td>\n",
       "      <td>div</td>\n",
       "      <td>NaN</td>\n",
       "      <td>True</td>\n",
       "      <td>286</td>\n",
       "      <td>576</td>\n",
       "      <td>395</td>\n",
       "      <td>221</td>\n",
       "    </tr>\n",
       "  </tbody>\n",
       "</table>\n",
       "</div>"
      ],
      "text/plain": [
       "                                             childs_tags  depth  \\\n",
       "35062  'figure', 'svg', 'img', 'li', 'ul', 'figcaptio...      9   \n",
       "\n",
       "       element_classes_count    element_classes_words  href_seen  img_seen  \\\n",
       "35062                      2  xf product js product         True      True   \n",
       "\n",
       "       inner_elements  is_displayed  is_href  \\\n",
       "35062              52          True    False   \n",
       "\n",
       "                                         parent_tag  \\\n",
       "35062  [body, div, div, section, main, div, ul, li]   \n",
       "\n",
       "                                              screenshot         shop  \\\n",
       "35062  /home/d.perepechin/scr_shot/8e25c148-996b-4dac...  Перекрёсток   \n",
       "\n",
       "       siblings_count  tag  text     y  loc_x  loc_y  size_h  size_w  \n",
       "35062               0  div   NaN  True    286    576     395     221  "
      ]
     },
     "execution_count": 409,
     "metadata": {},
     "output_type": "execute_result"
    }
   ],
   "source": [
    "df_clean[(df_clean.y == 1) & (df_clean.shop == 'Перекрёсток')].head(1)"
   ]
  },
  {
   "cell_type": "code",
   "execution_count": 11,
   "metadata": {},
   "outputs": [
    {
     "data": {
      "text/html": [
       "<img src=\"https://habrastorage.org/webt/na/us/e4/nause4he1lpfur_l-hvvjug12tk.png\" width=\"900\"/>"
      ],
      "text/plain": [
       "<IPython.core.display.Image object>"
      ]
     },
     "execution_count": 11,
     "metadata": {},
     "output_type": "execute_result"
    }
   ],
   "source": [
    "Image(url='https://habrastorage.org/webt/na/us/e4/nause4he1lpfur_l-hvvjug12tk.png', width=900)"
   ]
  },
  {
   "cell_type": "markdown",
   "metadata": {},
   "source": [
    "Different product cards in one store are in crawler a bag or just store has different cards. In one type there isn't any rating or to_cart"
   ]
  },
  {
   "cell_type": "markdown",
   "metadata": {},
   "source": [
    "#### Element sizes"
   ]
  },
  {
   "cell_type": "code",
   "execution_count": 411,
   "metadata": {},
   "outputs": [
    {
     "data": {
      "text/html": [
       "<div>\n",
       "<style scoped>\n",
       "    .dataframe tbody tr th:only-of-type {\n",
       "        vertical-align: middle;\n",
       "    }\n",
       "\n",
       "    .dataframe tbody tr th {\n",
       "        vertical-align: top;\n",
       "    }\n",
       "\n",
       "    .dataframe thead th {\n",
       "        text-align: right;\n",
       "    }\n",
       "</style>\n",
       "<table border=\"1\" class=\"dataframe\">\n",
       "  <thead>\n",
       "    <tr style=\"text-align: right;\">\n",
       "      <th></th>\n",
       "      <th>size_w</th>\n",
       "      <th>size_h</th>\n",
       "    </tr>\n",
       "    <tr>\n",
       "      <th>shop</th>\n",
       "      <th></th>\n",
       "      <th></th>\n",
       "    </tr>\n",
       "  </thead>\n",
       "  <tbody>\n",
       "    <tr>\n",
       "      <th>Азбука вкуса</th>\n",
       "      <td>206.000000</td>\n",
       "      <td>334.000000</td>\n",
       "    </tr>\n",
       "    <tr>\n",
       "      <th>Европа</th>\n",
       "      <td>247.000000</td>\n",
       "      <td>420.000000</td>\n",
       "    </tr>\n",
       "    <tr>\n",
       "      <th>Комус</th>\n",
       "      <td>714.000000</td>\n",
       "      <td>261.896970</td>\n",
       "    </tr>\n",
       "    <tr>\n",
       "      <th>Метро</th>\n",
       "      <td>231.000000</td>\n",
       "      <td>439.923077</td>\n",
       "    </tr>\n",
       "    <tr>\n",
       "      <th>Окей</th>\n",
       "      <td>202.000000</td>\n",
       "      <td>304.000000</td>\n",
       "    </tr>\n",
       "    <tr>\n",
       "      <th>Перекрёсток</th>\n",
       "      <td>221.142857</td>\n",
       "      <td>355.470588</td>\n",
       "    </tr>\n",
       "  </tbody>\n",
       "</table>\n",
       "</div>"
      ],
      "text/plain": [
       "                  size_w      size_h\n",
       "shop                                \n",
       "Азбука вкуса  206.000000  334.000000\n",
       "Европа        247.000000  420.000000\n",
       "Комус         714.000000  261.896970\n",
       "Метро         231.000000  439.923077\n",
       "Окей          202.000000  304.000000\n",
       "Перекрёсток   221.142857  355.470588"
      ]
     },
     "execution_count": 411,
     "metadata": {},
     "output_type": "execute_result"
    }
   ],
   "source": [
    "df_clean[df_clean.y == 1].groupby('shop')[['size_w', 'size_h']].mean()"
   ]
  },
  {
   "cell_type": "markdown",
   "metadata": {},
   "source": [
    "'Комус' differs a lot\n",
    "\n",
    "Let's plot all product card's sizes"
   ]
  },
  {
   "cell_type": "code",
   "execution_count": 412,
   "metadata": {},
   "outputs": [
    {
     "data": {
      "text/plain": [
       "<matplotlib.axes._subplots.AxesSubplot at 0x7f70f4016160>"
      ]
     },
     "execution_count": 412,
     "metadata": {},
     "output_type": "execute_result"
    },
    {
     "data": {
      "image/png": "[encoded data removed]",
      "text/plain": [
       "<Figure size 432x288 with 1 Axes>"
      ]
     },
     "metadata": {
      "needs_background": "light"
     },
     "output_type": "display_data"
    }
   ],
   "source": [
    "tmp_df = df_clean[(df_clean.y == 1)]\n",
    "sns.scatterplot(x=tmp_df.size_w, y=tmp_df.size_h)"
   ]
  },
  {
   "cell_type": "code",
   "execution_count": 413,
   "metadata": {},
   "outputs": [
    {
     "data": {
      "text/plain": [
       "<seaborn.axisgrid.FacetGrid at 0x7f7112266860>"
      ]
     },
     "execution_count": 413,
     "metadata": {},
     "output_type": "execute_result"
    },
    {
     "data": {
      "image/png": "[encoded data removed]",
      "text/plain": [
       "<Figure size 1296x216 with 6 Axes>"
      ]
     },
     "metadata": {
      "needs_background": "light"
     },
     "output_type": "display_data"
    }
   ],
   "source": [
    "tmp_df = df_clean[(df_clean.y == 1)]\n",
    "g = sns.FacetGrid(tmp_df, col='shop', hue='y')\n",
    "g.map(sns.scatterplot, 'size_w', 'size_h')"
   ]
  },
  {
   "cell_type": "markdown",
   "metadata": {},
   "source": [
    "Firstly we've expected one size for one shop but it is not true. For 'Перекрёсток' and 'Комус' size varies a lot. When we plot all cards size we see they mostly allocated in upper-left corner of plot, with sizes arount 400x220. But what's wrong with 'Комус'? Let's visit the site."
   ]
  },
  {
   "cell_type": "code",
   "execution_count": 12,
   "metadata": {},
   "outputs": [
    {
     "data": {
      "text/html": [
       "<img src=\"https://habrastorage.org/webt/ua/pg/l6/uapgl6ei_c1knebnz9ls8rvlbdq.png\" width=\"900\"/>"
      ],
      "text/plain": [
       "<IPython.core.display.Image object>"
      ]
     },
     "execution_count": 12,
     "metadata": {},
     "output_type": "execute_result"
    }
   ],
   "source": [
    "Image(url='https://habrastorage.org/webt/ua/pg/l6/uapgl6ei_c1knebnz9ls8rvlbdq.png', width=900)"
   ]
  },
  {
   "cell_type": "markdown",
   "metadata": {},
   "source": [
    "The structure is different. In most shops, we see tile-layout, but here list-layout. For the sake of simplicity, I'll exclude 'Комус' from out dataframe."
   ]
  },
  {
   "cell_type": "code",
   "execution_count": 415,
   "metadata": {},
   "outputs": [
    {
     "name": "stdout",
     "output_type": "stream",
     "text": [
      "unique shops - ['Европа' 'Комус' 'Перекрёсток' 'Азбука вкуса' 'Метро' 'Окей']\n",
      "unique shops after drop - ['Европа' 'Перекрёсток' 'Азбука вкуса' 'Метро' 'Окей']\n"
     ]
    }
   ],
   "source": [
    "print(f'unique shops - {df_clean.shop.unique()}')\n",
    "df_clean = df_clean[df_clean.shop != 'Комус']\n",
    "print(f'unique shops after drop - {df_clean.shop.unique()}')"
   ]
  },
  {
   "cell_type": "markdown",
   "metadata": {},
   "source": [
    "Now let's see how target sizes corresponds with all others"
   ]
  },
  {
   "cell_type": "code",
   "execution_count": 416,
   "metadata": {},
   "outputs": [
    {
     "data": {
      "text/plain": [
       "<seaborn.axisgrid.FacetGrid at 0x7f70f3cf5518>"
      ]
     },
     "execution_count": 416,
     "metadata": {},
     "output_type": "execute_result"
    },
    {
     "data": {
      "image/png": "[encoded data removed]",
      "text/plain": [
       "<Figure size 1080x216 with 5 Axes>"
      ]
     },
     "metadata": {
      "needs_background": "light"
     },
     "output_type": "display_data"
    }
   ],
   "source": [
    "tmp_df = df_clean\n",
    "g = sns.FacetGrid(tmp_df, col='shop', hue='y')\n",
    "g.map(sns.scatterplot, 'size_w', 'size_h')"
   ]
  },
  {
   "cell_type": "markdown",
   "metadata": {},
   "source": [
    "Outliers disturb the picture"
   ]
  },
  {
   "cell_type": "code",
   "execution_count": 417,
   "metadata": {},
   "outputs": [
    {
     "data": {
      "text/plain": [
       "<seaborn.axisgrid.FacetGrid at 0x7f70f3769b00>"
      ]
     },
     "execution_count": 417,
     "metadata": {},
     "output_type": "execute_result"
    },
    {
     "data": {
      "image/png": "[encoded data removed]",
      "text/plain": [
       "<Figure size 1080x216 with 5 Axes>"
      ]
     },
     "metadata": {
      "needs_background": "light"
     },
     "output_type": "display_data"
    }
   ],
   "source": [
    "tmp_df = df_clean[(df_clean.size_w < 1000) & (df_clean.size_h < 4000)]\n",
    "g = sns.FacetGrid(tmp_df, col='shop', hue='y')\n",
    "g.map(sns.scatterplot, 'size_w', 'size_h')"
   ]
  },
  {
   "cell_type": "markdown",
   "metadata": {},
   "source": [
    "Zoom closer"
   ]
  },
  {
   "cell_type": "code",
   "execution_count": 418,
   "metadata": {},
   "outputs": [
    {
     "data": {
      "text/plain": [
       "<seaborn.axisgrid.FacetGrid at 0x7f70f3547898>"
      ]
     },
     "execution_count": 418,
     "metadata": {},
     "output_type": "execute_result"
    },
    {
     "data": {
      "image/png": "[encoded data removed]",
      "text/plain": [
       "<Figure size 1080x216 with 5 Axes>"
      ]
     },
     "metadata": {
      "needs_background": "light"
     },
     "output_type": "display_data"
    }
   ],
   "source": [
    "tmp_df = df_clean[(df_clean.size_w > 200) &(df_clean.size_w < 300) & (df_clean.size_h < 600)]\n",
    "g = sns.FacetGrid(tmp_df, col='shop', hue='y')\n",
    "g.map(sns.scatterplot, 'size_w', 'size_h')"
   ]
  },
  {
   "cell_type": "markdown",
   "metadata": {},
   "source": [
    "Looks like a great feature with a strong correlation between shops and refinement from other DOM elements"
   ]
  },
  {
   "cell_type": "markdown",
   "metadata": {},
   "source": [
    "#### location"
   ]
  },
  {
   "cell_type": "code",
   "execution_count": 419,
   "metadata": {},
   "outputs": [
    {
     "data": {
      "text/plain": [
       "<seaborn.axisgrid.FacetGrid at 0x7f70f35fdd30>"
      ]
     },
     "execution_count": 419,
     "metadata": {},
     "output_type": "execute_result"
    },
    {
     "data": {
      "image/png": "[encoded data removed]",
      "text/plain": [
       "<Figure size 1080x216 with 5 Axes>"
      ]
     },
     "metadata": {
      "needs_background": "light"
     },
     "output_type": "display_data"
    }
   ],
   "source": [
    "tmp_df = df_clean\n",
    "g = sns.FacetGrid(tmp_df, col='shop', hue='y')\n",
    "g.map(sns.scatterplot, 'loc_x', 'loc_y' )"
   ]
  },
  {
   "cell_type": "markdown",
   "metadata": {},
   "source": [
    "Location at negative positions?!"
   ]
  },
  {
   "cell_type": "code",
   "execution_count": 420,
   "metadata": {},
   "outputs": [
    {
     "data": {
      "text/plain": [
       "<seaborn.axisgrid.FacetGrid at 0x7f70f2a20208>"
      ]
     },
     "execution_count": 420,
     "metadata": {},
     "output_type": "execute_result"
    },
    {
     "data": {
      "image/png": "[encoded data removed]",
      "text/plain": [
       "<Figure size 1080x216 with 5 Axes>"
      ]
     },
     "metadata": {
      "needs_background": "light"
     },
     "output_type": "display_data"
    }
   ],
   "source": [
    "tmp_df = df_clean[(df_clean.loc_x > 0) & (df_clean.loc_y > 0)]\n",
    "g = sns.FacetGrid(tmp_df, col='shop', hue='y')\n",
    "g.map(sns.scatterplot, 'loc_x', 'loc_y' )"
   ]
  },
  {
   "cell_type": "markdown",
   "metadata": {},
   "source": [
    "Positions as we expected. Strong tabular structure, maybe we can make a new feature from this fact.\n",
    "\n",
    "Outliers in 'Перекрёсток', lets see"
   ]
  },
  {
   "cell_type": "code",
   "execution_count": 421,
   "metadata": {},
   "outputs": [
    {
     "data": {
      "text/html": [
       "<div>\n",
       "<style scoped>\n",
       "    .dataframe tbody tr th:only-of-type {\n",
       "        vertical-align: middle;\n",
       "    }\n",
       "\n",
       "    .dataframe tbody tr th {\n",
       "        vertical-align: top;\n",
       "    }\n",
       "\n",
       "    .dataframe thead th {\n",
       "        text-align: right;\n",
       "    }\n",
       "</style>\n",
       "<table border=\"1\" class=\"dataframe\">\n",
       "  <thead>\n",
       "    <tr style=\"text-align: right;\">\n",
       "      <th></th>\n",
       "      <th>childs_tags</th>\n",
       "      <th>depth</th>\n",
       "      <th>element_classes_count</th>\n",
       "      <th>element_classes_words</th>\n",
       "      <th>href_seen</th>\n",
       "      <th>img_seen</th>\n",
       "      <th>inner_elements</th>\n",
       "      <th>is_displayed</th>\n",
       "      <th>is_href</th>\n",
       "      <th>parent_tag</th>\n",
       "      <th>screenshot</th>\n",
       "      <th>shop</th>\n",
       "      <th>siblings_count</th>\n",
       "      <th>tag</th>\n",
       "      <th>text</th>\n",
       "      <th>y</th>\n",
       "      <th>loc_x</th>\n",
       "      <th>loc_y</th>\n",
       "      <th>size_h</th>\n",
       "      <th>size_w</th>\n",
       "    </tr>\n",
       "  </thead>\n",
       "  <tbody>\n",
       "    <tr>\n",
       "      <th>35204</th>\n",
       "      <td>'div'</td>\n",
       "      <td>16</td>\n",
       "      <td>3</td>\n",
       "      <td>retailrocket item container js product jsrr pr...</td>\n",
       "      <td>False</td>\n",
       "      <td>False</td>\n",
       "      <td>5</td>\n",
       "      <td>True</td>\n",
       "      <td>False</td>\n",
       "      <td>[body, div, div, section, main, div, ul, div, ...</td>\n",
       "      <td>/home/d.perepechin/scr_shot/062c4b80-50b3-4ca4...</td>\n",
       "      <td>Перекрёсток</td>\n",
       "      <td>0</td>\n",
       "      <td>div</td>\n",
       "      <td>NaN</td>\n",
       "      <td>True</td>\n",
       "      <td>994</td>\n",
       "      <td>1030</td>\n",
       "      <td>118</td>\n",
       "      <td>222</td>\n",
       "    </tr>\n",
       "    <tr>\n",
       "      <th>37033</th>\n",
       "      <td>'div'</td>\n",
       "      <td>16</td>\n",
       "      <td>3</td>\n",
       "      <td>retailrocket item container js product jsrr pr...</td>\n",
       "      <td>False</td>\n",
       "      <td>False</td>\n",
       "      <td>5</td>\n",
       "      <td>True</td>\n",
       "      <td>False</td>\n",
       "      <td>[body, div, div, section, main, div, ul, div, ...</td>\n",
       "      <td>/home/d.perepechin/scr_shot/1495cc5b-41e0-4109...</td>\n",
       "      <td>Перекрёсток</td>\n",
       "      <td>0</td>\n",
       "      <td>div</td>\n",
       "      <td>NaN</td>\n",
       "      <td>True</td>\n",
       "      <td>994</td>\n",
       "      <td>1030</td>\n",
       "      <td>118</td>\n",
       "      <td>222</td>\n",
       "    </tr>\n",
       "  </tbody>\n",
       "</table>\n",
       "</div>"
      ],
      "text/plain": [
       "      childs_tags  depth  element_classes_count  \\\n",
       "35204       'div'     16                      3   \n",
       "37033       'div'     16                      3   \n",
       "\n",
       "                                   element_classes_words  href_seen  img_seen  \\\n",
       "35204  retailrocket item container js product jsrr pr...      False     False   \n",
       "37033  retailrocket item container js product jsrr pr...      False     False   \n",
       "\n",
       "       inner_elements  is_displayed  is_href  \\\n",
       "35204               5          True    False   \n",
       "37033               5          True    False   \n",
       "\n",
       "                                              parent_tag  \\\n",
       "35204  [body, div, div, section, main, div, ul, div, ...   \n",
       "37033  [body, div, div, section, main, div, ul, div, ...   \n",
       "\n",
       "                                              screenshot         shop  \\\n",
       "35204  /home/d.perepechin/scr_shot/062c4b80-50b3-4ca4...  Перекрёсток   \n",
       "37033  /home/d.perepechin/scr_shot/1495cc5b-41e0-4109...  Перекрёсток   \n",
       "\n",
       "       siblings_count  tag  text     y  loc_x  loc_y  size_h  size_w  \n",
       "35204               0  div   NaN  True    994   1030     118     222  \n",
       "37033               0  div   NaN  True    994   1030     118     222  "
      ]
     },
     "execution_count": 421,
     "metadata": {},
     "output_type": "execute_result"
    }
   ],
   "source": [
    "df_clean[(df_clean.loc_x > 900) & (df_clean.y == 1) & (df_clean.shop == 'Перекрёсток')].head(2)"
   ]
  },
  {
   "cell_type": "code",
   "execution_count": 13,
   "metadata": {},
   "outputs": [
    {
     "data": {
      "text/html": [
       "<img src=\"https://habrastorage.org/webt/hz/oe/e5/hzoee5akuroyw3hedikww33qg1k.png\" width=\"900\"/>"
      ],
      "text/plain": [
       "<IPython.core.display.Image object>"
      ]
     },
     "execution_count": 13,
     "metadata": {},
     "output_type": "execute_result"
    }
   ],
   "source": [
    "Image(url='https://habrastorage.org/webt/hz/oe/e5/hzoee5akuroyw3hedikww33qg1k.png', width=900)"
   ]
  },
  {
   "cell_type": "markdown",
   "metadata": {},
   "source": [
    "?????\n",
    "\n",
    "Don't know what it is. Better drop."
   ]
  },
  {
   "cell_type": "code",
   "execution_count": 423,
   "metadata": {},
   "outputs": [
    {
     "name": "stdout",
     "output_type": "stream",
     "text": [
      "rows in - 114915\n",
      "rows after drop - 114898\n"
     ]
    }
   ],
   "source": [
    "print(f'rows in - {df_clean.shape[0]}')\n",
    "df_clean = df_clean.drop(df_clean[(df_clean.loc_x > 900) & (df_clean.y == 1) & (df_clean.shop == 'Перекрёсток')].index)\n",
    "print(f'rows after drop - {df_clean.shape[0]}')"
   ]
  },
  {
   "cell_type": "markdown",
   "metadata": {},
   "source": [
    "#### is_displayed"
   ]
  },
  {
   "cell_type": "code",
   "execution_count": 424,
   "metadata": {},
   "outputs": [
    {
     "data": {
      "text/plain": [
       "is_displayed\n",
       "True    2847.0\n",
       "Name: y, dtype: float64"
      ]
     },
     "execution_count": 424,
     "metadata": {},
     "output_type": "execute_result"
    }
   ],
   "source": [
    "df_clean.groupby('is_displayed')['y'].sum()"
   ]
  },
  {
   "cell_type": "markdown",
   "metadata": {},
   "source": [
    "All rows is_displayed = true - redundant feature"
   ]
  },
  {
   "cell_type": "code",
   "execution_count": 425,
   "metadata": {},
   "outputs": [],
   "source": [
    "df_clean.drop(labels='is_displayed', axis=1, inplace=True)"
   ]
  },
  {
   "cell_type": "markdown",
   "metadata": {},
   "source": [
    "#### inner_elements"
   ]
  },
  {
   "cell_type": "code",
   "execution_count": 426,
   "metadata": {},
   "outputs": [
    {
     "data": {
      "text/plain": [
       "18.29651516997685"
      ]
     },
     "execution_count": 426,
     "metadata": {},
     "output_type": "execute_result"
    }
   ],
   "source": [
    "df_clean['inner_elements'].mean()"
   ]
  },
  {
   "cell_type": "code",
   "execution_count": 427,
   "metadata": {},
   "outputs": [
    {
     "data": {
      "text/plain": [
       "34.82226905514577"
      ]
     },
     "execution_count": 427,
     "metadata": {},
     "output_type": "execute_result"
    }
   ],
   "source": [
    "df_clean[df_clean.y == 1]['inner_elements'].mean()"
   ]
  },
  {
   "cell_type": "code",
   "execution_count": 428,
   "metadata": {},
   "outputs": [
    {
     "data": {
      "image/png": "[encoded data removed]",
      "text/plain": [
       "<Figure size 432x288 with 1 Axes>"
      ]
     },
     "metadata": {
      "needs_background": "light"
     },
     "output_type": "display_data"
    }
   ],
   "source": [
    "sns.distplot(df_clean.inner_elements);"
   ]
  },
  {
   "cell_type": "code",
   "execution_count": 429,
   "metadata": {},
   "outputs": [
    {
     "data": {
      "image/png": "[encoded data removed]",
      "text/plain": [
       "<Figure size 432x288 with 1 Axes>"
      ]
     },
     "metadata": {
      "needs_background": "light"
     },
     "output_type": "display_data"
    }
   ],
   "source": [
    "sns.distplot(df_clean[(df_clean.inner_elements > 2) & (df_clean.inner_elements < 100) ].inner_elements);"
   ]
  },
  {
   "cell_type": "markdown",
   "metadata": {},
   "source": [
    "Maybe the feature was poorly designed. For each element, we count inner_element till the leaves, so in \"body\" it will be all other element treated as inner. "
   ]
  },
  {
   "cell_type": "markdown",
   "metadata": {},
   "source": [
    "#### tag"
   ]
  },
  {
   "cell_type": "code",
   "execution_count": 430,
   "metadata": {},
   "outputs": [
    {
     "data": {
      "text/plain": [
       "array(['use', 'svg', 'div', 'button', 'b', 'span', 'a', 'li', 'ul', 'img',\n",
       "       'input', 'form', 'article', 'i', 'h3', 'p', 'title', 'circle',\n",
       "       'label', 'body', 'hr', 'dt', 'dd', 'dl', 'nav', 'aside', 'header',\n",
       "       'h1', 'section', 'figure', 'path', 'main', 'footer', 'iframe',\n",
       "       'sup', 'h2', 'nobr', 'td', 'tr', 'tbody', 'table', 'h6',\n",
       "       'ym-measure', 'legend', 'fieldset'], dtype=object)"
      ]
     },
     "execution_count": 430,
     "metadata": {},
     "output_type": "execute_result"
    }
   ],
   "source": [
    "df_clean['tag'].unique()"
   ]
  },
  {
   "cell_type": "code",
   "execution_count": 431,
   "metadata": {},
   "outputs": [
    {
     "data": {
      "text/plain": [
       "array(['div'], dtype=object)"
      ]
     },
     "execution_count": 431,
     "metadata": {},
     "output_type": "execute_result"
    }
   ],
   "source": [
    "df_clean[df_clean.y == 1]['tag'].unique()"
   ]
  },
  {
   "cell_type": "markdown",
   "metadata": {},
   "source": [
    "Our cards only 'div' elements. How many other div's ?"
   ]
  },
  {
   "cell_type": "code",
   "execution_count": 432,
   "metadata": {},
   "outputs": [
    {
     "data": {
      "text/plain": [
       "y\n",
       "False    41295\n",
       "True      2847\n",
       "dtype: int64"
      ]
     },
     "execution_count": 432,
     "metadata": {},
     "output_type": "execute_result"
    }
   ],
   "source": [
    "df_clean[df_clean.tag == 'div'].groupby('y').size()"
   ]
  },
  {
   "cell_type": "code",
   "execution_count": 433,
   "metadata": {},
   "outputs": [
    {
     "data": {
      "text/plain": [
       "tag\n",
       "a             14353\n",
       "article         436\n",
       "aside            70\n",
       "b              1106\n",
       "body             74\n",
       "button         1736\n",
       "circle           17\n",
       "dd               68\n",
       "div           44142\n",
       "dl               68\n",
       "dt               68\n",
       "fieldset         52\n",
       "figure          476\n",
       "footer           35\n",
       "form             96\n",
       "h1               59\n",
       "h2                6\n",
       "h3               15\n",
       "h6               48\n",
       "header          104\n",
       "hr               34\n",
       "i               492\n",
       "iframe           68\n",
       "img            3418\n",
       "input          1325\n",
       "label          1518\n",
       "legend           52\n",
       "li             8682\n",
       "main             35\n",
       "nav             197\n",
       "nobr             84\n",
       "p               629\n",
       "path             92\n",
       "section         194\n",
       "span          23828\n",
       "sup             914\n",
       "svg            4053\n",
       "table            59\n",
       "tbody            59\n",
       "td              160\n",
       "title            21\n",
       "tr               70\n",
       "ul             1934\n",
       "use            3939\n",
       "ym-measure       12\n",
       "dtype: int64"
      ]
     },
     "execution_count": 433,
     "metadata": {},
     "output_type": "execute_result"
    }
   ],
   "source": [
    "df_clean.groupby('tag').size()"
   ]
  },
  {
   "cell_type": "markdown",
   "metadata": {},
   "source": [
    "Still, there are a lot div's that isn't our target, but feature is good."
   ]
  },
  {
   "cell_type": "markdown",
   "metadata": {},
   "source": [
    "#### siblings_count"
   ]
  },
  {
   "cell_type": "code",
   "execution_count": 434,
   "metadata": {},
   "outputs": [
    {
     "data": {
      "text/plain": [
       "array([23,  0, 41, 39, 17,  1,  3])"
      ]
     },
     "execution_count": 434,
     "metadata": {},
     "output_type": "execute_result"
    }
   ],
   "source": [
    "df_clean[df_clean.y == 1]['siblings_count'].unique()"
   ]
  },
  {
   "cell_type": "code",
   "execution_count": 435,
   "metadata": {},
   "outputs": [
    {
     "data": {
      "text/html": [
       "<div>\n",
       "<style scoped>\n",
       "    .dataframe tbody tr th:only-of-type {\n",
       "        vertical-align: middle;\n",
       "    }\n",
       "\n",
       "    .dataframe tbody tr th {\n",
       "        vertical-align: top;\n",
       "    }\n",
       "\n",
       "    .dataframe thead th {\n",
       "        text-align: right;\n",
       "    }\n",
       "</style>\n",
       "<table border=\"1\" class=\"dataframe\">\n",
       "  <thead>\n",
       "    <tr style=\"text-align: right;\">\n",
       "      <th></th>\n",
       "      <th>unique</th>\n",
       "    </tr>\n",
       "    <tr>\n",
       "      <th>shop</th>\n",
       "      <th></th>\n",
       "    </tr>\n",
       "  </thead>\n",
       "  <tbody>\n",
       "    <tr>\n",
       "      <th>Азбука вкуса</th>\n",
       "      <td>[41, 39, 17]</td>\n",
       "    </tr>\n",
       "    <tr>\n",
       "      <th>Европа</th>\n",
       "      <td>[23]</td>\n",
       "    </tr>\n",
       "    <tr>\n",
       "      <th>Метро</th>\n",
       "      <td>[1]</td>\n",
       "    </tr>\n",
       "    <tr>\n",
       "      <th>Окей</th>\n",
       "      <td>[3]</td>\n",
       "    </tr>\n",
       "    <tr>\n",
       "      <th>Перекрёсток</th>\n",
       "      <td>[0]</td>\n",
       "    </tr>\n",
       "  </tbody>\n",
       "</table>\n",
       "</div>"
      ],
      "text/plain": [
       "                    unique\n",
       "shop                      \n",
       "Азбука вкуса  [41, 39, 17]\n",
       "Европа                [23]\n",
       "Метро                  [1]\n",
       "Окей                   [3]\n",
       "Перекрёсток            [0]"
      ]
     },
     "execution_count": 435,
     "metadata": {},
     "output_type": "execute_result"
    }
   ],
   "source": [
    "df_clean[df_clean.y == 1].groupby('shop')['siblings_count'].agg(['unique'])"
   ]
  },
  {
   "cell_type": "markdown",
   "metadata": {},
   "source": [
    "The feature was designed to show how many \"siblings\" around an element. Product cards supposed to lay in lists so they are at the same level. If it is 30 products per page siblings_count supposed to be 29. But something is wrong. Let's check out original sites. 'Перекрёсток' for example."
   ]
  },
  {
   "cell_type": "code",
   "execution_count": 14,
   "metadata": {},
   "outputs": [
    {
     "data": {
      "text/html": [
       "<img src=\"https://habrastorage.org/webt/it/gk/7t/itgk7tfxsnyzsnda-zmiejtnu5o.png\" width=\"900\"/>"
      ],
      "text/plain": [
       "<IPython.core.display.Image object>"
      ]
     },
     "execution_count": 14,
     "metadata": {},
     "output_type": "execute_result"
    }
   ],
   "source": [
    "Image(url='https://habrastorage.org/webt/it/gk/7t/itgk7tfxsnyzsnda-zmiejtnu5o.png', width=900)"
   ]
  },
  {
   "cell_type": "code",
   "execution_count": 15,
   "metadata": {},
   "outputs": [
    {
     "data": {
      "text/html": [
       "<img src=\"https://habrastorage.org/webt/em/i-/v9/emi-v9grsih0_i5rhbpnmhuloec.png\" width=\"900\"/>"
      ],
      "text/plain": [
       "<IPython.core.display.Image object>"
      ]
     },
     "execution_count": 15,
     "metadata": {},
     "output_type": "execute_result"
    }
   ],
   "source": [
    "Image(url='https://habrastorage.org/webt/em/i-/v9/emi-v9grsih0_i5rhbpnmhuloec.png', width=900)"
   ]
  },
  {
   "cell_type": "code",
   "execution_count": 16,
   "metadata": {},
   "outputs": [
    {
     "data": {
      "text/html": [
       "<img src=\"https://habrastorage.org/webt/vr/in/0y/vrin0yedugz7xudlg7bpmhm8oi0.png\" width=\"900\"/>"
      ],
      "text/plain": [
       "<IPython.core.display.Image object>"
      ]
     },
     "execution_count": 16,
     "metadata": {},
     "output_type": "execute_result"
    }
   ],
   "source": [
    "Image(url='https://habrastorage.org/webt/vr/in/0y/vrin0yedugz7xudlg7bpmhm8oi0.png', width=900)"
   ]
  },
  {
   "cell_type": "markdown",
   "metadata": {},
   "source": [
    "We see there is a list 'ul' that contains 'li' that contains 'div'. So element 'li' would behave as we would expect - right siblings_count, but 'div' inside 'li' siblings_count == 1. It's supposed to be reframed or possibly fruitful feature is dead."
   ]
  },
  {
   "cell_type": "markdown",
   "metadata": {},
   "source": [
    "#### is_href"
   ]
  },
  {
   "cell_type": "code",
   "execution_count": 439,
   "metadata": {},
   "outputs": [
    {
     "data": {
      "text/plain": [
       "0.0"
      ]
     },
     "execution_count": 439,
     "metadata": {},
     "output_type": "execute_result"
    }
   ],
   "source": [
    "df_clean[df_clean.y == 1]['is_href'].mean()"
   ]
  },
  {
   "cell_type": "code",
   "execution_count": 440,
   "metadata": {},
   "outputs": [
    {
     "data": {
      "text/plain": [
       "0.1276026095260194"
      ]
     },
     "execution_count": 440,
     "metadata": {},
     "output_type": "execute_result"
    }
   ],
   "source": [
    "df_clean[df_clean.y == 0]['is_href'].mean()"
   ]
  },
  {
   "cell_type": "markdown",
   "metadata": {},
   "source": [
    "Our product cards not clickable"
   ]
  },
  {
   "cell_type": "markdown",
   "metadata": {},
   "source": [
    "#### element_classes_words"
   ]
  },
  {
   "cell_type": "code",
   "execution_count": 441,
   "metadata": {},
   "outputs": [
    {
     "name": "stdout",
     "output_type": "stream",
     "text": [
      "Азбука вкуса\n",
      "['b grid  item']\n",
      "Европа\n",
      "['product item  product vertical  mobile ect ect gram'\n",
      " 'product item  product vertical  mobile']\n",
      "Метро\n",
      "['catalog i w']\n",
      "Окей\n",
      "['product ok theme']\n",
      "Перекрёсток\n",
      "['xf product js product  '\n",
      " 'retailrocket item container js product jsrr product']\n"
     ]
    }
   ],
   "source": [
    "for shop, tmp_df in df_clean[df_clean.y == 1].groupby('shop'):\n",
    "    print(shop)\n",
    "    print(tmp_df['element_classes_words'].unique())\n"
   ]
  },
  {
   "cell_type": "markdown",
   "metadata": {},
   "source": [
    "It's css class naming that totally depends on developers. But in some cases, we see names like \"product\", \"item\", that could be helpful. There isn't enough data to say for sure."
   ]
  },
  {
   "cell_type": "markdown",
   "metadata": {},
   "source": [
    "#### parent_tag"
   ]
  },
  {
   "cell_type": "code",
   "execution_count": 442,
   "metadata": {},
   "outputs": [
    {
     "name": "stdout",
     "output_type": "stream",
     "text": [
      "Азбука вкуса\n",
      "66783    [body, div, main, div, div, div, div]\n",
      "Name: parent_tag, dtype: object\n",
      "Европа\n",
      "195    [body, div, div, div, div, div, div, div, div]\n",
      "Name: parent_tag, dtype: object\n",
      "Метро\n",
      "87173    [body, div, div, div, div, div, div, div]\n",
      "Name: parent_tag, dtype: object\n",
      "Окей\n",
      "103350    [body, div, div, div, div, div, div, div, div,...\n",
      "Name: parent_tag, dtype: object\n",
      "Перекрёсток\n",
      "35062    [body, div, div, section, main, div, ul, li]\n",
      "Name: parent_tag, dtype: object\n"
     ]
    }
   ],
   "source": [
    "for shop, tmp_df in df_clean[df_clean.y == 1].groupby('shop'):\n",
    "    print(shop)\n",
    "    print(tmp_df['parent_tag'].head(1))\n",
    "               "
   ]
  },
  {
   "cell_type": "markdown",
   "metadata": {},
   "source": [
    "#### childs_tags"
   ]
  },
  {
   "cell_type": "code",
   "execution_count": 443,
   "metadata": {},
   "outputs": [
    {
     "name": "stdout",
     "output_type": "stream",
     "text": [
      "Азбука вкуса\n",
      "66783    'img', 'div', 'sup', 'a', 'span', 'b', 'button'\n",
      "Name: childs_tags, dtype: object\n",
      "Европа\n",
      "195    'article', 'span', 'a', 'input', 'button', 'di...\n",
      "Name: childs_tags, dtype: object\n",
      "Метро\n",
      "87173    'span', 'a', 'div', 'b', 'img'\n",
      "Name: childs_tags, dtype: object\n",
      "Окей\n",
      "103350    'input', 'script', 'span', 'img', 'a', 'label'...\n",
      "Name: childs_tags, dtype: object\n",
      "Перекрёсток\n",
      "35062    'figure', 'svg', 'img', 'li', 'ul', 'figcaptio...\n",
      "Name: childs_tags, dtype: object\n"
     ]
    }
   ],
   "source": [
    "for shop, tmp_df in df_clean[df_clean.y == 1].groupby('shop'):\n",
    "    print(shop)\n",
    "    print(tmp_df['childs_tags'].head(1))\n",
    "               "
   ]
  },
  {
   "cell_type": "markdown",
   "metadata": {},
   "source": [
    "It's simple and simular parent-child markup for all shops except 'Перекрёсток'. But we should be ready for this. In this state we couldn't use this features."
   ]
  },
  {
   "cell_type": "markdown",
   "metadata": {},
   "source": [
    "#### text"
   ]
  },
  {
   "cell_type": "code",
   "execution_count": 444,
   "metadata": {},
   "outputs": [
    {
     "data": {
      "text/html": [
       "<div>\n",
       "<style scoped>\n",
       "    .dataframe tbody tr th:only-of-type {\n",
       "        vertical-align: middle;\n",
       "    }\n",
       "\n",
       "    .dataframe tbody tr th {\n",
       "        vertical-align: top;\n",
       "    }\n",
       "\n",
       "    .dataframe thead th {\n",
       "        text-align: right;\n",
       "    }\n",
       "</style>\n",
       "<table border=\"1\" class=\"dataframe\">\n",
       "  <thead>\n",
       "    <tr style=\"text-align: right;\">\n",
       "      <th></th>\n",
       "      <th>childs_tags</th>\n",
       "      <th>depth</th>\n",
       "      <th>element_classes_count</th>\n",
       "      <th>element_classes_words</th>\n",
       "      <th>href_seen</th>\n",
       "      <th>img_seen</th>\n",
       "      <th>inner_elements</th>\n",
       "      <th>is_href</th>\n",
       "      <th>parent_tag</th>\n",
       "      <th>screenshot</th>\n",
       "      <th>shop</th>\n",
       "      <th>siblings_count</th>\n",
       "      <th>tag</th>\n",
       "      <th>text</th>\n",
       "      <th>y</th>\n",
       "      <th>loc_x</th>\n",
       "      <th>loc_y</th>\n",
       "      <th>size_h</th>\n",
       "      <th>size_w</th>\n",
       "    </tr>\n",
       "  </thead>\n",
       "  <tbody>\n",
       "  </tbody>\n",
       "</table>\n",
       "</div>"
      ],
      "text/plain": [
       "Empty DataFrame\n",
       "Columns: [childs_tags, depth, element_classes_count, element_classes_words, href_seen, img_seen, inner_elements, is_href, parent_tag, screenshot, shop, siblings_count, tag, text, y, loc_x, loc_y, size_h, size_w]\n",
       "Index: []"
      ]
     },
     "execution_count": 444,
     "metadata": {},
     "output_type": "execute_result"
    }
   ],
   "source": [
    "df_clean[df_clean.text.notna()]"
   ]
  },
  {
   "cell_type": "markdown",
   "metadata": {},
   "source": [
    "Feature 'text' is empty. Obviously due to a bag in the crawler. Feature possibly very important. If we know that near inside words like \"cheese\", \"milk\", \"meat\" - definitely it's a grocery. The model will be not just single-language but singe-domain-specific. When we'll crawl construction materials shop there won't be any \"cheese\". I like to try build a model robust to domain and language variations. I want to parse shops that's all."
   ]
  },
  {
   "cell_type": "markdown",
   "metadata": {},
   "source": [
    "#### img_seen"
   ]
  },
  {
   "cell_type": "code",
   "execution_count": 445,
   "metadata": {},
   "outputs": [
    {
     "data": {
      "text/plain": [
       "1.0"
      ]
     },
     "execution_count": 445,
     "metadata": {},
     "output_type": "execute_result"
    }
   ],
   "source": [
    "df_clean[df_clean.y == 1]['img_seen'].mean()"
   ]
  },
  {
   "cell_type": "code",
   "execution_count": 446,
   "metadata": {},
   "outputs": [
    {
     "data": {
      "text/plain": [
       "0.14877154153019606"
      ]
     },
     "execution_count": 446,
     "metadata": {},
     "output_type": "execute_result"
    }
   ],
   "source": [
    "df_clean[df_clean.y == 0]['img_seen'].mean()"
   ]
  },
  {
   "cell_type": "markdown",
   "metadata": {},
   "source": [
    "Yes, there is an image inside each product card"
   ]
  },
  {
   "cell_type": "markdown",
   "metadata": {},
   "source": [
    "#### href_seen"
   ]
  },
  {
   "cell_type": "code",
   "execution_count": 447,
   "metadata": {},
   "outputs": [
    {
     "data": {
      "text/plain": [
       "1.0"
      ]
     },
     "execution_count": 447,
     "metadata": {},
     "output_type": "execute_result"
    }
   ],
   "source": [
    "df_clean[df_clean.y == 1]['href_seen'].mean()"
   ]
  },
  {
   "cell_type": "code",
   "execution_count": 448,
   "metadata": {},
   "outputs": [
    {
     "data": {
      "text/plain": [
       "0.3531963123934637"
      ]
     },
     "execution_count": 448,
     "metadata": {},
     "output_type": "execute_result"
    }
   ],
   "source": [
    "df_clean[df_clean.y == 0]['href_seen'].mean()"
   ]
  },
  {
   "cell_type": "markdown",
   "metadata": {},
   "source": [
    "And a href inside each product card"
   ]
  },
  {
   "cell_type": "markdown",
   "metadata": {},
   "source": [
    "## Part 5. Feature engineering and description"
   ]
  },
  {
   "cell_type": "markdown",
   "metadata": {},
   "source": [
    "Some feature processing was done above we obtain size and loc"
   ]
  },
  {
   "cell_type": "code",
   "execution_count": 449,
   "metadata": {},
   "outputs": [
    {
     "data": {
      "text/html": [
       "<div>\n",
       "<style scoped>\n",
       "    .dataframe tbody tr th:only-of-type {\n",
       "        vertical-align: middle;\n",
       "    }\n",
       "\n",
       "    .dataframe tbody tr th {\n",
       "        vertical-align: top;\n",
       "    }\n",
       "\n",
       "    .dataframe thead th {\n",
       "        text-align: right;\n",
       "    }\n",
       "</style>\n",
       "<table border=\"1\" class=\"dataframe\">\n",
       "  <thead>\n",
       "    <tr style=\"text-align: right;\">\n",
       "      <th></th>\n",
       "      <th>childs_tags</th>\n",
       "      <th>depth</th>\n",
       "      <th>element_classes_count</th>\n",
       "      <th>element_classes_words</th>\n",
       "      <th>href_seen</th>\n",
       "      <th>img_seen</th>\n",
       "      <th>inner_elements</th>\n",
       "      <th>is_href</th>\n",
       "      <th>parent_tag</th>\n",
       "      <th>screenshot</th>\n",
       "      <th>shop</th>\n",
       "      <th>siblings_count</th>\n",
       "      <th>tag</th>\n",
       "      <th>text</th>\n",
       "      <th>y</th>\n",
       "      <th>loc_x</th>\n",
       "      <th>loc_y</th>\n",
       "      <th>size_h</th>\n",
       "      <th>size_w</th>\n",
       "    </tr>\n",
       "  </thead>\n",
       "  <tbody>\n",
       "    <tr>\n",
       "      <th>0</th>\n",
       "      <td></td>\n",
       "      <td>5</td>\n",
       "      <td>1</td>\n",
       "      <td>sendpulse bell path</td>\n",
       "      <td>False</td>\n",
       "      <td>False</td>\n",
       "      <td>0</td>\n",
       "      <td>False</td>\n",
       "      <td>[body, div, div, svg]</td>\n",
       "      <td>NaN</td>\n",
       "      <td>Европа</td>\n",
       "      <td>0</td>\n",
       "      <td>use</td>\n",
       "      <td>NaN</td>\n",
       "      <td>False</td>\n",
       "      <td>96</td>\n",
       "      <td>21</td>\n",
       "      <td>14</td>\n",
       "      <td>14</td>\n",
       "    </tr>\n",
       "    <tr>\n",
       "      <th>1</th>\n",
       "      <td>'use'</td>\n",
       "      <td>4</td>\n",
       "      <td>1</td>\n",
       "      <td>sendpulse bell icon</td>\n",
       "      <td>False</td>\n",
       "      <td>False</td>\n",
       "      <td>1</td>\n",
       "      <td>False</td>\n",
       "      <td>[body, div, div]</td>\n",
       "      <td>NaN</td>\n",
       "      <td>Европа</td>\n",
       "      <td>4</td>\n",
       "      <td>svg</td>\n",
       "      <td>NaN</td>\n",
       "      <td>False</td>\n",
       "      <td>96</td>\n",
       "      <td>21</td>\n",
       "      <td>14</td>\n",
       "      <td>14</td>\n",
       "    </tr>\n",
       "    <tr>\n",
       "      <th>2</th>\n",
       "      <td></td>\n",
       "      <td>4</td>\n",
       "      <td>2</td>\n",
       "      <td>sendpulse prompt info sendpulse prompt message...</td>\n",
       "      <td>False</td>\n",
       "      <td>False</td>\n",
       "      <td>0</td>\n",
       "      <td>False</td>\n",
       "      <td>[body, div, div]</td>\n",
       "      <td>NaN</td>\n",
       "      <td>Европа</td>\n",
       "      <td>4</td>\n",
       "      <td>div</td>\n",
       "      <td>NaN</td>\n",
       "      <td>False</td>\n",
       "      <td>115</td>\n",
       "      <td>16</td>\n",
       "      <td>22</td>\n",
       "      <td>495</td>\n",
       "    </tr>\n",
       "  </tbody>\n",
       "</table>\n",
       "</div>"
      ],
      "text/plain": [
       "  childs_tags  depth  element_classes_count  \\\n",
       "0                  5                      1   \n",
       "1       'use'      4                      1   \n",
       "2                  4                      2   \n",
       "\n",
       "                               element_classes_words  href_seen  img_seen  \\\n",
       "0                                sendpulse bell path      False     False   \n",
       "1                                sendpulse bell icon      False     False   \n",
       "2  sendpulse prompt info sendpulse prompt message...      False     False   \n",
       "\n",
       "   inner_elements  is_href             parent_tag screenshot    shop  \\\n",
       "0               0    False  [body, div, div, svg]        NaN  Европа   \n",
       "1               1    False       [body, div, div]        NaN  Европа   \n",
       "2               0    False       [body, div, div]        NaN  Европа   \n",
       "\n",
       "   siblings_count  tag  text      y  loc_x  loc_y  size_h  size_w  \n",
       "0               0  use   NaN  False     96     21      14      14  \n",
       "1               4  svg   NaN  False     96     21      14      14  \n",
       "2               4  div   NaN  False    115     16      22     495  "
      ]
     },
     "execution_count": 449,
     "metadata": {},
     "output_type": "execute_result"
    }
   ],
   "source": [
    "df_clean.head(3)"
   ]
  },
  {
   "cell_type": "markdown",
   "metadata": {},
   "source": [
    "Some parts of FE was done on crawler's phase. Features like href_seen and img_seen mean that some of the child elements have img or href inside, but it's out of bounds. Maybe 2-3-4 descending elements should mean that image near, but not all way down.\n",
    "\n",
    "Main limitation now that in dataset not saved relations between elements. Firstly I got row's id, but no reference that this id is a parent somewhere. Fixing this on next iteration will allow me to create more dependent features.\n",
    "\n",
    "But even now we can recreate parent's tag order."
   ]
  },
  {
   "cell_type": "code",
   "execution_count": 450,
   "metadata": {},
   "outputs": [],
   "source": [
    "df_clean['parent_1'] = df_clean.parent_tag.apply(lambda x: x[-1])\n",
    "df_clean['parent_2'] = df_clean.parent_tag.apply(lambda x: x[-2] if len(x) > 1 else '')\n",
    "df_clean['parent_3'] = df_clean.parent_tag.apply(lambda x: x[-3] if len(x) > 2 else '')"
   ]
  },
  {
   "cell_type": "code",
   "execution_count": 490,
   "metadata": {},
   "outputs": [
    {
     "data": {
      "text/html": [
       "<div>\n",
       "<style scoped>\n",
       "    .dataframe tbody tr th:only-of-type {\n",
       "        vertical-align: middle;\n",
       "    }\n",
       "\n",
       "    .dataframe tbody tr th {\n",
       "        vertical-align: top;\n",
       "    }\n",
       "\n",
       "    .dataframe thead th {\n",
       "        text-align: right;\n",
       "    }\n",
       "</style>\n",
       "<table border=\"1\" class=\"dataframe\">\n",
       "  <thead>\n",
       "    <tr style=\"text-align: right;\">\n",
       "      <th></th>\n",
       "      <th>childs_tags</th>\n",
       "      <th>depth</th>\n",
       "      <th>element_classes_count</th>\n",
       "      <th>element_classes_words</th>\n",
       "      <th>href_seen</th>\n",
       "      <th>img_seen</th>\n",
       "      <th>inner_elements</th>\n",
       "      <th>is_href</th>\n",
       "      <th>parent_tag</th>\n",
       "      <th>screenshot</th>\n",
       "      <th>...</th>\n",
       "      <th>tag</th>\n",
       "      <th>text</th>\n",
       "      <th>y</th>\n",
       "      <th>loc_x</th>\n",
       "      <th>loc_y</th>\n",
       "      <th>size_h</th>\n",
       "      <th>size_w</th>\n",
       "      <th>parent_1</th>\n",
       "      <th>parent_2</th>\n",
       "      <th>parent_3</th>\n",
       "    </tr>\n",
       "  </thead>\n",
       "  <tbody>\n",
       "    <tr>\n",
       "      <th>70697</th>\n",
       "      <td>'img', 'div', 'sup', 'a', 'span', 'b', 'button'</td>\n",
       "      <td>8</td>\n",
       "      <td>1</td>\n",
       "      <td>b grid  item</td>\n",
       "      <td>True</td>\n",
       "      <td>True</td>\n",
       "      <td>21</td>\n",
       "      <td>False</td>\n",
       "      <td>[body, div, main, div, div, div, div]</td>\n",
       "      <td>/home/d.perepechin/scr_shot/1a21392b-141d-4036...</td>\n",
       "      <td>...</td>\n",
       "      <td>div</td>\n",
       "      <td>NaN</td>\n",
       "      <td>True</td>\n",
       "      <td>412</td>\n",
       "      <td>2995</td>\n",
       "      <td>334</td>\n",
       "      <td>206</td>\n",
       "      <td>div</td>\n",
       "      <td>div</td>\n",
       "      <td>div</td>\n",
       "    </tr>\n",
       "    <tr>\n",
       "      <th>104237</th>\n",
       "      <td>'input', 'script', 'span', 'img', 'a', 'label'...</td>\n",
       "      <td>13</td>\n",
       "      <td>2</td>\n",
       "      <td>product ok theme</td>\n",
       "      <td>True</td>\n",
       "      <td>True</td>\n",
       "      <td>31</td>\n",
       "      <td>False</td>\n",
       "      <td>[body, div, div, div, div, div, div, div, div,...</td>\n",
       "      <td>/home/d.perepechin/scr_shot/cd8adb81-4383-44ae...</td>\n",
       "      <td>...</td>\n",
       "      <td>div</td>\n",
       "      <td>NaN</td>\n",
       "      <td>True</td>\n",
       "      <td>653</td>\n",
       "      <td>3915</td>\n",
       "      <td>304</td>\n",
       "      <td>202</td>\n",
       "      <td>li</td>\n",
       "      <td>ul</td>\n",
       "      <td>div</td>\n",
       "    </tr>\n",
       "  </tbody>\n",
       "</table>\n",
       "<p>2 rows × 22 columns</p>\n",
       "</div>"
      ],
      "text/plain": [
       "                                              childs_tags  depth  \\\n",
       "70697     'img', 'div', 'sup', 'a', 'span', 'b', 'button'      8   \n",
       "104237  'input', 'script', 'span', 'img', 'a', 'label'...     13   \n",
       "\n",
       "        element_classes_count element_classes_words  href_seen  img_seen  \\\n",
       "70697                       1          b grid  item       True      True   \n",
       "104237                      2      product ok theme       True      True   \n",
       "\n",
       "        inner_elements  is_href  \\\n",
       "70697               21    False   \n",
       "104237              31    False   \n",
       "\n",
       "                                               parent_tag  \\\n",
       "70697               [body, div, main, div, div, div, div]   \n",
       "104237  [body, div, div, div, div, div, div, div, div,...   \n",
       "\n",
       "                                               screenshot   ...     tag  text  \\\n",
       "70697   /home/d.perepechin/scr_shot/1a21392b-141d-4036...   ...     div   NaN   \n",
       "104237  /home/d.perepechin/scr_shot/cd8adb81-4383-44ae...   ...     div   NaN   \n",
       "\n",
       "           y  loc_x  loc_y  size_h  size_w  parent_1  parent_2 parent_3  \n",
       "70697   True    412   2995     334     206       div       div      div  \n",
       "104237  True    653   3915     304     202        li        ul      div  \n",
       "\n",
       "[2 rows x 22 columns]"
      ]
     },
     "execution_count": 490,
     "metadata": {},
     "output_type": "execute_result"
    }
   ],
   "source": [
    "df_clean[df_clean.y == 1].sample(2)"
   ]
  },
  {
   "cell_type": "markdown",
   "metadata": {},
   "source": [
    "With parent and id reference I'll be able to add features like <b>ankle_count</b> (parent's siblings =)), <b>parent_size</b>, <b>parent_location</b>, <b>parent_class</b> etc. But now it's not feasible."
   ]
  },
  {
   "cell_type": "markdown",
   "metadata": {},
   "source": [
    "Another good possible feature might be a number of \"similar\" objects on the page. Similar in terms of css class names or in terms of size and location. But I don't have any possibility to do it now since there is no \"url\" feature so I can't implement it now.\n",
    "\n",
    "You might wonder, why I haven't fixed these properties of the crawler. A quick pipeline is a crucial property of ML system building. While I don't have metric's results I won't be stuck to infinite improve of the previous steps."
   ]
  },
  {
   "cell_type": "markdown",
   "metadata": {},
   "source": [
    "We can ues element_classes_words, but since it close to work with vocabulary, we should do it only after validation split."
   ]
  },
  {
   "cell_type": "markdown",
   "metadata": {},
   "source": [
    "## Part 6. Metrics selection"
   ]
  },
  {
   "cell_type": "code",
   "execution_count": 488,
   "metadata": {},
   "outputs": [
    {
     "data": {
      "text/plain": [
       "False    112051\n",
       "True       2847\n",
       "Name: y, dtype: int64"
      ]
     },
     "execution_count": 488,
     "metadata": {},
     "output_type": "execute_result"
    }
   ],
   "source": [
    "df_clean.y.value_counts()"
   ]
  },
  {
   "cell_type": "markdown",
   "metadata": {},
   "source": [
    "Firstly I want point out that loss function and metric score may be different. "
   ]
  },
  {
   "cell_type": "markdown",
   "metadata": {},
   "source": [
    "#### metric"
   ]
  },
  {
   "cell_type": "markdown",
   "metadata": {},
   "source": [
    "We have a classification problem and unbalanced class, so usage of the simplest possible metrics accuracy is not good. False positive and False negative cases don't have any priority. When new crawler will miss correct product cards some information will be lost. When crawler will wrongly identify product card in a database will be stored garbage information. Actually on top of this product card identifier will be build product name, product price, product image, product category identifiers. So garbage info will cause problems along the line. Now I think FP and FN have the same weight.\n",
    "\n",
    "So we probably want to check few metrics to understand our model's behavior. It'll be ROC AUC, PR AUC, F1 score and confusion matrix. It's impossible to get better at all metrics so will pick exactly one later."
   ]
  },
  {
   "cell_type": "markdown",
   "metadata": {},
   "source": [
    "I like PR AUC the most. PR is short for <b>Precision Recall</b>. They somehow similar to ROC AUC.\n",
    "\n",
    "A ROC curve is plotting True Positive Rate (TPR) against False Positive Rate (FPR).\n",
    "\n",
    "A PR curve is plotting Precision against Recall.\n",
    "\n",
    "PR does not account for true negatives (as TN is not a component of either Precision or Recall). So if there are many more negatives than positives (a characteristic of class imbalance problem), we should use PR.\n",
    "\n",
    "http://www.chioka.in/differences-between-roc-auc-and-pr-auc/"
   ]
  },
  {
   "cell_type": "markdown",
   "metadata": {},
   "source": [
    "#### loss"
   ]
  },
  {
   "cell_type": "markdown",
   "metadata": {},
   "source": [
    "Logarithmic loss default option but it may be wrong. I'll remind you."
   ]
  },
  {
   "cell_type": "code",
   "execution_count": 17,
   "metadata": {},
   "outputs": [
    {
     "data": {
      "text/html": [
       "<img src=\"https://habrastorage.org/webt/p7/u6/cp/p7u6cppqgqauzlsenfrsfdymygw.png\" width=\"900\"/>"
      ],
      "text/plain": [
       "<IPython.core.display.Image object>"
      ]
     },
     "execution_count": 17,
     "metadata": {},
     "output_type": "execute_result"
    }
   ],
   "source": [
    "Image(url='https://habrastorage.org/webt/p7/u6/cp/p7u6cppqgqauzlsenfrsfdymygw.png', width=900)"
   ]
  },
  {
   "cell_type": "markdown",
   "metadata": {},
   "source": [
    "This is a <b>different</b> elements, one of them marked as True another as False. It's \"div\" inside \"li\", almost exact shape, almost exact position. Would it be fair to penalize our model guessing it both product cards?"
   ]
  },
  {
   "cell_type": "markdown",
   "metadata": {},
   "source": [
    "## Part 7. Model selection"
   ]
  },
  {
   "cell_type": "markdown",
   "metadata": {},
   "source": [
    "We don't have tons of features and tons of data so it is firm NO to neural nets and boosting. Data is rather simple so the model should match. From previous analyze we saw that parent tag with combination to siblings_count can mean a lot (if our target \"div\" inside \"li\" siblings mean nothing if div inside div siblings - correlate to target), this complicated feature interactions can't be captured by the linear model. Random forests supposed to work like a charm (I'll give a try to linear model either)."
   ]
  },
  {
   "cell_type": "markdown",
   "metadata": {},
   "source": [
    "## Part 8. Data preprocessing"
   ]
  },
  {
   "cell_type": "code",
   "execution_count": 493,
   "metadata": {},
   "outputs": [
    {
     "data": {
      "text/html": [
       "<div>\n",
       "<style scoped>\n",
       "    .dataframe tbody tr th:only-of-type {\n",
       "        vertical-align: middle;\n",
       "    }\n",
       "\n",
       "    .dataframe tbody tr th {\n",
       "        vertical-align: top;\n",
       "    }\n",
       "\n",
       "    .dataframe thead th {\n",
       "        text-align: right;\n",
       "    }\n",
       "</style>\n",
       "<table border=\"1\" class=\"dataframe\">\n",
       "  <thead>\n",
       "    <tr style=\"text-align: right;\">\n",
       "      <th></th>\n",
       "      <th>childs_tags</th>\n",
       "      <th>depth</th>\n",
       "      <th>element_classes_count</th>\n",
       "      <th>element_classes_words</th>\n",
       "      <th>href_seen</th>\n",
       "      <th>img_seen</th>\n",
       "      <th>inner_elements</th>\n",
       "      <th>is_href</th>\n",
       "      <th>parent_tag</th>\n",
       "      <th>screenshot</th>\n",
       "      <th>...</th>\n",
       "      <th>tag</th>\n",
       "      <th>text</th>\n",
       "      <th>y</th>\n",
       "      <th>loc_x</th>\n",
       "      <th>loc_y</th>\n",
       "      <th>size_h</th>\n",
       "      <th>size_w</th>\n",
       "      <th>parent_1</th>\n",
       "      <th>parent_2</th>\n",
       "      <th>parent_3</th>\n",
       "    </tr>\n",
       "  </thead>\n",
       "  <tbody>\n",
       "    <tr>\n",
       "      <th>0</th>\n",
       "      <td></td>\n",
       "      <td>5</td>\n",
       "      <td>1</td>\n",
       "      <td>sendpulse bell path</td>\n",
       "      <td>False</td>\n",
       "      <td>False</td>\n",
       "      <td>0</td>\n",
       "      <td>False</td>\n",
       "      <td>[body, div, div, svg]</td>\n",
       "      <td>NaN</td>\n",
       "      <td>...</td>\n",
       "      <td>use</td>\n",
       "      <td>NaN</td>\n",
       "      <td>False</td>\n",
       "      <td>96</td>\n",
       "      <td>21</td>\n",
       "      <td>14</td>\n",
       "      <td>14</td>\n",
       "      <td>svg</td>\n",
       "      <td>div</td>\n",
       "      <td>div</td>\n",
       "    </tr>\n",
       "  </tbody>\n",
       "</table>\n",
       "<p>1 rows × 22 columns</p>\n",
       "</div>"
      ],
      "text/plain": [
       "  childs_tags  depth  element_classes_count element_classes_words  href_seen  \\\n",
       "0                  5                      1   sendpulse bell path      False   \n",
       "\n",
       "   img_seen  inner_elements  is_href             parent_tag screenshot  \\\n",
       "0     False               0    False  [body, div, div, svg]        NaN   \n",
       "\n",
       "    ...     tag  text      y  loc_x  loc_y  size_h  size_w  parent_1  \\\n",
       "0   ...     use   NaN  False     96     21      14      14       svg   \n",
       "\n",
       "   parent_2 parent_3  \n",
       "0       div      div  \n",
       "\n",
       "[1 rows x 22 columns]"
      ]
     },
     "execution_count": 493,
     "metadata": {},
     "output_type": "execute_result"
    }
   ],
   "source": [
    "df_clean.head(1)"
   ]
  },
  {
   "cell_type": "code",
   "execution_count": 492,
   "metadata": {},
   "outputs": [
    {
     "name": "stdout",
     "output_type": "stream",
     "text": [
      "<class 'pandas.core.frame.DataFrame'>\n",
      "Int64Index: 114898 entries, 0 to 129340\n",
      "Data columns (total 22 columns):\n",
      "childs_tags              114898 non-null object\n",
      "depth                    114898 non-null int64\n",
      "element_classes_count    114898 non-null int64\n",
      "element_classes_words    93176 non-null object\n",
      "href_seen                114898 non-null bool\n",
      "img_seen                 114898 non-null bool\n",
      "inner_elements           114898 non-null int64\n",
      "is_href                  114898 non-null bool\n",
      "parent_tag               114898 non-null object\n",
      "screenshot               46091 non-null object\n",
      "shop                     114898 non-null object\n",
      "siblings_count           114898 non-null int64\n",
      "tag                      114898 non-null object\n",
      "text                     0 non-null float64\n",
      "y                        114898 non-null bool\n",
      "loc_x                    114898 non-null int64\n",
      "loc_y                    114898 non-null int64\n",
      "size_h                   114898 non-null int64\n",
      "size_w                   114898 non-null int64\n",
      "parent_1                 114898 non-null object\n",
      "parent_2                 114898 non-null object\n",
      "parent_3                 114898 non-null object\n",
      "dtypes: bool(4), float64(1), int64(8), object(9)\n",
      "memory usage: 17.1+ MB\n"
     ]
    }
   ],
   "source": [
    "df_clean.info()"
   ]
  },
  {
   "cell_type": "markdown",
   "metadata": {},
   "source": [
    "\"childs_tags\" can't be used. \"text\" always NaN. \"screenshot\" used only for visual validation. \"shop\" can't be used as metric as we are targeting to new shops (but I need it for a while). \"element_classes_words\" will use a little bit later. All other fields were dropped earlier. I'm holding y in X for a while bear with me."
   ]
  },
  {
   "cell_type": "code",
   "execution_count": 1006,
   "metadata": {},
   "outputs": [],
   "source": [
    "features_to_train = ['depth', 'element_classes_count', 'href_seen', 'img_seen',\n",
    "              'inner_elements', 'is_href', 'siblings_count', 'tag', 'loc_x',\n",
    "             'loc_y', 'size_h', 'size_w', 'parent_1','parent_2', 'parent_3', 'shop', 'y']\n",
    "categorical_columns = ['tag', 'parent_1','parent_2','parent_3']\n",
    "continuous_columns = ['depth', 'element_classes_count','inner_elements','siblings_count',\n",
    "                      'loc_x','loc_y', 'size_h', 'size_w']"
   ]
  },
  {
   "cell_type": "code",
   "execution_count": 915,
   "metadata": {},
   "outputs": [],
   "source": [
    "X = df_clean[features_to_train]\n",
    "y = df_clean.y"
   ]
  },
  {
   "cell_type": "markdown",
   "metadata": {},
   "source": [
    "For RF we don't have to make OHE, so I'll just convert str to int."
   ]
  },
  {
   "cell_type": "code",
   "execution_count": 918,
   "metadata": {},
   "outputs": [],
   "source": [
    "possible_tags_categories = X['tag'].astype('category')\n",
    "possible_parent_categories = X['parent_1'].astype('category')\n",
    "all_tags = list(possible_tags_categories.cat.categories) + list(possible_parent_categories.cat.categories)\n",
    "num_to_category = {i:cat for i, cat in enumerate(all_tags)}\n",
    "category_to_num = {cat:i for i, cat in num_to_category.items()}"
   ]
  },
  {
   "cell_type": "code",
   "execution_count": 919,
   "metadata": {},
   "outputs": [],
   "source": [
    "X['tag'] = X['tag'].apply(lambda x: category_to_num[x])\n",
    "X['parent_1'] = X['parent_1'].apply(lambda x: category_to_num[x] if x else -1)\n",
    "X['parent_2'] = X['parent_2'].apply(lambda x: category_to_num[x] if x else -1)\n",
    "X['parent_3'] = X['parent_3'].apply(lambda x: category_to_num[x] if x else -1)"
   ]
  },
  {
   "cell_type": "code",
   "execution_count": 920,
   "metadata": {},
   "outputs": [
    {
     "data": {
      "text/html": [
       "<div>\n",
       "<style scoped>\n",
       "    .dataframe tbody tr th:only-of-type {\n",
       "        vertical-align: middle;\n",
       "    }\n",
       "\n",
       "    .dataframe tbody tr th {\n",
       "        vertical-align: top;\n",
       "    }\n",
       "\n",
       "    .dataframe thead th {\n",
       "        text-align: right;\n",
       "    }\n",
       "</style>\n",
       "<table border=\"1\" class=\"dataframe\">\n",
       "  <thead>\n",
       "    <tr style=\"text-align: right;\">\n",
       "      <th></th>\n",
       "      <th>depth</th>\n",
       "      <th>element_classes_count</th>\n",
       "      <th>href_seen</th>\n",
       "      <th>img_seen</th>\n",
       "      <th>inner_elements</th>\n",
       "      <th>is_href</th>\n",
       "      <th>siblings_count</th>\n",
       "      <th>tag</th>\n",
       "      <th>loc_x</th>\n",
       "      <th>loc_y</th>\n",
       "      <th>size_h</th>\n",
       "      <th>size_w</th>\n",
       "      <th>parent_1</th>\n",
       "      <th>parent_2</th>\n",
       "      <th>parent_3</th>\n",
       "      <th>shop</th>\n",
       "      <th>y</th>\n",
       "    </tr>\n",
       "  </thead>\n",
       "  <tbody>\n",
       "    <tr>\n",
       "      <th>0</th>\n",
       "      <td>5</td>\n",
       "      <td>1</td>\n",
       "      <td>False</td>\n",
       "      <td>False</td>\n",
       "      <td>0</td>\n",
       "      <td>False</td>\n",
       "      <td>0</td>\n",
       "      <td>43</td>\n",
       "      <td>96</td>\n",
       "      <td>21</td>\n",
       "      <td>14</td>\n",
       "      <td>14</td>\n",
       "      <td>67</td>\n",
       "      <td>52</td>\n",
       "      <td>52</td>\n",
       "      <td>Европа</td>\n",
       "      <td>False</td>\n",
       "    </tr>\n",
       "  </tbody>\n",
       "</table>\n",
       "</div>"
      ],
      "text/plain": [
       "   depth  element_classes_count  href_seen  img_seen  inner_elements  is_href  \\\n",
       "0      5                      1      False     False               0    False   \n",
       "\n",
       "   siblings_count  tag  loc_x  loc_y  size_h  size_w  parent_1  parent_2  \\\n",
       "0               0   43     96     21      14      14        67        52   \n",
       "\n",
       "   parent_3    shop      y  \n",
       "0        52  Европа  False  "
      ]
     },
     "execution_count": 920,
     "metadata": {},
     "output_type": "execute_result"
    }
   ],
   "source": [
    "X.head(1)"
   ]
  },
  {
   "cell_type": "markdown",
   "metadata": {},
   "source": [
    "#### Preprocessing for linear model"
   ]
  },
  {
   "cell_type": "code",
   "execution_count": 800,
   "metadata": {},
   "outputs": [],
   "source": [
    "X_linear = df_clean[['depth', 'element_classes_count', 'href_seen', 'img_seen',\n",
    "              'inner_elements', 'is_href', 'siblings_count', 'tag', 'loc_x',\n",
    "             'loc_y', 'size_h', 'size_w', 'parent_1','parent_2', 'parent_3', 'shop', 'y']]\n",
    "y = df_clean.y"
   ]
  },
  {
   "cell_type": "markdown",
   "metadata": {},
   "source": [
    "For linear models, we need scaled numeric features and OHE for categorical"
   ]
  },
  {
   "cell_type": "code",
   "execution_count": 807,
   "metadata": {},
   "outputs": [],
   "source": [
    "X_linear = pd.get_dummies(X_linear, columns=categorical_columns, drop_first=True,\n",
    "                            prefix=categorical_columns, sparse=False)"
   ]
  },
  {
   "cell_type": "code",
   "execution_count": 810,
   "metadata": {},
   "outputs": [],
   "source": [
    "from sklearn.preprocessing import StandardScaler\n",
    "scaler = StandardScaler()\n",
    "X_linear[continuous_columns] = scaler.fit_transform(X_linear[continuous_columns])"
   ]
  },
  {
   "cell_type": "code",
   "execution_count": 812,
   "metadata": {},
   "outputs": [
    {
     "data": {
      "text/html": [
       "<div>\n",
       "<style scoped>\n",
       "    .dataframe tbody tr th:only-of-type {\n",
       "        vertical-align: middle;\n",
       "    }\n",
       "\n",
       "    .dataframe tbody tr th {\n",
       "        vertical-align: top;\n",
       "    }\n",
       "\n",
       "    .dataframe thead th {\n",
       "        text-align: right;\n",
       "    }\n",
       "</style>\n",
       "<table border=\"1\" class=\"dataframe\">\n",
       "  <thead>\n",
       "    <tr style=\"text-align: right;\">\n",
       "      <th></th>\n",
       "      <th>depth</th>\n",
       "      <th>element_classes_count</th>\n",
       "      <th>href_seen</th>\n",
       "      <th>img_seen</th>\n",
       "      <th>inner_elements</th>\n",
       "      <th>is_href</th>\n",
       "      <th>siblings_count</th>\n",
       "      <th>loc_x</th>\n",
       "      <th>loc_y</th>\n",
       "      <th>size_h</th>\n",
       "      <th>...</th>\n",
       "      <th>parent_3_li</th>\n",
       "      <th>parent_3_main</th>\n",
       "      <th>parent_3_nav</th>\n",
       "      <th>parent_3_section</th>\n",
       "      <th>parent_3_span</th>\n",
       "      <th>parent_3_table</th>\n",
       "      <th>parent_3_tbody</th>\n",
       "      <th>parent_3_td</th>\n",
       "      <th>parent_3_tr</th>\n",
       "      <th>parent_3_ul</th>\n",
       "    </tr>\n",
       "  </thead>\n",
       "  <tbody>\n",
       "    <tr>\n",
       "      <th>0</th>\n",
       "      <td>-2.068695</td>\n",
       "      <td>-0.227842</td>\n",
       "      <td>False</td>\n",
       "      <td>False</td>\n",
       "      <td>-0.117237</td>\n",
       "      <td>False</td>\n",
       "      <td>-0.328032</td>\n",
       "      <td>-0.727281</td>\n",
       "      <td>-1.322974</td>\n",
       "      <td>-0.180915</td>\n",
       "      <td>...</td>\n",
       "      <td>0</td>\n",
       "      <td>0</td>\n",
       "      <td>0</td>\n",
       "      <td>0</td>\n",
       "      <td>0</td>\n",
       "      <td>0</td>\n",
       "      <td>0</td>\n",
       "      <td>0</td>\n",
       "      <td>0</td>\n",
       "      <td>0</td>\n",
       "    </tr>\n",
       "    <tr>\n",
       "      <th>1</th>\n",
       "      <td>-2.332740</td>\n",
       "      <td>-0.227842</td>\n",
       "      <td>False</td>\n",
       "      <td>False</td>\n",
       "      <td>-0.110830</td>\n",
       "      <td>False</td>\n",
       "      <td>0.020122</td>\n",
       "      <td>-0.727281</td>\n",
       "      <td>-1.322974</td>\n",
       "      <td>-0.180915</td>\n",
       "      <td>...</td>\n",
       "      <td>0</td>\n",
       "      <td>0</td>\n",
       "      <td>0</td>\n",
       "      <td>0</td>\n",
       "      <td>0</td>\n",
       "      <td>0</td>\n",
       "      <td>0</td>\n",
       "      <td>0</td>\n",
       "      <td>0</td>\n",
       "      <td>0</td>\n",
       "    </tr>\n",
       "  </tbody>\n",
       "</table>\n",
       "<p>2 rows × 128 columns</p>\n",
       "</div>"
      ],
      "text/plain": [
       "      depth  element_classes_count  href_seen  img_seen  inner_elements  \\\n",
       "0 -2.068695              -0.227842      False     False       -0.117237   \n",
       "1 -2.332740              -0.227842      False     False       -0.110830   \n",
       "\n",
       "   is_href  siblings_count     loc_x     loc_y    size_h     ...       \\\n",
       "0    False       -0.328032 -0.727281 -1.322974 -0.180915     ...        \n",
       "1    False        0.020122 -0.727281 -1.322974 -0.180915     ...        \n",
       "\n",
       "   parent_3_li parent_3_main  parent_3_nav  parent_3_section  parent_3_span  \\\n",
       "0            0             0             0                 0              0   \n",
       "1            0             0             0                 0              0   \n",
       "\n",
       "   parent_3_table  parent_3_tbody  parent_3_td  parent_3_tr  parent_3_ul  \n",
       "0               0               0            0            0            0  \n",
       "1               0               0            0            0            0  \n",
       "\n",
       "[2 rows x 128 columns]"
      ]
     },
     "execution_count": 812,
     "metadata": {},
     "output_type": "execute_result"
    }
   ],
   "source": [
    "X_linear.head(2)"
   ]
  },
  {
   "cell_type": "markdown",
   "metadata": {},
   "source": [
    "Now we have data for linear and rf models"
   ]
  },
  {
   "cell_type": "markdown",
   "metadata": {},
   "source": [
    "## Part 9. Cross-validation and adjustment of model hyperparameters"
   ]
  },
  {
   "cell_type": "code",
   "execution_count": 833,
   "metadata": {},
   "outputs": [],
   "source": [
    "def print_scores(y_true, preds, verbose=True):\n",
    "    f1 = f1_score(y_true, preds)\n",
    "    roc_auc = roc_auc_score(y_true, preds)\n",
    "    pr_auc = average_precision_score(y_true, preds)\n",
    "    if verbose:\n",
    "        print(f'F1 score is {f1}')\n",
    "        print(f'ROC_AUC score is {roc_auc}')\n",
    "        print(f'PR_AUC is {pr_auc}')\n",
    "        print(f'confusion_matrix \\n {confusion_matrix(y_true, preds)}')\n",
    "    return f1, roc_auc, pr_auc"
   ]
  },
  {
   "cell_type": "markdown",
   "metadata": {},
   "source": [
    "Usual approach for data split supposed to look like this. We won't forget to drop target variable"
   ]
  },
  {
   "cell_type": "code",
   "execution_count": 821,
   "metadata": {},
   "outputs": [
    {
     "data": {
      "text/plain": [
       "((86173, 15), (28725, 15), (86173,), (28725,))"
      ]
     },
     "execution_count": 821,
     "metadata": {},
     "output_type": "execute_result"
    }
   ],
   "source": [
    "X_train,X_val,y_train,y_val = train_test_split(X.drop(['shop', 'y'],axis=1),y, random_state=42)\n",
    "X_train.shape,X_val.shape,y_train.shape,y_val.shape"
   ]
  },
  {
   "cell_type": "markdown",
   "metadata": {},
   "source": [
    "#### Random forest"
   ]
  },
  {
   "cell_type": "code",
   "execution_count": 823,
   "metadata": {},
   "outputs": [
    {
     "name": "stdout",
     "output_type": "stream",
     "text": [
      "F1 score is 1.0\n",
      "ROC_AUC score is 1.0\n",
      "PR_AUC is 1.0\n",
      "confusion_matrix \n",
      " [[28045     0]\n",
      " [    0   680]]\n"
     ]
    }
   ],
   "source": [
    "rf = RandomForestClassifier()\n",
    "rf.fit(X_train,y_train)\n",
    "preds = rf.predict(X_val)\n",
    "print_scores(y_val, preds);"
   ]
  },
  {
   "cell_type": "markdown",
   "metadata": {},
   "source": [
    "OMG we are perfect! Actually not. The only way to make reasonable test - separate all examples for one shop. It doesn't matter how many examples we leave out 5% or 50%. We should learn on shops we have and use it in the wild on other shops we haven't crawled before.\n",
    "\n",
    "So better to do it."
   ]
  },
  {
   "cell_type": "markdown",
   "metadata": {},
   "source": [
    "I'll implement cross-val score by hands"
   ]
  },
  {
   "cell_type": "code",
   "execution_count": 658,
   "metadata": {},
   "outputs": [
    {
     "name": "stdout",
     "output_type": "stream",
     "text": [
      "**********shop - Азбука вкуса*************\n",
      "Train shape (94359, 15)\n",
      "Val shape (20539, 15)\n",
      "F1 score is 0.0\n",
      "ROC_AUC score is 0.5\n",
      "PR_AUC is 0.035542139344661376\n",
      "confusion_matrix \n",
      " [[19809     0]\n",
      " [  730     0]]\n",
      "**********shop - Европа*************\n",
      "Train shape (94618, 15)\n",
      "Val shape (20280, 15)\n",
      "F1 score is 0.0\n",
      "ROC_AUC score is 0.49126506024096384\n",
      "PR_AUC is 0.01775147928994083\n",
      "confusion_matrix \n",
      " [[19572   348]\n",
      " [  360     0]]\n",
      "**********shop - Метро*************\n",
      "Train shape (99217, 15)\n",
      "Val shape (15681, 15)\n",
      "F1 score is 0.0\n",
      "ROC_AUC score is 0.4948222412769606\n",
      "PR_AUC is 0.03316115043683439\n",
      "confusion_matrix \n",
      " [[15004   157]\n",
      " [  520     0]]\n",
      "**********shop - Окей*************\n",
      "Train shape (88191, 15)\n",
      "Val shape (26707, 15)\n",
      "F1 score is 0.0\n",
      "ROC_AUC score is 0.5\n",
      "PR_AUC is 0.02913093945407571\n",
      "confusion_matrix \n",
      " [[25929     0]\n",
      " [  778     0]]\n",
      "**********shop - Перекрёсток*************\n",
      "Train shape (83207, 15)\n",
      "Val shape (31691, 15)\n",
      "F1 score is 0.0\n",
      "ROC_AUC score is 0.5\n",
      "PR_AUC is 0.014483607333312297\n",
      "confusion_matrix \n",
      " [[31232     0]\n",
      " [  459     0]]\n"
     ]
    }
   ],
   "source": [
    "diff_shops_df = [ (shop_name, shop_df) for shop_name, shop_df in X.groupby('shop')]\n",
    "for shop_name, shop_df in diff_shops_df:\n",
    "    y_cross_val = shop_df.y\n",
    "    X_cross_val = shop_df.drop(['y', 'shop'],axis=1) # validation only 1 shop\n",
    "    X_cross_train = X.drop(X_cross_val.index) # train all X without 1 shop\n",
    "    y_cross_train = X_cross_train.y\n",
    "    X_cross_train = X_cross_train.drop(['shop', 'y'],axis=1)\n",
    "    \n",
    "    rf = RandomForestClassifier(n_estimators=100,max_features='sqrt', criterion='entropy', min_samples_leaf=5,n_jobs=-1,)\n",
    "    rf.fit(X_cross_train,y_cross_train)\n",
    "    preds = rf.predict(X_cross_val)\n",
    "    print(f'**********shop - {shop_name}*************')\n",
    "    print(f'Train shape {X_cross_train.shape}')\n",
    "    print(f'Val shape {X_cross_val.shape}')\n",
    "    print_scores(y_cross_val, preds);"
   ]
  },
  {
   "cell_type": "markdown",
   "metadata": {},
   "source": [
    "Results are disaster."
   ]
  },
  {
   "cell_type": "markdown",
   "metadata": {},
   "source": [
    "Almost every time we got 100% false predictions, couple time FP, let's watch them"
   ]
  },
  {
   "cell_type": "code",
   "execution_count": 659,
   "metadata": {},
   "outputs": [
    {
     "name": "stdout",
     "output_type": "stream",
     "text": [
      "F1 score is 0.0\n",
      "ROC_AUC score is 0.4907379518072289\n",
      "PR_AUC is 0.01775147928994083\n",
      "confusion_matrix \n",
      " [[19551   369]\n",
      " [  360     0]]\n"
     ]
    }
   ],
   "source": [
    "X_train_analize = X.drop(X[X.shop == 'Европа'].index)\n",
    "X_val_analize = X[X.shop == 'Европа']\n",
    "y_train_analize = X_train_analize.y\n",
    "y_val_analize = X_val_analize.y\n",
    "X_train_analize.drop(['shop','y'],axis=1, inplace=True)\n",
    "X_val_analize.drop(['shop','y'],axis=1, inplace=True)\n",
    "\n",
    "rf = RandomForestClassifier(n_estimators=100,max_features='sqrt', criterion='entropy', min_samples_leaf=5,n_jobs=-1,)\n",
    "rf.fit(X_train_analize,y_train_analize)\n",
    "preds = rf.predict(X_val_analize)\n",
    "print_scores(y_val_analize, preds);"
   ]
  },
  {
   "cell_type": "code",
   "execution_count": 644,
   "metadata": {},
   "outputs": [
    {
     "data": {
      "text/html": [
       "<div>\n",
       "<style scoped>\n",
       "    .dataframe tbody tr th:only-of-type {\n",
       "        vertical-align: middle;\n",
       "    }\n",
       "\n",
       "    .dataframe tbody tr th {\n",
       "        vertical-align: top;\n",
       "    }\n",
       "\n",
       "    .dataframe thead th {\n",
       "        text-align: right;\n",
       "    }\n",
       "</style>\n",
       "<table border=\"1\" class=\"dataframe\">\n",
       "  <thead>\n",
       "    <tr style=\"text-align: right;\">\n",
       "      <th></th>\n",
       "      <th>depth</th>\n",
       "      <th>element_classes_count</th>\n",
       "      <th>href_seen</th>\n",
       "      <th>img_seen</th>\n",
       "      <th>inner_elements</th>\n",
       "      <th>is_href</th>\n",
       "      <th>siblings_count</th>\n",
       "      <th>tag</th>\n",
       "      <th>loc_x</th>\n",
       "      <th>loc_y</th>\n",
       "      <th>size_h</th>\n",
       "      <th>size_w</th>\n",
       "      <th>parent_1</th>\n",
       "      <th>parent_2</th>\n",
       "      <th>parent_3</th>\n",
       "    </tr>\n",
       "  </thead>\n",
       "  <tbody>\n",
       "    <tr>\n",
       "      <th>195</th>\n",
       "      <td>10</td>\n",
       "      <td>5</td>\n",
       "      <td>True</td>\n",
       "      <td>True</td>\n",
       "      <td>45</td>\n",
       "      <td>False</td>\n",
       "      <td>23</td>\n",
       "      <td>52</td>\n",
       "      <td>328</td>\n",
       "      <td>437</td>\n",
       "      <td>420</td>\n",
       "      <td>247</td>\n",
       "      <td>52</td>\n",
       "      <td>52</td>\n",
       "      <td>52</td>\n",
       "    </tr>\n",
       "    <tr>\n",
       "      <th>229</th>\n",
       "      <td>10</td>\n",
       "      <td>5</td>\n",
       "      <td>True</td>\n",
       "      <td>True</td>\n",
       "      <td>45</td>\n",
       "      <td>False</td>\n",
       "      <td>23</td>\n",
       "      <td>52</td>\n",
       "      <td>575</td>\n",
       "      <td>437</td>\n",
       "      <td>420</td>\n",
       "      <td>247</td>\n",
       "      <td>52</td>\n",
       "      <td>52</td>\n",
       "      <td>52</td>\n",
       "    </tr>\n",
       "    <tr>\n",
       "      <th>263</th>\n",
       "      <td>10</td>\n",
       "      <td>5</td>\n",
       "      <td>True</td>\n",
       "      <td>True</td>\n",
       "      <td>45</td>\n",
       "      <td>False</td>\n",
       "      <td>23</td>\n",
       "      <td>52</td>\n",
       "      <td>328</td>\n",
       "      <td>858</td>\n",
       "      <td>420</td>\n",
       "      <td>247</td>\n",
       "      <td>52</td>\n",
       "      <td>52</td>\n",
       "      <td>52</td>\n",
       "    </tr>\n",
       "    <tr>\n",
       "      <th>297</th>\n",
       "      <td>10</td>\n",
       "      <td>5</td>\n",
       "      <td>True</td>\n",
       "      <td>True</td>\n",
       "      <td>45</td>\n",
       "      <td>False</td>\n",
       "      <td>23</td>\n",
       "      <td>52</td>\n",
       "      <td>575</td>\n",
       "      <td>858</td>\n",
       "      <td>420</td>\n",
       "      <td>247</td>\n",
       "      <td>52</td>\n",
       "      <td>52</td>\n",
       "      <td>52</td>\n",
       "    </tr>\n",
       "    <tr>\n",
       "      <th>331</th>\n",
       "      <td>10</td>\n",
       "      <td>5</td>\n",
       "      <td>True</td>\n",
       "      <td>True</td>\n",
       "      <td>45</td>\n",
       "      <td>False</td>\n",
       "      <td>23</td>\n",
       "      <td>52</td>\n",
       "      <td>328</td>\n",
       "      <td>1278</td>\n",
       "      <td>420</td>\n",
       "      <td>247</td>\n",
       "      <td>52</td>\n",
       "      <td>52</td>\n",
       "      <td>52</td>\n",
       "    </tr>\n",
       "  </tbody>\n",
       "</table>\n",
       "</div>"
      ],
      "text/plain": [
       "     depth  element_classes_count  href_seen  img_seen  inner_elements  \\\n",
       "195     10                      5       True      True              45   \n",
       "229     10                      5       True      True              45   \n",
       "263     10                      5       True      True              45   \n",
       "297     10                      5       True      True              45   \n",
       "331     10                      5       True      True              45   \n",
       "\n",
       "     is_href  siblings_count  tag  loc_x  loc_y  size_h  size_w  parent_1  \\\n",
       "195    False              23   52    328    437     420     247        52   \n",
       "229    False              23   52    575    437     420     247        52   \n",
       "263    False              23   52    328    858     420     247        52   \n",
       "297    False              23   52    575    858     420     247        52   \n",
       "331    False              23   52    328   1278     420     247        52   \n",
       "\n",
       "     parent_2  parent_3  \n",
       "195        52        52  \n",
       "229        52        52  \n",
       "263        52        52  \n",
       "297        52        52  \n",
       "331        52        52  "
      ]
     },
     "execution_count": 644,
     "metadata": {},
     "output_type": "execute_result"
    }
   ],
   "source": [
    "X_val_analize[y_val_analize == True].head(5)"
   ]
  },
  {
   "cell_type": "code",
   "execution_count": 645,
   "metadata": {},
   "outputs": [
    {
     "data": {
      "text/html": [
       "<div>\n",
       "<style scoped>\n",
       "    .dataframe tbody tr th:only-of-type {\n",
       "        vertical-align: middle;\n",
       "    }\n",
       "\n",
       "    .dataframe tbody tr th {\n",
       "        vertical-align: top;\n",
       "    }\n",
       "\n",
       "    .dataframe thead th {\n",
       "        text-align: right;\n",
       "    }\n",
       "</style>\n",
       "<table border=\"1\" class=\"dataframe\">\n",
       "  <thead>\n",
       "    <tr style=\"text-align: right;\">\n",
       "      <th></th>\n",
       "      <th>depth</th>\n",
       "      <th>element_classes_count</th>\n",
       "      <th>href_seen</th>\n",
       "      <th>img_seen</th>\n",
       "      <th>inner_elements</th>\n",
       "      <th>is_href</th>\n",
       "      <th>siblings_count</th>\n",
       "      <th>tag</th>\n",
       "      <th>loc_x</th>\n",
       "      <th>loc_y</th>\n",
       "      <th>size_h</th>\n",
       "      <th>size_w</th>\n",
       "      <th>parent_1</th>\n",
       "      <th>parent_2</th>\n",
       "      <th>parent_3</th>\n",
       "    </tr>\n",
       "  </thead>\n",
       "  <tbody>\n",
       "    <tr>\n",
       "      <th>194</th>\n",
       "      <td>11</td>\n",
       "      <td>1</td>\n",
       "      <td>True</td>\n",
       "      <td>True</td>\n",
       "      <td>44</td>\n",
       "      <td>False</td>\n",
       "      <td>0</td>\n",
       "      <td>46</td>\n",
       "      <td>338</td>\n",
       "      <td>437</td>\n",
       "      <td>400</td>\n",
       "      <td>227</td>\n",
       "      <td>52</td>\n",
       "      <td>52</td>\n",
       "      <td>52</td>\n",
       "    </tr>\n",
       "    <tr>\n",
       "      <th>228</th>\n",
       "      <td>11</td>\n",
       "      <td>1</td>\n",
       "      <td>True</td>\n",
       "      <td>True</td>\n",
       "      <td>44</td>\n",
       "      <td>False</td>\n",
       "      <td>0</td>\n",
       "      <td>46</td>\n",
       "      <td>585</td>\n",
       "      <td>437</td>\n",
       "      <td>400</td>\n",
       "      <td>227</td>\n",
       "      <td>52</td>\n",
       "      <td>52</td>\n",
       "      <td>52</td>\n",
       "    </tr>\n",
       "    <tr>\n",
       "      <th>262</th>\n",
       "      <td>11</td>\n",
       "      <td>1</td>\n",
       "      <td>True</td>\n",
       "      <td>True</td>\n",
       "      <td>44</td>\n",
       "      <td>False</td>\n",
       "      <td>0</td>\n",
       "      <td>46</td>\n",
       "      <td>338</td>\n",
       "      <td>858</td>\n",
       "      <td>400</td>\n",
       "      <td>227</td>\n",
       "      <td>52</td>\n",
       "      <td>52</td>\n",
       "      <td>52</td>\n",
       "    </tr>\n",
       "    <tr>\n",
       "      <th>296</th>\n",
       "      <td>11</td>\n",
       "      <td>1</td>\n",
       "      <td>True</td>\n",
       "      <td>True</td>\n",
       "      <td>44</td>\n",
       "      <td>False</td>\n",
       "      <td>0</td>\n",
       "      <td>46</td>\n",
       "      <td>585</td>\n",
       "      <td>858</td>\n",
       "      <td>400</td>\n",
       "      <td>227</td>\n",
       "      <td>52</td>\n",
       "      <td>52</td>\n",
       "      <td>52</td>\n",
       "    </tr>\n",
       "    <tr>\n",
       "      <th>330</th>\n",
       "      <td>11</td>\n",
       "      <td>1</td>\n",
       "      <td>True</td>\n",
       "      <td>True</td>\n",
       "      <td>44</td>\n",
       "      <td>False</td>\n",
       "      <td>0</td>\n",
       "      <td>46</td>\n",
       "      <td>338</td>\n",
       "      <td>1278</td>\n",
       "      <td>400</td>\n",
       "      <td>227</td>\n",
       "      <td>52</td>\n",
       "      <td>52</td>\n",
       "      <td>52</td>\n",
       "    </tr>\n",
       "  </tbody>\n",
       "</table>\n",
       "</div>"
      ],
      "text/plain": [
       "     depth  element_classes_count  href_seen  img_seen  inner_elements  \\\n",
       "194     11                      1       True      True              44   \n",
       "228     11                      1       True      True              44   \n",
       "262     11                      1       True      True              44   \n",
       "296     11                      1       True      True              44   \n",
       "330     11                      1       True      True              44   \n",
       "\n",
       "     is_href  siblings_count  tag  loc_x  loc_y  size_h  size_w  parent_1  \\\n",
       "194    False               0   46    338    437     400     227        52   \n",
       "228    False               0   46    585    437     400     227        52   \n",
       "262    False               0   46    338    858     400     227        52   \n",
       "296    False               0   46    585    858     400     227        52   \n",
       "330    False               0   46    338   1278     400     227        52   \n",
       "\n",
       "     parent_2  parent_3  \n",
       "194        52        52  \n",
       "228        52        52  \n",
       "262        52        52  \n",
       "296        52        52  \n",
       "330        52        52  "
      ]
     },
     "execution_count": 645,
     "metadata": {},
     "output_type": "execute_result"
    }
   ],
   "source": [
    "X_val_analize[preds == True].head(5)"
   ]
  },
  {
   "cell_type": "markdown",
   "metadata": {},
   "source": [
    "Check indexes for validation and true_y. Suspiciously, they differ at 1."
   ]
  },
  {
   "cell_type": "code",
   "execution_count": 654,
   "metadata": {},
   "outputs": [
    {
     "data": {
      "text/html": [
       "<div>\n",
       "<style scoped>\n",
       "    .dataframe tbody tr th:only-of-type {\n",
       "        vertical-align: middle;\n",
       "    }\n",
       "\n",
       "    .dataframe tbody tr th {\n",
       "        vertical-align: top;\n",
       "    }\n",
       "\n",
       "    .dataframe thead th {\n",
       "        text-align: right;\n",
       "    }\n",
       "</style>\n",
       "<table border=\"1\" class=\"dataframe\">\n",
       "  <thead>\n",
       "    <tr style=\"text-align: right;\">\n",
       "      <th></th>\n",
       "      <th>childs_tags</th>\n",
       "      <th>depth</th>\n",
       "      <th>element_classes_count</th>\n",
       "      <th>element_classes_words</th>\n",
       "      <th>href_seen</th>\n",
       "      <th>img_seen</th>\n",
       "      <th>inner_elements</th>\n",
       "      <th>is_href</th>\n",
       "      <th>parent_tag</th>\n",
       "      <th>screenshot</th>\n",
       "      <th>...</th>\n",
       "      <th>tag</th>\n",
       "      <th>text</th>\n",
       "      <th>y</th>\n",
       "      <th>loc_x</th>\n",
       "      <th>loc_y</th>\n",
       "      <th>size_h</th>\n",
       "      <th>size_w</th>\n",
       "      <th>parent_1</th>\n",
       "      <th>parent_2</th>\n",
       "      <th>parent_3</th>\n",
       "    </tr>\n",
       "  </thead>\n",
       "  <tbody>\n",
       "    <tr>\n",
       "      <th>194</th>\n",
       "      <td>'span', 'a', 'input', 'button', 'div', 'img'</td>\n",
       "      <td>11</td>\n",
       "      <td>1</td>\n",
       "      <td>fly out</td>\n",
       "      <td>True</td>\n",
       "      <td>True</td>\n",
       "      <td>44</td>\n",
       "      <td>False</td>\n",
       "      <td>[body, div, div, div, div, div, div, div, div,...</td>\n",
       "      <td>/home/d.perepechin/scr_shot/06b9341c-69b1-41d9...</td>\n",
       "      <td>...</td>\n",
       "      <td>article</td>\n",
       "      <td>NaN</td>\n",
       "      <td>False</td>\n",
       "      <td>338</td>\n",
       "      <td>437</td>\n",
       "      <td>400</td>\n",
       "      <td>227</td>\n",
       "      <td>div</td>\n",
       "      <td>div</td>\n",
       "      <td>div</td>\n",
       "    </tr>\n",
       "    <tr>\n",
       "      <th>228</th>\n",
       "      <td>'span', 'a', 'input', 'button', 'div', 'img'</td>\n",
       "      <td>11</td>\n",
       "      <td>1</td>\n",
       "      <td>fly out</td>\n",
       "      <td>True</td>\n",
       "      <td>True</td>\n",
       "      <td>44</td>\n",
       "      <td>False</td>\n",
       "      <td>[body, div, div, div, div, div, div, div, div,...</td>\n",
       "      <td>/home/d.perepechin/scr_shot/0ca8b11e-eabf-4ea6...</td>\n",
       "      <td>...</td>\n",
       "      <td>article</td>\n",
       "      <td>NaN</td>\n",
       "      <td>False</td>\n",
       "      <td>585</td>\n",
       "      <td>437</td>\n",
       "      <td>400</td>\n",
       "      <td>227</td>\n",
       "      <td>div</td>\n",
       "      <td>div</td>\n",
       "      <td>div</td>\n",
       "    </tr>\n",
       "    <tr>\n",
       "      <th>262</th>\n",
       "      <td>'span', 'a', 'input', 'button', 'div', 'img'</td>\n",
       "      <td>11</td>\n",
       "      <td>1</td>\n",
       "      <td>fly out</td>\n",
       "      <td>True</td>\n",
       "      <td>True</td>\n",
       "      <td>44</td>\n",
       "      <td>False</td>\n",
       "      <td>[body, div, div, div, div, div, div, div, div,...</td>\n",
       "      <td>/home/d.perepechin/scr_shot/8f4c4356-248f-4d57...</td>\n",
       "      <td>...</td>\n",
       "      <td>article</td>\n",
       "      <td>NaN</td>\n",
       "      <td>False</td>\n",
       "      <td>338</td>\n",
       "      <td>858</td>\n",
       "      <td>400</td>\n",
       "      <td>227</td>\n",
       "      <td>div</td>\n",
       "      <td>div</td>\n",
       "      <td>div</td>\n",
       "    </tr>\n",
       "  </tbody>\n",
       "</table>\n",
       "<p>3 rows × 22 columns</p>\n",
       "</div>"
      ],
      "text/plain": [
       "                                      childs_tags  depth  \\\n",
       "194  'span', 'a', 'input', 'button', 'div', 'img'     11   \n",
       "228  'span', 'a', 'input', 'button', 'div', 'img'     11   \n",
       "262  'span', 'a', 'input', 'button', 'div', 'img'     11   \n",
       "\n",
       "     element_classes_count element_classes_words  href_seen  img_seen  \\\n",
       "194                      1              fly out        True      True   \n",
       "228                      1              fly out        True      True   \n",
       "262                      1              fly out        True      True   \n",
       "\n",
       "     inner_elements  is_href  \\\n",
       "194              44    False   \n",
       "228              44    False   \n",
       "262              44    False   \n",
       "\n",
       "                                            parent_tag  \\\n",
       "194  [body, div, div, div, div, div, div, div, div,...   \n",
       "228  [body, div, div, div, div, div, div, div, div,...   \n",
       "262  [body, div, div, div, div, div, div, div, div,...   \n",
       "\n",
       "                                            screenshot   ...         tag  \\\n",
       "194  /home/d.perepechin/scr_shot/06b9341c-69b1-41d9...   ...     article   \n",
       "228  /home/d.perepechin/scr_shot/0ca8b11e-eabf-4ea6...   ...     article   \n",
       "262  /home/d.perepechin/scr_shot/8f4c4356-248f-4d57...   ...     article   \n",
       "\n",
       "     text      y  loc_x  loc_y  size_h  size_w  parent_1  parent_2 parent_3  \n",
       "194   NaN  False    338    437     400     227       div       div      div  \n",
       "228   NaN  False    585    437     400     227       div       div      div  \n",
       "262   NaN  False    338    858     400     227       div       div      div  \n",
       "\n",
       "[3 rows x 22 columns]"
      ]
     },
     "execution_count": 654,
     "metadata": {},
     "output_type": "execute_result"
    }
   ],
   "source": [
    "df_clean[df_clean.index.isin(X_val_analize[preds == True].index)].head(3)"
   ]
  },
  {
   "cell_type": "code",
   "execution_count": 18,
   "metadata": {},
   "outputs": [
    {
     "data": {
      "text/html": [
       "<img src=\"https://habrastorage.org/webt/x1/no/c5/x1noc54flobtv8lyf3ip66te05k.png\" width=\"900\"/>"
      ],
      "text/plain": [
       "<IPython.core.display.Image object>"
      ]
     },
     "execution_count": 18,
     "metadata": {},
     "output_type": "execute_result"
    }
   ],
   "source": [
    "# screen for df_clean[df_clean.index.isin(X_val_analize[preds == True].index)].screenshot\n",
    "Image(url='https://habrastorage.org/webt/x1/no/c5/x1noc54flobtv8lyf3ip66te05k.png', width=900)"
   ]
  },
  {
   "cell_type": "markdown",
   "metadata": {},
   "source": [
    "Yep, correct elements, but some confusions with nested div-div-li-article arose. As humans, we see classification correct, but machine thinks differently.\n",
    "\n",
    "And by confusion matrix we can see number of FN == 360 and FP == 369. So maybe 9 elements were really misclassified. I think because we treating as correct product card only those in the main catalog, but it's always some promos on the sides."
   ]
  },
  {
   "cell_type": "markdown",
   "metadata": {},
   "source": [
    "Let's check 'Метро' either."
   ]
  },
  {
   "cell_type": "code",
   "execution_count": 674,
   "metadata": {},
   "outputs": [
    {
     "name": "stdout",
     "output_type": "stream",
     "text": [
      "F1 score is 0.0\n",
      "ROC_AUC score is 0.4931073148209221\n",
      "PR_AUC is 0.03316115043683439\n",
      "confusion_matrix \n",
      " [[14952   209]\n",
      " [  520     0]]\n"
     ]
    }
   ],
   "source": [
    "X_train_analize = X.drop(X[X.shop == 'Метро'].index)\n",
    "X_val_analize = X[X.shop == 'Метро']\n",
    "y_train_analize = X_train_analize.y\n",
    "y_val_analize = X_val_analize.y\n",
    "X_train_analize.drop(['shop','y'],axis=1, inplace=True)\n",
    "X_val_analize.drop(['shop','y'],axis=1, inplace=True)\n",
    "\n",
    "rf = RandomForestClassifier(n_estimators=100,max_features='sqrt', criterion='entropy', min_samples_leaf=5,n_jobs=-1,)\n",
    "rf.fit(X_train_analize,y_train_analize)\n",
    "preds = rf.predict(X_val_analize)\n",
    "print_scores(y_val_analize, preds);"
   ]
  },
  {
   "cell_type": "code",
   "execution_count": 661,
   "metadata": {},
   "outputs": [
    {
     "data": {
      "text/html": [
       "<div>\n",
       "<style scoped>\n",
       "    .dataframe tbody tr th:only-of-type {\n",
       "        vertical-align: middle;\n",
       "    }\n",
       "\n",
       "    .dataframe tbody tr th {\n",
       "        vertical-align: top;\n",
       "    }\n",
       "\n",
       "    .dataframe thead th {\n",
       "        text-align: right;\n",
       "    }\n",
       "</style>\n",
       "<table border=\"1\" class=\"dataframe\">\n",
       "  <thead>\n",
       "    <tr style=\"text-align: right;\">\n",
       "      <th></th>\n",
       "      <th>depth</th>\n",
       "      <th>element_classes_count</th>\n",
       "      <th>href_seen</th>\n",
       "      <th>img_seen</th>\n",
       "      <th>inner_elements</th>\n",
       "      <th>is_href</th>\n",
       "      <th>siblings_count</th>\n",
       "      <th>tag</th>\n",
       "      <th>loc_x</th>\n",
       "      <th>loc_y</th>\n",
       "      <th>size_h</th>\n",
       "      <th>size_w</th>\n",
       "      <th>parent_1</th>\n",
       "      <th>parent_2</th>\n",
       "      <th>parent_3</th>\n",
       "    </tr>\n",
       "  </thead>\n",
       "  <tbody>\n",
       "    <tr>\n",
       "      <th>87173</th>\n",
       "      <td>9</td>\n",
       "      <td>1</td>\n",
       "      <td>True</td>\n",
       "      <td>True</td>\n",
       "      <td>38</td>\n",
       "      <td>False</td>\n",
       "      <td>1</td>\n",
       "      <td>52</td>\n",
       "      <td>260</td>\n",
       "      <td>478</td>\n",
       "      <td>441</td>\n",
       "      <td>231</td>\n",
       "      <td>52</td>\n",
       "      <td>52</td>\n",
       "      <td>52</td>\n",
       "    </tr>\n",
       "    <tr>\n",
       "      <th>87195</th>\n",
       "      <td>9</td>\n",
       "      <td>1</td>\n",
       "      <td>True</td>\n",
       "      <td>True</td>\n",
       "      <td>27</td>\n",
       "      <td>False</td>\n",
       "      <td>1</td>\n",
       "      <td>52</td>\n",
       "      <td>501</td>\n",
       "      <td>478</td>\n",
       "      <td>441</td>\n",
       "      <td>231</td>\n",
       "      <td>52</td>\n",
       "      <td>52</td>\n",
       "      <td>52</td>\n",
       "    </tr>\n",
       "    <tr>\n",
       "      <th>87220</th>\n",
       "      <td>9</td>\n",
       "      <td>1</td>\n",
       "      <td>True</td>\n",
       "      <td>True</td>\n",
       "      <td>38</td>\n",
       "      <td>False</td>\n",
       "      <td>1</td>\n",
       "      <td>52</td>\n",
       "      <td>742</td>\n",
       "      <td>478</td>\n",
       "      <td>441</td>\n",
       "      <td>231</td>\n",
       "      <td>52</td>\n",
       "      <td>52</td>\n",
       "      <td>52</td>\n",
       "    </tr>\n",
       "    <tr>\n",
       "      <th>87245</th>\n",
       "      <td>9</td>\n",
       "      <td>1</td>\n",
       "      <td>True</td>\n",
       "      <td>True</td>\n",
       "      <td>38</td>\n",
       "      <td>False</td>\n",
       "      <td>1</td>\n",
       "      <td>52</td>\n",
       "      <td>260</td>\n",
       "      <td>929</td>\n",
       "      <td>441</td>\n",
       "      <td>231</td>\n",
       "      <td>52</td>\n",
       "      <td>52</td>\n",
       "      <td>52</td>\n",
       "    </tr>\n",
       "    <tr>\n",
       "      <th>87267</th>\n",
       "      <td>9</td>\n",
       "      <td>1</td>\n",
       "      <td>True</td>\n",
       "      <td>True</td>\n",
       "      <td>27</td>\n",
       "      <td>False</td>\n",
       "      <td>1</td>\n",
       "      <td>52</td>\n",
       "      <td>501</td>\n",
       "      <td>929</td>\n",
       "      <td>441</td>\n",
       "      <td>231</td>\n",
       "      <td>52</td>\n",
       "      <td>52</td>\n",
       "      <td>52</td>\n",
       "    </tr>\n",
       "  </tbody>\n",
       "</table>\n",
       "</div>"
      ],
      "text/plain": [
       "       depth  element_classes_count  href_seen  img_seen  inner_elements  \\\n",
       "87173      9                      1       True      True              38   \n",
       "87195      9                      1       True      True              27   \n",
       "87220      9                      1       True      True              38   \n",
       "87245      9                      1       True      True              38   \n",
       "87267      9                      1       True      True              27   \n",
       "\n",
       "       is_href  siblings_count  tag  loc_x  loc_y  size_h  size_w  parent_1  \\\n",
       "87173    False               1   52    260    478     441     231        52   \n",
       "87195    False               1   52    501    478     441     231        52   \n",
       "87220    False               1   52    742    478     441     231        52   \n",
       "87245    False               1   52    260    929     441     231        52   \n",
       "87267    False               1   52    501    929     441     231        52   \n",
       "\n",
       "       parent_2  parent_3  \n",
       "87173        52        52  \n",
       "87195        52        52  \n",
       "87220        52        52  \n",
       "87245        52        52  \n",
       "87267        52        52  "
      ]
     },
     "execution_count": 661,
     "metadata": {},
     "output_type": "execute_result"
    }
   ],
   "source": [
    "X_val_analize[y_val_analize == True].head(5)"
   ]
  },
  {
   "cell_type": "code",
   "execution_count": 662,
   "metadata": {},
   "outputs": [
    {
     "data": {
      "text/html": [
       "<div>\n",
       "<style scoped>\n",
       "    .dataframe tbody tr th:only-of-type {\n",
       "        vertical-align: middle;\n",
       "    }\n",
       "\n",
       "    .dataframe tbody tr th {\n",
       "        vertical-align: top;\n",
       "    }\n",
       "\n",
       "    .dataframe thead th {\n",
       "        text-align: right;\n",
       "    }\n",
       "</style>\n",
       "<table border=\"1\" class=\"dataframe\">\n",
       "  <thead>\n",
       "    <tr style=\"text-align: right;\">\n",
       "      <th></th>\n",
       "      <th>depth</th>\n",
       "      <th>element_classes_count</th>\n",
       "      <th>href_seen</th>\n",
       "      <th>img_seen</th>\n",
       "      <th>inner_elements</th>\n",
       "      <th>is_href</th>\n",
       "      <th>siblings_count</th>\n",
       "      <th>tag</th>\n",
       "      <th>loc_x</th>\n",
       "      <th>loc_y</th>\n",
       "      <th>size_h</th>\n",
       "      <th>size_w</th>\n",
       "      <th>parent_1</th>\n",
       "      <th>parent_2</th>\n",
       "      <th>parent_3</th>\n",
       "    </tr>\n",
       "  </thead>\n",
       "  <tbody>\n",
       "    <tr>\n",
       "      <th>87772</th>\n",
       "      <td>8</td>\n",
       "      <td>2</td>\n",
       "      <td>True</td>\n",
       "      <td>True</td>\n",
       "      <td>40</td>\n",
       "      <td>False</td>\n",
       "      <td>71</td>\n",
       "      <td>52</td>\n",
       "      <td>259</td>\n",
       "      <td>477</td>\n",
       "      <td>443</td>\n",
       "      <td>233</td>\n",
       "      <td>52</td>\n",
       "      <td>52</td>\n",
       "      <td>52</td>\n",
       "    </tr>\n",
       "    <tr>\n",
       "      <th>87794</th>\n",
       "      <td>8</td>\n",
       "      <td>2</td>\n",
       "      <td>True</td>\n",
       "      <td>True</td>\n",
       "      <td>29</td>\n",
       "      <td>False</td>\n",
       "      <td>71</td>\n",
       "      <td>52</td>\n",
       "      <td>500</td>\n",
       "      <td>477</td>\n",
       "      <td>443</td>\n",
       "      <td>233</td>\n",
       "      <td>52</td>\n",
       "      <td>52</td>\n",
       "      <td>52</td>\n",
       "    </tr>\n",
       "    <tr>\n",
       "      <th>87816</th>\n",
       "      <td>8</td>\n",
       "      <td>2</td>\n",
       "      <td>True</td>\n",
       "      <td>True</td>\n",
       "      <td>29</td>\n",
       "      <td>False</td>\n",
       "      <td>71</td>\n",
       "      <td>52</td>\n",
       "      <td>741</td>\n",
       "      <td>477</td>\n",
       "      <td>443</td>\n",
       "      <td>233</td>\n",
       "      <td>52</td>\n",
       "      <td>52</td>\n",
       "      <td>52</td>\n",
       "    </tr>\n",
       "    <tr>\n",
       "      <th>87841</th>\n",
       "      <td>8</td>\n",
       "      <td>2</td>\n",
       "      <td>True</td>\n",
       "      <td>True</td>\n",
       "      <td>40</td>\n",
       "      <td>False</td>\n",
       "      <td>71</td>\n",
       "      <td>52</td>\n",
       "      <td>259</td>\n",
       "      <td>928</td>\n",
       "      <td>443</td>\n",
       "      <td>233</td>\n",
       "      <td>52</td>\n",
       "      <td>52</td>\n",
       "      <td>52</td>\n",
       "    </tr>\n",
       "    <tr>\n",
       "      <th>87866</th>\n",
       "      <td>8</td>\n",
       "      <td>2</td>\n",
       "      <td>True</td>\n",
       "      <td>True</td>\n",
       "      <td>32</td>\n",
       "      <td>False</td>\n",
       "      <td>71</td>\n",
       "      <td>52</td>\n",
       "      <td>500</td>\n",
       "      <td>928</td>\n",
       "      <td>443</td>\n",
       "      <td>233</td>\n",
       "      <td>52</td>\n",
       "      <td>52</td>\n",
       "      <td>52</td>\n",
       "    </tr>\n",
       "  </tbody>\n",
       "</table>\n",
       "</div>"
      ],
      "text/plain": [
       "       depth  element_classes_count  href_seen  img_seen  inner_elements  \\\n",
       "87772      8                      2       True      True              40   \n",
       "87794      8                      2       True      True              29   \n",
       "87816      8                      2       True      True              29   \n",
       "87841      8                      2       True      True              40   \n",
       "87866      8                      2       True      True              32   \n",
       "\n",
       "       is_href  siblings_count  tag  loc_x  loc_y  size_h  size_w  parent_1  \\\n",
       "87772    False              71   52    259    477     443     233        52   \n",
       "87794    False              71   52    500    477     443     233        52   \n",
       "87816    False              71   52    741    477     443     233        52   \n",
       "87841    False              71   52    259    928     443     233        52   \n",
       "87866    False              71   52    500    928     443     233        52   \n",
       "\n",
       "       parent_2  parent_3  \n",
       "87772        52        52  \n",
       "87794        52        52  \n",
       "87816        52        52  \n",
       "87841        52        52  \n",
       "87866        52        52  "
      ]
     },
     "execution_count": 662,
     "metadata": {},
     "output_type": "execute_result"
    }
   ],
   "source": [
    "X_val_analize[preds == True].head(5)"
   ]
  },
  {
   "cell_type": "code",
   "execution_count": 663,
   "metadata": {},
   "outputs": [
    {
     "data": {
      "text/html": [
       "<div>\n",
       "<style scoped>\n",
       "    .dataframe tbody tr th:only-of-type {\n",
       "        vertical-align: middle;\n",
       "    }\n",
       "\n",
       "    .dataframe tbody tr th {\n",
       "        vertical-align: top;\n",
       "    }\n",
       "\n",
       "    .dataframe thead th {\n",
       "        text-align: right;\n",
       "    }\n",
       "</style>\n",
       "<table border=\"1\" class=\"dataframe\">\n",
       "  <thead>\n",
       "    <tr style=\"text-align: right;\">\n",
       "      <th></th>\n",
       "      <th>childs_tags</th>\n",
       "      <th>depth</th>\n",
       "      <th>element_classes_count</th>\n",
       "      <th>element_classes_words</th>\n",
       "      <th>href_seen</th>\n",
       "      <th>img_seen</th>\n",
       "      <th>inner_elements</th>\n",
       "      <th>is_href</th>\n",
       "      <th>parent_tag</th>\n",
       "      <th>screenshot</th>\n",
       "      <th>...</th>\n",
       "      <th>tag</th>\n",
       "      <th>text</th>\n",
       "      <th>y</th>\n",
       "      <th>loc_x</th>\n",
       "      <th>loc_y</th>\n",
       "      <th>size_h</th>\n",
       "      <th>size_w</th>\n",
       "      <th>parent_1</th>\n",
       "      <th>parent_2</th>\n",
       "      <th>parent_3</th>\n",
       "    </tr>\n",
       "  </thead>\n",
       "  <tbody>\n",
       "    <tr>\n",
       "      <th>87772</th>\n",
       "      <td>'div', 'a', 'img', 'b', 'span'</td>\n",
       "      <td>8</td>\n",
       "      <td>2</td>\n",
       "      <td>catalog i\\n\\t\\t\\t   price rules\\t</td>\n",
       "      <td>True</td>\n",
       "      <td>True</td>\n",
       "      <td>40</td>\n",
       "      <td>False</td>\n",
       "      <td>[body, div, div, div, div, div, div]</td>\n",
       "      <td>/home/d.perepechin/scr_shot/eca0c259-fce1-4273...</td>\n",
       "      <td>...</td>\n",
       "      <td>div</td>\n",
       "      <td>NaN</td>\n",
       "      <td>False</td>\n",
       "      <td>259</td>\n",
       "      <td>477</td>\n",
       "      <td>443</td>\n",
       "      <td>233</td>\n",
       "      <td>div</td>\n",
       "      <td>div</td>\n",
       "      <td>div</td>\n",
       "    </tr>\n",
       "    <tr>\n",
       "      <th>87794</th>\n",
       "      <td>'div', 'a', 'img', 'span'</td>\n",
       "      <td>8</td>\n",
       "      <td>2</td>\n",
       "      <td>catalog i\\n\\t\\t   need cost redef\\t\\t</td>\n",
       "      <td>True</td>\n",
       "      <td>True</td>\n",
       "      <td>29</td>\n",
       "      <td>False</td>\n",
       "      <td>[body, div, div, div, div, div, div]</td>\n",
       "      <td>/home/d.perepechin/scr_shot/47d5d630-a600-465e...</td>\n",
       "      <td>...</td>\n",
       "      <td>div</td>\n",
       "      <td>NaN</td>\n",
       "      <td>False</td>\n",
       "      <td>500</td>\n",
       "      <td>477</td>\n",
       "      <td>443</td>\n",
       "      <td>233</td>\n",
       "      <td>div</td>\n",
       "      <td>div</td>\n",
       "      <td>div</td>\n",
       "    </tr>\n",
       "    <tr>\n",
       "      <th>87816</th>\n",
       "      <td>'div', 'a', 'img', 'span'</td>\n",
       "      <td>8</td>\n",
       "      <td>2</td>\n",
       "      <td>catalog i\\n\\t\\t   need cost redef\\t\\t</td>\n",
       "      <td>True</td>\n",
       "      <td>True</td>\n",
       "      <td>29</td>\n",
       "      <td>False</td>\n",
       "      <td>[body, div, div, div, div, div, div]</td>\n",
       "      <td>/home/d.perepechin/scr_shot/c6a842ab-569d-4f14...</td>\n",
       "      <td>...</td>\n",
       "      <td>div</td>\n",
       "      <td>NaN</td>\n",
       "      <td>False</td>\n",
       "      <td>741</td>\n",
       "      <td>477</td>\n",
       "      <td>443</td>\n",
       "      <td>233</td>\n",
       "      <td>div</td>\n",
       "      <td>div</td>\n",
       "      <td>div</td>\n",
       "    </tr>\n",
       "  </tbody>\n",
       "</table>\n",
       "<p>3 rows × 22 columns</p>\n",
       "</div>"
      ],
      "text/plain": [
       "                          childs_tags  depth  element_classes_count  \\\n",
       "87772  'div', 'a', 'img', 'b', 'span'      8                      2   \n",
       "87794       'div', 'a', 'img', 'span'      8                      2   \n",
       "87816       'div', 'a', 'img', 'span'      8                      2   \n",
       "\n",
       "                       element_classes_words  href_seen  img_seen  \\\n",
       "87772      catalog i\\n\\t\\t\\t   price rules\\t       True      True   \n",
       "87794  catalog i\\n\\t\\t   need cost redef\\t\\t       True      True   \n",
       "87816  catalog i\\n\\t\\t   need cost redef\\t\\t       True      True   \n",
       "\n",
       "       inner_elements  is_href                            parent_tag  \\\n",
       "87772              40    False  [body, div, div, div, div, div, div]   \n",
       "87794              29    False  [body, div, div, div, div, div, div]   \n",
       "87816              29    False  [body, div, div, div, div, div, div]   \n",
       "\n",
       "                                              screenshot   ...     tag  text  \\\n",
       "87772  /home/d.perepechin/scr_shot/eca0c259-fce1-4273...   ...     div   NaN   \n",
       "87794  /home/d.perepechin/scr_shot/47d5d630-a600-465e...   ...     div   NaN   \n",
       "87816  /home/d.perepechin/scr_shot/c6a842ab-569d-4f14...   ...     div   NaN   \n",
       "\n",
       "           y  loc_x  loc_y  size_h  size_w  parent_1  parent_2 parent_3  \n",
       "87772  False    259    477     443     233       div       div      div  \n",
       "87794  False    500    477     443     233       div       div      div  \n",
       "87816  False    741    477     443     233       div       div      div  \n",
       "\n",
       "[3 rows x 22 columns]"
      ]
     },
     "execution_count": 663,
     "metadata": {},
     "output_type": "execute_result"
    }
   ],
   "source": [
    "df_clean[df_clean.index.isin(X_val_analize[preds == True].index)].head(3)"
   ]
  },
  {
   "cell_type": "code",
   "execution_count": 19,
   "metadata": {},
   "outputs": [
    {
     "data": {
      "text/html": [
       "<img src=\"https://habrastorage.org/webt/to/4g/uw/to4guwglcb6epg6pf12bjehd69k.png\" width=\"900\"/>"
      ],
      "text/plain": [
       "<IPython.core.display.Image object>"
      ]
     },
     "execution_count": 19,
     "metadata": {},
     "output_type": "execute_result"
    }
   ],
   "source": [
    "# screen for df_clean[df_clean.index.isin(X_val_analize[preds == True].index)].screenshot\n",
    "Image(url='https://habrastorage.org/webt/to/4g/uw/to4guwglcb6epg6pf12bjehd69k.png', width=900)"
   ]
  },
  {
   "cell_type": "markdown",
   "metadata": {},
   "source": [
    "Same story with 'Метро' correct cards, but wrong elements.\n",
    "\n",
    "However confusion matrix is worser FN == 520 FP == 209, We are missing a lot."
   ]
  },
  {
   "cell_type": "markdown",
   "metadata": {},
   "source": [
    "All other shops doing much worse. All predictions for them - False. It's harder to analyze."
   ]
  },
  {
   "cell_type": "code",
   "execution_count": 679,
   "metadata": {},
   "outputs": [
    {
     "name": "stdout",
     "output_type": "stream",
     "text": [
      "F1 score is 0.0\n",
      "ROC_AUC score is 0.5\n",
      "PR_AUC is 0.02913093945407571\n",
      "confusion_matrix \n",
      " [[25929     0]\n",
      " [  778     0]]\n"
     ]
    }
   ],
   "source": [
    "X_train_analize = X.drop(X[X.shop == 'Окей'].index)\n",
    "X_val_analize = X[X.shop == 'Окей']\n",
    "y_train_analize = X_train_analize.y\n",
    "y_val_analize = X_val_analize.y\n",
    "X_train_analize.drop(['shop','y'],axis=1, inplace=True)\n",
    "X_val_analize.drop(['shop','y'],axis=1, inplace=True)\n",
    "\n",
    "rf = RandomForestClassifier(n_estimators=100,max_features='sqrt', criterion='entropy', min_samples_leaf=5,n_jobs=-1,)\n",
    "rf.fit(X_train_analize,y_train_analize)\n",
    "preds = rf.predict(X_val_analize)\n",
    "print_scores(y_val_analize, preds);"
   ]
  },
  {
   "cell_type": "code",
   "execution_count": 686,
   "metadata": {},
   "outputs": [],
   "source": [
    "# Extra module pip install treeinterpreter\n",
    "from treeinterpreter import treeinterpreter as ti"
   ]
  },
  {
   "cell_type": "code",
   "execution_count": 791,
   "metadata": {},
   "outputs": [
    {
     "name": "stdout",
     "output_type": "stream",
     "text": [
      "[[1. 0.]]\n"
     ]
    }
   ],
   "source": [
    "test_example = X_val_analize[y_val_analize == False].sample(1)\n",
    "print(rf.predict_proba(test_example))"
   ]
  },
  {
   "cell_type": "code",
   "execution_count": 792,
   "metadata": {},
   "outputs": [
    {
     "name": "stdout",
     "output_type": "stream",
     "text": [
      "[[0.87 0.13]]\n"
     ]
    }
   ],
   "source": [
    "test_example = X_val_analize[y_val_analize == True].sample(1)\n",
    "print(rf.predict_proba(test_example))"
   ]
  },
  {
   "cell_type": "markdown",
   "metadata": {},
   "source": [
    "In probabilities, we see the difference between the correct class and incorrect. Tree picks a most probable class, but maybe we can leverage another approach"
   ]
  },
  {
   "cell_type": "code",
   "execution_count": 793,
   "metadata": {},
   "outputs": [
    {
     "data": {
      "text/plain": [
       "(array([[0.87, 0.13]]), array([[0.97661689, 0.02338311]]))"
      ]
     },
     "execution_count": 793,
     "metadata": {},
     "output_type": "execute_result"
    }
   ],
   "source": [
    "prediction, bias, contributions = ti.predict(rf, test_example)\n",
    "prediction, bias"
   ]
  },
  {
   "cell_type": "markdown",
   "metadata": {},
   "source": [
    "Forest is highly biased onto False assumptions, let's pick elements with the probability being true not > 0.5, but >bias."
   ]
  },
  {
   "cell_type": "code",
   "execution_count": 794,
   "metadata": {},
   "outputs": [
    {
     "data": {
      "text/plain": [
       "1890"
      ]
     },
     "execution_count": 794,
     "metadata": {},
     "output_type": "execute_result"
    }
   ],
   "source": [
    "preds_proba = rf.predict_proba(X_val_analize)\n",
    "true_class_probs = preds_proba[:,1]\n",
    "(true_class_probs > 0.023).sum()"
   ]
  },
  {
   "cell_type": "markdown",
   "metadata": {},
   "source": [
    "1890 elements. Too many for our shop, but who cares. Let's analyze further."
   ]
  },
  {
   "cell_type": "code",
   "execution_count": 20,
   "metadata": {},
   "outputs": [
    {
     "data": {
      "text/html": [
       "<img src=\"https://habrastorage.org/webt/yk/sk/t5/ykskt5lziqsgazssbkkk8vgm3w8.png\" width=\"900\"/>"
      ],
      "text/plain": [
       "<IPython.core.display.Image object>"
      ]
     },
     "execution_count": 20,
     "metadata": {},
     "output_type": "execute_result"
    }
   ],
   "source": [
    "# screen for df_clean[df_clean.index.isin((true_class_probs > 0.023).index)].screenshot\n",
    "Image(url='https://habrastorage.org/webt/yk/sk/t5/ykskt5lziqsgazssbkkk8vgm3w8.png', width=900)"
   ]
  },
  {
   "cell_type": "code",
   "execution_count": 21,
   "metadata": {},
   "outputs": [
    {
     "data": {
      "text/html": [
       "<img src=\"https://habrastorage.org/webt/yd/aj/kz/ydajkzlfdllxmdmus-v5vunfwcm.png\" width=\"900\"/>"
      ],
      "text/plain": [
       "<IPython.core.display.Image object>"
      ]
     },
     "execution_count": 21,
     "metadata": {},
     "output_type": "execute_result"
    }
   ],
   "source": [
    "# screen for df_clean[df_clean.index.isin((true_class_probs > 0.023).index)].screenshot\n",
    "Image(url='https://habrastorage.org/webt/yd/aj/kz/ydajkzlfdllxmdmus-v5vunfwcm.png', width=900)"
   ]
  },
  {
   "cell_type": "markdown",
   "metadata": {},
   "source": [
    "It's 778 true elements for 'Окей' while we predicting 1890 above the bias. Look closer to the pics of correct elements some of them have ~330 pix height, some ~300. It's our favorite problem div in div. I assume there are 2 predictions for every correct element. So we have 778*2 = 1556 \"correct\" predictions and 1890-1556=334 FP. Of course, I can tweak confidence level as I want to, but the bias term gives me a clear sign of shop's distribution.\n",
    "\n",
    "Let's adopt predictions above the bias level."
   ]
  },
  {
   "cell_type": "code",
   "execution_count": 938,
   "metadata": {},
   "outputs": [
    {
     "name": "stdout",
     "output_type": "stream",
     "text": [
      "**********shop - Азбука вкуса*************\n",
      "F1 score is 0.6160337552742616\n",
      "ROC_AUC score is 0.9770306426371852\n",
      "PR_AUC is 0.4451219512195122\n",
      "confusion_matrix \n",
      " [[18899   910]\n",
      " [    0   730]]\n",
      "**********shop - Европа*************\n",
      "F1 score is 0.32623470774807434\n",
      "ROC_AUC score is 0.9626757028112449\n",
      "PR_AUC is 0.19491066594477532\n",
      "confusion_matrix \n",
      " [[18433  1487]\n",
      " [    0   360]]\n",
      "**********shop - Метро*************\n",
      "F1 score is 0.6516290726817042\n",
      "ROC_AUC score is 0.9816634786623574\n",
      "PR_AUC is 0.483271375464684\n",
      "confusion_matrix \n",
      " [[14605   556]\n",
      " [    0   520]]\n",
      "**********shop - Окей*************\n",
      "F1 score is 0.577365491651206\n",
      "ROC_AUC score is 0.9780361757105943\n",
      "PR_AUC is 0.40584246218049036\n",
      "confusion_matrix \n",
      " [[24790  1139]\n",
      " [    0   778]]\n",
      "**********shop - Перекрёсток*************\n",
      "F1 score is 0.3737147966025927\n",
      "ROC_AUC score is 0.9335651496482017\n",
      "PR_AUC is 0.21538952974920267\n",
      "confusion_matrix \n",
      " [[29872  1360]\n",
      " [   41   418]]\n",
      "Mean f1 - 0.5089955647915678\n",
      "Mean ROC AUC - 0.9665942298939167\n",
      "Mean PR AUC - 0.3489071969117329\n"
     ]
    }
   ],
   "source": [
    "diff_shops_df = [ (shop_name, shop_df) for shop_name, shop_df in X.groupby('shop')]\n",
    "f1s = list()\n",
    "rocs = list()\n",
    "prs = list()\n",
    "for shop_name, shop_df in diff_shops_df:\n",
    "    y_cross_val = shop_df.y\n",
    "    X_cross_val = shop_df.drop(['y', 'shop'],axis=1) # validation only 1 shop\n",
    "    X_cross_train = X.drop(X_cross_val.index) # train all X without 1 shop\n",
    "    y_cross_train = X_cross_train.y\n",
    "    X_cross_train = X_cross_train.drop(['shop', 'y'],axis=1)\n",
    "    \n",
    "    rf = RandomForestClassifier(n_estimators=100,max_features='sqrt', criterion='entropy', min_samples_leaf=5,n_jobs=-1,)\n",
    "    rf.fit(X_cross_train,y_cross_train)\n",
    "    _, bias, _ = ti.predict(rf,test_example) \n",
    "    bias_treshold = bias[0][1]\n",
    "    preds_proba = rf.predict_proba(X_cross_val)\n",
    "    preds = (preds_proba[:,1] > bias_treshold)\n",
    "    print(f'**********shop - {shop_name}*************')\n",
    "    f1, roc_auc, pr_auc = print_scores(y_cross_val, preds);\n",
    "    f1s.append(f1)\n",
    "    rocs.append(roc_auc)\n",
    "    prs.append(pr_auc)\n",
    "print(f'Mean f1 - {np.array(f1s).mean()}')\n",
    "print(f'Mean ROC AUC - {np.array(rocs).mean()}')\n",
    "print(f'Mean PR AUC - {np.array(prs).mean()}')"
   ]
  },
  {
   "cell_type": "markdown",
   "metadata": {},
   "source": [
    "#### Linear Classification"
   ]
  },
  {
   "cell_type": "code",
   "execution_count": 926,
   "metadata": {},
   "outputs": [
    {
     "name": "stdout",
     "output_type": "stream",
     "text": [
      "**********shop - Азбука вкуса*************\n",
      "F1 score is 0.00799467021985343\n",
      "ROC_AUC score is 0.4848001842251032\n",
      "PR_AUC is 0.035313974647313326\n",
      "confusion_matrix \n",
      " [[19044   765]\n",
      " [  724     6]]\n",
      "**********shop - Европа*************\n",
      "F1 score is 0.0\n",
      "ROC_AUC score is 0.49849397590361444\n",
      "PR_AUC is 0.01775147928994083\n",
      "confusion_matrix \n",
      " [[19860    60]\n",
      " [  360     0]]\n",
      "**********shop - Метро*************\n",
      "F1 score is 0.0\n",
      "ROC_AUC score is 0.4845326825407295\n",
      "PR_AUC is 0.03316115043683439\n",
      "confusion_matrix \n",
      " [[14692   469]\n",
      " [  520     0]]\n",
      "**********shop - Окей*************\n",
      "F1 score is 0.9688667496886675\n",
      "ROC_AUC score is 0.9990358286088935\n",
      "PR_AUC is 0.9396135265700483\n",
      "confusion_matrix \n",
      " [[25879    50]\n",
      " [    0   778]]\n",
      "**********shop - Перекрёсток*************\n",
      "F1 score is 0.1111111111111111\n",
      "ROC_AUC score is 0.5490237932604736\n",
      "PR_AUC is 0.025219996641956607\n",
      "confusion_matrix \n",
      " [[30824   408]\n",
      " [  408    51]]\n",
      "Mean f1 - 0.2175945062039264\n",
      "Mean ROC AUC - 0.6031772929077629\n",
      "Mean PR AUC - 0.21021202551721868\n"
     ]
    }
   ],
   "source": [
    "diff_shops_df = [ (shop_name, shop_df) for shop_name, shop_df in X_linear.groupby('shop')]\n",
    "f1s = list()\n",
    "rocs = list()\n",
    "prs = list()\n",
    "for shop_name, shop_df in diff_shops_df:\n",
    "    y_cross_val = shop_df.y\n",
    "    X_cross_val = shop_df.drop(['y', 'shop'],axis=1) # validation only 1 shop\n",
    "    X_cross_train = X_linear.drop(X_cross_val.index) # train all X without 1 shop\n",
    "    y_cross_train = X_cross_train.y\n",
    "    X_cross_train = X_cross_train.drop(['shop', 'y'],axis=1)\n",
    "    \n",
    "    sgd_l1 = SGDClassifier(loss=\"hinge\", penalty=\"l2\", max_iter=5)\n",
    "    sgd_l1.fit(X_cross_train,y_cross_train)\n",
    "    preds = sgd_l1.predict(X_cross_val)\n",
    "    print(f'**********shop - {shop_name}*************')\n",
    "    f1, roc_auc, pr_auc = print_scores(y_cross_val, preds);\n",
    "    f1s.append(f1)\n",
    "    rocs.append(roc_auc)\n",
    "    prs.append(pr_auc)\n",
    "print(f'Mean f1 - {np.array(f1s).mean()}')\n",
    "print(f'Mean ROC AUC - {np.array(rocs).mean()}')\n",
    "print(f'Mean PR AUC - {np.array(prs).mean()}')"
   ]
  },
  {
   "cell_type": "markdown",
   "metadata": {},
   "source": [
    "Seems more promising out of the box. Lets tune hyperparameters.\n",
    "\n",
    "I need a special way to implement CV, in train and test data supposed to be different shops. GroupShuffleSplit offers the required functionality. Let's see how it works."
   ]
  },
  {
   "cell_type": "code",
   "execution_count": 1178,
   "metadata": {},
   "outputs": [],
   "source": [
    "from sklearn.model_selection import GroupShuffleSplit"
   ]
  },
  {
   "cell_type": "code",
   "execution_count": 1179,
   "metadata": {},
   "outputs": [
    {
     "name": "stdout",
     "output_type": "stream",
     "text": [
      "(94618,) (20280,)\n",
      "(94359,) (20539,)\n",
      "(94618,) (20280,)\n",
      "(88191,) (26707,)\n",
      "(94359,) (20539,)\n"
     ]
    }
   ],
   "source": [
    "y_tmp = X.y\n",
    "X_tmp = X.drop(['y', 'shop'], axis=1)\n",
    "g = GroupShuffleSplit(n_splits=5,random_state=56)\n",
    "itr = g.split(X, y=X.y, groups=X.shop.values,)\n",
    "for tr, tst in itr:\n",
    "    print(tr.shape, tst.shape)"
   ]
  },
  {
   "cell_type": "markdown",
   "metadata": {},
   "source": [
    "There are repeated splits, not all 5 shops were evaluated as validation data. I can't sacrifice even 1 shop on validation, there is too few of them.\n",
    "\n",
    "So quick and dirty implementation of GridSearch with GroupShuffleSplit."
   ]
  },
  {
   "cell_type": "code",
   "execution_count": 854,
   "metadata": {},
   "outputs": [],
   "source": [
    "diff_shops_df = [ (shop_name, shop_df) for shop_name, shop_df in X_linear.groupby('shop')]\n",
    "f1s = list()\n",
    "rocs = list()\n",
    "prs = list()\n",
    "best_scores = dict()\n",
    "losses = ['hinge', 'log', 'perceptron']\n",
    "penalties = ['l2', 'l1', 'elasticnet']\n",
    "max_iter = [5,10,20,40]\n",
    "for l in losses:\n",
    "    for p in penalties:\n",
    "        for it in max_iter:\n",
    "            for shop_name, shop_df in diff_shops_df:\n",
    "                y_cross_val = shop_df.y\n",
    "                X_cross_val = shop_df.drop(['y', 'shop'],axis=1) # validation only 1 shop\n",
    "                X_cross_train = X_linear.drop(X_cross_val.index) # train all X without 1 shop\n",
    "                y_cross_train = X_cross_train.y\n",
    "                X_cross_train = X_cross_train.drop(['shop', 'y'],axis=1)\n",
    "\n",
    "                sgd_l1 = SGDClassifier(loss=l, penalty=p, max_iter=it)\n",
    "                sgd_l1.fit(X_cross_train,y_cross_train)\n",
    "                preds = sgd_l1.predict(X_cross_val)\n",
    "                f1, roc_auc, pr_auc = print_scores(y_cross_val, preds, verbose=False);\n",
    "                f1s.append(f1)\n",
    "                rocs.append(roc_auc)\n",
    "                prs.append(pr_auc)\n",
    "            f1_mean = np.array(f1s).mean()\n",
    "            roc_mean = np.array(rocs).mean()\n",
    "            pr_mean = np.array(prs).mean()\n",
    "            best_scores[l+p+str(it)] = [f1_mean, roc_mean, pr_mean]"
   ]
  },
  {
   "cell_type": "code",
   "execution_count": 893,
   "metadata": {},
   "outputs": [
    {
     "name": "stdout",
     "output_type": "stream",
     "text": [
      "best by f1 ('logelasticnet40', [0.2556445009372969, 0.6323250325054858, 0.24068681975019027])\n",
      "best by roc ('logelasticnet40', [0.2556445009372969, 0.6323250325054858, 0.24068681975019027])\n",
      "best by pr ('logelasticnet40', [0.2556445009372969, 0.6323250325054858, 0.24068681975019027])\n"
     ]
    }
   ],
   "source": [
    "print(f'best by f1 {max(best_scores.items(), key=(lambda key: key[1][0]))}') \n",
    "print(f'best by roc {max(best_scores.items(), key=(lambda key: key[1][1]))}') \n",
    "print(f'best by pr {max(best_scores.items(), key=(lambda key: key[1][2]))}') "
   ]
  },
  {
   "cell_type": "markdown",
   "metadata": {},
   "source": [
    "Our best hyperparameters are logloss, elastic regularization, 40 iterations. 40 was max number in our grid search, so probably we can increase it."
   ]
  },
  {
   "cell_type": "code",
   "execution_count": 895,
   "metadata": {},
   "outputs": [
    {
     "name": "stdout",
     "output_type": "stream",
     "text": [
      "F1 score is 0.9688667496886675\n",
      "ROC_AUC score is 0.9990358286088935\n",
      "PR_AUC is 0.9396135265700483\n",
      "confusion_matrix \n",
      " [[25879    50]\n",
      " [    0   778]]\n"
     ]
    }
   ],
   "source": [
    "X_train_analize = X_linear.drop(X_linear[X_linear.shop == 'Окей'].index)\n",
    "X_val_analize = X_linear[X_linear.shop == 'Окей']\n",
    "y_train_analize = X_train_analize.y\n",
    "y_val_analize = X_val_analize.y\n",
    "X_train_analize.drop(['shop','y'],axis=1, inplace=True)\n",
    "X_val_analize.drop(['shop','y'],axis=1, inplace=True)\n",
    "\n",
    "sgd_l1 = SGDClassifier(loss='log', penalty='elasticnet', max_iter=40)\n",
    "sgd_l1.fit(X_train_analize,y_train_analize)\n",
    "preds = sgd_l1.predict(X_val_analize)\n",
    "print_scores(y_val_analize, preds);"
   ]
  },
  {
   "cell_type": "code",
   "execution_count": 897,
   "metadata": {},
   "outputs": [
    {
     "name": "stdout",
     "output_type": "stream",
     "text": [
      "F1 score is 0.0\n",
      "ROC_AUC score is 0.48420288899149133\n",
      "PR_AUC is 0.03316115043683439\n",
      "confusion_matrix \n",
      " [[14682   479]\n",
      " [  520     0]]\n"
     ]
    }
   ],
   "source": [
    "X_train_analize = X_linear.drop(X_linear[X_linear.shop == 'Метро'].index)\n",
    "X_val_analize = X_linear[X_linear.shop == 'Метро']\n",
    "y_train_analize = X_train_analize.y\n",
    "y_val_analize = X_val_analize.y\n",
    "X_train_analize.drop(['shop','y'],axis=1, inplace=True)\n",
    "X_val_analize.drop(['shop','y'],axis=1, inplace=True)\n",
    "\n",
    "sgd_l1 = SGDClassifier(loss='log', penalty='elasticnet', max_iter=40)\n",
    "sgd_l1.fit(X_train_analize,y_train_analize)\n",
    "preds = sgd_l1.predict(X_val_analize)\n",
    "print_scores(y_val_analize, preds);"
   ]
  },
  {
   "cell_type": "markdown",
   "metadata": {},
   "source": [
    "Still 'Метро' fails hard, but as a habit let's check what it predicts."
   ]
  },
  {
   "cell_type": "code",
   "execution_count": 902,
   "metadata": {},
   "outputs": [
    {
     "data": {
      "text/html": [
       "<div>\n",
       "<style scoped>\n",
       "    .dataframe tbody tr th:only-of-type {\n",
       "        vertical-align: middle;\n",
       "    }\n",
       "\n",
       "    .dataframe tbody tr th {\n",
       "        vertical-align: top;\n",
       "    }\n",
       "\n",
       "    .dataframe thead th {\n",
       "        text-align: right;\n",
       "    }\n",
       "</style>\n",
       "<table border=\"1\" class=\"dataframe\">\n",
       "  <thead>\n",
       "    <tr style=\"text-align: right;\">\n",
       "      <th></th>\n",
       "      <th>depth</th>\n",
       "      <th>element_classes_count</th>\n",
       "      <th>href_seen</th>\n",
       "      <th>img_seen</th>\n",
       "      <th>inner_elements</th>\n",
       "      <th>is_href</th>\n",
       "      <th>siblings_count</th>\n",
       "      <th>loc_x</th>\n",
       "      <th>loc_y</th>\n",
       "      <th>size_h</th>\n",
       "      <th>...</th>\n",
       "      <th>parent_3_li</th>\n",
       "      <th>parent_3_main</th>\n",
       "      <th>parent_3_nav</th>\n",
       "      <th>parent_3_section</th>\n",
       "      <th>parent_3_span</th>\n",
       "      <th>parent_3_table</th>\n",
       "      <th>parent_3_tbody</th>\n",
       "      <th>parent_3_td</th>\n",
       "      <th>parent_3_tr</th>\n",
       "      <th>parent_3_ul</th>\n",
       "    </tr>\n",
       "  </thead>\n",
       "  <tbody>\n",
       "    <tr>\n",
       "      <th>87221</th>\n",
       "      <td>-1.27656</td>\n",
       "      <td>0.815587</td>\n",
       "      <td>True</td>\n",
       "      <td>True</td>\n",
       "      <td>0.139068</td>\n",
       "      <td>False</td>\n",
       "      <td>0.629392</td>\n",
       "      <td>0.880920</td>\n",
       "      <td>-1.132129</td>\n",
       "      <td>0.764711</td>\n",
       "      <td>...</td>\n",
       "      <td>0</td>\n",
       "      <td>0</td>\n",
       "      <td>0</td>\n",
       "      <td>0</td>\n",
       "      <td>0</td>\n",
       "      <td>0</td>\n",
       "      <td>0</td>\n",
       "      <td>0</td>\n",
       "      <td>0</td>\n",
       "      <td>0</td>\n",
       "    </tr>\n",
       "    <tr>\n",
       "      <th>87293</th>\n",
       "      <td>-1.27656</td>\n",
       "      <td>0.815587</td>\n",
       "      <td>True</td>\n",
       "      <td>True</td>\n",
       "      <td>0.139068</td>\n",
       "      <td>False</td>\n",
       "      <td>0.629392</td>\n",
       "      <td>0.880920</td>\n",
       "      <td>-0.943378</td>\n",
       "      <td>0.764711</td>\n",
       "      <td>...</td>\n",
       "      <td>0</td>\n",
       "      <td>0</td>\n",
       "      <td>0</td>\n",
       "      <td>0</td>\n",
       "      <td>0</td>\n",
       "      <td>0</td>\n",
       "      <td>0</td>\n",
       "      <td>0</td>\n",
       "      <td>0</td>\n",
       "      <td>0</td>\n",
       "    </tr>\n",
       "    <tr>\n",
       "      <th>87365</th>\n",
       "      <td>-1.27656</td>\n",
       "      <td>0.815587</td>\n",
       "      <td>True</td>\n",
       "      <td>True</td>\n",
       "      <td>0.139068</td>\n",
       "      <td>False</td>\n",
       "      <td>0.629392</td>\n",
       "      <td>0.880920</td>\n",
       "      <td>-0.754626</td>\n",
       "      <td>0.764711</td>\n",
       "      <td>...</td>\n",
       "      <td>0</td>\n",
       "      <td>0</td>\n",
       "      <td>0</td>\n",
       "      <td>0</td>\n",
       "      <td>0</td>\n",
       "      <td>0</td>\n",
       "      <td>0</td>\n",
       "      <td>0</td>\n",
       "      <td>0</td>\n",
       "      <td>0</td>\n",
       "    </tr>\n",
       "    <tr>\n",
       "      <th>87772</th>\n",
       "      <td>-1.27656</td>\n",
       "      <td>0.815587</td>\n",
       "      <td>True</td>\n",
       "      <td>True</td>\n",
       "      <td>0.139068</td>\n",
       "      <td>False</td>\n",
       "      <td>5.851704</td>\n",
       "      <td>-0.320867</td>\n",
       "      <td>-1.132129</td>\n",
       "      <td>0.764711</td>\n",
       "      <td>...</td>\n",
       "      <td>0</td>\n",
       "      <td>0</td>\n",
       "      <td>0</td>\n",
       "      <td>0</td>\n",
       "      <td>0</td>\n",
       "      <td>0</td>\n",
       "      <td>0</td>\n",
       "      <td>0</td>\n",
       "      <td>0</td>\n",
       "      <td>0</td>\n",
       "    </tr>\n",
       "    <tr>\n",
       "      <th>87794</th>\n",
       "      <td>-1.27656</td>\n",
       "      <td>0.815587</td>\n",
       "      <td>True</td>\n",
       "      <td>True</td>\n",
       "      <td>0.068584</td>\n",
       "      <td>False</td>\n",
       "      <td>5.851704</td>\n",
       "      <td>0.280026</td>\n",
       "      <td>-1.132129</td>\n",
       "      <td>0.764711</td>\n",
       "      <td>...</td>\n",
       "      <td>0</td>\n",
       "      <td>0</td>\n",
       "      <td>0</td>\n",
       "      <td>0</td>\n",
       "      <td>0</td>\n",
       "      <td>0</td>\n",
       "      <td>0</td>\n",
       "      <td>0</td>\n",
       "      <td>0</td>\n",
       "      <td>0</td>\n",
       "    </tr>\n",
       "  </tbody>\n",
       "</table>\n",
       "<p>5 rows × 126 columns</p>\n",
       "</div>"
      ],
      "text/plain": [
       "         depth  element_classes_count  href_seen  img_seen  inner_elements  \\\n",
       "87221 -1.27656               0.815587       True      True        0.139068   \n",
       "87293 -1.27656               0.815587       True      True        0.139068   \n",
       "87365 -1.27656               0.815587       True      True        0.139068   \n",
       "87772 -1.27656               0.815587       True      True        0.139068   \n",
       "87794 -1.27656               0.815587       True      True        0.068584   \n",
       "\n",
       "       is_href  siblings_count     loc_x     loc_y    size_h     ...       \\\n",
       "87221    False        0.629392  0.880920 -1.132129  0.764711     ...        \n",
       "87293    False        0.629392  0.880920 -0.943378  0.764711     ...        \n",
       "87365    False        0.629392  0.880920 -0.754626  0.764711     ...        \n",
       "87772    False        5.851704 -0.320867 -1.132129  0.764711     ...        \n",
       "87794    False        5.851704  0.280026 -1.132129  0.764711     ...        \n",
       "\n",
       "       parent_3_li  parent_3_main  parent_3_nav  parent_3_section  \\\n",
       "87221            0              0             0                 0   \n",
       "87293            0              0             0                 0   \n",
       "87365            0              0             0                 0   \n",
       "87772            0              0             0                 0   \n",
       "87794            0              0             0                 0   \n",
       "\n",
       "       parent_3_span  parent_3_table  parent_3_tbody  parent_3_td  \\\n",
       "87221              0               0               0            0   \n",
       "87293              0               0               0            0   \n",
       "87365              0               0               0            0   \n",
       "87772              0               0               0            0   \n",
       "87794              0               0               0            0   \n",
       "\n",
       "       parent_3_tr  parent_3_ul  \n",
       "87221            0            0  \n",
       "87293            0            0  \n",
       "87365            0            0  \n",
       "87772            0            0  \n",
       "87794            0            0  \n",
       "\n",
       "[5 rows x 126 columns]"
      ]
     },
     "execution_count": 902,
     "metadata": {},
     "output_type": "execute_result"
    }
   ],
   "source": [
    "X_val_analize[preds == True].head(5)"
   ]
  },
  {
   "cell_type": "code",
   "execution_count": 904,
   "metadata": {},
   "outputs": [
    {
     "data": {
      "text/html": [
       "<div>\n",
       "<style scoped>\n",
       "    .dataframe tbody tr th:only-of-type {\n",
       "        vertical-align: middle;\n",
       "    }\n",
       "\n",
       "    .dataframe tbody tr th {\n",
       "        vertical-align: top;\n",
       "    }\n",
       "\n",
       "    .dataframe thead th {\n",
       "        text-align: right;\n",
       "    }\n",
       "</style>\n",
       "<table border=\"1\" class=\"dataframe\">\n",
       "  <thead>\n",
       "    <tr style=\"text-align: right;\">\n",
       "      <th></th>\n",
       "      <th>depth</th>\n",
       "      <th>element_classes_count</th>\n",
       "      <th>href_seen</th>\n",
       "      <th>img_seen</th>\n",
       "      <th>inner_elements</th>\n",
       "      <th>is_href</th>\n",
       "      <th>siblings_count</th>\n",
       "      <th>loc_x</th>\n",
       "      <th>loc_y</th>\n",
       "      <th>size_h</th>\n",
       "      <th>...</th>\n",
       "      <th>parent_3_li</th>\n",
       "      <th>parent_3_main</th>\n",
       "      <th>parent_3_nav</th>\n",
       "      <th>parent_3_section</th>\n",
       "      <th>parent_3_span</th>\n",
       "      <th>parent_3_table</th>\n",
       "      <th>parent_3_tbody</th>\n",
       "      <th>parent_3_td</th>\n",
       "      <th>parent_3_tr</th>\n",
       "      <th>parent_3_ul</th>\n",
       "    </tr>\n",
       "  </thead>\n",
       "  <tbody>\n",
       "    <tr>\n",
       "      <th>87173</th>\n",
       "      <td>-1.012516</td>\n",
       "      <td>-0.227842</td>\n",
       "      <td>True</td>\n",
       "      <td>True</td>\n",
       "      <td>0.126253</td>\n",
       "      <td>False</td>\n",
       "      <td>-0.240993</td>\n",
       "      <td>-0.318374</td>\n",
       "      <td>-1.131711</td>\n",
       "      <td>0.760303</td>\n",
       "      <td>...</td>\n",
       "      <td>0</td>\n",
       "      <td>0</td>\n",
       "      <td>0</td>\n",
       "      <td>0</td>\n",
       "      <td>0</td>\n",
       "      <td>0</td>\n",
       "      <td>0</td>\n",
       "      <td>0</td>\n",
       "      <td>0</td>\n",
       "      <td>0</td>\n",
       "    </tr>\n",
       "    <tr>\n",
       "      <th>87195</th>\n",
       "      <td>-1.012516</td>\n",
       "      <td>-0.227842</td>\n",
       "      <td>True</td>\n",
       "      <td>True</td>\n",
       "      <td>0.055769</td>\n",
       "      <td>False</td>\n",
       "      <td>-0.240993</td>\n",
       "      <td>0.282520</td>\n",
       "      <td>-1.131711</td>\n",
       "      <td>0.760303</td>\n",
       "      <td>...</td>\n",
       "      <td>0</td>\n",
       "      <td>0</td>\n",
       "      <td>0</td>\n",
       "      <td>0</td>\n",
       "      <td>0</td>\n",
       "      <td>0</td>\n",
       "      <td>0</td>\n",
       "      <td>0</td>\n",
       "      <td>0</td>\n",
       "      <td>0</td>\n",
       "    </tr>\n",
       "    <tr>\n",
       "      <th>87220</th>\n",
       "      <td>-1.012516</td>\n",
       "      <td>-0.227842</td>\n",
       "      <td>True</td>\n",
       "      <td>True</td>\n",
       "      <td>0.126253</td>\n",
       "      <td>False</td>\n",
       "      <td>-0.240993</td>\n",
       "      <td>0.883413</td>\n",
       "      <td>-1.131711</td>\n",
       "      <td>0.760303</td>\n",
       "      <td>...</td>\n",
       "      <td>0</td>\n",
       "      <td>0</td>\n",
       "      <td>0</td>\n",
       "      <td>0</td>\n",
       "      <td>0</td>\n",
       "      <td>0</td>\n",
       "      <td>0</td>\n",
       "      <td>0</td>\n",
       "      <td>0</td>\n",
       "      <td>0</td>\n",
       "    </tr>\n",
       "    <tr>\n",
       "      <th>87245</th>\n",
       "      <td>-1.012516</td>\n",
       "      <td>-0.227842</td>\n",
       "      <td>True</td>\n",
       "      <td>True</td>\n",
       "      <td>0.126253</td>\n",
       "      <td>False</td>\n",
       "      <td>-0.240993</td>\n",
       "      <td>-0.318374</td>\n",
       "      <td>-0.942959</td>\n",
       "      <td>0.760303</td>\n",
       "      <td>...</td>\n",
       "      <td>0</td>\n",
       "      <td>0</td>\n",
       "      <td>0</td>\n",
       "      <td>0</td>\n",
       "      <td>0</td>\n",
       "      <td>0</td>\n",
       "      <td>0</td>\n",
       "      <td>0</td>\n",
       "      <td>0</td>\n",
       "      <td>0</td>\n",
       "    </tr>\n",
       "    <tr>\n",
       "      <th>87267</th>\n",
       "      <td>-1.012516</td>\n",
       "      <td>-0.227842</td>\n",
       "      <td>True</td>\n",
       "      <td>True</td>\n",
       "      <td>0.055769</td>\n",
       "      <td>False</td>\n",
       "      <td>-0.240993</td>\n",
       "      <td>0.282520</td>\n",
       "      <td>-0.942959</td>\n",
       "      <td>0.760303</td>\n",
       "      <td>...</td>\n",
       "      <td>0</td>\n",
       "      <td>0</td>\n",
       "      <td>0</td>\n",
       "      <td>0</td>\n",
       "      <td>0</td>\n",
       "      <td>0</td>\n",
       "      <td>0</td>\n",
       "      <td>0</td>\n",
       "      <td>0</td>\n",
       "      <td>0</td>\n",
       "    </tr>\n",
       "  </tbody>\n",
       "</table>\n",
       "<p>5 rows × 126 columns</p>\n",
       "</div>"
      ],
      "text/plain": [
       "          depth  element_classes_count  href_seen  img_seen  inner_elements  \\\n",
       "87173 -1.012516              -0.227842       True      True        0.126253   \n",
       "87195 -1.012516              -0.227842       True      True        0.055769   \n",
       "87220 -1.012516              -0.227842       True      True        0.126253   \n",
       "87245 -1.012516              -0.227842       True      True        0.126253   \n",
       "87267 -1.012516              -0.227842       True      True        0.055769   \n",
       "\n",
       "       is_href  siblings_count     loc_x     loc_y    size_h     ...       \\\n",
       "87173    False       -0.240993 -0.318374 -1.131711  0.760303     ...        \n",
       "87195    False       -0.240993  0.282520 -1.131711  0.760303     ...        \n",
       "87220    False       -0.240993  0.883413 -1.131711  0.760303     ...        \n",
       "87245    False       -0.240993 -0.318374 -0.942959  0.760303     ...        \n",
       "87267    False       -0.240993  0.282520 -0.942959  0.760303     ...        \n",
       "\n",
       "       parent_3_li  parent_3_main  parent_3_nav  parent_3_section  \\\n",
       "87173            0              0             0                 0   \n",
       "87195            0              0             0                 0   \n",
       "87220            0              0             0                 0   \n",
       "87245            0              0             0                 0   \n",
       "87267            0              0             0                 0   \n",
       "\n",
       "       parent_3_span  parent_3_table  parent_3_tbody  parent_3_td  \\\n",
       "87173              0               0               0            0   \n",
       "87195              0               0               0            0   \n",
       "87220              0               0               0            0   \n",
       "87245              0               0               0            0   \n",
       "87267              0               0               0            0   \n",
       "\n",
       "       parent_3_tr  parent_3_ul  \n",
       "87173            0            0  \n",
       "87195            0            0  \n",
       "87220            0            0  \n",
       "87245            0            0  \n",
       "87267            0            0  \n",
       "\n",
       "[5 rows x 126 columns]"
      ]
     },
     "execution_count": 904,
     "metadata": {},
     "output_type": "execute_result"
    }
   ],
   "source": [
    "X_val_analize[y_val_analize == True].head(5)"
   ]
  },
  {
   "cell_type": "markdown",
   "metadata": {},
   "source": [
    "After all transformations, it's obscure to deduce the pattern of the wrong prediction. Luckily we have our screenshots."
   ]
  },
  {
   "cell_type": "code",
   "execution_count": 22,
   "metadata": {},
   "outputs": [
    {
     "data": {
      "text/html": [
       "<img src=\"https://habrastorage.org/webt/5j/jb/hg/5jjbhgbqzophvn8pdl_2wxicpky.png\" width=\"900\"/>"
      ],
      "text/plain": [
       "<IPython.core.display.Image object>"
      ]
     },
     "execution_count": 22,
     "metadata": {},
     "output_type": "execute_result"
    }
   ],
   "source": [
    "# screen for df_clean[df_clean.index.isin((preds == True).index)].screenshot\n",
    "Image(url='https://habrastorage.org/webt/5j/jb/hg/5jjbhgbqzophvn8pdl_2wxicpky.png', width=900)"
   ]
  },
  {
   "cell_type": "markdown",
   "metadata": {},
   "source": [
    "We got 2 model RF and LR with scores:\n",
    "\n",
    "|    -   | RF   | LR  |\n",
    "|-------|------|-----|\n",
    "|   f1  | 0.449|0.255|\n",
    "|ROC AUC| 0.907|0.632|\n",
    "| PR AUC| 0.280|0.240|"
   ]
  },
  {
   "cell_type": "markdown",
   "metadata": {},
   "source": [
    "The good thing is our models works pretty nice, the bad thing we can't understand it by metric scores."
   ]
  },
  {
   "cell_type": "markdown",
   "metadata": {},
   "source": [
    "### Part 10. Plotting training and validation curves"
   ]
  },
  {
   "cell_type": "markdown",
   "metadata": {},
   "source": [
    "For now I'll pick PR AUC as metric."
   ]
  },
  {
   "cell_type": "markdown",
   "metadata": {},
   "source": [
    "#### RF parametr n_estimators"
   ]
  },
  {
   "cell_type": "code",
   "execution_count": 995,
   "metadata": {},
   "outputs": [],
   "source": [
    "X_train_analize = X.drop(X[X.shop == 'Метро'].index)\n",
    "X_val_analize = X[X.shop == 'Метро']\n",
    "y_train_analize = X_train_analize.y\n",
    "y_val_analize = X_val_analize.y\n",
    "X_train_analize.drop(['shop','y'],axis=1, inplace=True)\n",
    "X_val_analize.drop(['shop','y'],axis=1, inplace=True)\n",
    "\n",
    "trees_num = np.linspace(1,500, dtype=int)\n",
    "pr_score_val = list()\n",
    "pr_score_train = list()\n",
    "for tr_num in trees_num:\n",
    "    rf = RandomForestClassifier(n_estimators=tr_num,max_features='sqrt', criterion='entropy', min_samples_leaf=5,n_jobs=-1,)\n",
    "    rf.fit(X_train_analize,y_train_analize)\n",
    "    _, bias, _ = ti.predict(rf,test_example) \n",
    "    bias_treshold = bias[0][1]\n",
    "    preds_proba_val = rf.predict_proba(X_val_analize)\n",
    "    preds_val = (preds_proba_val[:,1] > bias_treshold)\n",
    "    _,_, pr_auc_val = print_scores(preds_val, y_val_analize, verbose=False);\n",
    "    \n",
    "    preds_proba_train = rf.predict_proba(X_train_analize)\n",
    "    preds_train = (preds_proba_train[:,1] > bias_treshold)\n",
    "    _,_, pr_auc_train = print_scores(preds_train, y_train_analize, verbose=False);\n",
    "    \n",
    "    pr_score_train.append(pr_auc_train)\n",
    "    pr_score_val.append(pr_auc_val)"
   ]
  },
  {
   "cell_type": "code",
   "execution_count": 996,
   "metadata": {},
   "outputs": [
    {
     "data": {
      "image/png": "[encoded data removed]",
      "text/plain": [
       "<Figure size 432x288 with 1 Axes>"
      ]
     },
     "metadata": {
      "needs_background": "light"
     },
     "output_type": "display_data"
    }
   ],
   "source": [
    "fig, ax = plt.subplots()\n",
    "ax.plot(trees_num,pr_score_train, label='train')\n",
    "ax.plot(trees_num,pr_score_val, label='valid')\n",
    "ax.legend()\n",
    "ax.set(xlabel='N_estimators', ylabel='PR AUC', );"
   ]
  },
  {
   "cell_type": "markdown",
   "metadata": {},
   "source": [
    "We see that forest heavily overfitted. We can reduce overfitting by min_samples_leaf."
   ]
  },
  {
   "cell_type": "markdown",
   "metadata": {},
   "source": [
    "#### RF parametr min_samples_leaf"
   ]
  },
  {
   "cell_type": "code",
   "execution_count": 998,
   "metadata": {},
   "outputs": [],
   "source": [
    "X_train_analize = X.drop(X[X.shop == 'Метро'].index)\n",
    "X_val_analize = X[X.shop == 'Метро']\n",
    "y_train_analize = X_train_analize.y\n",
    "y_val_analize = X_val_analize.y\n",
    "X_train_analize.drop(['shop','y'],axis=1, inplace=True)\n",
    "X_val_analize.drop(['shop','y'],axis=1, inplace=True)\n",
    "\n",
    "min_leaf_list = np.linspace(1,100, dtype=int)\n",
    "pr_score_val = list()\n",
    "pr_score_train = list()\n",
    "for leaf_num in min_leaf_list:\n",
    "    rf = RandomForestClassifier(n_estimators=500,max_features='sqrt', criterion='entropy', min_samples_leaf=leaf_num,n_jobs=-1,)\n",
    "    rf.fit(X_train_analize,y_train_analize)\n",
    "    _, bias, _ = ti.predict(rf,test_example) \n",
    "    bias_treshold = bias[0][1]\n",
    "    preds_proba_val = rf.predict_proba(X_val_analize)\n",
    "    preds_val = (preds_proba_val[:,1] > bias_treshold)\n",
    "    _,_, pr_auc_val = print_scores(preds_val, y_val_analize, verbose=False);\n",
    "    \n",
    "    preds_proba_train = rf.predict_proba(X_train_analize)\n",
    "    preds_train = (preds_proba_train[:,1] > bias_treshold)\n",
    "    _,_, pr_auc_train = print_scores(preds_train, y_train_analize, verbose=False);\n",
    "    \n",
    "    pr_score_train.append(pr_auc_train)\n",
    "    pr_score_val.append(pr_auc_val)"
   ]
  },
  {
   "cell_type": "code",
   "execution_count": 999,
   "metadata": {},
   "outputs": [
    {
     "data": {
      "image/png": "[encoded data removed]",
      "text/plain": [
       "<Figure size 432x288 with 1 Axes>"
      ]
     },
     "metadata": {
      "needs_background": "light"
     },
     "output_type": "display_data"
    }
   ],
   "source": [
    "fig, ax = plt.subplots()\n",
    "ax.plot(min_leaf_list,pr_score_train, label='train')\n",
    "ax.plot(min_leaf_list,pr_score_val, label='valid')\n",
    "ax.legend()\n",
    "ax.set(xlabel='min_samples_leaf', ylabel='PR AUC', );"
   ]
  },
  {
   "cell_type": "markdown",
   "metadata": {},
   "source": [
    "So min_samples_leaf doesn't help much."
   ]
  },
  {
   "cell_type": "markdown",
   "metadata": {},
   "source": [
    "Maybe we need more data?"
   ]
  },
  {
   "cell_type": "code",
   "execution_count": 1180,
   "metadata": {},
   "outputs": [],
   "source": [
    "y_tmp = X.y\n",
    "X_tmp = X.drop(['y', 'shop'], axis=1)\n",
    "groups = X.shop.values\n",
    "\n",
    "def plot_with_err(x, data, **kwargs):\n",
    "    mu, std = data.mean(1), data.std(1)\n",
    "    lines = plt.plot(x, mu, '-', **kwargs)\n",
    "    plt.fill_between(x, mu - std, mu + std, edgecolor='none',\n",
    "                     facecolor=lines[0].get_color(), alpha=0.2)\n",
    "\n",
    "def plot_learning_curve(classifier = 'rf'):\n",
    "    if classifier == 'rf':\n",
    "        classif = RandomForestClassifier(n_estimators=100,max_features='sqrt', criterion='entropy', min_samples_leaf=25,n_jobs=-1,)\n",
    "    else:\n",
    "        classif = SGDClassifier(loss='log', penalty='elasticnet', max_iter=40)\n",
    "    N_train, val_train, val_test = learning_curve(classif, X_tmp, y_tmp,\n",
    "                                                  cv=5, groups=groups,\n",
    "                                                  shuffle=True, scoring='average_precision'\n",
    "                                          )\n",
    "    plot_with_err(N_train, val_train, label='training scores')\n",
    "    plot_with_err(N_train, val_test, label='validation scores')\n",
    "    plt.xlabel('Training Set Size'); plt.ylabel('PR AUC')\n",
    "    plt.legend()\n",
    "    plt.grid(True);"
   ]
  },
  {
   "cell_type": "code",
   "execution_count": 1181,
   "metadata": {},
   "outputs": [
    {
     "data": {
      "image/png": "[encoded data removed]",
      "text/plain": [
       "<Figure size 432x288 with 1 Axes>"
      ]
     },
     "metadata": {
      "needs_background": "light"
     },
     "output_type": "display_data"
    }
   ],
   "source": [
    "plot_learning_curve(classifier='rf')"
   ]
  },
  {
   "cell_type": "code",
   "execution_count": 1182,
   "metadata": {},
   "outputs": [
    {
     "data": {
      "image/png": "[encoded data removed]",
      "text/plain": [
       "<Figure size 432x288 with 1 Axes>"
      ]
     },
     "metadata": {
      "needs_background": "light"
     },
     "output_type": "display_data"
    }
   ],
   "source": [
    "plot_learning_curve(classifier='lr')"
   ]
  },
  {
   "cell_type": "markdown",
   "metadata": {},
   "source": [
    "This graphs may be misleading. I can't really interpret them, the variance is too high.\n",
    "\n",
    "There are ~100к training examples but actually, we have only 5 shops. Each of them has only 1 type of product cart. So It's <b>not</b> 100k examples it's somewhat about 5 examples. Additional data would be very very helpful."
   ]
  },
  {
   "cell_type": "markdown",
   "metadata": {},
   "source": [
    "## Part 11. Prediction for test or hold-out samples"
   ]
  },
  {
   "cell_type": "markdown",
   "metadata": {},
   "source": [
    "As a test, we are going to crawl one more site - Auchan. There won't be any feature checking. We'll just check pics of product card to be sure crawler worked correctly."
   ]
  },
  {
   "cell_type": "code",
   "execution_count": 1000,
   "metadata": {},
   "outputs": [],
   "source": [
    "df_test = pd.read_csv('test_sites_markup.csv')"
   ]
  },
  {
   "cell_type": "code",
   "execution_count": 23,
   "metadata": {},
   "outputs": [
    {
     "data": {
      "text/html": [
       "<img src=\"https://habrastorage.org/webt/sv/-m/ac/sv-macheei3wqmgkpdojbuky734.png\" width=\"900\"/>"
      ],
      "text/plain": [
       "<IPython.core.display.Image object>"
      ]
     },
     "execution_count": 23,
     "metadata": {},
     "output_type": "execute_result"
    }
   ],
   "source": [
    "# screen for df_test[(df_test.y == 1)].screenshot\n",
    "Image(url='https://habrastorage.org/webt/sv/-m/ac/sv-macheei3wqmgkpdojbuky734.png', width=900)"
   ]
  },
  {
   "cell_type": "markdown",
   "metadata": {},
   "source": [
    "#### Data preparation"
   ]
  },
  {
   "cell_type": "code",
   "execution_count": 1001,
   "metadata": {},
   "outputs": [],
   "source": [
    "df_test[['loc_x', 'loc_y']] = df_test['location'].str.replace(\"'\", '\"').apply(json.loads).apply(pd.Series)\n",
    "df_test[['size_h', 'size_w']] = df_test['size'].str.replace(\"'\", '\"').apply(json.loads).apply(pd.Series)\n",
    "df_test.size_h = df_test.size_h.astype(int)\n",
    "df_test.size_w = df_test.size_w.astype(int)"
   ]
  },
  {
   "cell_type": "code",
   "execution_count": 1002,
   "metadata": {},
   "outputs": [],
   "source": [
    "df_test['parent_tag'] = df_test.parent_tag.str.split('_')\n",
    "df_test['childs_tags'] = df_test.childs_tags.apply(lambda x: x.replace('[', '').replace(']','').strip())"
   ]
  },
  {
   "cell_type": "code",
   "execution_count": 1003,
   "metadata": {},
   "outputs": [],
   "source": [
    "df_clean_test = df_test.copy()\n",
    "df_clean_test.drop(['location', 'size', 'Unnamed: 0'], axis=1, inplace=True)"
   ]
  },
  {
   "cell_type": "code",
   "execution_count": 1005,
   "metadata": {},
   "outputs": [],
   "source": [
    "df_clean_test['parent_1'] = df_clean_test.parent_tag.apply(lambda x: x[-1])\n",
    "df_clean_test['parent_2'] = df_clean_test.parent_tag.apply(lambda x: x[-2] if len(x) > 1 else '')\n",
    "df_clean_test['parent_3'] = df_clean_test.parent_tag.apply(lambda x: x[-3] if len(x) > 2 else '')"
   ]
  },
  {
   "cell_type": "code",
   "execution_count": 1015,
   "metadata": {},
   "outputs": [],
   "source": [
    "X_test = df_clean_test[features_to_train]"
   ]
  },
  {
   "cell_type": "code",
   "execution_count": 1016,
   "metadata": {},
   "outputs": [],
   "source": [
    "X_test['tag'] = X_test['tag'].apply(lambda x: category_to_num[x] if x in category_to_num else -1)\n",
    "X_test['parent_1'] = X_test['parent_1'].apply(lambda x: category_to_num[x] if (x) and (x in category_to_num) else -1)\n",
    "X_test['parent_2'] = X_test['parent_2'].apply(lambda x: category_to_num[x] if (x) and (x in category_to_num) else -1)\n",
    "X_test['parent_3'] = X_test['parent_3'].apply(lambda x: category_to_num[x] if (x) and (x in category_to_num) else -1)"
   ]
  },
  {
   "cell_type": "markdown",
   "metadata": {},
   "source": [
    "#### Prediction"
   ]
  },
  {
   "cell_type": "code",
   "execution_count": 1017,
   "metadata": {},
   "outputs": [
    {
     "name": "stdout",
     "output_type": "stream",
     "text": [
      "F1 score is 0.4574565416285453\n",
      "ROC_AUC score is 0.9498859122792191\n",
      "PR_AUC is 0.29655990510083036\n",
      "confusion_matrix \n",
      " [[10647  1186]\n",
      " [    0   500]]\n"
     ]
    }
   ],
   "source": [
    "X_train = X\n",
    "y_train = X_train.y\n",
    "X_train = X_train.drop(['shop', 'y'],axis=1)\n",
    "\n",
    "y_test = X_test.y\n",
    "X_test = X_test.drop(['shop', 'y'],axis=1)\n",
    "\n",
    "test_example = X_test.head(1)\n",
    "rf = RandomForestClassifier(n_estimators=400,max_features='sqrt', criterion='entropy', min_samples_leaf=25,n_jobs=-1,)\n",
    "rf.fit(X_train,y_train)\n",
    "_, bias, _ = ti.predict(rf,test_example) \n",
    "bias_treshold = bias[0][1]\n",
    "preds_proba = rf.predict_proba(X_test)\n",
    "preds = (preds_proba[:,1] > bias_treshold)\n",
    "f1, roc_auc, pr_auc = print_scores(y_test, preds);"
   ]
  },
  {
   "cell_type": "code",
   "execution_count": 24,
   "metadata": {},
   "outputs": [
    {
     "data": {
      "text/html": [
       "<img src=\"https://habrastorage.org/webt/_5/_n/uk/_5_nuk1iphmid6sfplw7hmcph1c.png\" width=\"900\"/>"
      ],
      "text/plain": [
       "<IPython.core.display.Image object>"
      ]
     },
     "execution_count": 24,
     "metadata": {},
     "output_type": "execute_result"
    }
   ],
   "source": [
    "# screen for df_test[df_test.index.isin((preds == True).index)].screenshot\n",
    "Image(url='https://habrastorage.org/webt/_5/_n/uk/_5_nuk1iphmid6sfplw7hmcph1c.png', width=900)"
   ]
  },
  {
   "cell_type": "markdown",
   "metadata": {},
   "source": [
    "Sweet"
   ]
  },
  {
   "cell_type": "markdown",
   "metadata": {},
   "source": [
    "# Part 11. Conclusions"
   ]
  },
  {
   "cell_type": "markdown",
   "metadata": {},
   "source": [
    "We tried ML on HTML markup guessing and it worked out.\n",
    "\n",
    "On the path with our analysis, we understood ways to improve data collection. Which data features we are lacking. Which features were wrongly constructed.\n",
    "\n",
    "At the start, we couldn't say what's more important false positive or false negative errors. After our journey, we understood that FN more critical and that we have to deal with FP. That means we'll build our data pipeline with this requirement - be stable to FP.\n",
    "\n",
    "100k training set turned out to be only ~5-examples train set. Because of correct card almost identical in a shop and it doesn't matter if we have 10k card for a shop, it's better to have 1 card for 10k shops (but impossible).\n",
    "\n",
    "Our metrics haven't worked out (except the confusion matrix), because our train data has examples that labeled as wrong, but in fact they identical to correct ones (div-div-ul issue). It's a good opportunity to elaborate custom loss function that penalizes softly when we are closer to our target element. Maybe it's worth to reformat problem to regression, so we would find 'distance' to the correct element.\n",
    "\n",
    "In model selection, RF won, but it's too early to say about it because we have problems with our metrics and dataset."
   ]
  }
 ],
 "metadata": {
  "kernelspec": {
   "display_name": "Python 3",
   "language": "python",
   "name": "python3"
  },
  "language_info": {
   "codemirror_mode": {
    "name": "ipython",
    "version": 3
   },
   "file_extension": ".py",
   "mimetype": "text/x-python",
   "name": "python",
   "nbconvert_exporter": "python",
   "pygments_lexer": "ipython3",
   "version": "3.6.6"
  }
 },
 "nbformat": 4,
 "nbformat_minor": 2
}
