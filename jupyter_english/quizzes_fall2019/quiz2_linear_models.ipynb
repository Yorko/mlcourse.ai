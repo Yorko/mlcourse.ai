{
 "cells": [
  {
   "cell_type": "markdown",
   "metadata": {},
   "source": [
    "<center>\n",
    "<img src=\"../../img/ods_stickers.jpg\" />\n",
    "    \n",
    "## [mlcourse.ai](https://mlcourse.ai) – Open Machine Learning Course \n",
    "\n",
    "Authors: [Yury Kashnitsky](https://yorko.github.io) (@yorko), and Aidar Siraev (@cyber). This material is subject to the terms and conditions of the [Creative Commons CC BY-NC-SA 4.0](https://creativecommons.org/licenses/by-nc-sa/4.0/) license. Free use is permitted for any non-commercial purpose.\n",
    "\n",
    "# <center> Fall 2019. Quiz 2. Linear Models"
   ]
  },
  {
   "cell_type": "markdown",
   "metadata": {},
   "source": [
    "Whether math is needed in Data Science - that's a controversial question. Honestly, there's a ~95% chance that you'll never need to derive a math formula while predicting churn, credit fault, customer life-time value, looking for financial fraud or recommending TV shows or, in general, while improving your company's business via insights from data. I, personally, needed to take a derivative only once in a real project. \n",
    "\n",
    "But still, we keep this theoretical part - it will help you in understanding the basic machinery of linear models, what math lives there under the hood. At least, this will be crucial to understand neaural nets and, in particular, back propagation, arguably, the most prominent ML algorithm.\n",
    "\n",
    "<img src='../../img/what_part_dont_you_understand.jpeg' width=40%>"
   ]
  },
  {
   "cell_type": "markdown",
   "metadata": {},
   "source": [
    "Prior to working on the assignment, you'd better check out the corresponding course material:\n",
    "\n",
    "1.  [Classification, Decision Trees and k Nearest Neighbors](https://nbviewer.jupyter.org/github/Yorko/mlcourse_open/blob/master/jupyter_english/topic03_decision_trees_kNN/topic3_decision_trees_kNN.ipynb?flush_cache=true), the same as an interactive web-based [Kaggle Kernel](https://www.kaggle.com/kashnitsky/topic-3-decision-trees-and-knn) (basics of machine learning are covered here)\n",
    "2. Linear classification and regression in 5 parts: \n",
    "  - [ordinary least squares](https://www.kaggle.com/kashnitsky/topic-4-linear-models-part-1-ols)\n",
    "  - [linear classification](https://www.kaggle.com/kashnitsky/topic-4-linear-models-part-2-classification)\n",
    "  - [regularization](https://www.kaggle.com/kashnitsky/topic-4-linear-models-part-3-regularization)\n",
    "  - [logistic regression: pros and cons](https://www.kaggle.com/kashnitsky/topic-4-linear-models-part-4-more-of-logit)\n",
    "  - [validation](https://www.kaggle.com/kashnitsky/topic-4-linear-models-part-5-validation)\n",
    "\n",
    "3. If that's still not enough, watch two videos on logistic regression: [mlcourse.ai/lectures](https://mlcourse.ai/lectures)\n",
    "\n",
    "### Your task is to:\n",
    " 1. study the materials \n",
    " 1. write code where needed\n",
    " 1. choose answers in the [webform](https://docs.google.com/forms/d/1FgsNe6Kj7YX-BjWozR0QQJ1-_TSF2omXIsUmcCLCYs4) \n",
    "\n",
    " \n",
    "### <center> Deadline for Quiz 2: 2019 October 25, 20:59 GMT+1 (London time)\n",
    "    \n",
    "Solutions are discussed during a [live YouTube session](https://www.youtube.com/watch?v=82czpNWOMf4) on October 26. You can get up to 12 credits (those points in a web-form, 18 max, will be scaled to a max of 12 credits). "
   ]
  },
  {
   "cell_type": "markdown",
   "metadata": {},
   "source": [
    "**1\\. Select the correct statements about ordinary least squares (OLS):**\n",
    " 1. OLS is a method for estimating the unknown parameters in a linear regression model.\n",
    " 2. OLS works as follows: minimizing the sum of the differences between the observed dependent variable in the given dataset and the square of the product of the predicted variable and its weight.\n",
    " 3. OLS provides an estimator with the lowest variance among all linear and unbiased estimators when errors are homoscedastic, uncorrelated and have zero expectation.\n",
    " 4. OLS works as follows: minimizing the sum of the absolute value of the differences between the observed dependent variable in the given dataset and the product of the predicted variable and its weight.\n",
    "\n",
    "\n",
    "*For discussions, please stick to [ODS Slack](https://opendatascience.slack.com/), channel #mlcourse_ai_news, pinned thread __#quiz2\\_q1-5__*\n"
   ]
  },
  {
   "cell_type": "markdown",
   "metadata": {},
   "source": [
    "**2. Why wouldn't you always use the closed-form solution for OLS: $\\textbf{w}=(\\textbf{X}^\\textbf{T}\\textbf{X})^{-1}\\textbf{X}^\\textbf{T}\\textbf{y}$ (see [Topic 4, part 1](https://mlcourse.ai/articles/topic4-part1-linreg/) for problem statement and designations)?**\n",
    " 1. it's computationally inefficient as compared to numeric optimization methods\n",
    " 2. it's computationally unstable in case of multicollinearity, i.e. when determinant of $\\textbf{X}^\\textbf{T}\\textbf{X}$ is close to zero\n",
    " 3. numeric optimization methods typically yield a better solution in terms of mean squared error\n",
    " 4. multiplying two square matrices is an operation with $O(n^4)$ complexity, where $n$ is the number of rows/columns\n",
    " \n",
    "*For discussions, please stick to [ODS Slack](https://opendatascience.slack.com/), channel #mlcourse_ai_news, pinned thread __#quiz2\\_q1-5__*\n",
    "\n"
   ]
  },
  {
   "cell_type": "markdown",
   "metadata": {},
   "source": [
    "**3\\. Select a correct statement about maximum likelihood estimation:**\n",
    " 1. OLS is the maximum likelihood estimator for any linear machine learning model.\n",
    " 2. OLS is the maximum likelihood estimator, only if the errors are normally distributed.\n",
    " 3. Maximum likelihood method applies only to samples with normal distribution.\n",
    "\n",
    "*For discussions, please stick to [ODS Slack](https://opendatascience.slack.com/), channel #mlcourse_ai_news, pinned thread __#quiz2\\_q1-5__*\n"
   ]
  },
  {
   "cell_type": "markdown",
   "metadata": {},
   "source": [
    "**4\\. Suppose, Lerbon Jasem is at rest wandering around a park. He decides to play a lottery where one needs to score 9 times out of 10 basketball penalty shoots to win a bunny. Lerbon manages to do that from the 3rd attempt: first he scored 6, then 8, and finally, 9. Suppose, the number of successes is governed by [Binomial distribution](https://en.wikipedia.org/wiki/Binomial_distribution) $Bin(n, \\theta) = {n \\choose k} \\theta^k (1-\\theta)^{n-k}$, i.e. there are $n=10$ trials (shoots) and $\\theta$ is an estimator for Lerbon's unknown true probability of success (scoring in a single shot) $p$. Moreover, we assume  that scoring in each and every shoot is independent of other shoots (which probably didn't hold for Lerbon when he got irritated in the first shoot-out series, but still).**\n",
    "\n",
    "**What is the partial derivative of log likelihood function with respect to $\\theta$? What's the value of Maximum Likelihood Estimator of $p$ - $\\theta_{MLE}$?**\n",
    "\n",
    " 1. $\\large \\frac{23}{\\theta} - \\frac{7}{1-\\theta}$, 0.7(6)\n",
    " 2. $\\large \\frac{23}{\\theta} + \\frac{7}{1-\\theta}$, 1.4375 \n",
    " 3. $\\large \\frac{23}{\\theta} - \\frac{7}{1-\\theta}$, 0.8\n",
    " 4. $\\large \\frac{23}{\\theta} + \\frac{7}{1-\\theta}$, 0.7(6) \n",
    "\n",
    "*For discussions, please stick to [ODS Slack](https://opendatascience.slack.com/), channel #mlcourse_ai_news, pinned thread __#quiz2\\_q1-5__*"
   ]
  },
  {
   "cell_type": "markdown",
   "metadata": {},
   "source": [
    "**5. Why should one regularize a linear regression model?**\n",
    " 1. To avoid overfitting\n",
    " 2. To reduce variance of model predictions\n",
    " 3. To generalize better to future data\n",
    " 4. To tackle multicollinearity\n",
    " \n",
    "*For discussions, please stick to [ODS Slack](https://opendatascience.slack.com/), channel #mlcourse_ai_news, pinned thread __#quiz2\\_q1-5__*"
   ]
  },
  {
   "cell_type": "markdown",
   "metadata": {},
   "source": [
    "**6. Which of the following evaluation metrics should NOT be applied in case of logistic regression output compared with the target?**\n",
    "\n",
    " 1. Accuracy score\n",
    " 2. Logloss\n",
    " 3. Mean Squared Error\n",
    " 4. ROC AUC\n",
    "\n",
    "*For discussions, please stick to [ODS Slack](https://opendatascience.slack.com/), channel #mlcourse_ai_news, pinned thread __#quiz2\\_q6-10__*"
   ]
  },
  {
   "cell_type": "markdown",
   "metadata": {},
   "source": [
    "**7. Which of the following approaches do we use to fit logistic regression parameters to the data in hand?**\n",
    "\n",
    " 1. Least Square Error\n",
    " 2. Maximum Likelihood Estimation\n",
    " 3. The margin of classification\n",
    " 4. The Jaccard index\n",
    "\n",
    "*For discussions, please stick to [ODS Slack](https://opendatascience.slack.com/), channel #mlcourse_ai_news, pinned thread __#quiz2\\_q6-10__*\n",
    " "
   ]
  },
  {
   "cell_type": "markdown",
   "metadata": {},
   "source": [
    "**8. Let's analyze the logarithmic loss function as derived in the [article](https://mlcourse.ai/articles/topic4-part2-logit/) in terms of margin:**\n",
    "\n",
    "$$\\large L(M) = \\ln(1 + e^{-M})$$\n",
    "\n",
    "_(here we have natural logarithm, but the base is not that important due to $\\log_ab = \\frac{\\ln b}{\\ln a}$, i.e. some base $a$ different from $e$ will only result in a constant multiplier $\\frac{1}{\\ln a}$ which doesn't change the analysis)_\n",
    "\n",
    "**Select all correct statements:**\n",
    " 1. the model is _penalized_ (meaning that the loss is positive) even in case when a training instance is correctly classified\n",
    " 2. logarithmic loss is a strictly decreasing function of margin $M$\n",
    " 3. derivative $\\frac{dL}{dM}$ can be interpreted in terms of margin $M$: $\\frac{dL}{dM} = -\\sigma(-M)$\n",
    " 4. second derivative $\\frac{d^2L}{dM^2}$ is strictly positive, meaning that $L$ is convex\n",
    " \n",
    "*For discussions, please stick to [ODS Slack](https://opendatascience.slack.com/), channel #mlcourse_ai_news, pinned thread __#quiz2\\_q6-10__*"
   ]
  },
  {
   "cell_type": "markdown",
   "metadata": {},
   "source": [
    "**9. Suppose you train a logistic regression classifier:**\n",
    "\n",
    "$$\\large P\\left(y=1∣X\\right)=\\sigma\\left(w_0 + w_1 x_1 + w_2 x_2\\right)$$ \n",
    "\n",
    "$$\\large a(X) = sign(P\\left(y=1∣X\\right) - 0.5),$$\n",
    "\n",
    "**meaning that predicted probability $P\\left(y=1∣X\\right)$ is compared with 0.5, and depending on that either +1 or -1 is returned.**\n",
    "\n",
    "**Also we know that $w_0 = 3, w_1 = 0, w_2 = -1.$**\n",
    "\n",
    "**Which of the following figures represents the decision boundary of the given classifier?**\n",
    " 1. A\n",
    " 2. B\n",
    " 3. C\n",
    " 4. D\n",
    "\n",
    "*For discussions, please stick to [ODS Slack](https://opendatascience.slack.com/), channel #mlcourse_ai_news, pinned thread __#quiz2\\_q6-10__*"
   ]
  },
  {
   "cell_type": "markdown",
   "metadata": {},
   "source": [
    "<img src=\"../../img/quiz2_quest9_decision_boundaries.png\" width=60% />"
   ]
  },
  {
   "cell_type": "markdown",
   "metadata": {},
   "source": [
    "**10. In this question, we'll be working with Sklearn's bias-variance decomposition [example](https://scikit-learn.org/stable/auto_examples/ensemble/plot_bias_variance.html). There they compare a decision tree regressor and bagging over the same trees. In our case, we'll compare 4 decision trees - with maximal depths of 1, 2, 5, and 10 (in all cases `random_state` shall be set to 17). So you need to take the same code from the example and change the `estimators` variable.**\n",
    "\n",
    "**Your task is to:**\n",
    " - **read about bias-variance decomposition in the [mlcourse.ai article](https://mlcourse.ai/articles/topic4-part1-linreg/#Bias-Variance-Decomposition)**\n",
    " - **understand the code form the mentioned sklearn's example**\n",
    " - **understand what you changed in the code and how it affected the figures built in the end of the example**\n",
    " \n",
    "**When you're done with that, choose all correct statements:**\n",
    " 1. Variance always increases with increased `max_depth`\n",
    " 2. Minimal MSE is achieved when `max_depth` is set to 5\n",
    " 3. Minimal MSE is achieved when bias is also minimal\n",
    " 4. Minimal MSE is achieved when variance is also minimal\n",
    " 5. The tree with `max_depth`=10 is overfitted\n",
    " \n",
    " *For discussions, please stick to [ODS Slack](https://opendatascience.slack.com/), channel #mlcourse_ai_news, pinned thread __#quiz2\\_q6-10__*"
   ]
  }
 ],
 "metadata": {
  "kernelspec": {
   "display_name": "Python 3",
   "language": "python",
   "name": "python3"
  },
  "language_info": {
   "codemirror_mode": {
    "name": "ipython",
    "version": 3
   },
   "file_extension": ".py",
   "mimetype": "text/x-python",
   "name": "python",
   "nbconvert_exporter": "python",
   "pygments_lexer": "ipython3",
   "version": "3.7.3"
  }
 },
 "nbformat": 4,
 "nbformat_minor": 2
}
