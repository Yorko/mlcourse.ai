{
 "cells": [
  {
   "cell_type": "markdown",
   "metadata": {},
   "source": [
    "<center>\n",
    "<img src=\"../../img/ods_stickers.jpg\" />\n",
    "    \n",
    "## [mlcourse.ai](mlcourse.ai) – Open Machine Learning Course \n",
    "\n",
    "Author: [Yury Kashnitskiy](https://yorko.github.io). \n",
    "Translated and edited by [Maxim Keremet](https://www.linkedin.com/in/maximkeremet/), [Artem Trunov](https://www.linkedin.com/in/datamove/), and [Aditya Soni](https://www.linkedin.com/in/aditya-soni-0505a9124/). This material is subject to the terms and conditions of the [Creative Commons CC BY-NC-SA 4.0](https://creativecommons.org/licenses/by-nc-sa/4.0/) license. Free use is permitted for any non-commercial purpose."
   ]
  },
  {
   "cell_type": "markdown",
   "metadata": {},
   "source": [
    "# <center>Assignment #2. Fall 2018 <br> Exploratory Data Analysis (EDA) of US flights <br> (using Pandas, Matplotlib & Seaborn)\n",
    "\n",
    "<img src='../../img/plane_sunset.png' width=50%>\n",
    "\n",
    "Prior to working on the assignment, you'd better check out the corresponding course material:\n",
    " - [Visualization: from Simple Distributions to Dimensionality Reduction](https://mlcourse.ai/notebooks/blob/master/jupyter_english/topic02_visual_data_analysis/topic2_visual_data_analysis.ipynb?flush_cache=true)\n",
    " - [Overview of Seaborn, Matplotlib and Plotly libraries](https://mlcourse.ai/notebooks/blob/master/jupyter_english/topic02_visual_data_analysis/topic2_additional_seaborn_matplotlib_plotly.ipynb?flush_cache=true)\n",
    " - first lectures in [this](https://www.youtube.com/watch?v=QKTuw4PNOsU&list=PLVlY_7IJCMJeRfZ68eVfEcu-UcN9BbwiX) YouTube playlist \n",
    "\n",
    "### Your task is to:\n",
    " - write code and perform computations in the cells below\n",
    " - choose answers in the [webform](https://docs.google.com/forms/d/1qSTjLAGqsmpFRhacv0vM-CMQSTT_mtOalNXdRTcdtM0/edit)\n",
    " - submit answers with **the very same email and name** as in assignment 1. This is a part of the assignment, if you don't manage to do so, you won't get credits. If in doubt, you can re-submit A1 form till the deadline for A1, no problem\n",
    " \n",
    "### <center> Deadline for A2: 2018 October 21, 20:59 CET\n",
    "\n"
   ]
  },
  {
   "cell_type": "code",
   "execution_count": 1,
<<<<<<< HEAD
   "metadata": {
    "collapsed": true
   },
=======
   "metadata": {},
>>>>>>> b95a59a01fa2879014056c1bbf1585de10dacc6e
   "outputs": [],
   "source": [
    "import numpy as np\n",
    "import pandas as pd\n",
    "# pip install seaborn \n",
    "import seaborn as sns\n",
    "import matplotlib.pyplot as plt"
   ]
  },
  {
   "cell_type": "markdown",
   "metadata": {},
   "source": [
    "* Download the data [archive](http://stat-computing.org/dataexpo/2009/2008.csv.bz2) (Archived ~ 114 Mb, unzipped - ~ 690 Mb). No need to unzip - pandas can unbzip on the fly.\n",
    "* Place it in the \"../../data\" folder, or change the path below according to your location.\n",
    "* The dataset has information about carriers and flights between US airports during the year 2008. \n",
    "* Column description is available [here](http://www.transtats.bts.gov/Fields.asp?Table_ID=236). Visit this site to find ex. meaning of flight cancellation codes."
   ]
  },
  {
   "cell_type": "markdown",
   "metadata": {},
   "source": [
    "**Reading data into memory and creating a Pandas _DataFrame_ object**\n",
    "\n",
    "(This may take a while, be patient)\n",
    "\n",
    "We are not going to read in the whole dataset. In order to reduce memory footprint, we instead load only needed columns and cast them suitable data types."
   ]
  },
  {
   "cell_type": "code",
   "execution_count": 2,
<<<<<<< HEAD
   "metadata": {
    "collapsed": true
   },
=======
   "metadata": {},
>>>>>>> b95a59a01fa2879014056c1bbf1585de10dacc6e
   "outputs": [],
   "source": [
    "dtype = {'DayOfWeek': np.uint8, 'DayofMonth': np.uint8, 'Month': np.uint8 , 'Cancelled': np.uint8, \n",
    "         'Year': np.uint16, 'FlightNum': np.uint16 , 'Distance': np.uint16, \n",
    "         'UniqueCarrier': str, 'CancellationCode': str, 'Origin': str, 'Dest': str,\n",
    "         'ArrDelay': np.float16, 'DepDelay': np.float16, 'CarrierDelay': np.float16,\n",
    "         'WeatherDelay': np.float16, 'NASDelay': np.float16, 'SecurityDelay': np.float16,\n",
    "         'LateAircraftDelay': np.float16, 'DepTime': np.float16}"
   ]
  },
  {
   "cell_type": "code",
   "execution_count": 3,
   "metadata": {},
   "outputs": [
    {
     "name": "stdout",
     "output_type": "stream",
     "text": [
<<<<<<< HEAD
      "Wall time: 51.9 s\n"
=======
      "CPU times: user 26.6 s, sys: 311 ms, total: 26.9 s\n",
      "Wall time: 25.6 s\n"
>>>>>>> b95a59a01fa2879014056c1bbf1585de10dacc6e
     ]
    }
   ],
   "source": [
    "%%time\n",
    "# change the path if needed\n",
<<<<<<< HEAD
    "path = 'C:\\\\Users\\\\2Performant\\\\Desktop\\\\DataTasks\\\\mlcourseai_data\\\\2008.csv.bz2'\n",
=======
    "path = '../../data/2008.csv.bz2'\n",
>>>>>>> b95a59a01fa2879014056c1bbf1585de10dacc6e
    "flights_df = pd.read_csv(path, usecols=dtype.keys(), dtype=dtype)"
   ]
  },
  {
   "cell_type": "markdown",
   "metadata": {},
   "source": [
    "**Check the number of rows and columns and print column names.**"
   ]
  },
  {
   "cell_type": "code",
   "execution_count": 4,
   "metadata": {},
   "outputs": [
    {
     "name": "stdout",
     "output_type": "stream",
     "text": [
      "(7009728, 19)\n",
      "Index(['Year', 'Month', 'DayofMonth', 'DayOfWeek', 'DepTime', 'UniqueCarrier',\n",
      "       'FlightNum', 'ArrDelay', 'DepDelay', 'Origin', 'Dest', 'Distance',\n",
      "       'Cancelled', 'CancellationCode', 'CarrierDelay', 'WeatherDelay',\n",
      "       'NASDelay', 'SecurityDelay', 'LateAircraftDelay'],\n",
      "      dtype='object')\n"
     ]
    }
   ],
   "source": [
    "print(flights_df.shape)\n",
    "print(flights_df.columns)"
   ]
  },
  {
   "cell_type": "markdown",
   "metadata": {},
   "source": [
    "**Print first 5 rows of the dataset.**"
   ]
  },
  {
   "cell_type": "code",
   "execution_count": 5,
   "metadata": {},
   "outputs": [
    {
     "data": {
      "text/html": [
       "<div>\n",
       "<style scoped>\n",
       "    .dataframe tbody tr th:only-of-type {\n",
       "        vertical-align: middle;\n",
       "    }\n",
       "\n",
       "    .dataframe tbody tr th {\n",
       "        vertical-align: top;\n",
       "    }\n",
       "\n",
       "    .dataframe thead th {\n",
       "        text-align: right;\n",
       "    }\n",
       "</style>\n",
       "<table border=\"1\" class=\"dataframe\">\n",
       "  <thead>\n",
       "    <tr style=\"text-align: right;\">\n",
       "      <th></th>\n",
       "      <th>Year</th>\n",
       "      <th>Month</th>\n",
       "      <th>DayofMonth</th>\n",
       "      <th>DayOfWeek</th>\n",
       "      <th>DepTime</th>\n",
       "      <th>UniqueCarrier</th>\n",
       "      <th>FlightNum</th>\n",
       "      <th>ArrDelay</th>\n",
       "      <th>DepDelay</th>\n",
       "      <th>Origin</th>\n",
       "      <th>Dest</th>\n",
       "      <th>Distance</th>\n",
       "      <th>Cancelled</th>\n",
       "      <th>CancellationCode</th>\n",
       "      <th>CarrierDelay</th>\n",
       "      <th>WeatherDelay</th>\n",
       "      <th>NASDelay</th>\n",
       "      <th>SecurityDelay</th>\n",
       "      <th>LateAircraftDelay</th>\n",
       "    </tr>\n",
       "  </thead>\n",
       "  <tbody>\n",
       "    <tr>\n",
       "      <th>0</th>\n",
       "      <td>2008</td>\n",
       "      <td>1</td>\n",
       "      <td>3</td>\n",
       "      <td>4</td>\n",
       "      <td>2003.0</td>\n",
       "      <td>WN</td>\n",
       "      <td>335</td>\n",
       "      <td>-14.0</td>\n",
       "      <td>8.0</td>\n",
       "      <td>IAD</td>\n",
       "      <td>TPA</td>\n",
       "      <td>810</td>\n",
       "      <td>0</td>\n",
       "      <td>NaN</td>\n",
       "      <td>NaN</td>\n",
       "      <td>NaN</td>\n",
       "      <td>NaN</td>\n",
       "      <td>NaN</td>\n",
       "      <td>NaN</td>\n",
       "    </tr>\n",
       "    <tr>\n",
       "      <th>1</th>\n",
       "      <td>2008</td>\n",
       "      <td>1</td>\n",
       "      <td>3</td>\n",
       "      <td>4</td>\n",
       "      <td>754.0</td>\n",
       "      <td>WN</td>\n",
       "      <td>3231</td>\n",
       "      <td>2.0</td>\n",
       "      <td>19.0</td>\n",
       "      <td>IAD</td>\n",
       "      <td>TPA</td>\n",
       "      <td>810</td>\n",
       "      <td>0</td>\n",
       "      <td>NaN</td>\n",
       "      <td>NaN</td>\n",
       "      <td>NaN</td>\n",
       "      <td>NaN</td>\n",
       "      <td>NaN</td>\n",
       "      <td>NaN</td>\n",
       "    </tr>\n",
       "    <tr>\n",
       "      <th>2</th>\n",
       "      <td>2008</td>\n",
       "      <td>1</td>\n",
       "      <td>3</td>\n",
       "      <td>4</td>\n",
       "      <td>628.0</td>\n",
       "      <td>WN</td>\n",
       "      <td>448</td>\n",
       "      <td>14.0</td>\n",
       "      <td>8.0</td>\n",
       "      <td>IND</td>\n",
       "      <td>BWI</td>\n",
       "      <td>515</td>\n",
       "      <td>0</td>\n",
       "      <td>NaN</td>\n",
       "      <td>NaN</td>\n",
       "      <td>NaN</td>\n",
       "      <td>NaN</td>\n",
       "      <td>NaN</td>\n",
       "      <td>NaN</td>\n",
       "    </tr>\n",
       "    <tr>\n",
       "      <th>3</th>\n",
       "      <td>2008</td>\n",
       "      <td>1</td>\n",
       "      <td>3</td>\n",
       "      <td>4</td>\n",
       "      <td>926.0</td>\n",
       "      <td>WN</td>\n",
       "      <td>1746</td>\n",
       "      <td>-6.0</td>\n",
       "      <td>-4.0</td>\n",
       "      <td>IND</td>\n",
       "      <td>BWI</td>\n",
       "      <td>515</td>\n",
       "      <td>0</td>\n",
       "      <td>NaN</td>\n",
       "      <td>NaN</td>\n",
       "      <td>NaN</td>\n",
       "      <td>NaN</td>\n",
       "      <td>NaN</td>\n",
       "      <td>NaN</td>\n",
       "    </tr>\n",
       "    <tr>\n",
       "      <th>4</th>\n",
       "      <td>2008</td>\n",
       "      <td>1</td>\n",
       "      <td>3</td>\n",
       "      <td>4</td>\n",
       "      <td>1829.0</td>\n",
       "      <td>WN</td>\n",
       "      <td>3920</td>\n",
       "      <td>34.0</td>\n",
       "      <td>34.0</td>\n",
       "      <td>IND</td>\n",
       "      <td>BWI</td>\n",
       "      <td>515</td>\n",
       "      <td>0</td>\n",
       "      <td>NaN</td>\n",
       "      <td>2.0</td>\n",
       "      <td>0.0</td>\n",
       "      <td>0.0</td>\n",
       "      <td>0.0</td>\n",
       "      <td>32.0</td>\n",
       "    </tr>\n",
<<<<<<< HEAD
       "    <tr>\n",
       "      <th>5</th>\n",
       "      <td>2008</td>\n",
       "      <td>1</td>\n",
       "      <td>3</td>\n",
       "      <td>4</td>\n",
       "      <td>1940.0</td>\n",
       "      <td>WN</td>\n",
       "      <td>378</td>\n",
       "      <td>11.0</td>\n",
       "      <td>25.0</td>\n",
       "      <td>IND</td>\n",
       "      <td>JAX</td>\n",
       "      <td>688</td>\n",
       "      <td>0</td>\n",
       "      <td>NaN</td>\n",
       "      <td>NaN</td>\n",
       "      <td>NaN</td>\n",
       "      <td>NaN</td>\n",
       "      <td>NaN</td>\n",
       "      <td>NaN</td>\n",
       "    </tr>\n",
       "    <tr>\n",
       "      <th>6</th>\n",
       "      <td>2008</td>\n",
       "      <td>1</td>\n",
       "      <td>3</td>\n",
       "      <td>4</td>\n",
       "      <td>1937.0</td>\n",
       "      <td>WN</td>\n",
       "      <td>509</td>\n",
       "      <td>57.0</td>\n",
       "      <td>67.0</td>\n",
       "      <td>IND</td>\n",
       "      <td>LAS</td>\n",
       "      <td>1591</td>\n",
       "      <td>0</td>\n",
       "      <td>NaN</td>\n",
       "      <td>10.0</td>\n",
       "      <td>0.0</td>\n",
       "      <td>0.0</td>\n",
       "      <td>0.0</td>\n",
       "      <td>47.0</td>\n",
       "    </tr>\n",
       "    <tr>\n",
       "      <th>7</th>\n",
       "      <td>2008</td>\n",
       "      <td>1</td>\n",
       "      <td>3</td>\n",
       "      <td>4</td>\n",
       "      <td>1039.0</td>\n",
       "      <td>WN</td>\n",
       "      <td>535</td>\n",
       "      <td>-18.0</td>\n",
       "      <td>-1.0</td>\n",
       "      <td>IND</td>\n",
       "      <td>LAS</td>\n",
       "      <td>1591</td>\n",
       "      <td>0</td>\n",
       "      <td>NaN</td>\n",
       "      <td>NaN</td>\n",
       "      <td>NaN</td>\n",
       "      <td>NaN</td>\n",
       "      <td>NaN</td>\n",
       "      <td>NaN</td>\n",
       "    </tr>\n",
       "    <tr>\n",
       "      <th>8</th>\n",
       "      <td>2008</td>\n",
       "      <td>1</td>\n",
       "      <td>3</td>\n",
       "      <td>4</td>\n",
       "      <td>617.0</td>\n",
       "      <td>WN</td>\n",
       "      <td>11</td>\n",
       "      <td>2.0</td>\n",
       "      <td>2.0</td>\n",
       "      <td>IND</td>\n",
       "      <td>MCI</td>\n",
       "      <td>451</td>\n",
       "      <td>0</td>\n",
       "      <td>NaN</td>\n",
       "      <td>NaN</td>\n",
       "      <td>NaN</td>\n",
       "      <td>NaN</td>\n",
       "      <td>NaN</td>\n",
       "      <td>NaN</td>\n",
       "    </tr>\n",
       "    <tr>\n",
       "      <th>9</th>\n",
       "      <td>2008</td>\n",
       "      <td>1</td>\n",
       "      <td>3</td>\n",
       "      <td>4</td>\n",
       "      <td>1620.0</td>\n",
       "      <td>WN</td>\n",
       "      <td>810</td>\n",
       "      <td>-16.0</td>\n",
       "      <td>0.0</td>\n",
       "      <td>IND</td>\n",
       "      <td>MCI</td>\n",
       "      <td>451</td>\n",
       "      <td>0</td>\n",
       "      <td>NaN</td>\n",
       "      <td>NaN</td>\n",
       "      <td>NaN</td>\n",
       "      <td>NaN</td>\n",
       "      <td>NaN</td>\n",
       "      <td>NaN</td>\n",
       "    </tr>\n",
=======
>>>>>>> b95a59a01fa2879014056c1bbf1585de10dacc6e
       "  </tbody>\n",
       "</table>\n",
       "</div>"
      ],
      "text/plain": [
       "   Year  Month  DayofMonth  DayOfWeek  DepTime UniqueCarrier  FlightNum  \\\n",
       "0  2008      1           3          4   2003.0            WN        335   \n",
       "1  2008      1           3          4    754.0            WN       3231   \n",
       "2  2008      1           3          4    628.0            WN        448   \n",
       "3  2008      1           3          4    926.0            WN       1746   \n",
       "4  2008      1           3          4   1829.0            WN       3920   \n",
<<<<<<< HEAD
       "5  2008      1           3          4   1940.0            WN        378   \n",
       "6  2008      1           3          4   1937.0            WN        509   \n",
       "7  2008      1           3          4   1039.0            WN        535   \n",
       "8  2008      1           3          4    617.0            WN         11   \n",
       "9  2008      1           3          4   1620.0            WN        810   \n",
=======
>>>>>>> b95a59a01fa2879014056c1bbf1585de10dacc6e
       "\n",
       "   ArrDelay  DepDelay Origin Dest  Distance  Cancelled CancellationCode  \\\n",
       "0     -14.0       8.0    IAD  TPA       810          0              NaN   \n",
       "1       2.0      19.0    IAD  TPA       810          0              NaN   \n",
       "2      14.0       8.0    IND  BWI       515          0              NaN   \n",
       "3      -6.0      -4.0    IND  BWI       515          0              NaN   \n",
       "4      34.0      34.0    IND  BWI       515          0              NaN   \n",
<<<<<<< HEAD
       "5      11.0      25.0    IND  JAX       688          0              NaN   \n",
       "6      57.0      67.0    IND  LAS      1591          0              NaN   \n",
       "7     -18.0      -1.0    IND  LAS      1591          0              NaN   \n",
       "8       2.0       2.0    IND  MCI       451          0              NaN   \n",
       "9     -16.0       0.0    IND  MCI       451          0              NaN   \n",
=======
>>>>>>> b95a59a01fa2879014056c1bbf1585de10dacc6e
       "\n",
       "   CarrierDelay  WeatherDelay  NASDelay  SecurityDelay  LateAircraftDelay  \n",
       "0           NaN           NaN       NaN            NaN                NaN  \n",
       "1           NaN           NaN       NaN            NaN                NaN  \n",
       "2           NaN           NaN       NaN            NaN                NaN  \n",
       "3           NaN           NaN       NaN            NaN                NaN  \n",
<<<<<<< HEAD
       "4           2.0           0.0       0.0            0.0               32.0  \n",
       "5           NaN           NaN       NaN            NaN                NaN  \n",
       "6          10.0           0.0       0.0            0.0               47.0  \n",
       "7           NaN           NaN       NaN            NaN                NaN  \n",
       "8           NaN           NaN       NaN            NaN                NaN  \n",
       "9           NaN           NaN       NaN            NaN                NaN  "
=======
       "4           2.0           0.0       0.0            0.0               32.0  "
>>>>>>> b95a59a01fa2879014056c1bbf1585de10dacc6e
      ]
     },
     "execution_count": 5,
     "metadata": {},
     "output_type": "execute_result"
    }
   ],
   "source": [
<<<<<<< HEAD
    "flights_df.head(10)"
=======
    "flights_df.head()"
>>>>>>> b95a59a01fa2879014056c1bbf1585de10dacc6e
   ]
  },
  {
   "cell_type": "markdown",
   "metadata": {},
   "source": [
    "**Transpose the frame to see all features at once.**"
   ]
  },
  {
   "cell_type": "code",
   "execution_count": 6,
   "metadata": {},
   "outputs": [
    {
     "data": {
      "text/html": [
       "<div>\n",
       "<style scoped>\n",
       "    .dataframe tbody tr th:only-of-type {\n",
       "        vertical-align: middle;\n",
       "    }\n",
       "\n",
       "    .dataframe tbody tr th {\n",
       "        vertical-align: top;\n",
       "    }\n",
       "\n",
       "    .dataframe thead th {\n",
       "        text-align: right;\n",
       "    }\n",
       "</style>\n",
       "<table border=\"1\" class=\"dataframe\">\n",
       "  <thead>\n",
       "    <tr style=\"text-align: right;\">\n",
       "      <th></th>\n",
       "      <th>0</th>\n",
       "      <th>1</th>\n",
       "      <th>2</th>\n",
       "      <th>3</th>\n",
       "      <th>4</th>\n",
       "    </tr>\n",
       "  </thead>\n",
       "  <tbody>\n",
       "    <tr>\n",
       "      <th>Year</th>\n",
       "      <td>2008</td>\n",
       "      <td>2008</td>\n",
       "      <td>2008</td>\n",
       "      <td>2008</td>\n",
       "      <td>2008</td>\n",
       "    </tr>\n",
       "    <tr>\n",
       "      <th>Month</th>\n",
       "      <td>1</td>\n",
       "      <td>1</td>\n",
       "      <td>1</td>\n",
       "      <td>1</td>\n",
       "      <td>1</td>\n",
       "    </tr>\n",
       "    <tr>\n",
       "      <th>DayofMonth</th>\n",
       "      <td>3</td>\n",
       "      <td>3</td>\n",
       "      <td>3</td>\n",
       "      <td>3</td>\n",
       "      <td>3</td>\n",
       "    </tr>\n",
       "    <tr>\n",
       "      <th>DayOfWeek</th>\n",
       "      <td>4</td>\n",
       "      <td>4</td>\n",
       "      <td>4</td>\n",
       "      <td>4</td>\n",
       "      <td>4</td>\n",
       "    </tr>\n",
       "    <tr>\n",
       "      <th>DepTime</th>\n",
       "      <td>2003</td>\n",
       "      <td>754</td>\n",
       "      <td>628</td>\n",
       "      <td>926</td>\n",
       "      <td>1829</td>\n",
       "    </tr>\n",
       "    <tr>\n",
       "      <th>UniqueCarrier</th>\n",
       "      <td>WN</td>\n",
       "      <td>WN</td>\n",
       "      <td>WN</td>\n",
       "      <td>WN</td>\n",
       "      <td>WN</td>\n",
       "    </tr>\n",
       "    <tr>\n",
       "      <th>FlightNum</th>\n",
       "      <td>335</td>\n",
       "      <td>3231</td>\n",
       "      <td>448</td>\n",
       "      <td>1746</td>\n",
       "      <td>3920</td>\n",
       "    </tr>\n",
       "    <tr>\n",
       "      <th>ArrDelay</th>\n",
       "      <td>-14</td>\n",
       "      <td>2</td>\n",
       "      <td>14</td>\n",
       "      <td>-6</td>\n",
       "      <td>34</td>\n",
       "    </tr>\n",
       "    <tr>\n",
       "      <th>DepDelay</th>\n",
       "      <td>8</td>\n",
       "      <td>19</td>\n",
       "      <td>8</td>\n",
       "      <td>-4</td>\n",
       "      <td>34</td>\n",
       "    </tr>\n",
       "    <tr>\n",
       "      <th>Origin</th>\n",
       "      <td>IAD</td>\n",
       "      <td>IAD</td>\n",
       "      <td>IND</td>\n",
       "      <td>IND</td>\n",
       "      <td>IND</td>\n",
       "    </tr>\n",
       "    <tr>\n",
       "      <th>Dest</th>\n",
       "      <td>TPA</td>\n",
       "      <td>TPA</td>\n",
       "      <td>BWI</td>\n",
       "      <td>BWI</td>\n",
       "      <td>BWI</td>\n",
       "    </tr>\n",
       "    <tr>\n",
       "      <th>Distance</th>\n",
       "      <td>810</td>\n",
       "      <td>810</td>\n",
       "      <td>515</td>\n",
       "      <td>515</td>\n",
       "      <td>515</td>\n",
       "    </tr>\n",
       "    <tr>\n",
       "      <th>Cancelled</th>\n",
       "      <td>0</td>\n",
       "      <td>0</td>\n",
       "      <td>0</td>\n",
       "      <td>0</td>\n",
       "      <td>0</td>\n",
       "    </tr>\n",
       "    <tr>\n",
       "      <th>CancellationCode</th>\n",
       "      <td>NaN</td>\n",
       "      <td>NaN</td>\n",
       "      <td>NaN</td>\n",
       "      <td>NaN</td>\n",
       "      <td>NaN</td>\n",
       "    </tr>\n",
       "    <tr>\n",
       "      <th>CarrierDelay</th>\n",
       "      <td>NaN</td>\n",
       "      <td>NaN</td>\n",
       "      <td>NaN</td>\n",
       "      <td>NaN</td>\n",
       "      <td>2</td>\n",
       "    </tr>\n",
       "    <tr>\n",
       "      <th>WeatherDelay</th>\n",
       "      <td>NaN</td>\n",
       "      <td>NaN</td>\n",
       "      <td>NaN</td>\n",
       "      <td>NaN</td>\n",
       "      <td>0</td>\n",
       "    </tr>\n",
       "    <tr>\n",
       "      <th>NASDelay</th>\n",
       "      <td>NaN</td>\n",
       "      <td>NaN</td>\n",
       "      <td>NaN</td>\n",
       "      <td>NaN</td>\n",
       "      <td>0</td>\n",
       "    </tr>\n",
       "    <tr>\n",
       "      <th>SecurityDelay</th>\n",
       "      <td>NaN</td>\n",
       "      <td>NaN</td>\n",
       "      <td>NaN</td>\n",
       "      <td>NaN</td>\n",
       "      <td>0</td>\n",
       "    </tr>\n",
       "    <tr>\n",
       "      <th>LateAircraftDelay</th>\n",
       "      <td>NaN</td>\n",
       "      <td>NaN</td>\n",
       "      <td>NaN</td>\n",
       "      <td>NaN</td>\n",
       "      <td>32</td>\n",
       "    </tr>\n",
       "  </tbody>\n",
       "</table>\n",
       "</div>"
      ],
      "text/plain": [
       "                      0     1     2     3     4\n",
       "Year               2008  2008  2008  2008  2008\n",
       "Month                 1     1     1     1     1\n",
       "DayofMonth            3     3     3     3     3\n",
       "DayOfWeek             4     4     4     4     4\n",
       "DepTime            2003   754   628   926  1829\n",
       "UniqueCarrier        WN    WN    WN    WN    WN\n",
       "FlightNum           335  3231   448  1746  3920\n",
       "ArrDelay            -14     2    14    -6    34\n",
       "DepDelay              8    19     8    -4    34\n",
       "Origin              IAD   IAD   IND   IND   IND\n",
       "Dest                TPA   TPA   BWI   BWI   BWI\n",
       "Distance            810   810   515   515   515\n",
       "Cancelled             0     0     0     0     0\n",
       "CancellationCode    NaN   NaN   NaN   NaN   NaN\n",
       "CarrierDelay        NaN   NaN   NaN   NaN     2\n",
       "WeatherDelay        NaN   NaN   NaN   NaN     0\n",
       "NASDelay            NaN   NaN   NaN   NaN     0\n",
       "SecurityDelay       NaN   NaN   NaN   NaN     0\n",
       "LateAircraftDelay   NaN   NaN   NaN   NaN    32"
      ]
     },
     "execution_count": 6,
     "metadata": {},
     "output_type": "execute_result"
    }
   ],
   "source": [
    "flights_df.head().T"
   ]
  },
  {
   "cell_type": "markdown",
   "metadata": {},
   "source": [
    "**Examine data types of all features and total dataframe size in memory.**"
   ]
  },
  {
   "cell_type": "code",
   "execution_count": 7,
   "metadata": {},
   "outputs": [
    {
     "name": "stdout",
     "output_type": "stream",
     "text": [
      "<class 'pandas.core.frame.DataFrame'>\n",
      "RangeIndex: 7009728 entries, 0 to 7009727\n",
      "Data columns (total 19 columns):\n",
      "Year                 uint16\n",
      "Month                uint8\n",
      "DayofMonth           uint8\n",
      "DayOfWeek            uint8\n",
      "DepTime              float16\n",
      "UniqueCarrier        object\n",
      "FlightNum            uint16\n",
      "ArrDelay             float16\n",
      "DepDelay             float16\n",
      "Origin               object\n",
      "Dest                 object\n",
      "Distance             uint16\n",
      "Cancelled            uint8\n",
      "CancellationCode     object\n",
      "CarrierDelay         float16\n",
      "WeatherDelay         float16\n",
      "NASDelay             float16\n",
      "SecurityDelay        float16\n",
      "LateAircraftDelay    float16\n",
      "dtypes: float16(8), object(4), uint16(3), uint8(4)\n",
      "memory usage: 387.7+ MB\n"
     ]
    }
   ],
   "source": [
    "flights_df.info()"
   ]
  },
  {
   "cell_type": "markdown",
   "metadata": {},
   "source": [
    "**Get basic statistics of each feature.**"
   ]
  },
  {
   "cell_type": "code",
   "execution_count": 8,
   "metadata": {},
   "outputs": [
    {
     "data": {
      "text/html": [
       "<div>\n",
       "<style scoped>\n",
       "    .dataframe tbody tr th:only-of-type {\n",
       "        vertical-align: middle;\n",
       "    }\n",
       "\n",
       "    .dataframe tbody tr th {\n",
       "        vertical-align: top;\n",
       "    }\n",
       "\n",
       "    .dataframe thead th {\n",
       "        text-align: right;\n",
       "    }\n",
       "</style>\n",
       "<table border=\"1\" class=\"dataframe\">\n",
       "  <thead>\n",
       "    <tr style=\"text-align: right;\">\n",
       "      <th></th>\n",
       "      <th>count</th>\n",
       "      <th>mean</th>\n",
       "      <th>std</th>\n",
       "      <th>min</th>\n",
       "      <th>25%</th>\n",
       "      <th>50%</th>\n",
       "      <th>75%</th>\n",
       "      <th>max</th>\n",
       "    </tr>\n",
       "  </thead>\n",
       "  <tbody>\n",
       "    <tr>\n",
       "      <th>Year</th>\n",
       "      <td>7009728.0</td>\n",
       "      <td>2008.000000</td>\n",
       "      <td>0.000000</td>\n",
       "      <td>2008.0</td>\n",
       "      <td>2008.0</td>\n",
       "      <td>2008.0</td>\n",
       "      <td>2008.0</td>\n",
       "      <td>2008.0</td>\n",
       "    </tr>\n",
       "    <tr>\n",
       "      <th>Month</th>\n",
       "      <td>7009728.0</td>\n",
       "      <td>6.375130</td>\n",
       "      <td>3.406737</td>\n",
       "      <td>1.0</td>\n",
       "      <td>3.0</td>\n",
       "      <td>6.0</td>\n",
       "      <td>9.0</td>\n",
       "      <td>12.0</td>\n",
       "    </tr>\n",
       "    <tr>\n",
       "      <th>DayofMonth</th>\n",
       "      <td>7009728.0</td>\n",
       "      <td>15.728015</td>\n",
       "      <td>8.797068</td>\n",
       "      <td>1.0</td>\n",
       "      <td>8.0</td>\n",
       "      <td>16.0</td>\n",
       "      <td>23.0</td>\n",
       "      <td>31.0</td>\n",
       "    </tr>\n",
       "    <tr>\n",
       "      <th>DayOfWeek</th>\n",
       "      <td>7009728.0</td>\n",
       "      <td>3.924182</td>\n",
       "      <td>1.988259</td>\n",
       "      <td>1.0</td>\n",
       "      <td>2.0</td>\n",
       "      <td>4.0</td>\n",
       "      <td>6.0</td>\n",
       "      <td>7.0</td>\n",
       "    </tr>\n",
       "    <tr>\n",
       "      <th>DepTime</th>\n",
       "      <td>6873482.0</td>\n",
       "      <td>NaN</td>\n",
       "      <td>NaN</td>\n",
       "      <td>1.0</td>\n",
       "      <td>928.0</td>\n",
       "      <td>1325.0</td>\n",
       "      <td>1728.0</td>\n",
       "      <td>2400.0</td>\n",
       "    </tr>\n",
       "    <tr>\n",
       "      <th>FlightNum</th>\n",
       "      <td>7009728.0</td>\n",
       "      <td>2224.200105</td>\n",
       "      <td>1961.715999</td>\n",
       "      <td>1.0</td>\n",
       "      <td>622.0</td>\n",
       "      <td>1571.0</td>\n",
       "      <td>3518.0</td>\n",
       "      <td>9743.0</td>\n",
       "    </tr>\n",
       "    <tr>\n",
       "      <th>ArrDelay</th>\n",
       "      <td>6855029.0</td>\n",
       "      <td>NaN</td>\n",
       "      <td>NaN</td>\n",
       "      <td>-519.0</td>\n",
       "      <td>-10.0</td>\n",
       "      <td>-2.0</td>\n",
       "      <td>12.0</td>\n",
       "      <td>2460.0</td>\n",
       "    </tr>\n",
       "    <tr>\n",
       "      <th>DepDelay</th>\n",
       "      <td>6873482.0</td>\n",
       "      <td>NaN</td>\n",
       "      <td>NaN</td>\n",
       "      <td>-534.0</td>\n",
       "      <td>-4.0</td>\n",
       "      <td>-1.0</td>\n",
       "      <td>8.0</td>\n",
       "      <td>2468.0</td>\n",
       "    </tr>\n",
       "    <tr>\n",
       "      <th>Distance</th>\n",
       "      <td>7009728.0</td>\n",
       "      <td>726.387029</td>\n",
       "      <td>562.101803</td>\n",
       "      <td>11.0</td>\n",
       "      <td>325.0</td>\n",
       "      <td>581.0</td>\n",
       "      <td>954.0</td>\n",
       "      <td>4962.0</td>\n",
       "    </tr>\n",
       "    <tr>\n",
       "      <th>Cancelled</th>\n",
       "      <td>7009728.0</td>\n",
       "      <td>0.019606</td>\n",
       "      <td>0.138643</td>\n",
       "      <td>0.0</td>\n",
       "      <td>0.0</td>\n",
       "      <td>0.0</td>\n",
       "      <td>0.0</td>\n",
       "      <td>1.0</td>\n",
       "    </tr>\n",
       "    <tr>\n",
       "      <th>CarrierDelay</th>\n",
       "      <td>1524735.0</td>\n",
       "      <td>NaN</td>\n",
       "      <td>NaN</td>\n",
       "      <td>0.0</td>\n",
       "      <td>0.0</td>\n",
       "      <td>0.0</td>\n",
       "      <td>16.0</td>\n",
       "      <td>2436.0</td>\n",
       "    </tr>\n",
       "    <tr>\n",
       "      <th>WeatherDelay</th>\n",
       "      <td>1524735.0</td>\n",
       "      <td>NaN</td>\n",
       "      <td>NaN</td>\n",
       "      <td>0.0</td>\n",
       "      <td>0.0</td>\n",
       "      <td>0.0</td>\n",
       "      <td>0.0</td>\n",
       "      <td>1352.0</td>\n",
       "    </tr>\n",
       "    <tr>\n",
       "      <th>NASDelay</th>\n",
       "      <td>1524735.0</td>\n",
       "      <td>NaN</td>\n",
       "      <td>NaN</td>\n",
       "      <td>0.0</td>\n",
       "      <td>0.0</td>\n",
       "      <td>6.0</td>\n",
       "      <td>21.0</td>\n",
       "      <td>1357.0</td>\n",
       "    </tr>\n",
       "    <tr>\n",
       "      <th>SecurityDelay</th>\n",
       "      <td>1524735.0</td>\n",
       "      <td>NaN</td>\n",
       "      <td>NaN</td>\n",
       "      <td>0.0</td>\n",
       "      <td>0.0</td>\n",
       "      <td>0.0</td>\n",
       "      <td>0.0</td>\n",
       "      <td>392.0</td>\n",
       "    </tr>\n",
       "    <tr>\n",
       "      <th>LateAircraftDelay</th>\n",
       "      <td>1524735.0</td>\n",
       "      <td>NaN</td>\n",
       "      <td>NaN</td>\n",
       "      <td>0.0</td>\n",
       "      <td>0.0</td>\n",
       "      <td>0.0</td>\n",
       "      <td>26.0</td>\n",
       "      <td>1316.0</td>\n",
       "    </tr>\n",
       "  </tbody>\n",
       "</table>\n",
       "</div>"
      ],
      "text/plain": [
       "                       count         mean          std     min     25%  \\\n",
       "Year               7009728.0  2008.000000     0.000000  2008.0  2008.0   \n",
       "Month              7009728.0     6.375130     3.406737     1.0     3.0   \n",
       "DayofMonth         7009728.0    15.728015     8.797068     1.0     8.0   \n",
       "DayOfWeek          7009728.0     3.924182     1.988259     1.0     2.0   \n",
       "DepTime            6873482.0          NaN          NaN     1.0   928.0   \n",
       "FlightNum          7009728.0  2224.200105  1961.715999     1.0   622.0   \n",
       "ArrDelay           6855029.0          NaN          NaN  -519.0   -10.0   \n",
       "DepDelay           6873482.0          NaN          NaN  -534.0    -4.0   \n",
       "Distance           7009728.0   726.387029   562.101803    11.0   325.0   \n",
       "Cancelled          7009728.0     0.019606     0.138643     0.0     0.0   \n",
       "CarrierDelay       1524735.0          NaN          NaN     0.0     0.0   \n",
       "WeatherDelay       1524735.0          NaN          NaN     0.0     0.0   \n",
       "NASDelay           1524735.0          NaN          NaN     0.0     0.0   \n",
       "SecurityDelay      1524735.0          NaN          NaN     0.0     0.0   \n",
       "LateAircraftDelay  1524735.0          NaN          NaN     0.0     0.0   \n",
       "\n",
       "                      50%     75%     max  \n",
       "Year               2008.0  2008.0  2008.0  \n",
       "Month                 6.0     9.0    12.0  \n",
       "DayofMonth           16.0    23.0    31.0  \n",
       "DayOfWeek             4.0     6.0     7.0  \n",
       "DepTime            1325.0  1728.0  2400.0  \n",
       "FlightNum          1571.0  3518.0  9743.0  \n",
       "ArrDelay             -2.0    12.0  2460.0  \n",
       "DepDelay             -1.0     8.0  2468.0  \n",
       "Distance            581.0   954.0  4962.0  \n",
       "Cancelled             0.0     0.0     1.0  \n",
       "CarrierDelay          0.0    16.0  2436.0  \n",
       "WeatherDelay          0.0     0.0  1352.0  \n",
       "NASDelay              6.0    21.0  1357.0  \n",
       "SecurityDelay         0.0     0.0   392.0  \n",
       "LateAircraftDelay     0.0    26.0  1316.0  "
      ]
     },
     "execution_count": 8,
     "metadata": {},
     "output_type": "execute_result"
    }
   ],
   "source": [
    "flights_df.describe().T"
   ]
  },
  {
   "cell_type": "markdown",
   "metadata": {},
   "source": [
    "**Count unique Carriers and plot their relative share of flights:**"
   ]
  },
  {
   "cell_type": "code",
<<<<<<< HEAD
   "execution_count": 8,
=======
   "execution_count": 9,
>>>>>>> b95a59a01fa2879014056c1bbf1585de10dacc6e
   "metadata": {},
   "outputs": [
    {
     "data": {
      "text/plain": [
       "20"
      ]
     },
<<<<<<< HEAD
     "execution_count": 8,
=======
     "execution_count": 9,
>>>>>>> b95a59a01fa2879014056c1bbf1585de10dacc6e
     "metadata": {},
     "output_type": "execute_result"
    }
   ],
   "source": [
    "flights_df['UniqueCarrier'].nunique()"
   ]
  },
  {
   "cell_type": "code",
<<<<<<< HEAD
   "execution_count": 12,
=======
   "execution_count": 10,
>>>>>>> b95a59a01fa2879014056c1bbf1585de10dacc6e
   "metadata": {},
   "outputs": [
    {
     "data": {
<<<<<<< HEAD
      "text/plain": [
       "<matplotlib.axes._subplots.AxesSubplot at 0x1bf8e12b400>"
      ]
     },
     "execution_count": 12,
     "metadata": {},
     "output_type": "execute_result"
    },
    {
     "data": {
      "image/png": "iVBORw0KGgoAAAANSUhEUgAAAZMAAAERCAYAAAC+ZEqyAAAABHNCSVQICAgIfAhkiAAAAAlwSFlz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\nQmCC\n",
=======
      "image/png": "iVBORw0KGgoAAAANSUhEUgAAAZMAAAERCAYAAAC+ZEqyAAAABHNCSVQICAgIfAhkiAAAAAlwSFlzAAALEgAACxIB0t1+/AAAADl0RVh0U29mdHdhcmUAbWF0cGxvdGxpYiB2ZXJzaW9uIDIuMi4zLCBodHRwOi8vbWF0cGxvdGxpYi5vcmcvIxREBQAAIABJREFUeJzt3XmYXEW9//H3x0QgyB4iKgEDGGRTBIdFcIHEC2GR4BUUXIgajXrBDXl+BPUniMtFUVEU8YmCBK8/FhElKhhiABFlG0CBEJCRdQQhEECuKBr8/v6oGuh0erpPd02mJ5nP63n6mdN1qurU6enub5+qOucoIjAzMyvxvG43wMzMVn0OJmZmVszBxMzMijmYmJlZMQcTMzMr5mBiZmbFHEzMzKyYg4mZmRVzMDEzs2Jju92A4bLxxhvHpEmTut0MM7NVyg033PBIRExolW/UBJNJkybR29vb7WaYma1SJN1bJZ+7uczMrJiDiZmZFXMwMTOzYg4mZmZWzMHEzMyKtQwmks6U9LCkW2vSTpZ0u6SbJf1E0gY1646T1CfpDkn71qRPy2l9kmbXpG8h6VpJd0o6T9IaOX3N/Lwvr5/UahtmZtYdVY5MzgKm1aUtAHaIiFcCfwSOA5C0HXAYsH0u821JYySNAU4D9gO2Aw7PeQG+BJwSEZOBx4CZOX0m8FhEvAw4JecbdBtt7reZmQ2hlsEkIq4EltalXRoRy/LTa4CJeXk6cG5EPB0RdwN9wK750RcRd0XEP4FzgemSBEwBLsjl5wIH19Q1Ny9fAEzN+QfbhpmZdclQnLT4XuC8vLwpKbgM6M9pAPfXpe8GjAcerwlMtfk3HSgTEcskPZHzN9uGmdmI1D/7N03XTzzpdcPUkpWjaABe0qeAZcAPB5IaZIsO0jupq1H7ZknqldS7ZMmSRlnMzGwIdBxMJM0ADgTeEREDX+b9wGY12SYCDzRJfwTYQNLYuvTl6srr1yd1tw1W1woiYk5E9EREz4QJLS8tY2ZmHeoomEiaBhwLHBQRT9WsmgcclmdibQFMBq4Drgcm55lba5AG0OflIHQ5cEguPwO4qKauGXn5EOCynH+wbZiZWZe0HDORdA6wF7CxpH7geNLsrTWBBWlMnGsi4oMRsUjS+cBtpO6vIyPimVzPUcB8YAxwZkQsyps4FjhX0ueBm4AzcvoZwA8k9ZGOSA4DaLYNMzPrDj3XQ7V66+npCV812My6ZVUdgJd0Q0T0tMrnM+DNzKyYg4mZmRVzMDEzs2IOJmZmVszBxMzMijmYmJlZMQcTMzMr5mBiZmbFHEzMzKyYg4mZmRVzMDEzs2IOJmZmVszBxMzMijmYmJlZMQcTMzMr5mBiZmbFHEzMzKyYg4mZmRVzMDEzs2IOJmZmVszBxMzMijmYmJlZMQcTMzMr5mBiZmbFHEzMzKyYg4mZmRVrGUwknSnpYUm31qRtJGmBpDvz3w1zuiSdKqlP0s2Sdq4pMyPnv1PSjJr0V0u6JZc5VZI63YaZmXVHlSOTs4BpdWmzgYURMRlYmJ8D7AdMzo9ZwOmQAgNwPLAbsCtw/EBwyHlm1ZSb1sk2zMyse1oGk4i4ElhalzwdmJuX5wIH16SfHck1wAaSXgzsCyyIiKUR8RiwAJiW160XEVdHRABn19XVzjbMzKxLOh0z2SQiHgTIf1+Y0zcF7q/J15/TmqX3N0jvZBsrkDRLUq+k3iVLlrS1g2ZmVt1QD8CrQVp0kN7JNlZMjJgTET0R0TNhwoQW1ZqZWac6DSYPDXQt5b8P5/R+YLOafBOBB1qkT2yQ3sk2zMysSzoNJvOAgRlZM4CLatKPyDOudgeeyF1U84F9JG2YB973AebndU9K2j3P4jqirq52tmFmZl0ytlUGSecAewEbS+onzco6CThf0kzgPuDQnP1iYH+gD3gKeA9ARCyV9Dng+pzvxIgYGNT/EGnG2Djgkvyg3W2YmVn3tAwmEXH4IKumNsgbwJGD1HMmcGaD9F5ghwbpj7a7DTMz6w6fAW9mZsUcTMzMrJiDiZmZFXMwMTOzYg4mZmZWzMHEzMyKOZiYmVkxBxMzMyvmYGJmZsUcTMzMrJiDiZmZFXMwMTOzYg4mZmZWzMHEzMyKOZiYmVkxBxMzMyvmYGJmZsUcTMzMrJiDiZmZFXMwMTOzYg4mZmZWzMHEzMyKOZiYmVkxBxMzMyvmYGJmZsWKgomkj0taJOlWSedIWkvSFpKulXSnpPMkrZHzrpmf9+X1k2rqOS6n3yFp35r0aTmtT9LsmvSG2zAzs+7oOJhI2hT4CNATETsAY4DDgC8Bp0TEZOAxYGYuMhN4LCJeBpyS8yFpu1xue2Aa8G1JYySNAU4D9gO2Aw7PeWmyDTMz64LSbq6xwDhJY4G1gQeBKcAFef1c4OC8PD0/J6+fKkk5/dyIeDoi7gb6gF3zoy8i7oqIfwLnAtNzmcG2YWZmXdBxMImIPwNfAe4jBZEngBuAxyNiWc7WD2yalzcF7s9ll+X842vT68oMlj6+yTbMzKwLSrq5NiQdVWwBvAR4AalLql4MFBlk3VClN2rjLEm9knqXLFnSKIuZmQ2Bkm6uNwJ3R8SSiPgXcCGwB7BB7vYCmAg8kJf7gc0A8vr1gaW16XVlBkt/pMk2lhMRcyKiJyJ6JkyYULCrZmbWTEkwuQ/YXdLaeRxjKnAbcDlwSM4zA7goL8/Lz8nrL4uIyOmH5dleWwCTgeuA64HJeebWGqRB+nm5zGDbMDOzLigZM7mWNAh+I3BLrmsOcCxwtKQ+0vjGGbnIGcD4nH40MDvXswg4nxSIfgkcGRHP5DGRo4D5wGLg/JyXJtswM7MuUPqhv/rr6emJ3t7ebjfDzEap/tm/abp+4kmvG6aWtEfSDRHR0yqfz4A3M7NiDiZmZlbMwcTMzIo5mJiZWTEHEzMzK+ZgYmZmxRxMzMysmIOJmZkVczAxM7NiDiZmZlbMwcTMzIo5mJiZWTEHEzMzK+ZgYmZmxRxMzMysmIOJmZkVczAxM7NiDiZmZlbMwcTMzIo5mJiZWTEHEzMzK+ZgYmZmxRxMzMysmIOJmZkVczAxM7NiDiZmZlasKJhI2kDSBZJul7RY0mskbSRpgaQ7898Nc15JOlVSn6SbJe1cU8+MnP9OSTNq0l8t6ZZc5lRJyukNt2FmZt1RemTyDeCXEbENsCOwGJgNLIyIycDC/BxgP2ByfswCTocUGIDjgd2AXYHja4LD6TnvQLlpOX2wbZiZWReM7bSgpPWA1wPvBoiIfwL/lDQd2CtnmwtcARwLTAfOjogArslHNS/OeRdExNJc7wJgmqQrgPUi4uqcfjZwMHBJrqvRNobXCeu3WP/E8LTDzKzLSo5MtgSWAN+XdJOk70l6AbBJRDwIkP++MOffFLi/pnx/TmuW3t8gnSbbWI6kWZJ6JfUuWbKk8z01M7OmSoLJWGBn4PSI2An4G827m9QgLTpIrywi5kRET0T0TJgwoZ2iZmbWhpJg0g/0R8S1+fkFpODyUO6+Iv99uCb/ZjXlJwIPtEif2CCdJtswM7Mu6DiYRMRfgPslvTwnTQVuA+YBAzOyZgAX5eV5wBF5VtfuwBO5i2o+sI+kDfPA+z7A/LzuSUm751lcR9TV1WgbZmbWBR0PwGcfBn4oaQ3gLuA9pAB1vqSZwH3AoTnvxcD+QB/wVM5LRCyV9Dng+pzvxIHBeOBDwFnAONLA+yU5/aRBtmFmZl1QFEwi4vdAT4NVUxvkDeDIQeo5EzizQXovsEOD9EcbbcPMzLqj9MjEzGylWrzNtk3Xb3v74mFqiTXjy6mYmVkxBxMzMyvmYGJmZsUcTMzMrJiDiZmZFXMwMTOzYg4mZmZWzMHEzMyKOZiYmVkxBxMzMyvmYGJmZsUcTMzMrJgv9Gi2mpo0+xdN199z0gHD1BIbDXxkYmZmxRxMzMysmIOJmZkVczAxM7NiDiZmZlbMs7nMzFr46tsObJnnE+f9fBhaMnI5mNiI0T/7N03XTzzpdcPUEludnPbBy1rmOfI7U4ahJas3d3OZmVkxBxMzMyvmYGJmZsUcTMzMrFhxMJE0RtJNkn6en28h6VpJd0o6T9IaOX3N/Lwvr59UU8dxOf0OSfvWpE/LaX2SZtekN9yGmZl1x1AcmXwUWFzz/EvAKRExGXgMmJnTZwKPRcTLgFNyPiRtBxwGbA9MA76dA9QY4DRgP2A74PCct9k2zMysC4qCiaSJwAHA9/JzAVOAC3KWucDBeXl6fk5ePzXnnw6cGxFPR8TdQB+wa370RcRdEfFP4FxgeottmJlZF5QemXwd+D/Av/Pz8cDjEbEsP+8HNs3LmwL3A+T1T+T8z6bXlRksvdk2liNplqReSb1LlizpdB/NzKyFjoOJpAOBhyPihtrkBlmjxbqhSl8xMWJORPRERM+ECRMaZTEzsyFQcgb8nsBBkvYH1gLWIx2pbCBpbD5ymAg8kPP3A5sB/ZLGAusDS2vSB9SWaZT+SJNtmJlZF3R8ZBIRx0XExIiYRBpAvywi3gFcDhySs80ALsrL8/Jz8vrLIiJy+mF5ttcWwGTgOuB6YHKeubVG3sa8XGawbZiZWResjPNMjgWOltRHGt84I6efAYzP6UcDswEiYhFwPnAb8EvgyIh4Jh91HAXMJ80WOz/nbbYNMzPrgiG50GNEXAFckZfvIs3Eqs/zD+DQQcp/AfhCg/SLgYsbpDfchpnZ6uyEE04oWr8y+Qx4MzMr5mBiZmbFHEzMzKyYg4mZmRXznRbNrLET1q+Q54mV3w5bJfjIxMzMijmYmJlZMQcTMzMr5mBiZmbFHEzMzKyYg4mZmRVzMDEzs2I+z8SGxFffdmDT9Z847+fD1BIz6wYfmZiZWTEHEzMzK+ZuLlutjOT7PZitznxkYmZmxRxMzMys2Kjt5po0+xct89xz0gHD0BJb3bzo8t83Xf+XvV81TC0xGz6jNpiYmY02Cy/bqmWeqVP+1FHd7uYyM7NiDiZmZlbMwcTMzIo5mJiZWTEHEzMzK+ZgYmZmxToOJpI2k3S5pMWSFkn6aE7fSNICSXfmvxvmdEk6VVKfpJsl7VxT14yc/05JM2rSXy3pllzmVElqtg0zM+uOkiOTZcAnImJbYHfgSEnbAbOBhRExGViYnwPsB0zOj1nA6ZACA3A8sBuwK3B8TXA4PecdKDctpw+2DTMz64KOg0lEPBgRN+blJ4HFwKbAdGBuzjYXODgvTwfOjuQaYANJLwb2BRZExNKIeAxYAEzL69aLiKsjIoCz6+pqtA0zM+uCITkDXtIkYCfgWmCTiHgQUsCR9MKcbVPg/ppi/TmtWXp/g3SabKO+XbNIRzZsvvnmHe6dmXXqFXNf0XT9LTNuGaaW2MpWHEwkrQP8GPhYRPw1D2s0zNogLTpIrywi5gBzAHp6etoqO5qc9sHLWuY58jtThqElZraqKprNJen5pEDyw4i4MCc/lLuoyH8fzun9wGY1xScCD7RIn9ggvdk2zMysC0pmcwk4A1gcEV+rWTUPGJiRNQO4qCb9iDyra3fgidxVNR/YR9KGeeB9H2B+XvekpN3zto6oq6vRNszMrAtKurn2BN4F3CJp4JrbnwROAs6XNBO4Dzg0r7sY2B/oA54C3gMQEUslfQ64Puc7MSKW5uUPAWcB44BL8oMm2zAzsy7oOJhExFU0HtcAmNogfwBHDlLXmcCZDdJ7gR0apD/aaBtmZtYdPgPezMyKOZiYmVkx32lxNbB4m22brt/29sXD1BIzG618ZGJmZsUcTMzMrJiDiZmZFXMwMTOzYg4mZmZWzMHEzMyKOZiYmVkxBxMzMyvmYGJmZsV8BrxZjYWXbdUyz9QpfxqGlpitWnxkYmZmxRxMzMysmIOJmZkVczAxM7NiDiZmZlbMs7nMRqBJs3/RdP09Jx0wTC0xq8ZHJmZmVszBxMzMijmYmJlZMQcTMzMr5mBiZmbFHEzMzKzYKh1MJE2TdIekPkmzu90eM7PRapUNJpLGAKcB+wHbAYdL2q67rTIzG51W5ZMWdwX6IuIuAEnnAtOB27raqja9Yu4rmq6/ZcYtw9QSM7POKSK63YaOSDoEmBYR78vP3wXsFhFH1eSZBczKT18O3NGi2o2BRwqaVVp+dapjJLRhKOoYCW0YKXWMhDaMlDpGQhuGq46XRsSEVpWsykcmapC2XGSMiDnAnMoVSr0R0dNxgwrLr051jIQ2DEUdI6ENI6WOkdCGkVLHSGjDSKoDVuExE6Af2Kzm+UTggS61xcxsVFuVg8n1wGRJW0haAzgMmNflNpmZjUqrbDdXRCyTdBQwHxgDnBkRiwqrrdwltpLKr051jIQ2DEUdI6ENI6WOkdCGkVLHSGjDSKpj1R2ANzOzkWNV7uYyM7MRwsHEzMyKOZiYmVkxBxMb8STt1u02DIXVZT9WJ5Ke3+02DBdJ35K0x0qr3wPwy5M0NiKWdVh2M+CwiDi5zXLrAUTEX9ss91Lg8Yh4Ij/fGzgYuBf4VkT8s2I9mwMPR8Q/JAl4N7Az6dI0323n9ZC0TtqV+Fs7+9KizvsiYvMK+W4DfgicGxF/KtheD+kcpmXAnRFxe6d11dVbaT9a1LFJRDw0FO1Z2ST9Z7P1EXHhcLWlVn6P7w28HXhTRGzSQR0bkj57w/IFKumdEfE/eXnPiPhtzbqjIuJbFer4KOkUihcD5wHnRMTvh6qNo/LIRNJVNcs/qFt9XZt1bSzpQ5KuBK4AKr8xJX1M0p+Bu4F7Jf1R0mF53WbNSwNwPvCCnP9VwI+A+4AdgW+3sRsX89x74STgAOBaYBcqThuU9F+S7iMFsvsl3Svpv9poQ9PqK+Y7HFgHuFTStfn1fUnljUhvkNRLeg3OBD4AnCHpior/j5ab6KiQtL6k90r6FXBjG+V2kvRDSTfmxxxJk/O6pqcFSHpU0i8kfUrSXpLW7qDpb6p5zKl7fmDFfdhP0pWSHpG0RNKvJe3fQVuQtJukb5Deo/OA3wDbVCj3GUnb5OU1JV0O/Al4SNIbK5Q/otmjYvOPrln+Zt2691apICK+ERGvAd4ALAW+L2lx3r+tK7aj6QZG3QO4qWb5xsHWNSm/LnAE8EvgLuCrQH+bbTiB9CW+ZU3alsDPgGNJF7FsVcfNNctfAb6cl59Xu65CPbfVLN8APK/m+R8qlP90k3359BD8v+7roMzuwCmk4HoZ8P4q7wtgQl7eAvhJXv4P4NLh3A9gHPA24CLgfuBxYK/a/02L8m8B+khfNK8k/cB4D/B74DXAwhbl1wP2ye/TS4FHSScKfwN4awf73vJz1aDM+4FeYEpuz3p5+TpgVhv1fAG4E1gIvA8YD9zdRvlFPNeLMwu4nHRu27bAdRXKf7PB41ukoLas3dev/rXs5LWtKbtTft8/U/z+Lq1gVXxQE0BYMZjcWKH834FfA6+reZPd1WYb7gTWapA+Dvhf4KAKddxS225g30brKtQzH5iSl39MurAb+UNXJZjc0WRf/lixDT8j/Vqsf/wM+FvB/3qv/GF5ukLe2uA8pu59smi49oPUVXc/cAYpkI1p58tvYF+ASQ3SJwH/AL7YZn0vAI4iBai2v3iqfK4alLkN2KhB+nhgcRv1LAGuAg4ZeJ+283mt+yL/MfCBTveLdHT6TuAWUlfTK9t9/Tr5zqrL/3zS0eEPgb/kdhzc7v+n/rHKngFfaANJbyb9gt+gpm9XwPoVyn+S1Pd4OvD/JJ3XQRv+HRH/qE+MiL9L+nNEVLk0zGWSzgceBDYk/QJH0otJXxhVvQ84W9IJwBPA7yXdlOs8ulnBmnYPti//rtiGr3S4bgWSdiF1eb0FuIfUxfKjCkV7JZ1B+gU7ndRtSe7iGVNx80OxHzsAjwGLgdsj4hlJ7fbNj42Ie+oTI+IeSfdGxCebFc7dg3vkxy45+QbSUejVbbalU4qIpfWJEfFoGvao7EWko6zDga/nbqpxbYyPPi1pB+Ah0ljLMTXrKnX/5W7FdwOfIHUhHxIRra5iXmsbSTeTvqO2ysvk51tWbMN/kF6DA3MbziUd4Q3J+OZoDSa/Bg4iXWX41zzXfyvgylaFI+IU4BRJW5L+OT8FXiLpWFLXyB8rtKFf0tSIWFibKGkK8OeK+/ExUlfIi4HXRsS/cvpkYKOKdRAR9wN7S9oW2Bo4i3QhzesjokowGGxfppICXZU2/Lqm3ISctqTaHjxb7ouk1+Mx0gdlz4job6OKD5C6VvYAfkUaN4H0Ptm3Yh13R8R9bWxzBRGxY+6jfzvwK0kPA+tKelFE/KViNf+StHl9W/KkjacrlO8nHe2eAsyOipM56rb1M9JrJ2BLScv9QIqIg1pU8VdJO0bEH+rq3RF4smo7IuIZ4BLgEklrkT7vawN/lrQwIt7eooqPAhcAE4CvRcTduR37k456m5J0ZK5jIem2GfdWbXuNaaRusUaqTuqYB3wEOKZRkC41amdzSXoZ8GbS1YafAf5Imt3wRIf1vRL4OqmLaKsK+bcn9YdfRfrFF6RfgHuSurjauslXHoB/O/BW0oD+hRFRP1DXTn0bA49GhTdIi32ZHhWvmSbpeODDpC+f55FmU30zIk5so/w5FYN5o/IrfPl2UMeNEbFzXv5xRLylpL5cTw/pf3sIaWyu5fROSQcDXwa+yPL/k9nAsRHx0xblX0MaW9mDNH50D+mI5GqgNyJaBiRJb8iL40g/cP5NGrj+Oyz/A2KQ8q8ldcV8v24fZgDvjIirmhSvraf+6DpI9+/4A7BTRMytUH7gUChqyl81EFhalP838DCpu6328yTSzMdXVqjjLuA7pGC2LKdtQhqvfXlE7NKsfM7/VuDzpB+LJ9f8+BwSo3U210dIs53WJL051yJNBb1a0l5t1vUqSV8iRf3nkQJKS/kLdgfSkdAk0gf2StKh8JEVt711nomxmDSgdz/pB8Le7QQSSbvnGUsX5hlAtwK3kmarTKtQxdO53QP7smVefi8Vu9skfRx4LbBLRIyPiA2B3YA987oq/j4QSCQdWlf/FyuUf/YLVtKPK26zXm3/S6Xuh1YiojcijgZeChxXscxPgUNJA9ZnAWfn5be2CiS5/NUR8bWIOCQiXk3qnnkamEvqCq3id6SZgf9DGvx/H/AD0pHB7yq04SrSHVXXJgWQ95DGbnavGkiydese6wE9pNmQVY641iXNElynrvwlyrMvW/gEaYzizaw4o+1NFffh1cBWwE2SpihN872OFNwrnb8UEecDryJ15fdKOkbS0QOPiu1ouoFR9yANfo3Jy2sDV+Tlzak2m2tr4DOkPu2rSL+m7y1oz06kX5H3kGaKHFWx3L9J3XQvq0lrayJALtNL6lM+lNRFtHtO36bi6/FzGgwkkj5wP6vYhpuAjRukT6jShpy3dGLFoDNm2ngtB21DG3V8Ezh1sEen77MO2rEN6QfB9/J7/S/AT0jdJFXKnwJ8F1i3Jm090hjW1yuUH5s/F4+QutxuystfBp4/BPu3Uaf/o3bKk8bKfkeajnsF6WjxABpMLqhQ10fz574fmNhB+TXyd9ftwGeB4wcepa/naB0zgfRGfYZ0dLIuQETcp2pnxN5OmqP+pojog2d/WVeW53UfRhpzeZQ0o0IRsXcb1bwl13G5pF+Sxgk6OZdhbERcmtt1YkRcAxARt1cc6JwUETfXJ0ZEr6RJFdvw/IhY4dahEbGk4v8Elt/3+oZX2ZEYZLkdO0r6a97euLw8sP2IiPUq1NFbszzwgW9L/fhEvWgxXiHpEdJ41+9I7/WTBt7rbTgQ2Dryt1je7l8lfYj0GfpYi/Inkz6bW0TEk7ld65G+nL9C+mLtWEQsVZsj+Z2Uj4hjAJTuu9RD6jp8L/BdSY9HxHat6pC0AfAl0lHINGB/0pHRRyPisirtzb0MXyP1ouwcEU9VKVfVaA0m3wOul3QN8HrSP2lg4LfKwNRQfIkXB6SI+AnwE0kvIJ35/nFgE0mnkyYCXFqxqtpB9r/Xb6ZC+bWarBtXsQ3NuhuqDv42CwZV9qM4EERE1Vlfzep4tg9f0seiRZ/+IF5D6vY8hzRzp93351bR4fhhjagNJDWJVWentQpGRcEkT3Z5bBjLjyMdma2fHw+QekmquJHUNX9kpDGTS/M46bfz7LzDK9TxKeDQKL/vU0OjeQB+e9JJR7dGh5fLqPkSP5zUHz2Xil/iSlOTDyP9ShkISN+LiC06aUtNvRuRuqveFhFTKpZ5Bvgb+UsUGPjFItK8/KZHBpLOAS6LiO/Wpc8E9omIt7XRhhVWVWnDUOzHSFQ7oN9muTGkc1QOJ520+AvS5ISqkyE+02R1RMTnKtTxU9JEkLPr0t9JGrtpdXT0x4hoeGZ2s3UN8t7Cij8mNiJ9mR/R6vM/BOXnANuTZqBdC1wDXBMRlQORpIkxyMxESe+v/+x1w6gNJkOtky/xXK7jgDRS5FklPyEdQdyQk3tI/bNvjurTWa1Op8Gkro41Se+vk4ETo8LkDEmfaJC8NvkM8ohYp0IdmwIXko52a2djjSO9L5pOgS8NRjX5X1qXFKSZipXOrxiC8r8ENiZNavkdadD81kZHbasyB5MRpNOANFIoXWhyh/x0UdW+XFuepCd57pfw2ix/hFV13GUgiBxACiSTSH3lZ7b6Em9Qz7qkLqWZpBlQX42Ih9soP4X0y1yk98XCFkUGyhUFo5Ekj61sz3Mngu5A6lK/OiLaHhMbiRxMzFZDkuaSvrAuIV1F+dYO6tiIdAWEd5COmL/RTtfMUOk0GI1EkiaSzr/agzQmND4iNuhuq4aGg4nZaiifKDfQDdPoRLmmRzeSTgb+kzSN97SI+N+V0tBRIJ/XtgcpiPwL+C2pq+u3pGvoVb3k0IjmYGJmK8jB6GnSVQjaDkb2HElfI42V/DYiKl1eaFXkYGJmZsVG5eVUzMxsaDmYmJlZMQcTG9UkTcoXtqxNO0HSMU3K9Eg6dSW15whJt0paJOm2Zu2oWN9Ka6tZrdF6ORWzjkVEL8tfP2tISNqPdL2qfSLiAaV7b7yrjfLL3ewpP2+rrfV1mFXlYGI2CElXkC5/sTewATAzIn6jdJuCYyLiQEnjSde/mkC6JPg00uXC1wF+HhE75LqOAdaJiBMkbQWclss8Rbo//e2ky8sfExEPwLMg9e6GAAACSUlEQVR3r/xuLv9+0v3H1yDdOvddEfGUpLNIJ7/tBNyYT3h8CekkxUfypTwG2voC0hWJX0H67J8QERdJejfp5Ma1SJd4X+VOmLXuczeXWXNjI2JX0hFDozOVjyfdJGkn0hnmVe56Nwf4cKT7hBxDuoAfpJMMbxikzIURsUtE7Ei6HPzMmnVbA2+MiIFLoLyadFOy+jsIfop0DbVdSAHy5BxgIF0YcsaqeOUFGxl8ZGKj3WBz4wfSL8x/byD92q/3etLJfUTELyQ1PUNc0jqkE9h+VHP18jUrtHMHSZ8nHSGtA8yvWfejSLemHTAvIuqv/gzpnjUH1YzDrMVzwW9BrIRbudro4WBio92jwIZ1aRuRbn0Mz90v/RkG/7w0CkjLWP7If+Ay/c8DHo+IVzUos4h0VNHommZnAQdHxB9yt9ReNevqLzg42AUIBbwlIu5YLlHarUkZs0rczWWjWr5MyIOSpsKz16OaRrqDZhVXkq5dNTCAPhCYHgJeKGl8vuDigXl7fwXuVr6tsJIdc5n/Br4s6UV53Zr5UhyQbhL1oNKNwt7R4e7OBz48cEMnSTt1WI/ZChxMzOAI4NOSfk86KvhsRPypYtnPAq+XdCOpG+k+gIj4F3AiaQD/56SbOQ14BzBT0h9IRyPTc5mLSQPzv5K0iNS1NnA09H9zXQvq6mrH54DnAzfn6dAt70liVpUvp2I2hCTdA/REg1sQm63OfGRiZmbFfGRiZmbFfGRiZmbFHEzMzKyYg4mZmRVzMDEzs2IOJmZmVuz/A3BAlIU1yS21AAAAAElFTkSuQmCC\n",
>>>>>>> b95a59a01fa2879014056c1bbf1585de10dacc6e
      "text/plain": [
       "<Figure size 432x288 with 1 Axes>"
      ]
     },
<<<<<<< HEAD
     "metadata": {},
=======
     "metadata": {
      "needs_background": "light"
     },
>>>>>>> b95a59a01fa2879014056c1bbf1585de10dacc6e
     "output_type": "display_data"
    }
   ],
   "source": [
<<<<<<< HEAD
    "%matplotlib inline\n",
    "flights_df.groupby('UniqueCarrier').size().plot(kind='bar')"
=======
    "flights_df.groupby('UniqueCarrier').size().plot(kind='bar');"
>>>>>>> b95a59a01fa2879014056c1bbf1585de10dacc6e
   ]
  },
  {
   "cell_type": "markdown",
   "metadata": {},
   "source": [
    "**We can also _group by_ category/categories in order to calculate different aggregated statistics.**\n",
    "\n",
    "**For example, finding top-3 flight codes, that have the largest total distance travelled in year 2008.**"
   ]
  },
  {
   "cell_type": "code",
<<<<<<< HEAD
   "execution_count": 13,
=======
   "execution_count": 11,
>>>>>>> b95a59a01fa2879014056c1bbf1585de10dacc6e
   "metadata": {},
   "outputs": [
    {
     "data": {
      "text/plain": [
       "UniqueCarrier  FlightNum\n",
       "CO             15           1796244.0\n",
       "               14           1796244.0\n",
       "UA             52           1789722.0\n",
       "Name: Distance, dtype: float64"
      ]
     },
<<<<<<< HEAD
     "execution_count": 13,
=======
     "execution_count": 11,
>>>>>>> b95a59a01fa2879014056c1bbf1585de10dacc6e
     "metadata": {},
     "output_type": "execute_result"
    }
   ],
   "source": [
    "flights_df.groupby(['UniqueCarrier','FlightNum'])['Distance'].sum().sort_values(ascending=False).iloc[:3]"
   ]
  },
  {
   "cell_type": "markdown",
   "metadata": {},
   "source": [
    "**Another way:**"
   ]
  },
  {
   "cell_type": "code",
<<<<<<< HEAD
   "execution_count": 14,
=======
   "execution_count": 12,
>>>>>>> b95a59a01fa2879014056c1bbf1585de10dacc6e
   "metadata": {},
   "outputs": [
    {
     "data": {
      "text/html": [
       "<div>\n",
       "<style scoped>\n",
       "    .dataframe tbody tr th:only-of-type {\n",
       "        vertical-align: middle;\n",
       "    }\n",
       "\n",
       "    .dataframe tbody tr th {\n",
       "        vertical-align: top;\n",
       "    }\n",
       "\n",
       "    .dataframe thead tr th {\n",
       "        text-align: left;\n",
       "    }\n",
       "\n",
       "    .dataframe thead tr:last-of-type th {\n",
       "        text-align: right;\n",
       "    }\n",
       "</style>\n",
       "<table border=\"1\" class=\"dataframe\">\n",
       "  <thead>\n",
       "    <tr>\n",
       "      <th></th>\n",
       "      <th></th>\n",
       "      <th colspan=\"3\" halign=\"left\">Distance</th>\n",
       "      <th>Cancelled</th>\n",
       "    </tr>\n",
       "    <tr>\n",
       "      <th></th>\n",
       "      <th></th>\n",
       "      <th>mean</th>\n",
       "      <th>sum</th>\n",
       "      <th>count</th>\n",
       "      <th>sum</th>\n",
       "    </tr>\n",
       "    <tr>\n",
       "      <th>UniqueCarrier</th>\n",
       "      <th>FlightNum</th>\n",
       "      <th></th>\n",
       "      <th></th>\n",
       "      <th></th>\n",
       "      <th></th>\n",
       "    </tr>\n",
       "  </thead>\n",
       "  <tbody>\n",
       "    <tr>\n",
       "      <th rowspan=\"2\" valign=\"top\">CO</th>\n",
       "      <th>15</th>\n",
       "      <td>4962.000000</td>\n",
       "      <td>1796244.0</td>\n",
       "      <td>362</td>\n",
       "      <td>0</td>\n",
       "    </tr>\n",
       "    <tr>\n",
       "      <th>14</th>\n",
       "      <td>4962.000000</td>\n",
       "      <td>1796244.0</td>\n",
       "      <td>362</td>\n",
       "      <td>0</td>\n",
       "    </tr>\n",
       "    <tr>\n",
       "      <th>UA</th>\n",
       "      <th>52</th>\n",
       "      <td>2465.181818</td>\n",
       "      <td>1789722.0</td>\n",
       "      <td>726</td>\n",
       "      <td>8</td>\n",
       "    </tr>\n",
       "  </tbody>\n",
       "</table>\n",
       "</div>"
      ],
      "text/plain": [
       "                            Distance                  Cancelled\n",
       "                                mean        sum count       sum\n",
       "UniqueCarrier FlightNum                                        \n",
       "CO            15         4962.000000  1796244.0   362         0\n",
       "              14         4962.000000  1796244.0   362         0\n",
       "UA            52         2465.181818  1789722.0   726         8"
      ]
     },
<<<<<<< HEAD
     "execution_count": 14,
=======
     "execution_count": 12,
>>>>>>> b95a59a01fa2879014056c1bbf1585de10dacc6e
     "metadata": {},
     "output_type": "execute_result"
    }
   ],
   "source": [
    "flights_df.groupby(['UniqueCarrier','FlightNum'])\\\n",
    "  .agg({'Distance': [np.mean, np.sum, 'count'],\n",
    "        'Cancelled': np.sum})\\\n",
    "  .sort_values(('Distance', 'sum'), ascending=False)\\\n",
    "  .iloc[0:3]"
   ]
  },
  {
   "cell_type": "markdown",
   "metadata": {},
   "source": [
    "**Number of flights by days of week and months:**"
   ]
  },
  {
   "cell_type": "code",
<<<<<<< HEAD
   "execution_count": 15,
=======
   "execution_count": 13,
>>>>>>> b95a59a01fa2879014056c1bbf1585de10dacc6e
   "metadata": {},
   "outputs": [
    {
     "data": {
      "text/html": [
       "<div>\n",
       "<style scoped>\n",
       "    .dataframe tbody tr th:only-of-type {\n",
       "        vertical-align: middle;\n",
       "    }\n",
       "\n",
       "    .dataframe tbody tr th {\n",
       "        vertical-align: top;\n",
       "    }\n",
       "\n",
       "    .dataframe thead th {\n",
       "        text-align: right;\n",
       "    }\n",
       "</style>\n",
       "<table border=\"1\" class=\"dataframe\">\n",
       "  <thead>\n",
       "    <tr style=\"text-align: right;\">\n",
       "      <th>DayOfWeek</th>\n",
       "      <th>1</th>\n",
       "      <th>2</th>\n",
       "      <th>3</th>\n",
       "      <th>4</th>\n",
       "      <th>5</th>\n",
       "      <th>6</th>\n",
       "      <th>7</th>\n",
       "    </tr>\n",
       "    <tr>\n",
       "      <th>Month</th>\n",
       "      <th></th>\n",
       "      <th></th>\n",
       "      <th></th>\n",
       "      <th></th>\n",
       "      <th></th>\n",
       "      <th></th>\n",
       "      <th></th>\n",
       "    </tr>\n",
       "  </thead>\n",
       "  <tbody>\n",
       "    <tr>\n",
       "      <th>1</th>\n",
       "      <td>80807</td>\n",
       "      <td>97298</td>\n",
       "      <td>100080</td>\n",
       "      <td>102043</td>\n",
       "      <td>81940</td>\n",
       "      <td>67178</td>\n",
       "      <td>76419</td>\n",
       "    </tr>\n",
       "    <tr>\n",
       "      <th>2</th>\n",
       "      <td>81504</td>\n",
       "      <td>79700</td>\n",
       "      <td>80587</td>\n",
       "      <td>82158</td>\n",
       "      <td>102726</td>\n",
       "      <td>66462</td>\n",
       "      <td>76099</td>\n",
       "    </tr>\n",
       "    <tr>\n",
       "      <th>3</th>\n",
       "      <td>103210</td>\n",
       "      <td>81159</td>\n",
       "      <td>82307</td>\n",
       "      <td>82831</td>\n",
       "      <td>82936</td>\n",
       "      <td>86153</td>\n",
       "      <td>97494</td>\n",
       "    </tr>\n",
       "    <tr>\n",
       "      <th>4</th>\n",
       "      <td>82463</td>\n",
       "      <td>100785</td>\n",
       "      <td>102586</td>\n",
       "      <td>82799</td>\n",
       "      <td>82964</td>\n",
       "      <td>68304</td>\n",
       "      <td>78225</td>\n",
       "    </tr>\n",
       "    <tr>\n",
       "      <th>5</th>\n",
       "      <td>80626</td>\n",
       "      <td>79884</td>\n",
       "      <td>81264</td>\n",
       "      <td>102572</td>\n",
       "      <td>102878</td>\n",
       "      <td>84493</td>\n",
       "      <td>74576</td>\n",
       "    </tr>\n",
       "    <tr>\n",
       "      <th>6</th>\n",
       "      <td>104168</td>\n",
       "      <td>82160</td>\n",
       "      <td>82902</td>\n",
       "      <td>83617</td>\n",
       "      <td>83930</td>\n",
       "      <td>72322</td>\n",
       "      <td>99566</td>\n",
       "    </tr>\n",
       "    <tr>\n",
       "      <th>7</th>\n",
       "      <td>84095</td>\n",
       "      <td>103429</td>\n",
       "      <td>103315</td>\n",
       "      <td>105035</td>\n",
       "      <td>79349</td>\n",
       "      <td>72219</td>\n",
       "      <td>80489</td>\n",
       "    </tr>\n",
       "    <tr>\n",
       "      <th>8</th>\n",
       "      <td>82983</td>\n",
       "      <td>80895</td>\n",
       "      <td>81773</td>\n",
       "      <td>82625</td>\n",
       "      <td>103878</td>\n",
       "      <td>86155</td>\n",
       "      <td>93970</td>\n",
       "    </tr>\n",
       "    <tr>\n",
       "      <th>9</th>\n",
       "      <td>94300</td>\n",
       "      <td>91533</td>\n",
       "      <td>74057</td>\n",
       "      <td>75589</td>\n",
       "      <td>75881</td>\n",
       "      <td>58343</td>\n",
       "      <td>71205</td>\n",
       "    </tr>\n",
       "    <tr>\n",
       "      <th>10</th>\n",
       "      <td>75131</td>\n",
       "      <td>72195</td>\n",
       "      <td>91900</td>\n",
       "      <td>94123</td>\n",
       "      <td>93894</td>\n",
       "      <td>58168</td>\n",
       "      <td>70794</td>\n",
       "    </tr>\n",
       "    <tr>\n",
       "      <th>11</th>\n",
       "      <td>74214</td>\n",
       "      <td>72443</td>\n",
       "      <td>73653</td>\n",
       "      <td>68071</td>\n",
       "      <td>70484</td>\n",
       "      <td>76031</td>\n",
       "      <td>88376</td>\n",
       "    </tr>\n",
       "    <tr>\n",
       "      <th>12</th>\n",
       "      <td>92700</td>\n",
       "      <td>90568</td>\n",
       "      <td>85241</td>\n",
       "      <td>70761</td>\n",
       "      <td>74306</td>\n",
       "      <td>61708</td>\n",
       "      <td>69674</td>\n",
       "    </tr>\n",
       "  </tbody>\n",
       "</table>\n",
       "</div>"
      ],
      "text/plain": [
       "DayOfWeek       1       2       3       4       5      6      7\n",
       "Month                                                          \n",
       "1           80807   97298  100080  102043   81940  67178  76419\n",
       "2           81504   79700   80587   82158  102726  66462  76099\n",
       "3          103210   81159   82307   82831   82936  86153  97494\n",
       "4           82463  100785  102586   82799   82964  68304  78225\n",
       "5           80626   79884   81264  102572  102878  84493  74576\n",
       "6          104168   82160   82902   83617   83930  72322  99566\n",
       "7           84095  103429  103315  105035   79349  72219  80489\n",
       "8           82983   80895   81773   82625  103878  86155  93970\n",
       "9           94300   91533   74057   75589   75881  58343  71205\n",
       "10          75131   72195   91900   94123   93894  58168  70794\n",
       "11          74214   72443   73653   68071   70484  76031  88376\n",
       "12          92700   90568   85241   70761   74306  61708  69674"
      ]
     },
<<<<<<< HEAD
     "execution_count": 15,
=======
     "execution_count": 13,
>>>>>>> b95a59a01fa2879014056c1bbf1585de10dacc6e
     "metadata": {},
     "output_type": "execute_result"
    }
   ],
   "source": [
    "pd.crosstab(flights_df.Month, flights_df.DayOfWeek)"
   ]
  },
  {
   "cell_type": "markdown",
   "metadata": {},
   "source": [
    "**It can also be handy to color such tables in order to easily notice outliers:**"
   ]
  },
  {
   "cell_type": "code",
<<<<<<< HEAD
   "execution_count": 16,
=======
   "execution_count": 14,
>>>>>>> b95a59a01fa2879014056c1bbf1585de10dacc6e
   "metadata": {},
   "outputs": [
    {
     "data": {
<<<<<<< HEAD
      "image/png": "iVBORw0KGgoAAAANSUhEUgAAAKQAAAD8CAYAAAD5aA/bAAAABHNCSVQICAgIfAhkiAAAAAlwSFlz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\nQmCC\n",
=======
      "image/png": "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\n",
>>>>>>> b95a59a01fa2879014056c1bbf1585de10dacc6e
      "text/plain": [
       "<Figure size 432x288 with 1 Axes>"
      ]
     },
<<<<<<< HEAD
     "metadata": {},
=======
     "metadata": {
      "needs_background": "light"
     },
>>>>>>> b95a59a01fa2879014056c1bbf1585de10dacc6e
     "output_type": "display_data"
    }
   ],
   "source": [
    "plt.imshow(pd.crosstab(flights_df.Month, flights_df.DayOfWeek),\n",
    "           cmap='seismic', interpolation='none');"
   ]
  },
  {
   "cell_type": "markdown",
   "metadata": {},
   "source": [
    "**Flight distance histogram:**"
   ]
  },
  {
   "cell_type": "code",
<<<<<<< HEAD
   "execution_count": 17,
=======
   "execution_count": 15,
>>>>>>> b95a59a01fa2879014056c1bbf1585de10dacc6e
   "metadata": {
    "scrolled": true
   },
   "outputs": [
    {
     "data": {
<<<<<<< HEAD
      "image/png": "iVBORw0KGgoAAAANSUhEUgAAAZMAAAEICAYAAACavRnhAAAABHNCSVQICAgIfAhkiAAAAAlwSFlz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\n",
=======
      "image/png": "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\n",
>>>>>>> b95a59a01fa2879014056c1bbf1585de10dacc6e
      "text/plain": [
       "<Figure size 432x288 with 1 Axes>"
      ]
     },
<<<<<<< HEAD
     "metadata": {},
=======
     "metadata": {
      "needs_background": "light"
     },
>>>>>>> b95a59a01fa2879014056c1bbf1585de10dacc6e
     "output_type": "display_data"
    }
   ],
   "source": [
    "flights_df.hist('Distance', bins=20);"
   ]
  },
  {
   "cell_type": "markdown",
   "metadata": {},
   "source": [
    "**Making a histogram of flight frequency by date.**"
   ]
  },
  {
   "cell_type": "code",
<<<<<<< HEAD
   "execution_count": 18,
   "metadata": {
    "collapsed": true
   },
=======
   "execution_count": 16,
   "metadata": {},
>>>>>>> b95a59a01fa2879014056c1bbf1585de10dacc6e
   "outputs": [],
   "source": [
    "flights_df['Date'] = pd.to_datetime(flights_df.rename(columns={'DayofMonth': 'Day'})[['Year', 'Month', 'Day']])"
   ]
  },
  {
   "cell_type": "code",
<<<<<<< HEAD
   "execution_count": 19,
   "metadata": {
    "collapsed": true
   },
=======
   "execution_count": 17,
   "metadata": {},
>>>>>>> b95a59a01fa2879014056c1bbf1585de10dacc6e
   "outputs": [],
   "source": [
    "num_flights_by_date = flights_df.groupby('Date').size()"
   ]
  },
  {
   "cell_type": "code",
<<<<<<< HEAD
   "execution_count": 20,
=======
   "execution_count": 18,
>>>>>>> b95a59a01fa2879014056c1bbf1585de10dacc6e
   "metadata": {
    "scrolled": true
   },
   "outputs": [
    {
     "data": {
<<<<<<< HEAD
      "image/png": "iVBORw0KGgoAAAANSUhEUgAAAYcAAAEVCAYAAAALsCk2AAAABHNCSVQICAgIfAhkiAAAAAlwSFlz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\n",
=======
      "image/png": "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\n",
>>>>>>> b95a59a01fa2879014056c1bbf1585de10dacc6e
      "text/plain": [
       "<Figure size 432x288 with 1 Axes>"
      ]
     },
<<<<<<< HEAD
     "metadata": {},
=======
     "metadata": {
      "needs_background": "light"
     },
>>>>>>> b95a59a01fa2879014056c1bbf1585de10dacc6e
     "output_type": "display_data"
    }
   ],
   "source": [
    "num_flights_by_date.plot();"
   ]
  },
  {
   "cell_type": "markdown",
   "metadata": {},
   "source": [
    "**Do you see a weekly pattern above? And below?**"
   ]
  },
  {
   "cell_type": "code",
<<<<<<< HEAD
   "execution_count": 21,
=======
   "execution_count": 19,
>>>>>>> b95a59a01fa2879014056c1bbf1585de10dacc6e
   "metadata": {},
   "outputs": [
    {
     "data": {
<<<<<<< HEAD
      "image/png": "iVBORw0KGgoAAAANSUhEUgAAAYcAAAEVCAYAAAALsCk2AAAABHNCSVQICAgIfAhkiAAAAAlwSFlz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\nWHAwxhjTx/8HYDflqKW81m8AAAAASUVORK5CYII=\n",
=======
      "image/png": "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\n",
>>>>>>> b95a59a01fa2879014056c1bbf1585de10dacc6e
      "text/plain": [
       "<Figure size 432x288 with 1 Axes>"
      ]
     },
<<<<<<< HEAD
     "metadata": {},
=======
     "metadata": {
      "needs_background": "light"
     },
>>>>>>> b95a59a01fa2879014056c1bbf1585de10dacc6e
     "output_type": "display_data"
    }
   ],
   "source": [
    "num_flights_by_date.rolling(window=7).mean().plot();"
   ]
  },
  {
   "cell_type": "markdown",
   "metadata": {},
   "source": [
    "**1. Find top-10 carriers in terms of the number of completed flights (_UniqueCarrier_ column)?**\n",
    "\n",
    "**Which of the listed below is _not_ in your top-10 list?**\n",
    "- DL\n",
    "- AA\n",
<<<<<<< HEAD
    "- ** _OO_ **\n",
=======
    "- OO\n",
>>>>>>> b95a59a01fa2879014056c1bbf1585de10dacc6e
    "- EV "
   ]
  },
  {
   "cell_type": "code",
<<<<<<< HEAD
   "execution_count": 22,
   "metadata": {},
   "outputs": [
    {
     "data": {
      "text/plain": [
       "UniqueCarrier\n",
       "WN    3983\n",
       "OO    2717\n",
       "AA    1956\n",
       "US    1753\n",
       "DL    1705\n",
       "MQ    1694\n",
       "EV    1627\n",
       "OH    1593\n",
       "XE    1569\n",
       "UA    1521\n",
       "Name: FlightNum, dtype: int64"
      ]
     },
     "execution_count": 22,
     "metadata": {},
     "output_type": "execute_result"
    }
   ],
   "source": [
    "flights_df[flights_df['Cancelled']==0].groupby('UniqueCarrier')['FlightNum'].nunique().sort_values(ascending=False).head(10)"
=======
   "execution_count": 16,
   "metadata": {},
   "outputs": [],
   "source": [
    "# You code here"
>>>>>>> b95a59a01fa2879014056c1bbf1585de10dacc6e
   ]
  },
  {
   "cell_type": "markdown",
   "metadata": {},
   "source": [
    "**2. Plot distributions of flight cancellation reasons (_CancellationCode_).**\n",
    "\n",
    "**What is the most frequent reason for flight cancellation? (Use this [link](https://www.transtats.bts.gov/Fields.asp?Table_ID=236) to translate codes into reasons)**\n",
    "- carrier\n",
<<<<<<< HEAD
    "- ** _weather conditions_ ** \n",
=======
    "- weather conditions \n",
>>>>>>> b95a59a01fa2879014056c1bbf1585de10dacc6e
    "- National Air System\n",
    "- security reasons"
   ]
  },
  {
   "cell_type": "code",
<<<<<<< HEAD
   "execution_count": 24,
   "metadata": {},
   "outputs": [
    {
     "data": {
      "text/plain": [
       "<matplotlib.axes._subplots.AxesSubplot at 0x1bf91975cf8>"
      ]
     },
     "execution_count": 24,
     "metadata": {},
     "output_type": "execute_result"
    },
    {
     "data": {
      "image/png": "iVBORw0KGgoAAAANSUhEUgAAAYcAAAEICAYAAAC0+DhzAAAABHNCSVQICAgIfAhkiAAAAAlwSFlz\nAAALEgAACxIB0t1+/AAAADl0RVh0U29mdHdhcmUAbWF0cGxvdGxpYiB2ZXJzaW9uIDIuMi4zLCBo\ndHRwOi8vbWF0cGxvdGxpYi5vcmcvIxREBQAAE65JREFUeJzt3X+w3XV95/HnqwkgVuWHXJBNmF5G\n052iXVEipsW6ArsQ7G5DWxlhrWRddjPj4Fidne1i/yj4q9XdmaVDVXbZkjF0Wil1S2EwbsyCaHcq\nykUwEJHlFl3JBCE2SHGtWPC9f5xP7Jl87s099+aSk5s8HzNnzvf7/ny+3/P5XsJ9ne/Pm6pCkqRh\nPzXuAUiSDj6GgySpYzhIkjqGgySpYzhIkjqGgySpYzhIkjqGgySpYzhIkjqGgySps3zcA1ioE044\noSYnJ8c9DElaMu65557vVtXEKH2XbDhMTk4yNTU17mFI0pKR5P+O2tfDSpKkjuEgSeoYDpKkjuEg\nSeoYDpKkjuEgSeoYDpKkjuEgSeos2ZvgdJC76phxj2A0Vz017hFIByX3HCRJHfcchkxe8ZlxD2FO\n3/rIL497CJIOA+45SJI6hoMkqWM4SJI6hoMkqWM4SJI6hoMkqWM4SJI6hoMkqWM4SJI6hoMkqWM4\nSJI6hoMkqTNSOCT5VpL7k9yXZKrVjk+yNcnD7f24Vk+Sa5JMJ9mW5LVD61nf+j+cZP1Q/Yy2/um2\nbBZ7QyVJo5vPnsPZVXV6Va1u81cAt1fVKuD2Ng9wAbCqvTYA18IgTIArgdcDZwJX7gmU1mfD0HJr\nF7xFkqT9tj+HldYBm9r0JuDCofoNNXAXcGySk4Hzga1VtbuqngS2Amtb20uq6ktVVcANQ+uSJI3B\nqOFQwOeS3JNkQ6udVFWPAbT3E1t9BfDo0LI7Wm1f9R0z1DtJNiSZSjK1a9euEYcuSZqvUf/Yz1lV\ntTPJicDWJN/YR9+ZzhfUAup9seo64DqA1atXz9hHkrT/RtpzqKqd7f0J4GYG5wweb4eEaO9PtO47\ngFOGFl8J7JyjvnKGuiRpTOYMhyQ/neTFe6aB84AHgFuBPVccrQduadO3Ape2q5bWAE+1w05bgPOS\nHNdORJ8HbGltTydZ065SunRoXZKkMRjlsNJJwM3t6tLlwJ9U1f9McjdwU5LLgG8DF7X+m4E3A9PA\nD4B3AFTV7iQfBO5u/T5QVbvb9DuBTwJHA59tL0nSmMwZDlX1CPDqGep/A5w7Q72Ay2dZ10Zg4wz1\nKeBVI4xXknQAeIe0JKljOEiSOoaDJKljOEiSOoaDJKljOEiSOoaDJKljOEiSOoaDJKljOEiSOoaD\nJKljOEiSOoaDJKljOEiSOoaDJKljOEiSOoaDJKljOEiSOoaDJKljOEiSOoaDJKljOEiSOoaDJKlj\nOEiSOoaDJKljOEiSOoaDJKljOEiSOiOHQ5JlSe5NclubPzXJl5M8nORPkxzZ6ke1+enWPjm0jve1\n+kNJzh+qr2216SRXLN7mSZIWYj57Dr8JPDg0/1Hg6qpaBTwJXNbqlwFPVtUrgKtbP5KcBlwMvBJY\nC3yiBc4y4OPABcBpwCWtryRpTEYKhyQrgV8G/rDNBzgH+HTrsgm4sE2va/O09nNb/3XAjVX1TFV9\nE5gGzmyv6ap6pKp+BNzY+kqSxmTUPYffB34L+HGbfynwvap6ts3vAFa06RXAowCt/anW/yf1vZaZ\nrS5JGpM5wyHJvwCeqKp7hsszdK052uZbn2ksG5JMJZnatWvXPkYtSdofo+w5nAX8SpJvMTjkcw6D\nPYljkyxvfVYCO9v0DuAUgNZ+DLB7uL7XMrPVO1V1XVWtrqrVExMTIwxdkrQQc4ZDVb2vqlZW1SSD\nE8p3VNXbgM8Db2nd1gO3tOlb2zyt/Y6qqla/uF3NdCqwCvgKcDewql39dGT7jFsXZeskSQuyfO4u\ns/qPwI1JPgTcC1zf6tcDf5RkmsEew8UAVbU9yU3A14Fngcur6jmAJO8CtgDLgI1VtX0/xiVJ2k/z\nCoequhO4s00/wuBKo737/BC4aJblPwx8eIb6ZmDzfMYiSXr+eIe0JKljOEiSOoaDJKljOEiSOoaD\nJKljOEiSOoaDJKljOEiSOoaDJKljOEiSOoaDJKljOEiSOoaDJKljOEiSOoaDJKljOEiSOoaDJKlj\nOEiSOoaDJKljOEiSOoaDJKljOEiSOoaDJKljOEiSOoaDJKljOEiSOoaDJKljOEiSOoaDJKkzZzgk\neUGSryT5WpLtSd7f6qcm+XKSh5P8aZIjW/2oNj/d2ieH1vW+Vn8oyflD9bWtNp3kisXfTEnSfIyy\n5/AMcE5VvRo4HVibZA3wUeDqqloFPAlc1vpfBjxZVa8Arm79SHIacDHwSmAt8Ikky5IsAz4OXACc\nBlzS+kqSxmTOcKiB77fZI9qrgHOAT7f6JuDCNr2uzdPaz02SVr+xqp6pqm8C08CZ7TVdVY9U1Y+A\nG1tfSdKYjHTOoX3Dvw94AtgK/DXwvap6tnXZAaxo0yuARwFa+1PAS4frey0zW12SNCYjhUNVPVdV\npwMrGXzT/7mZurX3zNI233onyYYkU0mmdu3aNffAJUkLMq+rlarqe8CdwBrg2CTLW9NKYGeb3gGc\nAtDajwF2D9f3Wma2+kyff11Vra6q1RMTE/MZuiRpHka5WmkiybFt+mjgnwEPAp8H3tK6rQduadO3\ntnla+x1VVa1+cbua6VRgFfAV4G5gVbv66UgGJ61vXYyNkyQtzPK5u3AysKldVfRTwE1VdVuSrwM3\nJvkQcC9wfet/PfBHSaYZ7DFcDFBV25PcBHwdeBa4vKqeA0jyLmALsAzYWFXbF20LJUnzNmc4VNU2\n4DUz1B9hcP5h7/oPgYtmWdeHgQ/PUN8MbB5hvJKkA8A7pCVJHcNBktQZ5ZyDpDH7+U0/P+4hjOT+\n9fePewhaJO45SJI6hoMkqWM4SJI6hoMkqWM4SJI6hoMkqWM4SJI6hoMkqWM4SJI6hoMkqWM4SJI6\nhoMkqWM4SJI6hoMkqWM4SJI6hoMkqWM4SJI6hoMkqWM4SJI6hoMkqWM4SJI6hoMkqWM4SJI6hoMk\nqWM4SJI6hoMkqTNnOCQ5JcnnkzyYZHuS32z145NsTfJwez+u1ZPkmiTTSbYlee3Quta3/g8nWT9U\nPyPJ/W2Za5Lk+dhYSdJoRtlzeBb491X1c8Aa4PIkpwFXALdX1Srg9jYPcAGwqr02ANfCIEyAK4HX\nA2cCV+4JlNZnw9Bya/d/0yRJCzVnOFTVY1X11Tb9NPAgsAJYB2xq3TYBF7bpdcANNXAXcGySk4Hz\nga1VtbuqngS2Amtb20uq6ktVVcANQ+uSJI3BvM45JJkEXgN8GTipqh6DQYAAJ7ZuK4BHhxbb0Wr7\nqu+YoS5JGpORwyHJi4D/Abynqv52X11nqNUC6jONYUOSqSRTu3btmmvIkqQFGikckhzBIBj+uKr+\nvJUfb4eEaO9PtPoO4JShxVcCO+eor5yh3qmq66pqdVWtnpiYGGXokqQFGOVqpQDXAw9W1X8ZaroV\n2HPF0XrglqH6pe2qpTXAU+2w0xbgvCTHtRPR5wFbWtvTSda0z7p0aF2SpDFYPkKfs4C3A/cnua/V\nfhv4CHBTksuAbwMXtbbNwJuBaeAHwDsAqmp3kg8Cd7d+H6iq3W36ncAngaOBz7aXJGlM5gyHqvrf\nzHxeAODcGfoXcPks69oIbJyhPgW8aq6xSJIODO+QliR1DAdJUsdwkCR1DAdJUsdwkCR1DAdJUsdw\nkCR1DAdJUsdwkCR1DAdJUsdwkCR1DAdJUsdwkCR1DAdJUsdwkCR1DAdJUsdwkCR1DAdJUsdwkCR1\nDAdJUsdwkCR1DAdJUsdwkCR1DAdJUsdwkCR1DAdJUsdwkCR1DAdJUmfOcEiyMckTSR4Yqh2fZGuS\nh9v7ca2eJNckmU6yLclrh5ZZ3/o/nGT9UP2MJPe3Za5JksXeSEnS/Iyy5/BJYO1etSuA26tqFXB7\nmwe4AFjVXhuAa2EQJsCVwOuBM4Er9wRK67NhaLm9P0uSdIDNGQ5V9UVg917ldcCmNr0JuHCofkMN\n3AUcm+Rk4Hxga1Xtrqonga3A2tb2kqr6UlUVcMPQuiRJY7LQcw4nVdVjAO39xFZfATw61G9Hq+2r\nvmOGuiRpjBb7hPRM5wtqAfWZV55sSDKVZGrXrl0LHKIkaS4LDYfH2yEh2vsTrb4DOGWo30pg5xz1\nlTPUZ1RV11XV6qpaPTExscChS5LmstBwuBXYc8XReuCWofql7aqlNcBT7bDTFuC8JMe1E9HnAVta\n29NJ1rSrlC4dWpckaUyWz9UhyaeANwEnJNnB4KqjjwA3JbkM+DZwUeu+GXgzMA38AHgHQFXtTvJB\n4O7W7wNVteck9zsZXBF1NPDZ9pIkjdGc4VBVl8zSdO4MfQu4fJb1bAQ2zlCfAl411zgkSQeOd0hL\nkjqGgySpYzhIkjqGgySpYzhIkjqGgySpYzhIkjqGgySpYzhIkjqGgySpYzhIkjqGgySpYzhIkjqG\ngySpYzhIkjqGgySpYzhIkjqGgySpYzhIkjqGgySpYzhIkjqGgySpYzhIkjqGgySpYzhIkjqGgySp\nYzhIkjqGgySpYzhIkjoHTTgkWZvkoSTTSa4Y93gk6XB2UIRDkmXAx4ELgNOAS5KcNt5RSdLh66AI\nB+BMYLqqHqmqHwE3AuvGPCZJOmwdLOGwAnh0aH5Hq0mSxmD5uAfQZIZadZ2SDcCGNvv9JA89r6Pa\nfycA313MFeaji7m2JWfRf568f6Z/eoeNxf/3+a/9eY57EHP4mVE7HizhsAM4ZWh+JbBz705VdR1w\n3YEa1P5KMlVVq8c9jkOFP8/F5c9zcR1qP8+D5bDS3cCqJKcmORK4GLh1zGOSpMPWQbHnUFXPJnkX\nsAVYBmysqu1jHpYkHbYOinAAqKrNwOZxj2ORLZlDYEuEP8/F5c9zcR1SP89Uded9JUmHuYPlnIMk\n6SBiOEiSOobD8yzJWUk+Pu5x6PCV5BVJzpqh/ktJXj6OMengZzg8D5KcnuQ/JfkW8CHgG2Me0iEh\nyQlJDuu7rBbo94GnZ6j/XWvTfkgykWRi3ONYbIbDIknys0l+J8mDwMcYPA4kVXV2Vf3BmIe35CRZ\nk+TOJH+e5DVJHgAeAB5Psnbc41tiJqtq297FqpoCJg/8cJa+DFyV5LsMvvz9nyS7kvzOuMe2WAyH\nxfMN4FzgX1bVG1ogPDfmMS1lHwN+F/gUcAfwb6vqZcAbgd8b58CWoBfso+3oAzaKQ8t7gLOA11XV\nS6vqOOD1wFlJ3jveoS0Ow2Hx/DrwHeDzSf57knOZ+ZlRGs3yqvpcVf0Z8J2qugugqjxEN393J/l3\nexeTXAbcM4bxHAouBS6pqm/uKVTVI8BvtLYl76C5CW6pq6qbgZuT/DRwIfBe4KQk1wI3V9XnxjrA\npefHQ9N/t1ebN+fMz3sY/Nt8G/8QBquBI4FfHduolrYjqqp7yF5V7UpyxDgGtNi8Ce55lOR44CLg\nrVV1zrjHs5QkeQ74fwz2vo4GfrCnCXhBVR0S/wMeSEnOBl7VZrdX1R3jHM9SluSrVfXa+bYtJYaD\nJM3T0JeXrolD5MuL4SBJ6nhCWpLUMRwkSR3DQUtGkpcluTHJXyf5epLNSX72AHzu99v7ZLsZb199\nJ5P8q6H51Umu2Y/P3q9tTvLJJG9Z6Ofr8GU4aEloj824Gbizql5eVacBvw2cNN6RdSaBn4RDVU1V\n1bsXsqIltM06BBkOWirOBv6+qv7rnkJV3Qfcm+T2JF9Ncn+SdfCTb/APthsStyf5XJKjW9srkvyv\nJF9ry7281f9DkruTbEvy/n0Npq3/L9vyX03yi63pI8AvJbkvyXuTvCnJbW2Z45P8RVv/XUn+Satf\nlWRje1zII0n2hMmM21xVf9ke3/CfkzzQtvutbV1J8rG2l/EZ4MShMZ+R5AtJ7kmyJcnJ+/HfQ4e6\nqvLl66B/Ae8Grp6hvhx4SZs+AZhmcDnhJPAscHpruwn4jTb9ZeBX2/QLgBcC5zH4S15h8KXpNuCN\nrc/32/sk8ECbfiGDSxYBVgFTbfpNwG1D4/vJPPAHwJVt+hzgvjZ9FfBXwFFtG/4GOGK2bW7L/Dqw\nlcGf1T0J+DZwMvBrQ/V/BHwPeEtb318BE235tzL4c7xj/2/r6+B8eYe0lroAv5vkjQzuql7BPxx2\n+WYN9i5gcGfwZJIXAytqcEc7VfVDgCTnMQiIe1v/FzH4pf/FWT73COBjSU5n8AytUc4DvIHBL3Wq\n6o4kL01yTGv7TFU9AzyT5AnmPnT0BuBTVfUcg4cRfgF4HYNnT+2p70yy50a3f8zgBrit7cG2y4DH\nRhizDlOGg5aK7Qy+Ae/tbcAEcEZV/X0Gj0nf86C5Z4b6PcfgTuvZnncV4Peq6r+NOJ73Ao8Dr2aw\np/HDEZaZ6bP33Gi091iXM/s2z7auvde5d//tVfULcw1SAs85aOm4Azhq+AFySV4H/AzwRAuGs9v8\nrKrqb4EdSS5s6zgqyQuBLcC/SfKiVl+R5MR9rOoY4LGq+jHwdgbfxGHwdxNePMsyX2QQZiR5E/Dd\nNp55bXOSf9rW9dYkyzL4WwJvBL7S6he3+skMzlsAPARMJPmFtp4jkrxyH5+tw5zhoCWhqorBQ+L+\nebusczuDY/WbgdVJphj84h3lqa1vB96dZBuD4/Avq8GDEf8E+FKS+4FPM/sveYBPAOuT3MXgkNKe\nRylsA55tJ7v3fnTzVW2s2xicuF6/wG3eyeAqpm3A1xiEyG9V1Xda/WHgfuBa4AttXT9isBfy0SRf\nA+4DfhFpFj4+Q5LUcc9BktQxHCRJHcNBktQxHCRJHcNBktQxHCRJHcNBktQxHCRJnf8PhV88yEan\n9DYAAAAASUVORK5CYII=\n",
      "text/plain": [
       "<Figure size 432x288 with 1 Axes>"
      ]
     },
     "metadata": {},
     "output_type": "display_data"
    }
   ],
   "source": [
    "flights_df.groupby('CancellationCode').size().plot(kind='bar')"
   ]
  },
  {
   "cell_type": "code",
   "execution_count": 25,
   "metadata": {},
   "outputs": [
    {
     "data": {
      "text/plain": [
       "CancellationCode\n",
       "A    54330\n",
       "B    54904\n",
       "C    28188\n",
       "D       12\n",
       "dtype: int64"
      ]
     },
     "execution_count": 25,
     "metadata": {},
     "output_type": "execute_result"
    }
   ],
   "source": [
    "flights_df.groupby('CancellationCode').size()"
=======
   "execution_count": 17,
   "metadata": {},
   "outputs": [],
   "source": [
    "# You code here"
>>>>>>> b95a59a01fa2879014056c1bbf1585de10dacc6e
   ]
  },
  {
   "cell_type": "markdown",
   "metadata": {},
   "source": [
    "**3. Which route is the most frequent, in terms of the number of flights?**\n",
    "\n",
    "(Take a look at _'Origin'_ and _'Dest'_ features. Consider _A->B_ and _B->A_ directions as _different_ routes) \n",
    "\n",
    " - New-York – Washington\n",
<<<<<<< HEAD
    " - ** _San-Francisco – Los-Angeles_ **\n",
=======
    " - San-Francisco – Los-Angeles \n",
>>>>>>> b95a59a01fa2879014056c1bbf1585de10dacc6e
    " - San-Jose – Dallas\n",
    " - New-York – San-Francisco"
   ]
  },
  {
   "cell_type": "code",
<<<<<<< HEAD
   "execution_count": 26,
   "metadata": {},
   "outputs": [
    {
     "data": {
      "text/plain": [
       "Origin  Dest\n",
       "SFO     LAX     13788\n",
       "LAX     SFO     13390\n",
       "OGG     HNL     12383\n",
       "LGA     BOS     12035\n",
       "BOS     LGA     12029\n",
       "dtype: int64"
      ]
     },
     "execution_count": 26,
     "metadata": {},
     "output_type": "execute_result"
    }
   ],
   "source": [
    "flights_df.groupby(['Origin','Dest']).size().sort_values(ascending=False).head(5)"
=======
   "execution_count": 18,
   "metadata": {},
   "outputs": [],
   "source": [
    "# You code here"
>>>>>>> b95a59a01fa2879014056c1bbf1585de10dacc6e
   ]
  },
  {
   "cell_type": "markdown",
   "metadata": {},
   "source": [
    "**4. Find top-5 delayed routes (count how many times they were delayed on departure). From all flights on these 5 routes, count all flights with weather conditions contributing to a delay.**\n",
    "\n",
    "- 449 \n",
    "- 539 \n",
    "- 549 \n",
<<<<<<< HEAD
    "- ** _668_ **"
=======
    "- 668 "
>>>>>>> b95a59a01fa2879014056c1bbf1585de10dacc6e
   ]
  },
  {
   "cell_type": "code",
<<<<<<< HEAD
   "execution_count": 27,
   "metadata": {},
   "outputs": [
    {
     "data": {
      "text/html": [
       "<div>\n",
       "<style scoped>\n",
       "    .dataframe tbody tr th:only-of-type {\n",
       "        vertical-align: middle;\n",
       "    }\n",
       "\n",
       "    .dataframe tbody tr th {\n",
       "        vertical-align: top;\n",
       "    }\n",
       "\n",
       "    .dataframe thead th {\n",
       "        text-align: right;\n",
       "    }\n",
       "</style>\n",
       "<table border=\"1\" class=\"dataframe\">\n",
       "  <thead>\n",
       "    <tr style=\"text-align: right;\">\n",
       "      <th></th>\n",
       "      <th>Year</th>\n",
       "      <th>Month</th>\n",
       "      <th>DayofMonth</th>\n",
       "      <th>DayOfWeek</th>\n",
       "      <th>DepTime</th>\n",
       "      <th>UniqueCarrier</th>\n",
       "      <th>FlightNum</th>\n",
       "      <th>ArrDelay</th>\n",
       "      <th>DepDelay</th>\n",
       "      <th>Origin</th>\n",
       "      <th>Dest</th>\n",
       "      <th>Distance</th>\n",
       "      <th>Cancelled</th>\n",
       "      <th>CancellationCode</th>\n",
       "      <th>CarrierDelay</th>\n",
       "      <th>WeatherDelay</th>\n",
       "      <th>NASDelay</th>\n",
       "      <th>SecurityDelay</th>\n",
       "      <th>LateAircraftDelay</th>\n",
       "      <th>Date</th>\n",
       "    </tr>\n",
       "  </thead>\n",
       "  <tbody>\n",
       "    <tr>\n",
       "      <th>0</th>\n",
       "      <td>2008</td>\n",
       "      <td>1</td>\n",
       "      <td>3</td>\n",
       "      <td>4</td>\n",
       "      <td>2003.0</td>\n",
       "      <td>WN</td>\n",
       "      <td>335</td>\n",
       "      <td>-14.0</td>\n",
       "      <td>8.0</td>\n",
       "      <td>IAD</td>\n",
       "      <td>TPA</td>\n",
       "      <td>810</td>\n",
       "      <td>0</td>\n",
       "      <td>NaN</td>\n",
       "      <td>NaN</td>\n",
       "      <td>NaN</td>\n",
       "      <td>NaN</td>\n",
       "      <td>NaN</td>\n",
       "      <td>NaN</td>\n",
       "      <td>2008-01-03</td>\n",
       "    </tr>\n",
       "    <tr>\n",
       "      <th>1</th>\n",
       "      <td>2008</td>\n",
       "      <td>1</td>\n",
       "      <td>3</td>\n",
       "      <td>4</td>\n",
       "      <td>754.0</td>\n",
       "      <td>WN</td>\n",
       "      <td>3231</td>\n",
       "      <td>2.0</td>\n",
       "      <td>19.0</td>\n",
       "      <td>IAD</td>\n",
       "      <td>TPA</td>\n",
       "      <td>810</td>\n",
       "      <td>0</td>\n",
       "      <td>NaN</td>\n",
       "      <td>NaN</td>\n",
       "      <td>NaN</td>\n",
       "      <td>NaN</td>\n",
       "      <td>NaN</td>\n",
       "      <td>NaN</td>\n",
       "      <td>2008-01-03</td>\n",
       "    </tr>\n",
       "  </tbody>\n",
       "</table>\n",
       "</div>"
      ],
      "text/plain": [
       "   Year  Month  DayofMonth  DayOfWeek  DepTime UniqueCarrier  FlightNum  \\\n",
       "0  2008      1           3          4   2003.0            WN        335   \n",
       "1  2008      1           3          4    754.0            WN       3231   \n",
       "\n",
       "   ArrDelay  DepDelay Origin Dest  Distance  Cancelled CancellationCode  \\\n",
       "0     -14.0       8.0    IAD  TPA       810          0              NaN   \n",
       "1       2.0      19.0    IAD  TPA       810          0              NaN   \n",
       "\n",
       "   CarrierDelay  WeatherDelay  NASDelay  SecurityDelay  LateAircraftDelay  \\\n",
       "0           NaN           NaN       NaN            NaN                NaN   \n",
       "1           NaN           NaN       NaN            NaN                NaN   \n",
       "\n",
       "        Date  \n",
       "0 2008-01-03  \n",
       "1 2008-01-03  "
      ]
     },
     "execution_count": 27,
     "metadata": {},
     "output_type": "execute_result"
    }
   ],
   "source": [
    "flights_df.head(2)"
   ]
  },
  {
   "cell_type": "code",
   "execution_count": 35,
   "metadata": {
    "collapsed": true
   },
   "outputs": [],
   "source": [
    "topDelays=flights_df[flights_df['DepDelay']>0].groupby(['Origin','Dest']).size().sort_values(ascending=False).head(5).reset_index()\n",
    "topDelays['Route']=topDelays['Origin']+topDelays['Dest']"
   ]
  },
  {
   "cell_type": "code",
   "execution_count": 38,
   "metadata": {},
   "outputs": [
    {
     "data": {
      "text/plain": [
       "668"
      ]
     },
     "execution_count": 38,
     "metadata": {},
     "output_type": "execute_result"
    }
   ],
   "source": [
    "flights_df['Route']=flights_df['Origin']+flights_df['Dest']\n",
    "flights_df[(flights_df['Route'].isin(topDelays['Route'])) & (flights_df['WeatherDelay']>0)]['FlightNum'].count()"
   ]
  },
  {
   "cell_type": "markdown",
   "metadata": {},
   "source": [
    "**5. Examine the hourly distribution of departure times. For that, create a new series from DepTime, removing missing values.**\n",
    "\n",
    "**Choose all correct statements:**\n",
    " - Flights are normally distributed within time interval [0-23] (Search for: Normal distribution, bell curve).\n",
    " - Flights are uniformly distributed within time interval [0-23].\n",
    " - ** _In the period from 0 am to 4 am there are considerably less flights than from 7 pm to 8 pm. _ **"
   ]
  },
  {
   "cell_type": "code",
   "execution_count": 7,
   "metadata": {},
   "outputs": [
    {
     "data": {
      "text/html": [
       "<div>\n",
       "<style scoped>\n",
       "    .dataframe tbody tr th:only-of-type {\n",
       "        vertical-align: middle;\n",
       "    }\n",
       "\n",
       "    .dataframe tbody tr th {\n",
       "        vertical-align: top;\n",
       "    }\n",
       "\n",
       "    .dataframe thead th {\n",
       "        text-align: right;\n",
       "    }\n",
       "</style>\n",
       "<table border=\"1\" class=\"dataframe\">\n",
       "  <thead>\n",
       "    <tr style=\"text-align: right;\">\n",
       "      <th></th>\n",
       "      <th>FlightNum</th>\n",
       "      <th>DepTime</th>\n",
       "      <th>HourDepTime</th>\n",
       "    </tr>\n",
       "  </thead>\n",
       "  <tbody>\n",
       "    <tr>\n",
       "      <th>0</th>\n",
       "      <td>335</td>\n",
       "      <td>2003.0</td>\n",
       "      <td>20</td>\n",
       "    </tr>\n",
       "    <tr>\n",
       "      <th>1</th>\n",
       "      <td>3231</td>\n",
       "      <td>754.0</td>\n",
       "      <td>7</td>\n",
       "    </tr>\n",
       "    <tr>\n",
       "      <th>2</th>\n",
       "      <td>448</td>\n",
       "      <td>628.0</td>\n",
       "      <td>6</td>\n",
       "    </tr>\n",
       "    <tr>\n",
       "      <th>3</th>\n",
       "      <td>1746</td>\n",
       "      <td>926.0</td>\n",
       "      <td>9</td>\n",
       "    </tr>\n",
       "    <tr>\n",
       "      <th>4</th>\n",
       "      <td>3920</td>\n",
       "      <td>1829.0</td>\n",
       "      <td>18</td>\n",
       "    </tr>\n",
       "  </tbody>\n",
       "</table>\n",
       "</div>"
      ],
      "text/plain": [
       "   FlightNum  DepTime  HourDepTime\n",
       "0        335   2003.0           20\n",
       "1       3231    754.0            7\n",
       "2        448    628.0            6\n",
       "3       1746    926.0            9\n",
       "4       3920   1829.0           18"
      ]
     },
     "execution_count": 7,
     "metadata": {},
     "output_type": "execute_result"
    }
   ],
   "source": [
    "depTime=flights_df[flights_df['DepTime'].notna()][['FlightNum','DepTime']]\n",
    "depTime['HourDepTime']=((depTime['DepTime']/100).astype(int))%100\n",
    "depTime.head()"
   ]
  },
  {
   "cell_type": "code",
   "execution_count": 9,
   "metadata": {},
   "outputs": [
    {
     "data": {
      "text/plain": [
       "<matplotlib.axes._subplots.AxesSubplot at 0x20915c56ef0>"
      ]
     },
     "execution_count": 9,
     "metadata": {},
     "output_type": "execute_result"
    },
    {
     "data": {
      "image/png": "iVBORw0KGgoAAAANSUhEUgAAAZQAAAD8CAYAAABQFVIjAAAABHNCSVQICAgIfAhkiAAAAAlwSFlz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\nvfnSugAAAABJRU5ErkJggg==\n",
      "text/plain": [
       "<Figure size 432x288 with 1 Axes>"
      ]
     },
     "metadata": {},
     "output_type": "display_data"
    }
   ],
   "source": [
    "%matplotlib inline\n",
    "depTime['HourDepTime'].hist()"
   ]
  },
  {
   "cell_type": "markdown",
   "metadata": {},
   "source": [
    "**6. Show how the number of flights changes through time (on the daily/weekly/monthly basis) and interpret the findings.**\n",
    "\n",
    "**Choose all correct statements:**\n",
    "- ** _The number of flights during weekends is less than during weekdays (working days)._ **\n",
    "- The lowest number of flights is on Sunday.\n",
    "- ** _There are less flights during winter than during summer._ **"
   ]
  },
  {
   "cell_type": "code",
   "execution_count": 10,
   "metadata": {},
   "outputs": [
    {
     "data": {
      "text/plain": [
       "Date\n",
       "2008-01-01    19187\n",
       "2008-01-02    20954\n",
       "2008-01-03    20937\n",
       "2008-01-04    20929\n",
       "2008-01-05    18069\n",
       "dtype: int64"
      ]
     },
     "execution_count": 10,
     "metadata": {},
     "output_type": "execute_result"
    }
   ],
   "source": [
    "# You code here\n",
    "flights_df['Date'] = pd.to_datetime(flights_df.rename(columns={'DayofMonth': 'Day'})[['Year', 'Month', 'Day']])\n",
    "num_flights_by_date = flights_df.groupby('Date').size()\n",
    "num_flights_by_date.head()"
   ]
  },
  {
   "cell_type": "code",
   "execution_count": 16,
   "metadata": {},
   "outputs": [
    {
     "data": {
      "text/plain": [
       "pandas.core.series.Series"
      ]
     },
     "execution_count": 16,
     "metadata": {},
     "output_type": "execute_result"
    }
   ],
   "source": [
    "type(num_flights_by_date)"
   ]
  },
  {
   "cell_type": "code",
   "execution_count": 14,
   "metadata": {},
   "outputs": [
    {
     "data": {
      "text/plain": [
       "<matplotlib.axes._subplots.AxesSubplot at 0x209161e0080>"
      ]
     },
     "execution_count": 14,
     "metadata": {},
     "output_type": "execute_result"
    },
    {
     "data": {
      "image/png": "iVBORw0KGgoAAAANSUhEUgAABJQAAAJcCAYAAACvwf6mAAAABHNCSVQICAgIfAhkiAAAAAlwSFlz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\n",
      "text/plain": [
       "<Figure size 1440x720 with 1 Axes>"
      ]
     },
     "metadata": {},
     "output_type": "display_data"
    }
   ],
   "source": [
    "num_flights_by_date.plot(figsize=(20,10))"
   ]
  },
  {
   "cell_type": "code",
   "execution_count": 12,
   "metadata": {},
   "outputs": [
    {
     "data": {
      "image/png": "iVBORw0KGgoAAAANSUhEUgAAAYcAAAEVCAYAAAALsCk2AAAABHNCSVQICAgIfAhkiAAAAAlwSFlz\nAAALEgAACxIB0t1+/AAAADl0RVh0U29mdHdhcmUAbWF0cGxvdGxpYiB2ZXJzaW9uIDIuMi4zLCBo\ndHRwOi8vbWF0cGxvdGxpYi5vcmcvIxREBQAAIABJREFUeJzt3Xt8VPWZ+PHPM7fcb5AAgQQCCiIg\ngqBSb7VWLdruYltttd1WW7euVre1bvur2+3W3V629mq1trrUWrXbequ22tYb9VoVEQTkoigBBAKB\n3MgFcp3M8/vjnAlDMpNMJpPMhDzv1yuvzHzPmXO+JxzOM9+7qCrGGGNMJE+qM2CMMSb9WHAwxhjT\nhwUHY4wxfVhwMMYY04cFB2OMMX1YcDDGGNOHBQdjjDF9WHAwxhjThwUHY4wxffhSnYFEFRcXa0VF\nRaqzYYwxo8obb7xRp6olA+03aoNDRUUFa9asSXU2jDFmVBGRnfHsZ9VKxhhj+rDgYIwxpg8LDsYY\nY/oYMDiISLmIPC8ib4vIZhH5sps+TkRWiMhW93eRm362iDSJyHr351sRx1oqIu+ISKWI3BiRPl1E\nVrnHelBEAsNxscYYY+ITT8khCPybqh4PLAGuFZE5wI3As6o6E3jWfR/2d1Vd4P58G0BEvMAvgAuA\nOcBl7nEAfgDc4h7rAHBlEq7NGGNMggYMDqparapr3dctwNvAFGAZcK+7273ARQMc6hSgUlW3q2on\n8ACwTEQEOAf4wyCOZYwxZhgNqs1BRCqAhcAqYKKqVoMTQIAJEbu+T0TeFJEnRWSumzYF2B2xT5Wb\nNh5oVNVgr/Ro579KRNaIyJra2trBZN2YtBLsDlHb0sGhjiDdIVuN0aSfuMc5iEgu8Ahwvao2O1/4\no1oLTFPVgyJyIfAnYCYQ7QPaT3rfRNXlwHKAxYsX2/8oM2pd/X9r+dvb+3veB3wexucEmF9WwMKp\nRSwoL2R+WQHZgVE7FMmMcnHdeSLixwkMv1PVR93k/SJSqqrVIlIK1ACoanP4c6r6hIj8UkSKcUoE\n5RGHLQP2AnVAoYj43NJDON2Yo9bWmhZOLCvgw/NLaesM0dbVTXVTG+t3N/L0ZidoeD3CcRPzOL40\nnwn5GUzKz+TD80spzs1Ice7NWDBgcHDbBH4NvK2qP43Y9DhwOXCz+/sxd/9JwH5VVRE5Bafqqh5o\nBGaKyHRgD3Ap8Cl3v+eBi3HaIXqOZczRqq6lgw/OnshVZx3TZ1v9wQ7erGpk3S7n55XKOuoOdhAM\nKT9/bis/vuREzj5uQpSjGpM88ZQcTgc+A2wUkfVu2jdwgsJDInIlsAu4xN12MXCNiASBNuBSVVUg\nKCLXAU8DXuBuVd3sfubrwAMi8l1gHU4wMiYthUJKY1sXrZ1BurqVru4QT23ax97GNm44fxYT8jL7\n/XxbZzeHOrspzoveY3t8bgbnzJ7IObMnHnHOt/c1c8ODb3LFb1Zz8aIyvnHh8YzLsV7fZngMGBxU\n9WWitwsAfDDK/rcDt8c41hPAE1HSt+P0ZjIm7XSHlE17mnjp3Vr+tqWGzXuaCEZpRPZ6hPaubn52\n6cJ+j1d3sAOA4pz4q4c8HmHu5AIeu+50bn12K796aTsvvVvLHf+0iEXTigZ3QcbEwVq7jImiqbWL\nv26s5uXKWl6prKeprQuAE8sLufLM6UzMyyQ304ffK/i9HiYXZvHdv7xF/aHOAY9dGw4OMUoO/cn0\ne/n60tl8ZH4pX/zdWi5dvpL/+se5XHryVLyemJ1EjBk0Cw7GRAiFlIff2M3NT27hQGsXpQWZnD9n\nImfMLOa0Y4opyYv9bd/v9dAZDA14jroWNzgMoWF57uQCHr/2DL70wDr+44+b+NZjm5mUn8mUoizK\nCrOYXJjFlKIsji/NZ0F5YcLnMWOXBQdjXA2HOrn6t2/w+nsNnFIxjm9+5HhOmFJAP922jxDweTjU\nERxwv7qDTuliqL2OCrL93H3Fyfz5zb1srWlhz4E29jS2sWpHA/ua23vGT9zzuZOtAdsMmgUHY3Da\nFS6/+3Xe3d/CDz8+n0sWl8UdFMICXg8HugcuOdS71Urjc4femOz1CBct7DtmNNgdorqpnU/ftYrv\nP7GFM2eWWLWTGRSbldUY4MlN1Wzc08TNHz+BT5xcPujAAE61Uldw4LGZdQc7yM/0keHzJpLVuPi8\nHsrHZfP1pbN5Z38Lj7xRNWznMkcnCw5mzNtRd4jv/OUtjinJ4R9PjDpzS1z8Pg9dcZQc1u1uZEZJ\nbsLnGYwLT5jEwqmFfPOxTfzBAoQZBAsOZkzb3dDKZctfo6tb+eWnFw2p6sXvFTr7CQ4t7V1s2dfM\nhqomls6blPB5BkNE+N9/WsSM4hzuffW9ETmnOTpYm4MZ037yzDu0tHfx6BdP57hJeUM6VsAbu+RQ\ndaCVs3/0Qs/4iAtGKDgATMjP5MyZxdy3cifB7hA+r30nNAOz4GDGrP3N7fxlQzWffV/FkAMD9N+V\ndc17BwiGlOs+cCyzS/OYNj5nyOcbjOMm5dMRDPFefSvHThiZKi0zullwMGPWM5v3EQwpnzp1alKO\nF/B56OqO3iC9cU8TGT4P1587MyXf3Ge7we+dfS0WHExcrHxpxqxXt9UzpTCLY0qS8y3e7/XEbHPY\nuKeJ40vzU1alc+yEXLwe4e3q5oF3NgYLDmaMCoWUldvred8x4xPqthpNwCt0dYdw5pk8TFV5a28z\nJ0wpSMp5EpHp9zJzQi4b9jSlLA9mdBmTwWFvYxtNrV2pzoZJob9X1tHY2sWZM4uTdky/14MqfSbl\n6wiGONgRpLSw/9lah9uC8kI2VDX2CV7GRDPmgkMopJx283N8cvnKVGfFpIiqcsuKd5lSmMUF80qT\ndly/z/nv1LvHUvh9IMW9hE4sL6SxtYtdDa0pzYcZHcZccNi816lz3bKvJcU5MamyteYg63c38oUz\npxPwJe+/QPjh33uUdLiR2p/i4DC/zKnWWrerMaX5MKPDmAsOz22pASA3wzpqjVVPbKxGBC6cn7xS\nAxwuOfRulA6XHFIdHGZPyicv08dr2+tTmg8zOgx4t4pIuYg8LyJvi8hmEfmymz5ORFaIyFb3d5Gb\nLiJym4hUisgGETkp4liXu/tvFZHLI9IXichG9zO3SbJaCKN4dVsd4PwHtrrXselvb+9n8bSiAVds\nG6yA17lte1crhcc++L2pnfjO6xFOO2Y8f99aZ/e+GVA8X2WCwL+p6vHAEuBaEZkD3Ag8q6ozgWfd\n9wAXADPdn6uAO8AJJsBNwKk4q77dFA4o7j5XRXxu6dAvLbr7rjyFz58+nc5giAPWKD3mhELK1v0H\nObEs+WschEsGvQfChUsSyazCStQZxxazp7GNnfXW7mD6N+DdqqrVqrrWfd0CvA1MAZYB97q73Qtc\n5L5eBtynjteAQhEpBT4ErFDVBlU9AKwAlrrb8lV1pbvW9H0Rx0q6DJ+XkyucmFTd1DZcp0kbbZ3d\nVNa08MI7NbzwTg2vVtZFneIh2B1i7a4D7GtqT0EuR86+5nY6giEqipM/QjkcHGI1SKe6Wgng9GOd\n3lkvV9alOCcm3Q2q4l1EKoCFwCpgoqpWgxNARCS8msgUYHfEx6rctP7Sq6KkRzv/VTglDKZOTXxU\n66QCpzphf3M7cyenru95LA2HOvnqw29yTEkOX/3QcYOa2nl/czuv72jg9R0NrH6vIWrD+5kzizlr\nZgnBkNIdChEMKavfa+CVyvqe7Z86ZSpnHzeBrMDwTSudCu/VHwJg+jAEh0CsNodgejRIg3Pdkwsy\neaWyjn9aMi3V2TFpLO7gICK5wCPA9ara3E+zQLQNmkB630TV5cBygMWLFydcaRoODtVp+i35R09v\n4bktNTy3BaYX5/Y7vcP+5na+/MA6dta30tTWRWtnNwA5AS8nTSti6bxJVIzPYUpRFh6BN3Ye4IdP\nvcPftx75zTHLXZu4MxjigdW7uOZ3a/F6hK+cO5MLTihlUn4mOUdBI/57dU51ynCUHHp6K/WaQqOz\nOz3aHMCZpfX0Y4t55q39dIfUFgAyMcX1v11E/DiB4Xeq+qibvF9ESt1SQylQ46ZXAeURHy8D9rrp\nZ/dKf8FNL4uy/7Apyc0g4PWwKw3rXVvau3hw9W4uf9801uw8wG9e2cFlp0RffEZVueGh9by5u4kP\nzy+lIMtPaUEmp0wfx5wYUzUsmjaOzyypoFsVn0fwegSvCJ6Ih8R15xzL37fW8vtVu/jxM+/y42fe\npTDbz7eXzaMzGKL+YAcfO6ms3/WU09V79YcI+DyU5id/QNpA1UqpHucQtmhaEQ+/UcXexjbKx2Wn\nOjsmTQ0YHNyeQ78G3lbVn0Zsehy4HLjZ/f1YRPp1IvIATuNzkxtAngb+J6IR+nzg31W1QURaRGQJ\nTnXVZ4GfJ+HaYvJ5PcwuzWNjGk4lsGlPMyGFD8yewAllhXz14Td5ubKOM2eW9Nl37a5GXqms56Z/\nmMPnTp8e9zkGqiryeoSzj5vAmTNLeKWyjvpDHfx0xbt86f51Pfv86u/bmZifyZIZ46kYn43HI3R0\nhRifG6C9q5tNe5p5ubKO/Cw/C8sLWTJjHJMLs8jyeykfl02mPzXVVZv2NDF9fM4RwTBZwiWD3g3S\nXWnUIA0w0S0517S0W3AwMcVTcjgd+AywUUTWu2nfwAkKD4nIlcAu4BJ32xPAhUAl0Ap8DsANAt8B\nVrv7fVtVG9zX1wD3AFnAk+7PsJo3pYA/v7kXVU3a3DrJsMkNWCdMKSA308fNT77Nb155L2pw+L/X\ndpKb4eMTi8v7bEsGr0c4a5Zz3vPmTOKdfc0UZAWoP9jBnS9u42BHkN+u3Bl1srksv5fTjhnPwY4g\nD67ezT0RC82U5GXw88sWsmTG+GHJdyyVNQd5dVs9/3berGE5frqPcwib6HbhrWnuSHFOTDobMDio\n6stEbxcA+GCU/RW4Nsax7gbujpK+Bpg3UF6Saf6UAn6/ahc761uHpf45URv3NDG5IJPxuU6VzadP\nncatz25lR92hIxpR39zdyGPr9/C506ePSFtAboaPRdPGAc4Mn6e6D/ZQSKk92IGq88247mAH2QEv\nJXkZPQ3p7V3dbNnXQk1zOwc7gtz+XCVf/N1a/vqlMygtyBr2vIfd++p7BHyepE3R3dvhEdK9xzmk\nT4M0wIR8597a35yebW4mPaTH3ZoC89wZMtOhaqm6qY2P3/EqJ31nBU9t2seJ5Yf74H96yVT8XuG2\nZ7f2DFwKhZT/fGwTJXkZfPncmanKNgAejzAxP5NJBZmMywkwa2IeZUXZR/SwyvR7WVBeyPlzJ/Gx\nk8pY/tnFtHd1c+3v1tLe1T3seXzg9V1s3d/CI2urWHbi5J7Am2wBX/QG6cPVSulRQh2XHcDnEWpa\nrORgYhuzwWHWxDwCPk9aBIc/rKnijZ0H+ODsCXzq1Kl86x/m9GybkJfJF86cwR/X7eGrD2+gqzvE\nnzfsZUNVE//vQ7PJz/SnMOeJOXZCLj+8eD7rdjfyhfvW0B0avtG6+5raufHRjZx3y0u0dnZzxekV\nw3aunkFw3UcGvHSrVvJ4hJK8DAsOpl+jv29iggI+D8eX5rOxKvXBobL2IFMKs/jRJSdG3f41d6zD\nLX97l817m2hpD3J8aT4XLYw6HGRU+Mj8yTS3BfnGHzfy25XvccUgGtQHY19E1clN/zBnWMe1hBuk\n+068l17BAWBCXoZVK5l+pc/dmgInTMln054mQsP4zTUelTUH+126UUT48rkzWf6ZRTS3dbGnsY1v\nXDh71PdRv+yUct4/q4QfPf0OexuHZ7R6jfsA/OMXTxtUj65EBLzRG6Q702RW1kgleZnUWsnB9CN9\n7tYUOGFKAS0dwZTObx8KKdtq+w8OYefPncSKG97PY9eeHrX30mgjInz3onmEFL712KZhmQxuv/sA\nnFw4/A3fMcc5BNNrnAPAxPwMqpvabQI+E1P63K0pUFbk9PFO5UjpPY1ttHeF4l70PSfDd0SD9WhX\nPi6bG86bxd/eruGpTfsG/fnalg7e3R97bY7a5nY8AuNzAkPJZlwCMRb76RkhnSYN0gCzJ+XR5JZC\njYlmzLY5AIxzHxgHWjtTlodttQcBOKYkvuBwNPrc6RX8af0ebnp8M3mZfopy/OxrakfVmSgu2qC9\nptYu7np5Oz9/rhKvR3jp/32AKVFKBzUtHYzPzYg6WjzZYs3K2hVMvzaHhVOdsahrdzX2fEkyJtKY\nDg7hb5P1h1IXHMJVWhXjx+5/UJ/Xw80fm8/Fd77KP/161RHbFk8r4sF/ed8R7Su76ltZ9ouXOdDa\nxcKphazb1cjPn93KzR+f3+fY+5vbmTBC03z0jJCO0pVVBHxp1EY0e1IemX4P63Yd4B9PnJzq7Jg0\nNKaDQ5EbHBoOpi447KxvJdPvGZXzFCXTCWUFvHLjOWzdf5DG1k4mFWSyoaqJmx7fzJk/eI4TygrI\nCfjY2dDK3sY2giHlL/96BvOmFPD5e1azIUavs5qWDiYOwzxK0YgIfq9EqVZS/F5PWo3E93k9zC8r\nZK0tGWpiGNPBwe/1kJ/po+FQ6npt7KxvZeq47LR6cKRKcW4GxRED1BaUF5Id8PLS1jo27WmisbWT\n40vzOXZCLv985oyegYw5GT7aYgymq2np4IQpIzcte5bfS3PbkYtIdXWH0qoxOuykqUX8+uXttHd1\np2yuK5O+xnRwABifm5HSaqXdDa1MHZc+03ekExHhksXlXDLA3FHZfi+tncGo2w62B8nPGrmBgnMm\n5/cZWNnVHUqL6bp7Wzi1kK5uZfPeZhZNKxr4A2ZMSb+vMyOsKNufsgZpVWVXQyvTxnB7QzJkBbw9\n61hEUlXaRvhb8UlTi3hrbzOr32vgB09toas75AaH9PuvtnCq0+tt3a4DKc6JSUdjvuQwLieDqgOp\nGeewu6GNtq7uMd0YnQxZAW/UOZrau5y6/6wRDA4LpxYRDCmX3LkSgEVTi+gMaloGhwl5mUwvzuHR\ntXu44rSKEenRZUaPMX83jM8J0JCiaqUnN1UD8P5ZEwbY0/Qn2++lq1v7NASH2yGy/CN3my+eVkRe\npo/5ZU47x6Prqpw2hzRZy6G3r33oON6qbuaul3ekOismzaTnHTuCxuUGONDaOeIjRX/41Ba+/+QW\nTiwrYKqVHIYkPA6id9VSODhkB0augFyUE2DDTefz+HVn8KlTp/LiO7Vp2+YAcMG8SZw/ZyK3rHiX\nHXWHUp0dk0YGDA4icreI1IjIpoi0E0VkpYhsFJE/i0i+m14hIm0ist79uTPiM4vc/StF5DZ3hTlE\nZJyIrBCRre7vEW0ZK8nNoKtbR7z08NCa3QBc/f5jRvS8R6NwcOhdtdTmBovMAVa+S7Zwz7PyomwO\ndXbT2NqVltVK4OT1OxfNI+DzcOMjG1I+z5hJH/HcsfcAS3ul3QXcqKonAH8EvhaxbZuqLnB/ro5I\nvwO4Cpjp/oSPeSPwrKrOBJ5134+Y8DKJuw+M3DQC7V3d1B/q5PpzZ3LBCaUjdt6jVXaMkkN7T7VS\narpphseuVDe1pW1wAJiYn8k3P3w8q3Y08Ku/b091dkyaGPCOVdWXgIZeyccBL7mvVwAf7+8YIlIK\n5KvqSneluPuAi9zNy4B73df3RqSPiPJxzpQLu0dw8r2qA22oYr2UkiTL71Qb9e7O2pbi4FCc6wyy\n3NvUnrZtDmGfWFzO+XMm8uNn3hmRBZhM+kv0jt0E/KP7+hIgsiP6dBFZJyIvisiZbtoUoCpinyo3\nDWCiqlYDuL9jts6KyFUiskZE1tTW1iaY9SOVF4VLDiMXHMKBaKot7p4U4Wqltl4lh3BJIiuQmgdz\neEBfZzA9B8FFEhHOmzORrm61dR4MkHhw+DxwrYi8AeQB4Qr7amCqqi4EbgB+77ZHRGuNG3Tlpqou\nV9XFqrq4pCQ5U1bnZPgYlxNgd8PIVSuF51Mqt+CQFOFqpd6jpHvaHFJUcoic0yldG6QjTSpwphnZ\nl8JZik36SKgbh6puAc4HEJFZwIfd9A6gw339hohsA2bhlBTKIg5RBux1X+8XkVJVrXarn2oSydNQ\nlBdljehYh10NrWT5vZQM01rGY0242ijd2hzG5QQQAdX0mpE1lknuHFT7rORgSLDkICIT3N8e4JvA\nne77EhHxuq9n4DQ8b3eri1pEZInbS+mzwGPu4R4HLndfXx6RPmLKxmWzZV9Ln2qJ4bJ5bxPHTsi1\n+ZSSJDtGtVIqurJG8nk9FGU77Q7+NG9zAJjolhysWslAfF1Z7wdWAseJSJWIXAlcJiLvAltwSgC/\ncXc/C9ggIm8CfwCuVtVwY/Y1OL2cKoFtwJNu+s3AeSKyFTjPfT+iPn3KVOoOdvC1P7xJR3B4A0Rb\nZzdrdzbyvmPGD+t5xpKsAaqVUlVyAHrGz+SmKEANRl6Gj5yAl31NtnyoiaNaSVUvi7Hp1ij7PgI8\nEuM4a4B5UdLrgQ8OlI/hdNqxxXx96WxufnILa947wFmziikvyuaLHzg26es0r9nZQGd3iNMsOCRN\ndk9vpeglh8wUNUjD4eqkfz5zeNevTgYRYWJBppUcDGBzK/W4+v3HMG9yAfe8uoOH36hCFY4vzefc\nOROTep5XKuvxeYSTK8Yl9bhj2eHeSr26snZ245HUrt187+dPobUzyMyJeSnLw2BMys+0NgcDWHA4\nwhkzizljZjFd3SFOu/k57n99V9KDw8ptdSycWkhOhv3pkyXg8+DzSNSSQ5bfm9K2neNL81N27kRM\nzM9kzc7ew5rMWGRPqCj8Xg+fWFzGHS9sY29jG5N7rU380Ord/N+qnXSHnNk2a1s6yMv0cdtlC5nV\nzzfEprYuNu5p4rpzZg73JYw5WX5v3zaHru6o60+b2DL93p7ZbM3YZsEhhktPnsovX9jGb1/byQ3n\nzSKkSobPS/3BDv7zsU3kZ/k5sayA9q4QFeOzeWVbPR++7e9UjM/B5/VQmOVnYn4GiyrGEewO0R1S\ndje0ElI43dobki4r4O3TW6m901Y4G6wMn4fOoAUHY8EhpvJx2Xxw9kTueGEbd7ywDXCmu8gO+OgI\nhvj9P596RD3y/uZ2fvF8Jfua2gmpcqC1i1e31fOn9XuPOO7HFk6x9oZhkJfpo6nX8pytnd093VxN\nfAI+z7D32DOjgwWHftx66QL+uqGa/c3tdKuypbqF6uZ2/vMjc/o0ME7Mz+Tby47sjBVe6c0jQm6G\nj4bWTmYU59j4hmFQWpBFda+RveE2BxO/gNdKDsZhwaEfORk+PnFy/+sX90dEmDb+8PrQRTmBZGTL\nRDG5MJMX3z1yvq2RXiL0aBDweQgpBLtDtjLcGGf/+uaoUFqQRU1LR8+33tbOIG/tbbbJDQcpwx3J\n3dltpYexzkoO5qgwpTALVfj8Patpbu8iJ+DjYEeQSxYnXvIbi8JTi3cGQ2RbQXdMs5KDOSqUFjrz\nAr1cWUdHV4h39rcwv6yAkytGdGHBUS8cHDqs3WHMs5KDOSpEjkV58stnEm7zt8b/wQmPJrdGaWPB\nwRwVJhc4wWH2pDw8SZ4PayyxkoMJs+BgjgpZAS8PXLVk1E1XkW4yfE7vLis5GAsO5qixZIaNPB8q\n661kwqxB2hjTI7K3khnb4lns524RqRGRTRFpJ4rIShHZKCJ/dteJDm/7dxGpFJF3RORDEelL3bRK\nEbkxIn26iKwSka0i8qCIWAc6Y1LkcJuDTaEx1sVTcrgHWNor7S7gRlU9Afgj8DUAEZkDXArMdT/z\nSxHxukuH/gK4AJiDs5LcHPdYPwBuUdWZwAHgyiFdkTEmYdZbyYQNGBxU9SWg9wTvxwEvua9XAB93\nXy8DHlDVDlXdgbMk6CnuT6WqblfVTuABYJm7nvQ5OEuKAtwLXDSE6zHGDIFVK5mwRNscNgH/6L6+\nBAgPQ50C7I7Yr8pNi5U+HmhU1WCv9KhE5CoRWSMia2pra2PtZoxJkDVIm7BEg8PngWtF5A0gD+h0\n06N1MNcE0qNS1eWqulhVF5eUlAwyy8aYgdg4BxOWUFdWVd0CnA8gIrOAD7ubqjhcigAoA8ILGkRL\nrwMKRcTnlh4i9zfGjDCrVjJhCZUcRGSC+9sDfBO40930OHCpiGSIyHRgJvA6sBqY6fZMCuA0Wj+u\nqgo8D1zsfv5y4LFEL8YYMzQZXmcQnJUcTDxdWe8HVgLHiUiViFyJ09voXWALzjf93wCo6mbgIeAt\n4CngWlXtdksF1wFPA28DD7n7AnwduEFEKnHaIH6dzAs0xsTPSg4mbMBqJVW9LMamW2Ps/z3ge1HS\nnwCeiJK+Hac3kzEmxSw4mDAbIW2M6eH1CD6P0Nltg+DGOgsOxpgjBHy2jrSx4GCM6SXg81iDtLHg\nYIw5UsBrJQdjwcEY04tVKxmw4GCM6SXD56HDps8Y8yw4GGOOEPB5reRgLDgYY46UYQ3SBgsOxphe\nCrP9NLZ2DryjOapZcDDGHKE4N4Palo5UZ8OkmAUHY8wRinMzqDvYgTMvphmrLDgYY45QkpdBV7fS\n1NaV6qyYFLLgYIw5QnFuAIC6g1a1NJZZcDDGHKEkNwOAGmt3GNMsOBhjjlCS5wSHuoPWY2ksi2ex\nn7tFpEZENkWkLRCR10RkvYisEZFT3PSzRaTJTV8vIt+K+MxSEXlHRCpF5MaI9OkiskpEtorIg+5K\nccaYFCl2Sw51VnIY0+IpOdwDLO2V9kPgv1V1AfAt933Y31V1gfvzbQAR8QK/AC4A5uCsJDfH3f8H\nwC2qOhM4AFyZ6MUYY4auIMuPzyNWrTTGDRgcVPUloKF3MpDvvi7AWSq0P6cAlaq6XVU7gQeAZSIi\nwDnAH9z97gUuijPvxphh4PEIx5TksnFPY6qzYlIo0TaH64Efichu4MfAv0dse5+IvCkiT4rIXDdt\nCrA7Yp8qN2080OiuMR2ZboxJobNmFbN6xwFaO4MD72yOSokGh2uAr6hqOfAV4Ndu+lpgmqqeCPwc\n+JObLlGOof2kRyUiV7ltHGtqa2sTzLoxZiBnzSqhszvEqu29Kw3MWJFocLgceNR9/TBOtRGq2qyq\nB93XTwB+ESnGKRGUR3y+DKcqqg4oFBFfr/SoVHW5qi5W1cUlJSUJZt0YM5CTphYBsGVfS4pzYlIl\n0eCwF3i/+/ocYCuAiExy2xFqpTdoAAAgAElEQVRwezB5gHpgNTDT7ZkUAC4FHldnfP7zwMXusS4H\nHkswT8aYJMnJ8JET8NocS2OYb6AdROR+4GygWESqgJuALwC3ut/424Gr3N0vBq4RkSDQBlzqBoCg\niFwHPA14gbtVdbP7ma8DD4jId4F1HK6iMsakUEleBrU2SnrMGjA4qOplMTYtirLv7cDtMY7zBPBE\nlPTtuNVSxpj0UZKXQW1Le6qzYVLERkgbY6JygoOVHMYqCw7GmKhKbF2HMc2CgzEmquLcDJrbg7R3\ndac6KyYFLDgYY6I6PAGflR7GIgsOxpiowsHBqpbGJgsOxpioLDiMbRYcjDFR9QQHq1Yakyw4GGOi\nGp9zZMmhtTNIV3colVkyI8iCgzEmqoDPQ1G2vyc4XParVcz/r2doau1Kcc7MSLDgYIyJKXIg3Ju7\nG2nr6uaeV99LbabMiLDgYIyJKXJ+paJsPwBVB1pTmaVR4WBHkL9uqE7os6GQ8r8vbqPhUGrX8Lbg\nYIyJKXKUdGunMxhuv/VeGtB//mkT1/5+LZv3Ng36s69uq+f7T27hO395axhyFj8LDsaYmMLVSqGQ\n0hF0GqNrmm0yvoHsbWwDSKh9prrJ+WxIY657NiIsOBhjYirJy6AjGKImorSw34LDgAI+59HakUDv\nrgOtTnVSuLdYqlhwMMbEFB7rsKvBaWeYkJfBgdYuOoI231J/Al7n0doVHHxwqDvoBIfsgDepeRos\nCw7GmJiKc53gsNsNDhXjcwCoabZ2h/6ESw5tCUxauOeAU62U6gkP4woOInK3iNSIyKaItAUi8pqI\nrBeRNe6yoIjjNhGpFJENInJSxGcuF5Gt7s/lEemLRGSj+5nbwkuNGmNSKxwcwiWHiuJsAGpsEaB+\n+d2Sw8GO4KA/W+W2VyQSWJIp3pLDPcDSXmk/BP5bVRcA33LfA1wAzHR/rgLuABCRcThLjJ6Ks/Lb\nTSJS5H7mDnff8Od6n8sYkwLhaqWekkNxjvu+LWV5ShfVTW0xq9d6gkP74INDuOQwKoKDqr4ENPRO\nBvLd1wXAXvf1MuA+dbwGFIpIKfAhYIWqNqjqAWAFsNTdlq+qK931pu8DLhrSVRljkqIoO4BHDpcc\nTphSwKT8TB5+Y3eKc5ZaBzuCvO/7z8XsburzSM9+g1FZ09IzRXpb5ygIDjFcD/xIRHYDPwb+3U2f\nAkTeOVVuWn/pVVHS+xCRq9wqrDW1tbVDyLoxJh5ejzAuJ4Pd7sC3/Ew/V5xewSuV9dz4yAZe39FA\ndyi1XS5T4a29zQC8uTv6OIZOt5dSyyBLDo+v34tHYFJ+ZspLDr4hfPYa4Cuq+oiIfAL4NXAuEK29\nQBNI75uouhxYDrB48eKxd0cakwIleRm8Xe08DLMCXq44rYK9jW08sHo3D6zeTXFuBh+aO5GTK8Yx\nuzSPGcW5PQ2yR6uNe5ygMHtSXtTt4eqmwZYcnt68nyUzxhMMacpLDkMJDpcDX3ZfPwzc5b6uAsoj\n9ivDqXKqAs7ulf6Cm14WZX9jTBoozg30vM7ye8n0e/n2snl8felsnn+nhic37uPRtXv43apdAPi9\nwjEluSyZMZ6FUwuZkJfJhPwMJuRlkJvh42job7LJDQ7jcgJRt3cGwyWH+AfBHewI8m5NC9efMIt1\nuw+kfPqMoQSHvcD7cR7w5wBb3fTHgetE5AGcxucmVa0WkaeB/4lohD4f+HdVbRCRFhFZAqwCPgv8\nfAj5MsYkUbhRGpySQ1hOho+PzJ/MR+ZPpqs7xPbaQ2zZ18yWfS28tbeZ36/a1WeSvuyAlwl5GUzI\ny+SYCTncuPR4Ctw5m/rTEeymprmDifmZaVEq2VDVCEAwRpVaeDT5YEoOG6uaUIX55QVs2dc8OkoO\nInI/zrf+YhGpwul19AXgVhHxAe04vY0AngAuBCqBVuBzAG4Q+A6w2t3v26oabuS+BqdHVBbwpPtj\njEkDkcEh1sAsv9fDcZPyOG5SHsvctNbOIHsb26hp7mB/Szs1zR3UtHSwv7mdmpYO/vBGFe/sa+GX\nn17EpILMPsds7Qzy8tY6ntq0j79urKYjGMIjMC4ng9mT8jhl+jiKczOoGJ9N7cEOdje0squhlUy/\nl5LcDGZOzGNxRVFPd9xkae/qZkfdIQCCMUZAd3S5wWEQbQ7hgHNiWSF/Xr93dLQ5qOplMTYtirKv\nAtfGOM7dwN1R0tcA8+LJizFmZIUHvgFk+uIftZsd8HHshDyOnRC9Xv6JjdXc8NB6zr/lRa44rYJl\nC6dwTEkuNc3tfP/JLfx1YzWdwRB5GT4uXlTGvCkFPcFm/e5Gfrri3T7HLMnLoDMYoqnNqc7xe4Uf\nXjyfjy4s67NvorbXHiJcYOiKVXIIN0gPouSweW8zUwqzGJcTICvgHR0lB2PM2DW9+HBw8HiS115w\n4QmlHF+azzce3cjPn6/kjhe38ZklFTy3ZT/VTe1cdnI5H5o7icUV46JWJbV2Bqlt6aDqQBsT8jKY\nUpRFdsDXs23Lvha+9vCb3L9qd9KCQ3dIeX1H/eH33TGCg/utfzAlh/pDHT0lqCy/d3SUHIwxY1dk\ncBiOY99/1RJqWzq4+ckt3P3KDgqz/fz+C0tYNK2o389mB3xMG+9j2vi++csO+DhpahHnzJ7AvSt3\n0t7VTaZ/aHMVdXWH+NxvVvNyZR0AE/Mz6ApFr1Y63CAdf3BobO1iUr4bHAJOcFDVlDXgp75lxxiT\n1ibkDf/soCV5GfzkEyey4b/OZ/V/nDtgYIjXKdPH0xkMcf4tLw15qvHbnt3aExh8HiHL7yUYq+Tg\nBoe2ru6450hqbO3qaZzPCnhRPXycVLDgYIzp10h+c83P9PdMPZEMJ1cU4fMIuxpa+U2vnlOqyt/e\n2s9PnnmHB1fvYtX2empa2tEo6yis23WAO1/cxkcXTmHFV87i8evOwOuRmAMAw43nQNxdUpvauijM\ncrrGZrmlnFS2O1i1kjFmQMsWTKb+YGr73SeiMDvAmm+ey1ceXM/Da3Zz/bkzyXAb1f+6sZrrfr+u\nz2dyM3xML85henEOFcU55Gf6+NnftlJakMV/fPj4nt5Pfq+Hrhi9lTqD3ZQWZLGnsY2GQ51MLszq\nN59d3SEOdgQpyHJLDuHg0NVNcspQg2fBwRgzoFsvXZjqLCSsMDvAF86cwafuWsVPn3mXGy+YjYhw\nzyvvUTE+m6e/chY1zR3sqDvE9tqDvFffyva6Q6zbfYA/b9iLKsydnM9dly8+oluszyv9jnOYVZDJ\nnsY26uMoOTS7vasKI6qVILWT71lwMMYc9U47tphLTy7nf1/azu4DrXzu9Oms2XmAb374eDJ8XsrH\nZVM+LpuzZpUc8bn2rm6qm9opK8rqU93l9XiiBgdVZ0nV0sIs2HmAhkMDr33R2Ds4WLWSMcaMjO9e\nNI+p47P5yTPv8sTGfQBcsqi8389k+r0xe2v5PRJ1EFyX20hd6nZLjac6rtFdazpcrZTpT33JwRqk\njTFjgs/r4YtnH8sdn3bWH7t4UVlcU3fEPl70aqXwpHvFuQG8HulZE7o/4Wql3sEhlavBWcnBGDOm\nnD93Ei989eyoU3YMhs/jobWz7ziGcPfTTL+XouxAXL2VGtucfQqzA+5nne/t7V2p68pqwcEYM+ZU\nJGFgX6ySQ3gAXIbPw/icwKCqlQp79VZKZcnBqpWMMSYBPo8n6iC4jp7g4GVcTnwlh/A++WlUrWTB\nwRhjEuDzCMEo02eE2xwCPg9TirLYUXco6sC6SK9U1jFvSj5ed+RcRrhayUZIG2PM6OLzStSSQ2S1\n0onlhdQf6qTqQFvM4+xvbmftrkYumFfakxYuOXRYycEYY0YXp+QQu1op4POwsLwQgPW7G2Me55nN\nTrfaD82d1JMWnho9rauVRORuEakRkU0RaQ+KyHr35z0RWe+mV4hIW8S2OyM+s0hENopIpYjcJu6E\nLSIyTkRWiMhW93eqRosbY0zcfF5P9HEObnDweZwFkDJ8nn6Dw5Ob9nHshFyOnZDbk+b3Ch5JbW+l\neEoO9wBLIxNU9ZOqukBVFwCPAI9GbN4W3qaqV0ek34GzWtxM9yd8zBuBZ1V1JvCs+94YY9Ka3ytR\nF/sJlyb8XsHv9TBvSkHM4NBwqJNVOxpYGlFqAGeyw0y/N71LDqr6EtAQbZv77f8TwP39HUNESoF8\nVV3prhR3H3CRu3kZcK/7+t6IdGOMSVuxZmUNN1L73Ok2FpQXsmlPU9RJ+v729n66Q8rSeZP6bMv0\ne2kPpnFwGMCZwH5V3RqRNl1E1onIiyJypps2BaiK2KfKTQOYqKrVAO7vCbFOJiJXicgaEVlTW1s7\nxKwbY0zifJ7os7KGp8/wuT2PFpQX0hEM8c6+lj77Pr1pH1MKs5g7Ob/PtkyfZ1QPgruMI0sN1cBU\nVa0XkUXAn0RkLhBtQvj++3ZF+4DqcmA5wOLFiwf9eWOMSRa/N0bJoTtcrXS45ACHSwmb9jaxaU8z\nm/c2sWlPE587fXrUNTNSXa2UcHAQER/wMWBROE1VO4AO9/UbIrINmIVTUohcxLUM2Ou+3i8ipapa\n7VY/1SSaJ2OMGSneGIPgDlcrOQ/8sqIsTj92PD/721Z+9jenkqUgy8/cyfl84cwZfPEDx0Y9fobf\nO2pLDucCW1S1p7pIREqABlXtFpEZOA3P21W1QURaRGQJsAr4LPBz92OPA5cDN7u/HxtCnowxZkQ4\nDdKxq5X8HqfkICLcfcXJ/GndHjcoFFBWlDXgCnuZfk/PgLpUGDA4iMj9wNlAsYhUATep6q+BS+nb\nEH0W8G0RCQLdwNWqGm7Mvgan51MW8KT7A05QeEhErgR2AZcM5YKMMWYk+DweVCEUUjyeww/6cPfW\ncMkBnKk0Pnny1EEdP9OX5tVKqnpZjPQroqQ9gtO1Ndr+a4B5UdLrgQ8OlA9jjEkn4Yd/VyhEhsfb\nkx7u3hoZHBKR6fdQd7DvrK8jxUZIG2NMAsK9kXq3O4RLDuFqpUSlukHagoMxxiQgPEle7yk0wsFi\n6CWH0T3OwRhjxqRwV9XeU2iEG6l7rzk9WJn+1I5zsOBgjDEJCJcMYpYcPEMrOWREaZDeWX+IXzxf\nSW1Lx5COHQ8LDsYYkwBfzGol59u+d4jBIdPvpaNXyeH5LTX86Ol3RqQtwpYJNcaYBPg80auVgiHF\n55EBxzEMJNPvobM7xO3PbWXl9nr++YwZvLa9gbKiLMrHZQ/p2PGw4GCMMQmIWa0U0iE3RsPhBX9+\n/My7AKzcVk9I4ZJFZf19LGmsWskYYxJwuORwZHDo6g4NuRsrwLSI0sGtly5gjjs532nHjh/yseNh\nJQdjjElAzyC43tVK3ckpOXxo7iSmFGaxp7GNpfMmceEJpbxSWceZM0uGfOx4WHAwxpgE+N0A0Htm\n1mAo1LOWw1B4PMJT159Jw6FOMtxlQ88+LuaKBklnwcEYYxLgDVcr9Zp8r6tb8Q+xp1JYXqafvEx/\nUo41WNbmYIwxCQgHgK4o02cko+SQaqP/CowxJgXC4xh6Vyt1Jam3UqpZcDDGmASESwd9G6ST01sp\n1Ub/FRhjTAqEG6T7zso6RkoOInK3iNSIyKaItAdFZL37856IrI/Y9u8iUiki74jIhyLSl7pplSJy\nY0T6dBFZJSJb3eMGknmBxhgzHGLNyupUK43+793xXME9wNLIBFX9pKouUNUFOIv7PAogInNwVoib\n637mlyLiFREv8AvgAmAOcJm7L8APgFtUdSZwALhyyFdljDHDLNBvtdIYKDmo6ktAQ7Rt4kwe8gkO\nLxe6DHhAVTtUdQdQCZzi/lSq6nZV7QQeAJa5nz8H+IP7+XuBi4ZwPcYYMyL8MYODDnnSvXQw1LLP\nmcB+Vd3qvp8C7I7YXuWmxUofDzSqarBXelQicpWIrBGRNbW1tUPMujHGJC7gcx6fncHeE++FhryW\nQzoY6hVcxuFSA0C0cKkJpEelqstVdbGqLi4pGZkh5MYYE01PcIg2K+tR0CCd8AhpEfEBHwMWRSRX\nAeUR78uAve7raOl1QKGI+NzSQ+T+xhiTtmKVHLq6tWdSvtFsKFdwLrBFVasi0h4HLhWRDBGZDswE\nXgdWAzPdnkkBnEbrx1VVgeeBi93PXw48NoQ8GWPMiAg3SHf0rlbqDvV0cx3N4unKej+wEjhORKpE\nJNyb6FKOrFJCVTcDDwFvAU8B16pqt1squA54GngbeMjdF+DrwA0iUonTBvHroV+WMcYMr3Bw6Nvm\ncHR0ZR2wWklVL4uRfkWM9O8B34uS/gTwRJT07Ti9mYwxZtTweAS/V/q0OXQdJV1ZbVZWY4xJUMDr\n6Sk5HOoIInL0jJC24GCMMQkK+A4Hh8/fs5q8TH/S1nNINQsOxhiToHBwaGzt5PX3Ggh4PXhErFrJ\nGGPGsoDPQ2d3iFcq61E93HPpaCg5jP4rMMaYFAm3OazcXkdOwEu4wHA0tDlYcDDGmAQFfF46giF2\n1rdy7IRcKopzAGw9B2OMGcvC1Up7G9uYXJjFtHHZgJUcjDFmTMvweugMdlPd1E5pQRblbnDwyugP\nDtYgbYwxCQr4POxrbqe1s5vJhZmoO21o/aHO1GYsCSw4GGNMggI+DzvrDwFQWpBFuJNS1YHWFOYq\nOSw4GGNMggJeD13uGtKlhZkUZPkBKMnLTGW2ksKCgzHGJCg8bTfA5IIsJhVk8sBVS5hfVpDCXCWH\nBQdjjElQODiIQEleBgBLZoxPZZaSxnorGWNMgsLBoSDLf1SsGx3JgoMxxiQovKZDUXYgxTlJPgsO\nxhiToAxfODj4U5yT5ItnJbi7RaRGRDb1Sv9XEXlHRDaLyA/dtAoRaROR9e7PnRH7LxKRjSJSKSK3\niTijRERknIisEJGt7u+iZF+kMcYMh4BvbJcc7gGWRiaIyAeAZcB8VZ0L/Dhi8zZVXeD+XB2Rfgdw\nFc660jMjjnkj8KyqzgSedd8bY0zaC1cr5WUefX17BgwOqvoS0NAr+RrgZlXtcPep6e8YIlIK5Kvq\nSlVV4D7gInfzMuBe9/W9EenGGJPWwiWHnIwxGBximAWcKSKrRORFETk5Ytt0EVnnpp/ppk0BqiL2\nqXLTACaqajWA+3tCrJOKyFUiskZE1tTW1iaYdWOMSY6QO13G0RgcEr0iH1AELAFOBh4SkRlANTBV\nVetFZBHwJxGZC0Tr46WDPamqLgeWAyxevHjQnzfGmGRq7QwCkBM4+oJDoiWHKuBRdbwOhIBiVe1Q\n1XoAVX0D2IZTyqgCyiI+XwbsdV/vd6udwtVP/VZRGWNMujjY4QaHDG+Kc5J8iQaHPwHnAIjILCAA\n1IlIiYh43fQZOA3P293qohYRWeL2Uvos8Jh7rMeBy93Xl0ekG2NMWmvt6AaOzmqleLqy3g+sBI4T\nkSoRuRK4G5jhdm99ALjcbWg+C9ggIm8CfwCuVtVwY/Y1wF1AJU6J4kk3/WbgPBHZCpznvjfGmLR3\n4fxSAE6dPi7FOUk+UR2dVfeLFy/WNWvWpDobxhgzqojIG6q6eKD9bIS0McaYPiw4GGOM6cOCgzHG\nmD4sOBhjjOnDgoMxxpg+LDgYY4zpw4KDMcaYPiw4GGOM6WPUDoITkRbgHfdtAdAUZbcCwA/URUmP\ntX+i6cUR5xmO40eeI9r+yTzn0fQ3C5+nKwnHSYe/GfR/HyTzvJH/PsNx/Gh/t9FwH/SXPhJ/s6Yo\n5xnMvZOjqiVR9j2Sqo7KH2BNxOvlMfZZHrlfPPsnmh5vfoaSHj5HtP2Tec6j6W8WPk+SjpPyv9lA\n90GS0/tc03Dfa6PhPkj13yzaeQZ778Tzc7RUK/3Z0tMqL0drejrlZSTSY7G/cXr9zRJJH9BorlZa\no3HMDxLvfiOVn3Q/h50nfc8x0ueyv1t6nmMo5xnM50ZzyWF5kvcbqpE4z9F0LUfbeUbqWkbyXPZ3\nS89zDOU8cX9u1JYcjDHGDJ/RXHIwxhgzTCw4GGOM6eOoCQ4icnCYj98tIusjfir62fdsEfnLII+v\nIvLbiPc+Eakd7HEGec6PuuedneTjjvi1uOcZ1ntgMOcSkRdEJKGGyeH6d4lynv8Qkc0issG9p08d\npvOUichjIrJVRLaJyK0iEuhn/+tFJHuQ51AR+UnE+6+KyH8NIdvRzhF+BmwWkTdF5AYRGdZn6Eje\n070dNcFhBLSp6oKIn/eSfPxDwDwRyXLfnwfsGcwBRGSwC9leBrwMXDrI8wy0mvqQr2WMS+jfZTBE\n5H3AR4CTVHU+cC6wexjOI8CjwJ9UdSYwC8gFvtfPx64HBhUcgA7gYyJSnFBG4xN+BszFuacvBG4a\nxvOl1FEVHEQkV0SeFZG1IrJRRJa56RUi8raI/MqN+s9EPLiGcj6viPxIRFa7377+JWJzvoj8UUTe\nEpE74/yG8STwYff1ZcD9Eec6RUReFZF17u/j3PQrRORhEfkz8Mwg8p4LnA5cifsQcks8L0XLt4gc\nFJFvi8gq4H3DdC1/F5EFEfu9IiLz472miGv4S8T720XkCvf1eyLy3xH3x5C+mfd3riEcM9a/S6xr\nulBEtojIyyJy2yBKZ6VAnap2AKhqnaruFZFFIvKiiLwhIk+LSKl7nhdE5Gfuv9cmETklzvOcA7Sr\n6m/c83QDXwE+LyI5IvJj999ig4j8q4h8CZgMPC8iz8d5DoAgTk+cr/TeICLT3OfCBvf3VBEpcO+H\n8P2dLSK7RcQfz8lUtQa4CrhOHDGfBSLy/9xrfFNEbh7ENYU/P6LPtbCjKjgA7cBHVfUk4APAT9xv\nLgAzgV+4Ub8R+Pggj50lh6uU/uimXQk0qerJwMnAF0RkurvtFODfgBOAY4CPxXGOB4BLRSQTmA+s\niti2BThLVRcC3wL+J2Lb+4DLVfWcQVzPRcBTqvou0CAiJw2Q7xxgk6qeqqovD9O13AVcASAis4AM\nVd0wiGuKR517f9wBfDXJx06GWP8ufbh/2/8FLlDVM4CBp0Q47BmgXETeFZFfisj73Qfjz4GLVXUR\ncDdHfsPPUdXTgC+62+IxF3gjMkFVm4FdwD8D04GFbunld6p6G7AX+ICqfmAQ1wPwC+DTIlLQK/12\n4L7wOYDbVLUJeBN4v7vPPwBPq2pXvCdT1e04z9AJxHgWiMgFOP+mp6rqicAPB3lNMLzPtZiOtuAg\nwP+IyAbgb8AUYKK7bYeqrndfvwFUDPLYkdVKH3XTzgc+KyLrcR5+43H+sQBeV9Xt7jel+4EzBjqB\n+yCswPmm/USvzQXAwyKyCbgF5z9d2ApVbRjk9VyG8wDH/X3ZAPnuBh6J9+AJXsvDwEfch9TngXsG\ncT3xetT9ncg9MBJi/btEMxvYrqo73Pf397PvEVT1ILAI59tvLfAg8C/APGCFe09/EyiL+Nj97mdf\nwikZF8ZxKgGi9ZcX4CzgTlUNuscd7D18BDfo3Ad8qdem9wG/d1//lsP39IPAJ93Xl7rvByv8kI71\nLDgX+I2qtrp5TOQah/O5FtNg66jT3adxvj0tUtUuEXkPyHS3dUTs1w0ko/glwL+q6tNHJIqcTd//\nEPEOKHkc+DFwNs4NFvYd4HlV/ag4jeEvRGw7FG+G3fyNxynuzxMRBbxu/p7oJ9/tbsAYjEFdi6q2\nisgKYBnwCSCRBt0gR37pyey1PXwfdDP0+3+gcw1KP/8uj8c4jzAE7r/nC8ALIrIRuBbYrKqxqg0T\nuac30+vbrIjkA+XA9jiPMRg/A9YCv+lnn/A5Hwe+LyLjcALlc4M5kYjMwLmPaoj9LFjK0K9xpJ9r\nwNFXcigAatw/4AeAacN8vqeBa8L1lCIyS0Ry3G2nuMVKD863k3iqYsAprn9bVTf2Si/gcKPuFUPL\nNhfjFLOnqWqFqpYDO3C+USWa72gSuZa7gNuA1Ql+y9oJzBGRDLd64YMJHCNV54r170KM82wBZsjh\nnnOfJE4icpyIzIxIWgC8DZSI01iNiPhFJLKE+kk3/QycKpRos4D29iyQLSKfdT/rBX6CUyp8Brha\n3I4U7kMaoAXIi/daIrn3zEM41Txhr3K4cf/TuPe0W3p6HbgV+MtgvvyISAlwJ3C7OiOJYz0LnsFp\nX8nudY2DMdLPNeAoKTm4N1cHTn3in0VkDbAe5z/PcLoLpxi31q0DrMWpXwRYCdyMU3f/EvDHaAfo\nTVWrcG7W3n4I3CsiNzDIbzhRXObmLdIjwDUkmO9oErkWVX1DRJrp/5tfH+F7QFV3i8hDwAZgK7Au\nocyn5lyx/l0+hfPAO+I8qtomIl8EnhKROpwHXbxygZ+7VUNBoBKnimk5cJsbhHw438Q3u585ICKv\nAvk41X4DUlUVkY8CvxSR/8T5QvoE8A2cb7qzgA0i0gX8Cqd9YDnwpIhUJ9DuAE7wuS7i/ZeAu0Xk\nazj/Rz8Xse1BnOrMs+M4bpZbbeTH+Zv9Fvipuy3qs0BVnxKnk8UaEenk8LUPKIXPNef8R8P0GSJy\nIvArVY23B4WJwq0O+6qqfiSFeZiMU9UxW1VDg/jciN0D6XS/iUiuqh50H0i/ALaq6i3DcJ4XcO6N\nNck+toku1ffZqK9WEpGrcRrKvpnqvJihcaseVgH/McjAMGL3QBreb19wv81uxql++N8U58ckQTrc\nZ0dFycEYY0xyjfqSgzHGmOQbdcFBRMpF5HlxRgZuFpEvu+njRGSFOPO3rBCRIjddxBk5WinOyMWT\nIo71Q/cYb7v7DKlroDHGJCLJz7UfiDOKfZOIxN2DrbdRFxxwegn8m6oeDywBrhWROcCNwLPu/C3P\nuu8BLsAZjDITpzfGHQAichrONAXzcQb+nMzh0ZLGGDOSkvVc+zBwEk7X5FOBr4kzrmTQRl1wUNVq\nVV3rvm7B6Zs9BWfg1L3ubvdyuEvpMpy+46qqrwGF4swXozgDSQJABk73tP0jdiHGGONK4nNtDvCi\nqgZV9RDOFCFLE8nTqAsOkdzBPwtxerhMVNVqcP7QOPOdgPMHjpxtsgqYoqorgeeBavfnaVV9e2Ry\nbowx0Q3luYYTDC4QZ+Ghf+4AAALZSURBVCLBYpy5mMoTyceoHQQnzuyVjwDXq2pzP80F0TaoiBwL\nHM/huWNWiMhZ7rwxxhgz4ob6XFPVZ0TkZJxR4bU4g1qDieRlVJYc3CHqj+DM4hieSG2/HJ5euBRn\nvhNwImpk5CzDmfXxo8BrqnrQHUb/JE5dnzHGjLgkPddQ1e+5E4SehxNEtiaSn1EXHNweRb8G3lbV\nn0Zsehy43H19OfBYRPpn3db9JThzwlTjTBn8fnFWKfPjNEZbtZIxZsQl67kmzroS491jzsfpcBP3\nOi9H5Gm0DYITZ9KvvwMbgfAo2m/g1M89BEzFefBfoqoN7h/9dpxGmVbgc6q6RpwJwH6JM22w4syh\nf8OIXowxxpDU51omzqy0AM3A1RFTeg8uT6MtOBhjjBl+o65ayRhjzPCz4GCMMaYPCw7GGGP6sOBg\njDGmDwsOxhhj+rDgYEwcRKRbRNa7M2a+KSI3iLPOdn+fqRCRT41UHo1JJgsOxsSnzR11Ohc4D7gQ\nuGmAz1TgrP9szKhj4xyMiYOIHFTV3Ij3M4DVQDEwDWex+Rx383Wq+qqIvIYzf9cOnBk1bwNuxlnM\nPgP4harasp4mLVlwMCYOvYODm3YAmA20ACFVbReRmcD9qrpYRM4GvqqqH3H3vwqYoKrfFZEM4BWc\nEa87RvRijInDqJ2V1Zg0EJ4Z0w/cLiILgG5gVoz9zwfmi8jF7vsCnMVaLDiYtGPBwZgEuNVK3Tiz\nZN6Es1DUiTjteO2xPgb8q6o+PSKZNGYIrEHamEESkRLgTuB2deplC4BqVQ0BnwG87q4tQF7ER58G\nrnFnAUZEZolIDsakISs5GBOfLBFZj1OFFMRpgA5PrfxL4BERuQRndcFDbvoGICgibwL3ALfi9GBa\n686qWcvhZR+NSSvWIG2MMaYPq1YyxhjThwUHY4wxfVhwMMYY04cFB2OMMX1YcDDGGNOHBQdjjDF9\nWHAwxhjTx/8HYDflqKW81m8AAAAASUVORK5CYII=\n",
      "text/plain": [
       "<Figure size 432x288 with 1 Axes>"
      ]
     },
     "metadata": {},
     "output_type": "display_data"
    }
   ],
   "source": [
    "num_flights_by_date.rolling(window=7).mean().plot();"
   ]
  },
  {
   "cell_type": "code",
   "execution_count": 13,
   "metadata": {},
   "outputs": [
    {
     "data": {
      "image/png": "iVBORw0KGgoAAAANSUhEUgAAAYcAAAEVCAYAAAALsCk2AAAABHNCSVQICAgIfAhkiAAAAAlwSFlz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\nmZlV/AkK7UsUCgsTpAAAAABJRU5ErkJggg==\n",
      "text/plain": [
       "<Figure size 432x288 with 1 Axes>"
      ]
     },
     "metadata": {},
     "output_type": "display_data"
    }
   ],
   "source": [
    "num_flights_by_date.rolling(window=30).mean().plot();"
   ]
  },
  {
   "cell_type": "code",
   "execution_count": 19,
   "metadata": {},
   "outputs": [
    {
     "data": {
      "text/html": [
       "<div>\n",
       "<style scoped>\n",
       "    .dataframe tbody tr th:only-of-type {\n",
       "        vertical-align: middle;\n",
       "    }\n",
       "\n",
       "    .dataframe tbody tr th {\n",
       "        vertical-align: top;\n",
       "    }\n",
       "\n",
       "    .dataframe thead th {\n",
       "        text-align: right;\n",
       "    }\n",
       "</style>\n",
       "<table border=\"1\" class=\"dataframe\">\n",
       "  <thead>\n",
       "    <tr style=\"text-align: right;\">\n",
       "      <th></th>\n",
       "      <th>Date</th>\n",
       "      <th>0</th>\n",
       "    </tr>\n",
       "  </thead>\n",
       "  <tbody>\n",
       "    <tr>\n",
       "      <th>0</th>\n",
       "      <td>2008-01-01</td>\n",
       "      <td>19187</td>\n",
       "    </tr>\n",
       "    <tr>\n",
       "      <th>1</th>\n",
       "      <td>2008-01-02</td>\n",
       "      <td>20954</td>\n",
       "    </tr>\n",
       "    <tr>\n",
       "      <th>2</th>\n",
       "      <td>2008-01-03</td>\n",
       "      <td>20937</td>\n",
       "    </tr>\n",
       "    <tr>\n",
       "      <th>3</th>\n",
       "      <td>2008-01-04</td>\n",
       "      <td>20929</td>\n",
       "    </tr>\n",
       "    <tr>\n",
       "      <th>4</th>\n",
       "      <td>2008-01-05</td>\n",
       "      <td>18069</td>\n",
       "    </tr>\n",
       "  </tbody>\n",
       "</table>\n",
       "</div>"
      ],
      "text/plain": [
       "        Date      0\n",
       "0 2008-01-01  19187\n",
       "1 2008-01-02  20954\n",
       "2 2008-01-03  20937\n",
       "3 2008-01-04  20929\n",
       "4 2008-01-05  18069"
      ]
     },
     "execution_count": 19,
     "metadata": {},
     "output_type": "execute_result"
    }
   ],
   "source": [
    "num_flights_by_date=num_flights_by_date.reset_index()\n",
    "num_flights_by_date.head()"
   ]
  },
  {
   "cell_type": "code",
   "execution_count": 22,
   "metadata": {},
   "outputs": [
    {
     "data": {
      "text/html": [
       "<div>\n",
       "<style scoped>\n",
       "    .dataframe tbody tr th:only-of-type {\n",
       "        vertical-align: middle;\n",
       "    }\n",
       "\n",
       "    .dataframe tbody tr th {\n",
       "        vertical-align: top;\n",
       "    }\n",
       "\n",
       "    .dataframe thead th {\n",
       "        text-align: right;\n",
       "    }\n",
       "</style>\n",
       "<table border=\"1\" class=\"dataframe\">\n",
       "  <thead>\n",
       "    <tr style=\"text-align: right;\">\n",
       "      <th></th>\n",
       "      <th>Date</th>\n",
       "      <th>0</th>\n",
       "      <th>weekday</th>\n",
       "    </tr>\n",
       "  </thead>\n",
       "  <tbody>\n",
       "    <tr>\n",
       "      <th>0</th>\n",
       "      <td>2008-01-01</td>\n",
       "      <td>19187</td>\n",
       "      <td>2</td>\n",
       "    </tr>\n",
       "    <tr>\n",
       "      <th>1</th>\n",
       "      <td>2008-01-02</td>\n",
       "      <td>20954</td>\n",
       "      <td>3</td>\n",
       "    </tr>\n",
       "    <tr>\n",
       "      <th>2</th>\n",
       "      <td>2008-01-03</td>\n",
       "      <td>20937</td>\n",
       "      <td>4</td>\n",
       "    </tr>\n",
       "    <tr>\n",
       "      <th>3</th>\n",
       "      <td>2008-01-04</td>\n",
       "      <td>20929</td>\n",
       "      <td>5</td>\n",
       "    </tr>\n",
       "    <tr>\n",
       "      <th>4</th>\n",
       "      <td>2008-01-05</td>\n",
       "      <td>18069</td>\n",
       "      <td>6</td>\n",
       "    </tr>\n",
       "  </tbody>\n",
       "</table>\n",
       "</div>"
      ],
      "text/plain": [
       "        Date      0  weekday\n",
       "0 2008-01-01  19187        2\n",
       "1 2008-01-02  20954        3\n",
       "2 2008-01-03  20937        4\n",
       "3 2008-01-04  20929        5\n",
       "4 2008-01-05  18069        6"
      ]
     },
     "execution_count": 22,
     "metadata": {},
     "output_type": "execute_result"
    }
   ],
   "source": [
    "from datetime import datetime\n",
    "num_flights_by_date['weekday']=num_flights_by_date['Date'].apply(datetime.isoweekday)\n",
    "num_flights_by_date.head()"
=======
   "execution_count": 15,
   "metadata": {},
   "outputs": [],
   "source": [
    "# You code here"
   ]
  },
  {
   "cell_type": "markdown",
   "metadata": {},
   "source": [
    "**5. Examine the hourly distribution of departure times. For that, create a new series from DepTime, removing missing values.**\n",
    "\n",
    "**Choose all correct statements:**\n",
    " - Flights are normally distributed within time interval [0-23] (Search for: Normal distribution, bell curve).\n",
    " - Flights are uniformly distributed within time interval [0-23].\n",
    " - In the period from 0 am to 4 am there are considerably less flights than from 7 pm to 8 pm."
>>>>>>> b95a59a01fa2879014056c1bbf1585de10dacc6e
   ]
  },
  {
   "cell_type": "code",
<<<<<<< HEAD
   "execution_count": 23,
   "metadata": {},
   "outputs": [
    {
     "data": {
      "text/plain": [
       "weekday\n",
       "1    19926.942308\n",
       "2    19472.622642\n",
       "3    19616.320755\n",
       "4    19850.461538\n",
       "5    19907.038462\n",
       "6    16491.076923\n",
       "7    18786.288462\n",
       "Name: flights, dtype: float64"
      ]
     },
     "execution_count": 23,
     "metadata": {},
     "output_type": "execute_result"
    }
   ],
   "source": [
    "num_flights_by_date=num_flights_by_date.rename(columns={0:'flights'})\n",
    "num_flights_by_date.groupby('weekday')['flights'].mean()"
=======
   "execution_count": 19,
   "metadata": {},
   "outputs": [],
   "source": [
    "# You code here"
>>>>>>> b95a59a01fa2879014056c1bbf1585de10dacc6e
   ]
  },
  {
   "cell_type": "markdown",
   "metadata": {},
   "source": [
<<<<<<< HEAD
    "**7. Examine the distribution of cancellation reasons with time. Make a bar plot of cancellation reasons aggregated by months.**\n",
    "\n",
    "**Choose all correct statements:**\n",
    "- **_December has the highest rate of cancellations due to weather._**\n",
    "- The highest rate of cancellations in September is due to Security reasons.\n",
    "- **_April's top cancellation reason is carriers._**\n",
    "- Flights cancellations due to National Air System are more frequent than those due to carriers."
=======
    "**6. Show how the number of flights changes through time (on the daily/weekly/monthly basis) and interpret the findings.**\n",
    "\n",
    "**Choose all correct statements:**\n",
    "- The number of flights during weekends is less than during weekdays (working days).\n",
    "- The lowest number of flights is on Sunday.\n",
    "- There are less flights during winter than during summer.  "
>>>>>>> b95a59a01fa2879014056c1bbf1585de10dacc6e
   ]
  },
  {
   "cell_type": "code",
<<<<<<< HEAD
   "execution_count": 25,
   "metadata": {},
   "outputs": [
    {
     "data": {
      "text/plain": [
       "<matplotlib.axes._subplots.AxesSubplot at 0x209161bae80>"
      ]
     },
     "execution_count": 25,
     "metadata": {},
     "output_type": "execute_result"
    },
    {
     "data": {
      "image/png": "iVBORw0KGgoAAAANSUhEUgAABJQAAAJpCAYAAAD7dmi4AAAABHNCSVQICAgIfAhkiAAAAAlwSFlz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\ngg==\n",
      "text/plain": [
       "<Figure size 1440x720 with 1 Axes>"
      ]
     },
     "metadata": {},
     "output_type": "display_data"
    }
   ],
   "source": [
    "# You code here\n",
    "flights_df.groupby(['CancellationCode','Month']).size().plot(kind='bar',figsize=(20,10))"
   ]
  },
  {
   "cell_type": "code",
   "execution_count": 26,
   "metadata": {},
   "outputs": [
    {
     "data": {
      "text/plain": [
       "CancellationCode  Month\n",
       "A                 1         6635\n",
       "                  2         6090\n",
       "                  3         6038\n",
       "                  4         7312\n",
       "                  5         3157\n",
       "                  6         4251\n",
       "                  7         5292\n",
       "                  8         3852\n",
       "                  9         2246\n",
       "                  10        2097\n",
       "                  11        2510\n",
       "                  12        4850\n",
       "B                 1         6711\n",
       "                  2        10034\n",
       "                  3         7520\n",
       "                  4         1479\n",
       "                  5         1461\n",
       "                  6         3448\n",
       "                  7         2612\n",
       "                  8         3582\n",
       "                  9         6478\n",
       "                  10         600\n",
       "                  11         937\n",
       "                  12       10042\n",
       "C                 1         3962\n",
       "                  2         4470\n",
       "                  3         2621\n",
       "                  4         1564\n",
       "                  5         1608\n",
       "                  6         3232\n",
       "                  7         2694\n",
       "                  8         2401\n",
       "                  9         1188\n",
       "                  10         552\n",
       "                  11        1009\n",
       "                  12        2887\n",
       "D                 2            2\n",
       "                  3            4\n",
       "                  5            3\n",
       "                  9            1\n",
       "                  11           2\n",
       "dtype: int64"
      ]
     },
     "execution_count": 26,
     "metadata": {},
     "output_type": "execute_result"
    }
   ],
   "source": [
    "flights_df.groupby(['CancellationCode','Month']).size()"
=======
   "execution_count": 20,
   "metadata": {},
   "outputs": [],
   "source": [
    "# You code here"
   ]
  },
  {
   "cell_type": "markdown",
   "metadata": {},
   "source": [
    "**7. Examine the distribution of cancellation reasons with time. Make a bar plot of cancellation reasons aggregated by months.**\n",
    "\n",
    "**Choose all correct statements:**\n",
    "- December has the highest rate of cancellations due to weather. \n",
    "- The highest rate of cancellations in September is due to Security reasons.\n",
    "- April's top cancellation reason is carriers.\n",
    "- Flights cancellations due to National Air System are more frequent than those due to carriers."
>>>>>>> b95a59a01fa2879014056c1bbf1585de10dacc6e
   ]
  },
  {
   "cell_type": "code",
<<<<<<< HEAD
   "execution_count": 27,
   "metadata": {},
   "outputs": [
    {
     "data": {
      "text/plain": [
       "Month  CancellationCode\n",
       "1      A                    6635\n",
       "       B                    6711\n",
       "       C                    3962\n",
       "2      A                    6090\n",
       "       B                   10034\n",
       "       C                    4470\n",
       "       D                       2\n",
       "3      A                    6038\n",
       "       B                    7520\n",
       "       C                    2621\n",
       "       D                       4\n",
       "4      A                    7312\n",
       "       B                    1479\n",
       "       C                    1564\n",
       "5      A                    3157\n",
       "       B                    1461\n",
       "       C                    1608\n",
       "       D                       3\n",
       "6      A                    4251\n",
       "       B                    3448\n",
       "       C                    3232\n",
       "7      A                    5292\n",
       "       B                    2612\n",
       "       C                    2694\n",
       "8      A                    3852\n",
       "       B                    3582\n",
       "       C                    2401\n",
       "9      A                    2246\n",
       "       B                    6478\n",
       "       C                    1188\n",
       "       D                       1\n",
       "10     A                    2097\n",
       "       B                     600\n",
       "       C                     552\n",
       "11     A                    2510\n",
       "       B                     937\n",
       "       C                    1009\n",
       "       D                       2\n",
       "12     A                    4850\n",
       "       B                   10042\n",
       "       C                    2887\n",
       "dtype: int64"
      ]
     },
     "execution_count": 27,
     "metadata": {},
     "output_type": "execute_result"
    }
   ],
   "source": [
    "flights_df.groupby(['Month','CancellationCode']).size()"
=======
   "execution_count": 21,
   "metadata": {},
   "outputs": [],
   "source": [
    "# You code here"
>>>>>>> b95a59a01fa2879014056c1bbf1585de10dacc6e
   ]
  },
  {
   "cell_type": "markdown",
   "metadata": {},
   "source": [
    "**8. Which month has the greatest number of cancellations due to Carrier?** \n",
    "- May\n",
    "- January\n",
    "- September\n",
<<<<<<< HEAD
    "- **_April_**"
=======
    "- April "
>>>>>>> b95a59a01fa2879014056c1bbf1585de10dacc6e
   ]
  },
  {
   "cell_type": "code",
<<<<<<< HEAD
   "execution_count": 31,
   "metadata": {},
   "outputs": [
    {
     "data": {
      "text/plain": [
       "Month\n",
       "10    2097\n",
       "9     2246\n",
       "11    2510\n",
       "5     3157\n",
       "8     3852\n",
       "6     4251\n",
       "12    4850\n",
       "7     5292\n",
       "3     6038\n",
       "2     6090\n",
       "1     6635\n",
       "4     7312\n",
       "dtype: int64"
      ]
     },
     "execution_count": 31,
     "metadata": {},
     "output_type": "execute_result"
    }
   ],
   "source": [
    "# You code here\n",
    "flights_df[flights_df['CancellationCode']=='A'].groupby(['Month']).size().sort_values()"
=======
   "execution_count": 22,
   "metadata": {},
   "outputs": [],
   "source": [
    "# You code here"
>>>>>>> b95a59a01fa2879014056c1bbf1585de10dacc6e
   ]
  },
  {
   "cell_type": "markdown",
   "metadata": {},
   "source": [
    "**9. Identify the carrier with the greatest number of cancellations due to carrier in the corresponding month from the previous question.**\n",
    "\n",
    "- 9E\n",
    "- EV\n",
    "- HA\n",
<<<<<<< HEAD
    "- **_AA_**"
=======
    "- AA"
>>>>>>> b95a59a01fa2879014056c1bbf1585de10dacc6e
   ]
  },
  {
   "cell_type": "code",
<<<<<<< HEAD
   "execution_count": 33,
   "metadata": {},
   "outputs": [
    {
     "data": {
      "text/plain": [
       "UniqueCarrier\n",
       "AA    3696\n",
       "WN     533\n",
       "UA     494\n",
       "YV     454\n",
       "9E     391\n",
       "dtype: int64"
      ]
     },
     "execution_count": 33,
     "metadata": {},
     "output_type": "execute_result"
    }
   ],
   "source": [
    "# You code here\n",
    "flights_df[(flights_df['CancellationCode']=='A') & (flights_df['Month']==4)].groupby('UniqueCarrier').size().sort_values(ascending=False).head()"
=======
   "execution_count": 23,
   "metadata": {},
   "outputs": [],
   "source": [
    "# You code here"
>>>>>>> b95a59a01fa2879014056c1bbf1585de10dacc6e
   ]
  },
  {
   "cell_type": "markdown",
   "metadata": {},
   "source": [
    "**10. Examine median arrival and departure delays (in time) by carrier. Which carrier has the lowest median delay time for both arrivals and departures? Leave only non-negative values of delay times ('ArrDelay', 'DepDelay').\n",
    "[Boxplots](https://seaborn.pydata.org/generated/seaborn.boxplot.html) can be helpful in this exercise, as well as it might be a good idea to remove outliers in order to build nice graphs. You can exclude delay time values higher than a corresponding .95 percentile.**\n",
    "\n",
    "- EV\n",
    "- OO\n",
    "- AA\n",
<<<<<<< HEAD
    "- **_AQ_**"
   ]
  },
  {
   "cell_type": "code",
   "execution_count": 37,
   "metadata": {},
   "outputs": [
    {
     "data": {
      "text/html": [
       "<div>\n",
       "<style scoped>\n",
       "    .dataframe tbody tr th:only-of-type {\n",
       "        vertical-align: middle;\n",
       "    }\n",
       "\n",
       "    .dataframe tbody tr th {\n",
       "        vertical-align: top;\n",
       "    }\n",
       "\n",
       "    .dataframe thead th {\n",
       "        text-align: right;\n",
       "    }\n",
       "</style>\n",
       "<table border=\"1\" class=\"dataframe\">\n",
       "  <thead>\n",
       "    <tr style=\"text-align: right;\">\n",
       "      <th></th>\n",
       "      <th>UniqueCarrier</th>\n",
       "      <th>ArrDelay</th>\n",
       "    </tr>\n",
       "  </thead>\n",
       "  <tbody>\n",
       "    <tr>\n",
       "      <th>1</th>\n",
       "      <td>WN</td>\n",
       "      <td>2.0</td>\n",
       "    </tr>\n",
       "    <tr>\n",
       "      <th>2</th>\n",
       "      <td>WN</td>\n",
       "      <td>14.0</td>\n",
       "    </tr>\n",
       "    <tr>\n",
       "      <th>4</th>\n",
       "      <td>WN</td>\n",
       "      <td>34.0</td>\n",
       "    </tr>\n",
       "    <tr>\n",
       "      <th>5</th>\n",
       "      <td>WN</td>\n",
       "      <td>11.0</td>\n",
       "    </tr>\n",
       "    <tr>\n",
       "      <th>6</th>\n",
       "      <td>WN</td>\n",
       "      <td>57.0</td>\n",
       "    </tr>\n",
       "  </tbody>\n",
       "</table>\n",
       "</div>"
      ],
      "text/plain": [
       "  UniqueCarrier  ArrDelay\n",
       "1            WN       2.0\n",
       "2            WN      14.0\n",
       "4            WN      34.0\n",
       "5            WN      11.0\n",
       "6            WN      57.0"
      ]
     },
     "execution_count": 37,
     "metadata": {},
     "output_type": "execute_result"
    }
   ],
   "source": [
    "# You code here\n",
    "delaysArr=flights_df[(flights_df['ArrDelay']>0) ][[\"UniqueCarrier\",'ArrDelay']]\n",
    "delaysDep=flights_df[ (flights_df['DepDelay']>0)][[\"UniqueCarrier\",'DepDelay']]\n",
    "delaysArr.head()"
   ]
  },
  {
   "cell_type": "code",
   "execution_count": 42,
   "metadata": {},
   "outputs": [
    {
     "data": {
      "text/plain": [
       "UniqueCarrier\n",
       "9E    123.00\n",
       "AA    128.00\n",
       "AQ     43.65\n",
       "AS    101.00\n",
       "B6    163.00\n",
       "Name: ArrDelay95Perc, dtype: float64"
      ]
     },
     "execution_count": 42,
     "metadata": {},
     "output_type": "execute_result"
    }
   ],
   "source": [
    "delaysArrPercs= delaysArr.groupby('UniqueCarrier')['ArrDelay'].quantile(0.95).rename('ArrDelay95Perc')\n",
    "delaysArrPercs.head()"
=======
    "- AQ "
>>>>>>> b95a59a01fa2879014056c1bbf1585de10dacc6e
   ]
  },
  {
   "cell_type": "code",
<<<<<<< HEAD
   "execution_count": 43,
   "metadata": {},
   "outputs": [],
   "source": [
    "delaysArr=delaysArr.join(delaysArrPercs,on='UniqueCarrier')"
   ]
  },
  {
   "cell_type": "code",
   "execution_count": 44,
   "metadata": {},
   "outputs": [
    {
     "data": {
      "text/plain": [
       "<matplotlib.axes._subplots.AxesSubplot at 0x20916e2fe48>"
      ]
     },
     "execution_count": 44,
     "metadata": {},
     "output_type": "execute_result"
    },
    {
     "data": {
      "image/png": "iVBORw0KGgoAAAANSUhEUgAAAYUAAAEcCAYAAAAoSqjDAAAABHNCSVQICAgIfAhkiAAAAAlwSFlz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\nM7M6JwUzM6v7/xQuOovNym1NAAAAAElFTkSuQmCC\n",
      "text/plain": [
       "<Figure size 432x288 with 1 Axes>"
      ]
     },
     "metadata": {},
     "output_type": "display_data"
    }
   ],
   "source": [
    "delaysArr[delaysArr['ArrDelay']<=delaysArr['ArrDelay95Perc']].boxplot(by='UniqueCarrier',column='ArrDelay')"
   ]
  },
  {
   "cell_type": "code",
   "execution_count": 47,
   "metadata": {},
   "outputs": [
    {
     "data": {
      "text/plain": [
       "UniqueCarrier\n",
       "AQ     5.0\n",
       "HA     7.0\n",
       "F9    12.0\n",
       "WN    13.0\n",
       "OO    13.0\n",
       "DL    13.0\n",
       "FL    14.0\n",
       "AS    14.0\n",
       "US    14.0\n",
       "NW    14.0\n",
       "9E    15.0\n",
       "CO    15.0\n",
       "YV    16.0\n",
       "EV    17.0\n",
       "OH    17.0\n",
       "XE    17.0\n",
       "MQ    18.0\n",
       "AA    18.0\n",
       "UA    19.0\n",
       "B6    20.0\n",
       "Name: ArrDelay, dtype: float16"
      ]
     },
     "execution_count": 47,
     "metadata": {},
     "output_type": "execute_result"
    }
   ],
   "source": [
    "delaysArr.groupby('UniqueCarrier')['ArrDelay'].median().sort_values()"
   ]
  },
  {
   "cell_type": "code",
   "execution_count": 48,
   "metadata": {},
   "outputs": [
    {
     "data": {
      "text/plain": [
       "UniqueCarrier\n",
       "AQ     7.0\n",
       "HA     7.0\n",
       "WN     9.0\n",
       "F9    10.0\n",
       "US    11.0\n",
       "CO    11.0\n",
       "AS    12.0\n",
       "DL    12.0\n",
       "NW    14.0\n",
       "FL    15.0\n",
       "OO    15.0\n",
       "UA    17.0\n",
       "9E    17.0\n",
       "XE    18.0\n",
       "AA    18.0\n",
       "MQ    18.0\n",
       "EV    19.0\n",
       "B6    21.0\n",
       "OH    25.0\n",
       "YV    26.0\n",
       "Name: DepDelay, dtype: float16"
      ]
     },
     "execution_count": 48,
     "metadata": {},
     "output_type": "execute_result"
    }
   ],
   "source": [
    "delaysDep.groupby('UniqueCarrier')['DepDelay'].median().sort_values()"
=======
   "execution_count": 25,
   "metadata": {},
   "outputs": [],
   "source": [
    "# You code here"
>>>>>>> b95a59a01fa2879014056c1bbf1585de10dacc6e
   ]
  }
 ],
 "metadata": {
  "anaconda-cloud": {},
  "kernelspec": {
   "display_name": "Python 3",
   "language": "python",
   "name": "python3"
  },
  "language_info": {
   "codemirror_mode": {
    "name": "ipython",
    "version": 3
   },
   "file_extension": ".py",
   "mimetype": "text/x-python",
   "name": "python",
   "nbconvert_exporter": "python",
   "pygments_lexer": "ipython3",
<<<<<<< HEAD
   "version": "3.6.3"
=======
   "version": "3.6.6"
>>>>>>> b95a59a01fa2879014056c1bbf1585de10dacc6e
  }
 },
 "nbformat": 4,
 "nbformat_minor": 1
}
