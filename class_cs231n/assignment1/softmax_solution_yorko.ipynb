{
 "cells": [
  {
   "cell_type": "markdown",
   "metadata": {},
   "source": [
    "# Softmax exercise\n",
    "<center>\n",
    "<img src=\"../../../img/ods_stickers.jpg\">\n",
    "**Solution. Done by @yorko**"
   ]
  },
  {
   "cell_type": "markdown",
   "metadata": {},
   "source": [
    "*Complete and hand in this completed worksheet (including its outputs and any supporting code outside of the worksheet) with your assignment submission. For more details see the [assignments page](http://vision.stanford.edu/teaching/cs231n/assignments.html) on the course website.*\n",
    "\n",
    "This exercise is analogous to the SVM exercise. You will:\n",
    "\n",
    "- implement a fully-vectorized **loss function** for the Softmax classifier\n",
    "- implement the fully-vectorized expression for its **analytic gradient**\n",
    "- **check your implementation** with numerical gradient\n",
    "- use a validation set to **tune the learning rate and regularization** strength\n",
    "- **optimize** the loss function with **SGD**\n",
    "- **visualize** the final learned weights\n"
   ]
  },
  {
   "cell_type": "code",
   "execution_count": 1,
   "metadata": {},
   "outputs": [],
   "source": [
    "import random\n",
    "import numpy as np\n",
    "from cs231n.data_utils import load_CIFAR10\n",
    "from tqdm import tqdm_notebook\n",
    "import matplotlib.pyplot as plt\n",
    "\n",
    "from __future__ import print_function\n",
    "\n",
    "%matplotlib inline\n",
    "plt.rcParams['figure.figsize'] = (10.0, 8.0) # set default size of plots\n",
    "plt.rcParams['image.interpolation'] = 'nearest'\n",
    "plt.rcParams['image.cmap'] = 'gray'\n",
    "\n",
    "# for auto-reloading extenrnal modules\n",
    "# see http://stackoverflow.com/questions/1907993/autoreload-of-modules-in-ipython\n",
    "%load_ext autoreload\n",
    "%autoreload 2"
   ]
  },
  {
   "cell_type": "code",
   "execution_count": 2,
   "metadata": {},
   "outputs": [
    {
     "name": "stdout",
     "output_type": "stream",
     "text": [
      "Train data shape:  (49000, 3073)\n",
      "Train labels shape:  (49000,)\n",
      "Validation data shape:  (1000, 3073)\n",
      "Validation labels shape:  (1000,)\n",
      "Test data shape:  (1000, 3073)\n",
      "Test labels shape:  (1000,)\n",
      "dev data shape:  (500, 3073)\n",
      "dev labels shape:  (500,)\n"
     ]
    }
   ],
   "source": [
    "def get_CIFAR10_data(num_training=49000, num_validation=1000, num_test=1000, num_dev=500):\n",
    "    \"\"\"\n",
    "    Load the CIFAR-10 dataset from disk and perform preprocessing to prepare\n",
    "    it for the linear classifier. These are the same steps as we used for the\n",
    "    SVM, but condensed to a single function.  \n",
    "    \"\"\"\n",
    "    # Load the raw CIFAR-10 data\n",
    "    cifar10_dir = '../cifar-10-batches-py'\n",
    "    X_train, y_train, X_test, y_test = load_CIFAR10(cifar10_dir)\n",
    "    \n",
    "    # subsample the data\n",
    "    mask = list(range(num_training, num_training + num_validation))\n",
    "    X_val = X_train[mask]\n",
    "    y_val = y_train[mask]\n",
    "    mask = list(range(num_training))\n",
    "    X_train = X_train[mask]\n",
    "    y_train = y_train[mask]\n",
    "    mask = list(range(num_test))\n",
    "    X_test = X_test[mask]\n",
    "    y_test = y_test[mask]\n",
    "    mask = np.random.choice(num_training, num_dev, replace=False)\n",
    "    X_dev = X_train[mask]\n",
    "    y_dev = y_train[mask]\n",
    "    \n",
    "    # Preprocessing: reshape the image data into rows\n",
    "    X_train = np.reshape(X_train, (X_train.shape[0], -1))\n",
    "    X_val = np.reshape(X_val, (X_val.shape[0], -1))\n",
    "    X_test = np.reshape(X_test, (X_test.shape[0], -1))\n",
    "    X_dev = np.reshape(X_dev, (X_dev.shape[0], -1))\n",
    "    \n",
    "    # Normalize the data: subtract the mean image\n",
    "    mean_image = np.mean(X_train, axis = 0)\n",
    "    X_train -= mean_image\n",
    "    X_val -= mean_image\n",
    "    X_test -= mean_image\n",
    "    X_dev -= mean_image\n",
    "    \n",
    "    # add bias dimension and transform into columns\n",
    "    X_train = np.hstack([X_train, np.ones((X_train.shape[0], 1))])\n",
    "    X_val = np.hstack([X_val, np.ones((X_val.shape[0], 1))])\n",
    "    X_test = np.hstack([X_test, np.ones((X_test.shape[0], 1))])\n",
    "    X_dev = np.hstack([X_dev, np.ones((X_dev.shape[0], 1))])\n",
    "    \n",
    "    return X_train, y_train, X_val, y_val, X_test, y_test, X_dev, y_dev\n",
    "\n",
    "\n",
    "# Invoke the above function to get our data.\n",
    "X_train, y_train, X_val, y_val, X_test, y_test, X_dev, y_dev = get_CIFAR10_data()\n",
    "print('Train data shape: ', X_train.shape)\n",
    "print('Train labels shape: ', y_train.shape)\n",
    "print('Validation data shape: ', X_val.shape)\n",
    "print('Validation labels shape: ', y_val.shape)\n",
    "print('Test data shape: ', X_test.shape)\n",
    "print('Test labels shape: ', y_test.shape)\n",
    "print('dev data shape: ', X_dev.shape)\n",
    "print('dev labels shape: ', y_dev.shape)"
   ]
  },
  {
   "cell_type": "markdown",
   "metadata": {},
   "source": [
    "## Softmax Classifier\n",
    "\n",
    "Your code for this section will all be written inside **cs231n/classifiers/softmax.py**. \n"
   ]
  },
  {
   "cell_type": "code",
   "execution_count": 3,
   "metadata": {},
   "outputs": [
    {
     "name": "stdout",
     "output_type": "stream",
     "text": [
      "loss: 2.311178\n",
      "sanity check: 2.302585\n"
     ]
    }
   ],
   "source": [
    "# First implement the naive softmax loss function with nested loops.\n",
    "# Open the file cs231n/classifiers/softmax.py and implement the\n",
    "# softmax_loss_naive function.\n",
    "\n",
    "from cs231n.classifiers.softmax import softmax_loss_naive\n",
    "import time\n",
    "\n",
    "# Generate a random softmax weight matrix and use it to compute the loss.\n",
    "W = np.random.randn(3073, 10) * 0.0001\n",
    "loss, grad = softmax_loss_naive(W, X_dev, y_dev, 0.0)\n",
    "\n",
    "# As a rough sanity check, our loss should be something close to -log(0.1).\n",
    "print('loss: %f' % loss)\n",
    "print('sanity check: %f' % (-np.log(0.1)))"
   ]
  },
  {
   "cell_type": "markdown",
   "metadata": {},
   "source": [
    "## Inline Question 1:\n",
    "Why do we expect our loss to be close to -log(0.1)? Explain briefly.**\n",
    "\n",
    "**Your answer:** *There are ten classes here, so if the scores are random and mostly equal, we expect the ratio in the softmax formula to be $\\approx$ 0.1.*\n"
   ]
  },
  {
   "cell_type": "code",
   "execution_count": 4,
   "metadata": {},
   "outputs": [
    {
     "name": "stdout",
     "output_type": "stream",
     "text": [
      "numerical: 0.352435 analytic: 0.352435, relative error: 6.180080e-09\n",
      "numerical: -3.084895 analytic: -3.084895, relative error: 3.101225e-08\n",
      "numerical: 3.282058 analytic: 3.282058, relative error: 1.228962e-10\n",
      "numerical: -0.776741 analytic: -0.776741, relative error: 4.608886e-08\n",
      "numerical: 4.029055 analytic: 4.029055, relative error: 1.132538e-09\n",
      "numerical: -0.402130 analytic: -0.402130, relative error: 1.061849e-08\n",
      "numerical: -0.024508 analytic: -0.024508, relative error: 3.065095e-07\n",
      "numerical: -0.907752 analytic: -0.907752, relative error: 6.592498e-09\n",
      "numerical: 1.467257 analytic: 1.467257, relative error: 9.690089e-09\n",
      "numerical: -0.197351 analytic: -0.197351, relative error: 5.197123e-08\n",
      "numerical: -0.886509 analytic: -0.886509, relative error: 6.102711e-08\n",
      "numerical: 4.641755 analytic: 4.641755, relative error: 1.175300e-08\n",
      "numerical: -0.136302 analytic: -0.136302, relative error: 2.799921e-07\n",
      "numerical: -0.046398 analytic: -0.046398, relative error: 5.407420e-07\n",
      "numerical: -1.680827 analytic: -1.680827, relative error: 2.579764e-09\n",
      "numerical: 1.600529 analytic: 1.600529, relative error: 1.636162e-08\n",
      "numerical: 1.586936 analytic: 1.586936, relative error: 2.374931e-08\n",
      "numerical: 0.129458 analytic: 0.129458, relative error: 2.026958e-07\n",
      "numerical: -0.076265 analytic: -0.076265, relative error: 1.642139e-07\n",
      "numerical: 0.067080 analytic: 0.067080, relative error: 1.888541e-07\n"
     ]
    }
   ],
   "source": [
    "# Complete the implementation of softmax_loss_naive and implement a (naive)\n",
    "# version of the gradient that uses nested loops.\n",
    "loss, grad = softmax_loss_naive(W, X_dev, y_dev, 0.0)\n",
    "\n",
    "# As we did for the SVM, use numeric gradient checking as a debugging tool.\n",
    "# The numeric gradient should be close to the analytic gradient.\n",
    "from cs231n.gradient_check import grad_check_sparse\n",
    "f = lambda w: softmax_loss_naive(w, X_dev, y_dev, 0.0)[0]\n",
    "grad_numerical = grad_check_sparse(f, W, grad, 10)\n",
    "\n",
    "# similar to SVM case, do another gradient check with regularization\n",
    "loss, grad = softmax_loss_naive(W, X_dev, y_dev, 5e1)\n",
    "f = lambda w: softmax_loss_naive(w, X_dev, y_dev, 5e1)[0]\n",
    "grad_numerical = grad_check_sparse(f, W, grad, 10)"
   ]
  },
  {
   "cell_type": "code",
   "execution_count": 5,
   "metadata": {},
   "outputs": [
    {
     "name": "stdout",
     "output_type": "stream",
     "text": [
      "naive loss: 2.311178e+00 computed in 0.133640s\n",
      "vectorized loss: 2.311178e+00 computed in 0.004059s\n",
      "Loss difference: 0.000000\n",
      "Gradient difference: 0.000000\n"
     ]
    }
   ],
   "source": [
    "# Now that we have a naive implementation of the softmax loss function and its gradient,\n",
    "# implement a vectorized version in softmax_loss_vectorized.\n",
    "# The two versions should compute the same results, but the vectorized version should be\n",
    "# much faster.\n",
    "tic = time.time()\n",
    "loss_naive, grad_naive = softmax_loss_naive(W, X_dev, \n",
    "                                            y_dev, 0.000005)\n",
    "toc = time.time()\n",
    "print('naive loss: %e computed in %fs' % (loss_naive, toc - tic))\n",
    "\n",
    "from cs231n.classifiers.softmax import softmax_loss_vectorized\n",
    "tic = time.time()\n",
    "loss_vectorized, grad_vectorized = softmax_loss_vectorized(W, X_dev, y_dev, 0.000005)\n",
    "toc = time.time()\n",
    "print('vectorized loss: %e computed in %fs' % (loss_vectorized, toc - tic))\n",
    "\n",
    "# As we did for the SVM, we use the Frobenius norm to compare the two versions\n",
    "# of the gradient.\n",
    "grad_difference = np.linalg.norm(grad_naive - grad_vectorized, ord='fro')\n",
    "print('Loss difference: %f' % np.abs(loss_naive - loss_vectorized))\n",
    "print('Gradient difference: %f' % grad_difference)"
   ]
  },
  {
   "cell_type": "code",
   "execution_count": 6,
   "metadata": {},
   "outputs": [
    {
     "data": {
      "application/vnd.jupyter.widget-view+json": {
       "model_id": "3c7a4d914d584ed68ca69923707234ab"
      }
     },
     "metadata": {},
     "output_type": "display_data"
    },
    {
     "data": {
      "application/vnd.jupyter.widget-view+json": {
       "model_id": "ac27ee873252496bae82c915a03f080f"
      }
     },
     "metadata": {},
     "output_type": "display_data"
    },
    {
     "data": {
      "application/vnd.jupyter.widget-view+json": {
       "model_id": "438e6d4605f34ceb973d953869e89887"
      }
     },
     "metadata": {},
     "output_type": "display_data"
    },
    {
     "data": {
      "application/vnd.jupyter.widget-view+json": {
       "model_id": "14c032d586c645edb6a694c6d308a4c2"
      }
     },
     "metadata": {},
     "output_type": "display_data"
    },
    {
     "data": {
      "application/vnd.jupyter.widget-view+json": {
       "model_id": "18ecf72bf0fd4547a894ac21e7fc7bd1"
      }
     },
     "metadata": {},
     "output_type": "display_data"
    },
    {
     "data": {
      "application/vnd.jupyter.widget-view+json": {
       "model_id": "2e91a32284db44fd9fde77cd81155f11"
      }
     },
     "metadata": {},
     "output_type": "display_data"
    },
    {
     "data": {
      "application/vnd.jupyter.widget-view+json": {
       "model_id": "077e931a03c84a95a26c00a0efe0ef11"
      }
     },
     "metadata": {},
     "output_type": "display_data"
    },
    {
     "data": {
      "application/vnd.jupyter.widget-view+json": {
       "model_id": "478a0449f7f6485798a959fbcd669e0f"
      }
     },
     "metadata": {},
     "output_type": "display_data"
    },
    {
     "data": {
      "application/vnd.jupyter.widget-view+json": {
       "model_id": "99cbb4e2ef9f40f2a6fd615cfaeb4da4"
      }
     },
     "metadata": {},
     "output_type": "display_data"
    },
    {
     "data": {
      "application/vnd.jupyter.widget-view+json": {
       "model_id": "ee51cd25c3f64dc8a147d0e01e9d381d"
      }
     },
     "metadata": {},
     "output_type": "display_data"
    },
    {
     "data": {
      "application/vnd.jupyter.widget-view+json": {
       "model_id": "9269627cf0e248bdbb8911807606a622"
      }
     },
     "metadata": {},
     "output_type": "display_data"
    },
    {
     "name": "stdout",
     "output_type": "stream",
     "text": [
      "\n",
      "lr 1.000000e-07 reg 1.000000e+04 train accuracy: 0.343633 val accuracy: 0.361000\n",
      "lr 1.000000e-07 reg 1.444444e+04 train accuracy: 0.328184 val accuracy: 0.341000\n",
      "lr 1.000000e-07 reg 1.888889e+04 train accuracy: 0.324265 val accuracy: 0.339000\n",
      "lr 1.000000e-07 reg 2.333333e+04 train accuracy: 0.326327 val accuracy: 0.338000\n",
      "lr 1.000000e-07 reg 2.777778e+04 train accuracy: 0.312837 val accuracy: 0.332000\n",
      "lr 1.000000e-07 reg 3.222222e+04 train accuracy: 0.305408 val accuracy: 0.318000\n",
      "lr 1.000000e-07 reg 3.666667e+04 train accuracy: 0.302776 val accuracy: 0.324000\n",
      "lr 1.000000e-07 reg 4.111111e+04 train accuracy: 0.293653 val accuracy: 0.316000\n",
      "lr 1.000000e-07 reg 4.555556e+04 train accuracy: 0.295020 val accuracy: 0.309000\n",
      "lr 1.000000e-07 reg 5.000000e+04 train accuracy: 0.291286 val accuracy: 0.307000\n",
      "lr 1.444444e-07 reg 1.000000e+04 train accuracy: 0.341837 val accuracy: 0.362000\n",
      "lr 1.444444e-07 reg 1.444444e+04 train accuracy: 0.332898 val accuracy: 0.345000\n",
      "lr 1.444444e-07 reg 1.888889e+04 train accuracy: 0.327327 val accuracy: 0.342000\n",
      "lr 1.444444e-07 reg 2.333333e+04 train accuracy: 0.315816 val accuracy: 0.332000\n",
      "lr 1.444444e-07 reg 2.777778e+04 train accuracy: 0.311531 val accuracy: 0.339000\n",
      "lr 1.444444e-07 reg 3.222222e+04 train accuracy: 0.309551 val accuracy: 0.320000\n",
      "lr 1.444444e-07 reg 3.666667e+04 train accuracy: 0.292551 val accuracy: 0.310000\n",
      "lr 1.444444e-07 reg 4.111111e+04 train accuracy: 0.295061 val accuracy: 0.313000\n",
      "lr 1.444444e-07 reg 4.555556e+04 train accuracy: 0.295653 val accuracy: 0.311000\n",
      "lr 1.444444e-07 reg 5.000000e+04 train accuracy: 0.301061 val accuracy: 0.315000\n",
      "lr 1.888889e-07 reg 1.000000e+04 train accuracy: 0.343163 val accuracy: 0.362000\n",
      "lr 1.888889e-07 reg 1.444444e+04 train accuracy: 0.325816 val accuracy: 0.344000\n",
      "lr 1.888889e-07 reg 1.888889e+04 train accuracy: 0.320898 val accuracy: 0.337000\n",
      "lr 1.888889e-07 reg 2.333333e+04 train accuracy: 0.323082 val accuracy: 0.336000\n",
      "lr 1.888889e-07 reg 2.777778e+04 train accuracy: 0.309286 val accuracy: 0.326000\n",
      "lr 1.888889e-07 reg 3.222222e+04 train accuracy: 0.309224 val accuracy: 0.314000\n",
      "lr 1.888889e-07 reg 3.666667e+04 train accuracy: 0.304184 val accuracy: 0.311000\n",
      "lr 1.888889e-07 reg 4.111111e+04 train accuracy: 0.301551 val accuracy: 0.318000\n",
      "lr 1.888889e-07 reg 4.555556e+04 train accuracy: 0.292265 val accuracy: 0.313000\n",
      "lr 1.888889e-07 reg 5.000000e+04 train accuracy: 0.297224 val accuracy: 0.318000\n",
      "lr 2.333333e-07 reg 1.000000e+04 train accuracy: 0.346980 val accuracy: 0.354000\n",
      "lr 2.333333e-07 reg 1.444444e+04 train accuracy: 0.328408 val accuracy: 0.344000\n",
      "lr 2.333333e-07 reg 1.888889e+04 train accuracy: 0.324633 val accuracy: 0.341000\n",
      "lr 2.333333e-07 reg 2.333333e+04 train accuracy: 0.324837 val accuracy: 0.334000\n",
      "lr 2.333333e-07 reg 2.777778e+04 train accuracy: 0.314878 val accuracy: 0.320000\n",
      "lr 2.333333e-07 reg 3.222222e+04 train accuracy: 0.302694 val accuracy: 0.320000\n",
      "lr 2.333333e-07 reg 3.666667e+04 train accuracy: 0.297204 val accuracy: 0.312000\n",
      "lr 2.333333e-07 reg 4.111111e+04 train accuracy: 0.306347 val accuracy: 0.326000\n",
      "lr 2.333333e-07 reg 4.555556e+04 train accuracy: 0.291531 val accuracy: 0.306000\n",
      "lr 2.333333e-07 reg 5.000000e+04 train accuracy: 0.294633 val accuracy: 0.304000\n",
      "lr 2.777778e-07 reg 1.000000e+04 train accuracy: 0.338408 val accuracy: 0.351000\n",
      "lr 2.777778e-07 reg 1.444444e+04 train accuracy: 0.335980 val accuracy: 0.354000\n",
      "lr 2.777778e-07 reg 1.888889e+04 train accuracy: 0.321408 val accuracy: 0.333000\n",
      "lr 2.777778e-07 reg 2.333333e+04 train accuracy: 0.313633 val accuracy: 0.327000\n",
      "lr 2.777778e-07 reg 2.777778e+04 train accuracy: 0.311347 val accuracy: 0.322000\n",
      "lr 2.777778e-07 reg 3.222222e+04 train accuracy: 0.308714 val accuracy: 0.325000\n",
      "lr 2.777778e-07 reg 3.666667e+04 train accuracy: 0.312102 val accuracy: 0.317000\n",
      "lr 2.777778e-07 reg 4.111111e+04 train accuracy: 0.309102 val accuracy: 0.315000\n",
      "lr 2.777778e-07 reg 4.555556e+04 train accuracy: 0.296122 val accuracy: 0.305000\n",
      "lr 2.777778e-07 reg 5.000000e+04 train accuracy: 0.296551 val accuracy: 0.308000\n",
      "lr 3.222222e-07 reg 1.000000e+04 train accuracy: 0.345959 val accuracy: 0.361000\n",
      "lr 3.222222e-07 reg 1.444444e+04 train accuracy: 0.337776 val accuracy: 0.341000\n",
      "lr 3.222222e-07 reg 1.888889e+04 train accuracy: 0.323653 val accuracy: 0.344000\n",
      "lr 3.222222e-07 reg 2.333333e+04 train accuracy: 0.323408 val accuracy: 0.328000\n",
      "lr 3.222222e-07 reg 2.777778e+04 train accuracy: 0.312082 val accuracy: 0.331000\n",
      "lr 3.222222e-07 reg 3.222222e+04 train accuracy: 0.304449 val accuracy: 0.308000\n",
      "lr 3.222222e-07 reg 3.666667e+04 train accuracy: 0.302347 val accuracy: 0.320000\n",
      "lr 3.222222e-07 reg 4.111111e+04 train accuracy: 0.290286 val accuracy: 0.310000\n",
      "lr 3.222222e-07 reg 4.555556e+04 train accuracy: 0.290551 val accuracy: 0.305000\n",
      "lr 3.222222e-07 reg 5.000000e+04 train accuracy: 0.286449 val accuracy: 0.305000\n",
      "lr 3.666667e-07 reg 1.000000e+04 train accuracy: 0.348714 val accuracy: 0.366000\n",
      "lr 3.666667e-07 reg 1.444444e+04 train accuracy: 0.336367 val accuracy: 0.346000\n",
      "lr 3.666667e-07 reg 1.888889e+04 train accuracy: 0.333102 val accuracy: 0.343000\n",
      "lr 3.666667e-07 reg 2.333333e+04 train accuracy: 0.321633 val accuracy: 0.332000\n",
      "lr 3.666667e-07 reg 2.777778e+04 train accuracy: 0.310837 val accuracy: 0.327000\n",
      "lr 3.666667e-07 reg 3.222222e+04 train accuracy: 0.318612 val accuracy: 0.335000\n",
      "lr 3.666667e-07 reg 3.666667e+04 train accuracy: 0.312714 val accuracy: 0.330000\n",
      "lr 3.666667e-07 reg 4.111111e+04 train accuracy: 0.294612 val accuracy: 0.305000\n",
      "lr 3.666667e-07 reg 4.555556e+04 train accuracy: 0.296653 val accuracy: 0.316000\n",
      "lr 3.666667e-07 reg 5.000000e+04 train accuracy: 0.297592 val accuracy: 0.307000\n",
      "lr 4.111111e-07 reg 1.000000e+04 train accuracy: 0.347776 val accuracy: 0.357000\n",
      "lr 4.111111e-07 reg 1.444444e+04 train accuracy: 0.333327 val accuracy: 0.346000\n",
      "lr 4.111111e-07 reg 1.888889e+04 train accuracy: 0.328816 val accuracy: 0.339000\n",
      "lr 4.111111e-07 reg 2.333333e+04 train accuracy: 0.315163 val accuracy: 0.336000\n",
      "lr 4.111111e-07 reg 2.777778e+04 train accuracy: 0.304041 val accuracy: 0.314000\n",
      "lr 4.111111e-07 reg 3.222222e+04 train accuracy: 0.307224 val accuracy: 0.309000\n",
      "lr 4.111111e-07 reg 3.666667e+04 train accuracy: 0.318286 val accuracy: 0.331000\n",
      "lr 4.111111e-07 reg 4.111111e+04 train accuracy: 0.287020 val accuracy: 0.306000\n",
      "lr 4.111111e-07 reg 4.555556e+04 train accuracy: 0.295490 val accuracy: 0.316000\n",
      "lr 4.111111e-07 reg 5.000000e+04 train accuracy: 0.293102 val accuracy: 0.309000\n",
      "lr 4.555556e-07 reg 1.000000e+04 train accuracy: 0.337694 val accuracy: 0.360000\n",
      "lr 4.555556e-07 reg 1.444444e+04 train accuracy: 0.330020 val accuracy: 0.330000\n",
      "lr 4.555556e-07 reg 1.888889e+04 train accuracy: 0.308776 val accuracy: 0.322000\n",
      "lr 4.555556e-07 reg 2.333333e+04 train accuracy: 0.306694 val accuracy: 0.324000\n",
      "lr 4.555556e-07 reg 2.777778e+04 train accuracy: 0.316653 val accuracy: 0.346000\n",
      "lr 4.555556e-07 reg 3.222222e+04 train accuracy: 0.303898 val accuracy: 0.313000\n",
      "lr 4.555556e-07 reg 3.666667e+04 train accuracy: 0.303490 val accuracy: 0.316000\n",
      "lr 4.555556e-07 reg 4.111111e+04 train accuracy: 0.308531 val accuracy: 0.310000\n",
      "lr 4.555556e-07 reg 4.555556e+04 train accuracy: 0.298857 val accuracy: 0.309000\n",
      "lr 4.555556e-07 reg 5.000000e+04 train accuracy: 0.295959 val accuracy: 0.313000\n",
      "lr 5.000000e-07 reg 1.000000e+04 train accuracy: 0.334980 val accuracy: 0.336000\n",
      "lr 5.000000e-07 reg 1.444444e+04 train accuracy: 0.328020 val accuracy: 0.343000\n",
      "lr 5.000000e-07 reg 1.888889e+04 train accuracy: 0.312408 val accuracy: 0.322000\n",
      "lr 5.000000e-07 reg 2.333333e+04 train accuracy: 0.313510 val accuracy: 0.332000\n",
      "lr 5.000000e-07 reg 2.777778e+04 train accuracy: 0.298673 val accuracy: 0.328000\n",
      "lr 5.000000e-07 reg 3.222222e+04 train accuracy: 0.298163 val accuracy: 0.304000\n",
      "lr 5.000000e-07 reg 3.666667e+04 train accuracy: 0.298633 val accuracy: 0.303000\n",
      "lr 5.000000e-07 reg 4.111111e+04 train accuracy: 0.301510 val accuracy: 0.319000\n",
      "lr 5.000000e-07 reg 4.555556e+04 train accuracy: 0.293286 val accuracy: 0.306000\n",
      "lr 5.000000e-07 reg 5.000000e+04 train accuracy: 0.290184 val accuracy: 0.295000\n",
      "best validation accuracy achieved during cross-validation: 0.366000\n"
     ]
    }
   ],
   "source": [
    "# Use the validation set to tune hyperparameters (regularization strength and\n",
    "# learning rate). You should experiment with different ranges for the learning\n",
    "# rates and regularization strengths; if you are careful you should be able to\n",
    "# get a classification accuracy of over 0.35 on the validation set.\n",
    "from cs231n.classifiers import Softmax\n",
    "results = {}\n",
    "best_val = -1\n",
    "best_softmax_clf = None\n",
    "learning_rates = np.linspace(1e-7, 5e-7, 10)\n",
    "regularization_strengths = np.linspace(1e4, 5e4, 10)\n",
    "\n",
    "################################################################################\n",
    "# TODO:                                                                        #\n",
    "# Use the validation set to set the learning rate and regularization strength. #\n",
    "# This should be identical to the validation that you did for the SVM; save    #\n",
    "# the best trained softmax classifer in best_softmax.                          #\n",
    "################################################################################\n",
    "for lr in tqdm_notebook(learning_rates):\n",
    "    for reg in tqdm_notebook(regularization_strengths):\n",
    "        softmax_clf = Softmax()\n",
    "        _ = softmax_clf.train(X_train, y_train, learning_rate=lr, \n",
    "                      reg=reg,\n",
    "                      num_iters=1500, verbose=False)\n",
    "        y_train_pred = softmax_clf.predict(X_train)\n",
    "        train_acc = np.mean(y_train == y_train_pred)\n",
    "        y_val_pred = softmax_clf.predict(X_val)\n",
    "        val_acc = np.mean(y_val == y_val_pred)\n",
    "        results[(lr, reg)] = (train_acc, val_acc)\n",
    "        if val_acc > best_val:\n",
    "            best_val = val_acc\n",
    "            best_softmax_clf = softmax_clf\n",
    "################################################################################\n",
    "#                              END OF YOUR CODE                                #\n",
    "################################################################################\n",
    "    \n",
    "# Print out results.\n",
    "for lr, reg in sorted(results):\n",
    "    train_accuracy, val_accuracy = results[(lr, reg)]\n",
    "    print('lr %e reg %e train accuracy: %f val accuracy: %f' % (\n",
    "                lr, reg, train_accuracy, val_accuracy))\n",
    "    \n",
    "print('best validation accuracy achieved during cross-validation: %f' % best_val)"
   ]
  },
  {
   "cell_type": "code",
   "execution_count": 7,
   "metadata": {},
   "outputs": [
    {
     "name": "stdout",
     "output_type": "stream",
     "text": [
      "softmax on raw pixels final test set accuracy: 0.358000\n"
     ]
    }
   ],
   "source": [
    "# evaluate on test set\n",
    "# Evaluate the best softmax on test set\n",
    "y_test_pred = best_softmax_clf.predict(X_test)\n",
    "test_accuracy = np.mean(y_test == y_test_pred)\n",
    "print('softmax on raw pixels final test set accuracy: %f' % (test_accuracy, ))"
   ]
  },
  {
   "cell_type": "code",
   "execution_count": 8,
   "metadata": {},
   "outputs": [
    {
     "data": {
      "image/png": "[encoded data removed]",
      "text/plain": [
       "<matplotlib.figure.Figure at 0x118a7a358>"
      ]
     },
     "metadata": {},
     "output_type": "display_data"
    }
   ],
   "source": [
    "# Visualize the learned weights for each class\n",
    "w = best_softmax_clf.W[:-1,:] # strip out the bias\n",
    "w = w.reshape(32, 32, 3, 10)\n",
    "\n",
    "w_min, w_max = np.min(w), np.max(w)\n",
    "\n",
    "classes = ['plane', 'car', 'bird', 'cat', 'deer', 'dog', 'frog', 'horse', 'ship', 'truck']\n",
    "for i in range(10):\n",
    "    plt.subplot(2, 5, i + 1)\n",
    "    \n",
    "    # Rescale the weights to be between 0 and 255\n",
    "    wimg = 255.0 * (w[:, :, :, i].squeeze() - w_min) / (w_max - w_min)\n",
    "    plt.imshow(wimg.astype('uint8'))\n",
    "    plt.axis('off')\n",
    "    plt.title(classes[i])"
   ]
  }
 ],
 "metadata": {
  "kernelspec": {
   "display_name": "Python 3",
   "language": "python",
   "name": "python3"
  },
  "language_info": {
   "codemirror_mode": {
    "name": "ipython",
    "version": 3
   },
   "file_extension": ".py",
   "mimetype": "text/x-python",
   "name": "python",
   "nbconvert_exporter": "python",
   "pygments_lexer": "ipython3",
   "version": "3.6.1"
  }
 },
 "nbformat": 4,
 "nbformat_minor": 1
}
