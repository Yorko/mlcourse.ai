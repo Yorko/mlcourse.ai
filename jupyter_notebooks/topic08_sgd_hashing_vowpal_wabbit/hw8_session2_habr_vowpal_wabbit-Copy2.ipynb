{
 "cells": [
  {
   "cell_type": "markdown",
   "metadata": {},
   "source": [
    "<center>\n",
    "<img src=\"../../img/ods_stickers.jpg\">\n",
    "## Открытый курс по машинному обучению. Сессия № 2\n",
    "</center>\n",
    "Автор материала: программист-исследователь Mail.ru Group, старший преподаватель Факультета Компьютерных Наук ВШЭ Юрий Кашницкий. Материал распространяется на условиях лицензии [Creative Commons CC BY-NC-SA 4.0](https://creativecommons.org/licenses/by-nc-sa/4.0/). Можно использовать в любых целях (редактировать, поправлять и брать за основу), кроме коммерческих, но с обязательным упоминанием автора материала."
   ]
  },
  {
   "cell_type": "markdown",
   "metadata": {},
   "source": [
    "# <center>Домашнее задание № 8\n",
    "## <center> Vowpal Wabbit в задаче прогнозирования популярности статьи на хабре"
   ]
  },
  {
   "cell_type": "markdown",
   "metadata": {},
   "source": [
    "В этом задании надо побить бенчмарк в [соревновании](https://www.kaggle.com/c/habr-num-bookmarks) на Kaggle Inclass. Как это делать – ограничений нет (кроме, конечно, ручной разметки), прочитать правила можно [тут](https://www.kaggle.com/c/habr-num-bookmarks/rules). Ниже описаны инструкции, как это сделать с Vowpal Wabbit.\n",
    "\n",
    "Дедлайн: 31 октября 23:59 UTC +3. Решение надо будет загрузить по [ссылке](https://www.dropbox.com/request/g5WOPrxwvcYwADZCuoY7). В этом соревновании нет задачи победить. Цель – побить бенчмарк и продвинуться в [соревновании](https://mlcourse.arktur.io) по прогнозу популярности статьи на Medium. "
   ]
  },
  {
   "cell_type": "code",
   "execution_count": 2,
   "metadata": {},
   "outputs": [],
   "source": [
    "import numpy as np\n",
    "import pandas as pd\n",
    "import json\n",
    "from tqdm import tqdm_notebook\n",
    "from sklearn.metrics import mean_absolute_error"
   ]
  },
  {
   "cell_type": "markdown",
   "metadata": {},
   "source": [
    "Посмотрим на одну из строчек в JSON-файле: считаем ее с помощью библиотеки json. Эта строчка соответствует [7-ой статье](https://habrahabr.ru/post/7/) на Хабре."
   ]
  },
  {
   "cell_type": "code",
   "execution_count": null,
   "metadata": {
    "collapsed": true
   },
   "outputs": [],
   "source": []
  },
  {
   "cell_type": "code",
   "execution_count": null,
   "metadata": {
    "collapsed": true
   },
   "outputs": [],
   "source": []
  },
  {
   "cell_type": "code",
   "execution_count": null,
   "metadata": {
    "collapsed": true
   },
   "outputs": [],
   "source": []
  },
  {
   "cell_type": "code",
   "execution_count": null,
   "metadata": {
    "collapsed": true
   },
   "outputs": [],
   "source": []
  },
  {
   "cell_type": "code",
   "execution_count": 2,
   "metadata": {
    "collapsed": true
   },
   "outputs": [],
   "source": [
    "#!head -1 ../../data/train.json > ../../data/train1.json\n",
    "!head -1 './habr-num-bookmarks/train.json' > train1.json"
   ]
  },
  {
   "cell_type": "code",
   "execution_count": 46,
   "metadata": {
    "collapsed": true
   },
   "outputs": [],
   "source": [
    "with open('train1.json') as inp_json:\n",
    "    first_json = json.load(inp_json)"
   ]
  },
  {
   "cell_type": "code",
   "execution_count": 47,
   "metadata": {},
   "outputs": [
    {
     "data": {
      "text/plain": [
       "dict_keys(['author', '_timestamp', 'post_id', 'published', 'title', 'flow', 'polling', 'meta_tags', 'flags', 'domain', '_id', 'link_tags', 'content', 'tags', 'hubs', 'url'])"
      ]
     },
     "execution_count": 47,
     "metadata": {},
     "output_type": "execute_result"
    }
   ],
   "source": [
    "first_json.keys()"
   ]
  },
  {
   "cell_type": "markdown",
   "metadata": {},
   "source": [
    "Видим 16 полей, перечислим некоторые из них:\n",
    "- _id, url - URL статьи\n",
    "- published – время публикации статьи\n",
    "- domain – сайт (например, habrahahbr.ru или geektimes.ru)\n",
    "- title – название статьи\n",
    "- content – текст статьи\n",
    "- hubs - перечисление хабов, к которым относится статья\n",
    "- tags – теги статьи\n",
    "- author – автор статьи, его ник и ссылка на профиль"
   ]
  },
  {
   "cell_type": "code",
   "execution_count": 6,
   "metadata": {},
   "outputs": [
    {
     "data": {
      "text/plain": [
       "'https://habrahabr.ru/post/7/'"
      ]
     },
     "execution_count": 6,
     "metadata": {},
     "output_type": "execute_result"
    }
   ],
   "source": [
    "first_json['_id']"
   ]
  },
  {
   "cell_type": "code",
   "execution_count": 7,
   "metadata": {},
   "outputs": [
    {
     "data": {
      "text/plain": [
       "1493192186.0903192"
      ]
     },
     "execution_count": 7,
     "metadata": {},
     "output_type": "execute_result"
    }
   ],
   "source": [
    "first_json['_timestamp']"
   ]
  },
  {
   "cell_type": "code",
   "execution_count": 103,
   "metadata": {},
   "outputs": [
    {
     "data": {
      "text/plain": [
       "'https://habrahabr.ru/post/7/'"
      ]
     },
     "execution_count": 103,
     "metadata": {},
     "output_type": "execute_result"
    }
   ],
   "source": [
    "first_json['url']"
   ]
  },
  {
   "cell_type": "code",
   "execution_count": 9,
   "metadata": {
    "scrolled": true
   },
   "outputs": [
    {
     "data": {
      "text/plain": [
       "'habrahabr.ru'"
      ]
     },
     "execution_count": 9,
     "metadata": {},
     "output_type": "execute_result"
    }
   ],
   "source": [
    "first_json['domain']"
   ]
  },
  {
   "cell_type": "code",
   "execution_count": 10,
   "metadata": {},
   "outputs": [
    {
     "data": {
      "text/plain": [
       "{'$date': '2006-07-15T01:48:00.000Z'}"
      ]
     },
     "execution_count": 10,
     "metadata": {},
     "output_type": "execute_result"
    }
   ],
   "source": [
    "first_json['published']"
   ]
  },
  {
   "cell_type": "code",
   "execution_count": 3,
   "metadata": {},
   "outputs": [
    {
     "ename": "NameError",
     "evalue": "name 'first_json' is not defined",
     "output_type": "error",
     "traceback": [
      "\u001b[0;31m---------------------------------------------------------------------------\u001b[0m",
      "\u001b[0;31mNameError\u001b[0m                                 Traceback (most recent call last)",
      "\u001b[0;32m<ipython-input-3-1e1ed041b278>\u001b[0m in \u001b[0;36m<module>\u001b[0;34m()\u001b[0m\n\u001b[1;32m      1\u001b[0m \u001b[0;32mfrom\u001b[0m \u001b[0mdateutil\u001b[0m \u001b[0;32mimport\u001b[0m \u001b[0mparser\u001b[0m\u001b[0;34m\u001b[0m\u001b[0m\n\u001b[0;32m----> 2\u001b[0;31m \u001b[0mparser\u001b[0m\u001b[0;34m.\u001b[0m\u001b[0mparse\u001b[0m\u001b[0;34m(\u001b[0m\u001b[0mfirst_json\u001b[0m\u001b[0;34m[\u001b[0m\u001b[0;34m'published'\u001b[0m\u001b[0;34m]\u001b[0m\u001b[0;34m[\u001b[0m\u001b[0;34m'$date'\u001b[0m\u001b[0;34m]\u001b[0m\u001b[0;34m)\u001b[0m\u001b[0;34m.\u001b[0m\u001b[0mmonth\u001b[0m\u001b[0;34m\u001b[0m\u001b[0m\n\u001b[0m\u001b[1;32m      3\u001b[0m \u001b[0mparser\u001b[0m\u001b[0;34m.\u001b[0m\u001b[0mparse\u001b[0m\u001b[0;34m(\u001b[0m\u001b[0mfirst_json\u001b[0m\u001b[0;34m[\u001b[0m\u001b[0;34m'published'\u001b[0m\u001b[0;34m]\u001b[0m\u001b[0;34m[\u001b[0m\u001b[0;34m'$date'\u001b[0m\u001b[0;34m]\u001b[0m\u001b[0;34m)\u001b[0m\u001b[0;34m.\u001b[0m\u001b[0mhour\u001b[0m\u001b[0;34m\u001b[0m\u001b[0m\n",
      "\u001b[0;31mNameError\u001b[0m: name 'first_json' is not defined"
     ]
    }
   ],
   "source": [
    "from dateutil import parser\n",
    "parser.parse(first_json['published']['$date']).month\n",
    "parser.parse(first_json['published']['$date']).hour"
   ]
  },
  {
   "cell_type": "code",
   "execution_count": 11,
   "metadata": {},
   "outputs": [
    {
     "data": {
      "text/plain": [
       "'Самопроизвольное разлогинивание'"
      ]
     },
     "execution_count": 11,
     "metadata": {},
     "output_type": "execute_result"
    }
   ],
   "source": [
    "first_json['title']"
   ]
  },
  {
   "cell_type": "code",
   "execution_count": 12,
   "metadata": {},
   "outputs": [
    {
     "data": {
      "text/plain": [
       "'У меня такое ощущение, что logout время от времени происходит самопроизвольно, несмотря на то, что чекбокс про логине включен.<br>\\r\\n<br>\\r\\nВозможно, это происходит при смене IP-адреса, но я не уверен.'"
      ]
     },
     "execution_count": 12,
     "metadata": {},
     "output_type": "execute_result"
    }
   ],
   "source": [
    "first_json['content']"
   ]
  },
  {
   "cell_type": "code",
   "execution_count": 13,
   "metadata": {
    "collapsed": true
   },
   "outputs": [],
   "source": [
    "first_json['polling']"
   ]
  },
  {
   "cell_type": "code",
   "execution_count": 14,
   "metadata": {},
   "outputs": [
    {
     "data": {
      "text/plain": [
       "7"
      ]
     },
     "execution_count": 14,
     "metadata": {},
     "output_type": "execute_result"
    }
   ],
   "source": [
    "first_json['post_id']"
   ]
  },
  {
   "cell_type": "code",
   "execution_count": 15,
   "metadata": {},
   "outputs": [
    {
     "data": {
      "text/plain": [
       "[]"
      ]
     },
     "execution_count": 15,
     "metadata": {},
     "output_type": "execute_result"
    }
   ],
   "source": [
    "first_json['flags']"
   ]
  },
  {
   "cell_type": "code",
   "execution_count": 16,
   "metadata": {},
   "outputs": [
    {
     "data": {
      "text/plain": [
       "[{'id': 'hub/habr',\n",
       "  'title': 'Хабрахабр',\n",
       "  'url': 'https://habrahabr.ru/hub/habr/'}]"
      ]
     },
     "execution_count": 16,
     "metadata": {},
     "output_type": "execute_result"
    }
   ],
   "source": [
    "first_json['hubs']"
   ]
  },
  {
   "cell_type": "code",
   "execution_count": 73,
   "metadata": {},
   "outputs": [
    {
     "data": {
      "text/plain": [
       "'Хабрахабр'"
      ]
     },
     "execution_count": 73,
     "metadata": {},
     "output_type": "execute_result"
    }
   ],
   "source": [
    "first_json['hubs'][0]['title']"
   ]
  },
  {
   "cell_type": "code",
   "execution_count": 17,
   "metadata": {
    "collapsed": true
   },
   "outputs": [],
   "source": [
    "first_json['flow']"
   ]
  },
  {
   "cell_type": "code",
   "execution_count": 18,
   "metadata": {},
   "outputs": [
    {
     "data": {
      "text/plain": [
       "['логин', 'login']"
      ]
     },
     "execution_count": 18,
     "metadata": {},
     "output_type": "execute_result"
    }
   ],
   "source": [
    "first_json['tags']"
   ]
  },
  {
   "cell_type": "code",
   "execution_count": 48,
   "metadata": {},
   "outputs": [
    {
     "data": {
      "text/plain": [
       "{'name': 'Павел Титов',\n",
       " 'nickname': '@ptitov',\n",
       " 'url': 'https://habrahabr.ru/users/ptitov'}"
      ]
     },
     "execution_count": 48,
     "metadata": {},
     "output_type": "execute_result"
    }
   ],
   "source": [
    "first_json['author']"
   ]
  },
  {
   "cell_type": "code",
   "execution_count": 66,
   "metadata": {},
   "outputs": [
    {
     "data": {
      "text/plain": [
       "'@ptitov'"
      ]
     },
     "execution_count": 66,
     "metadata": {},
     "output_type": "execute_result"
    }
   ],
   "source": [
    "first_json['author']['nickname'].replace(\"''\",'')"
   ]
  },
  {
   "cell_type": "code",
   "execution_count": 20,
   "metadata": {},
   "outputs": [
    {
     "data": {
      "text/plain": [
       "{'alternate': 'https://habrahabr.ru/rss/post/7/',\n",
       " 'apple-touch-icon-precomposed': '/images/favicons/apple-touch-icon-152x152.png',\n",
       " 'canonical': 'https://habrahabr.ru/post/7/',\n",
       " 'icon': '/images/favicons/favicon-16x16.png',\n",
       " 'image_src': 'https://habrahabr.ru/i/habralogo.jpg',\n",
       " 'stylesheet': 'https://habracdn.net/habr/styles/1493134745/_build/global_main.css'}"
      ]
     },
     "execution_count": 20,
     "metadata": {},
     "output_type": "execute_result"
    }
   ],
   "source": [
    "first_json['link_tags']"
   ]
  },
  {
   "cell_type": "code",
   "execution_count": 21,
   "metadata": {},
   "outputs": [
    {
     "data": {
      "text/plain": [
       "{'al:android:app_name': 'Habrahabr',\n",
       " 'al:android:package': 'ru.habrahabr',\n",
       " 'al:android:url': 'habrahabr://post/7',\n",
       " 'al:windows_phone:app_id': '460a6bd6-8955-470f-935e-9ea1726a6060',\n",
       " 'al:windows_phone:app_name': 'Habrahabr',\n",
       " 'al:windows_phone:url': 'habrahabr://post/7',\n",
       " 'apple-mobile-web-app-title': 'Хабрахабр',\n",
       " 'application-name': 'Хабрахабр',\n",
       " 'description': 'У меня такое ощущение, что logout время от времени происходит самопроизвольно, несмотря на то, что чекбокс про логине включен.\\r\\n\\r\\nВозможно, это происходит при смене IP-адреса, но я не уверен.',\n",
       " 'fb:app_id': '444736788986613',\n",
       " 'keywords': 'логин, login',\n",
       " 'msapplication-TileColor': '#FFFFFF',\n",
       " 'msapplication-TileImage': 'mstile-144x144.png',\n",
       " 'og:description': 'У меня такое ощущение, что logout время от времени происходит самопроизвольно, несмотря на то, что чекбокс про логине включен.  Возможно, это происходит при...',\n",
       " 'og:image': 'https://habrahabr.ru/i/habralogo.jpg',\n",
       " 'og:title': 'Самопроизвольное разлогинивание',\n",
       " 'og:type': 'article',\n",
       " 'og:url': 'https://habrahabr.ru/post/7/',\n",
       " 'pocket-site-verification': 'ed24b2b9721edf0a282c5b4a3232c4',\n",
       " 'referrer': 'unsafe-url',\n",
       " 'robots': 'noindex',\n",
       " 'twitter:card': 'summary',\n",
       " 'twitter:site': '@habrahabr',\n",
       " 'viewport': 'width=1024',\n",
       " 'yandex-verification': '67d46b975fa41645'}"
      ]
     },
     "execution_count": 21,
     "metadata": {},
     "output_type": "execute_result"
    }
   ],
   "source": [
    "first_json['meta_tags']"
   ]
  },
  {
   "cell_type": "markdown",
   "metadata": {},
   "source": [
    "Загрузим ответы на обучающей выборке."
   ]
  },
  {
   "cell_type": "code",
   "execution_count": 4,
   "metadata": {},
   "outputs": [],
   "source": [
    "#train_target = pd.read_csv('../../data/train_target.csv', index_col='url')\n",
    "train_target = pd.read_csv('./train_target.csv', index_col='url')"
   ]
  },
  {
   "cell_type": "code",
   "execution_count": 39,
   "metadata": {},
   "outputs": [
    {
     "data": {
      "text/html": [
       "<div>\n",
       "<style>\n",
       "    .dataframe thead tr:only-child th {\n",
       "        text-align: right;\n",
       "    }\n",
       "\n",
       "    .dataframe thead th {\n",
       "        text-align: left;\n",
       "    }\n",
       "\n",
       "    .dataframe tbody tr th {\n",
       "        vertical-align: top;\n",
       "    }\n",
       "</style>\n",
       "<table border=\"1\" class=\"dataframe\">\n",
       "  <thead>\n",
       "    <tr style=\"text-align: right;\">\n",
       "      <th></th>\n",
       "      <th>target</th>\n",
       "    </tr>\n",
       "    <tr>\n",
       "      <th>url</th>\n",
       "      <th></th>\n",
       "    </tr>\n",
       "  </thead>\n",
       "  <tbody>\n",
       "    <tr>\n",
       "      <th>https://habrahabr.ru/post/7/</th>\n",
       "      <td>0.693147</td>\n",
       "    </tr>\n",
       "    <tr>\n",
       "      <th>https://geektimes.ru/post/11/</th>\n",
       "      <td>1.098612</td>\n",
       "    </tr>\n",
       "    <tr>\n",
       "      <th>https://geektimes.ru/post/112/</th>\n",
       "      <td>0.000000</td>\n",
       "    </tr>\n",
       "    <tr>\n",
       "      <th>https://geektimes.ru/post/1127/</th>\n",
       "      <td>0.000000</td>\n",
       "    </tr>\n",
       "    <tr>\n",
       "      <th>https://geektimes.ru/post/12664/</th>\n",
       "      <td>0.000000</td>\n",
       "    </tr>\n",
       "  </tbody>\n",
       "</table>\n",
       "</div>"
      ],
      "text/plain": [
       "                                    target\n",
       "url                                       \n",
       "https://habrahabr.ru/post/7/      0.693147\n",
       "https://geektimes.ru/post/11/     1.098612\n",
       "https://geektimes.ru/post/112/    0.000000\n",
       "https://geektimes.ru/post/1127/   0.000000\n",
       "https://geektimes.ru/post/12664/  0.000000"
      ]
     },
     "execution_count": 39,
     "metadata": {},
     "output_type": "execute_result"
    }
   ],
   "source": [
    "train_target.head()"
   ]
  },
  {
   "cell_type": "code",
   "execution_count": 5,
   "metadata": {},
   "outputs": [
    {
     "data": {
      "text/plain": [
       "0.69314700000000007"
      ]
     },
     "execution_count": 5,
     "metadata": {},
     "output_type": "execute_result"
    }
   ],
   "source": [
    "train_target.loc['https://habrahabr.ru/post/7/']['target']"
   ]
  },
  {
   "cell_type": "markdown",
   "metadata": {},
   "source": [
    "Сформируйте обучающую выборку для Vowpal Wabbit, выберите признаки title, tags, domain, flow, author, и hubs из JSON-файла.\n",
    "От самого текста для начала просто возьмем его длину: постройте признак content_len – длина текста в миллионах символов.\n",
    "Также постройте признаки: час и месяц публикации статьи. Еще, конечно же, возьмите ответы на обучающей выборке из `train_target`. Ниже пример того, как могут выглядеть первые две строки нового файла."
   ]
  },
  {
   "cell_type": "code",
   "execution_count": null,
   "metadata": {},
   "outputs": [],
   "source": []
  },
  {
   "cell_type": "code",
   "execution_count": 13,
   "metadata": {},
   "outputs": [],
   "source": [
    "import re"
   ]
  },
  {
   "cell_type": "code",
   "execution_count": 28,
   "metadata": {},
   "outputs": [
    {
     "data": {
      "text/plain": [
       "'title подробности о medison celebrity халявы не будет'"
      ]
     },
     "execution_count": 28,
     "metadata": {},
     "output_type": "execute_result"
    }
   ],
   "source": [
    "re.sub('[^a-zA-Z1-9а-яА-Я ]', '', \n",
    "       'title Подробности о Medison Celebrity: халявы не будет!?'.lower())"
   ]
  },
  {
   "cell_type": "code",
   "execution_count": 7,
   "metadata": {},
   "outputs": [],
   "source": [
    "#для теста делаем файл с 1000ю записями\n",
    "!head -1000 './habr-num-bookmarks/train.json' > train1000_zm.json"
   ]
  },
  {
   "cell_type": "code",
   "execution_count": 34,
   "metadata": {},
   "outputs": [
    {
     "data": {
      "application/vnd.jupyter.widget-view+json": {
       "model_id": "b121ea89dc3b40dfbcb12b70b3d85905",
       "version_major": 2,
       "version_minor": 0
      },
      "text/html": [
       "<p>Failed to display Jupyter Widget of type <code>HBox</code>.</p>\n",
       "<p>\n",
       "  If you're reading this message in Jupyter Notebook or JupyterLab, it may mean\n",
       "  that the widgets JavaScript is still loading. If this message persists, it\n",
       "  likely means that the widgets JavaScript library is either not installed or\n",
       "  not enabled. See the <a href=\"https://ipywidgets.readthedocs.io/en/stable/user_install.html\">Jupyter\n",
       "  Widgets Documentation</a> for setup instructions.\n",
       "</p>\n",
       "<p>\n",
       "  If you're reading this message in another notebook frontend (for example, a static\n",
       "  rendering on GitHub or <a href=\"https://nbviewer.jupyter.org/\">NBViewer</a>),\n",
       "  it may mean that your frontend doesn't currently support widgets.\n",
       "</p>\n"
      ],
      "text/plain": [
       "HBox(children=(IntProgress(value=1, bar_style='info', max=1), HTML(value='')))"
      ]
     },
     "metadata": {},
     "output_type": "display_data"
    },
    {
     "name": "stdout",
     "output_type": "stream",
     "text": [
      "\n"
     ]
    }
   ],
   "source": [
    "#вот этот код 1000!\n",
    "import re\n",
    "from dateutil import parser\n",
    "i = 0\n",
    "with open('./train1000_zm.json', encoding='utf-8') as inp_json, open('train_zm_1000.vw', 'w', encoding='utf-8') as out_vw, open('train_zm_valid_labels_1000.vw', 'w') as out_vw_labels:\n",
    "    for line in tqdm_notebook(inp_json):\n",
    "        data_json = json.loads(line)        \n",
    "        if i<700:\n",
    "            target = train_target.loc[data_json['url']]['target']\n",
    "        else:\n",
    "            target = 1\n",
    "        out_vw.write('{} |title {} |tags {} |domain {} |flow {} |author {} |hubs {} |num content_len:{} month:{} hour:{}\\n'\n",
    "              .format(round(target, 6)\n",
    "                , re.sub('[^a-zA-Z1-9а-яА-Я ]', '', data_json['title'].lower())\n",
    "                , ' '.join(data_json['tags'])\n",
    "                , data_json['domain'], data_json['flow']\n",
    "                , data_json['author']['nickname']\n",
    "                , data_json['hubs'][0]['title']\n",
    "                , round(len(data_json['content']) / 1000000, 2)\n",
    "                , parser.parse(data_json['published']['$date']).month\n",
    "                , parser.parse(data_json['published']['$date']).hour\n",
    "                )\n",
    "             )\n",
    "        out_vw_labels.write('{}\\n'.format(round(train_target.loc[data_json['url']]['target'], 6)))\n",
    "        i+=1;"
   ]
  },
  {
   "cell_type": "code",
   "execution_count": 35,
   "metadata": {},
   "outputs": [
    {
     "name": "stdout",
     "output_type": "stream",
     "text": [
      "  1000 train_zm_1000.vw\r\n",
      "  1000 train_zm_valid_labels_1000.vw\r\n",
      "  2000 total\r\n"
     ]
    }
   ],
   "source": [
    "!wc -l *1000*.vw"
   ]
  },
  {
   "cell_type": "code",
   "execution_count": 36,
   "metadata": {},
   "outputs": [],
   "source": [
    "!split -l 700 './train_zm_1000.vw' train_zm_1000_"
   ]
  },
  {
   "cell_type": "code",
   "execution_count": 37,
   "metadata": {},
   "outputs": [],
   "source": [
    "!split -l 700 './train_zm_valid_labels_1000.vw' train_zm_valid_labels_1000_"
   ]
  },
  {
   "cell_type": "markdown",
   "metadata": {},
   "source": [
    "------------"
   ]
  },
  {
   "cell_type": "code",
   "execution_count": 12,
   "metadata": {},
   "outputs": [
    {
     "data": {
      "application/vnd.jupyter.widget-view+json": {
       "model_id": "42164bd0fe1748988bb425ad53f81155",
       "version_major": 2,
       "version_minor": 0
      },
      "text/html": [
       "<p>Failed to display Jupyter Widget of type <code>HBox</code>.</p>\n",
       "<p>\n",
       "  If you're reading this message in Jupyter Notebook or JupyterLab, it may mean\n",
       "  that the widgets JavaScript is still loading. If this message persists, it\n",
       "  likely means that the widgets JavaScript library is either not installed or\n",
       "  not enabled. See the <a href=\"https://ipywidgets.readthedocs.io/en/stable/user_install.html\">Jupyter\n",
       "  Widgets Documentation</a> for setup instructions.\n",
       "</p>\n",
       "<p>\n",
       "  If you're reading this message in another notebook frontend (for example, a static\n",
       "  rendering on GitHub or <a href=\"https://nbviewer.jupyter.org/\">NBViewer</a>),\n",
       "  it may mean that your frontend doesn't currently support widgets.\n",
       "</p>\n"
      ],
      "text/plain": [
       "HBox(children=(IntProgress(value=1, bar_style='info', max=1), HTML(value='')))"
      ]
     },
     "metadata": {},
     "output_type": "display_data"
    },
    {
     "name": "stdout",
     "output_type": "stream",
     "text": [
      "\n"
     ]
    }
   ],
   "source": [
    "import re\n",
    "from dateutil import parser\n",
    "i = 0\n",
    "with open('./habr-num-bookmarks/train.json', encoding='utf-8') as inp_json, open('train_zm_main.vw', 'w', encoding='utf-8') as out_vw, open('train_zm_valid_labels_main.vw', 'w') as out_vw_labels:\n",
    "    for line in tqdm_notebook(inp_json):\n",
    "        data_json = json.loads(line)        \n",
    "        if i<84000:\n",
    "            target = train_target.loc[data_json['url']]['target']\n",
    "        else:\n",
    "            target = 1\n",
    "        out_vw.write('{} |title {} |tags {} |domain {} |flow {} |author {} |hubs {} |num content_len:{} month:{} hour:{}\\n'\n",
    "              .format(round(target, 6)\n",
    "                #, re.sub('[^a-zA-Z1-9а-яА-Я +@#]', '', data_json['title'].lower())\n",
    "                , re.sub('[^a-zA-Z1-9а-яА-Я +@#]', '', data_json['title'].lower())                      \n",
    "                , re.sub('[^a-zA-Z1-9а-яА-Я +@#]', '', ' '.join(data_json['tags']).lower())\n",
    "                , data_json['domain'], data_json['flow']\n",
    "                , data_json['author']['nickname']\n",
    "                , re.sub('[^a-zA-Z1-9а-яА-Я +@#]', '', data_json['hubs'][0]['title'].lower())\n",
    "                , round(len(data_json['content']) / 1000000, 3)\n",
    "                , parser.parse(data_json['published']['$date']).month\n",
    "                , parser.parse(data_json['published']['$date']).hour\n",
    "                )\n",
    "             )\n",
    "        out_vw_labels.write('{}\\n'.format(round(train_target.loc[data_json['url']]['target'], 6)))\n",
    "        i+=1;"
   ]
  },
  {
   "cell_type": "code",
   "execution_count": 13,
   "metadata": {},
   "outputs": [],
   "source": [
    "!split -l 84000 './train_zm_main.vw' train_zm_main_"
   ]
  },
  {
   "cell_type": "code",
   "execution_count": 14,
   "metadata": {},
   "outputs": [],
   "source": [
    "!split -l 84000 './train_zm_valid_labels_main.vw' train_zm_valid_labels_main_"
   ]
  },
  {
   "cell_type": "code",
   "execution_count": 15,
   "metadata": {},
   "outputs": [
    {
     "name": "stdout",
     "output_type": "stream",
     "text": [
      "    52913 test_zm_main.vw\n",
      "   120000 train_zm_main.vw\n",
      "    84000 train_zm_main_aa\n",
      "    36000 train_zm_main_ab\n",
      "    36000 train_zm_main_test.vw\n",
      "    84000 train_zm_main_train.vw\n",
      "   120000 train_zm_valid_labels_main.vw\n",
      "    84000 train_zm_valid_labels_main_aa\n",
      "    36000 train_zm_valid_labels_main_ab\n",
      "    36000 train_zm_valid_labels_main_test.vw\n",
      "    84000 train_zm_valid_labels_main_train.vw\n",
      "   772913 total\n"
     ]
    }
   ],
   "source": [
    "!wc -l *zm_*main*"
   ]
  },
  {
   "cell_type": "code",
   "execution_count": 16,
   "metadata": {},
   "outputs": [],
   "source": [
    "!mv train_zm_main_aa train_zm_main_train.vw\n",
    "!mv train_zm_main_ab train_zm_main_test.vw\n",
    "!mv train_zm_valid_labels_main_aa train_zm_valid_labels_main_train.vw\n",
    "!mv train_zm_valid_labels_main_ab train_zm_valid_labels_main_test.vw"
   ]
  },
  {
   "cell_type": "code",
   "execution_count": 17,
   "metadata": {},
   "outputs": [
    {
     "name": "stdout",
     "output_type": "stream",
     "text": [
      "   52913 test_zm_main.vw\n",
      "  120000 train_zm_main.vw\n",
      "   36000 train_zm_main_test.vw\n",
      "   84000 train_zm_main_train.vw\n",
      "  120000 train_zm_valid_labels_main.vw\n",
      "   36000 train_zm_valid_labels_main_test.vw\n",
      "   84000 train_zm_valid_labels_main_train.vw\n",
      "  532913 total\n"
     ]
    }
   ],
   "source": [
    "!wc -l *zm_*main*"
   ]
  },
  {
   "cell_type": "code",
   "execution_count": 11,
   "metadata": {},
   "outputs": [
    {
     "data": {
      "application/vnd.jupyter.widget-view+json": {
       "model_id": "ddcd619310704169bd573cce1c7e8307",
       "version_major": 2,
       "version_minor": 0
      },
      "text/html": [
       "<p>Failed to display Jupyter Widget of type <code>HBox</code>.</p>\n",
       "<p>\n",
       "  If you're reading this message in Jupyter Notebook or JupyterLab, it may mean\n",
       "  that the widgets JavaScript is still loading. If this message persists, it\n",
       "  likely means that the widgets JavaScript library is either not installed or\n",
       "  not enabled. See the <a href=\"https://ipywidgets.readthedocs.io/en/stable/user_install.html\">Jupyter\n",
       "  Widgets Documentation</a> for setup instructions.\n",
       "</p>\n",
       "<p>\n",
       "  If you're reading this message in another notebook frontend (for example, a static\n",
       "  rendering on GitHub or <a href=\"https://nbviewer.jupyter.org/\">NBViewer</a>),\n",
       "  it may mean that your frontend doesn't currently support widgets.\n",
       "</p>\n"
      ],
      "text/plain": [
       "HBox(children=(IntProgress(value=1, bar_style='info', max=1), HTML(value='')))"
      ]
     },
     "metadata": {},
     "output_type": "display_data"
    },
    {
     "name": "stdout",
     "output_type": "stream",
     "text": [
      "\n"
     ]
    }
   ],
   "source": [
    "#тестовая\n",
    "import re\n",
    "from dateutil import parser\n",
    "i = 0\n",
    "target = 1\n",
    "with open('./habr-num-bookmarks/test.json', encoding='utf-8') as inp_json, open('test_zm_main.vw', 'w', encoding='utf-8') as out_vw:\n",
    "    for line in tqdm_notebook(inp_json):\n",
    "        data_json = json.loads(line)        \n",
    "        out_vw.write('{} |title {} |tags {} |domain {} |flow {} |author {} |hubs {} |num content_len:{} month:{} hour:{}\\n'\n",
    "              .format(round(target, 6)\n",
    "                , re.sub('[^a-zA-Z1-9а-яА-Я +@#]', '', data_json['title'].lower())\n",
    "                , re.sub('[^a-zA-Z1-9а-яА-Я +@#]', '', ' '.join(data_json['tags']).lower())\n",
    "                , data_json['domain'], data_json['flow']\n",
    "                , data_json['author']['nickname']\n",
    "                , re.sub('[^a-zA-Z1-9а-яА-Я +@#]', '', data_json['hubs'][0]['title'].lower())\n",
    "                , round(len(data_json['content']) / 1000000, 3)\n",
    "                , parser.parse(data_json['published']['$date']).month\n",
    "                , parser.parse(data_json['published']['$date']).hour\n",
    "                )\n",
    "             )"
   ]
  },
  {
   "cell_type": "markdown",
   "metadata": {},
   "source": [
    "----"
   ]
  },
  {
   "cell_type": "code",
   "execution_count": null,
   "metadata": {},
   "outputs": [],
   "source": []
  },
  {
   "cell_type": "code",
   "execution_count": null,
   "metadata": {},
   "outputs": [],
   "source": []
  },
  {
   "cell_type": "code",
   "execution_count": null,
   "metadata": {},
   "outputs": [],
   "source": []
  },
  {
   "cell_type": "code",
   "execution_count": null,
   "metadata": {},
   "outputs": [],
   "source": []
  },
  {
   "cell_type": "code",
   "execution_count": 26,
   "metadata": {
    "collapsed": true
   },
   "outputs": [],
   "source": [
    "#для теста делаем файл с 2мя записями\n",
    "!head -2 './habr-num-bookmarks/train.json' > train2_zm.json"
   ]
  },
  {
   "cell_type": "code",
   "execution_count": 4,
   "metadata": {
    "collapsed": true
   },
   "outputs": [],
   "source": [
    "with open('train2_zm.vw', 'w') as out_file:\n",
    "    out_file.write('{} | {}\\n'.format(str(1), str('Hello')))\n",
    "               \n",
    "#               format(str(topic_map[list(topics_from_list)[0]]), \n",
    "#                                              text.strip().replace(':', '').replace('|', '')))"
   ]
  },
  {
   "cell_type": "code",
   "execution_count": null,
   "metadata": {
    "collapsed": true
   },
   "outputs": [],
   "source": []
  },
  {
   "cell_type": "code",
   "execution_count": 126,
   "metadata": {},
   "outputs": [
    {
     "data": {
      "application/vnd.jupyter.widget-view+json": {
       "model_id": "e08942c748a5453fa42416ebef12d3e2",
       "version_major": 2,
       "version_minor": 0
      },
      "text/html": [
       "<p>Failed to display Jupyter Widget of type <code>HBox</code>.</p>\n",
       "<p>\n",
       "  If you're reading this message in Jupyter Notebook or JupyterLab, it may mean\n",
       "  that the widgets JavaScript is still loading. If this message persists, it\n",
       "  likely means that the widgets JavaScript library is either not installed or\n",
       "  not enabled. See the <a href=\"https://ipywidgets.readthedocs.io/en/stable/user_install.html\">Jupyter\n",
       "  Widgets Documentation</a> for setup instructions.\n",
       "</p>\n",
       "<p>\n",
       "  If you're reading this message in another notebook frontend (for example, a static\n",
       "  rendering on GitHub or <a href=\"https://nbviewer.jupyter.org/\">NBViewer</a>),\n",
       "  it may mean that your frontend doesn't currently support widgets.\n",
       "</p>\n"
      ],
      "text/plain": [
       "HBox(children=(IntProgress(value=1, bar_style='info', max=1), HTML(value='')))"
      ]
     },
     "metadata": {},
     "output_type": "display_data"
    },
    {
     "name": "stdout",
     "output_type": "stream",
     "text": [
      "0.6931470000000001 |title Самопроизвольное разлогинивание |tags логин login |domain habrahabr.ru |flow None |author @ptitov |hubs Хабрахабр |num content_len:0.0 month:7 hour:1\n",
      "\n",
      "1.0986120000000001 |title Stand-along cообщества против сообществ в рамках социальных сетей |tags сообщества интернет-сообщество социальные сети нишевой бренд |domain geektimes.ru |flow None |author @AlexBruce |hubs Чёрная дыра |num content_len:0.0 month:7 hour:14\n",
      "\n",
      "\n"
     ]
    }
   ],
   "source": [
    "from dateutil import parser\n",
    "with open('train2_zm.json') as inp_json, open('train2_zm.vw', 'w', encoding='utf-8') as out_vw:\n",
    "    for line in tqdm_notebook(inp_json):\n",
    "        data_json = json.loads(line)\n",
    "        print('{} |title {} |tags {} |domain {} |flow {} |author {} |hubs {} |num content_len:{} month:{} hour:{}\\n'\n",
    "              .format(train_target.loc[data_json['url']]['target']\n",
    "                , data_json['title']\n",
    "                , ' '.join(data_json['tags'])\n",
    "                , data_json['domain'], data_json['flow']\n",
    "                , data_json['author']['nickname']\n",
    "                , data_json['hubs'][0]['title']\n",
    "                , round(len(data_json['content']) / 1000000, 1)\n",
    "                , parser.parse(data_json['published']['$date']).month\n",
    "                , parser.parse(data_json['published']['$date']).hour\n",
    "                )\n",
    "             )\n",
    "        #out_vw.write('{}|{}\\n'.format(data_json['title'], str(data_json['tags']).replace('''''', '')))\n",
    "        "
   ]
  },
  {
   "cell_type": "code",
   "execution_count": 127,
   "metadata": {},
   "outputs": [
    {
     "data": {
      "application/vnd.jupyter.widget-view+json": {
       "model_id": "5be3172ef0ef403bb31848d2236e492c",
       "version_major": 2,
       "version_minor": 0
      },
      "text/html": [
       "<p>Failed to display Jupyter Widget of type <code>HBox</code>.</p>\n",
       "<p>\n",
       "  If you're reading this message in Jupyter Notebook or JupyterLab, it may mean\n",
       "  that the widgets JavaScript is still loading. If this message persists, it\n",
       "  likely means that the widgets JavaScript library is either not installed or\n",
       "  not enabled. See the <a href=\"https://ipywidgets.readthedocs.io/en/stable/user_install.html\">Jupyter\n",
       "  Widgets Documentation</a> for setup instructions.\n",
       "</p>\n",
       "<p>\n",
       "  If you're reading this message in another notebook frontend (for example, a static\n",
       "  rendering on GitHub or <a href=\"https://nbviewer.jupyter.org/\">NBViewer</a>),\n",
       "  it may mean that your frontend doesn't currently support widgets.\n",
       "</p>\n"
      ],
      "text/plain": [
       "HBox(children=(IntProgress(value=1, bar_style='info', max=1), HTML(value='')))"
      ]
     },
     "metadata": {},
     "output_type": "display_data"
    },
    {
     "name": "stdout",
     "output_type": "stream",
     "text": [
      "\n"
     ]
    }
   ],
   "source": [
    "from dateutil import parser\n",
    "with open('train2_zm.json') as inp_json, open('train2_zm.vw', 'w', encoding='utf-8') as out_vw:\n",
    "    for line in tqdm_notebook(inp_json):\n",
    "        data_json = json.loads(line)\n",
    "        out_vw.write('{} |title {} |tags {} |domain {} |flow {} |author {} |hubs {} |num content_len:{} month:{} hour:{}\\n'\n",
    "              .format(train_target.loc[data_json['url']]['target']\n",
    "                , data_json['title']\n",
    "                , ' '.join(data_json['tags'])\n",
    "                , data_json['domain'], data_json['flow']\n",
    "                , data_json['author']['nickname']\n",
    "                , data_json['hubs'][0]['title']\n",
    "                , round(len(data_json['content']) / 1000000, 1)\n",
    "                , parser.parse(data_json['published']['$date']).month\n",
    "                , parser.parse(data_json['published']['$date']).hour\n",
    "                )\n",
    "             )"
   ]
  },
  {
   "cell_type": "code",
   "execution_count": 11,
   "metadata": {},
   "outputs": [
    {
     "data": {
      "application/vnd.jupyter.widget-view+json": {
       "model_id": "64ed9a4de8f84f99a48dd63723f45316"
      }
     },
     "metadata": {},
     "output_type": "display_data"
    },
    {
     "name": "stdout",
     "output_type": "stream",
     "text": [
      "\n"
     ]
    }
   ],
   "source": [
    "#вот этот код!\n",
    "from dateutil import parser\n",
    "i = 0\n",
    "with open('./train1000_zm.json.json', encoding='utf-8') as inp_json, open('train_zm_1000.vw', 'w', encoding='utf-8') as out_vw, open('train_zm_valid_labels.vw', 'w') as out_vw_labels:\n",
    "    for line in tqdm_notebook(inp_json):\n",
    "        data_json = json.loads(line)\n",
    "        i+=1;\n",
    "        if i<84000:\n",
    "            target = train_target.loc[data_json['url']]['target']\n",
    "        else:\n",
    "            target = 1\n",
    "        out_vw.write('{} |title {} |tags {} |domain {} |flow {} |author {} |hubs {} |num content_len:{} month:{} hour:{}\\n'\n",
    "              .format(round(target, 6)\n",
    "                , data_json['title']\n",
    "                , ' '.join(data_json['tags'])\n",
    "                , data_json['domain'], data_json['flow']\n",
    "                , data_json['author']['nickname']\n",
    "                , data_json['hubs'][0]['title']\n",
    "                , round(len(data_json['content']) / 1000000, 1)\n",
    "                , parser.parse(data_json['published']['$date']).month\n",
    "                , parser.parse(data_json['published']['$date']).hour\n",
    "                )\n",
    "             )\n",
    "        out_vw_labels.write('{}\\n'.format(train_target.loc[data_json['url']]['target']))"
   ]
  },
  {
   "cell_type": "code",
   "execution_count": 129,
   "metadata": {},
   "outputs": [
    {
     "data": {
      "application/vnd.jupyter.widget-view+json": {
       "model_id": "8bddaf4c3fd84717ab29e58a74fef006",
       "version_major": 2,
       "version_minor": 0
      },
      "text/html": [
       "<p>Failed to display Jupyter Widget of type <code>HBox</code>.</p>\n",
       "<p>\n",
       "  If you're reading this message in Jupyter Notebook or JupyterLab, it may mean\n",
       "  that the widgets JavaScript is still loading. If this message persists, it\n",
       "  likely means that the widgets JavaScript library is either not installed or\n",
       "  not enabled. See the <a href=\"https://ipywidgets.readthedocs.io/en/stable/user_install.html\">Jupyter\n",
       "  Widgets Documentation</a> for setup instructions.\n",
       "</p>\n",
       "<p>\n",
       "  If you're reading this message in another notebook frontend (for example, a static\n",
       "  rendering on GitHub or <a href=\"https://nbviewer.jupyter.org/\">NBViewer</a>),\n",
       "  it may mean that your frontend doesn't currently support widgets.\n",
       "</p>\n"
      ],
      "text/plain": [
       "HBox(children=(IntProgress(value=1, bar_style='info', max=1), HTML(value='')))"
      ]
     },
     "metadata": {},
     "output_type": "display_data"
    },
    {
     "name": "stdout",
     "output_type": "stream",
     "text": [
      "\n"
     ]
    }
   ],
   "source": [
    "\n",
    "#тестовая\n",
    "with open('./habr-num-bookmarks/test.json') as inp_json, open('test_zm.vw', 'w', encoding='utf-8') as out_vw:\n",
    "    for line in tqdm_notebook(inp_json):\n",
    "        data_json = json.loads(line)\n",
    "        out_vw.write('{} |title {} |tags {} |domain {} |flow {} |author {} |hubs {} |num content_len:{} month:{} hour:{}\\n'\n",
    "              .format('1'\n",
    "                , data_json['title']\n",
    "                , ' '.join(data_json['tags'])\n",
    "                , data_json['domain'], data_json['flow']\n",
    "                , data_json['author']['nickname']\n",
    "                , data_json['hubs'][0]['title']\n",
    "                , round(len(data_json['content']) / 1000000, 1)\n",
    "                , parser.parse(data_json['published']['$date']).month\n",
    "                , parser.parse(data_json['published']['$date']).hour\n",
    "                )\n",
    "             )"
   ]
  },
  {
   "cell_type": "code",
   "execution_count": null,
   "metadata": {
    "collapsed": true
   },
   "outputs": [],
   "source": []
  },
  {
   "cell_type": "code",
   "execution_count": null,
   "metadata": {
    "collapsed": true
   },
   "outputs": [],
   "source": []
  },
  {
   "cell_type": "code",
   "execution_count": 24,
   "metadata": {},
   "outputs": [
    {
     "name": "stdout",
     "output_type": "stream",
     "text": [
      "head: cannot open '../../data/habr_train.vw' for reading: No such file or directory\r\n"
     ]
    }
   ],
   "source": [
    "!head -2 ../../data/habr_train.vw"
   ]
  },
  {
   "cell_type": "code",
   "execution_count": null,
   "metadata": {
    "collapsed": true
   },
   "outputs": [],
   "source": [
    "with open('../../data/train.json') as inp_json, \\\n",
    "     open('../../data/habr_train.vw', 'w') as out_vw:\n",
    "    for line in tqdm_notebook(inp_json):\n",
    "        data_json = json.loads(line)\n",
    "        \n",
    "        # Ваш код здесь"
   ]
  },
  {
   "cell_type": "markdown",
   "metadata": {},
   "source": [
    "Проделайте все то же с тестовой выборкой, вместо ответов подсовывая что угодно, например, единицы."
   ]
  },
  {
   "cell_type": "code",
   "execution_count": null,
   "metadata": {
    "collapsed": true
   },
   "outputs": [],
   "source": [
    "with open('../../data/test.json') as inp_json, \\\n",
    "     open('../../data/habr_test.vw', 'w') as out_vw:\n",
    "    for line in tqdm_notebook(inp_json):\n",
    "        data_json = json.loads(line)\n",
    "        \n",
    "        # Ваш код здесь"
   ]
  },
  {
   "cell_type": "code",
   "execution_count": 24,
   "metadata": {},
   "outputs": [
    {
     "name": "stdout",
     "output_type": "stream",
     "text": [
      "1 |title День Пи! |tags Пи Pi |domain geektimes.ru |flow None |author @Timursan |hubs Чёрная дыра |num content_len:0.0 month:3 hour:3\r\n",
      "1 |title Скрипт для разбиения образов музыкальных CD на треки и конвертации в формат FLAC |tags bash lossless |domain geektimes.ru |flow None |author @da3mon |hubs Чёрная дыра |num content_len:0.01 month:3 hour:0\r\n"
     ]
    }
   ],
   "source": [
    "!head -2 ../../data/habr_test.vw"
   ]
  },
  {
   "cell_type": "code",
   "execution_count": 130,
   "metadata": {},
   "outputs": [
    {
     "name": "stdout",
     "output_type": "stream",
     "text": [
      "1 |title �������� ����! |tags ���� Pi |domain geektimes.ru |flow None |author @Timursan |hubs ������������ �������� |num content_len:0.0 month:3 hour:3\r\n",
      "1 |title ������������ ������ ������������������ �������������� ���������������������� CD ���� ���������� �� ���������������������� �� ������������ FLAC |tags bash lossless |domain geektimes.ru |flow None |author @da3mon |hubs ������������ �������� |num content_len:0.0 month:3 hour:0\r\n"
     ]
    }
   ],
   "source": [
    "!head -2 './test_zm.vw'"
   ]
  },
  {
   "cell_type": "markdown",
   "metadata": {},
   "source": [
    "Выбор того, как валидировать модель, остается за Вами. Проще всего, конечно, сделать отложенную выборку. Бенчмарк, который Вы видите в соревновании (**vw_baseline.csv**) и который надо побить, получен с Vowpal Wabbit, 3 проходами по выборке (не забываем удалять кэш), биграммами и настроенными гиперпараметрами `bits`, `learning_rate` и `power_t`. "
   ]
  },
  {
   "cell_type": "code",
   "execution_count": 138,
   "metadata": {},
   "outputs": [
    {
     "name": "stdout",
     "output_type": "stream",
     "text": [
      "   52913 test_zm.vw\n",
      "      10 train10_zm.vw\n",
      "       2 train2_zm.vw\n",
      "  120000 train_zm.vw\n",
      "  172925 total\n"
     ]
    }
   ],
   "source": [
    "!wc -l *zm.vw"
   ]
  },
  {
   "cell_type": "code",
   "execution_count": 135,
   "metadata": {},
   "outputs": [
    {
     "data": {
      "text/plain": [
       "84000.0"
      ]
     },
     "execution_count": 135,
     "metadata": {},
     "output_type": "execute_result"
    }
   ],
   "source": [
    "120000 - 120000 * 0.3"
   ]
  },
  {
   "cell_type": "code",
   "execution_count": 137,
   "metadata": {
    "collapsed": true
   },
   "outputs": [],
   "source": [
    "#делим выборку на обучающую и проверочную\n",
    "!split -l 84000 './train_zm.vw' train_zm_"
   ]
  },
  {
   "cell_type": "code",
   "execution_count": 139,
   "metadata": {},
   "outputs": [
    {
     "name": "stdout",
     "output_type": "stream",
     "text": [
      "   84000 train_zm_aa\r\n",
      "   36000 train_zm_ab\r\n",
      "  120000 total\r\n"
     ]
    }
   ],
   "source": [
    "!wc -l *train_zm_*"
   ]
  },
  {
   "cell_type": "code",
   "execution_count": 140,
   "metadata": {
    "collapsed": true
   },
   "outputs": [],
   "source": [
    "!mv train_zm_aa train_zm_train\n",
    "!mv train_zm_ab train_zm_test"
   ]
  },
  {
   "cell_type": "code",
   "execution_count": null,
   "metadata": {
    "collapsed": true
   },
   "outputs": [],
   "source": [
    "# Ваш код здесь"
   ]
  },
  {
   "cell_type": "code",
   "execution_count": 25,
   "metadata": {
    "collapsed": true
   },
   "outputs": [],
   "source": [
    "sample_sub = pd.read_csv('../../data/sample_submission.csv', \n",
    "                         index_col='url')"
   ]
  },
  {
   "cell_type": "code",
   "execution_count": 26,
   "metadata": {
    "scrolled": true
   },
   "outputs": [
    {
     "data": {
      "text/html": [
       "<div>\n",
       "<style>\n",
       "    .dataframe thead tr:only-child th {\n",
       "        text-align: right;\n",
       "    }\n",
       "\n",
       "    .dataframe thead th {\n",
       "        text-align: left;\n",
       "    }\n",
       "\n",
       "    .dataframe tbody tr th {\n",
       "        vertical-align: top;\n",
       "    }\n",
       "</style>\n",
       "<table border=\"1\" class=\"dataframe\">\n",
       "  <thead>\n",
       "    <tr style=\"text-align: right;\">\n",
       "      <th></th>\n",
       "      <th>target</th>\n",
       "    </tr>\n",
       "    <tr>\n",
       "      <th>url</th>\n",
       "      <th></th>\n",
       "    </tr>\n",
       "  </thead>\n",
       "  <tbody>\n",
       "    <tr>\n",
       "      <th>https://geektimes.ru/post/87455/</th>\n",
       "      <td>11.620054</td>\n",
       "    </tr>\n",
       "    <tr>\n",
       "      <th>https://geektimes.ru/post/87452/</th>\n",
       "      <td>4.822528</td>\n",
       "    </tr>\n",
       "    <tr>\n",
       "      <th>https://geektimes.ru/post/87459/</th>\n",
       "      <td>0.921104</td>\n",
       "    </tr>\n",
       "    <tr>\n",
       "      <th>https://habrahabr.ru/post/87461/</th>\n",
       "      <td>1.632126</td>\n",
       "    </tr>\n",
       "    <tr>\n",
       "      <th>https://habrahabr.ru/post/5754/</th>\n",
       "      <td>1.952122</td>\n",
       "    </tr>\n",
       "  </tbody>\n",
       "</table>\n",
       "</div>"
      ],
      "text/plain": [
       "                                     target\n",
       "url                                        \n",
       "https://geektimes.ru/post/87455/  11.620054\n",
       "https://geektimes.ru/post/87452/   4.822528\n",
       "https://geektimes.ru/post/87459/   0.921104\n",
       "https://habrahabr.ru/post/87461/   1.632126\n",
       "https://habrahabr.ru/post/5754/    1.952122"
      ]
     },
     "execution_count": 26,
     "metadata": {},
     "output_type": "execute_result"
    }
   ],
   "source": [
    "sample_sub.head()"
   ]
  },
  {
   "cell_type": "code",
   "execution_count": null,
   "metadata": {
    "collapsed": true
   },
   "outputs": [],
   "source": [
    "your_submission = sample_sub.copy()\n",
    "your_submission['target'] = # Ваш код здесь\n",
    "your_submission.to_csv('submission.csv')"
   ]
  },
  {
   "cell_type": "code",
   "execution_count": null,
   "metadata": {
    "collapsed": true
   },
   "outputs": [],
   "source": []
  },
  {
   "cell_type": "code",
   "execution_count": 13,
   "metadata": {
    "collapsed": true
   },
   "outputs": [],
   "source": [
    "import os\n",
    "from tqdm import tqdm\n",
    "from time import time\n",
    "import numpy as np\n",
    "from sklearn.metrics import mean_absolute_error\n",
    "import itertools\n",
    "\n",
    "def train_vw_model(train_vw_file, model_filename, \n",
    "                   ngram=1, bit_precision=28, passes=1,\n",
    "                   seed=17, quiet=True):\n",
    "    init_time = time()\n",
    "    vw_call_string = ('vw {train_vw_file} ' + \n",
    "                       '-f {model_filename} -b {bit_precision} --random_seed {seed}').format(\n",
    "                       train_vw_file=train_vw_file, \n",
    "                       model_filename=model_filename, bit_precision=bit_precision, seed=seed)\n",
    "    if ngram > 1:\n",
    "         vw_call_string += ' --ngram={}'.format(ngram)\n",
    "            \n",
    "    if passes > 1:\n",
    "         vw_call_string += ' -k --passes={} --cache_file {}'.format(passes, \n",
    "                            model_filename.replace('.vw', '.cache'))\n",
    "    if quiet:\n",
    "        vw_call_string += ' --quiet'\n",
    "    \n",
    "    \n",
    "    print(vw_call_string) \n",
    "    res = os.system(vw_call_string)\n",
    "    print('Success. Elapsed: {} sec.'.format(round(time() - init_time, 2))\n",
    "          if not res else 'Failed.')\n",
    "\n",
    "def test_vw_model(model_filename, test_vw_file, prediction_filename,\n",
    "                  true_labels, seed=17, quiet=True):\n",
    "    init_time = time()\n",
    "    vw_call_string = ('vw -t -i {model_filename} {test_vw_file} ' + \n",
    "                       '-p {prediction_filename} --random_seed {seed}').format(\n",
    "                       model_filename=model_filename, test_vw_file=test_vw_file, \n",
    "                       prediction_filename=prediction_filename, seed=seed)\n",
    "    if quiet:\n",
    "        vw_call_string += ' --quiet'\n",
    "        \n",
    "    print(vw_call_string) \n",
    "    res = os.system(vw_call_string)\n",
    "    \n",
    "    if not res: # the call resulted OK\n",
    "        vw_pred = np.loadtxt(prediction_filename)\n",
    "        print(\"Accuracy: {}%. Elapsed: {} sec.\".format(\n",
    "            round(100 * mean_absolute_error(true_labels, vw_pred), 2), \n",
    "            round(time() - init_time, 2)))\n",
    "    else:\n",
    "        print('Failed.')\n",
    "\n",
    "y_valid = np.loadtxt('train_zm_valid_labels_test.vw')"
   ]
  },
  {
   "cell_type": "code",
   "execution_count": 14,
   "metadata": {},
   "outputs": [
    {
     "data": {
      "text/plain": [
       "array([ 2.772589,  1.386294,  0.693147, ...,  3.044522,  4.110874,\n",
       "        1.386294])"
      ]
     },
     "execution_count": 14,
     "metadata": {},
     "output_type": "execute_result"
    }
   ],
   "source": [
    "y_valid"
   ]
  },
  {
   "cell_type": "code",
   "execution_count": 15,
   "metadata": {},
   "outputs": [
    {
     "name": "stderr",
     "output_type": "stream",
     "text": [
      "\r",
      "0it [00:00, ?it/s]"
     ]
    },
    {
     "name": "stdout",
     "output_type": "stream",
     "text": [
      "vw train_zm_train.vw -f vw_model0_part.vw -b 28 --random_seed 17 --quiet\n",
      "Success. Elapsed: 184.45 sec.\n",
      "vw -t -i vw_model0_part.vw train_zm_test.vw -p vw_valid_pred0.csv --random_seed 17 --quiet\n"
     ]
    },
    {
     "ename": "FileNotFoundError",
     "evalue": "[Errno 2] No such file or directory: 'vw_valid_pred0.csv'",
     "output_type": "error",
     "traceback": [
      "\u001b[1;31m---------------------------------------------------------------------------\u001b[0m",
      "\u001b[1;31mFileNotFoundError\u001b[0m                         Traceback (most recent call last)",
      "\u001b[1;32m<ipython-input-15-7220756d1b52>\u001b[0m in \u001b[0;36m<module>\u001b[1;34m()\u001b[0m\n\u001b[0;32m      8\u001b[0m               \u001b[0mtest_vw_file\u001b[0m\u001b[1;33m=\u001b[0m\u001b[1;34m'train_zm_test.vw'\u001b[0m\u001b[1;33m,\u001b[0m\u001b[1;33m\u001b[0m\u001b[0m\n\u001b[0;32m      9\u001b[0m               \u001b[0mprediction_filename\u001b[0m\u001b[1;33m=\u001b[0m\u001b[1;34m'vw_valid_pred{}.csv'\u001b[0m\u001b[1;33m.\u001b[0m\u001b[0mformat\u001b[0m\u001b[1;33m(\u001b[0m\u001b[0mi\u001b[0m\u001b[1;33m)\u001b[0m\u001b[1;33m,\u001b[0m\u001b[1;33m\u001b[0m\u001b[0m\n\u001b[1;32m---> 10\u001b[1;33m               true_labels=y_valid, seed=17, quiet=True)\n\u001b[0m",
      "\u001b[1;32m<ipython-input-13-2d97953dd744>\u001b[0m in \u001b[0;36mtest_vw_model\u001b[1;34m(model_filename, test_vw_file, prediction_filename, true_labels, seed, quiet)\u001b[0m\n\u001b[0;32m     43\u001b[0m \u001b[1;33m\u001b[0m\u001b[0m\n\u001b[0;32m     44\u001b[0m     \u001b[1;32mif\u001b[0m \u001b[1;32mnot\u001b[0m \u001b[0mres\u001b[0m\u001b[1;33m:\u001b[0m \u001b[1;31m# the call resulted OK\u001b[0m\u001b[1;33m\u001b[0m\u001b[0m\n\u001b[1;32m---> 45\u001b[1;33m         \u001b[0mvw_pred\u001b[0m \u001b[1;33m=\u001b[0m \u001b[0mnp\u001b[0m\u001b[1;33m.\u001b[0m\u001b[0mloadtxt\u001b[0m\u001b[1;33m(\u001b[0m\u001b[0mprediction_filename\u001b[0m\u001b[1;33m)\u001b[0m\u001b[1;33m\u001b[0m\u001b[0m\n\u001b[0m\u001b[0;32m     46\u001b[0m         print(\"Accuracy: {}%. Elapsed: {} sec.\".format(\n\u001b[0;32m     47\u001b[0m             \u001b[0mround\u001b[0m\u001b[1;33m(\u001b[0m\u001b[1;36m100\u001b[0m \u001b[1;33m*\u001b[0m \u001b[0mmean_absolute_error\u001b[0m\u001b[1;33m(\u001b[0m\u001b[0mtrue_labels\u001b[0m\u001b[1;33m,\u001b[0m \u001b[0mvw_pred\u001b[0m\u001b[1;33m)\u001b[0m\u001b[1;33m,\u001b[0m \u001b[1;36m2\u001b[0m\u001b[1;33m)\u001b[0m\u001b[1;33m,\u001b[0m\u001b[1;33m\u001b[0m\u001b[0m\n",
      "\u001b[1;32mC:\\ProgramData\\Anaconda3\\lib\\site-packages\\numpy\\lib\\npyio.py\u001b[0m in \u001b[0;36mloadtxt\u001b[1;34m(fname, dtype, comments, delimiter, converters, skiprows, usecols, unpack, ndmin)\u001b[0m\n\u001b[0;32m    858\u001b[0m                 \u001b[0mfh\u001b[0m \u001b[1;33m=\u001b[0m \u001b[0miter\u001b[0m\u001b[1;33m(\u001b[0m\u001b[0mopen\u001b[0m\u001b[1;33m(\u001b[0m\u001b[0mfname\u001b[0m\u001b[1;33m,\u001b[0m \u001b[1;34m'U'\u001b[0m\u001b[1;33m)\u001b[0m\u001b[1;33m)\u001b[0m\u001b[1;33m\u001b[0m\u001b[0m\n\u001b[0;32m    859\u001b[0m             \u001b[1;32melse\u001b[0m\u001b[1;33m:\u001b[0m\u001b[1;33m\u001b[0m\u001b[0m\n\u001b[1;32m--> 860\u001b[1;33m                 \u001b[0mfh\u001b[0m \u001b[1;33m=\u001b[0m \u001b[0miter\u001b[0m\u001b[1;33m(\u001b[0m\u001b[0mopen\u001b[0m\u001b[1;33m(\u001b[0m\u001b[0mfname\u001b[0m\u001b[1;33m)\u001b[0m\u001b[1;33m)\u001b[0m\u001b[1;33m\u001b[0m\u001b[0m\n\u001b[0m\u001b[0;32m    861\u001b[0m         \u001b[1;32melse\u001b[0m\u001b[1;33m:\u001b[0m\u001b[1;33m\u001b[0m\u001b[0m\n\u001b[0;32m    862\u001b[0m             \u001b[0mfh\u001b[0m \u001b[1;33m=\u001b[0m \u001b[0miter\u001b[0m\u001b[1;33m(\u001b[0m\u001b[0mfname\u001b[0m\u001b[1;33m)\u001b[0m\u001b[1;33m\u001b[0m\u001b[0m\n",
      "\u001b[1;31mFileNotFoundError\u001b[0m: [Errno 2] No such file or directory: 'vw_valid_pred0.csv'"
     ]
    }
   ],
   "source": [
    "for i, (ngram, passes) in tqdm(enumerate(itertools.product([1,2,3],[1,3,5]))):\n",
    "    train_vw_model('train_zm_train.vw', \n",
    "                   'vw_model{}_part.vw'.format(i), \n",
    "                   ngram=ngram, passes=passes,\n",
    "                   bit_precision=28, \n",
    "                   seed=17, quiet=True)\n",
    "    test_vw_model(model_filename='vw_model{}_part.vw'.format(i), \n",
    "              test_vw_file='train_zm_test.vw', \n",
    "              prediction_filename='vw_valid_pred{}.csv'.format(i),\n",
    "              true_labels=y_valid, seed=17, quiet=True)"
   ]
  },
  {
   "cell_type": "code",
   "execution_count": null,
   "metadata": {},
   "outputs": [
    {
     "name": "stderr",
     "output_type": "stream",
     "text": [
      "\r",
      "0it [00:00, ?it/s]"
     ]
    },
    {
     "name": "stdout",
     "output_type": "stream",
     "text": [
      "vw train_zm_main.vw -f vw_model0_part.vw -b 27 --random_seed 17 -l 0.1817 --power_t 0.855 --loss_function quantile  --ngram=2 -k --passes=3 --cache_file vw_model0_part.cache --quiet\n",
      "Success. Elapsed: 7.12 sec.\n",
      "vw -t -i vw_model0_part.vw test_zm_main.vw -p vw_valid_pred0.csv --random_seed 17 --quiet\n"
     ]
    },
    {
     "name": "stderr",
     "output_type": "stream",
     "text": [
      "\r",
      "1it [00:07,  7.91s/it]"
     ]
    },
    {
     "name": "stdout",
     "output_type": "stream",
     "text": [
      "MAE: 0.788385. Elapsed: 0.79 sec.\n",
      "MAE =  0.788385\n",
      "str:\n",
      " vw train_zm_main.vw -f vw_model0_part.vw -b 27 --random_seed 17 -l 0.1817 --power_t 0.855 --loss_function quantile  --ngram=2 -k --passes=3 --cache_file vw_model0_part.cache --quiet\n",
      "vw train_zm_main.vw -f vw_model1_part.vw -b 27 --random_seed 17 -l 0.1817 --power_t 0.855 --loss_function quantile  --ngram=3 -k --passes=3 --cache_file vw_model1_part.cache --quiet\n",
      "Failed.\n",
      "vw -t -i vw_model1_part.vw test_zm_main.vw -p vw_valid_pred1.csv --random_seed 17 --quiet\n"
     ]
    }
   ],
   "source": [
    "import os\n",
    "from tqdm import tqdm\n",
    "from time import time\n",
    "import numpy as np\n",
    "from sklearn.metrics import mean_absolute_error\n",
    "import itertools\n",
    "\n",
    "best_mae = 5\n",
    "best_str = ''\n",
    "prev_str = ''\n",
    "\n",
    "def train_vw_model(train_vw_file, model_filename,\n",
    "                   ngram=1, bit_precision=27, passes=1,\n",
    "                   learning_rate=0.5,\n",
    "                   power_t = 0.5,\n",
    "                   seed=17, quiet=True):\n",
    "    init_time = time()\n",
    "    global prev_str\n",
    "    vw_call_string = ('vw {train_vw_file} ' + \n",
    "                       '-f {model_filename} -b {bit_precision} --random_seed {seed}' +\n",
    "                      ' -l {learning_rate} --power_t {power_t} --loss_function quantile ' #--loss_function quantile\n",
    "                     ).format(\n",
    "                       train_vw_file=train_vw_file, learning_rate=learning_rate, \n",
    "                       model_filename=model_filename, bit_precision=bit_precision, seed=seed, power_t=power_t)\n",
    "    if ngram > 1:\n",
    "         vw_call_string += ' --ngram={}'.format(ngram)\n",
    "            \n",
    "    if passes > 1:\n",
    "         vw_call_string += ' -k --passes={} --cache_file {}'.format(passes, \n",
    "                            model_filename.replace('.vw', '.cache'))\n",
    "    if quiet:\n",
    "        vw_call_string += ' --quiet'\n",
    "    #`bits`, `learning_rate` и `power_t`\n",
    "    \n",
    "    print(vw_call_string) \n",
    "    prev_str = vw_call_string\n",
    "    res = os.system(vw_call_string)\n",
    "    print('Success. Elapsed: {} sec.'.format(round(time() - init_time, 2))\n",
    "          if not res else 'Failed.')\n",
    "\n",
    "def test_vw_model(model_filename, test_vw_file, prediction_filename,\n",
    "                  true_labels, seed=17, quiet=True):\n",
    "    global best_mae\n",
    "    global best_str\n",
    "    init_time = time()\n",
    "    vw_call_string = ('vw -t -i {model_filename} {test_vw_file} ' + \n",
    "                       '-p {prediction_filename} --random_seed {seed}').format(\n",
    "                       model_filename=model_filename, test_vw_file=test_vw_file, \n",
    "                       prediction_filename=prediction_filename, seed=seed)\n",
    "    if quiet:\n",
    "        vw_call_string += ' --quiet'\n",
    "        \n",
    "    print(vw_call_string) \n",
    "    res = os.system(vw_call_string)\n",
    "    \n",
    "    if not res: # the call resulted OK\n",
    "        vw_pred = np.loadtxt(prediction_filename)\n",
    "        print(\"MAE: {}. Elapsed: {} sec.\".format(\n",
    "            round(mean_absolute_error(true_labels, vw_pred), 6), \n",
    "            round(time() - init_time, 2)))\n",
    "    else:\n",
    "        print('Failed.')\n",
    "    if best_mae > round(mean_absolute_error(true_labels, vw_pred), 6):\n",
    "        best_mae = round(mean_absolute_error(true_labels, vw_pred), 6)\n",
    "        best_str = prev_str\n",
    "        print('MAE = ', best_mae)\n",
    "        print('str:\\n', best_str)\n",
    "y_valid = np.loadtxt('train_zm_valid_labels_main.vw')\n",
    "\n",
    "for i, (ngram, passes, bit_precision, learning_rate, power_t) in tqdm(enumerate(itertools.product([2,3],[3],[27],[0.1817],[0.855]))):\n",
    "    train_vw_model('train_zm_main.vw', \n",
    "                   'vw_model{}_part.vw'.format(i), \n",
    "                   ngram=ngram, passes=passes,\n",
    "                   bit_precision = bit_precision,\n",
    "                   learning_rate = learning_rate, power_t = power_t, \n",
    "                   seed=17, quiet=True)\n",
    "    test_vw_model(model_filename='vw_model{}_part.vw'.format(i), \n",
    "              test_vw_file='test_zm_main.vw', \n",
    "              prediction_filename='vw_valid_pred{}.csv'.format(i),\n",
    "              true_labels=y_valid, seed=17, quiet=True)\n",
    "\n",
    "print('MAE = ', best_mae)\n",
    "print('str:\\n', best_str)"
   ]
  },
  {
   "cell_type": "code",
   "execution_count": 22,
   "metadata": {},
   "outputs": [],
   "source": [
    "!vw train_zm_all.vw -f vw_model_part.vw -b 26 --random_seed 17 -l 1 --power_t 0.855  --ngram=2 -k --passes=3 --cache_file vw_model_part.cache --quiet"
   ]
  },
  {
   "cell_type": "code",
   "execution_count": 23,
   "metadata": {},
   "outputs": [
    {
     "data": {
      "text/plain": [
       "0"
      ]
     },
     "execution_count": 23,
     "metadata": {},
     "output_type": "execute_result"
    }
   ],
   "source": [
    "os.system('vw train_zm_all.vw -f vw_model_part.vw -b 26 --random_seed 17 -l 1 --power_t 0.855  --ngram=2 -k --passes=3 --cache_file vw_model_part.cache --quiet')"
   ]
  },
  {
   "cell_type": "code",
   "execution_count": 24,
   "metadata": {},
   "outputs": [
    {
     "data": {
      "text/plain": [
       "0"
      ]
     },
     "execution_count": 24,
     "metadata": {},
     "output_type": "execute_result"
    }
   ],
   "source": [
    "os.system('vw -t -i vw_model_part.vw test_zm_main_final.vw -p vw_valid_pred.csv --random_seed 17 --quiet')"
   ]
  },
  {
   "cell_type": "code",
   "execution_count": null,
   "metadata": {},
   "outputs": [],
   "source": []
  },
  {
   "cell_type": "code",
   "execution_count": null,
   "metadata": {},
   "outputs": [],
   "source": []
  },
  {
   "cell_type": "markdown",
   "metadata": {
    "collapsed": true
   },
   "source": [
    "Для получения баллов в #mlcourse_open команда (из 1 человека) должна называться в точном соответствии с тем, как оно записано в рейтинге."
   ]
  }
 ],
 "metadata": {
  "kernelspec": {
   "display_name": "Python 3",
   "language": "python",
   "name": "python3"
  },
  "language_info": {
   "codemirror_mode": {
    "name": "ipython",
    "version": 3
   },
   "file_extension": ".py",
   "mimetype": "text/x-python",
   "name": "python",
   "nbconvert_exporter": "python",
   "pygments_lexer": "ipython3",
   "version": "3.5.2"
  }
 },
 "nbformat": 4,
 "nbformat_minor": 2
}
