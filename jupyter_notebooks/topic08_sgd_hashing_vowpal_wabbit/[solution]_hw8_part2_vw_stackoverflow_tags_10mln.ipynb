{
 "cells": [
  {
   "cell_type": "markdown",
   "metadata": {},
   "source": [
    "<center>\n",
    "<img src=\"../../img/ods_stickers.jpg\">\n",
    "## Открытый курс по машинному обучению\n",
    "Автор материала: программист-исследователь Mail.ru Group, старший преподаватель <br>Факультета Компьютерных Наук ВШЭ Юрий Кашницкий. Материал распространяется на условиях лицензии [Creative Commons CC BY-NC-SA 4.0](https://creativecommons.org/licenses/by-nc-sa/4.0/). Можно использовать в любых целях (редактировать, поправлять и брать за основу), кроме коммерческих, но с обязательным упоминанием автора материала."
   ]
  },
  {
   "cell_type": "markdown",
   "metadata": {},
   "source": [
    "# <center> Домашнее задание № 8. Часть 2. Решение\n",
    "## <center> Vowpal Wabbit в задаче классификации тегов вопросов на StackOverflow"
   ]
  },
  {
   "cell_type": "markdown",
   "metadata": {},
   "source": [
    "### Введение\n",
    "\n",
    "В этом задании вы будете делать примерно то же, что я каждую неделю –  в Mail.ru Group: обучать модели на выборке в несколько гигабайт. Задание можно выполнить и на Windows с Python, но я рекомендую поработать под \\*NIX-системой (например, через Docker) и активно использовать язык bash.\n",
    "Немного снобизма (простите, но правда): если вы захотите работать в лучших компаниях мира в области ML, вам все равно понадобится опыт работы с bash под UNIX.\n",
    "\n",
    "Для выполнения задания понадобится установленный Vowpal Wabbit (уже есть в докер-контейнере курса, см. инструкцию в README [репозитория](https://github.com/Yorko/mlcourse_open) нашего курса) и примерно 50 Гб дискового пространства. Я тестировал решение не на каком-то суперкомпе, а на Macbook Pro 2015 (8 ядер, 16 Гб памяти), и самая тяжеловесная модель обучалась меньше 5 минут, так что задание реально выполнить и с простым железом. Но если вы планируете когда-либо арендовать сервера Amazon, можно попробовать это сделать уже сейчас.\n",
    "\n",
    "Материалы в помощь:\n",
    " - интерактивный [тьюториал](https://www.codecademy.com/en/courses/learn-the-command-line/lessons/environment/exercises/bash-profile) CodeAcademy по утилитам командной строки UNIX (примерно на 45 мин.-час)\n",
    " - [статья](https://habrahabr.ru/post/280562/) про то, как арендовать на Amazon машину (еще раз: это не обязательно для выполнения задания, но будет хорошим опытом, если вы это делаете впервые)"
   ]
  },
  {
   "cell_type": "markdown",
   "metadata": {},
   "source": [
    "### Описание данных"
   ]
  },
  {
   "cell_type": "markdown",
   "metadata": {},
   "source": [
    "Имеются 10 Гб вопросов со StackOverflow – [скачайте](https://cloud.mail.ru/public/3bwi/bFYHDN5S5) и распакуйте архив. \n",
    "\n",
    "Формат данных простой:<br>\n",
    "<center>*текст вопроса* (слова через пробел) TAB *теги вопроса* (через пробел)\n",
    "\n",
    "Здесь TAB – это символ табуляции.\n",
    "Пример первой записи в выборке:"
   ]
  },
  {
   "cell_type": "code",
   "execution_count": 3,
   "metadata": {},
   "outputs": [
    {
     "name": "stdout",
     "output_type": "stream",
     "text": [
      " is there a way to apply a background color through css at the tr level i can apply it at the td level like this my td background color e8e8e8 background e8e8e8 however the background color doesn t seem to get applied when i attempt to apply the background color at the tr level like this my tr background color e8e8e8 background e8e8e8 is there a css trick to making this work or does css not natively support this for some reason \tcss css3 css-selectors\r\n"
     ]
    }
   ],
   "source": [
    "!head -1 ../../data/stackoverflow_10mln.tsv"
   ]
  },
  {
   "cell_type": "markdown",
   "metadata": {},
   "source": [
    "Здесь у нас текст вопроса, затем табуляция и теги вопроса: *css, css3* и *css-selectors*. Всего в выборке таких вопросов 10 миллионов. "
   ]
  },
  {
   "cell_type": "code",
   "execution_count": 4,
   "metadata": {},
   "outputs": [
    {
     "name": "stdout",
     "output_type": "stream",
     "text": [
      " 10000000 ../../data/stackoverflow_10mln.tsv\r\n"
     ]
    }
   ],
   "source": [
    "!wc -l ../../data/stackoverflow_10mln.tsv"
   ]
  },
  {
   "cell_type": "markdown",
   "metadata": {},
   "source": [
    "Обратите внимание на то, что такие данные я уже не хочу загружать в оперативную память и, пока можно, буду пользоваться эффективными утилитами UNIX –  head, tail, wc, cat, cut и прочими."
   ]
  },
  {
   "cell_type": "markdown",
   "metadata": {},
   "source": [
    "Давайте выберем в наших данных все вопросы с тегами *javascript, java, python, ruby, php, c++, c#, go, scala* и  *swift* и подготовим обучающую выборку в формате Vowpal Wabbit. Будем решать задачу 10-классовой классификации вопросов по перечисленным тегам.\n",
    "\n",
    "Вообще, как мы видим, у каждого вопроса может быть несколько тегов, но мы упростим себе задачу и будем у каждого вопроса выбирать один из перечисленных тегов либо игнорировать вопрос, если таковых тегов нет. \n",
    "Но вообще VW поддерживает multilabel classification (аргумент  --multilabel_oaa).\n",
    "<br>\n",
    "<br>\n",
    "Реализуйте в виде отдельного файла `preprocess.py` код для подготовки данных. Он должен отобрать строки, в которых есть перечисленные теги, и переписать их в отдельный файл в формат Vowpal Wabbit. Детали:\n",
    " - скрипт должен работать с аргументами командной строки: с путями к файлом на входе и на выходе\n",
    "  - строки обрабатываются по одной (можно использовать tqdm для подсчета числа итераций)\n",
    "  - если табуляций в строке нет или их больше одной, считаем строку поврежденной и пропускаем\n",
    "  - в противном случае смотрим, сколько в строке тегов из списка *javascript, java, python, ruby, php, c++, c#, go, scala* и  *swift*. Если ровно один, то записываем строку в выходной файл в формате VW: `label | text`, где `label` – число от 1 до 10 (1 – *javascript*, ... 10 – *swift*). Пропускаем те строки, где интересующих тегов больше или меньше одного \n",
    "  - из текста вопроса надо выкинуть двоеточия и вертикальные палки – в VW это спецсимволы."
   ]
  },
  {
   "cell_type": "code",
   "execution_count": 1,
   "metadata": {},
   "outputs": [
    {
     "name": "stdout",
     "output_type": "stream",
     "text": [
      "import sys\r\n",
      "from tqdm import tqdm\r\n",
      "\r\n",
      "topics = ['javascript', 'java', 'python', 'ruby', 'php',\r\n",
      "          'c++', 'c#', 'go', 'scala', 'swift']\r\n",
      "topic_set = set(topics)\r\n",
      "topic_map = dict(zip(topics, range(1, len(topics) + 1)))\r\n",
      "\r\n",
      "num_corrupted, num_selected = 0, 0\r\n",
      "with open(sys.argv[1]) as inp_file, open(sys.argv[2], 'w') as out_file:\r\n",
      "    for line in tqdm(inp_file):\r\n",
      "        values = line.strip().split('\\t')\r\n",
      "        if len(values) != 2:\r\n",
      "            num_corrupted += 1\r\n",
      "            continue\r\n",
      "        text, labels = values\r\n",
      "        labels = set(labels.split())\r\n",
      "        topics_from_list = labels.intersection(topic_set)\r\n",
      "        if len(topics_from_list) == 1:\r\n",
      "            num_selected += 1\r\n",
      "            out_file.write('{} | {}\\n'.format(str(topic_map[list(topics_from_list)[0]]), \r\n",
      "                                              text.strip().replace(':', '').replace('|', '')))\r\n",
      "print(\"{} lines selected, {} lines corrupted.\".format(num_selected, num_corrupted))\r\n",
      "\r\n"
     ]
    }
   ],
   "source": [
    "!cat preprocess.py"
   ]
  },
  {
   "cell_type": "code",
   "execution_count": 36,
   "metadata": {
    "collapsed": true
   },
   "outputs": [],
   "source": [
    "import os\n",
    "from tqdm import tqdm\n",
    "from time import time\n",
    "import numpy as np\n",
    "from sklearn.metrics import accuracy_score"
   ]
  },
  {
   "cell_type": "markdown",
   "metadata": {
    "collapsed": true
   },
   "source": [
    "Должно получиться вот такое число строк"
   ]
  },
  {
   "cell_type": "code",
   "execution_count": 1,
   "metadata": {},
   "outputs": [
    {
     "name": "stdout",
     "output_type": "stream",
     "text": [
      "10000000it [01:23, 119062.63it/s]\n",
      "4389054 lines selected, 15 lines corrupted.\n"
     ]
    }
   ],
   "source": [
    "!python preprocess.py stackoverflow_10mln.tsv stackoverflow.vw"
   ]
  },
  {
   "cell_type": "markdown",
   "metadata": {},
   "source": [
    "Поделите выборку на обучающую, проверочную и тестовую части в равной пропорции - по  1463018 в каждый файл. Перемешивать не надо, первые 1463018 строк должны пойти в обучающую часть `stackoverflow_train_part.vw`, последние 1463018 – в тестовую `stackoverflow_test.vw`, оставшиеся – в проверочную `stackoverflow_valid.vw`. \n",
    "\n",
    "Также сохраните векторы ответов на для проверочной и тестовой выборки в отдельные файлы `stackoverflow_valid_labels.txt` и `stackoverflow_test_labels.txt`.\n",
    "\n",
    "Тут вам помогут утилиты `head`, `tail`, `split`, `cat` и `cut`."
   ]
  },
  {
   "cell_type": "code",
   "execution_count": 19,
   "metadata": {},
   "outputs": [
    {
     "name": "stdout",
     "output_type": "stream",
     "text": [
      "CPU times: user 2.3 s, sys: 821 ms, total: 3.12 s\n",
      "Wall time: 2min 37s\n"
     ]
    }
   ],
   "source": [
    "%%time\n",
    "!split -l 1463018 stackoverflow.vw stackoverflow_"
   ]
  },
  {
   "cell_type": "code",
   "execution_count": 20,
   "metadata": {
    "collapsed": true
   },
   "outputs": [],
   "source": [
    "!mv stackoverflow_aa stackoverflow_train.vw\n",
    "!mv stackoverflow_ab stackoverflow_valid.vw\n",
    "!mv stackoverflow_ac stackoverflow_test.vw"
   ]
  },
  {
   "cell_type": "code",
   "execution_count": 22,
   "metadata": {},
   "outputs": [
    {
     "name": "stdout",
     "output_type": "stream",
     "text": [
      " 1463018 stackoverflow_test.vw\n",
      " 1463018 stackoverflow_train.vw\n",
      " 1463018 stackoverflow_valid.vw\n",
      " 4389054 total\n"
     ]
    }
   ],
   "source": [
    "!wc -l stackoverflow_*.vw"
   ]
  },
  {
   "cell_type": "code",
   "execution_count": 31,
   "metadata": {},
   "outputs": [
    {
     "name": "stdout",
     "output_type": "stream",
     "text": [
      "CPU times: user 686 ms, sys: 244 ms, total: 930 ms\n",
      "Wall time: 36.5 s\n"
     ]
    }
   ],
   "source": [
    "%%time\n",
    "!cut -f 1 -d ' ' stackoverflow_valid.vw > stackoverflow_valid_labels.txt\n",
    "!cut -f 1 -d ' ' stackoverflow_test.vw > stackoverflow_test_labels.txt"
   ]
  },
  {
   "cell_type": "markdown",
   "metadata": {},
   "source": [
    "Обучите Vowpal Wabbit на выборке `stackoverflow_train.vw` 9 раз, перебирая параметры passes (1,3,5), ngram (1,2,3).\n",
    "Остальные параметры укажите следующие: bit_precision=28 и seed=17. Также скажите VW, что это 10-классовая задача.\n",
    "\n",
    "Проверяйте долю правильных ответов на выборке `stackoverflow_valid.vw`. Выберите лучшую модель и проверьте качество на выборке `stackoverflow_test.vw`."
   ]
  },
  {
   "cell_type": "code",
   "execution_count": 23,
   "metadata": {
    "collapsed": true
   },
   "outputs": [],
   "source": [
    "def train_vw_model(train_vw_file, model_filename, num_classes=10,\n",
    "                   ngram=1, bit_precision=28, passes=1,\n",
    "                   seed=17, quiet=True):\n",
    "    init_time = time()\n",
    "    vw_call_string = ('vw --oaa {num_classes} {train_vw_file} ' + \n",
    "                       '-f {model_filename} -b {bit_precision} --random_seed {seed}').format(\n",
    "                       num_classes=num_classes, train_vw_file=train_vw_file, \n",
    "                       model_filename=model_filename, bit_precision=bit_precision, seed=seed)\n",
    "    if ngram > 1:\n",
    "         vw_call_string += ' --ngram={}'.format(ngram)\n",
    "            \n",
    "    if passes > 1:\n",
    "         vw_call_string += ' -k --passes={} --cache_file {}'.format(passes, \n",
    "                            model_filename.replace('.vw', '.cache'))\n",
    "    if quiet:\n",
    "        vw_call_string += ' --quiet'\n",
    "    \n",
    "    \n",
    "    print(vw_call_string) \n",
    "    res = os.system(vw_call_string)\n",
    "    print('Success. Elapsed: {} sec.'.format(round(time() - init_time, 2))\n",
    "          if not res else 'Failed.')"
   ]
  },
  {
   "cell_type": "code",
   "execution_count": 24,
   "metadata": {
    "collapsed": true
   },
   "outputs": [],
   "source": [
    "def test_vw_model(model_filename, test_vw_file, prediction_filename,\n",
    "                  true_labels, seed=17, quiet=True):\n",
    "    init_time = time()\n",
    "    vw_call_string = ('vw -t -i {model_filename} {test_vw_file} ' + \n",
    "                       '-p {prediction_filename} --random_seed {seed}').format(\n",
    "                       model_filename=model_filename, test_vw_file=test_vw_file, \n",
    "                       prediction_filename=prediction_filename, seed=seed)\n",
    "    if quiet:\n",
    "        vw_call_string += ' --quiet'\n",
    "        \n",
    "    print(vw_call_string) \n",
    "    res = os.system(vw_call_string)\n",
    "    \n",
    "    if not res: # the call resulted OK\n",
    "        vw_pred = np.loadtxt(prediction_filename)\n",
    "        print(\"Accuracy: {}%. Elapsed: {} sec.\".format(\n",
    "            round(100 * accuracy_score(true_labels, vw_pred), 2), \n",
    "            round(time() - init_time, 2)))\n",
    "    else:\n",
    "        print('Failed.')"
   ]
  },
  {
   "cell_type": "code",
   "execution_count": 34,
   "metadata": {
    "collapsed": true
   },
   "outputs": [],
   "source": [
    "y_valid = np.loadtxt('stackoverflow_valid_labels.txt')\n",
    "y_test = np.loadtxt('stackoverflow_test_labels.txt')"
   ]
  },
  {
   "cell_type": "code",
   "execution_count": 37,
   "metadata": {
    "scrolled": true
   },
   "outputs": [
    {
     "name": "stderr",
     "output_type": "stream",
     "text": [
      "\r",
      "0it [00:00, ?it/s]"
     ]
    },
    {
     "name": "stdout",
     "output_type": "stream",
     "text": [
      "vw --oaa 10 stackoverflow_train.vw -f vw_model0_part.vw -b 28 --random_seed 17 --quiet\n",
      "Success. Elapsed: 34.93 sec.\n",
      "vw -t -i vw_model0_part.vw stackoverflow_valid.vw -p vw_valid_pred0.csv --random_seed 17 --quiet\n"
     ]
    },
    {
     "name": "stderr",
     "output_type": "stream",
     "text": [
      "\r",
      "1it [01:03, 63.20s/it]"
     ]
    },
    {
     "name": "stdout",
     "output_type": "stream",
     "text": [
      "Accuracy: 91.51%. Elapsed: 28.26 sec.\n",
      "vw --oaa 10 stackoverflow_train.vw -f vw_model1_part.vw -b 28 --random_seed 17 -k --passes=3 --cache_file vw_model1_part.cache --quiet\n",
      "Success. Elapsed: 114.92 sec.\n",
      "vw -t -i vw_model1_part.vw stackoverflow_valid.vw -p vw_valid_pred1.csv --random_seed 17 --quiet\n"
     ]
    },
    {
     "name": "stderr",
     "output_type": "stream",
     "text": [
      "\r",
      "2it [03:23, 86.27s/it]"
     ]
    },
    {
     "name": "stdout",
     "output_type": "stream",
     "text": [
      "Accuracy: 91.39%. Elapsed: 25.17 sec.\n",
      "vw --oaa 10 stackoverflow_train.vw -f vw_model2_part.vw -b 28 --random_seed 17 -k --passes=5 --cache_file vw_model2_part.cache --quiet\n",
      "Success. Elapsed: 120.83 sec.\n",
      "vw -t -i vw_model2_part.vw stackoverflow_valid.vw -p vw_valid_pred2.csv --random_seed 17 --quiet\n"
     ]
    },
    {
     "name": "stderr",
     "output_type": "stream",
     "text": [
      "\r",
      "3it [05:46, 103.27s/it]"
     ]
    },
    {
     "name": "stdout",
     "output_type": "stream",
     "text": [
      "Accuracy: 91.36%. Elapsed: 22.12 sec.\n",
      "vw --oaa 10 stackoverflow_train.vw -f vw_model3_part.vw -b 28 --random_seed 17 --ngram=2 --quiet\n",
      "Success. Elapsed: 94.16 sec.\n",
      "vw -t -i vw_model3_part.vw stackoverflow_valid.vw -p vw_valid_pred3.csv --random_seed 17 --quiet\n"
     ]
    },
    {
     "name": "stderr",
     "output_type": "stream",
     "text": [
      "\r",
      "4it [08:17, 117.58s/it]"
     ]
    },
    {
     "name": "stdout",
     "output_type": "stream",
     "text": [
      "Accuracy: 93.1%. Elapsed: 56.8 sec.\n",
      "vw --oaa 10 stackoverflow_train.vw -f vw_model4_part.vw -b 28 --random_seed 17 --ngram=2 -k --passes=3 --cache_file vw_model4_part.cache --quiet\n",
      "Success. Elapsed: 250.06 sec.\n",
      "vw -t -i vw_model4_part.vw stackoverflow_valid.vw -p vw_valid_pred4.csv --random_seed 17 --quiet\n"
     ]
    },
    {
     "name": "stderr",
     "output_type": "stream",
     "text": [
      "\r",
      "5it [13:12, 171.04s/it]"
     ]
    },
    {
     "name": "stdout",
     "output_type": "stream",
     "text": [
      "Accuracy: 92.76%. Elapsed: 45.7 sec.\n",
      "vw --oaa 10 stackoverflow_train.vw -f vw_model5_part.vw -b 28 --random_seed 17 --ngram=2 -k --passes=5 --cache_file vw_model5_part.cache --quiet\n",
      "Success. Elapsed: 299.04 sec.\n",
      "vw -t -i vw_model5_part.vw stackoverflow_valid.vw -p vw_valid_pred5.csv --random_seed 17 --quiet\n"
     ]
    },
    {
     "name": "stderr",
     "output_type": "stream",
     "text": [
      "\r",
      "6it [18:58, 223.29s/it]"
     ]
    },
    {
     "name": "stdout",
     "output_type": "stream",
     "text": [
      "Accuracy: 92.91%. Elapsed: 46.17 sec.\n",
      "vw --oaa 10 stackoverflow_train.vw -f vw_model6_part.vw -b 28 --random_seed 17 --ngram=3 --quiet\n",
      "Success. Elapsed: 183.41 sec.\n",
      "vw -t -i vw_model6_part.vw stackoverflow_valid.vw -p vw_valid_pred6.csv --random_seed 17 --quiet\n"
     ]
    },
    {
     "name": "stderr",
     "output_type": "stream",
     "text": [
      "\r",
      "7it [23:17, 234.21s/it]"
     ]
    },
    {
     "name": "stdout",
     "output_type": "stream",
     "text": [
      "Accuracy: 92.85%. Elapsed: 76.28 sec.\n",
      "vw --oaa 10 stackoverflow_train.vw -f vw_model7_part.vw -b 28 --random_seed 17 --ngram=3 -k --passes=3 --cache_file vw_model7_part.cache --quiet\n",
      "Success. Elapsed: 548.67 sec.\n",
      "vw -t -i vw_model7_part.vw stackoverflow_valid.vw -p vw_valid_pred7.csv --random_seed 17 --quiet\n"
     ]
    },
    {
     "name": "stderr",
     "output_type": "stream",
     "text": [
      "\r",
      "8it [34:04, 357.82s/it]"
     ]
    },
    {
     "name": "stdout",
     "output_type": "stream",
     "text": [
      "Accuracy: 92.61%. Elapsed: 97.56 sec.\n",
      "vw --oaa 10 stackoverflow_train.vw -f vw_model8_part.vw -b 28 --random_seed 17 --ngram=3 -k --passes=5 --cache_file vw_model8_part.cache --quiet\n",
      "Success. Elapsed: 717.71 sec.\n",
      "vw -t -i vw_model8_part.vw stackoverflow_valid.vw -p vw_valid_pred8.csv --random_seed 17 --quiet\n"
     ]
    },
    {
     "name": "stderr",
     "output_type": "stream",
     "text": [
      "\r",
      "9it [47:19, 489.18s/it]"
     ]
    },
    {
     "name": "stdout",
     "output_type": "stream",
     "text": [
      "Accuracy: 92.6%. Elapsed: 77.97 sec.\n"
     ]
    },
    {
     "name": "stderr",
     "output_type": "stream",
     "text": [
      "\n"
     ]
    }
   ],
   "source": [
    "for i, (ngram, passes) in tqdm(enumerate(itertools.product([1,2,3], \n",
    "                                                      [1,3,5]))):\n",
    "    train_vw_model('stackoverflow_train.vw', \n",
    "                   'vw_model{}_part.vw'.format(i), \n",
    "                   ngram=ngram, passes=passes,\n",
    "                   num_classes=10, bit_precision=28, \n",
    "                   seed=17, quiet=True)\n",
    "    test_vw_model(model_filename='vw_model{}_part.vw'.format(i), \n",
    "              test_vw_file='stackoverflow_valid.vw', \n",
    "              prediction_filename='vw_valid_pred{}.csv'.format(i),\n",
    "              true_labels=y_valid, seed=17)"
   ]
  },
  {
   "cell_type": "markdown",
   "metadata": {},
   "source": [
    "<font color='red'> Вопрос 1.</font> Какое сочетание параметров дает наибольшую долю правильных ответов на проверочной выборке `stackoverflow_valid.vw`?\n",
    "- Биграммы и 3 прохода по выборке\n",
    "- Триграммы и 5 проходов по выборке\n",
    "- Биграммы и 1 проход по выборке\n",
    "- Униграммы и 3 прохода по выборке"
   ]
  },
  {
   "cell_type": "markdown",
   "metadata": {},
   "source": [
    "<font color='red'> Ответ:</font> Лучше всего сработала модель с биграммами и одним проходом по выборке"
   ]
  },
  {
   "cell_type": "markdown",
   "metadata": {},
   "source": [
    "Проверьте лучшую (по доле правильных ответов на валидации) модель на тестовой выборке. "
   ]
  },
  {
   "cell_type": "code",
   "execution_count": 39,
   "metadata": {},
   "outputs": [
    {
     "name": "stdout",
     "output_type": "stream",
     "text": [
      "vw -t -i vw_model3_part.vw stackoverflow_test.vw -p vw_test_pred3.csv --random_seed 17 --quiet\n",
      "Accuracy: 93.11%. Elapsed: 47.2 sec.\n"
     ]
    }
   ],
   "source": [
    "test_vw_model(model_filename='vw_model3_part.vw', \n",
    "              test_vw_file='stackoverflow_test.vw', \n",
    "              prediction_filename='vw_test_pred3.csv',\n",
    "              true_labels=y_test, seed=17)"
   ]
  },
  {
   "cell_type": "markdown",
   "metadata": {},
   "source": [
    "<font color='red'> Вопрос 2.</font> Как соотносятся доли правильных ответов лучшей (по доле правильных ответов на валидации) модели на проверочной и на тестовой выборках?\n",
    "- На тестовой ниже примерно на 1%\n",
    "- На тестовой ниже примерно на 1%\n",
    "- Результаты почти одинаковы – отличаются меньше чем на 0.5%"
   ]
  },
  {
   "cell_type": "markdown",
   "metadata": {},
   "source": [
    "<font color='red'> Ответ:</font> Результаты почти одинаковы, что не удивительно, мы поделили исходную выборку на 3 части, обучались на одной из них, значит, на двух других результаты должны быть примерно равными."
   ]
  },
  {
   "cell_type": "code",
   "execution_count": 50,
   "metadata": {},
   "outputs": [
    {
     "name": "stdout",
     "output_type": "stream",
     "text": [
      "CPU times: user 309 ms, sys: 122 ms, total: 431 ms\n",
      "Wall time: 14.2 s\n"
     ]
    }
   ],
   "source": [
    "%%time\n",
    "!cp stackoverflow_train.vw stackoverflow_train_valid.vw\n",
    "!cat stackoverflow_valid.vw >> stackoverflow_train_valid.vw"
   ]
  },
  {
   "cell_type": "markdown",
   "metadata": {},
   "source": [
    "Обучите VW с параметрами, подобранными на проверочной выборке, теперь на объединении обучающей и проверочной выборок. Посчитайте долю правильных ответов на тестовой выборке. "
   ]
  },
  {
   "cell_type": "code",
   "execution_count": 51,
   "metadata": {},
   "outputs": [
    {
     "name": "stdout",
     "output_type": "stream",
     "text": [
      "vw --oaa 10 stackoverflow_train_valid.vw -f vw_model10.vw -b 28 --random_seed 17 --ngram=2 --quiet\n",
      "Success. Elapsed: 155.63 sec.\n"
     ]
    }
   ],
   "source": [
    "train_vw_model('stackoverflow_train_valid.vw', \n",
    "                   'vw_model10.vw', \n",
    "                   ngram=2, passes=1,\n",
    "                   num_classes=10, bit_precision=28, \n",
    "                   seed=17, quiet=True)"
   ]
  },
  {
   "cell_type": "code",
   "execution_count": 52,
   "metadata": {},
   "outputs": [
    {
     "name": "stdout",
     "output_type": "stream",
     "text": [
      "vw -t -i vw_model10.vw stackoverflow_test.vw -p vw_test_pred10.csv --random_seed 17 --quiet\n",
      "Accuracy: 93.52%. Elapsed: 50.14 sec.\n"
     ]
    }
   ],
   "source": [
    "test_vw_model(model_filename='vw_model10.vw', \n",
    "              test_vw_file='stackoverflow_test.vw', \n",
    "              prediction_filename='vw_test_pred10.csv',\n",
    "              true_labels=y_test, seed=17)"
   ]
  },
  {
   "cell_type": "markdown",
   "metadata": {},
   "source": [
    "<font color='red'> Вопрос 3.</font> На сколько повысилась доля правильных ответов модели после обучения на вдвое большей выборке (обучающая `stackoverflow_train.vw` + проверочная `stackoverflow_valid.vw`) по сравнению с моделью, обученной только на `stackoverflow_train.vw`?\n",
    " - 0.1%\n",
    " - 0.4%\n",
    " - 0.8%\n",
    " - 1.2%"
   ]
  },
  {
   "cell_type": "markdown",
   "metadata": {},
   "source": [
    "<font color='red'> Ответ:</font> Добавление данных помогло, доля правильных ответов возросла на  0.4%. Кстати, результат дискуссионный – стоит ли в реальном приложении мучительно настраивать параметры модели, или хватит 91.5% верных ответов простой модели (униграммы и один проход по выборке). Пожалуй, в данном случае прогнозирования тегов вопросов оно того не стоит. Хотя узнали мы это только понастраивая параметры, заранее не могли знать. "
   ]
  },
  {
   "cell_type": "markdown",
   "metadata": {},
   "source": [
    "<font color='red'> Критика </font> данного решения:\n",
    "- не использовалась обертка `sklearn` для Vowpal Wabbit\n",
    "- не использовалась библиотека `hyperopt` для настройки параметров\n",
    "- лучше результаты обучения моделей писать в лог-файл, а не печатать\n",
    "- если использовать shell-команды, можно обрабатывать данные быстрее, чем скриптом на `Python`\n",
    "\n",
    "Впрочем, как quick&dirty решение вполне пойдет. Учитывая объем данных, увлекаться настройкой параметров тут не стоит."
   ]
  }
 ],
 "metadata": {
  "kernelspec": {
   "display_name": "Python 3",
   "language": "python",
   "name": "python3"
  },
  "language_info": {
   "codemirror_mode": {
    "name": "ipython",
    "version": 3
   },
   "file_extension": ".py",
   "mimetype": "text/x-python",
   "name": "python",
   "nbconvert_exporter": "python",
   "pygments_lexer": "ipython3",
   "version": "3.6.1"
  }
 },
 "nbformat": 4,
 "nbformat_minor": 2
}
