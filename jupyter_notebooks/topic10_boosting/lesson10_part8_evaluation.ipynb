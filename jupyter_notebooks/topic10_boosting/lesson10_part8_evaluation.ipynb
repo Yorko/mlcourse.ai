{
 "cells": [
  {
   "cell_type": "markdown",
   "metadata": {},
   "source": [
    "<center>\n",
    "<img src=\"../../img/ods_stickers.jpg\">\n",
    "## Открытый курс по машинному обучению. Сессия № 2\n",
    "Автор материала: программист-исследователь Mail.ru Group, старший преподаватель Факультета Компьютерных Наук ВШЭ Юрий Кашницкий. Материал распространяется на условиях лицензии [Creative Commons CC BY-NC-SA 4.0](https://creativecommons.org/licenses/by-nc-sa/4.0/). Можно использовать в любых целях (редактировать, поправлять и брать за основу), кроме коммерческих, но с обязательным упоминанием автора материала."
   ]
  },
  {
   "cell_type": "markdown",
   "metadata": {},
   "source": [
    "# <center>Тема 10. Бустинг\n",
    "## <center>Часть 8. Оценка результатов Xgboost"
   ]
  },
  {
   "cell_type": "markdown",
   "metadata": {},
   "source": [
    "## Загрузка бибилиотек"
   ]
  },
  {
   "cell_type": "code",
   "execution_count": 1,
   "metadata": {
    "collapsed": true
   },
   "outputs": [],
   "source": [
    "import numpy as np\n",
    "import pandas as pd\n",
    "import pandas as pd\n",
    "from sklearn.model_selection import train_test_split\n",
    "from sklearn.preprocessing import LabelEncoder\n",
    "import xgboost as xgb"
   ]
  },
  {
   "cell_type": "markdown",
   "metadata": {},
   "source": [
    "## Загрузка и подготовка данных\n",
    "\n",
    "Посмотрим на примере данных по оттоку клиентов из телеком-компании."
   ]
  },
  {
   "cell_type": "code",
   "execution_count": 2,
   "metadata": {
    "collapsed": true
   },
   "outputs": [],
   "source": [
    "df = pd.read_csv('../../data/telecom_churn.csv')"
   ]
  },
  {
   "cell_type": "code",
   "execution_count": 3,
   "metadata": {},
   "outputs": [
    {
     "data": {
      "text/html": [
       "<div>\n",
       "<style>\n",
       "    .dataframe thead tr:only-child th {\n",
       "        text-align: right;\n",
       "    }\n",
       "\n",
       "    .dataframe thead th {\n",
       "        text-align: left;\n",
       "    }\n",
       "\n",
       "    .dataframe tbody tr th {\n",
       "        vertical-align: top;\n",
       "    }\n",
       "</style>\n",
       "<table border=\"1\" class=\"dataframe\">\n",
       "  <thead>\n",
       "    <tr style=\"text-align: right;\">\n",
       "      <th></th>\n",
       "      <th>State</th>\n",
       "      <th>Account length</th>\n",
       "      <th>Area code</th>\n",
       "      <th>International plan</th>\n",
       "      <th>Voice mail plan</th>\n",
       "      <th>Number vmail messages</th>\n",
       "      <th>Total day minutes</th>\n",
       "      <th>Total day calls</th>\n",
       "      <th>Total day charge</th>\n",
       "      <th>Total eve minutes</th>\n",
       "      <th>Total eve calls</th>\n",
       "      <th>Total eve charge</th>\n",
       "      <th>Total night minutes</th>\n",
       "      <th>Total night calls</th>\n",
       "      <th>Total night charge</th>\n",
       "      <th>Total intl minutes</th>\n",
       "      <th>Total intl calls</th>\n",
       "      <th>Total intl charge</th>\n",
       "      <th>Customer service calls</th>\n",
       "      <th>Churn</th>\n",
       "    </tr>\n",
       "  </thead>\n",
       "  <tbody>\n",
       "    <tr>\n",
       "      <th>0</th>\n",
       "      <td>KS</td>\n",
       "      <td>128</td>\n",
       "      <td>415</td>\n",
       "      <td>No</td>\n",
       "      <td>Yes</td>\n",
       "      <td>25</td>\n",
       "      <td>265.1</td>\n",
       "      <td>110</td>\n",
       "      <td>45.07</td>\n",
       "      <td>197.4</td>\n",
       "      <td>99</td>\n",
       "      <td>16.78</td>\n",
       "      <td>244.7</td>\n",
       "      <td>91</td>\n",
       "      <td>11.01</td>\n",
       "      <td>10.0</td>\n",
       "      <td>3</td>\n",
       "      <td>2.70</td>\n",
       "      <td>1</td>\n",
       "      <td>False</td>\n",
       "    </tr>\n",
       "    <tr>\n",
       "      <th>1</th>\n",
       "      <td>OH</td>\n",
       "      <td>107</td>\n",
       "      <td>415</td>\n",
       "      <td>No</td>\n",
       "      <td>Yes</td>\n",
       "      <td>26</td>\n",
       "      <td>161.6</td>\n",
       "      <td>123</td>\n",
       "      <td>27.47</td>\n",
       "      <td>195.5</td>\n",
       "      <td>103</td>\n",
       "      <td>16.62</td>\n",
       "      <td>254.4</td>\n",
       "      <td>103</td>\n",
       "      <td>11.45</td>\n",
       "      <td>13.7</td>\n",
       "      <td>3</td>\n",
       "      <td>3.70</td>\n",
       "      <td>1</td>\n",
       "      <td>False</td>\n",
       "    </tr>\n",
       "    <tr>\n",
       "      <th>2</th>\n",
       "      <td>NJ</td>\n",
       "      <td>137</td>\n",
       "      <td>415</td>\n",
       "      <td>No</td>\n",
       "      <td>No</td>\n",
       "      <td>0</td>\n",
       "      <td>243.4</td>\n",
       "      <td>114</td>\n",
       "      <td>41.38</td>\n",
       "      <td>121.2</td>\n",
       "      <td>110</td>\n",
       "      <td>10.30</td>\n",
       "      <td>162.6</td>\n",
       "      <td>104</td>\n",
       "      <td>7.32</td>\n",
       "      <td>12.2</td>\n",
       "      <td>5</td>\n",
       "      <td>3.29</td>\n",
       "      <td>0</td>\n",
       "      <td>False</td>\n",
       "    </tr>\n",
       "    <tr>\n",
       "      <th>3</th>\n",
       "      <td>OH</td>\n",
       "      <td>84</td>\n",
       "      <td>408</td>\n",
       "      <td>Yes</td>\n",
       "      <td>No</td>\n",
       "      <td>0</td>\n",
       "      <td>299.4</td>\n",
       "      <td>71</td>\n",
       "      <td>50.90</td>\n",
       "      <td>61.9</td>\n",
       "      <td>88</td>\n",
       "      <td>5.26</td>\n",
       "      <td>196.9</td>\n",
       "      <td>89</td>\n",
       "      <td>8.86</td>\n",
       "      <td>6.6</td>\n",
       "      <td>7</td>\n",
       "      <td>1.78</td>\n",
       "      <td>2</td>\n",
       "      <td>False</td>\n",
       "    </tr>\n",
       "    <tr>\n",
       "      <th>4</th>\n",
       "      <td>OK</td>\n",
       "      <td>75</td>\n",
       "      <td>415</td>\n",
       "      <td>Yes</td>\n",
       "      <td>No</td>\n",
       "      <td>0</td>\n",
       "      <td>166.7</td>\n",
       "      <td>113</td>\n",
       "      <td>28.34</td>\n",
       "      <td>148.3</td>\n",
       "      <td>122</td>\n",
       "      <td>12.61</td>\n",
       "      <td>186.9</td>\n",
       "      <td>121</td>\n",
       "      <td>8.41</td>\n",
       "      <td>10.1</td>\n",
       "      <td>3</td>\n",
       "      <td>2.73</td>\n",
       "      <td>3</td>\n",
       "      <td>False</td>\n",
       "    </tr>\n",
       "  </tbody>\n",
       "</table>\n",
       "</div>"
      ],
      "text/plain": [
       "  State  Account length  Area code International plan Voice mail plan  \\\n",
       "0    KS             128        415                 No             Yes   \n",
       "1    OH             107        415                 No             Yes   \n",
       "2    NJ             137        415                 No              No   \n",
       "3    OH              84        408                Yes              No   \n",
       "4    OK              75        415                Yes              No   \n",
       "\n",
       "   Number vmail messages  Total day minutes  Total day calls  \\\n",
       "0                     25              265.1              110   \n",
       "1                     26              161.6              123   \n",
       "2                      0              243.4              114   \n",
       "3                      0              299.4               71   \n",
       "4                      0              166.7              113   \n",
       "\n",
       "   Total day charge  Total eve minutes  Total eve calls  Total eve charge  \\\n",
       "0             45.07              197.4               99             16.78   \n",
       "1             27.47              195.5              103             16.62   \n",
       "2             41.38              121.2              110             10.30   \n",
       "3             50.90               61.9               88              5.26   \n",
       "4             28.34              148.3              122             12.61   \n",
       "\n",
       "   Total night minutes  Total night calls  Total night charge  \\\n",
       "0                244.7                 91               11.01   \n",
       "1                254.4                103               11.45   \n",
       "2                162.6                104                7.32   \n",
       "3                196.9                 89                8.86   \n",
       "4                186.9                121                8.41   \n",
       "\n",
       "   Total intl minutes  Total intl calls  Total intl charge  \\\n",
       "0                10.0                 3               2.70   \n",
       "1                13.7                 3               3.70   \n",
       "2                12.2                 5               3.29   \n",
       "3                 6.6                 7               1.78   \n",
       "4                10.1                 3               2.73   \n",
       "\n",
       "   Customer service calls  Churn  \n",
       "0                       1  False  \n",
       "1                       1  False  \n",
       "2                       0  False  \n",
       "3                       2  False  \n",
       "4                       3  False  "
      ]
     },
     "execution_count": 3,
     "metadata": {},
     "output_type": "execute_result"
    }
   ],
   "source": [
    "df.head()"
   ]
  },
  {
   "cell_type": "markdown",
   "metadata": {},
   "source": [
    "**Штаты просто занумеруем, а признаки International plan (наличие международного роуминга), Voice mail plan (наличие голосовой почтыы) и целевой Churn сделаем бинарными.**"
   ]
  },
  {
   "cell_type": "code",
   "execution_count": 4,
   "metadata": {
    "collapsed": true
   },
   "outputs": [],
   "source": [
    "state_enc = LabelEncoder()\n",
    "df['State'] = state_enc.fit_transform(df['State'])\n",
    "df['International plan'] = (df['International plan'] == 'Yes').astype('int')\n",
    "df['Voice mail plan'] = (df['Voice mail plan'] == 'Yes').astype('int')\n",
    "df['Churn'] = (df['Churn']).astype('int')"
   ]
  },
  {
   "cell_type": "markdown",
   "metadata": {},
   "source": [
    "**Разделим данные на обучающую и тестовую выборки в отношении 7:3. Создадим соотв. объекты DMAtrix.**"
   ]
  },
  {
   "cell_type": "code",
   "execution_count": 5,
   "metadata": {
    "collapsed": true
   },
   "outputs": [],
   "source": [
    "X_train, X_test, y_train, y_test = train_test_split(df.drop('Churn', axis=1), df['Churn'],\n",
    "                                                    test_size=0.3, random_state=42)\n",
    "dtrain = xgb.DMatrix(X_train, y_train)\n",
    "dtest = xgb.DMatrix(X_test, y_test)"
   ]
  },
  {
   "cell_type": "markdown",
   "metadata": {},
   "source": [
    "**Зададим параметры Xgboost.**"
   ]
  },
  {
   "cell_type": "code",
   "execution_count": 6,
   "metadata": {
    "collapsed": true
   },
   "outputs": [],
   "source": [
    "params = {\n",
    "    'objective':'binary:logistic',\n",
    "    'max_depth':3,\n",
    "    'silent':1,\n",
    "    'eta':0.5\n",
    "}\n",
    "\n",
    "num_rounds = 10"
   ]
  },
  {
   "cell_type": "markdown",
   "metadata": {},
   "source": [
    "**Будем отслеживать качество модели и на обучающей выборке, и на валидационной.**"
   ]
  },
  {
   "cell_type": "code",
   "execution_count": 7,
   "metadata": {
    "collapsed": true
   },
   "outputs": [],
   "source": [
    "watchlist  = [(dtest,'test'), (dtrain,'train')]"
   ]
  },
  {
   "cell_type": "markdown",
   "metadata": {},
   "source": [
    "## Использование встроенных метрик \n",
    "В Xgboost реализованы большинство популярных метрик для классификации, регрессии и ранжирования:\n",
    "\n",
    "- `rmse` - [root mean square error](https://www.wikiwand.com/en/Root-mean-square_deviation)\n",
    "- `mae` - [mean absolute error](https://en.wikipedia.org/wiki/Mean_absolute_error?oldformat=true)\n",
    "- `logloss` - [negative log-likelihood](https://en.wikipedia.org/wiki/Likelihood_function?oldformat=true)\n",
    "- `error` (по умолчанию) - доля ошибок в бинарной классификации\n",
    "- `merror` - доля ошибок в классификации на несколько классов\n",
    "- `auc` - [area under curve](https://en.wikipedia.org/wiki/Receiver_operating_characteristic?oldformat=true)\n",
    "- `ndcg` - [normalized discounted cumulative gain](https://en.wikipedia.org/wiki/Discounted_cumulative_gain?oldformat=true)\n",
    "- `map` - [mean average precision](https://en.wikipedia.org/wiki/Information_retrieval?oldformat=true)"
   ]
  },
  {
   "cell_type": "code",
   "execution_count": 8,
   "metadata": {},
   "outputs": [
    {
     "name": "stdout",
     "output_type": "stream",
     "text": [
      "[0]\ttest-error:0.1\ttrain-error:0.091299\n",
      "[1]\ttest-error:0.09\ttrain-error:0.088298\n",
      "[2]\ttest-error:0.073\ttrain-error:0.067724\n",
      "[3]\ttest-error:0.067\ttrain-error:0.060437\n",
      "[4]\ttest-error:0.058\ttrain-error:0.046292\n",
      "[5]\ttest-error:0.056\ttrain-error:0.049721\n",
      "[6]\ttest-error:0.057\ttrain-error:0.046292\n",
      "[7]\ttest-error:0.056\ttrain-error:0.043292\n",
      "[8]\ttest-error:0.052\ttrain-error:0.044149\n",
      "[9]\ttest-error:0.053\ttrain-error:0.042435\n"
     ]
    }
   ],
   "source": [
    "xgb_model = xgb.train(params, dtrain, num_rounds, watchlist)"
   ]
  },
  {
   "cell_type": "markdown",
   "metadata": {},
   "source": [
    "**Чтоб отслеживать log_loss, просто добавим ее в словарь params.**"
   ]
  },
  {
   "cell_type": "code",
   "execution_count": 9,
   "metadata": {},
   "outputs": [
    {
     "name": "stdout",
     "output_type": "stream",
     "text": [
      "[0]\ttest-logloss:0.431523\ttrain-logloss:0.426057\n",
      "[1]\ttest-logloss:0.326082\ttrain-logloss:0.319245\n",
      "[2]\ttest-logloss:0.268074\ttrain-logloss:0.261545\n",
      "[3]\ttest-logloss:0.237364\ttrain-logloss:0.232012\n",
      "[4]\ttest-logloss:0.211304\ttrain-logloss:0.203699\n",
      "[5]\ttest-logloss:0.19646\ttrain-logloss:0.190836\n",
      "[6]\ttest-logloss:0.189223\ttrain-logloss:0.180746\n",
      "[7]\ttest-logloss:0.183324\ttrain-logloss:0.174471\n",
      "[8]\ttest-logloss:0.180598\ttrain-logloss:0.16928\n",
      "[9]\ttest-logloss:0.178481\ttrain-logloss:0.165865\n"
     ]
    }
   ],
   "source": [
    "params['eval_metric'] = 'logloss'\n",
    "xgb_model = xgb.train(params, dtrain, num_rounds, watchlist)"
   ]
  },
  {
   "cell_type": "markdown",
   "metadata": {},
   "source": [
    "**Можно отслеживать сразу несколько метрик.**"
   ]
  },
  {
   "cell_type": "code",
   "execution_count": 10,
   "metadata": {},
   "outputs": [
    {
     "name": "stdout",
     "output_type": "stream",
     "text": [
      "[0]\ttest-logloss:0.431523\ttest-auc:0.831107\ttrain-logloss:0.426057\ttrain-auc:0.834741\n",
      "[1]\ttest-logloss:0.326082\ttest-auc:0.897047\ttrain-logloss:0.319245\ttrain-auc:0.888422\n",
      "[2]\ttest-logloss:0.268074\ttest-auc:0.902286\ttrain-logloss:0.261545\ttrain-auc:0.895616\n",
      "[3]\ttest-logloss:0.237364\ttest-auc:0.912461\ttrain-logloss:0.232012\ttrain-auc:0.901253\n",
      "[4]\ttest-logloss:0.211304\ttest-auc:0.919258\ttrain-logloss:0.203699\ttrain-auc:0.908693\n",
      "[5]\ttest-logloss:0.19646\ttest-auc:0.921123\ttrain-logloss:0.190836\ttrain-auc:0.911472\n",
      "[6]\ttest-logloss:0.189223\ttest-auc:0.922836\ttrain-logloss:0.180746\ttrain-auc:0.914537\n",
      "[7]\ttest-logloss:0.183324\ttest-auc:0.924101\ttrain-logloss:0.174471\ttrain-auc:0.91686\n",
      "[8]\ttest-logloss:0.180598\ttest-auc:0.934289\ttrain-logloss:0.16928\ttrain-auc:0.933808\n",
      "[9]\ttest-logloss:0.178481\ttest-auc:0.934831\ttrain-logloss:0.165865\ttrain-auc:0.937508\n"
     ]
    }
   ],
   "source": [
    "params['eval_metric'] = ['logloss', 'auc']\n",
    "xgb_model = xgb.train(params, dtrain, num_rounds, watchlist)"
   ]
  },
  {
   "cell_type": "markdown",
   "metadata": {},
   "source": [
    "## Создание собственной метрики качества\n",
    "\n",
    "**Чтобы создать свою метрику качества, достаточно определить функцию, принимающую 2 аргумента: вектор предсказанных вероятностей и объект `DMatrix` с истинными метками.  \n",
    "В этом примере функция вернет просто число объектов, на которых классификатор ошибся, когла относил к классу 1 при превышении предсказанной вероятности класса 1 порога 0.5. \n",
    "Далее передаем эту функцию в xgb.train (параметр feval), если метрика тем лучше, чем меньше, надо дополнительно указать `maximize=False`.**\n"
   ]
  },
  {
   "cell_type": "code",
   "execution_count": 11,
   "metadata": {
    "collapsed": true
   },
   "outputs": [],
   "source": [
    "# custom evaluation metric\n",
    "def misclassified(pred_probs, dmatrix):\n",
    "    labels = dmatrix.get_label() # obtain true labels\n",
    "    preds = pred_probs > 0.5 # obtain predicted values\n",
    "    return 'misclassified', np.sum(labels != preds)"
   ]
  },
  {
   "cell_type": "code",
   "execution_count": 12,
   "metadata": {},
   "outputs": [
    {
     "name": "stdout",
     "output_type": "stream",
     "text": [
      "[0]\ttest-logloss:0.431523\ttest-auc:0.831107\ttrain-logloss:0.426057\ttrain-auc:0.834741\ttest-misclassified:100\ttrain-misclassified:213\n",
      "[1]\ttest-logloss:0.326082\ttest-auc:0.897047\ttrain-logloss:0.319245\ttrain-auc:0.888422\ttest-misclassified:90\ttrain-misclassified:206\n",
      "[2]\ttest-logloss:0.268074\ttest-auc:0.902286\ttrain-logloss:0.261545\ttrain-auc:0.895616\ttest-misclassified:73\ttrain-misclassified:158\n",
      "[3]\ttest-logloss:0.237364\ttest-auc:0.912461\ttrain-logloss:0.232012\ttrain-auc:0.901253\ttest-misclassified:67\ttrain-misclassified:141\n",
      "[4]\ttest-logloss:0.211304\ttest-auc:0.919258\ttrain-logloss:0.203699\ttrain-auc:0.908693\ttest-misclassified:58\ttrain-misclassified:108\n",
      "[5]\ttest-logloss:0.19646\ttest-auc:0.921123\ttrain-logloss:0.190836\ttrain-auc:0.911472\ttest-misclassified:56\ttrain-misclassified:116\n",
      "[6]\ttest-logloss:0.189223\ttest-auc:0.922836\ttrain-logloss:0.180746\ttrain-auc:0.914537\ttest-misclassified:57\ttrain-misclassified:108\n",
      "[7]\ttest-logloss:0.183324\ttest-auc:0.924101\ttrain-logloss:0.174471\ttrain-auc:0.91686\ttest-misclassified:56\ttrain-misclassified:101\n",
      "[8]\ttest-logloss:0.180598\ttest-auc:0.934289\ttrain-logloss:0.16928\ttrain-auc:0.933808\ttest-misclassified:52\ttrain-misclassified:103\n",
      "[9]\ttest-logloss:0.178481\ttest-auc:0.934831\ttrain-logloss:0.165865\ttrain-auc:0.937508\ttest-misclassified:53\ttrain-misclassified:99\n"
     ]
    }
   ],
   "source": [
    "xgb_model = xgb.train(params, dtrain, num_rounds, watchlist, feval=misclassified, maximize=False)"
   ]
  },
  {
   "cell_type": "markdown",
   "metadata": {},
   "source": [
    "**С помощью параметра evals_result можно сохранить значения метрик по итерациям.**"
   ]
  },
  {
   "cell_type": "code",
   "execution_count": 13,
   "metadata": {},
   "outputs": [
    {
     "name": "stdout",
     "output_type": "stream",
     "text": [
      "[0]\ttest-logloss:0.431523\ttest-auc:0.831107\ttrain-logloss:0.426057\ttrain-auc:0.834741\ttest-misclassified:100\ttrain-misclassified:213\n",
      "[1]\ttest-logloss:0.326082\ttest-auc:0.897047\ttrain-logloss:0.319245\ttrain-auc:0.888422\ttest-misclassified:90\ttrain-misclassified:206\n",
      "[2]\ttest-logloss:0.268074\ttest-auc:0.902286\ttrain-logloss:0.261545\ttrain-auc:0.895616\ttest-misclassified:73\ttrain-misclassified:158\n",
      "[3]\ttest-logloss:0.237364\ttest-auc:0.912461\ttrain-logloss:0.232012\ttrain-auc:0.901253\ttest-misclassified:67\ttrain-misclassified:141\n",
      "[4]\ttest-logloss:0.211304\ttest-auc:0.919258\ttrain-logloss:0.203699\ttrain-auc:0.908693\ttest-misclassified:58\ttrain-misclassified:108\n",
      "[5]\ttest-logloss:0.19646\ttest-auc:0.921123\ttrain-logloss:0.190836\ttrain-auc:0.911472\ttest-misclassified:56\ttrain-misclassified:116\n",
      "[6]\ttest-logloss:0.189223\ttest-auc:0.922836\ttrain-logloss:0.180746\ttrain-auc:0.914537\ttest-misclassified:57\ttrain-misclassified:108\n",
      "[7]\ttest-logloss:0.183324\ttest-auc:0.924101\ttrain-logloss:0.174471\ttrain-auc:0.91686\ttest-misclassified:56\ttrain-misclassified:101\n",
      "[8]\ttest-logloss:0.180598\ttest-auc:0.934289\ttrain-logloss:0.16928\ttrain-auc:0.933808\ttest-misclassified:52\ttrain-misclassified:103\n",
      "[9]\ttest-logloss:0.178481\ttest-auc:0.934831\ttrain-logloss:0.165865\ttrain-auc:0.937508\ttest-misclassified:53\ttrain-misclassified:99\n"
     ]
    }
   ],
   "source": [
    "evals_result = {}\n",
    "xgb_model = xgb.train(params, dtrain, num_rounds, watchlist, feval=misclassified, maximize=False, \n",
    "                      evals_result=evals_result)"
   ]
  },
  {
   "cell_type": "code",
   "execution_count": 14,
   "metadata": {},
   "outputs": [
    {
     "data": {
      "text/plain": [
       "{'test': {'auc': [0.831107,\n",
       "   0.897047,\n",
       "   0.902286,\n",
       "   0.912461,\n",
       "   0.919258,\n",
       "   0.921123,\n",
       "   0.922836,\n",
       "   0.924101,\n",
       "   0.934289,\n",
       "   0.934831],\n",
       "  'logloss': [0.431523,\n",
       "   0.326082,\n",
       "   0.268074,\n",
       "   0.237364,\n",
       "   0.211304,\n",
       "   0.19646,\n",
       "   0.189223,\n",
       "   0.183324,\n",
       "   0.180598,\n",
       "   0.178481],\n",
       "  'misclassified': [100.0,\n",
       "   90.0,\n",
       "   73.0,\n",
       "   67.0,\n",
       "   58.0,\n",
       "   56.0,\n",
       "   57.0,\n",
       "   56.0,\n",
       "   52.0,\n",
       "   53.0]},\n",
       " 'train': {'auc': [0.834741,\n",
       "   0.888422,\n",
       "   0.895616,\n",
       "   0.901253,\n",
       "   0.908693,\n",
       "   0.911472,\n",
       "   0.914537,\n",
       "   0.91686,\n",
       "   0.933808,\n",
       "   0.937508],\n",
       "  'logloss': [0.426057,\n",
       "   0.319245,\n",
       "   0.261545,\n",
       "   0.232012,\n",
       "   0.203699,\n",
       "   0.190836,\n",
       "   0.180746,\n",
       "   0.174471,\n",
       "   0.16928,\n",
       "   0.165865],\n",
       "  'misclassified': [213.0,\n",
       "   206.0,\n",
       "   158.0,\n",
       "   141.0,\n",
       "   108.0,\n",
       "   116.0,\n",
       "   108.0,\n",
       "   101.0,\n",
       "   103.0,\n",
       "   99.0]}}"
      ]
     },
     "execution_count": 14,
     "metadata": {},
     "output_type": "execute_result"
    }
   ],
   "source": [
    "evals_result"
   ]
  },
  {
   "cell_type": "markdown",
   "metadata": {},
   "source": [
    "## Ранняя остановка\n",
    "**Ранняя остановка используется для того, чтобы прекратить обучение модели, если ошибка за несколько итераций не уменьшилась.**"
   ]
  },
  {
   "cell_type": "code",
   "execution_count": 15,
   "metadata": {},
   "outputs": [
    {
     "name": "stdout",
     "output_type": "stream",
     "text": [
      "[0]\ttest-error:0.1\ttrain-error:0.091299\n",
      "Multiple eval metrics have been passed: 'train-error' will be used for early stopping.\n",
      "\n",
      "Will train until train-error hasn't improved in 10 rounds.\n",
      "[1]\ttest-error:0.09\ttrain-error:0.088298\n",
      "[2]\ttest-error:0.073\ttrain-error:0.067724\n",
      "[3]\ttest-error:0.067\ttrain-error:0.060437\n",
      "[4]\ttest-error:0.058\ttrain-error:0.046292\n",
      "[5]\ttest-error:0.056\ttrain-error:0.049721\n",
      "[6]\ttest-error:0.057\ttrain-error:0.046292\n",
      "[7]\ttest-error:0.056\ttrain-error:0.043292\n",
      "[8]\ttest-error:0.052\ttrain-error:0.044149\n",
      "[9]\ttest-error:0.053\ttrain-error:0.042435\n",
      "[10]\ttest-error:0.057\ttrain-error:0.042006\n",
      "[11]\ttest-error:0.055\ttrain-error:0.041577\n",
      "[12]\ttest-error:0.052\ttrain-error:0.040291\n",
      "[13]\ttest-error:0.054\ttrain-error:0.039434\n",
      "[14]\ttest-error:0.051\ttrain-error:0.039863\n",
      "[15]\ttest-error:0.054\ttrain-error:0.039434\n",
      "[16]\ttest-error:0.053\ttrain-error:0.035148\n",
      "[17]\ttest-error:0.053\ttrain-error:0.035577\n",
      "[18]\ttest-error:0.052\ttrain-error:0.033862\n",
      "[19]\ttest-error:0.055\ttrain-error:0.032576\n",
      "[20]\ttest-error:0.055\ttrain-error:0.03129\n",
      "[21]\ttest-error:0.055\ttrain-error:0.03129\n",
      "[22]\ttest-error:0.052\ttrain-error:0.031719\n",
      "[23]\ttest-error:0.054\ttrain-error:0.030004\n",
      "[24]\ttest-error:0.055\ttrain-error:0.030433\n",
      "[25]\ttest-error:0.052\ttrain-error:0.030433\n",
      "[26]\ttest-error:0.051\ttrain-error:0.028718\n",
      "[27]\ttest-error:0.051\ttrain-error:0.02829\n",
      "[28]\ttest-error:0.051\ttrain-error:0.027861\n",
      "[29]\ttest-error:0.052\ttrain-error:0.027861\n",
      "[30]\ttest-error:0.05\ttrain-error:0.027432\n",
      "[31]\ttest-error:0.049\ttrain-error:0.027432\n",
      "[32]\ttest-error:0.05\ttrain-error:0.027004\n",
      "[33]\ttest-error:0.052\ttrain-error:0.026147\n",
      "[34]\ttest-error:0.051\ttrain-error:0.025289\n",
      "[35]\ttest-error:0.05\ttrain-error:0.025289\n",
      "[36]\ttest-error:0.051\ttrain-error:0.025289\n",
      "[37]\ttest-error:0.049\ttrain-error:0.025718\n",
      "[38]\ttest-error:0.05\ttrain-error:0.024861\n",
      "[39]\ttest-error:0.049\ttrain-error:0.024861\n",
      "[40]\ttest-error:0.048\ttrain-error:0.024861\n",
      "[41]\ttest-error:0.049\ttrain-error:0.024861\n",
      "[42]\ttest-error:0.047\ttrain-error:0.024861\n",
      "[43]\ttest-error:0.049\ttrain-error:0.025289\n",
      "[44]\ttest-error:0.045\ttrain-error:0.024432\n",
      "[45]\ttest-error:0.047\ttrain-error:0.024432\n",
      "[46]\ttest-error:0.048\ttrain-error:0.023146\n",
      "[47]\ttest-error:0.048\ttrain-error:0.022718\n",
      "[48]\ttest-error:0.05\ttrain-error:0.023146\n",
      "[49]\ttest-error:0.047\ttrain-error:0.022289\n",
      "[50]\ttest-error:0.047\ttrain-error:0.021432\n",
      "[51]\ttest-error:0.048\ttrain-error:0.02186\n",
      "[52]\ttest-error:0.046\ttrain-error:0.021003\n",
      "[53]\ttest-error:0.045\ttrain-error:0.021432\n",
      "[54]\ttest-error:0.045\ttrain-error:0.021432\n",
      "[55]\ttest-error:0.045\ttrain-error:0.020574\n",
      "[56]\ttest-error:0.045\ttrain-error:0.020574\n",
      "[57]\ttest-error:0.043\ttrain-error:0.019288\n",
      "[58]\ttest-error:0.043\ttrain-error:0.019717\n",
      "[59]\ttest-error:0.044\ttrain-error:0.019717\n",
      "[60]\ttest-error:0.045\ttrain-error:0.01886\n",
      "[61]\ttest-error:0.044\ttrain-error:0.018431\n",
      "[62]\ttest-error:0.046\ttrain-error:0.017145\n",
      "[63]\ttest-error:0.046\ttrain-error:0.016288\n",
      "[64]\ttest-error:0.048\ttrain-error:0.016717\n",
      "[65]\ttest-error:0.047\ttrain-error:0.016717\n",
      "[66]\ttest-error:0.047\ttrain-error:0.016288\n",
      "[67]\ttest-error:0.047\ttrain-error:0.015431\n",
      "[68]\ttest-error:0.049\ttrain-error:0.015431\n",
      "[69]\ttest-error:0.047\ttrain-error:0.015431\n",
      "[70]\ttest-error:0.047\ttrain-error:0.015431\n",
      "[71]\ttest-error:0.046\ttrain-error:0.015431\n",
      "[72]\ttest-error:0.047\ttrain-error:0.014145\n",
      "[73]\ttest-error:0.047\ttrain-error:0.013716\n",
      "[74]\ttest-error:0.047\ttrain-error:0.01243\n",
      "[75]\ttest-error:0.049\ttrain-error:0.011573\n",
      "[76]\ttest-error:0.048\ttrain-error:0.010287\n",
      "[77]\ttest-error:0.048\ttrain-error:0.009859\n",
      "[78]\ttest-error:0.049\ttrain-error:0.009859\n",
      "[79]\ttest-error:0.051\ttrain-error:0.009859\n",
      "[80]\ttest-error:0.052\ttrain-error:0.009859\n",
      "[81]\ttest-error:0.052\ttrain-error:0.00943\n",
      "[82]\ttest-error:0.051\ttrain-error:0.00943\n",
      "[83]\ttest-error:0.053\ttrain-error:0.010287\n",
      "[84]\ttest-error:0.05\ttrain-error:0.008144\n",
      "[85]\ttest-error:0.05\ttrain-error:0.008144\n",
      "[86]\ttest-error:0.05\ttrain-error:0.008144\n",
      "[87]\ttest-error:0.05\ttrain-error:0.008573\n",
      "[88]\ttest-error:0.046\ttrain-error:0.007715\n",
      "[89]\ttest-error:0.048\ttrain-error:0.007715\n",
      "[90]\ttest-error:0.048\ttrain-error:0.007287\n",
      "[91]\ttest-error:0.047\ttrain-error:0.006858\n",
      "[92]\ttest-error:0.047\ttrain-error:0.006001\n",
      "[93]\ttest-error:0.047\ttrain-error:0.005144\n",
      "[94]\ttest-error:0.047\ttrain-error:0.005144\n",
      "[95]\ttest-error:0.047\ttrain-error:0.005144\n",
      "[96]\ttest-error:0.046\ttrain-error:0.005572\n",
      "[97]\ttest-error:0.048\ttrain-error:0.005572\n",
      "[98]\ttest-error:0.049\ttrain-error:0.005572\n",
      "[99]\ttest-error:0.048\ttrain-error:0.005572\n",
      "[100]\ttest-error:0.049\ttrain-error:0.004715\n",
      "[101]\ttest-error:0.05\ttrain-error:0.004286\n",
      "[102]\ttest-error:0.049\ttrain-error:0.003858\n",
      "[103]\ttest-error:0.051\ttrain-error:0.003858\n",
      "[104]\ttest-error:0.05\ttrain-error:0.003858\n",
      "[105]\ttest-error:0.051\ttrain-error:0.003858\n",
      "[106]\ttest-error:0.051\ttrain-error:0.003858\n",
      "[107]\ttest-error:0.052\ttrain-error:0.003\n",
      "[108]\ttest-error:0.049\ttrain-error:0.003\n",
      "[109]\ttest-error:0.049\ttrain-error:0.003\n",
      "[110]\ttest-error:0.05\ttrain-error:0.002572\n",
      "[111]\ttest-error:0.048\ttrain-error:0.002143\n",
      "[112]\ttest-error:0.048\ttrain-error:0.002143\n",
      "[113]\ttest-error:0.05\ttrain-error:0.002572\n",
      "[114]\ttest-error:0.05\ttrain-error:0.002143\n",
      "[115]\ttest-error:0.05\ttrain-error:0.002143\n",
      "[116]\ttest-error:0.05\ttrain-error:0.001715\n",
      "[117]\ttest-error:0.049\ttrain-error:0.001286\n",
      "[118]\ttest-error:0.047\ttrain-error:0.001286\n",
      "[119]\ttest-error:0.049\ttrain-error:0.001286\n",
      "[120]\ttest-error:0.047\ttrain-error:0.001286\n",
      "[121]\ttest-error:0.047\ttrain-error:0.001286\n",
      "[122]\ttest-error:0.047\ttrain-error:0.000857\n",
      "[123]\ttest-error:0.047\ttrain-error:0.000857\n",
      "[124]\ttest-error:0.048\ttrain-error:0.000857\n",
      "[125]\ttest-error:0.048\ttrain-error:0.000857\n",
      "[126]\ttest-error:0.048\ttrain-error:0.000857\n",
      "[127]\ttest-error:0.048\ttrain-error:0.000857\n",
      "[128]\ttest-error:0.047\ttrain-error:0.000857\n",
      "[129]\ttest-error:0.047\ttrain-error:0.000857\n",
      "[130]\ttest-error:0.047\ttrain-error:0.000857\n",
      "[131]\ttest-error:0.049\ttrain-error:0.000857\n",
      "[132]\ttest-error:0.049\ttrain-error:0.000857\n",
      "Stopping. Best iteration:\n",
      "[122]\ttest-error:0.047\ttrain-error:0.000857\n",
      "\n"
     ]
    }
   ],
   "source": [
    "params['eval_metric'] = 'error'\n",
    "num_rounds = 1500\n",
    "\n",
    "xgb_model = xgb.train(params, dtrain, num_rounds, watchlist, early_stopping_rounds=10)"
   ]
  },
  {
   "cell_type": "code",
   "execution_count": 16,
   "metadata": {},
   "outputs": [
    {
     "name": "stdout",
     "output_type": "stream",
     "text": [
      "Booster best train score: 0.000857\n",
      "Booster best iteration: 122\n"
     ]
    }
   ],
   "source": [
    "print(\"Booster best train score: {}\".format(xgb_model.best_score))\n",
    "print(\"Booster best iteration: {}\".format(xgb_model.best_iteration))"
   ]
  },
  {
   "cell_type": "markdown",
   "metadata": {},
   "source": [
    "## Кросс-валидация с Xgboost\n",
    "**Продемонстрируем функцию xgboost.cv.**"
   ]
  },
  {
   "cell_type": "code",
   "execution_count": 17,
   "metadata": {},
   "outputs": [
    {
     "data": {
      "text/html": [
       "<div>\n",
       "<style>\n",
       "    .dataframe thead tr:only-child th {\n",
       "        text-align: right;\n",
       "    }\n",
       "\n",
       "    .dataframe thead th {\n",
       "        text-align: left;\n",
       "    }\n",
       "\n",
       "    .dataframe tbody tr th {\n",
       "        vertical-align: top;\n",
       "    }\n",
       "</style>\n",
       "<table border=\"1\" class=\"dataframe\">\n",
       "  <thead>\n",
       "    <tr style=\"text-align: right;\">\n",
       "      <th></th>\n",
       "      <th>test-error-mean</th>\n",
       "      <th>test-error-std</th>\n",
       "      <th>train-error-mean</th>\n",
       "      <th>train-error-std</th>\n",
       "    </tr>\n",
       "  </thead>\n",
       "  <tbody>\n",
       "    <tr>\n",
       "      <th>0</th>\n",
       "      <td>0.101288</td>\n",
       "      <td>0.015851</td>\n",
       "      <td>0.094897</td>\n",
       "      <td>0.006412</td>\n",
       "    </tr>\n",
       "    <tr>\n",
       "      <th>1</th>\n",
       "      <td>0.095708</td>\n",
       "      <td>0.015119</td>\n",
       "      <td>0.087887</td>\n",
       "      <td>0.004854</td>\n",
       "    </tr>\n",
       "    <tr>\n",
       "      <th>2</th>\n",
       "      <td>0.084549</td>\n",
       "      <td>0.010345</td>\n",
       "      <td>0.070577</td>\n",
       "      <td>0.007276</td>\n",
       "    </tr>\n",
       "    <tr>\n",
       "      <th>3</th>\n",
       "      <td>0.065236</td>\n",
       "      <td>0.008098</td>\n",
       "      <td>0.054411</td>\n",
       "      <td>0.005094</td>\n",
       "    </tr>\n",
       "    <tr>\n",
       "      <th>4</th>\n",
       "      <td>0.057082</td>\n",
       "      <td>0.008378</td>\n",
       "      <td>0.047449</td>\n",
       "      <td>0.004794</td>\n",
       "    </tr>\n",
       "    <tr>\n",
       "      <th>5</th>\n",
       "      <td>0.057081</td>\n",
       "      <td>0.010866</td>\n",
       "      <td>0.046829</td>\n",
       "      <td>0.003861</td>\n",
       "    </tr>\n",
       "    <tr>\n",
       "      <th>6</th>\n",
       "      <td>0.055365</td>\n",
       "      <td>0.012357</td>\n",
       "      <td>0.043014</td>\n",
       "      <td>0.002255</td>\n",
       "    </tr>\n",
       "    <tr>\n",
       "      <th>7</th>\n",
       "      <td>0.055794</td>\n",
       "      <td>0.011355</td>\n",
       "      <td>0.041488</td>\n",
       "      <td>0.002909</td>\n",
       "    </tr>\n",
       "    <tr>\n",
       "      <th>8</th>\n",
       "      <td>0.054077</td>\n",
       "      <td>0.011548</td>\n",
       "      <td>0.039962</td>\n",
       "      <td>0.002812</td>\n",
       "    </tr>\n",
       "    <tr>\n",
       "      <th>9</th>\n",
       "      <td>0.051931</td>\n",
       "      <td>0.014292</td>\n",
       "      <td>0.039199</td>\n",
       "      <td>0.001905</td>\n",
       "    </tr>\n",
       "  </tbody>\n",
       "</table>\n",
       "</div>"
      ],
      "text/plain": [
       "   test-error-mean  test-error-std  train-error-mean  train-error-std\n",
       "0         0.101288        0.015851          0.094897         0.006412\n",
       "1         0.095708        0.015119          0.087887         0.004854\n",
       "2         0.084549        0.010345          0.070577         0.007276\n",
       "3         0.065236        0.008098          0.054411         0.005094\n",
       "4         0.057082        0.008378          0.047449         0.004794\n",
       "5         0.057081        0.010866          0.046829         0.003861\n",
       "6         0.055365        0.012357          0.043014         0.002255\n",
       "7         0.055794        0.011355          0.041488         0.002909\n",
       "8         0.054077        0.011548          0.039962         0.002812\n",
       "9         0.051931        0.014292          0.039199         0.001905"
      ]
     },
     "execution_count": 17,
     "metadata": {},
     "output_type": "execute_result"
    }
   ],
   "source": [
    "num_rounds = 10\n",
    "hist = xgb.cv(params, dtrain, num_rounds, nfold=10, metrics={'error'}, seed=42)\n",
    "hist"
   ]
  },
  {
   "cell_type": "markdown",
   "metadata": {},
   "source": [
    "Замечания:\n",
    "\n",
    "- по умолчанию на выходе DataFrame (можно поменять параметр `as_pandas`),\n",
    "- метрики передатся как параметр (можно и несколько),\n",
    "- можно использовать и свои метрики (параметры `feval` и `maximize`),\n",
    "- можно также использовать раннюю остановку ( `early_stopping_rounds`)"
   ]
  }
 ],
 "metadata": {
  "anaconda-cloud": {},
  "kernelspec": {
   "display_name": "Python 3",
   "language": "python",
   "name": "python3"
  },
  "language_info": {
   "codemirror_mode": {
    "name": "ipython",
    "version": 3
   },
   "file_extension": ".py",
   "mimetype": "text/x-python",
   "name": "python",
   "nbconvert_exporter": "python",
   "pygments_lexer": "ipython3",
   "version": "3.6.1"
  }
 },
 "nbformat": 4,
 "nbformat_minor": 1
}
