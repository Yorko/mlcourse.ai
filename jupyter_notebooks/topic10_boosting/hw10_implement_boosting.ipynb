{
 "cells": [
  {
   "cell_type": "markdown",
   "metadata": {},
   "source": [
    "<center>\n",
    "<img src=\"../../img/ods_stickers.jpg\">\n",
    "## Открытый курс по машинному обучению\n",
    "</center>\n",
    "<center>Автор материала: программист-исследователь Mail.ru Group, старший преподаватель <br>Факультета Компьютерных Наук ВШЭ Юрий Кашницкий"
   ]
  },
  {
   "cell_type": "markdown",
   "metadata": {},
   "source": [
    "# <center> Домашнее задание № 10\n",
    "## <center> Реализация градиентного бустинга\n",
    "\n",
    "В этом задании мы реализуем алгоритм градиентного бустинга в довольно общем виде, один и тот же класс будет описывать бинарный классификатор, при обучении которого минимизируется логистическая фунцкция потерь и 2 регрессора, минимизирующих среднеквадратическую ошибку MSE и [RMSLE](https://www.kaggle.com/wiki/RootMeanSquaredLogarithmicError). Это даст представление о том, что с помощью градиентного бустинга можно оптимизировать произвольные дифференцируемые функции потерь, а также что бустинг адаптируется под разные задачи. [Веб-форма](https://goo.gl/forms/mMUhGSDiOHJI9NHN2) для ответов."
   ]
  },
  {
   "cell_type": "markdown",
   "metadata": {},
   "source": [
    "Версию алгоритма берем из [статьи](https://habrahabr.ru/company/ods/blog/327250/#klassicheskiy-gbm-algoritm-friedman-a) (см. псевдокод), но с двумя упрощениями:\n",
    "- инициализация – средним значением вектора $\\large y$, то есть $\\large \\hat{f_0} = \\frac{1}{n}\\sum_{i=1}^{n}y_i$\n",
    "- шаг градиентного спуска (то же что и вес очередного базового алгоритма в композиции) постоянный: $\\large \\rho_t = const$\n",
    "\n",
    "Соответствие обозначений в псевдокоде и в классе `GradientBoosting`, который мы сейчас напишем:\n",
    "- $\\large \\{x_i, y_i\\}_{i = 1,\\ldots n}$ или `X`, `y` – обучающая выборка\n",
    "- $\\large L(y,f)$ или `objective` – функция потерь\n",
    "- $\\large \\frac{\\partial L(y_i,f(x_i))}{\\partial f(x_i)}$ или `objective_grad` – градиент функции потерь\n",
    "- $М$ или `n_estimators` – число итераций бустинга\n",
    "- $\\large h(x,\\theta)$ или `DecisionionTreeRegressor` – базовый алгоритм, дерево решений для регрессии\n",
    "- $\\large \\theta$ – гиперпараметры деревьев, мы рассмотрим только `max_depth` и `random_state`\n",
    "- $\\large \\rho_t$ или `learning_rate` – коэффициент, с которым  $\\large h_t(x,\\theta)$ входят в композицию, $t=1,\\ldots,M$"
   ]
  },
  {
   "cell_type": "markdown",
   "metadata": {},
   "source": [
    "## Вычисление градиентов log_loss, MSE и RMSLE"
   ]
  },
  {
   "cell_type": "markdown",
   "metadata": {},
   "source": [
    "Для начала классика – возьмем ручку и бумажку и посчитаем градиенты функций потерь:\n",
    "\n",
    "$$log\\_loss(y, p) = -y\\log p + (1 - y)\\log (1 - p) = -\\sum_{i=1}^{n}y_i\\log p_i + (1 - y_i)\\log (1 - p_i)$$\n",
    "\n",
    "$$MSE(y, p) = \\frac{1}{n}(y - p)^T(y - p) = \\frac{1}{n}\\sum_{i=1}^{n}(y_i - p_i)^2$$\n",
    "\n",
    "$$RMSLE(y, p) = \\sqrt{\\frac{1}{n} (\\log (p + 1) - \\log (y + 1))^T(\\log (p + 1) - \\log (y + 1))} = \\sqrt{\\frac{1}{n} \\sum_{i=1}^{n}(\\log (p_i + 1) - \\log (y_i + 1))^2}$$\n",
    "\n",
    "Здесь $y$ и $p$ – это **векторы** истинных ответов и прогнозов соответственно.\n",
    "`log_loss` взяли как в  `sklearn` – для случая меток целевого класса 0 и 1, а не -1 и 1, как описано в статье.\n"
   ]
  },
  {
   "cell_type": "markdown",
   "metadata": {},
   "source": [
    "<font color='red'>Вопрос 1.</font> Какова формула градиента функции `MSE`?\n",
    " <br><br>\n",
    " 1. $(p - y) \\hspace{5cm}$ 3. $2(p - y)$\n",
    " <br><br>\n",
    " 2. $\\frac{2}{n}(y - p) \\hspace{4.7cm}$ 4. $\\frac{2}{n}(p - y)$"
   ]
  },
  {
   "cell_type": "markdown",
   "metadata": {},
   "source": [
    "<font color='red'>Вопрос 2.</font> Какова формула градиента функции `log_loss`?\n",
    " 1. $\\large \\frac{y - p}{y(1 - y)} \\hspace{5.2cm}$ 3. $\\large \\frac{p - y}{p(1 - p)}$\n",
    " <br><br>\n",
    " 2. $\\large \\frac{y - p}{p(1 - p)}\\hspace{5.2cm}$ 4. $\\large \\frac{p - y}{y(1 - y)}$\n",
    " <br><br>\n",
    " *Примечание:* деление на вектор – покомпонентное, например $\\frac{1}{p} = (\\frac{1}{p_1}, \\ldots \\frac{1}{p_n})^T$"
   ]
  },
  {
   "cell_type": "markdown",
   "metadata": {},
   "source": [
    "<font color='red'>Вопрос 3.</font> Какова формула градиента функции `RMSLE`?\n",
    " 1. $\\frac{1}{n}(p + 1)RMSLE^{-1}(y, p) \\log \\frac{p+1}{y+1} \\hspace{5cm}$ 3. $[n(y + 1)RMSLE(y, p)]^{-1} \\log \\frac{p+1}{y+1} $\n",
    " <br><br>\n",
    " 2. $[n(p + 1)RMSLE(y, p)]^{-1} \\log \\frac{p+1}{y+1} \\hspace{5cm}$ 4. $\\frac{1}{n}\\frac{y+1}{(p + 1)}RMSLE^{-1}(y, p) \\log \\frac{p+1}{y+1}$"
   ]
  },
  {
   "cell_type": "markdown",
   "metadata": {},
   "source": [
    "## Реализация алгоритма"
   ]
  },
  {
   "cell_type": "markdown",
   "metadata": {},
   "source": [
    "Напишем класс `GradientBoosting`. Детали:\n",
    "- класс наследуется от `sklearn.base.BaseEstimator`;\n",
    "- конструктор принимает параметры `loss` – название фунцкии потерь, которая будет оптимизироваться (`log_loss`, `mse` (по умолчанию) или `rmsle`), `n_estimators` – число деревьев (т.е. число итераций бустинга, по умолчанию – 10), `learning_rate` – шаг градиентного спуска (по умолчанию $10^{-2}$), `max_depth` – ограничение на максимальную глубину деревьев (по умолчанию 3) и `random_state` – сид генерации псевдослучайных чисел, нужен только для деревьев (по умолчанию 17);\n",
    "- в зависимости от переданного значения `loss` инициализируются `objective` и `objective_grad`. Для `MSE` берем `sklearn.metrics.mean_squared_error`, для `log_loss` – `sklearn.metrics.log_loss`, а `RMSLE` и градиенты всех трех функций надо реализовать самостоятельно. При подсчете градиентов не выкидывайте константы типа двойки или $n$;\n",
    "- в реализациях градиентов `log_loss` и `rmsle` будет покомпонентное деление на вектора. Чтобы избежать деление на 0, предварительно замените значения, меньшие $10^{-5}$, на $10^{-5}$. Но только там, где необходимо. Например, в случае вычисления $\\frac{y}{p}$ замены делаем только в векторе $p$;\n",
    "- также в конструкторе создаются списки `loss_by_iter_` и `residuals_by_iter_` для отлаживания работы алгоритма и `trees_` – для хранения обученных деревьев;\n",
    "- класс имеет методы `fit`, `predict` и `predict_proba`\n",
    "- метод `fit` принимает матрицу `X` и вектор `y` (объекты `numpy.array`), а возвращает текущий экземпляр класса `GradientBoosting`, т.е. `self`. Основная логика, конечно же, реализуется здесь. На каждой итерации текущее значение функции потерь записывается в `loss_by_iter_`, значение антиградиента (то что в статье названо псевдо-остатками) – в `residuals_by_iter_` (можно в конструктор добавить флаг `debug=False` и добавлять значения антиградиента только при включенном флаге). Также обученное дерево добавляется в список `trees_`;\n",
    "- метод `predict_proba` возвращает линейную комбинацию прогнозов деревьев. Не забудем тут и про начальное приближение. В случае регрессии название метода будет не очень удачным, но оставим так, чтоб не писать отдельно классификатор и регрессор. В случае классификации к ответу применяется $\\sigma$-преобразование. В реализации $\\sigma$-функции замените значения аргумента, превышающие по модулю 100, на 100 или -100 в зависимости от знака (чтоб избежать underflow & overflow);\n",
    "- метод `predict` в случае регрессии возвращает линейную комбинацию прогнозов деревьев (+ начальное приближение), то есть то же, что и `predict_proba`. В случае классификации метод `predict` задействует метод `predict_proba` и возвращает вектор из 0 и 1, полученный сравнением предсказанных вероятностей с некоторым порогом, при котором максимизируется доля правильных ответов на обучающей выборке. Здесь хорошо было бы решить одномерную задачу оптимизации, но для полной воспроизводимости давайте выбирать порог из `np.linspace(0.01, 1.01, 100)`.\n"
   ]
  },
  {
   "cell_type": "code",
   "execution_count": 1,
   "metadata": {
    "collapsed": true
   },
   "outputs": [],
   "source": [
    "import numpy as np\n",
    "from matplotlib import pyplot as plt\n",
    "%matplotlib inline\n",
    "from sklearn.base import BaseEstimator\n",
    "from sklearn.datasets import load_breast_cancer, load_boston\n",
    "from sklearn.model_selection import train_test_split"
   ]
  },
  {
   "cell_type": "code",
   "execution_count": 2,
   "metadata": {
    "collapsed": true
   },
   "outputs": [],
   "source": [
    "class GradientBoosting(BaseEstimator):\n",
    "    \n",
    "    def sigma(self, z):\n",
    "        pass\n",
    "    \n",
    "    def log_loss_grad(self, y, p):\n",
    "        pass\n",
    "    \n",
    "    def mse_grad(self, y, p):\n",
    "        pass\n",
    "    \n",
    "    def rmsle(self, y, p):\n",
    "        pass\n",
    "    \n",
    "    def rmsle_grad(self, y, p):\n",
    "        pass\n",
    "    \n",
    "    def __init__(self):\n",
    "        pass\n",
    "    \n",
    "    def fit(self, X, y):\n",
    "        pass\n",
    "    \n",
    "    def predict_proba(self, X):\n",
    "        pass\n",
    "    \n",
    "    def predict(self, X):\n",
    "        pass"
   ]
  },
  {
   "cell_type": "markdown",
   "metadata": {
    "collapsed": true
   },
   "source": [
    "## Регрессия с игрушечным примером"
   ]
  },
  {
   "cell_type": "code",
   "execution_count": 3,
   "metadata": {
    "collapsed": true
   },
   "outputs": [],
   "source": [
    "X_regr_toy = np.arange(7).reshape(-1, 1)\n",
    "y_regr_toy = ((X_regr_toy - 3) ** 2).astype('float64')"
   ]
  },
  {
   "cell_type": "code",
   "execution_count": 4,
   "metadata": {},
   "outputs": [
    {
     "data": {
      "image/png": "[encoded data removed]",
      "text/plain": [
       "<matplotlib.figure.Figure at 0x7f945fefb128>"
      ]
     },
     "metadata": {},
     "output_type": "display_data"
    }
   ],
   "source": [
    "plt.scatter(X_regr_toy, y_regr_toy);"
   ]
  },
  {
   "cell_type": "markdown",
   "metadata": {},
   "source": [
    "Обучите регрессор `GradientBoosting` с функцией потерь `MSE` и параметрами `learning_rate`=0.1,  `max_depth`=3 - 200 итераций. Посмотрите на изменение функции потерь по итерациям бустинга. Можно также посмотреть на приближение и остатки на первых нескольких итерациях, как это делалось в статье."
   ]
  },
  {
   "cell_type": "markdown",
   "metadata": {},
   "source": [
    "Обучите регрессор `GradientBoosting` с теми же параметрами, но функцию потерь измените на `RMSLE`. Посмотрите на те же картинки. "
   ]
  },
  {
   "cell_type": "markdown",
   "metadata": {},
   "source": [
    "## Классификация с игрушечным примером"
   ]
  },
  {
   "cell_type": "code",
   "execution_count": 13,
   "metadata": {
    "collapsed": true
   },
   "outputs": [],
   "source": [
    "X_clf_toy = np.c_[np.arange(7), (np.arange(7) - 3) ** 2]\n",
    "y_clf_toy = np.array([0, 1, 0, 1, 0, 1, 0])"
   ]
  },
  {
   "cell_type": "code",
   "execution_count": 14,
   "metadata": {},
   "outputs": [
    {
     "data": {
      "image/png": "[encoded data removed]",
      "text/plain": [
       "<matplotlib.figure.Figure at 0x7f945dbfbef0>"
      ]
     },
     "metadata": {},
     "output_type": "display_data"
    }
   ],
   "source": [
    "plt.scatter(X_clf_toy[:, 0], X_clf_toy[:, 1], c=y_clf_toy);"
   ]
  },
  {
   "cell_type": "markdown",
   "metadata": {},
   "source": [
    "Обучите классификатор `GradientBoosting` с функцией потерь `log_loss` и параметрами `learning_rate`=0.05,  `max_depth`=3 – 10 итераций. Посмотрите на изменение функции потерь по итерациям бустинга. Можно также посмотреть на приближение и остатки на первых нескольких итерациях, как это делалось в статье.\n",
    "\n",
    "\n",
    "\n",
    "<font color='red'>Вопрос 4.</font> Посчитайте предсказанные вероятности отнесения к классу +1 для всех 7 объектов игрушечной выборки. Каковы 2 уникальных значения в полученном векторе?\n",
    "1. 0.42 и 0.77\n",
    "2. 0.36 и 0.82\n",
    "3. 0.48 и 0.53\n",
    "4. 0.46 и 0.75\n"
   ]
  },
  {
   "cell_type": "markdown",
   "metadata": {},
   "source": [
    "## Регрессия с UCI boston"
   ]
  },
  {
   "cell_type": "code",
   "execution_count": 20,
   "metadata": {
    "collapsed": true
   },
   "outputs": [],
   "source": [
    "boston = load_boston()\n",
    "X, y = boston.data, boston.target"
   ]
  },
  {
   "cell_type": "code",
   "execution_count": 21,
   "metadata": {
    "collapsed": true
   },
   "outputs": [],
   "source": [
    "X_train, X_test, y_train, y_test = train_test_split(X, y, test_size=0.3, random_state=17)"
   ]
  },
  {
   "cell_type": "markdown",
   "metadata": {},
   "source": [
    "- Обучите регрессор `GradientBoosting` с функцией потерь `MSE` и параметрами `learning_rate`=3,  `max_depth`=10 - 300 итераций\n",
    "- Посмотрите на изменение функции потерь по итерациям бустинга\n",
    "- Сделайте прогнозы для отложенной выборки\n",
    "- Постройте распределение ответов `y_test` на отложенной выборке и наложите на него распределение ответов бустинга `test_pred`. Используйте метод `hist` из `matplotlib.pyplot` с параметром `bins=15`\n",
    "\n",
    "<font color='red'>Вопрос 5.</font> Выберите верное утверждение про гистограммы:\n",
    "1. Ответы бустинга в среднем завышены на 10 \n",
    "2. В бине, в который попадает медиана ответов на тестовой выборке (`numpy.median(y_test)`), больше значений из вектора прогнозов `test_pred`, чем из вектора ответов `y_test`\n",
    "3. Бустинг иногда прогнозирует значения, сильно выпадающие за диапазон изменения ответов `y_test`"
   ]
  },
  {
   "cell_type": "markdown",
   "metadata": {},
   "source": [
    "## Классификация с UCI breast cancer"
   ]
  },
  {
   "cell_type": "code",
   "execution_count": 25,
   "metadata": {
    "collapsed": true
   },
   "outputs": [],
   "source": [
    "cancer = load_breast_cancer()\n",
    "X, y = cancer.data, cancer.target"
   ]
  },
  {
   "cell_type": "code",
   "execution_count": 26,
   "metadata": {
    "collapsed": true
   },
   "outputs": [],
   "source": [
    "X_train, X_test, y_train, y_test = train_test_split(X, y, test_size=0.3, random_state=17)"
   ]
  },
  {
   "cell_type": "markdown",
   "metadata": {},
   "source": [
    "Обучите классификатор `GradientBoosting` с функцией потерь `log_loss` и параметрами `learning_rate`=0.01,  `max_depth`=3 - 200 итераций. Посмотрите на изменение функции потерь по итерациям бустинга. Сделайте прогнозы для отложенной выборки – как предсказанные вероятности отнесения к классу +1, так и бинарные прогнозы. Посчитайте ROC AUC для прогноза в виде вероятностей и долю правильных ответов для прогноза в виде меток классов.\n",
    "\n",
    "<font color='red'>Вопрос 6.</font> Каковы получаются ROC AUC и доля правильных ответов на отложенной выборке `(X_test, y_test)`?\n",
    "1. 0.99 и 0.97\n",
    "2. 1 и 0.97\n",
    "3. 0.98 и 0.96\n",
    "4. 0.97 и 0.95"
   ]
  }
 ],
 "metadata": {
  "kernelspec": {
   "display_name": "Python 3",
   "language": "python",
   "name": "python3"
  },
  "language_info": {
   "codemirror_mode": {
    "name": "ipython",
    "version": 3
   },
   "file_extension": ".py",
   "mimetype": "text/x-python",
   "name": "python",
   "nbconvert_exporter": "python",
   "pygments_lexer": "ipython3",
   "version": "3.6.1"
  }
 },
 "nbformat": 4,
 "nbformat_minor": 2
}
