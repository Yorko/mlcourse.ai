{
 "cells": [
  {
   "cell_type": "markdown",
   "metadata": {},
   "source": [
    "<center>\n",
    "<img src=\"../../img/ods_stickers.jpg\">\n",
    "## Открытый курс по машинному обучению\n",
    "Автор материала: Data Science Team Lead @ gojuno.com Арсений Кравченко. Материал распространяется на условиях лицензии [Creative Commons CC BY-NC-SA 4.0](https://creativecommons.org/licenses/by-nc-sa/4.0/). Можно использовать в любых целях (редактировать, поправлять и брать за основу), кроме коммерческих, но с обязательным упоминанием автора материала."
   ]
  },
  {
   "cell_type": "markdown",
   "metadata": {},
   "source": [
    "# <center>Домашнее задание № 6. Решение <br> Работа с признаками"
   ]
  },
  {
   "cell_type": "code",
   "execution_count": 1,
   "metadata": {
    "collapsed": true
   },
   "outputs": [],
   "source": [
    "import numpy as np\n",
    "from demo import get_data"
   ]
  },
  {
   "cell_type": "markdown",
   "metadata": {},
   "source": [
    "### Вопрос №1\n",
    "\n",
    "При каком значении lmbda, выражение np.log(x) == scipy.stats.boxcox(x, lmbda=lmbda) будет истинным?"
   ]
  },
  {
   "cell_type": "code",
   "execution_count": 2,
   "metadata": {},
   "outputs": [
    {
     "name": "stdout",
     "output_type": "stream",
     "text": [
      "lmbda = 0\n"
     ]
    }
   ],
   "source": [
    "from scipy.stats import boxcox\n",
    "x = np.random.rand(1)\n",
    "\n",
    "lmbda = 0\n",
    "if np.log(x) == boxcox(x, lmbda=lmbda):\n",
    "    print('lmbda = {}'.format(lmbda))"
   ]
  },
  {
   "cell_type": "markdown",
   "metadata": {},
   "source": [
    "### Вопрос №2\n",
    "\n",
    "- `created.weekday() * 24 + created.hour`\n",
    "- `str(created) c последующим one hot encoding`\n",
    "- `created.weekday()`\n",
    "- `created.hour`\n",
    "\n",
    "Предположим, некая переменная created является признаком, содержащим datetime, это объект класса pandas.tslib.Timestamp. Какой способ извлечения признаков будет наименее полезным?\n",
    "\n",
    "Третий и четвертый вариант достаточно популярны и имеют понятный прикладной смысл. Первый вариант на самом деле похож на сочетние третьего и четвертого признаков. А вот второй вариант довольно опасен: скорее всего, на реальных данных у многих объектов получится уникальное значение признака."
   ]
  },
  {
   "cell_type": "code",
   "execution_count": 3,
   "metadata": {},
   "outputs": [
    {
     "name": "stdout",
     "output_type": "stream",
     "text": [
      "48675 из 49352 значений уникальны\n"
     ]
    }
   ],
   "source": [
    "import json \n",
    "import pandas as pd\n",
    "with open('/Users/Arseny/dev/kaggle/two_sigma_realt/train.json', 'r') as raw_data:\n",
    "    data = json.load(raw_data)\n",
    "\n",
    "created = pd.DataFrame(data).created\n",
    "created = pd.to_datetime(created).apply(lambda x: str(x))\n",
    "\n",
    "print('{} из {} значений уникальны'.format(len(created.unique()), len(created)))"
   ]
  },
  {
   "cell_type": "markdown",
   "metadata": {},
   "source": [
    "### Вопрос №3\n",
    "\n",
    "Какую информацию нельзя извлечь из User-Agent? \n",
    "\n",
    "- Версия операционной системы\n",
    "- Разрешение экрана пользователя\n",
    "- Платформу, на базе которой построен браузер\n",
    "- Принадлежит ли запрос роботу-индексатору Яндекса\n",
    "\n",
    "Разрешение экрана недоступно в общем случае, хотя, как выяснили бдительные читатели, некоторые версии Internet Explorer Mobile таки включали его прямо в UserAgent.\n",
    "Остальные варианты легко определяются. У некоторых возникли вопросы с роботом-индексатором Яндекса, но он обычно [честно подписан](https://yandex.com/support/webmaster/robot-workings/check-yandex-robots.xml)."
   ]
  },
  {
   "cell_type": "markdown",
   "metadata": {},
   "source": [
    "### Вопрос №4\n",
    "\n",
    "Мы решаем задачу классификации: есть пары фотографий, нужно определить, являются ли они фотографиями одного и того же объекта. Какой признак будет наиболее релевантен?\n",
    "\n",
    "- Расстояние Левенштейна между названиями моделей фотоаппаратов, данные о модели получены из EXIF\n",
    "- Евклидово расстояние между векторами, полученными из предобученной сети ResNet без полносвязных слоев\n",
    "- Разница (в днях) между датами съемки фотографий, даты съемки получены из EXIF\n",
    "- Разность средней яркости во всех (RGB) каналах обоих изображений\n",
    "\n",
    "Варианты 1 и 3 - очевидная чушь. Название фотоаппарата не влияет на снимаемый объект, да и съемка могла осуществляться в любое время. Не говоря уже о том, что EXIF не всегда доступен и не всегда содержит актуальную информацию.\n",
    "\n",
    "Вариант про яркость выглядит правдоподобным и в каких-то задачах мог бы помочь, но легко представить себе пары объектов, которые не отличить, используя только яркость (серая бетонная стена и черно-белая шахматная доска). Из предложенных вариантов только использование сети поможет определить границы объекта, по которым обычно происходит идентификация."
   ]
  },
  {
   "cell_type": "markdown",
   "metadata": {},
   "source": [
    "### Вопрос №5"
   ]
  },
  {
   "cell_type": "markdown",
   "metadata": {},
   "source": [
    "Для какой из задач отбор признаков (feature selection) будет бесполезен? \n",
    "\n",
    "- Ускорение модели на этапе обучения\n",
    "- Ускорение модели на этапе предсказания\n",
    "- Борьба со слишком большими значениями признаков, ведущими к переполнению\n",
    "- Повышение устойчивости модели\n",
    "\n",
    "Сначала проверим два первых варианта:"
   ]
  },
  {
   "cell_type": "code",
   "execution_count": 4,
   "metadata": {
    "collapsed": true
   },
   "outputs": [],
   "source": [
    "from sklearn.datasets import make_classification\n",
    "from sklearn.linear_model import LogisticRegression\n",
    "\n",
    "x_data, y_data =  make_classification(n_features=3, n_informative=3, n_redundant=0, n_samples=5000)\n",
    "x_data_noised = np.hstack((x_data, np.random.rand(5000, 500)))\n",
    "\n",
    "lr, lr_n = LogisticRegression(), LogisticRegression()"
   ]
  },
  {
   "cell_type": "code",
   "execution_count": 5,
   "metadata": {},
   "outputs": [
    {
     "name": "stdout",
     "output_type": "stream",
     "text": [
      "100 loops, best of 3: 5.76 ms per loop\n"
     ]
    }
   ],
   "source": [
    "%timeit lr.fit(x_data, y_data)"
   ]
  },
  {
   "cell_type": "code",
   "execution_count": 6,
   "metadata": {},
   "outputs": [
    {
     "name": "stdout",
     "output_type": "stream",
     "text": [
      "1 loop, best of 3: 495 ms per loop\n"
     ]
    }
   ],
   "source": [
    "%timeit lr_n.fit(x_data_noised, y_data)"
   ]
  },
  {
   "cell_type": "code",
   "execution_count": 7,
   "metadata": {},
   "outputs": [
    {
     "name": "stdout",
     "output_type": "stream",
     "text": [
      "The slowest run took 31.23 times longer than the fastest. This could mean that an intermediate result is being cached.\n",
      "10000 loops, best of 3: 85.8 µs per loop\n"
     ]
    }
   ],
   "source": [
    "%timeit lr.predict(x_data)"
   ]
  },
  {
   "cell_type": "code",
   "execution_count": 8,
   "metadata": {},
   "outputs": [
    {
     "name": "stdout",
     "output_type": "stream",
     "text": [
      "100 loops, best of 3: 2.93 ms per loop\n"
     ]
    }
   ],
   "source": [
    "%timeit lr_n.predict(x_data_noised)"
   ]
  },
  {
   "cell_type": "markdown",
   "metadata": {},
   "source": [
    "Четвертый вариант тоже легко проверить:"
   ]
  },
  {
   "cell_type": "code",
   "execution_count": 9,
   "metadata": {
    "collapsed": true
   },
   "outputs": [],
   "source": [
    "from sklearn.model_selection import cross_val_score"
   ]
  },
  {
   "cell_type": "code",
   "execution_count": 10,
   "metadata": {},
   "outputs": [
    {
     "data": {
      "text/plain": [
       "-0.11898818867427889"
      ]
     },
     "execution_count": 10,
     "metadata": {},
     "output_type": "execute_result"
    }
   ],
   "source": [
    "cross_val_score(lr, x_data, y_data, scoring='neg_log_loss').mean()"
   ]
  },
  {
   "cell_type": "code",
   "execution_count": 11,
   "metadata": {},
   "outputs": [
    {
     "data": {
      "text/plain": [
       "-0.2145948091912849"
      ]
     },
     "execution_count": 11,
     "metadata": {},
     "output_type": "execute_result"
    }
   ],
   "source": [
    "cross_val_score(lr, x_data_noised, y_data, scoring='neg_log_loss').mean()"
   ]
  },
  {
   "cell_type": "markdown",
   "metadata": {},
   "source": [
    "Для борьбы с overflow изредка может понадобиться трансформация, а не отбор."
   ]
  },
  {
   "cell_type": "markdown",
   "metadata": {},
   "source": [
    "### Вопрос №6\n",
    "\n",
    "В каком из районов находится точка с координатами (40.825142, -73.909171)?\n",
    "\n",
    "- Upper Manhattan\n",
    "- Gangnam District\n",
    "- Chinatown\n",
    "- Bronx\n",
    "\n",
    "Вопрос вызвал много вопросов типа \"А можно просто посмотреть на карте?\". Конечно, можно, как я могу запретить?..\n",
    "Но давайте попробуем решить задачу при помощи кода."
   ]
  },
  {
   "cell_type": "code",
   "execution_count": 12,
   "metadata": {},
   "outputs": [
    {
     "data": {
      "text/plain": [
       "Location(962, Washington Avenue, Morrisania, Bronx, Bronx County, NYC, New York, 10456, United States of America, (40.82513605, -73.9096988274131, 0.0))"
      ]
     },
     "execution_count": 12,
     "metadata": {},
     "output_type": "execute_result"
    }
   ],
   "source": [
    "from geopy.geocoders import Nominatim\n",
    "nom = Nominatim()\n",
    "nom.reverse((40.825142, -73.909171))"
   ]
  },
  {
   "cell_type": "code",
   "execution_count": 13,
   "metadata": {},
   "outputs": [
    {
     "data": {
      "text/plain": [
       "[Location(508 E 164th St, Bronx, NY 10456, USA, (40.82527899999999, -73.908956, 0.0)),\n",
       " Location(Morrisania, Bronx, NY, USA, (40.8250663, -73.9109977, 0.0)),\n",
       " Location(West Bronx, Bronx, NY, USA, (40.8519547, -73.90070899999999, 0.0)),\n",
       " Location(Bronx, NY, USA, (40.8447819, -73.8648268, 0.0)),\n",
       " Location(New York, NY, USA, (40.7127837, -74.0059413, 0.0)),\n",
       " Location(Bronx, NY 10456, USA, (40.83102239999999, -73.9095279, 0.0)),\n",
       " Location(Bronx County, NY, USA, (40.8370495, -73.86542949999999, 0.0)),\n",
       " Location(New York-Northern New Jersey-Long Island, NY-NJ-PA, USA, (40.9590293, -74.0300122, 0.0)),\n",
       " Location(New York Metropolitan Area, USA, (40.7127761, -74.0059544, 0.0)),\n",
       " Location(New York, USA, (43.2994285, -74.21793260000001, 0.0))]"
      ]
     },
     "execution_count": 13,
     "metadata": {},
     "output_type": "execute_result"
    }
   ],
   "source": [
    "from geopy.geocoders import GoogleV3\n",
    "gg = GoogleV3()\n",
    "gg.reverse((40.825142, -73.909171))"
   ]
  },
  {
   "cell_type": "code",
   "execution_count": 14,
   "metadata": {},
   "outputs": [
    {
     "name": "stdout",
     "output_type": "stream",
     "text": [
      "Loading formatted geocoded file...\n"
     ]
    },
    {
     "data": {
      "text/plain": [
       "[OrderedDict([('lat', '40.86566'),\n",
       "              ('lon', '-73.9268'),\n",
       "              ('name', 'Inwood'),\n",
       "              ('admin1', 'New York'),\n",
       "              ('admin2', 'New York County'),\n",
       "              ('cc', 'US')])]"
      ]
     },
     "execution_count": 14,
     "metadata": {},
     "output_type": "execute_result"
    }
   ],
   "source": [
    "import reverse_geocoder as rg\n",
    "rg.search((40.825142, -73.909171))"
   ]
  },
  {
   "cell_type": "markdown",
   "metadata": {},
   "source": [
    "`reverse_geocoder` врет в этой ситуации, т.к. Inwood относится к Манхеттену. Так что стоит или проверить глазами на карте, или вспомнить про ансамбли из предыдущей статьи и принимать решение исходя из голосования нескольких источников данных."
   ]
  },
  {
   "cell_type": "markdown",
   "metadata": {},
   "source": [
    "### Вопрос №7\n",
    "\n",
    "Обучите класс `CountVectorizer` из `scikit-learn`, используя колонку Description из датасета Two Sigma Connect: Rental Listing Inquires таким образом, чтобы в словаре было не более 1000 слов, не меняя прочие параметры по умолчанию. Какое слово соответствует индексу 165 в словаре обученного `CountVectorizer`?\n",
    "\n",
    "- building\n",
    "- apartment\n",
    "- trust\n",
    "- renthop"
   ]
  },
  {
   "cell_type": "code",
   "execution_count": 15,
   "metadata": {},
   "outputs": [
    {
     "data": {
      "text/plain": [
       "CountVectorizer(analyzer='word', binary=False, decode_error='strict',\n",
       "        dtype=<class 'numpy.int64'>, encoding='utf-8', input='content',\n",
       "        lowercase=True, max_df=1.0, max_features=1000, min_df=1,\n",
       "        ngram_range=(1, 1), preprocessor=None, stop_words=None,\n",
       "        strip_accents=None, token_pattern='(?u)\\\\b\\\\w\\\\w+\\\\b',\n",
       "        tokenizer=None, vocabulary=None)"
      ]
     },
     "execution_count": 15,
     "metadata": {},
     "output_type": "execute_result"
    }
   ],
   "source": [
    "from sklearn.feature_extraction.text import CountVectorizer\n",
    "\n",
    "with open('/Users/Arseny/dev/kaggle/two_sigma_realt/train.json', 'r') as raw_data:\n",
    "    data = json.load(raw_data)\n",
    "\n",
    "df = pd.DataFrame(data)\n",
    "cv = CountVectorizer(max_features=1000)\n",
    "cv.fit(df.description)"
   ]
  },
  {
   "cell_type": "code",
   "execution_count": 16,
   "metadata": {},
   "outputs": [
    {
     "name": "stdout",
     "output_type": "stream",
     "text": [
      "building\n"
     ]
    }
   ],
   "source": [
    "# вариант с легким ковырянием в атрибутах класса\n",
    "voc = cv.vocabulary_\n",
    "voc = {v: k for k, v in voc.items()}\n",
    "print(voc[165])\n"
   ]
  },
  {
   "cell_type": "code",
   "execution_count": 17,
   "metadata": {},
   "outputs": [
    {
     "name": "stdout",
     "output_type": "stream",
     "text": [
      "[array(['building'], \n",
      "      dtype='<U16')]\n"
     ]
    }
   ],
   "source": [
    "# a теперь попроще\n",
    "vec = np.zeros(1000)\n",
    "vec[165] = 1\n",
    "print(cv.inverse_transform(vec))"
   ]
  },
  {
   "cell_type": "markdown",
   "metadata": {},
   "source": [
    "### Вопрос №8\n",
    "\n",
    "Используя датасет Two Sigma Connect: Rental Listing, обработанный при помощи [скрипта]( https://github.com/Yorko/mlcourse_open/blob/master/jupyter_notebooks/topic06_features/demo.py), отмасштабируйте его при помощи `MinMaxScaler` и удалите признаки с дисперсией меньше 0.1. Сколько признаков осталось в датасете?\n",
    "\n",
    "- 46\n",
    "- 42\n",
    "- 14\n",
    "- 12"
   ]
  },
  {
   "cell_type": "code",
   "execution_count": 18,
   "metadata": {},
   "outputs": [
    {
     "name": "stdout",
     "output_type": "stream",
     "text": [
      "There are 12 features with variance >= 0.1\n"
     ]
    }
   ],
   "source": [
    "from sklearn.preprocessing import MinMaxScaler\n",
    "from sklearn.feature_selection import VarianceThreshold\n",
    "\n",
    "df, target = get_data()\n",
    "x_data = MinMaxScaler().fit_transform(df.values)\n",
    "\n",
    "t = .1\n",
    "vt = VarianceThreshold(threshold=t)\n",
    "print('There are {} features with variance >= {}'.format(vt.fit_transform(x_data).shape[1], t))"
   ]
  }
 ],
 "metadata": {
  "kernelspec": {
   "display_name": "Python 3",
   "language": "python",
   "name": "python3"
  },
  "language_info": {
   "codemirror_mode": {
    "name": "ipython",
    "version": 3
   },
   "file_extension": ".py",
   "mimetype": "text/x-python",
   "name": "python",
   "nbconvert_exporter": "python",
   "pygments_lexer": "ipython3",
   "version": "3.6.1"
  }
 },
 "nbformat": 4,
 "nbformat_minor": 2
}
