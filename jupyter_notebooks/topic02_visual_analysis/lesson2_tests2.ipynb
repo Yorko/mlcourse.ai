{
 "cells": [
  {
   "cell_type": "code",
   "execution_count": 3,
   "metadata": {},
   "outputs": [],
   "source": [
    "import numpy as np\n",
    "import pandas as pd\n",
    "from matplotlib import pyplot as plt\n",
    "import seaborn as sns\n",
    "%matplotlib inline"
   ]
  },
  {
   "cell_type": "code",
   "execution_count": 4,
   "metadata": {
    "collapsed": true
   },
   "outputs": [],
   "source": [
    "poll_data = pd.read_csv('../../data/mlcourse_open_first_survey_parsed.csv', index_col='id')"
   ]
  },
  {
   "cell_type": "code",
   "execution_count": 6,
   "metadata": {},
   "outputs": [
    {
     "data": {
      "text/html": [
       "<div>\n",
       "<style>\n",
       "    .dataframe thead tr:only-child th {\n",
       "        text-align: right;\n",
       "    }\n",
       "\n",
       "    .dataframe thead th {\n",
       "        text-align: left;\n",
       "    }\n",
       "\n",
       "    .dataframe tbody tr th {\n",
       "        vertical-align: top;\n",
       "    }\n",
       "</style>\n",
       "<table border=\"1\" class=\"dataframe\">\n",
       "  <thead>\n",
       "    <tr style=\"text-align: right;\">\n",
       "      <th></th>\n",
       "      <th>Timestamp</th>\n",
       "      <th>Представьтесь в 2-3 фразах</th>\n",
       "      <th>Работали ли Вы с Jupyter notebooks?</th>\n",
       "      <th>Что Вы ждете от курса?</th>\n",
       "      <th>Потом мы прямо этот же набор данных поанализируем с Pandas. Так что какой Ваш любимый вид спорта?</th>\n",
       "      <th>Ладно, посерьезней: согласны ли Вы на обработку персональных данных?</th>\n",
       "      <th>Какие оцениваете свой уровень математической подготовки? (матан, линал, теорвер)</th>\n",
       "      <th>Чему равна дисперсия равномерного на [0,6] распределения?</th>\n",
       "      <th>Найдите минимум функции 3x^4-8x^3+6x^2-12 на отрезке [-3,3]</th>\n",
       "      <th>Сколько параметров у нормального распределения?</th>\n",
       "      <th>Сможете написать на Python генератор чисел Фибоначчи?</th>\n",
       "      <th>Хорошо, а готовы к началу курса (6 сентября 2017) освоить азы Python? На уровне Code Academy, DataCamp или github.com/Yorko/python_intro</th>\n",
       "      <th>Оцените свой уровень владения GitHub</th>\n",
       "      <th>Посоветуйте хороший фильм в стиле \"Игра в имитацию\" :)</th>\n",
       "    </tr>\n",
       "    <tr>\n",
       "      <th>id</th>\n",
       "      <th></th>\n",
       "      <th></th>\n",
       "      <th></th>\n",
       "      <th></th>\n",
       "      <th></th>\n",
       "      <th></th>\n",
       "      <th></th>\n",
       "      <th></th>\n",
       "      <th></th>\n",
       "      <th></th>\n",
       "      <th></th>\n",
       "      <th></th>\n",
       "      <th></th>\n",
       "      <th></th>\n",
       "    </tr>\n",
       "  </thead>\n",
       "  <tbody>\n",
       "    <tr>\n",
       "      <th>0</th>\n",
       "      <td>2016/12/05 10:39:59 am GMT+3</td>\n",
       "      <td>крутой Developer</td>\n",
       "      <td>Да</td>\n",
       "      <td>Ребята, вижу ваш настрой, уверен курс будет ин...</td>\n",
       "      <td>Starcraft</td>\n",
       "      <td>Да</td>\n",
       "      <td>4</td>\n",
       "      <td>3</td>\n",
       "      <td>-12</td>\n",
       "      <td>2.0</td>\n",
       "      <td>Да</td>\n",
       "      <td>Да</td>\n",
       "      <td>Проф</td>\n",
       "      <td>Прочитай книгу Лема \"Голос Неба\", очень много ...</td>\n",
       "    </tr>\n",
       "    <tr>\n",
       "      <th>1</th>\n",
       "      <td>2016/12/05 10:44:27 am GMT+3</td>\n",
       "      <td>Разработчик Navision. Изучаю тему DS для возмо...</td>\n",
       "      <td>Да</td>\n",
       "      <td>Практики, подкрепленной теорией. Хочется упоря...</td>\n",
       "      <td>NaN</td>\n",
       "      <td>Да</td>\n",
       "      <td>1</td>\n",
       "      <td>3</td>\n",
       "      <td>NaN</td>\n",
       "      <td>2.0</td>\n",
       "      <td>Да, но фиговый.</td>\n",
       "      <td>Да</td>\n",
       "      <td>Могу скачать материалы</td>\n",
       "      <td>NaN</td>\n",
       "    </tr>\n",
       "    <tr>\n",
       "      <th>2</th>\n",
       "      <td>2016/12/05 10:47:07 am GMT+3</td>\n",
       "      <td>Я Software Engeneer разработчик, активно интер...</td>\n",
       "      <td>Да</td>\n",
       "      <td>Побольше практики на реальных данных (задачах).</td>\n",
       "      <td>basketball</td>\n",
       "      <td>Да</td>\n",
       "      <td>3</td>\n",
       "      <td>3</td>\n",
       "      <td>NaN</td>\n",
       "      <td>2.0</td>\n",
       "      <td>Да</td>\n",
       "      <td>Да</td>\n",
       "      <td>Проф</td>\n",
       "      <td>NaN</td>\n",
       "    </tr>\n",
       "    <tr>\n",
       "      <th>3</th>\n",
       "      <td>2016/12/05 10:47:22 am GMT+3</td>\n",
       "      <td>Семилетний инженер. Специализируюсь в компьюте...</td>\n",
       "      <td>Да</td>\n",
       "      <td>Глубокого разбора алгоритмов и инструментов.</td>\n",
       "      <td>NaN</td>\n",
       "      <td>Да</td>\n",
       "      <td>3</td>\n",
       "      <td>0.5</td>\n",
       "      <td>-12</td>\n",
       "      <td>2.0</td>\n",
       "      <td>Да</td>\n",
       "      <td>Да</td>\n",
       "      <td>Пользуюсь ветками, могу что-то смерджить</td>\n",
       "      <td>Король говорит</td>\n",
       "    </tr>\n",
       "    <tr>\n",
       "      <th>5</th>\n",
       "      <td>2016/12/05 10:58:34 am GMT+3</td>\n",
       "      <td>программист. pl/sql python</td>\n",
       "      <td>Да</td>\n",
       "      <td>Упорядочить знания</td>\n",
       "      <td>футбол</td>\n",
       "      <td>Да</td>\n",
       "      <td>3</td>\n",
       "      <td>3</td>\n",
       "      <td>-12</td>\n",
       "      <td>2.0</td>\n",
       "      <td>Да</td>\n",
       "      <td>уже знаю</td>\n",
       "      <td>Пользуюсь ветками, могу что-то смерджить</td>\n",
       "      <td>NaN</td>\n",
       "    </tr>\n",
       "  </tbody>\n",
       "</table>\n",
       "</div>"
      ],
      "text/plain": [
       "                       Timestamp  \\\n",
       "id                                 \n",
       "0   2016/12/05 10:39:59 am GMT+3   \n",
       "1   2016/12/05 10:44:27 am GMT+3   \n",
       "2   2016/12/05 10:47:07 am GMT+3   \n",
       "3   2016/12/05 10:47:22 am GMT+3   \n",
       "5   2016/12/05 10:58:34 am GMT+3   \n",
       "\n",
       "                           Представьтесь в 2-3 фразах  \\\n",
       "id                                                      \n",
       "0                                    крутой Developer   \n",
       "1   Разработчик Navision. Изучаю тему DS для возмо...   \n",
       "2   Я Software Engeneer разработчик, активно интер...   \n",
       "3   Семилетний инженер. Специализируюсь в компьюте...   \n",
       "5                          программист. pl/sql python   \n",
       "\n",
       "   Работали ли Вы с Jupyter notebooks?  \\\n",
       "id                                       \n",
       "0                                   Да   \n",
       "1                                   Да   \n",
       "2                                   Да   \n",
       "3                                   Да   \n",
       "5                                   Да   \n",
       "\n",
       "                               Что Вы ждете от курса?  \\\n",
       "id                                                      \n",
       "0   Ребята, вижу ваш настрой, уверен курс будет ин...   \n",
       "1   Практики, подкрепленной теорией. Хочется упоря...   \n",
       "2     Побольше практики на реальных данных (задачах).   \n",
       "3        Глубокого разбора алгоритмов и инструментов.   \n",
       "5                                  Упорядочить знания   \n",
       "\n",
       "   Потом мы прямо этот же набор данных поанализируем с Pandas. Так что какой Ваш любимый вид спорта?  \\\n",
       "id                                                                                                     \n",
       "0                                           Starcraft                                                  \n",
       "1                                                 NaN                                                  \n",
       "2                                          basketball                                                  \n",
       "3                                                 NaN                                                  \n",
       "5                                              футбол                                                  \n",
       "\n",
       "   Ладно, посерьезней: согласны ли Вы на обработку персональных данных?  \\\n",
       "id                                                                        \n",
       "0                                                  Да                     \n",
       "1                                                  Да                     \n",
       "2                                                  Да                     \n",
       "3                                                  Да                     \n",
       "5                                                  Да                     \n",
       "\n",
       "    Какие оцениваете свой уровень математической подготовки? (матан, линал, теорвер)  \\\n",
       "id                                                                                     \n",
       "0                                                   4                                  \n",
       "1                                                   1                                  \n",
       "2                                                   3                                  \n",
       "3                                                   3                                  \n",
       "5                                                   3                                  \n",
       "\n",
       "   Чему равна дисперсия равномерного на [0,6] распределения?  \\\n",
       "id                                                             \n",
       "0                                                   3          \n",
       "1                                                   3          \n",
       "2                                                   3          \n",
       "3                                                 0.5          \n",
       "5                                                   3          \n",
       "\n",
       "   Найдите минимум функции 3x^4-8x^3+6x^2-12 на отрезке [-3,3]  \\\n",
       "id                                                               \n",
       "0                                                 -12            \n",
       "1                                                 NaN            \n",
       "2                                                 NaN            \n",
       "3                                                 -12            \n",
       "5                                                 -12            \n",
       "\n",
       "    Сколько параметров у нормального распределения?  \\\n",
       "id                                                    \n",
       "0                                               2.0   \n",
       "1                                               2.0   \n",
       "2                                               2.0   \n",
       "3                                               2.0   \n",
       "5                                               2.0   \n",
       "\n",
       "   Сможете написать на Python генератор чисел Фибоначчи?  \\\n",
       "id                                                         \n",
       "0                                                  Да      \n",
       "1                                     Да, но фиговый.      \n",
       "2                                                  Да      \n",
       "3                                                  Да      \n",
       "5                                                  Да      \n",
       "\n",
       "   Хорошо, а готовы к началу курса (6 сентября 2017) освоить азы Python? На уровне Code Academy, DataCamp или github.com/Yorko/python_intro  \\\n",
       "id                                                                                                                                            \n",
       "0                                                  Да                                                                                         \n",
       "1                                                  Да                                                                                         \n",
       "2                                                  Да                                                                                         \n",
       "3                                                  Да                                                                                         \n",
       "5                                            уже знаю                                                                                         \n",
       "\n",
       "        Оцените свой уровень владения GitHub  \\\n",
       "id                                             \n",
       "0                                       Проф   \n",
       "1                     Могу скачать материалы   \n",
       "2                                       Проф   \n",
       "3   Пользуюсь ветками, могу что-то смерджить   \n",
       "5   Пользуюсь ветками, могу что-то смерджить   \n",
       "\n",
       "   Посоветуйте хороший фильм в стиле \"Игра в имитацию\" :)  \n",
       "id                                                         \n",
       "0   Прочитай книгу Лема \"Голос Неба\", очень много ...      \n",
       "1                                                 NaN      \n",
       "2                                                 NaN      \n",
       "3                                      Король говорит      \n",
       "5                                                 NaN      "
      ]
     },
     "execution_count": 6,
     "metadata": {},
     "output_type": "execute_result"
    }
   ],
   "source": [
    "poll_data.head()"
   ]
  },
  {
   "cell_type": "code",
   "execution_count": 8,
   "metadata": {},
   "outputs": [
    {
     "data": {
      "text/plain": [
       "(2944, 14)"
      ]
     },
     "execution_count": 8,
     "metadata": {},
     "output_type": "execute_result"
    }
   ],
   "source": [
    "poll_data.shape"
   ]
  },
  {
   "cell_type": "code",
   "execution_count": 9,
   "metadata": {
    "collapsed": true
   },
   "outputs": [],
   "source": [
    "rename_dic = dict(zip(poll_data.columns, ['time', 'intro', 'jupyter', 'expect', \n",
    "                                          'sport', 'personal', 'math_level', 'quest1', \n",
    "                                          'quest2', 'quest3', 'fib_gen', 'python', \n",
    "                                          'github', 'movie']))"
   ]
  },
  {
   "cell_type": "code",
   "execution_count": 10,
   "metadata": {
    "collapsed": true
   },
   "outputs": [],
   "source": [
    "poll_data.rename(columns=rename_dic, inplace=True)"
   ]
  },
  {
   "cell_type": "code",
   "execution_count": 11,
   "metadata": {},
   "outputs": [
    {
     "data": {
      "text/html": [
       "<div>\n",
       "<style>\n",
       "    .dataframe thead tr:only-child th {\n",
       "        text-align: right;\n",
       "    }\n",
       "\n",
       "    .dataframe thead th {\n",
       "        text-align: left;\n",
       "    }\n",
       "\n",
       "    .dataframe tbody tr th {\n",
       "        vertical-align: top;\n",
       "    }\n",
       "</style>\n",
       "<table border=\"1\" class=\"dataframe\">\n",
       "  <thead>\n",
       "    <tr style=\"text-align: right;\">\n",
       "      <th></th>\n",
       "      <th>time</th>\n",
       "      <th>intro</th>\n",
       "      <th>jupyter</th>\n",
       "      <th>expect</th>\n",
       "      <th>sport</th>\n",
       "      <th>personal</th>\n",
       "      <th>math_level</th>\n",
       "      <th>quest1</th>\n",
       "      <th>quest2</th>\n",
       "      <th>quest3</th>\n",
       "      <th>fib_gen</th>\n",
       "      <th>python</th>\n",
       "      <th>github</th>\n",
       "      <th>movie</th>\n",
       "    </tr>\n",
       "    <tr>\n",
       "      <th>id</th>\n",
       "      <th></th>\n",
       "      <th></th>\n",
       "      <th></th>\n",
       "      <th></th>\n",
       "      <th></th>\n",
       "      <th></th>\n",
       "      <th></th>\n",
       "      <th></th>\n",
       "      <th></th>\n",
       "      <th></th>\n",
       "      <th></th>\n",
       "      <th></th>\n",
       "      <th></th>\n",
       "      <th></th>\n",
       "    </tr>\n",
       "  </thead>\n",
       "  <tbody>\n",
       "    <tr>\n",
       "      <th>0</th>\n",
       "      <td>2016/12/05 10:39:59 am GMT+3</td>\n",
       "      <td>крутой Developer</td>\n",
       "      <td>Да</td>\n",
       "      <td>Ребята, вижу ваш настрой, уверен курс будет ин...</td>\n",
       "      <td>Starcraft</td>\n",
       "      <td>Да</td>\n",
       "      <td>4</td>\n",
       "      <td>3</td>\n",
       "      <td>-12</td>\n",
       "      <td>2.0</td>\n",
       "      <td>Да</td>\n",
       "      <td>Да</td>\n",
       "      <td>Проф</td>\n",
       "      <td>Прочитай книгу Лема \"Голос Неба\", очень много ...</td>\n",
       "    </tr>\n",
       "    <tr>\n",
       "      <th>1</th>\n",
       "      <td>2016/12/05 10:44:27 am GMT+3</td>\n",
       "      <td>Разработчик Navision. Изучаю тему DS для возмо...</td>\n",
       "      <td>Да</td>\n",
       "      <td>Практики, подкрепленной теорией. Хочется упоря...</td>\n",
       "      <td>NaN</td>\n",
       "      <td>Да</td>\n",
       "      <td>1</td>\n",
       "      <td>3</td>\n",
       "      <td>NaN</td>\n",
       "      <td>2.0</td>\n",
       "      <td>Да, но фиговый.</td>\n",
       "      <td>Да</td>\n",
       "      <td>Могу скачать материалы</td>\n",
       "      <td>NaN</td>\n",
       "    </tr>\n",
       "    <tr>\n",
       "      <th>2</th>\n",
       "      <td>2016/12/05 10:47:07 am GMT+3</td>\n",
       "      <td>Я Software Engeneer разработчик, активно интер...</td>\n",
       "      <td>Да</td>\n",
       "      <td>Побольше практики на реальных данных (задачах).</td>\n",
       "      <td>basketball</td>\n",
       "      <td>Да</td>\n",
       "      <td>3</td>\n",
       "      <td>3</td>\n",
       "      <td>NaN</td>\n",
       "      <td>2.0</td>\n",
       "      <td>Да</td>\n",
       "      <td>Да</td>\n",
       "      <td>Проф</td>\n",
       "      <td>NaN</td>\n",
       "    </tr>\n",
       "    <tr>\n",
       "      <th>3</th>\n",
       "      <td>2016/12/05 10:47:22 am GMT+3</td>\n",
       "      <td>Семилетний инженер. Специализируюсь в компьюте...</td>\n",
       "      <td>Да</td>\n",
       "      <td>Глубокого разбора алгоритмов и инструментов.</td>\n",
       "      <td>NaN</td>\n",
       "      <td>Да</td>\n",
       "      <td>3</td>\n",
       "      <td>0.5</td>\n",
       "      <td>-12</td>\n",
       "      <td>2.0</td>\n",
       "      <td>Да</td>\n",
       "      <td>Да</td>\n",
       "      <td>Пользуюсь ветками, могу что-то смерджить</td>\n",
       "      <td>Король говорит</td>\n",
       "    </tr>\n",
       "    <tr>\n",
       "      <th>5</th>\n",
       "      <td>2016/12/05 10:58:34 am GMT+3</td>\n",
       "      <td>программист. pl/sql python</td>\n",
       "      <td>Да</td>\n",
       "      <td>Упорядочить знания</td>\n",
       "      <td>футбол</td>\n",
       "      <td>Да</td>\n",
       "      <td>3</td>\n",
       "      <td>3</td>\n",
       "      <td>-12</td>\n",
       "      <td>2.0</td>\n",
       "      <td>Да</td>\n",
       "      <td>уже знаю</td>\n",
       "      <td>Пользуюсь ветками, могу что-то смерджить</td>\n",
       "      <td>NaN</td>\n",
       "    </tr>\n",
       "  </tbody>\n",
       "</table>\n",
       "</div>"
      ],
      "text/plain": [
       "                            time  \\\n",
       "id                                 \n",
       "0   2016/12/05 10:39:59 am GMT+3   \n",
       "1   2016/12/05 10:44:27 am GMT+3   \n",
       "2   2016/12/05 10:47:07 am GMT+3   \n",
       "3   2016/12/05 10:47:22 am GMT+3   \n",
       "5   2016/12/05 10:58:34 am GMT+3   \n",
       "\n",
       "                                                intro jupyter  \\\n",
       "id                                                              \n",
       "0                                    крутой Developer      Да   \n",
       "1   Разработчик Navision. Изучаю тему DS для возмо...      Да   \n",
       "2   Я Software Engeneer разработчик, активно интер...      Да   \n",
       "3   Семилетний инженер. Специализируюсь в компьюте...      Да   \n",
       "5                          программист. pl/sql python      Да   \n",
       "\n",
       "                                               expect       sport personal  \\\n",
       "id                                                                           \n",
       "0   Ребята, вижу ваш настрой, уверен курс будет ин...   Starcraft       Да   \n",
       "1   Практики, подкрепленной теорией. Хочется упоря...         NaN       Да   \n",
       "2     Побольше практики на реальных данных (задачах).  basketball       Да   \n",
       "3        Глубокого разбора алгоритмов и инструментов.         NaN       Да   \n",
       "5                                  Упорядочить знания      футбол       Да   \n",
       "\n",
       "    math_level quest1 quest2  quest3          fib_gen    python  \\\n",
       "id                                                                \n",
       "0            4      3    -12     2.0               Да        Да   \n",
       "1            1      3    NaN     2.0  Да, но фиговый.        Да   \n",
       "2            3      3    NaN     2.0               Да        Да   \n",
       "3            3    0.5    -12     2.0               Да        Да   \n",
       "5            3      3    -12     2.0               Да  уже знаю   \n",
       "\n",
       "                                      github  \\\n",
       "id                                             \n",
       "0                                       Проф   \n",
       "1                     Могу скачать материалы   \n",
       "2                                       Проф   \n",
       "3   Пользуюсь ветками, могу что-то смерджить   \n",
       "5   Пользуюсь ветками, могу что-то смерджить   \n",
       "\n",
       "                                                movie  \n",
       "id                                                     \n",
       "0   Прочитай книгу Лема \"Голос Неба\", очень много ...  \n",
       "1                                                 NaN  \n",
       "2                                                 NaN  \n",
       "3                                      Король говорит  \n",
       "5                                                 NaN  "
      ]
     },
     "execution_count": 11,
     "metadata": {},
     "output_type": "execute_result"
    }
   ],
   "source": [
    "poll_data.head()"
   ]
  },
  {
   "cell_type": "code",
   "execution_count": 13,
   "metadata": {},
   "outputs": [
    {
     "data": {
      "text/plain": [
       "Да                                                              2071\n",
       "Нет                                                              766\n",
       "немного                                                            7\n",
       "Немного                                                            3\n",
       "Немного,  недавно начал проходить курс от яндекса на курсоре       2\n",
       "Name: jupyter, dtype: int64"
      ]
     },
     "execution_count": 13,
     "metadata": {},
     "output_type": "execute_result"
    }
   ],
   "source": [
    "poll_data['jupyter'].value_counts().head()"
   ]
  },
  {
   "cell_type": "code",
   "execution_count": 18,
   "metadata": {},
   "outputs": [
    {
     "data": {
      "text/plain": [
       "1.0    2071\n",
       "0.0     766\n",
       "2.0     107\n",
       "Name: jupyter, dtype: int64"
      ]
     },
     "execution_count": 18,
     "metadata": {},
     "output_type": "execute_result"
    }
   ],
   "source": [
    "poll_data['jupyter'].map({'Да':1, 'Нет':0}).fillna(2).value_counts()"
   ]
  },
  {
   "cell_type": "code",
   "execution_count": 21,
   "metadata": {},
   "outputs": [
    {
     "data": {
      "image/png": "[encoded data removed]",
      "text/plain": [
       "<matplotlib.figure.Figure at 0x2541601fe48>"
      ]
     },
     "metadata": {},
     "output_type": "display_data"
    }
   ],
   "source": [
    "sns.countplot(poll_data['jupyter'].map({'Да':1, 'Нет':0}).fillna(2));"
   ]
  },
  {
   "cell_type": "markdown",
   "metadata": {},
   "source": [
    "Топ 10 популярных слов"
   ]
  },
  {
   "cell_type": "code",
   "execution_count": 23,
   "metadata": {},
   "outputs": [
    {
     "data": {
      "text/plain": [
       "Футбол       197\n",
       "Баскетбол    113\n",
       "футбол       113\n",
       "Плавание      94\n",
       "Хоккей        66\n",
       "Name: sport, dtype: int64"
      ]
     },
     "execution_count": 23,
     "metadata": {},
     "output_type": "execute_result"
    }
   ],
   "source": [
    "poll_data.sport.value_counts().head()"
   ]
  },
  {
   "cell_type": "code",
   "execution_count": 25,
   "metadata": {},
   "outputs": [
    {
     "data": {
      "text/plain": [
       "array([  2.,  nan,   1.,   4.,   3.])"
      ]
     },
     "execution_count": 25,
     "metadata": {},
     "output_type": "execute_result"
    }
   ],
   "source": [
    "poll_data.quest3.unique()"
   ]
  },
  {
   "cell_type": "code",
   "execution_count": 30,
   "metadata": {},
   "outputs": [
    {
     "data": {
      "text/plain": [
       "0.92440366972477062"
      ]
     },
     "execution_count": 30,
     "metadata": {},
     "output_type": "execute_result"
    }
   ],
   "source": [
    "(poll_data['quest3'] ==2).dropna().sum()/(poll_data['quest3']).dropna().shape[0]"
   ]
  },
  {
   "cell_type": "code",
   "execution_count": 31,
   "metadata": {},
   "outputs": [
    {
     "data": {
      "text/plain": [
       "id\n",
       "0                                     крутой Developer\n",
       "1    Разработчик Navision. Изучаю тему DS для возмо...\n",
       "2    Я Software Engeneer разработчик, активно интер...\n",
       "3    Семилетний инженер. Специализируюсь в компьюте...\n",
       "5                           программист. pl/sql python\n",
       "Name: intro, dtype: object"
      ]
     },
     "execution_count": 31,
     "metadata": {},
     "output_type": "execute_result"
    }
   ],
   "source": [
    "poll_data['intro'].head()"
   ]
  },
  {
   "cell_type": "markdown",
   "metadata": {},
   "source": [
    "питоновское множество со всеми словами"
   ]
  },
  {
   "cell_type": "code",
   "execution_count": null,
   "metadata": {
    "collapsed": true
   },
   "outputs": [],
   "source": [
    "all_words = set([])"
   ]
  },
  {
   "cell_type": "code",
   "execution_count": 32,
   "metadata": {},
   "outputs": [
    {
     "data": {
      "text/plain": [
       "array([['крутой', 'Developer'],\n",
       "       ['Разработчик', 'Navision.', 'Изучаю', 'тему', 'DS', 'для', 'возможной', 'переквалификации.'],\n",
       "       ['Я', 'Software', 'Engeneer', 'разработчик,', 'активно', 'интересующийся', 'областью', 'машинного', 'обучения.', 'Имею', 'реальный', 'опыт', 'в', 'DL', '(неcколько', 'задача', 'связанных', 'с', 'разпознавание', 'объектов', 'и', 'классификацией', 'изображений).'],\n",
       "       ...,\n",
       "       ['Занимаюсь', 'сопровождением', 'автоматизированных', 'систем,', 'в', 'т.ч.', 'тех,', 'в', 'которых', 'очень', 'много', 'данных', 'в', 'БД', 'хранится.', 'Люблю', '\"покопаться\"', 'в', 'данных.', 'Изучаю', 'питон', 'с', '2017', 'года'],\n",
       "       ['разработчик', 'Python,', 'JS'],\n",
       "       ['Работал', 'аналитиком', 'в', 'разных', 'сферах,', 'включая', 'e-commerce,', 'телеком', 'и', 'онлайн-банкинг.', 'Увлекаюсь', 'программированием']], dtype=object)"
      ]
     },
     "execution_count": 32,
     "metadata": {},
     "output_type": "execute_result"
    }
   ],
   "source": [
    "poll_data['intro'].apply(lambda s: s.strip().split()).values"
   ]
  },
  {
   "cell_type": "code",
   "execution_count": 33,
   "metadata": {},
   "outputs": [
    {
     "data": {
      "text/plain": [
       "array(['крутой', 'Developer', 'Разработчик', ..., 'онлайн-банкинг.',\n",
       "       'Увлекаюсь', 'программированием'], \n",
       "      dtype='<U81')"
      ]
     },
     "execution_count": 33,
     "metadata": {},
     "output_type": "execute_result"
    }
   ],
   "source": [
    "#склеивает concatenate\n",
    "np.concatenate(poll_data['intro'].apply(lambda s: s.strip().split()).values)"
   ]
  },
  {
   "cell_type": "code",
   "execution_count": 34,
   "metadata": {
    "collapsed": true
   },
   "outputs": [],
   "source": [
    "all_words = set(np.concatenate(poll_data['intro'].apply(lambda s: s.strip().split()).values))"
   ]
  },
  {
   "cell_type": "code",
   "execution_count": 36,
   "metadata": {},
   "outputs": [
    {
     "data": {
      "text/plain": [
       "8294"
      ]
     },
     "execution_count": 36,
     "metadata": {},
     "output_type": "execute_result"
    }
   ],
   "source": [
    "len(all_words)"
   ]
  },
  {
   "cell_type": "code",
   "execution_count": 41,
   "metadata": {},
   "outputs": [
    {
     "data": {
      "text/plain": [
       "(26533,)"
      ]
     },
     "execution_count": 41,
     "metadata": {},
     "output_type": "execute_result"
    }
   ],
   "source": [
    "all_words = np.concatenate(poll_data['intro'].apply(lambda s: s.strip().split()).values)\n",
    "all_words."
   ]
  },
  {
   "cell_type": "code",
   "execution_count": 50,
   "metadata": {},
   "outputs": [
    {
     "data": {
      "text/plain": [
       "в                 1235\n",
       "и                  734\n",
       "на                 409\n",
       "по                 283\n",
       "Студент            279\n",
       "с                  219\n",
       "Работаю            201\n",
       "курса              187\n",
       "данных             178\n",
       "Data               173\n",
       "Я                  166\n",
       "работаю            157\n",
       "data               130\n",
       "машинным           123\n",
       "ML                 122\n",
       "хочу               122\n",
       "-                  114\n",
       "занимаюсь          103\n",
       "интересуюсь        101\n",
       "не                 100\n",
       "Хочу                98\n",
       "студент             93\n",
       "анализом            88\n",
       "но                  88\n",
       "Интересуюсь         88\n",
       "для                 87\n",
       "я                   86\n",
       "Люблю               80\n",
       "В                   80\n",
       "ВШЭ                 76\n",
       "                  ... \n",
       "проектики            1\n",
       "Питере.              1\n",
       "Авито,               1\n",
       "благодаря            1\n",
       "решению              1\n",
       "Страхование\"         1\n",
       "Deductor             1\n",
       "серьезной            1\n",
       "Жду                  1\n",
       "нечего.              1\n",
       "транспортной         1\n",
       "МФТИ'2013            1\n",
       "Эдинбурга            1\n",
       "funnels              1\n",
       "десктопные           1\n",
       "нетехнического       1\n",
       "футболом             1\n",
       "задачек              1\n",
       ":                    1\n",
       "Анализе              1\n",
       "shifting             1\n",
       "ForexClub            1\n",
       "реализовывать.       1\n",
       "всякую               1\n",
       "попробовал           1\n",
       "склёрну              1\n",
       "кости,               1\n",
       "извлеч               1\n",
       "(кредитный           1\n",
       "какой-нибудь         1\n",
       "Length: 8294, dtype: int64"
      ]
     },
     "execution_count": 50,
     "metadata": {},
     "output_type": "execute_result"
    }
   ],
   "source": [
    "#ищем топ\n",
    "pd.Series(list(all_words)).value_counts()"
   ]
  },
  {
   "cell_type": "code",
   "execution_count": 51,
   "metadata": {
    "collapsed": true
   },
   "outputs": [],
   "source": [
    "import nltk"
   ]
  },
  {
   "cell_type": "code",
   "execution_count": 53,
   "metadata": {
    "collapsed": true
   },
   "outputs": [],
   "source": [
    "from nltk.corpus import stopwords"
   ]
  },
  {
   "cell_type": "code",
   "execution_count": 52,
   "metadata": {},
   "outputs": [
    {
     "name": "stdout",
     "output_type": "stream",
     "text": [
      "[nltk_data] Downloading package stopwords to\n",
      "[nltk_data]     C:\\Users\\USR\\AppData\\Roaming\\nltk_data...\n",
      "[nltk_data]   Unzipping corpora\\stopwords.zip.\n"
     ]
    },
    {
     "data": {
      "text/plain": [
       "True"
      ]
     },
     "execution_count": 52,
     "metadata": {},
     "output_type": "execute_result"
    }
   ],
   "source": [
    "nltk.download('stopwords')"
   ]
  },
  {
   "cell_type": "code",
   "execution_count": 54,
   "metadata": {},
   "outputs": [
    {
     "data": {
      "text/plain": [
       "['и',\n",
       " 'в',\n",
       " 'во',\n",
       " 'не',\n",
       " 'что',\n",
       " 'он',\n",
       " 'на',\n",
       " 'я',\n",
       " 'с',\n",
       " 'со',\n",
       " 'как',\n",
       " 'а',\n",
       " 'то',\n",
       " 'все',\n",
       " 'она',\n",
       " 'так',\n",
       " 'его',\n",
       " 'но',\n",
       " 'да',\n",
       " 'ты',\n",
       " 'к',\n",
       " 'у',\n",
       " 'же',\n",
       " 'вы',\n",
       " 'за',\n",
       " 'бы',\n",
       " 'по',\n",
       " 'только',\n",
       " 'ее',\n",
       " 'мне',\n",
       " 'было',\n",
       " 'вот',\n",
       " 'от',\n",
       " 'меня',\n",
       " 'еще',\n",
       " 'нет',\n",
       " 'о',\n",
       " 'из',\n",
       " 'ему',\n",
       " 'теперь',\n",
       " 'когда',\n",
       " 'даже',\n",
       " 'ну',\n",
       " 'вдруг',\n",
       " 'ли',\n",
       " 'если',\n",
       " 'уже',\n",
       " 'или',\n",
       " 'ни',\n",
       " 'быть',\n",
       " 'был',\n",
       " 'него',\n",
       " 'до',\n",
       " 'вас',\n",
       " 'нибудь',\n",
       " 'опять',\n",
       " 'уж',\n",
       " 'вам',\n",
       " 'ведь',\n",
       " 'там',\n",
       " 'потом',\n",
       " 'себя',\n",
       " 'ничего',\n",
       " 'ей',\n",
       " 'может',\n",
       " 'они',\n",
       " 'тут',\n",
       " 'где',\n",
       " 'есть',\n",
       " 'надо',\n",
       " 'ней',\n",
       " 'для',\n",
       " 'мы',\n",
       " 'тебя',\n",
       " 'их',\n",
       " 'чем',\n",
       " 'была',\n",
       " 'сам',\n",
       " 'чтоб',\n",
       " 'без',\n",
       " 'будто',\n",
       " 'чего',\n",
       " 'раз',\n",
       " 'тоже',\n",
       " 'себе',\n",
       " 'под',\n",
       " 'будет',\n",
       " 'ж',\n",
       " 'тогда',\n",
       " 'кто',\n",
       " 'этот',\n",
       " 'того',\n",
       " 'потому',\n",
       " 'этого',\n",
       " 'какой',\n",
       " 'совсем',\n",
       " 'ним',\n",
       " 'здесь',\n",
       " 'этом',\n",
       " 'один',\n",
       " 'почти',\n",
       " 'мой',\n",
       " 'тем',\n",
       " 'чтобы',\n",
       " 'нее',\n",
       " 'сейчас',\n",
       " 'были',\n",
       " 'куда',\n",
       " 'зачем',\n",
       " 'всех',\n",
       " 'никогда',\n",
       " 'можно',\n",
       " 'при',\n",
       " 'наконец',\n",
       " 'два',\n",
       " 'об',\n",
       " 'другой',\n",
       " 'хоть',\n",
       " 'после',\n",
       " 'над',\n",
       " 'больше',\n",
       " 'тот',\n",
       " 'через',\n",
       " 'эти',\n",
       " 'нас',\n",
       " 'про',\n",
       " 'всего',\n",
       " 'них',\n",
       " 'какая',\n",
       " 'много',\n",
       " 'разве',\n",
       " 'три',\n",
       " 'эту',\n",
       " 'моя',\n",
       " 'впрочем',\n",
       " 'хорошо',\n",
       " 'свою',\n",
       " 'этой',\n",
       " 'перед',\n",
       " 'иногда',\n",
       " 'лучше',\n",
       " 'чуть',\n",
       " 'том',\n",
       " 'нельзя',\n",
       " 'такой',\n",
       " 'им',\n",
       " 'более',\n",
       " 'всегда',\n",
       " 'конечно',\n",
       " 'всю',\n",
       " 'между']"
      ]
     },
     "execution_count": 54,
     "metadata": {},
     "output_type": "execute_result"
    }
   ],
   "source": [
    "stopwords.words('russian')"
   ]
  },
  {
   "cell_type": "code",
   "execution_count": 55,
   "metadata": {},
   "outputs": [
    {
     "data": {
      "text/plain": [
       "0        False\n",
       "1        False\n",
       "2        False\n",
       "3        False\n",
       "4        False\n",
       "5        False\n",
       "6        False\n",
       "7         True\n",
       "8        False\n",
       "9        False\n",
       "10       False\n",
       "11       False\n",
       "12       False\n",
       "13       False\n",
       "14       False\n",
       "15       False\n",
       "16       False\n",
       "17       False\n",
       "18       False\n",
       "19       False\n",
       "20       False\n",
       "21       False\n",
       "22        True\n",
       "23       False\n",
       "24       False\n",
       "25       False\n",
       "26       False\n",
       "27        True\n",
       "28       False\n",
       "29       False\n",
       "         ...  \n",
       "26503    False\n",
       "26504     True\n",
       "26505    False\n",
       "26506     True\n",
       "26507    False\n",
       "26508    False\n",
       "26509    False\n",
       "26510    False\n",
       "26511     True\n",
       "26512    False\n",
       "26513    False\n",
       "26514    False\n",
       "26515     True\n",
       "26516    False\n",
       "26517    False\n",
       "26518    False\n",
       "26519    False\n",
       "26520    False\n",
       "26521    False\n",
       "26522    False\n",
       "26523     True\n",
       "26524    False\n",
       "26525    False\n",
       "26526    False\n",
       "26527    False\n",
       "26528    False\n",
       "26529     True\n",
       "26530    False\n",
       "26531    False\n",
       "26532    False\n",
       "Length: 26533, dtype: bool"
      ]
     },
     "execution_count": 55,
     "metadata": {},
     "output_type": "execute_result"
    }
   ],
   "source": [
    "pd.Series(list(all_words)).isin(stopwords.words('russian'))"
   ]
  },
  {
   "cell_type": "code",
   "execution_count": 56,
   "metadata": {
    "collapsed": true
   },
   "outputs": [],
   "source": [
    "words_series = pd.Series(list(all_words))"
   ]
  },
  {
   "cell_type": "code",
   "execution_count": 59,
   "metadata": {},
   "outputs": [
    {
     "data": {
      "text/plain": [
       "Студент     279\n",
       "Работаю     201\n",
       "курса       187\n",
       "данных      178\n",
       "Data        173\n",
       "Я           166\n",
       "работаю     157\n",
       "data        130\n",
       "машинным    123\n",
       "ML          122\n",
       "dtype: int64"
      ]
     },
     "execution_count": 59,
     "metadata": {},
     "output_type": "execute_result"
    }
   ],
   "source": [
    "words_series[~words_series.isin(stopwords.words('russian'))].value_counts().head(10)"
   ]
  },
  {
   "cell_type": "code",
   "execution_count": null,
   "metadata": {
    "collapsed": true
   },
   "outputs": [],
   "source": []
  }
 ],
 "metadata": {
  "kernelspec": {
   "display_name": "Python 3",
   "language": "python",
   "name": "python3"
  },
  "language_info": {
   "codemirror_mode": {
    "name": "ipython",
    "version": 3
   },
   "file_extension": ".py",
   "mimetype": "text/x-python",
   "name": "python",
   "nbconvert_exporter": "python",
   "pygments_lexer": "ipython3",
   "version": "3.6.1"
  }
 },
 "nbformat": 4,
 "nbformat_minor": 2
}
