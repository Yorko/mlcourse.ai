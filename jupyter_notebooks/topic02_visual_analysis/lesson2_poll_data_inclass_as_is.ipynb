{
 "cells": [
  {
   "cell_type": "code",
   "execution_count": 1,
   "metadata": {
    "collapsed": true
   },
   "outputs": [],
   "source": [
    "import numpy as np\n",
    "import pandas as pd\n",
    "from matplotlib import pyplot as plt\n",
    "import seaborn as sns\n",
    "%matplotlib inline"
   ]
  },
  {
   "cell_type": "code",
   "execution_count": 2,
   "metadata": {
    "collapsed": true
   },
   "outputs": [],
   "source": [
    "poll_data = pd.read_csv('../../data/mlcourse_open_first_survey_parsed.csv',\n",
    "                       index_col='id')"
   ]
  },
  {
   "cell_type": "code",
   "execution_count": 3,
   "metadata": {},
   "outputs": [
    {
     "data": {
      "text/html": [
       "<div>\n",
       "<style>\n",
       "    .dataframe thead tr:only-child th {\n",
       "        text-align: right;\n",
       "    }\n",
       "\n",
       "    .dataframe thead th {\n",
       "        text-align: left;\n",
       "    }\n",
       "\n",
       "    .dataframe tbody tr th {\n",
       "        vertical-align: top;\n",
       "    }\n",
       "</style>\n",
       "<table border=\"1\" class=\"dataframe\">\n",
       "  <thead>\n",
       "    <tr style=\"text-align: right;\">\n",
       "      <th></th>\n",
       "      <th>Timestamp</th>\n",
       "      <th>Представьтесь в 2-3 фразах</th>\n",
       "      <th>Работали ли Вы с Jupyter notebooks?</th>\n",
       "      <th>Что Вы ждете от курса?</th>\n",
       "      <th>Потом мы прямо этот же набор данных поанализируем с Pandas. Так что какой Ваш любимый вид спорта?</th>\n",
       "      <th>Ладно, посерьезней: согласны ли Вы на обработку персональных данных?</th>\n",
       "      <th>Какие оцениваете свой уровень математической подготовки? (матан, линал, теорвер)</th>\n",
       "      <th>Чему равна дисперсия равномерного на [0,6] распределения?</th>\n",
       "      <th>Найдите минимум функции 3x^4-8x^3+6x^2-12 на отрезке [-3,3]</th>\n",
       "      <th>Сколько параметров у нормального распределения?</th>\n",
       "      <th>Сможете написать на Python генератор чисел Фибоначчи?</th>\n",
       "      <th>Хорошо, а готовы к началу курса (6 сентября 2017) освоить азы Python? На уровне Code Academy, DataCamp или github.com/Yorko/python_intro</th>\n",
       "      <th>Оцените свой уровень владения GitHub</th>\n",
       "      <th>Посоветуйте хороший фильм в стиле \"Игра в имитацию\" :)</th>\n",
       "    </tr>\n",
       "    <tr>\n",
       "      <th>id</th>\n",
       "      <th></th>\n",
       "      <th></th>\n",
       "      <th></th>\n",
       "      <th></th>\n",
       "      <th></th>\n",
       "      <th></th>\n",
       "      <th></th>\n",
       "      <th></th>\n",
       "      <th></th>\n",
       "      <th></th>\n",
       "      <th></th>\n",
       "      <th></th>\n",
       "      <th></th>\n",
       "      <th></th>\n",
       "    </tr>\n",
       "  </thead>\n",
       "  <tbody>\n",
       "    <tr>\n",
       "      <th>0</th>\n",
       "      <td>2016/12/05 10:39:59 am GMT+3</td>\n",
       "      <td>крутой Developer</td>\n",
       "      <td>Да</td>\n",
       "      <td>Ребята, вижу ваш настрой, уверен курс будет ин...</td>\n",
       "      <td>Starcraft</td>\n",
       "      <td>Да</td>\n",
       "      <td>4</td>\n",
       "      <td>3</td>\n",
       "      <td>-12</td>\n",
       "      <td>2.0</td>\n",
       "      <td>Да</td>\n",
       "      <td>Да</td>\n",
       "      <td>Проф</td>\n",
       "      <td>Прочитай книгу Лема \"Голос Неба\", очень много ...</td>\n",
       "    </tr>\n",
       "    <tr>\n",
       "      <th>1</th>\n",
       "      <td>2016/12/05 10:44:27 am GMT+3</td>\n",
       "      <td>Разработчик Navision. Изучаю тему DS для возмо...</td>\n",
       "      <td>Да</td>\n",
       "      <td>Практики, подкрепленной теорией. Хочется упоря...</td>\n",
       "      <td>NaN</td>\n",
       "      <td>Да</td>\n",
       "      <td>1</td>\n",
       "      <td>3</td>\n",
       "      <td>NaN</td>\n",
       "      <td>2.0</td>\n",
       "      <td>Да, но фиговый.</td>\n",
       "      <td>Да</td>\n",
       "      <td>Могу скачать материалы</td>\n",
       "      <td>NaN</td>\n",
       "    </tr>\n",
       "  </tbody>\n",
       "</table>\n",
       "</div>"
      ],
      "text/plain": [
       "                       Timestamp  \\\n",
       "id                                 \n",
       "0   2016/12/05 10:39:59 am GMT+3   \n",
       "1   2016/12/05 10:44:27 am GMT+3   \n",
       "\n",
       "                           Представьтесь в 2-3 фразах  \\\n",
       "id                                                      \n",
       "0                                    крутой Developer   \n",
       "1   Разработчик Navision. Изучаю тему DS для возмо...   \n",
       "\n",
       "   Работали ли Вы с Jupyter notebooks?  \\\n",
       "id                                       \n",
       "0                                   Да   \n",
       "1                                   Да   \n",
       "\n",
       "                               Что Вы ждете от курса?  \\\n",
       "id                                                      \n",
       "0   Ребята, вижу ваш настрой, уверен курс будет ин...   \n",
       "1   Практики, подкрепленной теорией. Хочется упоря...   \n",
       "\n",
       "   Потом мы прямо этот же набор данных поанализируем с Pandas. Так что какой Ваш любимый вид спорта?  \\\n",
       "id                                                                                                     \n",
       "0                                           Starcraft                                                  \n",
       "1                                                 NaN                                                  \n",
       "\n",
       "   Ладно, посерьезней: согласны ли Вы на обработку персональных данных?  \\\n",
       "id                                                                        \n",
       "0                                                  Да                     \n",
       "1                                                  Да                     \n",
       "\n",
       "    Какие оцениваете свой уровень математической подготовки? (матан, линал, теорвер)  \\\n",
       "id                                                                                     \n",
       "0                                                   4                                  \n",
       "1                                                   1                                  \n",
       "\n",
       "   Чему равна дисперсия равномерного на [0,6] распределения?  \\\n",
       "id                                                             \n",
       "0                                                   3          \n",
       "1                                                   3          \n",
       "\n",
       "   Найдите минимум функции 3x^4-8x^3+6x^2-12 на отрезке [-3,3]  \\\n",
       "id                                                               \n",
       "0                                                 -12            \n",
       "1                                                 NaN            \n",
       "\n",
       "    Сколько параметров у нормального распределения?  \\\n",
       "id                                                    \n",
       "0                                               2.0   \n",
       "1                                               2.0   \n",
       "\n",
       "   Сможете написать на Python генератор чисел Фибоначчи?  \\\n",
       "id                                                         \n",
       "0                                                  Да      \n",
       "1                                     Да, но фиговый.      \n",
       "\n",
       "   Хорошо, а готовы к началу курса (6 сентября 2017) освоить азы Python? На уровне Code Academy, DataCamp или github.com/Yorko/python_intro  \\\n",
       "id                                                                                                                                            \n",
       "0                                                  Да                                                                                         \n",
       "1                                                  Да                                                                                         \n",
       "\n",
       "   Оцените свой уровень владения GitHub  \\\n",
       "id                                        \n",
       "0                                  Проф   \n",
       "1                Могу скачать материалы   \n",
       "\n",
       "   Посоветуйте хороший фильм в стиле \"Игра в имитацию\" :)  \n",
       "id                                                         \n",
       "0   Прочитай книгу Лема \"Голос Неба\", очень много ...      \n",
       "1                                                 NaN      "
      ]
     },
     "execution_count": 3,
     "metadata": {},
     "output_type": "execute_result"
    }
   ],
   "source": [
    "poll_data.head(2)"
   ]
  },
  {
   "cell_type": "code",
   "execution_count": 4,
   "metadata": {},
   "outputs": [
    {
     "name": "stdout",
     "output_type": "stream",
     "text": [
      "<class 'pandas.core.frame.DataFrame'>\n",
      "Int64Index: 2944 entries, 0 to 3215\n",
      "Data columns (total 14 columns):\n",
      "Timestamp                                                                                                                                   2944 non-null object\n",
      "Представьтесь в 2-3 фразах                                                                                                                  2944 non-null object\n",
      "Работали ли Вы с Jupyter notebooks?                                                                                                         2931 non-null object\n",
      "Что Вы ждете от курса?                                                                                                                      2944 non-null object\n",
      "Потом мы прямо этот же набор данных поанализируем с Pandas. Так что какой Ваш любимый вид спорта?                                           2640 non-null object\n",
      "Ладно, посерьезней: согласны ли Вы на обработку персональных данных?                                                                        2944 non-null object\n",
      "Какие оцениваете свой уровень математической подготовки? (матан, линал, теорвер)                                                            2944 non-null int64\n",
      "Чему равна дисперсия равномерного на [0,6] распределения?                                                                                   2689 non-null object\n",
      "Найдите минимум функции 3x^4-8x^3+6x^2-12 на отрезке [-3,3]                                                                                 2623 non-null object\n",
      "Сколько параметров у нормального распределения?                                                                                             2725 non-null float64\n",
      "Сможете написать на Python генератор чисел Фибоначчи?                                                                                       2944 non-null object\n",
      "Хорошо, а готовы к началу курса (6 сентября 2017) освоить азы Python? На уровне Code Academy, DataCamp или github.com/Yorko/python_intro    2944 non-null object\n",
      "Оцените свой уровень владения GitHub                                                                                                        2910 non-null object\n",
      "Посоветуйте хороший фильм в стиле \"Игра в имитацию\" :)                                                                                      2086 non-null object\n",
      "dtypes: float64(1), int64(1), object(12)\n",
      "memory usage: 345.0+ KB\n"
     ]
    }
   ],
   "source": [
    "poll_data.info()"
   ]
  },
  {
   "cell_type": "code",
   "execution_count": 5,
   "metadata": {},
   "outputs": [
    {
     "data": {
      "text/plain": [
       "(2944, 14)"
      ]
     },
     "execution_count": 5,
     "metadata": {},
     "output_type": "execute_result"
    }
   ],
   "source": [
    "poll_data.shape"
   ]
  },
  {
   "cell_type": "markdown",
   "metadata": {},
   "source": [
    "**Переименуем признаки.**"
   ]
  },
  {
   "cell_type": "code",
   "execution_count": 6,
   "metadata": {
    "collapsed": true
   },
   "outputs": [],
   "source": [
    "rename_dic = dict(zip(poll_data.columns, \n",
    "                      ['time', 'intro', 'jupyter', 'expect',\n",
    "                       'sport', 'personal', 'math_level', 'quest1',\n",
    "                       'quest2', 'quest3', 'fib_gen', 'python', \n",
    "                       'github', 'movie']))"
   ]
  },
  {
   "cell_type": "code",
   "execution_count": 7,
   "metadata": {
    "collapsed": true
   },
   "outputs": [],
   "source": [
    "poll_data.rename(columns=rename_dic, inplace=True)"
   ]
  },
  {
   "cell_type": "code",
   "execution_count": 8,
   "metadata": {},
   "outputs": [
    {
     "data": {
      "text/html": [
       "<div>\n",
       "<style>\n",
       "    .dataframe thead tr:only-child th {\n",
       "        text-align: right;\n",
       "    }\n",
       "\n",
       "    .dataframe thead th {\n",
       "        text-align: left;\n",
       "    }\n",
       "\n",
       "    .dataframe tbody tr th {\n",
       "        vertical-align: top;\n",
       "    }\n",
       "</style>\n",
       "<table border=\"1\" class=\"dataframe\">\n",
       "  <thead>\n",
       "    <tr style=\"text-align: right;\">\n",
       "      <th></th>\n",
       "      <th>time</th>\n",
       "      <th>intro</th>\n",
       "      <th>jupyter</th>\n",
       "      <th>expect</th>\n",
       "      <th>sport</th>\n",
       "      <th>personal</th>\n",
       "      <th>math_level</th>\n",
       "      <th>quest1</th>\n",
       "      <th>quest2</th>\n",
       "      <th>quest3</th>\n",
       "      <th>fib_gen</th>\n",
       "      <th>python</th>\n",
       "      <th>github</th>\n",
       "      <th>movie</th>\n",
       "    </tr>\n",
       "    <tr>\n",
       "      <th>id</th>\n",
       "      <th></th>\n",
       "      <th></th>\n",
       "      <th></th>\n",
       "      <th></th>\n",
       "      <th></th>\n",
       "      <th></th>\n",
       "      <th></th>\n",
       "      <th></th>\n",
       "      <th></th>\n",
       "      <th></th>\n",
       "      <th></th>\n",
       "      <th></th>\n",
       "      <th></th>\n",
       "      <th></th>\n",
       "    </tr>\n",
       "  </thead>\n",
       "  <tbody>\n",
       "    <tr>\n",
       "      <th>0</th>\n",
       "      <td>2016/12/05 10:39:59 am GMT+3</td>\n",
       "      <td>крутой Developer</td>\n",
       "      <td>Да</td>\n",
       "      <td>Ребята, вижу ваш настрой, уверен курс будет ин...</td>\n",
       "      <td>Starcraft</td>\n",
       "      <td>Да</td>\n",
       "      <td>4</td>\n",
       "      <td>3</td>\n",
       "      <td>-12</td>\n",
       "      <td>2.0</td>\n",
       "      <td>Да</td>\n",
       "      <td>Да</td>\n",
       "      <td>Проф</td>\n",
       "      <td>Прочитай книгу Лема \"Голос Неба\", очень много ...</td>\n",
       "    </tr>\n",
       "    <tr>\n",
       "      <th>1</th>\n",
       "      <td>2016/12/05 10:44:27 am GMT+3</td>\n",
       "      <td>Разработчик Navision. Изучаю тему DS для возмо...</td>\n",
       "      <td>Да</td>\n",
       "      <td>Практики, подкрепленной теорией. Хочется упоря...</td>\n",
       "      <td>NaN</td>\n",
       "      <td>Да</td>\n",
       "      <td>1</td>\n",
       "      <td>3</td>\n",
       "      <td>NaN</td>\n",
       "      <td>2.0</td>\n",
       "      <td>Да, но фиговый.</td>\n",
       "      <td>Да</td>\n",
       "      <td>Могу скачать материалы</td>\n",
       "      <td>NaN</td>\n",
       "    </tr>\n",
       "  </tbody>\n",
       "</table>\n",
       "</div>"
      ],
      "text/plain": [
       "                            time  \\\n",
       "id                                 \n",
       "0   2016/12/05 10:39:59 am GMT+3   \n",
       "1   2016/12/05 10:44:27 am GMT+3   \n",
       "\n",
       "                                                intro jupyter  \\\n",
       "id                                                              \n",
       "0                                    крутой Developer      Да   \n",
       "1   Разработчик Navision. Изучаю тему DS для возмо...      Да   \n",
       "\n",
       "                                               expect      sport personal  \\\n",
       "id                                                                          \n",
       "0   Ребята, вижу ваш настрой, уверен курс будет ин...  Starcraft       Да   \n",
       "1   Практики, подкрепленной теорией. Хочется упоря...        NaN       Да   \n",
       "\n",
       "    math_level quest1 quest2  quest3          fib_gen python  \\\n",
       "id                                                             \n",
       "0            4      3    -12     2.0               Да     Да   \n",
       "1            1      3    NaN     2.0  Да, но фиговый.     Да   \n",
       "\n",
       "                    github                                              movie  \n",
       "id                                                                             \n",
       "0                     Проф  Прочитай книгу Лема \"Голос Неба\", очень много ...  \n",
       "1   Могу скачать материалы                                                NaN  "
      ]
     },
     "execution_count": 8,
     "metadata": {},
     "output_type": "execute_result"
    }
   ],
   "source": [
    "poll_data.head(2)"
   ]
  },
  {
   "cell_type": "code",
   "execution_count": 9,
   "metadata": {},
   "outputs": [
    {
     "data": {
      "text/plain": [
       "Да                                                              2071\n",
       "Нет                                                              766\n",
       "немного                                                            7\n",
       "Немного                                                            3\n",
       "Немного,  недавно начал проходить курс от яндекса на курсоре       2\n",
       "Name: jupyter, dtype: int64"
      ]
     },
     "execution_count": 9,
     "metadata": {},
     "output_type": "execute_result"
    }
   ],
   "source": [
    "poll_data['jupyter'].value_counts().head()"
   ]
  },
  {
   "cell_type": "code",
   "execution_count": 10,
   "metadata": {
    "collapsed": true
   },
   "outputs": [],
   "source": [
    "jupyer_levels = poll_data['jupyter'].map({'Да': 1, \n",
    "                                          'Нет': 0}).fillna(2)"
   ]
  },
  {
   "cell_type": "code",
   "execution_count": 11,
   "metadata": {},
   "outputs": [
    {
     "data": {
      "text/plain": [
       "id\n",
       "0    1.0\n",
       "1    1.0\n",
       "2    1.0\n",
       "3    1.0\n",
       "5    1.0\n",
       "Name: jupyter, dtype: float64"
      ]
     },
     "execution_count": 11,
     "metadata": {},
     "output_type": "execute_result"
    }
   ],
   "source": [
    "jupyer_levels.head()"
   ]
  },
  {
   "cell_type": "code",
   "execution_count": 12,
   "metadata": {},
   "outputs": [
    {
     "data": {
      "image/png": "[encoded data removed]",
      "text/plain": [
       "<matplotlib.figure.Figure at 0x11b322f98>"
      ]
     },
     "metadata": {},
     "output_type": "display_data"
    }
   ],
   "source": [
    "sns.countplot(jupyer_levels);"
   ]
  },
  {
   "cell_type": "code",
   "execution_count": 13,
   "metadata": {},
   "outputs": [
    {
     "data": {
      "text/plain": [
       "Index(['time', 'intro', 'jupyter', 'expect', 'sport', 'personal', 'math_level',\n",
       "       'quest1', 'quest2', 'quest3', 'fib_gen', 'python', 'github', 'movie'],\n",
       "      dtype='object')"
      ]
     },
     "execution_count": 13,
     "metadata": {},
     "output_type": "execute_result"
    }
   ],
   "source": [
    "poll_data.columns"
   ]
  },
  {
   "cell_type": "code",
   "execution_count": 14,
   "metadata": {},
   "outputs": [
    {
     "data": {
      "text/plain": [
       "Футбол       197\n",
       "Баскетбол    113\n",
       "футбол       113\n",
       "Плавание      94\n",
       "Хоккей        66\n",
       "Name: sport, dtype: int64"
      ]
     },
     "execution_count": 14,
     "metadata": {},
     "output_type": "execute_result"
    }
   ],
   "source": [
    "poll_data.sport.value_counts().head()"
   ]
  },
  {
   "cell_type": "markdown",
   "metadata": {},
   "source": [
    "**Процент ответивших на 3 вопрос**"
   ]
  },
  {
   "cell_type": "code",
   "execution_count": 15,
   "metadata": {},
   "outputs": [
    {
     "data": {
      "text/plain": [
       "0.92440366972477062"
      ]
     },
     "execution_count": 15,
     "metadata": {},
     "output_type": "execute_result"
    }
   ],
   "source": [
    "(poll_data['quest3'] == 2).dropna().sum() / poll_data['quest3'][~poll_data['quest3'].isnull()].shape[0]"
   ]
  },
  {
   "cell_type": "markdown",
   "metadata": {},
   "source": [
    "**Ищем топ-10 слов в представлении себя. При этом уберем стоп-слова**"
   ]
  },
  {
   "cell_type": "code",
   "execution_count": 16,
   "metadata": {
    "collapsed": true
   },
   "outputs": [],
   "source": [
    "all_words = np.concatenate(poll_data['intro'].apply(lambda s: \n",
    "                                                        s.strip().split()).values)"
   ]
  },
  {
   "cell_type": "code",
   "execution_count": 17,
   "metadata": {},
   "outputs": [
    {
     "data": {
      "text/plain": [
       "26533"
      ]
     },
     "execution_count": 17,
     "metadata": {},
     "output_type": "execute_result"
    }
   ],
   "source": [
    "len(all_words)"
   ]
  },
  {
   "cell_type": "code",
   "execution_count": 18,
   "metadata": {
    "collapsed": true
   },
   "outputs": [],
   "source": [
    "import nltk"
   ]
  },
  {
   "cell_type": "code",
   "execution_count": 19,
   "metadata": {},
   "outputs": [
    {
     "name": "stdout",
     "output_type": "stream",
     "text": [
      "[nltk_data] Downloading package stopwords to\n",
      "[nltk_data]     /Users/y.kashnitsky/nltk_data...\n",
      "[nltk_data]   Package stopwords is already up-to-date!\n"
     ]
    },
    {
     "data": {
      "text/plain": [
       "True"
      ]
     },
     "execution_count": 19,
     "metadata": {},
     "output_type": "execute_result"
    }
   ],
   "source": [
    "nltk.download('stopwords')"
   ]
  },
  {
   "cell_type": "code",
   "execution_count": 20,
   "metadata": {},
   "outputs": [
    {
     "data": {
      "text/plain": [
       "['и', 'в', 'во', 'не', 'что', 'он', 'на', 'я', 'с', 'со']"
      ]
     },
     "execution_count": 20,
     "metadata": {},
     "output_type": "execute_result"
    }
   ],
   "source": [
    "nltk.corpus.stopwords.words('russian')[:10]"
   ]
  },
  {
   "cell_type": "code",
   "execution_count": 22,
   "metadata": {},
   "outputs": [
    {
     "data": {
      "text/plain": [
       "Студент     279\n",
       "Работаю     201\n",
       "курса       187\n",
       "данных      178\n",
       "Data        173\n",
       "Я           166\n",
       "работаю     157\n",
       "data        130\n",
       "машинным    123\n",
       "хочу        122\n",
       "dtype: int64"
      ]
     },
     "execution_count": 22,
     "metadata": {},
     "output_type": "execute_result"
    }
   ],
   "source": [
    "words_series = pd.Series(list(all_words))\n",
    "words_series[~words_series.isin(\n",
    "    nltk.corpus.stopwords.words('russian'))].value_counts().head(10)"
   ]
  }
 ],
 "metadata": {
  "kernelspec": {
   "display_name": "Python 3",
   "language": "python",
   "name": "python3"
  },
  "language_info": {
   "codemirror_mode": {
    "name": "ipython",
    "version": 3
   },
   "file_extension": ".py",
   "mimetype": "text/x-python",
   "name": "python",
   "nbconvert_exporter": "python",
   "pygments_lexer": "ipython3",
   "version": "3.6.1"
  }
 },
 "nbformat": 4,
 "nbformat_minor": 2
}
