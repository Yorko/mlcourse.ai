{
 "cells": [
  {
   "cell_type": "markdown",
   "metadata": {},
   "source": [
    "<center>\n",
    "<img src=\"../../img/ods_stickers.jpg\">\n",
    "## Открытый курс по машинному обучению. Сессия № 2\n",
    "</center>\n",
    "Авторы материала: аспирант Мехмата МГУ Евгений Колмаков, программист-исследователь Mail.ru Group, старший преподаватель Факультета Компьютерных Наук ВШЭ Юрий Кашницкий. Материал распространяется на условиях лицензии [Creative Commons CC BY-NC-SA 4.0](https://creativecommons.org/licenses/by-nc-sa/4.0/). Можно использовать в любых целях (редактировать, поправлять и брать за основу), кроме коммерческих, но с обязательным упоминанием автора материала."
   ]
  },
  {
   "cell_type": "markdown",
   "metadata": {},
   "source": [
    "# <center>Домашнее задание № 3. Опциональная часть \n",
    "## <center> Реализация алгоритма построения дерева решений"
   ]
  },
  {
   "cell_type": "code",
   "execution_count": 1,
   "metadata": {
    "collapsed": true
   },
   "outputs": [],
   "source": [
    "import numpy as np\n",
    "from matplotlib import pyplot as plt\n",
    "%matplotlib inline\n",
    "from sklearn.base import BaseEstimator\n",
    "from sklearn.datasets import make_classification, make_regression, load_digits, load_boston\n",
    "from sklearn.model_selection import train_test_split, GridSearchCV\n",
    "from sklearn.metrics import accuracy_score, mean_squared_error"
   ]
  },
  {
   "cell_type": "markdown",
   "metadata": {
    "collapsed": true
   },
   "source": [
    "**Необходимо реализовать класс `DecisionTree`**\n",
    "\n",
    "**Спецификация:**\n",
    "- класс наследуется от `sklearn.BaseEstimator`;\n",
    "- конструктор содержит следующие параметры: \n",
    "    `max_depth` - максимальная глубина дерева (по умолчанию - `numpy.inf`); \n",
    "    `min_samples_split` - минимальное число объектов в вершине, при котором происходит её разбиение (по умолчанию - 2); \n",
    "    `criterion` - критерий разбиения (для классификации - 'gini' или 'entropy', для регрессии - 'variance' или 'mad_median'; \n",
    "    по умолчанию - 'gini');\n",
    "    \n",
    "    Функционал, значение которого максимизируется для поиска оптимального разбиения в данной вершине имеет вид\n",
    "    $$Q(X, j, t) = F(X) - \\dfrac{|X_l|}{|X|} F(X_l) - \\dfrac{|X_r|}{|X|} F(X_r),$$\n",
    "    где $X$ - выборка, находящаяся в текущей вершине, $X_l$ и $X_r$ - разбиение выборки $X$ на две части \n",
    "    по предикату $[x_j < t]$, а $F(X)$ -критерий разбиения.\n",
    "    \n",
    "    Для классификации: пусть $p_i$ - доля объектов $i$-го класса в выборке $X$.\n",
    "    \n",
    "    'gini': Неопределенность Джини $F(X) = 1 -\\sum_{i = 1}^K p_i^2$.\n",
    "    \n",
    "    'entropy': Энтропия $F(X) = -\\sum_{i = 1}^K p_i \\log_2(p_i)$.\n",
    "    \n",
    "    Для регрессии: $y_j = y(x_j)$ - ответ на объекте $x_j$, $y = (y_1, \\dots, y_{|X|})$ - вектор ответов.\n",
    "    \n",
    "    'variance': Дисперсия (среднее квадратичное отклонение от среднего) $F(X) = \\dfrac{1}{|X|} \\sum_{x_j \\in X}(y_j - \\dfrac{1}{|X|}\\sum_{x_i \\in X}y_i)^2$\n",
    "    \n",
    "    'mad_median': Среднее отклонение от медианы $F(X) = \\dfrac{1}{|X|} \\sum_{x_j \\in X}|y_j - \\mathrm{med}(y)|$\n",
    "    \n",
    "- класс имеет методы `fit`, `predict` и `predict_proba`;\n",
    "- метод `fit` принимает матрицу объектов `X` и вектор ответов `y` (объекты `numpy.ndarray`) и возвращает экземпляр класса\n",
    "    `DecisionTree`, представляющий собой решающее дерево, обученное по выборке `(X, y)` с учётом заданных в конструкторе параметров; \n",
    "- метод `predict_proba` принимает матрицу объектов `X` и возвращает матрицу `P` размера `X.shape[0] x K`, где `K` - число классов, такую что $p_{ij}$ есть вероятность принадлежности объекта, заданного $i$-ой строкой матрицы X к классу $j \\in \\{1, \\dots, K\\}$.\n",
    "- метод `predict` принимает матрицу объектов и возвращает вектор предсказанных ответов; в случае классификации - это \n",
    "    наиболее многочисленный класс в листе, в который попал объект, а в случае регрессии - среднее значение ответов по \n",
    "    всем объектам этого листа;"
   ]
  },
  {
   "cell_type": "code",
   "execution_count": 2,
   "metadata": {
    "collapsed": true
   },
   "outputs": [],
   "source": [
    "# Определим критерии качества: \n",
    "# энтропийный критерий и критерий Джини - для классификации\n",
    "def entropy(y):    \n",
    "    p = [len(y[y == k]) / len(y) for k in np.unique(y)]\n",
    "    return -np.dot(p, np.log2(p))\n",
    "\n",
    "def gini(y):\n",
    "    p = [len(y[y == k]) / len(y) for k in np.unique(y)]\n",
    "    return 1 - np.dot(p, p)\n",
    "\n",
    "# дисперсионный критерий и медианный критерий - для регрессии\n",
    "def variance(y):\n",
    "    return np.var(y)\n",
    "\n",
    "def mad_median(y):\n",
    "    return np.mean(np.abs(y - np.median(y)))\n",
    "\n",
    "criteria_dict = {'entropy': entropy, 'gini': gini, \n",
    "                 'variance': variance, 'mad_median': mad_median}"
   ]
  },
  {
   "cell_type": "markdown",
   "metadata": {},
   "source": [
    "Класс Node реализует вершину в дереве решений."
   ]
  },
  {
   "cell_type": "code",
   "execution_count": 3,
   "metadata": {
    "collapsed": true
   },
   "outputs": [],
   "source": [
    "class Node():\n",
    "    \n",
    "    def __init__(self, feature_idx=0, threshold=0, labels=None, left=None, right=None):\n",
    "        self.feature_idx = feature_idx\n",
    "        self.threshold = threshold\n",
    "        self.labels = labels\n",
    "        self.left = left\n",
    "        self.right = right"
   ]
  },
  {
   "cell_type": "markdown",
   "metadata": {},
   "source": [
    "Определяем функцию для вычисления ответа в листе. Для регрессии берем среднее по всем объектам в листе, для классификации – наиболее многочисленный класс в листе"
   ]
  },
  {
   "cell_type": "code",
   "execution_count": 4,
   "metadata": {
    "collapsed": true
   },
   "outputs": [],
   "source": [
    "def regression_leaf(y):\n",
    "    return np.mean(y)\n",
    "\n",
    "def classification_leaf(y):\n",
    "    return np.bincount(y).argmax()"
   ]
  },
  {
   "cell_type": "code",
   "execution_count": 5,
   "metadata": {
    "collapsed": true
   },
   "outputs": [],
   "source": [
    "class DecisionTree(BaseEstimator):\n",
    "    \n",
    "    def __init__(self, max_depth=np.inf, min_samples_split=2, \n",
    "                 criterion='gini', debug=False):\n",
    "        # Инициализируем объект с помощью метода set_params\n",
    "        params = {'max_depth': max_depth,\n",
    "                  'min_samples_split': min_samples_split,\n",
    "                  'criterion': criterion,\n",
    "                  'debug': debug}\n",
    "        \n",
    "        self.set_params(**params)\n",
    "        \n",
    "        if self.debug:\n",
    "            print(\"\\nDecisionTree params:\")\n",
    "            print(\"max_depth = {}, min_samples_split = {}, criterion = {}\\n\"\\\n",
    "                  .format(max_depth, min_samples_split, criterion))\n",
    "            \n",
    "    def set_params(self, **params):\n",
    "        super(DecisionTree, self).set_params(**params)\n",
    "        \n",
    "        self._criterion_function = criteria_dict[self.criterion]\n",
    "        \n",
    "        if self.criterion in ['variance', 'mad_median']:\n",
    "            self._leaf_value = regression_leaf\n",
    "        else:\n",
    "            self._leaf_value = classification_leaf\n",
    "        \n",
    "        return self\n",
    "            \n",
    "    \n",
    "    # Функционал, на основе которого осуществляется разбиение выборки на две части\n",
    "    def _functional(self, X, y, feature_idx, threshold):\n",
    "        mask = X[:, feature_idx] > threshold\n",
    "        n_obj = X.shape[0]\n",
    "        n_right = np.sum(mask)\n",
    "        n_left = n_obj - n_right    \n",
    "        if n_left > 0 and n_right > 0:\n",
    "            return self._criterion_function(y) - (n_left / n_obj) * \\\n",
    "                    self._criterion_function(y[~mask]) - (n_right / n_obj) * \\\n",
    "                    self._criterion_function(y[mask])\n",
    "        else:\n",
    "            return 0\n",
    "        \n",
    "    # Рекурсивная процедура построения дерева решений \n",
    "    def _build_tree(self, X, y, depth=0):\n",
    "        max_functional = 0\n",
    "        best_feature_idx = None\n",
    "        best_threshold = None\n",
    "        n_samples, n_features = X.shape     \n",
    "        \n",
    "        \n",
    "        # Если все объекты в текущей вершине имеют одинаковые значения ответов, \n",
    "        # то значение функционала также будет = 0 при всех разбиениях. \n",
    "        # Значит, в этом случае вершина - лист, поэтому чтобы не производить\n",
    "        # лишних вычислений, делаем эту проверку перед основным циклом.\n",
    "        if len(np.unique(y)) == 1:\n",
    "            return Node(labels=y)\n",
    "            \n",
    "        # Если критерий останова не выполнен, то ищем оптимальное разбиение\n",
    "        if depth < self.max_depth and n_samples >= self.min_samples_split:\n",
    "            if self.debug:\n",
    "                print(\"depth = {}, n_samples = {}\".format(depth, n_samples))\n",
    "                \n",
    "            # Перебираем все признаки...\n",
    "            for feature_idx in range(n_features):\n",
    "                # и все пороги для фиксированного признака\n",
    "                threshold_values = np.unique(X[:, feature_idx])    \n",
    "                functional_values = [self._functional(X, y, feature_idx, threshold) \n",
    "                                     for threshold in threshold_values]\n",
    "                \n",
    "                best_threshold_idx = np.nanargmax(functional_values)\n",
    "                    \n",
    "                if functional_values[best_threshold_idx] > max_functional:\n",
    "                    max_functional = functional_values[best_threshold_idx]\n",
    "                    best_threshold = threshold_values[best_threshold_idx]\n",
    "                    best_feature_idx = feature_idx\n",
    "                    best_mask = X[:, feature_idx] > best_threshold\n",
    "    \n",
    "        if best_feature_idx is not None:\n",
    "            if self.debug:\n",
    "                print(\"best feature = {}, best threshold = {}\"\\\n",
    "                      .format(best_feature_idx, best_threshold))\n",
    "            # Если разбиение произошло, идем дальше рекурсивно...\n",
    "            return Node(feature_idx=best_feature_idx, threshold=best_threshold, \n",
    "                        left=self._build_tree(X[~best_mask, :], y[~best_mask], depth + 1),\n",
    "                        right=self._build_tree(X[best_mask, :], y[best_mask], depth + 1))\n",
    "        else:\n",
    "            # иначе, наша вершина - лист, выходим из рекурсии\n",
    "            return Node(labels=y)\n",
    "    \n",
    "    \n",
    "    def fit(self, X, y):\n",
    "        # В случае задачи классификации запоминаем число классов\n",
    "        if self.criterion in ['gini', 'entropy']:\n",
    "            self._n_classes = len(np.unique(y))\n",
    "            \n",
    "        self.root = self._build_tree(X, y)\n",
    "        \n",
    "        return self\n",
    "    \n",
    "    # Предсказание ответа для одного объекта\n",
    "    def _predict_object(self, x, node=None):\n",
    "        \n",
    "        node = self.root\n",
    "        # Идём от корня, пока не придём в лист\n",
    "        while node.labels is None:\n",
    "            if x[node.feature_idx] > node.threshold:\n",
    "                node = node.right\n",
    "            else:\n",
    "                node = node.left\n",
    "        # Вычисляем ответ\n",
    "        return self._leaf_value(node.labels)\n",
    "\n",
    "        \n",
    "    def predict(self, X):\n",
    "        return np.array([self._predict_object(x) for x in X]) \n",
    "    \n",
    "    def _predict_proba_object(self, x, node=None):\n",
    "        \n",
    "        node = self.root\n",
    "        # Идём от корня, пока не придём в лист\n",
    "        while node.labels is None:\n",
    "            if x[node.feature_idx] > node.threshold:\n",
    "                node = node.right\n",
    "            else:\n",
    "                node = node.left\n",
    "        # Вычисляем вероятности принадлежности к классам\n",
    "        return [len(node.labels[node.labels == k]) / \\\n",
    "                len(node.labels) for k in range(self._n_classes)]\n",
    "        \n",
    "        \n",
    "    def predict_proba(self, X):\n",
    "        return np.array([self._predict_proba_object(x) for x in X])"
   ]
  },
  {
   "cell_type": "markdown",
   "metadata": {},
   "source": [
    "## Тестирование реализованного алгоритма"
   ]
  },
  {
   "cell_type": "markdown",
   "metadata": {},
   "source": [
    "### Классификация"
   ]
  },
  {
   "cell_type": "markdown",
   "metadata": {},
   "source": [
    "Протестируем наш класс на искусственной выборке. Убедимся, что `predict_proba` работает правильно. "
   ]
  },
  {
   "cell_type": "code",
   "execution_count": 6,
   "metadata": {},
   "outputs": [
    {
     "name": "stdout",
     "output_type": "stream",
     "text": [
      "Accuracy: 0.866666666667\n",
      "predict_proba works!\n"
     ]
    },
    {
     "data": {
      "image/png": "[encoded data removed]",
      "text/plain": [
       "<matplotlib.figure.Figure at 0x1051881d0>"
      ]
     },
     "metadata": {},
     "output_type": "display_data"
    }
   ],
   "source": [
    "X, y = make_classification(n_features=2, n_redundant=0, n_samples=400,\n",
    "                          random_state=17)\n",
    "\n",
    "X_train, X_test, y_train, y_test = train_test_split(X, y, test_size=0.3)\n",
    "\n",
    "clf = DecisionTree(max_depth=4, criterion='gini')\n",
    "clf.fit(X_train, y_train)\n",
    "\n",
    "y_pred = clf.predict(X_test)\n",
    "prob_pred = clf.predict_proba(X_test)\n",
    "accuracy = accuracy_score(y_test, y_pred)\n",
    "\n",
    "print(\"Accuracy:\", accuracy)\n",
    "\n",
    "if (sum(np.argmax(prob_pred,axis=1) - y_pred) == 0):\n",
    "    print('predict_proba works!')\n",
    "\n",
    "plt.suptitle(\"Accuracy = {0:.2f}\".format(accuracy))\n",
    "plt.subplot(121)\n",
    "plt.scatter(X_test[:, 0], X_test[:, 1], c=y_pred, cmap=plt.cm.coolwarm)\n",
    "plt.title('Predicted class labels')\n",
    "plt.axis('equal')\n",
    "plt.subplot(122)\n",
    "plt.scatter(X_test[:, 0], X_test[:, 1], c=y_test, cmap=plt.cm.coolwarm)\n",
    "plt.title('True class labels')\n",
    "plt.axis('equal');"
   ]
  },
  {
   "cell_type": "markdown",
   "metadata": {},
   "source": [
    "С помощью метода `load_digits` загрузите датасет `digits`. Разделите выборку на обучающую и тестовую с помощью метода `train_test_split`, используйте значения параметров `test_size=0.2`, `random_state=17`. Попробуйте обучить неглубокие решающие деревья и убедитесь, что критерии gini и entropy дают разные результаты."
   ]
  },
  {
   "cell_type": "code",
   "execution_count": 7,
   "metadata": {},
   "outputs": [
    {
     "name": "stdout",
     "output_type": "stream",
     "text": [
      "\n",
      "DecisionTree params:\n",
      "max_depth = 2, min_samples_split = 2, criterion = gini\n",
      "\n",
      "depth = 0, n_samples = 1437\n",
      "best feature = 36, best threshold = 0.0\n",
      "depth = 1, n_samples = 220\n",
      "best feature = 42, best threshold = 4.0\n",
      "depth = 1, n_samples = 1217\n",
      "best feature = 21, best threshold = 0.0\n",
      "0.3\n",
      "\n",
      "DecisionTree params:\n",
      "max_depth = 2, min_samples_split = 2, criterion = entropy\n",
      "\n",
      "depth = 0, n_samples = 1437\n",
      "best feature = 21, best threshold = 1.0\n",
      "depth = 1, n_samples = 431\n",
      "best feature = 42, best threshold = 9.0\n",
      "depth = 1, n_samples = 1006\n",
      "best feature = 36, best threshold = 2.0\n",
      "0.341666666667\n"
     ]
    }
   ],
   "source": [
    "digits = load_digits()\n",
    "\n",
    "X = digits.data\n",
    "y = digits.target\n",
    "\n",
    "X_train, X_test, y_train, y_test = train_test_split(X, y, \n",
    "                            test_size=0.2, random_state=11)\n",
    "\n",
    "clf1 = DecisionTree(max_depth=2, criterion='gini', debug=True)\n",
    "clf1.fit(X_train, y_train)\n",
    "\n",
    "print(accuracy_score(clf1.predict(X_test), y_test))\n",
    "\n",
    "\n",
    "clf2 = DecisionTree(max_depth=2, criterion='entropy', debug=True)\n",
    "clf2.fit(X_train, y_train)\n",
    "\n",
    "print(accuracy_score(clf2.predict(X_test), y_test))"
   ]
  },
  {
   "cell_type": "markdown",
   "metadata": {},
   "source": [
    "С помощью 5-кратной кросс-валидации (`GridSearchCV`) подберите оптимальное значение параметров `max_depth` и `criterion`. Для параметра `max_depth` используйте диапазон значений – `range(3, 11)`, а для criterion - {'gini', 'entropy'}. Критерий качества `scoring`='accuracy'."
   ]
  },
  {
   "cell_type": "code",
   "execution_count": 8,
   "metadata": {},
   "outputs": [
    {
     "data": {
      "text/plain": [
       "GridSearchCV(cv=5, error_score='raise',\n",
       "       estimator=DecisionTree(criterion='gini', debug=False, max_depth=inf,\n",
       "       min_samples_split=2),\n",
       "       fit_params={}, iid=True, n_jobs=1,\n",
       "       param_grid={'max_depth': [3, 4, 5, 6, 7, 8, 9, 10], 'criterion': ['gini', 'entropy']},\n",
       "       pre_dispatch='2*n_jobs', refit=True, return_train_score=True,\n",
       "       scoring='accuracy', verbose=0)"
      ]
     },
     "execution_count": 8,
     "metadata": {},
     "output_type": "execute_result"
    }
   ],
   "source": [
    "tree_params = {'max_depth': list(range(3, 11)), \n",
    "               'criterion': ['gini', 'entropy']}\n",
    "\n",
    "clf = GridSearchCV(DecisionTree(), tree_params, cv=5, scoring='accuracy') \n",
    "\n",
    "clf.fit(X_train, y_train)"
   ]
  },
  {
   "cell_type": "markdown",
   "metadata": {},
   "source": [
    "Постройте графики средних значений критерия качества `accuracy` для критериев `gini` и `entropy` в зависимости от `max_depth`."
   ]
  },
  {
   "cell_type": "code",
   "execution_count": 9,
   "metadata": {},
   "outputs": [
    {
     "data": {
      "image/png": "[encoded data removed]",
      "text/plain": [
       "<matplotlib.figure.Figure at 0x11105b160>"
      ]
     },
     "metadata": {},
     "output_type": "display_data"
    }
   ],
   "source": [
    "scores = np.array(clf.cv_results_['mean_test_score'])\n",
    "scores = scores.reshape(len(tree_params['criterion']), \n",
    "                        len(tree_params['max_depth']))\n",
    "\n",
    "for ind, i in enumerate(tree_params['criterion']):\n",
    "    plt.plot(tree_params['max_depth'], scores[ind], label=str(i))\n",
    "plt.legend(loc='best')\n",
    "plt.xlabel('max_depth')\n",
    "plt.ylabel('Accuracy')\n",
    "plt.show();"
   ]
  },
  {
   "cell_type": "markdown",
   "metadata": {},
   "source": [
    "**Выберите верные утверждения:**\n",
    "1. Оптимальное значение max_depth для каждого критерия достигается внутри отрезка [3, 10] (то есть на отрезке [4, 9]).\n",
    "2. На отрезке [3, 10] построенные графики не пересекаются.\n",
    "3. **<font color='green'>На отрезке [3, 10] построенные графики пересекаются ровно один раз.</font>**\n",
    "4. **<font color='green'>Наилучшее качество при max_depth на интервале [3, 10] достигается на критерии gini.</font>**\n",
    "5. **<font color='green'>Хотя бы для одного из критериев значение accuracy строго возрастает с ростом значения max_depth на интервале [3, 10].</font>**"
   ]
  },
  {
   "cell_type": "markdown",
   "metadata": {},
   "source": [
    "**Чему равны найденные оптимальные значения параметров max_depth и criterion?**\n",
    "1. max_depth = 4, criterion = 'gini';\n",
    "2. max_depth = 7, criterion = 'entropy';\n",
    "3. max_depth = 10, criterion = 'entropy';\n",
    "4. **<font color='green'>max_depth = 10, criterion = 'gini';</font>**\n",
    "5. max_depth = 3, criterion = 'entropy';\n",
    "6. max_depth = 9, criterion = 'gini';"
   ]
  },
  {
   "cell_type": "markdown",
   "metadata": {},
   "source": [
    "Используя найденные оптимальные значения max_depth и criterion, обучите решающее дерево на X_train, y_train и вычислите вероятности принадлежности к классам для X_test."
   ]
  },
  {
   "cell_type": "code",
   "execution_count": 10,
   "metadata": {
    "collapsed": true
   },
   "outputs": [],
   "source": [
    "clf = DecisionTree(max_depth=10, criterion='gini')\n",
    "clf.fit(X_train, y_train)\n",
    "probs = clf.predict_proba(X_test)"
   ]
  },
  {
   "cell_type": "markdown",
   "metadata": {},
   "source": [
    "Для полученной матрицы вычислите усредненные по всем объектам из `X_test` значения вероятностей принадлежности к классам."
   ]
  },
  {
   "cell_type": "code",
   "execution_count": 11,
   "metadata": {},
   "outputs": [
    {
     "name": "stdout",
     "output_type": "stream",
     "text": [
      "[ 0.09444444  0.11218791  0.0875      0.11783761  0.10138889  0.09734848\n",
      "  0.09166667  0.08277778  0.10642376  0.10842446]\n"
     ]
    }
   ],
   "source": [
    "mean_probs = np.mean(probs, axis=0)\n",
    "print(mean_probs)"
   ]
  },
  {
   "cell_type": "markdown",
   "metadata": {},
   "source": [
    "**Вопрос:** Чему равна максимальная вероятность в полученном векторе?\n",
    "1. 0.11218791\n",
    "2. **<font color='green'>0.11783761</font>**\n",
    "3. 1.0\n",
    "4. 0.0875"
   ]
  },
  {
   "cell_type": "markdown",
   "metadata": {},
   "source": [
    "### Регрессия"
   ]
  },
  {
   "cell_type": "markdown",
   "metadata": {},
   "source": [
    "Проделаем то же самое для регрессии."
   ]
  },
  {
   "cell_type": "code",
   "execution_count": 13,
   "metadata": {},
   "outputs": [
    {
     "name": "stdout",
     "output_type": "stream",
     "text": [
      "Mean Squared Error: 51.3868058963\n"
     ]
    },
    {
     "data": {
      "image/png": "[encoded data removed]",
      "text/plain": [
       "<matplotlib.figure.Figure at 0x1112445c0>"
      ]
     },
     "metadata": {},
     "output_type": "display_data"
    }
   ],
   "source": [
    "X, y = make_regression(n_features=1, n_samples=200, bias=0, noise=5,\n",
    "                      random_state=17)\n",
    "\n",
    "X_train, X_test, y_train, y_test = train_test_split(X, y, test_size=0.3)\n",
    "\n",
    "reg = DecisionTree(max_depth=6, criterion='mad_median')\n",
    "reg.fit(X_train, y_train)\n",
    "y_pred = reg.predict(X_test)\n",
    "\n",
    "mse = mean_squared_error(y_test, y_pred)\n",
    "print(\"Mean Squared Error:\", mse)\n",
    "\n",
    "plt.scatter(X_test[:, 0], y_test, color='black')\n",
    "plt.scatter(X_test[:, 0], y_pred, color='green')\n",
    "plt.title(\"MSE = {0:.2f}\".format(mse));"
   ]
  },
  {
   "cell_type": "markdown",
   "metadata": {},
   "source": [
    "С помощью метода `load_boston` загрузите датасет `boston`. Разделите выборку на обучающую и тестовую с помощью метода `train_test_split`, используйте значения параметров `test_size=0.2`, `random_state=17`. Попробуйте обучить неглубокие регрессионные деревья и убедитесь, что критерии `variance` и `mad_median` дают разные результаты."
   ]
  },
  {
   "cell_type": "code",
   "execution_count": 14,
   "metadata": {},
   "outputs": [
    {
     "name": "stdout",
     "output_type": "stream",
     "text": [
      "\n",
      "DecisionTree params:\n",
      "max_depth = 2, min_samples_split = 2, criterion = variance\n",
      "\n",
      "depth = 0, n_samples = 404\n",
      "best feature = 5, best threshold = 6.976\n",
      "depth = 1, n_samples = 350\n",
      "best feature = 12, best threshold = 14.37\n",
      "depth = 1, n_samples = 54\n",
      "best feature = 5, best threshold = 7.42\n",
      "34.913983248\n",
      "\n",
      "DecisionTree params:\n",
      "max_depth = 2, min_samples_split = 2, criterion = mad_median\n",
      "\n",
      "depth = 0, n_samples = 404\n",
      "best feature = 5, best threshold = 6.794\n",
      "depth = 1, n_samples = 332\n",
      "best feature = 12, best threshold = 14.98\n",
      "depth = 1, n_samples = 72\n",
      "best feature = 5, best threshold = 7.42\n",
      "32.3968245462\n"
     ]
    }
   ],
   "source": [
    "boston = load_boston()\n",
    "\n",
    "X = boston.data\n",
    "y = boston.target\n",
    "\n",
    "X_train, X_test, y_train, y_test = train_test_split(X, y, \n",
    "                            test_size=0.2, random_state=11)\n",
    "\n",
    "clf1 = DecisionTree(max_depth=2, criterion='variance', debug=True)\n",
    "clf1.fit(X_train, y_train)\n",
    "\n",
    "print(mean_squared_error(clf1.predict(X_test), y_test))\n",
    "\n",
    "\n",
    "clf2 = DecisionTree(max_depth=2, criterion='mad_median', debug=True)\n",
    "clf2.fit(X_train, y_train)\n",
    "\n",
    "print(mean_squared_error(clf2.predict(X_test), y_test))"
   ]
  },
  {
   "cell_type": "markdown",
   "metadata": {},
   "source": [
    "С помощью 5-кратной кросс-валидации подберите оптимальное значение параметров `max_depth` и `criterion`. Для параметра `max_depth` используйте диапазон значений - `range(2, 9)`, а для `criterion` - {'variance', 'mad_median'}. Критерий качества `scoring`='neg_mean_squared_error'."
   ]
  },
  {
   "cell_type": "code",
   "execution_count": 15,
   "metadata": {},
   "outputs": [
    {
     "name": "stdout",
     "output_type": "stream",
     "text": [
      "CPU times: user 1min 15s, sys: 167 ms, total: 1min 16s\n",
      "Wall time: 1min 16s\n"
     ]
    }
   ],
   "source": [
    "%%time\n",
    "tree_params = {'max_depth': list(range(2, 9)), \n",
    "               'criterion': ['variance', 'mad_median']}\n",
    "\n",
    "reg = GridSearchCV(DecisionTree(), tree_params, \n",
    "                   cv=5, scoring='neg_mean_squared_error')\n",
    "\n",
    "reg.fit(X_train, y_train)"
   ]
  },
  {
   "cell_type": "markdown",
   "metadata": {},
   "source": [
    "Постройте графики средних значений критерия качества `neg_mean_squared_error` для критериев `variance` и `mad_median` в зависимости от `max_depth`."
   ]
  },
  {
   "cell_type": "code",
   "execution_count": 16,
   "metadata": {},
   "outputs": [
    {
     "data": {
      "image/png": "[encoded data removed]",
      "text/plain": [
       "<matplotlib.figure.Figure at 0x11111e160>"
      ]
     },
     "metadata": {},
     "output_type": "display_data"
    }
   ],
   "source": [
    "scores = np.array(reg.cv_results_['mean_test_score'])\n",
    "scores = scores.reshape(len(tree_params['criterion']), len(tree_params['max_depth']))\n",
    "\n",
    "for ind, i in enumerate(tree_params['criterion']):\n",
    "    plt.plot(tree_params['max_depth'], scores[ind], label=str(i))\n",
    "plt.legend()\n",
    "plt.xlabel('max_depth')\n",
    "plt.ylabel('MSE')\n",
    "plt.show();"
   ]
  },
  {
   "cell_type": "markdown",
   "metadata": {},
   "source": [
    "**Выберите верные утверждения:**\n",
    "1. На отрезке [2, 8] построенные графики не пересекаются.\n",
    "2. **<font color='green'>На отрезке [2, 8] построенные графики пересекаются ровно один раз.</font>**\n",
    "3. Оптимальное значение max_depth для каждого из критериев достигается на границе отрезка [2, 8].\n",
    "4. Наилучшее качество при max_depth in range(2, 9) достигается на критерии variance.\n",
    "5. **<font color='green'>График качества ровно для одного из критериев имеет явно выраженный пик.</font>**"
   ]
  },
  {
   "cell_type": "markdown",
   "metadata": {},
   "source": [
    "**Чему равны найденные оптимальные значения параметров `max_depth` и `criterion`?**\n",
    "1. max_depth = 9, criterion = 'variance';\n",
    "2. max_depth = 5, criterion = 'mad_median';\n",
    "3. max_depth = 4, criterion = 'variance';\n",
    "4. max_depth = 2, criterion = 'mad_median';\n",
    "5. **<font color='green'>max_depth = 4, criterion = 'mad_median';</font>**\n",
    "6. max_depth = 8, criterion = 'variance';"
   ]
  },
  {
   "cell_type": "code",
   "execution_count": 17,
   "metadata": {},
   "outputs": [
    {
     "name": "stdout",
     "output_type": "stream",
     "text": [
      "Best params: {'criterion': 'mad_median', 'max_depth': 4}\n",
      "Best cross validaton score -23.2363120951\n"
     ]
    }
   ],
   "source": [
    "print(\"Best params:\", reg.best_params_)\n",
    "print(\"Best cross validaton score\", reg.best_score_)"
   ]
  }
 ],
 "metadata": {
  "kernelspec": {
   "display_name": "Python 3",
   "language": "python",
   "name": "python3"
  },
  "language_info": {
   "codemirror_mode": {
    "name": "ipython",
    "version": 3
   },
   "file_extension": ".py",
   "mimetype": "text/x-python",
   "name": "python",
   "nbconvert_exporter": "python",
   "pygments_lexer": "ipython3",
   "version": "3.6.1"
  },
  "name": "lesson4_part2_Decision_trees.ipynb"
 },
 "nbformat": 4,
 "nbformat_minor": 1
}
