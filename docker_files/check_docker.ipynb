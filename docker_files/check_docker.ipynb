{
 "cells": [
  {
   "cell_type": "code",
   "execution_count": 1,
   "metadata": {
    "collapsed": true
   },
   "outputs": [],
   "source": [
    "import xgboost, lightgbm"
   ]
  },
  {
   "cell_type": "code",
   "execution_count": 2,
   "metadata": {},
   "outputs": [
    {
     "name": "stderr",
     "output_type": "stream",
     "text": [
      "Using TensorFlow backend.\n"
     ]
    }
   ],
   "source": [
    "import keras"
   ]
  },
  {
   "cell_type": "code",
   "execution_count": 3,
   "metadata": {},
   "outputs": [
    {
     "name": "stdout",
     "output_type": "stream",
     "text": [
      "8.3.2\r\n"
     ]
    }
   ],
   "source": [
    "!vw --version"
   ]
  },
  {
   "cell_type": "code",
   "execution_count": 4,
   "metadata": {},
   "outputs": [
    {
     "name": "stdout",
     "output_type": "stream",
     "text": [
      "CPython 3.5.2\n",
      "IPython 6.0.0\n",
      "\n",
      "numpy 1.12.1\n",
      "scipy 0.19.0\n",
      "pandas 0.19.2\n",
      "matplotlib 2.0.0\n",
      "sklearn 0.18.1\n",
      "\n",
      "compiler   : GCC 5.4.0 20160609\n",
      "system     : Linux\n",
      "release    : 3.10.0-327.4.5.el7.x86_64\n",
      "machine    : x86_64\n",
      "processor  : x86_64\n",
      "CPU cores  : 24\n",
      "interpreter: 64bit\n"
     ]
    }
   ],
   "source": [
    "%load_ext watermark\n",
    "%watermark -v -m -p numpy,scipy,pandas,matplotlib,sklearn "
   ]
  },
  {
   "cell_type": "code",
   "execution_count": 5,
   "metadata": {},
   "outputs": [
    {
     "name": "stdout",
     "output_type": "stream",
     "text": [
      "              total        used        free      shared  buff/cache   available\r\n",
      "Mem:         128741       24181         746        2401      103812      101711\r\n",
      "Swap:          4095          64        4031\r\n"
     ]
    }
   ],
   "source": [
    "!free -m"
   ]
  },
  {
   "cell_type": "code",
   "execution_count": 6,
   "metadata": {
    "collapsed": true
   },
   "outputs": [],
   "source": [
    "import warnings\n",
    "warnings.filterwarnings('ignore')\n",
    "%matplotlib inline\n",
    "from matplotlib import pyplot as plt\n",
    "import seaborn as sns\n",
    "import pandas as pd\n",
    "from sklearn import datasets\n",
    "from sklearn.model_selection import train_test_split\n",
    "from sklearn.metrics import roc_curve"
   ]
  },
  {
   "cell_type": "code",
   "execution_count": 7,
   "metadata": {},
   "outputs": [
    {
     "data": {
      "application/vnd.jupyter.widget-view+json": {
       "model_id": "9f74f7a7cff84396ba0b3ecd51e2d67b"
      }
     },
     "metadata": {},
     "output_type": "display_data"
    },
    {
     "name": "stdout",
     "output_type": "stream",
     "text": [
      "\n"
     ]
    }
   ],
   "source": [
    "import time\n",
    "from tqdm import tqdm_notebook\n",
    "for i in tqdm_notebook(range(100)):\n",
    "    time.sleep(0.05)"
   ]
  },
  {
   "cell_type": "code",
   "execution_count": 8,
   "metadata": {},
   "outputs": [
    {
     "data": {
      "text/html": [
       "<div>\n",
       "<table border=\"1\" class=\"dataframe\">\n",
       "  <thead>\n",
       "    <tr style=\"text-align: right;\">\n",
       "      <th></th>\n",
       "      <th>0</th>\n",
       "      <th>1</th>\n",
       "      <th>2</th>\n",
       "      <th>3</th>\n",
       "      <th>4</th>\n",
       "      <th>5</th>\n",
       "      <th>6</th>\n",
       "      <th>7</th>\n",
       "      <th>8</th>\n",
       "      <th>9</th>\n",
       "      <th>...</th>\n",
       "      <th>20</th>\n",
       "      <th>21</th>\n",
       "      <th>22</th>\n",
       "      <th>23</th>\n",
       "      <th>24</th>\n",
       "      <th>25</th>\n",
       "      <th>26</th>\n",
       "      <th>27</th>\n",
       "      <th>28</th>\n",
       "      <th>29</th>\n",
       "    </tr>\n",
       "  </thead>\n",
       "  <tbody>\n",
       "    <tr>\n",
       "      <th>0</th>\n",
       "      <td>0.418125</td>\n",
       "      <td>-1.698026</td>\n",
       "      <td>1.129392</td>\n",
       "      <td>0.797561</td>\n",
       "      <td>-0.405865</td>\n",
       "      <td>1.092686</td>\n",
       "      <td>-2.236497</td>\n",
       "      <td>1.076786</td>\n",
       "      <td>-1.170878</td>\n",
       "      <td>-0.227062</td>\n",
       "      <td>...</td>\n",
       "      <td>1.253539</td>\n",
       "      <td>0.914955</td>\n",
       "      <td>0.423279</td>\n",
       "      <td>-0.828564</td>\n",
       "      <td>1.189334</td>\n",
       "      <td>0.180483</td>\n",
       "      <td>0.193639</td>\n",
       "      <td>-0.202488</td>\n",
       "      <td>0.953106</td>\n",
       "      <td>-2.058048</td>\n",
       "    </tr>\n",
       "    <tr>\n",
       "      <th>1</th>\n",
       "      <td>-0.394011</td>\n",
       "      <td>-1.014804</td>\n",
       "      <td>-2.222188</td>\n",
       "      <td>-0.039969</td>\n",
       "      <td>-1.040244</td>\n",
       "      <td>0.636811</td>\n",
       "      <td>1.549278</td>\n",
       "      <td>-0.639846</td>\n",
       "      <td>1.007302</td>\n",
       "      <td>0.480734</td>\n",
       "      <td>...</td>\n",
       "      <td>-0.969093</td>\n",
       "      <td>-0.095017</td>\n",
       "      <td>1.636345</td>\n",
       "      <td>0.804628</td>\n",
       "      <td>-0.088780</td>\n",
       "      <td>-0.206420</td>\n",
       "      <td>-0.419607</td>\n",
       "      <td>-0.953398</td>\n",
       "      <td>-0.447491</td>\n",
       "      <td>-0.937808</td>\n",
       "    </tr>\n",
       "    <tr>\n",
       "      <th>2</th>\n",
       "      <td>-1.298966</td>\n",
       "      <td>0.637269</td>\n",
       "      <td>-0.358119</td>\n",
       "      <td>-1.186362</td>\n",
       "      <td>1.103225</td>\n",
       "      <td>-1.806578</td>\n",
       "      <td>0.921877</td>\n",
       "      <td>-0.933983</td>\n",
       "      <td>-0.619340</td>\n",
       "      <td>1.233368</td>\n",
       "      <td>...</td>\n",
       "      <td>-0.229788</td>\n",
       "      <td>-2.378064</td>\n",
       "      <td>0.587185</td>\n",
       "      <td>0.343949</td>\n",
       "      <td>0.277027</td>\n",
       "      <td>0.209734</td>\n",
       "      <td>0.259356</td>\n",
       "      <td>-1.532267</td>\n",
       "      <td>-1.969254</td>\n",
       "      <td>-0.016754</td>\n",
       "    </tr>\n",
       "    <tr>\n",
       "      <th>3</th>\n",
       "      <td>-0.578051</td>\n",
       "      <td>2.747498</td>\n",
       "      <td>1.667778</td>\n",
       "      <td>1.004816</td>\n",
       "      <td>1.981826</td>\n",
       "      <td>2.103852</td>\n",
       "      <td>1.670310</td>\n",
       "      <td>1.409258</td>\n",
       "      <td>0.829145</td>\n",
       "      <td>0.795974</td>\n",
       "      <td>...</td>\n",
       "      <td>1.189627</td>\n",
       "      <td>-0.892502</td>\n",
       "      <td>0.839734</td>\n",
       "      <td>0.262609</td>\n",
       "      <td>-0.186121</td>\n",
       "      <td>-0.198786</td>\n",
       "      <td>0.020789</td>\n",
       "      <td>0.568979</td>\n",
       "      <td>-1.533795</td>\n",
       "      <td>-0.000357</td>\n",
       "    </tr>\n",
       "    <tr>\n",
       "      <th>4</th>\n",
       "      <td>0.259248</td>\n",
       "      <td>1.885215</td>\n",
       "      <td>0.164308</td>\n",
       "      <td>0.929614</td>\n",
       "      <td>0.211168</td>\n",
       "      <td>-0.861463</td>\n",
       "      <td>-0.410241</td>\n",
       "      <td>0.089217</td>\n",
       "      <td>0.654653</td>\n",
       "      <td>-0.143662</td>\n",
       "      <td>...</td>\n",
       "      <td>-1.040200</td>\n",
       "      <td>0.066539</td>\n",
       "      <td>-0.366133</td>\n",
       "      <td>-0.870139</td>\n",
       "      <td>-1.172082</td>\n",
       "      <td>0.422687</td>\n",
       "      <td>-0.012620</td>\n",
       "      <td>-0.498328</td>\n",
       "      <td>0.888083</td>\n",
       "      <td>-0.950963</td>\n",
       "    </tr>\n",
       "  </tbody>\n",
       "</table>\n",
       "<p>5 rows × 30 columns</p>\n",
       "</div>"
      ],
      "text/plain": [
       "         0         1         2         3         4         5         6   \\\n",
       "0  0.418125 -1.698026  1.129392  0.797561 -0.405865  1.092686 -2.236497   \n",
       "1 -0.394011 -1.014804 -2.222188 -0.039969 -1.040244  0.636811  1.549278   \n",
       "2 -1.298966  0.637269 -0.358119 -1.186362  1.103225 -1.806578  0.921877   \n",
       "3 -0.578051  2.747498  1.667778  1.004816  1.981826  2.103852  1.670310   \n",
       "4  0.259248  1.885215  0.164308  0.929614  0.211168 -0.861463 -0.410241   \n",
       "\n",
       "         7         8         9     ...           20        21        22  \\\n",
       "0  1.076786 -1.170878 -0.227062    ...     1.253539  0.914955  0.423279   \n",
       "1 -0.639846  1.007302  0.480734    ...    -0.969093 -0.095017  1.636345   \n",
       "2 -0.933983 -0.619340  1.233368    ...    -0.229788 -2.378064  0.587185   \n",
       "3  1.409258  0.829145  0.795974    ...     1.189627 -0.892502  0.839734   \n",
       "4  0.089217  0.654653 -0.143662    ...    -1.040200  0.066539 -0.366133   \n",
       "\n",
       "         23        24        25        26        27        28        29  \n",
       "0 -0.828564  1.189334  0.180483  0.193639 -0.202488  0.953106 -2.058048  \n",
       "1  0.804628 -0.088780 -0.206420 -0.419607 -0.953398 -0.447491 -0.937808  \n",
       "2  0.343949  0.277027  0.209734  0.259356 -1.532267 -1.969254 -0.016754  \n",
       "3  0.262609 -0.186121 -0.198786  0.020789  0.568979 -1.533795 -0.000357  \n",
       "4 -0.870139 -1.172082  0.422687 -0.012620 -0.498328  0.888083 -0.950963  \n",
       "\n",
       "[5 rows x 30 columns]"
      ]
     },
     "execution_count": 8,
     "metadata": {},
     "output_type": "execute_result"
    }
   ],
   "source": [
    "X, Y = datasets.make_classification(10000, 30)\n",
    "pd.DataFrame(X).head(5)"
   ]
  },
  {
   "cell_type": "code",
   "execution_count": 9,
   "metadata": {
    "collapsed": true
   },
   "outputs": [],
   "source": [
    "X_train, X_test, y_train, y_test = train_test_split(X, Y)\n",
    "clsf = xgboost.XGBClassifier(n_estimators=200)\n",
    "clsf.fit(X_train, y_train)\n",
    "prediction = clsf.predict_proba(X_test)"
   ]
  },
  {
   "cell_type": "code",
   "execution_count": 10,
   "metadata": {},
   "outputs": [
    {
     "data": {
      "image/png": "[encoded data removed]",
      "text/plain": [
       "<matplotlib.figure.Figure at 0x7fb25333d828>"
      ]
     },
     "metadata": {},
     "output_type": "display_data"
    }
   ],
   "source": [
    "fpr, tpr, _ = roc_curve(y_test, prediction[:,1])\n",
    "plt.plot(fpr, tpr);"
   ]
  }
 ],
 "metadata": {
  "kernelspec": {
   "display_name": "Python 3",
   "language": "python",
   "name": "python3"
  },
  "language_info": {
   "codemirror_mode": {
    "name": "ipython",
    "version": 3
   },
   "file_extension": ".py",
   "mimetype": "text/x-python",
   "name": "python",
   "nbconvert_exporter": "python",
   "pygments_lexer": "ipython3",
   "version": "3.5.2"
  }
 },
 "nbformat": 4,
 "nbformat_minor": 1
}
