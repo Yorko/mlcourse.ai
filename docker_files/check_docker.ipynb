{
 "cells": [
  {
   "cell_type": "code",
   "execution_count": 1,
   "metadata": {},
   "outputs": [
    {
     "name": "stderr",
     "output_type": "stream",
     "text": [
      "Using TensorFlow backend.\n"
     ]
    },
    {
     "name": "stdout",
     "output_type": "stream",
     "text": [
      "CPython 3.5.2\n",
<<<<<<< HEAD
<<<<<<< HEAD
      "IPython 6.1.0\n",
      "\n",
      "numpy 1.13.0\n",
      "scipy 0.19.0\n",
      "pandas 0.20.2\n",
      "matplotlib 2.0.2\n",
      "sklearn 0.18.2\n",
      "keras 2.0.5\n",
=======
      "IPython 6.2.0\n",
      "\n",
=======
      "IPython 6.2.0\n",
      "\n",
>>>>>>> a473c4a5baaf435ea95a722014e85da3820ccbca
      "numpy 1.13.1\n",
      "scipy 0.19.1\n",
      "pandas 0.20.3\n",
      "matplotlib 2.0.2\n",
      "sklearn 0.19.0\n",
      "keras 2.0.8\n",
<<<<<<< HEAD
>>>>>>> fdd5027b1fe17481ff98830ad9e41bd4a7684cfb
=======
>>>>>>> a473c4a5baaf435ea95a722014e85da3820ccbca
      "\n",
      "compiler   : GCC 5.4.0 20160609\n",
      "system     : Linux\n",
      "release    : 4.9.41-moby\n",
      "machine    : x86_64\n",
      "processor  : x86_64\n",
      "CPU cores  : 2\n",
      "interpreter: 64bit\n"
     ]
    }
   ],
   "source": [
    "%load_ext watermark\n",
    "%watermark -v -m -p numpy,scipy,pandas,matplotlib,sklearn,keras"
   ]
  },
  {
   "cell_type": "code",
   "execution_count": 2,
   "metadata": {},
   "outputs": [
    {
     "name": "stdout",
     "output_type": "stream",
     "text": [
      "              total        used        free      shared  buff/cache   available\r\n",
<<<<<<< HEAD
<<<<<<< HEAD
      "Mem:           1980         304          79         161        1595        1304\r\n",
      "Swap:          1023           0        1023\r\n"
=======
=======
>>>>>>> a473c4a5baaf435ea95a722014e85da3820ccbca
      "Mem:           7973         285        4110         162        3578        7192\r\n",
      "Swap:          3994           0        3994\r\n"
>>>>>>> fdd5027b1fe17481ff98830ad9e41bd4a7684cfb
     ]
    }
   ],
   "source": [
    "!free -m"
   ]
  },
  {
   "cell_type": "code",
   "execution_count": 3,
   "metadata": {},
   "outputs": [],
   "source": [
    "import warnings\n",
    "warnings.filterwarnings('ignore')\n",
    "%matplotlib inline\n",
    "from matplotlib import pyplot as plt\n",
    "import seaborn as sns\n",
    "import pandas as pd\n",
    "from sklearn.datasets import load_breast_cancer\n",
    "from sklearn.model_selection import train_test_split\n",
    "from sklearn.metrics import roc_curve"
   ]
  },
  {
   "cell_type": "code",
   "execution_count": 4,
   "metadata": {},
   "outputs": [
    {
     "data": {
      "application/vnd.jupyter.widget-view+json": {
<<<<<<< HEAD
<<<<<<< HEAD
       "model_id": "ac89bb422380469493b987bd4f31d0d3"
      }
=======
=======
>>>>>>> a473c4a5baaf435ea95a722014e85da3820ccbca
       "model_id": "b004f3f94a0e42c89c55471a35b97371",
       "version_major": 2,
       "version_minor": 0
      },
      "text/html": [
       "<p>Failed to display Jupyter Widget of type <code>HBox</code>.</p>\n",
       "<p>\n",
       "  If you're reading this message in Jupyter Notebook or JupyterLab, it may mean\n",
       "  that the widgets JavaScript is still loading. If this message persists, it\n",
       "  likely means that the widgets JavaScript library is either not installed or\n",
       "  not enabled. See the <a href=\"https://ipywidgets.readthedocs.io/en/stable/user_install.html\">Jupyter\n",
       "  Widgets Documentation</a> for setup instructions.\n",
       "</p>\n",
       "<p>\n",
       "  If you're reading this message in another notebook frontend (for example, a static\n",
       "  rendering on GitHub or <a href=\"https://nbviewer.jupyter.org/\">NBViewer</a>),\n",
       "  it may mean that your frontend doesn't currently support widgets.\n",
       "</p>\n"
      ],
      "text/plain": [
       "HBox(children=(IntProgress(value=0), HTML(value='')))"
      ]
<<<<<<< HEAD
>>>>>>> fdd5027b1fe17481ff98830ad9e41bd4a7684cfb
=======
>>>>>>> a473c4a5baaf435ea95a722014e85da3820ccbca
     },
     "metadata": {},
     "output_type": "display_data"
    },
    {
     "name": "stdout",
     "output_type": "stream",
     "text": [
      "\n"
     ]
    }
   ],
   "source": [
    "import time\n",
    "from tqdm import tqdm_notebook\n",
    "for i in tqdm_notebook(range(100)):\n",
    "    time.sleep(0.05)"
   ]
  },
  {
   "cell_type": "code",
   "execution_count": 5,
   "metadata": {},
   "outputs": [
    {
     "data": {
      "text/html": [
       "<div>\n",
       "<style>\n",
       "    .dataframe thead tr:only-child th {\n",
       "        text-align: right;\n",
       "    }\n",
       "\n",
       "    .dataframe thead th {\n",
       "        text-align: left;\n",
       "    }\n",
       "\n",
       "    .dataframe tbody tr th {\n",
       "        vertical-align: top;\n",
       "    }\n",
       "</style>\n",
       "<table border=\"1\" class=\"dataframe\">\n",
       "  <thead>\n",
       "    <tr style=\"text-align: right;\">\n",
       "      <th></th>\n",
       "      <th>mean radius</th>\n",
       "      <th>mean texture</th>\n",
       "      <th>mean perimeter</th>\n",
       "      <th>mean area</th>\n",
       "      <th>mean smoothness</th>\n",
       "      <th>mean compactness</th>\n",
       "      <th>mean concavity</th>\n",
       "      <th>mean concave points</th>\n",
       "      <th>mean symmetry</th>\n",
       "      <th>mean fractal dimension</th>\n",
       "      <th>...</th>\n",
       "      <th>worst radius</th>\n",
       "      <th>worst texture</th>\n",
       "      <th>worst perimeter</th>\n",
       "      <th>worst area</th>\n",
       "      <th>worst smoothness</th>\n",
       "      <th>worst compactness</th>\n",
       "      <th>worst concavity</th>\n",
       "      <th>worst concave points</th>\n",
       "      <th>worst symmetry</th>\n",
       "      <th>worst fractal dimension</th>\n",
       "    </tr>\n",
       "  </thead>\n",
       "  <tbody>\n",
       "    <tr>\n",
       "      <th>0</th>\n",
       "      <td>17.99</td>\n",
       "      <td>10.38</td>\n",
       "      <td>122.80</td>\n",
       "      <td>1001.0</td>\n",
       "      <td>0.11840</td>\n",
       "      <td>0.27760</td>\n",
       "      <td>0.3001</td>\n",
       "      <td>0.14710</td>\n",
       "      <td>0.2419</td>\n",
       "      <td>0.07871</td>\n",
       "      <td>...</td>\n",
       "      <td>25.38</td>\n",
       "      <td>17.33</td>\n",
       "      <td>184.60</td>\n",
       "      <td>2019.0</td>\n",
       "      <td>0.1622</td>\n",
       "      <td>0.6656</td>\n",
       "      <td>0.7119</td>\n",
       "      <td>0.2654</td>\n",
       "      <td>0.4601</td>\n",
       "      <td>0.11890</td>\n",
       "    </tr>\n",
       "    <tr>\n",
       "      <th>1</th>\n",
       "      <td>20.57</td>\n",
       "      <td>17.77</td>\n",
       "      <td>132.90</td>\n",
       "      <td>1326.0</td>\n",
       "      <td>0.08474</td>\n",
       "      <td>0.07864</td>\n",
       "      <td>0.0869</td>\n",
       "      <td>0.07017</td>\n",
       "      <td>0.1812</td>\n",
       "      <td>0.05667</td>\n",
       "      <td>...</td>\n",
       "      <td>24.99</td>\n",
       "      <td>23.41</td>\n",
       "      <td>158.80</td>\n",
       "      <td>1956.0</td>\n",
       "      <td>0.1238</td>\n",
       "      <td>0.1866</td>\n",
       "      <td>0.2416</td>\n",
       "      <td>0.1860</td>\n",
       "      <td>0.2750</td>\n",
       "      <td>0.08902</td>\n",
       "    </tr>\n",
       "    <tr>\n",
       "      <th>2</th>\n",
       "      <td>19.69</td>\n",
       "      <td>21.25</td>\n",
       "      <td>130.00</td>\n",
       "      <td>1203.0</td>\n",
       "      <td>0.10960</td>\n",
       "      <td>0.15990</td>\n",
       "      <td>0.1974</td>\n",
       "      <td>0.12790</td>\n",
       "      <td>0.2069</td>\n",
       "      <td>0.05999</td>\n",
       "      <td>...</td>\n",
       "      <td>23.57</td>\n",
       "      <td>25.53</td>\n",
       "      <td>152.50</td>\n",
       "      <td>1709.0</td>\n",
       "      <td>0.1444</td>\n",
       "      <td>0.4245</td>\n",
       "      <td>0.4504</td>\n",
       "      <td>0.2430</td>\n",
       "      <td>0.3613</td>\n",
       "      <td>0.08758</td>\n",
       "    </tr>\n",
       "    <tr>\n",
       "      <th>3</th>\n",
       "      <td>11.42</td>\n",
       "      <td>20.38</td>\n",
       "      <td>77.58</td>\n",
       "      <td>386.1</td>\n",
       "      <td>0.14250</td>\n",
       "      <td>0.28390</td>\n",
       "      <td>0.2414</td>\n",
       "      <td>0.10520</td>\n",
       "      <td>0.2597</td>\n",
       "      <td>0.09744</td>\n",
       "      <td>...</td>\n",
       "      <td>14.91</td>\n",
       "      <td>26.50</td>\n",
       "      <td>98.87</td>\n",
       "      <td>567.7</td>\n",
       "      <td>0.2098</td>\n",
       "      <td>0.8663</td>\n",
       "      <td>0.6869</td>\n",
       "      <td>0.2575</td>\n",
       "      <td>0.6638</td>\n",
       "      <td>0.17300</td>\n",
       "    </tr>\n",
       "    <tr>\n",
       "      <th>4</th>\n",
       "      <td>20.29</td>\n",
       "      <td>14.34</td>\n",
       "      <td>135.10</td>\n",
       "      <td>1297.0</td>\n",
       "      <td>0.10030</td>\n",
       "      <td>0.13280</td>\n",
       "      <td>0.1980</td>\n",
       "      <td>0.10430</td>\n",
       "      <td>0.1809</td>\n",
       "      <td>0.05883</td>\n",
       "      <td>...</td>\n",
       "      <td>22.54</td>\n",
       "      <td>16.67</td>\n",
       "      <td>152.20</td>\n",
       "      <td>1575.0</td>\n",
       "      <td>0.1374</td>\n",
       "      <td>0.2050</td>\n",
       "      <td>0.4000</td>\n",
       "      <td>0.1625</td>\n",
       "      <td>0.2364</td>\n",
       "      <td>0.07678</td>\n",
       "    </tr>\n",
       "  </tbody>\n",
       "</table>\n",
       "<p>5 rows × 30 columns</p>\n",
       "</div>"
      ],
      "text/plain": [
       "   mean radius  mean texture  mean perimeter  mean area  mean smoothness  \\\n",
       "0        17.99         10.38          122.80     1001.0          0.11840   \n",
       "1        20.57         17.77          132.90     1326.0          0.08474   \n",
       "2        19.69         21.25          130.00     1203.0          0.10960   \n",
       "3        11.42         20.38           77.58      386.1          0.14250   \n",
       "4        20.29         14.34          135.10     1297.0          0.10030   \n",
       "\n",
       "   mean compactness  mean concavity  mean concave points  mean symmetry  \\\n",
       "0           0.27760          0.3001              0.14710         0.2419   \n",
       "1           0.07864          0.0869              0.07017         0.1812   \n",
       "2           0.15990          0.1974              0.12790         0.2069   \n",
       "3           0.28390          0.2414              0.10520         0.2597   \n",
       "4           0.13280          0.1980              0.10430         0.1809   \n",
       "\n",
       "   mean fractal dimension           ...             worst radius  \\\n",
       "0                 0.07871           ...                    25.38   \n",
       "1                 0.05667           ...                    24.99   \n",
       "2                 0.05999           ...                    23.57   \n",
       "3                 0.09744           ...                    14.91   \n",
       "4                 0.05883           ...                    22.54   \n",
       "\n",
       "   worst texture  worst perimeter  worst area  worst smoothness  \\\n",
       "0          17.33           184.60      2019.0            0.1622   \n",
       "1          23.41           158.80      1956.0            0.1238   \n",
       "2          25.53           152.50      1709.0            0.1444   \n",
       "3          26.50            98.87       567.7            0.2098   \n",
       "4          16.67           152.20      1575.0            0.1374   \n",
       "\n",
       "   worst compactness  worst concavity  worst concave points  worst symmetry  \\\n",
       "0             0.6656           0.7119                0.2654          0.4601   \n",
       "1             0.1866           0.2416                0.1860          0.2750   \n",
       "2             0.4245           0.4504                0.2430          0.3613   \n",
       "3             0.8663           0.6869                0.2575          0.6638   \n",
       "4             0.2050           0.4000                0.1625          0.2364   \n",
       "\n",
       "   worst fractal dimension  \n",
       "0                  0.11890  \n",
       "1                  0.08902  \n",
       "2                  0.08758  \n",
       "3                  0.17300  \n",
       "4                  0.07678  \n",
       "\n",
       "[5 rows x 30 columns]"
      ]
     },
     "execution_count": 5,
     "metadata": {},
     "output_type": "execute_result"
    }
   ],
   "source": [
    "cancer = load_breast_cancer()\n",
    "X, y = cancer.data, cancer.target\n",
    "pd.DataFrame(X, columns=cancer.feature_names).head()"
   ]
  },
  {
   "cell_type": "code",
   "execution_count": 6,
   "metadata": {},
   "outputs": [],
   "source": [
    "import xgboost, lightgbm"
   ]
  },
  {
   "cell_type": "code",
   "execution_count": 7,
<<<<<<< HEAD
<<<<<<< HEAD
   "metadata": {
    "collapsed": true
   },
=======
   "metadata": {},
>>>>>>> fdd5027b1fe17481ff98830ad9e41bd4a7684cfb
=======
   "metadata": {},
>>>>>>> a473c4a5baaf435ea95a722014e85da3820ccbca
   "outputs": [],
   "source": [
    "X_train, X_test, y_train, y_test = train_test_split(X, y)\n",
    "xgb = xgboost.XGBClassifier(n_estimators=200)\n",
    "xgb.fit(X_train, y_train)\n",
    "prediction = xgb.predict_proba(X_test)"
   ]
  },
  {
   "cell_type": "code",
   "execution_count": 8,
   "metadata": {},
   "outputs": [
    {
     "data": {
<<<<<<< HEAD
<<<<<<< HEAD
      "image/png": "iVBORw0KGgoAAAANSUhEUgAAAeMAAAFKCAYAAAAuZDceAAAABHNCSVQICAgIfAhkiAAAAAlwSFlz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\nI8YAABgjxgAAGPs/EOj36oDrtl0AAAAASUVORK5CYII=\n",
      "text/plain": [
       "<matplotlib.figure.Figure at 0x7fa8c083a630>"
=======
      "image/png": "iVBORw0KGgoAAAANSUhEUgAAAXcAAAD8CAYAAACMwORRAAAABHNCSVQICAgIfAhkiAAAAAlwSFlz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\n",
      "text/plain": [
       "<matplotlib.figure.Figure at 0x7f64f21abda0>"
>>>>>>> fdd5027b1fe17481ff98830ad9e41bd4a7684cfb
=======
      "image/png": "iVBORw0KGgoAAAANSUhEUgAAAXcAAAD8CAYAAACMwORRAAAABHNCSVQICAgIfAhkiAAAAAlwSFlz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\n",
      "text/plain": [
       "<matplotlib.figure.Figure at 0x7f64f21abda0>"
>>>>>>> a473c4a5baaf435ea95a722014e85da3820ccbca
      ]
     },
     "metadata": {},
     "output_type": "display_data"
    }
   ],
   "source": [
    "fpr, tpr, _ = roc_curve(y_test, prediction[:,1])\n",
    "plt.plot(fpr, tpr);"
   ]
  },
  {
   "cell_type": "code",
   "execution_count": 9,
<<<<<<< HEAD
<<<<<<< HEAD
   "metadata": {
    "collapsed": true
   },
=======
   "metadata": {},
>>>>>>> fdd5027b1fe17481ff98830ad9e41bd4a7684cfb
=======
   "metadata": {},
>>>>>>> a473c4a5baaf435ea95a722014e85da3820ccbca
   "outputs": [],
   "source": [
    "import fbprophet"
   ]
  },
  {
   "cell_type": "code",
   "execution_count": 10,
   "metadata": {},
   "outputs": [
    {
     "name": "stdout",
     "output_type": "stream",
     "text": [
<<<<<<< HEAD
<<<<<<< HEAD
      "8.3.3\r\n"
=======
      "8.4.0\r\n"
>>>>>>> fdd5027b1fe17481ff98830ad9e41bd4a7684cfb
=======
      "8.4.0\r\n"
>>>>>>> a473c4a5baaf435ea95a722014e85da3820ccbca
     ]
    }
   ],
   "source": [
    "!vw --version"
   ]
  },
  {
   "cell_type": "code",
   "execution_count": 11,
   "metadata": {},
   "outputs": [],
   "source": [
    "import keras"
   ]
  },
  {
   "cell_type": "code",
   "execution_count": 12,
   "metadata": {},
   "outputs": [],
   "source": [
    "from sklearn.tree import DecisionTreeClassifier, export_graphviz"
   ]
  },
  {
   "cell_type": "code",
   "execution_count": 13,
   "metadata": {},
   "outputs": [],
   "source": [
    "tree = DecisionTreeClassifier(max_depth=3, random_state=17).fit(X_train, y_train)"
   ]
  },
  {
   "cell_type": "code",
   "execution_count": 14,
   "metadata": {},
   "outputs": [],
   "source": [
    "export_graphviz(tree, 'tree.dot', feature_names=cancer.feature_names, filled=True)"
   ]
  },
  {
   "cell_type": "code",
   "execution_count": 15,
   "metadata": {},
   "outputs": [],
   "source": [
    "!dot -Tpng tree.dot -o tree.png\n",
    "!rm tree.dot"
   ]
  },
  {
   "cell_type": "markdown",
   "metadata": {},
   "source": [
    "<img src='tree.png'>"
   ]
  },
  {
   "cell_type": "code",
   "execution_count": null,
   "metadata": {},
   "outputs": [],
   "source": []
  }
 ],
 "metadata": {
  "kernelspec": {
   "display_name": "Python 3",
   "language": "python",
   "name": "python3"
  },
  "language_info": {
   "codemirror_mode": {
    "name": "ipython",
    "version": 3
   },
   "file_extension": ".py",
   "mimetype": "text/x-python",
   "name": "python",
   "nbconvert_exporter": "python",
   "pygments_lexer": "ipython3",
   "version": "3.5.2"
  }
 },
 "nbformat": 4,
 "nbformat_minor": 1
}
